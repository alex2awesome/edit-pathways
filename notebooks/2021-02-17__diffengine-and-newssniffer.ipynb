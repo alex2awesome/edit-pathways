{
 "cells": [
  {
   "cell_type": "code",
   "execution_count": 18,
   "metadata": {},
   "outputs": [],
   "source": [
    "import os\n",
    "from tqdm.auto import tqdm\n",
    "import sys\n",
    "sys.path.insert(0, '../')\n",
    "import util.util_diffengine_parsing as udp\n",
    "import util.util_newssniffer_parsing as unp\n",
    "import sqlite3\n",
    "import pandas as pd \n",
    "import difflib\n",
    "from IPython.core.display import display, HTML\n",
    "import pickle\n",
    "import matplotlib.pyplot as plt\n",
    "plt.rc('font', size=14)\n",
    "import numpy as np\n",
    "from importlib import reload\n",
    "from matplotlib.ticker import FuncFormatter\n",
    "from matplotlib.ticker import MultipleLocator\n",
    "import seaborn as sns\n",
    "import pycountry"
   ]
  },
  {
   "cell_type": "code",
   "execution_count": 19,
   "metadata": {},
   "outputs": [],
   "source": [
    "if False:\n",
    "    pd.read_sql(\"\"\"\n",
    "        SELECT \n",
    "            name\n",
    "        FROM \n",
    "            sqlite_master \n",
    "        WHERE \n",
    "            type ='table' AND \n",
    "            name NOT LIKE 'sqlite_%';\n",
    "    \"\"\", con=conn_dict[name])\n",
    "\n",
    "to_examine = [\n",
    "    ## diffengine\n",
    "    'dailymail.db',\n",
    "    'ap.db',\n",
    "#     'bbc.db',\n",
    "    'cbc.db',\n",
    "    'fox.db',\n",
    "    'reuters.db',\n",
    "    'cnn.db',\n",
    "    'torontosun.db',\n",
    "#     ## newssniffer\n",
    "    'newssniffer-bbc.db',\n",
    "    'newssniffer-guardian.db',\n",
    "    'newssniffer-independent.db',\n",
    "    'newssniffer-nytimes.db',\n",
    "    'newssniffer-washpo.db',\n",
    "]"
   ]
  },
  {
   "cell_type": "code",
   "execution_count": null,
   "metadata": {},
   "outputs": [],
   "source": []
  },
  {
   "cell_type": "code",
   "execution_count": 20,
   "metadata": {},
   "outputs": [],
   "source": [
    "to_examine = ['ap.db',\n",
    "'bbc.db',\n",
    "'calgaryherald.db',\n",
    "'canadaland.db',\n",
    "'cbc.db',\n",
    "'cnn.db',\n",
    "'dailymail.db',\n",
    "'fox.db',\n",
    "'globemail.db',\n",
    "'lapresse.db',\n",
    "'nationalpost.db',\n",
    "'reuters.db',\n",
    "'telegraph.db',\n",
    "'therebel.db',\n",
    "'torontostar.db',\n",
    "'torontosun.db',\n",
    "'whitehouse.db',\n",
    "'newssniffer-bbc.db',\n",
    "'newssniffer-guardian.db',\n",
    "'newssniffer-independent.db',\n",
    "'newssniffer-nytimes.db',\n",
    "'newssniffer-washpo.db',]"
   ]
  },
  {
   "cell_type": "code",
   "execution_count": 21,
   "metadata": {
    "scrolled": true
   },
   "outputs": [
    {
     "data": {
      "application/vnd.jupyter.widget-view+json": {
       "model_id": "d3cafda7424d45c5ac7e67e430fe7390",
       "version_major": 2,
       "version_minor": 0
      },
      "text/plain": [
       "  0%|          | 0/22 [00:00<?, ?it/s]"
      ]
     },
     "metadata": {},
     "output_type": "display_data"
    },
    {
     "name": "stdout",
     "output_type": "stream",
     "text": [
      "ap.db\n",
      "bbc.db\n",
      "calgaryherald.db\n",
      "canadaland.db\n",
      "cbc.db\n",
      "cnn.db\n",
      "dailymail.db\n",
      "fox.db\n",
      "globemail.db\n",
      "lapresse.db\n",
      "nationalpost.db\n",
      "reuters.db\n",
      "telegraph.db\n",
      "therebel.db\n",
      "torontostar.db\n",
      "torontosun.db\n",
      "whitehouse.db\n",
      "newssniffer-bbc.db\n",
      "newssniffer-guardian.db\n",
      "newssniffer-independent.db\n",
      "newssniffer-nytimes.db\n",
      "newssniffer-washpo.db\n"
     ]
    }
   ],
   "source": [
    "db_path = '../data/diffengine-diffs/db/'\n",
    "conn_dict = {}\n",
    "diffs_dict = {}\n",
    "entry_vers_dict = {}\n",
    "for db in tqdm(to_examine):\n",
    "    print(db)\n",
    "    name = db.replace('.db', '')\n",
    "    conn_dict[name] = sqlite3.connect(os.path.join(db_path, db))\n",
    "#     diffs_dict[name] = pd.read_sql('select * from diff', con=conn_dict[name])\n",
    "    if False:\n",
    "        entry_vers_dict[name] = pd.read_sql(\"\"\"\n",
    "            SELECT id, title, summary, created, url, entry_id, archive_url, num_versions from entryversion\n",
    "            where num_versions < 30\n",
    "            limit 1000\n",
    "        \"\"\", con=conn_dict[name])"
   ]
  },
  {
   "cell_type": "markdown",
   "metadata": {},
   "source": [
    "# Get Summary Statistics"
   ]
  },
  {
   "cell_type": "markdown",
   "metadata": {},
   "source": [
    "## Number articles/versions per source"
   ]
  },
  {
   "cell_type": "code",
   "execution_count": 22,
   "metadata": {
    "scrolled": true
   },
   "outputs": [
    {
     "data": {
      "application/vnd.jupyter.widget-view+json": {
       "model_id": "a664147cf8e242d59ce48723a381ae68",
       "version_major": 2,
       "version_minor": 0
      },
      "text/plain": [
       "  0%|          | 0/22 [00:00<?, ?it/s]"
      ]
     },
     "metadata": {},
     "output_type": "display_data"
    }
   ],
   "source": [
    "article_counts = {}\n",
    "for n, conn in tqdm(conn_dict.items()):\n",
    "    try:\n",
    "        c = pd.read_sql('select Count(1) from entry', con=conn).iloc[0][0]\n",
    "        article_counts[n] = c\n",
    "    except:\n",
    "        c = pd.read_sql('select Count(distinct entry_id) from entryversion', con=conn).iloc[0][0]\n",
    "        article_counts[n] = c"
   ]
  },
  {
   "cell_type": "code",
   "execution_count": 23,
   "metadata": {},
   "outputs": [
    {
     "data": {
      "application/vnd.jupyter.widget-view+json": {
       "model_id": "627bca27c03846ed914b9f156fe777fe",
       "version_major": 2,
       "version_minor": 0
      },
      "text/plain": [
       "  0%|          | 0/22 [00:00<?, ?it/s]"
      ]
     },
     "metadata": {},
     "output_type": "display_data"
    }
   ],
   "source": [
    "version_counts = {}\n",
    "for n, conn in tqdm(conn_dict.items()):\n",
    "    try:\n",
    "        c = pd.read_sql('select Count(1) from entryversion', con=conn).iloc[0][0]\n",
    "        version_counts[n] = c\n",
    "    except:\n",
    "        continue\n",
    "\n",
    "article_counts = pd.Series(article_counts)\n",
    "version_counts = pd.Series(version_counts)"
   ]
  },
  {
   "cell_type": "code",
   "execution_count": 24,
   "metadata": {},
   "outputs": [
    {
     "data": {
      "application/vnd.jupyter.widget-view+json": {
       "model_id": "83cfe34a7e514aa98e982677697c3f8c",
       "version_major": 2,
       "version_minor": 0
      },
      "text/plain": [
       "  0%|          | 0/22 [00:00<?, ?it/s]"
      ]
     },
     "metadata": {},
     "output_type": "display_data"
    }
   ],
   "source": [
    "article_thresh_counts = {}\n",
    "for n, conn in tqdm(conn_dict.items()):\n",
    "    if n != 'whitehouse':\n",
    "        c = pd.read_sql('''\n",
    "            SELECT Count(distinct entry_id) \n",
    "            FROM entryversion \n",
    "            WHERE num_versions > 1 AND num_versions < 40\n",
    "        ''', con=conn).iloc[0][0]\n",
    "        article_thresh_counts[n] = c"
   ]
  },
  {
   "cell_type": "code",
   "execution_count": 25,
   "metadata": {},
   "outputs": [
    {
     "data": {
      "application/vnd.jupyter.widget-view+json": {
       "model_id": "60ad549f6cd243519c7cf811f5362caf",
       "version_major": 2,
       "version_minor": 0
      },
      "text/plain": [
       "  0%|          | 0/22 [00:00<?, ?it/s]"
      ]
     },
     "metadata": {},
     "output_type": "display_data"
    }
   ],
   "source": [
    "version_thresh_counts = {}\n",
    "for n, conn in tqdm(conn_dict.items()):\n",
    "    try:\n",
    "        c = pd.read_sql('''\n",
    "            Select Count(1) from entryversion \n",
    "            WHERE num_versions > 1\n",
    "            AND num_versions < 40\n",
    "            AND summary != ''\n",
    "            ''', con=conn).iloc[0][0]\n",
    "        version_thresh_counts[n] = c\n",
    "    except:\n",
    "        continue"
   ]
  },
  {
   "cell_type": "code",
   "execution_count": 26,
   "metadata": {},
   "outputs": [],
   "source": [
    "article_thresh_counts = pd.Series(article_thresh_counts)\n",
    "version_thresh_counts = pd.Series(version_thresh_counts)"
   ]
  },
  {
   "cell_type": "code",
   "execution_count": 72,
   "metadata": {},
   "outputs": [],
   "source": [
    "articles_and_versions = (pd.concat([\n",
    "    article_counts.to_frame('articles'),\n",
    "    version_counts.to_frame('versions'),\n",
    "    article_thresh_counts.to_frame('article_thresh_counts'),\n",
    "    version_thresh_counts.to_frame('version_thresh_counts'),\n",
    "], axis=1).fillna(0).apply(lambda s: s.astype(int)))"
   ]
  },
  {
   "cell_type": "code",
   "execution_count": 49,
   "metadata": {},
   "outputs": [
    {
     "data": {
      "text/plain": [
       "articles     700617\n",
       "versions    2719950\n",
       "dtype: int64"
      ]
     },
     "execution_count": 49,
     "metadata": {},
     "output_type": "execute_result"
    }
   ],
   "source": [
    "(articles_and_versions\n",
    " .reset_index()\n",
    " .loc[lambda df: df['index'].str.contains('newssniff')]\n",
    " .set_index('index')\n",
    " .apply(lambda s: s.astype(int))\n",
    " .sum()\n",
    ")"
   ]
  },
  {
   "cell_type": "code",
   "execution_count": 50,
   "metadata": {},
   "outputs": [
    {
     "data": {
      "text/plain": [
       "articles     612573\n",
       "versions    1889480\n",
       "dtype: int64"
      ]
     },
     "execution_count": 50,
     "metadata": {},
     "output_type": "execute_result"
    }
   ],
   "source": [
    "(articles_and_versions\n",
    " .reset_index()\n",
    " .loc[lambda df: ~df['index'].str.contains('newssniff')]\n",
    " .set_index('index')\n",
    " .apply(lambda s: s.astype(int))\n",
    " .sum()\n",
    ")"
   ]
  },
  {
   "cell_type": "code",
   "execution_count": 54,
   "metadata": {},
   "outputs": [
    {
     "data": {
      "image/png": "[encoded data removed]",
      "text/plain": [
       "<Figure size 576x216 with 1 Axes>"
      ]
     },
     "metadata": {
      "needs_background": "light"
     },
     "output_type": "display_data"
    }
   ],
   "source": [
    "article_and_version_count_df = pd.concat([\n",
    "    pd.Series(article_counts).to_frame('article_counts'),\n",
    "    pd.Series(version_counts).to_frame('version_counts'),\n",
    "], axis=1)\n",
    "\n",
    "\n",
    "ax = article_and_version_count_df.sort_values('version_counts').iloc[::-1].plot(kind='bar', figsize=(8,3))\n",
    "\n",
    "plt.legend(['Article Counts', 'Version Counts'], frameon=False)\n",
    "ax.spines['top'].set_visible(False)\n",
    "ax.spines['right'].set_visible(False)\n",
    "plt.xticks(rotation=35, horizontalalignment='right')\n",
    "\n",
    "ax.yaxis.set_major_locator(MultipleLocator(250000))\n",
    "ax.yaxis.set_major_formatter(FuncFormatter(lambda x, p: format(int(x), ',')))\n",
    "ax.yaxis.set_minor_locator(MultipleLocator(125000))"
   ]
  },
  {
   "cell_type": "markdown",
   "metadata": {},
   "source": [
    "## Number of versions per article"
   ]
  },
  {
   "cell_type": "code",
   "execution_count": null,
   "metadata": {},
   "outputs": [],
   "source": [
    "all_entry_vs = []\n",
    "for n, conn in tqdm(conn_dict.items()):\n",
    "    entry_vs = pd.read_sql('select count(1) as version_counts from entryversion group by entry_id', con=conn)\n",
    "    entry_vs['source'] = n\n",
    "    all_entry_vs.append(entry_vs)"
   ]
  },
  {
   "cell_type": "code",
   "execution_count": 79,
   "metadata": {},
   "outputs": [],
   "source": [
    "all_entry_vs_df = pd.concat(all_entry_vs)"
   ]
  },
  {
   "cell_type": "code",
   "execution_count": 89,
   "metadata": {},
   "outputs": [],
   "source": [
    "grouped = (\n",
    "    all_entry_vs_df\n",
    "        .groupby('source')\n",
    "        .median()\n",
    "        .sort_values(by='version_counts', ascending=False)\n",
    ")"
   ]
  },
  {
   "cell_type": "code",
   "execution_count": 96,
   "metadata": {},
   "outputs": [
    {
     "data": {
      "text/plain": [
       "Text(0, 0.5, '')"
      ]
     },
     "execution_count": 96,
     "metadata": {},
     "output_type": "execute_result"
    },
    {
     "data": {
      "image/png": "[encoded data removed]",
      "text/plain": [
       "<Figure size 288x576 with 1 Axes>"
      ]
     },
     "metadata": {
      "needs_background": "light"
     },
     "output_type": "display_data"
    }
   ],
   "source": [
    "f, ax = plt.subplots(figsize=(4, 8))\n",
    "\n",
    "ax = sns.boxplot(\n",
    "    data=all_entry_vs_df,# .sort_values('version_counts'),\n",
    "    x='version_counts',\n",
    "    y='source',\n",
    "    showfliers=False,\n",
    "    order=grouped.index,\n",
    "    ax=ax\n",
    ")\n",
    "ax.spines['right'].set_visible(False)\n",
    "ax.spines['top'].set_visible(False)\n",
    "plt.xlabel('Number of Versions per URL')\n",
    "plt.ylabel('')"
   ]
  },
  {
   "cell_type": "markdown",
   "metadata": {},
   "source": [
    "# Collect Data From Datastore"
   ]
  },
  {
   "cell_type": "code",
   "execution_count": 2,
   "metadata": {},
   "outputs": [],
   "source": [
    "from google.cloud import datastore\n",
    "import os\n",
    "from tqdm.auto import tqdm"
   ]
  },
  {
   "cell_type": "code",
   "execution_count": 3,
   "metadata": {},
   "outputs": [],
   "source": [
    "os.environ['GOOGLE_APPLICATION_CREDENTIALS'] = '/Users/alex/.google-cloud/usc-research-data-access.json'\n",
    "client = datastore.Client()"
   ]
  },
  {
   "cell_type": "code",
   "execution_count": 4,
   "metadata": {},
   "outputs": [
    {
     "data": {
      "application/vnd.jupyter.widget-view+json": {
       "model_id": "5f2e170a32164cad9529cdb91366dd07",
       "version_major": 2,
       "version_minor": 0
      },
      "text/plain": [
       "0it [00:00, ?it/s]"
      ]
     },
     "metadata": {},
     "output_type": "display_data"
    }
   ],
   "source": [
    "types=[\n",
    "    'edit-paths-sentence-stats',\n",
    "#     'edit-paths-sentence-diffs',\n",
    "#     'edit-paths-word-stats',\n",
    "#     'edit-paths-word-diffs',\n",
    "]\n",
    "\n",
    "for t in types:\n",
    "    q = client.query(kind=t)   \n",
    "    results = q.fetch()\n",
    "    num = results.num_results\n",
    "    res_iter=iter(results)\n",
    "\n",
    "#############if False:\n",
    "#############     for res in tqdm(res_iter, total=num):\n",
    "#############         client.delete(res.key)\n",
    "\n",
    "sentence_stats = []\n",
    "for res in tqdm(res_iter):\n",
    "    sentence_stats.append(res)"
   ]
  },
  {
   "cell_type": "code",
   "execution_count": 5,
   "metadata": {},
   "outputs": [],
   "source": [
    "import pandas as pd \n",
    "sentence_stats_df = pd.DataFrame(sentence_stats)"
   ]
  },
  {
   "cell_type": "code",
   "execution_count": 6,
   "metadata": {},
   "outputs": [
    {
     "data": {
      "text/html": [
       "<div>\n",
       "<style scoped>\n",
       "    .dataframe tbody tr th:only-of-type {\n",
       "        vertical-align: middle;\n",
       "    }\n",
       "\n",
       "    .dataframe tbody tr th {\n",
       "        vertical-align: top;\n",
       "    }\n",
       "\n",
       "    .dataframe thead th {\n",
       "        text-align: right;\n",
       "    }\n",
       "</style>\n",
       "<table border=\"1\" class=\"dataframe\">\n",
       "  <thead>\n",
       "    <tr style=\"text-align: right;\">\n",
       "      <th></th>\n",
       "      <th>num_removed_sents</th>\n",
       "      <th>num_added_sents</th>\n",
       "      <th>len_new_doc</th>\n",
       "      <th>len_old_doc</th>\n",
       "      <th>version_old</th>\n",
       "      <th>a_id</th>\n",
       "      <th>source</th>\n",
       "      <th>version_new</th>\n",
       "      <th>num_changed_sents</th>\n",
       "      <th>status</th>\n",
       "    </tr>\n",
       "  </thead>\n",
       "  <tbody>\n",
       "    <tr>\n",
       "      <th>0</th>\n",
       "      <td>0.0</td>\n",
       "      <td>0.0</td>\n",
       "      <td>35.0</td>\n",
       "      <td>35.0</td>\n",
       "      <td>0.0</td>\n",
       "      <td>1</td>\n",
       "      <td>ap</td>\n",
       "      <td>1.0</td>\n",
       "      <td>3.0</td>\n",
       "      <td>NaN</td>\n",
       "    </tr>\n",
       "    <tr>\n",
       "      <th>1</th>\n",
       "      <td>3.0</td>\n",
       "      <td>0.0</td>\n",
       "      <td>31.0</td>\n",
       "      <td>34.0</td>\n",
       "      <td>1.0</td>\n",
       "      <td>1</td>\n",
       "      <td>ap</td>\n",
       "      <td>2.0</td>\n",
       "      <td>12.0</td>\n",
       "      <td>NaN</td>\n",
       "    </tr>\n",
       "    <tr>\n",
       "      <th>2</th>\n",
       "      <td>32.0</td>\n",
       "      <td>25.0</td>\n",
       "      <td>31.0</td>\n",
       "      <td>38.0</td>\n",
       "      <td>0.0</td>\n",
       "      <td>10</td>\n",
       "      <td>ap</td>\n",
       "      <td>1.0</td>\n",
       "      <td>0.0</td>\n",
       "      <td>NaN</td>\n",
       "    </tr>\n",
       "    <tr>\n",
       "      <th>3</th>\n",
       "      <td>9.0</td>\n",
       "      <td>12.0</td>\n",
       "      <td>31.0</td>\n",
       "      <td>27.0</td>\n",
       "      <td>1.0</td>\n",
       "      <td>10</td>\n",
       "      <td>ap</td>\n",
       "      <td>2.0</td>\n",
       "      <td>8.0</td>\n",
       "      <td>NaN</td>\n",
       "    </tr>\n",
       "    <tr>\n",
       "      <th>4</th>\n",
       "      <td>29.0</td>\n",
       "      <td>2.0</td>\n",
       "      <td>5.0</td>\n",
       "      <td>32.0</td>\n",
       "      <td>2.0</td>\n",
       "      <td>10</td>\n",
       "      <td>ap</td>\n",
       "      <td>3.0</td>\n",
       "      <td>1.0</td>\n",
       "      <td>NaN</td>\n",
       "    </tr>\n",
       "    <tr>\n",
       "      <th>...</th>\n",
       "      <td>...</td>\n",
       "      <td>...</td>\n",
       "      <td>...</td>\n",
       "      <td>...</td>\n",
       "      <td>...</td>\n",
       "      <td>...</td>\n",
       "      <td>...</td>\n",
       "      <td>...</td>\n",
       "      <td>...</td>\n",
       "      <td>...</td>\n",
       "    </tr>\n",
       "    <tr>\n",
       "      <th>1238696</th>\n",
       "      <td>0.0</td>\n",
       "      <td>0.0</td>\n",
       "      <td>131.0</td>\n",
       "      <td>131.0</td>\n",
       "      <td>0.0</td>\n",
       "      <td>989454</td>\n",
       "      <td>wp</td>\n",
       "      <td>1.0</td>\n",
       "      <td>2.0</td>\n",
       "      <td>NaN</td>\n",
       "    </tr>\n",
       "    <tr>\n",
       "      <th>1238697</th>\n",
       "      <td>0.0</td>\n",
       "      <td>1.0</td>\n",
       "      <td>95.0</td>\n",
       "      <td>94.0</td>\n",
       "      <td>0.0</td>\n",
       "      <td>994704</td>\n",
       "      <td>wp</td>\n",
       "      <td>1.0</td>\n",
       "      <td>2.0</td>\n",
       "      <td>NaN</td>\n",
       "    </tr>\n",
       "    <tr>\n",
       "      <th>1238698</th>\n",
       "      <td>0.0</td>\n",
       "      <td>3.0</td>\n",
       "      <td>168.0</td>\n",
       "      <td>165.0</td>\n",
       "      <td>0.0</td>\n",
       "      <td>995246</td>\n",
       "      <td>wp</td>\n",
       "      <td>1.0</td>\n",
       "      <td>10.0</td>\n",
       "      <td>NaN</td>\n",
       "    </tr>\n",
       "    <tr>\n",
       "      <th>1238699</th>\n",
       "      <td>0.0</td>\n",
       "      <td>2.0</td>\n",
       "      <td>170.0</td>\n",
       "      <td>168.0</td>\n",
       "      <td>1.0</td>\n",
       "      <td>995246</td>\n",
       "      <td>wp</td>\n",
       "      <td>2.0</td>\n",
       "      <td>0.0</td>\n",
       "      <td>NaN</td>\n",
       "    </tr>\n",
       "    <tr>\n",
       "      <th>1238700</th>\n",
       "      <td>2.0</td>\n",
       "      <td>0.0</td>\n",
       "      <td>168.0</td>\n",
       "      <td>170.0</td>\n",
       "      <td>2.0</td>\n",
       "      <td>995246</td>\n",
       "      <td>wp</td>\n",
       "      <td>3.0</td>\n",
       "      <td>0.0</td>\n",
       "      <td>NaN</td>\n",
       "    </tr>\n",
       "  </tbody>\n",
       "</table>\n",
       "<p>1238701 rows × 10 columns</p>\n",
       "</div>"
      ],
      "text/plain": [
       "         num_removed_sents  num_added_sents  len_new_doc  len_old_doc  \\\n",
       "0                      0.0              0.0         35.0         35.0   \n",
       "1                      3.0              0.0         31.0         34.0   \n",
       "2                     32.0             25.0         31.0         38.0   \n",
       "3                      9.0             12.0         31.0         27.0   \n",
       "4                     29.0              2.0          5.0         32.0   \n",
       "...                    ...              ...          ...          ...   \n",
       "1238696                0.0              0.0        131.0        131.0   \n",
       "1238697                0.0              1.0         95.0         94.0   \n",
       "1238698                0.0              3.0        168.0        165.0   \n",
       "1238699                0.0              2.0        170.0        168.0   \n",
       "1238700                2.0              0.0        168.0        170.0   \n",
       "\n",
       "         version_old    a_id source  version_new  num_changed_sents status  \n",
       "0                0.0       1     ap          1.0                3.0    NaN  \n",
       "1                1.0       1     ap          2.0               12.0    NaN  \n",
       "2                0.0      10     ap          1.0                0.0    NaN  \n",
       "3                1.0      10     ap          2.0                8.0    NaN  \n",
       "4                2.0      10     ap          3.0                1.0    NaN  \n",
       "...              ...     ...    ...          ...                ...    ...  \n",
       "1238696          0.0  989454     wp          1.0                2.0    NaN  \n",
       "1238697          0.0  994704     wp          1.0                2.0    NaN  \n",
       "1238698          0.0  995246     wp          1.0               10.0    NaN  \n",
       "1238699          1.0  995246     wp          2.0                0.0    NaN  \n",
       "1238700          2.0  995246     wp          3.0                0.0    NaN  \n",
       "\n",
       "[1238701 rows x 10 columns]"
      ]
     },
     "execution_count": 6,
     "metadata": {},
     "output_type": "execute_result"
    }
   ],
   "source": [
    "sentence_stats_df"
   ]
  },
  {
   "cell_type": "code",
   "execution_count": 7,
   "metadata": {},
   "outputs": [],
   "source": [
    "name_mapper = {\n",
    "    'bbc': 'bbc-1',\n",
    "    'newssniffer-bbc': 'bbc-2',\n",
    "    'newssniffer-guardian': 'guardian',\n",
    "    'newssniffer-independent': 'independent',\n",
    "    'newssniffer-nytimes': 'nyt',\n",
    "    'newssniffer-washpo': 'wp',\n",
    "}"
   ]
  },
  {
   "cell_type": "code",
   "execution_count": 10,
   "metadata": {
    "scrolled": true
   },
   "outputs": [
    {
     "ename": "NameError",
     "evalue": "name 'articles_and_versions' is not defined",
     "output_type": "error",
     "traceback": [
      "\u001b[0;31m---------------------------------------------------------------------------\u001b[0m",
      "\u001b[0;31mNameError\u001b[0m                                 Traceback (most recent call last)",
      "\u001b[0;32m<ipython-input-10-849787df3f5f>\u001b[0m in \u001b[0;36m<module>\u001b[0;34m\u001b[0m\n\u001b[1;32m      2\u001b[0m     \u001b[0msentence_stats_df\u001b[0m\u001b[0;34m[\u001b[0m\u001b[0;34m'source'\u001b[0m\u001b[0;34m]\u001b[0m\u001b[0;34m.\u001b[0m\u001b[0mvalue_counts\u001b[0m\u001b[0;34m(\u001b[0m\u001b[0;34m)\u001b[0m\u001b[0;34m.\u001b[0m\u001b[0mto_frame\u001b[0m\u001b[0;34m(\u001b[0m\u001b[0;34m'processed version pairs'\u001b[0m\u001b[0;34m)\u001b[0m\u001b[0;34m,\u001b[0m\u001b[0;34m\u001b[0m\u001b[0;34m\u001b[0m\u001b[0m\n\u001b[1;32m      3\u001b[0m     \u001b[0msentence_stats_df\u001b[0m\u001b[0;34m.\u001b[0m\u001b[0mgroupby\u001b[0m\u001b[0;34m(\u001b[0m\u001b[0;34m'source'\u001b[0m\u001b[0;34m)\u001b[0m\u001b[0;34m[\u001b[0m\u001b[0;34m'a_id'\u001b[0m\u001b[0;34m]\u001b[0m\u001b[0;34m.\u001b[0m\u001b[0maggregate\u001b[0m\u001b[0;34m(\u001b[0m\u001b[0mset\u001b[0m\u001b[0;34m)\u001b[0m\u001b[0;34m.\u001b[0m\u001b[0mstr\u001b[0m\u001b[0;34m.\u001b[0m\u001b[0mlen\u001b[0m\u001b[0;34m(\u001b[0m\u001b[0;34m)\u001b[0m\u001b[0;34m.\u001b[0m\u001b[0mto_frame\u001b[0m\u001b[0;34m(\u001b[0m\u001b[0;34m'processed articles'\u001b[0m\u001b[0;34m)\u001b[0m\u001b[0;34m,\u001b[0m\u001b[0;34m\u001b[0m\u001b[0;34m\u001b[0m\u001b[0m\n\u001b[0;32m----> 4\u001b[0;31m     \u001b[0marticles_and_versions\u001b[0m\u001b[0;34m.\u001b[0m\u001b[0mrename\u001b[0m\u001b[0;34m(\u001b[0m\u001b[0mindex\u001b[0m\u001b[0;34m=\u001b[0m\u001b[0;32mlambda\u001b[0m \u001b[0mx\u001b[0m\u001b[0;34m:\u001b[0m \u001b[0mname_mapper\u001b[0m\u001b[0;34m.\u001b[0m\u001b[0mget\u001b[0m\u001b[0;34m(\u001b[0m\u001b[0mx\u001b[0m\u001b[0;34m,\u001b[0m \u001b[0mx\u001b[0m\u001b[0;34m)\u001b[0m\u001b[0;34m)\u001b[0m\u001b[0;34m\u001b[0m\u001b[0;34m\u001b[0m\u001b[0m\n\u001b[0m\u001b[1;32m      5\u001b[0m ], axis=1).fillna(0).apply(lambda s: s.astype(int))\n",
      "\u001b[0;31mNameError\u001b[0m: name 'articles_and_versions' is not defined"
     ]
    }
   ],
   "source": [
    "articles_and_version_counts_plus_processed = pd.concat([\n",
    "    sentence_stats_df['source'].value_counts().to_frame('processed version pairs'),\n",
    "    sentence_stats_df.groupby('source')['a_id'].aggregate(set).str.len().to_frame('processed articles'),\n",
    "    articles_and_versions.rename(index=lambda x: name_mapper.get(x, x))\n",
    "], axis=1).fillna(0).apply(lambda s: s.astype(int))"
   ]
  },
  {
   "cell_type": "code",
   "execution_count": 9,
   "metadata": {},
   "outputs": [
    {
     "ename": "NameError",
     "evalue": "name 'articles_and_version_counts_plus_processed' is not defined",
     "output_type": "error",
     "traceback": [
      "\u001b[0;31m---------------------------------------------------------------------------\u001b[0m",
      "\u001b[0;31mNameError\u001b[0m                                 Traceback (most recent call last)",
      "\u001b[0;32m<ipython-input-9-2705743ba46d>\u001b[0m in \u001b[0;36m<module>\u001b[0;34m\u001b[0m\n\u001b[0;32m----> 1\u001b[0;31m \u001b[0marticles_and_version_counts_plus_processed\u001b[0m\u001b[0;34m.\u001b[0m\u001b[0mhead\u001b[0m\u001b[0;34m(\u001b[0m\u001b[0;34m)\u001b[0m\u001b[0;34m\u001b[0m\u001b[0;34m\u001b[0m\u001b[0m\n\u001b[0m",
      "\u001b[0;31mNameError\u001b[0m: name 'articles_and_version_counts_plus_processed' is not defined"
     ]
    }
   ],
   "source": [
    "articles_and_version_counts_plus_processed.head()"
   ]
  },
  {
   "cell_type": "code",
   "execution_count": 439,
   "metadata": {
    "scrolled": true
   },
   "outputs": [
    {
     "data": {
      "text/html": [
       "<div>\n",
       "<style scoped>\n",
       "    .dataframe tbody tr th:only-of-type {\n",
       "        vertical-align: middle;\n",
       "    }\n",
       "\n",
       "    .dataframe tbody tr th {\n",
       "        vertical-align: top;\n",
       "    }\n",
       "\n",
       "    .dataframe thead th {\n",
       "        text-align: right;\n",
       "    }\n",
       "</style>\n",
       "<table border=\"1\" class=\"dataframe\">\n",
       "  <thead>\n",
       "    <tr style=\"text-align: right;\">\n",
       "      <th></th>\n",
       "      <th>processed version pairs</th>\n",
       "      <th>version_thresh_counts</th>\n",
       "      <th>processed articles</th>\n",
       "      <th>article_thresh_counts</th>\n",
       "      <th>a_id_finished</th>\n",
       "    </tr>\n",
       "  </thead>\n",
       "  <tbody>\n",
       "    <tr>\n",
       "      <th>guardian</th>\n",
       "      <td>15741</td>\n",
       "      <td>843084</td>\n",
       "      <td>5742</td>\n",
       "      <td>231051</td>\n",
       "      <td>0.024852</td>\n",
       "    </tr>\n",
       "    <tr>\n",
       "      <th>bbc-2</th>\n",
       "      <td>49028</td>\n",
       "      <td>1238835</td>\n",
       "      <td>18051</td>\n",
       "      <td>307536</td>\n",
       "      <td>0.058696</td>\n",
       "    </tr>\n",
       "    <tr>\n",
       "      <th>nyt</th>\n",
       "      <td>20333</td>\n",
       "      <td>365897</td>\n",
       "      <td>6919</td>\n",
       "      <td>86955</td>\n",
       "      <td>0.079570</td>\n",
       "    </tr>\n",
       "    <tr>\n",
       "      <th>cbc</th>\n",
       "      <td>26460</td>\n",
       "      <td>314899</td>\n",
       "      <td>3201</td>\n",
       "      <td>38197</td>\n",
       "      <td>0.083802</td>\n",
       "    </tr>\n",
       "    <tr>\n",
       "      <th>torontostar</th>\n",
       "      <td>36127</td>\n",
       "      <td>154505</td>\n",
       "      <td>5209</td>\n",
       "      <td>26975</td>\n",
       "      <td>0.193105</td>\n",
       "    </tr>\n",
       "    <tr>\n",
       "      <th>ap</th>\n",
       "      <td>15523</td>\n",
       "      <td>74364</td>\n",
       "      <td>3100</td>\n",
       "      <td>12841</td>\n",
       "      <td>0.241414</td>\n",
       "    </tr>\n",
       "    <tr>\n",
       "      <th>dailymail</th>\n",
       "      <td>27088</td>\n",
       "      <td>98929</td>\n",
       "      <td>5910</td>\n",
       "      <td>23474</td>\n",
       "      <td>0.251768</td>\n",
       "    </tr>\n",
       "    <tr>\n",
       "      <th>reuters</th>\n",
       "      <td>45020</td>\n",
       "      <td>133922</td>\n",
       "      <td>7559</td>\n",
       "      <td>26530</td>\n",
       "      <td>0.284923</td>\n",
       "    </tr>\n",
       "    <tr>\n",
       "      <th>cnn</th>\n",
       "      <td>15956</td>\n",
       "      <td>59826</td>\n",
       "      <td>5944</td>\n",
       "      <td>19965</td>\n",
       "      <td>0.297721</td>\n",
       "    </tr>\n",
       "    <tr>\n",
       "      <th>bbc-1</th>\n",
       "      <td>16705</td>\n",
       "      <td>74592</td>\n",
       "      <td>8194</td>\n",
       "      <td>23782</td>\n",
       "      <td>0.344546</td>\n",
       "    </tr>\n",
       "    <tr>\n",
       "      <th>nationalpost</th>\n",
       "      <td>13874</td>\n",
       "      <td>43238</td>\n",
       "      <td>7109</td>\n",
       "      <td>16385</td>\n",
       "      <td>0.433872</td>\n",
       "    </tr>\n",
       "    <tr>\n",
       "      <th>independent</th>\n",
       "      <td>53623</td>\n",
       "      <td>158838</td>\n",
       "      <td>28474</td>\n",
       "      <td>55008</td>\n",
       "      <td>0.517634</td>\n",
       "    </tr>\n",
       "    <tr>\n",
       "      <th>globemail</th>\n",
       "      <td>33105</td>\n",
       "      <td>73434</td>\n",
       "      <td>10470</td>\n",
       "      <td>20179</td>\n",
       "      <td>0.518856</td>\n",
       "    </tr>\n",
       "    <tr>\n",
       "      <th>wp</th>\n",
       "      <td>29153</td>\n",
       "      <td>67826</td>\n",
       "      <td>11373</td>\n",
       "      <td>19176</td>\n",
       "      <td>0.593085</td>\n",
       "    </tr>\n",
       "    <tr>\n",
       "      <th>telegraph</th>\n",
       "      <td>28230</td>\n",
       "      <td>69323</td>\n",
       "      <td>15990</td>\n",
       "      <td>25704</td>\n",
       "      <td>0.622082</td>\n",
       "    </tr>\n",
       "    <tr>\n",
       "      <th>torontosun</th>\n",
       "      <td>21397</td>\n",
       "      <td>42660</td>\n",
       "      <td>12664</td>\n",
       "      <td>16698</td>\n",
       "      <td>0.758414</td>\n",
       "    </tr>\n",
       "    <tr>\n",
       "      <th>lapresse</th>\n",
       "      <td>24783</td>\n",
       "      <td>52394</td>\n",
       "      <td>16043</td>\n",
       "      <td>20516</td>\n",
       "      <td>0.781975</td>\n",
       "    </tr>\n",
       "    <tr>\n",
       "      <th>fox</th>\n",
       "      <td>29177</td>\n",
       "      <td>48996</td>\n",
       "      <td>14110</td>\n",
       "      <td>16702</td>\n",
       "      <td>0.844809</td>\n",
       "    </tr>\n",
       "    <tr>\n",
       "      <th>therebel</th>\n",
       "      <td>12293</td>\n",
       "      <td>15986</td>\n",
       "      <td>3225</td>\n",
       "      <td>3326</td>\n",
       "      <td>0.969633</td>\n",
       "    </tr>\n",
       "    <tr>\n",
       "      <th>calgaryherald</th>\n",
       "      <td>20722</td>\n",
       "      <td>27784</td>\n",
       "      <td>7018</td>\n",
       "      <td>7018</td>\n",
       "      <td>1.000000</td>\n",
       "    </tr>\n",
       "    <tr>\n",
       "      <th>canadaland</th>\n",
       "      <td>36</td>\n",
       "      <td>60</td>\n",
       "      <td>24</td>\n",
       "      <td>24</td>\n",
       "      <td>1.000000</td>\n",
       "    </tr>\n",
       "    <tr>\n",
       "      <th>whitehouse</th>\n",
       "      <td>0</td>\n",
       "      <td>0</td>\n",
       "      <td>0</td>\n",
       "      <td>0</td>\n",
       "      <td>NaN</td>\n",
       "    </tr>\n",
       "  </tbody>\n",
       "</table>\n",
       "</div>"
      ],
      "text/plain": [
       "               processed version pairs  version_thresh_counts  \\\n",
       "guardian                         15741                 843084   \n",
       "bbc-2                            49028                1238835   \n",
       "nyt                              20333                 365897   \n",
       "cbc                              26460                 314899   \n",
       "torontostar                      36127                 154505   \n",
       "ap                               15523                  74364   \n",
       "dailymail                        27088                  98929   \n",
       "reuters                          45020                 133922   \n",
       "cnn                              15956                  59826   \n",
       "bbc-1                            16705                  74592   \n",
       "nationalpost                     13874                  43238   \n",
       "independent                      53623                 158838   \n",
       "globemail                        33105                  73434   \n",
       "wp                               29153                  67826   \n",
       "telegraph                        28230                  69323   \n",
       "torontosun                       21397                  42660   \n",
       "lapresse                         24783                  52394   \n",
       "fox                              29177                  48996   \n",
       "therebel                         12293                  15986   \n",
       "calgaryherald                    20722                  27784   \n",
       "canadaland                          36                     60   \n",
       "whitehouse                           0                      0   \n",
       "\n",
       "               processed articles  article_thresh_counts  a_id_finished  \n",
       "guardian                     5742                 231051       0.024852  \n",
       "bbc-2                       18051                 307536       0.058696  \n",
       "nyt                          6919                  86955       0.079570  \n",
       "cbc                          3201                  38197       0.083802  \n",
       "torontostar                  5209                  26975       0.193105  \n",
       "ap                           3100                  12841       0.241414  \n",
       "dailymail                    5910                  23474       0.251768  \n",
       "reuters                      7559                  26530       0.284923  \n",
       "cnn                          5944                  19965       0.297721  \n",
       "bbc-1                        8194                  23782       0.344546  \n",
       "nationalpost                 7109                  16385       0.433872  \n",
       "independent                 28474                  55008       0.517634  \n",
       "globemail                   10470                  20179       0.518856  \n",
       "wp                          11373                  19176       0.593085  \n",
       "telegraph                   15990                  25704       0.622082  \n",
       "torontosun                  12664                  16698       0.758414  \n",
       "lapresse                    16043                  20516       0.781975  \n",
       "fox                         14110                  16702       0.844809  \n",
       "therebel                     3225                   3326       0.969633  \n",
       "calgaryherald                7018                   7018       1.000000  \n",
       "canadaland                     24                     24       1.000000  \n",
       "whitehouse                      0                      0            NaN  "
      ]
     },
     "execution_count": 439,
     "metadata": {},
     "output_type": "execute_result"
    }
   ],
   "source": [
    "articles_and_version_counts_plus_processed[[\n",
    "    'processed version pairs',\n",
    "    'version_thresh_counts',\n",
    "    'processed articles', \n",
    "    'article_thresh_counts'\n",
    "]].assign(a_id_finished=lambda df: df['processed articles'] / df['article_thresh_counts']).sort_values('a_id_finished')"
   ]
  },
  {
   "cell_type": "code",
   "execution_count": 332,
   "metadata": {},
   "outputs": [
    {
     "data": {
      "text/plain": [
       "0.0       90603\n",
       "1.0      103330\n",
       "2.0       46191\n",
       "3.0       25156\n",
       "4.0       18450\n",
       "          ...  \n",
       "168.0         1\n",
       "199.0         1\n",
       "226.0         1\n",
       "227.0         1\n",
       "259.0         1\n",
       "Name: num_changed_sents, Length: 122, dtype: int64"
      ]
     },
     "execution_count": 332,
     "metadata": {},
     "output_type": "execute_result"
    }
   ],
   "source": [
    "sentence_stats_df['num_added_sents'].value_counts()\n",
    "# sentence_stats_df['num_changed'].value_counts()\n",
    "\n",
    "sentence_stats_df['num_changed_sents'].value_counts().sort_index()"
   ]
  },
  {
   "cell_type": "code",
   "execution_count": 464,
   "metadata": {},
   "outputs": [
    {
     "name": "stdout",
     "output_type": "stream",
     "text": [
      "outlet: telegraph\n"
     ]
    },
    {
     "data": {
      "application/vnd.jupyter.widget-view+json": {
       "model_id": "1f9e8245554f49b8814a5684cdd5c4ed",
       "version_major": 2,
       "version_minor": 0
      },
      "text/plain": [
       "0it [00:00, ?it/s]"
      ]
     },
     "metadata": {},
     "output_type": "display_data"
    }
   ],
   "source": [
    "types=[\n",
    "    'edit-paths-sentence-stats',\n",
    "#     'edit-paths-sentence-diffs',\n",
    "#     'edit-paths-word-stats',\n",
    "#     'edit-paths-word-diffs',\n",
    "]\n",
    "\n",
    "outlet = ['telegraph']\n",
    "outlet_sentence_stats = []\n",
    "\n",
    "for o in outlet:\n",
    "    print('outlet: %s' % o)\n",
    "    for t in types:\n",
    "        q = client.query(kind=t).add_filter('source', '=', o)\n",
    "        results = q.fetch()\n",
    "        num = results.num_results\n",
    "        res_iter=iter(results)\n",
    "\n",
    "    for res in tqdm(res_iter):\n",
    "        outlet_sentence_stats.append(res)"
   ]
  },
  {
   "cell_type": "code",
   "execution_count": 465,
   "metadata": {},
   "outputs": [],
   "source": [
    "outlet_sentence_stats_df = pd.DataFrame(outlet_sentence_stats)"
   ]
  },
  {
   "cell_type": "code",
   "execution_count": 466,
   "metadata": {},
   "outputs": [
    {
     "data": {
      "text/plain": [
       "(25683,)"
      ]
     },
     "execution_count": 466,
     "metadata": {},
     "output_type": "execute_result"
    }
   ],
   "source": [
    "outlet_sentence_stats_df['a_id'].unique().shape"
   ]
  },
  {
   "cell_type": "code",
   "execution_count": null,
   "metadata": {},
   "outputs": [],
   "source": []
  },
  {
   "cell_type": "code",
   "execution_count": null,
   "metadata": {},
   "outputs": [],
   "source": []
  },
  {
   "cell_type": "code",
   "execution_count": null,
   "metadata": {},
   "outputs": [],
   "source": []
  },
  {
   "cell_type": "code",
   "execution_count": null,
   "metadata": {},
   "outputs": [],
   "source": []
  },
  {
   "cell_type": "code",
   "execution_count": null,
   "metadata": {},
   "outputs": [],
   "source": []
  },
  {
   "cell_type": "code",
   "execution_count": null,
   "metadata": {},
   "outputs": [],
   "source": []
  },
  {
   "cell_type": "code",
   "execution_count": null,
   "metadata": {},
   "outputs": [],
   "source": []
  },
  {
   "cell_type": "markdown",
   "metadata": {},
   "source": [
    "## Look at Washington Post Diffs"
   ]
  },
  {
   "cell_type": "code",
   "execution_count": 145,
   "metadata": {},
   "outputs": [
    {
     "data": {
      "application/vnd.jupyter.widget-view+json": {
       "model_id": "ea6d361d2c57406a81e4a2be497967f9",
       "version_major": 2,
       "version_minor": 0
      },
      "text/plain": [
       "0it [00:00, ?it/s]"
      ]
     },
     "metadata": {},
     "output_type": "display_data"
    }
   ],
   "source": [
    "# sentence_diffs_df.to_csv('cache/wp-sentence-diffs.csv')\n",
    "types=[\n",
    "#     'edit-paths-sentence-stats',\n",
    "    'edit-paths-sentence-diffs',\n",
    "#     'edit-paths-word-stats',\n",
    "#     'edit-paths-word-diffs',\n",
    "]\n",
    "\n",
    "for t in types:\n",
    "    q = client.query(kind=t).add_filter('source', '=', 'wp')\n",
    "    results = q.fetch()\n",
    "    num = results.num_results\n",
    "    res_iter=iter(results)\n",
    "\n",
    "#############if False:\n",
    "#############     for res in tqdm(res_iter, total=num):\n",
    "#############         client.delete(res.key)\n",
    "\n",
    "sentence_diffs = []\n",
    "for res in tqdm(res_iter):\n",
    "    sentence_diffs.append(res)"
   ]
  },
  {
   "cell_type": "code",
   "execution_count": 147,
   "metadata": {},
   "outputs": [],
   "source": [
    "sentence_diffs_df = pd.DataFrame(sentence_diffs)"
   ]
  },
  {
   "cell_type": "code",
   "execution_count": 158,
   "metadata": {},
   "outputs": [
    {
     "data": {
      "text/plain": [
       "array([1069407, 1069491, 1069513, ...,  929677,  929877,  934098])"
      ]
     },
     "execution_count": 158,
     "metadata": {},
     "output_type": "execute_result"
    }
   ],
   "source": [
    "sentence_diffs_df['a_id'].unique()"
   ]
  },
  {
   "cell_type": "code",
   "execution_count": 173,
   "metadata": {},
   "outputs": [],
   "source": [
    "col_order = [\n",
    "    'key', 'a_id', 's_idx',  'version_old', 'version_new', \n",
    "    'source', 'sent_old', 'tag_old', 'tag_new', 'sent_new', \n",
    "]"
   ]
  },
  {
   "cell_type": "code",
   "execution_count": 163,
   "metadata": {},
   "outputs": [],
   "source": [
    "sentence_diffs_df['key'] = (\n",
    "    sentence_diffs_df['a_id'].astype(str) + '-' + \n",
    "    sentence_diffs_df['version_old'].astype(str) + '-' + \n",
    "    sentence_diffs_df['version_new'].astype(str)\n",
    ")"
   ]
  },
  {
   "cell_type": "code",
   "execution_count": 337,
   "metadata": {},
   "outputs": [],
   "source": [
    "import numpy as np \n",
    "import itertools\n",
    "\n",
    "def condense_tags(t, num_bins=20, desired_tag='+'):\n",
    "    \"\"\"Take a list of tags of length k and compress it into a list of len `num_bins`.\"\"\"\n",
    "    bins = np.linspace(0, 1, num=num_bins+1)\n",
    "    slots = np.linspace(0, 1, num=len(t))\n",
    "    t_bins = np.digitize(slots, bins[:-1])\n",
    "    output = np.zeros(num_bins) * np.nan\n",
    "    for k, g in itertools.groupby(zip(t_bins, t), key=lambda x: x[0]):\n",
    "        tag = 1 if any(map(lambda x: x[1] == desired_tag, g)) else 0\n",
    "        output[k-1] = tag\n",
    "    return output"
   ]
  },
  {
   "cell_type": "code",
   "execution_count": 293,
   "metadata": {},
   "outputs": [],
   "source": [
    "position_added = (sentence_diffs_df\n",
    "                  .groupby('key')\n",
    "                  .apply(lambda df: \n",
    "                         df.sort_values('s_idx')\n",
    "                          .loc[lambda df: df['sent_new'] != '']\n",
    "                          ['tag_new']\n",
    "                         .to_list()\n",
    "                        )\n",
    "                 )\n",
    "\n"
   ]
  },
  {
   "cell_type": "code",
   "execution_count": 342,
   "metadata": {},
   "outputs": [],
   "source": [
    "position_removed = (sentence_diffs_df\n",
    "                  .groupby('key')\n",
    "                  .apply(lambda df: \n",
    "                         df.sort_values('s_idx')\n",
    "                          .loc[lambda df: df['sent_new'] != '']\n",
    "                          ['tag_old']\n",
    "                         .to_list()\n",
    "                        )\n",
    "                 )"
   ]
  },
  {
   "cell_type": "code",
   "execution_count": 339,
   "metadata": {},
   "outputs": [],
   "source": [
    "position_added_cond = (position_added\n",
    "                       .apply(lambda x: pd.Series(condense_tags(x, num_bins=50, desired_tag='+')))\n",
    "                       .T.fillna(method='ffill').T\n",
    "                      )"
   ]
  },
  {
   "cell_type": "code",
   "execution_count": 340,
   "metadata": {},
   "outputs": [
    {
     "data": {
      "text/plain": [
       "<matplotlib.axes._subplots.AxesSubplot at 0x7fd2b62cfd90>"
      ]
     },
     "execution_count": 340,
     "metadata": {},
     "output_type": "execute_result"
    },
    {
     "data": {
      "image/png": "[encoded data removed]",
      "text/plain": [
       "<Figure size 432x288 with 1 Axes>"
      ]
     },
     "metadata": {
      "needs_background": "light"
     },
     "output_type": "display_data"
    }
   ],
   "source": [
    "position_added_cond.mean().plot()"
   ]
  },
  {
   "cell_type": "code",
   "execution_count": 343,
   "metadata": {},
   "outputs": [],
   "source": [
    "position_removed_cond = (position_removed\n",
    "                       .apply(lambda x: pd.Series(condense_tags(x, num_bins=50, desired_tag='-')))\n",
    "                       .T.fillna(method='ffill').T\n",
    "                      )"
   ]
  },
  {
   "cell_type": "code",
   "execution_count": 344,
   "metadata": {},
   "outputs": [
    {
     "data": {
      "text/plain": [
       "<matplotlib.axes._subplots.AxesSubplot at 0x7fd2b3c67490>"
      ]
     },
     "execution_count": 344,
     "metadata": {},
     "output_type": "execute_result"
    },
    {
     "data": {
      "image/png": "[encoded data removed]",
      "text/plain": [
       "<Figure size 432x288 with 1 Axes>"
      ]
     },
     "metadata": {
      "needs_background": "light"
     },
     "output_type": "display_data"
    }
   ],
   "source": [
    "position_removed_cond.mean().plot()"
   ]
  },
  {
   "cell_type": "code",
   "execution_count": 396,
   "metadata": {},
   "outputs": [],
   "source": [
    "desired_docs = (sentence_stats_df\n",
    " .loc[lambda df: df['source'] == 'wp']\n",
    "  .loc[lambda df: df['num_added_sents'] == 1]\n",
    "#  .loc[lambda df: df['num_added_sents'].isin([1, 2])]\n",
    " .loc[lambda df: df['num_changed_sents'] == 0]\n",
    " .loc[lambda df: df['num_removed_sents'] == 0]\n",
    ")"
   ]
  },
  {
   "cell_type": "code",
   "execution_count": 416,
   "metadata": {},
   "outputs": [],
   "source": [
    "desired_sentences = (sentence_diffs_df\n",
    " .loc[lambda df: df['key'].isin(desired_docs\n",
    " .pipe(lambda df: df.apply(lambda x: '%s-%s-%s' % (int(x['a_id']), int(x['version_old']), int(x['version_new'])), axis=1))\n",
    " )]\n",
    ")"
   ]
  },
  {
   "cell_type": "code",
   "execution_count": 427,
   "metadata": {},
   "outputs": [],
   "source": [
    "position_added = (desired_sentences.groupby('key')\n",
    "  .apply(lambda df: df.sort_values('s_idx').loc[lambda df: df['sent_new'] != '']['tag_new'].to_list())\n",
    ")"
   ]
  },
  {
   "cell_type": "code",
   "execution_count": 429,
   "metadata": {},
   "outputs": [],
   "source": [
    "position_added\n",
    "\n",
    "position_added_cond = (position_added\n",
    "                       .apply(lambda x: pd.Series(condense_tags(x, num_bins=50, desired_tag='+')))\n",
    "                       .T.fillna(method='ffill').T\n",
    "                      )"
   ]
  },
  {
   "cell_type": "code",
   "execution_count": 432,
   "metadata": {},
   "outputs": [
    {
     "data": {
      "text/plain": [
       "<matplotlib.axes._subplots.AxesSubplot at 0x7fd295618b10>"
      ]
     },
     "execution_count": 432,
     "metadata": {},
     "output_type": "execute_result"
    },
    {
     "data": {
      "image/png": "[encoded data removed]",
      "text/plain": [
       "<Figure size 432x288 with 1 Axes>"
      ]
     },
     "metadata": {
      "needs_background": "light"
     },
     "output_type": "display_data"
    }
   ],
   "source": [
    "position_added_cond.mean().plot()"
   ]
  },
  {
   "cell_type": "code",
   "execution_count": null,
   "metadata": {},
   "outputs": [],
   "source": []
  },
  {
   "cell_type": "code",
   "execution_count": null,
   "metadata": {},
   "outputs": [],
   "source": []
  },
  {
   "cell_type": "code",
   "execution_count": null,
   "metadata": {},
   "outputs": [],
   "source": []
  },
  {
   "cell_type": "code",
   "execution_count": null,
   "metadata": {},
   "outputs": [],
   "source": []
  },
  {
   "cell_type": "code",
   "execution_count": null,
   "metadata": {},
   "outputs": [],
   "source": []
  },
  {
   "cell_type": "code",
   "execution_count": null,
   "metadata": {},
   "outputs": [],
   "source": []
  },
  {
   "cell_type": "code",
   "execution_count": 386,
   "metadata": {},
   "outputs": [],
   "source": [
    "doc = (sentence_diffs_df\n",
    " .loc[lambda df: df['a_id'] == 1077063]\n",
    " .loc[lambda df: df['version_old'] == 1]\n",
    " .loc[lambda df: df['version_new'] == 2] \n",
    ")"
   ]
  },
  {
   "cell_type": "code",
   "execution_count": 362,
   "metadata": {},
   "outputs": [],
   "source": [
    "doc = doc.sort_values('s_idx')"
   ]
  },
  {
   "cell_type": "code",
   "execution_count": 385,
   "metadata": {},
   "outputs": [
    {
     "data": {
      "text/plain": [
       "<module 'util.util_newssniffer_parsing' from '../util/util_newssniffer_parsing.py'>"
      ]
     },
     "execution_count": 385,
     "metadata": {},
     "output_type": "execute_result"
    }
   ],
   "source": [
    "reload(unp)"
   ]
  },
  {
   "cell_type": "code",
   "execution_count": 388,
   "metadata": {},
   "outputs": [
    {
     "data": {
      "text/html": [
       "<table>\n",
       "<tr><th>Old Version</th><th>New Version</th></tr>\n",
       "<tr><td>NEW YORK—A wave of late selling pummeled U.S. stocks Friday and pushed the market to its worst week in four years.</td><td>NEW YORK—A wave of late selling pummeled U.S. stocks Friday and pushed the market to its worst week in four years.</td></tr>\n",
       "<tr><td>The dismal start to the new year comes as investors worry that China’s huge economy is slowing down.</td><td>The dismal start to the new year comes as investors worry that China’s huge economy is slowing down.</td></tr>\n",
       "<tr><td>That has helped send the price of oil plunging to its lowest level since 2004, the latest blow to U.S. energy companies.</td><td>That has helped send the price of oil plunging to its lowest level since 2004, the latest blow to U.S. energy companies.</td></tr>\n",
       "<tr><td>Industrial and technology companies such as Boeing and Apple that do a lot of business in China have also fallen sharply this week.</td><td>Industrial and technology companies such as Boeing and Apple that do a lot of business in China have also fallen sharply this week.</td></tr>\n",
       "<tr><td>Mining companies such as Freeport-McMoRan plunged as copper prices have fallen.</td><td>Mining companies such as Freeport-McMoRan plunged as copper prices have fallen.</td></tr>\n",
       "<tr><td>China is a major importer of copper.</td><td>China is a major importer of copper.</td></tr>\n",
       "<tr><td>Stocks started the day higher, driven in part by news of an encouraging burst in hiring last month by U.S. employers.</td><td>Stocks started the day higher, driven in part by news of an encouraging burst in hiring last month by U.S. employers.</td></tr>\n",
       "<tr><td>China’s stock market also rose 2 percent overnight, recovering somewhat after steep drops earlier in the week triggered trading halts.</td><td>China’s stock market also rose 2 percent overnight, recovering somewhat after steep drops earlier in the week triggered trading halts.</td></tr>\n",
       "<tr><td>Indexes wavered between small gains and losses for most of the day, but took a decisive turn lower in the last hour of trading.</td><td>Indexes wavered between small gains and losses for most of the day, but took a decisive turn lower in the last hour of trading.</td></tr>\n",
       "<tr><td>That made this the worst week since September 2011, when the market was roiled by the fight over the U.S. debt ceiling and Standard &amp; Poor’s move to cut the credit rating of the U.S. government.</td><td>That made this the worst week since September 2011, when the market was roiled by the fight over the U.S. debt ceiling and Standard &amp; Poor’s move to cut the credit rating of the U.S. government.</td></tr>\n",
       "<tr><td>The Dow Jones industrial average dropped 167.65 points, or 1 percent, to 16,346.45.</td><td>The Dow Jones industrial average dropped 167.65 points, or 1 percent, to 16,346.45.</td></tr>\n",
       "<tr><td>The Standard &amp;</td><td>The Standard &amp;</td></tr>\n",
       "<tr><td>Poor’s 500 index fell 21.06 points, or 1.1 percent, to 1,922.03.</td><td>Poor’s 500 index fell 21.06 points, or 1.1 percent, to 1,922.03.</td></tr>\n",
       "<tr><td>The Nasdaq composite index shed 45.80 points, or 1 percent, to 4,643.63.</td><td>The Nasdaq composite index shed 45.80 points, or 1 percent, to 4,643.63.</td></tr>\n",
       "<tr><td>The Dow and S&amp;P 500 are each down about 6 percent for the week.</td><td>The Dow and S&amp;P 500 are each down about 6 percent for the week.</td></tr>\n",
       "<tr><td>The Nasdaq composite fell even more, 7.3 percent.</td><td>The Nasdaq composite fell even more, 7.3 percent.</td></tr>\n",
       "<tr><td>That index is heavily weighted with technology and biotech companies, both of which were high-fliers last year.</td><td>That index is heavily weighted with technology and biotech companies, both of which were high-fliers last year.</td></tr>\n",
       "<tr><td>The largest losses on Friday went to financial stocks.</td><td>The largest losses on Friday went to financial stocks.</td></tr>\n",
       "<tr><td>JPMorgan Chase lost $1.35, or 2.2 percent, to $58.92 and Citigroup fell $1.43, or 3 percent, to $46.13.</td><td>JPMorgan Chase lost $1.35, or 2.2 percent, to $58.92 and Citigroup fell $1.43, or 3 percent, to $46.13.</td></tr>\n",
       "<tr><td>Health care stocks slumped, led by drug companies.</td><td>Health care stocks slumped, led by drug companies.</td></tr>\n",
       "<tr><td>Energy stocks also skidded as the price of oil, already at decade lows, continued to fall.</td><td>Energy stocks also skidded as the price of oil, already at decade lows, continued to fall.</td></tr>\n",
       "<tr><td>European stocks also rose early in the day, but couldn’t hang on.</td><td>European stocks also rose early in the day, but couldn’t hang on.</td></tr>\n",
       "<tr><td>The FTSE 100 index of leading British shares declined 0.7 percent while Germany’s DAX lost 1.3 percent.</td><td>The FTSE 100 index of leading British shares declined 0.7 percent while Germany’s DAX lost 1.3 percent.</td></tr>\n",
       "<tr><td>The CAC-40 in France slid 1.6 percent.</td><td>The CAC-40 in France slid 1.6 percent.</td></tr>\n",
       "<tr><td>The same pattern held in the U.S.</td><td>The same pattern held in the U.S.</td></tr>\n",
       "<tr><td>In its monthly jobs report, released before the stock market opened, the Labor Department said U.S. employers added 292,000 jobs in December, far more than economists had forecast.</td><td>In its monthly jobs report, released before the stock market opened, the Labor Department said U.S. employers added 292,000 jobs in December, far more than economists had forecast.</td></tr>\n",
       "<tr><td>That’s the latest sign the U.S. economy is still growing.</td><td>That’s the latest sign the U.S. economy is still growing.</td></tr>\n",
       "<tr><td>On average employers added 284,000 jobs per month in the fourth quarter, the best rate in a year.</td><td>On average employers added 284,000 jobs per month in the fourth quarter, the best rate in a year.</td></tr>\n",
       "<tr><td>Michael Fredericks, portfolio manager for BlackRock Multi-Asset Income Fund, said the labor market is healthy and wages could improve this month.</td><td>Michael Fredericks, portfolio manager for BlackRock Multi-Asset Income Fund, said the labor market is healthy and wages could improve this month.</td></tr>\n",
       "<tr><td>“These are unusually strong job creation numbers,” he said.</td><td>“These are unusually strong job creation numbers,” he said.</td></tr>\n",
       "<tr><td>Fredericks said the low wage growth and limited inflation will make the Federal Reserve proceed cautiously as it raises interest rates.</td><td>Fredericks said the low wage growth and limited inflation will make the Federal Reserve proceed cautiously as it raises interest rates.</td></tr>\n",
       "<tr><td>In December the Fed raised rates for the first time in nine years, but interest rates are still very low.</td><td>In December the Fed raised rates for the first time in nine years, but interest rates are still very low.</td></tr>\n",
       "<tr><td>Throughout the week, worries about China’s economy and shocks to its markets have canceled out positive news from the U.S. and Europe.</td><td>Throughout the week, worries about China’s economy and shocks to its markets have canceled out positive news from the U.S. and Europe.</td></tr>\n",
       "<tr><td>While China’s economy is still growing, that growth isn’t as fast as it has been.</td><td>While China’s economy is still growing, that growth isn’t as fast as it has been.</td></tr>\n",
       "<tr><td>That could hurt sales of everything from iPhones to oil and heavy machinery.</td><td>That could hurt sales of everything from iPhones to oil and heavy machinery.</td></tr>\n",
       "<tr><td>Oil prices also lost ground.</td><td>Oil prices also lost ground.</td></tr>\n",
       "<tr><td>Exxon Mobil lost $1.54, or 2 percent, to $74.69 and Tesoro fell $5.41, or 5 percent, to $101.62.</td><td>Exxon Mobil lost $1.54, or 2 percent, to $74.69 and Tesoro fell $5.41, or 5 percent, to $101.62.</td></tr>\n",
       "<tr><td>This week retailers started disclosing their holiday-season results.</td><td>This week retailers started disclosing their holiday-season results.</td></tr>\n",
       "<tr><td>Gap and American Eagle both reported disappointing sales.</td><td>Gap and American Eagle both reported disappointing sales.</td></tr>\n",
       "<tr><td>Gap stock dropped $3.83, or 14.3 percent, to $22.91, its lowest in almost four years.</td><td>Gap stock dropped $3.83, or 14.3 percent, to $22.91, its lowest in almost four years.</td></tr>\n",
       "<tr><td>American Eagle tumbled $2.64, or 16.6 percent, to $13.24.</td><td>American Eagle tumbled $2.64, or 16.6 percent, to $13.24.</td></tr>\n",
       "<tr><td>Department stores were among the biggest losers on the S&amp;P 500.</td><td>Department stores were among the biggest losers on the S&amp;P 500.</td></tr>\n",
       "<tr><td>Their holiday sales have been hurt by the unusually warm winter weather.</td><td>Their holiday sales have been hurt by the unusually warm winter weather.</td></tr>\n",
       "<tr><td>Kohl’s fell $2.98, or 5.9 percent, to $47.88 and Macy’s lost $1, or 2.7 percent, to $35.89.</td><td>Kohl’s fell $2.98, or 5.9 percent, to $47.88 and Macy’s lost $1, or 2.7 percent, to $35.89.</td></tr>\n",
       "<tr><td>The Container Store reported a surprise third-quarter loss and disappointing sales, and its stock plunged $2.96, or 41.2 percent, to $4.22.</td><td>The Container Store reported a surprise third-quarter loss and disappointing sales, and its stock plunged $2.96, or 41.2 percent, to $4.22.</td></tr>\n",
       "<tr><td>The company went public in November 2013 with an IPO that priced at $18 per share and it finished its first trading day at $36.20.</td><td>The company went public in November 2013 with an IPO that priced at $18 per share and it finished its first trading day at $36.20.</td></tr>\n",
       "<tr><td>The price of gold fell $9.90, or 0.9 percent, to $1,097.90 an ounce.</td><td>The price of gold fell $9.90, or 0.9 percent, to $1,097.90 an ounce.</td></tr>\n",
       "<tr><td>Silver declined 42.6 cents, or 3 percent, to $13.918 an ounce.</td><td>Silver declined 42.6 cents, or 3 percent, to $13.918 an ounce.</td></tr>\n",
       "<tr><td>Copper was unchanged at $2.022 a pound.</td><td>Copper was unchanged at $2.022 a pound.</td></tr>\n",
       "<tr><td>The euro fell to $1.0903 from $1.0927 and the dollar edged up to 117.67 yen from 117.50 yen late Thursday.</td><td>The euro fell to $1.0903 from $1.0927 and the dollar edged up to 117.67 yen from 117.50 yen late Thursday.</td></tr>\n",
       "<tr><td>Bond prices rose.</td><td>Bond prices rose.</td></tr>\n",
       "<tr><td>The yield on the 10-year Treasury note edged down to 2.12 percent from 2.15 percent.</td><td>The yield on the 10-year Treasury note edged down to 2.12 percent from 2.15 percent.</td></tr>\n",
       "<tr><td></td><td style=\"background-color:rgba(0,255,0,0.3)\">In other energy trading, wholesale gasoline fell 1.8 cents to $1.128 a gallon, heating oil fell 1.4 cents to $1.052 a gallon and natural gas rose 9 cents to $2.472 per 1,000 feet.</td></tr>\n",
       "<tr><td>___</td><td>___</td></tr>\n",
       "<tr><td>_</td><td>_</td></tr>\n",
       "<tr><td>Marley Jay can be reached at http://twitter.com/MarleyJayAP.</td><td>Marley Jay can be reached at http://twitter.com/MarleyJayAP.</td></tr>\n",
       "<tr><td>His work can be found at http://bigstory.ap.org/journalist/marley-jay.</td><td>His work can be found at http://bigstory.ap.org/journalist/marley-jay.</td></tr>\n",
       "<tr><td>Copyright 2016 The Associated Press.</td><td>Copyright 2016 The Associated Press.</td></tr>\n",
       "<tr><td>All rights reserved.</td><td>All rights reserved.</td></tr>\n",
       "<tr><td>This material may not be published, broadcast, rewritten or redistributed.</td><td>This material may not be published, broadcast, rewritten or redistributed.</td></tr>\n",
       "</table>"
      ],
      "text/plain": [
       "<IPython.core.display.HTML object>"
      ]
     },
     "metadata": {},
     "output_type": "display_data"
    }
   ],
   "source": [
    "display(HTML(unp.html_compare_articles(df=doc)))"
   ]
  },
  {
   "cell_type": "code",
   "execution_count": null,
   "metadata": {},
   "outputs": [],
   "source": []
  },
  {
   "cell_type": "code",
   "execution_count": null,
   "metadata": {},
   "outputs": [],
   "source": []
  },
  {
   "cell_type": "code",
   "execution_count": 365,
   "metadata": {},
   "outputs": [],
   "source": []
  },
  {
   "cell_type": "code",
   "execution_count": 371,
   "metadata": {},
   "outputs": [
    {
     "ename": "TypeError",
     "evalue": "string indices must be integers",
     "output_type": "error",
     "traceback": [
      "\u001b[0;31m---------------------------------------------------------------------------\u001b[0m",
      "\u001b[0;31mTypeError\u001b[0m                                 Traceback (most recent call last)",
      "\u001b[0;32m<ipython-input-371-96185fb3b6e6>\u001b[0m in \u001b[0;36m<module>\u001b[0;34m\u001b[0m\n\u001b[0;32m----> 1\u001b[0;31m \u001b[0mdoc\u001b[0m\u001b[0;34m[\u001b[0m\u001b[0;34m[\u001b[0m\u001b[0;34m'sent_old'\u001b[0m\u001b[0;34m,\u001b[0m \u001b[0;34m'sent_new'\u001b[0m\u001b[0;34m]\u001b[0m\u001b[0;34m]\u001b[0m\u001b[0;34m.\u001b[0m\u001b[0mpipe\u001b[0m\u001b[0;34m(\u001b[0m\u001b[0;32mlambda\u001b[0m \u001b[0mdf\u001b[0m\u001b[0;34m:\u001b[0m \u001b[0munp\u001b[0m\u001b[0;34m.\u001b[0m\u001b[0mhtml_compare_articles\u001b[0m\u001b[0;34m(\u001b[0m\u001b[0mdf\u001b[0m\u001b[0;34m[\u001b[0m\u001b[0;34m'sent_old'\u001b[0m\u001b[0;34m]\u001b[0m\u001b[0;34m,\u001b[0m \u001b[0mdf\u001b[0m\u001b[0;34m[\u001b[0m\u001b[0;34m'sent_new'\u001b[0m\u001b[0;34m]\u001b[0m\u001b[0;34m)\u001b[0m\u001b[0;34m)\u001b[0m\u001b[0;34m\u001b[0m\u001b[0;34m\u001b[0m\u001b[0m\n\u001b[0m",
      "\u001b[0;32m~/opt/anaconda3/lib/python3.7/site-packages/pandas/core/generic.py\u001b[0m in \u001b[0;36mpipe\u001b[0;34m(self, func, *args, **kwargs)\u001b[0m\n\u001b[1;32m   5117\u001b[0m     \u001b[0;34m@\u001b[0m\u001b[0mAppender\u001b[0m\u001b[0;34m(\u001b[0m\u001b[0m_shared_docs\u001b[0m\u001b[0;34m[\u001b[0m\u001b[0;34m\"pipe\"\u001b[0m\u001b[0;34m]\u001b[0m \u001b[0;34m%\u001b[0m \u001b[0m_shared_doc_kwargs\u001b[0m\u001b[0;34m)\u001b[0m\u001b[0;34m\u001b[0m\u001b[0;34m\u001b[0m\u001b[0m\n\u001b[1;32m   5118\u001b[0m     \u001b[0;32mdef\u001b[0m \u001b[0mpipe\u001b[0m\u001b[0;34m(\u001b[0m\u001b[0mself\u001b[0m\u001b[0;34m,\u001b[0m \u001b[0mfunc\u001b[0m\u001b[0;34m,\u001b[0m \u001b[0;34m*\u001b[0m\u001b[0margs\u001b[0m\u001b[0;34m,\u001b[0m \u001b[0;34m**\u001b[0m\u001b[0mkwargs\u001b[0m\u001b[0;34m)\u001b[0m\u001b[0;34m:\u001b[0m\u001b[0;34m\u001b[0m\u001b[0;34m\u001b[0m\u001b[0m\n\u001b[0;32m-> 5119\u001b[0;31m         \u001b[0;32mreturn\u001b[0m \u001b[0mcom\u001b[0m\u001b[0;34m.\u001b[0m\u001b[0mpipe\u001b[0m\u001b[0;34m(\u001b[0m\u001b[0mself\u001b[0m\u001b[0;34m,\u001b[0m \u001b[0mfunc\u001b[0m\u001b[0;34m,\u001b[0m \u001b[0;34m*\u001b[0m\u001b[0margs\u001b[0m\u001b[0;34m,\u001b[0m \u001b[0;34m**\u001b[0m\u001b[0mkwargs\u001b[0m\u001b[0;34m)\u001b[0m\u001b[0;34m\u001b[0m\u001b[0;34m\u001b[0m\u001b[0m\n\u001b[0m\u001b[1;32m   5120\u001b[0m \u001b[0;34m\u001b[0m\u001b[0m\n\u001b[1;32m   5121\u001b[0m     _shared_docs[\"aggregate\"] = dedent(\n",
      "\u001b[0;32m~/opt/anaconda3/lib/python3.7/site-packages/pandas/core/common.py\u001b[0m in \u001b[0;36mpipe\u001b[0;34m(obj, func, *args, **kwargs)\u001b[0m\n\u001b[1;32m    464\u001b[0m         \u001b[0;32mreturn\u001b[0m \u001b[0mfunc\u001b[0m\u001b[0;34m(\u001b[0m\u001b[0;34m*\u001b[0m\u001b[0margs\u001b[0m\u001b[0;34m,\u001b[0m \u001b[0;34m**\u001b[0m\u001b[0mkwargs\u001b[0m\u001b[0;34m)\u001b[0m\u001b[0;34m\u001b[0m\u001b[0;34m\u001b[0m\u001b[0m\n\u001b[1;32m    465\u001b[0m     \u001b[0;32melse\u001b[0m\u001b[0;34m:\u001b[0m\u001b[0;34m\u001b[0m\u001b[0;34m\u001b[0m\u001b[0m\n\u001b[0;32m--> 466\u001b[0;31m         \u001b[0;32mreturn\u001b[0m \u001b[0mfunc\u001b[0m\u001b[0;34m(\u001b[0m\u001b[0mobj\u001b[0m\u001b[0;34m,\u001b[0m \u001b[0;34m*\u001b[0m\u001b[0margs\u001b[0m\u001b[0;34m,\u001b[0m \u001b[0;34m**\u001b[0m\u001b[0mkwargs\u001b[0m\u001b[0;34m)\u001b[0m\u001b[0;34m\u001b[0m\u001b[0;34m\u001b[0m\u001b[0m\n\u001b[0m\u001b[1;32m    467\u001b[0m \u001b[0;34m\u001b[0m\u001b[0m\n\u001b[1;32m    468\u001b[0m \u001b[0;34m\u001b[0m\u001b[0m\n",
      "\u001b[0;32m<ipython-input-371-96185fb3b6e6>\u001b[0m in \u001b[0;36m<lambda>\u001b[0;34m(df)\u001b[0m\n\u001b[0;32m----> 1\u001b[0;31m \u001b[0mdoc\u001b[0m\u001b[0;34m[\u001b[0m\u001b[0;34m[\u001b[0m\u001b[0;34m'sent_old'\u001b[0m\u001b[0;34m,\u001b[0m \u001b[0;34m'sent_new'\u001b[0m\u001b[0;34m]\u001b[0m\u001b[0;34m]\u001b[0m\u001b[0;34m.\u001b[0m\u001b[0mpipe\u001b[0m\u001b[0;34m(\u001b[0m\u001b[0;32mlambda\u001b[0m \u001b[0mdf\u001b[0m\u001b[0;34m:\u001b[0m \u001b[0munp\u001b[0m\u001b[0;34m.\u001b[0m\u001b[0mhtml_compare_articles\u001b[0m\u001b[0;34m(\u001b[0m\u001b[0mdf\u001b[0m\u001b[0;34m[\u001b[0m\u001b[0;34m'sent_old'\u001b[0m\u001b[0;34m]\u001b[0m\u001b[0;34m,\u001b[0m \u001b[0mdf\u001b[0m\u001b[0;34m[\u001b[0m\u001b[0;34m'sent_new'\u001b[0m\u001b[0;34m]\u001b[0m\u001b[0;34m)\u001b[0m\u001b[0;34m)\u001b[0m\u001b[0;34m\u001b[0m\u001b[0;34m\u001b[0m\u001b[0m\n\u001b[0m",
      "\u001b[0;32m~/Projects/usc-research/edit-pathways/util/util_newssniffer_parsing.py\u001b[0m in \u001b[0;36mhtml_compare_articles\u001b[0;34m(vars_old, vars_new)\u001b[0m\n\u001b[1;32m    651\u001b[0m         \u001b[0;34m'<tr><th>Old Version</th><th>New Version</th></tr>'\u001b[0m\u001b[0;34m\u001b[0m\u001b[0;34m\u001b[0m\u001b[0m\n\u001b[1;32m    652\u001b[0m     ]\n\u001b[0;32m--> 653\u001b[0;31m \u001b[0;34m\u001b[0m\u001b[0m\n\u001b[0m\u001b[1;32m    654\u001b[0m     \u001b[0;32mfor\u001b[0m \u001b[0ms_old\u001b[0m\u001b[0;34m,\u001b[0m \u001b[0ms_new\u001b[0m \u001b[0;32min\u001b[0m \u001b[0mzip\u001b[0m\u001b[0;34m(\u001b[0m\u001b[0mvars_old\u001b[0m\u001b[0;34m,\u001b[0m \u001b[0mvars_new\u001b[0m\u001b[0;34m)\u001b[0m\u001b[0;34m:\u001b[0m\u001b[0;34m\u001b[0m\u001b[0;34m\u001b[0m\u001b[0m\n\u001b[1;32m    655\u001b[0m         \u001b[0mrow\u001b[0m \u001b[0;34m=\u001b[0m \u001b[0;34m'<tr>'\u001b[0m\u001b[0;34m\u001b[0m\u001b[0;34m\u001b[0m\u001b[0m\n",
      "\u001b[0;31mTypeError\u001b[0m: string indices must be integers"
     ]
    }
   ],
   "source": [
    "doc[['sent_old', 'sent_new']].pipe(lambda df: unp.html_compare_articles(df['sent_old'], df['sent_new']))"
   ]
  },
  {
   "cell_type": "code",
   "execution_count": null,
   "metadata": {},
   "outputs": [],
   "source": []
  },
  {
   "cell_type": "code",
   "execution_count": null,
   "metadata": {},
   "outputs": [],
   "source": []
  },
  {
   "cell_type": "code",
   "execution_count": null,
   "metadata": {},
   "outputs": [],
   "source": []
  },
  {
   "cell_type": "code",
   "execution_count": null,
   "metadata": {},
   "outputs": [],
   "source": []
  },
  {
   "cell_type": "code",
   "execution_count": null,
   "metadata": {},
   "outputs": [],
   "source": []
  },
  {
   "cell_type": "code",
   "execution_count": null,
   "metadata": {},
   "outputs": [],
   "source": []
  },
  {
   "cell_type": "code",
   "execution_count": 156,
   "metadata": {},
   "outputs": [
    {
     "data": {
      "text/plain": [
       "<matplotlib.axes._subplots.AxesSubplot at 0x7fd2ad7ee810>"
      ]
     },
     "execution_count": 156,
     "metadata": {},
     "output_type": "execute_result"
    },
    {
     "data": {
      "image/png": "[encoded data removed]",
      "text/plain": [
       "<Figure size 432x288 with 1 Axes>"
      ]
     },
     "metadata": {
      "needs_background": "light"
     },
     "output_type": "display_data"
    }
   ],
   "source": [
    "(sentence_stats_df\n",
    " .loc[lambda df: df['source'] == 'reuters']\n",
    " .pipe(lambda df: df['num_added_sents'] / df['len_new_doc'])\n",
    " .hist(bins=100)\n",
    ")"
   ]
  },
  {
   "cell_type": "code",
   "execution_count": null,
   "metadata": {},
   "outputs": [],
   "source": []
  },
  {
   "cell_type": "code",
   "execution_count": null,
   "metadata": {},
   "outputs": [],
   "source": []
  },
  {
   "cell_type": "code",
   "execution_count": null,
   "metadata": {},
   "outputs": [],
   "source": []
  },
  {
   "cell_type": "code",
   "execution_count": null,
   "metadata": {},
   "outputs": [],
   "source": []
  },
  {
   "cell_type": "code",
   "execution_count": null,
   "metadata": {},
   "outputs": [],
   "source": []
  },
  {
   "cell_type": "code",
   "execution_count": null,
   "metadata": {},
   "outputs": [],
   "source": []
  },
  {
   "cell_type": "code",
   "execution_count": null,
   "metadata": {},
   "outputs": [],
   "source": []
  },
  {
   "cell_type": "code",
   "execution_count": null,
   "metadata": {},
   "outputs": [],
   "source": []
  },
  {
   "cell_type": "code",
   "execution_count": null,
   "metadata": {},
   "outputs": [],
   "source": []
  },
  {
   "cell_type": "code",
   "execution_count": 13,
   "metadata": {},
   "outputs": [],
   "source": [
    "q = client.query(kind=t).add_filter('source', '=', 'bbc-1')"
   ]
  },
  {
   "cell_type": "code",
   "execution_count": 14,
   "metadata": {},
   "outputs": [],
   "source": [
    "r = list(q.fetch())"
   ]
  },
  {
   "cell_type": "code",
   "execution_count": 15,
   "metadata": {
    "scrolled": true
   },
   "outputs": [
    {
     "data": {
      "text/html": [
       "<div>\n",
       "<style scoped>\n",
       "    .dataframe tbody tr th:only-of-type {\n",
       "        vertical-align: middle;\n",
       "    }\n",
       "\n",
       "    .dataframe tbody tr th {\n",
       "        vertical-align: top;\n",
       "    }\n",
       "\n",
       "    .dataframe thead th {\n",
       "        text-align: right;\n",
       "    }\n",
       "</style>\n",
       "<table border=\"1\" class=\"dataframe\">\n",
       "  <thead>\n",
       "    <tr style=\"text-align: right;\">\n",
       "      <th></th>\n",
       "      <th>len_old_doc</th>\n",
       "      <th>num_changed_sents</th>\n",
       "      <th>source</th>\n",
       "      <th>num_removed_sents</th>\n",
       "      <th>len_new_doc</th>\n",
       "      <th>version_new</th>\n",
       "      <th>num_added_sents</th>\n",
       "      <th>a_id</th>\n",
       "      <th>version_old</th>\n",
       "    </tr>\n",
       "  </thead>\n",
       "  <tbody>\n",
       "    <tr>\n",
       "      <th>0</th>\n",
       "      <td>38</td>\n",
       "      <td>2</td>\n",
       "      <td>bbc-1</td>\n",
       "      <td>1</td>\n",
       "      <td>40</td>\n",
       "      <td>1.0</td>\n",
       "      <td>3</td>\n",
       "      <td>1</td>\n",
       "      <td>0.0</td>\n",
       "    </tr>\n",
       "    <tr>\n",
       "      <th>1</th>\n",
       "      <td>40</td>\n",
       "      <td>3</td>\n",
       "      <td>bbc-1</td>\n",
       "      <td>0</td>\n",
       "      <td>51</td>\n",
       "      <td>2.0</td>\n",
       "      <td>11</td>\n",
       "      <td>1</td>\n",
       "      <td>1.0</td>\n",
       "    </tr>\n",
       "    <tr>\n",
       "      <th>2</th>\n",
       "      <td>53</td>\n",
       "      <td>1</td>\n",
       "      <td>bbc-1</td>\n",
       "      <td>0</td>\n",
       "      <td>53</td>\n",
       "      <td>3.0</td>\n",
       "      <td>0</td>\n",
       "      <td>1</td>\n",
       "      <td>2.0</td>\n",
       "    </tr>\n",
       "    <tr>\n",
       "      <th>3</th>\n",
       "      <td>53</td>\n",
       "      <td>4</td>\n",
       "      <td>bbc-1</td>\n",
       "      <td>3</td>\n",
       "      <td>55</td>\n",
       "      <td>4.0</td>\n",
       "      <td>5</td>\n",
       "      <td>1</td>\n",
       "      <td>3.0</td>\n",
       "    </tr>\n",
       "    <tr>\n",
       "      <th>4</th>\n",
       "      <td>55</td>\n",
       "      <td>5</td>\n",
       "      <td>bbc-1</td>\n",
       "      <td>3</td>\n",
       "      <td>55</td>\n",
       "      <td>5.0</td>\n",
       "      <td>3</td>\n",
       "      <td>1</td>\n",
       "      <td>4.0</td>\n",
       "    </tr>\n",
       "    <tr>\n",
       "      <th>5</th>\n",
       "      <td>55</td>\n",
       "      <td>3</td>\n",
       "      <td>bbc-1</td>\n",
       "      <td>0</td>\n",
       "      <td>68</td>\n",
       "      <td>6.0</td>\n",
       "      <td>13</td>\n",
       "      <td>1</td>\n",
       "      <td>5.0</td>\n",
       "    </tr>\n",
       "    <tr>\n",
       "      <th>6</th>\n",
       "      <td>60</td>\n",
       "      <td>19</td>\n",
       "      <td>bbc-1</td>\n",
       "      <td>23</td>\n",
       "      <td>51</td>\n",
       "      <td>7.0</td>\n",
       "      <td>14</td>\n",
       "      <td>1</td>\n",
       "      <td>6.0</td>\n",
       "    </tr>\n",
       "    <tr>\n",
       "      <th>7</th>\n",
       "      <td>46</td>\n",
       "      <td>9</td>\n",
       "      <td>bbc-1</td>\n",
       "      <td>0</td>\n",
       "      <td>46</td>\n",
       "      <td>8.0</td>\n",
       "      <td>0</td>\n",
       "      <td>1</td>\n",
       "      <td>7.0</td>\n",
       "    </tr>\n",
       "    <tr>\n",
       "      <th>8</th>\n",
       "      <td>20</td>\n",
       "      <td>4</td>\n",
       "      <td>bbc-1</td>\n",
       "      <td>6</td>\n",
       "      <td>20</td>\n",
       "      <td>1.0</td>\n",
       "      <td>6</td>\n",
       "      <td>11</td>\n",
       "      <td>0.0</td>\n",
       "    </tr>\n",
       "    <tr>\n",
       "      <th>9</th>\n",
       "      <td>52</td>\n",
       "      <td>10</td>\n",
       "      <td>bbc-1</td>\n",
       "      <td>1</td>\n",
       "      <td>51</td>\n",
       "      <td>1.0</td>\n",
       "      <td>0</td>\n",
       "      <td>11772</td>\n",
       "      <td>0.0</td>\n",
       "    </tr>\n",
       "    <tr>\n",
       "      <th>10</th>\n",
       "      <td>3</td>\n",
       "      <td>1</td>\n",
       "      <td>bbc-1</td>\n",
       "      <td>0</td>\n",
       "      <td>3</td>\n",
       "      <td>1.0</td>\n",
       "      <td>0</td>\n",
       "      <td>14</td>\n",
       "      <td>0.0</td>\n",
       "    </tr>\n",
       "    <tr>\n",
       "      <th>11</th>\n",
       "      <td>2</td>\n",
       "      <td>1</td>\n",
       "      <td>bbc-1</td>\n",
       "      <td>0</td>\n",
       "      <td>2</td>\n",
       "      <td>1.0</td>\n",
       "      <td>0</td>\n",
       "      <td>15</td>\n",
       "      <td>0.0</td>\n",
       "    </tr>\n",
       "    <tr>\n",
       "      <th>12</th>\n",
       "      <td>2</td>\n",
       "      <td>0</td>\n",
       "      <td>bbc-1</td>\n",
       "      <td>2</td>\n",
       "      <td>0</td>\n",
       "      <td>2.0</td>\n",
       "      <td>0</td>\n",
       "      <td>15</td>\n",
       "      <td>1.0</td>\n",
       "    </tr>\n",
       "    <tr>\n",
       "      <th>13</th>\n",
       "      <td>4</td>\n",
       "      <td>1</td>\n",
       "      <td>bbc-1</td>\n",
       "      <td>0</td>\n",
       "      <td>5</td>\n",
       "      <td>1.0</td>\n",
       "      <td>1</td>\n",
       "      <td>16</td>\n",
       "      <td>0.0</td>\n",
       "    </tr>\n",
       "    <tr>\n",
       "      <th>14</th>\n",
       "      <td>5</td>\n",
       "      <td>0</td>\n",
       "      <td>bbc-1</td>\n",
       "      <td>5</td>\n",
       "      <td>0</td>\n",
       "      <td>2.0</td>\n",
       "      <td>0</td>\n",
       "      <td>16</td>\n",
       "      <td>1.0</td>\n",
       "    </tr>\n",
       "    <tr>\n",
       "      <th>15</th>\n",
       "      <td>1</td>\n",
       "      <td>1</td>\n",
       "      <td>bbc-1</td>\n",
       "      <td>0</td>\n",
       "      <td>1</td>\n",
       "      <td>1.0</td>\n",
       "      <td>0</td>\n",
       "      <td>17</td>\n",
       "      <td>0.0</td>\n",
       "    </tr>\n",
       "    <tr>\n",
       "      <th>16</th>\n",
       "      <td>1</td>\n",
       "      <td>0</td>\n",
       "      <td>bbc-1</td>\n",
       "      <td>1</td>\n",
       "      <td>0</td>\n",
       "      <td>2.0</td>\n",
       "      <td>0</td>\n",
       "      <td>17</td>\n",
       "      <td>1.0</td>\n",
       "    </tr>\n",
       "    <tr>\n",
       "      <th>17</th>\n",
       "      <td>4</td>\n",
       "      <td>1</td>\n",
       "      <td>bbc-1</td>\n",
       "      <td>0</td>\n",
       "      <td>4</td>\n",
       "      <td>1.0</td>\n",
       "      <td>0</td>\n",
       "      <td>18</td>\n",
       "      <td>0.0</td>\n",
       "    </tr>\n",
       "    <tr>\n",
       "      <th>18</th>\n",
       "      <td>5</td>\n",
       "      <td>0</td>\n",
       "      <td>bbc-1</td>\n",
       "      <td>5</td>\n",
       "      <td>0</td>\n",
       "      <td>2.0</td>\n",
       "      <td>0</td>\n",
       "      <td>18</td>\n",
       "      <td>1.0</td>\n",
       "    </tr>\n",
       "    <tr>\n",
       "      <th>19</th>\n",
       "      <td>4</td>\n",
       "      <td>1</td>\n",
       "      <td>bbc-1</td>\n",
       "      <td>0</td>\n",
       "      <td>4</td>\n",
       "      <td>1.0</td>\n",
       "      <td>0</td>\n",
       "      <td>19</td>\n",
       "      <td>0.0</td>\n",
       "    </tr>\n",
       "    <tr>\n",
       "      <th>20</th>\n",
       "      <td>4</td>\n",
       "      <td>0</td>\n",
       "      <td>bbc-1</td>\n",
       "      <td>4</td>\n",
       "      <td>0</td>\n",
       "      <td>2.0</td>\n",
       "      <td>0</td>\n",
       "      <td>19</td>\n",
       "      <td>1.0</td>\n",
       "    </tr>\n",
       "    <tr>\n",
       "      <th>21</th>\n",
       "      <td>9</td>\n",
       "      <td>2</td>\n",
       "      <td>bbc-1</td>\n",
       "      <td>0</td>\n",
       "      <td>16</td>\n",
       "      <td>1.0</td>\n",
       "      <td>7</td>\n",
       "      <td>2</td>\n",
       "      <td>0.0</td>\n",
       "    </tr>\n",
       "    <tr>\n",
       "      <th>22</th>\n",
       "      <td>16</td>\n",
       "      <td>3</td>\n",
       "      <td>bbc-1</td>\n",
       "      <td>0</td>\n",
       "      <td>18</td>\n",
       "      <td>2.0</td>\n",
       "      <td>2</td>\n",
       "      <td>2</td>\n",
       "      <td>1.0</td>\n",
       "    </tr>\n",
       "    <tr>\n",
       "      <th>23</th>\n",
       "      <td>18</td>\n",
       "      <td>4</td>\n",
       "      <td>bbc-1</td>\n",
       "      <td>0</td>\n",
       "      <td>27</td>\n",
       "      <td>3.0</td>\n",
       "      <td>9</td>\n",
       "      <td>2</td>\n",
       "      <td>2.0</td>\n",
       "    </tr>\n",
       "    <tr>\n",
       "      <th>24</th>\n",
       "      <td>29</td>\n",
       "      <td>5</td>\n",
       "      <td>bbc-1</td>\n",
       "      <td>0</td>\n",
       "      <td>30</td>\n",
       "      <td>4.0</td>\n",
       "      <td>1</td>\n",
       "      <td>2</td>\n",
       "      <td>3.0</td>\n",
       "    </tr>\n",
       "    <tr>\n",
       "      <th>25</th>\n",
       "      <td>28</td>\n",
       "      <td>5</td>\n",
       "      <td>bbc-1</td>\n",
       "      <td>4</td>\n",
       "      <td>34</td>\n",
       "      <td>5.0</td>\n",
       "      <td>10</td>\n",
       "      <td>2</td>\n",
       "      <td>4.0</td>\n",
       "    </tr>\n",
       "    <tr>\n",
       "      <th>26</th>\n",
       "      <td>33</td>\n",
       "      <td>10</td>\n",
       "      <td>bbc-1</td>\n",
       "      <td>6</td>\n",
       "      <td>42</td>\n",
       "      <td>6.0</td>\n",
       "      <td>16</td>\n",
       "      <td>2</td>\n",
       "      <td>5.0</td>\n",
       "    </tr>\n",
       "    <tr>\n",
       "      <th>27</th>\n",
       "      <td>45</td>\n",
       "      <td>1</td>\n",
       "      <td>bbc-1</td>\n",
       "      <td>1</td>\n",
       "      <td>45</td>\n",
       "      <td>7.0</td>\n",
       "      <td>1</td>\n",
       "      <td>2</td>\n",
       "      <td>6.0</td>\n",
       "    </tr>\n",
       "    <tr>\n",
       "      <th>28</th>\n",
       "      <td>45</td>\n",
       "      <td>0</td>\n",
       "      <td>bbc-1</td>\n",
       "      <td>0</td>\n",
       "      <td>45</td>\n",
       "      <td>8.0</td>\n",
       "      <td>0</td>\n",
       "      <td>2</td>\n",
       "      <td>7.0</td>\n",
       "    </tr>\n",
       "    <tr>\n",
       "      <th>29</th>\n",
       "      <td>40</td>\n",
       "      <td>8</td>\n",
       "      <td>bbc-1</td>\n",
       "      <td>7</td>\n",
       "      <td>33</td>\n",
       "      <td>9.0</td>\n",
       "      <td>0</td>\n",
       "      <td>2</td>\n",
       "      <td>8.0</td>\n",
       "    </tr>\n",
       "    <tr>\n",
       "      <th>30</th>\n",
       "      <td>31</td>\n",
       "      <td>5</td>\n",
       "      <td>bbc-1</td>\n",
       "      <td>0</td>\n",
       "      <td>31</td>\n",
       "      <td>10.0</td>\n",
       "      <td>0</td>\n",
       "      <td>2</td>\n",
       "      <td>9.0</td>\n",
       "    </tr>\n",
       "    <tr>\n",
       "      <th>31</th>\n",
       "      <td>54</td>\n",
       "      <td>1</td>\n",
       "      <td>bbc-1</td>\n",
       "      <td>0</td>\n",
       "      <td>54</td>\n",
       "      <td>1.0</td>\n",
       "      <td>0</td>\n",
       "      <td>3</td>\n",
       "      <td>0.0</td>\n",
       "    </tr>\n",
       "    <tr>\n",
       "      <th>32</th>\n",
       "      <td>53</td>\n",
       "      <td>1</td>\n",
       "      <td>bbc-1</td>\n",
       "      <td>0</td>\n",
       "      <td>53</td>\n",
       "      <td>2.0</td>\n",
       "      <td>0</td>\n",
       "      <td>3</td>\n",
       "      <td>1.0</td>\n",
       "    </tr>\n",
       "    <tr>\n",
       "      <th>33</th>\n",
       "      <td>52</td>\n",
       "      <td>3</td>\n",
       "      <td>bbc-1</td>\n",
       "      <td>0</td>\n",
       "      <td>52</td>\n",
       "      <td>3.0</td>\n",
       "      <td>0</td>\n",
       "      <td>3</td>\n",
       "      <td>2.0</td>\n",
       "    </tr>\n",
       "    <tr>\n",
       "      <th>34</th>\n",
       "      <td>52</td>\n",
       "      <td>4</td>\n",
       "      <td>bbc-1</td>\n",
       "      <td>0</td>\n",
       "      <td>52</td>\n",
       "      <td>1.0</td>\n",
       "      <td>0</td>\n",
       "      <td>4</td>\n",
       "      <td>0.0</td>\n",
       "    </tr>\n",
       "    <tr>\n",
       "      <th>35</th>\n",
       "      <td>52</td>\n",
       "      <td>3</td>\n",
       "      <td>bbc-1</td>\n",
       "      <td>1</td>\n",
       "      <td>56</td>\n",
       "      <td>2.0</td>\n",
       "      <td>5</td>\n",
       "      <td>4</td>\n",
       "      <td>1.0</td>\n",
       "    </tr>\n",
       "    <tr>\n",
       "      <th>36</th>\n",
       "      <td>56</td>\n",
       "      <td>1</td>\n",
       "      <td>bbc-1</td>\n",
       "      <td>0</td>\n",
       "      <td>62</td>\n",
       "      <td>3.0</td>\n",
       "      <td>6</td>\n",
       "      <td>4</td>\n",
       "      <td>2.0</td>\n",
       "    </tr>\n",
       "    <tr>\n",
       "      <th>37</th>\n",
       "      <td>64</td>\n",
       "      <td>3</td>\n",
       "      <td>bbc-1</td>\n",
       "      <td>2</td>\n",
       "      <td>66</td>\n",
       "      <td>4.0</td>\n",
       "      <td>4</td>\n",
       "      <td>4</td>\n",
       "      <td>3.0</td>\n",
       "    </tr>\n",
       "    <tr>\n",
       "      <th>38</th>\n",
       "      <td>61</td>\n",
       "      <td>7</td>\n",
       "      <td>bbc-1</td>\n",
       "      <td>3</td>\n",
       "      <td>58</td>\n",
       "      <td>5.0</td>\n",
       "      <td>0</td>\n",
       "      <td>4</td>\n",
       "      <td>4.0</td>\n",
       "    </tr>\n",
       "    <tr>\n",
       "      <th>39</th>\n",
       "      <td>59</td>\n",
       "      <td>5</td>\n",
       "      <td>bbc-1</td>\n",
       "      <td>0</td>\n",
       "      <td>63</td>\n",
       "      <td>6.0</td>\n",
       "      <td>5</td>\n",
       "      <td>4</td>\n",
       "      <td>5.0</td>\n",
       "    </tr>\n",
       "    <tr>\n",
       "      <th>40</th>\n",
       "      <td>65</td>\n",
       "      <td>6</td>\n",
       "      <td>bbc-1</td>\n",
       "      <td>0</td>\n",
       "      <td>65</td>\n",
       "      <td>7.0</td>\n",
       "      <td>0</td>\n",
       "      <td>4</td>\n",
       "      <td>6.0</td>\n",
       "    </tr>\n",
       "    <tr>\n",
       "      <th>41</th>\n",
       "      <td>2</td>\n",
       "      <td>1</td>\n",
       "      <td>bbc-1</td>\n",
       "      <td>1</td>\n",
       "      <td>1</td>\n",
       "      <td>1.0</td>\n",
       "      <td>0</td>\n",
       "      <td>5</td>\n",
       "      <td>0.0</td>\n",
       "    </tr>\n",
       "    <tr>\n",
       "      <th>42</th>\n",
       "      <td>1</td>\n",
       "      <td>1</td>\n",
       "      <td>bbc-1</td>\n",
       "      <td>0</td>\n",
       "      <td>1</td>\n",
       "      <td>2.0</td>\n",
       "      <td>0</td>\n",
       "      <td>5</td>\n",
       "      <td>1.0</td>\n",
       "    </tr>\n",
       "    <tr>\n",
       "      <th>43</th>\n",
       "      <td>39</td>\n",
       "      <td>1</td>\n",
       "      <td>bbc-1</td>\n",
       "      <td>0</td>\n",
       "      <td>39</td>\n",
       "      <td>1.0</td>\n",
       "      <td>0</td>\n",
       "      <td>6</td>\n",
       "      <td>0.0</td>\n",
       "    </tr>\n",
       "    <tr>\n",
       "      <th>44</th>\n",
       "      <td>39</td>\n",
       "      <td>1</td>\n",
       "      <td>bbc-1</td>\n",
       "      <td>0</td>\n",
       "      <td>39</td>\n",
       "      <td>2.0</td>\n",
       "      <td>0</td>\n",
       "      <td>6</td>\n",
       "      <td>1.0</td>\n",
       "    </tr>\n",
       "    <tr>\n",
       "      <th>45</th>\n",
       "      <td>29</td>\n",
       "      <td>4</td>\n",
       "      <td>bbc-1</td>\n",
       "      <td>0</td>\n",
       "      <td>29</td>\n",
       "      <td>1.0</td>\n",
       "      <td>0</td>\n",
       "      <td>7</td>\n",
       "      <td>0.0</td>\n",
       "    </tr>\n",
       "    <tr>\n",
       "      <th>46</th>\n",
       "      <td>27</td>\n",
       "      <td>4</td>\n",
       "      <td>bbc-1</td>\n",
       "      <td>0</td>\n",
       "      <td>27</td>\n",
       "      <td>2.0</td>\n",
       "      <td>0</td>\n",
       "      <td>7</td>\n",
       "      <td>1.0</td>\n",
       "    </tr>\n",
       "    <tr>\n",
       "      <th>47</th>\n",
       "      <td>39</td>\n",
       "      <td>2</td>\n",
       "      <td>bbc-1</td>\n",
       "      <td>0</td>\n",
       "      <td>39</td>\n",
       "      <td>1.0</td>\n",
       "      <td>0</td>\n",
       "      <td>8</td>\n",
       "      <td>0.0</td>\n",
       "    </tr>\n",
       "    <tr>\n",
       "      <th>48</th>\n",
       "      <td>39</td>\n",
       "      <td>1</td>\n",
       "      <td>bbc-1</td>\n",
       "      <td>0</td>\n",
       "      <td>39</td>\n",
       "      <td>2.0</td>\n",
       "      <td>0</td>\n",
       "      <td>8</td>\n",
       "      <td>1.0</td>\n",
       "    </tr>\n",
       "    <tr>\n",
       "      <th>49</th>\n",
       "      <td>3</td>\n",
       "      <td>1</td>\n",
       "      <td>bbc-1</td>\n",
       "      <td>0</td>\n",
       "      <td>3</td>\n",
       "      <td>1.0</td>\n",
       "      <td>0</td>\n",
       "      <td>82</td>\n",
       "      <td>0.0</td>\n",
       "    </tr>\n",
       "    <tr>\n",
       "      <th>50</th>\n",
       "      <td>3</td>\n",
       "      <td>1</td>\n",
       "      <td>bbc-1</td>\n",
       "      <td>0</td>\n",
       "      <td>3</td>\n",
       "      <td>2.0</td>\n",
       "      <td>0</td>\n",
       "      <td>82</td>\n",
       "      <td>1.0</td>\n",
       "    </tr>\n",
       "    <tr>\n",
       "      <th>51</th>\n",
       "      <td>10</td>\n",
       "      <td>0</td>\n",
       "      <td>bbc-1</td>\n",
       "      <td>0</td>\n",
       "      <td>11</td>\n",
       "      <td>1.0</td>\n",
       "      <td>1</td>\n",
       "      <td>9</td>\n",
       "      <td>0.0</td>\n",
       "    </tr>\n",
       "    <tr>\n",
       "      <th>52</th>\n",
       "      <td>11</td>\n",
       "      <td>2</td>\n",
       "      <td>bbc-1</td>\n",
       "      <td>0</td>\n",
       "      <td>11</td>\n",
       "      <td>2.0</td>\n",
       "      <td>0</td>\n",
       "      <td>9</td>\n",
       "      <td>1.0</td>\n",
       "    </tr>\n",
       "    <tr>\n",
       "      <th>53</th>\n",
       "      <td>11</td>\n",
       "      <td>4</td>\n",
       "      <td>bbc-1</td>\n",
       "      <td>1</td>\n",
       "      <td>15</td>\n",
       "      <td>3.0</td>\n",
       "      <td>5</td>\n",
       "      <td>9</td>\n",
       "      <td>2.0</td>\n",
       "    </tr>\n",
       "    <tr>\n",
       "      <th>54</th>\n",
       "      <td>14</td>\n",
       "      <td>1</td>\n",
       "      <td>bbc-1</td>\n",
       "      <td>0</td>\n",
       "      <td>15</td>\n",
       "      <td>4.0</td>\n",
       "      <td>1</td>\n",
       "      <td>9</td>\n",
       "      <td>3.0</td>\n",
       "    </tr>\n",
       "    <tr>\n",
       "      <th>55</th>\n",
       "      <td>15</td>\n",
       "      <td>0</td>\n",
       "      <td>bbc-1</td>\n",
       "      <td>0</td>\n",
       "      <td>15</td>\n",
       "      <td>5.0</td>\n",
       "      <td>0</td>\n",
       "      <td>9</td>\n",
       "      <td>4.0</td>\n",
       "    </tr>\n",
       "    <tr>\n",
       "      <th>56</th>\n",
       "      <td>14</td>\n",
       "      <td>3</td>\n",
       "      <td>bbc-1</td>\n",
       "      <td>2</td>\n",
       "      <td>18</td>\n",
       "      <td>6.0</td>\n",
       "      <td>7</td>\n",
       "      <td>9</td>\n",
       "      <td>5.0</td>\n",
       "    </tr>\n",
       "    <tr>\n",
       "      <th>57</th>\n",
       "      <td>15</td>\n",
       "      <td>5</td>\n",
       "      <td>bbc-1</td>\n",
       "      <td>3</td>\n",
       "      <td>15</td>\n",
       "      <td>7.0</td>\n",
       "      <td>2</td>\n",
       "      <td>9</td>\n",
       "      <td>6.0</td>\n",
       "    </tr>\n",
       "    <tr>\n",
       "      <th>58</th>\n",
       "      <td>22</td>\n",
       "      <td>0</td>\n",
       "      <td>bbc-1</td>\n",
       "      <td>0</td>\n",
       "      <td>23</td>\n",
       "      <td>1.0</td>\n",
       "      <td>1</td>\n",
       "      <td>9234</td>\n",
       "      <td>0.0</td>\n",
       "    </tr>\n",
       "  </tbody>\n",
       "</table>\n",
       "</div>"
      ],
      "text/plain": [
       "    len_old_doc  num_changed_sents source  num_removed_sents  len_new_doc  \\\n",
       "0            38                  2  bbc-1                  1           40   \n",
       "1            40                  3  bbc-1                  0           51   \n",
       "2            53                  1  bbc-1                  0           53   \n",
       "3            53                  4  bbc-1                  3           55   \n",
       "4            55                  5  bbc-1                  3           55   \n",
       "5            55                  3  bbc-1                  0           68   \n",
       "6            60                 19  bbc-1                 23           51   \n",
       "7            46                  9  bbc-1                  0           46   \n",
       "8            20                  4  bbc-1                  6           20   \n",
       "9            52                 10  bbc-1                  1           51   \n",
       "10            3                  1  bbc-1                  0            3   \n",
       "11            2                  1  bbc-1                  0            2   \n",
       "12            2                  0  bbc-1                  2            0   \n",
       "13            4                  1  bbc-1                  0            5   \n",
       "14            5                  0  bbc-1                  5            0   \n",
       "15            1                  1  bbc-1                  0            1   \n",
       "16            1                  0  bbc-1                  1            0   \n",
       "17            4                  1  bbc-1                  0            4   \n",
       "18            5                  0  bbc-1                  5            0   \n",
       "19            4                  1  bbc-1                  0            4   \n",
       "20            4                  0  bbc-1                  4            0   \n",
       "21            9                  2  bbc-1                  0           16   \n",
       "22           16                  3  bbc-1                  0           18   \n",
       "23           18                  4  bbc-1                  0           27   \n",
       "24           29                  5  bbc-1                  0           30   \n",
       "25           28                  5  bbc-1                  4           34   \n",
       "26           33                 10  bbc-1                  6           42   \n",
       "27           45                  1  bbc-1                  1           45   \n",
       "28           45                  0  bbc-1                  0           45   \n",
       "29           40                  8  bbc-1                  7           33   \n",
       "30           31                  5  bbc-1                  0           31   \n",
       "31           54                  1  bbc-1                  0           54   \n",
       "32           53                  1  bbc-1                  0           53   \n",
       "33           52                  3  bbc-1                  0           52   \n",
       "34           52                  4  bbc-1                  0           52   \n",
       "35           52                  3  bbc-1                  1           56   \n",
       "36           56                  1  bbc-1                  0           62   \n",
       "37           64                  3  bbc-1                  2           66   \n",
       "38           61                  7  bbc-1                  3           58   \n",
       "39           59                  5  bbc-1                  0           63   \n",
       "40           65                  6  bbc-1                  0           65   \n",
       "41            2                  1  bbc-1                  1            1   \n",
       "42            1                  1  bbc-1                  0            1   \n",
       "43           39                  1  bbc-1                  0           39   \n",
       "44           39                  1  bbc-1                  0           39   \n",
       "45           29                  4  bbc-1                  0           29   \n",
       "46           27                  4  bbc-1                  0           27   \n",
       "47           39                  2  bbc-1                  0           39   \n",
       "48           39                  1  bbc-1                  0           39   \n",
       "49            3                  1  bbc-1                  0            3   \n",
       "50            3                  1  bbc-1                  0            3   \n",
       "51           10                  0  bbc-1                  0           11   \n",
       "52           11                  2  bbc-1                  0           11   \n",
       "53           11                  4  bbc-1                  1           15   \n",
       "54           14                  1  bbc-1                  0           15   \n",
       "55           15                  0  bbc-1                  0           15   \n",
       "56           14                  3  bbc-1                  2           18   \n",
       "57           15                  5  bbc-1                  3           15   \n",
       "58           22                  0  bbc-1                  0           23   \n",
       "\n",
       "    version_new  num_added_sents   a_id  version_old  \n",
       "0           1.0                3      1          0.0  \n",
       "1           2.0               11      1          1.0  \n",
       "2           3.0                0      1          2.0  \n",
       "3           4.0                5      1          3.0  \n",
       "4           5.0                3      1          4.0  \n",
       "5           6.0               13      1          5.0  \n",
       "6           7.0               14      1          6.0  \n",
       "7           8.0                0      1          7.0  \n",
       "8           1.0                6     11          0.0  \n",
       "9           1.0                0  11772          0.0  \n",
       "10          1.0                0     14          0.0  \n",
       "11          1.0                0     15          0.0  \n",
       "12          2.0                0     15          1.0  \n",
       "13          1.0                1     16          0.0  \n",
       "14          2.0                0     16          1.0  \n",
       "15          1.0                0     17          0.0  \n",
       "16          2.0                0     17          1.0  \n",
       "17          1.0                0     18          0.0  \n",
       "18          2.0                0     18          1.0  \n",
       "19          1.0                0     19          0.0  \n",
       "20          2.0                0     19          1.0  \n",
       "21          1.0                7      2          0.0  \n",
       "22          2.0                2      2          1.0  \n",
       "23          3.0                9      2          2.0  \n",
       "24          4.0                1      2          3.0  \n",
       "25          5.0               10      2          4.0  \n",
       "26          6.0               16      2          5.0  \n",
       "27          7.0                1      2          6.0  \n",
       "28          8.0                0      2          7.0  \n",
       "29          9.0                0      2          8.0  \n",
       "30         10.0                0      2          9.0  \n",
       "31          1.0                0      3          0.0  \n",
       "32          2.0                0      3          1.0  \n",
       "33          3.0                0      3          2.0  \n",
       "34          1.0                0      4          0.0  \n",
       "35          2.0                5      4          1.0  \n",
       "36          3.0                6      4          2.0  \n",
       "37          4.0                4      4          3.0  \n",
       "38          5.0                0      4          4.0  \n",
       "39          6.0                5      4          5.0  \n",
       "40          7.0                0      4          6.0  \n",
       "41          1.0                0      5          0.0  \n",
       "42          2.0                0      5          1.0  \n",
       "43          1.0                0      6          0.0  \n",
       "44          2.0                0      6          1.0  \n",
       "45          1.0                0      7          0.0  \n",
       "46          2.0                0      7          1.0  \n",
       "47          1.0                0      8          0.0  \n",
       "48          2.0                0      8          1.0  \n",
       "49          1.0                0     82          0.0  \n",
       "50          2.0                0     82          1.0  \n",
       "51          1.0                1      9          0.0  \n",
       "52          2.0                0      9          1.0  \n",
       "53          3.0                5      9          2.0  \n",
       "54          4.0                1      9          3.0  \n",
       "55          5.0                0      9          4.0  \n",
       "56          6.0                7      9          5.0  \n",
       "57          7.0                2      9          6.0  \n",
       "58          1.0                1   9234          0.0  "
      ]
     },
     "execution_count": 15,
     "metadata": {},
     "output_type": "execute_result"
    }
   ],
   "source": [
    "pd.DataFrame(r)"
   ]
  },
  {
   "cell_type": "markdown",
   "metadata": {},
   "source": [
    "# Plot Sentence-Level Statistics"
   ]
  },
  {
   "cell_type": "code",
   "execution_count": null,
   "metadata": {},
   "outputs": [],
   "source": [
    "import sqlite3\n",
    "import pandas as pd \n",
    "import os\n",
    "import glob\n",
    "import matplotlib.pyplot as plt"
   ]
  },
  {
   "cell_type": "code",
   "execution_count": 676,
   "metadata": {},
   "outputs": [
    {
     "data": {
      "text/plain": [
       "[]"
      ]
     },
     "execution_count": 676,
     "metadata": {},
     "output_type": "execute_result"
    },
    {
     "data": {
      "image/png": "[encoded data removed]",
      "text/plain": [
       "<Figure size 432x216 with 1 Axes>"
      ]
     },
     "metadata": {
      "needs_background": "light"
     },
     "output_type": "display_data"
    }
   ],
   "source": [
    "ax = (sentence_stats_df\n",
    " .pipe(lambda df: df['num_added_sents'] / (df['len_new_doc']))\n",
    " .hist(bins=50, figsize=(6, 3))\n",
    ")\n",
    "plt.grid(False)\n",
    "\n",
    "ax.spines['right'].set_visible(False)\n",
    "ax.spines['top'].set_visible(False)\n",
    "plt.ylabel('Count of Versions')\n",
    "plt.xlabel('# new sentences / # total sentences in article$_{t+1}$')\n",
    "plt.semilogy()"
   ]
  },
  {
   "cell_type": "code",
   "execution_count": 712,
   "metadata": {},
   "outputs": [
    {
     "data": {
      "text/plain": [
       "[]"
      ]
     },
     "execution_count": 712,
     "metadata": {},
     "output_type": "execute_result"
    },
    {
     "data": {
      "image/png": "[encoded data removed]",
      "text/plain": [
       "<Figure size 432x216 with 1 Axes>"
      ]
     },
     "metadata": {
      "needs_background": "light"
     },
     "output_type": "display_data"
    }
   ],
   "source": [
    "reut_versions_per_article = pd.read_sql(\n",
    "    'select entry_id, Count(1) from entryversion group by entry_id',\n",
    "    con=conn_dict['reuters']\n",
    ")\n",
    "\n",
    "ax = nyt_versions_per_article['Count(1)'].hist(bins=50, figsize=(6, 3))\n",
    "plt.grid(False)\n",
    "ax.spines['right'].set_visible(False)\n",
    "ax.spines['top'].set_visible(False)\n",
    "plt.ylabel('Count of URLs')\n",
    "plt.xlabel('# Versions')\n",
    "\n",
    "plt.semilogy()"
   ]
  },
  {
   "cell_type": "code",
   "execution_count": null,
   "metadata": {},
   "outputs": [],
   "source": []
  },
  {
   "cell_type": "code",
   "execution_count": null,
   "metadata": {},
   "outputs": [],
   "source": []
  },
  {
   "cell_type": "code",
   "execution_count": null,
   "metadata": {},
   "outputs": [],
   "source": []
  },
  {
   "cell_type": "code",
   "execution_count": null,
   "metadata": {},
   "outputs": [],
   "source": []
  },
  {
   "cell_type": "code",
   "execution_count": null,
   "metadata": {},
   "outputs": [],
   "source": []
  },
  {
   "cell_type": "code",
   "execution_count": null,
   "metadata": {},
   "outputs": [],
   "source": []
  },
  {
   "cell_type": "code",
   "execution_count": null,
   "metadata": {},
   "outputs": [],
   "source": []
  }
 ],
 "metadata": {
  "hide_input": false,
  "kernelspec": {
   "display_name": "Python 3",
   "language": "python",
   "name": "python3"
  },
  "language_info": {
   "codemirror_mode": {
    "name": "ipython",
    "version": 3
   },
   "file_extension": ".py",
   "mimetype": "text/x-python",
   "name": "python",
   "nbconvert_exporter": "python",
   "pygments_lexer": "ipython3",
   "version": "3.7.6"
  }
 },
 "nbformat": 4,
 "nbformat_minor": 4
}
