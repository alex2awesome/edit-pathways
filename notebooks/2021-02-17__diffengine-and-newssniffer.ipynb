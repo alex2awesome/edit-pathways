{
 "cells": [
  {
   "cell_type": "code",
   "execution_count": 5,
   "metadata": {},
   "outputs": [],
   "source": [
    "import os\n",
    "from tqdm.auto import tqdm\n",
    "import sys\n",
    "sys.path.insert(0, '../')\n",
    "import util.util_diffengine_parsing as udp\n",
    "import util.util_newssniffer_parsing as unp\n",
    "import sqlite3\n",
    "import pandas as pd \n",
    "import difflib\n",
    "from IPython.core.display import display, HTML\n",
    "import pickle\n",
    "import matplotlib.pyplot as plt\n",
    "plt.rc('font', size=14)\n",
    "import numpy as np\n",
    "from importlib import reload\n",
    "from matplotlib.ticker import FuncFormatter\n",
    "from matplotlib.ticker import MultipleLocator\n",
    "import seaborn as sns\n",
    "import pycountry"
   ]
  },
  {
   "cell_type": "code",
   "execution_count": 2,
   "metadata": {},
   "outputs": [],
   "source": [
    "if False:\n",
    "    pd.read_sql(\"\"\"\n",
    "        SELECT \n",
    "            name\n",
    "        FROM \n",
    "            sqlite_master \n",
    "        WHERE \n",
    "            type ='table' AND \n",
    "            name NOT LIKE 'sqlite_%';\n",
    "    \"\"\", con=conn_dict[name])\n",
    "\n",
    "to_examine = [\n",
    "    ## diffengine\n",
    "    'dailymail.db',\n",
    "    'ap.db',\n",
    "#     'bbc.db',\n",
    "    'cbc.db',\n",
    "    'fox.db',\n",
    "    'reuters.db',\n",
    "    'cnn.db',\n",
    "    'torontosun.db',\n",
    "#     ## newssniffer\n",
    "    'newssniffer-bbc.db',\n",
    "    'newssniffer-guardian.db',\n",
    "    'newssniffer-independent.db',\n",
    "    'newssniffer-nytimes.db',\n",
    "    'newssniffer-washpo.db',\n",
    "]"
   ]
  },
  {
   "cell_type": "code",
   "execution_count": 3,
   "metadata": {
    "scrolled": true
   },
   "outputs": [
    {
     "data": {
      "application/vnd.jupyter.widget-view+json": {
       "model_id": "11a3f6c680794d44bba8aac661d4593a",
       "version_major": 2,
       "version_minor": 0
      },
      "text/plain": [
       "  0%|          | 0/12 [00:00<?, ?it/s]"
      ]
     },
     "metadata": {},
     "output_type": "display_data"
    },
    {
     "name": "stdout",
     "output_type": "stream",
     "text": [
      "dailymail.db\n",
      "ap.db\n",
      "cbc.db\n",
      "fox.db\n",
      "reuters.db\n",
      "cnn.db\n",
      "torontosun.db\n",
      "newssniffer-bbc.db\n",
      "newssniffer-guardian.db\n",
      "newssniffer-independent.db\n",
      "newssniffer-nytimes.db\n",
      "newssniffer-washpo.db\n"
     ]
    }
   ],
   "source": [
    "db_path = '../data/diffengine-diffs/db/'\n",
    "conn_dict = {}\n",
    "diffs_dict = {}\n",
    "entry_vers_dict = {}\n",
    "for db in tqdm(to_examine):\n",
    "    print(db)\n",
    "    name = db.replace('.db', '')\n",
    "    conn_dict[name] = sqlite3.connect(os.path.join(db_path, db))\n",
    "#     diffs_dict[name] = pd.read_sql('select * from diff', con=conn_dict[name])\n",
    "    entry_vers_dict[name] = pd.read_sql(\"\"\"\n",
    "        SELECT id, title, summary, created, url, entry_id, archive_url, num_versions from entryversion\n",
    "        where num_versions < 30\n",
    "        limit 1000\n",
    "    \"\"\", con=conn_dict[name])"
   ]
  },
  {
   "cell_type": "code",
   "execution_count": 76,
   "metadata": {},
   "outputs": [
    {
     "data": {
      "text/html": [
       "<div>\n",
       "<style scoped>\n",
       "    .dataframe tbody tr th:only-of-type {\n",
       "        vertical-align: middle;\n",
       "    }\n",
       "\n",
       "    .dataframe tbody tr th {\n",
       "        vertical-align: top;\n",
       "    }\n",
       "\n",
       "    .dataframe thead th {\n",
       "        text-align: right;\n",
       "    }\n",
       "</style>\n",
       "<table border=\"1\" class=\"dataframe\">\n",
       "  <thead>\n",
       "    <tr style=\"text-align: right;\">\n",
       "      <th></th>\n",
       "      <th>id</th>\n",
       "      <th>title</th>\n",
       "      <th>summary</th>\n",
       "      <th>created</th>\n",
       "      <th>url</th>\n",
       "      <th>entry_id</th>\n",
       "      <th>archive_url</th>\n",
       "      <th>num_versions</th>\n",
       "    </tr>\n",
       "  </thead>\n",
       "  <tbody>\n",
       "    <tr>\n",
       "      <th>0</th>\n",
       "      <td>1</td>\n",
       "      <td>Supreme Court ruling TUESDAY on if MPs must vo...</td>\n",
       "      <td>&lt;p&gt; The Supreme Court will rule on Tuesday whe...</td>\n",
       "      <td>2017-01-18 15:06:34.200627</td>\n",
       "      <td>http://www.dailymail.co.uk/news/article-413235...</td>\n",
       "      <td>1</td>\n",
       "      <td>https://wayback.archive.org/web/20170118150655...</td>\n",
       "      <td>2</td>\n",
       "    </tr>\n",
       "    <tr>\n",
       "      <th>1</th>\n",
       "      <td>2</td>\n",
       "      <td>Range Rover hit-and-run kills woman near Houns...</td>\n",
       "      <td>&lt;p&gt;The first pictures have emerged of the vict...</td>\n",
       "      <td>2017-01-18 15:06:38.398975</td>\n",
       "      <td>http://www.dailymail.co.uk/news/article-413127...</td>\n",
       "      <td>2</td>\n",
       "      <td>https://wayback.archive.org/web/20170118150658...</td>\n",
       "      <td>3</td>\n",
       "    </tr>\n",
       "  </tbody>\n",
       "</table>\n",
       "</div>"
      ],
      "text/plain": [
       "   id                                              title  \\\n",
       "0   1  Supreme Court ruling TUESDAY on if MPs must vo...   \n",
       "1   2  Range Rover hit-and-run kills woman near Houns...   \n",
       "\n",
       "                                             summary  \\\n",
       "0  <p> The Supreme Court will rule on Tuesday whe...   \n",
       "1  <p>The first pictures have emerged of the vict...   \n",
       "\n",
       "                      created  \\\n",
       "0  2017-01-18 15:06:34.200627   \n",
       "1  2017-01-18 15:06:38.398975   \n",
       "\n",
       "                                                 url  entry_id  \\\n",
       "0  http://www.dailymail.co.uk/news/article-413235...         1   \n",
       "1  http://www.dailymail.co.uk/news/article-413127...         2   \n",
       "\n",
       "                                         archive_url  num_versions  \n",
       "0  https://wayback.archive.org/web/20170118150655...             2  \n",
       "1  https://wayback.archive.org/web/20170118150658...             3  "
      ]
     },
     "execution_count": 76,
     "metadata": {},
     "output_type": "execute_result"
    }
   ],
   "source": [
    "list(entry_vers_dict.values())[0].head(2)"
   ]
  },
  {
   "cell_type": "markdown",
   "metadata": {},
   "source": [
    "# Get Summary Statistics"
   ]
  },
  {
   "cell_type": "markdown",
   "metadata": {},
   "source": [
    "## Number articles/versions per source"
   ]
  },
  {
   "cell_type": "code",
   "execution_count": null,
   "metadata": {},
   "outputs": [],
   "source": [
    "article_counts = {}\n",
    "for n, conn in tqdm(conn_dict.items()):\n",
    "    c = pd.read_sql('select Count(1) from entry', con=conn).iloc[0][0]\n",
    "    article_counts[n] = c\n",
    "\n",
    "version_counts = {}\n",
    "for n, conn in tqdm(conn_dict.items()):\n",
    "    c = pd.read_sql('select Count(1) from entryversion', con=conn).iloc[0][0]\n",
    "    version_counts[n] = c\n",
    "\n",
    "article_counts = pd.Series(article_counts)\n",
    "version_counts = pd.Series(version_counts)"
   ]
  },
  {
   "cell_type": "code",
   "execution_count": 54,
   "metadata": {},
   "outputs": [
    {
     "data": {
      "image/png": "[encoded data removed]",
      "text/plain": [
       "<Figure size 576x216 with 1 Axes>"
      ]
     },
     "metadata": {
      "needs_background": "light"
     },
     "output_type": "display_data"
    }
   ],
   "source": [
    "article_and_version_count_df = pd.concat([\n",
    "    pd.Series(article_counts).to_frame('article_counts'),\n",
    "    pd.Series(version_counts).to_frame('version_counts'),\n",
    "], axis=1)\n",
    "\n",
    "\n",
    "ax = article_and_version_count_df.sort_values('version_counts').iloc[::-1].plot(kind='bar', figsize=(8,3))\n",
    "\n",
    "plt.legend(['Article Counts', 'Version Counts'], frameon=False)\n",
    "ax.spines['top'].set_visible(False)\n",
    "ax.spines['right'].set_visible(False)\n",
    "plt.xticks(rotation=35, horizontalalignment='right')\n",
    "\n",
    "ax.yaxis.set_major_locator(MultipleLocator(250000))\n",
    "ax.yaxis.set_major_formatter(FuncFormatter(lambda x, p: format(int(x), ',')))\n",
    "ax.yaxis.set_minor_locator(MultipleLocator(125000))"
   ]
  },
  {
   "cell_type": "markdown",
   "metadata": {},
   "source": [
    "## Number of versions per article"
   ]
  },
  {
   "cell_type": "code",
   "execution_count": 62,
   "metadata": {},
   "outputs": [
    {
     "data": {
      "application/vnd.jupyter.widget-view+json": {
       "model_id": "e5f651fb2fd845a6954084f594b68d1d",
       "version_major": 2,
       "version_minor": 0
      },
      "text/plain": [
       "  0%|          | 0/7 [00:00<?, ?it/s]"
      ]
     },
     "metadata": {},
     "output_type": "display_data"
    }
   ],
   "source": [
    "all_entry_vs = []\n",
    "for n, conn in tqdm(conn_dict.items()):\n",
    "    entry_vs = pd.read_sql('select count(1) as version_counts from entryversion group by entry_id', con=conn)\n",
    "    entry_vs['source'] = n\n",
    "    all_entry_vs.append(entry_vs)"
   ]
  },
  {
   "cell_type": "code",
   "execution_count": 79,
   "metadata": {},
   "outputs": [],
   "source": [
    "all_entry_vs_df = pd.concat(all_entry_vs)"
   ]
  },
  {
   "cell_type": "code",
   "execution_count": 89,
   "metadata": {},
   "outputs": [],
   "source": [
    "grouped = (\n",
    "    all_entry_vs_df\n",
    "        .groupby('source')\n",
    "        .median()\n",
    "        .sort_values(by='version_counts', ascending=False)\n",
    ")"
   ]
  },
  {
   "cell_type": "code",
   "execution_count": 96,
   "metadata": {},
   "outputs": [
    {
     "data": {
      "text/plain": [
       "Text(0, 0.5, '')"
      ]
     },
     "execution_count": 96,
     "metadata": {},
     "output_type": "execute_result"
    },
    {
     "data": {
      "image/png": "[encoded data removed]",
      "text/plain": [
       "<Figure size 288x576 with 1 Axes>"
      ]
     },
     "metadata": {
      "needs_background": "light"
     },
     "output_type": "display_data"
    }
   ],
   "source": [
    "f, ax = plt.subplots(figsize=(4, 8))\n",
    "\n",
    "ax = sns.boxplot(\n",
    "    data=all_entry_vs_df,# .sort_values('version_counts'),\n",
    "    x='version_counts',\n",
    "    y='source',\n",
    "    showfliers=False,\n",
    "    order=grouped.index,\n",
    "    ax=ax\n",
    ")\n",
    "ax.spines['right'].set_visible(False)\n",
    "ax.spines['top'].set_visible(False)\n",
    "plt.xlabel('Number of Versions per URL')\n",
    "plt.ylabel('')"
   ]
  },
  {
   "cell_type": "markdown",
   "metadata": {},
   "source": [
    "## Collect different diffs and annotate sentence-change/word change statistics"
   ]
  },
  {
   "cell_type": "code",
   "execution_count": 6,
   "metadata": {},
   "outputs": [
    {
     "data": {
      "text/plain": [
       "{'dailymail': <sqlite3.Connection at 0x7fe5bb674110>,\n",
       " 'ap': <sqlite3.Connection at 0x7fe5bbf89730>,\n",
       " 'cbc': <sqlite3.Connection at 0x7fe5bc860810>,\n",
       " 'fox': <sqlite3.Connection at 0x7fe5bc90c9d0>,\n",
       " 'reuters': <sqlite3.Connection at 0x7fe5bca48490>,\n",
       " 'cnn': <sqlite3.Connection at 0x7fe5bcc09810>,\n",
       " 'torontosun': <sqlite3.Connection at 0x7fe5bcc82570>,\n",
       " 'newssniffer-bbc': <sqlite3.Connection at 0x7fe5bcc823b0>,\n",
       " 'newssniffer-guardian': <sqlite3.Connection at 0x7fe5bcc82810>,\n",
       " 'newssniffer-independent': <sqlite3.Connection at 0x7fe5a0c449d0>,\n",
       " 'newssniffer-nytimes': <sqlite3.Connection at 0x7fe5a0f63810>,\n",
       " 'newssniffer-washpo': <sqlite3.Connection at 0x7fe5a28182d0>}"
      ]
     },
     "execution_count": 6,
     "metadata": {},
     "output_type": "execute_result"
    }
   ],
   "source": [
    "conn_dict"
   ]
  },
  {
   "cell_type": "code",
   "execution_count": 7,
   "metadata": {},
   "outputs": [],
   "source": [
    "# for name, conn in conn_dict.items():\n",
    "nyt_conn = sqlite3.connect('../data/diffengine-diffs/db/newssniffer-nytimes.db')\n",
    "sample_nyt_diffs = pd.read_sql(\"\"\"\n",
    "    SELECT * from entryversion \n",
    "    WHERE entry_id IN (SELECT DISTINCT entry_id from entryversion ORDER BY RANDOM() LIMIT 100)\n",
    "\"\"\", con=nyt_conn)"
   ]
  },
  {
   "cell_type": "code",
   "execution_count": 14,
   "metadata": {},
   "outputs": [
    {
     "data": {
      "text/plain": [
       "<module 'util.util_newssniffer_parsing' from '../util/util_newssniffer_parsing.py'>"
      ]
     },
     "execution_count": 14,
     "metadata": {},
     "output_type": "execute_result"
    }
   ],
   "source": [
    "reload(unp)"
   ]
  },
  {
   "cell_type": "code",
   "execution_count": null,
   "metadata": {},
   "outputs": [
    {
     "data": {
      "application/vnd.jupyter.widget-view+json": {
       "model_id": "b631b3cb7ae54a26a5ffe27ff79958cb",
       "version_major": 2,
       "version_minor": 0
      },
      "text/plain": [
       "  0%|          | 0/100 [00:00<?, ?it/s]"
      ]
     },
     "metadata": {},
     "output_type": "display_data"
    }
   ],
   "source": [
    "sentence_stats_df, words_stats_df = unp.get_sentence_diff_stats(\n",
    "    sample_nyt_diffs, \n",
    "    get_word_diff=True, \n",
    "    get_sentence_vars=True\n",
    ")"
   ]
  },
  {
   "cell_type": "code",
   "execution_count": null,
   "metadata": {},
   "outputs": [],
   "source": []
  },
  {
   "cell_type": "code",
   "execution_count": null,
   "metadata": {},
   "outputs": [],
   "source": []
  },
  {
   "cell_type": "code",
   "execution_count": 676,
   "metadata": {},
   "outputs": [
    {
     "data": {
      "text/plain": [
       "[]"
      ]
     },
     "execution_count": 676,
     "metadata": {},
     "output_type": "execute_result"
    },
    {
     "data": {
      "image/png": "[encoded data removed]",
      "text/plain": [
       "<Figure size 432x216 with 1 Axes>"
      ]
     },
     "metadata": {
      "needs_background": "light"
     },
     "output_type": "display_data"
    }
   ],
   "source": [
    "import matplotlib.pyplot as plt\n",
    "ax = (sentence_stats_df\n",
    " .pipe(lambda df: df['num_added_sents'] / (df['len_new_doc']))\n",
    " .hist(bins=50, figsize=(6, 3))\n",
    ")\n",
    "plt.grid(False)\n",
    "\n",
    "ax.spines['right'].set_visible(False)\n",
    "ax.spines['top'].set_visible(False)\n",
    "plt.ylabel('Count of Versions')\n",
    "plt.xlabel('# new sentences / # total sentences in article$_{t+1}$')\n",
    "plt.semilogy()"
   ]
  },
  {
   "cell_type": "code",
   "execution_count": 712,
   "metadata": {},
   "outputs": [
    {
     "data": {
      "text/plain": [
       "[]"
      ]
     },
     "execution_count": 712,
     "metadata": {},
     "output_type": "execute_result"
    },
    {
     "data": {
      "image/png": "[encoded data removed]",
      "text/plain": [
       "<Figure size 432x216 with 1 Axes>"
      ]
     },
     "metadata": {
      "needs_background": "light"
     },
     "output_type": "display_data"
    }
   ],
   "source": [
    "reut_versions_per_article = pd.read_sql('select entry_id, Count(1) from entryversion group by entry_id', con=conn_dict['reuters'])\n",
    "\n",
    "ax = nyt_versions_per_article['Count(1)'].hist(bins=50, figsize=(6, 3))\n",
    "plt.grid(False)\n",
    "ax.spines['right'].set_visible(False)\n",
    "ax.spines['top'].set_visible(False)\n",
    "plt.ylabel('Count of URLs')\n",
    "plt.xlabel('# Versions')\n",
    "\n",
    "plt.semilogy()"
   ]
  },
  {
   "cell_type": "code",
   "execution_count": null,
   "metadata": {},
   "outputs": [],
   "source": []
  },
  {
   "cell_type": "code",
   "execution_count": null,
   "metadata": {},
   "outputs": [],
   "source": []
  }
 ],
 "metadata": {
  "hide_input": false,
  "kernelspec": {
   "display_name": "Python 3",
   "language": "python",
   "name": "python3"
  },
  "language_info": {
   "codemirror_mode": {
    "name": "ipython",
    "version": 3
   },
   "file_extension": ".py",
   "mimetype": "text/x-python",
   "name": "python",
   "nbconvert_exporter": "python",
   "pygments_lexer": "ipython3",
   "version": "3.7.6"
  }
 },
 "nbformat": 4,
 "nbformat_minor": 4
}
