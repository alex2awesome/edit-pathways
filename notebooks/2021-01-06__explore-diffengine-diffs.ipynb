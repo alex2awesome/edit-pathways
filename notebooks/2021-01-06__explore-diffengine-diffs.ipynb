{
 "cells": [
  {
   "cell_type": "code",
   "execution_count": 1,
   "metadata": {
    "hide_input": false
   },
   "outputs": [],
   "source": [
    "import sys\n",
    "sys.path.insert(0, '../')\n",
    "import util.util_diffengine_parsing as p\n",
    "import sqlite3\n",
    "import pandas as pd \n",
    "import difflib\n",
    "from IPython.core.display import display, HTML\n",
    "import pickle\n",
    "import matplotlib.pyplot as plt\n",
    "plt.rc('font', size=14)\n",
    "import numpy as np\n",
    "from importlib import reload"
   ]
  },
  {
   "cell_type": "markdown",
   "metadata": {
    "hide_input": true
   },
   "source": [
    "# Dataset Details"
   ]
  },
  {
   "cell_type": "markdown",
   "metadata": {},
   "source": [
    "https://archive.org/details/diffengine-diffs\n",
    "\n",
    "A dataset of 1,058,329 diffs of web pages from the Associated Press, BBC, Calgary Herald, Canada Land, CBC, CNN, Daily Mail, Fox News, Globe and Mail, La Presse, National Post, Reuters, Telegraph, The Rebel, Toronto Star, Toronto Sun and the White House websites. They were collected with the diffengine application by Ryan Bauman, Nick Ruest and Ed Summers."
   ]
  },
  {
   "cell_type": "code",
   "execution_count": 2,
   "metadata": {
    "hide_input": false
   },
   "outputs": [
    {
     "name": "stdout",
     "output_type": "stream",
     "text": [
      "ap.db             cnn.db            \u001b[31mnationalpost.db\u001b[m\u001b[m*  \u001b[31mtorontosun.db\u001b[m\u001b[m*\r\n",
      "bbc.db            dailymail.db      reuters.db        whitehouse.db\r\n",
      "\u001b[31mcalgaryherald.db\u001b[m\u001b[m* fox.db            telegraph.db\r\n",
      "canadaland.db     \u001b[31mglobemail.db\u001b[m\u001b[m*     \u001b[31mtherebel.db\u001b[m\u001b[m*\r\n",
      "\u001b[31mcbc.db\u001b[m\u001b[m*           \u001b[31mlapresse.db\u001b[m\u001b[m*      \u001b[31mtorontostar.db\u001b[m\u001b[m*\r\n"
     ]
    }
   ],
   "source": [
    "ls ../data/diffengine-diffs/db"
   ]
  },
  {
   "cell_type": "code",
   "execution_count": 3,
   "metadata": {},
   "outputs": [
    {
     "data": {
      "text/plain": [
       "''"
      ]
     },
     "execution_count": 3,
     "metadata": {},
     "output_type": "execute_result"
    }
   ],
   "source": [
    "# Whitehouse\n",
    "conn = sqlite3.connect('../data/diffengine-diffs/db/whitehouse.db')\n",
    "pd.read_sql(\"SELECT name FROM sqlite_master WHERE type ='table'\", con=conn) ## see tables\n",
    "pd.read_sql('select * from diff limit 2', con=conn) ## see diff table\n",
    "pd.read_sql('select * from entry limit 2', con=conn) ## see entry table\n",
    "entry_version = pd.read_sql('select * from entryversion limit 2', con=conn) ## see entry version table\n",
    "pd.read_sql('select * from feed limit 5', con=conn) ## see feed table\n",
    "pd.read_sql('select * from feedentry limit 5', con=conn) ## see feed entry\n",
    "entry_version['summary'][1] ## see what the 'summary' field is\n",
    ";"
   ]
  },
  {
   "cell_type": "code",
   "execution_count": null,
   "metadata": {},
   "outputs": [],
   "source": []
  },
  {
   "cell_type": "markdown",
   "metadata": {},
   "source": [
    "# Basic Article-Level Statistics"
   ]
  },
  {
   "cell_type": "code",
   "execution_count": 7,
   "metadata": {},
   "outputs": [
    {
     "name": "stdout",
     "output_type": "stream",
     "text": [
      "We'll look at:\n",
      "\n",
      "dailymail.db\n",
      "ap.db\n",
      "bbc.db\n",
      "cbc.db\n",
      "fox.db\n",
      "reuters.db\n",
      "cnn.db\n",
      "torontosun.db\n"
     ]
    }
   ],
   "source": [
    "to_examine = [\n",
    "    'dailymail.db',\n",
    "    'ap.db',\n",
    "    'bbc.db',\n",
    "    'cbc.db',\n",
    "    'fox.db',\n",
    "    'reuters.db',\n",
    "    'cnn.db',\n",
    "    'torontosun.db',\n",
    "]\n",
    "print('We\\'ll look at:')\n",
    "print()\n",
    "for e in to_examine:\n",
    "    print(e)"
   ]
  },
  {
   "cell_type": "code",
   "execution_count": 12,
   "metadata": {},
   "outputs": [],
   "source": [
    "import os\n",
    "from tqdm.auto import tqdm\n",
    "db_path = '../data/diffengine-diffs/db/'\n",
    "conn_dict = {}\n",
    "diffs_dict = {}\n",
    "entry_vers_dict = {}\n",
    "for db in tqdm(to_examine):\n",
    "    print(db)\n",
    "    name = db.replace('.db', '')\n",
    "    conn_dict[name] = sqlite3.connect(os.path.join(db_path, db))\n",
    "    diffs_dict[name] = pd.read_sql('select * from diff', con=conn_dict[name])\n",
    "    entry_vers_dict[name] = pd.read_sql('select * from entryversion limit 5000', con=conn_dict[name])"
   ]
  },
  {
   "cell_type": "code",
   "execution_count": 14,
   "metadata": {},
   "outputs": [],
   "source": [
    "## num articles in each database"
   ]
  },
  {
   "cell_type": "code",
   "execution_count": 34,
   "metadata": {},
   "outputs": [
    {
     "data": {
      "application/vnd.jupyter.widget-view+json": {
       "model_id": "6d9dc145adf3427abcbbfe5d4f355981",
       "version_major": 2,
       "version_minor": 0
      },
      "text/plain": [
       "  0%|          | 0/8 [00:00<?, ?it/s]"
      ]
     },
     "metadata": {},
     "output_type": "display_data"
    },
    {
     "data": {
      "application/vnd.jupyter.widget-view+json": {
       "model_id": "ccfc85a109784a18bdca209c48206642",
       "version_major": 2,
       "version_minor": 0
      },
      "text/plain": [
       "  0%|          | 0/8 [00:00<?, ?it/s]"
      ]
     },
     "metadata": {},
     "output_type": "display_data"
    }
   ],
   "source": [
    "article_counts = {}\n",
    "for n, conn in tqdm(conn_dict.items()):\n",
    "    c = pd.read_sql('select Count(1) from entry', con=conn).iloc[0][0]\n",
    "    article_counts[n] = c\n",
    "version_counts = {}\n",
    "for n, conn in tqdm(conn_dict.items()):\n",
    "    c = pd.read_sql('select Count(1) from entryversion', con=conn).iloc[0][0]\n",
    "    version_counts[n] = c"
   ]
  },
  {
   "cell_type": "code",
   "execution_count": 26,
   "metadata": {},
   "outputs": [],
   "source": [
    "entry = pd.read_sql('select * from entry', con=conn)"
   ]
  },
  {
   "cell_type": "code",
   "execution_count": 18,
   "metadata": {},
   "outputs": [
    {
     "data": {
      "text/plain": [
       "torontosun    19166\n",
       "ap            23101\n",
       "reuters       32430\n",
       "bbc           42846\n",
       "cbc           54321\n",
       "dailymail     59901\n",
       "cnn           69533\n",
       "fox           86845\n",
       "dtype: int64"
      ]
     },
     "execution_count": 18,
     "metadata": {},
     "output_type": "execute_result"
    }
   ],
   "source": [
    "pd.Series(article_counts).sort_values()"
   ]
  },
  {
   "cell_type": "code",
   "execution_count": 36,
   "metadata": {},
   "outputs": [
    {
     "data": {
      "text/plain": [
       "torontosun     46353\n",
       "ap             97314\n",
       "bbc            99082\n",
       "fox           117171\n",
       "cnn           117202\n",
       "reuters       143303\n",
       "dailymail     166260\n",
       "cbc           387292\n",
       "dtype: int64"
      ]
     },
     "execution_count": 36,
     "metadata": {},
     "output_type": "execute_result"
    }
   ],
   "source": [
    "pd.Series(version_counts).sort_values()"
   ]
  },
  {
   "cell_type": "code",
   "execution_count": 16,
   "metadata": {},
   "outputs": [
    {
     "data": {
      "image/png": "[encoded data removed]",
      "text/plain": [
       "<Figure size 288x288 with 1 Axes>"
      ]
     },
     "metadata": {
      "needs_background": "light"
     },
     "output_type": "display_data"
    }
   ],
   "source": [
    "ax = (pd.Series(article_counts)\n",
    "      .sort_values()\n",
    "      .plot(kind='barh', figsize=(4, 4))\n",
    "     )\n",
    "ax.spines['right'].set_visible(False)\n",
    "ax.spines['top'].set_visible(False)\n",
    "ax.set_xlabel('Num. Final Articles');"
   ]
  },
  {
   "cell_type": "code",
   "execution_count": null,
   "metadata": {},
   "outputs": [],
   "source": []
  },
  {
   "cell_type": "code",
   "execution_count": 1032,
   "metadata": {},
   "outputs": [],
   "source": [
    "flatten = lambda l: [x for l_s in l for x in l_s]"
   ]
  },
  {
   "cell_type": "code",
   "execution_count": 1034,
   "metadata": {},
   "outputs": [
    {
     "data": {
      "image/png": "[encoded data removed]",
      "text/plain": [
       "<Figure size 576x432 with 4 Axes>"
      ]
     },
     "metadata": {
      "needs_background": "light"
     },
     "output_type": "display_data"
    }
   ],
   "source": [
    "f, axarr = plt.subplots(2, 2, figsize=(8, 6))\n",
    "axarr = flatten(axarr)\n",
    "for idx, (name, entry_version) in enumerate(entry_vers_dict.items()):\n",
    "    ax = (entry_version['summary']\n",
    "            .str.split()\n",
    "            .str.len()\n",
    "            .hist(bins=50, range=(0, 1500), \n",
    "#                   alpha=.5,\n",
    "                  label=name, ax=axarr[idx])\n",
    "    )\n",
    "\n",
    "    axarr[idx].grid(False)\n",
    "    axarr[idx].spines['right'].set_visible(False)\n",
    "    axarr[idx].spines['top'].set_visible(False)\n",
    "    axarr[idx].set_ylabel('Num Articles')\n",
    "    axarr[idx].set_xlabel('Length (in words)')\n",
    "    axarr[idx].set_title(name)\n",
    "plt.tight_layout()"
   ]
  },
  {
   "cell_type": "code",
   "execution_count": null,
   "metadata": {},
   "outputs": [],
   "source": [
    "fox_article_len = (fox_entry_version['summary']\n",
    " .str.split()\n",
    " .str.len()\n",
    ")"
   ]
  },
  {
   "cell_type": "code",
   "execution_count": 949,
   "metadata": {},
   "outputs": [],
   "source": [
    "fox_entry_version['len'] = fox_article_len\n",
    "fox_entry_version['len_bin'] = fox_article_len.pipe(lambda s: pd.cut(s, np.linspace(0, 1500, 51)))"
   ]
  },
  {
   "cell_type": "markdown",
   "metadata": {},
   "source": [
    "What's the weird spike that many of these articles have between 120 and 150 words?\n",
    "\n",
    "We look at a sample of articles that have word-length between 120 and 150, and see nothing pathological."
   ]
  },
  {
   "cell_type": "markdown",
   "metadata": {},
   "source": [
    "##### Sample of articles with word-len: (120, 150]"
   ]
  },
  {
   "cell_type": "code",
   "execution_count": 1386,
   "metadata": {},
   "outputs": [
    {
     "name": "stdout",
     "output_type": "stream",
     "text": [
      "\n",
      "<p>ROME – Three earthquakes hit central Italy in the space of an hour Wednesday, with tremors felt in the capital.</p> <p>There were no immediate reports of casualties.</p> <p>The first quake, with a preliminary magnitude of 5.3 hit the region north of Amatrice at about 10:25 a.m., according to the U.S. Geological Survey. A second quake with a magnitude of 5.7 hit the same area about 50 minutes later, and ten minutes later a third was measured at magnitude-5.3.</p> <p>The mountainous Amatrice region was shaken by three quakes last year, killing nearly 300 people and causing significant damage to older buildings.</p> <p>The region is about 62 miles northeast of Rome.</p> <p>Antonio Tajani, an Italian politician who is president of the European Parliament, said tremors were \"felt as far as Rome (but it) appears there are no victims.\"</p> <p></p>\n",
      "\n",
      "<p>A man was injured Tuesday night after setting a fire outside the Trump International Hotel in Washington D.C., fire officials said.</p> <p>A D.C. Fire and EMS spokesperson told Fox 5 DC that an ambulance was called to a report of a man who was trying to light himself on fire. The man suffered minor burns.</p> <p>\"We have a dictator that has been elected,\" the unidentified man told WRC-TV. He told the station he was from California.</p> <p>The man told a reporter that he tried to set himself ablaze \"as an act of protest.\"</p> <p>Emergency personnel transported the man to an area hospital. The man’s condition was unknown. No one else was injured in the small fire.</p> <p>It’s unclear whether he will face charges.</p> <p>Click for more from Fox 5 DC.</p> <p></p>\n",
      "\n",
      "<p>Jerry Seinfeld is taking his car show on the road.</p> <p>The comic’s \"Comedians in Cars Getting Coffee\" interview show is moving from Crackle to Netflix as part of a deal that The Hollywood Reporter estimates is worth $100 million. Seinfeld will be shooting 24 new episodes that start airing by the end of the year.</p> <p>Seinfeld said the time was right to move the show, which debuted in 2012.</p> <p>\"When I first started thinking about Comedians in Cars Getting Coffee, the entire Netflix business model consisted of mailing out DVDs in envelopes,\" he said. \"I love that we are now joining together, both at very different points.\"</p> <p>The deal also gives Netflix the rights to the back catalog of 59 episodes and Seinfeld will film two stand up specials, along with developing additional scripted and non-scripted programming for the streaming video service.</p> <p></p>\n"
     ]
    }
   ],
   "source": [
    "for i in range(3):\n",
    "    print()\n",
    "    print(fox_entry_version\n",
    "     .loc[lambda df: df['len_bin'] == df['len_bin'].cat.categories[4]]\n",
    "     ['summary'].iloc[i]\n",
    "    )"
   ]
  },
  {
   "cell_type": "markdown",
   "metadata": {},
   "source": [
    "# Diff Article-Level Statistics"
   ]
  },
  {
   "cell_type": "markdown",
   "metadata": {},
   "source": [
    "We have a table containing the revision update ids and their creation times."
   ]
  },
  {
   "cell_type": "code",
   "execution_count": 1003,
   "metadata": {},
   "outputs": [
    {
     "data": {
      "text/html": [
       "<div>\n",
       "<style scoped>\n",
       "    .dataframe tbody tr th:only-of-type {\n",
       "        vertical-align: middle;\n",
       "    }\n",
       "\n",
       "    .dataframe tbody tr th {\n",
       "        vertical-align: top;\n",
       "    }\n",
       "\n",
       "    .dataframe thead th {\n",
       "        text-align: right;\n",
       "    }\n",
       "</style>\n",
       "<table border=\"1\" class=\"dataframe\">\n",
       "  <thead>\n",
       "    <tr style=\"text-align: right;\">\n",
       "      <th></th>\n",
       "      <th>id</th>\n",
       "      <th>old_id</th>\n",
       "      <th>new_id</th>\n",
       "      <th>created</th>\n",
       "      <th>tweeted</th>\n",
       "      <th>blogged</th>\n",
       "    </tr>\n",
       "  </thead>\n",
       "  <tbody>\n",
       "    <tr>\n",
       "      <th>0</th>\n",
       "      <td>1</td>\n",
       "      <td>5</td>\n",
       "      <td>35</td>\n",
       "      <td>2017-01-18 15:45:10.708097</td>\n",
       "      <td>2017-01-18 15:45:13.415430</td>\n",
       "      <td>None</td>\n",
       "    </tr>\n",
       "    <tr>\n",
       "      <th>1</th>\n",
       "      <td>2</td>\n",
       "      <td>36</td>\n",
       "      <td>40</td>\n",
       "      <td>2017-01-18 16:15:06.081604</td>\n",
       "      <td>2017-01-18 16:15:09.345384</td>\n",
       "      <td>None</td>\n",
       "    </tr>\n",
       "    <tr>\n",
       "      <th>2</th>\n",
       "      <td>3</td>\n",
       "      <td>42</td>\n",
       "      <td>48</td>\n",
       "      <td>2017-01-18 16:30:49.311923</td>\n",
       "      <td>2017-01-18 16:30:52.143213</td>\n",
       "      <td>None</td>\n",
       "    </tr>\n",
       "  </tbody>\n",
       "</table>\n",
       "</div>"
      ],
      "text/plain": [
       "   id  old_id  new_id                     created                     tweeted  \\\n",
       "0   1       5      35  2017-01-18 15:45:10.708097  2017-01-18 15:45:13.415430   \n",
       "1   2      36      40  2017-01-18 16:15:06.081604  2017-01-18 16:15:09.345384   \n",
       "2   3      42      48  2017-01-18 16:30:49.311923  2017-01-18 16:30:52.143213   \n",
       "\n",
       "  blogged  \n",
       "0    None  \n",
       "1    None  \n",
       "2    None  "
      ]
     },
     "execution_count": 1003,
     "metadata": {},
     "output_type": "execute_result"
    }
   ],
   "source": [
    "diffs_dict['fox'].head(3)"
   ]
  },
  {
   "cell_type": "code",
   "execution_count": null,
   "metadata": {
    "scrolled": true
   },
   "outputs": [],
   "source": [
    "all_diffs_lists_dict = {}\n",
    "for k, diffs in diffs_dict.items():\n",
    "    print('running: %s' % k)\n",
    "    all_diffs_lists_dict[k] = group_using_diffs(diffs)"
   ]
  },
  {
   "cell_type": "code",
   "execution_count": 1013,
   "metadata": {
    "hide_input": false
   },
   "outputs": [
    {
     "data": {
      "image/png": "[encoded data removed]",
      "text/plain": [
       "<Figure size 576x432 with 4 Axes>"
      ]
     },
     "metadata": {
      "needs_background": "light"
     },
     "output_type": "display_data"
    }
   ],
   "source": [
    "f, axarr = plt.subplots(2, 2, figsize=(8, 6))\n",
    "axarr = [ax for axarr_s in axarr for ax in axarr_s]\n",
    "for idx, (k, all_lists) in enumerate(all_diffs_lists_dict.items()):\n",
    "    pd.Series(all_lists).str.len().hist(bins=50, ax=axarr[idx])\n",
    "    axarr[idx].semilogy()\n",
    "    axarr[idx].set_ylabel('Num. Articles')\n",
    "    axarr[idx].set_xlabel('Num. Revisions')\n",
    "    axarr[idx].spines['top'].set_visible(False)\n",
    "    axarr[idx].spines['right'].set_visible(False)\n",
    "    axarr[idx].grid(False)\n",
    "    axarr[idx].set_title(k)\n",
    "    \n",
    "plt.tight_layout()"
   ]
  },
  {
   "cell_type": "code",
   "execution_count": 1395,
   "metadata": {},
   "outputs": [],
   "source": [
    "entry_vers_dict['reuters'] = pd.read_sql('select * from entryversion', con=conn_dict['reuters'])"
   ]
  },
  {
   "cell_type": "code",
   "execution_count": 1402,
   "metadata": {},
   "outputs": [],
   "source": [
    "reuters_entry_version = entry_vers_dict['reuters']"
   ]
  },
  {
   "cell_type": "code",
   "execution_count": null,
   "metadata": {
    "scrolled": true
   },
   "outputs": [],
   "source": [
    "reuters_entry_version['entry_id'].value_counts().loc[lambda s: s<100]\n",
    "reuters_entry_version['entry_id'].value_counts().value_counts().sort_index()\n",
    "reuters_entry_version.loc[lambda df: df['entry_id'] == 818]['url'].value_counts()"
   ]
  },
  {
   "cell_type": "markdown",
   "metadata": {},
   "source": [
    "Some of these articles that have >400 revisions are section fronts or other updating, dynamic articles... how can we determine when an article is a complete rewrite vs. a normal republication?"
   ]
  },
  {
   "cell_type": "code",
   "execution_count": 1387,
   "metadata": {},
   "outputs": [
    {
     "name": "stdout",
     "output_type": "stream",
     "text": [
      "Example of Article Urls with ~ 100 Revisions:\n",
      "\n",
      "http://hosted.ap.org/dynamic/stories/E/EU_TURKEY_FAILED_COUP?SITE=AP&SECTION=HOME&TEMPLATE=DEFAULT    46\n",
      "http://hosted.ap.org/dynamic/stories/E/EU_TURKEY_FAILED_COUP?SITE=AP&TEMPLATE=DEFAULT&SECTION=HOME     1\n",
      "http://hosted.ap.org/dynamic/stories/E/EU_TURKEY_FAILED_COUP?TEMPLATE=DEFAULT&SITE=AP&SECTION=HOME     1\n",
      "http://hosted.ap.org/dynamic/stories/E/EU_TURKEY_FAILED_COUP?SECTION=HOME&SITE=AP&TEMPLATE=DEFAULT     1\n",
      "Name: url, dtype: int64\n",
      "\n",
      "http://hosted.ap.org/dynamic/stories/U/US_AARON_HERNANDEZ?SITE=AP&SECTION=HOME&TEMPLATE=DEFAULT    49\n",
      "Name: url, dtype: int64\n",
      "\n",
      "http://hosted.ap.org/dynamic/stories/U/US_DEMOCRATS_LIBERAL_OUTCRY?SITE=AP&SECTION=HOME&TEMPLATE=DEFAULT    48\n",
      "Name: url, dtype: int64\n",
      "\n",
      "http://hosted.ap.org/dynamic/stories/U/US_HOLLAND_TUNNEL_WEAPONS_CACHE?SITE=AP&SECTION=HOME&TEMPLATE=DEFAULT    45\n",
      "http://hosted.ap.org/dynamic/stories/U/US_HOLLAND_TUNNEL_WEAPONS_CACHE?SECTION=HOME&SITE=AP&TEMPLATE=DEFAULT     1\n",
      "http://hosted.ap.org/dynamic/stories/U/US_HOLLAND_TUNNEL_WEAPONS_CACHE?SITE=AP&TEMPLATE=DEFAULT&SECTION=HOME     1\n",
      "http://hosted.ap.org/dynamic/stories/U/US_HOLLAND_TUNNEL_WEAPONS_CACHE?TEMPLATE=DEFAULT&SITE=AP&SECTION=HOME     1\n",
      "Name: url, dtype: int64\n",
      "\n",
      "http://hosted.ap.org/dynamic/stories/U/US_FLINT_WATER_MIOL-?SITE=AP&SECTION=HOME&TEMPLATE=DEFAULT    44\n",
      "http://hosted.ap.org/dynamic/stories/U/US_FLINT_WATER_MIOL-?SITE=AP&TEMPLATE=DEFAULT&SECTION=HOME     2\n",
      "http://hosted.ap.org/dynamic/stories/U/US_FLINT_WATER_MIOL-?TEMPLATE=DEFAULT&SITE=AP&SECTION=HOME     1\n",
      "http://hosted.ap.org/dynamic/stories/U/US_FLINT_WATER_MIOL-?SECTION=HOME&SITE=AP&TEMPLATE=DEFAULT     1\n",
      "Name: url, dtype: int64\n"
     ]
    }
   ],
   "source": [
    "top_entry_ids = (ap_entry_version['entry_id']\n",
    " .value_counts()\n",
    " .loc[lambda s: s < 50]\n",
    " .index[:5]\n",
    ")\n",
    "\n",
    "print('Example of Article Urls with ~ 100 Revisions:')\n",
    "for entry_id in top_entry_ids:\n",
    "    print()\n",
    "    print(ap_entry_version.loc[lambda df: df['entry_id'] == entry_id]['url'].value_counts())"
   ]
  },
  {
   "cell_type": "code",
   "execution_count": 1445,
   "metadata": {},
   "outputs": [
    {
     "data": {
      "text/html": [
       "<div>\n",
       "<style scoped>\n",
       "    .dataframe tbody tr th:only-of-type {\n",
       "        vertical-align: middle;\n",
       "    }\n",
       "\n",
       "    .dataframe tbody tr th {\n",
       "        vertical-align: top;\n",
       "    }\n",
       "\n",
       "    .dataframe thead th {\n",
       "        text-align: right;\n",
       "    }\n",
       "</style>\n",
       "<table border=\"1\" class=\"dataframe\">\n",
       "  <thead>\n",
       "    <tr style=\"text-align: right;\">\n",
       "      <th></th>\n",
       "      <th>id</th>\n",
       "      <th>title</th>\n",
       "      <th>url</th>\n",
       "      <th>summary</th>\n",
       "      <th>created</th>\n",
       "      <th>archive_url</th>\n",
       "      <th>entry_id</th>\n",
       "    </tr>\n",
       "  </thead>\n",
       "  <tbody>\n",
       "    <tr>\n",
       "      <th>0</th>\n",
       "      <td>1</td>\n",
       "      <td>News from The Associated Press</td>\n",
       "      <td>http://hosted.ap.org/dynamic/stories/U/US_OBAM...</td>\n",
       "      <td>&lt;p&gt;         WASHINGTON        (AP) -- Embracin...</td>\n",
       "      <td>2017-01-18 15:48:03.845167</td>\n",
       "      <td>https://wayback.archive.org/web/20170118154824...</td>\n",
       "      <td>1</td>\n",
       "    </tr>\n",
       "    <tr>\n",
       "      <th>10</th>\n",
       "      <td>11</td>\n",
       "      <td>News from The Associated Press</td>\n",
       "      <td>http://hosted.ap.org/dynamic/stories/U/US_OBAM...</td>\n",
       "      <td>&lt;p&gt;         WASHINGTON        (AP) -- Embracin...</td>\n",
       "      <td>2017-01-18 16:00:03.432431</td>\n",
       "      <td>https://wayback.archive.org/web/20170118160023...</td>\n",
       "      <td>1</td>\n",
       "    </tr>\n",
       "    <tr>\n",
       "      <th>111</th>\n",
       "      <td>112</td>\n",
       "      <td>News from The Associated Press</td>\n",
       "      <td>http://hosted.ap.org/dynamic/stories/U/US_OBAM...</td>\n",
       "      <td>&lt;p&gt;         WASHINGTON        (AP) -- Embracin...</td>\n",
       "      <td>2017-01-18 19:30:03.362584</td>\n",
       "      <td>https://wayback.archive.org/web/20170118193024...</td>\n",
       "      <td>1</td>\n",
       "    </tr>\n",
       "  </tbody>\n",
       "</table>\n",
       "</div>"
      ],
      "text/plain": [
       "      id                           title  \\\n",
       "0      1  News from The Associated Press   \n",
       "10    11  News from The Associated Press   \n",
       "111  112  News from The Associated Press   \n",
       "\n",
       "                                                   url  \\\n",
       "0    http://hosted.ap.org/dynamic/stories/U/US_OBAM...   \n",
       "10   http://hosted.ap.org/dynamic/stories/U/US_OBAM...   \n",
       "111  http://hosted.ap.org/dynamic/stories/U/US_OBAM...   \n",
       "\n",
       "                                               summary  \\\n",
       "0    <p>         WASHINGTON        (AP) -- Embracin...   \n",
       "10   <p>         WASHINGTON        (AP) -- Embracin...   \n",
       "111  <p>         WASHINGTON        (AP) -- Embracin...   \n",
       "\n",
       "                        created  \\\n",
       "0    2017-01-18 15:48:03.845167   \n",
       "10   2017-01-18 16:00:03.432431   \n",
       "111  2017-01-18 19:30:03.362584   \n",
       "\n",
       "                                           archive_url  entry_id  \n",
       "0    https://wayback.archive.org/web/20170118154824...         1  \n",
       "10   https://wayback.archive.org/web/20170118160023...         1  \n",
       "111  https://wayback.archive.org/web/20170118193024...         1  "
      ]
     },
     "execution_count": 1445,
     "metadata": {},
     "output_type": "execute_result"
    }
   ],
   "source": [
    "short_lists = list(filter(lambda x: len(x) < 50, all_diffs_lists_dict['ap']))\n",
    "ap_entry_version.loc[lambda df: df['id'].isin(short_lists[0])]"
   ]
  },
  {
   "cell_type": "code",
   "execution_count": 1449,
   "metadata": {},
   "outputs": [],
   "source": [
    "ap_entry_version['created'] = pd.to_datetime(ap_entry_version['created'])"
   ]
  },
  {
   "cell_type": "code",
   "execution_count": 1482,
   "metadata": {},
   "outputs": [
    {
     "data": {
      "application/vnd.jupyter.widget-view+json": {
       "model_id": "fcf852dd940d42bea3773782da3ea73b",
       "version_major": 2,
       "version_minor": 0
      },
      "text/plain": [
       "HBox(children=(HTML(value=''), FloatProgress(value=0.0, max=14098.0), HTML(value='')))"
      ]
     },
     "metadata": {},
     "output_type": "display_data"
    },
    {
     "name": "stdout",
     "output_type": "stream",
     "text": [
      "\n"
     ]
    }
   ],
   "source": [
    "time_deltas = []\n",
    "for list_idx, s in tqdm(enumerate(all_diffs_lists_dict['ap']), total=len(all_diffs_lists_dict['ap'])):\n",
    "    delta = (\n",
    "        ap_entry_version\n",
    "            .loc[lambda df: df['id'].isin(s)]['created']\n",
    "            .pipe(lambda s: s.max() - s.min())\n",
    "    )\n",
    "    time_deltas.append({\n",
    "        'delta': delta,\n",
    "        'list_len': len(s),\n",
    "        'list_idx': list_idx\n",
    "    })"
   ]
  },
  {
   "cell_type": "code",
   "execution_count": 1483,
   "metadata": {},
   "outputs": [],
   "source": [
    "time_delta_df = (pd.DataFrame(time_deltas)\n",
    "                 .assign(day_delta=lambda df: df['delta'].apply(lambda x: x.total_seconds() / (60 * 60 * 24)))\n",
    "                )"
   ]
  },
  {
   "cell_type": "code",
   "execution_count": 1471,
   "metadata": {},
   "outputs": [
    {
     "data": {
      "text/plain": [
       "<matplotlib.axes._subplots.AxesSubplot at 0x7fbbd8529310>"
      ]
     },
     "execution_count": 1471,
     "metadata": {},
     "output_type": "execute_result"
    },
    {
     "data": {
      "image/png": "[encoded data removed]",
      "text/plain": [
       "<Figure size 432x288 with 1 Axes>"
      ]
     },
     "metadata": {
      "needs_background": "light"
     },
     "output_type": "display_data"
    }
   ],
   "source": [
    "(time_delta_df['day_delta']\n",
    " .hist(bins=50, range=(0, 100))\n",
    ")"
   ]
  },
  {
   "cell_type": "code",
   "execution_count": 1480,
   "metadata": {},
   "outputs": [
    {
     "data": {
      "text/plain": [
       "<matplotlib.axes._subplots.AxesSubplot at 0x7fbbc7c47b90>"
      ]
     },
     "execution_count": 1480,
     "metadata": {},
     "output_type": "execute_result"
    },
    {
     "data": {
      "image/png": "[encoded data removed]",
      "text/plain": [
       "<Figure size 432x288 with 1 Axes>"
      ]
     },
     "metadata": {
      "needs_background": "light"
     },
     "output_type": "display_data"
    }
   ],
   "source": [
    "time_delta_df[['list_len', 'day_delta']].plot(kind='scatter', x='list_len', y='day_delta', alpha=.4)"
   ]
  },
  {
   "cell_type": "code",
   "execution_count": 1513,
   "metadata": {},
   "outputs": [
    {
     "data": {
      "text/html": [
       "<div>\n",
       "<style scoped>\n",
       "    .dataframe tbody tr th:only-of-type {\n",
       "        vertical-align: middle;\n",
       "    }\n",
       "\n",
       "    .dataframe tbody tr th {\n",
       "        vertical-align: top;\n",
       "    }\n",
       "\n",
       "    .dataframe thead th {\n",
       "        text-align: right;\n",
       "    }\n",
       "</style>\n",
       "<table border=\"1\" class=\"dataframe\">\n",
       "  <thead>\n",
       "    <tr style=\"text-align: right;\">\n",
       "      <th></th>\n",
       "      <th>delta</th>\n",
       "      <th>list_len</th>\n",
       "      <th>list_idx</th>\n",
       "      <th>day_delta</th>\n",
       "    </tr>\n",
       "  </thead>\n",
       "  <tbody>\n",
       "    <tr>\n",
       "      <th>4693</th>\n",
       "      <td>19 days 23:54:10.598361</td>\n",
       "      <td>3</td>\n",
       "      <td>4693</td>\n",
       "      <td>19.995956</td>\n",
       "    </tr>\n",
       "    <tr>\n",
       "      <th>6151</th>\n",
       "      <td>19 days 23:39:15.890577</td>\n",
       "      <td>7</td>\n",
       "      <td>6151</td>\n",
       "      <td>19.985601</td>\n",
       "    </tr>\n",
       "    <tr>\n",
       "      <th>5138</th>\n",
       "      <td>19 days 23:13:44.702573</td>\n",
       "      <td>2</td>\n",
       "      <td>5138</td>\n",
       "      <td>19.967879</td>\n",
       "    </tr>\n",
       "    <tr>\n",
       "      <th>3631</th>\n",
       "      <td>19 days 20:50:08.614878</td>\n",
       "      <td>8</td>\n",
       "      <td>3631</td>\n",
       "      <td>19.868155</td>\n",
       "    </tr>\n",
       "    <tr>\n",
       "      <th>1773</th>\n",
       "      <td>19 days 17:54:09.727770</td>\n",
       "      <td>30</td>\n",
       "      <td>1773</td>\n",
       "      <td>19.745946</td>\n",
       "    </tr>\n",
       "  </tbody>\n",
       "</table>\n",
       "</div>"
      ],
      "text/plain": [
       "                       delta  list_len  list_idx  day_delta\n",
       "4693 19 days 23:54:10.598361         3      4693  19.995956\n",
       "6151 19 days 23:39:15.890577         7      6151  19.985601\n",
       "5138 19 days 23:13:44.702573         2      5138  19.967879\n",
       "3631 19 days 20:50:08.614878         8      3631  19.868155\n",
       "1773 19 days 17:54:09.727770        30      1773  19.745946"
      ]
     },
     "execution_count": 1513,
     "metadata": {},
     "output_type": "execute_result"
    }
   ],
   "source": [
    "(time_delta_df\n",
    "#  .loc[lambda df: df['list_len'] == 2]\n",
    " .sort_values('day_delta', ascending=False)\n",
    " .loc[lambda df: df['day_delta'] < 20]\n",
    " .head()\n",
    "#  .shape\n",
    "#  ['day_delta']\n",
    ")"
   ]
  },
  {
   "cell_type": "code",
   "execution_count": 1514,
   "metadata": {},
   "outputs": [
    {
     "data": {
      "text/plain": [
       "[36775, 36839, 41530]"
      ]
     },
     "execution_count": 1514,
     "metadata": {},
     "output_type": "execute_result"
    }
   ],
   "source": [
    "all_diffs_lists_dict['ap'][4693]"
   ]
  },
  {
   "cell_type": "code",
   "execution_count": 1517,
   "metadata": {},
   "outputs": [],
   "source": [
    "s_idx = 1\n",
    "a1, a2 = (ap_entry_version\n",
    " .loc[lambda df: df['id'].isin(all_diffs_lists_dict['ap'][4693])]['summary']\n",
    " .pipe(lambda s: (s.iloc[s_idx], s.iloc[s_idx+1]))\n",
    ")"
   ]
  },
  {
   "cell_type": "code",
   "execution_count": 1518,
   "metadata": {
    "scrolled": true
   },
   "outputs": [
    {
     "data": {
      "text/html": [
       " LONDON (AP) -- <span style=\"background-color:rgba(255,0,0,0.3)\">The European Union moved Tuesday to tighten its oversight of a key financial market based in London, threatening tens of thousands of jobs in Britain once the country exits the bloc</span><span style=\"background-color:rgba(0,255,0,0.3)\">Representatives of London's financial sector will head to Brussels on Wednesday to discuss Brexit, the first such meeting with officials there since Britain's divorce talks with the EU began last month</span>.<br><br><span style=\"background-color:rgba(0,255,0,0.3)\">The meeting comes at a time of political and economic uncertainty in Britain, with many businesses worried that Prime Minister Theresa May will opt for a \"hard Brexit\" that would isolate the country from</span><span style=\"background-color:rgba(255,0,0,0.3)\">Draft regulations published by</span> the E<span style=\"background-color:rgba(0,255,0,0.3)\">uropean Union's single, tariff-less market</span><span style=\"background-color:rgba(255,0,0,0.3)\">U executive Commission would force any clearinghouse considered important to the EU financial system to accept direct oversight from the bloc and, if requested, relocate to inside the EU</span>.<br><br><span style=\"background-color:rgba(0,255,0,0.3)\">Lobbying group TheCityUK have previously called for \"mutual market access\" and the \"acceptance of professional qualifications, practice rights, standards for regulated products and services\" between post-Brexit Britain and the EU, a stance at odds with May's plan. TheCityUK will release another report on the issue in upcoming months</span><span style=\"background-color:rgba(255,0,0,0.3)\">Clearinghouses act as intermediaries to reduce the risk of default by ensuring funds are delivered to the seller - a way of undergirding the financial system</span>.<br><br><span style=\"background-color:rgba(0,255,0,0.3)\">British banks have a lot to lose in a \"hard Brexit,\" as they would be deprived of so-called passporting rights, which allow financial services to operate freely throughout the EU's single market with standard regulation. Adapting to that by, for example, opening offices in an EU country, would cost</span><span style=\"background-color:rgba(255,0,0,0.3)\">Even though</span> Brit<span style=\"background-color:rgba(255,0,0,0.3)\">ain is not part of the euro, it is the home to the vast majority of clearing of euro-denominated financial contracts, which amount to almost $1 tr</span><span style=\"background-color:rgba(0,255,0,0.3)\">ish banks' an estimated 15 billion euros ($17 b</span>illion<span style=\"background-color:rgba(0,255,0,0.3)\">), accord</span><span style=\"background-color:rgba(255,0,0,0.3)\"> every day. One report suggests that los</span>ing t<span style=\"background-color:rgba(0,255,0,0.3)\">o the Association of Financial M</span><span style=\"background-color:rgba(255,0,0,0.3)\">he m</span>arket<span style=\"background-color:rgba(255,0,0,0.3)\"> could cost the country 83,000 jobs, mostly in London, one of the world's top finance hubs</span><span style=\"background-color:rgba(0,255,0,0.3)\">s in Europe</span>.<br><br><span style=\"background-color:rgba(0,255,0,0.3)\">And many North American and Asian banks with European headquarters in London have already threatened to move jobs and operations to a city in a remaining EU country should Britain lose its EU passporting rights. Japan's Sumitomo Mitsui Financial Group said Monday that it would be</span><span style=\"background-color:rgba(255,0,0,0.3)\">Experts say it may not be so simple because there are legal hurdles to requiring the businesses to relocate, and that the Commission's move is mainly an effort to gain an edge in the upcoming Brexit talks.<br><br>The Commission says the proposals are part of the EU's drive to strengthen regulation of the financial industry after risky practices fueled the global financial crisis that began in 2008. Clearing firms are \"systemically important,\" it says. So while current EU rules allow the Bank of England to regulate Britain's financial markets, the country's departure from the bloc raises</span> the <span style=\"background-color:rgba(255,0,0,0.3)\">possibility of new scrutiny from EU authorities.<br><br>\"The continued safety and stability of our financial system remains a key priority,\" Commission Vice President Valdis Dombrovskis said. \"As we face the departure of the largest EU financial center, we need to make certain adjustments to our rules to ensure that our efforts remain on track</span><span style=\"background-color:rgba(0,255,0,0.3)\">latest group to move their EU headquarters from Britain to Germany over fears that Brexit could lead to \"future restrictions</span>.\"<br><br><span style=\"background-color:rgba(255,0,0,0.3)\">While European authorities say they want euro-clearing to be handled inside the EU to ensure proper oversight, financial services firms around the continent would also benefit by prying the business away from London</span><span style=\"background-color:rgba(0,255,0,0.3)\">TheCityUK says it regularly hosts delegations in Brussels, and that this one is \"not out of the ordinary\" but Brexit will be discussed</span>.<span style=\"background-color:rgba(255,0,0,0.3)\"> Representatives of Britain's financial industry immediately cried foul, arguing the EU was playing politics with a critical part of the international financial infrastructure.<br><br>\"This kind of currency nationalism is likely to lead to less competition, higher costs and market fragmentation,\" said Miles Celic, chief executive of TheCityUK, an industry lobby group. \"These are dangers that the U.S. watchdogs and international bodies have also underlined, and they should not be ignored.\"<br><br>Simeon Djankov, director of the Financial Markets Group at the London School of Economics, said the commission is making the same argument it used in 2014 when it last attempted to pull euro-clearing away from London. In that case, the U.K. successfully argued that the rules should be rejected by the European Court of Justice.<br><br>If the court were to rule that euro-clearing must take place in a eurozone state following Brexit, then those rules would also apply to transactions in the U.S. New York has the second-biggest market for euro-clearing after London, with some $200 billion a day in business.<br><br>And if these rules were applied to the United States, the U.S. government could take tit-for-tat action against the EU, arguing that dollar-denominated trading cannot take place in Europe.<br><br>\"Normally that would not be likely, but under the current administration, it is very likely,\" Djankov said.<br><br>Simon Gleeson, regulatory partner at the law firm Clifford Chance, said that none of the proposed legislation would come into force until after the U.K. has left the EU.<br><br>\"I think what is really going on here is the EU trying to create a bargaining chip that it can employ to get a more substantial say in the way that London clearing is regulated post-Brexit,\" he said.</span>"
      ],
      "text/plain": [
       "<IPython.core.display.HTML object>"
      ]
     },
     "metadata": {},
     "output_type": "display_data"
    }
   ],
   "source": [
    "display(HTML(p.list_to_html(p.rolling_window(p.output_diff_lists(a1, a2)))))"
   ]
  },
  {
   "cell_type": "code",
   "execution_count": null,
   "metadata": {},
   "outputs": [],
   "source": []
  },
  {
   "cell_type": "code",
   "execution_count": null,
   "metadata": {},
   "outputs": [],
   "source": []
  },
  {
   "cell_type": "markdown",
   "metadata": {},
   "source": [
    "# Let's Dive into the text differences of these Diffs"
   ]
  },
  {
   "cell_type": "markdown",
   "metadata": {},
   "source": [
    "## Calculating the text differences"
   ]
  },
  {
   "cell_type": "markdown",
   "metadata": {},
   "source": [
    "`difflib.ndiff`: \"The basic algorithm predates, and is a little fancier than, an algorithm published in the late 1980’s by Ratcliff and Obershelp under the hyperbolic name “gestalt pattern matching.” \" https://docs.python.org/3/library/difflib.html\n",
    "\n",
    "The vanilla \"fancier than Ratcliff and Obershelp\" algorithm on the character level does the following:"
   ]
  },
  {
   "cell_type": "code",
   "execution_count": 1643,
   "metadata": {},
   "outputs": [
    {
     "data": {
      "text/plain": [
       "<module 'util.util_diffengine_parsing' from '../util/util_diffengine_parsing.py'>"
      ]
     },
     "execution_count": 1643,
     "metadata": {},
     "output_type": "execute_result"
    }
   ],
   "source": [
    "reload(p)"
   ]
  },
  {
   "cell_type": "code",
   "execution_count": null,
   "metadata": {},
   "outputs": [],
   "source": [
    "ap_entry_version = pd.read_sql('select * from entryversion', con=conn_dict['ap'])"
   ]
  },
  {
   "cell_type": "code",
   "execution_count": 1644,
   "metadata": {},
   "outputs": [],
   "source": [
    "d = p.diffHandler(split_words=True, window_size=5)"
   ]
  },
  {
   "cell_type": "code",
   "execution_count": 1645,
   "metadata": {
    "scrolled": true
   },
   "outputs": [
    {
     "data": {
      "text/html": [
       "<p>WASHINGTON         ( AP ) -- <span style=\"background-color:rgba(0,255,0,0.3)\">Offering reassurances ,</span> President - elect Donald Trump 's pick for health secretary said Wednesday <span style=\"background-color:rgba(255,0,0,0.3)\">that access and affordability were his goals for revamping health care , and he offered assurances that</span> the new administration <span style=\"background-color:rgba(255,0,0,0.3)\">is not planning to launch</span> <span style=\"background-color:rgba(0,255,0,0.3)\">wo n't \" pull the rug out \" from those covered by \" Obamacare . \" Democrats were unimpressed , noting</span> a <span style=\"background-color:rgba(255,0,0,0.3)\">Medicare overhaul</span> <span style=\"background-color:rgba(0,255,0,0.3)\">lack of specifics</span> . </p><p> Rep. Tom Price , R - Ga . , <span style=\"background-color:rgba(255,0,0,0.3)\">testified before</span> <span style=\"background-color:rgba(0,255,0,0.3)\">also told</span> the Senate Health , Education , Labor and Pensions <span style=\"background-color:rgba(0,255,0,0.3)\">Committee</span> <span style=\"background-color:rgba(255,0,0,0.3)\">at the start of a confirmation process</span> that <span style=\"background-color:rgba(0,255,0,0.3)\">Trump</span> <span style=\"background-color:rgba(255,0,0,0.3)\">at times turned contentious . </p><p> He said the health care system</span> is <span style=\"background-color:rgba(255,0,0,0.3)\">losing focus on patients , its first priority . </p><p> He answered</span> \" absolutely not <span style=\"background-color:rgba(255,0,0,0.3)\">,</span> \" <span style=\"background-color:rgba(0,255,0,0.3)\">planning</span> <span style=\"background-color:rgba(255,0,0,0.3)\">when asked if the incoming administration intends</span> to <span style=\"background-color:rgba(255,0,0,0.3)\">tackle</span> <span style=\"background-color:rgba(0,255,0,0.3)\">launch an overhaul of</span> Medicare <span style=\"background-color:rgba(255,0,0,0.3)\">while trying</span> <span style=\"background-color:rgba(0,255,0,0.3)\">as he tries</span> to <span style=\"background-color:rgba(255,0,0,0.3)\">repeal</span> <span style=\"background-color:rgba(0,255,0,0.3)\">revamp coverage under</span> President Barack Obama 's <span style=\"background-color:rgba(0,255,0,0.3)\">signature</span> health care law <span style=\"background-color:rgba(255,0,0,0.3)\">and replace it</span> <span style=\"background-color:rgba(0,255,0,0.3)\">. He acknowledged that high prescription drug costs are a problem , but did not endorse the idea of government directly negotiating prices . </p><p> Throughout the nearly four - hour hearing , Democrats peppered Price</span> with <span style=\"background-color:rgba(255,0,0,0.3)\">a GOP version</span> <span style=\"background-color:rgba(0,255,0,0.3)\">questions about his stock trades</span> . <span style=\"background-color:rgba(0,255,0,0.3)\">The sometimes confusing exchanges involved different transactions under distinct circumstances . Price , who has signed a government ethics agreement to sell his stock , was clearly annoyed by the suggestion that he profited from his official position . \" I 'm offended by that insinuation , \" he told Sen. Elizabeth Warren , D - Mass .</span> </p><p> <span style=\"background-color:rgba(255,0,0,0.3)\">As</span> <span style=\"background-color:rgba(0,255,0,0.3)\">Committee Chairman Lamar Alexander , R - Tenn . , lauded Price 's performance , but ranking Democrat Patty Murray of Washington said she remains deeply concerned . No Democrats offered support</span> for the <span style=\"background-color:rgba(255,0,0,0.3)\">coverage goal of</span> <span style=\"background-color:rgba(0,255,0,0.3)\">62-year - old nominee , an orthopedic surgeon - turned - legislator . </p><p> Price said he wants to reopen</span> a <span style=\"background-color:rgba(255,0,0,0.3)\">new</span> <span style=\"background-color:rgba(0,255,0,0.3)\">bipartisan dialogue on</span> health <span style=\"background-color:rgba(255,0,0,0.3)\">law</span> <span style=\"background-color:rgba(0,255,0,0.3)\">care centered on practical solutions . </p><p> \" One of my goals in this entire debate is to lower the temperature</span> , <span style=\"background-color:rgba(255,0,0,0.3)\">Price</span> <span style=\"background-color:rgba(0,255,0,0.3)\">\"</span> said <span style=\"background-color:rgba(0,255,0,0.3)\">Price , speaking in even , measured tones . \" People need to know that</span> no <span style=\"background-color:rgba(255,0,0,0.3)\">one</span> <span style=\"background-color:rgba(0,255,0,0.3)\">rug</span> is <span style=\"background-color:rgba(0,255,0,0.3)\">going to be pulled</span> <span style=\"background-color:rgba(255,0,0,0.3)\">interested in pulling the rug</span> out from under <span style=\"background-color:rgba(255,0,0,0.3)\">any American . Pressed on prescription drug costs , he said pricing decisions by pharmaceutical companies sometimes do n't seem to make sense . But Price stopped short of endorsing direct negotiations between the</span> <span style=\"background-color:rgba(0,255,0,0.3)\">them</span> <span style=\"background-color:rgba(255,0,0,0.3)\">government and drug companies</span> . <span style=\"background-color:rgba(0,255,0,0.3)\">\"</span> </p><p> <span style=\"background-color:rgba(0,255,0,0.3)\">Alexander said he took that to mean that the Trump administration will follow his advice and not attempt to repeal the 2010 health care law without a replacement ready to go .</span> The <span style=\"background-color:rgba(255,0,0,0.3)\">committee chairman , Sen. Lamar Alexander , R - Tenn . , praised the selection of Price , an orthopedic surgeon - turned - lawmaker , to head the Department of Health and Human Services . Alexander also warned fellow Republicans not to attempt to repeal the</span> Affordable Care Act <span style=\"background-color:rgba(0,255,0,0.3)\">is providing coverage to about 20 million people , and government as well as private experts say repealing</span> without a <span style=\"background-color:rgba(255,0,0,0.3)\">replacement</span> <span style=\"background-color:rgba(0,255,0,0.3)\">concrete substitute would throw millions off their coverage and spike premiums</span> . </p><p> But <span style=\"background-color:rgba(255,0,0,0.3)\">the committee 's top Democrat ,</span> Sen. <span style=\"background-color:rgba(0,255,0,0.3)\">Tim Kaine</span> <span style=\"background-color:rgba(255,0,0,0.3)\">Patty Murray of Washington state</span> , <span style=\"background-color:rgba(0,255,0,0.3)\">D - Va . , Hillary Clinton 's running mate ,</span> said <span style=\"background-color:rgba(255,0,0,0.3)\">she</span> <span style=\"background-color:rgba(0,255,0,0.3)\">, \" I do n't think ' lowering the temperature ' is consistent with rushing \" to repeal and replace . Trump</span> has <span style=\"background-color:rgba(255,0,0,0.3)\">\" serious concerns \" about</span> <span style=\"background-color:rgba(0,255,0,0.3)\">promised to unveil a plan when</span> Price <span style=\"background-color:rgba(255,0,0,0.3)\">'s qualifications</span> <span style=\"background-color:rgba(0,255,0,0.3)\">is confirmed</span> . </p><p> With coverage for millions <span style=\"background-color:rgba(255,0,0,0.3)\">of people</span> at stake , Price <span style=\"background-color:rgba(0,255,0,0.3)\">faced</span> <span style=\"background-color:rgba(255,0,0,0.3)\">is facing</span> pointed questions about Trump 's <span style=\"background-color:rgba(0,255,0,0.3)\">evolving stance</span> <span style=\"background-color:rgba(255,0,0,0.3)\">health policies - and his own</span> <span style=\"background-color:rgba(0,255,0,0.3)\">on</span> <span style=\"background-color:rgba(255,0,0,0.3)\">investments in</span> health care <span style=\"background-color:rgba(255,0,0,0.3)\">companies</span> . <span style=\"background-color:rgba(255,0,0,0.3)\"></p><p> Price is largely a known quantity on Capitol Hill , but Trump 's bottom line on health care remains a mystery for Democrats and Republicans alike . While</span> Trump campaigned on repealing Obama 's law , <span style=\"background-color:rgba(0,255,0,0.3)\">but</span> at times he 's sounded more like a liberal . For example , he made recent comments about providing insurance for everyone and taking on the drug companies . </p><p> <span style=\"background-color:rgba(0,255,0,0.3)\">In</span> <span style=\"background-color:rgba(255,0,0,0.3)\">Trump said in</span> an interview aired Wednesday on Fox <span style=\"background-color:rgba(255,0,0,0.3)\">that</span> <span style=\"background-color:rgba(0,255,0,0.3)\">News Channel , Trump said</span> his approach would offer coverage through private insurers for people who can not afford it . </p><p> \" Nobody is going to be dying on the streets with a President Trump , \" he said . <span style=\"background-color:rgba(255,0,0,0.3)\">Trump offered no details .</span> He said his plan would \" probably \" turn Medicaid over to the states in the form of block grants to cover low - income people . <span style=\"background-color:rgba(255,0,0,0.3)\"></p><p></span> <span style=\"background-color:rgba(0,255,0,0.3)\">Democrats reminded</span> Price <span style=\"background-color:rgba(255,0,0,0.3)\">, 62 ,</span> <span style=\"background-color:rgba(0,255,0,0.3)\">that approach could lock in big cuts . </p><p> Price</span> represents Atlanta 's northern suburbs and <span style=\"background-color:rgba(0,255,0,0.3)\">until recently</span> <span style=\"background-color:rgba(255,0,0,0.3)\">leads</span> <span style=\"background-color:rgba(0,255,0,0.3)\">led</span> the House Budget Committee . A budget hawk and a social conservative , he drafted his own plan to replace Obama 's health law <span style=\"background-color:rgba(255,0,0,0.3)\">, which now provides coverage for about 20 million people</span> . It would have saved taxpayers money but covered fewer people , according to an outside analysis . </p><p> Sen. Bernie Sanders , <span style=\"background-color:rgba(255,0,0,0.3)\">D</span> <span style=\"background-color:rgba(0,255,0,0.3)\">I</span> - Vt . , pressed Price on whether Trump intends to keep promises repeatedly made during the presidential campaign not to cut Social Security , Medicare <span style=\"background-color:rgba(255,0,0,0.3)\">,</span> and Medicaid . </p><p> \" I have no reason to believe he 's changed his position , \" Price said . <span style=\"background-color:rgba(0,255,0,0.3)\">He expressed support for some provisions of the Obama health law , including allowing young adults to remain on parental coverage , protecting people with pre - existing medical conditions , and closing the Medicare prescription drug coverage gap .</span> </p><p> <span style=\"background-color:rgba(0,255,0,0.3)\">Questioned by</span> Sen. Tammy Baldwin , D - Wis . , <span style=\"background-color:rgba(255,0,0,0.3)\">questioned</span> Price <span style=\"background-color:rgba(255,0,0,0.3)\">about prescription drug costs . </p><p> He</span> acknowledged <span style=\"background-color:rgba(255,0,0,0.3)\">that</span> there are \" certain areas where drug price increases seem to have little basis in rational actions . \" <span style=\"background-color:rgba(0,255,0,0.3)\"></p><p></span> But pressed on whether he would support Trump 's call for Medicare to negotiate with drug companies , Price tried to sidestep . If confirmed , Trump would be his boss , Price said , but he also suggested <span style=\"background-color:rgba(255,0,0,0.3)\">that</span> the idea of negotiations needs further study <span style=\"background-color:rgba(0,255,0,0.3)\">. He was supportive of requiring drugmakers to provide more public information about how they set prices</span> . </p><p> Democrats also challenged Price on his extensive stock portfolio . His investments have prompted questions about potential conflicts of interest and calls for a Securities and Exchange Commission investigation of possible insider trading . </p><p> <span style=\"background-color:rgba(255,0,0,0.3)\">Last week , Price signed a government ethics agreement pledging to sell his stocks , but that has n't stopped the questions . </p><p></span> Sen. Al Franken , D - Minn . , suggested Price got a special deal in the purchase of stock in an Australian drug company , Innate Immunotherapeutics . But Price insisted <span style=\"background-color:rgba(255,0,0,0.3)\">he</span> other investors also had the same option . </p><p> \" I think our job is to avoid the appearance of conflict , \" Franken chastised . \" And you have not done that . \" </p><p> Republicans bristled at such questions . </p><p> \" To question whether you are honest is insulting , \" Sen. Rand Paul , R - Ky . , told Price . </p><p> <span style=\"background-color:rgba(0,255,0,0.3)\">HELP</span> <span style=\"background-color:rgba(255,0,0,0.3)\">The department Price would lead has a $ 1 trillion budget and about 80,000 employees . It runs major health insurance programs , including Medicare , Medicaid and HealthCare.gov . Price would also be ultimately responsible for the Food and Drug Administration , the National Institutes of Health and the Centers for Disease Control and Prevention . </p><p> Generally , Republicans want to overhaul the health care system to shift a greater financial responsibility and risk to individuals . They argue that would help create a genuine market for medical care , leading consumers to demand lower prices for services . </p><p> Republicans would loosen many Obama - era regulations on insurers , such as limits on how much older customers can be charged , and requirements that certain benefits be covered . They would cap the tax - free status of employer - provided health insurance . And Price favors limitations on jury awards in malpractice cases . </p><p> The Senate panel</span> is one of two Senate committees that will hold hearings on Price . The Finance Committee , which actually votes on reporting the nomination to the Senate floor , will conduct a hearing next week .</p>"
      ],
      "text/plain": [
       "<IPython.core.display.HTML object>"
      ]
     },
     "metadata": {},
     "output_type": "display_data"
    }
   ],
   "source": [
    "display(HTML(d.list_to_html(d.output_diff_lists(*t_diffs[3]))))"
   ]
  },
  {
   "cell_type": "code",
   "execution_count": 1646,
   "metadata": {
    "scrolled": true
   },
   "outputs": [
    {
     "data": {
      "text/html": [
       "<p>WASHINGTON         ( AP ) -- <span style=\"background-color:rgba(0,255,0,0.3)\">Offering reassurances ,</span> President - elect Donald Trump 's pick for health secretary said Wednesday <span style=\"background-color:rgba(255,0,0,0.3)\">that access and affordability were his goals for revamping health care , and he offered assurances that the new administration is not planning to launch a Medicare overhaul</span> <span style=\"background-color:rgba(0,255,0,0.3)\">the new administration wo n't \" pull the rug out \" from those covered by \" Obamacare . \" Democrats were unimpressed , noting a lack of specifics</span> . </p><p> Rep. Tom Price , R - Ga . , <span style=\"background-color:rgba(255,0,0,0.3)\">testified before</span> <span style=\"background-color:rgba(0,255,0,0.3)\">also told</span> the Senate Health , Education , Labor and Pensions <span style=\"background-color:rgba(0,255,0,0.3)\">Committee that Trump is \" absolutely not \" planning to launch an overhaul of Medicare as he tries to   revamp coverage under President Barack Obama 's    signature health care law . He acknowledged that high prescription drug costs are a problem , but did not endorse the idea of government directly negotiating prices . </p><p> Throughout the nearly four - hour hearing , Democrats peppered Price with  questions about his stock trades .   The sometimes confusing exchanges involved different transactions under distinct circumstances . Price , who has signed a government ethics agreement to sell his stock , was clearly annoyed by the suggestion that he profited from his official position . \" I 'm offended by that insinuation , \" he told Sen. Elizabeth Warren , D - Mass . </p><p> Committee Chairman Lamar Alexander , R - Tenn . , lauded Price 's performance , but ranking Democrat Patty Murray of Washington said she remains deeply concerned . No Democrats offered support for the  62-year - old nominee , an orthopedic surgeon - turned - legislator . </p><p> Price said he wants to reopen a    bipartisan dialogue on health      care centered on practical solutions . </p><p> \" One of my goals in this entire debate is to lower the temperature ,       \" said        Price , speaking in even , measured tones . \" People need to know that no rug is  going to be pulled out from under  them . \"    </p><p>    Alexander said he took that to mean that the Trump administration will follow his advice and not attempt to repeal the 2010 health care law without a replacement ready to go . The Affordable Care Act is providing coverage to about 20 million people , and government as well as private experts say repealing without a  concrete substitute would throw millions off their coverage and spike premiums . </p><p> But   Sen. Tim Kaine    , D - Va . , Hillary Clinton 's running mate , said      , \" I do n't think ' lowering the temperature ' is consistent with rushing \" to repeal and replace . Trump has       promised to unveil a plan when Price         is confirmed</span> <span style=\"background-color:rgba(255,0,0,0.3)\">at the start of a confirmation process that at times turned contentious . </p><p> He said the health care system is  losing focus on patients , its first priority . </p><p> He answered \" absolutely not , \" when asked if the incoming administration intends to  tackle Medicare while trying   to repeal President Barack Obama 's health care law and replace it with a GOP version . </p><p> As for the coverage goal of  a new    health law      , Price said no one is interested in pulling the rug out from under any American . Pressed on prescription drug costs , he said pricing decisions by pharmaceutical companies sometimes do n't seem to make sense . But Price stopped short of endorsing direct negotiations between the government and drug companies  .   </p><p> The committee chairman , Sen. Lamar Alexander , R - Tenn . , praised the selection of Price , an orthopedic surgeon - turned - lawmaker , to head the Department of Health and Human Services . Alexander also warned fellow Republicans not to attempt to repeal the Affordable Care Act without a replacement  . </p><p> But the committee 's top Democrat , Sen.   Patty Murray of Washington state ,    said she      has \" serious concerns \" about       Price 's qualifications</span> . </p><p> With coverage for millions <span style=\"background-color:rgba(255,0,0,0.3)\">of people at stake , Price is facing</span> <span style=\"background-color:rgba(0,255,0,0.3)\">at stake , Price faced</span> pointed questions about Trump 's <span style=\"background-color:rgba(0,255,0,0.3)\">evolving stance on  health care .</span> <span style=\"background-color:rgba(255,0,0,0.3)\">health policies - and his own investments in  health care  companies . </p><p> Price is largely a known quantity on Capitol Hill , but Trump 's bottom line on health care remains a mystery for Democrats and Republicans alike . While</span> Trump campaigned on repealing Obama 's law , <span style=\"background-color:rgba(0,255,0,0.3)\">but</span> at times he 's sounded more like a liberal . For example , he made recent comments about providing insurance for everyone and taking on the drug companies . </p><p> <span style=\"background-color:rgba(0,255,0,0.3)\">In</span> <span style=\"background-color:rgba(255,0,0,0.3)\">Trump said in</span> an interview aired Wednesday on Fox <span style=\"background-color:rgba(255,0,0,0.3)\">that</span> <span style=\"background-color:rgba(0,255,0,0.3)\">News Channel , Trump said</span> his approach would offer coverage through private insurers for people who can not afford it . </p><p> \" Nobody is going to be dying on the streets with a President Trump , \" he said . <span style=\"background-color:rgba(255,0,0,0.3)\">Trump offered no details .</span> He said his plan would \" probably \" turn Medicaid over to the states in the form of block grants to cover low - income people . <span style=\"background-color:rgba(255,0,0,0.3)\"></p><p> Price , 62 ,</span> <span style=\"background-color:rgba(0,255,0,0.3)\">Democrats reminded Price that approach could lock in big cuts . </p><p> Price</span> represents Atlanta 's northern suburbs and <span style=\"background-color:rgba(0,255,0,0.3)\">until recently led</span> <span style=\"background-color:rgba(255,0,0,0.3)\">leads</span> the House Budget Committee . A budget hawk and a social conservative , he drafted his own plan to replace Obama 's health law <span style=\"background-color:rgba(255,0,0,0.3)\">, which now provides coverage for about 20 million people</span> . It would have saved taxpayers money but covered fewer people , according to an outside analysis . </p><p> Sen. Bernie Sanders , <span style=\"background-color:rgba(255,0,0,0.3)\">D</span> <span style=\"background-color:rgba(0,255,0,0.3)\">I</span> - Vt . , pressed Price on whether Trump intends to keep promises repeatedly made during the presidential campaign not to cut Social Security , Medicare <span style=\"background-color:rgba(255,0,0,0.3)\">,</span> and Medicaid . </p><p> \" I have no reason to believe he 's changed his position , \" Price said . <span style=\"background-color:rgba(0,255,0,0.3)\">He expressed support for some provisions of the Obama health law , including allowing young adults to remain on parental coverage , protecting people with pre - existing medical conditions , and closing the Medicare prescription drug coverage gap . </p><p> Questioned by</span> Sen. Tammy Baldwin , D - Wis . , <span style=\"background-color:rgba(255,0,0,0.3)\">questioned Price about prescription drug costs . </p><p> He acknowledged  that</span> there are \" certain areas where drug price increases seem to have little basis in rational actions . \" <span style=\"background-color:rgba(0,255,0,0.3)\"></p><p></span> But pressed on whether he would support Trump 's call for Medicare to negotiate with drug companies , Price tried to sidestep . If confirmed , Trump would be his boss , Price said , but he also suggested <span style=\"background-color:rgba(255,0,0,0.3)\">that</span> the idea of negotiations needs further study <span style=\"background-color:rgba(0,255,0,0.3)\">. He was supportive of requiring drugmakers to provide more public information about how they set prices</span> . </p><p> Democrats also challenged Price on his extensive stock portfolio . His investments have prompted questions about potential conflicts of interest and calls for a Securities and Exchange Commission investigation of possible insider trading . </p><p> <span style=\"background-color:rgba(255,0,0,0.3)\">Last week , Price signed a government ethics agreement pledging to sell his stocks , but that has n't stopped the questions . </p><p></span> Sen. Al Franken , D - Minn . , suggested Price got a special deal in the purchase of stock in an Australian drug company , Innate Immunotherapeutics . But Price insisted <span style=\"background-color:rgba(255,0,0,0.3)\">he</span> other investors also had the same option . </p><p> \" I think our job is to avoid the appearance of conflict , \" Franken chastised . \" And you have not done that . \" </p><p> Republicans bristled at such questions . </p><p> \" To question whether you are honest is insulting , \" Sen. Rand Paul , R - Ky . , told Price . </p><p> <span style=\"background-color:rgba(0,255,0,0.3)\">HELP</span> <span style=\"background-color:rgba(255,0,0,0.3)\">The department Price would lead has a $ 1 trillion budget and about 80,000 employees . It runs major health insurance programs , including Medicare , Medicaid and HealthCare.gov . Price would also be ultimately responsible for the Food and Drug Administration , the National Institutes of Health and the Centers for Disease Control and Prevention . </p><p> Generally , Republicans want to overhaul the health care system to shift a greater financial responsibility and risk to individuals . They argue that would help create a genuine market for medical care , leading consumers to demand lower prices for services . </p><p> Republicans would loosen many Obama - era regulations on insurers , such as limits on how much older customers can be charged , and requirements that certain benefits be covered . They would cap the tax - free status of employer - provided health insurance . And Price favors limitations on jury awards in malpractice cases . </p><p> The Senate panel</span> is one of two Senate committees that will hold hearings on Price . The Finance Committee , which actually votes on reporting the nomination to the Senate floor , will conduct a hearing next week .</p>"
      ],
      "text/plain": [
       "<IPython.core.display.HTML object>"
      ]
     },
     "metadata": {},
     "output_type": "display_data"
    }
   ],
   "source": [
    "display(HTML(d.list_to_html(\n",
    "d.rolling_window(d.output_diff_lists(*t_diffs[3]), window_size=5)\n",
    ")))"
   ]
  },
  {
   "cell_type": "code",
   "execution_count": 1599,
   "metadata": {},
   "outputs": [],
   "source": [
    "d = p.diffHandler()"
   ]
  },
  {
   "cell_type": "code",
   "execution_count": 1580,
   "metadata": {},
   "outputs": [],
   "source": [
    "t = (ap_entry_version\n",
    " .loc[lambda df: df['id'].isin(all_diffs_lists_dict['ap'][1])]\n",
    " .sort_values('created')\n",
    " ['summary']\n",
    ")\n",
    "\n",
    "t_diffs = list(zip(t[:-1], t[1:]))\n",
    "t_list = p.output_diff_lists(*t_diffs[3])\n",
    "t_rolled_list = p.rolling_window(t_list, window_size=20)"
   ]
  },
  {
   "cell_type": "code",
   "execution_count": 1581,
   "metadata": {
    "scrolled": true
   },
   "outputs": [
    {
     "data": {
      "text/html": [
       "         WASHINGTON        (AP) -- <span style=\"background-color:rgba(0,255,0,0.3)\">Offering reassurances, </span>President-elect Donald Trump's pick for health secretary said Wednesday th<span style=\"background-color:rgba(255,0,0,0.3)\">at acc</span>e<span style=\"background-color:rgba(255,0,0,0.3)\">ss</span> <span style=\"background-color:rgba(255,0,0,0.3)\">a</span>n<span style=\"background-color:rgba(255,0,0,0.3)\">d</span><span style=\"background-color:rgba(0,255,0,0.3)\">ew</span> a<span style=\"background-color:rgba(255,0,0,0.3)\">ffor</span>d<span style=\"background-color:rgba(0,255,0,0.3)\">ministr</span>a<span style=\"background-color:rgba(0,255,0,0.3)\">tion won't \"pull the rug out\" from those covered </span>b<span style=\"background-color:rgba(255,0,0,0.3)\">ilit</span>y <span style=\"background-color:rgba(0,255,0,0.3)\">\"Obamacare.\" Democrats </span>were <span style=\"background-color:rgba(0,255,0,0.3)\">u</span><span style=\"background-color:rgba(255,0,0,0.3)\">his goals for revampi</span>n<span style=\"background-color:rgba(0,255,0,0.3)\">imp</span><span style=\"background-color:rgba(255,0,0,0.3)\">g health ca</span>re<span style=\"background-color:rgba(0,255,0,0.3)\">ssed</span>, <span style=\"background-color:rgba(255,0,0,0.3)\">a</span>n<span style=\"background-color:rgba(255,0,0,0.3)\">d he </span>o<span style=\"background-color:rgba(255,0,0,0.3)\">ffered assurances </span>t<span style=\"background-color:rgba(255,0,0,0.3)\">hat the new adm</span>in<span style=\"background-color:rgba(255,0,0,0.3)\">istration is not plannin</span>g <span style=\"background-color:rgba(255,0,0,0.3)\">to l</span>a<span style=\"background-color:rgba(255,0,0,0.3)\">unch</span> <span style=\"background-color:rgba(255,0,0,0.3)\">a Medicare overhau</span>l<span style=\"background-color:rgba(0,255,0,0.3)\">ack of specifics</span>.<br><br>Rep. Tom Price, R-Ga., <span style=\"background-color:rgba(255,0,0,0.3)\">te</span><span style=\"background-color:rgba(0,255,0,0.3)\">al</span>s<span style=\"background-color:rgba(0,255,0,0.3)\">o</span><span style=\"background-color:rgba(255,0,0,0.3)\">tified</span> <span style=\"background-color:rgba(0,255,0,0.3)\">told the Senate Health, Education, La</span>b<span style=\"background-color:rgba(255,0,0,0.3)\">ef</span>or<span style=\"background-color:rgba(255,0,0,0.3)\">e</span> <span style=\"background-color:rgba(255,0,0,0.3)\">the Sen</span>a<span style=\"background-color:rgba(255,0,0,0.3)\">t</span><span style=\"background-color:rgba(0,255,0,0.3)\">nd P</span>e<span style=\"background-color:rgba(0,255,0,0.3)\">nsions Committee that Trump is \"absolutely not\" planning to launch an overhaul of Medicare as he tries to revamp coverage under President Barack Obama's signature health care law.</span> He<span style=\"background-color:rgba(0,255,0,0.3)\"> </span>a<span style=\"background-color:rgba(0,255,0,0.3)\">cknow</span>l<span style=\"background-color:rgba(0,255,0,0.3)\">edged </span>th<span style=\"background-color:rgba(0,255,0,0.3)\">at high prescription drug costs are a problem</span>, <span style=\"background-color:rgba(255,0,0,0.3)\">Education, La</span>b<span style=\"background-color:rgba(255,0,0,0.3)\">or and Pensions at the start of a confirmation process that at times t</span>u<span style=\"background-color:rgba(255,0,0,0.3)\">rned con</span>t<span style=\"background-color:rgba(0,255,0,0.3)\"> d</span><span style=\"background-color:rgba(255,0,0,0.3)\">ent</span>i<span style=\"background-color:rgba(0,255,0,0.3)\">d n</span>o<span style=\"background-color:rgba(255,0,0,0.3)\">u</span><span style=\"background-color:rgba(0,255,0,0.3)\">t endorse the idea of government directly negotiating price</span>s.<br><br><span style=\"background-color:rgba(0,255,0,0.3)\">T</span><span style=\"background-color:rgba(255,0,0,0.3)\">He said t</span>h<span style=\"background-color:rgba(255,0,0,0.3)\">e health ca</span>r<span style=\"background-color:rgba(255,0,0,0.3)\">e</span><span style=\"background-color:rgba(0,255,0,0.3)\">oughout</span> <span style=\"background-color:rgba(255,0,0,0.3)\">s</span><span style=\"background-color:rgba(0,255,0,0.3)\">the nearl</span>y<span style=\"background-color:rgba(255,0,0,0.3)\">stem</span> <span style=\"background-color:rgba(255,0,0,0.3)\">is losing </span>fo<span style=\"background-color:rgba(255,0,0,0.3)\">c</span>u<span style=\"background-color:rgba(255,0,0,0.3)\">s </span><span style=\"background-color:rgba(0,255,0,0.3)\">r-h</span>o<span style=\"background-color:rgba(255,0,0,0.3)\">n</span><span style=\"background-color:rgba(0,255,0,0.3)\">ur</span> <span style=\"background-color:rgba(0,255,0,0.3)\">h</span><span style=\"background-color:rgba(255,0,0,0.3)\">pati</span>e<span style=\"background-color:rgba(0,255,0,0.3)\">ari</span>n<span style=\"background-color:rgba(0,255,0,0.3)\">g</span><span style=\"background-color:rgba(255,0,0,0.3)\">ts</span>, <span style=\"background-color:rgba(0,255,0,0.3)\">Dem</span><span style=\"background-color:rgba(255,0,0,0.3)\">its first pri</span>o<span style=\"background-color:rgba(0,255,0,0.3)\">c</span>r<span style=\"background-color:rgba(255,0,0,0.3)\"></span>........."
      ],
      "text/plain": [
       "<IPython.core.display.HTML object>"
      ]
     },
     "metadata": {},
     "output_type": "display_data"
    }
   ],
   "source": [
    "display(HTML(p.list_to_html(t_list)[:5003] + '</span>.........'))"
   ]
  },
  {
   "cell_type": "markdown",
   "metadata": {},
   "source": [
    "-----------------------------------------------------\n",
    "\n",
    "Because it seeks to maximize the overlap, it gets these garbled phrases. To fix this, we implemented a rolling-window merge operation. This gist of this algorithm is to:\n",
    "\n",
    "* While not done:\n",
    "  * Iterate through each diff block, _i_ in the text sequentially.\n",
    "    * (where a diff block is a continuous block of characters sharing the same color: green, red or clear)\n",
    "  * If diff block _i+1_ has length > window size _w_, __merge__\n",
    "\n",
    "We develop a number of heuristics on how to merge with the contiguous blocks around depending on whether blocks _i-1,  i, i+1, i+2_ are green, red or clear.\n",
    "\n",
    "Sparing the gory details for the paper appendix, here is the output, with window _w=20_ characters. We use this merge algorithm going forward.\n",
    "\n",
    "----------------------------------------------------"
   ]
  },
  {
   "cell_type": "code",
   "execution_count": 1382,
   "metadata": {},
   "outputs": [
    {
     "data": {
      "text/html": [
       "         WASHINGTON        (AP) -- <span style=\"background-color:rgba(0,255,0,0.3)\">Offering reassurances, </span>President-elect Donald Trump's pick for health secretary said Wednesday th<span style=\"background-color:rgba(255,0,0,0.3)\">at access and affordability were his goals for revamping health care, and he offered assurances that the new administration is not planning to launch a Medicare overhaul</span><span style=\"background-color:rgba(0,255,0,0.3)\">e new administration won't \"pull the rug out\" from those covered by \"Obamacare.\" Democrats were unimpressed, noting a lack of specifics</span>.<br><br>Rep. Tom Price, R-Ga., <span style=\"background-color:rgba(255,0,0,0.3)\">testified before the Senate Health, Education, Labor and Pensions at the start of a confirmation process that at times turned contentious.<br><br>He said the health care system is losing focus on patients, its first priority.<br><br>He answered \"absolutely not,\" when asked if the incoming administration intends to tackle Medicare while trying to repeal President Barack Obama's health care law and replace it</span>....."
      ],
      "text/plain": [
       "<IPython.core.display.HTML object>"
      ]
     },
     "metadata": {},
     "output_type": "display_data"
    }
   ],
   "source": [
    "display(HTML(list_to_html(t_rolled_list)[:1095] + '</span>.....'))"
   ]
  },
  {
   "cell_type": "markdown",
   "metadata": {},
   "source": [
    "-------------------------------------------------------------------\n",
    "(__NOTE__: Sz-rung suggested doing the diffs and merge operations on the word-level instead of the character-level which seems like a really good idea)"
   ]
  },
  {
   "cell_type": "markdown",
   "metadata": {},
   "source": [
    "#### Sanity Check\n",
    "\n",
    "After our merge operation, as a sanity check, we can still recover the original articles _t_ and _t+1_"
   ]
  },
  {
   "cell_type": "code",
   "execution_count": 1075,
   "metadata": {},
   "outputs": [],
   "source": [
    "def check_processed_diff(article_vers_pair, processed_diff):\n",
    "    checks = []\n",
    "    for orig_idx, p_sym in [(0, '-'), (1, '+')]:\n",
    "        ## process orig\n",
    "        orig_check = article_vers_pair[orig_idx].replace('<p>', '').replace('</p>', '')\n",
    "        orig_check = ' '.join(orig_check.split())\n",
    "\n",
    "        ## process \n",
    "        rolled_check = ''.join(\n",
    "            pd.DataFrame(processed_diff)\n",
    "             .loc[lambda df: df['label'].isin([' ', p_sym])]\n",
    "             ['text'].tolist()\n",
    "        ).replace('<p>', '').replace('</p>', '')\n",
    "        rolled_check = ' '.join(rolled_check.split())\n",
    "\n",
    "        ## perform check\n",
    "        t_list = p.output_diff_lists(orig_check, rolled_check)\n",
    "        remove_spaces = list(filter(lambda x: ''.join(x['text'].split()) != '', t_list))\n",
    "        checks.append(\n",
    "            [p_sym, all(map(lambda x: x['label'] == ' ', remove_spaces))]\n",
    "        )\n",
    "    return checks"
   ]
  },
  {
   "cell_type": "code",
   "execution_count": 1083,
   "metadata": {},
   "outputs": [
    {
     "name": "stdout",
     "output_type": "stream",
     "text": [
      "Sanity Check, sans rolling window:\n",
      "[['-', True], ['+', True]]\n",
      "\n",
      "Sanity Check, with rolling window:\n",
      "[['-', True], ['+', True]]\n"
     ]
    }
   ],
   "source": [
    "print('Sanity Check, sans rolling window:')\n",
    "print(check_processed_diff(t_diffs[3], t_list))\n",
    "print()\n",
    "print('Sanity Check, with rolling window:')\n",
    "print(check_processed_diff(t_diffs[3], t_rolled_list))"
   ]
  },
  {
   "cell_type": "markdown",
   "metadata": {},
   "source": [
    "# Diff Text-Level Statistics"
   ]
  },
  {
   "cell_type": "code",
   "execution_count": 587,
   "metadata": {},
   "outputs": [],
   "source": [
    "from tqdm.auto import tqdm"
   ]
  },
  {
   "cell_type": "markdown",
   "metadata": {},
   "source": [
    "## Article Overlap"
   ]
  },
  {
   "cell_type": "code",
   "execution_count": 1638,
   "metadata": {},
   "outputs": [
    {
     "data": {
      "application/vnd.jupyter.widget-view+json": {
       "model_id": "c2f4016439f14e8dada990974f17be03",
       "version_major": 2,
       "version_minor": 0
      },
      "text/plain": [
       "HBox(children=(HTML(value=''), FloatProgress(value=0.0, max=50541.0), HTML(value='')))"
      ]
     },
     "metadata": {},
     "output_type": "display_data"
    },
    {
     "name": "stdout",
     "output_type": "stream",
     "text": [
      "\n"
     ]
    }
   ],
   "source": [
    "from difflib import SequenceMatcher\n",
    "\n",
    "nd_diff_ratio = []\n",
    "for old_id, new_id in tqdm(diffs_dict['ap'][['old_id', 'new_id']].itertuples(index=False), total=len(diffs_dict['ap'])):\n",
    "    a1, a2 = (\n",
    "        ap_entry_version\n",
    "              .loc[lambda df: df['id'].isin([old_id, new_id])]\n",
    "              ['summary']\n",
    "             )\n",
    "    \n",
    "    r = SequenceMatcher(None, a1, a2).ratio()\n",
    "    nd_diff_ratio.append(r)"
   ]
  },
  {
   "cell_type": "code",
   "execution_count": 1654,
   "metadata": {},
   "outputs": [
    {
     "data": {
      "text/plain": [
       "Text(0.5, 0, 'Diff. Ratio')"
      ]
     },
     "execution_count": 1654,
     "metadata": {},
     "output_type": "execute_result"
    },
    {
     "data": {
      "image/png": "[encoded data removed]",
      "text/plain": [
       "<Figure size 432x216 with 1 Axes>"
      ]
     },
     "metadata": {
      "needs_background": "light"
     },
     "output_type": "display_data"
    }
   ],
   "source": [
    "ax = pd.Series(nd_diff_ratio).hist(bins=100, figsize=(6,3))\n",
    "ax.grid(False)\n",
    "ax.spines['top'].set_visible(False)\n",
    "ax.spines['right'].set_visible(False)\n",
    "ax.set_ylabel('Num Article Pairs')\n",
    "ax.set_xlabel('Diff. Ratio')"
   ]
  },
  {
   "cell_type": "code",
   "execution_count": 1711,
   "metadata": {},
   "outputs": [
    {
     "data": {
      "text/plain": [
       "(28196, 7)"
      ]
     },
     "execution_count": 1711,
     "metadata": {},
     "output_type": "execute_result"
    }
   ],
   "source": [
    "diffs_dict['ap'].loc[lambda df: (df['diff_ratio'] > .2) & (df['diff_ratio'] < .99)].shape"
   ]
  },
  {
   "cell_type": "code",
   "execution_count": 1689,
   "metadata": {},
   "outputs": [
    {
     "data": {
      "text/plain": [
       "(19247, 7)"
      ]
     },
     "execution_count": 1689,
     "metadata": {},
     "output_type": "execute_result"
    }
   ],
   "source": [
    "diffs_dict['ap'].loc[lambda df: df['diff_ratio'] <= .2].shape"
   ]
  },
  {
   "cell_type": "code",
   "execution_count": 1655,
   "metadata": {},
   "outputs": [],
   "source": [
    "diffs_dict['ap']['diff_ratio'] = nd_diff_ratio"
   ]
  },
  {
   "cell_type": "code",
   "execution_count": 1677,
   "metadata": {},
   "outputs": [],
   "source": [
    "d = p.diffHandler(window_size=15)"
   ]
  },
  {
   "cell_type": "code",
   "execution_count": 1707,
   "metadata": {},
   "outputs": [],
   "source": [
    "a1, a2 = (diffs_dict['ap']\n",
    " .loc[lambda df: df['diff_ratio'] >.990]\n",
    " .sort_values('diff_ratio', ascending=True)\n",
    " [['old_id', 'new_id']]\n",
    " .iloc[3]\n",
    " .pipe(lambda s: ap_entry_version.loc[lambda df: df['id'].isin(s)])\n",
    " ['summary']\n",
    ")"
   ]
  },
  {
   "cell_type": "code",
   "execution_count": 1708,
   "metadata": {
    "scrolled": true
   },
   "outputs": [
    {
     "data": {
      "text/html": [
       " JERUSALEM (AP) -- Is Israel a success as it turns 70? As Israelis commemorate the milestone this week, satisfaction and a grim disquiet share the stage.<br><br>It has a standard of living that rivals Western Europe, <span style=\"background-color:rgba(255,0,0,0.3)\">without the</span><span style=\"background-color:rgba(0,255,0,0.3)\">though it lacks significant</span> natural resources. It can boast of scientific achievements and military and technological clout beyond its modest size. It controls most of biblical Israel, and despite widespread criticism of its policies toward the Palestinians, it has cultivated good diplomatic ties with most of the world.<br><br>But it's also a country that is weary from decades of conflict with the Palestinians. It is riven by religious, ethnic and economic divisions. It is still seeking recognition in a region that has not fully come to terms with the presence of a Jewish state.<br><br>Its founding declaration offers it as a \"light unto the nations,\" but it still is regularly accused of war crimes against Palestinians, millions of whom it has controlled for decades without the right to vote<span style=\"background-color:rgba(0,255,0,0.3)\">. There is no end in sight to its occupation of the West Bank, or to its crippling blockade of Hamas-ruled Gaza</span>.<br><br>The grand peace hopes of the 1990s have mostly evaporated. Israel still feels endangered, with well-armed adversaries calling for its destruction and no permanent borders. Israelis are fretting over the possibility of war with archenemy Iran, which has a military presence in neighboring Syria.<br><br>Prime Minister Benjamin Netanyahu, despite winning three elections since 2009, is reviled by many and faces corruption scandals.<br><br>A look at Israel at 70:<br><br>WEALTH AND ECONOMIC INEQUALITY<br><br>Fueled by a vibrant high-tech sector, Israel's per capita GDP of almost $40,000 ranks with Italy and South Korea, and is within reach of Britain and France.<br><br>But it also suffers from one of the highest levels of inequality in the developed world, and poverty is especially prevalent among its Arabs and ultra-Orthodox Jews.<br><br>These two sectors, at nearly a third of the population and growing, risk dragging down the rest of the economy.<br><br>PUNCHING ABOVE ITS WEIGHT<br><br>For a country of just under 9 million, Israel has enjoyed surprising success. It counts eight living Nobel winners among its citizens and has helped give the world instant messaging, Intel chips and smart, autonomous vehicles. High-tech units in the military have made Israel a global cybersecurity powerhouse.<br><br>It is in a small club of nations to have launched a satellite, and is widely believed to be among an even smaller group with nuclear weapons, although the government won't confirm it. Israel has one of the world's strongest air forces.<br><br>It has won European basketball championships and song contests, and hit shows like \"Homeland,\" ''In Treatment\" and \"Fauda\" are Israeli creations. Last year's blockbuster \"Wonder Woman\" - the highest-grossing live-action movie directed by a woman - starred Israeli actress Gal Gadot.<br><br>FORGING A NATIONAL IDENTITY<br><br>Despite decades of development, Israel is still working at forging a national identity.<br><br>Over a century ago, Zionists in Europe saw the Jews as a nation, not just a religion. Persecution in Europe, culminating in the Holocaust, sent European Jews pouring into the Holy Land.<br><br>Soon after Israel's establishment in 1948, they were joined by immigrants from countries like Morocco, Yemen, Iraq and Iran.<br><br>These Middle Eastern, or Mizrahi, Jews had little in common with their European counterparts. They were poorer, more religious and often targets of discrimination. Three generations of integration and intermarriage have blurred the distinctions, but gaps remain.<br><br>Arrivals from the former Soviet Union and Ethiopia have made Israel even more diverse, yet the different communities still often keep to themselves.<br><br>The entire arrangement can seem an affront to the founding idea of the Jews as a nation - yet it is also a rare feat that all of these have been forged into a Hebrew-speaking population with considerable national pride.<br><br>Still, antipathy exists along cultural lines: Many Europeans, still said to account for perhaps half the Jews in Israel, cannot stand the popular Arabic-style \"Mizrahi music\" that in earlier days was suppressed; Moroccan-descended Culture Minister Miri Regev once boasted she does not read Chekhov.<br><br>Meanwhile, nationalist lawmakers push legislation that would define Israel as the Jewish nation-state. These initiatives have faltered so far amid criticism that they would discriminate against the Arab minority of about one in five citizens.<br><br>DISAGREEMENTS OVER JUDAISM<br><br>After 70 years, the place of Judaism in the Jewish state is unclear.<br><br>Most Israelis are either secular or mildly religious. Yet the devout ultra-Orthodox, about 10 percent of the population, wield disproportionate influence because right-wing coalitions never have been able to muster a majority without them.<br><br>They have used their political power to shut down much of the country on Saturdays, the Jewish day of rest; obtain exemptions from compulsory military service; and gain a monopoly overseeing rituals like weddings and funerals. Their strict rules have upset the secular majority, but attempts at change frequently result in violent protests.<br><br>The issue of religion has also affected relations with U.S. Jews - the largest Jewish community outside Israel and a key base of support. Israel's Orthodox establishment repeatedly has sought to prevent inroads made by the liberal streams of Judaism popular in the U.S. Last year, it blocked plans to allow egalitarian prayer at Jerusalem's Western Wall.<br><br>Such moves have created a sense that liberal American Jews are unwelcome. They also have been disenchanted by Israeli policies toward the Palestinians. American Jews tend to be liberal and support the Democratic Party, while Netanyahu boasts close ties with President Donald Trump.<br><br>RELATIONS WITH ARAB WORLD<br><br>After Israel declared independence, its Arab neighbors attacked it. And even after the watershed 1967 Mideast war, in which Israel captured <span style=\"background-color:rgba(255,0,0,0.3)\">parts of</span><span style=\"background-color:rgba(0,255,0,0.3)\">territories from</span> Syria, Jordan and Egypt, the Arab world refused to engage.<br><br>That began to change with the 1979 peace agreement with Egypt, Israel's first with an Arab country. Jordan followed in 1994, after Israel reached an interim peace deal with the Palestine Liberation Organization. Meanwhile, Netanyahu strengthened ties with countries like India, China and Russia.<br><br>He often boasts of covert ties with moderate Arab countries - presumably Saudi Arabia and other Gulf nations that share Israel's concerns about Iran. Saudi Arabia now allows flights between Israel and India to use its airspace. But without resolution of the Palestinian issue, formal relations remain elusive.<br><br>PALESTINIAN ENTANGLEMENT<br><br>The euphoria that accompanied the interim peace accords of the mid-1990s was short-lived.<br><br>The sides established an autonomous \"Palestinian Authority\" with limited powers on islands of territory but were never able to complete a final deal, due to deep disagreements and repeated violence that killed thousands. Israel's relations with the Palestinian Authority in the West Bank are poor; its relations with Gaza's militant Hamas rulers, who seized the territory from the Palestinian Authority in 2007, are hostile.<br><br>Israel has faced heavy criticism and war crimes allegations for high civilian casualties in Gaza - most recently with the deaths of over two dozen Palestinians in border protests. Israel and Hamas have fought three wars. Hamas, which is committed to Israel's destruction, has repeatedly fired rockets at Israel, with Israel accusing its leaders of using civilians as cover for attacks.<br><br>Despite the autonomy arrangement, Israel has effective control in the West Bank over 2.5 million Palestinians who are left without voting rights, while it has expanded Jewish settlements in the same territory. That has drawn international condemnation and comparisons to apartheid in South Africa.<br><br>For years, it seemed that Israel would agree to a Palestinian state next door in order to preserve its status as a democracy with a Jewish majority. But after failed talks, Israel's current hard-line government opposes the very idea of negotiations. Opponents consider this a suicidal path.<br><br>If things continue this way, a fateful decision awaits: Give Palestinians citizenship in a single state, and end Israel's status as a Jewish-majority country; or maintain a two-tiered system, with a disenfranchised Palestinian population that could no longer credibly claim to be a democracy."
      ],
      "text/plain": [
       "<IPython.core.display.HTML object>"
      ]
     },
     "metadata": {},
     "output_type": "display_data"
    }
   ],
   "source": [
    "display(HTML(d.list_to_html(d.rolling_window(d.output_diff_lists(a1, a2)))))"
   ]
  },
  {
   "cell_type": "markdown",
   "metadata": {},
   "source": [
    "## growth of article over time"
   ]
  },
  {
   "cell_type": "code",
   "execution_count": null,
   "metadata": {},
   "outputs": [],
   "source": [
    "sizes_over_time = []\n",
    "for single_article_diff_list in tqdm(short_lists):\n",
    "    size_over_time = (\n",
    "            ap_entry_version\n",
    "             .loc[lambda df: df['id'].isin(single_article_diff_list)]\n",
    "             .sort_values('created')\n",
    "             ['summary'].str.len()\n",
    "            .pipe(lambda s: s/s.max())\n",
    "    )\n",
    "    sizes_over_time.append(size_over_time)"
   ]
  },
  {
   "cell_type": "code",
   "execution_count": 1114,
   "metadata": {},
   "outputs": [],
   "source": [
    "sizes_over_time_s = (pd.Series(list(map(lambda x: x.tolist(), sizes_over_time)))\n",
    "                     .to_frame('sizes')\n",
    "                     .assign(length=lambda df: df['sizes'].str.len())\n",
    "                    )"
   ]
  },
  {
   "cell_type": "code",
   "execution_count": 1141,
   "metadata": {},
   "outputs": [
    {
     "data": {
      "image/png": "[encoded data removed]",
      "text/plain": [
       "<Figure size 432x288 with 1 Axes>"
      ]
     },
     "metadata": {
      "needs_background": "light"
     },
     "output_type": "display_data"
    }
   ],
   "source": [
    "t = (sizes_over_time_s['sizes']\n",
    " .apply(pd.Series)\n",
    " .unstack()\n",
    " .reset_index()\n",
    ")\n",
    "\n",
    "ax = sns.lineplot(data=t, x=\"level_0\", y=0)\n",
    "ax.set_xlabel('Revision Hist.\\n (Old -> New)')\n",
    "ax.set_ylabel('Article Length\\n (Frac. of Max)')\n",
    "ax.spines['right'].set_visible(False)\n",
    "ax.spines['top'].set_visible(False)"
   ]
  },
  {
   "cell_type": "code",
   "execution_count": 1142,
   "metadata": {
    "scrolled": false
   },
   "outputs": [
    {
     "data": {
      "image/png": "[encoded data removed]",
      "text/plain": [
       "<Figure size 864x576 with 15 Axes>"
      ]
     },
     "metadata": {
      "needs_background": "light"
     },
     "output_type": "display_data"
    }
   ],
   "source": [
    "f, axarr = plt.subplots(nrows=3, ncols=5, figsize=(12, 8))\n",
    "axarr = flatten(axarr)\n",
    "\n",
    "for i in range(15):\n",
    "    t = (sizes_over_time_s\n",
    "     .loc[lambda df: df['length'] == i + 2]['sizes']\n",
    "     .apply(pd.Series)\n",
    "     .unstack()\n",
    "     .reset_index()\n",
    "    )\n",
    "\n",
    "    sns.lineplot(data=t, x=\"level_0\", y=0, ax=axarr[i])\n",
    "    axarr[i].set_xlabel('Revision Hist.\\n (Old -> New)')\n",
    "    axarr[i].set_ylabel('Article Length\\n (Frac. of Max)')\n",
    "    axarr[i].spines['right'].set_visible(False)\n",
    "    axarr[i].spines['top'].set_visible(False)\n",
    "    \n",
    "plt.tight_layout()"
   ]
  },
  {
   "cell_type": "markdown",
   "metadata": {},
   "source": [
    "## How Likely is a Change, throughout the article?"
   ]
  },
  {
   "cell_type": "code",
   "execution_count": 1260,
   "metadata": {},
   "outputs": [
    {
     "data": {
      "image/png": "[encoded data removed]",
      "text/plain": [
       "<Figure size 648x216 with 2 Axes>"
      ]
     },
     "metadata": {
      "needs_background": "light"
     },
     "output_type": "display_data"
    }
   ],
   "source": [
    "k = 801\n",
    "pos_counts = []\n",
    "for a in tqdm(article_diffs):\n",
    "    diff_list_rolled = a['diff_list_rolled']\n",
    "    diff_list_df = pd.DataFrame(diff_list_rolled).loc[lambda df: df['label'].isin([' ', '+'])]\n",
    "    if len(diff_list_df) > 0:\n",
    "        t = (diff_list_df\n",
    "     .assign(text_end=lambda df: df['text'].str.len().cumsum())\n",
    "     .assign(text_start=lambda df: [0] + df['text_end'].tolist()[:-1])\n",
    "     .assign(bin_start=lambda df: pd.cut( df['text_start'] / df['text_end'].max(), np.linspace(0, 1, k), right=False))\n",
    "     .assign(bin_end=lambda df: pd.cut( df['text_end'] / df['text_end'].max(), np.linspace(0, 1, k), right=True))\n",
    "     .assign(spread=lambda df:  df\n",
    " .apply(lambda x: (x['bin_start'] <= df['bin_start'].cat.categories) & (df['bin_start'].cat.categories <= x['bin_end']), axis=1)\n",
    " .apply(lambda x: x.astype(int)))\n",
    "     .loc[lambda df: df['label'] == '+']#['spread'].sum()\n",
    "      )\n",
    "        \n",
    "        pos_counts.append(t)\n",
    "\n",
    "k = 801\n",
    "neg_counts = []\n",
    "for a in tqdm(article_diffs):\n",
    "    diff_list_rolled = a['diff_list_rolled']\n",
    "    diff_list_df = pd.DataFrame(diff_list_rolled).loc[lambda df: df['label'].isin([' ', '-'])]\n",
    "    if len(diff_list_df) > 0:\n",
    "        t = (diff_list_df\n",
    "     .assign(text_end=lambda df: df['text'].str.len().cumsum())\n",
    "     .assign(text_start=lambda df: [0] + df['text_end'].tolist()[:-1])\n",
    "     .assign(bin_start=lambda df: pd.cut( df['text_start'] / df['text_end'].max(), np.linspace(0, 1, k), right=False))\n",
    "     .assign(bin_end=lambda df: pd.cut( df['text_end'] / df['text_end'].max(), np.linspace(0, 1, k), right=True))\n",
    "     .assign(spread=lambda df:  df\n",
    " .apply(lambda x: (x['bin_start'] <= df['bin_start'].cat.categories) & (df['bin_start'].cat.categories <= x['bin_end']), axis=1)\n",
    " .apply(lambda x: x.astype(int)))\n",
    "     .loc[lambda df: df['label'] == '-']#['spread'].sum()\n",
    "      )\n",
    "        \n",
    "        neg_counts.append(t)\n",
    "\n",
    "mean_pos_positions = pd.concat(list(map(lambda x: pd.Series(x['spread'].sum()), pos_counts)), axis=1).mean(axis=1)\n",
    "mean_neg_positions = pd.concat(list(map(lambda x: pd.Series(x['spread'].sum()), neg_counts)), axis=1).mean(axis=1)\n",
    "\n",
    "f, axarr = plt.subplots(1, 2, figsize=(9, 3))\n",
    "\n",
    "(mean_pos_positions\n",
    "      .reset_index().assign(idx=lambda df: np.linspace(0, 1, 800)).set_index('idx')[0]\n",
    "      .plot(ax=axarr[0])\n",
    "     )\n",
    "\n",
    "(mean_neg_positions\n",
    "      .reset_index().assign(idx=lambda df: np.linspace(0, 1, 800)).set_index('idx')[0]\n",
    "      .plot(ax=axarr[1])\n",
    "     )\n",
    "\n",
    "axarr[0].set_ylabel('Frac. of position gets \\n text added to')\n",
    "axarr[1].set_ylabel('Frac. of position gets \\n text cut from')\n",
    "\n",
    "for ax in axarr:\n",
    "    ax.spines['right'].set_visible(False)\n",
    "    ax.spines['top'].set_visible(False)\n",
    "    ax.set_xlabel('Position in Article')\n",
    "    \n",
    "plt.tight_layout()"
   ]
  },
  {
   "cell_type": "code",
   "execution_count": null,
   "metadata": {},
   "outputs": [],
   "source": [
    "# article_diffs = []\n",
    "\n",
    "for single_article_diff_list in tqdm(short_lists[len(article_diffs):]):\n",
    "    entry_id, single_article_entries = (\n",
    "        ap_entry_version\n",
    "         .loc[lambda df: df['id'].isin(single_article_diff_list)]\n",
    "         .sort_values('created')\n",
    "         .pipe(lambda df: (df['entry_id'].unique()[0], df['summary']))\n",
    "    )\n",
    "    \n",
    "    entry_version_ids = list(zip(single_article_diff_list[:-1], single_article_diff_list[1:]))\n",
    "    single_article_entry_pairs = list(zip(single_article_entries[:-1], single_article_entries[1:]))\n",
    "\n",
    "    for entry_version_id, one_entry_pair in zip(entry_version_ids, single_article_entry_pairs):\n",
    "        single_article_one_diff_list = output_diff_lists(*one_entry_pair)\n",
    "        single_article_one_rolled_diff_list = rolling_window(single_article_one_diff_list, window_size=20)\n",
    "        \n",
    "        article_diffs.append({\n",
    "            'entry_id': entry_id,\n",
    "            'entry_version_id': entry_version_id,\n",
    "            'diff_entry_ids': single_article_diff_list,\n",
    "            'diff_list': single_article_one_diff_list,\n",
    "            'diff_list_rolled': single_article_one_rolled_diff_list\n",
    "        })"
   ]
  },
  {
   "cell_type": "code",
   "execution_count": 1127,
   "metadata": {},
   "outputs": [],
   "source": [
    "article_diffs_df = pd.DataFrame(article_diffs)"
   ]
  },
  {
   "cell_type": "code",
   "execution_count": 1135,
   "metadata": {},
   "outputs": [],
   "source": [
    "article_diffs_df = article_diffs_df.merge(\n",
    "    article_diffs_df['entry_id'].value_counts().to_frame('num_revisions_total'),\n",
    "    left_on='entry_id',\n",
    "    right_index=True\n",
    ")"
   ]
  },
  {
   "cell_type": "code",
   "execution_count": 1148,
   "metadata": {},
   "outputs": [],
   "source": [
    "article_diffs_df['order'] = (article_diffs_df\n",
    " .assign(entry_first=lambda df: df['entry_version_id'].str.get(0))\n",
    " .groupby('entry_id')['entry_first']\n",
    " .rank(\"dense\")\n",
    ")"
   ]
  },
  {
   "cell_type": "markdown",
   "metadata": {},
   "source": [
    "## num additions/subtractions per revision"
   ]
  },
  {
   "cell_type": "code",
   "execution_count": 1155,
   "metadata": {},
   "outputs": [],
   "source": [
    "revision_counts_overall = (article_diffs_df['diff_list_rolled']\n",
    " .apply(lambda x: pd.Series(list(map(lambda y: y['label'], x))).value_counts()\n",
    ")).fillna(0)"
   ]
  },
  {
   "cell_type": "code",
   "execution_count": 1186,
   "metadata": {},
   "outputs": [
    {
     "data": {
      "text/plain": [
       "Text(0.5, 0, 'Num. Edits per revision')"
      ]
     },
     "execution_count": 1186,
     "metadata": {},
     "output_type": "execute_result"
    },
    {
     "data": {
      "image/png": "[encoded data removed]",
      "text/plain": [
       "<Figure size 432x288 with 1 Axes>"
      ]
     },
     "metadata": {
      "needs_background": "light"
     },
     "output_type": "display_data"
    }
   ],
   "source": [
    "ax = sns.violinplot(\n",
    "    data=revision_counts_overall[['+', '-']].unstack().reset_index(), \n",
    "    y='level_0', \n",
    "    x = 0,\n",
    "#     showfliers=False\n",
    ")\n",
    "ax.spines['right'].set_visible(False)\n",
    "ax.spines['top'].set_visible(False)\n",
    "ax.set_ylabel('Edit Type')\n",
    "ax.set_xlabel('Num. Edits per revision')"
   ]
  },
  {
   "cell_type": "markdown",
   "metadata": {},
   "source": [
    "## Length of additions/subtractions"
   ]
  },
  {
   "cell_type": "markdown",
   "metadata": {},
   "source": [
    "### overall length of words added/subtracted over all revisions"
   ]
  },
  {
   "cell_type": "code",
   "execution_count": 1222,
   "metadata": {},
   "outputs": [
    {
     "data": {
      "application/vnd.jupyter.widget-view+json": {
       "model_id": "8a8da29a526248cbabb6755696302b32",
       "version_major": 2,
       "version_minor": 0
      },
      "text/plain": [
       "HBox(children=(HTML(value=''), FloatProgress(value=0.0, max=14189.0), HTML(value='')))"
      ]
     },
     "metadata": {},
     "output_type": "display_data"
    },
    {
     "name": "stdout",
     "output_type": "stream",
     "text": [
      "\n"
     ]
    }
   ],
   "source": [
    "len_by_edit = []\n",
    "for x in tqdm(article_diffs_df['diff_list_rolled']):\n",
    "    len_by_edit.append(\n",
    "        (pd.DataFrame(x)\n",
    "         .loc[lambda df: df['label'] != ' ']\n",
    "         .assign(text_len=lambda df: df['text'].str.split().str.len())\n",
    "         [['label', 'text_len']]\n",
    "        #  .groupby('label')['text_len'].sum()\n",
    "        )\n",
    "    )"
   ]
  },
  {
   "cell_type": "code",
   "execution_count": 1226,
   "metadata": {},
   "outputs": [],
   "source": [
    "overall_len_s = pd.concat(list(map(lambda x: x.groupby('label')['text_len'].sum(), len_by_edit)), axis=1).T"
   ]
  },
  {
   "cell_type": "code",
   "execution_count": 1227,
   "metadata": {},
   "outputs": [
    {
     "data": {
      "text/plain": [
       "Text(0.5, 0, 'Length of all edits per revision (words)')"
      ]
     },
     "execution_count": 1227,
     "metadata": {},
     "output_type": "execute_result"
    },
    {
     "data": {
      "image/png": "[encoded data removed]",
      "text/plain": [
       "<Figure size 432x288 with 1 Axes>"
      ]
     },
     "metadata": {
      "needs_background": "light"
     },
     "output_type": "display_data"
    }
   ],
   "source": [
    "ax = sns.boxplot(data=overall_len_s.fillna(0).unstack().reset_index(), y='level_0', x=0, showfliers=False)\n",
    "\n",
    "ax.spines['right'].set_visible(False)\n",
    "ax.spines['top'].set_visible(False)\n",
    "ax.set_ylabel('Edit Type')\n",
    "ax.set_xlabel('Length of all edits per revision (words)')"
   ]
  },
  {
   "cell_type": "markdown",
   "metadata": {},
   "source": [
    "### Mean length of all individual additions/subtractions, over all revisions"
   ]
  },
  {
   "cell_type": "code",
   "execution_count": 1228,
   "metadata": {},
   "outputs": [],
   "source": [
    "len_of_all_edits = pd.concat(len_by_edit)"
   ]
  },
  {
   "cell_type": "code",
   "execution_count": 1251,
   "metadata": {
    "scrolled": true
   },
   "outputs": [
    {
     "data": {
      "text/plain": [
       "Text(0.5, 0, 'Length of edit per individual revision (words)')"
      ]
     },
     "execution_count": 1251,
     "metadata": {},
     "output_type": "execute_result"
    },
    {
     "data": {
      "image/png": "[encoded data removed]",
      "text/plain": [
       "<Figure size 432x288 with 1 Axes>"
      ]
     },
     "metadata": {
      "needs_background": "light"
     },
     "output_type": "display_data"
    }
   ],
   "source": [
    "ax = sns.boxplot(\n",
    "    data=len_of_all_edits.sort_values('label'), \n",
    "    y='label', \n",
    "    x='text_len', \n",
    "    showfliers=False,\n",
    "#     color=['rgba(0,255,0,.5)', 'rgba(255,0,0,.5)']\n",
    ")\n",
    "ax.spines['right'].set_visible(False)\n",
    "ax.spines['top'].set_visible(False)\n",
    "ax.set_ylabel('Edit Type')\n",
    "ax.set_xlabel('Length of edit per individual revision (words)')"
   ]
  },
  {
   "cell_type": "markdown",
   "metadata": {},
   "source": [
    "### mean length of all individual additions/subtractions, by revision number"
   ]
  },
  {
   "cell_type": "code",
   "execution_count": 1259,
   "metadata": {},
   "outputs": [
    {
     "data": {
      "application/vnd.jupyter.widget-view+json": {
       "model_id": "e1b4ab9a46f342c181c111b13318c5bc",
       "version_major": 2,
       "version_minor": 0
      },
      "text/plain": [
       "HBox(children=(HTML(value=''), FloatProgress(value=0.0, max=10.0), HTML(value='')))"
      ]
     },
     "metadata": {},
     "output_type": "display_data"
    },
    {
     "name": "stdout",
     "output_type": "stream",
     "text": [
      "\n"
     ]
    },
    {
     "data": {
      "image/png": "[encoded data removed]",
      "text/plain": [
       "<Figure size 864x360 with 10 Axes>"
      ]
     },
     "metadata": {
      "needs_background": "light"
     },
     "output_type": "display_data"
    }
   ],
   "source": [
    "f, axarr = plt.subplots(nrows=2, ncols=5, figsize=(12, 5))\n",
    "axarr = flatten(axarr)\n",
    "\n",
    "for i in tqdm(range(1, 11)):\n",
    "    t_art = article_diffs_df.loc[lambda df: df['order'] == i]\n",
    "    len_by_edit_r = []\n",
    "    for x in t_art['diff_list_rolled']:\n",
    "        len_by_edit_r.append(\n",
    "            (pd.DataFrame(x)\n",
    "             .loc[lambda df: df['label'] != ' ']\n",
    "             .assign(text_len=lambda df: df['text'].str.split().str.len())\n",
    "             [['label', 'text_len']]\n",
    "            #  .groupby('label')['text_len'].sum()\n",
    "            )\n",
    "        )\n",
    "    \n",
    "    len_of_all_edits_r = pd.concat(len_by_edit_r)\n",
    "    sns.boxplot(\n",
    "        data=len_of_all_edits_r.sort_values('label'), \n",
    "        y='label', \n",
    "        x='text_len', \n",
    "        showfliers=False,\n",
    "        ax=axarr[i-1]\n",
    "    )\n",
    "    axarr[i-1].spines['right'].set_visible(False)\n",
    "    axarr[i-1].spines['top'].set_visible(False)\n",
    "    axarr[i-1].set_ylabel('Edit Type, \\nRevision Num %s' % i)\n",
    "    axarr[i-1].set_xlabel('Length of edit')\n",
    "        \n",
    "plt.tight_layout()"
   ]
  },
  {
   "cell_type": "markdown",
   "metadata": {},
   "source": [
    "## characterization of the additions vs. subtractions\n",
    "### word frequency relative to baseline?"
   ]
  },
  {
   "cell_type": "code",
   "execution_count": 1268,
   "metadata": {},
   "outputs": [],
   "source": [
    "from sklearn.feature_extraction.text import CountVectorizer"
   ]
  },
  {
   "cell_type": "code",
   "execution_count": 1310,
   "metadata": {},
   "outputs": [],
   "source": [
    "cv = CountVectorizer(min_df=.01, max_df=.6, stop_words='english')"
   ]
  },
  {
   "cell_type": "code",
   "execution_count": 1293,
   "metadata": {},
   "outputs": [],
   "source": [
    "diff_list_rolled = pd.DataFrame(flatten(article_diffs_df['diff_list_rolled'].tolist()))"
   ]
  },
  {
   "cell_type": "code",
   "execution_count": 1342,
   "metadata": {},
   "outputs": [],
   "source": [
    "overall_word_counts = cv.fit_transform(ap_entry_version['summary'])\n",
    "baseline_word_counts = np.array(overall_word_counts.sum(axis=0))[0]\n",
    "baseline_word_counts_s = pd.Series(baseline_word_counts, index=pd.Series(cv.vocabulary_).sort_values().index)"
   ]
  },
  {
   "cell_type": "code",
   "execution_count": 1343,
   "metadata": {},
   "outputs": [],
   "source": [
    "pos_word_counts = cv.transform(diff_list_rolled.loc[lambda df: df['label'] == '+']['text'])\n",
    "pos_word_counts = np.array(pos_word_counts.sum(axis=0))[0]\n",
    "pos_word_counts_s = pd.Series(pos_word_counts, index=pd.Series(cv.vocabulary_).sort_values().index)"
   ]
  },
  {
   "cell_type": "code",
   "execution_count": 1344,
   "metadata": {},
   "outputs": [],
   "source": [
    "neg_word_counts = cv.transform(diff_list_rolled.loc[lambda df: df['label'] == '-']['text'])\n",
    "neg_word_counts = np.array(neg_word_counts.sum(axis=0))[0]\n",
    "neg_word_counts_s = pd.Series(neg_word_counts, index=pd.Series(cv.vocabulary_).sort_values().index)"
   ]
  },
  {
   "cell_type": "code",
   "execution_count": 1345,
   "metadata": {},
   "outputs": [],
   "source": [
    "neut_word_counts = cv.transform(diff_list_rolled.loc[lambda df: df['label'] == ' ']['text'])\n",
    "neut_word_counts = np.array(neut_word_counts.sum(axis=0))[0]\n",
    "neut_word_counts_s = pd.Series(neut_word_counts, index=pd.Series(cv.vocabulary_).sort_values().index)"
   ]
  },
  {
   "cell_type": "code",
   "execution_count": 1348,
   "metadata": {},
   "outputs": [],
   "source": [
    "k = 10\n",
    "## positive\n",
    "pos_top_b = (pos_word_counts_s\n",
    " .pipe(lambda s: s / baseline_word_counts_s)\n",
    " .sort_values(ascending=False)\n",
    " .pipe(lambda s: pd.DataFrame({'most lik.': s.index[:k], 'least lik.': s.index[-k:]}))\n",
    ")\n",
    "pos_top_b.columns = pd.MultiIndex.from_arrays([['Additions', 'Additions'], pos_top_b.columns.tolist()])\n",
    "\n",
    "## neutral\n",
    "neut_t_b = (neut_word_counts_s\n",
    ".pipe(lambda s: s / baseline_word_counts_s)\n",
    " .sort_values(ascending=False)\n",
    " .pipe(lambda s: pd.DataFrame({'most lik.': s.index[:k], 'least lik.': s.index[-k:]})))\n",
    "neut_t_b.columns = pd.MultiIndex.from_arrays([['Remain', 'Remain'], ['most lik.', 'least lik.']])\n",
    "\n",
    "neg_t_b = (neg_word_counts_s\n",
    ".pipe(lambda s: s / baseline_word_counts_s)\n",
    " .sort_values(ascending=False)\n",
    " .pipe(lambda s: pd.DataFrame({'most lik.': s.index[:k], 'least lik.': s.index[-k:]})))\n",
    "neg_t_b.columns = pd.MultiIndex.from_arrays([['Remove', 'Remove'], ['most lik.', 'least lik.']])"
   ]
  },
  {
   "cell_type": "code",
   "execution_count": 1349,
   "metadata": {},
   "outputs": [
    {
     "data": {
      "text/html": [
       "<div>\n",
       "<style scoped>\n",
       "    .dataframe tbody tr th:only-of-type {\n",
       "        vertical-align: middle;\n",
       "    }\n",
       "\n",
       "    .dataframe tbody tr th {\n",
       "        vertical-align: top;\n",
       "    }\n",
       "\n",
       "    .dataframe thead tr th {\n",
       "        text-align: left;\n",
       "    }\n",
       "</style>\n",
       "<table border=\"1\" class=\"dataframe\">\n",
       "  <thead>\n",
       "    <tr>\n",
       "      <th></th>\n",
       "      <th colspan=\"2\" halign=\"left\">Additions</th>\n",
       "      <th colspan=\"2\" halign=\"left\">Remain</th>\n",
       "      <th colspan=\"2\" halign=\"left\">Remove</th>\n",
       "    </tr>\n",
       "    <tr>\n",
       "      <th></th>\n",
       "      <th>most lik.</th>\n",
       "      <th>least lik.</th>\n",
       "      <th>most lik.</th>\n",
       "      <th>least lik.</th>\n",
       "      <th>most lik.</th>\n",
       "      <th>least lik.</th>\n",
       "    </tr>\n",
       "  </thead>\n",
       "  <tbody>\n",
       "    <tr>\n",
       "      <th>0</th>\n",
       "      <td>roof</td>\n",
       "      <td>olympics</td>\n",
       "      <td>somalia</td>\n",
       "      <td>emmanuel</td>\n",
       "      <td>roof</td>\n",
       "      <td>harvey</td>\n",
       "    </tr>\n",
       "    <tr>\n",
       "      <th>1</th>\n",
       "      <td>patriots</td>\n",
       "      <td>weinstein</td>\n",
       "      <td>visas</td>\n",
       "      <td>yield</td>\n",
       "      <td>patriots</td>\n",
       "      <td>weinstein</td>\n",
       "    </tr>\n",
       "    <tr>\n",
       "      <th>2</th>\n",
       "      <td>super</td>\n",
       "      <td>currencies</td>\n",
       "      <td>inauguration</td>\n",
       "      <td>macron</td>\n",
       "      <td>super</td>\n",
       "      <td>qatar</td>\n",
       "    </tr>\n",
       "    <tr>\n",
       "      <th>3</th>\n",
       "      <td>brady</td>\n",
       "      <td>seng</td>\n",
       "      <td>snow</td>\n",
       "      <td>misconduct</td>\n",
       "      <td>camp</td>\n",
       "      <td>harassment</td>\n",
       "    </tr>\n",
       "    <tr>\n",
       "      <th>4</th>\n",
       "      <td>camp</td>\n",
       "      <td>harassment</td>\n",
       "      <td>refugees</td>\n",
       "      <td>harassment</td>\n",
       "      <td>snow</td>\n",
       "      <td>seng</td>\n",
       "    </tr>\n",
       "    <tr>\n",
       "      <th>5</th>\n",
       "      <td>snow</td>\n",
       "      <td>parkland</td>\n",
       "      <td>refugee</td>\n",
       "      <td>composite</td>\n",
       "      <td>brady</td>\n",
       "      <td>hurricane</td>\n",
       "    </tr>\n",
       "    <tr>\n",
       "      <th>6</th>\n",
       "      <td>travelers</td>\n",
       "      <td>pyeongchang</td>\n",
       "      <td>mall</td>\n",
       "      <td>cents</td>\n",
       "      <td>fence</td>\n",
       "      <td>parkland</td>\n",
       "    </tr>\n",
       "    <tr>\n",
       "      <th>7</th>\n",
       "      <td>cleared</td>\n",
       "      <td>kospi</td>\n",
       "      <td>ban</td>\n",
       "      <td>parkland</td>\n",
       "      <td>cleared</td>\n",
       "      <td>currencies</td>\n",
       "    </tr>\n",
       "    <tr>\n",
       "      <th>8</th>\n",
       "      <td>fence</td>\n",
       "      <td>nikkei</td>\n",
       "      <td>netanyahu</td>\n",
       "      <td>weinstein</td>\n",
       "      <td>travelers</td>\n",
       "      <td>kospi</td>\n",
       "    </tr>\n",
       "    <tr>\n",
       "      <th>9</th>\n",
       "      <td>bowl</td>\n",
       "      <td>nasdaq</td>\n",
       "      <td>sworn</td>\n",
       "      <td>nasdaq</td>\n",
       "      <td>bowl</td>\n",
       "      <td>nikkei</td>\n",
       "    </tr>\n",
       "  </tbody>\n",
       "</table>\n",
       "</div>"
      ],
      "text/plain": [
       "   Additions                     Remain                 Remove            \n",
       "   most lik.   least lik.     most lik.  least lik.  most lik.  least lik.\n",
       "0       roof     olympics       somalia    emmanuel       roof      harvey\n",
       "1   patriots    weinstein         visas       yield   patriots   weinstein\n",
       "2      super   currencies  inauguration      macron      super       qatar\n",
       "3      brady         seng          snow  misconduct       camp  harassment\n",
       "4       camp   harassment      refugees  harassment       snow        seng\n",
       "5       snow     parkland       refugee   composite      brady   hurricane\n",
       "6  travelers  pyeongchang          mall       cents      fence    parkland\n",
       "7    cleared        kospi           ban    parkland    cleared  currencies\n",
       "8      fence       nikkei     netanyahu   weinstein  travelers       kospi\n",
       "9       bowl       nasdaq         sworn      nasdaq       bowl      nikkei"
      ]
     },
     "execution_count": 1349,
     "metadata": {},
     "output_type": "execute_result"
    }
   ],
   "source": [
    "pd.concat([pos_top_b, neut_t_b, neg_t_b], axis=1)"
   ]
  },
  {
   "cell_type": "markdown",
   "metadata": {},
   "source": [
    "# TODO"
   ]
  },
  {
   "cell_type": "markdown",
   "metadata": {},
   "source": [
    "pyramid method \n",
    "\n",
    "content units that were added/changed\n",
    "\n",
    "openAI tuples\n",
    "\n",
    "measure revisions in terms of content units\n",
    "\n",
    "Sit down with Lina and ask how do journalists measure"
   ]
  },
  {
   "cell_type": "markdown",
   "metadata": {},
   "source": [
    "What is the time duration of the corrections?\n",
    "\n",
    "Hypotheses are changed first? Then background?\n",
    "\n",
    "Discourse of the edits?\n",
    "\n",
    "After you're done, might be good to test on another dataset\n",
    "\n",
    "Can Bloomberg Automated artilces have "
   ]
  },
  {
   "cell_type": "code",
   "execution_count": null,
   "metadata": {},
   "outputs": [],
   "source": []
  },
  {
   "cell_type": "code",
   "execution_count": null,
   "metadata": {},
   "outputs": [],
   "source": []
  },
  {
   "cell_type": "code",
   "execution_count": null,
   "metadata": {},
   "outputs": [],
   "source": []
  },
  {
   "cell_type": "code",
   "execution_count": null,
   "metadata": {},
   "outputs": [],
   "source": []
  },
  {
   "cell_type": "code",
   "execution_count": null,
   "metadata": {},
   "outputs": [],
   "source": []
  },
  {
   "cell_type": "code",
   "execution_count": null,
   "metadata": {},
   "outputs": [],
   "source": []
  },
  {
   "cell_type": "code",
   "execution_count": null,
   "metadata": {},
   "outputs": [],
   "source": []
  },
  {
   "cell_type": "code",
   "execution_count": null,
   "metadata": {},
   "outputs": [],
   "source": []
  },
  {
   "cell_type": "code",
   "execution_count": null,
   "metadata": {},
   "outputs": [],
   "source": []
  },
  {
   "cell_type": "code",
   "execution_count": 902,
   "metadata": {},
   "outputs": [],
   "source": [
    "with open('cache/2021-01-07__ap-article-diffs.pkl', 'wb') as f:\n",
    "    pickle.dump(article_diffs, f)"
   ]
  },
  {
   "cell_type": "code",
   "execution_count": null,
   "metadata": {},
   "outputs": [],
   "source": []
  },
  {
   "cell_type": "code",
   "execution_count": null,
   "metadata": {},
   "outputs": [],
   "source": []
  },
  {
   "cell_type": "code",
   "execution_count": null,
   "metadata": {},
   "outputs": [],
   "source": []
  },
  {
   "cell_type": "code",
   "execution_count": null,
   "metadata": {},
   "outputs": [],
   "source": []
  },
  {
   "cell_type": "code",
   "execution_count": null,
   "metadata": {},
   "outputs": [],
   "source": []
  },
  {
   "cell_type": "code",
   "execution_count": null,
   "metadata": {},
   "outputs": [],
   "source": []
  },
  {
   "cell_type": "code",
   "execution_count": null,
   "metadata": {},
   "outputs": [],
   "source": []
  },
  {
   "cell_type": "code",
   "execution_count": null,
   "metadata": {},
   "outputs": [],
   "source": []
  },
  {
   "cell_type": "code",
   "execution_count": null,
   "metadata": {},
   "outputs": [],
   "source": []
  },
  {
   "cell_type": "code",
   "execution_count": null,
   "metadata": {},
   "outputs": [],
   "source": []
  }
 ],
 "metadata": {
  "hide_input": false,
  "kernelspec": {
   "display_name": "Python 3",
   "language": "python",
   "name": "python3"
  },
  "language_info": {
   "codemirror_mode": {
    "name": "ipython",
    "version": 3
   },
   "file_extension": ".py",
   "mimetype": "text/x-python",
   "name": "python",
   "nbconvert_exporter": "python",
   "pygments_lexer": "ipython3",
   "version": "3.7.6"
  }
 },
 "nbformat": 4,
 "nbformat_minor": 4
}
