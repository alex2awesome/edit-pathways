{
 "cells": [
  {
   "cell_type": "code",
   "execution_count": 2,
   "metadata": {},
   "outputs": [],
   "source": [
    "import sqlite3\n",
    "import pandas as pd \n",
    "from tqdm.auto import tqdm\n",
    "from IPython.display import display, HTML\n",
    "import re\n",
    "import datetime\n",
    "import glob\n",
    "import numpy as np\n",
    "import seaborn as sns\n",
    "import matplotlib.pyplot as plt\n",
    "import os"
   ]
  },
  {
   "cell_type": "markdown",
   "metadata": {},
   "source": [
    "# Visualize HTML Data"
   ]
  },
  {
   "cell_type": "code",
   "execution_count": 3,
   "metadata": {},
   "outputs": [],
   "source": [
    "## leave the same\n",
    "if os.path.exists('../data/tr-story'):\n",
    "    dp_path = '../data/tr-story/all-tr-articles-merged-processed.pkl'\n",
    "else:\n",
    "    dp_path = 'all-tr-articles-merged-processed.pkl' \n",
    "\n",
    "processed_diffs_df = pd.read_pickle(dp_path)"
   ]
  },
  {
   "cell_type": "code",
   "execution_count": 4,
   "metadata": {
    "scrolled": true
   },
   "outputs": [],
   "source": [
    "# wp, 1926979,\t2, 3 - narrative started changing\n",
    "# wp, 1926979, 0, 1 - when article started"
   ]
  },
  {
   "cell_type": "code",
   "execution_count": 6,
   "metadata": {
    "scrolled": false
   },
   "outputs": [
    {
     "name": "stdout",
     "output_type": "stream",
     "text": [
      "source: nyt\n",
      "article version index: 0\n",
      "article id: 1925369\n",
      "old version num: 0\n",
      "new version num: 1\n",
      "\n",
      "old date created: 2020-03-31 15:32:00+00:00\n",
      "new date created: 2020-03-31 16:04:00+00:00\n"
     ]
    },
    {
     "data": {
      "text/html": [
       "<h3>Headline</h3><table><tr><th>Old Version</th><th>New Version</th></tr><tr><td>Captain of Aircraft Carrier Pleads for Help as Virus Cases Increase Onboard</td><td>Captain of Aircraft Carrier Pleads for Help as Virus Cases Increase Onboard</td></tr></table>"
      ],
      "text/plain": [
       "<IPython.core.display.HTML object>"
      ]
     },
     "metadata": {},
     "output_type": "display_data"
    },
    {
     "data": {
      "text/html": [
       "<h3>Article Body</h3>"
      ],
      "text/plain": [
       "<IPython.core.display.HTML object>"
      ]
     },
     "metadata": {},
     "output_type": "display_data"
    },
    {
     "data": {
      "text/html": [
       "<table>\n",
       "<tr><th>s id</th><th>Old Version</th><th>New Version</th></tr>\n",
       "<tr><td>0</td><td>WASHINGTON—The captain of an American aircraft carrier deployed to the Pacific Ocean has pleaded with the Pentagon for more help as a coronavirus outbreak aboard his ship continues to spread, officials said Tuesday.</td><td>WASHINGTON—The captain of an American aircraft carrier deployed to the Pacific Ocean has pleaded with the Pentagon for more help as a coronavirus outbreak aboard his ship continues to spread, officials said Tuesday.</td></tr>\n",
       "<tr><td>1</td><td>Military officials say dozens of sailors have been infected.</td><td>Military officials say dozens of sailors have been infected.</td></tr>\n",
       "<tr><td>2</td><td style=\"background-color:rgba(255,0,0,0.3)\">The crisis aboard the Roosevelt played out like a slow - moving disaster and highlights the dangers to the Pentagon if the coronavirus manages to infiltrate some  its most important assets , such as bomber fleets , elite Special Operations units and the talisman of American military power , aircraft carriers .</td><td style=\"background-color:rgba(0,255,0,0.3)\">The crisis aboard the Roosevelt played out like a slow - moving disaster and highlights the dangers to the Pentagon if the coronavirus manages to infiltrate some <span style=\"background-color:rgba(0,255,0,0.3)\">of </span> its most important assets , such as bomber fleets , elite Special Operations units and the talisman of American military power , aircraft carriers .</td></tr>\n",
       "<tr><td>3</td><td>In a statement, a Navy official said that the commanding officer of the Roosevelt “alerted leadership in the Pacific Fleet on Sunday evening of continuing challenges in isolating the virus.”</td><td>In a statement, a Navy official said that the commanding officer of the Roosevelt “alerted leadership in the Pacific Fleet on Sunday evening of continuing challenges in isolating the virus.”</td></tr>\n",
       "<tr><td>4</td><td>“The ship’s commanding officer advocated for housing more members of the crew in facilities that allow for better isolation,” the statement said.</td><td>“The ship’s commanding officer advocated for housing more members of the crew in facilities that allow for better isolation,” the statement said.</td></tr>\n",
       "<tr><td>5</td><td>“Navy leadership is moving quickly to take all necessary measures to ensure the health and safety of the crew of U.S.S. Theodore Roosevelt, and is pursuing options to address the concerns raised by the commanding officer.”</td><td>“Navy leadership is moving quickly to take all necessary measures to ensure the health and safety of the crew of U.S.S. Theodore Roosevelt, and is pursuing options to address the concerns raised by the commanding officer.”</td></tr>\n",
       "<tr><td>6</td><td></td><td style=\"background-color:rgba(0,255,0,0.3)\">At its core, the issue on the Roosevelt, and other warships, stems from the near impossibility of putting adequate social distance between people to stop the spread of the illness.</td></tr>\n",
       "<tr><td>7</td><td></td><td style=\"background-color:rgba(0,255,0,0.3)\">Living quarters, hallways and doorways are cramped.</td></tr>\n",
       "<tr><td>8</td><td></td><td style=\"background-color:rgba(0,255,0,0.3)\">Bathrooms and cafeterias are shared areas.</td></tr>\n",
       "<tr><td>9</td><td></td><td style=\"background-color:rgba(0,255,0,0.3)\">In his letter, Captain Crozier clearly outlined the challenge.</td></tr>\n",
       "<tr><td>10</td><td></td><td style=\"background-color:rgba(0,255,0,0.3)\">“None of the berthing aboard a warship is appropriate for quarantine or isolation,” he wrote.</td></tr>\n",
       "<tr><td>11</td><td>A senior Navy official on Sunday sought to play down the urgency of the situation on the Roosevelt, saying that while it was unfortunate, most of the reported symptoms at that point among the sickened sailors and other crew members had been mild.</td><td>A senior Navy official on Sunday sought to play down the urgency of the situation on the Roosevelt, saying that while it was unfortunate, most of the reported symptoms at that point among the sickened sailors and other crew members had been mild.</td></tr>\n",
       "<tr><td>12</td><td>In a four-page letter, first reported by The San Francisco Chronicle Tuesday, Capt.</td><td>In a four-page letter, first reported by The San Francisco Chronicle Tuesday, Capt.</td></tr>\n",
       "<tr><td>13</td><td>Last week, Thomas B. Modly, the acting Navy secretary, told reporters that three cases of the virus had been reported aboard the Roosevelt, marking the first time a U.S. Navy ship had announced a coronavirus infection at sea.</td><td>Last week, Thomas B. Modly, the acting Navy secretary, told reporters that three cases of the virus had been reported aboard the Roosevelt, marking the first time a U.S. Navy ship had announced a coronavirus infection at sea.</td></tr>\n",
       "<tr><td>14</td><td>Fifteen days earlier, the ship made a port call in Da Nang, Vietnam.</td><td>Fifteen days earlier, the ship made a port call in Da Nang, Vietnam.</td></tr>\n",
       "<tr><td>15</td><td>Mr. Modly defended the ship’s decision to dock in Vietnam despite the spread of the virus through Asia.</td><td>Mr. Modly defended the ship’s decision to dock in Vietnam despite the spread of the virus through Asia.</td></tr>\n",
       "<tr><td>16</td><td>He said that, at the time, coronavirus cases in Vietnam were less than 100 and located in the north of the country, around Hanoi.</td><td>He said that, at the time, coronavirus cases in Vietnam were less than 100 and located in the north of the country, around Hanoi.</td></tr>\n",
       "<tr><td>17</td><td>Port calls for U.S. Navy ships have since been canceled.</td><td>Port calls for U.S. Navy ships have since been canceled.</td></tr>\n",
       "<tr><td>18</td><td>Maj. Gen. Jeff Taliaferro, the vice director of operations with the Joint Chiefs of Staff, acknowledged on Monday that there had been media reports about coronavirus aboard the Roosevelt.</td><td>Maj. Gen. Jeff Taliaferro, the vice director of operations with the Joint Chiefs of Staff, acknowledged on Monday that there had been media reports about coronavirus aboard the Roosevelt.</td></tr>\n",
       "<tr><td>19</td><td>He declined to go into details for security reasons, he said.</td><td>He declined to go into details for security reasons, he said.</td></tr>\n",
       "<tr><td>20</td><td>But, echoing a line that the military has consistently taken during the course of the pandemic, General Taliaferro insisted that the Roosevelt can nonetheless perform its missions.</td><td>But, echoing a line that the military has consistently taken during the course of the pandemic, General Taliaferro insisted that the Roosevelt can nonetheless perform its missions.</td></tr>\n",
       "<tr><td>21</td><td>If the Roosevelt, in Guam right now, had to sail immediately, General Taliaferro told reporters on a conference call, it was “ready to sail.”</td><td>If the Roosevelt, in Guam right now, had to sail immediately, General Taliaferro told reporters on a conference call, it was “ready to sail.”</td></tr>\n",
       "<tr><td>22</td><td>Eric Schmitt contributed reporting.</td><td>Eric Schmitt contributed reporting.</td></tr>\n",
       "<tr><td>23</td><td style=\"background-color:rgba(255,0,0,0.3)\">Brett E. Crozier of the U.S.S. Theodore Roosevelt <span style=\"background-color:rgba(255,0,0,0.3)\">laid</span> <span style=\"background-color:rgba(255,0,0,0.3)\">out</span> <span style=\"background-color:rgba(255,0,0,0.3)\">the</span> laid out the dire situation unfolding aboard the warship , with more than 4,000 crew members , and what he said were the Navy ’s failures to provide him with the proper resources to combat the virus by moving sailors off the vessel .</td><td style=\"background-color:rgba(0,255,0,0.3)\">Brett E. Crozier of the U.S.S. Theodore Roosevelt    laid out the dire situation unfolding aboard the warship , with more than 4,000 crew members , and what he said were the Navy ’s failures to provide him with the proper resources to combat the virus by moving sailors off the vessel .</td></tr>\n",
       "<tr><td>24</td><td>“We are not at war,” Captain Crozier wrote.</td><td>“We are not at war,” Captain Crozier wrote.</td></tr>\n",
       "<tr><td>25</td><td>“Sailors do not need to die.</td><td>“Sailors do not need to die.</td></tr>\n",
       "<tr><td>26</td><td>If we do not act now, we are failing to properly take care of our most trusted asset — our sailors.”</td><td>If we do not act now, we are failing to properly take care of our most trusted asset — our sailors.”</td></tr>\n",
       "<tr><td>27</td><td>The carrier is currently docked in Guam.</td><td>The carrier is currently docked in Guam.</td></tr>\n",
       "<tr><td>28</td><td></td><td style=\"background-color:rgba(0,255,0,0.3)\">Captain Crozier recommended offloading his entire crew, and then quarantining and testing them while the ship was professionally cleaned.</td></tr>\n",
       "<tr><td>29</td><td></td><td style=\"background-color:rgba(0,255,0,0.3)\">But that proposal raised a series of issues, especially as housing more than 4,000 people while also isolating them would be extremely difficult on the island.</td></tr>\n",
       "</table>"
      ],
      "text/plain": [
       "<IPython.core.display.HTML object>"
      ]
     },
     "metadata": {},
     "output_type": "display_data"
    }
   ],
   "source": [
    "### ---- Change as Needed ----\n",
    "idx = 0  ## increment this this\n",
    "\n",
    "## leave this the same\n",
    "source, a_id, version_old, version_new, created_old, created_new, title_html, article_html = (\n",
    "    processed_diffs_df.iloc[idx]\n",
    "#     processed_diffs_df.loc[lambda df: df['a_id'] == 1925369].loc[lambda df: df['version_old'] == 17].iloc[0]\n",
    ")\n",
    "\n",
    "print('source: %s' % source)\n",
    "print('article version index: %s' % idx)\n",
    "print('article id: %s' % a_id)\n",
    "print('old version num: %s' % version_old)\n",
    "print('new version num: %s' % version_new)\n",
    "print()\n",
    "print('old date created: %s' % created_old)\n",
    "print('new date created: %s' % created_new)\n",
    "\n",
    "display(HTML(title_html))\n",
    "display(HTML('<h3>Article Body</h3>'))\n",
    "display(HTML(article_html))"
   ]
  },
  {
   "cell_type": "code",
   "execution_count": null,
   "metadata": {},
   "outputs": [],
   "source": []
  },
  {
   "cell_type": "code",
   "execution_count": null,
   "metadata": {},
   "outputs": [],
   "source": []
  },
  {
   "cell_type": "code",
   "execution_count": null,
   "metadata": {},
   "outputs": [],
   "source": []
  },
  {
   "cell_type": "code",
   "execution_count": null,
   "metadata": {},
   "outputs": [],
   "source": []
  },
  {
   "cell_type": "code",
   "execution_count": 667,
   "metadata": {},
   "outputs": [],
   "source": [
    "import re "
   ]
  },
  {
   "cell_type": "markdown",
   "metadata": {},
   "source": [
    "# Assign Diffs"
   ]
  },
  {
   "cell_type": "code",
   "execution_count": 708,
   "metadata": {
    "scrolled": true
   },
   "outputs": [],
   "source": [
    "has_live_in_title = (processed_diffs_df\n",
    " .assign(title_has_live=lambda df: \n",
    "         df['title_comp_html'].pipe(lambda s: \n",
    "            s.str.contains('Coronavirus Live Updates', flags=re.IGNORECASE) | \n",
    "            s.str.contains('Coronavirus US live', flags=re.IGNORECASE) | \n",
    "            s.str.contains('Coronavirus live news', flags=re.IGNORECASE) | \n",
    "            s.str.contains('US coronavirus live', flags=re.IGNORECASE) \n",
    "           )\n",
    "        )\n",
    " .groupby('a_id')['title_has_live'].any().loc[lambda s: s].index\n",
    ")"
   ]
  },
  {
   "cell_type": "code",
   "execution_count": 716,
   "metadata": {
    "scrolled": true
   },
   "outputs": [],
   "source": [
    "t = (processed_diffs_df\n",
    " .loc[lambda df: ~df['a_id'].isin(has_live_in_title)]\n",
    " .pipe(lambda df: \n",
    "      pd.concat([\n",
    "        df.groupby('a_id').apply(lambda df: df['created_new'].max() - df['created_old'].min()),\n",
    "        df.assign(c=1).groupby(['a_id'])['c'].sum(),\n",
    "        df.groupby('a_id')['source'].aggregate(list).str.get(0),\n",
    "    ], axis=1)\n",
    "  )\n",
    ")"
   ]
  },
  {
   "cell_type": "code",
   "execution_count": null,
   "metadata": {},
   "outputs": [],
   "source": []
  },
  {
   "cell_type": "code",
   "execution_count": 734,
   "metadata": {
    "scrolled": true
   },
   "outputs": [
    {
     "data": {
      "text/plain": [
       "59"
      ]
     },
     "execution_count": 734,
     "metadata": {},
     "output_type": "execute_result"
    }
   ],
   "source": [
    "t.iloc[8:15]['c'].sum()"
   ]
  },
  {
   "cell_type": "code",
   "execution_count": 724,
   "metadata": {},
   "outputs": [
    {
     "data": {
      "text/plain": [
       "Int64Index([  0,   1,   2,   3,   4,   5,   6,   7,   8,   9,  10,  11,  12,\n",
       "             13,  14,  15,  16,  17,  18,  19,  20,  21,  22,  23,  24,  25,\n",
       "             26,  27,  28,  29,  30,  31,  32,  33,  72,  73,  74,  75,  76,\n",
       "             77,  78,  79, 103, 104, 105, 106, 107, 108, 109, 110, 111, 145,\n",
       "            146, 147, 148, 149, 150],\n",
       "           dtype='int64')"
      ]
     },
     "execution_count": 724,
     "metadata": {},
     "output_type": "execute_result"
    }
   ],
   "source": [
    "processed_diffs_df.loc[lambda df: df['a_id'].isin(t.iloc[:8].index)].index"
   ]
  },
  {
   "cell_type": "code",
   "execution_count": 735,
   "metadata": {},
   "outputs": [
    {
     "data": {
      "text/plain": [
       "Int64Index([174, 175, 176, 177, 178, 179, 180, 181, 182, 183, 184, 185, 186,\n",
       "            187, 188, 189, 190, 191, 192, 193, 213, 214, 215, 216, 238, 239,\n",
       "            240, 241, 242, 243, 244, 245, 246, 247, 248, 249, 250, 251, 252,\n",
       "            253, 254, 255, 256, 257, 258, 259, 260, 261, 262, 263, 264, 265,\n",
       "            266, 267, 268, 269, 270, 271, 272],\n",
       "           dtype='int64')"
      ]
     },
     "execution_count": 735,
     "metadata": {},
     "output_type": "execute_result"
    }
   ],
   "source": [
    "processed_diffs_df.loc[lambda df: df['a_id'].isin(t.iloc[8:15].index)].index"
   ]
  },
  {
   "cell_type": "code",
   "execution_count": null,
   "metadata": {},
   "outputs": [],
   "source": []
  },
  {
   "cell_type": "code",
   "execution_count": null,
   "metadata": {},
   "outputs": [],
   "source": []
  },
  {
   "cell_type": "code",
   "execution_count": null,
   "metadata": {},
   "outputs": [],
   "source": []
  },
  {
   "cell_type": "code",
   "execution_count": null,
   "metadata": {},
   "outputs": [],
   "source": []
  },
  {
   "cell_type": "code",
   "execution_count": null,
   "metadata": {},
   "outputs": [],
   "source": []
  },
  {
   "cell_type": "markdown",
   "metadata": {},
   "source": [
    "# Get the Data"
   ]
  },
  {
   "cell_type": "markdown",
   "metadata": {},
   "source": [
    "We focus on late March 2020 - May 2020 as the timeframe to initially focus on."
   ]
  },
  {
   "cell_type": "code",
   "execution_count": 433,
   "metadata": {},
   "outputs": [],
   "source": [
    "keywords = [\n",
    "#     'US Navy',\n",
    "    'tr sailors',\n",
    "#     'guam',\n",
    "#     'COVID',\n",
    "    'thomas b. modly',\n",
    "    'brett crozier',\n",
    "    'u.s.s. theodore roosevelt',\n",
    "    'uss theodore roosevelt',\n",
    "    'teddy roosevelt',\n",
    "#     'cno',\n",
    "#     'secnav',\n",
    "#     'Department of the Navy',\n",
    "    'admiral mike gilday',\n",
    "    'charles robert thacker jr.',\n",
    "    'robert thacker jr.',\n",
    "]\n",
    "\n",
    "def highlight_keywords(t):\n",
    "    for k in keywords:\n",
    "        t = re.sub(k, '<span style=\"background-color:yellow\">%s</span>' % k, t, flags=re.IGNORECASE)\n",
    "    return t"
   ]
  },
  {
   "cell_type": "markdown",
   "metadata": {},
   "source": [
    "### generate BigQuery expression"
   ]
  },
  {
   "cell_type": "code",
   "execution_count": 388,
   "metadata": {},
   "outputs": [],
   "source": [
    "all_regexp = []\n",
    "for k in keywords:\n",
    "    where_exp = 'REGEXP_CONTAINS(sent_old, r\"(?i)%s\") or REGEXP_CONTAINS(sent_new, r\"(?i)%s\")' % (k, k)\n",
    "    all_regexp.append(where_exp)"
   ]
  },
  {
   "cell_type": "code",
   "execution_count": 390,
   "metadata": {},
   "outputs": [
    {
     "data": {
      "text/plain": [
       "'REGEXP_CONTAINS(sent_old, r\"(?i)tr sailors\") or REGEXP_CONTAINS(sent_new, r\"(?i)tr sailors\") OR REGEXP_CONTAINS(sent_old, r\"(?i)thomas b. modly\") or REGEXP_CONTAINS(sent_new, r\"(?i)thomas b. modly\") OR REGEXP_CONTAINS(sent_old, r\"(?i)brett crozier\") or REGEXP_CONTAINS(sent_new, r\"(?i)brett crozier\") OR REGEXP_CONTAINS(sent_old, r\"(?i)u.s.s. theodore roosevelt\") or REGEXP_CONTAINS(sent_new, r\"(?i)u.s.s. theodore roosevelt\") OR REGEXP_CONTAINS(sent_old, r\"(?i)uss theodore roosevelt\") or REGEXP_CONTAINS(sent_new, r\"(?i)uss theodore roosevelt\") OR REGEXP_CONTAINS(sent_old, r\"(?i)teddy roosevelt\") or REGEXP_CONTAINS(sent_new, r\"(?i)teddy roosevelt\") OR REGEXP_CONTAINS(sent_old, r\"(?i)admiral mike gilday\") or REGEXP_CONTAINS(sent_new, r\"(?i)admiral mike gilday\") OR REGEXP_CONTAINS(sent_old, r\"(?i)charles robert thacker jr.\") or REGEXP_CONTAINS(sent_new, r\"(?i)charles robert thacker jr.\") OR REGEXP_CONTAINS(sent_old, r\"(?i)robert thacker jr.\") or REGEXP_CONTAINS(sent_new, r\"(?i)robert thacker jr.\")'"
      ]
     },
     "execution_count": 390,
     "metadata": {},
     "output_type": "execute_result"
    }
   ],
   "source": [
    "' OR '.join(all_regexp)"
   ]
  },
  {
   "cell_type": "code",
   "execution_count": 544,
   "metadata": {},
   "outputs": [],
   "source": [
    "dbs = glob.glob('../data/diffengine-diffs/db/*.db')\n",
    "dbs_of_interest = ['nyt', 'washpo', 'guardian', 'r-bbc']\n",
    "main_dbs = list(filter(lambda x: any(map(lambda y: y in x, dbs_of_interest)), dbs))"
   ]
  },
  {
   "cell_type": "code",
   "execution_count": 546,
   "metadata": {
    "scrolled": true
   },
   "outputs": [
    {
     "data": {
      "application/vnd.jupyter.widget-view+json": {
       "model_id": "289e830e81fc4550a915be0021b56719",
       "version_major": 2,
       "version_minor": 0
      },
      "text/plain": [
       "  0%|          | 0/8946 [00:00<?, ?it/s]"
      ]
     },
     "metadata": {},
     "output_type": "display_data"
    },
    {
     "data": {
      "application/vnd.jupyter.widget-view+json": {
       "model_id": "603044d0aee544bbbf2660d4c2465387",
       "version_major": 2,
       "version_minor": 0
      },
      "text/plain": [
       "  0%|          | 0/42698 [00:00<?, ?it/s]"
      ]
     },
     "metadata": {},
     "output_type": "display_data"
    },
    {
     "data": {
      "application/vnd.jupyter.widget-view+json": {
       "model_id": "07395e11e3a24bbf8bd6053e1c2a4138",
       "version_major": 2,
       "version_minor": 0
      },
      "text/plain": [
       "  0%|          | 0/117773 [00:00<?, ?it/s]"
      ]
     },
     "metadata": {},
     "output_type": "display_data"
    },
    {
     "data": {
      "application/vnd.jupyter.widget-view+json": {
       "model_id": "398139e68d9f48e0aa0ba0d746dfd5f0",
       "version_major": 2,
       "version_minor": 0
      },
      "text/plain": [
       "  0%|          | 0/46503 [00:00<?, ?it/s]"
      ]
     },
     "metadata": {},
     "output_type": "display_data"
    }
   ],
   "source": [
    "tqdm.pandas()\n",
    "all_articles = []\n",
    "for db in main_dbs:        \n",
    "    con = sqlite3.connect(db)\n",
    "    articles = pd.read_sql('SELECT * FROM entryversion WHERE created > \"2020-01-01\"', con=con)\n",
    "    ### \n",
    "    ids_with_hits = (\n",
    "        articles.loc[lambda df: \n",
    "             df['summary']\n",
    "                .str.lower()\n",
    "                .progress_apply(lambda x: any(map(lambda k: k in x, keywords)))\n",
    "        ]['entry_id'].unique()\n",
    "    )\n",
    "    ### \n",
    "    relevant_articles = articles.loc[lambda df: df['entry_id'].isin(ids_with_hits)]\n",
    "    all_articles.append(relevant_articles)"
   ]
  },
  {
   "cell_type": "code",
   "execution_count": 547,
   "metadata": {},
   "outputs": [],
   "source": [
    "all_articles_df = pd.concat(all_articles)"
   ]
  },
  {
   "cell_type": "code",
   "execution_count": 548,
   "metadata": {},
   "outputs": [
    {
     "data": {
      "text/plain": [
       "nytimes     42\n",
       "guardian    26\n",
       "washpo      11\n",
       "bbc          5\n",
       "Name: source, dtype: int64"
      ]
     },
     "execution_count": 548,
     "metadata": {},
     "output_type": "execute_result"
    }
   ],
   "source": [
    "all_articles_df.drop_duplicates('entry_id')['source'].value_counts()"
   ]
  },
  {
   "cell_type": "code",
   "execution_count": 554,
   "metadata": {},
   "outputs": [
    {
     "data": {
      "text/plain": [
       "nytimes     1366\n",
       "guardian     595\n",
       "washpo        55\n",
       "bbc           21\n",
       "Name: source, dtype: int64"
      ]
     },
     "execution_count": 554,
     "metadata": {},
     "output_type": "execute_result"
    }
   ],
   "source": [
    "all_articles_df['source'].value_counts()"
   ]
  },
  {
   "cell_type": "code",
   "execution_count": 552,
   "metadata": {},
   "outputs": [
    {
     "data": {
      "text/plain": [
       "22.0"
      ]
     },
     "execution_count": 552,
     "metadata": {},
     "output_type": "execute_result"
    }
   ],
   "source": [
    "all_articles_df.drop_duplicates('entry_id')['num_versions'].median()"
   ]
  },
  {
   "cell_type": "code",
   "execution_count": 553,
   "metadata": {},
   "outputs": [
    {
     "data": {
      "text/plain": [
       "source\n",
       "nytimes     35.5\n",
       "guardian    22.0\n",
       "washpo       5.0\n",
       "bbc          4.0\n",
       "dtype: float64"
      ]
     },
     "execution_count": 553,
     "metadata": {},
     "output_type": "execute_result"
    }
   ],
   "source": [
    "(all_articles_df\n",
    " .groupby('source')\n",
    " .apply(lambda df: df.drop_duplicates('entry_id')['num_versions'].median())\n",
    " .sort_values(ascending=False)\n",
    ")"
   ]
  },
  {
   "cell_type": "code",
   "execution_count": 186,
   "metadata": {},
   "outputs": [],
   "source": [
    "plt.rc('font', size=14)"
   ]
  },
  {
   "cell_type": "code",
   "execution_count": 188,
   "metadata": {
    "scrolled": true
   },
   "outputs": [
    {
     "data": {
      "text/plain": [
       "Text(0.5, 0, 'Num. Versions')"
      ]
     },
     "execution_count": 188,
     "metadata": {},
     "output_type": "execute_result"
    },
    {
     "data": {
      "image/png": "[encoded data removed]",
      "text/plain": [
       "<Figure size 432x288 with 1 Axes>"
      ]
     },
     "metadata": {
      "needs_background": "light"
     },
     "output_type": "display_data"
    }
   ],
   "source": [
    "ax = sns.boxplot(\n",
    "    y='source', \n",
    "    x='num_versions', \n",
    "    data=all_articles_df.drop_duplicates('entry_id')[['entry_id', 'source', 'num_versions']]\n",
    ")\n",
    "\n",
    "ax.spines['top'].set_visible(False)\n",
    "ax.spines['right'].set_visible(False)\n",
    "ax.set_ylabel('')\n",
    "ax.set_xlabel('Num. Versions')"
   ]
  },
  {
   "cell_type": "code",
   "execution_count": 555,
   "metadata": {},
   "outputs": [],
   "source": [
    "all_articles_df['created'] = pd.to_datetime(all_articles_df['created'])"
   ]
  },
  {
   "cell_type": "code",
   "execution_count": 556,
   "metadata": {
    "scrolled": false
   },
   "outputs": [
    {
     "data": {
      "text/plain": [
       "<seaborn.axisgrid.FacetGrid at 0x7fe0471f3410>"
      ]
     },
     "execution_count": 556,
     "metadata": {},
     "output_type": "execute_result"
    },
    {
     "data": {
      "image/png": "[encoded data removed]",
      "text/plain": [
       "<Figure size 720x288 with 4 Axes>"
      ]
     },
     "metadata": {
      "needs_background": "light"
     },
     "output_type": "display_data"
    }
   ],
   "source": [
    "# Define and use a simple function to label the plot in axes coordinates\n",
    "def label(x, color, label):\n",
    "    ax = plt.gca()\n",
    "    ax.text(0, .4, label, fontweight=\"bold\", color=color, ha=\"left\", va=\"center\", transform=ax.transAxes)\n",
    "\n",
    "\n",
    "# Initialize the FacetGrid object\n",
    "pal = sns.cubehelix_palette(10, rot=-.25, light=.7)\n",
    "g = sns.FacetGrid(\n",
    "    all_articles_df.assign(created=lambda df: df['created'].pipe(lambda s: s - s.min()).dt.total_seconds()), \n",
    "    row=\"source\", \n",
    "    hue=\"source\", \n",
    "    aspect=10,\n",
    "    height=1, \n",
    "    palette=pal\n",
    ")\n",
    "\n",
    "\n",
    "# Draw the densities in a few steps\n",
    "g.map(sns.kdeplot, \"created\", clip_on=False, shade=True, alpha=1, lw=4, bw=.2) \n",
    "g.map(sns.kdeplot, \"created\", color=\"w\", clip_on=False, lw=2, bw=1)\n",
    "g.map(plt.axhline, y=0, lw=2, clip_on=False)\n",
    "\n",
    "g.map(label, \"created\")\n",
    "\n",
    "# Set the subplots to overlap\n",
    "# g.fig.subplots_adjust(hspace=-.25)\n",
    "\n",
    "# Remove axes details that don't play well with overlap\n",
    "g.set_titles(\"\")\n",
    "g.set(yticks=[], xticklabels=all_articles_df['created'].pipe(lambda s: pd.Series(pd.date_range(s.min(), s.max(), 6)).dt.strftime('%Y-%m-%d').tolist()))\n",
    "g.despine(bottom=True, left=True)"
   ]
  },
  {
   "cell_type": "markdown",
   "metadata": {},
   "source": [
    "# Load BigQuery Results"
   ]
  },
  {
   "cell_type": "code",
   "execution_count": 557,
   "metadata": {},
   "outputs": [],
   "source": [
    "import json\n",
    "output = []\n",
    "for line in open('../data/bq-results-20210323-190027-l4dvrx3npx27.json'):\n",
    "    t = json.loads(line)\n",
    "    output.append(t)"
   ]
  },
  {
   "cell_type": "code",
   "execution_count": 558,
   "metadata": {
    "scrolled": true
   },
   "outputs": [],
   "source": [
    "data_df = pd.DataFrame(output)"
   ]
  },
  {
   "cell_type": "code",
   "execution_count": 559,
   "metadata": {},
   "outputs": [],
   "source": [
    "data_df.drop(['__key__', '__error__', '__has_error__'], axis=1, inplace=True)\n",
    "data_df['version_old'] = data_df['version_old'].str.get('integer').astype(int)\n",
    "data_df['version_new'] = data_df['version_new'].str.get('integer').astype(int)\n",
    "data_df['a_id'] = data_df['a_id'].astype(int)"
   ]
  },
  {
   "cell_type": "code",
   "execution_count": 560,
   "metadata": {},
   "outputs": [],
   "source": [
    "found_diffs = (data_df\n",
    "               .loc[lambda df: df['a_id'].isin(all_articles_df['entry_id'])]\n",
    "              )"
   ]
  },
  {
   "cell_type": "code",
   "execution_count": 561,
   "metadata": {},
   "outputs": [
    {
     "data": {
      "text/plain": [
       "nyt         23\n",
       "guardian    19\n",
       "wp          10\n",
       "bbc-2        5\n",
       "Name: source, dtype: int64"
      ]
     },
     "execution_count": 561,
     "metadata": {},
     "output_type": "execute_result"
    }
   ],
   "source": [
    "(found_diffs\n",
    " .drop_duplicates('a_id')['source'].value_counts())"
   ]
  },
  {
   "cell_type": "code",
   "execution_count": 562,
   "metadata": {
    "scrolled": true
   },
   "outputs": [
    {
     "data": {
      "text/plain": [
       "Series([], Name: a_id, dtype: int64)"
      ]
     },
     "execution_count": 562,
     "metadata": {},
     "output_type": "execute_result"
    }
   ],
   "source": [
    "(found_diffs['a_id']\n",
    " .drop_duplicates()\n",
    " .loc[lambda s: ~s.isin(all_articles_df['entry_id'])]\n",
    ")"
   ]
  },
  {
   "cell_type": "code",
   "execution_count": 576,
   "metadata": {},
   "outputs": [],
   "source": [
    "diffs_df = (\n",
    "    found_diffs\n",
    "     .groupby(['source', 'a_id', 'version_old', 'version_new'])\n",
    "     .apply(lambda df: \n",
    "            df.sort_values('s_idx')\n",
    "            .pipe(lambda df: (\n",
    "                df[['sent_old', 'tag_old']]\n",
    "                    .rename(columns={'sent_old':'text', 'tag_old': 'tag'})\n",
    "                    .to_dict(orient='records'), \n",
    "                df[['sent_new', 'tag_new']]\n",
    "                    .rename(columns={'sent_new':'text', 'tag_new': 'tag'})\n",
    "                    .to_dict(orient='records')\n",
    "            )\n",
    "           )\n",
    "       )\n",
    ")"
   ]
  },
  {
   "cell_type": "code",
   "execution_count": 580,
   "metadata": {},
   "outputs": [],
   "source": [
    "merged_diffs_df = (\n",
    "    diffs_df\n",
    "    .to_frame('vers_text')\n",
    "    .reset_index()\n",
    "    .merge(\n",
    "         all_articles_df[['entry_id', 'version', 'title', 'created']]\n",
    "             .rename(columns={'title': 'title_old', 'created': 'created_old'}),\n",
    "         left_on=['a_id', 'version_old'], \n",
    "         right_on=['entry_id', 'version'],\n",
    "         how='left'\n",
    "     )\n",
    "    .drop(['entry_id', 'version'], axis=1)\n",
    "#  .set_index(['a_id', 'version_old', 'version_new'])\n",
    "    .merge(\n",
    "         all_articles_df[['entry_id', 'version', 'title', 'created']]\n",
    "             .rename(columns={'title': 'title_new', 'created': 'created_new'}),\n",
    "         left_on=['a_id', 'version_new'], \n",
    "         right_on=['entry_id', 'version'],\n",
    "         how='left'\n",
    "     )\n",
    " .drop(['entry_id', 'version'], axis=1)\n",
    ")"
   ]
  },
  {
   "cell_type": "code",
   "execution_count": 582,
   "metadata": {},
   "outputs": [
    {
     "data": {
      "text/html": [
       "<div>\n",
       "<style scoped>\n",
       "    .dataframe tbody tr th:only-of-type {\n",
       "        vertical-align: middle;\n",
       "    }\n",
       "\n",
       "    .dataframe tbody tr th {\n",
       "        vertical-align: top;\n",
       "    }\n",
       "\n",
       "    .dataframe thead th {\n",
       "        text-align: right;\n",
       "    }\n",
       "</style>\n",
       "<table border=\"1\" class=\"dataframe\">\n",
       "  <thead>\n",
       "    <tr style=\"text-align: right;\">\n",
       "      <th></th>\n",
       "      <th>source</th>\n",
       "      <th>a_id</th>\n",
       "      <th>version_old</th>\n",
       "      <th>version_new</th>\n",
       "      <th>vers_text</th>\n",
       "      <th>title_old</th>\n",
       "      <th>created_old</th>\n",
       "      <th>title_new</th>\n",
       "      <th>created_new</th>\n",
       "    </tr>\n",
       "  </thead>\n",
       "  <tbody>\n",
       "    <tr>\n",
       "      <th>0</th>\n",
       "      <td>bbc-2</td>\n",
       "      <td>1928517</td>\n",
       "      <td>0</td>\n",
       "      <td>1</td>\n",
       "      <td>([{'text': 'The acting US Navy secretary has s...</td>\n",
       "      <td>Acting US Navy chief resigns over ship Covid-1...</td>\n",
       "      <td>2020-04-07 20:42:00+00:00</td>\n",
       "      <td>Coronavirus warship row: Acting US Navy secret...</td>\n",
       "      <td>2020-04-07 21:14:00+00:00</td>\n",
       "    </tr>\n",
       "    <tr>\n",
       "      <th>1</th>\n",
       "      <td>bbc-2</td>\n",
       "      <td>1928517</td>\n",
       "      <td>1</td>\n",
       "      <td>2</td>\n",
       "      <td>([{'text': 'The acting secretary of the US Nav...</td>\n",
       "      <td>Coronavirus warship row: Acting US Navy secret...</td>\n",
       "      <td>2020-04-07 21:14:00+00:00</td>\n",
       "      <td>Coronavirus warship row: Acting US Navy secret...</td>\n",
       "      <td>2020-04-07 21:46:00+00:00</td>\n",
       "    </tr>\n",
       "    <tr>\n",
       "      <th>2</th>\n",
       "      <td>bbc-2</td>\n",
       "      <td>1928517</td>\n",
       "      <td>2</td>\n",
       "      <td>3</td>\n",
       "      <td>([{'text': 'The acting secretary of the US Nav...</td>\n",
       "      <td>Coronavirus warship row: Acting US Navy secret...</td>\n",
       "      <td>2020-04-07 21:46:00+00:00</td>\n",
       "      <td>Coronavirus warship row: Acting US Navy secret...</td>\n",
       "      <td>2020-04-07 22:18:00+00:00</td>\n",
       "    </tr>\n",
       "    <tr>\n",
       "      <th>3</th>\n",
       "      <td>bbc-2</td>\n",
       "      <td>1928517</td>\n",
       "      <td>3</td>\n",
       "      <td>4</td>\n",
       "      <td>([{'text': 'The acting secretary of the US Nav...</td>\n",
       "      <td>Coronavirus warship row: Acting US Navy secret...</td>\n",
       "      <td>2020-04-07 22:18:00+00:00</td>\n",
       "      <td>Coronavirus warship row: Acting US Navy secret...</td>\n",
       "      <td>2020-04-08 00:12:00+00:00</td>\n",
       "    </tr>\n",
       "    <tr>\n",
       "      <th>4</th>\n",
       "      <td>bbc-2</td>\n",
       "      <td>1930684</td>\n",
       "      <td>0</td>\n",
       "      <td>1</td>\n",
       "      <td>([{'text': 'A sailor who was serving aboard th...</td>\n",
       "      <td>Coronavirus: First sailor on virus-stricken US...</td>\n",
       "      <td>2020-04-13 15:08:00+00:00</td>\n",
       "      <td>Coronavirus: First sailor on virus-stricken US...</td>\n",
       "      <td>2020-04-13 17:56:00+00:00</td>\n",
       "    </tr>\n",
       "    <tr>\n",
       "      <th>...</th>\n",
       "      <td>...</td>\n",
       "      <td>...</td>\n",
       "      <td>...</td>\n",
       "      <td>...</td>\n",
       "      <td>...</td>\n",
       "      <td>...</td>\n",
       "      <td>...</td>\n",
       "      <td>...</td>\n",
       "      <td>...</td>\n",
       "    </tr>\n",
       "    <tr>\n",
       "      <th>668</th>\n",
       "      <td>wp</td>\n",
       "      <td>1961851</td>\n",
       "      <td>0</td>\n",
       "      <td>1</td>\n",
       "      <td>([{'text': 'Navy leaders have upheld the firin...</td>\n",
       "      <td>Navy upholds firing of aircraft carrier captai...</td>\n",
       "      <td>2020-06-19 19:38:00+00:00</td>\n",
       "      <td>Navy upholds firing of aircraft carrier captai...</td>\n",
       "      <td>2020-06-19 20:10:00+00:00</td>\n",
       "    </tr>\n",
       "    <tr>\n",
       "      <th>669</th>\n",
       "      <td>wp</td>\n",
       "      <td>1961851</td>\n",
       "      <td>1</td>\n",
       "      <td>2</td>\n",
       "      <td>([{'text': 'Navy leaders have upheld the firin...</td>\n",
       "      <td>Navy upholds firing of aircraft carrier captai...</td>\n",
       "      <td>2020-06-19 20:10:00+00:00</td>\n",
       "      <td>Navy upholds firing of aircraft carrier captai...</td>\n",
       "      <td>2020-06-19 22:58:00+00:00</td>\n",
       "    </tr>\n",
       "    <tr>\n",
       "      <th>670</th>\n",
       "      <td>wp</td>\n",
       "      <td>1961851</td>\n",
       "      <td>2</td>\n",
       "      <td>3</td>\n",
       "      <td>([{'text': 'Navy leaders have upheld the firin...</td>\n",
       "      <td>Navy upholds firing of aircraft carrier captai...</td>\n",
       "      <td>2020-06-19 22:58:00+00:00</td>\n",
       "      <td>Navy upholds firing of aircraft carrier captai...</td>\n",
       "      <td>2020-06-19 23:30:00+00:00</td>\n",
       "    </tr>\n",
       "    <tr>\n",
       "      <th>671</th>\n",
       "      <td>wp</td>\n",
       "      <td>1961851</td>\n",
       "      <td>3</td>\n",
       "      <td>4</td>\n",
       "      <td>([{'text': 'The U.S. Navy has upheld the remov...</td>\n",
       "      <td>Navy upholds firing of aircraft carrier captai...</td>\n",
       "      <td>2020-06-19 23:30:00+00:00</td>\n",
       "      <td>Navy upholds firing of aircraft carrier captai...</td>\n",
       "      <td>2020-06-20 00:00:00+00:00</td>\n",
       "    </tr>\n",
       "    <tr>\n",
       "      <th>672</th>\n",
       "      <td>wp</td>\n",
       "      <td>1961851</td>\n",
       "      <td>4</td>\n",
       "      <td>5</td>\n",
       "      <td>([{'text': 'The U.S. Navy has upheld the remov...</td>\n",
       "      <td>Navy upholds firing of aircraft carrier captai...</td>\n",
       "      <td>2020-06-20 00:00:00+00:00</td>\n",
       "      <td>Navy upholds firing of aircraft carrier captai...</td>\n",
       "      <td>2020-06-20 01:10:00+00:00</td>\n",
       "    </tr>\n",
       "  </tbody>\n",
       "</table>\n",
       "<p>673 rows × 9 columns</p>\n",
       "</div>"
      ],
      "text/plain": [
       "    source     a_id  version_old  version_new  \\\n",
       "0    bbc-2  1928517            0            1   \n",
       "1    bbc-2  1928517            1            2   \n",
       "2    bbc-2  1928517            2            3   \n",
       "3    bbc-2  1928517            3            4   \n",
       "4    bbc-2  1930684            0            1   \n",
       "..     ...      ...          ...          ...   \n",
       "668     wp  1961851            0            1   \n",
       "669     wp  1961851            1            2   \n",
       "670     wp  1961851            2            3   \n",
       "671     wp  1961851            3            4   \n",
       "672     wp  1961851            4            5   \n",
       "\n",
       "                                             vers_text  \\\n",
       "0    ([{'text': 'The acting US Navy secretary has s...   \n",
       "1    ([{'text': 'The acting secretary of the US Nav...   \n",
       "2    ([{'text': 'The acting secretary of the US Nav...   \n",
       "3    ([{'text': 'The acting secretary of the US Nav...   \n",
       "4    ([{'text': 'A sailor who was serving aboard th...   \n",
       "..                                                 ...   \n",
       "668  ([{'text': 'Navy leaders have upheld the firin...   \n",
       "669  ([{'text': 'Navy leaders have upheld the firin...   \n",
       "670  ([{'text': 'Navy leaders have upheld the firin...   \n",
       "671  ([{'text': 'The U.S. Navy has upheld the remov...   \n",
       "672  ([{'text': 'The U.S. Navy has upheld the remov...   \n",
       "\n",
       "                                             title_old  \\\n",
       "0    Acting US Navy chief resigns over ship Covid-1...   \n",
       "1    Coronavirus warship row: Acting US Navy secret...   \n",
       "2    Coronavirus warship row: Acting US Navy secret...   \n",
       "3    Coronavirus warship row: Acting US Navy secret...   \n",
       "4    Coronavirus: First sailor on virus-stricken US...   \n",
       "..                                                 ...   \n",
       "668  Navy upholds firing of aircraft carrier captai...   \n",
       "669  Navy upholds firing of aircraft carrier captai...   \n",
       "670  Navy upholds firing of aircraft carrier captai...   \n",
       "671  Navy upholds firing of aircraft carrier captai...   \n",
       "672  Navy upholds firing of aircraft carrier captai...   \n",
       "\n",
       "                  created_old  \\\n",
       "0   2020-04-07 20:42:00+00:00   \n",
       "1   2020-04-07 21:14:00+00:00   \n",
       "2   2020-04-07 21:46:00+00:00   \n",
       "3   2020-04-07 22:18:00+00:00   \n",
       "4   2020-04-13 15:08:00+00:00   \n",
       "..                        ...   \n",
       "668 2020-06-19 19:38:00+00:00   \n",
       "669 2020-06-19 20:10:00+00:00   \n",
       "670 2020-06-19 22:58:00+00:00   \n",
       "671 2020-06-19 23:30:00+00:00   \n",
       "672 2020-06-20 00:00:00+00:00   \n",
       "\n",
       "                                             title_new  \\\n",
       "0    Coronavirus warship row: Acting US Navy secret...   \n",
       "1    Coronavirus warship row: Acting US Navy secret...   \n",
       "2    Coronavirus warship row: Acting US Navy secret...   \n",
       "3    Coronavirus warship row: Acting US Navy secret...   \n",
       "4    Coronavirus: First sailor on virus-stricken US...   \n",
       "..                                                 ...   \n",
       "668  Navy upholds firing of aircraft carrier captai...   \n",
       "669  Navy upholds firing of aircraft carrier captai...   \n",
       "670  Navy upholds firing of aircraft carrier captai...   \n",
       "671  Navy upholds firing of aircraft carrier captai...   \n",
       "672  Navy upholds firing of aircraft carrier captai...   \n",
       "\n",
       "                  created_new  \n",
       "0   2020-04-07 21:14:00+00:00  \n",
       "1   2020-04-07 21:46:00+00:00  \n",
       "2   2020-04-07 22:18:00+00:00  \n",
       "3   2020-04-08 00:12:00+00:00  \n",
       "4   2020-04-13 17:56:00+00:00  \n",
       "..                        ...  \n",
       "668 2020-06-19 20:10:00+00:00  \n",
       "669 2020-06-19 22:58:00+00:00  \n",
       "670 2020-06-19 23:30:00+00:00  \n",
       "671 2020-06-20 00:00:00+00:00  \n",
       "672 2020-06-20 01:10:00+00:00  \n",
       "\n",
       "[673 rows x 9 columns]"
      ]
     },
     "execution_count": 582,
     "metadata": {},
     "output_type": "execute_result"
    }
   ],
   "source": [
    "merged_diffs_df"
   ]
  },
  {
   "cell_type": "markdown",
   "metadata": {},
   "source": [
    "# Process Data"
   ]
  },
  {
   "cell_type": "code",
   "execution_count": 584,
   "metadata": {},
   "outputs": [
    {
     "data": {
      "text/plain": [
       "source                                                     bbc-2\n",
       "a_id                                                     1928517\n",
       "version_old                                                    0\n",
       "version_new                                                    1\n",
       "vers_text      ([{'text': 'The acting US Navy secretary has s...\n",
       "title_old      Acting US Navy chief resigns over ship Covid-1...\n",
       "created_old                            2020-04-07 20:42:00+00:00\n",
       "title_new      Coronavirus warship row: Acting US Navy secret...\n",
       "created_new                            2020-04-07 21:14:00+00:00\n",
       "Name: 0, dtype: object"
      ]
     },
     "execution_count": 584,
     "metadata": {},
     "output_type": "execute_result"
    }
   ],
   "source": [
    "merged_diffs_df.iloc[idx]"
   ]
  },
  {
   "cell_type": "code",
   "execution_count": 586,
   "metadata": {},
   "outputs": [
    {
     "data": {
      "application/vnd.jupyter.widget-view+json": {
       "model_id": "f2c5010aeddd443a88e73a6c75838c11",
       "version_major": 2,
       "version_minor": 0
      },
      "text/plain": [
       "  0%|          | 0/673 [00:00<?, ?it/s]"
      ]
     },
     "metadata": {},
     "output_type": "display_data"
    }
   ],
   "source": [
    "import sys\n",
    "sys.path.append('../util')\n",
    "import util_newssniffer_parsing as unp\n",
    "\n",
    "for t in ['title_old', 'title_new',]:\n",
    "    merged_diffs_df[t] = merged_diffs_df[t].fillna('')\n",
    "\n",
    "html_comps = []\n",
    "for idx in tqdm(range(len(merged_diffs_df))):\n",
    "    source, a_id, version_old, version_new, (vars_old, vars_new), title_old, created_old, title_new, created_new = (\n",
    "        merged_diffs_df.iloc[idx]\n",
    "    )\n",
    "    vars_title_old, vars_title_new = unp.get_word_diffs(title_old, title_new)\n",
    "    title_html1, title_html2 = unp.html_compare_sentences(vars_title_old, vars_title_new)\n",
    "\n",
    "    output = {\n",
    "        'source': source,\n",
    "        'a_id': a_id,\n",
    "        'version_old' : version_old ,\n",
    "        'version_new' : version_new ,\n",
    "        'created_old': created_old,\n",
    "        'created_new': created_new,\n",
    "        'title_comp_html': '<h3>Headline</h3><table><tr><th>Old Version</th><th>New Version</th></tr><tr><td>%s</td><td>%s</td></tr></table>' % (title_html1, title_html2),\n",
    "        'article_comp_html': unp.html_compare_articles(vars_old, vars_new, use_sids=True),\n",
    "    }\n",
    "    html_comps.append(output)"
   ]
  },
  {
   "cell_type": "code",
   "execution_count": 611,
   "metadata": {},
   "outputs": [],
   "source": [
    "(pd.DataFrame(html_comps)\n",
    " .sort_values(['a_id', 'created_old'])\n",
    " .iloc[2:]\n",
    " .reset_index(drop=True)\n",
    " .to_pickle('../data/tr-story/all-tr-articles-merged-processed.pkl'))"
   ]
  },
  {
   "cell_type": "code",
   "execution_count": null,
   "metadata": {},
   "outputs": [],
   "source": []
  },
  {
   "cell_type": "code",
   "execution_count": null,
   "metadata": {},
   "outputs": [],
   "source": []
  },
  {
   "cell_type": "code",
   "execution_count": null,
   "metadata": {},
   "outputs": [],
   "source": []
  },
  {
   "cell_type": "code",
   "execution_count": null,
   "metadata": {},
   "outputs": [],
   "source": []
  },
  {
   "cell_type": "code",
   "execution_count": null,
   "metadata": {},
   "outputs": [],
   "source": []
  },
  {
   "cell_type": "code",
   "execution_count": null,
   "metadata": {},
   "outputs": [],
   "source": []
  },
  {
   "cell_type": "code",
   "execution_count": null,
   "metadata": {},
   "outputs": [],
   "source": []
  },
  {
   "cell_type": "markdown",
   "metadata": {},
   "source": [
    "# Explore Why We Haven't Processed Many Articles"
   ]
  },
  {
   "cell_type": "code",
   "execution_count": 495,
   "metadata": {},
   "outputs": [
    {
     "data": {
      "text/plain": [
       "nyt         358\n",
       "guardian    259\n",
       "wp           40\n",
       "bbc-2        16\n",
       "Name: source, dtype: int64"
      ]
     },
     "execution_count": 495,
     "metadata": {},
     "output_type": "execute_result"
    }
   ],
   "source": [
    "found_diffs.drop_duplicates(['a_id', 'version_old', 'version_new'])['source'].value_counts()"
   ]
  },
  {
   "cell_type": "code",
   "execution_count": 423,
   "metadata": {},
   "outputs": [
    {
     "data": {
      "text/plain": [
       "nytimes     42\n",
       "guardian    26\n",
       "washpo      11\n",
       "bbc          5\n",
       "Name: source, dtype: int64"
      ]
     },
     "execution_count": 423,
     "metadata": {},
     "output_type": "execute_result"
    }
   ],
   "source": [
    "(all_articles_df\n",
    "    .drop_duplicates('entry_id')['source']\n",
    "    .value_counts())"
   ]
  },
  {
   "cell_type": "code",
   "execution_count": 449,
   "metadata": {
    "scrolled": true
   },
   "outputs": [],
   "source": [
    "t = (\n",
    "    all_articles_df\n",
    "        .loc[lambda df: ~df['entry_id'].isin(found_diffs['a_id'])]\n",
    "        .loc[lambda df: df['source'] == 'nytimes']\n",
    "        .drop_duplicates('entry_id')\n",
    "        ['summary']\n",
    "        .iloc[3]\n",
    ")"
   ]
  },
  {
   "cell_type": "code",
   "execution_count": null,
   "metadata": {},
   "outputs": [],
   "source": [
    "display(HTML(highlight_keywords(t)))"
   ]
  },
  {
   "cell_type": "code",
   "execution_count": 461,
   "metadata": {},
   "outputs": [],
   "source": [
    "data_processor_iter = unp.get_sentence_diff_stats(\n",
    "    all_articles_df.loc[lambda df: df['entry_id']==1931320],\n",
    "    get_sentence_vars=True,\n",
    "    output_type='iter'\n",
    ")"
   ]
  },
  {
   "cell_type": "code",
   "execution_count": 486,
   "metadata": {},
   "outputs": [],
   "source": [
    "con = sqlite3.connect('../data/diffengine-diffs/db/newssniffer-nytimes.db')\n",
    "articles = pd.read_sql('''\n",
    "    select * from entryversion\n",
    "    where created > \"2020-01-01\" \n",
    "    and entry_id in (\n",
    "        1928363, 1928259, 1928487,\n",
    "        1928673, 1928135, 1928850,\n",
    "        1927767, 1930617, 1929003,\n",
    "        1927925,1927602, 1929119,\n",
    "        1930716, 1931320, 1931246,\n",
    "        1930367, 1925130, 1922010, \n",
    "        1922434\n",
    "    )\n",
    "''', con=con)"
   ]
  },
  {
   "cell_type": "code",
   "execution_count": 501,
   "metadata": {
    "scrolled": true
   },
   "outputs": [
    {
     "data": {
      "text/html": [
       "<div>\n",
       "<style scoped>\n",
       "    .dataframe tbody tr th:only-of-type {\n",
       "        vertical-align: middle;\n",
       "    }\n",
       "\n",
       "    .dataframe tbody tr th {\n",
       "        vertical-align: top;\n",
       "    }\n",
       "\n",
       "    .dataframe thead th {\n",
       "        text-align: right;\n",
       "    }\n",
       "</style>\n",
       "<table border=\"1\" class=\"dataframe\">\n",
       "  <thead>\n",
       "    <tr style=\"text-align: right;\">\n",
       "      <th></th>\n",
       "      <th>index</th>\n",
       "      <th>id</th>\n",
       "      <th>title</th>\n",
       "      <th>url</th>\n",
       "      <th>summary</th>\n",
       "      <th>created</th>\n",
       "      <th>archive_url</th>\n",
       "      <th>entry_id</th>\n",
       "      <th>num_versions</th>\n",
       "      <th>version</th>\n",
       "      <th>source</th>\n",
       "      <th>joint_key</th>\n",
       "    </tr>\n",
       "  </thead>\n",
       "  <tbody>\n",
       "    <tr>\n",
       "      <th>6374</th>\n",
       "      <td>221443</td>\n",
       "      <td>1926126-1</td>\n",
       "      <td>Coronavirus live news: Global cases near milli...</td>\n",
       "      <td>https://www.theguardian.com/world/live/2020/ap...</td>\n",
       "      <td>Trump says federal stockpile of personal prote...</td>\n",
       "      <td>2020-04-02 00:33:00+00:00</td>\n",
       "      <td>https://www.newssniffer.co.uk/articles/1926126...</td>\n",
       "      <td>1926126</td>\n",
       "      <td>45</td>\n",
       "      <td>1</td>\n",
       "      <td>guardian</td>\n",
       "      <td>1926126-1</td>\n",
       "    </tr>\n",
       "    <tr>\n",
       "      <th>7447</th>\n",
       "      <td>226690</td>\n",
       "      <td>1928566-2</td>\n",
       "      <td>Coronavirus live news: Trump threatens to stop...</td>\n",
       "      <td>https://www.theguardian.com/world/live/2020/ap...</td>\n",
       "      <td>Boris Johnson still in intensive care; top EU ...</td>\n",
       "      <td>2020-04-08 00:36:00+00:00</td>\n",
       "      <td>https://www.newssniffer.co.uk/articles/1928566...</td>\n",
       "      <td>1928566</td>\n",
       "      <td>46</td>\n",
       "      <td>2</td>\n",
       "      <td>guardian</td>\n",
       "      <td>1928566-2</td>\n",
       "    </tr>\n",
       "    <tr>\n",
       "      <th>7659</th>\n",
       "      <td>227474</td>\n",
       "      <td>1928916-4</td>\n",
       "      <td>Coronavirus live news: global cases pass 1.5m ...</td>\n",
       "      <td>https://www.theguardian.com/world/live/2020/ap...</td>\n",
       "      <td>Boris Johnson still in intensive care but cond...</td>\n",
       "      <td>2020-04-09 02:08:00+00:00</td>\n",
       "      <td>https://www.newssniffer.co.uk/articles/1928916...</td>\n",
       "      <td>1928916</td>\n",
       "      <td>46</td>\n",
       "      <td>4</td>\n",
       "      <td>guardian</td>\n",
       "      <td>1928916-4</td>\n",
       "    </tr>\n",
       "    <tr>\n",
       "      <th>8027</th>\n",
       "      <td>229267</td>\n",
       "      <td>1930033-34</td>\n",
       "      <td>Coronavirus live news: US overtakes Italy as c...</td>\n",
       "      <td>https://www.theguardian.com/world/live/2020/ap...</td>\n",
       "      <td>US death toll tops 19,600. Italy and India ext...</td>\n",
       "      <td>2020-04-11 19:56:00+00:00</td>\n",
       "      <td>https://www.newssniffer.co.uk/articles/1930033...</td>\n",
       "      <td>1930033</td>\n",
       "      <td>43</td>\n",
       "      <td>34</td>\n",
       "      <td>guardian</td>\n",
       "      <td>1930033-34</td>\n",
       "    </tr>\n",
       "    <tr>\n",
       "      <th>8307</th>\n",
       "      <td>230401</td>\n",
       "      <td>1930550-35</td>\n",
       "      <td>Coronavirus latest news: death toll in Italy p...</td>\n",
       "      <td>https://www.theguardian.com/world/live/2020/ap...</td>\n",
       "      <td>Spain records another drop in daily death toll...</td>\n",
       "      <td>2020-04-13 19:18:00+00:00</td>\n",
       "      <td>https://www.newssniffer.co.uk/articles/1930550...</td>\n",
       "      <td>1930550</td>\n",
       "      <td>46</td>\n",
       "      <td>35</td>\n",
       "      <td>guardian</td>\n",
       "      <td>1930550-35</td>\n",
       "    </tr>\n",
       "    <tr>\n",
       "      <th>9501</th>\n",
       "      <td>237310</td>\n",
       "      <td>1936066-0</td>\n",
       "      <td>Coronavirus live news: Brazil’s health system ...</td>\n",
       "      <td>https://www.theguardian.com/world/live/2020/ap...</td>\n",
       "      <td>Leader of US group peddling bleach as ‘miracle...</td>\n",
       "      <td>2020-04-25 01:02:00+00:00</td>\n",
       "      <td>https://www.newssniffer.co.uk/articles/1936066...</td>\n",
       "      <td>1936066</td>\n",
       "      <td>46</td>\n",
       "      <td>0</td>\n",
       "      <td>guardian</td>\n",
       "      <td>1936066-0</td>\n",
       "    </tr>\n",
       "    <tr>\n",
       "      <th>14217</th>\n",
       "      <td>265338</td>\n",
       "      <td>1954950-16</td>\n",
       "      <td>Coronavirus live news: Brazil cases surge past...</td>\n",
       "      <td>https://www.theguardian.com/world/live/2020/ju...</td>\n",
       "      <td>New York urges protesters to get tested; Turke...</td>\n",
       "      <td>2020-06-05 08:48:00+00:00</td>\n",
       "      <td>https://www.newssniffer.co.uk/articles/1954950...</td>\n",
       "      <td>1954950</td>\n",
       "      <td>45</td>\n",
       "      <td>16</td>\n",
       "      <td>guardian</td>\n",
       "      <td>1954950-16</td>\n",
       "    </tr>\n",
       "  </tbody>\n",
       "</table>\n",
       "</div>"
      ],
      "text/plain": [
       "        index          id                                              title  \\\n",
       "6374   221443   1926126-1  Coronavirus live news: Global cases near milli...   \n",
       "7447   226690   1928566-2  Coronavirus live news: Trump threatens to stop...   \n",
       "7659   227474   1928916-4  Coronavirus live news: global cases pass 1.5m ...   \n",
       "8027   229267  1930033-34  Coronavirus live news: US overtakes Italy as c...   \n",
       "8307   230401  1930550-35  Coronavirus latest news: death toll in Italy p...   \n",
       "9501   237310   1936066-0  Coronavirus live news: Brazil’s health system ...   \n",
       "14217  265338  1954950-16  Coronavirus live news: Brazil cases surge past...   \n",
       "\n",
       "                                                     url  \\\n",
       "6374   https://www.theguardian.com/world/live/2020/ap...   \n",
       "7447   https://www.theguardian.com/world/live/2020/ap...   \n",
       "7659   https://www.theguardian.com/world/live/2020/ap...   \n",
       "8027   https://www.theguardian.com/world/live/2020/ap...   \n",
       "8307   https://www.theguardian.com/world/live/2020/ap...   \n",
       "9501   https://www.theguardian.com/world/live/2020/ap...   \n",
       "14217  https://www.theguardian.com/world/live/2020/ju...   \n",
       "\n",
       "                                                 summary  \\\n",
       "6374   Trump says federal stockpile of personal prote...   \n",
       "7447   Boris Johnson still in intensive care; top EU ...   \n",
       "7659   Boris Johnson still in intensive care but cond...   \n",
       "8027   US death toll tops 19,600. Italy and India ext...   \n",
       "8307   Spain records another drop in daily death toll...   \n",
       "9501   Leader of US group peddling bleach as ‘miracle...   \n",
       "14217  New York urges protesters to get tested; Turke...   \n",
       "\n",
       "                        created  \\\n",
       "6374  2020-04-02 00:33:00+00:00   \n",
       "7447  2020-04-08 00:36:00+00:00   \n",
       "7659  2020-04-09 02:08:00+00:00   \n",
       "8027  2020-04-11 19:56:00+00:00   \n",
       "8307  2020-04-13 19:18:00+00:00   \n",
       "9501  2020-04-25 01:02:00+00:00   \n",
       "14217 2020-06-05 08:48:00+00:00   \n",
       "\n",
       "                                             archive_url entry_id  \\\n",
       "6374   https://www.newssniffer.co.uk/articles/1926126...  1926126   \n",
       "7447   https://www.newssniffer.co.uk/articles/1928566...  1928566   \n",
       "7659   https://www.newssniffer.co.uk/articles/1928916...  1928916   \n",
       "8027   https://www.newssniffer.co.uk/articles/1930033...  1930033   \n",
       "8307   https://www.newssniffer.co.uk/articles/1930550...  1930550   \n",
       "9501   https://www.newssniffer.co.uk/articles/1936066...  1936066   \n",
       "14217  https://www.newssniffer.co.uk/articles/1954950...  1954950   \n",
       "\n",
       "      num_versions version    source   joint_key  \n",
       "6374            45       1  guardian   1926126-1  \n",
       "7447            46       2  guardian   1928566-2  \n",
       "7659            46       4  guardian   1928916-4  \n",
       "8027            43      34  guardian  1930033-34  \n",
       "8307            46      35  guardian  1930550-35  \n",
       "9501            46       0  guardian   1936066-0  \n",
       "14217           45      16  guardian  1954950-16  "
      ]
     },
     "execution_count": 501,
     "metadata": {},
     "output_type": "execute_result"
    }
   ],
   "source": [
    "(all_articles_df\n",
    " .loc[lambda df: ~df['entry_id'].isin(found_diffs['a_id'])]\n",
    " .loc[lambda df: df['source'] == 'guardian']\n",
    " .drop_duplicates('entry_id')\n",
    "#  ['summary']\n",
    ")"
   ]
  },
  {
   "cell_type": "code",
   "execution_count": null,
   "metadata": {},
   "outputs": [],
   "source": []
  },
  {
   "cell_type": "code",
   "execution_count": null,
   "metadata": {},
   "outputs": [],
   "source": []
  },
  {
   "cell_type": "code",
   "execution_count": null,
   "metadata": {},
   "outputs": [],
   "source": []
  },
  {
   "cell_type": "code",
   "execution_count": null,
   "metadata": {},
   "outputs": [],
   "source": []
  },
  {
   "cell_type": "code",
   "execution_count": null,
   "metadata": {},
   "outputs": [],
   "source": []
  },
  {
   "cell_type": "code",
   "execution_count": null,
   "metadata": {},
   "outputs": [],
   "source": []
  },
  {
   "cell_type": "code",
   "execution_count": null,
   "metadata": {},
   "outputs": [],
   "source": []
  },
  {
   "cell_type": "markdown",
   "metadata": {},
   "source": [
    "# Prepare Individual Diffs"
   ]
  },
  {
   "cell_type": "code",
   "execution_count": 281,
   "metadata": {},
   "outputs": [],
   "source": [
    "import sqlite3\n",
    "with sqlite3.connect('../data/diffengine-diffs/output/wp.db') as conn:\n",
    "    wp_sentence_diffs_df = pd.read_sql('select * from sentence_diffs', con=conn)"
   ]
  },
  {
   "cell_type": "code",
   "execution_count": 282,
   "metadata": {},
   "outputs": [],
   "source": [
    "wp_army_diffs = (wp_sentence_diffs_df\n",
    " .loc[lambda df: df['a_id'].isin((\n",
    "     all_articles_df\n",
    "         .loc[lambda df: df['source'] == 'washpo']\n",
    "         ['entry_id']\n",
    "    ))\n",
    " ]\n",
    ")"
   ]
  },
  {
   "cell_type": "code",
   "execution_count": 311,
   "metadata": {},
   "outputs": [],
   "source": [
    "diffs_df = (\n",
    "    wp_army_diffs\n",
    "     .groupby(['a_id', 'version_old', 'version_new'])\n",
    "     .apply(lambda df: \n",
    "            df.sort_values('s_idx')\n",
    "            .pipe(lambda df: (\n",
    "                df[['sent_old', 'tag_old']].rename(columns={'sent_old':'text', 'tag_old': 'tag'}).to_dict(orient='records'), \n",
    "                df[['sent_new', 'tag_new']].rename(columns={'sent_new':'text', 'tag_new': 'tag'}).to_dict(orient='records')\n",
    "            )\n",
    "           )\n",
    "       )\n",
    ")\n",
    "\n",
    "merged_diffs_df = (diffs_df.to_frame('vers_text')\n",
    " .reset_index()\n",
    " .merge(\n",
    "     all_articles_df[['entry_id', 'version', 'title', 'created']]\n",
    "         .rename(columns={'title': 'title_old', 'created': 'created_old'}),\n",
    "     left_on=['a_id', 'version_old'], \n",
    "     right_on=['entry_id', 'version'],\n",
    "     how='left'\n",
    " )\n",
    " .drop(['entry_id', 'version'], axis=1)\n",
    "#  .set_index(['a_id', 'version_old', 'version_new'])\n",
    " .merge(\n",
    "     all_articles_df[['entry_id', 'version', 'title', 'created']]\n",
    "         .rename(columns={'title': 'title_new', 'created': 'created_new'}),\n",
    "     left_on=['a_id', 'version_new'], \n",
    "     right_on=['entry_id', 'version'],\n",
    "     how='left'\n",
    " )\n",
    " .drop(['entry_id', 'version'], axis=1)\n",
    ")"
   ]
  },
  {
   "cell_type": "code",
   "execution_count": null,
   "metadata": {},
   "outputs": [],
   "source": [
    "merged_diffs_df.to_pickle('../data/tr-story/wp-tr-articles-merged.pkl')"
   ]
  },
  {
   "cell_type": "code",
   "execution_count": null,
   "metadata": {},
   "outputs": [],
   "source": []
  },
  {
   "cell_type": "code",
   "execution_count": null,
   "metadata": {},
   "outputs": [],
   "source": []
  },
  {
   "cell_type": "code",
   "execution_count": null,
   "metadata": {},
   "outputs": [],
   "source": []
  },
  {
   "cell_type": "code",
   "execution_count": null,
   "metadata": {},
   "outputs": [],
   "source": []
  },
  {
   "cell_type": "code",
   "execution_count": 55,
   "metadata": {
    "scrolled": true
   },
   "outputs": [
    {
     "data": {
      "text/html": [
       "<div>\n",
       "<style scoped>\n",
       "    .dataframe tbody tr th:only-of-type {\n",
       "        vertical-align: middle;\n",
       "    }\n",
       "\n",
       "    .dataframe tbody tr th {\n",
       "        vertical-align: top;\n",
       "    }\n",
       "\n",
       "    .dataframe thead th {\n",
       "        text-align: right;\n",
       "    }\n",
       "</style>\n",
       "<table border=\"1\" class=\"dataframe\">\n",
       "  <thead>\n",
       "    <tr style=\"text-align: right;\">\n",
       "      <th></th>\n",
       "      <th>min_date</th>\n",
       "      <th>max_date</th>\n",
       "      <th>count</th>\n",
       "    </tr>\n",
       "    <tr>\n",
       "      <th>entry_id</th>\n",
       "      <th></th>\n",
       "      <th></th>\n",
       "      <th></th>\n",
       "    </tr>\n",
       "  </thead>\n",
       "  <tbody>\n",
       "    <tr>\n",
       "      <th>1922010</th>\n",
       "      <td>2020-03-24</td>\n",
       "      <td>2020-03-24</td>\n",
       "      <td>8</td>\n",
       "    </tr>\n",
       "    <tr>\n",
       "      <th>1922434</th>\n",
       "      <td>2020-03-24</td>\n",
       "      <td>2020-03-24</td>\n",
       "      <td>7</td>\n",
       "    </tr>\n",
       "    <tr>\n",
       "      <th>1925130</th>\n",
       "      <td>2020-03-31</td>\n",
       "      <td>2020-04-01</td>\n",
       "      <td>11</td>\n",
       "    </tr>\n",
       "    <tr>\n",
       "      <th>1925369</th>\n",
       "      <td>2020-03-31</td>\n",
       "      <td>2020-09-02</td>\n",
       "      <td>35</td>\n",
       "    </tr>\n",
       "    <tr>\n",
       "      <th>1925507</th>\n",
       "      <td>2020-03-31</td>\n",
       "      <td>2020-03-31</td>\n",
       "      <td>7</td>\n",
       "    </tr>\n",
       "    <tr>\n",
       "      <th>1926793</th>\n",
       "      <td>2020-04-03</td>\n",
       "      <td>2020-09-04</td>\n",
       "      <td>6</td>\n",
       "    </tr>\n",
       "    <tr>\n",
       "      <th>1927602</th>\n",
       "      <td>2020-04-05</td>\n",
       "      <td>2020-09-02</td>\n",
       "      <td>38</td>\n",
       "    </tr>\n",
       "    <tr>\n",
       "      <th>1927767</th>\n",
       "      <td>2020-04-05</td>\n",
       "      <td>2020-09-03</td>\n",
       "      <td>42</td>\n",
       "    </tr>\n",
       "    <tr>\n",
       "      <th>1927925</th>\n",
       "      <td>2020-04-06</td>\n",
       "      <td>2020-09-03</td>\n",
       "      <td>38</td>\n",
       "    </tr>\n",
       "    <tr>\n",
       "      <th>1927978</th>\n",
       "      <td>2020-04-06</td>\n",
       "      <td>2020-09-06</td>\n",
       "      <td>3</td>\n",
       "    </tr>\n",
       "    <tr>\n",
       "      <th>1928103</th>\n",
       "      <td>2020-04-06</td>\n",
       "      <td>2020-09-02</td>\n",
       "      <td>36</td>\n",
       "    </tr>\n",
       "    <tr>\n",
       "      <th>1928135</th>\n",
       "      <td>2020-04-06</td>\n",
       "      <td>2020-09-03</td>\n",
       "      <td>45</td>\n",
       "    </tr>\n",
       "    <tr>\n",
       "      <th>1928259</th>\n",
       "      <td>2020-04-07</td>\n",
       "      <td>2020-09-02</td>\n",
       "      <td>53</td>\n",
       "    </tr>\n",
       "    <tr>\n",
       "      <th>1928363</th>\n",
       "      <td>2020-04-07</td>\n",
       "      <td>2020-09-02</td>\n",
       "      <td>54</td>\n",
       "    </tr>\n",
       "    <tr>\n",
       "      <th>1928412</th>\n",
       "      <td>2020-04-07</td>\n",
       "      <td>2020-09-02</td>\n",
       "      <td>32</td>\n",
       "    </tr>\n",
       "    <tr>\n",
       "      <th>1928433</th>\n",
       "      <td>2020-04-07</td>\n",
       "      <td>2020-09-02</td>\n",
       "      <td>32</td>\n",
       "    </tr>\n",
       "    <tr>\n",
       "      <th>1928487</th>\n",
       "      <td>2020-04-07</td>\n",
       "      <td>2020-09-03</td>\n",
       "      <td>51</td>\n",
       "    </tr>\n",
       "    <tr>\n",
       "      <th>1928673</th>\n",
       "      <td>2020-04-08</td>\n",
       "      <td>2020-09-03</td>\n",
       "      <td>48</td>\n",
       "    </tr>\n",
       "    <tr>\n",
       "      <th>1928850</th>\n",
       "      <td>2020-04-08</td>\n",
       "      <td>2020-09-03</td>\n",
       "      <td>43</td>\n",
       "    </tr>\n",
       "    <tr>\n",
       "      <th>1929003</th>\n",
       "      <td>2020-04-09</td>\n",
       "      <td>2020-09-03</td>\n",
       "      <td>39</td>\n",
       "    </tr>\n",
       "    <tr>\n",
       "      <th>1929119</th>\n",
       "      <td>2020-04-09</td>\n",
       "      <td>2020-09-03</td>\n",
       "      <td>36</td>\n",
       "    </tr>\n",
       "    <tr>\n",
       "      <th>1929249</th>\n",
       "      <td>2020-04-10</td>\n",
       "      <td>2020-09-03</td>\n",
       "      <td>25</td>\n",
       "    </tr>\n",
       "    <tr>\n",
       "      <th>1930120</th>\n",
       "      <td>2020-04-11</td>\n",
       "      <td>2020-09-02</td>\n",
       "      <td>32</td>\n",
       "    </tr>\n",
       "    <tr>\n",
       "      <th>1930367</th>\n",
       "      <td>2020-04-12</td>\n",
       "      <td>2020-04-13</td>\n",
       "      <td>17</td>\n",
       "    </tr>\n",
       "    <tr>\n",
       "      <th>1930617</th>\n",
       "      <td>2020-04-13</td>\n",
       "      <td>2020-09-03</td>\n",
       "      <td>42</td>\n",
       "    </tr>\n",
       "    <tr>\n",
       "      <th>1930716</th>\n",
       "      <td>2020-04-13</td>\n",
       "      <td>2020-09-03</td>\n",
       "      <td>36</td>\n",
       "    </tr>\n",
       "    <tr>\n",
       "      <th>1931094</th>\n",
       "      <td>2020-04-14</td>\n",
       "      <td>2020-04-15</td>\n",
       "      <td>2</td>\n",
       "    </tr>\n",
       "    <tr>\n",
       "      <th>1931107</th>\n",
       "      <td>2020-04-14</td>\n",
       "      <td>2020-04-14</td>\n",
       "      <td>2</td>\n",
       "    </tr>\n",
       "    <tr>\n",
       "      <th>1931246</th>\n",
       "      <td>2020-04-15</td>\n",
       "      <td>2020-08-28</td>\n",
       "      <td>29</td>\n",
       "    </tr>\n",
       "    <tr>\n",
       "      <th>1931320</th>\n",
       "      <td>2020-04-15</td>\n",
       "      <td>2020-09-02</td>\n",
       "      <td>32</td>\n",
       "    </tr>\n",
       "    <tr>\n",
       "      <th>1944668</th>\n",
       "      <td>2020-05-14</td>\n",
       "      <td>2020-09-02</td>\n",
       "      <td>35</td>\n",
       "    </tr>\n",
       "    <tr>\n",
       "      <th>1946874</th>\n",
       "      <td>2020-05-19</td>\n",
       "      <td>2020-05-19</td>\n",
       "      <td>2</td>\n",
       "    </tr>\n",
       "    <tr>\n",
       "      <th>1948692</th>\n",
       "      <td>2020-05-22</td>\n",
       "      <td>2020-05-22</td>\n",
       "      <td>2</td>\n",
       "    </tr>\n",
       "    <tr>\n",
       "      <th>1964500</th>\n",
       "      <td>2020-06-25</td>\n",
       "      <td>2020-06-25</td>\n",
       "      <td>7</td>\n",
       "    </tr>\n",
       "    <tr>\n",
       "      <th>1965334</th>\n",
       "      <td>2020-06-27</td>\n",
       "      <td>2020-06-29</td>\n",
       "      <td>2</td>\n",
       "    </tr>\n",
       "    <tr>\n",
       "      <th>1965714</th>\n",
       "      <td>2020-06-29</td>\n",
       "      <td>2020-07-01</td>\n",
       "      <td>5</td>\n",
       "    </tr>\n",
       "    <tr>\n",
       "      <th>1967795</th>\n",
       "      <td>2020-07-03</td>\n",
       "      <td>2020-07-06</td>\n",
       "      <td>2</td>\n",
       "    </tr>\n",
       "    <tr>\n",
       "      <th>1982288</th>\n",
       "      <td>2020-08-04</td>\n",
       "      <td>2020-08-06</td>\n",
       "      <td>2</td>\n",
       "    </tr>\n",
       "    <tr>\n",
       "      <th>1993830</th>\n",
       "      <td>2020-09-02</td>\n",
       "      <td>2020-09-03</td>\n",
       "      <td>2</td>\n",
       "    </tr>\n",
       "    <tr>\n",
       "      <th>1996378</th>\n",
       "      <td>2020-09-08</td>\n",
       "      <td>2020-09-26</td>\n",
       "      <td>2</td>\n",
       "    </tr>\n",
       "    <tr>\n",
       "      <th>2027519</th>\n",
       "      <td>2020-11-10</td>\n",
       "      <td>2020-11-10</td>\n",
       "      <td>2</td>\n",
       "    </tr>\n",
       "    <tr>\n",
       "      <th>2032161</th>\n",
       "      <td>2020-11-19</td>\n",
       "      <td>2020-11-19</td>\n",
       "      <td>2</td>\n",
       "    </tr>\n",
       "  </tbody>\n",
       "</table>\n",
       "</div>"
      ],
      "text/plain": [
       "            min_date    max_date  count\n",
       "entry_id                               \n",
       "1922010   2020-03-24  2020-03-24      8\n",
       "1922434   2020-03-24  2020-03-24      7\n",
       "1925130   2020-03-31  2020-04-01     11\n",
       "1925369   2020-03-31  2020-09-02     35\n",
       "1925507   2020-03-31  2020-03-31      7\n",
       "1926793   2020-04-03  2020-09-04      6\n",
       "1927602   2020-04-05  2020-09-02     38\n",
       "1927767   2020-04-05  2020-09-03     42\n",
       "1927925   2020-04-06  2020-09-03     38\n",
       "1927978   2020-04-06  2020-09-06      3\n",
       "1928103   2020-04-06  2020-09-02     36\n",
       "1928135   2020-04-06  2020-09-03     45\n",
       "1928259   2020-04-07  2020-09-02     53\n",
       "1928363   2020-04-07  2020-09-02     54\n",
       "1928412   2020-04-07  2020-09-02     32\n",
       "1928433   2020-04-07  2020-09-02     32\n",
       "1928487   2020-04-07  2020-09-03     51\n",
       "1928673   2020-04-08  2020-09-03     48\n",
       "1928850   2020-04-08  2020-09-03     43\n",
       "1929003   2020-04-09  2020-09-03     39\n",
       "1929119   2020-04-09  2020-09-03     36\n",
       "1929249   2020-04-10  2020-09-03     25\n",
       "1930120   2020-04-11  2020-09-02     32\n",
       "1930367   2020-04-12  2020-04-13     17\n",
       "1930617   2020-04-13  2020-09-03     42\n",
       "1930716   2020-04-13  2020-09-03     36\n",
       "1931094   2020-04-14  2020-04-15      2\n",
       "1931107   2020-04-14  2020-04-14      2\n",
       "1931246   2020-04-15  2020-08-28     29\n",
       "1931320   2020-04-15  2020-09-02     32\n",
       "1944668   2020-05-14  2020-09-02     35\n",
       "1946874   2020-05-19  2020-05-19      2\n",
       "1948692   2020-05-22  2020-05-22      2\n",
       "1964500   2020-06-25  2020-06-25      7\n",
       "1965334   2020-06-27  2020-06-29      2\n",
       "1965714   2020-06-29  2020-07-01      5\n",
       "1967795   2020-07-03  2020-07-06      2\n",
       "1982288   2020-08-04  2020-08-06      2\n",
       "1993830   2020-09-02  2020-09-03      2\n",
       "1996378   2020-09-08  2020-09-26      2\n",
       "2027519   2020-11-10  2020-11-10      2\n",
       "2032161   2020-11-19  2020-11-19      2"
      ]
     },
     "execution_count": 55,
     "metadata": {},
     "output_type": "execute_result"
    }
   ],
   "source": [
    "(relevant_articles\n",
    " .assign(created=lambda df: pd.to_datetime(df['created']))\n",
    " .assign(c=1)\n",
    " .groupby('entry_id')\n",
    " .apply(lambda df: pd.Series({\n",
    "     'min_date':df['created'].min().date(),\n",
    "     'max_date':df['created'].max().date(),\n",
    "     'count':df['c'].sum()\n",
    " }))\n",
    ")"
   ]
  },
  {
   "cell_type": "code",
   "execution_count": null,
   "metadata": {},
   "outputs": [],
   "source": []
  },
  {
   "cell_type": "code",
   "execution_count": null,
   "metadata": {},
   "outputs": [],
   "source": []
  },
  {
   "cell_type": "code",
   "execution_count": null,
   "metadata": {},
   "outputs": [],
   "source": []
  },
  {
   "cell_type": "code",
   "execution_count": null,
   "metadata": {},
   "outputs": [],
   "source": []
  },
  {
   "cell_type": "code",
   "execution_count": null,
   "metadata": {},
   "outputs": [],
   "source": []
  },
  {
   "cell_type": "code",
   "execution_count": null,
   "metadata": {},
   "outputs": [],
   "source": []
  },
  {
   "cell_type": "code",
   "execution_count": null,
   "metadata": {},
   "outputs": [],
   "source": []
  },
  {
   "cell_type": "code",
   "execution_count": 62,
   "metadata": {
    "scrolled": true
   },
   "outputs": [],
   "source": [
    "t = relevant_articles.sort_values('created').iloc[-1]['summary']"
   ]
  },
  {
   "cell_type": "code",
   "execution_count": 65,
   "metadata": {},
   "outputs": [
    {
     "data": {
      "text/html": [
       "With the coronavirus on the march through much of the United States, scientists are urging Americans to adopt the few health measures shown to slow the virus: universal mask use, social distancing, good ventilation indoors and hand hygiene.</p><p>Mask-wearing has become a particularly divisive — and partisan — issue over the past few months. Still, faced with a surge in cases, 40 states, including recent holdouts like Iowa and North Dakota, now have put mask requirements in place.</p><p>Among public health experts, there is near-unanimous endorsement of universal mask mandates to shield people from the virus and slow the pandemic.</p><p>“The more people who wear a mask, the more the community is protected and therefore the more you individually benefit,” said Dr. John Brooks, chief medical officer of the Centers for Disease Control and Prevention’s Covid-19 response program. “It’s like a herd effect.”</p><p>Dr. Brooks is the architect of a recent agency bulletin saying that masks benefit wearers, not just those around them. Increasing the proportion of people who wear masks by 15 percent could prevent the need for lockdowns and cut economic losses that may reach $1 trillion, about 5 percent of gross domestic product, the C.D.C. said.</p><p>“If it can’t help us avert the shutdowns that are happening, it can certainly help us come down the backside of this peak and then keep things down,” Dr. Brooks said.</p><p>Other experts were careful to note that masks cannot work in isolation. “Controlling community spread of Covid-19 and protecting individuals requires a multitiered approach,” said John Volckens, a public health engineer at Colorado State University in Fort Collins.</p><p>In August, Dr. Volckens organized a workshop for the National Academies of Sciences, Engineering and Medicine on ways to prevent airborne transmission of the virus. “Masks are a critical part of that approach,” he said. “That is definitely the consensus among scientists.”</p><p>So what is the evidence supporting mask use? And what about that Danish study questioning whether masks protect the wearer? We asked experts to weigh in on the latest evidence.</p><p>The term mask refers to any kind of protective facial covering, but its effectiveness depends greatly on the type. The gold standard is the N95 respirator which, as its name suggests, can block 95 percent of harmful particles a wearer might breathe in or out. Surgical masks are also highly effective at filtering these particles.</p><p>But experts say only health care workers require gold-standard protection. Doctors and nurses work closely with infected patients for prolonged periods, which significantly increases their risk of infection with the coronavirus, Dr. Brooks noted.</p><p>The average person, on the other hand, is exposed to much less virus and less often, and so can be protected with a well-made cloth covering, Dr. Brooks said. The best cloth face coverings, which have multiple layers that can trap viral particles — the thickest are mostly impervious to light — are as effective as surgical masks in some circumstances.</p><p>Cloth masks are also reusable and durable, and even after regular washings, they maintain their effectiveness. N95s and surgical masks are usually worn once and “end up in a landfill,” Dr. Brooks said.</p><p>It’s indisputable that N95 respirators and surgical masks prevent pathogens from infecting others — one reason doctors have traditionally worn surgical masks to protect their patients.</p><p>There is increasing evidence that cloth face coverings, too, stop virus expelled by an infected person when breathing, talking, singing or shouting — controlling the spread at the source.</p><p>This discovery became especially important once scientists learned that people who don’t even feel symptoms may spread the virus. More than 50 percent of all infections may be transmitted by asymptomatic people.</p><p>Apart from epidemiological studies showing that mask use is high in countries that have successfully controlled the virus, mask mandates have been shown to significantly slow the virus in U.S. states and in health care settings, Dr. Volckens said.</p><p>All kinds of masks offer the wearer some degree of protection, multiple studies have shown. Exactly how much protection is not yet clear.</p><p>“The protection for the wearer is not 100 percent,” Dr. Leana Wen, the former health commissioner of Baltimore, said of cloth masks. “That’s also why universal masking is important, because we need the people who are infected to be wearing it.”</p><p>N95 masks are thought to be the most effective in this regard, followed by surgical masks. But evidence for benefit from cloth masks is scarce.</p><p>“There haven’t been good studies on protecting the wearer,” said Linsey Marr, an expert at Virginia Tech on the airborne transmission of viruses. Still, she added, most researchers assume cloth masks provide at least some protection.</p><p>Some of the studies on wearer protection were conducted in labs under ideal conditions, or with mannequins, which does not capture more realistic situations in which people wear masks inconsistently or incorrectly.</p><p>Still, in one such study, a mask made of four layers of tightly woven surgical gauze prevented transmission more effectively when worn by both parties than when worn only by an infected person, Dr. Brooks said.</p><p>“They worked best together, and the cloth masks performed essentially as well as surgical masks,” he said. “When you’re wearing a mask, you’re protecting others as well as yourself.”</p><p>Critics of mask-wearing measures have long demanded a randomized clinical trial that establishes their effectiveness. But while such trials are the standard for drugs and vaccines, they are not ideal for evaluating behaviors subject to people’s recall, experts said.</p><p>“Show me the clinical trials that showed the efficacy of hand washing,” Dr. Volckens said. “And I think we all agree that smoking causes cancer and is bad for you — does that mean that we can’t believe that smoking causes cancer because there isn’t a clinical trial?”</p><p>Most studies on cloth face coverings have been observational and looked at whether their use stopped the spread at a community level. The C.D.C.’s latest bulletin on masks lists several such studies confirming the benefit of universal masking mandates.</p><p>In one study, two masked hair stylists had symptoms but did not transmit the virus to any of their 67 masked clients. In another, face coverings seemed to reduce risk of infection by 70 percent during an outbreak aboard the <span style=\"background-color:yellow\">u.s.s. theodore roosevelt</span>.</p><p>It’s particularly difficult to assess a mask’s benefit to the wearer because “you’ve got to be able to measure what’s behind the mask and what’s getting through the mask into their mouth,” Dr. Marr said.</p><p>A Danish study published on Wednesday was a randomized clinical trial assessing whether a mask protected wearers. It found no statistically significant effect. But the study has serious limitations, experts said: It was conducted when community transmission in Denmark was low, and masks were far from the norm.</p><p>“It didn’t get at this communitywide effect,” Dr. Volckens said.</p><p>The numbers in the study were small, and only half of the mask-wearing subjects reported doing so as strictly as recommended. Even those who wore them regularly would not have worn them at restaurants, bars, gyms or in their homes — settings responsible for the majority of spread in a community, Dr. Marr noted.</p><p>“It’s hard to do these studies in real life,” she said.</p><p>The study still found a 15 percent protection for the wearer, although the figure was not statistically significant. But it may be an underestimate, Dr. Marr and other researchers said.</p><p>“I still think masks are the most cheap, effective, versatile intervention that we can have if social distancing is not possible or variable, or if indoor ventilation is poor,” said Julian Tang, honorary professor of respiratory sciences at the University of Leicester in the United Kingdom.</p><p>The C.D.C. has been criticized for an about-face on masks since the beginning of the pandemic, when it urged only symptomatic people to wear them. The agency did not recommend universal use of face coverings until April. (The World Health Organization was even later, issuing its endorsement in July.)</p><p>The agency was reluctant to recommend masks at first because it worried about a run on the high-quality masks needed for health care workers, Dr. Marr said. “I think it took time to realize that there’s different objectives in the health care setting versus in the community,” she said.</p><p>It is natural when dealing with an unknown virus for recommendations to change significantly over time, Dr. Wen said. “We know a lot more now, and I think we should acknowledge that we were wrong,” she said.</p><p>Still, changes in guidance should be seen as a sign that the policy is following the latest science, she added.</p><p>“Somehow that change has been framed by some people as public health experts not knowing what we’re doing,” Dr. Wen said. “But actually, we should see this change in guidance as part of the necessary evolution. That’s the cornerstone of a solid public health response.”</p><p>For example, it was not clear at first that the virus could be transmitted by air, especially indoors and by people without symptoms. So scientists assumed that the new coronavirus behaved like the coronaviruses causing SARS and MERS.</p><p>But the C.D.C. was quick to recommend masks once it was clear that asymptomatic transmission was a big contributor, Dr. Brooks said: “Science changes. So do we, and so do our recommendations.”</p><p>Likewise, the agency initially recommended masks only to protect those near an infected person because “that’s where we had the earliest and clear data.” Now there is enough evidence to say that masks also benefit the wearer.</p><p>“Our guidance has not changed — we are recommending everybody wear masks,” he said. “What has changed is we can now give you a reason. a personal reason that will motivate people.”</p><p>The experts all emphasized that mask use is just one tool that can slow the pandemic. Social distancing, ventilation and hand hygiene are also important.</p><p>“None of those is 100 percent effective by itself,” Dr. Marr said. “But when we combine them, then we can make a big dent in the risk of transmission.”</p><p>Masking is also among the easiest of community strategies to adopt, or should be, as states all over the country try to avert lockdowns, Dr. Brooks said: “We believe strongly that universal masking policies can help avert shutdowns.”"
      ],
      "text/plain": [
       "<IPython.core.display.HTML object>"
      ]
     },
     "metadata": {},
     "output_type": "display_data"
    }
   ],
   "source": [
    "display(HTML(highlight_keywords(t)))"
   ]
  },
  {
   "cell_type": "code",
   "execution_count": null,
   "metadata": {},
   "outputs": [],
   "source": []
  },
  {
   "cell_type": "code",
   "execution_count": null,
   "metadata": {},
   "outputs": [],
   "source": []
  },
  {
   "cell_type": "code",
   "execution_count": null,
   "metadata": {},
   "outputs": [],
   "source": []
  },
  {
   "cell_type": "code",
   "execution_count": null,
   "metadata": {},
   "outputs": [],
   "source": []
  },
  {
   "cell_type": "code",
   "execution_count": null,
   "metadata": {},
   "outputs": [],
   "source": []
  },
  {
   "cell_type": "code",
   "execution_count": null,
   "metadata": {},
   "outputs": [],
   "source": []
  },
  {
   "cell_type": "code",
   "execution_count": null,
   "metadata": {},
   "outputs": [],
   "source": []
  }
 ],
 "metadata": {
  "hide_input": false,
  "kernelspec": {
   "display_name": "Python 3",
   "language": "python",
   "name": "python3"
  },
  "language_info": {
   "codemirror_mode": {
    "name": "ipython",
    "version": 3
   },
   "file_extension": ".py",
   "mimetype": "text/x-python",
   "name": "python",
   "nbconvert_exporter": "python",
   "pygments_lexer": "ipython3",
   "version": "3.7.6"
  }
 },
 "nbformat": 4,
 "nbformat_minor": 4
}
