{
 "cells": [
  {
   "cell_type": "code",
   "execution_count": 11,
   "metadata": {},
   "outputs": [],
   "source": [
    "import pandas as pd \n",
    "import sqlite3\n",
    "import sys\n",
    "sys.path.insert(0, '../util')\n",
    "import util_refactorings as ur\n",
    "from importlib import reload\n",
    "reload(ur)\n",
    "import glob\n",
    "from tqdm.auto import tqdm\n",
    "\n",
    "from util_label import get_split_and_matched_dfs, label_sentences_add, get_sentence_and_doc_labels"
   ]
  },
  {
   "cell_type": "code",
   "execution_count": 7,
   "metadata": {},
   "outputs": [],
   "source": [
    "import multiprocessing"
   ]
  },
  {
   "cell_type": "code",
   "execution_count": 38,
   "metadata": {},
   "outputs": [],
   "source": [
    "files = glob.glob('../data/diffengine-diffs/spark-output/*')"
   ]
  },
  {
   "cell_type": "code",
   "execution_count": 45,
   "metadata": {},
   "outputs": [],
   "source": [
    "files = glob.glob('../modeling/data/doc*.csv')"
   ]
  },
  {
   "cell_type": "code",
   "execution_count": 52,
   "metadata": {},
   "outputs": [
    {
     "name": "stdout",
     "output_type": "stream",
     "text": [
      "../modeling/data/doc-data-independent.csv\n",
      "../modeling/data/doc-data-wp.csv\n",
      "../modeling/data/doc-data-reuters.csv\n",
      "../modeling/data/doc-data-small.csv\n"
     ]
    }
   ],
   "source": [
    "for f in files:\n",
    "    with open(f) as fr:\n",
    "        header= fr.readlines()[:1]\n",
    "        if 'entry_id' not in header[0]:\n",
    "            print(f)"
   ]
  },
  {
   "cell_type": "code",
   "execution_count": 39,
   "metadata": {},
   "outputs": [
    {
     "data": {
      "text/plain": [
       "['../data/diffengine-diffs/spark-output/wp-matched-sentences.db',\n",
       " '../data/diffengine-diffs/spark-output/independent-matched-sentences.db',\n",
       " '../data/diffengine-diffs/spark-output/reuters-matched-sentences.db',\n",
       " '../data/diffengine-diffs/spark-output/guardian-matched-sentences.db',\n",
       " '../data/diffengine-diffs/spark-output/nyt-matched-sentences.db',\n",
       " '../data/diffengine-diffs/spark-output/bbc-2-matched-sentences.db',\n",
       " '../data/diffengine-diffs/spark-output/ap-matched-sentences.db']"
      ]
     },
     "execution_count": 39,
     "metadata": {},
     "output_type": "execute_result"
    }
   ],
   "source": [
    "files"
   ]
  },
  {
   "cell_type": "code",
   "execution_count": 51,
   "metadata": {},
   "outputs": [
    {
     "name": "stdout",
     "output_type": "stream",
     "text": [
      "fetching data for wp ...\n",
      "fetching data for independent ...\n",
      "fetching data for reuters ...\n",
      "fetching data for guardian ...\n",
      "fetching data for nyt ...\n",
      "fetching data for bbc ...\n",
      "fetching data for ap ...\n"
     ]
    }
   ],
   "source": [
    "all_stats = []\n",
    "for f in files:\n",
    "    source = f.split('/')[-1].split('-')[0]\n",
    "    if '.gz' in f:\n",
    "        ! gunzip $f\n",
    "    f = f.replace('.gz', '')\n",
    "    conn = sqlite3.connect(f)\n",
    "    print('fetching data for %s ...' % source)\n",
    "    stats = pd.read_sql('''\n",
    "        with c1 as (\n",
    "            SELECT \n",
    "                sent_idx_x IS NULL as addition,\n",
    "                sent_idx_y IS NULL as deletion,\n",
    "                avg_sentence_distance_x > 0 or avg_sentence_distance_y > 0 as edit,\n",
    "                1 as sentence,\n",
    "                entry_id,\n",
    "                (entry_id || '-' || version_x) as version\n",
    "            FROM matched_sentences\n",
    "        )\n",
    "        SELECT \n",
    "        COUNT(DISTINCT entry_id) as num_docs,\n",
    "        COUNT(DISTINCT version) as num_versions,\n",
    "        sum(addition) as num_additions,\n",
    "        sum(deletion) as num_deletions,\n",
    "        sum(edit) as num_edits,\n",
    "        sum(sentence) as num_sentences\n",
    "        from c1\n",
    "    ''', con=conn)\n",
    "    stats['source'] = source\n",
    "    all_stats.append(stats)\n",
    "#     ! gzip f"
   ]
  },
  {
   "cell_type": "code",
   "execution_count": 58,
   "metadata": {},
   "outputs": [
    {
     "data": {
      "text/plain": [
       "num_docs           1449605.332742\n",
       "num_versions            4200000.0\n",
       "num_additions     10250006.522846\n",
       "num_deletions      5399573.560169\n",
       "num_edits          26573277.65301\n",
       "num_sentences    150987955.319206\n",
       "dtype: object"
      ]
     },
     "execution_count": 58,
     "metadata": {},
     "output_type": "execute_result"
    }
   ],
   "source": [
    "pd.concat(all_stats).sum().iloc[:-1] * (4_200_000 / 2_138_637)"
   ]
  },
  {
   "cell_type": "code",
   "execution_count": 67,
   "metadata": {},
   "outputs": [
    {
     "data": {
      "text/plain": [
       "{'num_edits': 0.17599600972694093,\n",
       " 'num_additions': 0.06788625292114472,\n",
       " 'num_deletions': 0.03576161786384939}"
      ]
     },
     "execution_count": 67,
     "metadata": {},
     "output_type": "execute_result"
    }
   ],
   "source": [
    "(pd.concat(all_stats)\n",
    " .sum().iloc[:-1]\n",
    " .pipe(lambda s: s * (4_200_000 / 2_138_637))\n",
    " .pipe(lambda s: s / s['num_sentences'])\n",
    " [['num_edits', 'num_additions', 'num_deletions']]\n",
    " .to_dict()\n",
    ")"
   ]
  },
  {
   "cell_type": "code",
   "execution_count": 83,
   "metadata": {},
   "outputs": [],
   "source": [
    "perc = pd.Series(\n",
    "{'num_edits': 0.17599600972694093,\n",
    " 'num_additions': 0.06788625292114472,\n",
    " 'num_deletions': 0.03576161786384939,\n",
    " 'num_refactors': 1_600_000 / 150987955.319206\n",
    "}).pipe(lambda s: s * 100).round(1).to_frame('% of Sents.')"
   ]
  },
  {
   "cell_type": "code",
   "execution_count": 84,
   "metadata": {},
   "outputs": [],
   "source": [
    "num = pd.Series(\n",
    "{'num_edits': 26.6,\n",
    " 'num_additions': 10.2,\n",
    " 'num_deletions': 5.4,\n",
    " 'num_refactors': 1.6\n",
    "}).to_frame('Total Num.')"
   ]
  },
  {
   "cell_type": "code",
   "execution_count": 87,
   "metadata": {},
   "outputs": [
    {
     "name": "stdout",
     "output_type": "stream",
     "text": [
      "\\begin{tabular}{lrr}\n",
      "\\toprule\n",
      "{} &  Total Num. &  \\% of Sents. \\\\\n",
      "\\midrule\n",
      "num\\_edits     &        26.6 &         17.6 \\\\\n",
      "num\\_additions &        10.2 &          6.8 \\\\\n",
      "num\\_deletions &         5.4 &          3.6 \\\\\n",
      "num\\_refactors &         1.6 &          1.1 \\\\\n",
      "\\bottomrule\n",
      "\\end{tabular}\n",
      "\n"
     ]
    }
   ],
   "source": [
    "print(pd.concat([num, perc], axis=1).to_latex())"
   ]
  },
  {
   "cell_type": "code",
   "execution_count": null,
   "metadata": {},
   "outputs": [],
   "source": []
  },
  {
   "cell_type": "code",
   "execution_count": null,
   "metadata": {},
   "outputs": [],
   "source": []
  },
  {
   "cell_type": "code",
   "execution_count": 68,
   "metadata": {
    "scrolled": true
   },
   "outputs": [
    {
     "name": "stdout",
     "output_type": "stream",
     "text": [
      "fetching data for nyt ...\n",
      "calculating statistics...\n"
     ]
    },
    {
     "ename": "KeyboardInterrupt",
     "evalue": "",
     "output_type": "error",
     "traceback": [
      "\u001b[0;31m---------------------------------------------------------------------------\u001b[0m",
      "\u001b[0;31mKeyboardInterrupt\u001b[0m                         Traceback (most recent call last)",
      "\u001b[0;32m<ipython-input-68-90fa920636de>\u001b[0m in \u001b[0;36m<module>\u001b[0;34m\u001b[0m\n\u001b[1;32m     11\u001b[0m     edit_statistics = (matched_sentences\n\u001b[1;32m     12\u001b[0m      \u001b[0;34m.\u001b[0m\u001b[0mgroupby\u001b[0m\u001b[0;34m(\u001b[0m\u001b[0;34m[\u001b[0m\u001b[0;34m'entry_id'\u001b[0m\u001b[0;34m,\u001b[0m \u001b[0;34m'version_x'\u001b[0m\u001b[0;34m,\u001b[0m \u001b[0;34m'version_y'\u001b[0m\u001b[0;34m]\u001b[0m\u001b[0;34m)\u001b[0m\u001b[0;34m\u001b[0m\u001b[0;34m\u001b[0m\u001b[0m\n\u001b[0;32m---> 13\u001b[0;31m      .apply(lambda df: pd.Series({\n\u001b[0m\u001b[1;32m     14\u001b[0m          \u001b[0;34m'mean x dist'\u001b[0m\u001b[0;34m:\u001b[0m \u001b[0mdf\u001b[0m\u001b[0;34m[\u001b[0m\u001b[0;34m'avg_sentence_distance_x'\u001b[0m\u001b[0;34m]\u001b[0m\u001b[0;34m.\u001b[0m\u001b[0mmean\u001b[0m\u001b[0;34m(\u001b[0m\u001b[0;34m)\u001b[0m\u001b[0;34m,\u001b[0m\u001b[0;34m\u001b[0m\u001b[0;34m\u001b[0m\u001b[0m\n\u001b[1;32m     15\u001b[0m          \u001b[0;34m'mean y dist'\u001b[0m\u001b[0;34m:\u001b[0m \u001b[0mdf\u001b[0m\u001b[0;34m[\u001b[0m\u001b[0;34m'avg_sentence_distance_y'\u001b[0m\u001b[0;34m]\u001b[0m\u001b[0;34m.\u001b[0m\u001b[0mmean\u001b[0m\u001b[0;34m(\u001b[0m\u001b[0;34m)\u001b[0m\u001b[0;34m,\u001b[0m\u001b[0;34m\u001b[0m\u001b[0;34m\u001b[0m\u001b[0m\n",
      "\u001b[0;32m~/opt/anaconda3/lib/python3.7/site-packages/pandas/core/groupby/groupby.py\u001b[0m in \u001b[0;36mapply\u001b[0;34m(self, func, *args, **kwargs)\u001b[0m\n\u001b[1;32m    733\u001b[0m         \"\"\"\n\u001b[1;32m    734\u001b[0m         \u001b[0mConstruct\u001b[0m \u001b[0mDataFrame\u001b[0m \u001b[0;32mfrom\u001b[0m \u001b[0mgroup\u001b[0m \u001b[0;32mwith\u001b[0m \u001b[0mprovided\u001b[0m \u001b[0mname\u001b[0m\u001b[0;34m.\u001b[0m\u001b[0;34m\u001b[0m\u001b[0;34m\u001b[0m\u001b[0m\n\u001b[0;32m--> 735\u001b[0;31m \u001b[0;34m\u001b[0m\u001b[0m\n\u001b[0m\u001b[1;32m    736\u001b[0m         \u001b[0mParameters\u001b[0m\u001b[0;34m\u001b[0m\u001b[0;34m\u001b[0m\u001b[0m\n\u001b[1;32m    737\u001b[0m         \u001b[0;34m-\u001b[0m\u001b[0;34m-\u001b[0m\u001b[0;34m-\u001b[0m\u001b[0;34m-\u001b[0m\u001b[0;34m-\u001b[0m\u001b[0;34m-\u001b[0m\u001b[0;34m-\u001b[0m\u001b[0;34m-\u001b[0m\u001b[0;34m-\u001b[0m\u001b[0;34m-\u001b[0m\u001b[0;34m\u001b[0m\u001b[0;34m\u001b[0m\u001b[0m\n",
      "\u001b[0;32m~/opt/anaconda3/lib/python3.7/site-packages/pandas/core/groupby/groupby.py\u001b[0m in \u001b[0;36m_python_apply_general\u001b[0;34m(self, f)\u001b[0m\n\u001b[1;32m    749\u001b[0m         \u001b[0;32mif\u001b[0m \u001b[0mobj\u001b[0m \u001b[0;32mis\u001b[0m \u001b[0;32mNone\u001b[0m\u001b[0;34m:\u001b[0m\u001b[0;34m\u001b[0m\u001b[0;34m\u001b[0m\u001b[0m\n\u001b[1;32m    750\u001b[0m             \u001b[0mobj\u001b[0m \u001b[0;34m=\u001b[0m \u001b[0mself\u001b[0m\u001b[0;34m.\u001b[0m\u001b[0m_selected_obj\u001b[0m\u001b[0;34m\u001b[0m\u001b[0;34m\u001b[0m\u001b[0m\n\u001b[0;32m--> 751\u001b[0;31m \u001b[0;34m\u001b[0m\u001b[0m\n\u001b[0m\u001b[1;32m    752\u001b[0m         \u001b[0minds\u001b[0m \u001b[0;34m=\u001b[0m \u001b[0mself\u001b[0m\u001b[0;34m.\u001b[0m\u001b[0m_get_index\u001b[0m\u001b[0;34m(\u001b[0m\u001b[0mname\u001b[0m\u001b[0;34m)\u001b[0m\u001b[0;34m\u001b[0m\u001b[0;34m\u001b[0m\u001b[0m\n\u001b[1;32m    753\u001b[0m         \u001b[0;32mif\u001b[0m \u001b[0;32mnot\u001b[0m \u001b[0mlen\u001b[0m\u001b[0;34m(\u001b[0m\u001b[0minds\u001b[0m\u001b[0;34m)\u001b[0m\u001b[0;34m:\u001b[0m\u001b[0;34m\u001b[0m\u001b[0;34m\u001b[0m\u001b[0m\n",
      "\u001b[0;32m~/opt/anaconda3/lib/python3.7/site-packages/pandas/core/groupby/ops.py\u001b[0m in \u001b[0;36mapply\u001b[0;34m(self, f, data, axis)\u001b[0m\n\u001b[1;32m    170\u001b[0m                 raise NotImplementedError(\n\u001b[1;32m    171\u001b[0m                     \u001b[0;34mf\"function is not implemented for this dtype: \"\u001b[0m\u001b[0;34m\u001b[0m\u001b[0;34m\u001b[0m\u001b[0m\n\u001b[0;32m--> 172\u001b[0;31m                     \u001b[0;34mf\"[how->{how},dtype->{dtype_str}]\"\u001b[0m\u001b[0;34m\u001b[0m\u001b[0;34m\u001b[0m\u001b[0m\n\u001b[0m\u001b[1;32m    173\u001b[0m                 )\n\u001b[1;32m    174\u001b[0m             \u001b[0;32mreturn\u001b[0m \u001b[0mf\u001b[0m\u001b[0;34m\u001b[0m\u001b[0;34m\u001b[0m\u001b[0m\n",
      "\u001b[0;32m~/opt/anaconda3/lib/python3.7/site-packages/pandas/core/groupby/ops.py\u001b[0m in \u001b[0;36mfast_apply\u001b[0;34m(self, f, names)\u001b[0m\n\u001b[1;32m    929\u001b[0m         \u001b[0;32mreturn\u001b[0m \u001b[0mlen\u001b[0m\u001b[0;34m(\u001b[0m\u001b[0mself\u001b[0m\u001b[0;34m.\u001b[0m\u001b[0mresult_index\u001b[0m\u001b[0;34m)\u001b[0m\u001b[0;34m\u001b[0m\u001b[0;34m\u001b[0m\u001b[0m\n\u001b[1;32m    930\u001b[0m \u001b[0;34m\u001b[0m\u001b[0m\n\u001b[0;32m--> 931\u001b[0;31m     \u001b[0;34m@\u001b[0m\u001b[0mproperty\u001b[0m\u001b[0;34m\u001b[0m\u001b[0;34m\u001b[0m\u001b[0m\n\u001b[0m\u001b[1;32m    932\u001b[0m     \u001b[0;32mdef\u001b[0m \u001b[0mreconstructed_codes\u001b[0m\u001b[0;34m(\u001b[0m\u001b[0mself\u001b[0m\u001b[0;34m)\u001b[0m \u001b[0;34m->\u001b[0m \u001b[0mlist\u001b[0m\u001b[0;34m[\u001b[0m\u001b[0mnp\u001b[0m\u001b[0;34m.\u001b[0m\u001b[0mndarray\u001b[0m\u001b[0;34m]\u001b[0m\u001b[0;34m:\u001b[0m\u001b[0;34m\u001b[0m\u001b[0;34m\u001b[0m\u001b[0m\n\u001b[1;32m    933\u001b[0m         \u001b[0mcodes\u001b[0m \u001b[0;34m=\u001b[0m \u001b[0mself\u001b[0m\u001b[0;34m.\u001b[0m\u001b[0mcodes\u001b[0m\u001b[0;34m\u001b[0m\u001b[0;34m\u001b[0m\u001b[0m\n",
      "\u001b[0;32m~/opt/anaconda3/lib/python3.7/site-packages/pandas/_libs/reduction.pyx\u001b[0m in \u001b[0;36mpandas._libs.reduction.apply_frame_axis0\u001b[0;34m()\u001b[0m\n",
      "\u001b[0;32m<ipython-input-68-90fa920636de>\u001b[0m in \u001b[0;36m<lambda>\u001b[0;34m(df)\u001b[0m\n\u001b[1;32m     17\u001b[0m          \u001b[0;34m'num_added'\u001b[0m \u001b[0;34m:\u001b[0m \u001b[0mdf\u001b[0m\u001b[0;34m[\u001b[0m\u001b[0;34m'sent_idx_x'\u001b[0m\u001b[0;34m]\u001b[0m\u001b[0;34m.\u001b[0m\u001b[0misnull\u001b[0m\u001b[0;34m(\u001b[0m\u001b[0;34m)\u001b[0m\u001b[0;34m.\u001b[0m\u001b[0msum\u001b[0m\u001b[0;34m(\u001b[0m\u001b[0;34m)\u001b[0m\u001b[0;34m,\u001b[0m\u001b[0;34m\u001b[0m\u001b[0;34m\u001b[0m\u001b[0m\n\u001b[1;32m     18\u001b[0m          'refactors': ur.find_refactors_for_doc(\n\u001b[0;32m---> 19\u001b[0;31m              \u001b[0mdf\u001b[0m\u001b[0;34m[\u001b[0m\u001b[0;34m[\u001b[0m\u001b[0;34m'entry_id'\u001b[0m\u001b[0;34m,\u001b[0m \u001b[0;34m'version_x'\u001b[0m\u001b[0;34m,\u001b[0m \u001b[0;34m'version_y'\u001b[0m\u001b[0;34m,\u001b[0m \u001b[0;34m'sent_idx_x'\u001b[0m\u001b[0;34m,\u001b[0m \u001b[0;34m'sent_idx_y'\u001b[0m\u001b[0;34m]\u001b[0m\u001b[0;34m]\u001b[0m\u001b[0;34m.\u001b[0m\u001b[0mdropna\u001b[0m\u001b[0;34m(\u001b[0m\u001b[0;34m)\u001b[0m\u001b[0;34m.\u001b[0m\u001b[0mastype\u001b[0m\u001b[0;34m(\u001b[0m\u001b[0mint\u001b[0m\u001b[0;34m)\u001b[0m\u001b[0;34m\u001b[0m\u001b[0;34m\u001b[0m\u001b[0m\n\u001b[0m\u001b[1;32m     20\u001b[0m          ),\n\u001b[1;32m     21\u001b[0m      }))\n",
      "\u001b[0;32m~/Projects/usc-research/edit-pathways/util/util_refactorings.py\u001b[0m in \u001b[0;36mfind_refactors_for_doc\u001b[0;34m(one_doc, sents_old, sents_new)\u001b[0m\n\u001b[1;32m    119\u001b[0m     \u001b[0;31m# drop additions/deletions (these don't affect refactorings)\u001b[0m\u001b[0;34m\u001b[0m\u001b[0;34m\u001b[0m\u001b[0;34m\u001b[0m\u001b[0m\n\u001b[1;32m    120\u001b[0m     \u001b[0;32mif\u001b[0m \u001b[0mone_doc\u001b[0m \u001b[0;32mis\u001b[0m \u001b[0;32mnot\u001b[0m \u001b[0;32mNone\u001b[0m\u001b[0;34m:\u001b[0m\u001b[0;34m\u001b[0m\u001b[0;34m\u001b[0m\u001b[0m\n\u001b[0;32m--> 121\u001b[0;31m         \u001b[0mone_doc\u001b[0m \u001b[0;34m=\u001b[0m \u001b[0mone_doc\u001b[0m\u001b[0;34m.\u001b[0m\u001b[0msort_values\u001b[0m\u001b[0;34m(\u001b[0m\u001b[0;34m[\u001b[0m\u001b[0;34m'sent_idx_x'\u001b[0m\u001b[0;34m,\u001b[0m \u001b[0;34m'sent_idx_y'\u001b[0m\u001b[0;34m]\u001b[0m\u001b[0;34m)\u001b[0m\u001b[0;34m\u001b[0m\u001b[0;34m\u001b[0m\u001b[0m\n\u001b[0m\u001b[1;32m    122\u001b[0m         \u001b[0mone_doc\u001b[0m \u001b[0;34m=\u001b[0m \u001b[0mone_doc\u001b[0m\u001b[0;34m.\u001b[0m\u001b[0mloc\u001b[0m\u001b[0;34m[\u001b[0m\u001b[0;32mlambda\u001b[0m \u001b[0mdf\u001b[0m\u001b[0;34m:\u001b[0m \u001b[0mdf\u001b[0m\u001b[0;34m[\u001b[0m\u001b[0;34m[\u001b[0m\u001b[0;34m'sent_idx_x'\u001b[0m\u001b[0;34m,\u001b[0m \u001b[0;34m'sent_idx_y'\u001b[0m\u001b[0;34m]\u001b[0m\u001b[0;34m]\u001b[0m\u001b[0;34m.\u001b[0m\u001b[0mnotnull\u001b[0m\u001b[0;34m(\u001b[0m\u001b[0;34m)\u001b[0m\u001b[0;34m.\u001b[0m\u001b[0mall\u001b[0m\u001b[0;34m(\u001b[0m\u001b[0maxis\u001b[0m\u001b[0;34m=\u001b[0m\u001b[0;36m1\u001b[0m\u001b[0;34m)\u001b[0m\u001b[0;34m]\u001b[0m\u001b[0;34m\u001b[0m\u001b[0;34m\u001b[0m\u001b[0m\n\u001b[1;32m    123\u001b[0m         \u001b[0me_pre_map\u001b[0m \u001b[0;34m=\u001b[0m \u001b[0mone_doc\u001b[0m\u001b[0;34m[\u001b[0m\u001b[0;34m[\u001b[0m\u001b[0;34m'sent_idx_x'\u001b[0m\u001b[0;34m,\u001b[0m \u001b[0;34m'sent_idx_y'\u001b[0m\u001b[0;34m]\u001b[0m\u001b[0;34m]\u001b[0m\u001b[0;34m.\u001b[0m\u001b[0mastype\u001b[0m\u001b[0;34m(\u001b[0m\u001b[0mint\u001b[0m\u001b[0;34m)\u001b[0m\u001b[0;34m.\u001b[0m\u001b[0mapply\u001b[0m\u001b[0;34m(\u001b[0m\u001b[0;32mlambda\u001b[0m \u001b[0mx\u001b[0m\u001b[0;34m:\u001b[0m \u001b[0mtuple\u001b[0m\u001b[0;34m(\u001b[0m\u001b[0mx\u001b[0m\u001b[0;34m)\u001b[0m\u001b[0;34m,\u001b[0m \u001b[0maxis\u001b[0m\u001b[0;34m=\u001b[0m\u001b[0;36m1\u001b[0m\u001b[0;34m)\u001b[0m\u001b[0;34m\u001b[0m\u001b[0;34m\u001b[0m\u001b[0m\n",
      "\u001b[0;32m~/opt/anaconda3/lib/python3.7/site-packages/pandas/core/frame.py\u001b[0m in \u001b[0;36msort_values\u001b[0;34m(self, by, axis, ascending, inplace, kind, na_position, ignore_index)\u001b[0m\n\u001b[1;32m   4919\u001b[0m     )\n\u001b[1;32m   4920\u001b[0m     def rename(\n\u001b[0;32m-> 4921\u001b[0;31m         \u001b[0mself\u001b[0m\u001b[0;34m,\u001b[0m\u001b[0;34m\u001b[0m\u001b[0;34m\u001b[0m\u001b[0m\n\u001b[0m\u001b[1;32m   4922\u001b[0m         \u001b[0mmapper\u001b[0m\u001b[0;34m:\u001b[0m \u001b[0mRenamer\u001b[0m \u001b[0;34m|\u001b[0m \u001b[0;32mNone\u001b[0m \u001b[0;34m=\u001b[0m \u001b[0;32mNone\u001b[0m\u001b[0;34m,\u001b[0m\u001b[0;34m\u001b[0m\u001b[0;34m\u001b[0m\u001b[0m\n\u001b[1;32m   4923\u001b[0m         \u001b[0;34m*\u001b[0m\u001b[0;34m,\u001b[0m\u001b[0;34m\u001b[0m\u001b[0;34m\u001b[0m\u001b[0m\n",
      "\u001b[0;32m~/opt/anaconda3/lib/python3.7/site-packages/pandas/core/sorting.py\u001b[0m in \u001b[0;36mlexsort_indexer\u001b[0;34m(keys, orders, na_position)\u001b[0m\n\u001b[1;32m    213\u001b[0m     \u001b[0;32mfor\u001b[0m \u001b[0mx\u001b[0m \u001b[0;32min\u001b[0m \u001b[0mshape\u001b[0m\u001b[0;34m:\u001b[0m\u001b[0;34m\u001b[0m\u001b[0;34m\u001b[0m\u001b[0m\n\u001b[1;32m    214\u001b[0m         \u001b[0mthe_prod\u001b[0m \u001b[0;34m*=\u001b[0m \u001b[0mint\u001b[0m\u001b[0;34m(\u001b[0m\u001b[0mx\u001b[0m\u001b[0;34m)\u001b[0m\u001b[0;34m\u001b[0m\u001b[0;34m\u001b[0m\u001b[0m\n\u001b[0;32m--> 215\u001b[0;31m \u001b[0;34m\u001b[0m\u001b[0m\n\u001b[0m\u001b[1;32m    216\u001b[0m     \u001b[0;32mreturn\u001b[0m \u001b[0mthe_prod\u001b[0m \u001b[0;34m>=\u001b[0m \u001b[0mlib\u001b[0m\u001b[0;34m.\u001b[0m\u001b[0mi8max\u001b[0m\u001b[0;34m\u001b[0m\u001b[0;34m\u001b[0m\u001b[0m\n\u001b[1;32m    217\u001b[0m \u001b[0;34m\u001b[0m\u001b[0m\n",
      "\u001b[0;32m~/opt/anaconda3/lib/python3.7/site-packages/pandas/core/arrays/categorical.py\u001b[0m in \u001b[0;36m__init__\u001b[0;34m(self, values, categories, ordered, dtype, fastpath)\u001b[0m\n\u001b[1;32m    353\u001b[0m     \u001b[0;31m# ops, which raise\u001b[0m\u001b[0;34m\u001b[0m\u001b[0;34m\u001b[0m\u001b[0;34m\u001b[0m\u001b[0m\n\u001b[1;32m    354\u001b[0m     \u001b[0m__array_priority__\u001b[0m \u001b[0;34m=\u001b[0m \u001b[0;36m1000\u001b[0m\u001b[0;34m\u001b[0m\u001b[0;34m\u001b[0m\u001b[0m\n\u001b[0;32m--> 355\u001b[0;31m     \u001b[0;31m# tolist is not actually deprecated, just suppressed in the __dir__\u001b[0m\u001b[0;34m\u001b[0m\u001b[0;34m\u001b[0m\u001b[0;34m\u001b[0m\u001b[0m\n\u001b[0m\u001b[1;32m    356\u001b[0m     \u001b[0m_hidden_attrs\u001b[0m \u001b[0;34m=\u001b[0m \u001b[0mPandasObject\u001b[0m\u001b[0;34m.\u001b[0m\u001b[0m_hidden_attrs\u001b[0m \u001b[0;34m|\u001b[0m \u001b[0mfrozenset\u001b[0m\u001b[0;34m(\u001b[0m\u001b[0;34m[\u001b[0m\u001b[0;34m\"tolist\"\u001b[0m\u001b[0;34m]\u001b[0m\u001b[0;34m)\u001b[0m\u001b[0;34m\u001b[0m\u001b[0;34m\u001b[0m\u001b[0m\n\u001b[1;32m    357\u001b[0m     \u001b[0m_typ\u001b[0m \u001b[0;34m=\u001b[0m \u001b[0;34m\"categorical\"\u001b[0m\u001b[0;34m\u001b[0m\u001b[0;34m\u001b[0m\u001b[0m\n",
      "\u001b[0;32m~/opt/anaconda3/lib/python3.7/site-packages/pandas/core/algorithms.py\u001b[0m in \u001b[0;36mfactorize\u001b[0;34m(values, sort, na_sentinel, size_hint)\u001b[0m\n\u001b[1;32m    639\u001b[0m     \u001b[0mThese\u001b[0m \u001b[0mexamples\u001b[0m \u001b[0mall\u001b[0m \u001b[0mshow\u001b[0m \u001b[0mfactorize\u001b[0m \u001b[0;32mas\u001b[0m \u001b[0ma\u001b[0m \u001b[0mtop\u001b[0m\u001b[0;34m-\u001b[0m\u001b[0mlevel\u001b[0m \u001b[0mmethod\u001b[0m \u001b[0mlike\u001b[0m\u001b[0;34m\u001b[0m\u001b[0;34m\u001b[0m\u001b[0m\n\u001b[1;32m    640\u001b[0m     \u001b[0;31m`\u001b[0m\u001b[0;31m`\u001b[0m\u001b[0mpd\u001b[0m\u001b[0;34m.\u001b[0m\u001b[0mfactorize\u001b[0m\u001b[0;34m(\u001b[0m\u001b[0mvalues\u001b[0m\u001b[0;34m)\u001b[0m\u001b[0;31m`\u001b[0m\u001b[0;31m`\u001b[0m\u001b[0;34m.\u001b[0m \u001b[0mThe\u001b[0m \u001b[0mresults\u001b[0m \u001b[0mare\u001b[0m \u001b[0midentical\u001b[0m \u001b[0;32mfor\u001b[0m \u001b[0mmethods\u001b[0m \u001b[0mlike\u001b[0m\u001b[0;34m\u001b[0m\u001b[0;34m\u001b[0m\u001b[0m\n\u001b[0;32m--> 641\u001b[0;31m     \u001b[0;34m:\u001b[0m\u001b[0mmeth\u001b[0m\u001b[0;34m:\u001b[0m\u001b[0;31m`\u001b[0m\u001b[0mSeries\u001b[0m\u001b[0;34m.\u001b[0m\u001b[0mfactorize\u001b[0m\u001b[0;31m`\u001b[0m\u001b[0;34m.\u001b[0m\u001b[0;34m\u001b[0m\u001b[0;34m\u001b[0m\u001b[0m\n\u001b[0m\u001b[1;32m    642\u001b[0m \u001b[0;34m\u001b[0m\u001b[0m\n\u001b[1;32m    643\u001b[0m     \u001b[0;34m>>\u001b[0m\u001b[0;34m>\u001b[0m \u001b[0mcodes\u001b[0m\u001b[0;34m,\u001b[0m \u001b[0muniques\u001b[0m \u001b[0;34m=\u001b[0m \u001b[0mpd\u001b[0m\u001b[0;34m.\u001b[0m\u001b[0mfactorize\u001b[0m\u001b[0;34m(\u001b[0m\u001b[0;34m[\u001b[0m\u001b[0;34m'b'\u001b[0m\u001b[0;34m,\u001b[0m \u001b[0;34m'b'\u001b[0m\u001b[0;34m,\u001b[0m \u001b[0;34m'a'\u001b[0m\u001b[0;34m,\u001b[0m \u001b[0;34m'c'\u001b[0m\u001b[0;34m,\u001b[0m \u001b[0;34m'b'\u001b[0m\u001b[0;34m]\u001b[0m\u001b[0;34m)\u001b[0m\u001b[0;34m\u001b[0m\u001b[0;34m\u001b[0m\u001b[0m\n",
      "\u001b[0;32m~/opt/anaconda3/lib/python3.7/site-packages/pandas/core/algorithms.py\u001b[0m in \u001b[0;36msafe_sort\u001b[0;34m(values, codes, na_sentinel, assume_unique, verify)\u001b[0m\n",
      "\u001b[0;32m~/opt/anaconda3/lib/python3.7/site-packages/pandas/core/dtypes/common.py\u001b[0m in \u001b[0;36mis_extension_array_dtype\u001b[0;34m(arr_or_dtype)\u001b[0m\n\u001b[1;32m   1609\u001b[0m         \u001b[0;32mreturn\u001b[0m \u001b[0mcondition\u001b[0m\u001b[0;34m(\u001b[0m\u001b[0mtype\u001b[0m\u001b[0;34m(\u001b[0m\u001b[0;32mNone\u001b[0m\u001b[0;34m)\u001b[0m\u001b[0;34m)\u001b[0m\u001b[0;34m\u001b[0m\u001b[0;34m\u001b[0m\u001b[0m\n\u001b[1;32m   1610\u001b[0m \u001b[0;34m\u001b[0m\u001b[0m\n\u001b[0;32m-> 1611\u001b[0;31m     \u001b[0;32mtry\u001b[0m\u001b[0;34m:\u001b[0m\u001b[0;34m\u001b[0m\u001b[0;34m\u001b[0m\u001b[0m\n\u001b[0m\u001b[1;32m   1612\u001b[0m         \u001b[0mtipo\u001b[0m \u001b[0;34m=\u001b[0m \u001b[0mpandas_dtype\u001b[0m\u001b[0;34m(\u001b[0m\u001b[0marr_or_dtype\u001b[0m\u001b[0;34m)\u001b[0m\u001b[0;34m.\u001b[0m\u001b[0mtype\u001b[0m\u001b[0;34m\u001b[0m\u001b[0;34m\u001b[0m\u001b[0m\n\u001b[1;32m   1613\u001b[0m     \u001b[0;32mexcept\u001b[0m \u001b[0;34m(\u001b[0m\u001b[0mTypeError\u001b[0m\u001b[0;34m,\u001b[0m \u001b[0mValueError\u001b[0m\u001b[0;34m)\u001b[0m\u001b[0;34m:\u001b[0m\u001b[0;34m\u001b[0m\u001b[0;34m\u001b[0m\u001b[0m\n",
      "\u001b[0;32m~/opt/anaconda3/lib/python3.7/site-packages/pandas/core/dtypes/dtypes.py\u001b[0m in \u001b[0;36mfind\u001b[0;34m(self, dtype)\u001b[0m\n\u001b[1;32m     88\u001b[0m     \u001b[0misbuiltin\u001b[0m \u001b[0;34m=\u001b[0m \u001b[0;36m0\u001b[0m\u001b[0;34m\u001b[0m\u001b[0;34m\u001b[0m\u001b[0m\n\u001b[1;32m     89\u001b[0m     \u001b[0misnative\u001b[0m \u001b[0;34m=\u001b[0m \u001b[0;36m0\u001b[0m\u001b[0;34m\u001b[0m\u001b[0;34m\u001b[0m\u001b[0m\n\u001b[0;32m---> 90\u001b[0;31m     \u001b[0m_cache_dtypes\u001b[0m\u001b[0;34m:\u001b[0m \u001b[0mdict\u001b[0m\u001b[0;34m[\u001b[0m\u001b[0mstr_type\u001b[0m\u001b[0;34m,\u001b[0m \u001b[0mPandasExtensionDtype\u001b[0m\u001b[0;34m]\u001b[0m \u001b[0;34m=\u001b[0m \u001b[0;34m{\u001b[0m\u001b[0;34m}\u001b[0m\u001b[0;34m\u001b[0m\u001b[0;34m\u001b[0m\u001b[0m\n\u001b[0m\u001b[1;32m     91\u001b[0m \u001b[0;34m\u001b[0m\u001b[0m\n\u001b[1;32m     92\u001b[0m     \u001b[0;32mdef\u001b[0m \u001b[0m__repr__\u001b[0m\u001b[0;34m(\u001b[0m\u001b[0mself\u001b[0m\u001b[0;34m)\u001b[0m \u001b[0;34m->\u001b[0m \u001b[0mstr_type\u001b[0m\u001b[0;34m:\u001b[0m\u001b[0;34m\u001b[0m\u001b[0;34m\u001b[0m\u001b[0m\n",
      "\u001b[0;31mKeyboardInterrupt\u001b[0m: "
     ]
    }
   ],
   "source": [
    "for f in files:\n",
    "    source = f.split('/')[-1].split('-')[0]\n",
    "    if '.gz' in f:\n",
    "        ! gunzip $f\n",
    "    f = f.replace('.gz', '')\n",
    "    conn = sqlite3.connect(f)\n",
    "    print('fetching data for %s ...' % source)\n",
    "    matched_sentences, split_sentences = get_split_and_matched_dfs(conn, sents_max=60)\n",
    "\n",
    "    print('calculating statistics...')\n",
    "    edit_statistics = (matched_sentences\n",
    "     .groupby(['entry_id', 'version_x', 'version_y'])\n",
    "     .apply(lambda df: pd.Series({\n",
    "         'mean x dist': df['avg_sentence_distance_x'].mean(),\n",
    "         'mean y dist': df['avg_sentence_distance_y'].mean(),\n",
    "         'num_deleted' : df['sent_idx_y'].isnull().sum(),\n",
    "         'num_added' : df['sent_idx_x'].isnull().sum(),\n",
    "         'refactors': ur.find_refactors_for_doc(\n",
    "             df[['entry_id', 'version_x', 'version_y', 'sent_idx_x', 'sent_idx_y']].dropna().astype(int)\n",
    "         ),\n",
    "     }))\n",
    "     .assign(num_refactors=lambda df: df['refactors'].str.len())\n",
    "     .assign(overall_mean=lambda df: df[['mean x dist', 'mean y dist']].mean(axis=1))\n",
    "    )\n",
    "\n",
    "    desired_docs = (edit_statistics\n",
    "     .loc[lambda df:\n",
    "          (df['overall_mean'] > .01) |\n",
    "          (df['num_deleted'] > 0) |\n",
    "          (df['num_added'] > 0) |\n",
    "          (df['num_refactors'] > 0)]\n",
    "    )\n",
    "\n",
    "    print('processing documents...')\n",
    "    all_sentence_labels = []\n",
    "    all_doc_labels = []\n",
    "    # for sanity checking\n",
    "    all_matched_sentences = []\n",
    "    all_split_sentences = []\n",
    "\n",
    "    for entry_id, v_x, v_y in tqdm(desired_docs.index):\n",
    "        doc = (matched_sentences\n",
    "         .loc[lambda df: (df['entry_id'] == entry_id) & (df['version_x'] == v_x) & (df['version_y'] == v_y)]\n",
    "         .sort_values(['sent_idx_x', 'sent_idx_y'])\n",
    "        )\n",
    "\n",
    "        doc_sentences = (split_sentences\n",
    "         .loc[lambda df: (df['entry_id'] == entry_id) & (df['version'] == v_x) ]\n",
    "                         .sort_values('sent_idx')\n",
    "        )\n",
    "\n",
    "        all_matched_sentences.append(doc)\n",
    "        all_split_sentences.append(doc_sentences)\n",
    "        sentence_label_df, doc_label_df = get_sentence_and_doc_labels(doc, doc_sentences)\n",
    "        all_sentence_labels.append(sentence_label_df)\n",
    "        all_doc_labels.append(doc_label_df)\n",
    "\n",
    "    print('writing to disk...')\n",
    "    all_doc_labels_df = pd.concat(all_doc_labels)\n",
    "    all_doc_labels_df.to_csv('../modeling/data/doc-data-%s.csv' % source, index=False)\n",
    "    all_sentence_labels_df = pd.concat(all_sentence_labels)\n",
    "    ## check \n",
    "    assert (all_sentence_labels_df[['edited_label', 'unchanged_label', 'deleted_label']]\n",
    "            .sum(axis=1)\n",
    "            .pipe(lambda s: s == 1)\n",
    "            .all()\n",
    "           )\n",
    "    all_sentence_labels_df.to_csv('../modeling/data/sentence-data-%s.csv' % source, index=False)\n",
    "    ! gzip f"
   ]
  },
  {
   "cell_type": "code",
   "execution_count": null,
   "metadata": {},
   "outputs": [],
   "source": []
  },
  {
   "cell_type": "code",
   "execution_count": null,
   "metadata": {},
   "outputs": [],
   "source": []
  },
  {
   "cell_type": "code",
   "execution_count": null,
   "metadata": {},
   "outputs": [],
   "source": []
  },
  {
   "cell_type": "code",
   "execution_count": null,
   "metadata": {},
   "outputs": [],
   "source": []
  },
  {
   "cell_type": "code",
   "execution_count": null,
   "metadata": {},
   "outputs": [],
   "source": []
  },
  {
   "cell_type": "code",
   "execution_count": null,
   "metadata": {},
   "outputs": [],
   "source": []
  },
  {
   "cell_type": "code",
   "execution_count": null,
   "metadata": {},
   "outputs": [],
   "source": []
  },
  {
   "cell_type": "code",
   "execution_count": 28,
   "metadata": {},
   "outputs": [
    {
     "data": {
      "application/vnd.jupyter.widget-view+json": {
       "model_id": "6892dfe9d17f4054a6c6cc416e299ccb",
       "version_major": 2,
       "version_minor": 0
      },
      "text/plain": [
       "  0%|          | 0/123814 [00:00<?, ?it/s]"
      ]
     },
     "metadata": {},
     "output_type": "display_data"
    },
    {
     "name": "stdout",
     "output_type": "stream",
     "text": [
      "writing to disk...\n"
     ]
    },
    {
     "ename": "AssertionError",
     "evalue": "",
     "output_type": "error",
     "traceback": [
      "\u001b[0;31m---------------------------------------------------------------------------\u001b[0m",
      "\u001b[0;31mAssertionError\u001b[0m                            Traceback (most recent call last)",
      "\u001b[0;32m<ipython-input-28-6b29f36e1c86>\u001b[0m in \u001b[0;36m<module>\u001b[0;34m\u001b[0m\n\u001b[1;32m     23\u001b[0m assert (all_sentence_labels_df[['edited_label', 'unchanged_label', 'deleted_label']]\n\u001b[1;32m     24\u001b[0m         \u001b[0;34m.\u001b[0m\u001b[0msum\u001b[0m\u001b[0;34m(\u001b[0m\u001b[0maxis\u001b[0m\u001b[0;34m=\u001b[0m\u001b[0;36m1\u001b[0m\u001b[0;34m)\u001b[0m\u001b[0;34m\u001b[0m\u001b[0;34m\u001b[0m\u001b[0m\n\u001b[0;32m---> 25\u001b[0;31m         \u001b[0;34m.\u001b[0m\u001b[0mpipe\u001b[0m\u001b[0;34m(\u001b[0m\u001b[0;32mlambda\u001b[0m \u001b[0ms\u001b[0m\u001b[0;34m:\u001b[0m \u001b[0ms\u001b[0m \u001b[0;34m==\u001b[0m \u001b[0;36m1\u001b[0m\u001b[0;34m)\u001b[0m\u001b[0;34m\u001b[0m\u001b[0;34m\u001b[0m\u001b[0m\n\u001b[0m\u001b[1;32m     26\u001b[0m         \u001b[0;34m.\u001b[0m\u001b[0mall\u001b[0m\u001b[0;34m(\u001b[0m\u001b[0;34m)\u001b[0m\u001b[0;34m\u001b[0m\u001b[0;34m\u001b[0m\u001b[0m\n\u001b[1;32m     27\u001b[0m        )\n",
      "\u001b[0;31mAssertionError\u001b[0m: "
     ]
    }
   ],
   "source": [
    "for entry_id, v_x, v_y in tqdm(desired_docs.index[61071:]):\n",
    "    doc = (matched_sentences\n",
    "     .loc[lambda df: (df['entry_id'] == entry_id) & (df['version_x'] == v_x) & (df['version_y'] == v_y)]\n",
    "     .sort_values(['sent_idx_x', 'sent_idx_y'])\n",
    "    )\n",
    "\n",
    "    doc_sentences = (split_sentences\n",
    "     .loc[lambda df: (df['entry_id'] == entry_id) & (df['version'] == v_x) ]\n",
    "                     .sort_values('sent_idx')\n",
    "    )\n",
    "\n",
    "    all_matched_sentences.append(doc)\n",
    "    all_split_sentences.append(doc_sentences)\n",
    "    sentence_label_df, doc_label_df = get_sentence_and_doc_labels(doc, doc_sentences)\n",
    "    all_sentence_labels.append(sentence_label_df)\n",
    "    all_doc_labels.append(doc_label_df)\n",
    "\n",
    "print('writing to disk...')\n",
    "all_doc_labels_df = pd.concat(all_doc_labels)\n",
    "all_doc_labels_df.to_csv('../modeling/data/doc-data-%s.csv' % source, index=False)\n",
    "all_sentence_labels_df = pd.concat(all_sentence_labels)\n",
    "## check \n",
    "assert (all_sentence_labels_df[['edited_label', 'unchanged_label', 'deleted_label']]\n",
    "        .sum(axis=1)\n",
    "        .pipe(lambda s: s == 1)\n",
    "        .all()\n",
    "       )\n",
    "all_sentence_labels_df.to_csv('../modeling/data/sentence-data-%s.csv' % source, index=False)"
   ]
  },
  {
   "cell_type": "code",
   "execution_count": 31,
   "metadata": {},
   "outputs": [
    {
     "data": {
      "text/html": [
       "<div>\n",
       "<style scoped>\n",
       "    .dataframe tbody tr th:only-of-type {\n",
       "        vertical-align: middle;\n",
       "    }\n",
       "\n",
       "    .dataframe tbody tr th {\n",
       "        vertical-align: top;\n",
       "    }\n",
       "\n",
       "    .dataframe thead th {\n",
       "        text-align: right;\n",
       "    }\n",
       "</style>\n",
       "<table border=\"1\" class=\"dataframe\">\n",
       "  <thead>\n",
       "    <tr style=\"text-align: right;\">\n",
       "      <th></th>\n",
       "      <th>entry_id</th>\n",
       "      <th>version</th>\n",
       "      <th>sent_idx</th>\n",
       "      <th>sentence</th>\n",
       "      <th>deleted_label</th>\n",
       "      <th>add_above_label</th>\n",
       "      <th>add_below_label</th>\n",
       "      <th>edited_label</th>\n",
       "      <th>unchanged_label</th>\n",
       "      <th>refactored_label</th>\n",
       "    </tr>\n",
       "  </thead>\n",
       "  <tbody>\n",
       "    <tr>\n",
       "      <th>0</th>\n",
       "      <td>823187</td>\n",
       "      <td>0</td>\n",
       "      <td>0</td>\n",
       "      <td>South Korea’s much-loved K-pop star Lee Seung-...</td>\n",
       "      <td>1</td>\n",
       "      <td>0</td>\n",
       "      <td>0</td>\n",
       "      <td>0</td>\n",
       "      <td>1</td>\n",
       "      <td>0</td>\n",
       "    </tr>\n",
       "    <tr>\n",
       "      <th>0</th>\n",
       "      <td>823187</td>\n",
       "      <td>1</td>\n",
       "      <td>0</td>\n",
       "      <td>South Korea’s much-loved K-pop star Lee Seung-...</td>\n",
       "      <td>1</td>\n",
       "      <td>0</td>\n",
       "      <td>0</td>\n",
       "      <td>0</td>\n",
       "      <td>1</td>\n",
       "      <td>0</td>\n",
       "    </tr>\n",
       "    <tr>\n",
       "      <th>0</th>\n",
       "      <td>1665344</td>\n",
       "      <td>0</td>\n",
       "      <td>0</td>\n",
       "      <td>Doing something “for the ‘gram” is not typical...</td>\n",
       "      <td>1</td>\n",
       "      <td>0</td>\n",
       "      <td>0</td>\n",
       "      <td>0</td>\n",
       "      <td>1</td>\n",
       "      <td>0</td>\n",
       "    </tr>\n",
       "    <tr>\n",
       "      <th>0</th>\n",
       "      <td>1665344</td>\n",
       "      <td>1</td>\n",
       "      <td>0</td>\n",
       "      <td>Doing something “for the ‘gram” is not typical...</td>\n",
       "      <td>1</td>\n",
       "      <td>0</td>\n",
       "      <td>0</td>\n",
       "      <td>0</td>\n",
       "      <td>1</td>\n",
       "      <td>0</td>\n",
       "    </tr>\n",
       "    <tr>\n",
       "      <th>0</th>\n",
       "      <td>1668925</td>\n",
       "      <td>0</td>\n",
       "      <td>0</td>\n",
       "      <td>Harry Potter author JK Rowling has defended he...</td>\n",
       "      <td>1</td>\n",
       "      <td>0</td>\n",
       "      <td>0</td>\n",
       "      <td>0</td>\n",
       "      <td>1</td>\n",
       "      <td>0</td>\n",
       "    </tr>\n",
       "    <tr>\n",
       "      <th>0</th>\n",
       "      <td>1668925</td>\n",
       "      <td>1</td>\n",
       "      <td>0</td>\n",
       "      <td>Harry Potter author JK Rowling has defended he...</td>\n",
       "      <td>1</td>\n",
       "      <td>0</td>\n",
       "      <td>0</td>\n",
       "      <td>0</td>\n",
       "      <td>1</td>\n",
       "      <td>0</td>\n",
       "    </tr>\n",
       "    <tr>\n",
       "      <th>0</th>\n",
       "      <td>1668925</td>\n",
       "      <td>2</td>\n",
       "      <td>0</td>\n",
       "      <td>Harry Potter author JK Rowling has defended he...</td>\n",
       "      <td>1</td>\n",
       "      <td>0</td>\n",
       "      <td>0</td>\n",
       "      <td>0</td>\n",
       "      <td>1</td>\n",
       "      <td>0</td>\n",
       "    </tr>\n",
       "    <tr>\n",
       "      <th>8</th>\n",
       "      <td>1800363</td>\n",
       "      <td>0</td>\n",
       "      <td>8</td>\n",
       "      <td>More to come North Korea Asia Pacific news Sha...</td>\n",
       "      <td>1</td>\n",
       "      <td>2</td>\n",
       "      <td>0</td>\n",
       "      <td>1</td>\n",
       "      <td>0</td>\n",
       "      <td>0</td>\n",
       "    </tr>\n",
       "  </tbody>\n",
       "</table>\n",
       "</div>"
      ],
      "text/plain": [
       "   entry_id  version  sent_idx  \\\n",
       "0    823187        0         0   \n",
       "0    823187        1         0   \n",
       "0   1665344        0         0   \n",
       "0   1665344        1         0   \n",
       "0   1668925        0         0   \n",
       "0   1668925        1         0   \n",
       "0   1668925        2         0   \n",
       "8   1800363        0         8   \n",
       "\n",
       "                                            sentence  deleted_label  \\\n",
       "0  South Korea’s much-loved K-pop star Lee Seung-...              1   \n",
       "0  South Korea’s much-loved K-pop star Lee Seung-...              1   \n",
       "0  Doing something “for the ‘gram” is not typical...              1   \n",
       "0  Doing something “for the ‘gram” is not typical...              1   \n",
       "0  Harry Potter author JK Rowling has defended he...              1   \n",
       "0  Harry Potter author JK Rowling has defended he...              1   \n",
       "0  Harry Potter author JK Rowling has defended he...              1   \n",
       "8  More to come North Korea Asia Pacific news Sha...              1   \n",
       "\n",
       "   add_above_label  add_below_label  edited_label  unchanged_label  \\\n",
       "0                0                0             0                1   \n",
       "0                0                0             0                1   \n",
       "0                0                0             0                1   \n",
       "0                0                0             0                1   \n",
       "0                0                0             0                1   \n",
       "0                0                0             0                1   \n",
       "0                0                0             0                1   \n",
       "8                2                0             1                0   \n",
       "\n",
       "   refactored_label  \n",
       "0                 0  \n",
       "0                 0  \n",
       "0                 0  \n",
       "0                 0  \n",
       "0                 0  \n",
       "0                 0  \n",
       "0                 0  \n",
       "8                 0  "
      ]
     },
     "execution_count": 31,
     "metadata": {},
     "output_type": "execute_result"
    }
   ],
   "source": [
    "(all_sentence_labels_df\n",
    " .loc[lambda df: df[['edited_label', 'unchanged_label', 'deleted_label']].sum(axis=1).pipe(lambda s: s != 1)]\n",
    ")"
   ]
  },
  {
   "cell_type": "code",
   "execution_count": 33,
   "metadata": {},
   "outputs": [],
   "source": [
    "all_sentence_labels_df.to_csv('../modeling/data/sentence-data-%s.csv' % source, index=False)"
   ]
  },
  {
   "cell_type": "code",
   "execution_count": null,
   "metadata": {},
   "outputs": [],
   "source": []
  }
 ],
 "metadata": {
  "hide_input": false,
  "kernelspec": {
   "display_name": "Python 3",
   "language": "python",
   "name": "python3"
  },
  "language_info": {
   "codemirror_mode": {
    "name": "ipython",
    "version": 3
   },
   "file_extension": ".py",
   "mimetype": "text/x-python",
   "name": "python",
   "nbconvert_exporter": "python",
   "pygments_lexer": "ipython3",
   "version": "3.7.6"
  }
 },
 "nbformat": 4,
 "nbformat_minor": 4
}
