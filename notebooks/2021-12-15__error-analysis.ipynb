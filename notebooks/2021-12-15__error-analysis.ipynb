{
 "cells": [
  {
   "cell_type": "code",
   "execution_count": 35,
   "metadata": {},
   "outputs": [],
   "source": [
    "import pandas as pd \n",
    "import re\n",
    "import ast"
   ]
  },
  {
   "cell_type": "code",
   "execution_count": 8,
   "metadata": {},
   "outputs": [],
   "source": [
    "lines = []\n",
    "with open('../modeling/output/edits__docs-add-sota.txt') as f:\n",
    "    for line in f:\n",
    "        lines.append(line.strip())"
   ]
  },
  {
   "cell_type": "code",
   "execution_count": 11,
   "metadata": {},
   "outputs": [],
   "source": [
    "data_lines = list(filter(lambda x: 'num_added' in x, lines))"
   ]
  },
  {
   "cell_type": "code",
   "execution_count": 20,
   "metadata": {},
   "outputs": [],
   "source": [
    "t = data_lines[0]"
   ]
  },
  {
   "cell_type": "code",
   "execution_count": 49,
   "metadata": {},
   "outputs": [],
   "source": [
    "def parse_line(t):\n",
    "    output = {}\n",
    "    output['pred'] = int(t.split(']')[0].replace('[', ''))\n",
    "    output['doc_id'] = ast.literal_eval(re.search('\\(.*\\)', t)[0])\n",
    "    output['y_true'] = int(re.search(':(\\d+)}', t)[1])\n",
    "    return output"
   ]
  },
  {
   "cell_type": "code",
   "execution_count": 50,
   "metadata": {},
   "outputs": [],
   "source": [
    "parsed_lines = list(map(parse_line, data_lines))"
   ]
  },
  {
   "cell_type": "code",
   "execution_count": 54,
   "metadata": {},
   "outputs": [],
   "source": [
    "output_df = (\n",
    "    pd.DataFrame(parsed_lines)\n",
    "    .assign(y_true_bin=lambda df: pd.cut(df['y_true'], [0, 1, 5, 100], right=False))\n",
    ")"
   ]
  },
  {
   "cell_type": "code",
   "execution_count": 63,
   "metadata": {},
   "outputs": [
    {
     "data": {
      "text/plain": [
       "1    26954\n",
       "0    11509\n",
       "2     1503\n",
       "Name: pred, dtype: int64"
      ]
     },
     "execution_count": 63,
     "metadata": {},
     "output_type": "execute_result"
    }
   ],
   "source": [
    "output_df['pred'].value_counts()"
   ]
  },
  {
   "cell_type": "code",
   "execution_count": 95,
   "metadata": {},
   "outputs": [],
   "source": [
    "mapper = {v:k for k,v in enumerate(output_df['y_true_bin'].value_counts().index)}"
   ]
  },
  {
   "cell_type": "code",
   "execution_count": 105,
   "metadata": {},
   "outputs": [],
   "source": [
    "output_df = output_df.assign(y_true_bin_idx=lambda df: df['y_true_bin'].map(mapper))"
   ]
  },
  {
   "cell_type": "code",
   "execution_count": 106,
   "metadata": {},
   "outputs": [
    {
     "data": {
      "text/plain": [
       "False    20537\n",
       "True     19429\n",
       "dtype: int64"
      ]
     },
     "execution_count": 106,
     "metadata": {},
     "output_type": "execute_result"
    }
   ],
   "source": [
    "output_df.pipe(lambda df: df['pred'] == df['y_true_bin_idx']).value_counts()"
   ]
  },
  {
   "cell_type": "code",
   "execution_count": 107,
   "metadata": {},
   "outputs": [
    {
     "data": {
      "text/plain": [
       "False    20537\n",
       "True     19429\n",
       "dtype: int64"
      ]
     },
     "execution_count": 107,
     "metadata": {},
     "output_type": "execute_result"
    }
   ],
   "source": [
    "output_df.pipe(lambda df: df['pred'] == df['y_true_bin_idx']).value_counts()"
   ]
  },
  {
   "cell_type": "code",
   "execution_count": 109,
   "metadata": {},
   "outputs": [],
   "source": [
    "from sklearn.metrics import f1_score"
   ]
  },
  {
   "cell_type": "code",
   "execution_count": 113,
   "metadata": {},
   "outputs": [
    {
     "data": {
      "text/plain": [
       "0.3508151185862447"
      ]
     },
     "execution_count": 113,
     "metadata": {},
     "output_type": "execute_result"
    }
   ],
   "source": [
    "output_df.pipe(lambda df: f1_score(df['y_true_bin_idx'], df['pred'], average='macro'))"
   ]
  },
  {
   "cell_type": "code",
   "execution_count": 114,
   "metadata": {},
   "outputs": [
    {
     "data": {
      "text/plain": [
       "0.4703383870020178"
      ]
     },
     "execution_count": 114,
     "metadata": {},
     "output_type": "execute_result"
    }
   ],
   "source": [
    "output_df.pipe(lambda df: f1_score(df['y_true_bin_idx'], df['pred'], average='weighted'))"
   ]
  },
  {
   "cell_type": "code",
   "execution_count": 115,
   "metadata": {},
   "outputs": [
    {
     "data": {
      "text/html": [
       "<div>\n",
       "<style scoped>\n",
       "    .dataframe tbody tr th:only-of-type {\n",
       "        vertical-align: middle;\n",
       "    }\n",
       "\n",
       "    .dataframe tbody tr th {\n",
       "        vertical-align: top;\n",
       "    }\n",
       "\n",
       "    .dataframe thead th {\n",
       "        text-align: right;\n",
       "    }\n",
       "</style>\n",
       "<table border=\"1\" class=\"dataframe\">\n",
       "  <thead>\n",
       "    <tr style=\"text-align: right;\">\n",
       "      <th></th>\n",
       "      <th>pred</th>\n",
       "      <th>doc_id</th>\n",
       "      <th>y_true</th>\n",
       "      <th>y_true_bin</th>\n",
       "      <th>y_true_bin_idx</th>\n",
       "    </tr>\n",
       "  </thead>\n",
       "  <tbody>\n",
       "    <tr>\n",
       "      <th>0</th>\n",
       "      <td>1</td>\n",
       "      <td>(1094629, 0)</td>\n",
       "      <td>5</td>\n",
       "      <td>[5, 100)</td>\n",
       "      <td>2</td>\n",
       "    </tr>\n",
       "    <tr>\n",
       "      <th>1</th>\n",
       "      <td>1</td>\n",
       "      <td>(1374375, 0)</td>\n",
       "      <td>0</td>\n",
       "      <td>[0, 1)</td>\n",
       "      <td>0</td>\n",
       "    </tr>\n",
       "    <tr>\n",
       "      <th>2</th>\n",
       "      <td>1</td>\n",
       "      <td>(4439, 0)</td>\n",
       "      <td>0</td>\n",
       "      <td>[0, 1)</td>\n",
       "      <td>0</td>\n",
       "    </tr>\n",
       "    <tr>\n",
       "      <th>3</th>\n",
       "      <td>1</td>\n",
       "      <td>(798964, 0)</td>\n",
       "      <td>0</td>\n",
       "      <td>[0, 1)</td>\n",
       "      <td>0</td>\n",
       "    </tr>\n",
       "    <tr>\n",
       "      <th>4</th>\n",
       "      <td>0</td>\n",
       "      <td>(593948, 2)</td>\n",
       "      <td>0</td>\n",
       "      <td>[0, 1)</td>\n",
       "      <td>0</td>\n",
       "    </tr>\n",
       "    <tr>\n",
       "      <th>...</th>\n",
       "      <td>...</td>\n",
       "      <td>...</td>\n",
       "      <td>...</td>\n",
       "      <td>...</td>\n",
       "      <td>...</td>\n",
       "    </tr>\n",
       "    <tr>\n",
       "      <th>39961</th>\n",
       "      <td>1</td>\n",
       "      <td>(339164, 0)</td>\n",
       "      <td>9</td>\n",
       "      <td>[5, 100)</td>\n",
       "      <td>2</td>\n",
       "    </tr>\n",
       "    <tr>\n",
       "      <th>39962</th>\n",
       "      <td>1</td>\n",
       "      <td>(340687, 0)</td>\n",
       "      <td>0</td>\n",
       "      <td>[0, 1)</td>\n",
       "      <td>0</td>\n",
       "    </tr>\n",
       "    <tr>\n",
       "      <th>39963</th>\n",
       "      <td>1</td>\n",
       "      <td>(546632, 1)</td>\n",
       "      <td>0</td>\n",
       "      <td>[0, 1)</td>\n",
       "      <td>0</td>\n",
       "    </tr>\n",
       "    <tr>\n",
       "      <th>39964</th>\n",
       "      <td>1</td>\n",
       "      <td>(336586, 2)</td>\n",
       "      <td>1</td>\n",
       "      <td>[1, 5)</td>\n",
       "      <td>1</td>\n",
       "    </tr>\n",
       "    <tr>\n",
       "      <th>39965</th>\n",
       "      <td>1</td>\n",
       "      <td>(585350, 0)</td>\n",
       "      <td>0</td>\n",
       "      <td>[0, 1)</td>\n",
       "      <td>0</td>\n",
       "    </tr>\n",
       "  </tbody>\n",
       "</table>\n",
       "<p>39966 rows × 5 columns</p>\n",
       "</div>"
      ],
      "text/plain": [
       "       pred        doc_id  y_true y_true_bin y_true_bin_idx\n",
       "0         1  (1094629, 0)       5   [5, 100)              2\n",
       "1         1  (1374375, 0)       0     [0, 1)              0\n",
       "2         1     (4439, 0)       0     [0, 1)              0\n",
       "3         1   (798964, 0)       0     [0, 1)              0\n",
       "4         0   (593948, 2)       0     [0, 1)              0\n",
       "...     ...           ...     ...        ...            ...\n",
       "39961     1   (339164, 0)       9   [5, 100)              2\n",
       "39962     1   (340687, 0)       0     [0, 1)              0\n",
       "39963     1   (546632, 1)       0     [0, 1)              0\n",
       "39964     1   (336586, 2)       1     [1, 5)              1\n",
       "39965     1   (585350, 0)       0     [0, 1)              0\n",
       "\n",
       "[39966 rows x 5 columns]"
      ]
     },
     "execution_count": 115,
     "metadata": {},
     "output_type": "execute_result"
    }
   ],
   "source": [
    "output_df"
   ]
  },
  {
   "cell_type": "markdown",
   "metadata": {},
   "source": [
    "# See which categories score especially high"
   ]
  },
  {
   "cell_type": "code",
   "execution_count": 128,
   "metadata": {},
   "outputs": [],
   "source": [
    "text_data = pd.read_csv('../modeling/data/doc-eval__add-balanced-large.csv')\n",
    "text_data['sentence_split'] = text_data['sentences'].str.split('<SENT>')\n",
    "text_data['num_sents'] = text_data['sentence_split'].str.len()"
   ]
  },
  {
   "cell_type": "code",
   "execution_count": 126,
   "metadata": {},
   "outputs": [
    {
     "data": {
      "text/plain": [
       "0        D.C. police are investigating the death of an ...\n",
       "1        President Donald Trump will visit Israel, the ...\n",
       "2        WASHINGTON (AP) -- A U.S. counterterrorism air...\n",
       "3        The Queen has officially opened the new PS2.5b...\n",
       "4        Elephants at the Berlin zoo have finally been ...\n",
       "                               ...                        \n",
       "39995    Retailer JD Sports Fashion has reported a shar...\n",
       "39996    Rachel Reeves will replace Liam Byrne as shado...\n",
       "39997    A father who killed his six-year-old son by ju...\n",
       "39998    Plans to increase free pre-school childcare ar...\n",
       "39999    Asian markets were little changed as President...\n",
       "Name: sentences, Length: 40000, dtype: object"
      ]
     },
     "execution_count": 126,
     "metadata": {},
     "output_type": "execute_result"
    }
   ],
   "source": [
    "text_data['sentences']"
   ]
  },
  {
   "cell_type": "code",
   "execution_count": 130,
   "metadata": {},
   "outputs": [
    {
     "data": {
      "text/plain": [
       "0        6\n",
       "1        8\n",
       "2        8\n",
       "3        6\n",
       "4        7\n",
       "        ..\n",
       "39995    8\n",
       "39996    9\n",
       "39997    7\n",
       "39998    7\n",
       "39999    6\n",
       "Name: num_sents, Length: 40000, dtype: int64"
      ]
     },
     "execution_count": 130,
     "metadata": {},
     "output_type": "execute_result"
    }
   ],
   "source": [
    "text_data['num_sents']"
   ]
  },
  {
   "cell_type": "code",
   "execution_count": 137,
   "metadata": {},
   "outputs": [
    {
     "data": {
      "text/html": [
       "<div>\n",
       "<style scoped>\n",
       "    .dataframe tbody tr th:only-of-type {\n",
       "        vertical-align: middle;\n",
       "    }\n",
       "\n",
       "    .dataframe tbody tr th {\n",
       "        vertical-align: top;\n",
       "    }\n",
       "\n",
       "    .dataframe thead th {\n",
       "        text-align: right;\n",
       "    }\n",
       "</style>\n",
       "<table border=\"1\" class=\"dataframe\">\n",
       "  <thead>\n",
       "    <tr style=\"text-align: right;\">\n",
       "      <th></th>\n",
       "      <th>entry_id</th>\n",
       "      <th>version</th>\n",
       "      <th>num_deleted</th>\n",
       "      <th>num_added</th>\n",
       "      <th>num_edited</th>\n",
       "      <th>num_refactored</th>\n",
       "      <th>sentences</th>\n",
       "      <th>sentence_split</th>\n",
       "      <th>num_sents</th>\n",
       "    </tr>\n",
       "  </thead>\n",
       "  <tbody>\n",
       "    <tr>\n",
       "      <th>0</th>\n",
       "      <td>1094629</td>\n",
       "      <td>0</td>\n",
       "      <td>2</td>\n",
       "      <td>5</td>\n",
       "      <td>2</td>\n",
       "      <td>0</td>\n",
       "      <td>D.C. police are investigating the death of an ...</td>\n",
       "      <td>[D.C. police are investigating the death of an...</td>\n",
       "      <td>6</td>\n",
       "    </tr>\n",
       "    <tr>\n",
       "      <th>1</th>\n",
       "      <td>1374375</td>\n",
       "      <td>0</td>\n",
       "      <td>1</td>\n",
       "      <td>0</td>\n",
       "      <td>2</td>\n",
       "      <td>0</td>\n",
       "      <td>President Donald Trump will visit Israel, the ...</td>\n",
       "      <td>[President Donald Trump will visit Israel, the...</td>\n",
       "      <td>8</td>\n",
       "    </tr>\n",
       "    <tr>\n",
       "      <th>2</th>\n",
       "      <td>4439</td>\n",
       "      <td>0</td>\n",
       "      <td>0</td>\n",
       "      <td>0</td>\n",
       "      <td>1</td>\n",
       "      <td>0</td>\n",
       "      <td>WASHINGTON (AP) -- A U.S. counterterrorism air...</td>\n",
       "      <td>[WASHINGTON (AP) -- A U.S. counterterrorism ai...</td>\n",
       "      <td>8</td>\n",
       "    </tr>\n",
       "    <tr>\n",
       "      <th>3</th>\n",
       "      <td>798964</td>\n",
       "      <td>0</td>\n",
       "      <td>0</td>\n",
       "      <td>0</td>\n",
       "      <td>1</td>\n",
       "      <td>0</td>\n",
       "      <td>The Queen has officially opened the new PS2.5b...</td>\n",
       "      <td>[The Queen has officially opened the new PS2.5...</td>\n",
       "      <td>6</td>\n",
       "    </tr>\n",
       "    <tr>\n",
       "      <th>4</th>\n",
       "      <td>593948</td>\n",
       "      <td>2</td>\n",
       "      <td>1</td>\n",
       "      <td>0</td>\n",
       "      <td>0</td>\n",
       "      <td>0</td>\n",
       "      <td>Elephants at the Berlin zoo have finally been ...</td>\n",
       "      <td>[Elephants at the Berlin zoo have finally been...</td>\n",
       "      <td>7</td>\n",
       "    </tr>\n",
       "    <tr>\n",
       "      <th>...</th>\n",
       "      <td>...</td>\n",
       "      <td>...</td>\n",
       "      <td>...</td>\n",
       "      <td>...</td>\n",
       "      <td>...</td>\n",
       "      <td>...</td>\n",
       "      <td>...</td>\n",
       "      <td>...</td>\n",
       "      <td>...</td>\n",
       "    </tr>\n",
       "    <tr>\n",
       "      <th>39995</th>\n",
       "      <td>385889</td>\n",
       "      <td>0</td>\n",
       "      <td>1</td>\n",
       "      <td>4</td>\n",
       "      <td>3</td>\n",
       "      <td>0</td>\n",
       "      <td>Retailer JD Sports Fashion has reported a shar...</td>\n",
       "      <td>[Retailer JD Sports Fashion has reported a sha...</td>\n",
       "      <td>8</td>\n",
       "    </tr>\n",
       "    <tr>\n",
       "      <th>39996</th>\n",
       "      <td>691830</td>\n",
       "      <td>2</td>\n",
       "      <td>0</td>\n",
       "      <td>2</td>\n",
       "      <td>0</td>\n",
       "      <td>0</td>\n",
       "      <td>Rachel Reeves will replace Liam Byrne as shado...</td>\n",
       "      <td>[Rachel Reeves will replace Liam Byrne as shad...</td>\n",
       "      <td>9</td>\n",
       "    </tr>\n",
       "    <tr>\n",
       "      <th>39997</th>\n",
       "      <td>223422</td>\n",
       "      <td>0</td>\n",
       "      <td>0</td>\n",
       "      <td>1</td>\n",
       "      <td>1</td>\n",
       "      <td>0</td>\n",
       "      <td>A father who killed his six-year-old son by ju...</td>\n",
       "      <td>[A father who killed his six-year-old son by j...</td>\n",
       "      <td>7</td>\n",
       "    </tr>\n",
       "    <tr>\n",
       "      <th>39998</th>\n",
       "      <td>631907</td>\n",
       "      <td>0</td>\n",
       "      <td>3</td>\n",
       "      <td>3</td>\n",
       "      <td>4</td>\n",
       "      <td>0</td>\n",
       "      <td>Plans to increase free pre-school childcare ar...</td>\n",
       "      <td>[Plans to increase free pre-school childcare a...</td>\n",
       "      <td>7</td>\n",
       "    </tr>\n",
       "    <tr>\n",
       "      <th>39999</th>\n",
       "      <td>574235</td>\n",
       "      <td>0</td>\n",
       "      <td>0</td>\n",
       "      <td>0</td>\n",
       "      <td>0</td>\n",
       "      <td>0</td>\n",
       "      <td>Asian markets were little changed as President...</td>\n",
       "      <td>[Asian markets were little changed as Presiden...</td>\n",
       "      <td>6</td>\n",
       "    </tr>\n",
       "  </tbody>\n",
       "</table>\n",
       "<p>40000 rows × 9 columns</p>\n",
       "</div>"
      ],
      "text/plain": [
       "       entry_id  version  num_deleted  num_added  num_edited  num_refactored  \\\n",
       "0       1094629        0            2          5           2               0   \n",
       "1       1374375        0            1          0           2               0   \n",
       "2          4439        0            0          0           1               0   \n",
       "3        798964        0            0          0           1               0   \n",
       "4        593948        2            1          0           0               0   \n",
       "...         ...      ...          ...        ...         ...             ...   \n",
       "39995    385889        0            1          4           3               0   \n",
       "39996    691830        2            0          2           0               0   \n",
       "39997    223422        0            0          1           1               0   \n",
       "39998    631907        0            3          3           4               0   \n",
       "39999    574235        0            0          0           0               0   \n",
       "\n",
       "                                               sentences  \\\n",
       "0      D.C. police are investigating the death of an ...   \n",
       "1      President Donald Trump will visit Israel, the ...   \n",
       "2      WASHINGTON (AP) -- A U.S. counterterrorism air...   \n",
       "3      The Queen has officially opened the new PS2.5b...   \n",
       "4      Elephants at the Berlin zoo have finally been ...   \n",
       "...                                                  ...   \n",
       "39995  Retailer JD Sports Fashion has reported a shar...   \n",
       "39996  Rachel Reeves will replace Liam Byrne as shado...   \n",
       "39997  A father who killed his six-year-old son by ju...   \n",
       "39998  Plans to increase free pre-school childcare ar...   \n",
       "39999  Asian markets were little changed as President...   \n",
       "\n",
       "                                          sentence_split  num_sents  \n",
       "0      [D.C. police are investigating the death of an...          6  \n",
       "1      [President Donald Trump will visit Israel, the...          8  \n",
       "2      [WASHINGTON (AP) -- A U.S. counterterrorism ai...          8  \n",
       "3      [The Queen has officially opened the new PS2.5...          6  \n",
       "4      [Elephants at the Berlin zoo have finally been...          7  \n",
       "...                                                  ...        ...  \n",
       "39995  [Retailer JD Sports Fashion has reported a sha...          8  \n",
       "39996  [Rachel Reeves will replace Liam Byrne as shad...          9  \n",
       "39997  [A father who killed his six-year-old son by j...          7  \n",
       "39998  [Plans to increase free pre-school childcare a...          7  \n",
       "39999  [Asian markets were little changed as Presiden...          6  \n",
       "\n",
       "[40000 rows x 9 columns]"
      ]
     },
     "execution_count": 137,
     "metadata": {},
     "output_type": "execute_result"
    }
   ],
   "source": [
    "text_data"
   ]
  },
  {
   "cell_type": "code",
   "execution_count": 146,
   "metadata": {},
   "outputs": [],
   "source": [
    "output_df = (output_df\n",
    " .assign(entry_id=lambda df: df['doc_id'].str.get(0))\n",
    " .assign(version=lambda df: df['doc_id'].str.get(1))\n",
    " .assign(correct=lambda df: df['pred'] == df['y_true_bin_idx'])\n",
    ")"
   ]
  },
  {
   "cell_type": "code",
   "execution_count": 320,
   "metadata": {},
   "outputs": [],
   "source": [
    "full_data_df = (text_data[['entry_id', 'version', 'sentences', 'num_sents']]\n",
    " .merge(\n",
    "     output_df[['entry_id', 'version', 'correct', 'pred', 'y_true_bin_idx']],\n",
    "     left_on=['entry_id', 'version'],\n",
    "     right_on=['entry_id', 'version']\n",
    "   )\n",
    ")"
   ]
  },
  {
   "cell_type": "code",
   "execution_count": 365,
   "metadata": {},
   "outputs": [
    {
     "name": "stdout",
     "output_type": "stream",
     "text": [
      "\\begin{tabular}{lr}\n",
      "\\toprule\n",
      "{} &     0 \\\\\n",
      "y\\_true\\_bin &       \\\\\n",
      "\\midrule\n",
      "[0, 1)     &  16.2 \\\\\n",
      "[1, 5)     &  59.7 \\\\\n",
      "[5, 100)   &   0.9 \\\\\n",
      "\\bottomrule\n",
      "\\end{tabular}\n",
      "\n"
     ]
    }
   ],
   "source": [
    "print((output_df\n",
    " .groupby('y_true_bin')\n",
    " [['pred', 'y_true_bin_idx']]\n",
    " .aggregate(list)\n",
    " .apply(lambda x: f1_score(x['pred'], x['y_true_bin_idx'], average='weighted'), axis=1)\n",
    " .pipe(lambda s: s * 100).round(1)\n",
    " .to_latex()\n",
    "))"
   ]
  },
  {
   "cell_type": "code",
   "execution_count": 322,
   "metadata": {},
   "outputs": [
    {
     "data": {
      "text/html": [
       "<div>\n",
       "<style scoped>\n",
       "    .dataframe tbody tr th:only-of-type {\n",
       "        vertical-align: middle;\n",
       "    }\n",
       "\n",
       "    .dataframe tbody tr th {\n",
       "        vertical-align: top;\n",
       "    }\n",
       "\n",
       "    .dataframe thead th {\n",
       "        text-align: right;\n",
       "    }\n",
       "</style>\n",
       "<table border=\"1\" class=\"dataframe\">\n",
       "  <thead>\n",
       "    <tr style=\"text-align: right;\">\n",
       "      <th></th>\n",
       "      <th>num_sents</th>\n",
       "      <th>correct</th>\n",
       "    </tr>\n",
       "  </thead>\n",
       "  <tbody>\n",
       "    <tr>\n",
       "      <th>num_sents</th>\n",
       "      <td>1.000000</td>\n",
       "      <td>0.082865</td>\n",
       "    </tr>\n",
       "    <tr>\n",
       "      <th>correct</th>\n",
       "      <td>0.082865</td>\n",
       "      <td>1.000000</td>\n",
       "    </tr>\n",
       "  </tbody>\n",
       "</table>\n",
       "</div>"
      ],
      "text/plain": [
       "           num_sents   correct\n",
       "num_sents   1.000000  0.082865\n",
       "correct     0.082865  1.000000"
      ]
     },
     "execution_count": 322,
     "metadata": {},
     "output_type": "execute_result"
    }
   ],
   "source": [
    "full_data_df[['num_sents', 'correct']].corr()"
   ]
  },
  {
   "cell_type": "code",
   "execution_count": 323,
   "metadata": {},
   "outputs": [],
   "source": [
    "from sklearn.decomposition import LatentDirichletAllocation\n",
    "from sklearn.feature_extraction.text import CountVectorizer"
   ]
  },
  {
   "cell_type": "code",
   "execution_count": 324,
   "metadata": {},
   "outputs": [],
   "source": [
    "lda = LatentDirichletAllocation(n_components=20)"
   ]
  },
  {
   "cell_type": "code",
   "execution_count": 325,
   "metadata": {},
   "outputs": [],
   "source": [
    "full_data_df['sentences_train'] = full_data_df['sentences'].str.replace('<SENT>', ' ')\n",
    "cv = CountVectorizer(stop_words='english', max_df=.5, min_df=.005)\n",
    "counts = cv.fit_transform(full_data_df['sentences_train'])"
   ]
  },
  {
   "cell_type": "code",
   "execution_count": null,
   "metadata": {},
   "outputs": [],
   "source": [
    "theta_vecs = lda.fit_transform(counts)"
   ]
  },
  {
   "cell_type": "code",
   "execution_count": 328,
   "metadata": {},
   "outputs": [],
   "source": [
    "v = pd.Series(cv.vocabulary_).sort_values().index\n",
    "beta_mat = pd.DataFrame(lda.components_, columns=v)\n",
    "topics = {}\n",
    "for t in beta_mat.T.columns:\n",
    "    topics['topic %s' % t] = beta_mat.T[t].sort_values(ascending=False).iloc[:10].index.tolist()"
   ]
  },
  {
   "cell_type": "code",
   "execution_count": 329,
   "metadata": {},
   "outputs": [],
   "source": [
    "top_words_df = pd.DataFrame(topics)"
   ]
  },
  {
   "cell_type": "code",
   "execution_count": 330,
   "metadata": {},
   "outputs": [],
   "source": [
    "full_data_df['topic'] = pd.Series(theta_vecs.argmax(axis=1)).to_frame('topic')"
   ]
  },
  {
   "cell_type": "code",
   "execution_count": 331,
   "metadata": {
    "scrolled": true
   },
   "outputs": [],
   "source": [
    "top_topics = full_data_df['topic'].value_counts().loc[lambda s: s > 2000].drop(4)"
   ]
  },
  {
   "cell_type": "code",
   "execution_count": 332,
   "metadata": {},
   "outputs": [
    {
     "data": {
      "text/plain": [
       "13    4111\n",
       "5     3507\n",
       "9     3051\n",
       "2     2747\n",
       "6     2606\n",
       "7     2383\n",
       "12    2355\n",
       "18    2308\n",
       "0     2038\n",
       "Name: topic, dtype: int64"
      ]
     },
     "execution_count": 332,
     "metadata": {},
     "output_type": "execute_result"
    }
   ],
   "source": [
    "top_topics"
   ]
  },
  {
   "cell_type": "code",
   "execution_count": 333,
   "metadata": {},
   "outputs": [],
   "source": [
    "top_topics_idx = top_topics.index"
   ]
  },
  {
   "cell_type": "code",
   "execution_count": 334,
   "metadata": {},
   "outputs": [
    {
     "data": {
      "text/plain": [
       "(9,)"
      ]
     },
     "execution_count": 334,
     "metadata": {},
     "output_type": "execute_result"
    }
   ],
   "source": [
    "top_topics_idx.shape "
   ]
  },
  {
   "cell_type": "code",
   "execution_count": 335,
   "metadata": {},
   "outputs": [],
   "source": [
    "top_topics_str = list(map(lambda s: 'topic %s' % s, top_topics_idx.sort_values()))"
   ]
  },
  {
   "cell_type": "code",
   "execution_count": 366,
   "metadata": {},
   "outputs": [
    {
     "data": {
      "text/html": [
       "<div>\n",
       "<style scoped>\n",
       "    .dataframe tbody tr th:only-of-type {\n",
       "        vertical-align: middle;\n",
       "    }\n",
       "\n",
       "    .dataframe tbody tr th {\n",
       "        vertical-align: top;\n",
       "    }\n",
       "\n",
       "    .dataframe thead th {\n",
       "        text-align: right;\n",
       "    }\n",
       "</style>\n",
       "<table border=\"1\" class=\"dataframe\">\n",
       "  <thead>\n",
       "    <tr style=\"text-align: right;\">\n",
       "      <th></th>\n",
       "      <th>topic 0</th>\n",
       "      <th>topic 2</th>\n",
       "      <th>topic 5</th>\n",
       "      <th>topic 6</th>\n",
       "      <th>topic 7</th>\n",
       "      <th>topic 9</th>\n",
       "      <th>topic 12</th>\n",
       "      <th>topic 13</th>\n",
       "      <th>topic 18</th>\n",
       "    </tr>\n",
       "  </thead>\n",
       "  <tbody>\n",
       "    <tr>\n",
       "      <th>0</th>\n",
       "      <td>care</td>\n",
       "      <td>complaint</td>\n",
       "      <td>seats</td>\n",
       "      <td>away</td>\n",
       "      <td>radical</td>\n",
       "      <td>better</td>\n",
       "      <td>highest</td>\n",
       "      <td>instead</td>\n",
       "      <td>terrorism</td>\n",
       "    </tr>\n",
       "    <tr>\n",
       "      <th>1</th>\n",
       "      <td>iraqi</td>\n",
       "      <td>built</td>\n",
       "      <td>investigating</td>\n",
       "      <td>users</td>\n",
       "      <td>august</td>\n",
       "      <td>criticised</td>\n",
       "      <td>euros</td>\n",
       "      <td>names</td>\n",
       "      <td>airport</td>\n",
       "    </tr>\n",
       "    <tr>\n",
       "      <th>2</th>\n",
       "      <td>seen</td>\n",
       "      <td>58</td>\n",
       "      <td>2018</td>\n",
       "      <td>weapon</td>\n",
       "      <td>nuclear</td>\n",
       "      <td>badly</td>\n",
       "      <td>click</td>\n",
       "      <td>character</td>\n",
       "      <td>apartment</td>\n",
       "    </tr>\n",
       "    <tr>\n",
       "      <th>3</th>\n",
       "      <td>elected</td>\n",
       "      <td>suspected</td>\n",
       "      <td>established</td>\n",
       "      <td>produced</td>\n",
       "      <td>student</td>\n",
       "      <td>sheffield</td>\n",
       "      <td>firms</td>\n",
       "      <td>congress</td>\n",
       "      <td>tough</td>\n",
       "    </tr>\n",
       "    <tr>\n",
       "      <th>4</th>\n",
       "      <td>complete</td>\n",
       "      <td>lake</td>\n",
       "      <td>think</td>\n",
       "      <td>meetings</td>\n",
       "      <td>reporting</td>\n",
       "      <td>soldiers</td>\n",
       "      <td>vulnerable</td>\n",
       "      <td>interior</td>\n",
       "      <td>command</td>\n",
       "    </tr>\n",
       "    <tr>\n",
       "      <th>5</th>\n",
       "      <td>radio</td>\n",
       "      <td>search</td>\n",
       "      <td>soon</td>\n",
       "      <td>killed</td>\n",
       "      <td>profile</td>\n",
       "      <td>pair</td>\n",
       "      <td>brigade</td>\n",
       "      <td>tribute</td>\n",
       "      <td>claimed</td>\n",
       "    </tr>\n",
       "    <tr>\n",
       "      <th>6</th>\n",
       "      <td>area</td>\n",
       "      <td>appeared</td>\n",
       "      <td>spoke</td>\n",
       "      <td>individuals</td>\n",
       "      <td>missed</td>\n",
       "      <td>questioned</td>\n",
       "      <td>isis</td>\n",
       "      <td>path</td>\n",
       "      <td>urged</td>\n",
       "    </tr>\n",
       "    <tr>\n",
       "      <th>7</th>\n",
       "      <td>visiting</td>\n",
       "      <td>grounds</td>\n",
       "      <td>unlikely</td>\n",
       "      <td>fall</td>\n",
       "      <td>safe</td>\n",
       "      <td>seat</td>\n",
       "      <td>argued</td>\n",
       "      <td>corporate</td>\n",
       "      <td>ftse</td>\n",
       "    </tr>\n",
       "    <tr>\n",
       "      <th>8</th>\n",
       "      <td>hurt</td>\n",
       "      <td>error</td>\n",
       "      <td>gone</td>\n",
       "      <td>modern</td>\n",
       "      <td>resort</td>\n",
       "      <td>supermarket</td>\n",
       "      <td>plant</td>\n",
       "      <td>belgium</td>\n",
       "      <td>appropriate</td>\n",
       "    </tr>\n",
       "    <tr>\n",
       "      <th>9</th>\n",
       "      <td>firefighters</td>\n",
       "      <td>shots</td>\n",
       "      <td>egyptian</td>\n",
       "      <td>ali</td>\n",
       "      <td>regions</td>\n",
       "      <td>individual</td>\n",
       "      <td>accounts</td>\n",
       "      <td>art</td>\n",
       "      <td>declared</td>\n",
       "    </tr>\n",
       "  </tbody>\n",
       "</table>\n",
       "</div>"
      ],
      "text/plain": [
       "        topic 0    topic 2        topic 5      topic 6    topic 7  \\\n",
       "0          care  complaint          seats         away    radical   \n",
       "1         iraqi      built  investigating        users     august   \n",
       "2          seen         58           2018       weapon    nuclear   \n",
       "3       elected  suspected    established     produced    student   \n",
       "4      complete       lake          think     meetings  reporting   \n",
       "5         radio     search           soon       killed    profile   \n",
       "6          area   appeared          spoke  individuals     missed   \n",
       "7      visiting    grounds       unlikely         fall       safe   \n",
       "8          hurt      error           gone       modern     resort   \n",
       "9  firefighters      shots       egyptian          ali    regions   \n",
       "\n",
       "       topic 9    topic 12   topic 13     topic 18  \n",
       "0       better     highest    instead    terrorism  \n",
       "1   criticised       euros      names      airport  \n",
       "2        badly       click  character    apartment  \n",
       "3    sheffield       firms   congress        tough  \n",
       "4     soldiers  vulnerable   interior      command  \n",
       "5         pair     brigade    tribute      claimed  \n",
       "6   questioned        isis       path        urged  \n",
       "7         seat      argued  corporate         ftse  \n",
       "8  supermarket       plant    belgium  appropriate  \n",
       "9   individual    accounts        art     declared  "
      ]
     },
     "execution_count": 366,
     "metadata": {},
     "output_type": "execute_result"
    }
   ],
   "source": [
    "top_words_df[top_topics_str].iloc[:10]"
   ]
  },
  {
   "cell_type": "code",
   "execution_count": 336,
   "metadata": {},
   "outputs": [
    {
     "name": "stdout",
     "output_type": "stream",
     "text": [
      "\\begin{tabular}{lllllllll}\n",
      "\\toprule\n",
      "     topic 0 &   topic 2 &       topic 5 &     topic 6 &   topic 7 &     topic 9 &   topic 12 &  topic 13 &    topic 18 \\\\\n",
      "\\midrule\n",
      "        care & complaint &         seats &        away &   radical &      better &    highest &   instead &   terrorism \\\\\n",
      "       iraqi &     built & investigating &       users &    august &  criticised &      euros &     names &     airport \\\\\n",
      "        seen &        58 &          2018 &      weapon &   nuclear &       badly &      click & character &   apartment \\\\\n",
      "     elected & suspected &   established &    produced &   student &   sheffield &      firms &  congress &       tough \\\\\n",
      "    complete &      lake &         think &    meetings & reporting &    soldiers & vulnerable &  interior &     command \\\\\n",
      "       radio &    search &          soon &      killed &   profile &        pair &    brigade &   tribute &     claimed \\\\\n",
      "        area &  appeared &         spoke & individuals &    missed &  questioned &       isis &      path &       urged \\\\\n",
      "    visiting &   grounds &      unlikely &        fall &      safe &        seat &     argued & corporate &        ftse \\\\\n",
      "        hurt &     error &          gone &      modern &    resort & supermarket &      plant &   belgium & appropriate \\\\\n",
      "firefighters &     shots &      egyptian &         ali &   regions &  individual &   accounts &       art &    declared \\\\\n",
      "\\bottomrule\n",
      "\\end{tabular}\n",
      "\n"
     ]
    }
   ],
   "source": [
    "print(top_words_df[top_topics_str].iloc[:10].to_latex(index=False))"
   ]
  },
  {
   "cell_type": "code",
   "execution_count": 341,
   "metadata": {},
   "outputs": [
    {
     "data": {
      "text/html": [
       "<div>\n",
       "<style scoped>\n",
       "    .dataframe tbody tr th:only-of-type {\n",
       "        vertical-align: middle;\n",
       "    }\n",
       "\n",
       "    .dataframe tbody tr th {\n",
       "        vertical-align: top;\n",
       "    }\n",
       "\n",
       "    .dataframe thead th {\n",
       "        text-align: right;\n",
       "    }\n",
       "</style>\n",
       "<table border=\"1\" class=\"dataframe\">\n",
       "  <thead>\n",
       "    <tr style=\"text-align: right;\">\n",
       "      <th></th>\n",
       "      <th>entry_id</th>\n",
       "      <th>version</th>\n",
       "      <th>sentences</th>\n",
       "      <th>num_sents</th>\n",
       "      <th>correct</th>\n",
       "      <th>pred</th>\n",
       "      <th>y_true_bin_idx</th>\n",
       "      <th>sentences_train</th>\n",
       "      <th>topic</th>\n",
       "    </tr>\n",
       "  </thead>\n",
       "  <tbody>\n",
       "    <tr>\n",
       "      <th>0</th>\n",
       "      <td>1094629</td>\n",
       "      <td>0</td>\n",
       "      <td>D.C. police are investigating the death of an ...</td>\n",
       "      <td>6</td>\n",
       "      <td>False</td>\n",
       "      <td>1</td>\n",
       "      <td>2</td>\n",
       "      <td>D.C. police are investigating the death of an ...</td>\n",
       "      <td>18</td>\n",
       "    </tr>\n",
       "    <tr>\n",
       "      <th>1</th>\n",
       "      <td>1374375</td>\n",
       "      <td>0</td>\n",
       "      <td>President Donald Trump will visit Israel, the ...</td>\n",
       "      <td>8</td>\n",
       "      <td>False</td>\n",
       "      <td>1</td>\n",
       "      <td>0</td>\n",
       "      <td>President Donald Trump will visit Israel, the ...</td>\n",
       "      <td>0</td>\n",
       "    </tr>\n",
       "  </tbody>\n",
       "</table>\n",
       "</div>"
      ],
      "text/plain": [
       "   entry_id  version                                          sentences  \\\n",
       "0   1094629        0  D.C. police are investigating the death of an ...   \n",
       "1   1374375        0  President Donald Trump will visit Israel, the ...   \n",
       "\n",
       "   num_sents  correct  pred y_true_bin_idx  \\\n",
       "0          6    False     1              2   \n",
       "1          8    False     1              0   \n",
       "\n",
       "                                     sentences_train  topic  \n",
       "0  D.C. police are investigating the death of an ...     18  \n",
       "1  President Donald Trump will visit Israel, the ...      0  "
      ]
     },
     "execution_count": 341,
     "metadata": {},
     "output_type": "execute_result"
    }
   ],
   "source": [
    "full_data_df.head(2)"
   ]
  },
  {
   "cell_type": "code",
   "execution_count": 358,
   "metadata": {},
   "outputs": [
    {
     "data": {
      "text/plain": [
       "13    66.8\n",
       "18    61.8\n",
       "9     58.3\n",
       "6     56.8\n",
       "5     54.0\n",
       "7     52.6\n",
       "2     50.4\n",
       "12    48.4\n",
       "0     38.1\n",
       "dtype: float64"
      ]
     },
     "execution_count": 358,
     "metadata": {},
     "output_type": "execute_result"
    }
   ],
   "source": [
    "(full_data_df\n",
    "     .groupby('topic')[['pred', 'y_true_bin_idx']]\n",
    "     .aggregate(list)\n",
    "     .apply(lambda x: f1_score(x['pred'], x['y_true_bin_idx'], average='weighted'), axis=1)\n",
    "     .loc[top_topics.index]\n",
    "     .sort_values(ascending=False)\n",
    "     .pipe(lambda s: s* 100).round(1)\n",
    ")"
   ]
  },
  {
   "cell_type": "code",
   "execution_count": null,
   "metadata": {},
   "outputs": [],
   "source": []
  },
  {
   "cell_type": "code",
   "execution_count": null,
   "metadata": {},
   "outputs": [],
   "source": []
  },
  {
   "cell_type": "code",
   "execution_count": null,
   "metadata": {},
   "outputs": [],
   "source": []
  },
  {
   "cell_type": "code",
   "execution_count": null,
   "metadata": {},
   "outputs": [],
   "source": []
  },
  {
   "cell_type": "code",
   "execution_count": 237,
   "metadata": {},
   "outputs": [],
   "source": [
    "from sklearn.linear_model import LogisticRegressionCV\n",
    "from sklearn.model_selection import train_test_split"
   ]
  },
  {
   "cell_type": "code",
   "execution_count": null,
   "metadata": {},
   "outputs": [],
   "source": [
    "train_test_split()"
   ]
  },
  {
   "cell_type": "code",
   "execution_count": 238,
   "metadata": {},
   "outputs": [],
   "source": [
    "X_train, X_test, y_train, y_test = train_test_split(counts, full_data_df['correct'], test_size=0.1)"
   ]
  },
  {
   "cell_type": "code",
   "execution_count": 239,
   "metadata": {},
   "outputs": [],
   "source": [
    "lr = LogisticRegressionCV(max_iter=10000)"
   ]
  },
  {
   "cell_type": "code",
   "execution_count": 240,
   "metadata": {},
   "outputs": [
    {
     "data": {
      "text/plain": [
       "LogisticRegressionCV(max_iter=10000)"
      ]
     },
     "execution_count": 240,
     "metadata": {},
     "output_type": "execute_result"
    }
   ],
   "source": [
    "lr.fit(X_train, y_train)"
   ]
  },
  {
   "cell_type": "code",
   "execution_count": 242,
   "metadata": {},
   "outputs": [],
   "source": [
    "y_pred = lr.predict(X_test)"
   ]
  },
  {
   "cell_type": "code",
   "execution_count": 243,
   "metadata": {},
   "outputs": [
    {
     "data": {
      "text/plain": [
       "0.5032661175802328"
      ]
     },
     "execution_count": 243,
     "metadata": {},
     "output_type": "execute_result"
    }
   ],
   "source": [
    "f1_score(y_test, y_pred)"
   ]
  },
  {
   "cell_type": "code",
   "execution_count": 245,
   "metadata": {},
   "outputs": [
    {
     "data": {
      "text/plain": [
       "0.5624218163622717"
      ]
     },
     "execution_count": 245,
     "metadata": {},
     "output_type": "execute_result"
    }
   ],
   "source": [
    "(y_test == y_pred).mean()"
   ]
  },
  {
   "cell_type": "code",
   "execution_count": 256,
   "metadata": {
    "scrolled": false
   },
   "outputs": [
    {
     "data": {
      "text/plain": [
       "investigation   -0.074995\n",
       "president       -0.071079\n",
       "statement       -0.057633\n",
       "economy         -0.051985\n",
       "thursday        -0.049940\n",
       "editing         -0.048194\n",
       "modified        -0.047253\n",
       "monday          -0.046354\n",
       "charges         -0.045667\n",
       "mon             -0.044446\n",
       "trump           -0.044306\n",
       "court           -0.044103\n",
       "nuclear         -0.043478\n",
       "letters         -0.043239\n",
       "price           -0.040826\n",
       "warned          -0.040133\n",
       "washington      -0.039905\n",
       "step            -0.039183\n",
       "months          -0.039172\n",
       "bst             -0.038866\n",
       "general         -0.038538\n",
       "crimes          -0.038289\n",
       "iran            -0.037819\n",
       "reporting       -0.037671\n",
       "nations         -0.037233\n",
       "nov             -0.035905\n",
       "support         -0.035694\n",
       "2017            -0.035518\n",
       "dead            -0.035299\n",
       "sharing         -0.035195\n",
       "dtype: float64"
      ]
     },
     "execution_count": 256,
     "metadata": {},
     "output_type": "execute_result"
    }
   ],
   "source": [
    "pd.Series(lr.coef_[0], index=v).sort_values().iloc[:30]"
   ]
  },
  {
   "cell_type": "code",
   "execution_count": 257,
   "metadata": {},
   "outputs": [
    {
     "data": {
      "text/plain": [
       "story         0.035643\n",
       "animal        0.035701\n",
       "research      0.036971\n",
       "set           0.037442\n",
       "follows       0.039378\n",
       "say           0.039549\n",
       "video         0.039750\n",
       "20            0.039914\n",
       "closed        0.040688\n",
       "address       0.040777\n",
       "really        0.040954\n",
       "war           0.041208\n",
       "subscribe     0.041267\n",
       "world         0.041975\n",
       "sign          0.042221\n",
       "brown         0.043239\n",
       "photo         0.043668\n",
       "twitter       0.047085\n",
       "confirmed     0.048771\n",
       "just          0.049882\n",
       "enter         0.052065\n",
       "scene         0.055275\n",
       "press         0.057614\n",
       "inbox         0.060993\n",
       "film          0.063221\n",
       "morning       0.070107\n",
       "delivered     0.086384\n",
       "editors       0.086730\n",
       "commentary    0.087037\n",
       "picks         0.089149\n",
       "dtype: float64"
      ]
     },
     "execution_count": 257,
     "metadata": {},
     "output_type": "execute_result"
    }
   ],
   "source": [
    "pd.Series(lr.coef_[0], index=v).sort_values().iloc[-30:]"
   ]
  },
  {
   "cell_type": "code",
   "execution_count": null,
   "metadata": {},
   "outputs": [],
   "source": []
  },
  {
   "cell_type": "code",
   "execution_count": null,
   "metadata": {},
   "outputs": [],
   "source": []
  }
 ],
 "metadata": {
  "hide_input": false,
  "kernelspec": {
   "display_name": "Python 3",
   "language": "python",
   "name": "python3"
  },
  "language_info": {
   "codemirror_mode": {
    "name": "ipython",
    "version": 3
   },
   "file_extension": ".py",
   "mimetype": "text/x-python",
   "name": "python",
   "nbconvert_exporter": "python",
   "pygments_lexer": "ipython3",
   "version": "3.7.6"
  }
 },
 "nbformat": 4,
 "nbformat_minor": 4
}
