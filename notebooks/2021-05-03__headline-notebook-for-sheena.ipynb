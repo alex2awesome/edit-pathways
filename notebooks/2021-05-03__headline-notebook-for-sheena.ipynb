{
 "cells": [
  {
   "cell_type": "code",
   "execution_count": 1,
   "metadata": {},
   "outputs": [],
   "source": [
    "import sys\n",
    "sys.path.append('../')"
   ]
  },
  {
   "cell_type": "code",
   "execution_count": 73,
   "metadata": {},
   "outputs": [
    {
     "data": {
      "text/plain": [
       "<module 'util.util_newssniffer_parsing' from '../util/util_newssniffer_parsing.py'>"
      ]
     },
     "execution_count": 73,
     "metadata": {},
     "output_type": "execute_result"
    }
   ],
   "source": [
    "import util.util_newssniffer_parsing as unp\n",
    "import pandas as pd\n",
    "import sqlite3\n",
    "from importlib import reload\n",
    "from IPython.display import display, HTML\n",
    "reload(unp)"
   ]
  },
  {
   "cell_type": "code",
   "execution_count": 135,
   "metadata": {},
   "outputs": [],
   "source": [
    "join_keys_matched = ['entry_id', 'version_x', 'sent_idx_x']"
   ]
  },
  {
   "cell_type": "markdown",
   "metadata": {},
   "source": [
    "# Read in Data"
   ]
  },
  {
   "cell_type": "code",
   "execution_count": 4,
   "metadata": {},
   "outputs": [],
   "source": [
    "sent_df = pd.read_pickle('df_nyt__start_0__end_20000__num_1.pkl', compression='gzip')\n",
    "matched_versions_df = pd.read_pickle('2021-05-03__nyt-spark-matched-data-cache.pkl')\n",
    "headline_df = pd.read_pickle('df_nyt__headlines.pkl')\n",
    "matched_keys = matched_versions_df[join_keys_matched].drop_duplicates()"
   ]
  },
  {
   "cell_type": "code",
   "execution_count": 116,
   "metadata": {},
   "outputs": [],
   "source": [
    "## get mean of all sentence distances throughout article to find ones that have no changes\n",
    "matched_means = (matched_versions_df\n",
    "     .assign(avg_sentence_distance_x=lambda df: df['avg_sentence_distance_x'].fillna(1)) ## make added and removed\n",
    "     .assign(avg_sentence_distance_y=lambda df: df['avg_sentence_distance_y'].fillna(1)) ## sentences have a high change value\n",
    "     .groupby(['entry_id', 'version_x', 'version_y'])\n",
    "     [['avg_sentence_distance_x', 'avg_sentence_distance_y']]\n",
    "     .mean()\n",
    "     .mean(axis=1)\n",
    "     .to_frame('mean_score')\n",
    "     .reset_index()\n",
    ")"
   ]
  },
  {
   "cell_type": "code",
   "execution_count": 117,
   "metadata": {},
   "outputs": [],
   "source": [
    "matched_keys = (matched_keys\n",
    " .merge(matched_means,\n",
    "        right_on=join_keys_matched,\n",
    "        left_on=join_keys_matched\n",
    "       )\n",
    " .loc[lambda df: df['mean_score'] != 0] ## make sure we're not considering articles with no changes at all (why do these exist?)\n",
    " .drop('mean_score', axis=1)\n",
    " )"
   ]
  },
  {
   "cell_type": "code",
   "execution_count": 5,
   "metadata": {},
   "outputs": [
    {
     "data": {
      "text/html": [
       "<div>\n",
       "<style scoped>\n",
       "    .dataframe tbody tr th:only-of-type {\n",
       "        vertical-align: middle;\n",
       "    }\n",
       "\n",
       "    .dataframe tbody tr th {\n",
       "        vertical-align: top;\n",
       "    }\n",
       "\n",
       "    .dataframe thead th {\n",
       "        text-align: right;\n",
       "    }\n",
       "</style>\n",
       "<table border=\"1\" class=\"dataframe\">\n",
       "  <thead>\n",
       "    <tr style=\"text-align: right;\">\n",
       "      <th></th>\n",
       "      <th>entry_id</th>\n",
       "      <th>version</th>\n",
       "      <th>sent_idx</th>\n",
       "      <th>sentence</th>\n",
       "    </tr>\n",
       "  </thead>\n",
       "  <tbody>\n",
       "    <tr>\n",
       "      <th>0</th>\n",
       "      <td>777889</td>\n",
       "      <td>0</td>\n",
       "      <td>0</td>\n",
       "      <td>PARIS — He sat in the car, frozen with fear, a...</td>\n",
       "    </tr>\n",
       "    <tr>\n",
       "      <th>1</th>\n",
       "      <td>777889</td>\n",
       "      <td>0</td>\n",
       "      <td>1</td>\n",
       "      <td>They were rushing to the king’s birthday party...</td>\n",
       "    </tr>\n",
       "    <tr>\n",
       "      <th>2</th>\n",
       "      <td>777889</td>\n",
       "      <td>0</td>\n",
       "      <td>2</td>\n",
       "      <td>It was the summer of 1971, and the Moroccan Ar...</td>\n",
       "    </tr>\n",
       "  </tbody>\n",
       "</table>\n",
       "</div>"
      ],
      "text/plain": [
       "   entry_id  version  sent_idx  \\\n",
       "0    777889        0         0   \n",
       "1    777889        0         1   \n",
       "2    777889        0         2   \n",
       "\n",
       "                                            sentence  \n",
       "0  PARIS — He sat in the car, frozen with fear, a...  \n",
       "1  They were rushing to the king’s birthday party...  \n",
       "2  It was the summer of 1971, and the Moroccan Ar...  "
      ]
     },
     "execution_count": 5,
     "metadata": {},
     "output_type": "execute_result"
    }
   ],
   "source": [
    "sent_df.head(3)"
   ]
  },
  {
   "cell_type": "code",
   "execution_count": 37,
   "metadata": {},
   "outputs": [
    {
     "data": {
      "text/html": [
       "<div>\n",
       "<style scoped>\n",
       "    .dataframe tbody tr th:only-of-type {\n",
       "        vertical-align: middle;\n",
       "    }\n",
       "\n",
       "    .dataframe tbody tr th {\n",
       "        vertical-align: top;\n",
       "    }\n",
       "\n",
       "    .dataframe thead th {\n",
       "        text-align: right;\n",
       "    }\n",
       "</style>\n",
       "<table border=\"1\" class=\"dataframe\">\n",
       "  <thead>\n",
       "    <tr style=\"text-align: right;\">\n",
       "      <th></th>\n",
       "      <th>entry_id</th>\n",
       "      <th>version</th>\n",
       "      <th>title</th>\n",
       "    </tr>\n",
       "  </thead>\n",
       "  <tbody>\n",
       "    <tr>\n",
       "      <th>0</th>\n",
       "      <td>547988</td>\n",
       "      <td>0</td>\n",
       "      <td>Activist Challenges a Sweeping Revision in Pat...</td>\n",
       "    </tr>\n",
       "    <tr>\n",
       "      <th>1</th>\n",
       "      <td>547988</td>\n",
       "      <td>1</td>\n",
       "      <td>Inventor Challenges a Sweeping Revision in Pat...</td>\n",
       "    </tr>\n",
       "    <tr>\n",
       "      <th>2</th>\n",
       "      <td>547989</td>\n",
       "      <td>0</td>\n",
       "      <td>U.S. Foreign Arms Sales Reach $66.3 Billion in...</td>\n",
       "    </tr>\n",
       "  </tbody>\n",
       "</table>\n",
       "</div>"
      ],
      "text/plain": [
       "   entry_id  version                                              title\n",
       "0    547988        0  Activist Challenges a Sweeping Revision in Pat...\n",
       "1    547988        1  Inventor Challenges a Sweeping Revision in Pat...\n",
       "2    547989        0  U.S. Foreign Arms Sales Reach $66.3 Billion in..."
      ]
     },
     "execution_count": 37,
     "metadata": {},
     "output_type": "execute_result"
    }
   ],
   "source": [
    "headline_df.head(3)"
   ]
  },
  {
   "cell_type": "code",
   "execution_count": 8,
   "metadata": {},
   "outputs": [
    {
     "data": {
      "text/html": [
       "<div>\n",
       "<style scoped>\n",
       "    .dataframe tbody tr th:only-of-type {\n",
       "        vertical-align: middle;\n",
       "    }\n",
       "\n",
       "    .dataframe tbody tr th {\n",
       "        vertical-align: top;\n",
       "    }\n",
       "\n",
       "    .dataframe thead th {\n",
       "        text-align: right;\n",
       "    }\n",
       "</style>\n",
       "<table border=\"1\" class=\"dataframe\">\n",
       "  <thead>\n",
       "    <tr style=\"text-align: right;\">\n",
       "      <th></th>\n",
       "      <th>entry_id</th>\n",
       "      <th>version_x</th>\n",
       "      <th>version_y</th>\n",
       "      <th>sent_idx_x</th>\n",
       "      <th>sent_idx_y</th>\n",
       "      <th>avg_sentence_distance_x</th>\n",
       "      <th>avg_sentence_distance_y</th>\n",
       "    </tr>\n",
       "  </thead>\n",
       "  <tbody>\n",
       "    <tr>\n",
       "      <th>0</th>\n",
       "      <td>704716</td>\n",
       "      <td>4</td>\n",
       "      <td>5</td>\n",
       "      <td>8.0</td>\n",
       "      <td>8.0</td>\n",
       "      <td>0.136447</td>\n",
       "      <td>0.136447</td>\n",
       "    </tr>\n",
       "    <tr>\n",
       "      <th>1</th>\n",
       "      <td>694571</td>\n",
       "      <td>6</td>\n",
       "      <td>7</td>\n",
       "      <td>NaN</td>\n",
       "      <td>8.0</td>\n",
       "      <td>NaN</td>\n",
       "      <td>NaN</td>\n",
       "    </tr>\n",
       "  </tbody>\n",
       "</table>\n",
       "</div>"
      ],
      "text/plain": [
       "  entry_id version_x version_y  sent_idx_x  sent_idx_y  \\\n",
       "0   704716         4         5         8.0         8.0   \n",
       "1   694571         6         7         NaN         8.0   \n",
       "\n",
       "   avg_sentence_distance_x  avg_sentence_distance_y  \n",
       "0                 0.136447                 0.136447  \n",
       "1                      NaN                      NaN  "
      ]
     },
     "execution_count": 8,
     "metadata": {},
     "output_type": "execute_result"
    }
   ],
   "source": [
    "matched_versions_df.head(2)"
   ]
  },
  {
   "cell_type": "code",
   "execution_count": 11,
   "metadata": {},
   "outputs": [
    {
     "data": {
      "text/html": [
       "<div>\n",
       "<style scoped>\n",
       "    .dataframe tbody tr th:only-of-type {\n",
       "        vertical-align: middle;\n",
       "    }\n",
       "\n",
       "    .dataframe tbody tr th {\n",
       "        vertical-align: top;\n",
       "    }\n",
       "\n",
       "    .dataframe thead th {\n",
       "        text-align: right;\n",
       "    }\n",
       "</style>\n",
       "<table border=\"1\" class=\"dataframe\">\n",
       "  <thead>\n",
       "    <tr style=\"text-align: right;\">\n",
       "      <th></th>\n",
       "      <th>entry_id</th>\n",
       "      <th>version_x</th>\n",
       "      <th>version_y</th>\n",
       "    </tr>\n",
       "  </thead>\n",
       "  <tbody>\n",
       "    <tr>\n",
       "      <th>0</th>\n",
       "      <td>704716</td>\n",
       "      <td>4</td>\n",
       "      <td>5</td>\n",
       "    </tr>\n",
       "    <tr>\n",
       "      <th>1</th>\n",
       "      <td>694571</td>\n",
       "      <td>6</td>\n",
       "      <td>7</td>\n",
       "    </tr>\n",
       "    <tr>\n",
       "      <th>2</th>\n",
       "      <td>703260</td>\n",
       "      <td>0</td>\n",
       "      <td>1</td>\n",
       "    </tr>\n",
       "  </tbody>\n",
       "</table>\n",
       "</div>"
      ],
      "text/plain": [
       "  entry_id version_x version_y\n",
       "0   704716         4         5\n",
       "1   694571         6         7\n",
       "2   703260         0         1"
      ]
     },
     "execution_count": 11,
     "metadata": {},
     "output_type": "execute_result"
    }
   ],
   "source": [
    "matched_keys.head(3)"
   ]
  },
  {
   "cell_type": "markdown",
   "metadata": {},
   "source": [
    "# Find a sample article with several version changes and a headline change"
   ]
  },
  {
   "cell_type": "code",
   "execution_count": 140,
   "metadata": {},
   "outputs": [],
   "source": [
    "matched_headlines = (matched_keys\n",
    " .merge(\n",
    "    headline_df,\n",
    "    left_on=['entry_id', 'version_x'],\n",
    "    right_on=['entry_id', 'version']\n",
    " )\n",
    " .drop('version', axis=1)\n",
    " .merge(\n",
    "     headline_df,\n",
    "     left_on=['entry_id', 'version_y'],\n",
    "     right_on=['entry_id', 'version']\n",
    " )\n",
    " .drop('version', axis=1)\n",
    ")"
   ]
  },
  {
   "cell_type": "code",
   "execution_count": 146,
   "metadata": {},
   "outputs": [],
   "source": [
    "entry_ids_with_changed_heads = (\n",
    "    matched_headlines\n",
    "     .loc[lambda df: df['title_x']  != df['title_y'] ]\n",
    "    ['entry_id'].values\n",
    ")"
   ]
  },
  {
   "cell_type": "code",
   "execution_count": 166,
   "metadata": {},
   "outputs": [],
   "source": [
    "## all entry_ids with 3 changed versions and a headline change\n",
    "\n",
    "sample_entry_id = (matched_keys['entry_id']\n",
    " .value_counts()\n",
    " .loc[lambda s: s == 3 ] \n",
    " .loc[lambda s: s.index.isin(entry_ids_with_changed_heads)]\n",
    " .index[1]\n",
    ")"
   ]
  },
  {
   "cell_type": "markdown",
   "metadata": {},
   "source": [
    "# View One Article through multiple versions "
   ]
  },
  {
   "cell_type": "code",
   "execution_count": 167,
   "metadata": {},
   "outputs": [],
   "source": [
    "# compare sentences\n",
    "comp_sents = (matched_versions_df\n",
    " .loc[lambda df: df['entry_id'] == sample_entry_id]\n",
    " .merge(\n",
    "    sent_df,\n",
    "    left_on=['entry_id', 'version_x', 'sent_idx_x'],\n",
    "    right_on=['entry_id', 'version', 'sent_idx'],\n",
    "    how='left'\n",
    " ).drop(['version', 'sent_idx',], axis=1)\n",
    " .merge(\n",
    "    sent_df, \n",
    "    left_on=['entry_id', 'version_y', 'sent_idx_y'],\n",
    "    right_on=['entry_id', 'version', 'sent_idx'],\n",
    "    how='left'\n",
    " )\n",
    " .drop(['version', 'sent_idx',], axis=1)\n",
    " .sort_values(['sent_idx_x', 'sent_idx_y'])\n",
    ")\n",
    "\n",
    "# compare headlines\n",
    "comp_heads = (\n",
    "    headline_df\n",
    "    .loc[lambda df: df['entry_id'] == sample_entry_id]\n",
    "    .merge(\n",
    "        headline_df\n",
    "        .loc[lambda df: df['entry_id'] == sample_entry_id],\n",
    "        left_on=['entry_id'],\n",
    "        right_on=['entry_id']        \n",
    "    )\n",
    ")"
   ]
  },
  {
   "cell_type": "code",
   "execution_count": 168,
   "metadata": {},
   "outputs": [],
   "source": [
    "html_outputs = unp.html_compare_sentences_new(\n",
    "    comp_sents, \n",
    "    head_comp_df=comp_heads,\n",
    "    sort_by='old',\n",
    "    include_headline=True, \n",
    ")"
   ]
  },
  {
   "cell_type": "code",
   "execution_count": 169,
   "metadata": {},
   "outputs": [
    {
     "data": {
      "text/html": [
       "<table><tr><th>SIdx Old</th><th>Old Version</th><th>New Version</th><th>SIdx New</th><th>d(X)</th><th>d(Y)</th></tr><tr><th>HEAD</th><th><span style=\"background-color:rgba(255,0,0,0.3)\">Houthis</span>          ’ <span style=\"background-color:rgba(255,0,0,0.3)\">Absence</span>  <span style=\"background-color:rgba(255,0,0,0.3)\">Delays</span> <span style=\"background-color:rgba(255,0,0,0.3)\">Yemen</span>  Cease - Fire Talks</th><th> <span style=\"background-color:rgba(0,255,0,0.3)\">U.N. </span> <span style=\"background-color:rgba(0,255,0,0.3)\">Leader </span> <span style=\"background-color:rgba(0,255,0,0.3)\">Calls </span> <span style=\"background-color:rgba(0,255,0,0.3)\">Yemen </span> <span style=\"background-color:rgba(0,255,0,0.3)\">a </span> <span style=\"background-color:rgba(0,255,0,0.3)\">‘ </span> <span style=\"background-color:rgba(0,255,0,0.3)\">Ticking </span> <span style=\"background-color:rgba(0,255,0,0.3)\">Bomb </span> <span style=\"background-color:rgba(0,255,0,0.3)\">, </span> ’  <span style=\"background-color:rgba(0,255,0,0.3)\">Amid </span> <span style=\"background-color:rgba(0,255,0,0.3)\">Delay </span>  <span style=\"background-color:rgba(0,255,0,0.3)\">in </span> Cease - Fire Talks</th><th>HEAD</th><th></th><th></th></tr><tr><td>0</td><td><span style=\"background-color:rgba(255,0,0,0.3)\">GENEVA</span> <span style=\"background-color:rgba(255,0,0,0.3)\">—</span> <span style=\"background-color:rgba(255,0,0,0.3)\">United</span> <span style=\"background-color:rgba(255,0,0,0.3)\">Nations</span> <span style=\"background-color:rgba(255,0,0,0.3)\">efforts</span> <span style=\"background-color:rgba(255,0,0,0.3)\">to</span> <span style=\"background-color:rgba(255,0,0,0.3)\">start</span> <span style=\"background-color:rgba(255,0,0,0.3)\">talks</span> <span style=\"background-color:rgba(255,0,0,0.3)\">aimed</span> <span style=\"background-color:rgba(255,0,0,0.3)\">at</span> <span style=\"background-color:rgba(255,0,0,0.3)\">achieving</span> <span style=\"background-color:rgba(255,0,0,0.3)\">at</span> <span style=\"background-color:rgba(255,0,0,0.3)\">least</span> <span style=\"background-color:rgba(255,0,0,0.3)\">a</span> <span style=\"background-color:rgba(255,0,0,0.3)\">cease</span> <span style=\"background-color:rgba(255,0,0,0.3)\">-</span> <span style=\"background-color:rgba(255,0,0,0.3)\">fire</span> <span style=\"background-color:rgba(255,0,0,0.3)\">in</span> <span style=\"background-color:rgba(255,0,0,0.3)\">Yemen</span> <span style=\"background-color:rgba(255,0,0,0.3)\">were</span> <span style=\"background-color:rgba(255,0,0,0.3)\">further</span> <span style=\"background-color:rgba(255,0,0,0.3)\">delayed</span> <span style=\"background-color:rgba(255,0,0,0.3)\">on</span> <span style=\"background-color:rgba(255,0,0,0.3)\">Monday</span> <span style=\"background-color:rgba(255,0,0,0.3)\">because</span> <span style=\"background-color:rgba(255,0,0,0.3)\">members</span> <span style=\"background-color:rgba(255,0,0,0.3)\">of</span> <span style=\"background-color:rgba(255,0,0,0.3)\">the</span> <span style=\"background-color:rgba(255,0,0,0.3)\">Houthi</span> <span style=\"background-color:rgba(255,0,0,0.3)\">rebel</span> <span style=\"background-color:rgba(255,0,0,0.3)\">group</span> <span style=\"background-color:rgba(255,0,0,0.3)\">battling</span> <span style=\"background-color:rgba(255,0,0,0.3)\">the</span> <span style=\"background-color:rgba(255,0,0,0.3)\">Saudi</span> <span style=\"background-color:rgba(255,0,0,0.3)\">-</span> <span style=\"background-color:rgba(255,0,0,0.3)\">backed</span> <span style=\"background-color:rgba(255,0,0,0.3)\">government</span> <span style=\"background-color:rgba(255,0,0,0.3)\">of</span> <span style=\"background-color:rgba(255,0,0,0.3)\">the</span> <span style=\"background-color:rgba(255,0,0,0.3)\">president</span> <span style=\"background-color:rgba(255,0,0,0.3)\">in</span> <span style=\"background-color:rgba(255,0,0,0.3)\">exile</span> <span style=\"background-color:rgba(255,0,0,0.3)\">,</span> <span style=\"background-color:rgba(255,0,0,0.3)\">Abdu</span> <span style=\"background-color:rgba(255,0,0,0.3)\">Rabbu</span> <span style=\"background-color:rgba(255,0,0,0.3)\">Mansour</span> <span style=\"background-color:rgba(255,0,0,0.3)\">Hadi</span> <span style=\"background-color:rgba(255,0,0,0.3)\">,</span> <span style=\"background-color:rgba(255,0,0,0.3)\">had</span> <span style=\"background-color:rgba(255,0,0,0.3)\">not</span> <span style=\"background-color:rgba(255,0,0,0.3)\">arrived</span> <span style=\"background-color:rgba(255,0,0,0.3)\">in</span> <span style=\"background-color:rgba(255,0,0,0.3)\">Geneva</span> <span style=\"background-color:rgba(255,0,0,0.3)\">,</span> <span style=\"background-color:rgba(255,0,0,0.3)\">where</span> <span style=\"background-color:rgba(255,0,0,0.3)\">the</span> <span style=\"background-color:rgba(255,0,0,0.3)\">talks</span> <span style=\"background-color:rgba(255,0,0,0.3)\">were</span> <span style=\"background-color:rgba(255,0,0,0.3)\">due</span> <span style=\"background-color:rgba(255,0,0,0.3)\">to</span> <span style=\"background-color:rgba(255,0,0,0.3)\">be</span> <span style=\"background-color:rgba(255,0,0,0.3)\">held</span> <span style=\"background-color:rgba(255,0,0,0.3)\">.</span></td><td>                                                              </td><td></td><td></td><td></td></tr><tr><td>1</td><td><span style=\"background-color:rgba(255,0,0,0.3)\">In</span> <span style=\"background-color:rgba(255,0,0,0.3)\">Geneva</span> <span style=\"background-color:rgba(255,0,0,0.3)\">on</span> <span style=\"background-color:rgba(255,0,0,0.3)\">Monday</span> <span style=\"background-color:rgba(255,0,0,0.3)\">,</span> <span style=\"background-color:rgba(255,0,0,0.3)\">Secretary</span> <span style=\"background-color:rgba(255,0,0,0.3)\">General</span> <span style=\"background-color:rgba(255,0,0,0.3)\">Ban</span> <span style=\"background-color:rgba(255,0,0,0.3)\">Ki</span> <span style=\"background-color:rgba(255,0,0,0.3)\">-</span> <span style=\"background-color:rgba(255,0,0,0.3)\">moon</span> <span style=\"background-color:rgba(255,0,0,0.3)\">met</span> <span style=\"background-color:rgba(255,0,0,0.3)\">representatives</span> <span style=\"background-color:rgba(255,0,0,0.3)\">of</span> <span style=\"background-color:rgba(255,0,0,0.3)\">Yemen</span> <span style=\"background-color:rgba(255,0,0,0.3)\">’s</span> <span style=\"background-color:rgba(255,0,0,0.3)\">ousted</span> <span style=\"background-color:rgba(255,0,0,0.3)\">government</span> <span style=\"background-color:rgba(255,0,0,0.3)\">and</span> <span style=\"background-color:rgba(255,0,0,0.3)\">ambassadors</span> <span style=\"background-color:rgba(255,0,0,0.3)\">from</span> <span style=\"background-color:rgba(255,0,0,0.3)\">the</span> <span style=\"background-color:rgba(255,0,0,0.3)\">so</span> <span style=\"background-color:rgba(255,0,0,0.3)\">-</span> <span style=\"background-color:rgba(255,0,0,0.3)\">called</span> <span style=\"background-color:rgba(255,0,0,0.3)\">Group</span> <span style=\"background-color:rgba(255,0,0,0.3)\">of</span> <span style=\"background-color:rgba(255,0,0,0.3)\">16</span> <span style=\"background-color:rgba(255,0,0,0.3)\">countries</span> <span style=\"background-color:rgba(255,0,0,0.3)\">that</span> <span style=\"background-color:rgba(255,0,0,0.3)\">is</span> <span style=\"background-color:rgba(255,0,0,0.3)\">closely</span> <span style=\"background-color:rgba(255,0,0,0.3)\">monitoring</span> <span style=\"background-color:rgba(255,0,0,0.3)\">developments</span> <span style=\"background-color:rgba(255,0,0,0.3)\">in</span> <span style=\"background-color:rgba(255,0,0,0.3)\">Yemen</span> <span style=\"background-color:rgba(255,0,0,0.3)\">,</span> <span style=\"background-color:rgba(255,0,0,0.3)\">Ahmad</span> <span style=\"background-color:rgba(255,0,0,0.3)\">Fawzi</span> <span style=\"background-color:rgba(255,0,0,0.3)\">,</span> <span style=\"background-color:rgba(255,0,0,0.3)\">a</span> <span style=\"background-color:rgba(255,0,0,0.3)\">spokesman</span> <span style=\"background-color:rgba(255,0,0,0.3)\">for</span> <span style=\"background-color:rgba(255,0,0,0.3)\">the</span> <span style=\"background-color:rgba(255,0,0,0.3)\">United</span> <span style=\"background-color:rgba(255,0,0,0.3)\">Nations</span> <span style=\"background-color:rgba(255,0,0,0.3)\">in</span> <span style=\"background-color:rgba(255,0,0,0.3)\">Geneva</span> <span style=\"background-color:rgba(255,0,0,0.3)\">,</span> <span style=\"background-color:rgba(255,0,0,0.3)\">said</span> <span style=\"background-color:rgba(255,0,0,0.3)\">.</span></td><td>                                                  </td><td></td><td></td><td></td></tr><tr><td>2</td><td><span style=\"background-color:rgba(255,0,0,0.3)\">Mr.</span> <span style=\"background-color:rgba(255,0,0,0.3)\">Ban</span> <span style=\"background-color:rgba(255,0,0,0.3)\">“</span> <span style=\"background-color:rgba(255,0,0,0.3)\">is</span> <span style=\"background-color:rgba(255,0,0,0.3)\">very</span> <span style=\"background-color:rgba(255,0,0,0.3)\">concerned</span> <span style=\"background-color:rgba(255,0,0,0.3)\">about</span> <span style=\"background-color:rgba(255,0,0,0.3)\">the</span> <span style=\"background-color:rgba(255,0,0,0.3)\">humanitarian</span> <span style=\"background-color:rgba(255,0,0,0.3)\">situation</span> <span style=\"background-color:rgba(255,0,0,0.3)\">in</span> <span style=\"background-color:rgba(255,0,0,0.3)\">Yemen</span> <span style=\"background-color:rgba(255,0,0,0.3)\">in</span> <span style=\"background-color:rgba(255,0,0,0.3)\">particular</span> <span style=\"background-color:rgba(255,0,0,0.3)\">and</span> <span style=\"background-color:rgba(255,0,0,0.3)\">is</span> <span style=\"background-color:rgba(255,0,0,0.3)\">calling</span> <span style=\"background-color:rgba(255,0,0,0.3)\">for</span> <span style=\"background-color:rgba(255,0,0,0.3)\">a</span> <span style=\"background-color:rgba(255,0,0,0.3)\">humanitarian</span> <span style=\"background-color:rgba(255,0,0,0.3)\">pause</span> <span style=\"background-color:rgba(255,0,0,0.3)\">,</span> <span style=\"background-color:rgba(255,0,0,0.3)\">”</span> <span style=\"background-color:rgba(255,0,0,0.3)\">Mr.</span> <span style=\"background-color:rgba(255,0,0,0.3)\">Fawzi</span> <span style=\"background-color:rgba(255,0,0,0.3)\">said</span> <span style=\"background-color:rgba(255,0,0,0.3)\">,</span> <span style=\"background-color:rgba(255,0,0,0.3)\">but</span> <span style=\"background-color:rgba(255,0,0,0.3)\">he</span> <span style=\"background-color:rgba(255,0,0,0.3)\">added</span> <span style=\"background-color:rgba(255,0,0,0.3)\">that</span> <span style=\"background-color:rgba(255,0,0,0.3)\">a</span> <span style=\"background-color:rgba(255,0,0,0.3)\">formal</span> <span style=\"background-color:rgba(255,0,0,0.3)\">start</span> <span style=\"background-color:rgba(255,0,0,0.3)\">to</span> <span style=\"background-color:rgba(255,0,0,0.3)\">what</span> <span style=\"background-color:rgba(255,0,0,0.3)\">the</span> <span style=\"background-color:rgba(255,0,0,0.3)\">United</span> <span style=\"background-color:rgba(255,0,0,0.3)\">Nations</span> <span style=\"background-color:rgba(255,0,0,0.3)\">is</span> <span style=\"background-color:rgba(255,0,0,0.3)\">calling</span> <span style=\"background-color:rgba(255,0,0,0.3)\">“</span> <span style=\"background-color:rgba(255,0,0,0.3)\">preliminary</span> <span style=\"background-color:rgba(255,0,0,0.3)\">inclusive</span> <span style=\"background-color:rgba(255,0,0,0.3)\">consultations</span> <span style=\"background-color:rgba(255,0,0,0.3)\">”</span> <span style=\"background-color:rgba(255,0,0,0.3)\">would</span> <span style=\"background-color:rgba(255,0,0,0.3)\">have</span> <span style=\"background-color:rgba(255,0,0,0.3)\">to</span> <span style=\"background-color:rgba(255,0,0,0.3)\">await</span> <span style=\"background-color:rgba(255,0,0,0.3)\">the</span> <span style=\"background-color:rgba(255,0,0,0.3)\">arrival</span> <span style=\"background-color:rgba(255,0,0,0.3)\">of</span> <span style=\"background-color:rgba(255,0,0,0.3)\">the</span> <span style=\"background-color:rgba(255,0,0,0.3)\">Houthi</span> <span style=\"background-color:rgba(255,0,0,0.3)\">delegation</span> <span style=\"background-color:rgba(255,0,0,0.3)\">.</span></td><td>                                                        </td><td></td><td></td><td></td></tr><tr><td>3</td><td><span style=\"background-color:rgba(255,0,0,0.3)\">The</span> <span style=\"background-color:rgba(255,0,0,0.3)\">consultations</span> <span style=\"background-color:rgba(255,0,0,0.3)\">had</span> <span style=\"background-color:rgba(255,0,0,0.3)\">been</span> <span style=\"background-color:rgba(255,0,0,0.3)\">due</span> <span style=\"background-color:rgba(255,0,0,0.3)\">to</span> <span style=\"background-color:rgba(255,0,0,0.3)\">start</span> <span style=\"background-color:rgba(255,0,0,0.3)\">on</span> <span style=\"background-color:rgba(255,0,0,0.3)\">Sunday</span> <span style=\"background-color:rgba(255,0,0,0.3)\">but</span> <span style=\"background-color:rgba(255,0,0,0.3)\">were</span> <span style=\"background-color:rgba(255,0,0,0.3)\">delayed</span> <span style=\"background-color:rgba(255,0,0,0.3)\">when</span> <span style=\"background-color:rgba(255,0,0,0.3)\">the</span> <span style=\"background-color:rgba(255,0,0,0.3)\">Houthi</span> <span style=\"background-color:rgba(255,0,0,0.3)\">delegation</span> <span style=\"background-color:rgba(255,0,0,0.3)\">declined</span> <span style=\"background-color:rgba(255,0,0,0.3)\">to</span> <span style=\"background-color:rgba(255,0,0,0.3)\">board</span> <span style=\"background-color:rgba(255,0,0,0.3)\">the</span> <span style=\"background-color:rgba(255,0,0,0.3)\">aircraft</span> <span style=\"background-color:rgba(255,0,0,0.3)\">that</span> <span style=\"background-color:rgba(255,0,0,0.3)\">was</span> <span style=\"background-color:rgba(255,0,0,0.3)\">supposed</span> <span style=\"background-color:rgba(255,0,0,0.3)\">to</span> <span style=\"background-color:rgba(255,0,0,0.3)\">take</span> <span style=\"background-color:rgba(255,0,0,0.3)\">them</span> <span style=\"background-color:rgba(255,0,0,0.3)\">to</span> <span style=\"background-color:rgba(255,0,0,0.3)\">Geneva</span> <span style=\"background-color:rgba(255,0,0,0.3)\">.</span></td><td>                             </td><td></td><td></td><td></td></tr><tr><td>4</td><td><span style=\"background-color:rgba(255,0,0,0.3)\">The</span> <span style=\"background-color:rgba(255,0,0,0.3)\">delegation</span> <span style=\"background-color:rgba(255,0,0,0.3)\">,</span> <span style=\"background-color:rgba(255,0,0,0.3)\">reported</span> <span style=\"background-color:rgba(255,0,0,0.3)\">by</span> <span style=\"background-color:rgba(255,0,0,0.3)\">The</span> <span style=\"background-color:rgba(255,0,0,0.3)\">Associated</span> <span style=\"background-color:rgba(255,0,0,0.3)\">Press</span> <span style=\"background-color:rgba(255,0,0,0.3)\">to</span> <span style=\"background-color:rgba(255,0,0,0.3)\">include</span> <span style=\"background-color:rgba(255,0,0,0.3)\">Houthi</span> <span style=\"background-color:rgba(255,0,0,0.3)\">leaders</span> <span style=\"background-color:rgba(255,0,0,0.3)\">and</span> <span style=\"background-color:rgba(255,0,0,0.3)\">representatives</span> <span style=\"background-color:rgba(255,0,0,0.3)\">of</span> <span style=\"background-color:rgba(255,0,0,0.3)\">former</span> <span style=\"background-color:rgba(255,0,0,0.3)\">President</span> <span style=\"background-color:rgba(255,0,0,0.3)\">Ali</span> <span style=\"background-color:rgba(255,0,0,0.3)\">Abdullah</span> <span style=\"background-color:rgba(255,0,0,0.3)\">Saleh</span> <span style=\"background-color:rgba(255,0,0,0.3)\">,</span> <span style=\"background-color:rgba(255,0,0,0.3)\">eventually</span> <span style=\"background-color:rgba(255,0,0,0.3)\">left</span> <span style=\"background-color:rgba(255,0,0,0.3)\">the</span> <span style=\"background-color:rgba(255,0,0,0.3)\">Yemeni</span> <span style=\"background-color:rgba(255,0,0,0.3)\">capital</span> <span style=\"background-color:rgba(255,0,0,0.3)\">,</span> <span style=\"background-color:rgba(255,0,0,0.3)\">Sana</span> <span style=\"background-color:rgba(255,0,0,0.3)\">,</span> <span style=\"background-color:rgba(255,0,0,0.3)\">on</span> <span style=\"background-color:rgba(255,0,0,0.3)\">Sunday</span> <span style=\"background-color:rgba(255,0,0,0.3)\">and</span> <span style=\"background-color:rgba(255,0,0,0.3)\">flew</span> <span style=\"background-color:rgba(255,0,0,0.3)\">to</span> <span style=\"background-color:rgba(255,0,0,0.3)\">Djibouti</span> <span style=\"background-color:rgba(255,0,0,0.3)\">,</span> <span style=\"background-color:rgba(255,0,0,0.3)\">but</span> <span style=\"background-color:rgba(255,0,0,0.3)\">the</span> <span style=\"background-color:rgba(255,0,0,0.3)\">onward</span> <span style=\"background-color:rgba(255,0,0,0.3)\">journey</span> <span style=\"background-color:rgba(255,0,0,0.3)\">to</span> <span style=\"background-color:rgba(255,0,0,0.3)\">Geneva</span> <span style=\"background-color:rgba(255,0,0,0.3)\">was</span> <span style=\"background-color:rgba(255,0,0,0.3)\">delayed</span> <span style=\"background-color:rgba(255,0,0,0.3)\">by</span> <span style=\"background-color:rgba(255,0,0,0.3)\">what</span> <span style=\"background-color:rgba(255,0,0,0.3)\">Mr.</span> <span style=\"background-color:rgba(255,0,0,0.3)\">Fawzi</span> <span style=\"background-color:rgba(255,0,0,0.3)\">said</span> <span style=\"background-color:rgba(255,0,0,0.3)\">was</span> <span style=\"background-color:rgba(255,0,0,0.3)\">“</span> <span style=\"background-color:rgba(255,0,0,0.3)\">a</span> <span style=\"background-color:rgba(255,0,0,0.3)\">technical</span> <span style=\"background-color:rgba(255,0,0,0.3)\">glitch</span> <span style=\"background-color:rgba(255,0,0,0.3)\">”</span> <span style=\"background-color:rgba(255,0,0,0.3)\">linked</span> <span style=\"background-color:rgba(255,0,0,0.3)\">to</span> <span style=\"background-color:rgba(255,0,0,0.3)\">refueling</span> <span style=\"background-color:rgba(255,0,0,0.3)\">and</span> <span style=\"background-color:rgba(255,0,0,0.3)\">flight</span> <span style=\"background-color:rgba(255,0,0,0.3)\">crew</span> <span style=\"background-color:rgba(255,0,0,0.3)\">schedules</span> <span style=\"background-color:rgba(255,0,0,0.3)\">.</span></td><td>                                                              </td><td></td><td></td><td></td></tr><tr><td>5</td><td><span style=\"background-color:rgba(255,0,0,0.3)\">As</span> <span style=\"background-color:rgba(255,0,0,0.3)\">Mr.</span> <span style=\"background-color:rgba(255,0,0,0.3)\">Ban</span> <span style=\"background-color:rgba(255,0,0,0.3)\">started</span> <span style=\"background-color:rgba(255,0,0,0.3)\">his</span> <span style=\"background-color:rgba(255,0,0,0.3)\">meetings</span> <span style=\"background-color:rgba(255,0,0,0.3)\">in</span> <span style=\"background-color:rgba(255,0,0,0.3)\">Geneva</span> <span style=\"background-color:rgba(255,0,0,0.3)\">,</span> <span style=\"background-color:rgba(255,0,0,0.3)\">Mr.</span> <span style=\"background-color:rgba(255,0,0,0.3)\">Fawzi</span> <span style=\"background-color:rgba(255,0,0,0.3)\">said</span> <span style=\"background-color:rgba(255,0,0,0.3)\">it</span> <span style=\"background-color:rgba(255,0,0,0.3)\">was</span> <span style=\"background-color:rgba(255,0,0,0.3)\">unclear</span> <span style=\"background-color:rgba(255,0,0,0.3)\">whether</span> <span style=\"background-color:rgba(255,0,0,0.3)\">the</span> <span style=\"background-color:rgba(255,0,0,0.3)\">Houthi</span> <span style=\"background-color:rgba(255,0,0,0.3)\">delegation</span> <span style=\"background-color:rgba(255,0,0,0.3)\">had</span> <span style=\"background-color:rgba(255,0,0,0.3)\">left</span> <span style=\"background-color:rgba(255,0,0,0.3)\">Djibouti</span> <span style=\"background-color:rgba(255,0,0,0.3)\">.</span></td><td>                      </td><td></td><td></td><td></td></tr><tr><td>6</td><td><span style=\"background-color:rgba(255,0,0,0.3)\">The</span> <span style=\"background-color:rgba(255,0,0,0.3)\">United</span> <span style=\"background-color:rgba(255,0,0,0.3)\">Nations</span> <span style=\"background-color:rgba(255,0,0,0.3)\">is</span> <span style=\"background-color:rgba(255,0,0,0.3)\">hoping</span> <span style=\"background-color:rgba(255,0,0,0.3)\">the</span> <span style=\"background-color:rgba(255,0,0,0.3)\">consultations</span> <span style=\"background-color:rgba(255,0,0,0.3)\">,</span> <span style=\"background-color:rgba(255,0,0,0.3)\">which</span> <span style=\"background-color:rgba(255,0,0,0.3)\">are</span> <span style=\"background-color:rgba(255,0,0,0.3)\">due</span> <span style=\"background-color:rgba(255,0,0,0.3)\">to</span> <span style=\"background-color:rgba(255,0,0,0.3)\">start</span> <span style=\"background-color:rgba(255,0,0,0.3)\">with</span> <span style=\"background-color:rgba(255,0,0,0.3)\">“</span> <span style=\"background-color:rgba(255,0,0,0.3)\">proximity</span> <span style=\"background-color:rgba(255,0,0,0.3)\">talks</span> <span style=\"background-color:rgba(255,0,0,0.3)\">”</span> <span style=\"background-color:rgba(255,0,0,0.3)\">in</span> <span style=\"background-color:rgba(255,0,0,0.3)\">which</span> <span style=\"background-color:rgba(255,0,0,0.3)\">the</span> <span style=\"background-color:rgba(255,0,0,0.3)\">delegations</span> <span style=\"background-color:rgba(255,0,0,0.3)\">remain</span> <span style=\"background-color:rgba(255,0,0,0.3)\">in</span> <span style=\"background-color:rgba(255,0,0,0.3)\">separate</span> <span style=\"background-color:rgba(255,0,0,0.3)\">rooms</span> <span style=\"background-color:rgba(255,0,0,0.3)\">,</span> <span style=\"background-color:rgba(255,0,0,0.3)\">will</span> <span style=\"background-color:rgba(255,0,0,0.3)\">lead</span> <span style=\"background-color:rgba(255,0,0,0.3)\">to</span> <span style=\"background-color:rgba(255,0,0,0.3)\">a</span> <span style=\"background-color:rgba(255,0,0,0.3)\">humanitarian</span> <span style=\"background-color:rgba(255,0,0,0.3)\">pause</span> <span style=\"background-color:rgba(255,0,0,0.3)\">to</span> <span style=\"background-color:rgba(255,0,0,0.3)\">allow</span> <span style=\"background-color:rgba(255,0,0,0.3)\">aid</span> <span style=\"background-color:rgba(255,0,0,0.3)\">deliveries</span> <span style=\"background-color:rgba(255,0,0,0.3)\">to</span> <span style=\"background-color:rgba(255,0,0,0.3)\">the</span> <span style=\"background-color:rgba(255,0,0,0.3)\">population</span> <span style=\"background-color:rgba(255,0,0,0.3)\">and</span> <span style=\"background-color:rgba(255,0,0,0.3)\">a</span> <span style=\"background-color:rgba(255,0,0,0.3)\">withdrawal</span> <span style=\"background-color:rgba(255,0,0,0.3)\">of</span> <span style=\"background-color:rgba(255,0,0,0.3)\">fighting</span> <span style=\"background-color:rgba(255,0,0,0.3)\">forces</span> <span style=\"background-color:rgba(255,0,0,0.3)\">from</span> <span style=\"background-color:rgba(255,0,0,0.3)\">cities</span> <span style=\"background-color:rgba(255,0,0,0.3)\">.</span></td><td>                                                </td><td></td><td></td><td></td></tr><tr><td>7</td><td> <span style=\"background-color:rgba(255,0,0,0.3)\">But</span> <span style=\"background-color:rgba(255,0,0,0.3)\">as</span> delegates and diplomats assembled in Geneva <span style=\"background-color:rgba(255,0,0,0.3)\">at</span>  the weekend , fierce fighting continued in many areas of Yemen ,  <span style=\"background-color:rgba(255,0,0,0.3)\">an</span> <span style=\"background-color:rgba(255,0,0,0.3)\">impoverished</span> nation of 26 million .</td><td><span style=\"background-color:rgba(0,255,0,0.3)\">As </span>   delegates and diplomats assembled in Geneva  <span style=\"background-color:rgba(0,255,0,0.3)\">over </span> the weekend , fierce fighting continued in many areas of Yemen , <span style=\"background-color:rgba(0,255,0,0.3)\">a </span>   nation of 26 million .</td><td>12</td><td>0.26</td><td>0.26</td></tr><tr><td>8</td><td>Airstrikes by the Saudi - led coalition continued <span style=\"background-color:rgba(255,0,0,0.3)\">at</span> <span style=\"background-color:rgba(255,0,0,0.3)\">the</span> <span style=\"background-color:rgba(255,0,0,0.3)\">weekend</span> against rebel positions , including in the northern province of Saada , the central city of Dhamar and in the province of Jawf in the <span style=\"background-color:rgba(255,0,0,0.3)\">north</span>  , where the Houthis took control of the provincial capital on Sunday .</td><td>Airstrikes by the Saudi - led coalition continued    against rebel positions , including in the northern province of Saada , the central city of Dhamar and in the province of Jawf in the  <span style=\"background-color:rgba(0,255,0,0.3)\">northwest </span> , where the Houthis took control of the provincial capital on Sunday .</td><td>13</td><td>0.3</td><td>0.3</td></tr><tr><td>9</td><td>The United Nations <span style=\"background-color:rgba(255,0,0,0.3)\">high</span> <span style=\"background-color:rgba(255,0,0,0.3)\">commissioner</span> for <span style=\"background-color:rgba(255,0,0,0.3)\">human</span> <span style=\"background-color:rgba(255,0,0,0.3)\">rights</span> , Zeid Ra’ad al - Hussein , <span style=\"background-color:rgba(255,0,0,0.3)\">underscored</span>  the urgent need for a cease - fire to ease the plight of civilians facing what aid agencies have warned is a “ catastrophic ” humanitarian situation .</td><td>The United Nations <span style=\"background-color:rgba(0,255,0,0.3)\">High </span> <span style=\"background-color:rgba(0,255,0,0.3)\">Commissioner </span> for <span style=\"background-color:rgba(0,255,0,0.3)\">Human </span> <span style=\"background-color:rgba(0,255,0,0.3)\">Rights </span> , Zeid Ra’ad al - Hussein ,  <span style=\"background-color:rgba(0,255,0,0.3)\">highlighted </span> the urgent need for a cease - fire to ease the plight of civilians facing what aid agencies have warned is a “ catastrophic ” humanitarian situation .</td><td>14</td><td>0.2</td><td>0.2</td></tr><tr><td>10</td><td>Mr.   Hussein , whose previous comments on the conflict have reportedly angered Saudi Arabia , told the   Human Rights Council that his office had received reports that “ indiscriminate and disproportionate attacks are being used on densely populated areas .</td><td>Mr. <span style=\"background-color:rgba(0,255,0,0.3)\">al </span> <span style=\"background-color:rgba(0,255,0,0.3)\">- </span> Hussein , whose previous comments on the conflict have reportedly angered Saudi Arabia , told the <span style=\"background-color:rgba(0,255,0,0.3)\">United </span> <span style=\"background-color:rgba(0,255,0,0.3)\">Nations </span> Human Rights Council that his office had received reports that “ indiscriminate and disproportionate attacks are being used on densely populated areas .</td><td>15</td><td>0.2</td><td>0.2</td></tr><tr><td>11</td><td>” The blockade on imports of fuel , food and medicine , which the Saudi - led coalition has maintained in a bid to cut off arms supplies to rebel forces  “ should be lifted immediately , ” Mr. <span style=\"background-color:rgba(255,0,0,0.3)\">Zeid</span>    said .</td><td>” The blockade on imports of fuel , food and medicine , which the Saudi - led coalition has maintained in a bid to cut off arms supplies to rebel forces <span style=\"background-color:rgba(0,255,0,0.3)\">, </span> “ should be lifted immediately , ” Mr.  <span style=\"background-color:rgba(0,255,0,0.3)\">al </span> <span style=\"background-color:rgba(0,255,0,0.3)\">- </span> <span style=\"background-color:rgba(0,255,0,0.3)\">Hussein </span> said .</td><td>16</td><td>0.09</td><td>0.09</td></tr><tr><td></td><td>                                             </td><td><span style=\"background-color:rgba(0,255,0,0.3)\">GENEVA </span> <span style=\"background-color:rgba(0,255,0,0.3)\">— </span> <span style=\"background-color:rgba(0,255,0,0.3)\">The </span> <span style=\"background-color:rgba(0,255,0,0.3)\">United </span> <span style=\"background-color:rgba(0,255,0,0.3)\">Nations </span> <span style=\"background-color:rgba(0,255,0,0.3)\">secretary </span> <span style=\"background-color:rgba(0,255,0,0.3)\">general </span> <span style=\"background-color:rgba(0,255,0,0.3)\">, </span> <span style=\"background-color:rgba(0,255,0,0.3)\">Ban </span> <span style=\"background-color:rgba(0,255,0,0.3)\">Ki </span> <span style=\"background-color:rgba(0,255,0,0.3)\">- </span> <span style=\"background-color:rgba(0,255,0,0.3)\">moon </span> <span style=\"background-color:rgba(0,255,0,0.3)\">, </span> <span style=\"background-color:rgba(0,255,0,0.3)\">warned </span> <span style=\"background-color:rgba(0,255,0,0.3)\">that </span> <span style=\"background-color:rgba(0,255,0,0.3)\">Yemen </span> <span style=\"background-color:rgba(0,255,0,0.3)\">was </span> <span style=\"background-color:rgba(0,255,0,0.3)\">a </span> <span style=\"background-color:rgba(0,255,0,0.3)\">“ </span> <span style=\"background-color:rgba(0,255,0,0.3)\">ticking </span> <span style=\"background-color:rgba(0,255,0,0.3)\">bomb </span> <span style=\"background-color:rgba(0,255,0,0.3)\">, </span> <span style=\"background-color:rgba(0,255,0,0.3)\">” </span> <span style=\"background-color:rgba(0,255,0,0.3)\">as </span> <span style=\"background-color:rgba(0,255,0,0.3)\">efforts </span> <span style=\"background-color:rgba(0,255,0,0.3)\">to </span> <span style=\"background-color:rgba(0,255,0,0.3)\">start </span> <span style=\"background-color:rgba(0,255,0,0.3)\">talks </span> <span style=\"background-color:rgba(0,255,0,0.3)\">aimed </span> <span style=\"background-color:rgba(0,255,0,0.3)\">at </span> <span style=\"background-color:rgba(0,255,0,0.3)\">achieving </span> <span style=\"background-color:rgba(0,255,0,0.3)\">at </span> <span style=\"background-color:rgba(0,255,0,0.3)\">least </span> <span style=\"background-color:rgba(0,255,0,0.3)\">a </span> <span style=\"background-color:rgba(0,255,0,0.3)\">cease </span> <span style=\"background-color:rgba(0,255,0,0.3)\">- </span> <span style=\"background-color:rgba(0,255,0,0.3)\">fire </span> <span style=\"background-color:rgba(0,255,0,0.3)\">in </span> <span style=\"background-color:rgba(0,255,0,0.3)\">the </span> <span style=\"background-color:rgba(0,255,0,0.3)\">country </span> <span style=\"background-color:rgba(0,255,0,0.3)\">were </span> <span style=\"background-color:rgba(0,255,0,0.3)\">further </span> <span style=\"background-color:rgba(0,255,0,0.3)\">delayed </span> <span style=\"background-color:rgba(0,255,0,0.3)\">on </span> <span style=\"background-color:rgba(0,255,0,0.3)\">Monday </span> <span style=\"background-color:rgba(0,255,0,0.3)\">. </span></td><td>0</td><td></td><td></td></tr><tr><td></td><td>                                                     </td><td><span style=\"background-color:rgba(0,255,0,0.3)\">Mr. </span> <span style=\"background-color:rgba(0,255,0,0.3)\">Ban </span> <span style=\"background-color:rgba(0,255,0,0.3)\">had </span> <span style=\"background-color:rgba(0,255,0,0.3)\">stopped </span> <span style=\"background-color:rgba(0,255,0,0.3)\">off </span> <span style=\"background-color:rgba(0,255,0,0.3)\">in </span> <span style=\"background-color:rgba(0,255,0,0.3)\">Geneva </span> <span style=\"background-color:rgba(0,255,0,0.3)\">to </span> <span style=\"background-color:rgba(0,255,0,0.3)\">attend </span> <span style=\"background-color:rgba(0,255,0,0.3)\">the </span> <span style=\"background-color:rgba(0,255,0,0.3)\">start </span> <span style=\"background-color:rgba(0,255,0,0.3)\">of </span> <span style=\"background-color:rgba(0,255,0,0.3)\">what </span> <span style=\"background-color:rgba(0,255,0,0.3)\">the </span> <span style=\"background-color:rgba(0,255,0,0.3)\">United </span> <span style=\"background-color:rgba(0,255,0,0.3)\">Nations </span> <span style=\"background-color:rgba(0,255,0,0.3)\">has </span> <span style=\"background-color:rgba(0,255,0,0.3)\">called </span> <span style=\"background-color:rgba(0,255,0,0.3)\">“ </span> <span style=\"background-color:rgba(0,255,0,0.3)\">preliminary </span> <span style=\"background-color:rgba(0,255,0,0.3)\">inclusive </span> <span style=\"background-color:rgba(0,255,0,0.3)\">consultations </span> <span style=\"background-color:rgba(0,255,0,0.3)\">, </span> <span style=\"background-color:rgba(0,255,0,0.3)\">” </span> <span style=\"background-color:rgba(0,255,0,0.3)\">originally </span> <span style=\"background-color:rgba(0,255,0,0.3)\">intended </span> <span style=\"background-color:rgba(0,255,0,0.3)\">to </span> <span style=\"background-color:rgba(0,255,0,0.3)\">start </span> <span style=\"background-color:rgba(0,255,0,0.3)\">on </span> <span style=\"background-color:rgba(0,255,0,0.3)\">Sunday </span> <span style=\"background-color:rgba(0,255,0,0.3)\">, </span> <span style=\"background-color:rgba(0,255,0,0.3)\">between </span> <span style=\"background-color:rgba(0,255,0,0.3)\">the </span> <span style=\"background-color:rgba(0,255,0,0.3)\">Houthi </span> <span style=\"background-color:rgba(0,255,0,0.3)\">rebel </span> <span style=\"background-color:rgba(0,255,0,0.3)\">group </span> <span style=\"background-color:rgba(0,255,0,0.3)\">and </span> <span style=\"background-color:rgba(0,255,0,0.3)\">the </span> <span style=\"background-color:rgba(0,255,0,0.3)\">Saudi </span> <span style=\"background-color:rgba(0,255,0,0.3)\">- </span> <span style=\"background-color:rgba(0,255,0,0.3)\">backed </span> <span style=\"background-color:rgba(0,255,0,0.3)\">government </span> <span style=\"background-color:rgba(0,255,0,0.3)\">of </span> <span style=\"background-color:rgba(0,255,0,0.3)\">President </span> <span style=\"background-color:rgba(0,255,0,0.3)\">Abdu </span> <span style=\"background-color:rgba(0,255,0,0.3)\">Rabbu </span> <span style=\"background-color:rgba(0,255,0,0.3)\">Mansour </span> <span style=\"background-color:rgba(0,255,0,0.3)\">Hadi </span> <span style=\"background-color:rgba(0,255,0,0.3)\">, </span> <span style=\"background-color:rgba(0,255,0,0.3)\">who </span> <span style=\"background-color:rgba(0,255,0,0.3)\">is </span> <span style=\"background-color:rgba(0,255,0,0.3)\">in </span> <span style=\"background-color:rgba(0,255,0,0.3)\">exile </span> <span style=\"background-color:rgba(0,255,0,0.3)\">. </span></td><td>1</td><td></td><td></td></tr><tr><td></td><td>                                                   </td><td><span style=\"background-color:rgba(0,255,0,0.3)\">Mr. </span> <span style=\"background-color:rgba(0,255,0,0.3)\">Ban </span> <span style=\"background-color:rgba(0,255,0,0.3)\">met </span> <span style=\"background-color:rgba(0,255,0,0.3)\">separately </span> <span style=\"background-color:rgba(0,255,0,0.3)\">on </span> <span style=\"background-color:rgba(0,255,0,0.3)\">Monday </span> <span style=\"background-color:rgba(0,255,0,0.3)\">with </span> <span style=\"background-color:rgba(0,255,0,0.3)\">representatives </span> <span style=\"background-color:rgba(0,255,0,0.3)\">of </span> <span style=\"background-color:rgba(0,255,0,0.3)\">the </span> <span style=\"background-color:rgba(0,255,0,0.3)\">ousted </span> <span style=\"background-color:rgba(0,255,0,0.3)\">government </span> <span style=\"background-color:rgba(0,255,0,0.3)\">and </span> <span style=\"background-color:rgba(0,255,0,0.3)\">ambassadors </span> <span style=\"background-color:rgba(0,255,0,0.3)\">of </span> <span style=\"background-color:rgba(0,255,0,0.3)\">the </span> <span style=\"background-color:rgba(0,255,0,0.3)\">so </span> <span style=\"background-color:rgba(0,255,0,0.3)\">- </span> <span style=\"background-color:rgba(0,255,0,0.3)\">called </span> <span style=\"background-color:rgba(0,255,0,0.3)\">Group </span> <span style=\"background-color:rgba(0,255,0,0.3)\">of </span> <span style=\"background-color:rgba(0,255,0,0.3)\">16 </span> <span style=\"background-color:rgba(0,255,0,0.3)\">countries </span> <span style=\"background-color:rgba(0,255,0,0.3)\">that </span> <span style=\"background-color:rgba(0,255,0,0.3)\">are </span> <span style=\"background-color:rgba(0,255,0,0.3)\">closely </span> <span style=\"background-color:rgba(0,255,0,0.3)\">monitoring </span> <span style=\"background-color:rgba(0,255,0,0.3)\">developments </span> <span style=\"background-color:rgba(0,255,0,0.3)\">in </span> <span style=\"background-color:rgba(0,255,0,0.3)\">Yemen </span> <span style=\"background-color:rgba(0,255,0,0.3)\">, </span> <span style=\"background-color:rgba(0,255,0,0.3)\">but </span> <span style=\"background-color:rgba(0,255,0,0.3)\">he </span> <span style=\"background-color:rgba(0,255,0,0.3)\">had </span> <span style=\"background-color:rgba(0,255,0,0.3)\">to </span> <span style=\"background-color:rgba(0,255,0,0.3)\">leave </span> <span style=\"background-color:rgba(0,255,0,0.3)\">for </span> <span style=\"background-color:rgba(0,255,0,0.3)\">New </span> <span style=\"background-color:rgba(0,255,0,0.3)\">York </span> <span style=\"background-color:rgba(0,255,0,0.3)\">without </span> <span style=\"background-color:rgba(0,255,0,0.3)\">seeing </span> <span style=\"background-color:rgba(0,255,0,0.3)\">the </span> <span style=\"background-color:rgba(0,255,0,0.3)\">Houthi </span> <span style=\"background-color:rgba(0,255,0,0.3)\">delegation </span> <span style=\"background-color:rgba(0,255,0,0.3)\">after </span> <span style=\"background-color:rgba(0,255,0,0.3)\">delays </span> <span style=\"background-color:rgba(0,255,0,0.3)\">on </span> <span style=\"background-color:rgba(0,255,0,0.3)\">their </span> <span style=\"background-color:rgba(0,255,0,0.3)\">journey </span> <span style=\"background-color:rgba(0,255,0,0.3)\">to </span> <span style=\"background-color:rgba(0,255,0,0.3)\">Geneva </span> <span style=\"background-color:rgba(0,255,0,0.3)\">. </span></td><td>2</td><td></td><td></td></tr><tr><td></td><td>                                   </td><td><span style=\"background-color:rgba(0,255,0,0.3)\">The </span> <span style=\"background-color:rgba(0,255,0,0.3)\">23-member </span> <span style=\"background-color:rgba(0,255,0,0.3)\">Houthi </span> <span style=\"background-color:rgba(0,255,0,0.3)\">- </span> <span style=\"background-color:rgba(0,255,0,0.3)\">led </span> <span style=\"background-color:rgba(0,255,0,0.3)\">delegation </span> <span style=\"background-color:rgba(0,255,0,0.3)\">, </span> <span style=\"background-color:rgba(0,255,0,0.3)\">which </span> <span style=\"background-color:rgba(0,255,0,0.3)\">was </span> <span style=\"background-color:rgba(0,255,0,0.3)\">understood </span> <span style=\"background-color:rgba(0,255,0,0.3)\">to </span> <span style=\"background-color:rgba(0,255,0,0.3)\">also </span> <span style=\"background-color:rgba(0,255,0,0.3)\">include </span> <span style=\"background-color:rgba(0,255,0,0.3)\">representatives </span> <span style=\"background-color:rgba(0,255,0,0.3)\">of </span> <span style=\"background-color:rgba(0,255,0,0.3)\">former </span> <span style=\"background-color:rgba(0,255,0,0.3)\">President </span> <span style=\"background-color:rgba(0,255,0,0.3)\">Ali </span> <span style=\"background-color:rgba(0,255,0,0.3)\">Abdullah </span> <span style=\"background-color:rgba(0,255,0,0.3)\">Saleh </span> <span style=\"background-color:rgba(0,255,0,0.3)\">, </span> <span style=\"background-color:rgba(0,255,0,0.3)\">initially </span> <span style=\"background-color:rgba(0,255,0,0.3)\">refused </span> <span style=\"background-color:rgba(0,255,0,0.3)\">to </span> <span style=\"background-color:rgba(0,255,0,0.3)\">board </span> <span style=\"background-color:rgba(0,255,0,0.3)\">the </span> <span style=\"background-color:rgba(0,255,0,0.3)\">aircraft </span> <span style=\"background-color:rgba(0,255,0,0.3)\">that </span> <span style=\"background-color:rgba(0,255,0,0.3)\">was </span> <span style=\"background-color:rgba(0,255,0,0.3)\">supposed </span> <span style=\"background-color:rgba(0,255,0,0.3)\">to </span> <span style=\"background-color:rgba(0,255,0,0.3)\">bring </span> <span style=\"background-color:rgba(0,255,0,0.3)\">them </span> <span style=\"background-color:rgba(0,255,0,0.3)\">to </span> <span style=\"background-color:rgba(0,255,0,0.3)\">Geneva </span> <span style=\"background-color:rgba(0,255,0,0.3)\">. </span></td><td>3</td><td></td><td></td></tr><tr><td></td><td>                      </td><td><span style=\"background-color:rgba(0,255,0,0.3)\">When </span> <span style=\"background-color:rgba(0,255,0,0.3)\">they </span> <span style=\"background-color:rgba(0,255,0,0.3)\">eventually </span> <span style=\"background-color:rgba(0,255,0,0.3)\">left </span> <span style=\"background-color:rgba(0,255,0,0.3)\">Sana </span> <span style=\"background-color:rgba(0,255,0,0.3)\">on </span> <span style=\"background-color:rgba(0,255,0,0.3)\">Sunday </span> <span style=\"background-color:rgba(0,255,0,0.3)\">, </span> <span style=\"background-color:rgba(0,255,0,0.3)\">the </span> <span style=\"background-color:rgba(0,255,0,0.3)\">flight </span> <span style=\"background-color:rgba(0,255,0,0.3)\">was </span> <span style=\"background-color:rgba(0,255,0,0.3)\">delayed </span> <span style=\"background-color:rgba(0,255,0,0.3)\">in </span> <span style=\"background-color:rgba(0,255,0,0.3)\">Djibouti </span> <span style=\"background-color:rgba(0,255,0,0.3)\">for </span> <span style=\"background-color:rgba(0,255,0,0.3)\">what </span> <span style=\"background-color:rgba(0,255,0,0.3)\">Mr. </span> <span style=\"background-color:rgba(0,255,0,0.3)\">Ban </span> <span style=\"background-color:rgba(0,255,0,0.3)\">said </span> <span style=\"background-color:rgba(0,255,0,0.3)\">were </span> <span style=\"background-color:rgba(0,255,0,0.3)\">logistical </span> <span style=\"background-color:rgba(0,255,0,0.3)\">problems </span> <span style=\"background-color:rgba(0,255,0,0.3)\">. </span></td><td>4</td><td></td><td></td></tr><tr><td></td><td>                                 </td><td><span style=\"background-color:rgba(0,255,0,0.3)\">Mr. </span> <span style=\"background-color:rgba(0,255,0,0.3)\">Ban </span> <span style=\"background-color:rgba(0,255,0,0.3)\">told </span> <span style=\"background-color:rgba(0,255,0,0.3)\">reporters </span> <span style=\"background-color:rgba(0,255,0,0.3)\">before </span> <span style=\"background-color:rgba(0,255,0,0.3)\">leaving </span> <span style=\"background-color:rgba(0,255,0,0.3)\">that </span> <span style=\"background-color:rgba(0,255,0,0.3)\">the </span> <span style=\"background-color:rgba(0,255,0,0.3)\">Houthi </span> <span style=\"background-color:rgba(0,255,0,0.3)\">delegation </span> <span style=\"background-color:rgba(0,255,0,0.3)\">was </span> <span style=\"background-color:rgba(0,255,0,0.3)\">scheduled </span> <span style=\"background-color:rgba(0,255,0,0.3)\">to </span> <span style=\"background-color:rgba(0,255,0,0.3)\">reach </span> <span style=\"background-color:rgba(0,255,0,0.3)\">Geneva </span> <span style=\"background-color:rgba(0,255,0,0.3)\">later </span> <span style=\"background-color:rgba(0,255,0,0.3)\">in </span> <span style=\"background-color:rgba(0,255,0,0.3)\">the </span> <span style=\"background-color:rgba(0,255,0,0.3)\">day </span> <span style=\"background-color:rgba(0,255,0,0.3)\">, </span> <span style=\"background-color:rgba(0,255,0,0.3)\">and </span> <span style=\"background-color:rgba(0,255,0,0.3)\">he </span> <span style=\"background-color:rgba(0,255,0,0.3)\">warned </span> <span style=\"background-color:rgba(0,255,0,0.3)\">the </span> <span style=\"background-color:rgba(0,255,0,0.3)\">parties </span> <span style=\"background-color:rgba(0,255,0,0.3)\">that </span> <span style=\"background-color:rgba(0,255,0,0.3)\">quick </span> <span style=\"background-color:rgba(0,255,0,0.3)\">work </span> <span style=\"background-color:rgba(0,255,0,0.3)\">toward </span> <span style=\"background-color:rgba(0,255,0,0.3)\">an </span> <span style=\"background-color:rgba(0,255,0,0.3)\">agreement </span> <span style=\"background-color:rgba(0,255,0,0.3)\">was </span> <span style=\"background-color:rgba(0,255,0,0.3)\">imperative </span> <span style=\"background-color:rgba(0,255,0,0.3)\">. </span></td><td>5</td><td></td><td></td></tr><tr><td></td><td>           </td><td><span style=\"background-color:rgba(0,255,0,0.3)\">While </span> <span style=\"background-color:rgba(0,255,0,0.3)\">parties </span> <span style=\"background-color:rgba(0,255,0,0.3)\">bicker </span> <span style=\"background-color:rgba(0,255,0,0.3)\">, </span> <span style=\"background-color:rgba(0,255,0,0.3)\">Yemen </span> <span style=\"background-color:rgba(0,255,0,0.3)\">burns </span> <span style=\"background-color:rgba(0,255,0,0.3)\">, </span> <span style=\"background-color:rgba(0,255,0,0.3)\">” </span> <span style=\"background-color:rgba(0,255,0,0.3)\">he </span> <span style=\"background-color:rgba(0,255,0,0.3)\">told </span> <span style=\"background-color:rgba(0,255,0,0.3)\">reporters </span> <span style=\"background-color:rgba(0,255,0,0.3)\">. </span></td><td>7</td><td></td><td></td></tr><tr><td></td><td>                                           </td><td><span style=\"background-color:rgba(0,255,0,0.3)\">” </span> <span style=\"background-color:rgba(0,255,0,0.3)\">Mr. </span> <span style=\"background-color:rgba(0,255,0,0.3)\">Ban </span> <span style=\"background-color:rgba(0,255,0,0.3)\">said </span> <span style=\"background-color:rgba(0,255,0,0.3)\">the </span> <span style=\"background-color:rgba(0,255,0,0.3)\">goals </span> <span style=\"background-color:rgba(0,255,0,0.3)\">of </span> <span style=\"background-color:rgba(0,255,0,0.3)\">the </span> <span style=\"background-color:rgba(0,255,0,0.3)\">consultations </span> <span style=\"background-color:rgba(0,255,0,0.3)\">were </span> <span style=\"background-color:rgba(0,255,0,0.3)\">a </span> <span style=\"background-color:rgba(0,255,0,0.3)\">humanitarian </span> <span style=\"background-color:rgba(0,255,0,0.3)\">pause </span> <span style=\"background-color:rgba(0,255,0,0.3)\">that </span> <span style=\"background-color:rgba(0,255,0,0.3)\">would </span> <span style=\"background-color:rgba(0,255,0,0.3)\">allow </span> <span style=\"background-color:rgba(0,255,0,0.3)\">aid </span> <span style=\"background-color:rgba(0,255,0,0.3)\">to </span> <span style=\"background-color:rgba(0,255,0,0.3)\">reach </span> <span style=\"background-color:rgba(0,255,0,0.3)\">impoverished </span> <span style=\"background-color:rgba(0,255,0,0.3)\">civilians </span> <span style=\"background-color:rgba(0,255,0,0.3)\">, </span> <span style=\"background-color:rgba(0,255,0,0.3)\">a </span> <span style=\"background-color:rgba(0,255,0,0.3)\">longer </span> <span style=\"background-color:rgba(0,255,0,0.3)\">term </span> <span style=\"background-color:rgba(0,255,0,0.3)\">cease </span> <span style=\"background-color:rgba(0,255,0,0.3)\">- </span> <span style=\"background-color:rgba(0,255,0,0.3)\">fire </span> <span style=\"background-color:rgba(0,255,0,0.3)\">and </span> <span style=\"background-color:rgba(0,255,0,0.3)\">the </span> <span style=\"background-color:rgba(0,255,0,0.3)\">resumption </span> <span style=\"background-color:rgba(0,255,0,0.3)\">of </span> <span style=\"background-color:rgba(0,255,0,0.3)\">a </span> <span style=\"background-color:rgba(0,255,0,0.3)\">political </span> <span style=\"background-color:rgba(0,255,0,0.3)\">dialogue </span> <span style=\"background-color:rgba(0,255,0,0.3)\">leading </span> <span style=\"background-color:rgba(0,255,0,0.3)\">to </span> <span style=\"background-color:rgba(0,255,0,0.3)\">a </span> <span style=\"background-color:rgba(0,255,0,0.3)\">negotiated </span> <span style=\"background-color:rgba(0,255,0,0.3)\">solution </span> <span style=\"background-color:rgba(0,255,0,0.3)\">to </span> <span style=\"background-color:rgba(0,255,0,0.3)\">the </span> <span style=\"background-color:rgba(0,255,0,0.3)\">conflict </span> <span style=\"background-color:rgba(0,255,0,0.3)\">. </span></td><td>10</td><td></td><td></td></tr><tr><td></td><td>                                           </td><td><span style=\"background-color:rgba(0,255,0,0.3)\">But </span> <span style=\"background-color:rgba(0,255,0,0.3)\">such </span> <span style=\"background-color:rgba(0,255,0,0.3)\">is </span> <span style=\"background-color:rgba(0,255,0,0.3)\">the </span> <span style=\"background-color:rgba(0,255,0,0.3)\">gulf </span> <span style=\"background-color:rgba(0,255,0,0.3)\">dividing </span> <span style=\"background-color:rgba(0,255,0,0.3)\">the </span> <span style=\"background-color:rgba(0,255,0,0.3)\">two </span> <span style=\"background-color:rgba(0,255,0,0.3)\">sides </span> <span style=\"background-color:rgba(0,255,0,0.3)\">that </span> <span style=\"background-color:rgba(0,255,0,0.3)\">the </span> <span style=\"background-color:rgba(0,255,0,0.3)\">consultations </span> <span style=\"background-color:rgba(0,255,0,0.3)\">are </span> <span style=\"background-color:rgba(0,255,0,0.3)\">due </span> <span style=\"background-color:rgba(0,255,0,0.3)\">to </span> <span style=\"background-color:rgba(0,255,0,0.3)\">start </span> <span style=\"background-color:rgba(0,255,0,0.3)\">with </span> <span style=\"background-color:rgba(0,255,0,0.3)\">“ </span> <span style=\"background-color:rgba(0,255,0,0.3)\">proximity </span> <span style=\"background-color:rgba(0,255,0,0.3)\">talks </span> <span style=\"background-color:rgba(0,255,0,0.3)\">, </span> <span style=\"background-color:rgba(0,255,0,0.3)\">” </span> <span style=\"background-color:rgba(0,255,0,0.3)\">in </span> <span style=\"background-color:rgba(0,255,0,0.3)\">which </span> <span style=\"background-color:rgba(0,255,0,0.3)\">the </span> <span style=\"background-color:rgba(0,255,0,0.3)\">warring </span> <span style=\"background-color:rgba(0,255,0,0.3)\">factions </span> <span style=\"background-color:rgba(0,255,0,0.3)\">do </span> <span style=\"background-color:rgba(0,255,0,0.3)\">not </span> <span style=\"background-color:rgba(0,255,0,0.3)\">meet </span> <span style=\"background-color:rgba(0,255,0,0.3)\">face </span> <span style=\"background-color:rgba(0,255,0,0.3)\">to </span> <span style=\"background-color:rgba(0,255,0,0.3)\">face </span> <span style=\"background-color:rgba(0,255,0,0.3)\">but </span> <span style=\"background-color:rgba(0,255,0,0.3)\">sit </span> <span style=\"background-color:rgba(0,255,0,0.3)\">in </span> <span style=\"background-color:rgba(0,255,0,0.3)\">separate </span> <span style=\"background-color:rgba(0,255,0,0.3)\">rooms </span> <span style=\"background-color:rgba(0,255,0,0.3)\">as </span> <span style=\"background-color:rgba(0,255,0,0.3)\">mediators </span> <span style=\"background-color:rgba(0,255,0,0.3)\">shuttle </span> <span style=\"background-color:rgba(0,255,0,0.3)\">between </span> <span style=\"background-color:rgba(0,255,0,0.3)\">them </span> <span style=\"background-color:rgba(0,255,0,0.3)\">. </span></td><td>11</td><td></td><td></td></tr></table>"
      ],
      "text/plain": [
       "<IPython.core.display.HTML object>"
      ]
     },
     "metadata": {},
     "output_type": "display_data"
    }
   ],
   "source": [
    "display(HTML(html_outputs[0]))"
   ]
  },
  {
   "cell_type": "code",
   "execution_count": 170,
   "metadata": {},
   "outputs": [
    {
     "data": {
      "text/html": [
       "<table><tr><th>SIdx Old</th><th>Old Version</th><th>New Version</th><th>SIdx New</th><th>d(X)</th><th>d(Y)</th></tr><tr><th>HEAD</th><th>U.N. Leader Calls Yemen a ‘ Ticking Bomb , ’ Amid Delay in Cease - Fire Talks</th><th>U.N. Leader Calls Yemen a ‘ Ticking Bomb , ’ Amid Delay in Cease - Fire Talks</th><th>HEAD</th><th></th><th></th></tr><tr><td>0</td><td>GENEVA — The United Nations secretary general , Ban Ki - moon , warned that Yemen was a “ ticking bomb , ” as efforts to start talks aimed at achieving at least a cease - fire in the country were further delayed on Monday .</td><td>GENEVA — The United Nations secretary general , Ban Ki - moon , warned that Yemen was a “ ticking bomb , ” as efforts to start talks aimed at achieving at least a cease - fire in the country were further delayed on Monday .</td><td>0</td><td>0.0</td><td>0.0</td></tr><tr><td>1</td><td>Mr. Ban had stopped off in Geneva to attend the start of what the United Nations has called “ preliminary inclusive consultations , ” originally intended to start on Sunday , between the Houthi rebel group and the Saudi - backed government of President Abdu Rabbu Mansour Hadi , who is in exile .</td><td>Mr. Ban had stopped off in Geneva to attend the start of what the United Nations has called “ preliminary inclusive consultations , ” originally intended to start on Sunday , between the Houthi rebel group and the Saudi - backed government of President Abdu Rabbu Mansour Hadi , who is in exile .</td><td>1</td><td>0.0</td><td>0.0</td></tr><tr><td>2</td><td>Mr. Ban met separately on Monday with representatives of the ousted government and ambassadors of the so - called Group of 16 countries that are closely monitoring developments in Yemen , but he had to leave for New York without seeing the Houthi delegation after delays on their journey to Geneva .</td><td>Mr. Ban met separately on Monday with representatives of the ousted government and ambassadors of the so - called Group of 16 countries that are closely monitoring developments in Yemen , but he had to leave for New York without seeing the Houthi delegation after delays on their journey to Geneva .</td><td>2</td><td>0.0</td><td>0.0</td></tr><tr><td>3</td><td>The 23-member Houthi - led delegation , which was understood to also include representatives of former President Ali Abdullah Saleh , initially refused to board the aircraft that was supposed to bring them to Geneva .</td><td>The 23-member Houthi - led delegation , which was understood to also include representatives of former President Ali Abdullah Saleh , initially refused to board the aircraft that was supposed to bring them to Geneva .</td><td>3</td><td>0.0</td><td>0.0</td></tr><tr><td>4</td><td>When they eventually left     Sana  on Sunday , the flight was delayed in Djibouti <span style=\"background-color:rgba(255,0,0,0.3)\">for</span>   what Mr. Ban said were logistical problems .</td><td>When they eventually left <span style=\"background-color:rgba(0,255,0,0.3)\">Yemen </span> <span style=\"background-color:rgba(0,255,0,0.3)\">’s </span> <span style=\"background-color:rgba(0,255,0,0.3)\">capital </span> <span style=\"background-color:rgba(0,255,0,0.3)\">, </span> Sana <span style=\"background-color:rgba(0,255,0,0.3)\">, </span> on Sunday , the flight was delayed in Djibouti  <span style=\"background-color:rgba(0,255,0,0.3)\">because </span> <span style=\"background-color:rgba(0,255,0,0.3)\">of </span> what Mr. Ban said were logistical problems .</td><td>4</td><td>0.26</td><td>0.26</td></tr><tr><td>5</td><td>Mr. Ban told reporters before leaving that the Houthi delegation was scheduled to reach Geneva later in the day , and he warned the parties that quick work toward an agreement was imperative .</td><td>Mr. Ban told reporters before leaving that the Houthi delegation was scheduled to reach Geneva later in the day , and he warned the parties that quick work toward an agreement was imperative .</td><td>5</td><td>0.0</td><td>0.0</td></tr><tr><td>6</td><td>“ Yemen ’s very existence hangs in the balance .</td><td>“ Yemen ’s very existence hangs in the balance .</td><td>6</td><td>0.0</td><td>0.0</td></tr><tr><td>7</td><td>While parties bicker , Yemen burns , ” he told reporters .</td><td>While parties bicker , Yemen burns , ” he told reporters .</td><td>7</td><td>0.0</td><td>0.0</td></tr><tr><td>8</td><td>“ We do n’t have a minute to lose .</td><td>“ We do n’t have a minute to lose .</td><td>8</td><td>0.0</td><td>0.0</td></tr><tr><td>9</td><td>The ticking clock is not a timepiece it ’s a ticking bomb .</td><td>The ticking clock is not a timepiece it ’s a ticking bomb .</td><td>9</td><td>0.0</td><td>0.0</td></tr><tr><td>10</td><td>” Mr. Ban said the goals of the consultations were a humanitarian pause that would allow aid to reach impoverished civilians , a longer  term cease - fire and the resumption of a political dialogue leading to a negotiated solution to the conflict .</td><td>” Mr. Ban said the goals of the consultations were a humanitarian pause that would allow aid to reach impoverished civilians , a longer <span style=\"background-color:rgba(0,255,0,0.3)\">- </span> term cease - fire and the resumption of a political dialogue leading to a negotiated solution to the conflict .</td><td>10</td><td>0.11</td><td>0.11</td></tr><tr><td>11</td><td>But such is the gulf dividing the two sides that the consultations are due to start with “ proximity talks , ” in which the warring factions do not meet face to face but sit in separate rooms as mediators shuttle between them .</td><td>But such is the gulf dividing the two sides that the consultations are due to start with “ proximity talks , ” in which the warring factions do not meet face to face but sit in separate rooms as mediators shuttle between them .</td><td>11</td><td>0.0</td><td>0.0</td></tr><tr><td>12</td><td>As delegates and diplomats assembled in Geneva over the weekend , fierce fighting continued in many areas of Yemen , a nation of 26 million .</td><td>As delegates and diplomats assembled in Geneva over the weekend , fierce fighting continued in many areas of Yemen , a nation of 26 million .</td><td>16</td><td>0.0</td><td>0.0</td></tr><tr><td>13</td><td>Airstrikes by the Saudi - led coalition continued against rebel positions , including in the <span style=\"background-color:rgba(255,0,0,0.3)\">northern</span> province of Saada , the central city of Dhamar and in the province of Jawf   in the northwest , where the Houthis took control of the provincial capital on Sunday .</td><td>Airstrikes by the Saudi - led coalition continued against rebel positions , including in the <span style=\"background-color:rgba(0,255,0,0.3)\">northwestern </span> province of Saada , the central city of Dhamar and in the province of Jawf <span style=\"background-color:rgba(0,255,0,0.3)\">, </span> <span style=\"background-color:rgba(0,255,0,0.3)\">also </span> in the northwest , where the Houthis took control of the provincial capital on Sunday .</td><td>17</td><td>0.13</td><td>0.13</td></tr><tr><td>14</td><td>The United Nations High Commissioner for Human Rights , Zeid Ra’ad al - Hussein , highlighted the urgent need for a cease - fire to ease the plight of civilians facing what aid agencies have warned is a “ catastrophic ” humanitarian situation .</td><td>The United Nations High Commissioner for Human Rights , Zeid Ra’ad al - Hussein , highlighted the urgent need for a cease - fire to ease the plight of civilians facing what aid agencies have warned is a “ catastrophic ” humanitarian situation .</td><td>18</td><td>0.0</td><td>0.0</td></tr><tr><td>15</td><td>Mr. al - Hussein , whose previous comments on the conflict have reportedly angered Saudi Arabia , told the United Nations Human Rights Council that his office had received reports that “ indiscriminate and disproportionate attacks are being used on densely populated areas .</td><td>Mr. al - Hussein , whose previous comments on the conflict have reportedly angered Saudi Arabia , told the United Nations Human Rights Council that his office had received reports that “ indiscriminate and disproportionate attacks are being used on densely populated areas .</td><td>19</td><td>0.0</td><td>0.0</td></tr><tr><td>16</td><td>” The blockade on imports of fuel , food and medicine , which the Saudi - led coalition has maintained in a bid to cut off arms supplies to rebel forces , “ should be lifted immediately , ” Mr. <span style=\"background-color:rgba(255,0,0,0.3)\">al</span> <span style=\"background-color:rgba(255,0,0,0.3)\">-</span> Hussein said .</td><td>” The blockade on imports of fuel , food and medicine , which the Saudi - led coalition has maintained in a bid to cut off arms supplies to rebel forces , “ should be lifted immediately , ” Mr.   Hussein said .</td><td>20</td><td>0.08</td><td>0.08</td></tr><tr><td></td><td>                                                        </td><td><span style=\"background-color:rgba(0,255,0,0.3)\">Mr. </span> <span style=\"background-color:rgba(0,255,0,0.3)\">Hadi </span> <span style=\"background-color:rgba(0,255,0,0.3)\">’s </span> <span style=\"background-color:rgba(0,255,0,0.3)\">foreign </span> <span style=\"background-color:rgba(0,255,0,0.3)\">minister </span> <span style=\"background-color:rgba(0,255,0,0.3)\">, </span> <span style=\"background-color:rgba(0,255,0,0.3)\">Riyadh </span> <span style=\"background-color:rgba(0,255,0,0.3)\">Yaseen </span> <span style=\"background-color:rgba(0,255,0,0.3)\">, </span> <span style=\"background-color:rgba(0,255,0,0.3)\">told </span> <span style=\"background-color:rgba(0,255,0,0.3)\">reporters </span> <span style=\"background-color:rgba(0,255,0,0.3)\">after </span> <span style=\"background-color:rgba(0,255,0,0.3)\">meeting </span> <span style=\"background-color:rgba(0,255,0,0.3)\">Mr. </span> <span style=\"background-color:rgba(0,255,0,0.3)\">Ban </span> <span style=\"background-color:rgba(0,255,0,0.3)\">that </span> <span style=\"background-color:rgba(0,255,0,0.3)\">there </span> <span style=\"background-color:rgba(0,255,0,0.3)\">could </span> <span style=\"background-color:rgba(0,255,0,0.3)\">be </span> <span style=\"background-color:rgba(0,255,0,0.3)\">a </span> <span style=\"background-color:rgba(0,255,0,0.3)\">limited </span> <span style=\"background-color:rgba(0,255,0,0.3)\">cease </span> <span style=\"background-color:rgba(0,255,0,0.3)\">- </span> <span style=\"background-color:rgba(0,255,0,0.3)\">fire </span> <span style=\"background-color:rgba(0,255,0,0.3)\">, </span> <span style=\"background-color:rgba(0,255,0,0.3)\">but </span> <span style=\"background-color:rgba(0,255,0,0.3)\">only </span> <span style=\"background-color:rgba(0,255,0,0.3)\">after </span> <span style=\"background-color:rgba(0,255,0,0.3)\">Houthi </span> <span style=\"background-color:rgba(0,255,0,0.3)\">militias </span> <span style=\"background-color:rgba(0,255,0,0.3)\">had </span> <span style=\"background-color:rgba(0,255,0,0.3)\">withdrawn </span> <span style=\"background-color:rgba(0,255,0,0.3)\">their </span> <span style=\"background-color:rgba(0,255,0,0.3)\">forces </span> <span style=\"background-color:rgba(0,255,0,0.3)\">from </span> <span style=\"background-color:rgba(0,255,0,0.3)\">all </span> <span style=\"background-color:rgba(0,255,0,0.3)\">Yemen </span> <span style=\"background-color:rgba(0,255,0,0.3)\">’s </span> <span style=\"background-color:rgba(0,255,0,0.3)\">cities </span> <span style=\"background-color:rgba(0,255,0,0.3)\">, </span> <span style=\"background-color:rgba(0,255,0,0.3)\">halted </span> <span style=\"background-color:rgba(0,255,0,0.3)\">fighting </span> <span style=\"background-color:rgba(0,255,0,0.3)\">in </span> <span style=\"background-color:rgba(0,255,0,0.3)\">the </span> <span style=\"background-color:rgba(0,255,0,0.3)\">southern </span> <span style=\"background-color:rgba(0,255,0,0.3)\">city </span> <span style=\"background-color:rgba(0,255,0,0.3)\">of </span> <span style=\"background-color:rgba(0,255,0,0.3)\">Aden </span> <span style=\"background-color:rgba(0,255,0,0.3)\">and </span> <span style=\"background-color:rgba(0,255,0,0.3)\">other </span> <span style=\"background-color:rgba(0,255,0,0.3)\">locations </span> <span style=\"background-color:rgba(0,255,0,0.3)\">, </span> <span style=\"background-color:rgba(0,255,0,0.3)\">and </span> <span style=\"background-color:rgba(0,255,0,0.3)\">released </span> <span style=\"background-color:rgba(0,255,0,0.3)\">their </span> <span style=\"background-color:rgba(0,255,0,0.3)\">prisoners </span> <span style=\"background-color:rgba(0,255,0,0.3)\">. </span></td><td>12</td><td></td><td></td></tr><tr><td></td><td>           </td><td><span style=\"background-color:rgba(0,255,0,0.3)\">“ </span> <span style=\"background-color:rgba(0,255,0,0.3)\">Without </span> <span style=\"background-color:rgba(0,255,0,0.3)\">this </span> <span style=\"background-color:rgba(0,255,0,0.3)\">, </span> <span style=\"background-color:rgba(0,255,0,0.3)\">nothing </span> <span style=\"background-color:rgba(0,255,0,0.3)\">can </span> <span style=\"background-color:rgba(0,255,0,0.3)\">happen </span> <span style=\"background-color:rgba(0,255,0,0.3)\">, </span> <span style=\"background-color:rgba(0,255,0,0.3)\">” </span> <span style=\"background-color:rgba(0,255,0,0.3)\">he </span> <span style=\"background-color:rgba(0,255,0,0.3)\">said </span> <span style=\"background-color:rgba(0,255,0,0.3)\">. </span></td><td>13</td><td></td><td></td></tr><tr><td></td><td>              </td><td><span style=\"background-color:rgba(0,255,0,0.3)\">Mr. </span> <span style=\"background-color:rgba(0,255,0,0.3)\">Yaseen </span> <span style=\"background-color:rgba(0,255,0,0.3)\">also </span> <span style=\"background-color:rgba(0,255,0,0.3)\">ruled </span> <span style=\"background-color:rgba(0,255,0,0.3)\">out </span> <span style=\"background-color:rgba(0,255,0,0.3)\">any </span> <span style=\"background-color:rgba(0,255,0,0.3)\">direct </span> <span style=\"background-color:rgba(0,255,0,0.3)\">meeting </span> <span style=\"background-color:rgba(0,255,0,0.3)\">with </span> <span style=\"background-color:rgba(0,255,0,0.3)\">the </span> <span style=\"background-color:rgba(0,255,0,0.3)\">Houthi </span> <span style=\"background-color:rgba(0,255,0,0.3)\">- </span> <span style=\"background-color:rgba(0,255,0,0.3)\">led </span> <span style=\"background-color:rgba(0,255,0,0.3)\">delegation </span> <span style=\"background-color:rgba(0,255,0,0.3)\">. </span></td><td>14</td><td></td><td></td></tr></table>"
      ],
      "text/plain": [
       "<IPython.core.display.HTML object>"
      ]
     },
     "metadata": {},
     "output_type": "display_data"
    }
   ],
   "source": [
    "display(HTML(html_outputs[1]))"
   ]
  },
  {
   "cell_type": "code",
   "execution_count": 171,
   "metadata": {},
   "outputs": [
    {
     "data": {
      "text/html": [
       "<table><tr><th>SIdx Old</th><th>Old Version</th><th>New Version</th><th>SIdx New</th><th>d(X)</th><th>d(Y)</th></tr><tr><th>HEAD</th><th>U.N. Leader Calls Yemen a ‘ Ticking Bomb , ’ Amid Delay in Cease - Fire Talks</th><th>U.N. Leader Calls Yemen a ‘ Ticking Bomb , ’ Amid Delay in Cease - Fire Talks</th><th>HEAD</th><th></th><th></th></tr><tr><td>0</td><td>GENEVA — The United Nations secretary general , Ban Ki - moon , warned that Yemen was a “ ticking bomb , ” as efforts to start talks aimed at achieving at least a cease - fire in the country were further delayed on Monday .</td><td>GENEVA — The United Nations secretary general , Ban Ki - moon , warned that Yemen was a “ ticking bomb , ” as efforts to start talks aimed at achieving at least a cease - fire in the country were further delayed on Monday .</td><td>0</td><td>0.0</td><td>0.0</td></tr><tr><td>1</td><td>Mr. Ban had stopped off in Geneva to attend the start of what the United Nations has called “ preliminary inclusive consultations , ” originally intended to start on Sunday , between the Houthi rebel group and the Saudi - backed government of President Abdu Rabbu Mansour Hadi , who is in exile .</td><td>Mr. Ban had stopped off in Geneva to attend the start of what the United Nations has called “ preliminary inclusive consultations , ” originally intended to start on Sunday , between the Houthi rebel group and the Saudi - backed government of President Abdu Rabbu Mansour Hadi , who is in exile .</td><td>1</td><td>0.0</td><td>0.0</td></tr><tr><td>2</td><td>Mr. Ban met separately on Monday with representatives of the ousted government and ambassadors of the so - called Group of 16 countries that are closely monitoring developments in Yemen , but he had to leave for New York without seeing the Houthi delegation after delays on their journey to Geneva .</td><td>Mr. Ban met separately on Monday with representatives of the ousted government and ambassadors of the so - called Group of 16 countries that are closely monitoring developments in Yemen , but he had to leave for New York without seeing the Houthi delegation after delays on their journey to Geneva .</td><td>2</td><td>0.0</td><td>0.0</td></tr><tr><td>3</td><td>The 23-member Houthi - led delegation , which was understood to also include representatives of former President Ali Abdullah Saleh , initially refused to board the aircraft that was supposed to bring them to Geneva .</td><td>The 23-member Houthi - led delegation , which was understood to also include representatives of former President Ali Abdullah Saleh , initially refused to board the aircraft that was supposed to bring them to Geneva .</td><td>3</td><td>0.0</td><td>0.0</td></tr><tr><td>4</td><td>When they eventually left Yemen ’s capital , Sana , on Sunday , the flight was delayed in Djibouti because of what Mr. Ban said were logistical problems .</td><td>When they eventually left Yemen ’s capital , Sana , on Sunday , the flight was delayed in Djibouti because of what Mr. Ban said were logistical problems .</td><td>4</td><td>0.0</td><td>0.0</td></tr><tr><td>5</td><td>Mr. Ban told reporters before leaving that the Houthi delegation was scheduled to reach Geneva later in the day , and he warned the parties that quick work toward an agreement was imperative .</td><td>Mr. Ban told reporters before leaving that the Houthi delegation was scheduled to reach Geneva later in the day , and he warned the parties that quick work toward an agreement was imperative .</td><td>5</td><td>0.0</td><td>0.0</td></tr><tr><td>6</td><td>“ Yemen ’s very existence hangs in the balance .</td><td>“ Yemen ’s very existence hangs in the balance .</td><td>6</td><td>0.0</td><td>0.0</td></tr><tr><td>7</td><td>While parties bicker , Yemen burns , ” he told reporters .</td><td>While parties bicker , Yemen burns , ” he told reporters .</td><td>7</td><td>0.0</td><td>0.0</td></tr><tr><td>8</td><td>“ We do n’t have a minute to lose .</td><td>“ We do n’t have a minute to lose .</td><td>8</td><td>0.0</td><td>0.0</td></tr><tr><td>9</td><td>The ticking clock is not a timepiece it ’s a ticking bomb .</td><td>The ticking clock is not a timepiece it ’s a ticking bomb .</td><td>9</td><td>0.0</td><td>0.0</td></tr><tr><td>10</td><td>” Mr. Ban said the goals of the consultations were a humanitarian pause that would allow aid to reach impoverished civilians , a longer - term cease - fire and the resumption of a political dialogue leading to a negotiated solution to the conflict .</td><td>” Mr. Ban said the goals of the consultations were a humanitarian pause that would allow aid to reach impoverished civilians , a longer - term cease - fire and the resumption of a political dialogue leading to a negotiated solution to the conflict .</td><td>10</td><td>0.0</td><td>0.0</td></tr><tr><td>11</td><td>But such is the gulf dividing the two sides that the consultations are due to start with “ proximity talks , ” in which the warring factions do not meet face to face but sit in separate rooms as mediators shuttle between them .</td><td>But such is the gulf dividing the two sides that the consultations are due to start with “ proximity talks , ” in which the warring factions do not meet face to face but sit in separate rooms as mediators shuttle between them .</td><td>11</td><td>0.0</td><td>0.0</td></tr><tr><td>12</td><td>Mr. Hadi ’s foreign minister , Riyadh Yaseen , told reporters after meeting Mr. Ban that there could be a limited cease - fire , but only after Houthi militias          had withdrawn their forces from all Yemen ’s cities , halted fighting in the southern city of Aden and other locations , and released their prisoners .</td><td>Mr. Hadi ’s foreign minister , Riyadh Yaseen , told reporters after meeting Mr. Ban that there could be a limited cease - fire , but only after Houthi militias <span style=\"background-color:rgba(0,255,0,0.3)\">, </span> <span style=\"background-color:rgba(0,255,0,0.3)\">who </span> <span style=\"background-color:rgba(0,255,0,0.3)\">are </span> <span style=\"background-color:rgba(0,255,0,0.3)\">from </span> <span style=\"background-color:rgba(0,255,0,0.3)\">the </span> <span style=\"background-color:rgba(0,255,0,0.3)\">north </span> <span style=\"background-color:rgba(0,255,0,0.3)\">of </span> <span style=\"background-color:rgba(0,255,0,0.3)\">Yemen </span> <span style=\"background-color:rgba(0,255,0,0.3)\">, </span> had withdrawn their forces from all Yemen ’s cities , halted fighting in the southern city of Aden and other locations , and released their prisoners .</td><td>12</td><td>0.2</td><td>0.2</td></tr><tr><td>13</td><td>“ Without this , nothing can happen , ” he said .</td><td>“ Without this , nothing can happen , ” he said .</td><td>13</td><td>0.0</td><td>0.0</td></tr><tr><td>14</td><td>Mr. Yaseen also ruled out any direct meeting with the Houthi - led delegation .</td><td>Mr. Yaseen also ruled out any direct meeting with the Houthi - led delegation .</td><td>14</td><td>0.0</td><td>0.0</td></tr><tr><td>15</td><td>“ It is impossible , ” he said .</td><td>“ It is impossible , ” he said .</td><td>15</td><td>0.0</td><td>0.0</td></tr><tr><td>16</td><td>As delegates and diplomats assembled in Geneva over the weekend , fierce fighting continued in many areas of Yemen , a nation of 26 million .</td><td>As delegates and diplomats assembled in Geneva over the weekend , fierce fighting continued in many areas of Yemen , a nation of 26 million .</td><td>16</td><td>0.0</td><td>0.0</td></tr><tr><td>17</td><td>Airstrikes by the Saudi - led coalition continued against rebel positions , including in the northwestern province of Saada , the central city of Dhamar and in the province of Jawf , also in the northwest , where the Houthis took control of the provincial capital on Sunday .</td><td>Airstrikes by the Saudi - led coalition continued against rebel positions , including in the northwestern province of Saada , the central city of Dhamar and in the province of Jawf , also in the northwest , where the Houthis took control of the provincial capital on Sunday .</td><td>17</td><td>0.0</td><td>0.0</td></tr><tr><td>18</td><td>The United Nations High Commissioner for Human Rights , Zeid Ra’ad al - Hussein , highlighted the urgent need for a cease - fire to ease the plight of civilians facing what aid agencies have warned is a “ catastrophic ” humanitarian situation .</td><td>The United Nations High Commissioner for Human Rights , Zeid Ra’ad al - Hussein , highlighted the urgent need for a cease - fire to ease the plight of civilians facing what aid agencies have warned is a “ catastrophic ” humanitarian situation .</td><td>18</td><td>0.0</td><td>0.0</td></tr><tr><td>19</td><td>Mr. al - Hussein , whose previous comments on the conflict have reportedly angered Saudi Arabia , told the United Nations Human Rights Council that his office had received reports that “ indiscriminate and disproportionate attacks are being used on densely populated areas .</td><td>Mr. al - Hussein , whose previous comments on the conflict have reportedly angered Saudi Arabia , told the United Nations Human Rights Council that his office had received reports that “ indiscriminate and disproportionate attacks are being used on densely populated areas .</td><td>19</td><td>0.0</td><td>0.0</td></tr><tr><td>20</td><td>” The blockade on imports of fuel , food and medicine , which the Saudi - led coalition has maintained in a bid to cut off arms supplies to rebel forces , “ should be lifted immediately , ” Mr. Hussein said .</td><td>” The blockade on imports of fuel , food and medicine , which the Saudi - led coalition has maintained in a bid to cut off arms supplies to rebel forces , “ should be lifted immediately , ” Mr. Hussein said .</td><td>20</td><td>0.0</td><td>0.0</td></tr><tr><td></td><td>                    </td><td><span style=\"background-color:rgba(0,255,0,0.3)\">The </span> <span style=\"background-color:rgba(0,255,0,0.3)\">exclusion </span> <span style=\"background-color:rgba(0,255,0,0.3)\">from </span> <span style=\"background-color:rgba(0,255,0,0.3)\">the </span> <span style=\"background-color:rgba(0,255,0,0.3)\">talks </span> <span style=\"background-color:rgba(0,255,0,0.3)\">of </span> <span style=\"background-color:rgba(0,255,0,0.3)\">many </span> <span style=\"background-color:rgba(0,255,0,0.3)\">of </span> <span style=\"background-color:rgba(0,255,0,0.3)\">the </span> <span style=\"background-color:rgba(0,255,0,0.3)\">armed </span> <span style=\"background-color:rgba(0,255,0,0.3)\">factions </span> <span style=\"background-color:rgba(0,255,0,0.3)\">further </span> <span style=\"background-color:rgba(0,255,0,0.3)\">complicated </span> <span style=\"background-color:rgba(0,255,0,0.3)\">the </span> <span style=\"background-color:rgba(0,255,0,0.3)\">prospects </span> <span style=\"background-color:rgba(0,255,0,0.3)\">for </span> <span style=\"background-color:rgba(0,255,0,0.3)\">any </span> <span style=\"background-color:rgba(0,255,0,0.3)\">cease </span> <span style=\"background-color:rgba(0,255,0,0.3)\">- </span> <span style=\"background-color:rgba(0,255,0,0.3)\">fire </span> <span style=\"background-color:rgba(0,255,0,0.3)\">. </span></td><td>21</td><td></td><td></td></tr><tr><td></td><td>                                   </td><td><span style=\"background-color:rgba(0,255,0,0.3)\">In </span> <span style=\"background-color:rgba(0,255,0,0.3)\">southern </span> <span style=\"background-color:rgba(0,255,0,0.3)\">Yemen </span> <span style=\"background-color:rgba(0,255,0,0.3)\">, </span> <span style=\"background-color:rgba(0,255,0,0.3)\">where </span> <span style=\"background-color:rgba(0,255,0,0.3)\">armed </span> <span style=\"background-color:rgba(0,255,0,0.3)\">separatists </span> <span style=\"background-color:rgba(0,255,0,0.3)\">and </span> <span style=\"background-color:rgba(0,255,0,0.3)\">Sunni </span> <span style=\"background-color:rgba(0,255,0,0.3)\">tribesmen </span> <span style=\"background-color:rgba(0,255,0,0.3)\">are </span> <span style=\"background-color:rgba(0,255,0,0.3)\">fighting </span> <span style=\"background-color:rgba(0,255,0,0.3)\">the </span> <span style=\"background-color:rgba(0,255,0,0.3)\">Houthi </span> <span style=\"background-color:rgba(0,255,0,0.3)\">advance </span> <span style=\"background-color:rgba(0,255,0,0.3)\">, </span> <span style=\"background-color:rgba(0,255,0,0.3)\">separatists </span> <span style=\"background-color:rgba(0,255,0,0.3)\">who </span> <span style=\"background-color:rgba(0,255,0,0.3)\">said </span> <span style=\"background-color:rgba(0,255,0,0.3)\">they </span> <span style=\"background-color:rgba(0,255,0,0.3)\">were </span> <span style=\"background-color:rgba(0,255,0,0.3)\">not </span> <span style=\"background-color:rgba(0,255,0,0.3)\">represented </span> <span style=\"background-color:rgba(0,255,0,0.3)\">in </span> <span style=\"background-color:rgba(0,255,0,0.3)\">Geneva </span> <span style=\"background-color:rgba(0,255,0,0.3)\">vowed </span> <span style=\"background-color:rgba(0,255,0,0.3)\">to </span> <span style=\"background-color:rgba(0,255,0,0.3)\">continue </span> <span style=\"background-color:rgba(0,255,0,0.3)\">fighting </span> <span style=\"background-color:rgba(0,255,0,0.3)\">until </span> <span style=\"background-color:rgba(0,255,0,0.3)\">they </span> <span style=\"background-color:rgba(0,255,0,0.3)\">had </span> <span style=\"background-color:rgba(0,255,0,0.3)\">vanquished </span> <span style=\"background-color:rgba(0,255,0,0.3)\">the </span> <span style=\"background-color:rgba(0,255,0,0.3)\">northerners </span> <span style=\"background-color:rgba(0,255,0,0.3)\">. </span></td><td>22</td><td></td><td></td></tr><tr><td></td><td>                                                 </td><td><span style=\"background-color:rgba(0,255,0,0.3)\">Brigadier </span> <span style=\"background-color:rgba(0,255,0,0.3)\">Ali </span> <span style=\"background-color:rgba(0,255,0,0.3)\">Al </span> <span style=\"background-color:rgba(0,255,0,0.3)\">Saadi </span> <span style=\"background-color:rgba(0,255,0,0.3)\">, </span> <span style=\"background-color:rgba(0,255,0,0.3)\">a </span> <span style=\"background-color:rgba(0,255,0,0.3)\">founding </span> <span style=\"background-color:rgba(0,255,0,0.3)\">member </span> <span style=\"background-color:rgba(0,255,0,0.3)\">of </span> <span style=\"background-color:rgba(0,255,0,0.3)\">the </span> <span style=\"background-color:rgba(0,255,0,0.3)\">separatist </span> <span style=\"background-color:rgba(0,255,0,0.3)\">Southern </span> <span style=\"background-color:rgba(0,255,0,0.3)\">Movement </span> <span style=\"background-color:rgba(0,255,0,0.3)\">, </span> <span style=\"background-color:rgba(0,255,0,0.3)\">speaking </span> <span style=\"background-color:rgba(0,255,0,0.3)\">in </span> <span style=\"background-color:rgba(0,255,0,0.3)\">a </span> <span style=\"background-color:rgba(0,255,0,0.3)\">telephone </span> <span style=\"background-color:rgba(0,255,0,0.3)\">interview </span> <span style=\"background-color:rgba(0,255,0,0.3)\">from </span> <span style=\"background-color:rgba(0,255,0,0.3)\">a </span> <span style=\"background-color:rgba(0,255,0,0.3)\">battlefield </span> <span style=\"background-color:rgba(0,255,0,0.3)\">in </span> <span style=\"background-color:rgba(0,255,0,0.3)\">the </span> <span style=\"background-color:rgba(0,255,0,0.3)\">southern </span> <span style=\"background-color:rgba(0,255,0,0.3)\">Abyan </span> <span style=\"background-color:rgba(0,255,0,0.3)\">province </span> <span style=\"background-color:rgba(0,255,0,0.3)\">, </span> <span style=\"background-color:rgba(0,255,0,0.3)\">dismissed </span> <span style=\"background-color:rgba(0,255,0,0.3)\">the </span> <span style=\"background-color:rgba(0,255,0,0.3)\">talks </span> <span style=\"background-color:rgba(0,255,0,0.3)\">as </span> <span style=\"background-color:rgba(0,255,0,0.3)\">a </span> <span style=\"background-color:rgba(0,255,0,0.3)\">repeat </span> <span style=\"background-color:rgba(0,255,0,0.3)\">of </span> <span style=\"background-color:rgba(0,255,0,0.3)\">previous </span> <span style=\"background-color:rgba(0,255,0,0.3)\">failed </span> <span style=\"background-color:rgba(0,255,0,0.3)\">negotiations </span> <span style=\"background-color:rgba(0,255,0,0.3)\">that </span> <span style=\"background-color:rgba(0,255,0,0.3)\">he </span> <span style=\"background-color:rgba(0,255,0,0.3)\">said </span> <span style=\"background-color:rgba(0,255,0,0.3)\">were </span> <span style=\"background-color:rgba(0,255,0,0.3)\">intended </span> <span style=\"background-color:rgba(0,255,0,0.3)\">to </span> <span style=\"background-color:rgba(0,255,0,0.3)\">“ </span> <span style=\"background-color:rgba(0,255,0,0.3)\">legalise </span> <span style=\"background-color:rgba(0,255,0,0.3)\">the </span> <span style=\"background-color:rgba(0,255,0,0.3)\">northern </span> <span style=\"background-color:rgba(0,255,0,0.3)\">occupation </span> <span style=\"background-color:rgba(0,255,0,0.3)\">. </span></td><td>23</td><td></td><td></td></tr><tr><td></td><td>                     </td><td><span style=\"background-color:rgba(0,255,0,0.3)\">” </span> <span style=\"background-color:rgba(0,255,0,0.3)\">“ </span> <span style=\"background-color:rgba(0,255,0,0.3)\">We </span> <span style=\"background-color:rgba(0,255,0,0.3)\">stick </span> <span style=\"background-color:rgba(0,255,0,0.3)\">to </span> <span style=\"background-color:rgba(0,255,0,0.3)\">our </span> <span style=\"background-color:rgba(0,255,0,0.3)\">demand </span> <span style=\"background-color:rgba(0,255,0,0.3)\">for </span> <span style=\"background-color:rgba(0,255,0,0.3)\">liberation </span> <span style=\"background-color:rgba(0,255,0,0.3)\">and </span> <span style=\"background-color:rgba(0,255,0,0.3)\">freedom </span> <span style=\"background-color:rgba(0,255,0,0.3)\">and </span> <span style=\"background-color:rgba(0,255,0,0.3)\">regaining </span> <span style=\"background-color:rgba(0,255,0,0.3)\">the </span> <span style=\"background-color:rgba(0,255,0,0.3)\">independent </span> <span style=\"background-color:rgba(0,255,0,0.3)\">south </span> <span style=\"background-color:rgba(0,255,0,0.3)\">state </span> <span style=\"background-color:rgba(0,255,0,0.3)\">, </span> <span style=\"background-color:rgba(0,255,0,0.3)\">” </span> <span style=\"background-color:rgba(0,255,0,0.3)\">he </span> <span style=\"background-color:rgba(0,255,0,0.3)\">said </span> <span style=\"background-color:rgba(0,255,0,0.3)\">. </span></td><td>24</td><td></td><td></td></tr></table>"
      ],
      "text/plain": [
       "<IPython.core.display.HTML object>"
      ]
     },
     "metadata": {},
     "output_type": "display_data"
    }
   ],
   "source": [
    "display(HTML(html_outputs[2]))"
   ]
  },
  {
   "cell_type": "code",
   "execution_count": null,
   "metadata": {},
   "outputs": [],
   "source": []
  }
 ],
 "metadata": {
  "hide_input": false,
  "kernelspec": {
   "display_name": "Python 3",
   "language": "python",
   "name": "python3"
  },
  "language_info": {
   "codemirror_mode": {
    "name": "ipython",
    "version": 3
   },
   "file_extension": ".py",
   "mimetype": "text/x-python",
   "name": "python",
   "nbconvert_exporter": "python",
   "pygments_lexer": "ipython3",
   "version": "3.7.6"
  }
 },
 "nbformat": 4,
 "nbformat_minor": 4
}
