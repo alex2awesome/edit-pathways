{
 "cells": [
  {
   "cell_type": "code",
   "execution_count": 3,
   "metadata": {},
   "outputs": [],
   "source": [
    "import pandas as pd \n",
    "import glob\n",
    "import sqlite3"
   ]
  },
  {
   "cell_type": "code",
   "execution_count": 6,
   "metadata": {},
   "outputs": [],
   "source": [
    "to_run = glob.glob('../data/diffengine-diffs/spark-output/*')"
   ]
  },
  {
   "cell_type": "code",
   "execution_count": 4,
   "metadata": {},
   "outputs": [],
   "source": [
    "all_added_sents = []"
   ]
  },
  {
   "cell_type": "code",
   "execution_count": 5,
   "metadata": {},
   "outputs": [],
   "source": [
    "conn=sqlite3.connect(to_run[3])"
   ]
  },
  {
   "cell_type": "code",
   "execution_count": 13,
   "metadata": {},
   "outputs": [
    {
     "name": "stdout",
     "output_type": "stream",
     "text": [
      "2021-01-07__ap-article-diffs-sample.pkl\r\n",
      "2021-01-07__ap-article-diffs.pkl\r\n",
      "all-short-documents-eval-processed.pkl\r\n",
      "all_del_df.csv\r\n",
      "all_new_df.csv\r\n",
      "all_num_sents_df.csv\r\n",
      "all_perc_new_df.csv\r\n",
      "raw-counts.csv\r\n",
      "sample-ids-sentence-stats-df.csv\r\n",
      "sample-ids-word-stats-df.csv\r\n",
      "wp-sentence-diffs.csv\r\n"
     ]
    }
   ],
   "source": [
    "ls cache/"
   ]
  },
  {
   "cell_type": "code",
   "execution_count": 16,
   "metadata": {},
   "outputs": [
    {
     "name": "stdout",
     "output_type": "stream",
     "text": [
      "../data/diffengine-diffs/spark-output/wp-matched-sentences.db\n",
      "Total sents: 3200896\n",
      "0\n",
      "../data/diffengine-diffs/spark-output/independent-matched-sentences.db\n",
      "Total sents: 3484388\n",
      "0\n",
      "../data/diffengine-diffs/spark-output/reuters-matched-sentences.db\n",
      "Total sents: 3626376\n",
      "0\n",
      "../data/diffengine-diffs/spark-output/guardian-matched-sentences.db\n",
      "Total sents: 32780166\n",
      "0\n",
      "1\n",
      "2\n",
      "3\n",
      "4\n",
      "5\n",
      "6\n",
      "../data/diffengine-diffs/spark-output/nyt-matched-sentences.db\n",
      "Total sents: 20561360\n",
      "0\n",
      "1\n",
      "2\n",
      "3\n",
      "4\n",
      "../data/diffengine-diffs/spark-output/bbc-2-matched-sentences.db\n",
      "Total sents: 15724670\n",
      "0\n",
      "1\n",
      "2\n",
      "3\n",
      "../data/diffengine-diffs/spark-output/ap-matched-sentences.db\n",
      "Total sents: 2385991\n",
      "0\n"
     ]
    }
   ],
   "source": [
    "for f in to_run:\n",
    "    print(f)\n",
    "    conn = sqlite3.connect(f)\n",
    "    source = f.split('/')[-1].split('-')[0]\n",
    "    sent_count = pd.read_sql('''SELECT COUNT(*) as c from split_sentences''', con=conn)['c'].iloc[0]\n",
    "    print('Total sents: %s' % sent_count)\n",
    "    for file_idx, start_idx in enumerate(range(0, sent_count, 5_000_000)):\n",
    "        print(file_idx)\n",
    "        sents = pd.read_sql('select * from split_sentences LIMIT 5000000 OFFSET %s' % start_idx, con=conn)\n",
    "        sents.to_pickle('cache/%s-sents__%s.pkl' % (source, file_idx))"
   ]
  },
  {
   "cell_type": "code",
   "execution_count": 8,
   "metadata": {},
   "outputs": [],
   "source": []
  },
  {
   "cell_type": "code",
   "execution_count": null,
   "metadata": {},
   "outputs": [],
   "source": []
  },
  {
   "cell_type": "code",
   "execution_count": null,
   "metadata": {},
   "outputs": [],
   "source": []
  },
  {
   "cell_type": "code",
   "execution_count": null,
   "metadata": {},
   "outputs": [],
   "source": []
  },
  {
   "cell_type": "code",
   "execution_count": null,
   "metadata": {},
   "outputs": [],
   "source": []
  },
  {
   "cell_type": "code",
   "execution_count": null,
   "metadata": {},
   "outputs": [],
   "source": [
    "bbc_sents = pd.read_sql('select * from split_sentences', con=conn)"
   ]
  },
  {
   "cell_type": "code",
   "execution_count": 8,
   "metadata": {},
   "outputs": [
    {
     "name": "stdout",
     "output_type": "stream",
     "text": [
      "../data/diffengine-diffs/spark-output/wp-matched-sentences.db\n",
      "../data/diffengine-diffs/spark-output/independent-matched-sentences.db\n",
      "../data/diffengine-diffs/spark-output/reuters-matched-sentences.db\n",
      "../data/diffengine-diffs/spark-output/guardian-matched-sentences.db\n",
      "../data/diffengine-diffs/spark-output/nyt-matched-sentences.db\n",
      "../data/diffengine-diffs/spark-output/bbc-2-matched-sentences.db\n",
      "../data/diffengine-diffs/spark-output/ap-matched-sentences.db\n"
     ]
    }
   ],
   "source": [
    "all_added_sents = []\n",
    "for f in to_run:\n",
    "    print(f)\n",
    "    if '.gz' in f:\n",
    "        ! gunzip $f\n",
    "    f = f.replace('.gz', '')\n",
    "    conn = sqlite3.connect(f)\n",
    "#     add_info = pd.read_sql('''\n",
    "#         with is_added as (\n",
    "#                 SELECT entry_id, \n",
    "#                 version_y as version, \n",
    "#                 sent_idx_y as sent_idx, \n",
    "#                 0 as is_deleted,\n",
    "#                 CAST((sent_idx_x IS NULL) AS INT) AS is_added\n",
    "#             FROM matched_sentences\n",
    "#                 WHERE is_added = 1\n",
    "#         )\n",
    "#         SELECT s.* from split_sentences s \n",
    "#         JOIN is_added a\n",
    "#         ON a.entry_id = s.entry_id AND a.version = s.version AND a.sent_idx = s.sent_idx\n",
    "#     ''', con=conn)\n",
    "    add_info = pd.read_sql('''\n",
    "        SELECT entry_id, \n",
    "        version_y as version, \n",
    "        sent_idx_y as sent_idx, \n",
    "        CAST((sent_idx_x IS NULL) AS INT) AS is_added\n",
    "    FROM matched_sentences\n",
    "        WHERE is_added = 1\n",
    "''', con=conn)\n",
    "    add_info['source'] = f.split('/')[-1].split('-')[0]\n",
    "    all_added_sents.append(add_info)"
   ]
  },
  {
   "cell_type": "code",
   "execution_count": 9,
   "metadata": {},
   "outputs": [],
   "source": [
    "all_added_idx_df = pd.concat(all_added_sents)"
   ]
  },
  {
   "cell_type": "code",
   "execution_count": 10,
   "metadata": {},
   "outputs": [],
   "source": [
    "from tqdm.auto import tqdm"
   ]
  },
  {
   "cell_type": "code",
   "execution_count": 11,
   "metadata": {},
   "outputs": [
    {
     "data": {
      "application/vnd.jupyter.widget-view+json": {
       "model_id": "3f4587bccd5047da8a898b5cc067c404",
       "version_major": 2,
       "version_minor": 0
      },
      "text/plain": [
       "  0%|          | 0/20 [00:00<?, ?it/s]"
      ]
     },
     "metadata": {},
     "output_type": "display_data"
    }
   ],
   "source": [
    "all_sents = []\n",
    "for sent_pkl in tqdm(glob.glob('cache/*sents__*.pkl')):\n",
    "    sents_df = pd.read_pickle(sent_pkl)\n",
    "    source = sent_pkl.split('/')[1].split('-')[0]\n",
    "    source_added_idx = all_added_idx_df.loc[lambda df: df['source'] == source]\n",
    "    source_sents = (\n",
    "        source_added_idx\n",
    "            .merge(sents_df,\n",
    "                right_on=['entry_id', 'version', 'sent_idx'],\n",
    "                left_on=['entry_id', 'version', 'sent_idx']\n",
    "            )\n",
    "    )\n",
    "    all_sents.append(source_sents)"
   ]
  },
  {
   "cell_type": "code",
   "execution_count": 12,
   "metadata": {},
   "outputs": [],
   "source": [
    "all_added_sents_df = pd.concat(all_sents)"
   ]
  },
  {
   "cell_type": "code",
   "execution_count": 13,
   "metadata": {},
   "outputs": [
    {
     "data": {
      "text/plain": [
       "(4273001, 6)"
      ]
     },
     "execution_count": 13,
     "metadata": {},
     "output_type": "execute_result"
    }
   ],
   "source": [
    "all_added_sents_df.shape"
   ]
  },
  {
   "cell_type": "code",
   "execution_count": 14,
   "metadata": {},
   "outputs": [
    {
     "name": "stderr",
     "output_type": "stream",
     "text": [
      "/Users/alex/opt/anaconda3/lib/python3.7/site-packages/ipykernel_launcher.py:5: FutureWarning: The default value of regex will change from True to False in a future version.\n",
      "  \"\"\"\n"
     ]
    }
   ],
   "source": [
    "all_added_sents_df['sentence'] = (\n",
    "    all_added_sents_df['sentence']\n",
    "        .str.replace('<p>', '')\n",
    "        .str.replace('</p>', '')\n",
    "        .str.replace('\\s+', ' ')\n",
    "        .str.strip()\n",
    ")"
   ]
  },
  {
   "cell_type": "markdown",
   "metadata": {},
   "source": [
    "# EDA to do:\n",
    "* Corrections\n",
    "* Quotes\n",
    "* Contributor Lines\n",
    "* Headline Changes"
   ]
  },
  {
   "cell_type": "markdown",
   "metadata": {},
   "source": [
    "### Corrections"
   ]
  },
  {
   "cell_type": "code",
   "execution_count": 15,
   "metadata": {},
   "outputs": [],
   "source": [
    "correction = (all_added_sents_df['sentence']\n",
    " .loc[lambda s: s.str.contains('Correction')]\n",
    " .loc[lambda s: ~s.str.lower().str.contains('correctional')]\n",
    ")"
   ]
  },
  {
   "cell_type": "code",
   "execution_count": 31,
   "metadata": {},
   "outputs": [],
   "source": [
    "corrected = all_added_sents_df['sentence'].loc[lambda s: s.str.lower().str.contains('corrected')]\n",
    "revised = all_added_sents_df['sentence'].loc[lambda s: s.str.lower().str.contains('revised')]\n",
    "amended = all_added_sents_df['sentence'].loc[lambda s: s.str.lower().str.contains('article was')]\n",
    "clarification = all_added_sents_df['sentence'].loc[lambda s: s.str.lower().str.contains('clarification')]\n",
    "error = all_added_sents_df['sentence'].loc[lambda s: s.str.lower().str.contains(' error ')]\n",
    "earlier_version = all_added_sents_df['sentence'].loc[lambda s: s.str.lower().str.contains('earlier version')]\n",
    "earlier_article = all_added_sents_df['sentence'].loc[lambda s: s.str.lower().str.contains('earlier article')]"
   ]
  },
  {
   "cell_type": "code",
   "execution_count": 32,
   "metadata": {},
   "outputs": [],
   "source": [
    "all_corrected_sents = pd.concat([corrected, correction, revised, error, amended, earlier_version, earlier_article]).drop_duplicates()"
   ]
  },
  {
   "cell_type": "code",
   "execution_count": null,
   "metadata": {},
   "outputs": [],
   "source": []
  },
  {
   "cell_type": "code",
   "execution_count": 37,
   "metadata": {},
   "outputs": [
    {
     "data": {
      "text/plain": [
       "\"Correction 7 March 2012: An earlier version of this story mistakenly said Rushbrook's car had been travelling at 140mph at the time of the crash.\""
      ]
     },
     "execution_count": 37,
     "metadata": {},
     "output_type": "execute_result"
    }
   ],
   "source": [
    "earlier_version.iloc[10]"
   ]
  },
  {
   "cell_type": "code",
   "execution_count": 34,
   "metadata": {},
   "outputs": [
    {
     "data": {
      "text/plain": [
       "(14348,)"
      ]
     },
     "execution_count": 34,
     "metadata": {},
     "output_type": "execute_result"
    }
   ],
   "source": [
    "all_corrected_sents.shape"
   ]
  },
  {
   "cell_type": "code",
   "execution_count": null,
   "metadata": {},
   "outputs": [],
   "source": []
  },
  {
   "cell_type": "code",
   "execution_count": null,
   "metadata": {},
   "outputs": [],
   "source": []
  },
  {
   "cell_type": "code",
   "execution_count": null,
   "metadata": {},
   "outputs": [],
   "source": [
    "# ask gabe: what are other standard ways a correction is issued? "
   ]
  },
  {
   "cell_type": "markdown",
   "metadata": {},
   "source": [
    "### Quotes"
   ]
  },
  {
   "cell_type": "code",
   "execution_count": 60,
   "metadata": {},
   "outputs": [],
   "source": [
    "# import sys\n",
    "# sys.path.append('../../source-exploration/scripts/')\n",
    "# import util as source_utils"
   ]
  },
  {
   "cell_type": "code",
   "execution_count": 24,
   "metadata": {},
   "outputs": [],
   "source": [
    "def get_quotes_method_2(doc):\n",
    "    \"\"\"Get quoted people by finding the nsubj of a 'say', 'said' or 'according to' verb.\"\"\"\n",
    "    ## extract quotes\n",
    "    def default_entry():\n",
    "        return {'background sentence': [], 'quote sentence': []}\n",
    "    entities = {}\n",
    "\n",
    "    signifiers = [' say ', ' said ', ' says ']#, ' according to ']\n",
    "    seen = set()\n",
    "    ## get quotes\n",
    "    for s_idx, sent in enumerate(doc.sents):\n",
    "        ## \n",
    "        text_sentence = ' '.join([word.text for word in sent]).strip()\n",
    "\n",
    "        ## hack to pick up common phrasal signifiers\n",
    "#         if 'according to' in text_sentence:\n",
    "#             sent = nlp(text_sentence.replace('according to', 'said'))\n",
    "\n",
    "        ## extract all nsubj of VERB if VERB is 'said', 'says' or 'say'\n",
    "        nsubjs = []\n",
    "        for possible_subject in sent:\n",
    "            if (\n",
    "                possible_subject.dep_ == 'nsubj' and \n",
    "                possible_subject.head.pos_ == 'VERB' and \n",
    "                possible_subject.head.text in ('say', 'says', 'said')\n",
    "            ):\n",
    "                nsubjs.append(possible_subject.text)\n",
    "                if possible_subject.text not in entities:\n",
    "                    entities[possible_subject.text] = default_entry()\n",
    "                entities[possible_subject.text]['quote sentence'].append((s_idx, text_sentence))\n",
    "                \n",
    "        for noun_phrase in sent.noun_chunks:\n",
    "            for nsubj in nsubjs:\n",
    "                if nsubj in noun_phrase.text:\n",
    "                    if noun_phrase.text not in entities:\n",
    "                        entities[noun_phrase.text] = default_entry()\n",
    "                    entities[noun_phrase.text]['quote sentence'].append((s_idx, text_sentence))\n",
    "                    seen.add(s_idx)\n",
    "\n",
    "    ## get background\n",
    "    for s_idx, sent in enumerate(doc.sents):\n",
    "        if s_idx not in seen:\n",
    "            ## get person-entities\n",
    "            for ent in sent.ents:\n",
    "                if ent.label_ == 'PERSON':\n",
    "                    if ent.text not in entities:\n",
    "                        entities[ent.text] = default_entry()\n",
    "                    entities[ent.text]['background sentence'].append((s_idx, text_sentence))\n",
    "    \n",
    "    return entities"
   ]
  },
  {
   "cell_type": "code",
   "execution_count": null,
   "metadata": {},
   "outputs": [],
   "source": []
  },
  {
   "cell_type": "code",
   "execution_count": 25,
   "metadata": {},
   "outputs": [],
   "source": [
    "from collections import defaultdict"
   ]
  },
  {
   "cell_type": "code",
   "execution_count": 26,
   "metadata": {},
   "outputs": [],
   "source": [
    "import spacy\n",
    "nlp = spacy.load('en_core_web_sm')"
   ]
  },
  {
   "cell_type": "code",
   "execution_count": 27,
   "metadata": {},
   "outputs": [],
   "source": [
    "from joblib import Parallel, delayed\n",
    "\n",
    "def chunker(iterable, total_length, chunksize):\n",
    "    return (iterable[pos: pos + chunksize] for pos in range(0, total_length, chunksize))\n",
    "\n",
    "def flatten(list_of_lists):\n",
    "    \"Flatten a list of lists to a combined list\"\n",
    "    return [item for sublist in list_of_lists for item in sublist]\n",
    "\n",
    "def process_chunk(texts):\n",
    "    all_entities = []\n",
    "    for doc in nlp.pipe(texts, disable=[\"tok2vec\", \"attribute_ruler\"], batch_size=200):\n",
    "        entities = get_quotes_method_2(doc)\n",
    "        all_entities.append(entities)\n",
    "    return all_entities\n",
    "\n",
    "def preprocess_parallel(df, chunksize=1000):\n",
    "    executor = Parallel(n_jobs=7, backend='multiprocessing', prefer=\"processes\")\n",
    "    do = delayed(process_chunk)\n",
    "    tasks = (do(chunk) for chunk in tqdm(\n",
    "        chunker(df['sentence'].tolist(), len(df), chunksize=chunksize),\n",
    "        total=int(len(df) / chunksize)\n",
    "    )\n",
    "            )\n",
    "    result = executor(tasks)\n",
    "    return flatten(result)"
   ]
  },
  {
   "cell_type": "code",
   "execution_count": 8,
   "metadata": {},
   "outputs": [
    {
     "name": "stderr",
     "output_type": "stream",
     "text": [
      "/Users/alex/opt/anaconda3/lib/python3.7/site-packages/IPython/core/interactiveshell.py:3331: DtypeWarning: Columns (0,1,4,5) have mixed types.Specify dtype option on import or set low_memory=False.\n",
      "  exec(code_obj, self.user_global_ns, self.user_ns)\n"
     ]
    }
   ],
   "source": [
    "sentence_df = pd.read_csv('../modeling/data/sentence-df-for-discourse-modeling.csv', index_col=0)"
   ]
  },
  {
   "cell_type": "code",
   "execution_count": 11,
   "metadata": {},
   "outputs": [],
   "source": [
    "add_del_sent_df = pd.read_csv('cache/add-del-sent-df.csv', index_col=0)"
   ]
  },
  {
   "cell_type": "code",
   "execution_count": 15,
   "metadata": {},
   "outputs": [],
   "source": [
    "add_del_sent_df_w_sents = add_del_sent_df.merge(\n",
    "    sentence_df, \n",
    "    left_on=['source','entry_id', 'version', 'sent_idx'],\n",
    "    right_on=['source', 'entry_id', 'version', 'sent_idx']\n",
    ")"
   ]
  },
  {
   "cell_type": "code",
   "execution_count": 16,
   "metadata": {},
   "outputs": [
    {
     "data": {
      "text/html": [
       "<div>\n",
       "<style scoped>\n",
       "    .dataframe tbody tr th:only-of-type {\n",
       "        vertical-align: middle;\n",
       "    }\n",
       "\n",
       "    .dataframe tbody tr th {\n",
       "        vertical-align: top;\n",
       "    }\n",
       "\n",
       "    .dataframe thead th {\n",
       "        text-align: right;\n",
       "    }\n",
       "</style>\n",
       "<table border=\"1\" class=\"dataframe\">\n",
       "  <thead>\n",
       "    <tr style=\"text-align: right;\">\n",
       "      <th></th>\n",
       "      <th>entry_id</th>\n",
       "      <th>version</th>\n",
       "      <th>sent_idx</th>\n",
       "      <th>is_deleted</th>\n",
       "      <th>is_added</th>\n",
       "      <th>source</th>\n",
       "      <th>sentence</th>\n",
       "    </tr>\n",
       "  </thead>\n",
       "  <tbody>\n",
       "    <tr>\n",
       "      <th>0</th>\n",
       "      <td>1258519</td>\n",
       "      <td>1</td>\n",
       "      <td>5.0</td>\n",
       "      <td>0</td>\n",
       "      <td>1</td>\n",
       "      <td>wp</td>\n",
       "      <td>[James Comey needs to clean up his mess.</td>\n",
       "    </tr>\n",
       "    <tr>\n",
       "      <th>1</th>\n",
       "      <td>1284290</td>\n",
       "      <td>1</td>\n",
       "      <td>6.0</td>\n",
       "      <td>0</td>\n",
       "      <td>1</td>\n",
       "      <td>wp</td>\n",
       "      <td>[What happens if Trump keeps interfering with ...</td>\n",
       "    </tr>\n",
       "  </tbody>\n",
       "</table>\n",
       "</div>"
      ],
      "text/plain": [
       "  entry_id  version  sent_idx  is_deleted  is_added source  \\\n",
       "0  1258519        1       5.0           0         1     wp   \n",
       "1  1284290        1       6.0           0         1     wp   \n",
       "\n",
       "                                            sentence  \n",
       "0           [James Comey needs to clean up his mess.  \n",
       "1  [What happens if Trump keeps interfering with ...  "
      ]
     },
     "execution_count": 16,
     "metadata": {},
     "output_type": "execute_result"
    }
   ],
   "source": [
    "add_del_sent_df_w_sents.head(2)"
   ]
  },
  {
   "cell_type": "code",
   "execution_count": 17,
   "metadata": {},
   "outputs": [],
   "source": [
    "del_sents = add_del_sent_df_w_sents.loc[lambda df: df['is_deleted'] == 1]"
   ]
  },
  {
   "cell_type": "code",
   "execution_count": 18,
   "metadata": {},
   "outputs": [
    {
     "data": {
      "text/html": [
       "<div>\n",
       "<style scoped>\n",
       "    .dataframe tbody tr th:only-of-type {\n",
       "        vertical-align: middle;\n",
       "    }\n",
       "\n",
       "    .dataframe tbody tr th {\n",
       "        vertical-align: top;\n",
       "    }\n",
       "\n",
       "    .dataframe thead th {\n",
       "        text-align: right;\n",
       "    }\n",
       "</style>\n",
       "<table border=\"1\" class=\"dataframe\">\n",
       "  <thead>\n",
       "    <tr style=\"text-align: right;\">\n",
       "      <th></th>\n",
       "      <th>entry_id</th>\n",
       "      <th>version</th>\n",
       "      <th>sent_idx</th>\n",
       "      <th>is_deleted</th>\n",
       "      <th>is_added</th>\n",
       "      <th>source</th>\n",
       "      <th>sentence</th>\n",
       "    </tr>\n",
       "  </thead>\n",
       "  <tbody>\n",
       "    <tr>\n",
       "      <th>46</th>\n",
       "      <td>1284231</td>\n",
       "      <td>3</td>\n",
       "      <td>4.0</td>\n",
       "      <td>1</td>\n",
       "      <td>0</td>\n",
       "      <td>wp</td>\n",
       "      <td>[Our campaign lost the election.</td>\n",
       "    </tr>\n",
       "    <tr>\n",
       "      <th>223</th>\n",
       "      <td>1136615</td>\n",
       "      <td>2</td>\n",
       "      <td>4.0</td>\n",
       "      <td>1</td>\n",
       "      <td>0</td>\n",
       "      <td>wp</td>\n",
       "      <td>Wall Street’s outlook was mixed, with the futu...</td>\n",
       "    </tr>\n",
       "    <tr>\n",
       "      <th>233</th>\n",
       "      <td>1135953</td>\n",
       "      <td>3</td>\n",
       "      <td>15.0</td>\n",
       "      <td>1</td>\n",
       "      <td>0</td>\n",
       "      <td>wp</td>\n",
       "      <td>The U.S. has said Iran is meeting its commitme...</td>\n",
       "    </tr>\n",
       "    <tr>\n",
       "      <th>251</th>\n",
       "      <td>1135119</td>\n",
       "      <td>3</td>\n",
       "      <td>6.0</td>\n",
       "      <td>1</td>\n",
       "      <td>0</td>\n",
       "      <td>wp</td>\n",
       "      <td>On Wednesday, the benchmark New York rate was ...</td>\n",
       "    </tr>\n",
       "    <tr>\n",
       "      <th>294</th>\n",
       "      <td>1136797</td>\n",
       "      <td>1</td>\n",
       "      <td>6.0</td>\n",
       "      <td>1</td>\n",
       "      <td>0</td>\n",
       "      <td>wp</td>\n",
       "      <td>In the northern Idlib province, the Local Coor...</td>\n",
       "    </tr>\n",
       "    <tr>\n",
       "      <th>...</th>\n",
       "      <td>...</td>\n",
       "      <td>...</td>\n",
       "      <td>...</td>\n",
       "      <td>...</td>\n",
       "      <td>...</td>\n",
       "      <td>...</td>\n",
       "      <td>...</td>\n",
       "    </tr>\n",
       "    <tr>\n",
       "      <th>1361340</th>\n",
       "      <td>984</td>\n",
       "      <td>3</td>\n",
       "      <td>5.0</td>\n",
       "      <td>1</td>\n",
       "      <td>0</td>\n",
       "      <td>ap</td>\n",
       "      <td>There is so much land left.</td>\n",
       "    </tr>\n",
       "    <tr>\n",
       "      <th>1361341</th>\n",
       "      <td>1023</td>\n",
       "      <td>17</td>\n",
       "      <td>22.0</td>\n",
       "      <td>1</td>\n",
       "      <td>0</td>\n",
       "      <td>ap</td>\n",
       "      <td>62. Major veterans' organizations oppose such ...</td>\n",
       "    </tr>\n",
       "    <tr>\n",
       "      <th>1361342</th>\n",
       "      <td>1053</td>\n",
       "      <td>1</td>\n",
       "      <td>39.0</td>\n",
       "      <td>1</td>\n",
       "      <td>0</td>\n",
       "      <td>ap</td>\n",
       "      <td>Net author proceeds from \"It Takes a Village\" ...</td>\n",
       "    </tr>\n",
       "    <tr>\n",
       "      <th>1361343</th>\n",
       "      <td>1384</td>\n",
       "      <td>5</td>\n",
       "      <td>39.0</td>\n",
       "      <td>1</td>\n",
       "      <td>0</td>\n",
       "      <td>ap</td>\n",
       "      <td>They said travel restrictions on seven Muslim-...</td>\n",
       "    </tr>\n",
       "    <tr>\n",
       "      <th>1361344</th>\n",
       "      <td>912</td>\n",
       "      <td>3</td>\n",
       "      <td>23.0</td>\n",
       "      <td>1</td>\n",
       "      <td>0</td>\n",
       "      <td>ap</td>\n",
       "      <td>&lt;/p&gt; &lt;p&gt;Court records indicate that Christeson...</td>\n",
       "    </tr>\n",
       "  </tbody>\n",
       "</table>\n",
       "<p>509194 rows × 7 columns</p>\n",
       "</div>"
      ],
      "text/plain": [
       "        entry_id  version  sent_idx  is_deleted  is_added source  \\\n",
       "46       1284231        3       4.0           1         0     wp   \n",
       "223      1136615        2       4.0           1         0     wp   \n",
       "233      1135953        3      15.0           1         0     wp   \n",
       "251      1135119        3       6.0           1         0     wp   \n",
       "294      1136797        1       6.0           1         0     wp   \n",
       "...          ...      ...       ...         ...       ...    ...   \n",
       "1361340      984        3       5.0           1         0     ap   \n",
       "1361341     1023       17      22.0           1         0     ap   \n",
       "1361342     1053        1      39.0           1         0     ap   \n",
       "1361343     1384        5      39.0           1         0     ap   \n",
       "1361344      912        3      23.0           1         0     ap   \n",
       "\n",
       "                                                  sentence  \n",
       "46                        [Our campaign lost the election.  \n",
       "223      Wall Street’s outlook was mixed, with the futu...  \n",
       "233      The U.S. has said Iran is meeting its commitme...  \n",
       "251      On Wednesday, the benchmark New York rate was ...  \n",
       "294      In the northern Idlib province, the Local Coor...  \n",
       "...                                                    ...  \n",
       "1361340                        There is so much land left.  \n",
       "1361341  62. Major veterans' organizations oppose such ...  \n",
       "1361342  Net author proceeds from \"It Takes a Village\" ...  \n",
       "1361343  They said travel restrictions on seven Muslim-...  \n",
       "1361344  </p> <p>Court records indicate that Christeson...  \n",
       "\n",
       "[509194 rows x 7 columns]"
      ]
     },
     "execution_count": 18,
     "metadata": {},
     "output_type": "execute_result"
    }
   ],
   "source": [
    "del_sents"
   ]
  },
  {
   "cell_type": "code",
   "execution_count": 20,
   "metadata": {},
   "outputs": [],
   "source": [
    "from tqdm.auto import tqdm"
   ]
  },
  {
   "cell_type": "code",
   "execution_count": 28,
   "metadata": {},
   "outputs": [
    {
     "data": {
      "application/vnd.jupyter.widget-view+json": {
       "model_id": "757240175c9c4f26b63bce992ab6c7df",
       "version_major": 2,
       "version_minor": 0
      },
      "text/plain": [
       "  0%|          | 0/509 [00:00<?, ?it/s]"
      ]
     },
     "metadata": {},
     "output_type": "display_data"
    }
   ],
   "source": [
    "del_all_entities = preprocess_parallel(del_sents)"
   ]
  },
  {
   "cell_type": "code",
   "execution_count": 31,
   "metadata": {},
   "outputs": [
    {
     "data": {
      "text/plain": [
       "True     0.500359\n",
       "False    0.499641\n",
       "dtype: float64"
      ]
     },
     "execution_count": 31,
     "metadata": {},
     "output_type": "execute_result"
    }
   ],
   "source": [
    "pd.Series(del_all_entities).pipe(lambda s: s.str.len()>0).value_counts().pipe(lambda s: s/s.sum())"
   ]
  },
  {
   "cell_type": "code",
   "execution_count": 93,
   "metadata": {},
   "outputs": [],
   "source": [
    "import pickle"
   ]
  },
  {
   "cell_type": "code",
   "execution_count": 94,
   "metadata": {},
   "outputs": [],
   "source": [
    "with open('cache/sources-in-added-sents.pkl', 'wb') as f:\n",
    "    pickle.dump(all_entities, f)"
   ]
  },
  {
   "cell_type": "code",
   "execution_count": 95,
   "metadata": {},
   "outputs": [
    {
     "data": {
      "text/plain": [
       "4273001"
      ]
     },
     "execution_count": 95,
     "metadata": {},
     "output_type": "execute_result"
    }
   ],
   "source": [
    "len(all_entities)"
   ]
  },
  {
   "cell_type": "code",
   "execution_count": 97,
   "metadata": {
    "scrolled": true
   },
   "outputs": [
    {
     "data": {
      "text/html": [
       "<div>\n",
       "<style scoped>\n",
       "    .dataframe tbody tr th:only-of-type {\n",
       "        vertical-align: middle;\n",
       "    }\n",
       "\n",
       "    .dataframe tbody tr th {\n",
       "        vertical-align: top;\n",
       "    }\n",
       "\n",
       "    .dataframe thead th {\n",
       "        text-align: right;\n",
       "    }\n",
       "</style>\n",
       "<table border=\"1\" class=\"dataframe\">\n",
       "  <thead>\n",
       "    <tr style=\"text-align: right;\">\n",
       "      <th></th>\n",
       "      <th>entry_id</th>\n",
       "      <th>version</th>\n",
       "      <th>sent_idx</th>\n",
       "      <th>is_added</th>\n",
       "      <th>source</th>\n",
       "      <th>sentence</th>\n",
       "    </tr>\n",
       "  </thead>\n",
       "  <tbody>\n",
       "    <tr>\n",
       "      <th>0</th>\n",
       "      <td>406211</td>\n",
       "      <td>6</td>\n",
       "      <td>36.0</td>\n",
       "      <td>1</td>\n",
       "      <td>bbc</td>\n",
       "      <td>On the back of those concessions, some unions ...</td>\n",
       "    </tr>\n",
       "    <tr>\n",
       "      <th>1</th>\n",
       "      <td>497594</td>\n",
       "      <td>2</td>\n",
       "      <td>21.0</td>\n",
       "      <td>1</td>\n",
       "      <td>bbc</td>\n",
       "      <td>\" The minister also urged the Syrian regime le...</td>\n",
       "    </tr>\n",
       "    <tr>\n",
       "      <th>2</th>\n",
       "      <td>417673</td>\n",
       "      <td>1</td>\n",
       "      <td>11.0</td>\n",
       "      <td>1</td>\n",
       "      <td>bbc</td>\n",
       "      <td>\"Critically, they've put on a 37% increase in ...</td>\n",
       "    </tr>\n",
       "    <tr>\n",
       "      <th>3</th>\n",
       "      <td>497592</td>\n",
       "      <td>1</td>\n",
       "      <td>5.0</td>\n",
       "      <td>1</td>\n",
       "      <td>bbc</td>\n",
       "      <td>\" The Scottish government said the consultatio...</td>\n",
       "    </tr>\n",
       "    <tr>\n",
       "      <th>4</th>\n",
       "      <td>486104</td>\n",
       "      <td>2</td>\n",
       "      <td>23.0</td>\n",
       "      <td>1</td>\n",
       "      <td>bbc</td>\n",
       "      <td>South Sudan is covered by green swathes of gra...</td>\n",
       "    </tr>\n",
       "    <tr>\n",
       "      <th>...</th>\n",
       "      <td>...</td>\n",
       "      <td>...</td>\n",
       "      <td>...</td>\n",
       "      <td>...</td>\n",
       "      <td>...</td>\n",
       "      <td>...</td>\n",
       "    </tr>\n",
       "    <tr>\n",
       "      <th>224855</th>\n",
       "      <td>837747</td>\n",
       "      <td>1</td>\n",
       "      <td>24.0</td>\n",
       "      <td>1</td>\n",
       "      <td>guardian</td>\n",
       "      <td>However, since psychiatrists following him for...</td>\n",
       "    </tr>\n",
       "    <tr>\n",
       "      <th>224856</th>\n",
       "      <td>840333</td>\n",
       "      <td>1</td>\n",
       "      <td>23.0</td>\n",
       "      <td>1</td>\n",
       "      <td>guardian</td>\n",
       "      <td>They did not give an inch before Kompany final...</td>\n",
       "    </tr>\n",
       "    <tr>\n",
       "      <th>224857</th>\n",
       "      <td>837816</td>\n",
       "      <td>1</td>\n",
       "      <td>135.0</td>\n",
       "      <td>1</td>\n",
       "      <td>guardian</td>\n",
       "      <td>The scottish MP's would not be representing rU...</td>\n",
       "    </tr>\n",
       "    <tr>\n",
       "      <th>224858</th>\n",
       "      <td>841014</td>\n",
       "      <td>2</td>\n",
       "      <td>10.0</td>\n",
       "      <td>1</td>\n",
       "      <td>guardian</td>\n",
       "      <td>We insist that utmost care is taken to avoid c...</td>\n",
       "    </tr>\n",
       "    <tr>\n",
       "      <th>224859</th>\n",
       "      <td>840001</td>\n",
       "      <td>1</td>\n",
       "      <td>35.0</td>\n",
       "      <td>1</td>\n",
       "      <td>guardian</td>\n",
       "      <td>And despite a late Fulham flurry, they were do...</td>\n",
       "    </tr>\n",
       "  </tbody>\n",
       "</table>\n",
       "<p>4273001 rows × 6 columns</p>\n",
       "</div>"
      ],
      "text/plain": [
       "        entry_id  version  sent_idx  is_added    source  \\\n",
       "0         406211        6      36.0         1       bbc   \n",
       "1         497594        2      21.0         1       bbc   \n",
       "2         417673        1      11.0         1       bbc   \n",
       "3         497592        1       5.0         1       bbc   \n",
       "4         486104        2      23.0         1       bbc   \n",
       "...          ...      ...       ...       ...       ...   \n",
       "224855    837747        1      24.0         1  guardian   \n",
       "224856    840333        1      23.0         1  guardian   \n",
       "224857    837816        1     135.0         1  guardian   \n",
       "224858    841014        2      10.0         1  guardian   \n",
       "224859    840001        1      35.0         1  guardian   \n",
       "\n",
       "                                                 sentence  \n",
       "0       On the back of those concessions, some unions ...  \n",
       "1       \" The minister also urged the Syrian regime le...  \n",
       "2       \"Critically, they've put on a 37% increase in ...  \n",
       "3       \" The Scottish government said the consultatio...  \n",
       "4       South Sudan is covered by green swathes of gra...  \n",
       "...                                                   ...  \n",
       "224855  However, since psychiatrists following him for...  \n",
       "224856  They did not give an inch before Kompany final...  \n",
       "224857  The scottish MP's would not be representing rU...  \n",
       "224858  We insist that utmost care is taken to avoid c...  \n",
       "224859  And despite a late Fulham flurry, they were do...  \n",
       "\n",
       "[4273001 rows x 6 columns]"
      ]
     },
     "execution_count": 97,
     "metadata": {},
     "output_type": "execute_result"
    }
   ],
   "source": [
    "all_added_sents_df"
   ]
  },
  {
   "cell_type": "code",
   "execution_count": 106,
   "metadata": {},
   "outputs": [],
   "source": [
    "all_added_sents_df['quoted_entities'] = all_entities"
   ]
  },
  {
   "cell_type": "code",
   "execution_count": 108,
   "metadata": {},
   "outputs": [
    {
     "data": {
      "text/html": [
       "<div>\n",
       "<style scoped>\n",
       "    .dataframe tbody tr th:only-of-type {\n",
       "        vertical-align: middle;\n",
       "    }\n",
       "\n",
       "    .dataframe tbody tr th {\n",
       "        vertical-align: top;\n",
       "    }\n",
       "\n",
       "    .dataframe thead th {\n",
       "        text-align: right;\n",
       "    }\n",
       "</style>\n",
       "<table border=\"1\" class=\"dataframe\">\n",
       "  <thead>\n",
       "    <tr style=\"text-align: right;\">\n",
       "      <th></th>\n",
       "      <th>entry_id</th>\n",
       "      <th>version</th>\n",
       "      <th>sent_idx</th>\n",
       "      <th>is_added</th>\n",
       "      <th>source</th>\n",
       "      <th>sentence</th>\n",
       "      <th>quoted_entities</th>\n",
       "    </tr>\n",
       "  </thead>\n",
       "  <tbody>\n",
       "    <tr>\n",
       "      <th>1</th>\n",
       "      <td>497594</td>\n",
       "      <td>2</td>\n",
       "      <td>21.0</td>\n",
       "      <td>1</td>\n",
       "      <td>bbc</td>\n",
       "      <td>\" The minister also urged the Syrian regime le...</td>\n",
       "      <td>{'Bashar al Assad': {'background sentence': [(...</td>\n",
       "    </tr>\n",
       "    <tr>\n",
       "      <th>2</th>\n",
       "      <td>417673</td>\n",
       "      <td>1</td>\n",
       "      <td>11.0</td>\n",
       "      <td>1</td>\n",
       "      <td>bbc</td>\n",
       "      <td>\"Critically, they've put on a 37% increase in ...</td>\n",
       "      <td>{'Hewlett': {'background sentence': [], 'quote...</td>\n",
       "    </tr>\n",
       "    <tr>\n",
       "      <th>3</th>\n",
       "      <td>497592</td>\n",
       "      <td>1</td>\n",
       "      <td>5.0</td>\n",
       "      <td>1</td>\n",
       "      <td>bbc</td>\n",
       "      <td>\" The Scottish government said the consultatio...</td>\n",
       "      <td>{'government': {'background sentence': [], 'qu...</td>\n",
       "    </tr>\n",
       "    <tr>\n",
       "      <th>5</th>\n",
       "      <td>500205</td>\n",
       "      <td>2</td>\n",
       "      <td>9.0</td>\n",
       "      <td>1</td>\n",
       "      <td>bbc</td>\n",
       "      <td>Mr Wen also spoke about boosting domestic cons...</td>\n",
       "      <td>{'Mr Wen': {'background sentence': [(0, 'Mr We...</td>\n",
       "    </tr>\n",
       "    <tr>\n",
       "      <th>9</th>\n",
       "      <td>500195</td>\n",
       "      <td>2</td>\n",
       "      <td>55.0</td>\n",
       "      <td>1</td>\n",
       "      <td>bbc</td>\n",
       "      <td>In the video Prof MacLaren demonstrates the Re...</td>\n",
       "      <td>{'MacLaren': {'background sentence': [(0, 'In ...</td>\n",
       "    </tr>\n",
       "    <tr>\n",
       "      <th>...</th>\n",
       "      <td>...</td>\n",
       "      <td>...</td>\n",
       "      <td>...</td>\n",
       "      <td>...</td>\n",
       "      <td>...</td>\n",
       "      <td>...</td>\n",
       "      <td>...</td>\n",
       "    </tr>\n",
       "    <tr>\n",
       "      <th>224847</th>\n",
       "      <td>838586</td>\n",
       "      <td>1</td>\n",
       "      <td>23.0</td>\n",
       "      <td>1</td>\n",
       "      <td>guardian</td>\n",
       "      <td>” Costa and Loïc Rémy were flung on for late c...</td>\n",
       "      <td>{'Costa': {'background sentence': [(0, '” Cost...</td>\n",
       "    </tr>\n",
       "    <tr>\n",
       "      <th>224852</th>\n",
       "      <td>839359</td>\n",
       "      <td>2</td>\n",
       "      <td>1.0</td>\n",
       "      <td>1</td>\n",
       "      <td>guardian</td>\n",
       "      <td>In a video statement that avoided any mention ...</td>\n",
       "      <td>{'Rajoy': {'background sentence': [(0, 'In a v...</td>\n",
       "    </tr>\n",
       "    <tr>\n",
       "      <th>224853</th>\n",
       "      <td>838599</td>\n",
       "      <td>1</td>\n",
       "      <td>21.0</td>\n",
       "      <td>1</td>\n",
       "      <td>guardian</td>\n",
       "      <td>Pressed on what would happen if the US relianc...</td>\n",
       "      <td>{'Kerry': {'background sentence': [(0, 'Presse...</td>\n",
       "    </tr>\n",
       "    <tr>\n",
       "      <th>224855</th>\n",
       "      <td>837747</td>\n",
       "      <td>1</td>\n",
       "      <td>24.0</td>\n",
       "      <td>1</td>\n",
       "      <td>guardian</td>\n",
       "      <td>However, since psychiatrists following him for...</td>\n",
       "      <td>{'she': {'background sentence': [], 'quote sen...</td>\n",
       "    </tr>\n",
       "    <tr>\n",
       "      <th>224859</th>\n",
       "      <td>840001</td>\n",
       "      <td>1</td>\n",
       "      <td>35.0</td>\n",
       "      <td>1</td>\n",
       "      <td>guardian</td>\n",
       "      <td>And despite a late Fulham flurry, they were do...</td>\n",
       "      <td>{'Fulham': {'background sentence': [(0, 'And d...</td>\n",
       "    </tr>\n",
       "  </tbody>\n",
       "</table>\n",
       "<p>2067456 rows × 7 columns</p>\n",
       "</div>"
      ],
      "text/plain": [
       "        entry_id  version  sent_idx  is_added    source  \\\n",
       "1         497594        2      21.0         1       bbc   \n",
       "2         417673        1      11.0         1       bbc   \n",
       "3         497592        1       5.0         1       bbc   \n",
       "5         500205        2       9.0         1       bbc   \n",
       "9         500195        2      55.0         1       bbc   \n",
       "...          ...      ...       ...       ...       ...   \n",
       "224847    838586        1      23.0         1  guardian   \n",
       "224852    839359        2       1.0         1  guardian   \n",
       "224853    838599        1      21.0         1  guardian   \n",
       "224855    837747        1      24.0         1  guardian   \n",
       "224859    840001        1      35.0         1  guardian   \n",
       "\n",
       "                                                 sentence  \\\n",
       "1       \" The minister also urged the Syrian regime le...   \n",
       "2       \"Critically, they've put on a 37% increase in ...   \n",
       "3       \" The Scottish government said the consultatio...   \n",
       "5       Mr Wen also spoke about boosting domestic cons...   \n",
       "9       In the video Prof MacLaren demonstrates the Re...   \n",
       "...                                                   ...   \n",
       "224847  ” Costa and Loïc Rémy were flung on for late c...   \n",
       "224852  In a video statement that avoided any mention ...   \n",
       "224853  Pressed on what would happen if the US relianc...   \n",
       "224855  However, since psychiatrists following him for...   \n",
       "224859  And despite a late Fulham flurry, they were do...   \n",
       "\n",
       "                                          quoted_entities  \n",
       "1       {'Bashar al Assad': {'background sentence': [(...  \n",
       "2       {'Hewlett': {'background sentence': [], 'quote...  \n",
       "3       {'government': {'background sentence': [], 'qu...  \n",
       "5       {'Mr Wen': {'background sentence': [(0, 'Mr We...  \n",
       "9       {'MacLaren': {'background sentence': [(0, 'In ...  \n",
       "...                                                   ...  \n",
       "224847  {'Costa': {'background sentence': [(0, '” Cost...  \n",
       "224852  {'Rajoy': {'background sentence': [(0, 'In a v...  \n",
       "224853  {'Kerry': {'background sentence': [(0, 'Presse...  \n",
       "224855  {'she': {'background sentence': [], 'quote sen...  \n",
       "224859  {'Fulham': {'background sentence': [(0, 'And d...  \n",
       "\n",
       "[2067456 rows x 7 columns]"
      ]
     },
     "execution_count": 108,
     "metadata": {},
     "output_type": "execute_result"
    }
   ],
   "source": [
    "all_added_sents_df.loc[lambda df: df['quoted_entities'].str.len() > 0]"
   ]
  },
  {
   "cell_type": "code",
   "execution_count": 130,
   "metadata": {},
   "outputs": [],
   "source": [
    "all_added_sents_df['names'] = all_added_sents_df['quoted_entities'].apply(lambda x: list(x.keys()))"
   ]
  },
  {
   "cell_type": "code",
   "execution_count": 136,
   "metadata": {},
   "outputs": [],
   "source": [
    "all_names = [y for x in all_added_sents_df['names'].tolist() for y in x]"
   ]
  },
  {
   "cell_type": "code",
   "execution_count": 140,
   "metadata": {},
   "outputs": [],
   "source": [
    "contains_quote = all_added_sents_df['quoted_entities'].pipe(lambda s: s.str.len() > 0)"
   ]
  },
  {
   "cell_type": "code",
   "execution_count": 143,
   "metadata": {},
   "outputs": [
    {
     "data": {
      "text/plain": [
       "False    0.516158\n",
       "True     0.483842\n",
       "Name: quoted_entities, dtype: float64"
      ]
     },
     "execution_count": 143,
     "metadata": {},
     "output_type": "execute_result"
    }
   ],
   "source": [
    "contains_quote.value_counts().pipe(lambda s: s/s.sum())"
   ]
  },
  {
   "cell_type": "code",
   "execution_count": 115,
   "metadata": {},
   "outputs": [],
   "source": [
    "non_added_sents_df = pd.read_csv('../eda/non-edited-sentences.csv.gz', index_col=0)"
   ]
  },
  {
   "cell_type": "code",
   "execution_count": 119,
   "metadata": {},
   "outputs": [],
   "source": [
    "non_added_sents_df = non_added_sents_df.loc[lambda df: df['sentence'].notnull()]"
   ]
  },
  {
   "cell_type": "code",
   "execution_count": 120,
   "metadata": {},
   "outputs": [
    {
     "data": {
      "application/vnd.jupyter.widget-view+json": {
       "model_id": "dc1a7ae02ac4414fb0fcbd89ab8548fc",
       "version_major": 2,
       "version_minor": 0
      },
      "text/plain": [
       "  0%|          | 0/282 [00:00<?, ?it/s]"
      ]
     },
     "metadata": {},
     "output_type": "display_data"
    }
   ],
   "source": [
    "non_added_sents_entities = preprocess_parallel(non_added_sents_df)"
   ]
  },
  {
   "cell_type": "code",
   "execution_count": null,
   "metadata": {},
   "outputs": [],
   "source": [
    "non_added_sents_df['quoted_entities'] = pd.Series(non_added_sents_entities)"
   ]
  },
  {
   "cell_type": "code",
   "execution_count": 124,
   "metadata": {},
   "outputs": [
    {
     "data": {
      "text/html": [
       "<div>\n",
       "<style scoped>\n",
       "    .dataframe tbody tr th:only-of-type {\n",
       "        vertical-align: middle;\n",
       "    }\n",
       "\n",
       "    .dataframe tbody tr th {\n",
       "        vertical-align: top;\n",
       "    }\n",
       "\n",
       "    .dataframe thead th {\n",
       "        text-align: right;\n",
       "    }\n",
       "</style>\n",
       "<table border=\"1\" class=\"dataframe\">\n",
       "  <thead>\n",
       "    <tr style=\"text-align: right;\">\n",
       "      <th></th>\n",
       "      <th>entry_id</th>\n",
       "      <th>version</th>\n",
       "      <th>sent_idx</th>\n",
       "      <th>is_deleted</th>\n",
       "      <th>is_added</th>\n",
       "      <th>is_edited</th>\n",
       "      <th>source</th>\n",
       "      <th>sentence</th>\n",
       "      <th>quoted_entities</th>\n",
       "    </tr>\n",
       "  </thead>\n",
       "  <tbody>\n",
       "    <tr>\n",
       "      <th>0</th>\n",
       "      <td>1334824</td>\n",
       "      <td>1</td>\n",
       "      <td>8.0</td>\n",
       "      <td>0</td>\n",
       "      <td>0</td>\n",
       "      <td>0</td>\n",
       "      <td>wp</td>\n",
       "      <td>[Once again, Trump succeeded where he was supp...</td>\n",
       "      <td>{'Scott Pruitt': {'background sentence': [(1, ...</td>\n",
       "    </tr>\n",
       "    <tr>\n",
       "      <th>6</th>\n",
       "      <td>1345335</td>\n",
       "      <td>1</td>\n",
       "      <td>8.0</td>\n",
       "      <td>0</td>\n",
       "      <td>0</td>\n",
       "      <td>0</td>\n",
       "      <td>wp</td>\n",
       "      <td>Ralph Northam and former congressman Tom Perri...</td>\n",
       "      <td>{'Ralph Northam': {'background sentence': [(0,...</td>\n",
       "    </tr>\n",
       "    <tr>\n",
       "      <th>7</th>\n",
       "      <td>1272304</td>\n",
       "      <td>6</td>\n",
       "      <td>0.0</td>\n",
       "      <td>0</td>\n",
       "      <td>0</td>\n",
       "      <td>0</td>\n",
       "      <td>wp</td>\n",
       "      <td>The cast of “Hamilton” was not going to throw ...</td>\n",
       "      <td>{'Hamilton': {'background sentence': [(0, 'The...</td>\n",
       "    </tr>\n",
       "    <tr>\n",
       "      <th>8</th>\n",
       "      <td>1272304</td>\n",
       "      <td>6</td>\n",
       "      <td>0.0</td>\n",
       "      <td>0</td>\n",
       "      <td>0</td>\n",
       "      <td>0</td>\n",
       "      <td>wp</td>\n",
       "      <td>The cast of “Hamilton” was not going to throw ...</td>\n",
       "      <td>{'Hamilton': {'background sentence': [(0, 'The...</td>\n",
       "    </tr>\n",
       "    <tr>\n",
       "      <th>12</th>\n",
       "      <td>1272304</td>\n",
       "      <td>6</td>\n",
       "      <td>23.0</td>\n",
       "      <td>0</td>\n",
       "      <td>0</td>\n",
       "      <td>0</td>\n",
       "      <td>wp</td>\n",
       "      <td>” In the latter was Trump, who said that the c...</td>\n",
       "      <td>{'who': {'background sentence': [], 'quote sen...</td>\n",
       "    </tr>\n",
       "    <tr>\n",
       "      <th>...</th>\n",
       "      <td>...</td>\n",
       "      <td>...</td>\n",
       "      <td>...</td>\n",
       "      <td>...</td>\n",
       "      <td>...</td>\n",
       "      <td>...</td>\n",
       "      <td>...</td>\n",
       "      <td>...</td>\n",
       "      <td>...</td>\n",
       "    </tr>\n",
       "    <tr>\n",
       "      <th>282768</th>\n",
       "      <td>15818</td>\n",
       "      <td>3</td>\n",
       "      <td>4.0</td>\n",
       "      <td>0</td>\n",
       "      <td>0</td>\n",
       "      <td>0</td>\n",
       "      <td>ap</td>\n",
       "      <td>More than anyone else, the magnetic, Hollywood...</td>\n",
       "      <td>{'Takahata': {'background sentence': [], 'quot...</td>\n",
       "    </tr>\n",
       "    <tr>\n",
       "      <th>282769</th>\n",
       "      <td>15641</td>\n",
       "      <td>5</td>\n",
       "      <td>41.0</td>\n",
       "      <td>0</td>\n",
       "      <td>0</td>\n",
       "      <td>0</td>\n",
       "      <td>ap</td>\n",
       "      <td>The American Civil Liberties Union, which repr...</td>\n",
       "      <td>{'Nikolic': {'background sentence': [], 'quote...</td>\n",
       "    </tr>\n",
       "    <tr>\n",
       "      <th>282774</th>\n",
       "      <td>15623</td>\n",
       "      <td>7</td>\n",
       "      <td>18.0</td>\n",
       "      <td>0</td>\n",
       "      <td>0</td>\n",
       "      <td>0</td>\n",
       "      <td>ap</td>\n",
       "      <td>Victoria Olvera, a 17-year-old junior at the s...</td>\n",
       "      <td>{'Nolan Arenado': {'background sentence': [(0,...</td>\n",
       "    </tr>\n",
       "    <tr>\n",
       "      <th>282776</th>\n",
       "      <td>15932</td>\n",
       "      <td>2</td>\n",
       "      <td>2.0</td>\n",
       "      <td>0</td>\n",
       "      <td>0</td>\n",
       "      <td>0</td>\n",
       "      <td>ap</td>\n",
       "      <td>Adults and children stood behind wooden barric...</td>\n",
       "      <td>{'Spencer': {'background sentence': [], 'quote...</td>\n",
       "    </tr>\n",
       "    <tr>\n",
       "      <th>282779</th>\n",
       "      <td>15609</td>\n",
       "      <td>1</td>\n",
       "      <td>3.0</td>\n",
       "      <td>0</td>\n",
       "      <td>0</td>\n",
       "      <td>0</td>\n",
       "      <td>ap</td>\n",
       "      <td>The statement said weapons were fired but \"pre...</td>\n",
       "      <td>{'Nick': {'background sentence': [(0, \"FAMILY ...</td>\n",
       "    </tr>\n",
       "  </tbody>\n",
       "</table>\n",
       "<p>110910 rows × 9 columns</p>\n",
       "</div>"
      ],
      "text/plain": [
       "        entry_id  version  sent_idx  is_deleted  is_added  is_edited source  \\\n",
       "0        1334824        1       8.0           0         0          0     wp   \n",
       "6        1345335        1       8.0           0         0          0     wp   \n",
       "7        1272304        6       0.0           0         0          0     wp   \n",
       "8        1272304        6       0.0           0         0          0     wp   \n",
       "12       1272304        6      23.0           0         0          0     wp   \n",
       "...          ...      ...       ...         ...       ...        ...    ...   \n",
       "282768     15818        3       4.0           0         0          0     ap   \n",
       "282769     15641        5      41.0           0         0          0     ap   \n",
       "282774     15623        7      18.0           0         0          0     ap   \n",
       "282776     15932        2       2.0           0         0          0     ap   \n",
       "282779     15609        1       3.0           0         0          0     ap   \n",
       "\n",
       "                                                 sentence  \\\n",
       "0       [Once again, Trump succeeded where he was supp...   \n",
       "6       Ralph Northam and former congressman Tom Perri...   \n",
       "7       The cast of “Hamilton” was not going to throw ...   \n",
       "8       The cast of “Hamilton” was not going to throw ...   \n",
       "12      ” In the latter was Trump, who said that the c...   \n",
       "...                                                   ...   \n",
       "282768  More than anyone else, the magnetic, Hollywood...   \n",
       "282769  The American Civil Liberties Union, which repr...   \n",
       "282774  Victoria Olvera, a 17-year-old junior at the s...   \n",
       "282776  Adults and children stood behind wooden barric...   \n",
       "282779  The statement said weapons were fired but \"pre...   \n",
       "\n",
       "                                          quoted_entities  \n",
       "0       {'Scott Pruitt': {'background sentence': [(1, ...  \n",
       "6       {'Ralph Northam': {'background sentence': [(0,...  \n",
       "7       {'Hamilton': {'background sentence': [(0, 'The...  \n",
       "8       {'Hamilton': {'background sentence': [(0, 'The...  \n",
       "12      {'who': {'background sentence': [], 'quote sen...  \n",
       "...                                                   ...  \n",
       "282768  {'Takahata': {'background sentence': [], 'quot...  \n",
       "282769  {'Nikolic': {'background sentence': [], 'quote...  \n",
       "282774  {'Nolan Arenado': {'background sentence': [(0,...  \n",
       "282776  {'Spencer': {'background sentence': [], 'quote...  \n",
       "282779  {'Nick': {'background sentence': [(0, \"FAMILY ...  \n",
       "\n",
       "[110910 rows x 9 columns]"
      ]
     },
     "execution_count": 124,
     "metadata": {},
     "output_type": "execute_result"
    }
   ],
   "source": [
    "non_added_sents_df.loc[lambda df: df['quoted_entities'].str.len() > 0]"
   ]
  },
  {
   "cell_type": "code",
   "execution_count": 144,
   "metadata": {},
   "outputs": [],
   "source": [
    "non_added_contains_quote = non_added_sents_df['quoted_entities'].pipe(lambda s: s.str.len() > 0)"
   ]
  },
  {
   "cell_type": "code",
   "execution_count": 147,
   "metadata": {},
   "outputs": [
    {
     "data": {
      "text/plain": [
       "False    0.60779\n",
       "True     0.39221\n",
       "Name: quoted_entities, dtype: float64"
      ]
     },
     "execution_count": 147,
     "metadata": {},
     "output_type": "execute_result"
    }
   ],
   "source": [
    "non_added_contains_quote.value_counts().pipe(lambda s: s/s.sum())"
   ]
  },
  {
   "cell_type": "code",
   "execution_count": 157,
   "metadata": {},
   "outputs": [],
   "source": [
    "import matplotlib.pyplot as plt\n",
    "plt.rc('font', size=14)"
   ]
  },
  {
   "cell_type": "code",
   "execution_count": 179,
   "metadata": {},
   "outputs": [
    {
     "data": {
      "text/plain": [
       "Text(0.5, 0, '% of sentences')"
      ]
     },
     "execution_count": 179,
     "metadata": {},
     "output_type": "execute_result"
    },
    {
     "data": {
      "image/png": "[encoded data removed]",
      "text/plain": [
       "<Figure size 216x244.8 with 1 Axes>"
      ]
     },
     "metadata": {
      "needs_background": "light"
     },
     "output_type": "display_data"
    }
   ],
   "source": [
    "comb_df = pd.concat([\n",
    "    contains_quote.value_counts().pipe(lambda s: s/s.sum()).to_frame('Added'),\n",
    "    non_added_contains_quote.value_counts().pipe(lambda s: s/s.sum()).to_frame('Control')\n",
    "], axis=1).rename(index={False: 'No Quote', True: 'Contains Quote'}) * 100\n",
    "\n",
    "ax = comb_df.T.plot(kind='barh', figsize=(3,3.4))\n",
    "plt.legend(['No Quote', 'Is Quote',], frameon=False)\n",
    "ax.spines['top'].set_visible(False)\n",
    "ax.spines['right'].set_visible(False)\n",
    "plt.xlabel('% of sentences')"
   ]
  },
  {
   "cell_type": "code",
   "execution_count": 183,
   "metadata": {},
   "outputs": [
    {
     "data": {
      "text/html": [
       "<div>\n",
       "<style scoped>\n",
       "    .dataframe tbody tr th:only-of-type {\n",
       "        vertical-align: middle;\n",
       "    }\n",
       "\n",
       "    .dataframe tbody tr th {\n",
       "        vertical-align: top;\n",
       "    }\n",
       "\n",
       "    .dataframe thead th {\n",
       "        text-align: right;\n",
       "    }\n",
       "</style>\n",
       "<table border=\"1\" class=\"dataframe\">\n",
       "  <thead>\n",
       "    <tr style=\"text-align: right;\">\n",
       "      <th></th>\n",
       "      <th>Contains Quote</th>\n",
       "      <th>No Quote</th>\n",
       "    </tr>\n",
       "  </thead>\n",
       "  <tbody>\n",
       "    <tr>\n",
       "      <th>Added</th>\n",
       "      <td>48.38</td>\n",
       "      <td>51.62</td>\n",
       "    </tr>\n",
       "    <tr>\n",
       "      <th>Control</th>\n",
       "      <td>39.22</td>\n",
       "      <td>60.78</td>\n",
       "    </tr>\n",
       "  </tbody>\n",
       "</table>\n",
       "</div>"
      ],
      "text/plain": [
       "         Contains Quote  No Quote\n",
       "Added             48.38     51.62\n",
       "Control           39.22     60.78"
      ]
     },
     "execution_count": 183,
     "metadata": {},
     "output_type": "execute_result"
    }
   ],
   "source": [
    "comb_df.round(2).loc[['Contains Quote', 'No Quote']].T"
   ]
  },
  {
   "cell_type": "code",
   "execution_count": null,
   "metadata": {},
   "outputs": [],
   "source": []
  },
  {
   "cell_type": "markdown",
   "metadata": {},
   "source": [
    "### Contributor Lines"
   ]
  },
  {
   "cell_type": "code",
   "execution_count": 19,
   "metadata": {},
   "outputs": [],
   "source": [
    "reporting_by = all_added_sents_df['sentence'].loc[lambda s: s.str.contains('reporting by')]\n",
    "add_reporting = all_added_sents_df['sentence'].loc[lambda s: s.str.contains('additional reporting')]\n",
    "contr_report = all_added_sents_df['sentence'].loc[lambda s: s.str.contains('contributed reporting')]\n",
    "editing = all_added_sents_df['sentence'].loc[lambda s: s.str.contains('editing by')]"
   ]
  },
  {
   "cell_type": "code",
   "execution_count": 39,
   "metadata": {},
   "outputs": [],
   "source": [
    "t = pd.concat([reporting_by, add_reporting, contr_report, editing]).drop_duplicates()"
   ]
  },
  {
   "cell_type": "code",
   "execution_count": 46,
   "metadata": {},
   "outputs": [
    {
     "data": {
      "text/plain": [
       "'Additional reporting by Daniel Strauss in Richmond, Virginia, Richard Luscombe in West Palm Beach, Florida, and Ed Pilkington in Essex Junction, Vermont'"
      ]
     },
     "execution_count": 46,
     "metadata": {},
     "output_type": "execute_result"
    }
   ],
   "source": [
    "t.iloc[45]"
   ]
  },
  {
   "cell_type": "code",
   "execution_count": null,
   "metadata": {},
   "outputs": [],
   "source": []
  },
  {
   "cell_type": "code",
   "execution_count": null,
   "metadata": {},
   "outputs": [],
   "source": []
  },
  {
   "cell_type": "code",
   "execution_count": null,
   "metadata": {},
   "outputs": [],
   "source": []
  },
  {
   "cell_type": "markdown",
   "metadata": {},
   "source": [
    "# Headline Changes"
   ]
  },
  {
   "cell_type": "code",
   "execution_count": 277,
   "metadata": {},
   "outputs": [],
   "source": [
    "glob.glob('../data/diffengine-diffs/db/*')\n",
    "to_run = [\n",
    "#  '../data/diffengine-diffs/db/cnn.db.gz',\n",
    "#  '../data/diffengine-diffs/db/nationalpost.db.gz',\n",
    "#  '../data/diffengine-diffs/db/calgaryherald.db.gz',\n",
    "#  '../data/diffengine-diffs/db/globemail.db.gz',\n",
    "#  '../data/diffengine-diffs/db/torontostar.db.gz',\n",
    " '../data/diffengine-diffs/db/ap.db.gz',\n",
    "#  '../data/diffengine-diffs/db/dailymail.db.gz',\n",
    "#  '../data/diffengine-diffs/db/therebel.db.gz',\n",
    " '../data/diffengine-diffs/db/newssniffer-washpo.db',\n",
    " '../data/diffengine-diffs/db/newssniffer-guardian.db.gz',\n",
    "#  '../data/diffengine-diffs/db/telegraph.db.gz',\n",
    " '../data/diffengine-diffs/db/reuters.db.gz',\n",
    "#  '../data/diffengine-diffs/db/torontosun.db.gz',\n",
    " '../data/diffengine-diffs/db/newssniffer-independent.db.gz',\n",
    "#  '../data/diffengine-diffs/db/bbc.db.gz',\n",
    "#  '../data/diffengine-diffs/db/cbc.db.gz',\n",
    " '../data/diffengine-diffs/db/newssniffer-nytimes.db',\n",
    "#  '../data/diffengine-diffs/db/canadaland.db.gz',\n",
    " '../data/diffengine-diffs/db/newssniffer-bbc.db.gz',\n",
    "#  '../data/diffengine-diffs/db/fox.db.gz',\n",
    "#  '../data/diffengine-diffs/db/lapresse.db.gz'\n",
    "]"
   ]
  },
  {
   "cell_type": "code",
   "execution_count": 278,
   "metadata": {},
   "outputs": [
    {
     "name": "stdout",
     "output_type": "stream",
     "text": [
      "../data/diffengine-diffs/db/ap.db.gz\n",
      "../data/diffengine-diffs/db/newssniffer-washpo.db\n",
      "../data/diffengine-diffs/db/newssniffer-guardian.db.gz\n",
      "../data/diffengine-diffs/db/reuters.db.gz\n",
      "../data/diffengine-diffs/db/newssniffer-independent.db.gz\n",
      "../data/diffengine-diffs/db/newssniffer-nytimes.db\n",
      "../data/diffengine-diffs/db/newssniffer-bbc.db.gz\n"
     ]
    }
   ],
   "source": [
    "all_headline_match_dfs = []\n",
    "for f in to_run:\n",
    "    print(f)\n",
    "    if f.endswith('.gz'):\n",
    "        ! gunzip $f\n",
    "    f = f.replace('.gz', '')\n",
    "    conn = sqlite3.connect(f)\n",
    "    match_df = pd.read_sql('''\n",
    "        with c1 as (\n",
    "            SELECT entry_id, version, title FROM entryversion\n",
    "        )\n",
    "            select \n",
    "                c1.entry_id as entry_id, \n",
    "                c1.version as version_x,\n",
    "                c1.title = c2.title as headlines_match\n",
    "                from c1\n",
    "            join c1 as c2 on c1.entry_id = c2.entry_id AND c1.version + 1 = c2.version\n",
    "    ''', con=conn)\n",
    "    all_headline_match_dfs.append(match_df)\n",
    "    ! gzip $f"
   ]
  },
  {
   "cell_type": "code",
   "execution_count": 279,
   "metadata": {},
   "outputs": [],
   "source": [
    "headline_match_df_all = pd.concat(all_headline_match_dfs)"
   ]
  },
  {
   "cell_type": "code",
   "execution_count": 290,
   "metadata": {},
   "outputs": [
    {
     "data": {
      "text/plain": [
       "1.0    1826609\n",
       "0.0     376944\n",
       "Name: headlines_match, dtype: int64"
      ]
     },
     "execution_count": 290,
     "metadata": {},
     "output_type": "execute_result"
    }
   ],
   "source": [
    "headline_match_df_all['headlines_match'].value_counts()"
   ]
  },
  {
   "cell_type": "code",
   "execution_count": 291,
   "metadata": {},
   "outputs": [
    {
     "data": {
      "text/plain": [
       "1.0    0.828938\n",
       "0.0    0.171062\n",
       "Name: headlines_match, dtype: float64"
      ]
     },
     "execution_count": 291,
     "metadata": {},
     "output_type": "execute_result"
    }
   ],
   "source": [
    "headline_match_df_all['headlines_match'].value_counts().pipe(lambda s: s/s.sum())"
   ]
  },
  {
   "cell_type": "code",
   "execution_count": 292,
   "metadata": {},
   "outputs": [
    {
     "data": {
      "text/html": [
       "<div>\n",
       "<style scoped>\n",
       "    .dataframe tbody tr th:only-of-type {\n",
       "        vertical-align: middle;\n",
       "    }\n",
       "\n",
       "    .dataframe tbody tr th {\n",
       "        vertical-align: top;\n",
       "    }\n",
       "\n",
       "    .dataframe thead th {\n",
       "        text-align: right;\n",
       "    }\n",
       "</style>\n",
       "<table border=\"1\" class=\"dataframe\">\n",
       "  <thead>\n",
       "    <tr style=\"text-align: right;\">\n",
       "      <th></th>\n",
       "      <th>entry_id</th>\n",
       "      <th>version_x</th>\n",
       "      <th>headlines_match</th>\n",
       "    </tr>\n",
       "  </thead>\n",
       "  <tbody>\n",
       "    <tr>\n",
       "      <th>0</th>\n",
       "      <td>1</td>\n",
       "      <td>0.0</td>\n",
       "      <td>1.0</td>\n",
       "    </tr>\n",
       "    <tr>\n",
       "      <th>1</th>\n",
       "      <td>2</td>\n",
       "      <td>0.0</td>\n",
       "      <td>1.0</td>\n",
       "    </tr>\n",
       "    <tr>\n",
       "      <th>2</th>\n",
       "      <td>3</td>\n",
       "      <td>0.0</td>\n",
       "      <td>1.0</td>\n",
       "    </tr>\n",
       "    <tr>\n",
       "      <th>3</th>\n",
       "      <td>4</td>\n",
       "      <td>0.0</td>\n",
       "      <td>1.0</td>\n",
       "    </tr>\n",
       "    <tr>\n",
       "      <th>4</th>\n",
       "      <td>5</td>\n",
       "      <td>0.0</td>\n",
       "      <td>1.0</td>\n",
       "    </tr>\n",
       "    <tr>\n",
       "      <th>...</th>\n",
       "      <td>...</td>\n",
       "      <td>...</td>\n",
       "      <td>...</td>\n",
       "    </tr>\n",
       "    <tr>\n",
       "      <th>936767</th>\n",
       "      <td>2023662</td>\n",
       "      <td>0.0</td>\n",
       "      <td>1.0</td>\n",
       "    </tr>\n",
       "    <tr>\n",
       "      <th>936768</th>\n",
       "      <td>2023662</td>\n",
       "      <td>1.0</td>\n",
       "      <td>0.0</td>\n",
       "    </tr>\n",
       "    <tr>\n",
       "      <th>936769</th>\n",
       "      <td>2023672</td>\n",
       "      <td>0.0</td>\n",
       "      <td>0.0</td>\n",
       "    </tr>\n",
       "    <tr>\n",
       "      <th>936770</th>\n",
       "      <td>2023684</td>\n",
       "      <td>0.0</td>\n",
       "      <td>0.0</td>\n",
       "    </tr>\n",
       "    <tr>\n",
       "      <th>936771</th>\n",
       "      <td>2023701</td>\n",
       "      <td>0.0</td>\n",
       "      <td>1.0</td>\n",
       "    </tr>\n",
       "  </tbody>\n",
       "</table>\n",
       "<p>2203756 rows × 3 columns</p>\n",
       "</div>"
      ],
      "text/plain": [
       "        entry_id  version_x  headlines_match\n",
       "0              1        0.0              1.0\n",
       "1              2        0.0              1.0\n",
       "2              3        0.0              1.0\n",
       "3              4        0.0              1.0\n",
       "4              5        0.0              1.0\n",
       "...          ...        ...              ...\n",
       "936767   2023662        0.0              1.0\n",
       "936768   2023662        1.0              0.0\n",
       "936769   2023672        0.0              0.0\n",
       "936770   2023684        0.0              0.0\n",
       "936771   2023701        0.0              1.0\n",
       "\n",
       "[2203756 rows x 3 columns]"
      ]
     },
     "execution_count": 292,
     "metadata": {},
     "output_type": "execute_result"
    }
   ],
   "source": [
    "headline_match_df_all['version_bins']"
   ]
  },
  {
   "cell_type": "code",
   "execution_count": 298,
   "metadata": {},
   "outputs": [],
   "source": [
    "headline_match_df_all['version_bins'] = headline_match_df_all['version_x'].pipe(lambda s: pd.cut(s, [-1, 0, 1, 2, 4, 8, 16,32, 64], right=False))"
   ]
  },
  {
   "cell_type": "code",
   "execution_count": 323,
   "metadata": {},
   "outputs": [
    {
     "data": {
      "image/png": "[encoded data removed]",
      "text/plain": [
       "<Figure size 288x144 with 1 Axes>"
      ]
     },
     "metadata": {
      "needs_background": "light"
     },
     "output_type": "display_data"
    }
   ],
   "source": [
    "ax = (headline_match_df_all\n",
    "      .groupby('version_bins')['headlines_match']\n",
    "      .mean()\n",
    "      .dropna()\n",
    "      .pipe(lambda s: 1-s)\n",
    "      .pipe(lambda s: s * 100)\n",
    "      .plot(kind='bar', figsize=(4,2))\n",
    "     )\n",
    "ax.spines['top'].set_visible(False)\n",
    "ax.spines['right'].set_visible(False)\n",
    "plt.ylabel('Headline $\\\\nabla$ (% pairs)')\n",
    "plt.xticks(rotation=45, horizontalalignment='right')\n",
    "plt.xlabel('Version (left)')\n",
    "plt.savefig('../presentations/acl2022/figures/headline-changes-by-version.pdf', bbox_inches='tight')"
   ]
  },
  {
   "cell_type": "markdown",
   "metadata": {},
   "source": [
    "# Dist over versions"
   ]
  },
  {
   "cell_type": "code",
   "execution_count": 1,
   "metadata": {},
   "outputs": [],
   "source": [
    "import glob\n",
    "import pandas as pd \n",
    "import sqlite3"
   ]
  },
  {
   "cell_type": "code",
   "execution_count": 2,
   "metadata": {},
   "outputs": [],
   "source": [
    "glob.glob('../data/diffengine-diffs/db/*')\n",
    "to_run = [\n",
    "#  '../data/diffengine-diffs/db/cnn.db.gz',\n",
    " '../data/diffengine-diffs/db/nationalpost.db.gz',\n",
    " '../data/diffengine-diffs/db/calgaryherald.db.gz',\n",
    " '../data/diffengine-diffs/db/globemail.db.gz',\n",
    " '../data/diffengine-diffs/db/torontostar.db.gz',\n",
    " '../data/diffengine-diffs/db/ap.db.gz',\n",
    " '../data/diffengine-diffs/db/dailymail.db.gz',\n",
    " '../data/diffengine-diffs/db/therebel.db.gz',\n",
    " '../data/diffengine-diffs/db/newssniffer-washpo.db.gz',\n",
    " '../data/diffengine-diffs/db/newssniffer-guardian.db.gz',\n",
    " '../data/diffengine-diffs/db/telegraph.db.gz',\n",
    " '../data/diffengine-diffs/db/reuters.db.gz',\n",
    " '../data/diffengine-diffs/db/torontosun.db.gz',\n",
    " '../data/diffengine-diffs/db/newssniffer-independent.db.gz',\n",
    "#  '../data/diffengine-diffs/db/bbc.db.gz',\n",
    " '../data/diffengine-diffs/db/cbc.db.gz',\n",
    " '../data/diffengine-diffs/db/newssniffer-nytimes.db.gz',\n",
    " '../data/diffengine-diffs/db/canadaland.db.gz',\n",
    " '../data/diffengine-diffs/db/newssniffer-bbc.db.gz',\n",
    " '../data/diffengine-diffs/db/fox.db.gz',\n",
    " '../data/diffengine-diffs/db/lapresse.db.gz'\n",
    "]"
   ]
  },
  {
   "cell_type": "code",
   "execution_count": 358,
   "metadata": {},
   "outputs": [
    {
     "name": "stdout",
     "output_type": "stream",
     "text": [
      "../data/diffengine-diffs/db/nationalpost.db.gz\n",
      "../data/diffengine-diffs/db/calgaryherald.db.gz\n",
      "../data/diffengine-diffs/db/globemail.db.gz\n",
      "../data/diffengine-diffs/db/torontostar.db.gz\n",
      "../data/diffengine-diffs/db/ap.db.gz\n",
      "../data/diffengine-diffs/db/dailymail.db.gz\n",
      "../data/diffengine-diffs/db/therebel.db.gz\n",
      "../data/diffengine-diffs/db/newssniffer-washpo.db.gz\n",
      "../data/diffengine-diffs/db/newssniffer-guardian.db.gz\n",
      "../data/diffengine-diffs/db/telegraph.db.gz\n",
      "../data/diffengine-diffs/db/reuters.db.gz\n",
      "gunzip: can't stat: ../data/diffengine-diffs/db/reuters.db.gz (../data/diffengine-diffs/db/reuters.db.gz.gz): No such file or directory\n",
      "../data/diffengine-diffs/db/torontosun.db.gz\n",
      "../data/diffengine-diffs/db/newssniffer-independent.db.gz\n",
      "gunzip: can't stat: ../data/diffengine-diffs/db/newssniffer-independent.db.gz (../data/diffengine-diffs/db/newssniffer-independent.db.gz.gz): No such file or directory\n",
      "../data/diffengine-diffs/db/cbc.db.gz\n",
      "../data/diffengine-diffs/db/newssniffer-nytimes.db.gz\n",
      "../data/diffengine-diffs/db/canadaland.db.gz\n",
      "../data/diffengine-diffs/db/newssniffer-bbc.db.gz\n",
      "../data/diffengine-diffs/db/fox.db.gz\n",
      "../data/diffengine-diffs/db/lapresse.db.gz\n"
     ]
    }
   ],
   "source": [
    "import os \n",
    "version_counts = []\n",
    "for f in to_run:\n",
    "    print(f)\n",
    "    if f.endswith('.gz') and not os.path.exists(f.replace('gz', '')):\n",
    "        ! gunzip -f $f\n",
    "    f = f.replace('.gz', '')\n",
    "    source = f.split('/')[-1].split('-')[-1].replace('.db', '')\n",
    "    conn = sqlite3.connect(f)\n",
    "    try:\n",
    "        v_df = pd.read_sql('''\n",
    "            with c1 as (\n",
    "                SELECT DISTINCT entry_id, num_versions from entryversion\n",
    "            )\n",
    "            SELECT num_versions as max_version, count(1) as c \n",
    "                FROM c1\n",
    "                GROUP BY num_versions\n",
    "        ''', con=conn)\n",
    "        v_df['source'] = source\n",
    "        version_counts.append(v_df)\n",
    "    except:\n",
    "        pass\n",
    "    ! gzip $f"
   ]
  },
  {
   "cell_type": "code",
   "execution_count": 359,
   "metadata": {},
   "outputs": [],
   "source": [
    "version_counts_all = pd.concat(version_counts)"
   ]
  },
  {
   "cell_type": "code",
   "execution_count": 360,
   "metadata": {},
   "outputs": [],
   "source": [
    "version_counts_all.to_csv('cache/max_version_counts_by_source.csv')"
   ]
  },
  {
   "cell_type": "code",
   "execution_count": 126,
   "metadata": {},
   "outputs": [],
   "source": [
    "import numpy as np\n",
    "import pandas as pd "
   ]
  },
  {
   "cell_type": "code",
   "execution_count": 129,
   "metadata": {},
   "outputs": [],
   "source": [
    "version_counts_all = pd.read_csv('cache/max_version_counts_by_source.csv', index_col=0)"
   ]
  },
  {
   "cell_type": "code",
   "execution_count": 152,
   "metadata": {},
   "outputs": [
    {
     "data": {
      "text/plain": [
       "1177438"
      ]
     },
     "execution_count": 152,
     "metadata": {},
     "output_type": "execute_result"
    }
   ],
   "source": [
    "version_counts_all['c'].sum()"
   ]
  },
  {
   "cell_type": "code",
   "execution_count": 132,
   "metadata": {},
   "outputs": [],
   "source": [
    "max_versions = []\n",
    "sources = []\n",
    "\n",
    "for max_version, c, source in version_counts_all.itertuples(index=False):\n",
    "    max_versions.extend([max_version] * c)\n",
    "    sources.extend([source] * c)\n",
    "\n",
    "expanded_versions_df = pd.DataFrame({'max_version': max_versions, 'source': sources})"
   ]
  },
  {
   "cell_type": "code",
   "execution_count": 136,
   "metadata": {},
   "outputs": [
    {
     "data": {
      "text/plain": [
       "3.7405553413428136"
      ]
     },
     "execution_count": 136,
     "metadata": {},
     "output_type": "execute_result"
    }
   ],
   "source": [
    "expanded_versions_df['max_version'].mean()"
   ]
  },
  {
   "cell_type": "code",
   "execution_count": 425,
   "metadata": {},
   "outputs": [],
   "source": [
    "source_ord = (expanded_versions_df\n",
    " .groupby('source')['max_version']\n",
    " .quantile(.75)\n",
    " .sort_values(ascending=False)\n",
    " .index\n",
    ")\n",
    "source_map = {v:k for k,v in enumerate(source_ord)}"
   ]
  },
  {
   "cell_type": "code",
   "execution_count": 429,
   "metadata": {},
   "outputs": [],
   "source": [
    "expanded_versions_df_sorted = expanded_versions_df.assign(order=lambda df: df['source'].map(source_map)).sort_values('order')"
   ]
  },
  {
   "cell_type": "code",
   "execution_count": 442,
   "metadata": {},
   "outputs": [
    {
     "name": "stdout",
     "output_type": "stream",
     "text": [
      "README.md        acl_natbib.bst   main.bbl         main.synctex.gz\r\n",
      "acl.sty          anthology.bib    main.blg         main.tex\r\n",
      "acl2021.bib      custom.bib       main.log         nert.sty\r\n",
      "acl2021.sty      \u001b[34mfigures\u001b[m\u001b[m/         main.out\r\n",
      "acl2021.tex      main.aux         main.pdf\r\n"
     ]
    }
   ],
   "source": [
    "ls ../presentations/acl2022/"
   ]
  },
  {
   "cell_type": "code",
   "execution_count": 443,
   "metadata": {},
   "outputs": [
    {
     "data": {
      "image/png": "[encoded data removed]",
      "text/plain": [
       "<Figure size 576x144 with 1 Axes>"
      ]
     },
     "metadata": {
      "needs_background": "light"
     },
     "output_type": "display_data"
    }
   ],
   "source": [
    "import seaborn as sns\n",
    "import matplotlib.pyplot as plt\n",
    "plt.rc('font', size=18)\n",
    "\n",
    "f, ax = plt.subplots(1, 1, figsize=(8, 2))\n",
    "ax = sns.boxplot(data=expanded_versions_df_sorted, y='max_version', x='source', showfliers=False, ax=ax)\n",
    "plt.xticks(rotation=45, horizontalalignment='right')\n",
    "plt.ylabel('# Vers / Doc')\n",
    "ax.spines['top'].set_visible(False)\n",
    "ax.spines['right'].set_visible(False)\n",
    "plt.xlabel('')\n",
    "plt.savefig('../presentations/acl2022/figures/boxplot-versions-per-source.pdf', bbox_inches='tight')"
   ]
  },
  {
   "cell_type": "code",
   "execution_count": 3,
   "metadata": {},
   "outputs": [
    {
     "name": "stdout",
     "output_type": "stream",
     "text": [
      "../data/diffengine-diffs/db/nationalpost.db.gz\n",
      "../data/diffengine-diffs/db/calgaryherald.db.gz\n",
      "../data/diffengine-diffs/db/globemail.db.gz\n",
      "../data/diffengine-diffs/db/torontostar.db.gz\n",
      "../data/diffengine-diffs/db/ap.db.gz\n",
      "../data/diffengine-diffs/db/dailymail.db.gz\n",
      "../data/diffengine-diffs/db/therebel.db.gz\n",
      "../data/diffengine-diffs/db/newssniffer-washpo.db.gz\n",
      "../data/diffengine-diffs/db/newssniffer-guardian.db.gz\n",
      "gunzip: can't stat: ../data/diffengine-diffs/db/newssniffer-guardian.db.gz (../data/diffengine-diffs/db/newssniffer-guardian.db.gz.gz): No such file or directory\n",
      "../data/diffengine-diffs/db/telegraph.db.gz\n",
      "../data/diffengine-diffs/db/reuters.db.gz\n",
      "../data/diffengine-diffs/db/torontosun.db.gz\n",
      "../data/diffengine-diffs/db/newssniffer-independent.db.gz\n",
      "../data/diffengine-diffs/db/cbc.db.gz\n",
      "../data/diffengine-diffs/db/newssniffer-nytimes.db.gz\n",
      "../data/diffengine-diffs/db/canadaland.db.gz\n",
      "../data/diffengine-diffs/db/newssniffer-bbc.db.gz\n",
      "../data/diffengine-diffs/db/fox.db.gz\n",
      "../data/diffengine-diffs/db/lapresse.db.gz\n"
     ]
    }
   ],
   "source": [
    "import os \n",
    "dt_counts = []\n",
    "for f in to_run:\n",
    "    print(f)\n",
    "    if f.endswith('.gz') and not os.path.exists(f.replace('gz', '')):\n",
    "        ! gunzip -f $f\n",
    "    f = f.replace('.gz', '')\n",
    "    source = f.split('/')[-1].split('-')[-1].replace('.db', '')\n",
    "    conn = sqlite3.connect(f)\n",
    "\n",
    "    update_times = pd.read_sql('''\n",
    "        WITH c1 as ( \n",
    "            SELECT \n",
    "                entry_id, version, JULIANDAY(DATETIME(created)) AS dt \n",
    "            FROM entryversion \n",
    "            WHERE num_versions < 40\n",
    "        ), c2 as (\n",
    "            SELECT\n",
    "                e1.entry_id as entry_id, \n",
    "                e1.version as version_x, \n",
    "                e2.version as version_y,\n",
    "                e1.dt as dt_x,\n",
    "                e2.dt as dt_y\n",
    "            FROM c1 e1\n",
    "            JOIN c1 e2 on e1.entry_id = e2.entry_id AND e1.version + 1 = e2.version\n",
    "        )\n",
    "        SELECT dt_y - dt_x as DAYS from c2\n",
    "    ''', con=conn)\n",
    "    update_times['source'] = source\n",
    "    dt_counts.append(update_times)\n",
    "    ! gzip $f"
   ]
  },
  {
   "cell_type": "code",
   "execution_count": 6,
   "metadata": {},
   "outputs": [],
   "source": [
    "dt_counts_all = pd.concat(dt_counts)"
   ]
  },
  {
   "cell_type": "code",
   "execution_count": 54,
   "metadata": {
    "scrolled": true
   },
   "outputs": [],
   "source": [
    "dt_counts_grouped = dt_counts_all.groupby('source').quantile(.75).sort_values('DAYS', ascending=False)"
   ]
  },
  {
   "cell_type": "code",
   "execution_count": 55,
   "metadata": {},
   "outputs": [],
   "source": [
    "dt_counts_grouped_75 = dt_counts_all.groupby('source').quantile(.75).sort_values('DAYS', ascending=False)\n",
    "dt_mapper = {v:k for k,v in enumerate(dt_counts_grouped_75.index)}"
   ]
  },
  {
   "cell_type": "code",
   "execution_count": 56,
   "metadata": {},
   "outputs": [],
   "source": [
    "dt_counts_all = dt_counts_all.assign(order=lambda df: df['source'].map(dt_mapper)).sort_values('order')"
   ]
  },
  {
   "cell_type": "code",
   "execution_count": 110,
   "metadata": {},
   "outputs": [],
   "source": [
    "split_1 = 5\n",
    "split_2 = 10\n",
    "split_3 = 14\n",
    "group_1 = dt_counts_grouped.iloc[:split_1]\n",
    "group_2 = dt_counts_grouped.iloc[split_1:split_2]\n",
    "group_3 = dt_counts_grouped.iloc[split_2:split_3]\n",
    "group_4 = dt_counts_grouped.iloc[split_3:]"
   ]
  },
  {
   "cell_type": "code",
   "execution_count": 125,
   "metadata": {},
   "outputs": [
    {
     "data": {
      "image/png": "[encoded data removed]",
      "text/plain": [
       "<Figure size 288x144 with 1 Axes>"
      ]
     },
     "metadata": {
      "needs_background": "light"
     },
     "output_type": "display_data"
    }
   ],
   "source": [
    "import seaborn as sns\n",
    "import matplotlib.pyplot as plt\n",
    "plt.rc('font', size=18)\n",
    "\n",
    "f, ax = plt.subplots(1, 1, figsize=(4, 2))\n",
    "ax = sns.boxplot(\n",
    "    data=dt_counts_all.loc[lambda df: df['source'].isin(group_1.index)].sort_values('order'), \n",
    "    y='DAYS',\n",
    "    x='source',\n",
    "    showfliers=False,\n",
    "    ax=ax\n",
    ")\n",
    "plt.xticks(rotation=25, horizontalalignment='right')\n",
    "plt.ylabel('Days/Update')\n",
    "ax.spines['top'].set_visible(False)\n",
    "ax.spines['right'].set_visible(False)\n",
    "plt.xlabel('')\n",
    "plt.savefig('../presentations/acl2022/figures/time-delta-by-source-1.pdf', bbox_inches='tight')"
   ]
  },
  {
   "cell_type": "code",
   "execution_count": 112,
   "metadata": {},
   "outputs": [],
   "source": [
    "import numpy as np "
   ]
  },
  {
   "cell_type": "code",
   "execution_count": 124,
   "metadata": {},
   "outputs": [
    {
     "data": {
      "image/png": "[encoded data removed]",
      "text/plain": [
       "<Figure size 288x144 with 1 Axes>"
      ]
     },
     "metadata": {
      "needs_background": "light"
     },
     "output_type": "display_data"
    }
   ],
   "source": [
    "f, ax = plt.subplots(1, 1, figsize=(4, 2))\n",
    "ax = sns.boxplot(\n",
    "    data=(dt_counts_all\n",
    "         .loc[lambda df: df['source'].isin(group_2.index)]\n",
    "         .sort_values('order')\n",
    "#          .assign(DAYS=lambda df: np.log10(df['DAYS']).replace(-np.inf, 0).fillna(0))\n",
    "        ),\n",
    "    y='DAYS',\n",
    "    x='source',\n",
    "    showfliers=False,\n",
    "    ax=ax\n",
    ")\n",
    "\n",
    "# from matplotlib import ticker as mticker\n",
    "# ax.yaxis.set_major_formatter(mticker.StrMethodFormatter(\"$10^{{{x:.0f}}}$\"))\n",
    "# ax.yaxis.set_ticks([np.log10(x) for p in range(-5,3) for x in np.linspace(10**p, 10**(p+1), 10)], minor=True)\n",
    "\n",
    "plt.xticks(rotation=25, horizontalalignment='right')\n",
    "plt.ylabel('Days/Update')\n",
    "# plt.semilogy()\n",
    "ax.spines['top'].set_visible(False)\n",
    "ax.spines['right'].set_visible(False)\n",
    "plt.xlabel('')\n",
    "plt.savefig('../presentations/acl2022/figures/time-delta-by-source-2.pdf', bbox_inches='tight')"
   ]
  },
  {
   "cell_type": "code",
   "execution_count": 120,
   "metadata": {},
   "outputs": [
    {
     "data": {
      "image/png": "[encoded data removed]",
      "text/plain": [
       "<Figure size 288x144 with 1 Axes>"
      ]
     },
     "metadata": {
      "needs_background": "light"
     },
     "output_type": "display_data"
    }
   ],
   "source": [
    "f, ax = plt.subplots(1, 1, figsize=(4, 2))\n",
    "ax = sns.boxplot(\n",
    "    data=dt_counts_all.loc[lambda df: df['source'].isin(group_3.index)].sort_values('order'), \n",
    "    y='DAYS',\n",
    "    x='source',\n",
    "    showfliers=False,\n",
    "    ax=ax\n",
    ")\n",
    "plt.xticks(rotation=25, horizontalalignment='right')\n",
    "plt.ylabel('Days/Update')\n",
    "ax.spines['top'].set_visible(False)\n",
    "ax.spines['right'].set_visible(False)\n",
    "plt.xlabel('')\n",
    "plt.savefig('../presentations/acl2022/figures/time-delta-by-source-3.pdf', bbox_inches='tight')"
   ]
  },
  {
   "cell_type": "code",
   "execution_count": 123,
   "metadata": {},
   "outputs": [
    {
     "data": {
      "image/png": "[encoded data removed]",
      "text/plain": [
       "<Figure size 288x144 with 1 Axes>"
      ]
     },
     "metadata": {
      "needs_background": "light"
     },
     "output_type": "display_data"
    }
   ],
   "source": [
    "f, ax = plt.subplots(1, 1, figsize=(4, 2))\n",
    "ax = sns.boxplot(\n",
    "    data=dt_counts_all.loc[lambda df: df['source'].isin(group_4.index)].sort_values('order'), \n",
    "    y='DAYS',\n",
    "    x='source',\n",
    "    showfliers=False,\n",
    "    ax=ax\n",
    ")\n",
    "plt.xticks(rotation=25, horizontalalignment='right')\n",
    "plt.ylabel('Days/Update')\n",
    "ax.spines['top'].set_visible(False)\n",
    "ax.spines['right'].set_visible(False)\n",
    "plt.xlabel('')\n",
    "plt.savefig('../presentations/acl2022/figures/time-delta-by-source-4.pdf', bbox_inches='tight')"
   ]
  },
  {
   "cell_type": "code",
   "execution_count": 157,
   "metadata": {},
   "outputs": [
    {
     "data": {
      "text/plain": [
       "21.749276620568708"
      ]
     },
     "execution_count": 157,
     "metadata": {},
     "output_type": "execute_result"
    }
   ],
   "source": [
    "dt_counts_all.loc[lambda df: df['source'].isin(group_1.index)]['DAYS'].median()"
   ]
  },
  {
   "cell_type": "code",
   "execution_count": 158,
   "metadata": {},
   "outputs": [
    {
     "data": {
      "text/plain": [
       "0.9421643521636724"
      ]
     },
     "execution_count": 158,
     "metadata": {},
     "output_type": "execute_result"
    }
   ],
   "source": [
    "dt_counts_all.loc[lambda df: df['source'].isin(group_2.index)]['DAYS'].median()"
   ]
  },
  {
   "cell_type": "code",
   "execution_count": 162,
   "metadata": {},
   "outputs": [
    {
     "data": {
      "text/plain": [
       "0.3502372682560235"
      ]
     },
     "execution_count": 162,
     "metadata": {},
     "output_type": "execute_result"
    }
   ],
   "source": [
    "dt_counts_all.loc[lambda df: df['source'].isin(group_3.index)]['DAYS'].median()"
   ]
  },
  {
   "cell_type": "code",
   "execution_count": 160,
   "metadata": {},
   "outputs": [
    {
     "data": {
      "text/plain": [
       "8.405694438144565"
      ]
     },
     "execution_count": 160,
     "metadata": {},
     "output_type": "execute_result"
    }
   ],
   "source": [
    "dt_counts_all.loc[lambda df: df['source'].isin(group_3.index)]['DAYS'].median() * 24"
   ]
  },
  {
   "cell_type": "code",
   "execution_count": 163,
   "metadata": {},
   "outputs": [
    {
     "data": {
      "text/plain": [
       "0.05555555550381541"
      ]
     },
     "execution_count": 163,
     "metadata": {},
     "output_type": "execute_result"
    }
   ],
   "source": [
    "dt_counts_all.loc[lambda df: df['source'].isin(group_4.index)]['DAYS'].median()"
   ]
  },
  {
   "cell_type": "code",
   "execution_count": 161,
   "metadata": {},
   "outputs": [
    {
     "data": {
      "text/plain": [
       "1.33333333209157"
      ]
     },
     "execution_count": 161,
     "metadata": {},
     "output_type": "execute_result"
    }
   ],
   "source": [
    "dt_counts_all.loc[lambda df: df['source'].isin(group_4.index)]['DAYS'].median() * 24"
   ]
  },
  {
   "cell_type": "code",
   "execution_count": null,
   "metadata": {},
   "outputs": [],
   "source": []
  },
  {
   "cell_type": "code",
   "execution_count": null,
   "metadata": {},
   "outputs": [],
   "source": []
  },
  {
   "cell_type": "code",
   "execution_count": null,
   "metadata": {},
   "outputs": [],
   "source": []
  },
  {
   "cell_type": "code",
   "execution_count": null,
   "metadata": {},
   "outputs": [],
   "source": []
  },
  {
   "cell_type": "code",
   "execution_count": null,
   "metadata": {},
   "outputs": [],
   "source": []
  },
  {
   "cell_type": "code",
   "execution_count": null,
   "metadata": {},
   "outputs": [],
   "source": []
  },
  {
   "cell_type": "code",
   "execution_count": null,
   "metadata": {},
   "outputs": [],
   "source": []
  },
  {
   "cell_type": "code",
   "execution_count": null,
   "metadata": {},
   "outputs": [],
   "source": []
  },
  {
   "cell_type": "code",
   "execution_count": null,
   "metadata": {},
   "outputs": [],
   "source": []
  },
  {
   "cell_type": "code",
   "execution_count": null,
   "metadata": {},
   "outputs": [],
   "source": []
  },
  {
   "cell_type": "code",
   "execution_count": 7,
   "metadata": {},
   "outputs": [],
   "source": [
    "v_counts = (version_counts_all\n",
    " .assign(version_bin=lambda df: pd.cut(df['version'], bins=[0,1,2,4,8,16,32,64,128,256,512,1024,2048], right=False))\n",
    ").groupby('version_bin')['c'].sum()"
   ]
  },
  {
   "cell_type": "code",
   "execution_count": 8,
   "metadata": {},
   "outputs": [
    {
     "data": {
      "text/plain": [
       "version_bin\n",
       "[0, 1)          1177438\n",
       "[1, 2)           958540\n",
       "[2, 4)           905469\n",
       "[4, 8)           602022\n",
       "[8, 16)          321489\n",
       "[16, 32)         205786\n",
       "[32, 64)         105821\n",
       "[64, 128)         43306\n",
       "[128, 256)        29569\n",
       "[256, 512)        29846\n",
       "[512, 1024)       13630\n",
       "[1024, 2048)        230\n",
       "Name: c, dtype: int64"
      ]
     },
     "execution_count": 8,
     "metadata": {},
     "output_type": "execute_result"
    }
   ],
   "source": [
    "v_counts"
   ]
  },
  {
   "cell_type": "code",
   "execution_count": 2,
   "metadata": {},
   "outputs": [
    {
     "name": "stdout",
     "output_type": "stream",
     "text": [
      "corpus-webis-editorials-16-processed.csv\r\n",
      "doc-edits-large__add-labels.tsv\r\n",
      "doc-edits-large__deleted-labels.tsv.gz\r\n",
      "doc-edits-large__edited-labels.tsv.gz\r\n",
      "doc-edits-large__refactored-labels.tsv.gz\r\n",
      "doc-edits__add-labels.tsv\r\n",
      "doc-edits__deleted-labels.tsv\r\n",
      "doc-edits__edited-labels.tsv\r\n",
      "doc-edits__refactored-labels.tsv\r\n",
      "finlayson-discourse-data.csv\r\n",
      "news-discourse-high-level-labels-processed.tsv\r\n",
      "news-discourse-processed.tsv\r\n",
      "news-discourse-training-data.csv\r\n",
      "pdtb-training-data.csv\r\n",
      "rst-training-data.csv\r\n",
      "semi-balanced-data-by-sentence.csv\r\n",
      "semi-balanced-data-by-sentence.tsv\r\n",
      "sentence-edits__add-labels.tsv\r\n",
      "sentence-edits__operation-labels.tsv\r\n",
      "sentence-edits__refactor-labels.tsv\r\n",
      "spangher-discourse-data.csv\r\n",
      "translated_labeled_articles__en-de.single_model.csv.gz\r\n",
      "unlabeled_articles.csv\r\n",
      "unlabeled_articles_processed.tsv\r\n"
     ]
    }
   ],
   "source": [
    "ls ../../controlled-sequence-gen/data/"
   ]
  },
  {
   "cell_type": "code",
   "execution_count": 4,
   "metadata": {},
   "outputs": [],
   "source": [
    "import pandas as pd "
   ]
  },
  {
   "cell_type": "code",
   "execution_count": 24,
   "metadata": {},
   "outputs": [],
   "source": [
    "adds = pd.read_csv('../../controlled-sequence-gen/data/doc-edits-large__add-labels.tsv', sep='\\t', header=None)\n",
    "dels = pd.read_csv('../../controlled-sequence-gen/data/doc-edits-large__deleted-labels.tsv.gz', sep='\\t', header=None)\n",
    "edits = pd.read_csv('../../controlled-sequence-gen/data/doc-edits-large__edited-labels.tsv.gz', sep='\\t', header=None)\n",
    "refs = pd.read_csv('../../controlled-sequence-gen/data/doc-edits-large__refactored-labels.tsv.gz', sep='\\t', header=None)"
   ]
  },
  {
   "cell_type": "code",
   "execution_count": 25,
   "metadata": {},
   "outputs": [],
   "source": [
    "multitask = adds.copy()\n",
    "multitask[0] = adds[0] + '|||' + dels[0] + '|||' + edits[0] + '|||' + refs[0]"
   ]
  },
  {
   "cell_type": "code",
   "execution_count": 27,
   "metadata": {},
   "outputs": [],
   "source": [
    "multitask.to_csv('../../controlled-sequence-gen/data/doc-edits-large__multitask.tsv.gz', sep='\\t', header=False, index=False)"
   ]
  },
  {
   "cell_type": "code",
   "execution_count": 26,
   "metadata": {},
   "outputs": [
    {
     "data": {
      "text/plain": [
       "'added: [1, 5)|||deleted: [3, 100)|||edited: [1, 3)|||refactored: (-100, -1]'"
      ]
     },
     "execution_count": 26,
     "metadata": {},
     "output_type": "execute_result"
    }
   ],
   "source": [
    "multitask[0][0]"
   ]
  },
  {
   "cell_type": "code",
   "execution_count": null,
   "metadata": {},
   "outputs": [],
   "source": []
  },
  {
   "cell_type": "code",
   "execution_count": 139,
   "metadata": {},
   "outputs": [
    {
     "name": "stderr",
     "output_type": "stream",
     "text": [
      "/Users/alex/opt/anaconda3/lib/python3.7/site-packages/IPython/core/interactiveshell.py:3331: DtypeWarning: Columns (0,1,4) have mixed types.Specify dtype option on import or set low_memory=False.\n",
      "  exec(code_obj, self.user_global_ns, self.user_ns)\n"
     ]
    }
   ],
   "source": [
    "training_data = pd.read_csv('../modeling/data/training_data_full.csv.gz')"
   ]
  },
  {
   "cell_type": "code",
   "execution_count": 143,
   "metadata": {},
   "outputs": [
    {
     "data": {
      "text/plain": [
       "(302641,)"
      ]
     },
     "execution_count": 143,
     "metadata": {},
     "output_type": "execute_result"
    }
   ],
   "source": [
    "training_data['entry_id'].drop_duplicates().shape"
   ]
  },
  {
   "cell_type": "code",
   "execution_count": 150,
   "metadata": {},
   "outputs": [],
   "source": [
    "t = (training_data\n",
    " [['deleted_label', 'add_above_label', 'add_below_label', 'edited_label', 'unchanged_label', 'refactored_label']]\n",
    " .fillna(0)\n",
    " .assign(refactored_label=lambda df: (df['refactored_label'] != 0).astype(int))\n",
    " .sum()\n",
    ")"
   ]
  },
  {
   "cell_type": "code",
   "execution_count": 151,
   "metadata": {},
   "outputs": [
    {
     "data": {
      "text/plain": [
       "deleted_label         937063.0\n",
       "add_above_label      1427850.0\n",
       "add_below_label      1631487.0\n",
       "edited_label         2379602.0\n",
       "unchanged_label     10291433.0\n",
       "refactored_label      111383.0\n",
       "dtype: float64"
      ]
     },
     "execution_count": 151,
     "metadata": {},
     "output_type": "execute_result"
    }
   ],
   "source": [
    "t"
   ]
  },
  {
   "cell_type": "code",
   "execution_count": 154,
   "metadata": {},
   "outputs": [
    {
     "data": {
      "text/plain": [
       "deleted_label       1.424291e+07\n",
       "add_above_label     2.170264e+07\n",
       "add_below_label     2.479783e+07\n",
       "edited_label        3.616882e+07\n",
       "unchanged_label     1.564249e+08\n",
       "refactored_label    1.692969e+06\n",
       "dtype: float64"
      ]
     },
     "execution_count": 154,
     "metadata": {},
     "output_type": "execute_result"
    }
   ],
   "source": [
    "(4_600_000 / 302_641) * t"
   ]
  },
  {
   "cell_type": "code",
   "execution_count": null,
   "metadata": {},
   "outputs": [],
   "source": []
  },
  {
   "cell_type": "code",
   "execution_count": null,
   "metadata": {},
   "outputs": [],
   "source": []
  },
  {
   "cell_type": "code",
   "execution_count": null,
   "metadata": {},
   "outputs": [],
   "source": []
  },
  {
   "cell_type": "markdown",
   "metadata": {},
   "source": [
    "# Make Data for Version Task"
   ]
  },
  {
   "cell_type": "code",
   "execution_count": 1,
   "metadata": {},
   "outputs": [],
   "source": [
    "import glob\n",
    "import sqlite3\n",
    "import pandas as pd "
   ]
  },
  {
   "cell_type": "code",
   "execution_count": 2,
   "metadata": {},
   "outputs": [
    {
     "name": "stdout",
     "output_type": "stream",
     "text": [
      "ap-matched-sentences.db.gz           nyt-matched-sentences.db.gz\r\n",
      "bbc-2-matched-sentences.db.gz        reuters-matched-sentences.db.gz\r\n",
      "guardian-matched-sentences.db.gz     wp-matched-sentences.db.gz\r\n",
      "independent-matched-sentences.db.gz\r\n"
     ]
    }
   ],
   "source": [
    "ls ../data/diffengine-diffs/spark-output/"
   ]
  },
  {
   "cell_type": "code",
   "execution_count": 311,
   "metadata": {},
   "outputs": [],
   "source": [
    "glob.glob('../data/diffengine-diffs/db/*')\n",
    "to_run = [\n",
    "#  '../data/diffengine-diffs/db/nationalpost.db.gz',\n",
    "#  '../data/diffengine-diffs/db/calgaryherald.db.gz',\n",
    "#  '../data/diffengine-diffs/db/globemail.db.gz',\n",
    "#  '../data/diffengine-diffs/db/torontostar.db.gz',\n",
    " '../data/diffengine-diffs/db/ap.db.gz',\n",
    "#  '../data/diffengine-diffs/db/dailymail.db.gz',\n",
    "#  '../data/diffengine-diffs/db/therebel.db.gz',\n",
    " '../data/diffengine-diffs/db/newssniffer-washpo.db.gz',\n",
    " '../data/diffengine-diffs/db/newssniffer-guardian.db.gz',\n",
    "#  '../data/diffengine-diffs/db/telegraph.db.gz',\n",
    " '../data/diffengine-diffs/db/reuters.db.gz',\n",
    "#  '../data/diffengine-diffs/db/torontosun.db.gz',\n",
    " '../data/diffengine-diffs/db/newssniffer-independent.db.gz',\n",
    "#  '../data/diffengine-diffs/db/bbc.db.gz',\n",
    "#  '../data/diffengine-diffs/db/cbc.db.gz',\n",
    " '../data/diffengine-diffs/db/newssniffer-nytimes.db.gz',\n",
    "#  '../data/diffengine-diffs/db/canadaland.db.gz',\n",
    " '../data/diffengine-diffs/db/newssniffer-bbc.db.gz',\n",
    "#  '../data/diffengine-diffs/db/fox.db.gz',\n",
    "#  '../data/diffengine-diffs/db/lapresse.db.gz'\n",
    "]"
   ]
  },
  {
   "cell_type": "code",
   "execution_count": 6,
   "metadata": {},
   "outputs": [
    {
     "name": "stdout",
     "output_type": "stream",
     "text": [
      "../data/diffengine-diffs/db/ap.db.gz\n",
      "../data/diffengine-diffs/db/newssniffer-washpo.db.gz\n",
      "../data/diffengine-diffs/db/newssniffer-guardian.db.gz\n",
      "../data/diffengine-diffs/db/reuters.db.gz\n",
      "../data/diffengine-diffs/db/newssniffer-independent.db.gz\n",
      "../data/diffengine-diffs/db/newssniffer-nytimes.db.gz\n",
      "../data/diffengine-diffs/db/newssniffer-bbc.db.gz\n"
     ]
    }
   ],
   "source": [
    "import os \n",
    "all_version_info = []\n",
    "for f in to_run:\n",
    "    print(f)\n",
    "    if f.endswith('.gz') and not os.path.exists(f.replace('gz', '')):\n",
    "        ! gunzip -f $f\n",
    "    f = f.replace('.gz', '')\n",
    "    source = f.split('/')[-1].split('-')[-1].replace('.db', '')\n",
    "    conn = sqlite3.connect(f)\n",
    "    vers_info_df = pd.read_sql('''\n",
    "        SELECT entry_id, LENGTH(summary) as doc_len, num_versions, version FROM entryversion\n",
    "        WHERE num_versions < 40\n",
    "        AND doc_len < 2000\n",
    "    ''', con=conn)\n",
    "    vers_info_df['source'] = source\n",
    "    all_version_info.append(vers_info_df)\n",
    "    ! gzip $f"
   ]
  },
  {
   "cell_type": "code",
   "execution_count": 7,
   "metadata": {},
   "outputs": [],
   "source": [
    "all_version_info_df = pd.concat(all_version_info)"
   ]
  },
  {
   "cell_type": "code",
   "execution_count": 36,
   "metadata": {},
   "outputs": [
    {
     "data": {
      "text/plain": [
       "<matplotlib.axes._subplots.AxesSubplot at 0x7fdaa1573b90>"
      ]
     },
     "execution_count": 36,
     "metadata": {},
     "output_type": "execute_result"
    },
    {
     "data": {
      "image/png": "[encoded data removed]",
      "text/plain": [
       "<Figure size 432x288 with 1 Axes>"
      ]
     },
     "metadata": {
      "needs_background": "light"
     },
     "output_type": "display_data"
    }
   ],
   "source": [
    "all_version_info_df['doc_len'].hist(range=(0, 4000))"
   ]
  },
  {
   "cell_type": "code",
   "execution_count": 42,
   "metadata": {},
   "outputs": [],
   "source": [
    "source_weights = (\n",
    "    25000 * 1 / all_version_info_df.loc[lambda df: df['doc_len'] < 4000]['source'].value_counts()\n",
    ")"
   ]
  },
  {
   "cell_type": "code",
   "execution_count": null,
   "metadata": {},
   "outputs": [],
   "source": []
  },
  {
   "cell_type": "code",
   "execution_count": 21,
   "metadata": {},
   "outputs": [
    {
     "data": {
      "text/plain": [
       "False    2147745\n",
       "True      749280\n",
       "dtype: int64"
      ]
     },
     "execution_count": 21,
     "metadata": {},
     "output_type": "execute_result"
    }
   ],
   "source": [
    "(all_version_info_df['version'] == all_version_info_df['num_versions']-1).value_counts()"
   ]
  },
  {
   "cell_type": "code",
   "execution_count": 23,
   "metadata": {},
   "outputs": [
    {
     "name": "stderr",
     "output_type": "stream",
     "text": [
      "/Users/alex/opt/anaconda3/lib/python3.7/site-packages/IPython/core/interactiveshell.py:3331: DtypeWarning: Columns (0,1,4) have mixed types.Specify dtype option on import or set low_memory=False.\n",
      "  exec(code_obj, self.user_global_ns, self.user_ns)\n"
     ]
    }
   ],
   "source": [
    "earlier_training_data = pd.read_csv('../modeling/data/training_data_full.csv.gz')"
   ]
  },
  {
   "cell_type": "code",
   "execution_count": 28,
   "metadata": {},
   "outputs": [],
   "source": [
    "earlier_training_data = earlier_training_data.loc[lambda df: df['sentence'].notnull()]"
   ]
  },
  {
   "cell_type": "code",
   "execution_count": 29,
   "metadata": {},
   "outputs": [],
   "source": [
    "t = earlier_training_data.groupby(['source','entry_id', 'version'])['sentence'].aggregate(list)"
   ]
  },
  {
   "cell_type": "code",
   "execution_count": 31,
   "metadata": {},
   "outputs": [],
   "source": [
    "s = t.apply(lambda x: ' '.join(x).strip())"
   ]
  },
  {
   "cell_type": "code",
   "execution_count": 35,
   "metadata": {},
   "outputs": [
    {
     "data": {
      "text/plain": [
       "<matplotlib.axes._subplots.AxesSubplot at 0x7fd9d833b350>"
      ]
     },
     "execution_count": 35,
     "metadata": {},
     "output_type": "execute_result"
    },
    {
     "data": {
      "image/png": "[encoded data removed]",
      "text/plain": [
       "<Figure size 432x288 with 1 Axes>"
      ]
     },
     "metadata": {
      "needs_background": "light"
     },
     "output_type": "display_data"
    }
   ],
   "source": [
    "s.str.len().hist(range=(0, 10000))"
   ]
  },
  {
   "cell_type": "code",
   "execution_count": 312,
   "metadata": {},
   "outputs": [
    {
     "name": "stdout",
     "output_type": "stream",
     "text": [
      "../data/diffengine-diffs/db/ap.db.gz\n",
      "../data/diffengine-diffs/db/newssniffer-washpo.db.gz\n",
      "../data/diffengine-diffs/db/newssniffer-guardian.db.gz\n",
      "../data/diffengine-diffs/db/reuters.db.gz\n",
      "../data/diffengine-diffs/db/newssniffer-independent.db.gz\n",
      "../data/diffengine-diffs/db/newssniffer-nytimes.db.gz\n",
      "../data/diffengine-diffs/db/newssniffer-bbc.db.gz\n"
     ]
    }
   ],
   "source": [
    "import os \n",
    "all_version_info_w_summ = []\n",
    "for f in to_run:\n",
    "    print(f)\n",
    "    if f.endswith('.gz') and not os.path.exists(f.replace('gz', '')):\n",
    "        ! gunzip -f $f\n",
    "    f = f.replace('.gz', '')\n",
    "    source = f.split('/')[-1].split('-')[-1].replace('.db', '')\n",
    "    conn = sqlite3.connect(f)\n",
    "    vers_info_df = pd.read_sql('''\n",
    "        SELECT * FROM entryversion WHERE entry_id IN (\n",
    "            SELECT entry_id \n",
    "                FROM entryversion \n",
    "                WHERE num_versions < 40 AND LENGTH(summary) > 1000 AND LENGTH(summary) < 4000\n",
    "          ORDER BY RANDOM() LIMIT 30000\n",
    "        )\n",
    "    ''', con=conn)\n",
    "    vers_info_df['source'] = source\n",
    "    all_version_info_w_summ.append(vers_info_df)\n",
    "    ! gzip $f"
   ]
  },
  {
   "cell_type": "code",
   "execution_count": 313,
   "metadata": {},
   "outputs": [],
   "source": [
    "all_version_info_w_summ_df = pd.concat(all_version_info_w_summ)"
   ]
  },
  {
   "cell_type": "markdown",
   "metadata": {},
   "source": [
    "- balanced for length, version_x\n",
    "- equal numbers: is_updated=1, is_updated=0"
   ]
  },
  {
   "cell_type": "code",
   "execution_count": 314,
   "metadata": {},
   "outputs": [],
   "source": [
    "all_version_info_w_summ_df['doc_len'] = all_version_info_w_summ_df['summary'].str.len()\n",
    "all_version_info_w_summ_df = (\n",
    "    all_version_info_w_summ_df\n",
    "    .loc[lambda df: df['doc_len'] > 1400]\n",
    "#     .loc[lambda df: df['doc_len'] < 3500]\n",
    ")"
   ]
  },
  {
   "cell_type": "code",
   "execution_count": 322,
   "metadata": {},
   "outputs": [],
   "source": [
    "all_version_info_w_summ_df['label'] = (\n",
    "    all_version_info_w_summ_df.pipe(lambda df: df['version'] == df['num_versions']-1)\n",
    ")\n",
    "\n",
    "label_w = 10000* 1/all_version_info_w_summ_df['label'].value_counts()\n",
    "\n",
    "all_version_info_w_summ_df_lab = all_version_info_w_summ_df.merge(\n",
    "    label_w.to_frame('label_w'),\n",
    "    right_index=True,\n",
    "    left_on=['label']\n",
    ")\n",
    "\n",
    "b_lab__all_version_info_w_summ_df_lab = (\n",
    "    all_version_info_w_summ_df_lab.pipe(lambda df: df.sample(200_000, weights=df['label_w']))\n",
    ")"
   ]
  },
  {
   "cell_type": "code",
   "execution_count": 323,
   "metadata": {},
   "outputs": [
    {
     "data": {
      "text/plain": [
       "False    117220\n",
       "True      82780\n",
       "Name: label, dtype: int64"
      ]
     },
     "execution_count": 323,
     "metadata": {},
     "output_type": "execute_result"
    }
   ],
   "source": [
    "b_lab__all_version_info_w_summ_df_lab['label'].value_counts()"
   ]
  },
  {
   "cell_type": "code",
   "execution_count": 324,
   "metadata": {},
   "outputs": [],
   "source": [
    "b_lab__all_version_info_w_summ_df_lab['version_bin'] = pd.cut(\n",
    "    b_lab__all_version_info_w_summ_df_lab['version'], \n",
    "    bins=[0,1,2,4,8,16,32,64], \n",
    "    right=False\n",
    ")\n",
    "v_bin_weights = (\n",
    "    b_lab__all_version_info_w_summ_df_lab['version_bin']\n",
    "    .value_counts()\n",
    "    .sort_index()\n",
    ")\n",
    "\n",
    "b_lab__all_version_info_w_summ_df_lab = (\n",
    "    b_lab__all_version_info_w_summ_df_lab\n",
    "        .merge(\n",
    "            (30000 * (1 / v_bin_weights)).to_frame('v_bin_w'),\n",
    "            left_on=['version_bin'],\n",
    "            right_index=True\n",
    "        )\n",
    ")"
   ]
  },
  {
   "cell_type": "code",
   "execution_count": 325,
   "metadata": {},
   "outputs": [
    {
     "data": {
      "text/plain": [
       "False    117220\n",
       "True      82780\n",
       "Name: label, dtype: int64"
      ]
     },
     "execution_count": 325,
     "metadata": {},
     "output_type": "execute_result"
    }
   ],
   "source": [
    "b_lab__all_version_info_w_summ_df_lab['label'].value_counts()"
   ]
  },
  {
   "cell_type": "code",
   "execution_count": 328,
   "metadata": {},
   "outputs": [],
   "source": [
    "b_all_version_df = b_lab__all_version_info_w_summ_df_lab.pipe(lambda df: df.sample(130_000, weights=df['v_bin_w']))"
   ]
  },
  {
   "cell_type": "code",
   "execution_count": 329,
   "metadata": {},
   "outputs": [
    {
     "data": {
      "text/plain": [
       "False    78728\n",
       "True     51272\n",
       "Name: label, dtype: int64"
      ]
     },
     "execution_count": 329,
     "metadata": {},
     "output_type": "execute_result"
    }
   ],
   "source": [
    "b_all_version_df['label'].value_counts()"
   ]
  },
  {
   "cell_type": "code",
   "execution_count": 330,
   "metadata": {},
   "outputs": [],
   "source": [
    "b_all_version_df['len_bin'] = (\n",
    "    b_all_version_df\n",
    "    .pipe(lambda df: pd.cut(df['doc_len'], range(-200,4000,200), right=False))\n",
    ")"
   ]
  },
  {
   "cell_type": "code",
   "execution_count": null,
   "metadata": {},
   "outputs": [],
   "source": []
  },
  {
   "cell_type": "code",
   "execution_count": 331,
   "metadata": {},
   "outputs": [
    {
     "name": "stdout",
     "output_type": "stream",
     "text": [
      "bbc\n",
      "(5098, 19)\n",
      "(5761, 19)\n",
      "(811, 19)\n",
      "(7243, 19)\n",
      "nytimes\n",
      "ap\n",
      "(9505, 19)\n",
      "reuters\n",
      "(15608, 19)\n",
      "washpo\n",
      "(6587, 19)\n",
      "guardian\n",
      "(3603, 19)\n",
      "(3874, 19)\n",
      "(3531, 19)\n",
      "(4792, 19)\n",
      "(2223, 19)\n",
      "(3993, 19)\n",
      "(3706, 19)\n",
      "independent\n",
      "(15951, 19)\n"
     ]
    }
   ],
   "source": [
    "sources = b_all_version_df['source'].unique()\n",
    "source_name_map = {\n",
    "    'washpo':'wp'\n",
    "}\n",
    "\n",
    "all_found = []\n",
    "for source in sources:\n",
    "    print(source)\n",
    "    sampled_docs = b_all_version_df.loc[lambda df: df['source'] == source]\n",
    "    # get sents \n",
    "    sname = source_name_map.get(source, source)\n",
    "    cached_sent_files = glob.glob('cache/%s-sents__*.pkl' % sname)\n",
    "    for f in cached_sent_files:\n",
    "        cached_sents = pd.read_pickle(f)\n",
    "\n",
    "        sents = (sampled_docs[['entry_id', 'version']]\n",
    "         .merge(cached_sents, left_on=['entry_id', 'version'], right_on=['entry_id', 'version'])\n",
    "         .groupby(['entry_id', 'version'])\n",
    "         .apply(lambda df: '<SENT>'.join(df.sort_values('sent_idx')['sentence'].tolist()))\n",
    "        )\n",
    "        finished = (sampled_docs\n",
    "         .merge(sents.to_frame('sentences'), left_on=['entry_id','version'], right_on=['entry_id', 'version'])\n",
    "        )\n",
    "        print(finished.shape)\n",
    "        all_found.append(finished)"
   ]
  },
  {
   "cell_type": "code",
   "execution_count": 332,
   "metadata": {},
   "outputs": [
    {
     "data": {
      "text/plain": [
       "(130000, 18)"
      ]
     },
     "execution_count": 332,
     "metadata": {},
     "output_type": "execute_result"
    }
   ],
   "source": [
    "b_all_version_df.shape"
   ]
  },
  {
   "cell_type": "code",
   "execution_count": 333,
   "metadata": {},
   "outputs": [],
   "source": [
    "all_found_df = pd.concat(all_found)"
   ]
  },
  {
   "cell_type": "code",
   "execution_count": 334,
   "metadata": {},
   "outputs": [],
   "source": [
    "mapper ={True: 'Last Version', False:'Not Last Version'}"
   ]
  },
  {
   "cell_type": "code",
   "execution_count": 335,
   "metadata": {},
   "outputs": [],
   "source": [
    "all_found_df['label'] = (all_found_df['version'] == (all_found_df['num_versions']-1)).apply(lambda x: mapper[x])"
   ]
  },
  {
   "cell_type": "code",
   "execution_count": 350,
   "metadata": {},
   "outputs": [],
   "source": [
    "v = (\n",
    "    all_found_df\n",
    "        .assign(key=lambda df: df[['source', 'entry_id', 'version']].apply(lambda x: '%s-%s-%s' % tuple(x), axis=1))\n",
    "        .assign(sent_idx=0)\n",
    "        [['label', 'sentences', 'key', 'sent_idx']]\n",
    ")\n",
    "\n",
    "(v\n",
    "        .loc[lambda df: df['sentences'].str.len() < 6_000]\n",
    "        .to_csv('../../controlled-sequence-gen/data/version-edits__10k.tsv', sep='\\t', header=None, index=False)\n",
    ")"
   ]
  },
  {
   "cell_type": "code",
   "execution_count": 349,
   "metadata": {},
   "outputs": [
    {
     "data": {
      "text/plain": [
       "count    87708.000000\n",
       "mean      3056.664478\n",
       "std        992.601989\n",
       "min       1255.000000\n",
       "25%       2284.000000\n",
       "50%       2977.000000\n",
       "75%       3695.000000\n",
       "max       5999.000000\n",
       "Name: sentences, dtype: float64"
      ]
     },
     "execution_count": 349,
     "metadata": {},
     "output_type": "execute_result"
    }
   ],
   "source": [
    "v.loc[lambda df: df['sentences'].str.len() < 6_000]['sentences'].str.len().describe()"
   ]
  },
  {
   "cell_type": "code",
   "execution_count": 178,
   "metadata": {},
   "outputs": [],
   "source": [
    "v = pd.read_csv('../../controlled-sequence-gen/data/version-edits__100k.tsv', sep='\\t', header=None)"
   ]
  },
  {
   "cell_type": "code",
   "execution_count": 187,
   "metadata": {},
   "outputs": [],
   "source": [
    "t = v[[0, 2]].assign(v=lambda df: df[2].str.split('-').str.get(2).astype(float).astype(int))"
   ]
  },
  {
   "cell_type": "code",
   "execution_count": 209,
   "metadata": {
    "scrolled": true
   },
   "outputs": [
    {
     "data": {
      "image/png": "[encoded data removed]",
      "text/plain": [
       "<Figure size 288x144 with 1 Axes>"
      ]
     },
     "metadata": {
      "needs_background": "light"
     },
     "output_type": "display_data"
    }
   ],
   "source": [
    "ax = (t.groupby('v')[0]\n",
    " .value_counts()\n",
    " .unstack()\n",
    " .sort_index()\n",
    " .fillna(0)\n",
    " .pipe(lambda df: df['Not Last Version'] / df.sum(axis=1))\n",
    " .iloc[1:]\n",
    " .plot(figsize=(4,2))\n",
    ")\n",
    "plt.ylim((0,1))\n",
    "ax.spines['top'].set_visible(False)\n",
    "ax.spines['right'].set_visible(False)\n",
    "plt.ylabel('Frac $y=1$\\n(Has Next Vers.)')\n",
    "plt.xlabel('Version Number')\n",
    "plt.savefig('../presentations/acl2022/figures/training-data-version.pdf', bbox_inches='tight')"
   ]
  },
  {
   "cell_type": "code",
   "execution_count": null,
   "metadata": {},
   "outputs": [],
   "source": []
  },
  {
   "cell_type": "code",
   "execution_count": null,
   "metadata": {},
   "outputs": [],
   "source": []
  },
  {
   "cell_type": "code",
   "execution_count": null,
   "metadata": {},
   "outputs": [],
   "source": []
  },
  {
   "cell_type": "code",
   "execution_count": null,
   "metadata": {},
   "outputs": [],
   "source": []
  },
  {
   "cell_type": "code",
   "execution_count": null,
   "metadata": {},
   "outputs": [],
   "source": []
  },
  {
   "cell_type": "code",
   "execution_count": 299,
   "metadata": {},
   "outputs": [],
   "source": [
    "sample_to_annotate = (all_found_df\n",
    " [['source', 'entry_id', 'version', 'title', 'summary', 'doc_len']]\n",
    " .loc[lambda df: df['doc_len'] < 2000]\n",
    " .sample(150)\n",
    " .drop('doc_len', axis=1)\n",
    " .assign(summary=lambda df: df['summary'].str.replace('<p>', '').str.replace('</p>', '').str.strip())\n",
    " .assign(version=lambda df: df['version'].astype(int))\n",
    " .rename(columns={'title': 'headline', 'summary': 'article'})\n",
    " .reset_index(drop=True)\n",
    ")"
   ]
  },
  {
   "cell_type": "code",
   "execution_count": 300,
   "metadata": {},
   "outputs": [
    {
     "data": {
      "text/html": [
       "<div>\n",
       "<style scoped>\n",
       "    .dataframe tbody tr th:only-of-type {\n",
       "        vertical-align: middle;\n",
       "    }\n",
       "\n",
       "    .dataframe tbody tr th {\n",
       "        vertical-align: top;\n",
       "    }\n",
       "\n",
       "    .dataframe thead th {\n",
       "        text-align: right;\n",
       "    }\n",
       "</style>\n",
       "<table border=\"1\" class=\"dataframe\">\n",
       "  <thead>\n",
       "    <tr style=\"text-align: right;\">\n",
       "      <th></th>\n",
       "      <th>source</th>\n",
       "      <th>entry_id</th>\n",
       "      <th>version</th>\n",
       "      <th>headline</th>\n",
       "      <th>article</th>\n",
       "    </tr>\n",
       "  </thead>\n",
       "  <tbody>\n",
       "    <tr>\n",
       "      <th>0</th>\n",
       "      <td>bbc</td>\n",
       "      <td>634076</td>\n",
       "      <td>1</td>\n",
       "      <td>HIV spread in England 'could be halted within ...</td>\n",
       "      <td>The spread of HIV in England can be stopped wi...</td>\n",
       "    </tr>\n",
       "    <tr>\n",
       "      <th>1</th>\n",
       "      <td>independent</td>\n",
       "      <td>1412523</td>\n",
       "      <td>3</td>\n",
       "      <td>Manchester airport terminal 3 evacuated after ...</td>\n",
       "      <td>Manchester Airport's terminal three has been e...</td>\n",
       "    </tr>\n",
       "    <tr>\n",
       "      <th>2</th>\n",
       "      <td>bbc</td>\n",
       "      <td>724690</td>\n",
       "      <td>1</td>\n",
       "      <td>Infosys raises sales outlook as it reports ear...</td>\n",
       "      <td>Infosys has raised its full-year sales outlook...</td>\n",
       "    </tr>\n",
       "    <tr>\n",
       "      <th>3</th>\n",
       "      <td>guardian</td>\n",
       "      <td>612172</td>\n",
       "      <td>2</td>\n",
       "      <td>British schoolgirl dies after chairlift fall i...</td>\n",
       "      <td>A 13-year-old girl from Kent has died after fa...</td>\n",
       "    </tr>\n",
       "    <tr>\n",
       "      <th>4</th>\n",
       "      <td>bbc</td>\n",
       "      <td>589093</td>\n",
       "      <td>3</td>\n",
       "      <td>Great Ormond Street Hospital Christmas present...</td>\n",
       "      <td>Christmas presents for children in an intensiv...</td>\n",
       "    </tr>\n",
       "  </tbody>\n",
       "</table>\n",
       "</div>"
      ],
      "text/plain": [
       "        source  entry_id  version  \\\n",
       "0          bbc    634076        1   \n",
       "1  independent   1412523        3   \n",
       "2          bbc    724690        1   \n",
       "3     guardian    612172        2   \n",
       "4          bbc    589093        3   \n",
       "\n",
       "                                            headline  \\\n",
       "0  HIV spread in England 'could be halted within ...   \n",
       "1  Manchester airport terminal 3 evacuated after ...   \n",
       "2  Infosys raises sales outlook as it reports ear...   \n",
       "3  British schoolgirl dies after chairlift fall i...   \n",
       "4  Great Ormond Street Hospital Christmas present...   \n",
       "\n",
       "                                             article  \n",
       "0  The spread of HIV in England can be stopped wi...  \n",
       "1  Manchester Airport's terminal three has been e...  \n",
       "2  Infosys has raised its full-year sales outlook...  \n",
       "3  A 13-year-old girl from Kent has died after fa...  \n",
       "4  Christmas presents for children in an intensiv...  "
      ]
     },
     "execution_count": 300,
     "metadata": {},
     "output_type": "execute_result"
    }
   ],
   "source": [
    "sample_to_annotate.head(5)"
   ]
  },
  {
   "cell_type": "code",
   "execution_count": 301,
   "metadata": {},
   "outputs": [
    {
     "name": "stdout",
     "output_type": "stream",
     "text": [
      "data-downsampled.json               sample_datum_corrections.json\r\n",
      "\u001b[34moutput_data\u001b[m\u001b[m/                        sample_datum_many.json\r\n",
      "sample_ap_data.json                 sample_datum_many_sent_breaks.json\r\n",
      "sample_datum.json\r\n"
     ]
    }
   ],
   "source": [
    "ls ../evaluation/data"
   ]
  },
  {
   "cell_type": "code",
   "execution_count": 302,
   "metadata": {},
   "outputs": [],
   "source": [
    "sample_to_annotate.to_csv('../evaluation/data/version-data-to-annotate.csv', index=False)"
   ]
  },
  {
   "cell_type": "code",
   "execution_count": 307,
   "metadata": {},
   "outputs": [],
   "source": [
    "import pyperclip"
   ]
  },
  {
   "cell_type": "code",
   "execution_count": 310,
   "metadata": {},
   "outputs": [],
   "source": [
    "(sample_to_annotate\n",
    " .merge(\n",
    "     all_found_df[['source', 'entry_id', 'version', 'label']], \n",
    "     right_on=['source', 'entry_id', 'version'],\n",
    "     left_on=['source', 'entry_id', 'version']\n",
    ").to_csv('tmp/tmp.csv')\n",
    ")"
   ]
  },
  {
   "cell_type": "code",
   "execution_count": null,
   "metadata": {},
   "outputs": [],
   "source": []
  },
  {
   "cell_type": "code",
   "execution_count": null,
   "metadata": {},
   "outputs": [],
   "source": []
  },
  {
   "cell_type": "code",
   "execution_count": null,
   "metadata": {},
   "outputs": [],
   "source": []
  },
  {
   "cell_type": "code",
   "execution_count": null,
   "metadata": {},
   "outputs": [],
   "source": []
  },
  {
   "cell_type": "code",
   "execution_count": null,
   "metadata": {},
   "outputs": [],
   "source": []
  },
  {
   "cell_type": "code",
   "execution_count": null,
   "metadata": {},
   "outputs": [],
   "source": []
  },
  {
   "cell_type": "code",
   "execution_count": 183,
   "metadata": {},
   "outputs": [
    {
     "data": {
      "text/plain": [
       "114598    A direct appeal has been made to man who is th...\n",
       "112785    By Marc Settle BBC Radio 4's Broadcasting Hous...\n",
       "74098     Commons Speaker Michael Martin is to hold a co...\n",
       "5927      <p> SEOUL, South Korea (AP) -- As Malaysian po...\n",
       "1205      Iron Maiden singer Bruce Dickinson is hoping t...\n",
       "                                ...                        \n",
       "99062     Labor has claimed victory in the byelection fo...\n",
       "27237     <p> SAN DIEGO (AP) -- A Sinaloa cartel leader ...\n",
       "537       David Cameron called for sanctions against Bur...\n",
       "13604     <p> WASHINGTON (AP) -- Leaders of a House inve...\n",
       "18465     EILEAN IARMAIN, ISLE OF SKYE, SCOTLAND — The c...\n",
       "Name: summary, Length: 100000, dtype: object"
      ]
     },
     "execution_count": 183,
     "metadata": {},
     "output_type": "execute_result"
    }
   ],
   "source": [
    "b_all_version_df['summary']"
   ]
  },
  {
   "cell_type": "code",
   "execution_count": null,
   "metadata": {},
   "outputs": [],
   "source": []
  },
  {
   "cell_type": "code",
   "execution_count": null,
   "metadata": {},
   "outputs": [],
   "source": []
  },
  {
   "cell_type": "code",
   "execution_count": null,
   "metadata": {},
   "outputs": [],
   "source": []
  },
  {
   "cell_type": "code",
   "execution_count": null,
   "metadata": {},
   "outputs": [],
   "source": []
  },
  {
   "cell_type": "code",
   "execution_count": null,
   "metadata": {},
   "outputs": [],
   "source": []
  },
  {
   "cell_type": "code",
   "execution_count": null,
   "metadata": {},
   "outputs": [],
   "source": []
  },
  {
   "cell_type": "code",
   "execution_count": null,
   "metadata": {},
   "outputs": [],
   "source": []
  },
  {
   "cell_type": "code",
   "execution_count": 174,
   "metadata": {},
   "outputs": [
    {
     "name": "stderr",
     "output_type": "stream",
     "text": [
      "/Users/alex/opt/anaconda3/lib/python3.7/site-packages/IPython/core/interactiveshell.py:3331: DtypeWarning: Columns (0,1,4) have mixed types.Specify dtype option on import or set low_memory=False.\n",
      "  exec(code_obj, self.user_global_ns, self.user_ns)\n"
     ]
    }
   ],
   "source": [
    "training_df = pd.read_csv('../modeling/data/training_data_full.csv.gz')"
   ]
  },
  {
   "cell_type": "code",
   "execution_count": 179,
   "metadata": {},
   "outputs": [],
   "source": [
    "s_we_have = training_df[['source', 'entry_id']].drop_duplicates()"
   ]
  },
  {
   "cell_type": "code",
   "execution_count": 181,
   "metadata": {},
   "outputs": [
    {
     "data": {
      "text/html": [
       "<div>\n",
       "<style scoped>\n",
       "    .dataframe tbody tr th:only-of-type {\n",
       "        vertical-align: middle;\n",
       "    }\n",
       "\n",
       "    .dataframe tbody tr th {\n",
       "        vertical-align: top;\n",
       "    }\n",
       "\n",
       "    .dataframe thead th {\n",
       "        text-align: right;\n",
       "    }\n",
       "</style>\n",
       "<table border=\"1\" class=\"dataframe\">\n",
       "  <thead>\n",
       "    <tr style=\"text-align: right;\">\n",
       "      <th></th>\n",
       "      <th>source</th>\n",
       "      <th>entry_id</th>\n",
       "    </tr>\n",
       "  </thead>\n",
       "  <tbody>\n",
       "    <tr>\n",
       "      <th>0</th>\n",
       "      <td>bbc</td>\n",
       "      <td>257702</td>\n",
       "    </tr>\n",
       "    <tr>\n",
       "      <th>1</th>\n",
       "      <td>bbc</td>\n",
       "      <td>257702</td>\n",
       "    </tr>\n",
       "    <tr>\n",
       "      <th>2</th>\n",
       "      <td>bbc</td>\n",
       "      <td>257702</td>\n",
       "    </tr>\n",
       "    <tr>\n",
       "      <th>3</th>\n",
       "      <td>bbc</td>\n",
       "      <td>257702</td>\n",
       "    </tr>\n",
       "    <tr>\n",
       "      <th>4</th>\n",
       "      <td>bbc</td>\n",
       "      <td>257702</td>\n",
       "    </tr>\n",
       "    <tr>\n",
       "      <th>...</th>\n",
       "      <td>...</td>\n",
       "      <td>...</td>\n",
       "    </tr>\n",
       "    <tr>\n",
       "      <th>57264</th>\n",
       "      <td>independent</td>\n",
       "      <td>1418412</td>\n",
       "    </tr>\n",
       "    <tr>\n",
       "      <th>57265</th>\n",
       "      <td>ap</td>\n",
       "      <td>15584</td>\n",
       "    </tr>\n",
       "    <tr>\n",
       "      <th>57266</th>\n",
       "      <td>guardian</td>\n",
       "      <td>616077</td>\n",
       "    </tr>\n",
       "    <tr>\n",
       "      <th>57267</th>\n",
       "      <td>guardian</td>\n",
       "      <td>512924</td>\n",
       "    </tr>\n",
       "    <tr>\n",
       "      <th>57268</th>\n",
       "      <td>ap</td>\n",
       "      <td>5984</td>\n",
       "    </tr>\n",
       "  </tbody>\n",
       "</table>\n",
       "<p>57269 rows × 2 columns</p>\n",
       "</div>"
      ],
      "text/plain": [
       "            source entry_id\n",
       "0              bbc   257702\n",
       "1              bbc   257702\n",
       "2              bbc   257702\n",
       "3              bbc   257702\n",
       "4              bbc   257702\n",
       "...            ...      ...\n",
       "57264  independent  1418412\n",
       "57265           ap    15584\n",
       "57266     guardian   616077\n",
       "57267     guardian   512924\n",
       "57268           ap     5984\n",
       "\n",
       "[57269 rows x 2 columns]"
      ]
     },
     "execution_count": 181,
     "metadata": {},
     "output_type": "execute_result"
    }
   ],
   "source": [
    "b_all_version_df[['source', 'entry_id']].merge(s_we_have, right_on=['source','entry_id'], left_on=['source', 'entry_id'])"
   ]
  },
  {
   "cell_type": "code",
   "execution_count": null,
   "metadata": {},
   "outputs": [],
   "source": []
  },
  {
   "cell_type": "code",
   "execution_count": null,
   "metadata": {},
   "outputs": [],
   "source": []
  },
  {
   "cell_type": "code",
   "execution_count": null,
   "metadata": {},
   "outputs": [],
   "source": []
  },
  {
   "cell_type": "code",
   "execution_count": null,
   "metadata": {},
   "outputs": [],
   "source": []
  },
  {
   "cell_type": "code",
   "execution_count": null,
   "metadata": {},
   "outputs": [],
   "source": []
  },
  {
   "cell_type": "markdown",
   "metadata": {},
   "source": [
    "# Parallelize tokenize"
   ]
  },
  {
   "cell_type": "code",
   "execution_count": null,
   "metadata": {},
   "outputs": [],
   "source": [
    "import spacy\n",
    "import re\n",
    "from tqdm.auto import tqdm\n",
    "\n",
    "from joblib import Parallel, delayed\n",
    "\n",
    "def chunker(df_iterable, total_length, chunksize):\n",
    "    return (df_iterable.iloc[pos: pos + chunksize] for pos in range(0, total_length, chunksize))\n",
    "\n",
    "def flatten(list_of_lists):\n",
    "    \"Flatten a list of lists to a combined list\"\n",
    "    return [item for sublist in list_of_lists for item in sublist]\n",
    "\n",
    "def preprocess_parallel(df, func, chunksize=100):\n",
    "    executor = Parallel(n_jobs=11, backend='multiprocessing', prefer=\"processes\")\n",
    "    do = delayed(func)\n",
    "    tasks = (do(chunk) for chunk in tqdm(chunker(df, len(df), chunksize=chunksize)))\n",
    "    result = executor(tasks)\n",
    "    return flatten(result)\n",
    "\n",
    "nlp = spacy.load('en_core_web_sm', disable=['tagger', 'ner'])\n",
    "def get_sentences_col(df_chunk):\n",
    "    return handle_spacy_chunk(df_chunk, get_sentences_pipe)\n",
    "\n",
    "\n",
    "def get_sentences_pipe(par_doc, entry_id, version, p_idx, s_idx_start=0):\n",
    "    output = []\n",
    "    sents = list(map(lambda s: s.text, par_doc.sents))\n",
    "    sents = list(map(lambda s: ' '.join(s.split()), sents))\n",
    "    for s_idx, s in enumerate(sents):\n",
    "        output.append({\n",
    "            'par_idx': p_idx,\n",
    "            'sentence': s,\n",
    "            'sent_idx': s_idx_start + s_idx,\n",
    "            'entry_id': entry_id,\n",
    "            'version': version\n",
    "        })\n",
    "    return output\n",
    "\n",
    "def handle_spacy_chunk(df_chunk, processor_function):\n",
    "    docs, entry_ids, versions = (\n",
    "        df_chunk['summary'].tolist(), \n",
    "        df_chunk['entry_id'].tolist(), \n",
    "        df_chunk['version'].tolist()\n",
    "    )\n",
    "    output_sentences = []\n",
    "    all_pars = []\n",
    "    all_par_ids = []\n",
    "    all_entry_ids = []\n",
    "    all_versions = []\n",
    "    # prepare\n",
    "    for entry_id, version, doc in zip(entry_ids, versions, docs):\n",
    "        pars = re.split('</p>\\s*<p>', doc)\n",
    "        p_idxes = list(range(len(pars)))\n",
    "        all_pars.extend(pars)\n",
    "        all_par_ids.extend(p_idxes)\n",
    "        all_entry_ids.extend([entry_id] * len(pars))\n",
    "        all_versions.extend([version] * len(pars))\n",
    "\n",
    "    # index\n",
    "    prev_entry_id = entry_ids[0]\n",
    "    prev_version = versions[0]\n",
    "    curr_sentences = []\n",
    "    for i, par_doc in enumerate(nlp.pipe(all_pars, batch_size=20)):\n",
    "        curr_par_id = all_par_ids[i]\n",
    "        curr_entry_id = all_entry_ids[i]\n",
    "        curr_version = all_versions[i]\n",
    "        if (curr_entry_id == prev_entry_id) and (curr_version == prev_version):\n",
    "            starting_sent_idx = len(curr_sentences)\n",
    "        else:\n",
    "            starting_sent_idx = 0\n",
    "            output_sentences.extend(curr_sentences)\n",
    "            curr_sentences = []\n",
    "        curr_sentences.extend(\n",
    "            processor_function(par_doc, curr_entry_id, curr_version, curr_par_id, s_idx_start=starting_sent_idx)\n",
    "        )\n",
    "        prev_entry_id = curr_entry_id\n",
    "        prev_version = curr_version\n",
    "\n",
    "    output_sentences.extend(curr_sentences)\n",
    "    return output_sentences\n",
    "\n",
    "\n",
    "sentences = preprocess_parallel(b_all_version_df, get_sentences_col, chunksize=40)"
   ]
  },
  {
   "cell_type": "code",
   "execution_count": null,
   "metadata": {},
   "outputs": [],
   "source": []
  },
  {
   "cell_type": "code",
   "execution_count": null,
   "metadata": {},
   "outputs": [],
   "source": []
  },
  {
   "cell_type": "code",
   "execution_count": null,
   "metadata": {},
   "outputs": [],
   "source": []
  },
  {
   "cell_type": "code",
   "execution_count": 164,
   "metadata": {},
   "outputs": [],
   "source": [
    "t = {'device_A': ['192.168.1.1/24', '192.168.1.2/24', '192.168.1.3/24'],\n",
    "'device_B': ['192.168.1.1/24', '192.168.1.20/24', '192.168.1.21/24'],\n",
    "'device_C': ['192.168.1.21/24', '192.168.1.30/24']}"
   ]
  },
  {
   "cell_type": "code",
   "execution_count": 165,
   "metadata": {},
   "outputs": [],
   "source": [
    "import itertools"
   ]
  },
  {
   "cell_type": "code",
   "execution_count": 172,
   "metadata": {},
   "outputs": [
    {
     "data": {
      "text/plain": [
       "itertools.combinations"
      ]
     },
     "execution_count": 172,
     "metadata": {},
     "output_type": "execute_result"
    }
   ],
   "source": [
    "itertools.combinations()"
   ]
  },
  {
   "cell_type": "code",
   "execution_count": 173,
   "metadata": {},
   "outputs": [
    {
     "name": "stdout",
     "output_type": "stream",
     "text": [
      "overlapping items, from device_A and device_B: {'192.168.1.1/24'}\n",
      "overlapping items, from device_B and device_C: {'192.168.1.21/24'}\n"
     ]
    }
   ],
   "source": [
    "list(itertools.product(t.items(), t.items()))\n",
    "\n",
    "for (k_i, v_i), (k_j, v_j) in itertools.combinations(t.items(), 2):\n",
    "    overlap = set(v_i) & set(v_j)\n",
    "    if k_i != k_j:\n",
    "        if len(overlap) > 0:\n",
    "            print('overlapping items, from %s and %s: %s' % (k_i, k_j, str(overlap)))"
   ]
  },
  {
   "cell_type": "code",
   "execution_count": null,
   "metadata": {},
   "outputs": [],
   "source": []
  }
 ],
 "metadata": {
  "hide_input": false,
  "kernelspec": {
   "display_name": "Python 3",
   "language": "python",
   "name": "python3"
  },
  "language_info": {
   "codemirror_mode": {
    "name": "ipython",
    "version": 3
   },
   "file_extension": ".py",
   "mimetype": "text/x-python",
   "name": "python",
   "nbconvert_exporter": "python",
   "pygments_lexer": "ipython3",
   "version": "3.7.6"
  }
 },
 "nbformat": 4,
 "nbformat_minor": 4
}
