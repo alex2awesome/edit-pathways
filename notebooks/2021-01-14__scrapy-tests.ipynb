{
 "cells": [
  {
   "cell_type": "code",
   "execution_count": 1,
   "metadata": {},
   "outputs": [],
   "source": [
    "import scrapy\n",
    "from scrapy_selenium import SeleniumRequest\n",
    "SeleniumRequest()\n",
    "import shutil\n",
    "shutil.which('/usr/bin/chromedriver')\n",
    "shutil.which('/Users/alex/chromedriver')"
   ]
  },
  {
   "cell_type": "code",
   "execution_count": null,
   "metadata": {
    "scrolled": true
   },
   "outputs": [],
   "source": [
    "! scrapy shell https://getbootstrap.com/docs/4.0/content/tables/"
   ]
  },
  {
   "cell_type": "code",
   "execution_count": null,
   "metadata": {},
   "outputs": [],
   "source": []
  },
  {
   "cell_type": "code",
   "execution_count": 67,
   "metadata": {},
   "outputs": [],
   "source": [
    "t = pd.read_csv(article_version_fs[0], index_col=0)"
   ]
  },
  {
   "cell_type": "code",
   "execution_count": 86,
   "metadata": {},
   "outputs": [],
   "source": [
    "import pyperclip"
   ]
  },
  {
   "cell_type": "code",
   "execution_count": 88,
   "metadata": {},
   "outputs": [],
   "source": [
    "pyperclip.copy(str(t.iloc[0].apply(type)))"
   ]
  },
  {
   "cell_type": "code",
   "execution_count": 44,
   "metadata": {},
   "outputs": [],
   "source": [
    "search_pages = glob.glob('cache/newssniffer-index-*')\n",
    "files = list(map(lambda x: pd.read_csv(x, index_col=0), search_pages))\n",
    "files_df = pd.concat(files).reset_index(drop=True)\n",
    "files_df['file_id'] = files_df['newssniff_link'].str.split('/').str.get(4)\n",
    "\n",
    "## get max version per file\n",
    "max_diff_per_file_id = (files_df[['version', 'file_id']]\n",
    "                        .assign(version=lambda df: df['version'].astype(int))\n",
    "                        .groupby('file_id')\n",
    "                        ['version'].max()\n",
    ")\n",
    "## merge\n",
    "files_df = files_df.merge(\n",
    "    max_diff_per_file_id.astype(int).to_frame('num_diffs_per_file'),\n",
    "    left_on='file_id',\n",
    "    right_index=True\n",
    ").drop_duplicates('file_id')\n",
    "\n",
    "## get already parsed files\n",
    "article_version_fs = glob.glob('cache/article-versions-*')\n",
    "article_version_dfs = list(map(lambda x: pd.read_csv(x, usecols=['file_id']), article_version_fs))\n",
    "existing_files = pd.concat(article_version_dfs)\n",
    "existing_ids= existing_files['file_id'].drop_duplicates()\n",
    "\n",
    "## get percenilte cutoffs\n",
    "min_cut, max_cut = files_df['num_diffs_per_file'].loc[lambda s: s != 0].quantile([.01, .99])\n",
    "to_scrape_table = (\n",
    "    files_df\n",
    "        .loc[lambda df: df['num_diffs_per_file'].pipe(lambda s: (s >= min_cut) & (s <= max_cut))]  ## 1, 30\n",
    "        [['file_id', 'num_diffs_per_file']]\n",
    "        .drop_duplicates()\n",
    "        .loc[lambda df: ~df['file_id'].astype(int).isin(existing_ids.values)]\n",
    ")"
   ]
  },
  {
   "cell_type": "code",
   "execution_count": 45,
   "metadata": {},
   "outputs": [
    {
     "data": {
      "text/html": [
       "<div>\n",
       "<style scoped>\n",
       "    .dataframe tbody tr th:only-of-type {\n",
       "        vertical-align: middle;\n",
       "    }\n",
       "\n",
       "    .dataframe tbody tr th {\n",
       "        vertical-align: top;\n",
       "    }\n",
       "\n",
       "    .dataframe thead th {\n",
       "        text-align: right;\n",
       "    }\n",
       "</style>\n",
       "<table border=\"1\" class=\"dataframe\">\n",
       "  <thead>\n",
       "    <tr style=\"text-align: right;\">\n",
       "      <th></th>\n",
       "      <th>file_id</th>\n",
       "      <th>num_diffs_per_file</th>\n",
       "    </tr>\n",
       "  </thead>\n",
       "  <tbody>\n",
       "    <tr>\n",
       "      <th>21</th>\n",
       "      <td>1709241</td>\n",
       "      <td>5</td>\n",
       "    </tr>\n",
       "    <tr>\n",
       "      <th>22</th>\n",
       "      <td>1709294</td>\n",
       "      <td>10</td>\n",
       "    </tr>\n",
       "    <tr>\n",
       "      <th>23</th>\n",
       "      <td>1689248</td>\n",
       "      <td>3</td>\n",
       "    </tr>\n",
       "    <tr>\n",
       "      <th>24</th>\n",
       "      <td>1591586</td>\n",
       "      <td>2</td>\n",
       "    </tr>\n",
       "    <tr>\n",
       "      <th>25</th>\n",
       "      <td>1665257</td>\n",
       "      <td>3</td>\n",
       "    </tr>\n",
       "    <tr>\n",
       "      <th>...</th>\n",
       "      <td>...</td>\n",
       "      <td>...</td>\n",
       "    </tr>\n",
       "    <tr>\n",
       "      <th>951677</th>\n",
       "      <td>1680269</td>\n",
       "      <td>1</td>\n",
       "    </tr>\n",
       "    <tr>\n",
       "      <th>951696</th>\n",
       "      <td>1680236</td>\n",
       "      <td>2</td>\n",
       "    </tr>\n",
       "    <tr>\n",
       "      <th>951704</th>\n",
       "      <td>1680224</td>\n",
       "      <td>1</td>\n",
       "    </tr>\n",
       "    <tr>\n",
       "      <th>951714</th>\n",
       "      <td>1680210</td>\n",
       "      <td>1</td>\n",
       "    </tr>\n",
       "    <tr>\n",
       "      <th>951724</th>\n",
       "      <td>1680249</td>\n",
       "      <td>2</td>\n",
       "    </tr>\n",
       "  </tbody>\n",
       "</table>\n",
       "<p>170785 rows × 2 columns</p>\n",
       "</div>"
      ],
      "text/plain": [
       "        file_id  num_diffs_per_file\n",
       "21      1709241                   5\n",
       "22      1709294                  10\n",
       "23      1689248                   3\n",
       "24      1591586                   2\n",
       "25      1665257                   3\n",
       "...         ...                 ...\n",
       "951677  1680269                   1\n",
       "951696  1680236                   2\n",
       "951704  1680224                   1\n",
       "951714  1680210                   1\n",
       "951724  1680249                   2\n",
       "\n",
       "[170785 rows x 2 columns]"
      ]
     },
     "execution_count": 45,
     "metadata": {},
     "output_type": "execute_result"
    }
   ],
   "source": [
    "to_scrape_table"
   ]
  },
  {
   "cell_type": "code",
   "execution_count": 47,
   "metadata": {},
   "outputs": [],
   "source": [
    "urls_to_scrape = []\n",
    "for file_id, num_diffs in to_scrape_table.itertuples(index=False):\n",
    "    v = list(range(num_diffs+1))\n",
    "    for s, e in list(zip(v[:-1], v[1:])):\n",
    "        url = 'https://www.newssniffer.co.uk/articles/%s/diff/%s/%s' % (file_id, s, e)\n",
    "        urls_to_scrape.append(url)"
   ]
  },
  {
   "cell_type": "code",
   "execution_count": 62,
   "metadata": {},
   "outputs": [],
   "source": [
    "from pathlib import Path\n",
    "import os"
   ]
  },
  {
   "cell_type": "code",
   "execution_count": null,
   "metadata": {},
   "outputs": [],
   "source": [
    "os.path.exists('cache')\n",
    "Path('cache')\n",
    "Path('../cache').exists()"
   ]
  },
  {
   "cell_type": "code",
   "execution_count": 95,
   "metadata": {},
   "outputs": [],
   "source": [
    "t = pd.read_csv(article_version_fs[0], index_col=0)"
   ]
  },
  {
   "cell_type": "code",
   "execution_count": 118,
   "metadata": {},
   "outputs": [],
   "source": [
    "json_file = '../scraping/scrapy-cloud/newssniffer_scrape/output_dir/1-filename2021-01-14T23-11-04.987219.json'"
   ]
  },
  {
   "cell_type": "code",
   "execution_count": null,
   "metadata": {},
   "outputs": [],
   "source": [
    "import json\n",
    "\n",
    "t = []\n",
    "for line in open(json_file):\n",
    "    json_str = json.loads(line)\n",
    "    t.append(json_str)"
   ]
  },
  {
   "cell_type": "code",
   "execution_count": null,
   "metadata": {},
   "outputs": [],
   "source": [
    "json.loads()"
   ]
  },
  {
   "cell_type": "code",
   "execution_count": 133,
   "metadata": {},
   "outputs": [],
   "source": [
    "t3 = pd.read_json(path_or_buf=json_file, orient='records', lines=True)"
   ]
  },
  {
   "cell_type": "code",
   "execution_count": 129,
   "metadata": {},
   "outputs": [],
   "source": [
    "# t2.to_json(json_file, orient='records', lines=True)['article_id']"
   ]
  },
  {
   "cell_type": "code",
   "execution_count": 131,
   "metadata": {},
   "outputs": [
    {
     "data": {
      "text/plain": [
       "(5000, 8)"
      ]
     },
     "execution_count": 131,
     "metadata": {},
     "output_type": "execute_result"
    }
   ],
   "source": [
    "t2.shape"
   ]
  },
  {
   "cell_type": "code",
   "execution_count": 142,
   "metadata": {},
   "outputs": [
    {
     "data": {
      "text/plain": [
       "0       1683749\n",
       "1       1683749\n",
       "2       1683749\n",
       "3       1683749\n",
       "4       1683749\n",
       "         ...   \n",
       "4995    1669125\n",
       "4996    1669125\n",
       "4997    1669125\n",
       "4998    1591175\n",
       "4999    1591175\n",
       "Length: 10346, dtype: int64"
      ]
     },
     "execution_count": 142,
     "metadata": {},
     "output_type": "execute_result"
    }
   ],
   "source": [
    "pd.concat([\n",
    "    pd.read_csv('cache/article-versions-1000.csv')['file_id'],\n",
    "    t2['article_id']\n",
    "])"
   ]
  },
  {
   "cell_type": "code",
   "execution_count": 171,
   "metadata": {
    "scrolled": true
   },
   "outputs": [
    {
     "data": {
      "text/plain": [
       "0       1741157\n",
       "4       1598268\n",
       "12      1742131\n",
       "16      1742183\n",
       "18      1741787\n",
       "         ...   \n",
       "4974    1590691\n",
       "4978    1708357\n",
       "4982    1614529\n",
       "4988    1699322\n",
       "4992    1699206\n",
       "Length: 20818, dtype: int64"
      ]
     },
     "execution_count": 171,
     "metadata": {},
     "output_type": "execute_result"
    }
   ],
   "source": [
    "cache_dir = 'cache'\n",
    "a_vers_fs = glob.glob(os.path.join(cache_dir, 'article-versions-*'))\n",
    "a_vers_dfs = list(map(lambda x: pd.read_csv(x, usecols=['file_id'], squeeze=True), a_vers_fs))\n",
    "\n",
    "## another path for the scrapy output\n",
    "scrapy_cache_dir = '../scraping/scrapy-cloud/newssniffer_scrape/output_dir/'\n",
    "a_vers_fs = (glob.glob(os.path.join(scrapy_cache_dir, '*article*')) +\n",
    "                     glob.glob(os.path.join(scrapy_cache_dir, '*filename*')))\n",
    "for f in a_vers_fs:\n",
    "    try:\n",
    "        df = pd.read_json(path_or_buf=f, orient='records', lines=True)\n",
    "    except:\n",
    "        df = pd.read_json(path_or_buf=f, orient='records', lines=False)\n",
    "    if len(df)>0:\n",
    "        a_vers_dfs.append(df['article_id'])\n",
    "\n",
    "existing_files = pd.concat(a_vers_dfs)\n",
    "existing_files.drop_duplicates().astype(int)"
   ]
  },
  {
   "cell_type": "code",
   "execution_count": null,
   "metadata": {},
   "outputs": [],
   "source": []
  },
  {
   "cell_type": "code",
   "execution_count": null,
   "metadata": {},
   "outputs": [],
   "source": []
  },
  {
   "cell_type": "markdown",
   "metadata": {},
   "source": [
    "# Look at Server output"
   ]
  },
  {
   "cell_type": "code",
   "execution_count": 178,
   "metadata": {},
   "outputs": [],
   "source": [
    "cache_dir = '../scraping/scrapy-cloud/newssniffer_scrape/output_dir/'\n",
    "search_pages = glob.glob(os.path.join(cache_dir, 'newssniffer-index-*'))\n",
    "files = list(map(lambda x: pd.read_csv(x, index_col=0), search_pages))\n",
    "files_df = pd.concat(files).reset_index(drop=True)\n",
    "files_df['file_id'] = files_df['newssniff_link'].str.split('/').str.get(4).astype(int)\n",
    "\n",
    "## get max version per file\n",
    "max_diff_per_file_id = (\n",
    "    files_df[['version', 'file_id']]\n",
    "        .assign(version=lambda df: df['version'].astype(int))\n",
    "        .groupby('file_id')\n",
    "        ['version'].max())\n",
    "## merge\n",
    "files_df = (files_df.merge(\n",
    "            right=max_diff_per_file_id.astype(int).to_frame('num_diffs_per_file'),\n",
    "            left_on='file_id', right_index=True\n",
    "        ).drop_duplicates('file_id'))"
   ]
  },
  {
   "cell_type": "code",
   "execution_count": 191,
   "metadata": {},
   "outputs": [],
   "source": [
    "min_cut, max_cut = files_df['num_diffs_per_file'].loc[lambda s: s != 0].quantile([.01, .99])\n",
    "to_scrape_table = (\n",
    "    files_df\n",
    "         .loc[lambda df: df['num_diffs_per_file'].pipe(lambda s: (s >= min_cut) & (s <= max_cut))]  ## 1, 30\n",
    "         [['file_id', 'num_diffs_per_file']]\n",
    "         .drop_duplicates()\n",
    "        .loc[lambda df: ~df['file_id'].astype(int).isin(existing_files.drop_duplicates().values)]\n",
    ")\n"
   ]
  },
  {
   "cell_type": "code",
   "execution_count": 197,
   "metadata": {},
   "outputs": [],
   "source": [
    "existing_files.drop_duplicates().to_csv('../scraping/scrapy-cloud/newssniffer_scrape/output_dir/file-ids-scraped.csv')"
   ]
  },
  {
   "cell_type": "code",
   "execution_count": null,
   "metadata": {},
   "outputs": [],
   "source": []
  },
  {
   "cell_type": "code",
   "execution_count": null,
   "metadata": {},
   "outputs": [],
   "source": []
  },
  {
   "cell_type": "code",
   "execution_count": null,
   "metadata": {},
   "outputs": [],
   "source": []
  },
  {
   "cell_type": "code",
   "execution_count": null,
   "metadata": {},
   "outputs": [],
   "source": []
  },
  {
   "cell_type": "code",
   "execution_count": 181,
   "metadata": {},
   "outputs": [],
   "source": [
    "from tqdm.auto import tqdm"
   ]
  },
  {
   "cell_type": "code",
   "execution_count": 186,
   "metadata": {
    "scrolled": true
   },
   "outputs": [
    {
     "data": {
      "application/vnd.jupyter.widget-view+json": {
       "model_id": "13cb9504f2484962a664184cd73ed3a0",
       "version_major": 2,
       "version_minor": 0
      },
      "text/plain": [
       "  0%|          | 0/41 [00:00<?, ?it/s]"
      ]
     },
     "metadata": {},
     "output_type": "display_data"
    }
   ],
   "source": [
    "a_vers_fs = glob.glob(os.path.join(cache_dir, 'article-versions-*'))\n",
    "a_vers_dfs = list(map(lambda x: pd.read_csv(x, usecols=['file_id'], squeeze=True), a_vers_fs))\n",
    "\n",
    "## another path for the scrapy output\n",
    "a_vers_fs = (\n",
    "    glob.glob(os.path.join(cache_dir, '*-articles-*')) +\n",
    "    glob.glob(os.path.join(cache_dir, '*filename*')) + \n",
    "    glob.glob(os.path.join(cache_dir, '*output*'))\n",
    ")\n",
    "for f in tqdm(a_vers_fs):\n",
    "    try:\n",
    "        df = pd.read_json(path_or_buf=f, orient='records', lines=True)\n",
    "    except:\n",
    "        df = pd.read_json(path_or_buf=f, orient='records', lines=False)\n",
    "    if len(df)>0:\n",
    "        a_vers_dfs.append(df['article_id'])\n",
    "\n",
    "existing_files = pd.concat(a_vers_dfs)"
   ]
  },
  {
   "cell_type": "code",
   "execution_count": null,
   "metadata": {},
   "outputs": [],
   "source": []
  },
  {
   "cell_type": "code",
   "execution_count": null,
   "metadata": {},
   "outputs": [],
   "source": []
  },
  {
   "cell_type": "markdown",
   "metadata": {},
   "source": [
    "# Get article page files"
   ]
  },
  {
   "cell_type": "code",
   "execution_count": 238,
   "metadata": {},
   "outputs": [],
   "source": [
    "import matplotlib.pyplot as plt\n",
    "plt.rc('font', size=14)"
   ]
  },
  {
   "cell_type": "code",
   "execution_count": 210,
   "metadata": {},
   "outputs": [],
   "source": [
    "f = '../scraping/scrapy-cloud/output_dir/search_output/output-8-8.json'"
   ]
  },
  {
   "cell_type": "code",
   "execution_count": 216,
   "metadata": {},
   "outputs": [
    {
     "data": {
      "application/vnd.jupyter.widget-view+json": {
       "model_id": "be450424ac7344129d5323310b2e6c40",
       "version_major": 2,
       "version_minor": 0
      },
      "text/plain": [
       "  0%|          | 0/8 [00:00<?, ?it/s]"
      ]
     },
     "metadata": {},
     "output_type": "display_data"
    }
   ],
   "source": [
    "article_page_files = []\n",
    "for f in tqdm(glob.glob('../scraping/scrapy-cloud/output_dir/search_output/*8*')):\n",
    "    a = pd.read_json(f)\n",
    "    a['file'] = f.split('/')[-1]\n",
    "    article_page_files.append(a)"
   ]
  },
  {
   "cell_type": "code",
   "execution_count": 218,
   "metadata": {},
   "outputs": [],
   "source": [
    "article_page_file_df = pd.concat(article_page_files)"
   ]
  },
  {
   "cell_type": "code",
   "execution_count": 222,
   "metadata": {},
   "outputs": [],
   "source": [
    "article_page_file_df['day_created'] = article_page_file_df['time_created'].str.split().apply(lambda x: x[:-1]).str.join(' ')"
   ]
  },
  {
   "cell_type": "code",
   "execution_count": 229,
   "metadata": {},
   "outputs": [],
   "source": [
    "day_map = (article_page_file_df['day_created']\n",
    " .drop_duplicates()\n",
    " .to_frame()\n",
    " .assign(date=lambda df: pd.to_datetime(df['day_created']))\n",
    ")"
   ]
  },
  {
   "cell_type": "code",
   "execution_count": 233,
   "metadata": {},
   "outputs": [],
   "source": [
    "article_page_file_df = article_page_file_df.merge(day_map, left_on='day_created', right_on='day_created')"
   ]
  },
  {
   "cell_type": "code",
   "execution_count": 241,
   "metadata": {},
   "outputs": [
    {
     "data": {
      "text/plain": [
       "Text(0.5, 0, 'Date')"
      ]
     },
     "execution_count": 241,
     "metadata": {},
     "output_type": "execute_result"
    },
    {
     "data": {
      "image/png": "[encoded data removed]",
      "text/plain": [
       "<Figure size 432x288 with 1 Axes>"
      ]
     },
     "metadata": {
      "needs_background": "light"
     },
     "output_type": "display_data"
    }
   ],
   "source": [
    "ax = article_page_file_df['date'].hist(bins=50)\n",
    "ax.grid(False)\n",
    "ax.spines['right'].set_visible(False)\n",
    "ax.spines['top'].set_visible(False)\n",
    "ax.set_ylabel('Article*Version Count')\n",
    "ax.set_xlabel('Date')"
   ]
  },
  {
   "cell_type": "code",
   "execution_count": 253,
   "metadata": {},
   "outputs": [
    {
     "data": {
      "text/plain": [
       "Text(0.5, 0, 'Num Versions')"
      ]
     },
     "execution_count": 253,
     "metadata": {},
     "output_type": "execute_result"
    },
    {
     "data": {
      "image/png": "[encoded data removed]",
      "text/plain": [
       "<Figure size 432x288 with 1 Axes>"
      ]
     },
     "metadata": {
      "needs_background": "light"
     },
     "output_type": "display_data"
    }
   ],
   "source": [
    "ax = article_page_file_df.groupby('article_id')['version'].max().hist(bins=50, range=(0,50))\n",
    "ax.grid(False)\n",
    "ax.spines['right'].set_visible(False)\n",
    "ax.spines['top'].set_visible(False)\n",
    "ax.set_ylabel('Count of Articles')\n",
    "ax.set_xlabel('Num Versions')"
   ]
  },
  {
   "cell_type": "code",
   "execution_count": 254,
   "metadata": {},
   "outputs": [],
   "source": [
    "num_versions_per_article = article_page_file_df.groupby('article_id')['version'].max()"
   ]
  },
  {
   "cell_type": "code",
   "execution_count": 259,
   "metadata": {
    "scrolled": true
   },
   "outputs": [],
   "source": [
    "article_page_file_df = article_page_file_df.merge(num_versions_per_article.to_frame('total_num_versions'),\n",
    "                           left_on='article_id',\n",
    "                           right_index=True\n",
    "                          )"
   ]
  },
  {
   "cell_type": "code",
   "execution_count": 262,
   "metadata": {},
   "outputs": [
    {
     "data": {
      "text/plain": [
       "Text(0.5, 0, 'Date')"
      ]
     },
     "execution_count": 262,
     "metadata": {},
     "output_type": "execute_result"
    },
    {
     "data": {
      "image/png": "[encoded data removed]",
      "text/plain": [
       "<Figure size 432x288 with 1 Axes>"
      ]
     },
     "metadata": {
      "needs_background": "light"
     },
     "output_type": "display_data"
    }
   ],
   "source": [
    "ax = (article_page_file_df\n",
    " .loc[lambda df: df['total_num_versions'] > 0]\n",
    " ['date']\n",
    " .hist(bins=50)\n",
    ")\n",
    "\n",
    "ax.grid(False)\n",
    "ax.spines['right'].set_visible(False)\n",
    "ax.spines['top'].set_visible(False)\n",
    "ax.set_ylabel('Article*Version Count')\n",
    "ax.set_xlabel('Date')"
   ]
  },
  {
   "cell_type": "markdown",
   "metadata": {},
   "source": [
    "## How well did we recover all the ids?"
   ]
  },
  {
   "cell_type": "code",
   "execution_count": 275,
   "metadata": {},
   "outputs": [
    {
     "data": {
      "text/plain": [
       "output-3-8.json    549636\n",
       "output-8-8.json    484083\n",
       "output-6-8.json    481482\n",
       "output-5-8.json    472431\n",
       "output-4-8.json    435255\n",
       "output-7-8.json    407107\n",
       "output-1-8.json    367002\n",
       "output-2-8.json    273052\n",
       "Name: file, dtype: int64"
      ]
     },
     "execution_count": 275,
     "metadata": {},
     "output_type": "execute_result"
    }
   ],
   "source": [
    "# article_page_file_df.groupby('file')['date'].aggregate(['min', 'max'])\n",
    "article_page_file_df['file'].value_counts()"
   ]
  },
  {
   "cell_type": "code",
   "execution_count": 276,
   "metadata": {},
   "outputs": [
    {
     "data": {
      "text/plain": [
       "output-4-8.json    220831\n",
       "output-3-8.json    212098\n",
       "output-5-8.json    206723\n",
       "output-6-8.json    190957\n",
       "output-8-8.json    181504\n",
       "output-7-8.json    176956\n",
       "output-1-8.json    117001\n",
       "output-2-8.json     87652\n",
       "Name: file, dtype: int64"
      ]
     },
     "execution_count": 276,
     "metadata": {},
     "output_type": "execute_result"
    }
   ],
   "source": [
    "article_page_file_df.drop_duplicates('article_id')['file'].value_counts()"
   ]
  },
  {
   "cell_type": "code",
   "execution_count": 277,
   "metadata": {},
   "outputs": [],
   "source": [
    "total_ids = pd.Series(list(range(35, 2058846)))"
   ]
  },
  {
   "cell_type": "code",
   "execution_count": 280,
   "metadata": {},
   "outputs": [],
   "source": [
    "existing_ids = pd.read_csv('../scraping/scrapy-cloud/newssniffer_scrape/output_dir/file-ids-scraped.csv', index_col=0, squeeze=True)"
   ]
  },
  {
   "cell_type": "code",
   "execution_count": 286,
   "metadata": {},
   "outputs": [
    {
     "data": {
      "text/plain": [
       "(586398,)"
      ]
     },
     "execution_count": 286,
     "metadata": {},
     "output_type": "execute_result"
    }
   ],
   "source": [
    "(total_ids\n",
    " .loc[lambda s: ~s.isin(existing_ids)]\n",
    " .loc[lambda s: ~s.isin(article_page_file_df['article_id'].drop_duplicates())]\n",
    " .shape\n",
    ")\n",
    "\n",
    "## we're missing this many ids... probably should do another sweep here after it's all over."
   ]
  },
  {
   "cell_type": "code",
   "execution_count": null,
   "metadata": {},
   "outputs": [],
   "source": [
    "(total_ids\n",
    " .loc[lambda s: ~s.isin(existing_ids)]\n",
    " .loc[lambda s: ~s.isin(article_page_file_df['article_id'].drop_duplicates())]\n",
    " .reset_index(drop=True)\n",
    " .to_csv('../scraping/scrapy-cloud/newssniffer_scrape/output_dir/2021-01-17__article-page-ids-to-get.csv')\n",
    "#  .shape\n",
    ")"
   ]
  },
  {
   "cell_type": "code",
   "execution_count": null,
   "metadata": {},
   "outputs": [],
   "source": []
  },
  {
   "cell_type": "code",
   "execution_count": null,
   "metadata": {},
   "outputs": [],
   "source": []
  },
  {
   "cell_type": "code",
   "execution_count": null,
   "metadata": {},
   "outputs": [],
   "source": []
  },
  {
   "cell_type": "code",
   "execution_count": 285,
   "metadata": {},
   "outputs": [
    {
     "data": {
      "text/plain": [
       "(1980120,)"
      ]
     },
     "execution_count": 285,
     "metadata": {},
     "output_type": "execute_result"
    }
   ],
   "source": [
    "total_ids.loc[lambda s: ~s.isin(existing_ids)].shape"
   ]
  },
  {
   "cell_type": "code",
   "execution_count": 287,
   "metadata": {},
   "outputs": [
    {
     "data": {
      "text/plain": [
       "(78691,)"
      ]
     },
     "execution_count": 287,
     "metadata": {},
     "output_type": "execute_result"
    }
   ],
   "source": [
    "existing_ids.shape"
   ]
  },
  {
   "cell_type": "code",
   "execution_count": 298,
   "metadata": {},
   "outputs": [],
   "source": [
    "title_counts_across_articles = article_page_file_df.drop_duplicates('article_id')['title'].value_counts()"
   ]
  },
  {
   "cell_type": "code",
   "execution_count": 316,
   "metadata": {},
   "outputs": [],
   "source": [
    "(article_page_file_df\n",
    " .loc[lambda df: df['total_num_versions'] > 0]\n",
    " ['version_url']\n",
    " .reset_index(drop=True)\n",
    " .to_csv('../scraping/scrapy-cloud/newssniffer_scrape/output_dir/version-urls.csv')\n",
    ")"
   ]
  },
  {
   "cell_type": "code",
   "execution_count": 320,
   "metadata": {},
   "outputs": [
    {
     "data": {
      "text/plain": [
       "'https://www.newssniffer.co.uk/articles/79/versions/407'"
      ]
     },
     "execution_count": 320,
     "metadata": {},
     "output_type": "execute_result"
    }
   ],
   "source": [
    "(article_page_file_df\n",
    " .loc[lambda df: df['total_num_versions'] > 0]\n",
    " ['version_url']\n",
    " .reset_index(drop=True)\n",
    " .values[100]\n",
    ")"
   ]
  },
  {
   "cell_type": "code",
   "execution_count": null,
   "metadata": {},
   "outputs": [],
   "source": []
  },
  {
   "cell_type": "code",
   "execution_count": null,
   "metadata": {},
   "outputs": [],
   "source": []
  },
  {
   "cell_type": "code",
   "execution_count": null,
   "metadata": {},
   "outputs": [],
   "source": []
  },
  {
   "cell_type": "code",
   "execution_count": null,
   "metadata": {},
   "outputs": [],
   "source": []
  },
  {
   "cell_type": "code",
   "execution_count": null,
   "metadata": {},
   "outputs": [],
   "source": []
  },
  {
   "cell_type": "code",
   "execution_count": null,
   "metadata": {},
   "outputs": [],
   "source": []
  },
  {
   "cell_type": "code",
   "execution_count": null,
   "metadata": {},
   "outputs": [],
   "source": []
  }
 ],
 "metadata": {
  "hide_input": false,
  "kernelspec": {
   "display_name": "Python 3",
   "language": "python",
   "name": "python3"
  },
  "language_info": {
   "codemirror_mode": {
    "name": "ipython",
    "version": 3
   },
   "file_extension": ".py",
   "mimetype": "text/x-python",
   "name": "python",
   "nbconvert_exporter": "python",
   "pygments_lexer": "ipython3",
   "version": "3.7.6"
  }
 },
 "nbformat": 4,
 "nbformat_minor": 4
}
