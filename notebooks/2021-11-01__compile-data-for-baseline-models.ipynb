{
 "cells": [
  {
   "cell_type": "code",
   "execution_count": 19,
   "metadata": {},
   "outputs": [],
   "source": [
    "import pandas as pd \n",
    "import glob"
   ]
  },
  {
   "cell_type": "code",
   "execution_count": 20,
   "metadata": {},
   "outputs": [],
   "source": [
    "all_data = []"
   ]
  },
  {
   "cell_type": "code",
   "execution_count": 34,
   "metadata": {},
   "outputs": [
    {
     "name": "stdout",
     "output_type": "stream",
     "text": [
      "-rw-r--r--  1 alex  staff   8.9M Nov  1 23:07 ../modeling/data/sentence-data-ap.csv.gz\r\n",
      "-rw-r--r--  1 alex  staff   144M Nov  1 23:07 ../modeling/data/sentence-data-bbc.csv.gz\r\n",
      "-rw-r--r--  1 alex  staff   596M Nov  1 23:14 ../modeling/data/sentence-data-guardian.csv\r\n",
      "-rw-r--r--  1 alex  staff   139M Nov  1 16:03 ../modeling/data/sentence-data-independent.csv\r\n",
      "-rw-r--r--  1 alex  staff    24M Nov  1 23:08 ../modeling/data/sentence-data-nyt.csv.gz\r\n",
      "-rw-r--r--  1 alex  staff   100M Nov  1 16:49 ../modeling/data/sentence-data-reuters.csv\r\n",
      "-rw-r--r--  1 alex  staff   6.4K Oct 31 23:11 ../modeling/data/sentence-data-small.csv\r\n",
      "-rw-r--r--  1 alex  staff    27M Nov  1 03:07 ../modeling/data/sentence-data-wp.csv\r\n"
     ]
    }
   ],
   "source": [
    "! ls -lh ../modeling/data/sentence-data-*"
   ]
  },
  {
   "cell_type": "code",
   "execution_count": 21,
   "metadata": {
    "scrolled": true
   },
   "outputs": [
    {
     "name": "stdout",
     "output_type": "stream",
     "text": [
      "../modeling/data/sentence-data-wp.csv\n",
      "../modeling/data/sentence-data-bbc.csv.gz\n",
      "../modeling/data/sentence-data-ap.csv.gz\n",
      "../modeling/data/sentence-data-independent.csv\n",
      "../modeling/data/sentence-data-nyt.csv.gz\n"
     ]
    }
   ],
   "source": [
    "for file in filter(lambda x: 'small' not in x, glob.glob('../modeling/data/sentence-data-*')):\n",
    "    print(file)\n",
    "    source = file.split('/')[-1].split('-')[-1].split('.')[0]\n",
    "    try:\n",
    "        df = pd.read_csv(file)\n",
    "        df['source'] = source\n",
    "        all_data.append(df)\n",
    "    except:\n",
    "        print('failed on %s' % file)"
   ]
  },
  {
   "cell_type": "code",
   "execution_count": 23,
   "metadata": {},
   "outputs": [],
   "source": [
    "all_data_df = pd.concat(all_data)"
   ]
  },
  {
   "cell_type": "code",
   "execution_count": 38,
   "metadata": {},
   "outputs": [
    {
     "data": {
      "text/plain": [
       "(51578234, 11)"
      ]
     },
     "execution_count": 38,
     "metadata": {},
     "output_type": "execute_result"
    }
   ],
   "source": [
    "all_data_df"
   ]
  },
  {
   "cell_type": "code",
   "execution_count": 24,
   "metadata": {},
   "outputs": [],
   "source": [
    "import unidecode"
   ]
  },
  {
   "cell_type": "code",
   "execution_count": 48,
   "metadata": {
    "scrolled": true
   },
   "outputs": [],
   "source": [
    "all_data_df['sentence'] = (\n",
    "    all_data_df['sentence']\n",
    "    .fillna('')\n",
    "    .apply(lambda x: unidecode.unidecode(x.replace('<p>', '').replace('</p>', '')))\n",
    ")"
   ]
  },
  {
   "cell_type": "code",
   "execution_count": 65,
   "metadata": {},
   "outputs": [],
   "source": [
    "all_data_df.to_csv('../modeling/data/training_data_full.csv')"
   ]
  },
  {
   "cell_type": "code",
   "execution_count": 25,
   "metadata": {},
   "outputs": [],
   "source": [
    "doc_lengths = all_data_df.assign(c=1).groupby(['source', 'entry_id', 'version'])['c'].count()"
   ]
  },
  {
   "cell_type": "code",
   "execution_count": 26,
   "metadata": {},
   "outputs": [],
   "source": [
    "all_data_df = all_data_df.set_index(['source', 'entry_id', 'version'])"
   ]
  },
  {
   "cell_type": "code",
   "execution_count": 27,
   "metadata": {},
   "outputs": [],
   "source": [
    "empty_sents = (\n",
    "    all_data_df\n",
    "       .loc[lambda df: (df['sentence'] == '') | df['sentence'].isnull()]\n",
    "       .index\n",
    "       .drop_duplicates()\n",
    ")\n",
    "null_data = (\n",
    "    all_data_df\n",
    "    .loc[lambda df: df.isnull().any(axis=1)]\n",
    "    .index\n",
    "    .drop_duplicates()\n",
    ")"
   ]
  },
  {
   "cell_type": "code",
   "execution_count": 166,
   "metadata": {},
   "outputs": [],
   "source": [
    "all_data_df_small = (\n",
    "    all_data_df\n",
    "    .loc[doc_lengths.loc[lambda s: (s < 15) & (s > 5)].index]\n",
    "    .loc[lambda df: ~df.index.isin(empty_sents)]\n",
    "    .loc[lambda df: ~df.index.isin(null_data)]\n",
    ")"
   ]
  },
  {
   "cell_type": "code",
   "execution_count": 115,
   "metadata": {},
   "outputs": [],
   "source": [
    "all_data_df_small.to_csv('../modeling/data/training_data_short_15.csv')"
   ]
  },
  {
   "cell_type": "code",
   "execution_count": null,
   "metadata": {
    "scrolled": true
   },
   "outputs": [],
   "source": [
    "all_data_df_small = pd.read_csv('../modeling/data/training_data_short_15.csv.gz')"
   ]
  },
  {
   "cell_type": "code",
   "execution_count": 28,
   "metadata": {},
   "outputs": [],
   "source": [
    "all_data_df_small_downsampled = all_data_df.loc[\n",
    "    doc_lengths\n",
    "    .loc[doc_lengths.loc[lambda s: (s < 15) & (s > 5)].index]\n",
    "    .loc[lambda df: ~df.index.isin(empty_sents)]\n",
    "    .loc[lambda df: ~df.index.isin(null_data)]\n",
    "    .sample(150_000).index\n",
    "]"
   ]
  },
  {
   "cell_type": "code",
   "execution_count": 29,
   "metadata": {},
   "outputs": [],
   "source": [
    "all_data_df_small_downsampled.to_csv('../modeling/data/training_data_short_15__sampled_150000.csv')"
   ]
  },
  {
   "cell_type": "code",
   "execution_count": 247,
   "metadata": {},
   "outputs": [],
   "source": [
    "all_data_df_small_downsampled.to_csv('../modeling/data/training_data_short_15__sampled_50000.csv')"
   ]
  },
  {
   "cell_type": "code",
   "execution_count": 248,
   "metadata": {},
   "outputs": [],
   "source": [
    "all_data_df_small_downsampled = all_data_df.loc[\n",
    "    doc_lengths\n",
    "    .loc[doc_lengths.loc[lambda s: (s < 15) & (s > 5)].index]\n",
    "    .loc[lambda df: ~df.index.isin(empty_sents)]\n",
    "    .loc[lambda df: ~df.index.isin(null_data)]\n",
    "    .sample(30_000).index\n",
    "]"
   ]
  },
  {
   "cell_type": "code",
   "execution_count": 249,
   "metadata": {},
   "outputs": [],
   "source": [
    "all_data_df_small_downsampled.to_csv('../modeling/data/training_data_short_15__sampled_30000.csv')"
   ]
  },
  {
   "cell_type": "code",
   "execution_count": 250,
   "metadata": {},
   "outputs": [],
   "source": [
    "all_data_df_small_downsampled = all_data_df.loc[\n",
    "    doc_lengths\n",
    "    .loc[doc_lengths.loc[lambda s: (s < 15) & (s > 5)].index]\n",
    "    .loc[lambda df: ~df.index.isin(empty_sents)]\n",
    "    .loc[lambda df: ~df.index.isin(null_data)]\n",
    "    .sample(10_000).index\n",
    "]"
   ]
  },
  {
   "cell_type": "code",
   "execution_count": 567,
   "metadata": {},
   "outputs": [],
   "source": [
    "all_data_df_small_downsampled.to_csv('../modeling/data/training_data_short_15__sampled_10000.csv')"
   ]
  },
  {
   "cell_type": "code",
   "execution_count": 195,
   "metadata": {},
   "outputs": [],
   "source": [
    "docs = all_data_df_small_downsampled.index.drop_duplicates()"
   ]
  },
  {
   "cell_type": "code",
   "execution_count": 199,
   "metadata": {},
   "outputs": [
    {
     "name": "stderr",
     "output_type": "stream",
     "text": [
      "/Users/alex/opt/anaconda3/lib/python3.7/site-packages/ipykernel_launcher.py:2: PerformanceWarning: indexing past lexsort depth may impact performance.\n",
      "  \n"
     ]
    }
   ],
   "source": [
    "for d in docs:\n",
    "    doc = all_data_df_small_downsampled.loc[d]\n",
    "    t = torch.tensor(doc[['deleted_label', 'unchanged_label', 'edited_label']].values)\n",
    "    torch.where(t == 1)[1]"
   ]
  },
  {
   "cell_type": "code",
   "execution_count": null,
   "metadata": {},
   "outputs": [],
   "source": []
  },
  {
   "cell_type": "code",
   "execution_count": null,
   "metadata": {},
   "outputs": [],
   "source": []
  },
  {
   "cell_type": "code",
   "execution_count": null,
   "metadata": {},
   "outputs": [],
   "source": []
  },
  {
   "cell_type": "markdown",
   "metadata": {},
   "source": [
    "# Make Document Data"
   ]
  },
  {
   "cell_type": "code",
   "execution_count": 1,
   "metadata": {},
   "outputs": [],
   "source": [
    "import pandas as pd "
   ]
  },
  {
   "cell_type": "code",
   "execution_count": 2,
   "metadata": {},
   "outputs": [],
   "source": [
    "all_data_df_small_downsampled = pd.read_csv('../modeling/data/training_data_short_15__sampled_50000.csv', index_col=[0,1,2])"
   ]
  },
  {
   "cell_type": "code",
   "execution_count": 3,
   "metadata": {},
   "outputs": [
    {
     "data": {
      "text/html": [
       "<div>\n",
       "<style scoped>\n",
       "    .dataframe tbody tr th:only-of-type {\n",
       "        vertical-align: middle;\n",
       "    }\n",
       "\n",
       "    .dataframe tbody tr th {\n",
       "        vertical-align: top;\n",
       "    }\n",
       "\n",
       "    .dataframe thead th {\n",
       "        text-align: right;\n",
       "    }\n",
       "</style>\n",
       "<table border=\"1\" class=\"dataframe\">\n",
       "  <thead>\n",
       "    <tr style=\"text-align: right;\">\n",
       "      <th></th>\n",
       "      <th>add_below_label</th>\n",
       "      <th>add_above_label</th>\n",
       "    </tr>\n",
       "  </thead>\n",
       "  <tbody>\n",
       "    <tr>\n",
       "      <th>add_below_label</th>\n",
       "      <td>1.000000</td>\n",
       "      <td>0.678597</td>\n",
       "    </tr>\n",
       "    <tr>\n",
       "      <th>add_above_label</th>\n",
       "      <td>0.678597</td>\n",
       "      <td>1.000000</td>\n",
       "    </tr>\n",
       "  </tbody>\n",
       "</table>\n",
       "</div>"
      ],
      "text/plain": [
       "                 add_below_label  add_above_label\n",
       "add_below_label         1.000000         0.678597\n",
       "add_above_label         0.678597         1.000000"
      ]
     },
     "execution_count": 3,
     "metadata": {},
     "output_type": "execute_result"
    }
   ],
   "source": [
    "all_data_df_small_downsampled.groupby(level=[0,1,2])[['add_below_label', 'add_above_label']].sum().corr()"
   ]
  },
  {
   "cell_type": "code",
   "execution_count": 30,
   "metadata": {},
   "outputs": [],
   "source": [
    "import numpy as np "
   ]
  },
  {
   "cell_type": "code",
   "execution_count": 31,
   "metadata": {},
   "outputs": [],
   "source": [
    "def zero_or_pm_one(x):\n",
    "    if x == 0:\n",
    "        return 0\n",
    "    elif x < 0:\n",
    "        return -1\n",
    "    elif x > 0:\n",
    "        return 1"
   ]
  },
  {
   "cell_type": "code",
   "execution_count": 32,
   "metadata": {},
   "outputs": [],
   "source": [
    "import pandas as pd\n",
    "from joblib import Parallel, delayed\n",
    "import multiprocessing\n",
    "\n",
    "def applyParallel(dfGrouped, func, return_dict=False):\n",
    "    ret_val = Parallel(n_jobs=multiprocessing.cpu_count())(delayed(func)(group) for name, group in tqdm(dfGrouped))\n",
    "    if return_dict:\n",
    "        names = [name for name, group in dfGrouped]\n",
    "        ret_val = dict(zip(names, ret_val))\n",
    "    return ret_val"
   ]
  },
  {
   "cell_type": "code",
   "execution_count": 7,
   "metadata": {},
   "outputs": [],
   "source": [
    "num_splits = 2\n",
    "def calculate_doc_stats(df):\n",
    "    return (        \n",
    "        df\n",
    "         .assign(section=lambda df: \n",
    "                    df['sent_idx']\n",
    "                         .pipe(lambda s: s.clip(upper=int(len(s)/ num_splits) * num_splits - 1))\n",
    "                         .pipe(lambda s: pd.cut(s, np.arange(0, len(s)+num_splits, int(len(s) / num_splits)), right=False))\n",
    "            )\n",
    "         .pipe(lambda df:\n",
    "                pd.concat([\n",
    "                    (\n",
    "                    df\n",
    "                     .set_index('section', append=True)\n",
    "                     .groupby(level=[0,1,2,3])\n",
    "                     [['deleted_label', 'add_above_label', 'add_below_label', 'edited_label', 'unchanged_label']]\n",
    "                     .sum()\n",
    "                ), \n",
    "                   (\n",
    "                      df[['section', 'refactored_label']]\n",
    "                         .assign(refactored_label=lambda df: df['refactored_label'].apply(zero_or_pm_one))\n",
    "                          .rename(columns={'refactored_label': 'level_0'})\n",
    "                         .set_index(['section', 'level_0'], append=True)\n",
    "                         .groupby(level=[0,1,2,3,4]).size().unstack()\n",
    "                         .rename(columns={-1:'refactored down', 0: 'not refactored', 1:'refactored up'})\n",
    "                )], axis=1)\n",
    "              )\n",
    "         .reset_index('section', drop=True)\n",
    "         .assign(group=lambda df: np.arange(len(df)))\n",
    "         .assign(size=lambda df: len(df))\n",
    "         .set_index(['group', 'size'], append=True)\n",
    "         .unstack(level=[3,4])\n",
    "    )\n",
    "        \n",
    "#  .assign(c=lambda df: np.arange(len(df)))\n",
    "#  .assign(group=lambda df: df.groupby(level=[0,1,2])['c'].rank(\"dense\"))\n",
    "#  .assign(size=lambda df: df.groupby(level=[0,1,2])['c'].transform(lambda df: len(df)))\n",
    "#  .set_index(['group', 'size'], append=True)\n",
    "#  .drop('c',axis=1)\n",
    "#  .unstack(level=[3,4]))"
   ]
  },
  {
   "cell_type": "code",
   "execution_count": 33,
   "metadata": {},
   "outputs": [],
   "source": [
    "grouped = (all_data_df_small_downsampled\n",
    " .groupby(level=[0,1,2]))"
   ]
  },
  {
   "cell_type": "code",
   "execution_count": null,
   "metadata": {},
   "outputs": [],
   "source": [
    "from tqdm.auto import tqdm\n",
    "groups = applyParallel(grouped, calculate_doc_stats)"
   ]
  },
  {
   "cell_type": "code",
   "execution_count": 34,
   "metadata": {},
   "outputs": [
    {
     "data": {
      "application/vnd.jupyter.widget-view+json": {
       "model_id": "dd4a6376e8934a8fbc62d1d5a08615e1",
       "version_major": 2,
       "version_minor": 0
      },
      "text/plain": [
       "  0%|          | 0/150000 [00:00<?, ?it/s]"
      ]
     },
     "metadata": {},
     "output_type": "display_data"
    }
   ],
   "source": [
    "sentences = applyParallel(grouped, lambda s: '<SENT>'.join(s['sentence'].tolist()), return_dict=True)"
   ]
  },
  {
   "cell_type": "code",
   "execution_count": null,
   "metadata": {},
   "outputs": [],
   "source": []
  },
  {
   "cell_type": "code",
   "execution_count": 12,
   "metadata": {},
   "outputs": [],
   "source": [
    "doc_level_data_small = pd.concat(groups)"
   ]
  },
  {
   "cell_type": "code",
   "execution_count": 13,
   "metadata": {},
   "outputs": [],
   "source": [
    "doc_level_data_small = doc_level_data_small.fillna(0)"
   ]
  },
  {
   "cell_type": "code",
   "execution_count": 14,
   "metadata": {},
   "outputs": [],
   "source": [
    "doc_level_data_small.columns = list(map(lambda x: '%s, %s/%s'% x, doc_level_data_small.columns))"
   ]
  },
  {
   "cell_type": "code",
   "execution_count": 15,
   "metadata": {},
   "outputs": [],
   "source": [
    "doc_level_data_small = pd.concat([\n",
    "    doc_level_data_small, \n",
    "    pd.Series(sentences).to_frame('sentences')\n",
    "], axis=1)"
   ]
  },
  {
   "cell_type": "code",
   "execution_count": null,
   "metadata": {
    "scrolled": true
   },
   "outputs": [],
   "source": []
  },
  {
   "cell_type": "code",
   "execution_count": 36,
   "metadata": {},
   "outputs": [],
   "source": [
    "(doc_level_data_small\n",
    " .reset_index()\n",
    " .rename(columns={'level_0':  'source', 'level_1': 'entry_id', 'level_2': 'version'})\n",
    " .to_csv('../modeling/data/doc_training_data_short_15__sampled_30000.csv', index=False)\n",
    ")"
   ]
  },
  {
   "cell_type": "code",
   "execution_count": null,
   "metadata": {},
   "outputs": [],
   "source": []
  },
  {
   "cell_type": "code",
   "execution_count": 35,
   "metadata": {},
   "outputs": [],
   "source": [
    "doc_level_data_not_expanded = (\n",
    "    pd.concat([\n",
    "    all_data_df_small_downsampled\n",
    "        .groupby(level=[0,1,2]).sum().astype(int).drop('sent_idx', axis=1),\n",
    "    pd.Series(sentences).to_frame('sentences')\n",
    "    ], axis=1)\n",
    ")"
   ]
  },
  {
   "cell_type": "code",
   "execution_count": 36,
   "metadata": {},
   "outputs": [
    {
     "data": {
      "text/plain": [
       "(150000, 7)"
      ]
     },
     "execution_count": 36,
     "metadata": {},
     "output_type": "execute_result"
    }
   ],
   "source": [
    "doc_level_data_not_expanded.shape"
   ]
  },
  {
   "cell_type": "code",
   "execution_count": 37,
   "metadata": {},
   "outputs": [],
   "source": [
    "(\n",
    "    doc_level_data_not_expanded\n",
    "     .reset_index()\n",
    "     .rename(columns={'level_0':  'source', 'level_1': 'entry_id', 'level_2': 'version'})\n",
    "     .to_csv('../modeling/data/doc_training_data_short_15_not_expanded__sampled_150000.csv', index=False)\n",
    ")"
   ]
  },
  {
   "cell_type": "code",
   "execution_count": null,
   "metadata": {},
   "outputs": [],
   "source": []
  },
  {
   "cell_type": "code",
   "execution_count": null,
   "metadata": {},
   "outputs": [],
   "source": []
  },
  {
   "cell_type": "code",
   "execution_count": null,
   "metadata": {},
   "outputs": [],
   "source": []
  },
  {
   "cell_type": "code",
   "execution_count": null,
   "metadata": {},
   "outputs": [],
   "source": []
  },
  {
   "cell_type": "code",
   "execution_count": null,
   "metadata": {},
   "outputs": [],
   "source": []
  },
  {
   "cell_type": "code",
   "execution_count": null,
   "metadata": {},
   "outputs": [],
   "source": []
  },
  {
   "cell_type": "code",
   "execution_count": null,
   "metadata": {},
   "outputs": [],
   "source": []
  },
  {
   "cell_type": "code",
   "execution_count": null,
   "metadata": {},
   "outputs": [],
   "source": []
  },
  {
   "cell_type": "code",
   "execution_count": 490,
   "metadata": {},
   "outputs": [
    {
     "data": {
      "text/html": [
       "<div>\n",
       "<style scoped>\n",
       "    .dataframe tbody tr th:only-of-type {\n",
       "        vertical-align: middle;\n",
       "    }\n",
       "\n",
       "    .dataframe tbody tr th {\n",
       "        vertical-align: top;\n",
       "    }\n",
       "\n",
       "    .dataframe thead th {\n",
       "        text-align: right;\n",
       "    }\n",
       "</style>\n",
       "<table border=\"1\" class=\"dataframe\">\n",
       "  <thead>\n",
       "    <tr style=\"text-align: right;\">\n",
       "      <th></th>\n",
       "      <th></th>\n",
       "      <th></th>\n",
       "      <th>sent_idx</th>\n",
       "      <th>sentence</th>\n",
       "      <th>deleted_label</th>\n",
       "      <th>add_above_label</th>\n",
       "      <th>add_below_label</th>\n",
       "      <th>edited_label</th>\n",
       "      <th>unchanged_label</th>\n",
       "      <th>refactored_label</th>\n",
       "      <th>section</th>\n",
       "    </tr>\n",
       "    <tr>\n",
       "      <th>source</th>\n",
       "      <th>entry_id</th>\n",
       "      <th>version</th>\n",
       "      <th></th>\n",
       "      <th></th>\n",
       "      <th></th>\n",
       "      <th></th>\n",
       "      <th></th>\n",
       "      <th></th>\n",
       "      <th></th>\n",
       "      <th></th>\n",
       "      <th></th>\n",
       "    </tr>\n",
       "  </thead>\n",
       "  <tbody>\n",
       "    <tr>\n",
       "      <th rowspan=\"6\" valign=\"top\">ap</th>\n",
       "      <th rowspan=\"6\" valign=\"top\">27</th>\n",
       "      <th>5.0</th>\n",
       "      <td>0.0</td>\n",
       "      <td>MAIDUGURI, Nigeria (AP) -- Witnesses say Boko...</td>\n",
       "      <td>0.0</td>\n",
       "      <td>0.0</td>\n",
       "      <td>0.0</td>\n",
       "      <td>1.0</td>\n",
       "      <td>0.0</td>\n",
       "      <td>0.0</td>\n",
       "      <td>[0, 3)</td>\n",
       "    </tr>\n",
       "    <tr>\n",
       "      <th>5.0</th>\n",
       "      <td>1.0</td>\n",
       "      <td>One witness, who spoke on condition of anonym...</td>\n",
       "      <td>1.0</td>\n",
       "      <td>0.0</td>\n",
       "      <td>0.0</td>\n",
       "      <td>0.0</td>\n",
       "      <td>0.0</td>\n",
       "      <td>0.0</td>\n",
       "      <td>[0, 3)</td>\n",
       "    </tr>\n",
       "    <tr>\n",
       "      <th>5.0</th>\n",
       "      <td>2.0</td>\n",
       "      <td>The witness says eight Boko Haram fighters we...</td>\n",
       "      <td>0.0</td>\n",
       "      <td>0.0</td>\n",
       "      <td>1.0</td>\n",
       "      <td>1.0</td>\n",
       "      <td>0.0</td>\n",
       "      <td>0.0</td>\n",
       "      <td>[0, 3)</td>\n",
       "    </tr>\n",
       "    <tr>\n",
       "      <th>5.0</th>\n",
       "      <td>3.0</td>\n",
       "      <td>On Tuesday, Nigeria's air force bombed the ca...</td>\n",
       "      <td>0.0</td>\n",
       "      <td>1.0</td>\n",
       "      <td>1.0</td>\n",
       "      <td>0.0</td>\n",
       "      <td>1.0</td>\n",
       "      <td>0.0</td>\n",
       "      <td>[3, 6)</td>\n",
       "    </tr>\n",
       "    <tr>\n",
       "      <th>5.0</th>\n",
       "      <td>4.0</td>\n",
       "      <td>Nigerian officials have said it was an accident.</td>\n",
       "      <td>0.0</td>\n",
       "      <td>1.0</td>\n",
       "      <td>0.0</td>\n",
       "      <td>1.0</td>\n",
       "      <td>0.0</td>\n",
       "      <td>0.0</td>\n",
       "      <td>[3, 6)</td>\n",
       "    </tr>\n",
       "    <tr>\n",
       "      <th>5.0</th>\n",
       "      <td>5.0</td>\n",
       "      <td>On Friday, medical charity Doctors Without Bo...</td>\n",
       "      <td>0.0</td>\n",
       "      <td>0.0</td>\n",
       "      <td>6.0</td>\n",
       "      <td>1.0</td>\n",
       "      <td>0.0</td>\n",
       "      <td>0.0</td>\n",
       "      <td>[3, 6)</td>\n",
       "    </tr>\n",
       "  </tbody>\n",
       "</table>\n",
       "</div>"
      ],
      "text/plain": [
       "                         sent_idx  \\\n",
       "source entry_id version             \n",
       "ap     27       5.0           0.0   \n",
       "                5.0           1.0   \n",
       "                5.0           2.0   \n",
       "                5.0           3.0   \n",
       "                5.0           4.0   \n",
       "                5.0           5.0   \n",
       "\n",
       "                                                                  sentence  \\\n",
       "source entry_id version                                                      \n",
       "ap     27       5.0       MAIDUGURI, Nigeria (AP) -- Witnesses say Boko...   \n",
       "                5.0       One witness, who spoke on condition of anonym...   \n",
       "                5.0       The witness says eight Boko Haram fighters we...   \n",
       "                5.0       On Tuesday, Nigeria's air force bombed the ca...   \n",
       "                5.0       Nigerian officials have said it was an accident.   \n",
       "                5.0       On Friday, medical charity Doctors Without Bo...   \n",
       "\n",
       "                         deleted_label  add_above_label  add_below_label  \\\n",
       "source entry_id version                                                    \n",
       "ap     27       5.0                0.0              0.0              0.0   \n",
       "                5.0                1.0              0.0              0.0   \n",
       "                5.0                0.0              0.0              1.0   \n",
       "                5.0                0.0              1.0              1.0   \n",
       "                5.0                0.0              1.0              0.0   \n",
       "                5.0                0.0              0.0              6.0   \n",
       "\n",
       "                         edited_label  unchanged_label  refactored_label  \\\n",
       "source entry_id version                                                    \n",
       "ap     27       5.0               1.0              0.0               0.0   \n",
       "                5.0               0.0              0.0               0.0   \n",
       "                5.0               1.0              0.0               0.0   \n",
       "                5.0               0.0              1.0               0.0   \n",
       "                5.0               1.0              0.0               0.0   \n",
       "                5.0               1.0              0.0               0.0   \n",
       "\n",
       "                        section  \n",
       "source entry_id version          \n",
       "ap     27       5.0      [0, 3)  \n",
       "                5.0      [0, 3)  \n",
       "                5.0      [0, 3)  \n",
       "                5.0      [3, 6)  \n",
       "                5.0      [3, 6)  \n",
       "                5.0      [3, 6)  "
      ]
     },
     "execution_count": 490,
     "metadata": {},
     "output_type": "execute_result"
    }
   ],
   "source": [
    "(        group\n",
    "         .assign(section=lambda df: \n",
    "                    df['sent_idx']\n",
    "                         .pipe(lambda s: s.clip(upper=int(len(s)/ num_splits) * num_splits - 1))\n",
    "                         .pipe(lambda s: pd.cut(s, np.arange(0, len(s)+num_splits, int(len(s) / num_splits)), right=False))\n",
    "            )\n",
    ")"
   ]
  },
  {
   "cell_type": "code",
   "execution_count": null,
   "metadata": {},
   "outputs": [],
   "source": []
  },
  {
   "cell_type": "code",
   "execution_count": null,
   "metadata": {},
   "outputs": [],
   "source": []
  },
  {
   "cell_type": "code",
   "execution_count": null,
   "metadata": {},
   "outputs": [],
   "source": []
  },
  {
   "cell_type": "code",
   "execution_count": null,
   "metadata": {},
   "outputs": [],
   "source": []
  },
  {
   "cell_type": "code",
   "execution_count": null,
   "metadata": {},
   "outputs": [],
   "source": []
  },
  {
   "cell_type": "code",
   "execution_count": null,
   "metadata": {},
   "outputs": [],
   "source": []
  },
  {
   "cell_type": "code",
   "execution_count": null,
   "metadata": {},
   "outputs": [],
   "source": []
  },
  {
   "cell_type": "code",
   "execution_count": null,
   "metadata": {},
   "outputs": [],
   "source": []
  },
  {
   "cell_type": "code",
   "execution_count": null,
   "metadata": {},
   "outputs": [],
   "source": []
  },
  {
   "cell_type": "code",
   "execution_count": null,
   "metadata": {},
   "outputs": [],
   "source": []
  },
  {
   "cell_type": "code",
   "execution_count": null,
   "metadata": {},
   "outputs": [],
   "source": []
  },
  {
   "cell_type": "code",
   "execution_count": 234,
   "metadata": {},
   "outputs": [],
   "source": [
    "t = (doc\n",
    " .assign(section=lambda df: \n",
    "            df['sent_idx']\n",
    "                 .pipe(lambda s: s.clip(upper=int(len(s) / 3) * 3 - 1))\n",
    "                 .pipe(lambda s: pd.cut(s, np.arange(0, len(s), int(len(s) / 3)), right=False))\n",
    "    )\n",
    ")"
   ]
  },
  {
   "cell_type": "code",
   "execution_count": 328,
   "metadata": {},
   "outputs": [
    {
     "data": {
      "text/plain": [
       "label\n",
       "refactored down, 1/3    0\n",
       "refactored down, 2/3    0\n",
       "refactored down, 3/3    1\n",
       "not refactored, 1/3     4\n",
       "not refactored, 2/3     4\n",
       "not refactored, 3/3     5\n",
       "Name: 0, dtype: int64"
      ]
     },
     "execution_count": 328,
     "metadata": {},
     "output_type": "execute_result"
    }
   ],
   "source": [
    "(t[['section', 'refactored_label']]\n",
    " .assign(refactored_label=lambda df: df['refactored_label'].apply(zero_or_pm_one))\n",
    "  .rename(columns={'refactored_label': 'level_0'})\n",
    " .set_index(['section', 'level_0'], append=True)\n",
    " .groupby(level=[0,1,2,3,4]).size().unstack()\n",
    " .rename(columns={-1:'refactored down', 0: 'not refactored', 1:'refactored up'})\n",
    " .reset_index(drop=True)\n",
    " .unstack()\n",
    " .reset_index()\n",
    " .assign(label=lambda df: df.apply(lambda x: '%s, %s' % (x['level_0'], '%s/%s' % (x['level_1'] + 1, 3)), axis=1))\n",
    " .set_index('label')[0]\n",
    ")"
   ]
  },
  {
   "cell_type": "code",
   "execution_count": 346,
   "metadata": {},
   "outputs": [
    {
     "data": {
      "text/html": [
       "<div>\n",
       "<style scoped>\n",
       "    .dataframe tbody tr th:only-of-type {\n",
       "        vertical-align: middle;\n",
       "    }\n",
       "\n",
       "    .dataframe tbody tr th {\n",
       "        vertical-align: top;\n",
       "    }\n",
       "\n",
       "    .dataframe thead th {\n",
       "        text-align: right;\n",
       "    }\n",
       "</style>\n",
       "<table border=\"1\" class=\"dataframe\">\n",
       "  <thead>\n",
       "    <tr style=\"text-align: right;\">\n",
       "      <th></th>\n",
       "      <th></th>\n",
       "      <th></th>\n",
       "      <th></th>\n",
       "      <th>deleted_label</th>\n",
       "      <th>add_above_label</th>\n",
       "      <th>add_below_label</th>\n",
       "      <th>edited_label</th>\n",
       "      <th>unchanged_label</th>\n",
       "    </tr>\n",
       "    <tr>\n",
       "      <th>source</th>\n",
       "      <th>entry_id</th>\n",
       "      <th>version</th>\n",
       "      <th>section</th>\n",
       "      <th></th>\n",
       "      <th></th>\n",
       "      <th></th>\n",
       "      <th></th>\n",
       "      <th></th>\n",
       "    </tr>\n",
       "  </thead>\n",
       "  <tbody>\n",
       "    <tr>\n",
       "      <th rowspan=\"3\" valign=\"top\">nyt</th>\n",
       "      <th rowspan=\"3\" valign=\"top\">706871</th>\n",
       "      <th rowspan=\"3\" valign=\"top\">1.0</th>\n",
       "      <th>[0, 4)</th>\n",
       "      <td>0.0</td>\n",
       "      <td>0.0</td>\n",
       "      <td>0.0</td>\n",
       "      <td>0.0</td>\n",
       "      <td>4.0</td>\n",
       "    </tr>\n",
       "    <tr>\n",
       "      <th>[4, 8)</th>\n",
       "      <td>0.0</td>\n",
       "      <td>0.0</td>\n",
       "      <td>0.0</td>\n",
       "      <td>0.0</td>\n",
       "      <td>4.0</td>\n",
       "    </tr>\n",
       "    <tr>\n",
       "      <th>[8, 12)</th>\n",
       "      <td>0.0</td>\n",
       "      <td>0.0</td>\n",
       "      <td>0.0</td>\n",
       "      <td>2.0</td>\n",
       "      <td>4.0</td>\n",
       "    </tr>\n",
       "  </tbody>\n",
       "</table>\n",
       "</div>"
      ],
      "text/plain": [
       "                                 deleted_label  add_above_label  \\\n",
       "source entry_id version section                                   \n",
       "nyt    706871   1.0     [0, 4)             0.0              0.0   \n",
       "                        [4, 8)             0.0              0.0   \n",
       "                        [8, 12)            0.0              0.0   \n",
       "\n",
       "                                 add_below_label  edited_label  \\\n",
       "source entry_id version section                                  \n",
       "nyt    706871   1.0     [0, 4)               0.0           0.0   \n",
       "                        [4, 8)               0.0           0.0   \n",
       "                        [8, 12)              0.0           2.0   \n",
       "\n",
       "                                 unchanged_label  \n",
       "source entry_id version section                   \n",
       "nyt    706871   1.0     [0, 4)               4.0  \n",
       "                        [4, 8)               4.0  \n",
       "                        [8, 12)              4.0  "
      ]
     },
     "execution_count": 346,
     "metadata": {},
     "output_type": "execute_result"
    }
   ],
   "source": [
    "(t\n",
    " .set_index('section', append=True)\n",
    " .groupby(level=[0,1,2,3])\n",
    " [['deleted_label', 'add_above_label', 'add_below_label', 'edited_label', 'unchanged_label']]\n",
    " .sum()\n",
    ")"
   ]
  },
  {
   "cell_type": "code",
   "execution_count": 372,
   "metadata": {},
   "outputs": [],
   "source": [
    "import numpy as np "
   ]
  },
  {
   "cell_type": "code",
   "execution_count": 391,
   "metadata": {},
   "outputs": [],
   "source": [
    "def rename_cols(x):\n",
    "    print(x)"
   ]
  },
  {
   "cell_type": "code",
   "execution_count": 398,
   "metadata": {},
   "outputs": [
    {
     "data": {
      "text/plain": [
       "['deleted_label, 1.0/3',\n",
       " 'deleted_label, 2.0/3',\n",
       " 'deleted_label, 3.0/3',\n",
       " 'add_above_label, 1.0/3',\n",
       " 'add_above_label, 2.0/3',\n",
       " 'add_above_label, 3.0/3',\n",
       " 'add_below_label, 1.0/3',\n",
       " 'add_below_label, 2.0/3',\n",
       " 'add_below_label, 3.0/3',\n",
       " 'edited_label, 1.0/3',\n",
       " 'edited_label, 2.0/3',\n",
       " 'edited_label, 3.0/3',\n",
       " 'unchanged_label, 1.0/3',\n",
       " 'unchanged_label, 2.0/3',\n",
       " 'unchanged_label, 3.0/3',\n",
       " 'refactored down, 1.0/3',\n",
       " 'refactored down, 2.0/3',\n",
       " 'refactored down, 3.0/3',\n",
       " 'not refactored, 1.0/3',\n",
       " 'not refactored, 2.0/3',\n",
       " 'not refactored, 3.0/3']"
      ]
     },
     "execution_count": 398,
     "metadata": {},
     "output_type": "execute_result"
    }
   ],
   "source": [
    "list(map(lambda x: '%s, %s/%s' % (x[0], x[1], x[2]), t2.columns))"
   ]
  },
  {
   "cell_type": "code",
   "execution_count": null,
   "metadata": {},
   "outputs": [],
   "source": []
  },
  {
   "cell_type": "code",
   "execution_count": null,
   "metadata": {},
   "outputs": [],
   "source": []
  },
  {
   "cell_type": "code",
   "execution_count": null,
   "metadata": {},
   "outputs": [],
   "source": []
  },
  {
   "cell_type": "code",
   "execution_count": null,
   "metadata": {},
   "outputs": [],
   "source": []
  },
  {
   "cell_type": "code",
   "execution_count": null,
   "metadata": {},
   "outputs": [],
   "source": []
  },
  {
   "cell_type": "code",
   "execution_count": null,
   "metadata": {},
   "outputs": [],
   "source": []
  },
  {
   "cell_type": "code",
   "execution_count": 424,
   "metadata": {},
   "outputs": [
    {
     "data": {
      "text/plain": [
       "                 group  size\n",
       "deleted_label    0      3       0.0\n",
       "                 1      3       0.0\n",
       "                 2      3       0.0\n",
       "add_above_label  0      3       0.0\n",
       "                 1      3       0.0\n",
       "                 2      3       0.0\n",
       "add_below_label  0      3       0.0\n",
       "                 1      3       0.0\n",
       "                 2      3       0.0\n",
       "edited_label     0      3       0.0\n",
       "                 1      3       0.0\n",
       "                 2      3       2.0\n",
       "unchanged_label  0      3       4.0\n",
       "                 1      3       4.0\n",
       "                 2      3       4.0\n",
       "refactored down  0      3       0.0\n",
       "                 1      3       0.0\n",
       "                 2      3       1.0\n",
       "not refactored   0      3       4.0\n",
       "                 1      3       4.0\n",
       "                 2      3       5.0\n",
       "dtype: float64"
      ]
     },
     "execution_count": 424,
     "metadata": {},
     "output_type": "execute_result"
    }
   ],
   "source": [
    "(doc\n",
    " .assign(section=lambda df: \n",
    "            df['sent_idx']\n",
    "                 .pipe(lambda s: s.clip(upper=int(len(s)/ 3) * 3-1))\n",
    "                 .pipe(lambda s: pd.cut(s, np.arange(0, len(s), int(len(s)/3)), right=False))\n",
    "    )\n",
    " .pipe(lambda df:\n",
    "        pd.concat([\n",
    "            (\n",
    "            t\n",
    "             .set_index('section', append=True)\n",
    "             .groupby(level=[0,1,2,3])\n",
    "             [['deleted_label', 'add_above_label', 'add_below_label', 'edited_label', 'unchanged_label']]\n",
    "             .sum()\n",
    "        ), \n",
    "           (\n",
    "              t[['section', 'refactored_label']]\n",
    "                 .assign(refactored_label=lambda df: df['refactored_label'].apply(zero_or_pm_one))\n",
    "                  .rename(columns={'refactored_label': 'level_0'})\n",
    "                 .set_index(['section', 'level_0'], append=True)\n",
    "                 .groupby(level=[0,1,2,3,4]).size().unstack()\n",
    "                 .rename(columns={-1:'refactored down', 0: 'not refactored', 1:'refactored up'})\n",
    "        )], axis=1)\n",
    "      )\n",
    " .reset_index(drop=True)\n",
    " .assign(group=lambda df: np.arange(len(df)))\n",
    " .assign(size=lambda df: len(df))\n",
    " .set_index(['group', 'size'])\n",
    " .unstack(level=[0,1])\n",
    ")"
   ]
  },
  {
   "cell_type": "code",
   "execution_count": null,
   "metadata": {},
   "outputs": [],
   "source": []
  },
  {
   "cell_type": "code",
   "execution_count": null,
   "metadata": {},
   "outputs": [],
   "source": []
  },
  {
   "cell_type": "code",
   "execution_count": null,
   "metadata": {},
   "outputs": [],
   "source": []
  },
  {
   "cell_type": "code",
   "execution_count": null,
   "metadata": {},
   "outputs": [],
   "source": []
  },
  {
   "cell_type": "code",
   "execution_count": null,
   "metadata": {},
   "outputs": [],
   "source": []
  },
  {
   "cell_type": "code",
   "execution_count": null,
   "metadata": {},
   "outputs": [],
   "source": []
  },
  {
   "cell_type": "code",
   "execution_count": null,
   "metadata": {},
   "outputs": [],
   "source": []
  },
  {
   "cell_type": "code",
   "execution_count": null,
   "metadata": {},
   "outputs": [],
   "source": []
  },
  {
   "cell_type": "code",
   "execution_count": null,
   "metadata": {},
   "outputs": [],
   "source": []
  },
  {
   "cell_type": "code",
   "execution_count": null,
   "metadata": {},
   "outputs": [],
   "source": []
  },
  {
   "cell_type": "code",
   "execution_count": null,
   "metadata": {},
   "outputs": [],
   "source": []
  },
  {
   "cell_type": "code",
   "execution_count": null,
   "metadata": {},
   "outputs": [],
   "source": []
  },
  {
   "cell_type": "code",
   "execution_count": null,
   "metadata": {},
   "outputs": [],
   "source": []
  },
  {
   "cell_type": "code",
   "execution_count": null,
   "metadata": {},
   "outputs": [],
   "source": []
  },
  {
   "cell_type": "code",
   "execution_count": 656,
   "metadata": {},
   "outputs": [],
   "source": [
    "from abc import ABCMeta\n",
    "\n",
    "###\n",
    "### Mixer\n",
    "# mixin handlers\n",
    "class AutoMixinMeta(ABCMeta):\n",
    "    \"\"\"\n",
    "        Helps us conditionally include Mixins, which is useful if we want to switch between different\n",
    "        combinations of models (ex. SBERT with Doc Embedding, RoBERTa with positional embeddings).\n",
    "\n",
    "        class Sub(metaclass = AutoMixinMeta):\n",
    "            def __init__(self, name):\n",
    "            self.name = name\n",
    "    \"\"\"\n",
    "\n",
    "    def __call__(cls, *args, **kwargs):\n",
    "        try:\n",
    "            mixin = kwargs.pop('mixin')\n",
    "            if isinstance(mixin, list):\n",
    "                mixin_names = list(map(lambda x: x.__name__, mixin))\n",
    "                mixin_name = '.'.join(mixin_names)\n",
    "                cls_list = tuple(mixin + [cls])\n",
    "            else:\n",
    "                mixin_name = mixin.__name__\n",
    "                cls_list = tuple([mixin, cls])\n",
    "\n",
    "            name = \"{}With{}\".format(cls.__name__, mixin_name)\n",
    "            cls = type(name, cls_list, dict(cls.__dict__))\n",
    "        except KeyError:\n",
    "            pass\n",
    "        return type.__call__(cls, *args, **kwargs)\n",
    "\n",
    "\n",
    "class Mixer(metaclass = AutoMixinMeta):\n",
    "    \"\"\" Class to mix different elements in.\n",
    "\n",
    "            model = Mixer(config=config, mixin=[SBERTMixin, BiLSTMMixin, TransformerBase])\n",
    "    \"\"\"\n",
    "    pass"
   ]
  },
  {
   "cell_type": "code",
   "execution_count": 671,
   "metadata": {},
   "outputs": [
    {
     "ename": "PicklingError",
     "evalue": "Can't pickle <class '__main__.MixerWithA.B'>: attribute lookup MixerWithA.B on __main__ failed",
     "output_type": "error",
     "traceback": [
      "\u001b[0;31m---------------------------------------------------------------------------\u001b[0m",
      "\u001b[0;31mPicklingError\u001b[0m                             Traceback (most recent call last)",
      "\u001b[0;32m<ipython-input-671-a7661c543ef8>\u001b[0m in \u001b[0;36m<module>\u001b[0;34m\u001b[0m\n\u001b[1;32m     23\u001b[0m \u001b[0;34m\u001b[0m\u001b[0m\n\u001b[1;32m     24\u001b[0m \u001b[0;32mimport\u001b[0m \u001b[0mpickle\u001b[0m\u001b[0;34m\u001b[0m\u001b[0;34m\u001b[0m\u001b[0m\n\u001b[0;32m---> 25\u001b[0;31m \u001b[0mpickle\u001b[0m\u001b[0;34m.\u001b[0m\u001b[0mdump\u001b[0m\u001b[0;34m(\u001b[0m\u001b[0mc\u001b[0m\u001b[0;34m,\u001b[0m \u001b[0mopen\u001b[0m\u001b[0;34m(\u001b[0m\u001b[0;34m'tmp/test.pkl'\u001b[0m\u001b[0;34m,\u001b[0m \u001b[0;34m'wb'\u001b[0m\u001b[0;34m)\u001b[0m\u001b[0;34m)\u001b[0m\u001b[0;34m\u001b[0m\u001b[0;34m\u001b[0m\u001b[0m\n\u001b[0m",
      "\u001b[0;31mPicklingError\u001b[0m: Can't pickle <class '__main__.MixerWithA.B'>: attribute lookup MixerWithA.B on __main__ failed"
     ]
    }
   ],
   "source": [
    "class A():\n",
    "    pass\n",
    "\n",
    "class B():\n",
    "    pass\n",
    "\n",
    "config={\n",
    "    'test_a': True, \n",
    "    'test_b': True\n",
    "}\n",
    "\n",
    "def get_mixins(config):\n",
    "    mixins = []\n",
    "    if config['test_a']:\n",
    "        mixins.append(A)\n",
    "    if config['test_b']:\n",
    "        mixins.append(B)\n",
    "    return mixins\n",
    "\n",
    "to_mix = get_mixins(config)\n",
    "\n",
    "c = Mixer(mixin=to_mix)\n",
    "\n",
    "import pickle\n",
    "pickle.dump(c, open('tmp/test.pkl', 'wb'))"
   ]
  }
 ],
 "metadata": {
  "hide_input": false,
  "kernelspec": {
   "display_name": "Python 3 (ipykernel)",
   "language": "python",
   "name": "python3"
  },
  "language_info": {
   "codemirror_mode": {
    "name": "ipython",
    "version": 3
   },
   "file_extension": ".py",
   "mimetype": "text/x-python",
   "name": "python",
   "nbconvert_exporter": "python",
   "pygments_lexer": "ipython3",
   "version": "3.12.2"
  }
 },
 "nbformat": 4,
 "nbformat_minor": 4
}
