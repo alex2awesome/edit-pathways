{
 "cells": [
  {
   "cell_type": "code",
   "execution_count": 6,
   "metadata": {},
   "outputs": [],
   "source": [
    "import pandas as pd \n",
    "import glob"
   ]
  },
  {
   "cell_type": "code",
   "execution_count": 8,
   "metadata": {},
   "outputs": [],
   "source": [
    "all_data = []"
   ]
  },
  {
   "cell_type": "code",
   "execution_count": 34,
   "metadata": {},
   "outputs": [
    {
     "name": "stdout",
     "output_type": "stream",
     "text": [
      "-rw-r--r--  1 alex  staff   8.9M Nov  1 23:07 ../modeling/data/sentence-data-ap.csv.gz\r\n",
      "-rw-r--r--  1 alex  staff   144M Nov  1 23:07 ../modeling/data/sentence-data-bbc.csv.gz\r\n",
      "-rw-r--r--  1 alex  staff   596M Nov  1 23:14 ../modeling/data/sentence-data-guardian.csv\r\n",
      "-rw-r--r--  1 alex  staff   139M Nov  1 16:03 ../modeling/data/sentence-data-independent.csv\r\n",
      "-rw-r--r--  1 alex  staff    24M Nov  1 23:08 ../modeling/data/sentence-data-nyt.csv.gz\r\n",
      "-rw-r--r--  1 alex  staff   100M Nov  1 16:49 ../modeling/data/sentence-data-reuters.csv\r\n",
      "-rw-r--r--  1 alex  staff   6.4K Oct 31 23:11 ../modeling/data/sentence-data-small.csv\r\n",
      "-rw-r--r--  1 alex  staff    27M Nov  1 03:07 ../modeling/data/sentence-data-wp.csv\r\n"
     ]
    }
   ],
   "source": [
    "! ls -lh ../modeling/data/sentence-data-*"
   ]
  },
  {
   "cell_type": "code",
   "execution_count": null,
   "metadata": {
    "scrolled": true
   },
   "outputs": [],
   "source": [
    "for file in filter(lambda x: 'small' not in x, glob.glob('../modeling/data/sentence-data-*')):\n",
    "    print(file)\n",
    "    source = file.split('/')[-1].split('-')[-1].split('.')[0]\n",
    "    try:\n",
    "        df = pd.read_csv(file)\n",
    "        df['source'] = source\n",
    "        all_data.append(df)\n",
    "    except:\n",
    "        print('failed on %s' % file)"
   ]
  },
  {
   "cell_type": "code",
   "execution_count": 36,
   "metadata": {},
   "outputs": [],
   "source": [
    "all_data_df = pd.concat(all_data)"
   ]
  },
  {
   "cell_type": "code",
   "execution_count": 38,
   "metadata": {},
   "outputs": [
    {
     "data": {
      "text/plain": [
       "(51578234, 11)"
      ]
     },
     "execution_count": 38,
     "metadata": {},
     "output_type": "execute_result"
    }
   ],
   "source": [
    "all_data_df"
   ]
  },
  {
   "cell_type": "code",
   "execution_count": 46,
   "metadata": {},
   "outputs": [],
   "source": [
    "import unidecode"
   ]
  },
  {
   "cell_type": "code",
   "execution_count": 48,
   "metadata": {
    "scrolled": true
   },
   "outputs": [],
   "source": [
    "all_data_df['sentence'] = (\n",
    "    all_data_df['sentence']\n",
    "    .fillna('')\n",
    "    .apply(lambda x: unidecode.unidecode(x.replace('<p>', '').replace('</p>', '')))\n",
    ")"
   ]
  },
  {
   "cell_type": "code",
   "execution_count": 65,
   "metadata": {},
   "outputs": [],
   "source": [
    "all_data_df.to_csv('../modeling/data/training_data_full.csv')"
   ]
  },
  {
   "cell_type": "code",
   "execution_count": 54,
   "metadata": {},
   "outputs": [],
   "source": [
    "doc_lengths = all_data_df.assign(c=1).groupby(['source', 'entry_id', 'version'])['c'].count()"
   ]
  },
  {
   "cell_type": "code",
   "execution_count": 61,
   "metadata": {},
   "outputs": [],
   "source": [
    "all_data_df = all_data_df.set_index(['source', 'entry_id', 'version'])"
   ]
  },
  {
   "cell_type": "code",
   "execution_count": 92,
   "metadata": {},
   "outputs": [],
   "source": [
    "empty_sents = all_data_df.loc[lambda df: (df['sentence'] == '') | df['sentence'].isnull()]"
   ]
  },
  {
   "cell_type": "code",
   "execution_count": 93,
   "metadata": {},
   "outputs": [],
   "source": [
    "docs_with_empty_sents = empty_sents.reset_index()[['source', 'entry_id', 'version']].drop_duplicates()"
   ]
  },
  {
   "cell_type": "code",
   "execution_count": 94,
   "metadata": {},
   "outputs": [],
   "source": [
    "docs_with_empty_sents = docs_with_empty_sents.set_index(['source', 'entry_id', 'version'])"
   ]
  },
  {
   "cell_type": "code",
   "execution_count": 114,
   "metadata": {},
   "outputs": [],
   "source": [
    "all_data_df_small = (\n",
    "    all_data_df\n",
    "    .loc[doc_lengths.loc[lambda s: (s < 15) & (s > 5)].index]\n",
    "    .loc[lambda df: ~df.index.isin(docs_with_empty_sents.index)]\n",
    ")"
   ]
  },
  {
   "cell_type": "code",
   "execution_count": 115,
   "metadata": {},
   "outputs": [],
   "source": [
    "all_data_df_small.to_csv('../modeling/data/training_data_short_15.csv')"
   ]
  },
  {
   "cell_type": "code",
   "execution_count": 116,
   "metadata": {},
   "outputs": [],
   "source": [
    "all_data_df_small_downsampled = all_data_df.loc[\n",
    "    doc_lengths\n",
    "    .loc[doc_lengths.loc[lambda s: (s < 15) & (s > 5)].index]\n",
    "    .loc[lambda df: ~df.index.isin(docs_with_empty_sents.index)]\n",
    "    .sample(50_000).index\n",
    "]"
   ]
  },
  {
   "cell_type": "code",
   "execution_count": 117,
   "metadata": {},
   "outputs": [],
   "source": [
    "all_data_df_small_downsampled.to_csv('../modeling/data/training_data_short_15__sampled_50000.csv')"
   ]
  },
  {
   "cell_type": "code",
   "execution_count": 118,
   "metadata": {},
   "outputs": [
    {
     "data": {
      "text/plain": [
       "(529502, 8)"
      ]
     },
     "execution_count": 118,
     "metadata": {},
     "output_type": "execute_result"
    }
   ],
   "source": [
    "all_data_df_small_downsampled.shape "
   ]
  },
  {
   "cell_type": "code",
   "execution_count": 153,
   "metadata": {},
   "outputs": [],
   "source": [
    "all_data_df_small_downsampled = all_data_df.loc[\n",
    "    doc_lengths\n",
    "    .loc[doc_lengths.loc[lambda s: (s < 15) & (s > 5)].index]\n",
    "    .loc[lambda df: ~df.index.isin(docs_with_empty_sents.index)]\n",
    "    .sample(30_000).index\n",
    "]"
   ]
  },
  {
   "cell_type": "code",
   "execution_count": 154,
   "metadata": {},
   "outputs": [],
   "source": [
    "all_data_df_small_downsampled.to_csv('../modeling/data/training_data_short_15__sampled_30000.csv')"
   ]
  },
  {
   "cell_type": "code",
   "execution_count": null,
   "metadata": {},
   "outputs": [],
   "source": []
  },
  {
   "cell_type": "markdown",
   "metadata": {},
   "source": [
    "# Make Document Data"
   ]
  },
  {
   "cell_type": "code",
   "execution_count": 108,
   "metadata": {},
   "outputs": [
    {
     "name": "stderr",
     "output_type": "stream",
     "text": [
      "/Users/alex/opt/anaconda3/lib/python3.7/site-packages/ipykernel_launcher.py:1: PerformanceWarning: indexing past lexsort depth may impact performance.\n",
      "  \"\"\"Entry point for launching an IPython kernel.\n"
     ]
    }
   ],
   "source": [
    "doc = all_data_df_small_downsampled.loc[all_data_df_small_downsampled.index[0]]"
   ]
  },
  {
   "cell_type": "code",
   "execution_count": 121,
   "metadata": {},
   "outputs": [],
   "source": [
    "pd.cut\n",
    "import numpy as np "
   ]
  },
  {
   "cell_type": "code",
   "execution_count": 128,
   "metadata": {},
   "outputs": [
    {
     "data": {
      "text/plain": [
       "source  entry_id  version\n",
       "bbc     418941    0.0         0.0\n",
       "                  0.0         1.0\n",
       "                  0.0         2.0\n",
       "                  0.0         3.0\n",
       "                  0.0         4.0\n",
       "                  0.0         5.0\n",
       "                  0.0         6.0\n",
       "                  0.0         7.0\n",
       "                  0.0         8.0\n",
       "                  0.0         9.0\n",
       "                  0.0        10.0\n",
       "                  0.0        11.0\n",
       "                  0.0        12.0\n",
       "                  0.0        13.0\n",
       "Name: sent_idx, dtype: float64"
      ]
     },
     "execution_count": 128,
     "metadata": {},
     "output_type": "execute_result"
    }
   ],
   "source": [
    "doc['sent_idx']"
   ]
  },
  {
   "cell_type": "code",
   "execution_count": 149,
   "metadata": {},
   "outputs": [
    {
     "data": {
      "text/plain": [
       "source  entry_id  version\n",
       "bbc     418941    0.0         0.0\n",
       "                  0.0         1.0\n",
       "                  0.0         2.0\n",
       "                  0.0         3.0\n",
       "                  0.0         4.0\n",
       "                  0.0         5.0\n",
       "                  0.0         6.0\n",
       "                  0.0         7.0\n",
       "                  0.0         8.0\n",
       "                  0.0         9.0\n",
       "                  0.0        10.0\n",
       "                  0.0        11.0\n",
       "                  0.0        11.0\n",
       "                  0.0        11.0\n",
       "Name: sent_idx, dtype: float64"
      ]
     },
     "execution_count": 149,
     "metadata": {},
     "output_type": "execute_result"
    }
   ],
   "source": [
    "doc['sent_idx'].pipe(lambda s: s.clip(upper=int(len(s)/ 3) * 3-1))"
   ]
  },
  {
   "cell_type": "code",
   "execution_count": 152,
   "metadata": {},
   "outputs": [
    {
     "data": {
      "text/html": [
       "<div>\n",
       "<style scoped>\n",
       "    .dataframe tbody tr th:only-of-type {\n",
       "        vertical-align: middle;\n",
       "    }\n",
       "\n",
       "    .dataframe tbody tr th {\n",
       "        vertical-align: top;\n",
       "    }\n",
       "\n",
       "    .dataframe thead th {\n",
       "        text-align: right;\n",
       "    }\n",
       "</style>\n",
       "<table border=\"1\" class=\"dataframe\">\n",
       "  <thead>\n",
       "    <tr style=\"text-align: right;\">\n",
       "      <th></th>\n",
       "      <th></th>\n",
       "      <th></th>\n",
       "      <th>sent_idx</th>\n",
       "      <th>sentence</th>\n",
       "      <th>deleted_label</th>\n",
       "      <th>add_above_label</th>\n",
       "      <th>add_below_label</th>\n",
       "      <th>edited_label</th>\n",
       "      <th>unchanged_label</th>\n",
       "      <th>refactored_label</th>\n",
       "      <th>section</th>\n",
       "    </tr>\n",
       "    <tr>\n",
       "      <th>source</th>\n",
       "      <th>entry_id</th>\n",
       "      <th>version</th>\n",
       "      <th></th>\n",
       "      <th></th>\n",
       "      <th></th>\n",
       "      <th></th>\n",
       "      <th></th>\n",
       "      <th></th>\n",
       "      <th></th>\n",
       "      <th></th>\n",
       "      <th></th>\n",
       "    </tr>\n",
       "  </thead>\n",
       "  <tbody>\n",
       "    <tr>\n",
       "      <th rowspan=\"14\" valign=\"top\">bbc</th>\n",
       "      <th rowspan=\"14\" valign=\"top\">418941</th>\n",
       "      <th>0.0</th>\n",
       "      <td>0.0</td>\n",
       "      <td>A mother killed her two sons and then took her...</td>\n",
       "      <td>0.0</td>\n",
       "      <td>0.0</td>\n",
       "      <td>0.0</td>\n",
       "      <td>0.0</td>\n",
       "      <td>1.0</td>\n",
       "      <td>0.0</td>\n",
       "      <td>[0, 4)</td>\n",
       "    </tr>\n",
       "    <tr>\n",
       "      <th>0.0</th>\n",
       "      <td>1.0</td>\n",
       "      <td>Susan Talby, 42, and her two sons Joseph, four...</td>\n",
       "      <td>0.0</td>\n",
       "      <td>0.0</td>\n",
       "      <td>0.0</td>\n",
       "      <td>0.0</td>\n",
       "      <td>1.0</td>\n",
       "      <td>0.0</td>\n",
       "      <td>[0, 4)</td>\n",
       "    </tr>\n",
       "    <tr>\n",
       "      <th>0.0</th>\n",
       "      <td>2.0</td>\n",
       "      <td>The inquest heard she left a suicide note whic...</td>\n",
       "      <td>0.0</td>\n",
       "      <td>0.0</td>\n",
       "      <td>0.0</td>\n",
       "      <td>0.0</td>\n",
       "      <td>1.0</td>\n",
       "      <td>0.0</td>\n",
       "      <td>[0, 4)</td>\n",
       "    </tr>\n",
       "    <tr>\n",
       "      <th>0.0</th>\n",
       "      <td>3.0</td>\n",
       "      <td>He said that if Mrs Talby had survived she wou...</td>\n",
       "      <td>0.0</td>\n",
       "      <td>0.0</td>\n",
       "      <td>0.0</td>\n",
       "      <td>0.0</td>\n",
       "      <td>1.0</td>\n",
       "      <td>0.0</td>\n",
       "      <td>[0, 4)</td>\n",
       "    </tr>\n",
       "    <tr>\n",
       "      <th>0.0</th>\n",
       "      <td>4.0</td>\n",
       "      <td>Mrs Talby and her children were found by her h...</td>\n",
       "      <td>0.0</td>\n",
       "      <td>0.0</td>\n",
       "      <td>0.0</td>\n",
       "      <td>0.0</td>\n",
       "      <td>1.0</td>\n",
       "      <td>0.0</td>\n",
       "      <td>[4, 8)</td>\n",
       "    </tr>\n",
       "    <tr>\n",
       "      <th>0.0</th>\n",
       "      <td>5.0</td>\n",
       "      <td>'Delusional and homicidal' Mrs Talby had suffe...</td>\n",
       "      <td>0.0</td>\n",
       "      <td>0.0</td>\n",
       "      <td>0.0</td>\n",
       "      <td>0.0</td>\n",
       "      <td>1.0</td>\n",
       "      <td>0.0</td>\n",
       "      <td>[4, 8)</td>\n",
       "    </tr>\n",
       "    <tr>\n",
       "      <th>0.0</th>\n",
       "      <td>6.0</td>\n",
       "      <td>The inquest heard the note, addressed to \"Rich...</td>\n",
       "      <td>0.0</td>\n",
       "      <td>0.0</td>\n",
       "      <td>0.0</td>\n",
       "      <td>0.0</td>\n",
       "      <td>1.0</td>\n",
       "      <td>0.0</td>\n",
       "      <td>[4, 8)</td>\n",
       "    </tr>\n",
       "    <tr>\n",
       "      <th>0.0</th>\n",
       "      <td>7.0</td>\n",
       "      <td>You never hurt me and you put up with a lot.</td>\n",
       "      <td>0.0</td>\n",
       "      <td>0.0</td>\n",
       "      <td>0.0</td>\n",
       "      <td>0.0</td>\n",
       "      <td>1.0</td>\n",
       "      <td>0.0</td>\n",
       "      <td>[4, 8)</td>\n",
       "    </tr>\n",
       "    <tr>\n",
       "      <th>0.0</th>\n",
       "      <td>8.0</td>\n",
       "      <td>\" A statement read by Peterborough Coroner Gor...</td>\n",
       "      <td>0.0</td>\n",
       "      <td>0.0</td>\n",
       "      <td>0.0</td>\n",
       "      <td>0.0</td>\n",
       "      <td>1.0</td>\n",
       "      <td>0.0</td>\n",
       "      <td>[8, 12)</td>\n",
       "    </tr>\n",
       "    <tr>\n",
       "      <th>0.0</th>\n",
       "      <td>9.0</td>\n",
       "      <td>Earlier the inquest heard that Mrs Talby's med...</td>\n",
       "      <td>0.0</td>\n",
       "      <td>0.0</td>\n",
       "      <td>0.0</td>\n",
       "      <td>0.0</td>\n",
       "      <td>1.0</td>\n",
       "      <td>0.0</td>\n",
       "      <td>[8, 12)</td>\n",
       "    </tr>\n",
       "    <tr>\n",
       "      <th>0.0</th>\n",
       "      <td>10.0</td>\n",
       "      <td>She was admitted to nearby Edith Cavell Hospit...</td>\n",
       "      <td>0.0</td>\n",
       "      <td>0.0</td>\n",
       "      <td>0.0</td>\n",
       "      <td>0.0</td>\n",
       "      <td>1.0</td>\n",
       "      <td>0.0</td>\n",
       "      <td>[8, 12)</td>\n",
       "    </tr>\n",
       "    <tr>\n",
       "      <th>0.0</th>\n",
       "      <td>11.0</td>\n",
       "      <td>However, a note which outlined her condition a...</td>\n",
       "      <td>0.0</td>\n",
       "      <td>0.0</td>\n",
       "      <td>0.0</td>\n",
       "      <td>0.0</td>\n",
       "      <td>1.0</td>\n",
       "      <td>0.0</td>\n",
       "      <td>[8, 12)</td>\n",
       "    </tr>\n",
       "    <tr>\n",
       "      <th>0.0</th>\n",
       "      <td>12.0</td>\n",
       "      <td>When she was discharged she was diagnosed with...</td>\n",
       "      <td>0.0</td>\n",
       "      <td>0.0</td>\n",
       "      <td>0.0</td>\n",
       "      <td>0.0</td>\n",
       "      <td>1.0</td>\n",
       "      <td>0.0</td>\n",
       "      <td>[8, 12)</td>\n",
       "    </tr>\n",
       "    <tr>\n",
       "      <th>0.0</th>\n",
       "      <td>13.0</td>\n",
       "      <td>The inquest continues.</td>\n",
       "      <td>1.0</td>\n",
       "      <td>0.0</td>\n",
       "      <td>0.0</td>\n",
       "      <td>0.0</td>\n",
       "      <td>0.0</td>\n",
       "      <td>0.0</td>\n",
       "      <td>[8, 12)</td>\n",
       "    </tr>\n",
       "  </tbody>\n",
       "</table>\n",
       "</div>"
      ],
      "text/plain": [
       "                         sent_idx  \\\n",
       "source entry_id version             \n",
       "bbc    418941   0.0           0.0   \n",
       "                0.0           1.0   \n",
       "                0.0           2.0   \n",
       "                0.0           3.0   \n",
       "                0.0           4.0   \n",
       "                0.0           5.0   \n",
       "                0.0           6.0   \n",
       "                0.0           7.0   \n",
       "                0.0           8.0   \n",
       "                0.0           9.0   \n",
       "                0.0          10.0   \n",
       "                0.0          11.0   \n",
       "                0.0          12.0   \n",
       "                0.0          13.0   \n",
       "\n",
       "                                                                  sentence  \\\n",
       "source entry_id version                                                      \n",
       "bbc    418941   0.0      A mother killed her two sons and then took her...   \n",
       "                0.0      Susan Talby, 42, and her two sons Joseph, four...   \n",
       "                0.0      The inquest heard she left a suicide note whic...   \n",
       "                0.0      He said that if Mrs Talby had survived she wou...   \n",
       "                0.0      Mrs Talby and her children were found by her h...   \n",
       "                0.0      'Delusional and homicidal' Mrs Talby had suffe...   \n",
       "                0.0      The inquest heard the note, addressed to \"Rich...   \n",
       "                0.0           You never hurt me and you put up with a lot.   \n",
       "                0.0      \" A statement read by Peterborough Coroner Gor...   \n",
       "                0.0      Earlier the inquest heard that Mrs Talby's med...   \n",
       "                0.0      She was admitted to nearby Edith Cavell Hospit...   \n",
       "                0.0      However, a note which outlined her condition a...   \n",
       "                0.0      When she was discharged she was diagnosed with...   \n",
       "                0.0                                 The inquest continues.   \n",
       "\n",
       "                         deleted_label  add_above_label  add_below_label  \\\n",
       "source entry_id version                                                    \n",
       "bbc    418941   0.0                0.0              0.0              0.0   \n",
       "                0.0                0.0              0.0              0.0   \n",
       "                0.0                0.0              0.0              0.0   \n",
       "                0.0                0.0              0.0              0.0   \n",
       "                0.0                0.0              0.0              0.0   \n",
       "                0.0                0.0              0.0              0.0   \n",
       "                0.0                0.0              0.0              0.0   \n",
       "                0.0                0.0              0.0              0.0   \n",
       "                0.0                0.0              0.0              0.0   \n",
       "                0.0                0.0              0.0              0.0   \n",
       "                0.0                0.0              0.0              0.0   \n",
       "                0.0                0.0              0.0              0.0   \n",
       "                0.0                0.0              0.0              0.0   \n",
       "                0.0                1.0              0.0              0.0   \n",
       "\n",
       "                         edited_label  unchanged_label  refactored_label  \\\n",
       "source entry_id version                                                    \n",
       "bbc    418941   0.0               0.0              1.0               0.0   \n",
       "                0.0               0.0              1.0               0.0   \n",
       "                0.0               0.0              1.0               0.0   \n",
       "                0.0               0.0              1.0               0.0   \n",
       "                0.0               0.0              1.0               0.0   \n",
       "                0.0               0.0              1.0               0.0   \n",
       "                0.0               0.0              1.0               0.0   \n",
       "                0.0               0.0              1.0               0.0   \n",
       "                0.0               0.0              1.0               0.0   \n",
       "                0.0               0.0              1.0               0.0   \n",
       "                0.0               0.0              1.0               0.0   \n",
       "                0.0               0.0              1.0               0.0   \n",
       "                0.0               0.0              1.0               0.0   \n",
       "                0.0               0.0              0.0               0.0   \n",
       "\n",
       "                         section  \n",
       "source entry_id version           \n",
       "bbc    418941   0.0       [0, 4)  \n",
       "                0.0       [0, 4)  \n",
       "                0.0       [0, 4)  \n",
       "                0.0       [0, 4)  \n",
       "                0.0       [4, 8)  \n",
       "                0.0       [4, 8)  \n",
       "                0.0       [4, 8)  \n",
       "                0.0       [4, 8)  \n",
       "                0.0      [8, 12)  \n",
       "                0.0      [8, 12)  \n",
       "                0.0      [8, 12)  \n",
       "                0.0      [8, 12)  \n",
       "                0.0      [8, 12)  \n",
       "                0.0      [8, 12)  "
      ]
     },
     "execution_count": 152,
     "metadata": {},
     "output_type": "execute_result"
    }
   ],
   "source": [
    "(doc.assign(section=lambda df: \n",
    "            df['sent_idx']\n",
    "                 .pipe(lambda s: s.clip(upper=int(len(s)/ 3) * 3-1))\n",
    "                 .pipe(lambda s: pd.cut(s, np.arange(0, len(s), int(len(s)/3)), right=False))\n",
    "    )\n",
    ").groupby('section')['deleted_label\tadd_above_label\tadd_below_label\tedited_label\tunchanged_label\trefactored_label']"
   ]
  },
  {
   "cell_type": "code",
   "execution_count": null,
   "metadata": {},
   "outputs": [],
   "source": []
  }
 ],
 "metadata": {
  "hide_input": false,
  "kernelspec": {
   "display_name": "Python 3",
   "language": "python",
   "name": "python3"
  },
  "language_info": {
   "codemirror_mode": {
    "name": "ipython",
    "version": 3
   },
   "file_extension": ".py",
   "mimetype": "text/x-python",
   "name": "python",
   "nbconvert_exporter": "python",
   "pygments_lexer": "ipython3",
   "version": "3.7.6"
  }
 },
 "nbformat": 4,
 "nbformat_minor": 4
}
