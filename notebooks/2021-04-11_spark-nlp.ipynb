{
 "cells": [
  {
   "cell_type": "code",
   "execution_count": 1,
   "metadata": {},
   "outputs": [],
   "source": [
    "import sparknlp\n",
    "from pyspark.ml import PipelineModel, Pipeline\n",
    "import sparknlp.annotator as sa\n",
    "import sparknlp.base as sb\n",
    "import sparknlp\n",
    "from sparknlp import Finisher"
   ]
  },
  {
   "cell_type": "code",
   "execution_count": 2,
   "metadata": {},
   "outputs": [],
   "source": [
    "import sys\n",
    "sys.path.insert(0, '../')\n",
    "from util import util_data_access"
   ]
  },
  {
   "cell_type": "code",
   "execution_count": 3,
   "metadata": {},
   "outputs": [
    {
     "name": "stdout",
     "output_type": "stream",
     "text": [
      "gzip: newssniffer-nytimes.db already exists; do you wish to overwrite (y or n)? ^C\n"
     ]
    }
   ],
   "source": [
    "# download data\n",
    "util_data_access.download_file('newssniffer-nytimes.db.gz', 'edit-pathways/dbs/newssniffer-nytimes.db.gz')\n",
    "! gunzip newssniffer-nytimes.db.gz"
   ]
  },
  {
   "cell_type": "code",
   "execution_count": null,
   "metadata": {},
   "outputs": [],
   "source": [
    "# util_data_access.download_file('glove-100d-loc.tar.gz', 'spark-nlp/glove-100d-loc.tar.gz')\n",
    "# ! tar -xzvf glove-100d-loc.tar.gz "
   ]
  },
  {
   "cell_type": "markdown",
   "metadata": {},
   "source": [
    "# Load Spark"
   ]
  },
  {
   "cell_type": "code",
   "execution_count": 2,
   "metadata": {},
   "outputs": [],
   "source": [
    "from pyspark.sql import SparkSession\n",
    "# spark = sparknlp.start()\n",
    "\n",
    "spark = (\n",
    "    SparkSession.builder\n",
    "      .config(\"spark.executor.instances\", \"30\")\n",
    "      .config(\"spark.driver.memory\", \"20g\")\n",
    "      .config(\"spark.executor.memory\", \"20g\")\n",
    "      .config(\"spark.executor.cores\", \"5\")\n",
    "      .config(\"spark.kryoserializer.buffer.max\", \"2000M\")\n",
    "      .config(\"spark.jars.packages\", \"com.johnsnowlabs.nlp:spark-nlp_2.11:2.7.5\")\n",
    "      .getOrCreate()\n",
    ")"
   ]
  },
  {
   "cell_type": "code",
   "execution_count": 3,
   "metadata": {},
   "outputs": [
    {
     "data": {
      "text/html": [
       "\n",
       "            <div>\n",
       "                <p><b>SparkSession - in-memory</b></p>\n",
       "                \n",
       "                <div>\n",
       "                    <p><b>SparkContext</b></p>\n",
       "                    <p><a href=\"/sprk/4040/jobs/\">Spark UI</a></p>\n",
       "                    <dl>\n",
       "                      <dt>Version</dt>\n",
       "                        <dd><code>v2.4.4</code></dd>\n",
       "                      <dt>AppName</dt>\n",
       "                        <dd><code>pyspark-shell</code></dd>\n",
       "                    </dl>\n",
       "                    <br>\n",
       "                    <b>Executor Status</b>\n",
       "                    <dl>\n",
       "                      <dt>Running</dt>\n",
       "                        <dd><code>5</code></dd>\n",
       "                      <dt>Pending</dt>\n",
       "                        <dd><code>0</code></dd>\n",
       "                      <dt>Failed</dt>\n",
       "                        <dd><code>0</code></dd>\n",
       "                    </dl>\n",
       "                </div>\n",
       "                \n",
       "            </div>\n",
       "        "
      ],
      "text/plain": [
       "<pyspark.sql.session.SparkSession at 0x7f22e49e6780>"
      ]
     },
     "execution_count": 3,
     "metadata": {},
     "output_type": "execute_result"
    }
   ],
   "source": [
    "spark"
   ]
  },
  {
   "cell_type": "markdown",
   "metadata": {},
   "source": [
    "# Load Our Own Data"
   ]
  },
  {
   "cell_type": "code",
   "execution_count": 243,
   "metadata": {},
   "outputs": [],
   "source": [
    "import sqlite3\n",
    "import pandas as pd\n",
    "from tqdm.auto import tqdm\n",
    "import pyspark.sql.functions as F\n",
    "# import unidecode\n",
    "\n",
    "# conn = sqlite3.connect('../data/diffengine-diffs/db/newssniffer-nytimes.db')\n",
    "with sqlite3.connect('newssniffer-nytimes.db') as conn:\n",
    "\n",
    "    # df = pd.read_sql('''\n",
    "    #      SELECT * from entryversion \n",
    "    #      WHERE entry_id IN (SELECT distinct entry_id FROM entryversion LIMIT 2)\n",
    "    #  ''', con=conn)\n",
    "\n",
    "    df = pd.read_sql('''\n",
    "         SELECT * from entryversion \n",
    "         WHERE entry_id IN (1951413, 1952324, 1969148, 1451793, 1938021)\n",
    "     ''', con=conn)\n",
    "\n",
    "    df = df.assign(summary=lambda df: df['summary'].str.replace('</p><p>', ' '))"
   ]
  },
  {
   "cell_type": "code",
   "execution_count": 244,
   "metadata": {},
   "outputs": [],
   "source": [
    "sdf = spark.createDataFrame(df)"
   ]
  },
  {
   "cell_type": "markdown",
   "metadata": {},
   "source": [
    "# With Sentences"
   ]
  },
  {
   "cell_type": "code",
   "execution_count": 245,
   "metadata": {},
   "outputs": [],
   "source": [
    "from pyspark.ml.feature import Normalizer, SQLTransformer\n",
    "from pyspark.ml.feature import BucketedRandomProjectionLSH\n",
    "from scipy.spatial import distance\n",
    "from pyspark.sql.types import FloatType\n",
    "from scipy.spatial import distance"
   ]
  },
  {
   "cell_type": "code",
   "execution_count": 7,
   "metadata": {},
   "outputs": [],
   "source": [
    "documenter = (\n",
    "    sb.DocumentAssembler()\n",
    "        .setInputCol(\"summary\")\n",
    "        .setOutputCol(\"document\")\n",
    ")\n",
    "\n",
    "sentencer = (\n",
    "    sa.SentenceDetector()\n",
    "        .setInputCols([\"document\"])\n",
    "        .setOutputCol(\"sentences\")            \n",
    ")\n",
    "\n",
    "tokenizer = (\n",
    "    sa.Tokenizer()\n",
    "        .setInputCols([\"sentences\"])\n",
    "        .setOutputCol(\"token\")\n",
    ")\n",
    "\n",
    "word_embeddings = (\n",
    "    sa.BertEmbeddings\n",
    "        .load('s3://aspangher/spark-nlp/small_bert_L4_128_en_2.6.0_2.4')\n",
    "        .setInputCols([\"sentences\", \"token\"])\n",
    "        .setOutputCol(\"embeddings\")\n",
    "        .setMaxSentenceLength(512)\n",
    "        .setBatchSize(100)\n",
    ")\n",
    "\n",
    "tok_finisher = (\n",
    "    Finisher()\n",
    "    .setInputCols([\"token\"])\n",
    "    .setIncludeMetadata(True)\n",
    ")\n",
    "\n",
    "embeddings_finisher = (\n",
    "    sb.EmbeddingsFinisher()\n",
    "            .setInputCols(\"embeddings\")\n",
    "            .setOutputCols(\"embeddings_vectors\")\n",
    "            .setOutputAsVector(True)\n",
    ")"
   ]
  },
  {
   "cell_type": "code",
   "execution_count": 168,
   "metadata": {},
   "outputs": [],
   "source": [
    "zip_tok = (\n",
    "    SQLTransformer()\n",
    "     .setStatement(\"\"\"\n",
    "         SELECT CAST(entry_id AS int) as entry_id,\n",
    "                CAST(version AS int) as version, \n",
    "                ARRAYS_ZIP(finished_token, finished_token_metadata, embeddings_vectors) AS zipped_tokens\n",
    "         FROM __THIS__\n",
    "    \"\"\")\n",
    ")\n",
    "\n",
    "explode_tok = (\n",
    "    SQLTransformer()\n",
    "     .setStatement(\"\"\"\n",
    "         SELECT entry_id, version, POSEXPLODE(zipped_tokens) AS (word_idx, zipped_token)\n",
    "         FROM __THIS__\n",
    "    \"\"\")\n",
    ")\n",
    "\n",
    "rename_tok = (\n",
    "    SQLTransformer()\n",
    "     .setStatement(\"\"\"\n",
    "         SELECT entry_id, \n",
    "                 version,\n",
    "                 CAST(zipped_token.finished_token_metadata._2 AS int) AS sent_idx,\n",
    "                 COUNT(1) OVER(PARTITION BY entry_id, version, zipped_token.finished_token_metadata._2) as num_words,\n",
    "                 CAST(word_idx AS int) word_idx,\n",
    "                 zipped_token.finished_token AS token,\n",
    "                 zipped_token.embeddings_vectors as word_embedding\n",
    "         FROM __THIS__\n",
    "    \"\"\")\n",
    ") \n",
    "\n",
    "vector_normalizer = (\n",
    "    Normalizer(\n",
    "        inputCol=\"word_embedding\", \n",
    "        outputCol=\"norm_word_embedding\", \n",
    "        p=2.0\n",
    "    )\n",
    ")\n",
    "similarty_checker = (\n",
    "    BucketedRandomProjectionLSH(\n",
    "        inputCol=\"norm_word_embedding\", \n",
    "        outputCol=\"hashes\", \n",
    "        bucketLength=6.0, \n",
    "        numHashTables=6\n",
    "    )\n",
    ")\n",
    "\n",
    "def cosine_distance(x, y):\n",
    "    return float(distance.cosine(x, y))\n",
    "spark.udf.register(\"cosine_distance\", cosine_distance, \"float\")\n",
    "\n",
    "inner_join = (\n",
    "    SQLTransformer()\n",
    "     .setStatement(\"\"\"\n",
    "         SELECT word_emb.entry_id                                                    AS entry_id, \n",
    "                 word_emb.version                                                    AS version_x,\n",
    "                 word_emb_2.version                                                  AS version_y,\n",
    "                 word_emb.sent_idx                                                   AS sent_idx_x,\n",
    "                 word_emb_2.sent_idx                                                 AS sent_idx_y,\n",
    "                 word_emb.num_words                                                  AS num_words_x,\n",
    "                 word_emb.word_idx                                                   AS word_idx_x,\n",
    "                 word_emb_2.word_idx                                                 AS word_idx_y,\n",
    "                 word_emb.token                                                      AS token_x,\n",
    "                 word_emb_2.token                                                    AS token_y,\n",
    "                 cosine_distance(word_emb.word_embedding, word_emb_2.word_embedding) AS cosine_distance\n",
    "         FROM __THIS__ word_emb\n",
    "         JOIN __THIS__ word_emb_2\n",
    "         ON word_emb.entry_id = word_emb_2.entry_id and\n",
    "         word_emb.version + 1 = word_emb_2.version\n",
    "    \"\"\")\n",
    ")"
   ]
  },
  {
   "cell_type": "code",
   "execution_count": 169,
   "metadata": {},
   "outputs": [],
   "source": [
    "get_word_pair_min_distance = (\n",
    "    SQLTransformer()\n",
    "     .setStatement(\"\"\"\n",
    "         SELECT entry_id,\n",
    "                version_x,\n",
    "                version_y,\n",
    "                sent_idx_x,\n",
    "                sent_idx_y,\n",
    "                word_idx_x,\n",
    "                MIN(num_words) as num_words_total_list,\n",
    "                MIN(distance) as min_word_distance\n",
    "        FROM __THIS__ \n",
    "        GROUP BY entry_id,\n",
    "                version_x,\n",
    "                version_y,\n",
    "                sent_idx_x,\n",
    "                sent_idx_y,\n",
    "                word_idx_x\n",
    "      \"\"\")\n",
    ")\n",
    "\n",
    "get_sentence_min_distance = (\n",
    "    SQLTransformer()\n",
    "     .setStatement(\"\"\"\n",
    "         SELECT entry_id,\n",
    "                version_x,\n",
    "                version_y,\n",
    "                sent_idx_x,\n",
    "                sent_idx_y,\n",
    "                (sum_min_word_distance + 1 * ( num_words_total - num_matched_words )) / num_matched_words AS avg_sentence_distance\n",
    "        FROM (SELECT  entry_id,\n",
    "                version_x,\n",
    "                version_y,\n",
    "                sent_idx_x,\n",
    "                sent_idx_y, \n",
    "        SUM(min_word_distance) AS sum_min_word_distance,\n",
    "        COUNT(1) AS num_matched_words,\n",
    "        MIN(num_words_total_list) AS num_words_total\n",
    "        FROM __THIS__\n",
    "        GROUP BY entry_id,\n",
    "                version_x,\n",
    "                version_y,\n",
    "                sent_idx_x,\n",
    "                sent_idx_y\n",
    "          )\n",
    "      \"\"\")\n",
    ")\n",
    "\n",
    "get_min_sentence_rn = (\n",
    "    SQLTransformer()\n",
    "     .setStatement(\"\"\"\n",
    "         SELECT * FROM (\n",
    "             SELECT *, ROW_NUMBER() OVER (\n",
    "                         PARTITION BY entry_id, \n",
    "                                      version_x, \n",
    "                                      version_y, \n",
    "                                      sent_idx_x\n",
    "                                      ORDER BY avg_sentence_distance ASC\n",
    "         ) AS rn FROM __THIS__)\n",
    "         where rn = 1\n",
    "    \"\"\")\n",
    ")"
   ]
  },
  {
   "cell_type": "code",
   "execution_count": null,
   "metadata": {},
   "outputs": [],
   "source": []
  },
  {
   "cell_type": "code",
   "execution_count": null,
   "metadata": {},
   "outputs": [],
   "source": []
  },
  {
   "cell_type": "code",
   "execution_count": 171,
   "metadata": {},
   "outputs": [],
   "source": [
    "similarity_pipeline = sb.RecursivePipeline(stages=[\n",
    "    documenter,\n",
    "    sentencer,\n",
    "    tokenizer,\n",
    "    word_embeddings,\n",
    "    embeddings_finisher,\n",
    "    tok_finisher,\n",
    "    # \n",
    "    zip_tok,\n",
    "    explode_tok,\n",
    "    rename_tok,\n",
    "    vector_normalizer,\n",
    "    similarty_checker\n",
    "    # \n",
    "#     inner_join,\n",
    "    # get_max_word_min, ### too slow!!\n",
    "    \n",
    "  ]\n",
    ")"
   ]
  },
  {
   "cell_type": "code",
   "execution_count": 172,
   "metadata": {},
   "outputs": [],
   "source": [
    "# word_emb_sdf = similarity_pipeline.fit(sdf).transform(sdf)"
   ]
  },
  {
   "cell_type": "code",
   "execution_count": 246,
   "metadata": {},
   "outputs": [],
   "source": [
    "## Approximate Join\n",
    "similarity_model = similarity_pipeline.fit(sdf)\n",
    "sim_sdf = similarity_model.transform(sdf)\n",
    "joined_df = (\n",
    "    similarity_model\n",
    "    .stages[10]\n",
    "    .approxSimilarityJoin(sim_sdf, sim_sdf, .5, distCol=\"distance\")\n",
    "    .where((F.col(\"datasetA.entry_id\") == F.col(\"datasetB.entry_id\")) & (F.col(\"datasetA.version\") + 1 == F.col(\"datasetB.version\")))\n",
    "    .select(\n",
    "         F.col(\"datasetA.entry_id\").alias(\"entry_id\"),\n",
    "         F.col(\"datasetA.version\").alias(\"version_x\"),\n",
    "         F.col(\"datasetB.version\").alias(\"version_y\"),\n",
    "         F.col(\"datasetA.sent_idx\").alias(\"sent_idx_x\"),\n",
    "         F.col(\"datasetB.sent_idx\").alias(\"sent_idx_y\"),        \n",
    "         F.col(\"datasetA.word_idx\").alias(\"word_idx_x\"),\n",
    "         F.col(\"datasetB.word_idx\").alias(\"word_idx_y\"),\n",
    "         F.col(\"datasetA.num_words\").alias(\"num_words\"),\n",
    "         F.col(\"datasetA.token\").alias(\"token_x\"),\n",
    "         F.col(\"datasetB.token\").alias(\"token_y\"),\n",
    "         F.col(\"distance\")\n",
    "    )\n",
    ")\n",
    "\n",
    "## get top sentences\n",
    "top_sentence_pipeline = sb.PipelineModel(stages=[\n",
    "    get_word_pair_min_distance,\n",
    "    get_sentence_min_distance,\n",
    "    get_max_word_rn,\n",
    "])"
   ]
  },
  {
   "cell_type": "code",
   "execution_count": 247,
   "metadata": {},
   "outputs": [],
   "source": [
    "min_sent_df = top_sentence_pipeline.transform(joined_df)"
   ]
  },
  {
   "cell_type": "code",
   "execution_count": 248,
   "metadata": {},
   "outputs": [],
   "source": [
    "# min_words_dfp = min_words_df.toPandas()"
   ]
  },
  {
   "cell_type": "code",
   "execution_count": 250,
   "metadata": {},
   "outputs": [],
   "source": [
    "min_sent_dfp = min_sent_df.toPandas()"
   ]
  },
  {
   "cell_type": "code",
   "execution_count": 253,
   "metadata": {},
   "outputs": [],
   "source": [
    "min_sent_dfp = min_sent_dfp.sort_values(['entry_id', 'version_x', 'version_y', 'sent_idx_x', 'sent_idx_y'])"
   ]
  },
  {
   "cell_type": "markdown",
   "metadata": {},
   "source": [
    "# Get Sentences for Inspection"
   ]
  },
  {
   "cell_type": "code",
   "execution_count": 339,
   "metadata": {},
   "outputs": [],
   "source": [
    "normer = (\n",
    "    sa.DocumentNormalizer()\n",
    "    .setInputCols([\"document\"])\n",
    "    .setOutputCol(\"normed_document\")\n",
    "#     .setPatterns([\"[^\\w\\d\\s.,\\\"\\']\"])\n",
    "#     .setPolicy('pretty_all')\n",
    ")\n",
    "\n",
    "sentencer = (\n",
    "    sa.SentenceDetector()\n",
    "        .setInputCols([\"normed_document\"])\n",
    "        .setOutputCol(\"sentences\")            \n",
    ")\n",
    "\n",
    "sentencer_dl = (\n",
    "    sa.SentenceDetectorDLModel\n",
    "        .load('s3://aspangher/spark-nlp/sentence_detector_dl_en')\n",
    "        .setInputCols([\"normed_document\"])\n",
    "        .setOutputCol(\"sentences\")            \n",
    ")\n",
    "\n",
    "sent_finisher = (\n",
    "    Finisher()\n",
    "    .setInputCols([\"sentences\"])\n",
    ")\n",
    "\n",
    "explode_sent = (\n",
    "    SQLTransformer()\n",
    "     .setStatement(\"\"\"\n",
    "         SELECT entry_id, version, POSEXPLODE(finished_sentences) AS (sent_idx, sentence)\n",
    "         FROM __THIS__\n",
    "    \"\"\")\n",
    ")\n",
    "\n",
    "sentence_splitter_pipeline = sb.RecursivePipeline(stages=[\n",
    "    documenter,\n",
    "    normer,\n",
    "    sentencer,\n",
    "    sent_finisher,\n",
    "    explode_sent\n",
    "])"
   ]
  },
  {
   "cell_type": "code",
   "execution_count": 296,
   "metadata": {},
   "outputs": [],
   "source": [
    "import re"
   ]
  },
  {
   "cell_type": "code",
   "execution_count": 340,
   "metadata": {},
   "outputs": [],
   "source": [
    "sent_dfp_nondl = sentence_splitter_pipeline.fit(sdf).transform(sdf).toPandas()"
   ]
  },
  {
   "cell_type": "code",
   "execution_count": 334,
   "metadata": {},
   "outputs": [],
   "source": [
    "sent_dfp_dl = sentence_splitter_pipeline.fit(sdf).transform(sdf).toPandas()"
   ]
  },
  {
   "cell_type": "code",
   "execution_count": 331,
   "metadata": {},
   "outputs": [
    {
     "data": {
      "text/plain": [
       "(9988, 4)"
      ]
     },
     "execution_count": 331,
     "metadata": {},
     "output_type": "execute_result"
    }
   ],
   "source": [
    "sent_dfp_dl.shape"
   ]
  },
  {
   "cell_type": "code",
   "execution_count": 373,
   "metadata": {},
   "outputs": [
    {
     "data": {
      "text/plain": [
       "'The storm’s eye wall was on track to hit the Lower Keys between 7 and 8 a.m., the National Hurricane Center said in its 5 a.m.'"
      ]
     },
     "execution_count": 373,
     "metadata": {},
     "output_type": "execute_result"
    }
   ],
   "source": [
    "sent_dfp_nondl.head()['sentence'].iloc[1]"
   ]
  },
  {
   "cell_type": "code",
   "execution_count": 375,
   "metadata": {},
   "outputs": [
    {
     "data": {
      "text/plain": [
       "'Eastern advisory.'"
      ]
     },
     "execution_count": 375,
     "metadata": {},
     "output_type": "execute_result"
    }
   ],
   "source": [
    "sent_dfp_nondl.head()['sentence'].iloc[2]"
   ]
  },
  {
   "cell_type": "code",
   "execution_count": 356,
   "metadata": {},
   "outputs": [
    {
     "data": {
      "text/plain": [
       "(76, 4)"
      ]
     },
     "execution_count": 356,
     "metadata": {},
     "output_type": "execute_result"
    }
   ],
   "source": [
    "(sent_dfp_dl\n",
    " .loc[lambda df: df['entry_id'] == 1451793]\n",
    " .loc[lambda df: df['version'] == 0].shape\n",
    ")"
   ]
  },
  {
   "cell_type": "code",
   "execution_count": null,
   "metadata": {},
   "outputs": [],
   "source": []
  },
  {
   "cell_type": "code",
   "execution_count": null,
   "metadata": {},
   "outputs": [],
   "source": []
  },
  {
   "cell_type": "code",
   "execution_count": 349,
   "metadata": {},
   "outputs": [
    {
     "data": {
      "text/plain": [
       "84"
      ]
     },
     "execution_count": 349,
     "metadata": {},
     "output_type": "execute_result"
    }
   ],
   "source": [
    "len(unp.split_sents(df.loc[0]['summary']))"
   ]
  },
  {
   "cell_type": "code",
   "execution_count": 365,
   "metadata": {},
   "outputs": [
    {
     "data": {
      "application/vnd.jupyter.widget-view+json": {
       "model_id": "04b10668a04747ddbc715e505b1df8dd",
       "version_major": 2,
       "version_minor": 0
      },
      "text/plain": [
       "  0%|          | 0/119 [00:00<?, ?it/s]"
      ]
     },
     "metadata": {},
     "output_type": "display_data"
    }
   ],
   "source": [
    "num_sents = []\n",
    "for entry_id, version, text in tqdm(df[['entry_id', 'version', 'summary']].itertuples(index=False), total=len(df)):\n",
    "    num_sents.append({\n",
    "        'entry_id': entry_id,\n",
    "        'version': version,\n",
    "        'num_sents': len(unp.split_sents(text))\n",
    "    })"
   ]
  },
  {
   "cell_type": "code",
   "execution_count": 372,
   "metadata": {},
   "outputs": [
    {
     "data": {
      "text/html": [
       "<div>\n",
       "<style scoped>\n",
       "    .dataframe tbody tr th:only-of-type {\n",
       "        vertical-align: middle;\n",
       "    }\n",
       "\n",
       "    .dataframe tbody tr th {\n",
       "        vertical-align: top;\n",
       "    }\n",
       "\n",
       "    .dataframe thead th {\n",
       "        text-align: right;\n",
       "    }\n",
       "</style>\n",
       "<table border=\"1\" class=\"dataframe\">\n",
       "  <thead>\n",
       "    <tr style=\"text-align: right;\">\n",
       "      <th></th>\n",
       "      <th></th>\n",
       "      <th>dl</th>\n",
       "      <th>nondl</th>\n",
       "      <th>spacy</th>\n",
       "    </tr>\n",
       "    <tr>\n",
       "      <th>entry_id</th>\n",
       "      <th>version</th>\n",
       "      <th></th>\n",
       "      <th></th>\n",
       "      <th></th>\n",
       "    </tr>\n",
       "  </thead>\n",
       "  <tbody>\n",
       "    <tr>\n",
       "      <th rowspan=\"5\" valign=\"top\">1451793</th>\n",
       "      <th>0</th>\n",
       "      <td>76</td>\n",
       "      <td>83</td>\n",
       "      <td>84</td>\n",
       "    </tr>\n",
       "    <tr>\n",
       "      <th>1</th>\n",
       "      <td>76</td>\n",
       "      <td>83</td>\n",
       "      <td>84</td>\n",
       "    </tr>\n",
       "    <tr>\n",
       "      <th>2</th>\n",
       "      <td>75</td>\n",
       "      <td>83</td>\n",
       "      <td>84</td>\n",
       "    </tr>\n",
       "    <tr>\n",
       "      <th>3</th>\n",
       "      <td>74</td>\n",
       "      <td>82</td>\n",
       "      <td>85</td>\n",
       "    </tr>\n",
       "    <tr>\n",
       "      <th>4</th>\n",
       "      <td>86</td>\n",
       "      <td>100</td>\n",
       "      <td>103</td>\n",
       "    </tr>\n",
       "  </tbody>\n",
       "</table>\n",
       "</div>"
      ],
      "text/plain": [
       "                  dl  nondl  spacy\n",
       "entry_id version                  \n",
       "1451793  0        76     83     84\n",
       "         1        76     83     84\n",
       "         2        75     83     84\n",
       "         3        74     82     85\n",
       "         4        86    100    103"
      ]
     },
     "execution_count": 372,
     "metadata": {},
     "output_type": "execute_result"
    }
   ],
   "source": [
    "pd.concat([\n",
    "    sent_dfp_dl.groupby(['entry_id', 'version']).apply(lambda df: len(df)).to_frame('dl'),\n",
    "    sent_dfp_nondl.groupby(['entry_id', 'version']).apply(lambda df: len(df)).to_frame('nondl'),\n",
    "    pd.DataFrame(num_sents).set_index(['entry_id', 'version'])['num_sents'].to_frame('spacy')\n",
    "], axis=1).head()"
   ]
  },
  {
   "cell_type": "code",
   "execution_count": null,
   "metadata": {},
   "outputs": [],
   "source": []
  },
  {
   "cell_type": "code",
   "execution_count": null,
   "metadata": {},
   "outputs": [],
   "source": []
  },
  {
   "cell_type": "code",
   "execution_count": null,
   "metadata": {},
   "outputs": [],
   "source": []
  },
  {
   "cell_type": "code",
   "execution_count": null,
   "metadata": {},
   "outputs": [],
   "source": []
  },
  {
   "cell_type": "code",
   "execution_count": 199,
   "metadata": {},
   "outputs": [
    {
     "data": {
      "text/html": [
       "<div>\n",
       "<style scoped>\n",
       "    .dataframe tbody tr th:only-of-type {\n",
       "        vertical-align: middle;\n",
       "    }\n",
       "\n",
       "    .dataframe tbody tr th {\n",
       "        vertical-align: top;\n",
       "    }\n",
       "\n",
       "    .dataframe thead th {\n",
       "        text-align: right;\n",
       "    }\n",
       "</style>\n",
       "<table border=\"1\" class=\"dataframe\">\n",
       "  <thead>\n",
       "    <tr style=\"text-align: right;\">\n",
       "      <th></th>\n",
       "      <th>entry_id</th>\n",
       "      <th>version</th>\n",
       "      <th>sent_idx</th>\n",
       "      <th>sentence</th>\n",
       "    </tr>\n",
       "  </thead>\n",
       "  <tbody>\n",
       "    <tr>\n",
       "      <th>153</th>\n",
       "      <td>547989</td>\n",
       "      <td>1</td>\n",
       "      <td>1</td>\n",
       "      <td>Overseas weapons sales by the United States to...</td>\n",
       "    </tr>\n",
       "    <tr>\n",
       "      <th>173</th>\n",
       "      <td>547989</td>\n",
       "      <td>2</td>\n",
       "      <td>1</td>\n",
       "      <td>Overseas weapons sales by the United States to...</td>\n",
       "    </tr>\n",
       "  </tbody>\n",
       "</table>\n",
       "</div>"
      ],
      "text/plain": [
       "     entry_id  version  sent_idx  \\\n",
       "153    547989        1         1   \n",
       "173    547989        2         1   \n",
       "\n",
       "                                              sentence  \n",
       "153  Overseas weapons sales by the United States to...  \n",
       "173  Overseas weapons sales by the United States to...  "
      ]
     },
     "execution_count": 199,
     "metadata": {},
     "output_type": "execute_result"
    }
   ],
   "source": [
    "(sent_dfp\n",
    " .loc[lambda df: df['entry_id'] == 547989]\n",
    " .loc[lambda df: df['version'].isin([1, 2])]\n",
    " .loc[lambda df: df['sent_idx'] == 1]\n",
    ")"
   ]
  },
  {
   "cell_type": "markdown",
   "metadata": {},
   "source": [
    "# Compare Sentences"
   ]
  },
  {
   "cell_type": "code",
   "execution_count": 214,
   "metadata": {},
   "outputs": [],
   "source": [
    "comp_sents = (min_sent_dfp\n",
    " .loc[lambda df: df['entry_id'] == 547989]\n",
    " .loc[lambda df: df['version_x'] == 0]\n",
    " .loc[lambda df: df['version_y'] == 1]\n",
    " .merge(\n",
    "    sent_dfp, \n",
    "    left_on=['entry_id', 'version_x', 'sent_idx_x'],\n",
    "    right_on=['entry_id', 'version', 'sent_idx']\n",
    " ).drop(['rn', 'version', 'sent_idx',], axis=1)\n",
    " .merge(\n",
    "    sent_dfp, \n",
    "    left_on=['entry_id', 'version_y', 'sent_idx_y'],\n",
    "    right_on=['entry_id', 'version', 'sent_idx']\n",
    " )\n",
    " .drop(['version', 'sent_idx',], axis=1)\n",
    ")"
   ]
  },
  {
   "cell_type": "code",
   "execution_count": 221,
   "metadata": {},
   "outputs": [],
   "source": [
    "import sys\n",
    "sys.path.append('..')\n",
    "## download spacy model \n",
    "# download data\n",
    "from util import util_data_access\n",
    "util_data_access.download_file('en_core_web_lg.tar.gz', 'edit-pathways/spacy/en_core_web_lg.tar.gz')\n",
    "! tar -xf en_core_web_lg.tar.gz\n",
    "! mv en_core_web_lg-2.3.1 en_core_web_lg\n",
    "import util.util_newssniffer_parsing as unp"
   ]
  },
  {
   "cell_type": "code",
   "execution_count": 240,
   "metadata": {},
   "outputs": [],
   "source": [
    "html = [\n",
    "    '<table>',\n",
    "    '<tr><th>Sentence idx</th><th>Old Version</th><th>New Version</th><th>Distance</th></tr>',\n",
    "]\n",
    "for s_idx, s1, s2, d in comp_sents[['sentence_x', 'sentence_y', 'avg_sentence_distance']].itertuples():\n",
    "    one_row = '<tr><td>%s</td><td>%s</td><td>%s</td><td>%s</td></tr>'\n",
    "    w1, w2 = unp.get_words(s1), unp.get_words(s2)\n",
    "    hs1, hs2 = unp.html_compare_sentences(*unp.get_list_diff(w1, w2))\n",
    "    html.append(one_row % (s_idx, hs1, hs2, d))\n",
    "    \n",
    "html_output = ''.join(html).replace('$', r'\\$')"
   ]
  },
  {
   "cell_type": "code",
   "execution_count": 241,
   "metadata": {},
   "outputs": [],
   "source": [
    "from IPython.display import display, HTML"
   ]
  },
  {
   "cell_type": "code",
   "execution_count": 242,
   "metadata": {},
   "outputs": [
    {
     "data": {
      "text/html": [
       "<table><tr><th>Sentence idx</th><th>Old Version</th><th>New Version</th><th>Distance</th></tr><tr><td>0</td><td>WASHINGTON — Weapons sales by the United States tripled in 2011 to a record high , driven by major arms sales to Persian Gulf allies concerned about Iran ’s regional ambitions , according to a new study for Congress .</td><td>WASHINGTON — Weapons sales by the United States tripled in 2011 to a record high , driven by major arms sales to Persian Gulf allies concerned about Iran ’s regional ambitions , according to a new study for Congress .</td><td>0.0</td></tr><tr><td>1</td><td>Overseas weapons sales by the United States totaled \\$ 66.3 billion last year , or nearly 78 percent of the global arms market  valued at \\$ 85.3 billion in 2011 .</td><td>Overseas weapons sales by the United States totaled \\$ 66.3 billion last year , or nearly 78 percent of the global arms market <span style=\"background-color:rgba(0,255,0,0.3)\">, </span> valued at \\$ 85.3 billion in 2011 .</td><td>0.08589556865218667</td></tr><tr><td>2</td><td>Russia was a distant second , with \\$ 4.8 billion in deals .</td><td>Russia was a distant second , with \\$ 4.8 billion in deals .</td><td>0.0</td></tr><tr><td>3</td><td>The American weapons sales total was an “ extraordinary increase ” over the \\$ 21.4 billion in deals for 2010 , the study found , and was the largest single - year sales total in the history of United States arms exports .</td><td>The American weapons sales total was an “ extraordinary increase ” over the \\$ 21.4 billion in deals for 2010 , the study found , and was the largest single - year sales total in the history of United States arms exports .</td><td>0.0</td></tr><tr><td>4</td><td>The previous high was in fiscal year 2009 , when American weapons sales overseas totaled nearly \\$ 31 billion .</td><td>The previous high was in fiscal year 2009 , when American weapons sales overseas totaled nearly \\$ 31 billion .</td><td>0.0</td></tr><tr><td>5</td><td>A worldwide economic decline had suppressed arms sales over recent years .</td><td>A worldwide economic decline had suppressed arms sales over recent years .</td><td>0.0</td></tr><tr><td>6</td><td>But increasing tensions with Iran drove a set of Persian Gulf nations — Saudi Arabia , the United Arab Emirates and Oman — to purchase American weapons at record levels .</td><td>But increasing tensions with Iran drove a set of Persian Gulf nations — Saudi Arabia , the United Arab Emirates and Oman — to purchase American weapons at record levels .</td><td>0.0</td></tr><tr><td>7</td><td>These <span style=\"background-color:rgba(255,0,0,0.3)\">gulf</span> states do not share a border with Iran , and their arms purchases focused on expensive warplanes and complex missile defense systems .</td><td>These <span style=\"background-color:rgba(0,255,0,0.3)\">Gulf </span> states do not share a border with Iran , and their arms purchases focused on expensive warplanes and complex missile defense systems .</td><td>0.0</td></tr><tr><td>8</td><td>The report was prepared by the nonpartisan Congressional Research Service , a division of the Library of Congress .</td><td>The report was prepared by the nonpartisan Congressional Research Service , a division of the Library of Congress .</td><td>0.0</td></tr><tr><td>9</td><td>The annual study , written by Richard F. Grimmett and Paul K. Kerr and delivered to Congress on Friday , is considered the most detailed collection of unclassified arms sales data available to the public .</td><td>The annual study , written by Richard F. Grimmett and Paul K. Kerr and delivered to Congress on Friday , is considered the most detailed collection of unclassified arms sales data available to the public .</td><td>0.0</td></tr><tr><td>10</td><td>The agreements with Saudi Arabia included  <span style=\"background-color:rgba(255,0,0,0.3)\">purchasing</span>  84 advanced F-15 fighters , <span style=\"background-color:rgba(255,0,0,0.3)\">upgrading</span>              70 of the F-15 fighters in the current fleet <span style=\"background-color:rgba(255,0,0,0.3)\">and</span> <span style=\"background-color:rgba(255,0,0,0.3)\">procuring</span> <span style=\"background-color:rgba(255,0,0,0.3)\">a</span> <span style=\"background-color:rgba(255,0,0,0.3)\">variety</span> <span style=\"background-color:rgba(255,0,0,0.3)\">of</span> <span style=\"background-color:rgba(255,0,0,0.3)\">ammunition</span> <span style=\"background-color:rgba(255,0,0,0.3)\">,</span> <span style=\"background-color:rgba(255,0,0,0.3)\">missiles</span> <span style=\"background-color:rgba(255,0,0,0.3)\">and</span> <span style=\"background-color:rgba(255,0,0,0.3)\">logistics</span> <span style=\"background-color:rgba(255,0,0,0.3)\">support</span> .</td><td>The agreements with Saudi Arabia included <span style=\"background-color:rgba(0,255,0,0.3)\">the </span> <span style=\"background-color:rgba(0,255,0,0.3)\">purchase </span> <span style=\"background-color:rgba(0,255,0,0.3)\">of </span> 84 advanced F-15 fighters ,  <span style=\"background-color:rgba(0,255,0,0.3)\">a </span> <span style=\"background-color:rgba(0,255,0,0.3)\">variety </span> <span style=\"background-color:rgba(0,255,0,0.3)\">of </span> <span style=\"background-color:rgba(0,255,0,0.3)\">ammunition </span> <span style=\"background-color:rgba(0,255,0,0.3)\">, </span> <span style=\"background-color:rgba(0,255,0,0.3)\">missiles </span> <span style=\"background-color:rgba(0,255,0,0.3)\">and </span> <span style=\"background-color:rgba(0,255,0,0.3)\">logistics </span> <span style=\"background-color:rgba(0,255,0,0.3)\">support </span> <span style=\"background-color:rgba(0,255,0,0.3)\">, </span> <span style=\"background-color:rgba(0,255,0,0.3)\">and </span> <span style=\"background-color:rgba(0,255,0,0.3)\">upgrades </span> <span style=\"background-color:rgba(0,255,0,0.3)\">of </span> 70 of the F-15 fighters in the current fleet            .</td><td>0.4023753878866901</td></tr><tr><td>11</td><td>Sales to Saudi Arabia last year also included dozens of Apache and Black Hawk helicopters , all contributing to a total Saudi weapons deal from the United States of \\$ 33.4 billion , according to the study .</td><td>Sales to Saudi Arabia last year also included dozens of Apache and Black Hawk helicopters , all contributing to a total Saudi weapons deal from the United States of \\$ 33.4 billion , according to the study .</td><td>0.0</td></tr><tr><td>12</td><td>The United Arab Emirates purchased a Terminal High Altitude Area Defense , an advanced antimissile shield that includes radars and  valued at \\$ 3.49 billion , as well as 16 Chinook helicopters for \\$ 939 million .</td><td>The United Arab Emirates purchased a Terminal High Altitude Area Defense , an advanced antimissile shield that includes radars and <span style=\"background-color:rgba(0,255,0,0.3)\">is </span> valued at \\$ 3.49 billion , as well as 16 Chinook helicopters for \\$ 939 million .</td><td>0.10670958682484048</td></tr><tr><td>13</td><td>Oman bought 18 F-16 <span style=\"background-color:rgba(255,0,0,0.3)\">fighter</span> <span style=\"background-color:rgba(255,0,0,0.3)\">aircraft</span> for \\$ 1.4 billion .</td><td>Oman bought 18 F-16 <span style=\"background-color:rgba(0,255,0,0.3)\">fighters </span>  for \\$ 1.4 billion .</td><td>0.4781365265741597</td></tr><tr><td>14</td><td>In keeping with recent trends , most of the weapons purchases , worth about \\$ 71.5 billion , were made by developing nations , with about \\$ 56.3 billion of that from the United States .</td><td>In keeping with recent trends , most of the weapons purchases , worth about \\$ 71.5 billion , were made by developing nations , with about \\$ 56.3 billion of that from the United States .</td><td>0.0</td></tr><tr><td>15</td><td>Other significant weapons deals by the United States last year included a \\$ 4.1 billion agreement with India for 10 C-17 transport planes and with Taiwan for Patriot antimissile batteries valued at \\$ 2 billion — an arms deal that outraged officials in Beijing .</td><td>Other significant weapons deals by the United States last year included a \\$ 4.1 billion agreement with India for 10 C-17 transport planes and with Taiwan for Patriot antimissile batteries valued at \\$ 2 billion — an arms deal that outraged officials in Beijing .</td><td>0.0</td></tr><tr><td>16</td><td>To compare weapons sales over various years , the study used figures in 2011 dollars , with amounts for previous years adjusted for inflation to provide a consistent measurement .</td><td>To compare weapons sales over various years , the study used figures in 2011 dollars , with amounts for previous years adjusted for inflation to provide a consistent measurement .</td><td>0.0</td></tr><tr><td>17</td><td>A policy goal of the United States has been to work with Arab allies in the Persian Gulf to knit together a regional missile defense system to protect cities , oil refineries , pipelines and military bases from an Iranian attack .</td><td>A policy goal of the United States has been to work with Arab allies in the Persian Gulf to knit together a regional missile defense system to protect cities , oil refineries , pipelines and military bases from an Iranian attack .</td><td>0.0</td></tr><tr><td>18</td><td>The effort has included deploying radars to increase the range of early warning coverage across the Persian Gulf , as well as introducing command , control and communications systems that could exchange that information with new batteries of missile interceptors sold to the individual nations .</td><td>The effort has included deploying radars to increase the range of early warning coverage across the Persian Gulf , as well as introducing command , control and communications systems that could exchange that information with new batteries of missile interceptors sold to the individual nations .</td><td>0.0</td></tr><tr><td>19</td><td>The missile shield in the Persian Gulf is being built on a country - by - country basis — with these costly arms sales negotiated bilaterally between the United States and individual nations .</td><td>The missile shield in the Persian Gulf is being built on a country - by - country basis — with these costly arms sales negotiated bilaterally between the United States and individual nations .</td><td>0.0</td></tr>"
      ],
      "text/plain": [
       "<IPython.core.display.HTML object>"
      ]
     },
     "metadata": {},
     "output_type": "display_data"
    }
   ],
   "source": [
    "display(HTML(html_output))"
   ]
  },
  {
   "cell_type": "code",
   "execution_count": null,
   "metadata": {},
   "outputs": [],
   "source": []
  },
  {
   "cell_type": "code",
   "execution_count": null,
   "metadata": {},
   "outputs": [],
   "source": []
  },
  {
   "cell_type": "code",
   "execution_count": null,
   "metadata": {},
   "outputs": [],
   "source": []
  },
  {
   "cell_type": "code",
   "execution_count": null,
   "metadata": {},
   "outputs": [],
   "source": []
  },
  {
   "cell_type": "code",
   "execution_count": null,
   "metadata": {},
   "outputs": [],
   "source": []
  },
  {
   "cell_type": "code",
   "execution_count": null,
   "metadata": {},
   "outputs": [],
   "source": []
  },
  {
   "cell_type": "code",
   "execution_count": 58,
   "metadata": {},
   "outputs": [
    {
     "name": "stdout",
     "output_type": "stream",
     "text": [
      "+--------+---------+---------+----------+----------+----------+-------------------+\n",
      "|entry_id|version_x|version_y|sent_idx_x|sent_idx_y|word_idx_x|      min(distance)|\n",
      "+--------+---------+---------+----------+----------+----------+-------------------+\n",
      "|  547990|        0|        1|        31|        54|       625|0.27467247689876834|\n",
      "|  547990|        0|        1|       110|        69|      2392| 0.3241328806506398|\n",
      "|  547991|        0|        1|        23|        23|       641|0.25599765822360915|\n",
      "|  547991|        2|        3|        44|        44|      1069|                0.0|\n",
      "|  547991|        2|        3|        52|        53|      1328|                0.0|\n",
      "|  547991|        2|        3|        39|        40|       927|0.34708298864380505|\n",
      "|  547990|        0|        1|       113|       113|      2503|                0.0|\n",
      "|  547990|        0|        1|         9|         9|       212|                0.0|\n",
      "|  547988|        0|        1|         3|         3|       106|                0.0|\n",
      "|  547990|        0|        1|         6|        38|       123|0.22111277626924106|\n",
      "|  547990|        0|        1|       104|       104|      2280|                0.0|\n",
      "|  547990|        0|        1|        27|        27|       512|                0.0|\n",
      "|  547991|        1|        2|        46|        46|      1139|                0.0|\n",
      "|  547991|        1|        2|         0|         0|        41|                0.0|\n",
      "|  547991|        1|        2|        21|        21|       589|                0.0|\n",
      "|  547991|        2|        3|        22|        22|       616| 0.2819465760917395|\n",
      "|  547990|        0|        1|        88|        67|      1912|0.29905399528682847|\n",
      "|  547991|        0|        1|         0|         0|        20|0.02387604603129036|\n",
      "|  547991|        2|        3|        55|        56|      1392|                0.0|\n",
      "|  547988|        0|        1|        64|        64|      1565|                0.0|\n",
      "+--------+---------+---------+----------+----------+----------+-------------------+\n",
      "only showing top 20 rows\n",
      "\n"
     ]
    }
   ],
   "source": [
    "get_word_pair_min_distance.transform(joined_df).show()"
   ]
  },
  {
   "cell_type": "code",
   "execution_count": null,
   "metadata": {},
   "outputs": [],
   "source": []
  },
  {
   "cell_type": "code",
   "execution_count": null,
   "metadata": {},
   "outputs": [],
   "source": []
  },
  {
   "cell_type": "code",
   "execution_count": null,
   "metadata": {},
   "outputs": [],
   "source": []
  },
  {
   "cell_type": "code",
   "execution_count": null,
   "metadata": {},
   "outputs": [],
   "source": []
  },
  {
   "cell_type": "code",
   "execution_count": null,
   "metadata": {},
   "outputs": [],
   "source": []
  },
  {
   "cell_type": "markdown",
   "metadata": {},
   "source": [
    "# Test if the approximation is the same as the full inner join"
   ]
  },
  {
   "cell_type": "code",
   "execution_count": null,
   "metadata": {},
   "outputs": [],
   "source": [
    "min_dist_inner_join = word_emb_sdfp.groupby([\n",
    "    'entry_id',\n",
    "    'version_x',\n",
    "    'version_y',\n",
    "    'sent_idx_x',\n",
    "    'sent_idx_y',\n",
    "    'word_idx_x',\n",
    "    'token_x',\n",
    "])['cosine_distance'].min()\n",
    "\n",
    "min_dist_inner_join.shape\n",
    "\n",
    "min_dist_approx = joined_dfp.groupby([\n",
    "    'entry_id',\n",
    "    'version_x',\n",
    "    'version_y',\n",
    "    'sent_idx_x',\n",
    "    'sent_idx_y',\n",
    "    'word_idx_x',\n",
    "    'num_words',\n",
    "    'token_x',\n",
    "])['distance'].min()\n",
    "\n",
    "joined_dfp[['entry_id', 'version_x', 'version_y', 'sent_idx_x', 'sent_idx_y', 'num_words']].drop_duplicates()['num_words'].sum()\n",
    "\n",
    "min_full = (word_emb_sdfp\n",
    " ## get max words\n",
    " .loc[lambda df: df.groupby(['entry_id', 'version_x', 'sent_idx_x', 'sent_idx_y', 'word_idx_x', 'token_x'])['cosine_distance'].idxmin()]#[des_col_list]\n",
    " ## get mean of sentence\n",
    " .groupby(['entry_id', 'version_x', 'sent_idx_x', 'version_y', 'sent_idx_y'])['cosine_distance'].mean().reset_index()\n",
    " ## get max sentence\n",
    " .loc[lambda df: df.groupby(['entry_id', 'version_x', 'sent_idx_x', 'version_y'])['cosine_distance'].idxmin()]\n",
    ")\n",
    "\n",
    "min_approx = (joined_dfp\n",
    " ## get max words\n",
    " .loc[lambda df: df.groupby(['entry_id', 'version_x', 'sent_idx_x', 'sent_idx_y', 'word_idx_x', 'token_x'])['distance'].idxmin()]#[des_col_list]\n",
    " ## get mean of sentence\n",
    " .groupby(['entry_id', 'version_x', 'sent_idx_x', 'version_y', 'sent_idx_y'])['distance'].mean().reset_index()\n",
    " ## get max sentence\n",
    " .loc[lambda df: df.groupby(['entry_id', 'version_x', 'sent_idx_x', 'version_y'])['distance'].idxmin()]\n",
    ")\n",
    "\n",
    "(min_full.sort_values(['entry_id', 'version_x', 'version_y', 'sent_idx_x', 'sent_idx_y'])['sent_idx_x'].values\n",
    "== min_approx.sort_values(['entry_id', 'version_x', 'version_y', 'sent_idx_x', 'sent_idx_y'])['sent_idx_x'].values)\n",
    "\n",
    "(min_full.sort_values(['entry_id', 'version_x', 'version_y', 'sent_idx_x', 'sent_idx_y'])['sent_idx_y'].values\n",
    "== min_approx.sort_values(['entry_id', 'version_x', 'version_y', 'sent_idx_x', 'sent_idx_y'])['sent_idx_y'].values)"
   ]
  },
  {
   "cell_type": "code",
   "execution_count": null,
   "metadata": {},
   "outputs": [],
   "source": []
  },
  {
   "cell_type": "code",
   "execution_count": null,
   "metadata": {},
   "outputs": [],
   "source": []
  },
  {
   "cell_type": "code",
   "execution_count": 34,
   "metadata": {},
   "outputs": [],
   "source": [
    "word_emb_sdf = word_emb_sdf.cache()"
   ]
  },
  {
   "cell_type": "code",
   "execution_count": null,
   "metadata": {},
   "outputs": [],
   "source": [
    "word_emb_sdf = word_emb_sdf.repartition('entry_id', 'version_x', 'version_y', 'sent_idx_x', 'sent_idx_y')#, 'word_idx_x')"
   ]
  },
  {
   "cell_type": "code",
   "execution_count": null,
   "metadata": {},
   "outputs": [],
   "source": [
    "word_emb_sdf.show()"
   ]
  },
  {
   "cell_type": "code",
   "execution_count": 17,
   "metadata": {},
   "outputs": [],
   "source": [
    "word_emb_sdf = get_max_word_min.transform(word_emb_sdf)"
   ]
  },
  {
   "cell_type": "code",
   "execution_count": 21,
   "metadata": {},
   "outputs": [],
   "source": [
    "from pyspark.sql.functions import spark_partition_id, asc, desc\n",
    "partitions = (\n",
    "    word_emb_sdf\n",
    "        .withColumn(\"partitionId\", spark_partition_id())\n",
    "        .groupBy(\"partitionId\")\n",
    "        .count()\n",
    "        .orderBy(asc(\"count\"))\n",
    "        .toPandas()\n",
    ")"
   ]
  },
  {
   "cell_type": "code",
   "execution_count": 23,
   "metadata": {},
   "outputs": [
    {
     "data": {
      "text/plain": [
       "755380"
      ]
     },
     "execution_count": 23,
     "metadata": {},
     "output_type": "execute_result"
    }
   ],
   "source": [
    "partitions['count'].sum()"
   ]
  },
  {
   "cell_type": "code",
   "execution_count": null,
   "metadata": {},
   "outputs": [],
   "source": []
  },
  {
   "cell_type": "code",
   "execution_count": null,
   "metadata": {},
   "outputs": [],
   "source": []
  },
  {
   "cell_type": "code",
   "execution_count": null,
   "metadata": {},
   "outputs": [],
   "source": []
  },
  {
   "cell_type": "code",
   "execution_count": null,
   "metadata": {},
   "outputs": [],
   "source": []
  },
  {
   "cell_type": "code",
   "execution_count": null,
   "metadata": {},
   "outputs": [],
   "source": []
  },
  {
   "cell_type": "code",
   "execution_count": 18,
   "metadata": {},
   "outputs": [
    {
     "name": "stdout",
     "output_type": "stream",
     "text": [
      "+--------+---------+---------+----------+----------+----------+--------------------+\n",
      "|entry_id|version_x|version_y|sent_idx_x|sent_idx_y|word_idx_x|min(cosine_distance)|\n",
      "+--------+---------+---------+----------+----------+----------+--------------------+\n",
      "|  547991|        2|        3|         0|        23|         0|          0.45366806|\n",
      "|  547991|        2|        3|         0|        23|         1|          0.31662515|\n",
      "|  547991|        2|        3|         0|        23|         2|          0.32143697|\n",
      "|  547991|        2|        3|         0|        23|         3|          0.32374802|\n",
      "|  547991|        2|        3|         0|        23|         4|          0.34763005|\n",
      "|  547991|        2|        3|         0|        23|         5|           0.3871965|\n",
      "|  547991|        2|        3|         0|        23|         6|          0.33349082|\n",
      "|  547991|        2|        3|         0|        23|         7|          0.40576532|\n",
      "|  547991|        2|        3|         0|        23|         8|           0.3442957|\n",
      "|  547991|        2|        3|         0|        23|         9|          0.39317727|\n",
      "|  547991|        2|        3|         0|        23|        10|          0.42770043|\n",
      "|  547991|        2|        3|         0|        23|        11|           0.5083151|\n",
      "|  547991|        2|        3|         0|        23|        12|          0.42195985|\n",
      "|  547991|        2|        3|         0|        23|        13|          0.31820232|\n",
      "|  547991|        2|        3|         0|        23|        14|           0.4619458|\n",
      "|  547991|        2|        3|         0|        23|        15|          0.36894196|\n",
      "|  547991|        2|        3|         0|        23|        16|          0.35431597|\n",
      "|  547991|        2|        3|         0|        23|        17|            0.537521|\n",
      "|  547991|        2|        3|         0|        23|        18|          0.38610688|\n",
      "|  547991|        2|        3|         0|        23|        19|           0.3644004|\n",
      "+--------+---------+---------+----------+----------+----------+--------------------+\n",
      "only showing top 20 rows\n",
      "\n"
     ]
    }
   ],
   "source": [
    "word_emb_sdf.show()"
   ]
  },
  {
   "cell_type": "code",
   "execution_count": null,
   "metadata": {},
   "outputs": [],
   "source": []
  },
  {
   "cell_type": "code",
   "execution_count": null,
   "metadata": {},
   "outputs": [],
   "source": []
  },
  {
   "cell_type": "code",
   "execution_count": null,
   "metadata": {},
   "outputs": [],
   "source": []
  },
  {
   "cell_type": "code",
   "execution_count": null,
   "metadata": {},
   "outputs": [],
   "source": [
    "## todo: calculate num words per sentence.\n",
    "## set a filter threshold to filter out any cosine distances that as > .4"
   ]
  },
  {
   "cell_type": "code",
   "execution_count": 163,
   "metadata": {},
   "outputs": [],
   "source": [
    "# word_emb_sdf.write.mode(\"overwrite\").parquet(\"s3://aspangher/tmp/tmp_bert_embeddings\")"
   ]
  },
  {
   "cell_type": "code",
   "execution_count": null,
   "metadata": {},
   "outputs": [],
   "source": []
  },
  {
   "cell_type": "code",
   "execution_count": null,
   "metadata": {},
   "outputs": [],
   "source": []
  },
  {
   "cell_type": "code",
   "execution_count": null,
   "metadata": {},
   "outputs": [],
   "source": [
    "sdf.shape"
   ]
  },
  {
   "cell_type": "code",
   "execution_count": 150,
   "metadata": {},
   "outputs": [],
   "source": [
    "get_max_word_rn = (\n",
    "    SQLTransformer()\n",
    "     .setStatement(\"\"\"\n",
    "         SELECT *\n",
    "         FROM (SELECT *, ROW_NUMBER() OVER (\n",
    "                         PARTITION BY entry_id, \n",
    "                                      version_x, \n",
    "                                      version_y, \n",
    "                                      sent_idx_x, \n",
    "                                      sent_idx_y, \n",
    "                                      word_idx_x, \n",
    "                                      token_x \n",
    "                                      ORDER BY cosine_distance ASC\n",
    "                                      ) AS rn FROM __THIS__)\n",
    "         where rn = 1\n",
    "    \"\"\")\n",
    ") \n",
    "\n",
    "get_max_word_cross = (\n",
    "    SQLTransformer()\n",
    "     .setStatement(\"\"\"\n",
    "         SELECT t1.token_x FROM __THIS__ AS t1\n",
    "         CROSS APPLY\n",
    "             (select TOP 1 cosine_distance\n",
    "              from __THIS__ t2\n",
    "              WHERE t1.entry_id = t2.entry_id\n",
    "              AND t1.version_x = t2.version_x\n",
    "              AND t1.version_y = t2.version_y\n",
    "              AND t1.sent_idx_x = t2.sent_idx_x\n",
    "              AND t1.sent_idx_y = t2.sent_idx_y\n",
    "              AND t1.word_idx_x = t2.word_idx_x\n",
    "              AND t1.token_x = t2.token_x\n",
    "              order by cosine_distance ASC) as t2\n",
    "      \"\"\")\n",
    ")"
   ]
  },
  {
   "cell_type": "code",
   "execution_count": null,
   "metadata": {},
   "outputs": [],
   "source": []
  },
  {
   "cell_type": "code",
   "execution_count": null,
   "metadata": {},
   "outputs": [],
   "source": []
  },
  {
   "cell_type": "code",
   "execution_count": null,
   "metadata": {},
   "outputs": [],
   "source": [
    "(inner_join_df\n",
    " ## get max words\n",
    " .loc[lambda df: df.groupby(['entry_id_x', 'version_x', 'sent_idx_x', 'sent_idx_y', 'word_idx_x', 'token_x'])['dot_product'].idxmax()][des_col_list]\n",
    " ## get mean of sentence\n",
    " .groupby(['entry_id_x', 'version_x', 'sent_idx_x', 'version_y', 'sent_idx_y'])['dot_product'].mean().reset_index()\n",
    " ## get max sentence\n",
    " .loc[lambda df: df.groupby(['entry_id_x', 'version_x', 'sent_idx_x', 'version_y'])['dot_product'].idxmax()]\n",
    ")"
   ]
  },
  {
   "cell_type": "code",
   "execution_count": null,
   "metadata": {},
   "outputs": [],
   "source": []
  },
  {
   "cell_type": "code",
   "execution_count": null,
   "metadata": {},
   "outputs": [],
   "source": []
  },
  {
   "cell_type": "code",
   "execution_count": null,
   "metadata": {},
   "outputs": [],
   "source": []
  },
  {
   "cell_type": "code",
   "execution_count": null,
   "metadata": {},
   "outputs": [],
   "source": []
  },
  {
   "cell_type": "code",
   "execution_count": null,
   "metadata": {},
   "outputs": [],
   "source": []
  },
  {
   "cell_type": "code",
   "execution_count": null,
   "metadata": {},
   "outputs": [],
   "source": []
  },
  {
   "cell_type": "code",
   "execution_count": null,
   "metadata": {},
   "outputs": [],
   "source": []
  },
  {
   "cell_type": "code",
   "execution_count": null,
   "metadata": {},
   "outputs": [],
   "source": []
  },
  {
   "cell_type": "code",
   "execution_count": null,
   "metadata": {},
   "outputs": [],
   "source": []
  },
  {
   "cell_type": "code",
   "execution_count": null,
   "metadata": {},
   "outputs": [],
   "source": []
  },
  {
   "cell_type": "code",
   "execution_count": null,
   "metadata": {},
   "outputs": [],
   "source": []
  },
  {
   "cell_type": "code",
   "execution_count": null,
   "metadata": {},
   "outputs": [],
   "source": []
  },
  {
   "cell_type": "code",
   "execution_count": null,
   "metadata": {},
   "outputs": [],
   "source": []
  },
  {
   "cell_type": "code",
   "execution_count": null,
   "metadata": {},
   "outputs": [],
   "source": []
  },
  {
   "cell_type": "code",
   "execution_count": null,
   "metadata": {},
   "outputs": [],
   "source": []
  },
  {
   "cell_type": "code",
   "execution_count": null,
   "metadata": {},
   "outputs": [],
   "source": []
  },
  {
   "cell_type": "code",
   "execution_count": null,
   "metadata": {},
   "outputs": [],
   "source": []
  },
  {
   "cell_type": "code",
   "execution_count": 46,
   "metadata": {},
   "outputs": [],
   "source": [
    "from tqdm.auto import tqdm"
   ]
  },
  {
   "cell_type": "code",
   "execution_count": 128,
   "metadata": {},
   "outputs": [],
   "source": [
    "import numpy as np \n",
    "import matplotlib.pyplot as plt "
   ]
  },
  {
   "cell_type": "code",
   "execution_count": 129,
   "metadata": {},
   "outputs": [],
   "source": [
    "c, b = np.histogram(inner_join_df['dot_product'], bins=100)"
   ]
  },
  {
   "cell_type": "code",
   "execution_count": 130,
   "metadata": {},
   "outputs": [
    {
     "data": {
      "image/png": "[encoded data removed]",
      "text/plain": [
       "<Figure size 432x288 with 1 Axes>"
      ]
     },
     "metadata": {
      "needs_background": "light"
     },
     "output_type": "display_data"
    }
   ],
   "source": [
    "hist_plot = pd.Series({b_i:c_i for c_i, b_i in zip(c, b[:-1])})\n",
    "hist_plot.plot(kind='bar')\n",
    "plt.xticks(range(len(hist_plot))[::2], list(map(lambda x: round(x, 4), hist_plot.index))[::2]);"
   ]
  },
  {
   "cell_type": "code",
   "execution_count": 133,
   "metadata": {},
   "outputs": [
    {
     "data": {
      "text/plain": [
       "entry_id_x  version_x  sent_idx_x  sent_idx_y  word_idx_x  token_x   \n",
       "547989      0          0           0           0           WASHINGTON       0\n",
       "                                               1           —              608\n",
       "                                               2           Weapons       1216\n",
       "Name: dot_product, dtype: int64"
      ]
     },
     "execution_count": 133,
     "metadata": {},
     "output_type": "execute_result"
    }
   ],
   "source": [
    "(inner_join_df\n",
    " .groupby(['entry_id_x', 'version_x', 'sent_idx_x', 'sent_idx_y', 'word_idx_x', 'token_x'])\n",
    " ['dot_product'].idxmax()\n",
    " .head(3)\n",
    ")"
   ]
  },
  {
   "cell_type": "code",
   "execution_count": 134,
   "metadata": {},
   "outputs": [],
   "source": [
    "max_words = (inner_join_df\n",
    " .loc[lambda df: df.groupby(['entry_id_x', 'version_x', 'sent_idx_x', 'sent_idx_y', 'word_idx_x', 'token_x'])['dot_product'].idxmax()]\n",
    " [des_col_list]\n",
    " .groupby([\n",
    "     'entry_id_x', 'version_x', 'sent_idx_x', 'version_y', 'sent_idx_y'\n",
    " ])['dot_product']\n",
    " .mean()\n",
    " .reset_index()\n",
    " .loc[lambda df: df.groupby(['entry_id_x', 'version_x', 'sent_idx_x', 'version_y'])['dot_product'].idxmax()]\n",
    " .sort_values('sent_idx_x')\n",
    "#  .loc[lambda df: df['sent_idx_x'] != df['sent_idx_y']]\n",
    ")"
   ]
  },
  {
   "cell_type": "code",
   "execution_count": null,
   "metadata": {},
   "outputs": [],
   "source": []
  },
  {
   "cell_type": "code",
   "execution_count": null,
   "metadata": {},
   "outputs": [],
   "source": []
  },
  {
   "cell_type": "code",
   "execution_count": null,
   "metadata": {},
   "outputs": [],
   "source": []
  },
  {
   "cell_type": "code",
   "execution_count": null,
   "metadata": {},
   "outputs": [],
   "source": []
  },
  {
   "cell_type": "code",
   "execution_count": null,
   "metadata": {},
   "outputs": [],
   "source": []
  },
  {
   "cell_type": "code",
   "execution_count": null,
   "metadata": {},
   "outputs": [],
   "source": []
  },
  {
   "cell_type": "code",
   "execution_count": null,
   "metadata": {},
   "outputs": [],
   "source": [
    "#                  CONCAT(word_emb.entry_id, '-', \n",
    "#                         word_emb.version, '-',\n",
    "#                         word_emb_2.version, '-',\n",
    "#                         word_emb.sent_idx, '-',\n",
    "#                         word_emb_2.sent_idx, '-',\n",
    "#                         word_emb.word_idx, '-',\n",
    "#                         word_emb_2.word_idx, '-',\n",
    "#                         word_emb.token, '-'\n",
    "#                         )                                                            AS partition_key,"
   ]
  },
  {
   "cell_type": "code",
   "execution_count": null,
   "metadata": {},
   "outputs": [],
   "source": []
  }
 ],
 "metadata": {
  "hide_input": false,
  "kernelspec": {
   "display_name": "Python 3",
   "language": "python",
   "name": "python3"
  },
  "language_info": {
   "codemirror_mode": {
    "name": "ipython",
    "version": 3
   },
   "file_extension": ".py",
   "mimetype": "text/x-python",
   "name": "python",
   "nbconvert_exporter": "python",
   "pygments_lexer": "ipython3",
   "version": "3.7.3"
  }
 },
 "nbformat": 4,
 "nbformat_minor": 4
}
