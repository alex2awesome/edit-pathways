{
 "cells": [
  {
   "cell_type": "markdown",
   "metadata": {},
   "source": [
    "# Select Data for Annotation"
   ]
  },
  {
   "cell_type": "code",
   "execution_count": 9,
   "metadata": {},
   "outputs": [],
   "source": [
    "source = 'ap'"
   ]
  },
  {
   "cell_type": "code",
   "execution_count": 10,
   "metadata": {},
   "outputs": [
    {
     "name": "stdout",
     "output_type": "stream",
     "text": [
      "ap-matched-sentences.db           nyt-matched-sentences.db\r\n",
      "bbc-2-matched-sentences.db        reuters-matched-sentences.db\r\n",
      "guardian-matched-sentences.db     wp-matched-sentences.db\r\n",
      "independent-matched-sentences.db\r\n"
     ]
    }
   ],
   "source": [
    "ls ../data/diffengine-diffs/spark-output/"
   ]
  },
  {
   "cell_type": "code",
   "execution_count": 11,
   "metadata": {},
   "outputs": [
    {
     "data": {
      "text/html": [
       "<div>\n",
       "<style scoped>\n",
       "    .dataframe tbody tr th:only-of-type {\n",
       "        vertical-align: middle;\n",
       "    }\n",
       "\n",
       "    .dataframe tbody tr th {\n",
       "        vertical-align: top;\n",
       "    }\n",
       "\n",
       "    .dataframe thead th {\n",
       "        text-align: right;\n",
       "    }\n",
       "</style>\n",
       "<table border=\"1\" class=\"dataframe\">\n",
       "  <thead>\n",
       "    <tr style=\"text-align: right;\">\n",
       "      <th></th>\n",
       "      <th>name</th>\n",
       "    </tr>\n",
       "  </thead>\n",
       "  <tbody>\n",
       "    <tr>\n",
       "      <th>0</th>\n",
       "      <td>matched_sentences</td>\n",
       "    </tr>\n",
       "    <tr>\n",
       "      <th>1</th>\n",
       "      <td>split_sentences</td>\n",
       "    </tr>\n",
       "  </tbody>\n",
       "</table>\n",
       "</div>"
      ],
      "text/plain": [
       "                name\n",
       "0  matched_sentences\n",
       "1    split_sentences"
      ]
     },
     "execution_count": 11,
     "metadata": {},
     "output_type": "execute_result"
    }
   ],
   "source": [
    "import unidecode\n",
    "import sys\n",
    "sys.path.insert(0, '..')\n",
    "from util import util_refactorings as ur\n",
    "import sqlite3\n",
    "import pandas as pd \n",
    "import os \n",
    "\n",
    "db_filename = '../data/diffengine-diffs/spark-output/%s-matched-sentences.db' % source\n",
    "\n",
    "if not os.path.exists(db_filename):\n",
    "    db_zip = db_filename + '.gz'\n",
    "    ! gunzip $db_zip\n",
    "\n",
    "conn = sqlite3.connect(db_filename)\n",
    "pd.read_sql('''SELECT \n",
    "                    name\n",
    "                FROM \n",
    "                    sqlite_master \n",
    "                WHERE \n",
    "                    type ='table' AND \n",
    "                    name NOT LIKE 'sqlite_%';\n",
    "''', con=conn)"
   ]
  },
  {
   "cell_type": "code",
   "execution_count": 12,
   "metadata": {},
   "outputs": [],
   "source": [
    "low_count_versions = pd.read_sql('''\n",
    "    with c1 as \n",
    "        (SELECT entry_id, CAST(version as INT) as version, COUNT(1) as c from split_sentences GROUP BY entry_id, version)\n",
    "    SELECT entry_id, version from c1\n",
    "    WHERE c < 15 and c > 3\n",
    "''', con=conn)\n",
    "\n",
    "# get join keys\n",
    "low_count_entry_ids = ', '.join(list(map(str, low_count_versions['entry_id'].unique())))\n",
    "joint_keys = low_count_versions.pipe(lambda df: df['entry_id'].astype(str) + '-' + df['version'].astype(str))\n",
    "joint_keys = \"'%s'\" % \"', '\".join(joint_keys.tolist())\n",
    "\n",
    "# matched sentences\n",
    "matched_sentences = pd.read_sql('''\n",
    "    WITH c1 as ( \n",
    "    SELECT *, \n",
    "    entry_id || '-' || version_x as key_x,\n",
    "    entry_id || '-' || version_y as key_y \n",
    "    FROM matched_sentences \n",
    "    )\n",
    "    SELECT *\n",
    "    FROM c1\n",
    "    WHERE key_x in (%s) AND key_y  in (%s)\n",
    "    ''' % (joint_keys, joint_keys)\n",
    ", con=conn)\n",
    "\n",
    "# get split sentences\n",
    "split_sentences = pd.read_sql('''\n",
    "    with c1 AS (\n",
    "        SELECT *, entry_id || '-' || CAST(version AS INT) as key FROM split_sentences\n",
    "    )\n",
    "    SELECT entry_id, CAST(version AS INT) as version, sent_idx, sentence \n",
    "    FROM c1\n",
    "    WHERE key IN (%s)\n",
    "''' % joint_keys, con=conn)"
   ]
  },
  {
   "cell_type": "code",
   "execution_count": 13,
   "metadata": {},
   "outputs": [],
   "source": [
    "matched_sentences = matched_sentences.assign(source=source)\n",
    "split_sentences = split_sentences.assign(source=source)"
   ]
  },
  {
   "cell_type": "code",
   "execution_count": 14,
   "metadata": {
    "scrolled": true
   },
   "outputs": [],
   "source": [
    "doc_arcs_dict = matched_sentences.to_dict(orient='rows')\n",
    "\n",
    "# get HTML diffs\n",
    "doc_arcs = (matched_sentences\n",
    " .merge(split_sentences, how='outer', \n",
    "              right_on=['source', 'entry_id', 'version', 'sent_idx'],\n",
    "              left_on=['source', 'entry_id', 'version_x', 'sent_idx_x'] ,\n",
    "  ).drop(['version', 'sent_idx'], axis=1)\n",
    " .merge(split_sentences, how='outer', \n",
    "              right_on=['source', 'entry_id', 'version', 'sent_idx'],\n",
    "              left_on=['source', 'entry_id', 'version_y', 'sent_idx_y'] ,\n",
    "  ).drop(['version', 'sent_idx'], axis=1) \n",
    ")\n",
    "\n",
    "grouped_arcs = (matched_sentences\n",
    " .groupby(['source', 'entry_id', 'version_x', 'version_y'])\n",
    " .apply(lambda df: \n",
    "    df[['version_x', 'version_y', 'sent_idx_x', 'sent_idx_y',\n",
    "        'avg_sentence_distance_x', 'avg_sentence_distance_y'\n",
    "       ]].to_dict(orient='rows')\n",
    " )\n",
    " .to_frame('arcs')\n",
    ")\n",
    "\n",
    "split_sentences['sentence'] = split_sentences['sentence'].apply(unidecode.unidecode)\n",
    "split_sentences['sentence'] = split_sentences['sentence'].str.replace('\"', '\\'\\'')\n",
    "split_sentences['sentence'] = split_sentences['sentence'].str.replace('<p>', '').str.replace('</p>', '').str.strip()\n",
    "\n",
    "grouped_nodes = (split_sentences\n",
    " .groupby(['source', 'entry_id', 'version'])\n",
    " .apply(lambda df: df[['version', 'sent_idx', 'sentence']].to_dict(orient='rows'))\n",
    ").to_frame('nodes').reset_index()\n",
    "\n",
    "matched_grouped_nodes = (grouped_nodes\n",
    " .merge(\n",
    "     grouped_nodes.assign(next_vers=lambda df: df['version'] - 1), \n",
    "     left_on=['source', 'entry_id', 'version'], \n",
    "     right_on=['source', 'entry_id', 'next_vers']\n",
    " )\n",
    " .assign(nodes=lambda df: df['nodes_x'] + df['nodes_y'])\n",
    " [['source', 'entry_id', 'version_x', 'version_y', 'nodes']]\n",
    " .set_index(['source', 'entry_id', 'version_x', 'version_y'])\n",
    ")\n",
    "\n",
    "output = (\n",
    "    pd.concat([matched_grouped_nodes, grouped_arcs], axis=1)\n",
    "    .to_dict(orient='index')\n",
    ")\n",
    "\n",
    "output = {str(k): v for k, v in output.items()}\n",
    "\n",
    "# import json\n",
    "# with open('../evaluation/data/sample_datum_small.json', 'w') as f:\n",
    "#     json.dump(output, f )"
   ]
  },
  {
   "cell_type": "code",
   "execution_count": null,
   "metadata": {},
   "outputs": [],
   "source": []
  },
  {
   "cell_type": "code",
   "execution_count": null,
   "metadata": {},
   "outputs": [],
   "source": []
  },
  {
   "cell_type": "code",
   "execution_count": null,
   "metadata": {},
   "outputs": [],
   "source": []
  },
  {
   "cell_type": "markdown",
   "metadata": {},
   "source": [
    "# Checks"
   ]
  },
  {
   "cell_type": "code",
   "execution_count": 15,
   "metadata": {},
   "outputs": [
    {
     "data": {
      "text/html": [
       "<div>\n",
       "<style scoped>\n",
       "    .dataframe tbody tr th:only-of-type {\n",
       "        vertical-align: middle;\n",
       "    }\n",
       "\n",
       "    .dataframe tbody tr th {\n",
       "        vertical-align: top;\n",
       "    }\n",
       "\n",
       "    .dataframe thead th {\n",
       "        text-align: right;\n",
       "    }\n",
       "</style>\n",
       "<table border=\"1\" class=\"dataframe\">\n",
       "  <thead>\n",
       "    <tr style=\"text-align: right;\">\n",
       "      <th></th>\n",
       "      <th>entry_id</th>\n",
       "      <th>version_x</th>\n",
       "      <th>version_y</th>\n",
       "      <th>sent_idx_x</th>\n",
       "      <th>sent_idx_y</th>\n",
       "      <th>avg_sentence_distance_x</th>\n",
       "      <th>avg_sentence_distance_y</th>\n",
       "      <th>key_x</th>\n",
       "      <th>key_y</th>\n",
       "      <th>source</th>\n",
       "    </tr>\n",
       "  </thead>\n",
       "  <tbody>\n",
       "    <tr>\n",
       "      <th>0</th>\n",
       "      <td>4212</td>\n",
       "      <td>0</td>\n",
       "      <td>1</td>\n",
       "      <td>0.0</td>\n",
       "      <td>0.0</td>\n",
       "      <td>0.419282</td>\n",
       "      <td>0.419282</td>\n",
       "      <td>4212-0</td>\n",
       "      <td>4212-1</td>\n",
       "      <td>ap</td>\n",
       "    </tr>\n",
       "    <tr>\n",
       "      <th>1</th>\n",
       "      <td>4074</td>\n",
       "      <td>0</td>\n",
       "      <td>1</td>\n",
       "      <td>NaN</td>\n",
       "      <td>2.0</td>\n",
       "      <td>NaN</td>\n",
       "      <td>NaN</td>\n",
       "      <td>4074-0</td>\n",
       "      <td>4074-1</td>\n",
       "      <td>ap</td>\n",
       "    </tr>\n",
       "    <tr>\n",
       "      <th>2</th>\n",
       "      <td>4386</td>\n",
       "      <td>0</td>\n",
       "      <td>1</td>\n",
       "      <td>6.0</td>\n",
       "      <td>6.0</td>\n",
       "      <td>0.000000</td>\n",
       "      <td>0.000000</td>\n",
       "      <td>4386-0</td>\n",
       "      <td>4386-1</td>\n",
       "      <td>ap</td>\n",
       "    </tr>\n",
       "    <tr>\n",
       "      <th>3</th>\n",
       "      <td>4027</td>\n",
       "      <td>7</td>\n",
       "      <td>8</td>\n",
       "      <td>3.0</td>\n",
       "      <td>3.0</td>\n",
       "      <td>0.000000</td>\n",
       "      <td>0.000000</td>\n",
       "      <td>4027-7</td>\n",
       "      <td>4027-8</td>\n",
       "      <td>ap</td>\n",
       "    </tr>\n",
       "    <tr>\n",
       "      <th>4</th>\n",
       "      <td>4151</td>\n",
       "      <td>8</td>\n",
       "      <td>9</td>\n",
       "      <td>1.0</td>\n",
       "      <td>NaN</td>\n",
       "      <td>NaN</td>\n",
       "      <td>NaN</td>\n",
       "      <td>4151-8</td>\n",
       "      <td>4151-9</td>\n",
       "      <td>ap</td>\n",
       "    </tr>\n",
       "  </tbody>\n",
       "</table>\n",
       "</div>"
      ],
      "text/plain": [
       "   entry_id  version_x  version_y  sent_idx_x  sent_idx_y  \\\n",
       "0      4212          0          1         0.0         0.0   \n",
       "1      4074          0          1         NaN         2.0   \n",
       "2      4386          0          1         6.0         6.0   \n",
       "3      4027          7          8         3.0         3.0   \n",
       "4      4151          8          9         1.0         NaN   \n",
       "\n",
       "   avg_sentence_distance_x  avg_sentence_distance_y   key_x   key_y source  \n",
       "0                 0.419282                 0.419282  4212-0  4212-1     ap  \n",
       "1                      NaN                      NaN  4074-0  4074-1     ap  \n",
       "2                 0.000000                 0.000000  4386-0  4386-1     ap  \n",
       "3                 0.000000                 0.000000  4027-7  4027-8     ap  \n",
       "4                      NaN                      NaN  4151-8  4151-9     ap  "
      ]
     },
     "execution_count": 15,
     "metadata": {},
     "output_type": "execute_result"
    }
   ],
   "source": [
    "matched_sentences.head()"
   ]
  },
  {
   "cell_type": "code",
   "execution_count": 16,
   "metadata": {},
   "outputs": [],
   "source": [
    "null_sents = (\n",
    "    matched_sentences\n",
    "     .groupby(['entry_id', 'version_x', 'version_y'])\n",
    "     [['sent_idx_x','sent_idx_y']]\n",
    "    .apply(lambda df: df.isnull().sum())\n",
    "    .rename(columns={'sent_idx_x': 'num_deleted', 'sent_idx_y': 'num_added'})\n",
    "    #  .sort_values(ascending=False).loc[lambda s: s <4]\n",
    ")"
   ]
  },
  {
   "cell_type": "code",
   "execution_count": 17,
   "metadata": {},
   "outputs": [],
   "source": [
    "non_zero_sents = (\n",
    "    matched_sentences\n",
    "     .groupby(['entry_id', 'version_x', 'version_y'])\n",
    "     [['avg_sentence_distance_x', 'avg_sentence_distance_y']]\n",
    "     .mean()\n",
    ")"
   ]
  },
  {
   "cell_type": "code",
   "execution_count": 18,
   "metadata": {},
   "outputs": [],
   "source": [
    "doc_level_stats = pd.concat([\n",
    "    null_sents, \n",
    "    non_zero_sents\n",
    "], axis=1)"
   ]
  },
  {
   "cell_type": "code",
   "execution_count": 19,
   "metadata": {},
   "outputs": [
    {
     "data": {
      "text/html": [
       "<div>\n",
       "<style scoped>\n",
       "    .dataframe tbody tr th:only-of-type {\n",
       "        vertical-align: middle;\n",
       "    }\n",
       "\n",
       "    .dataframe tbody tr th {\n",
       "        vertical-align: top;\n",
       "    }\n",
       "\n",
       "    .dataframe thead th {\n",
       "        text-align: right;\n",
       "    }\n",
       "</style>\n",
       "<table border=\"1\" class=\"dataframe\">\n",
       "  <thead>\n",
       "    <tr style=\"text-align: right;\">\n",
       "      <th></th>\n",
       "      <th></th>\n",
       "      <th></th>\n",
       "      <th>num_deleted</th>\n",
       "      <th>num_added</th>\n",
       "      <th>avg_sentence_distance_x</th>\n",
       "      <th>avg_sentence_distance_y</th>\n",
       "    </tr>\n",
       "    <tr>\n",
       "      <th>entry_id</th>\n",
       "      <th>version_x</th>\n",
       "      <th>version_y</th>\n",
       "      <th></th>\n",
       "      <th></th>\n",
       "      <th></th>\n",
       "      <th></th>\n",
       "    </tr>\n",
       "  </thead>\n",
       "  <tbody>\n",
       "    <tr>\n",
       "      <th>4</th>\n",
       "      <th>27</th>\n",
       "      <th>28</th>\n",
       "      <td>3</td>\n",
       "      <td>2</td>\n",
       "      <td>0.178994</td>\n",
       "      <td>0.178994</td>\n",
       "    </tr>\n",
       "    <tr>\n",
       "      <th>27</th>\n",
       "      <th>8</th>\n",
       "      <th>9</th>\n",
       "      <td>3</td>\n",
       "      <td>1</td>\n",
       "      <td>0.241061</td>\n",
       "      <td>0.241531</td>\n",
       "    </tr>\n",
       "    <tr>\n",
       "      <th rowspan=\"3\" valign=\"top\">95</th>\n",
       "      <th>1</th>\n",
       "      <th>2</th>\n",
       "      <td>3</td>\n",
       "      <td>0</td>\n",
       "      <td>0.213974</td>\n",
       "      <td>0.214219</td>\n",
       "    </tr>\n",
       "    <tr>\n",
       "      <th>3</th>\n",
       "      <th>4</th>\n",
       "      <td>3</td>\n",
       "      <td>11</td>\n",
       "      <td>0.421040</td>\n",
       "      <td>0.421040</td>\n",
       "    </tr>\n",
       "    <tr>\n",
       "      <th>19</th>\n",
       "      <th>20</th>\n",
       "      <td>3</td>\n",
       "      <td>0</td>\n",
       "      <td>0.064634</td>\n",
       "      <td>0.109541</td>\n",
       "    </tr>\n",
       "    <tr>\n",
       "      <th>...</th>\n",
       "      <th>...</th>\n",
       "      <th>...</th>\n",
       "      <td>...</td>\n",
       "      <td>...</td>\n",
       "      <td>...</td>\n",
       "      <td>...</td>\n",
       "    </tr>\n",
       "    <tr>\n",
       "      <th>21614</th>\n",
       "      <th>0</th>\n",
       "      <th>1</th>\n",
       "      <td>3</td>\n",
       "      <td>1</td>\n",
       "      <td>0.315155</td>\n",
       "      <td>0.312595</td>\n",
       "    </tr>\n",
       "    <tr>\n",
       "      <th>22460</th>\n",
       "      <th>0</th>\n",
       "      <th>1</th>\n",
       "      <td>3</td>\n",
       "      <td>0</td>\n",
       "      <td>0.131347</td>\n",
       "      <td>0.130701</td>\n",
       "    </tr>\n",
       "    <tr>\n",
       "      <th>22864</th>\n",
       "      <th>0</th>\n",
       "      <th>1</th>\n",
       "      <td>3</td>\n",
       "      <td>3</td>\n",
       "      <td>0.093593</td>\n",
       "      <td>0.093939</td>\n",
       "    </tr>\n",
       "    <tr>\n",
       "      <th>23003</th>\n",
       "      <th>0</th>\n",
       "      <th>1</th>\n",
       "      <td>3</td>\n",
       "      <td>3</td>\n",
       "      <td>0.101784</td>\n",
       "      <td>0.102017</td>\n",
       "    </tr>\n",
       "    <tr>\n",
       "      <th>23078</th>\n",
       "      <th>0</th>\n",
       "      <th>1</th>\n",
       "      <td>3</td>\n",
       "      <td>1</td>\n",
       "      <td>0.074087</td>\n",
       "      <td>0.074087</td>\n",
       "    </tr>\n",
       "  </tbody>\n",
       "</table>\n",
       "<p>399 rows × 4 columns</p>\n",
       "</div>"
      ],
      "text/plain": [
       "                              num_deleted  num_added  avg_sentence_distance_x  \\\n",
       "entry_id version_x version_y                                                    \n",
       "4        27        28                   3          2                 0.178994   \n",
       "27       8         9                    3          1                 0.241061   \n",
       "95       1         2                    3          0                 0.213974   \n",
       "         3         4                    3         11                 0.421040   \n",
       "         19        20                   3          0                 0.064634   \n",
       "...                                   ...        ...                      ...   \n",
       "21614    0         1                    3          1                 0.315155   \n",
       "22460    0         1                    3          0                 0.131347   \n",
       "22864    0         1                    3          3                 0.093593   \n",
       "23003    0         1                    3          3                 0.101784   \n",
       "23078    0         1                    3          1                 0.074087   \n",
       "\n",
       "                              avg_sentence_distance_y  \n",
       "entry_id version_x version_y                           \n",
       "4        27        28                        0.178994  \n",
       "27       8         9                         0.241531  \n",
       "95       1         2                         0.214219  \n",
       "         3         4                         0.421040  \n",
       "         19        20                        0.109541  \n",
       "...                                               ...  \n",
       "21614    0         1                         0.312595  \n",
       "22460    0         1                         0.130701  \n",
       "22864    0         1                         0.093939  \n",
       "23003    0         1                         0.102017  \n",
       "23078    0         1                         0.074087  \n",
       "\n",
       "[399 rows x 4 columns]"
      ]
     },
     "execution_count": 19,
     "metadata": {},
     "output_type": "execute_result"
    }
   ],
   "source": [
    "doc_level_stats.loc[lambda df: df['num_deleted'] == 3] ## choose all documents with 3 deletions\n",
    "## num_deleted = number of deleted sentences \n",
    "## num_added = number of added sentences \n",
    "## avg_sentence_distance_x, avg_sentence_distance_y = overall, how different are the sentences across the document?\n",
    "\n"
   ]
  },
  {
   "cell_type": "code",
   "execution_count": 20,
   "metadata": {},
   "outputs": [
    {
     "data": {
      "text/html": [
       "<div>\n",
       "<style scoped>\n",
       "    .dataframe tbody tr th:only-of-type {\n",
       "        vertical-align: middle;\n",
       "    }\n",
       "\n",
       "    .dataframe tbody tr th {\n",
       "        vertical-align: top;\n",
       "    }\n",
       "\n",
       "    .dataframe thead th {\n",
       "        text-align: right;\n",
       "    }\n",
       "</style>\n",
       "<table border=\"1\" class=\"dataframe\">\n",
       "  <thead>\n",
       "    <tr style=\"text-align: right;\">\n",
       "      <th></th>\n",
       "      <th></th>\n",
       "      <th></th>\n",
       "      <th>num_deleted</th>\n",
       "      <th>num_added</th>\n",
       "      <th>avg_sentence_distance_x</th>\n",
       "      <th>avg_sentence_distance_y</th>\n",
       "    </tr>\n",
       "    <tr>\n",
       "      <th>entry_id</th>\n",
       "      <th>version_x</th>\n",
       "      <th>version_y</th>\n",
       "      <th></th>\n",
       "      <th></th>\n",
       "      <th></th>\n",
       "      <th></th>\n",
       "    </tr>\n",
       "  </thead>\n",
       "  <tbody>\n",
       "    <tr>\n",
       "      <th rowspan=\"4\" valign=\"top\">4</th>\n",
       "      <th>12</th>\n",
       "      <th>13</th>\n",
       "      <td>4</td>\n",
       "      <td>9</td>\n",
       "      <td>0.241678</td>\n",
       "      <td>0.290792</td>\n",
       "    </tr>\n",
       "    <tr>\n",
       "      <th>13</th>\n",
       "      <th>14</th>\n",
       "      <td>7</td>\n",
       "      <td>4</td>\n",
       "      <td>0.270817</td>\n",
       "      <td>0.270708</td>\n",
       "    </tr>\n",
       "    <tr>\n",
       "      <th>21</th>\n",
       "      <th>22</th>\n",
       "      <td>2</td>\n",
       "      <td>2</td>\n",
       "      <td>0.237003</td>\n",
       "      <td>0.237003</td>\n",
       "    </tr>\n",
       "    <tr>\n",
       "      <th>28</th>\n",
       "      <th>29</th>\n",
       "      <td>4</td>\n",
       "      <td>5</td>\n",
       "      <td>0.277796</td>\n",
       "      <td>0.277796</td>\n",
       "    </tr>\n",
       "    <tr>\n",
       "      <th>5</th>\n",
       "      <th>6</th>\n",
       "      <th>7</th>\n",
       "      <td>5</td>\n",
       "      <td>4</td>\n",
       "      <td>0.244841</td>\n",
       "      <td>0.272071</td>\n",
       "    </tr>\n",
       "    <tr>\n",
       "      <th>...</th>\n",
       "      <th>...</th>\n",
       "      <th>...</th>\n",
       "      <td>...</td>\n",
       "      <td>...</td>\n",
       "      <td>...</td>\n",
       "      <td>...</td>\n",
       "    </tr>\n",
       "    <tr>\n",
       "      <th>22212</th>\n",
       "      <th>0</th>\n",
       "      <th>1</th>\n",
       "      <td>9</td>\n",
       "      <td>0</td>\n",
       "      <td>0.225256</td>\n",
       "      <td>0.186219</td>\n",
       "    </tr>\n",
       "    <tr>\n",
       "      <th>22614</th>\n",
       "      <th>0</th>\n",
       "      <th>1</th>\n",
       "      <td>7</td>\n",
       "      <td>3</td>\n",
       "      <td>0.320019</td>\n",
       "      <td>0.291688</td>\n",
       "    </tr>\n",
       "    <tr>\n",
       "      <th>22783</th>\n",
       "      <th>0</th>\n",
       "      <th>1</th>\n",
       "      <td>8</td>\n",
       "      <td>4</td>\n",
       "      <td>0.281086</td>\n",
       "      <td>0.313712</td>\n",
       "    </tr>\n",
       "    <tr>\n",
       "      <th>22914</th>\n",
       "      <th>0</th>\n",
       "      <th>1</th>\n",
       "      <td>2</td>\n",
       "      <td>2</td>\n",
       "      <td>0.260872</td>\n",
       "      <td>0.278024</td>\n",
       "    </tr>\n",
       "    <tr>\n",
       "      <th>22995</th>\n",
       "      <th>0</th>\n",
       "      <th>1</th>\n",
       "      <td>6</td>\n",
       "      <td>6</td>\n",
       "      <td>0.380042</td>\n",
       "      <td>0.380042</td>\n",
       "    </tr>\n",
       "  </tbody>\n",
       "</table>\n",
       "<p>1036 rows × 4 columns</p>\n",
       "</div>"
      ],
      "text/plain": [
       "                              num_deleted  num_added  avg_sentence_distance_x  \\\n",
       "entry_id version_x version_y                                                    \n",
       "4        12        13                   4          9                 0.241678   \n",
       "         13        14                   7          4                 0.270817   \n",
       "         21        22                   2          2                 0.237003   \n",
       "         28        29                   4          5                 0.277796   \n",
       "5        6         7                    5          4                 0.244841   \n",
       "...                                   ...        ...                      ...   \n",
       "22212    0         1                    9          0                 0.225256   \n",
       "22614    0         1                    7          3                 0.320019   \n",
       "22783    0         1                    8          4                 0.281086   \n",
       "22914    0         1                    2          2                 0.260872   \n",
       "22995    0         1                    6          6                 0.380042   \n",
       "\n",
       "                              avg_sentence_distance_y  \n",
       "entry_id version_x version_y                           \n",
       "4        12        13                        0.290792  \n",
       "         13        14                        0.270708  \n",
       "         21        22                        0.237003  \n",
       "         28        29                        0.277796  \n",
       "5        6         7                         0.272071  \n",
       "...                                               ...  \n",
       "22212    0         1                         0.186219  \n",
       "22614    0         1                         0.291688  \n",
       "22783    0         1                         0.313712  \n",
       "22914    0         1                         0.278024  \n",
       "22995    0         1                         0.380042  \n",
       "\n",
       "[1036 rows x 4 columns]"
      ]
     },
     "execution_count": 20,
     "metadata": {},
     "output_type": "execute_result"
    }
   ],
   "source": [
    "doc_level_stats.loc[lambda df: df['avg_sentence_distance_x'] > 2e-01] ## choose all documents with 3 deletions"
   ]
  },
  {
   "cell_type": "code",
   "execution_count": null,
   "metadata": {},
   "outputs": [],
   "source": []
  },
  {
   "cell_type": "code",
   "execution_count": null,
   "metadata": {},
   "outputs": [],
   "source": []
  },
  {
   "cell_type": "code",
   "execution_count": null,
   "metadata": {},
   "outputs": [],
   "source": []
  },
  {
   "cell_type": "code",
   "execution_count": 21,
   "metadata": {},
   "outputs": [],
   "source": [
    "desired_index = doc_level_stats.loc[lambda df: df['avg_sentence_distance_x'] > 2e-01]"
   ]
  },
  {
   "cell_type": "code",
   "execution_count": 22,
   "metadata": {},
   "outputs": [],
   "source": [
    "# x = 870103\n",
    "# desired_index = list(filter(lambda x: x[0] == 870103, desired_index.index))"
   ]
  },
  {
   "cell_type": "code",
   "execution_count": null,
   "metadata": {},
   "outputs": [],
   "source": []
  },
  {
   "cell_type": "code",
   "execution_count": null,
   "metadata": {},
   "outputs": [],
   "source": []
  },
  {
   "cell_type": "code",
   "execution_count": null,
   "metadata": {},
   "outputs": [],
   "source": []
  },
  {
   "cell_type": "code",
   "execution_count": null,
   "metadata": {},
   "outputs": [],
   "source": []
  },
  {
   "cell_type": "code",
   "execution_count": null,
   "metadata": {},
   "outputs": [],
   "source": [
    "# merge both\n",
    "merged_matched_sentences = (matched_sentences\n",
    " .merge(\n",
    "    split_sentences, left_on=['entry_id', 'version_x', 'sent_idx_x'], right_on=['entry_id', 'version', 'sent_idx'],\n",
    "    how='left'\n",
    " ).drop(['version', 'sent_idx', 'key', 'key_x', 'key_y'], axis=1)\n",
    " .merge(\n",
    "    split_sentences, left_on=['entry_id', 'version_y', 'sent_idx_y'], right_on=['entry_id', 'version', 'sent_idx'],\n",
    "    how='left'\n",
    " ).drop(['version', 'sent_idx', 'key',], axis=1)\n",
    ")"
   ]
  },
  {
   "cell_type": "code",
   "execution_count": null,
   "metadata": {},
   "outputs": [],
   "source": [
    "# check how many additions there are\n",
    "merged_matched_sentences.loc[lambda df: df['sent_idx_x'].isnull()]"
   ]
  },
  {
   "cell_type": "code",
   "execution_count": null,
   "metadata": {},
   "outputs": [],
   "source": []
  },
  {
   "cell_type": "markdown",
   "metadata": {},
   "source": [
    "# Launch to MTurk"
   ]
  },
  {
   "cell_type": "code",
   "execution_count": 23,
   "metadata": {},
   "outputs": [
    {
     "data": {
      "text/plain": [
       "<module 'mturk' (namespace)>"
      ]
     },
     "execution_count": 23,
     "metadata": {},
     "output_type": "execute_result"
    }
   ],
   "source": [
    "from tqdm.auto import tqdm\n",
    "import boto3\n",
    "import os\n",
    "from boto.mturk.connection import MTurkConnection\n",
    "from boto.mturk.question import HTMLQuestion\n",
    "import pandas as pd \n",
    "from boto.mturk.question import ExternalQuestion\n",
    "from IPython.display import display, HTML\n",
    "import matplotlib.pyplot as plt\n",
    "plt.rc('font', size=14)\n",
    "from importlib import reload\n",
    "from boto.mturk.qualification import (\n",
    "    Qualifications,\n",
    "    PercentAssignmentsApprovedRequirement, \n",
    "    NumberHitsApprovedRequirement\n",
    ")\n",
    "\n",
    "import sys\n",
    "sys.path.insert(0, '../evaluation/')\n",
    "\n",
    "import mturk as mturk\n",
    "import mturk.utils_mturk as um\n",
    "\n",
    "from importlib import reload\n",
    "reload(um)\n",
    "reload(mturk)"
   ]
  },
  {
   "cell_type": "code",
   "execution_count": 24,
   "metadata": {},
   "outputs": [
    {
     "name": "stdout",
     "output_type": "stream",
     "text": [
      "VN2M29BH4PCAJT9ABZKN\n",
      "O9bcBpaprrXr6Q3dorn0XYI4Kp8go6oBDBYFYqeD\n"
     ]
    }
   ],
   "source": [
    "print(os.environ['AWS_ACCESS_KEY_ID'])\n",
    "print(os.environ['AWS_SECRET_ACCESS_KEY'])"
   ]
  },
  {
   "cell_type": "code",
   "execution_count": 25,
   "metadata": {},
   "outputs": [],
   "source": [
    "from importlib import reload\n",
    "reload(um)\n",
    "\n",
    "env = 'sandbox'\n",
    "# env = 'production'\n",
    "mturk = um.MTurkHandler(environment=env) #=production/sandbox"
   ]
  },
  {
   "cell_type": "code",
   "execution_count": null,
   "metadata": {},
   "outputs": [],
   "source": [
    "mturk.bonus_worker('A3PRQ2GSU42718', '3B837J3LDS7C1HXPYYW3VZCJESSSRO', '3.50')"
   ]
  },
  {
   "cell_type": "code",
   "execution_count": 148,
   "metadata": {},
   "outputs": [],
   "source": [
    "ass = mturk.client.list_assignments_for_hit(HITId=created_hits[0]['HIT']['HITId'])"
   ]
  },
  {
   "cell_type": "code",
   "execution_count": 26,
   "metadata": {},
   "outputs": [],
   "source": [
    "CUSTOM_QUALIFICATION = False"
   ]
  },
  {
   "cell_type": "code",
   "execution_count": 27,
   "metadata": {},
   "outputs": [],
   "source": [
    "worker_requirements = [\n",
    "    ### number of hits approved\n",
    "    {\n",
    "        'QualificationTypeId': '000000000000000000L0',\n",
    "        'Comparator': 'GreaterThanOrEqualTo',\n",
    "        'IntegerValues': [80],\n",
    "    },\n",
    "    ## worker local\n",
    "    {\n",
    "        'QualificationTypeId': '00000000000000000071',\n",
    "        'Comparator': 'EqualTo',\n",
    "        'LocaleValues': [{\n",
    "            \"Country\":\"US\",\n",
    "        }],\n",
    "        'RequiredToPreview': True,\n",
    "    },\n",
    "    ## percent assignments approved\n",
    "    {\n",
    "        'QualificationTypeId': '000000000000000000L0',\n",
    "        'Comparator': 'GreaterThanOrEqualTo',\n",
    "        'IntegerValues': [90],\n",
    "    },\n",
    "]\n",
    "\n",
    "## custom qualification\n",
    "if CUSTOM_QUALIFICATION:\n",
    "    worker_requirements = []\n",
    "    if env == 'production':\n",
    "        worker_requirements.append({\n",
    "            'QualificationTypeId': '3WZ6PU0JYXSTA4EIPF2M6S1CMZ7KL8',\n",
    "            'Comparator': 'GreaterThanOrEqualTo',\n",
    "            'IntegerValues': [90],      \n",
    "        })\n",
    "    else:\n",
    "        worker_requirements.append({\n",
    "            'QualificationTypeId': '381R35RGJFFV6VLBBDX2MLZFNSH414',  ## UCLA students\n",
    "            #'3FQWXCP5BDC6A66PD20NE8FM4G3H44' other workers\n",
    "            'Comparator': 'GreaterThanOrEqualTo',\n",
    "            'IntegerValues': [90],      \n",
    "        })"
   ]
  },
  {
   "cell_type": "code",
   "execution_count": null,
   "metadata": {},
   "outputs": [],
   "source": []
  },
  {
   "cell_type": "code",
   "execution_count": null,
   "metadata": {},
   "outputs": [],
   "source": []
  },
  {
   "cell_type": "code",
   "execution_count": 28,
   "metadata": {},
   "outputs": [],
   "source": [
    "from jinja2 import Template, Environment, FileSystemLoader\n",
    "import datetime\n",
    "from IPython.display import display, HTML\n",
    "jinja_env = Environment(loader=FileSystemLoader('../evaluation/templates'))"
   ]
  },
  {
   "cell_type": "code",
   "execution_count": 32,
   "metadata": {},
   "outputs": [],
   "source": [
    "template = jinja_env.get_template('edit-sentences.html')\n",
    "created_hits = []"
   ]
  },
  {
   "cell_type": "code",
   "execution_count": 33,
   "metadata": {},
   "outputs": [],
   "source": [
    "import unidecode\n",
    "def clean_temp(node):\n",
    "    node['sentence'] =     node['sentence'].replace('.p T', ' -- t')\n",
    "    node['sentence'] =     unidecode.unidecode(node['sentence'])\n",
    "    return node\n",
    "    \n",
    "# data['nodes'] = list(map(clean_temp, data['nodes']))"
   ]
  },
  {
   "cell_type": "code",
   "execution_count": 45,
   "metadata": {},
   "outputs": [],
   "source": [
    "output = {str(k): v for k, v in output.items()}"
   ]
  },
  {
   "cell_type": "code",
   "execution_count": 51,
   "metadata": {},
   "outputs": [],
   "source": [
    "desired_keys = list(map(lambda x: str(tuple([source] + list(x))), desired_index.index))\n",
    "desired_output = dict(list(filter(lambda x: x[0] in desired_keys, output.items())))"
   ]
  },
  {
   "cell_type": "code",
   "execution_count": 53,
   "metadata": {},
   "outputs": [
    {
     "name": "stdout",
     "output_type": "stream",
     "text": [
      "\u001b[34moutput_data\u001b[m\u001b[m/                        sample_datum_many.json\r\n",
      "sample_datum.json                   sample_datum_many_sent_breaks.json\r\n"
     ]
    }
   ],
   "source": [
    "ls ../evaluation/data"
   ]
  },
  {
   "cell_type": "code",
   "execution_count": 54,
   "metadata": {},
   "outputs": [],
   "source": [
    "import json\n",
    "with open('../evaluation/data/sample_ap_data.json', 'w') as f:\n",
    "    json.dump( desired_output, f )"
   ]
  },
  {
   "cell_type": "markdown",
   "metadata": {},
   "source": [
    "## Match Sentences HITs"
   ]
  },
  {
   "cell_type": "code",
   "execution_count": 55,
   "metadata": {},
   "outputs": [],
   "source": [
    "for i, idx in enumerate(desired_index.sample(10).index):\n",
    "    sample_key = str(tuple([source] + list(idx)))\n",
    "\n",
    "    ## make the HTML \n",
    "    data = output[sample_key]\n",
    "    html = template.render(\n",
    "        data=data,\n",
    "        doc_id=sample_key,\n",
    "        source=source,\n",
    "        entry_id=idx[0],\n",
    "        v_x=idx[1],\n",
    "        v_y=idx[2],\n",
    "        do_mturk=True,\n",
    "        production=env=='production',\n",
    "        start_time=datetime.datetime.now()\n",
    "    )\n",
    "\n",
    "    ## dump to disk for inspection\n",
    "    with open('../evaluation/mturk/templated-question-example-%s.html' % i, 'w') as f:\n",
    "        f.write(html)\n",
    "\n",
    "    if True:\n",
    "        ## HTMLQuestion HIT\n",
    "        description = '''\n",
    "            We\\'d like to match sentences from two edited versions of the same article. \n",
    "            Help us by drawing lines to connect blocks of text.\n",
    "        '''\n",
    "        title = 'Edit some news articles v2'\n",
    "        new_hit = mturk.client.create_hit(\n",
    "            Title = title,\n",
    "            Description = description,\n",
    "            Keywords = 'text, highlighting',\n",
    "            Reward = '0.4',\n",
    "            MaxAssignments = 1,\n",
    "            LifetimeInSeconds = 17280000,\n",
    "            AssignmentDurationInSeconds = 600000,\n",
    "            AutoApprovalDelayInSeconds = 28800,\n",
    "            Question = html,\n",
    "            QualificationRequirements=worker_requirements #if env == 'production' else []\n",
    "        )\n",
    "        created_hits.append(new_hit)"
   ]
  },
  {
   "cell_type": "markdown",
   "metadata": {},
   "source": [
    "### Make Edits HITs"
   ]
  },
  {
   "cell_type": "code",
   "execution_count": 66,
   "metadata": {},
   "outputs": [],
   "source": [
    "template = jinja_env.get_template('edit-sentences.html')\n",
    "created_hits = []"
   ]
  },
  {
   "cell_type": "code",
   "execution_count": 99,
   "metadata": {},
   "outputs": [
    {
     "data": {
      "text/plain": [
       "('ap', 2982, 16, 17)    [{'version': 16, 'sent_idx': 0, 'sentence': 'W...\n",
       "Name: nodes, dtype: object"
      ]
     },
     "execution_count": 99,
     "metadata": {},
     "output_type": "execute_result"
    }
   ],
   "source": [
    "(pd.DataFrame(desired_output)\n",
    " .T['nodes']\n",
    " .loc[lambda s: s.apply(lambda x: any(map(lambda y: 'Jeff Sessions' in y['sentence'], x)))]\n",
    " .iloc[[3]]\n",
    ")"
   ]
  },
  {
   "cell_type": "code",
   "execution_count": null,
   "metadata": {},
   "outputs": [],
   "source": []
  },
  {
   "cell_type": "code",
   "execution_count": null,
   "metadata": {},
   "outputs": [],
   "source": [
    "list(desired_output.items())[0]"
   ]
  },
  {
   "cell_type": "code",
   "execution_count": null,
   "metadata": {},
   "outputs": [],
   "source": []
  },
  {
   "cell_type": "code",
   "execution_count": null,
   "metadata": {},
   "outputs": [],
   "source": []
  },
  {
   "cell_type": "code",
   "execution_count": 68,
   "metadata": {},
   "outputs": [],
   "source": [
    "for i, idx in enumerate(desired_index.sample(10).index):\n",
    "    sample_key = str(tuple([source] + list(idx)))\n",
    "\n",
    "    # filter data\n",
    "    data = output[sample_key]\n",
    "    versions = list(map(lambda x: x['version'], data['nodes']))\n",
    "    x_vers = min(versions)\n",
    "    data['nodes'] = list(filter(lambda x: x['version'] == x_vers, data['nodes']))\n",
    "    \n",
    "    ## make the HTML \n",
    "    html = template.render(\n",
    "        data=data,\n",
    "        doc_id=sample_key,\n",
    "        source=source,\n",
    "        entry_id=idx[0],\n",
    "        v_x=idx[1],\n",
    "        v_y=idx[2],\n",
    "        do_mturk=True,\n",
    "        production=env=='production',\n",
    "        start_time=datetime.datetime.now()\n",
    "    )\n",
    "\n",
    "    ## dump to disk for inspection\n",
    "    with open('../evaluation/mturk/templated-question-example-%s.html' % i, 'w') as f:\n",
    "        f.write(html)\n",
    "\n",
    "    if True:\n",
    "        ## HTMLQuestion HIT\n",
    "        description = '''\n",
    "            We\\'d like to match sentences from two edited versions of the same article. \n",
    "            Help us by drawing lines to connect blocks of text.\n",
    "        '''\n",
    "        title = 'Edit some news articles v3'\n",
    "        new_hit = mturk.client.create_hit(\n",
    "            Title = title,\n",
    "            Description = description,\n",
    "            Keywords = 'text, highlighting',\n",
    "            Reward = '0.4',\n",
    "            MaxAssignments = 1,\n",
    "            LifetimeInSeconds = 17280000,\n",
    "            AssignmentDurationInSeconds = 600000,\n",
    "            AutoApprovalDelayInSeconds = 28800,\n",
    "            Question = html,\n",
    "            QualificationRequirements=worker_requirements #if env == 'production' else []\n",
    "        )\n",
    "        created_hits.append(new_hit)"
   ]
  },
  {
   "cell_type": "code",
   "execution_count": 35,
   "metadata": {},
   "outputs": [],
   "source": [
    "mkdir hits_edits_cache"
   ]
  },
  {
   "cell_type": "code",
   "execution_count": 37,
   "metadata": {},
   "outputs": [],
   "source": [
    "import pickle\n",
    "with open('hits_edits_cache/2021-10-31__first-round-sandbox.pkl', 'wb') as f:\n",
    "    pickle.dump(created_hits, f)"
   ]
  },
  {
   "cell_type": "code",
   "execution_count": 40,
   "metadata": {},
   "outputs": [],
   "source": [
    "import pickle\n",
    "with open('hits_edits_cache/2021-10-31__second-round-sandbox.pkl', 'wb') as f:\n",
    "    pickle.dump(created_hits, f)"
   ]
  },
  {
   "cell_type": "code",
   "execution_count": 79,
   "metadata": {},
   "outputs": [],
   "source": [
    "import pickle\n",
    "with open('hits_edits_cache/2021-10-31__first-round-sandbox.pkl', 'rb') as f:\n",
    "    created_hits = pickle.load(f)"
   ]
  },
  {
   "cell_type": "code",
   "execution_count": 80,
   "metadata": {},
   "outputs": [
    {
     "data": {
      "text/plain": [
       "{'HIT': {'HITId': '3T2EL38U1PUHYD6UPR738MJN4QOXQD',\n",
       "  'HITTypeId': '36G9MO4VB97XLQ1I9Y9AWM747SE3A0',\n",
       "  'HITGroupId': '3D3KZYB03MDKTK0FLN0W9TNJOP1V8U',\n",
       "  'CreationTime': datetime.datetime(2021, 10, 31, 17, 15, 34, tzinfo=tzlocal()),\n",
       "  'Title': 'Annotate some news article edits v8',\n",
       "  'Description': \"\\n            We'd like to match sentences from two edited versions of the same article. \\n            Help us by drawing lines to connect blocks of text.\\n        \",\n",
       "  'Question': '<HTMLQuestion xmlns=\"http://mechanicalturk.amazonaws.com/AWSMechanicalTurkDataSchemas/2011-11-11/HTMLQuestion.xsd\">\\n<HTMLContent><![CDATA[\\n\\n<!-- YOUR HTML BEGINS -->\\n<!DOCTYPE html>\\n<html>\\n<head>\\n<meta http-equiv=\\'Content-Type\\' content=\\'text/html; charset=UTF-8\\'/>\\n<script type=\\'text/javascript\\' src=\\'https://s3.amazonaws.com/mturk-public/externalHIT_v1.js\\'></script>\\n</head>\\n<link type=\"text/css\" href=\"https://getbootstrap.com/1.0.0/assets/css/bootstrap-1.0.0.min.css\">\\n<link rel=\"stylesheet\" href=\"https://maxcdn.bootstrapcdn.com/bootstrap/4.0.0/css/bootstrap.min.css\">\\n<link rel=\"stylesheet\" href=\"//code.jquery.com/ui/1.12.1/themes/base/jquery-ui.css\">\\n<script src=\"https://code.jquery.com/jquery-3.3.1.min.js\" crossorigin=\"anonymous\"></script>\\n<script src=\"https://cdnjs.cloudflare.com/ajax/libs/popper.js/1.12.9/umd/popper.min.js\"></script>\\n<script src=\"https://maxcdn.bootstrapcdn.com/bootstrap/4.0.0/js/bootstrap.min.js\"></script>\\n<script src=\"https://d3js.org/d3.v5.min.js\"></script>\\n<script src=\"https://code.jquery.com/ui/1.12.1/jquery-ui.js\"></script>\\n<script src=\"https://creativecouple.github.io/jquery-timing/jquery-timing.min.js\"></script>\\n<script src=\"https://cdnjs.cloudflare.com/ajax/libs/jqueryui-touch-punch/0.2.3/jquery.ui.touch-punch.min.js\"></script>\\n<!-- ContextMenu -->\\n<link rel=\"stylesheet\" href=\"https://cdnjs.cloudflare.com/ajax/libs/jquery-contextmenu/2.7.1/jquery.contextMenu.min.css\">\\n<script src=\"https://cdnjs.cloudflare.com/ajax/libs/jquery-contextmenu/2.7.1/jquery.contextMenu.min.js\"></script>\\n<script src=\"https://cdnjs.cloudflare.com/ajax/libs/jquery-contextmenu/2.7.1/jquery.ui.position.js\"></script>\\n\\n<!-- alertify -->\\n<script src=\"https://cdnjs.cloudflare.com/ajax/libs/AlertifyJS/1.13.1/alertify.min.js\"></script>\\n<link rel=\"stylesheet\" href=\"https://cdnjs.cloudflare.com/ajax/libs/AlertifyJS/1.13.1/css/alertify.min.css\">\\n<link rel=\"stylesheet\" href=\"https://cdnjs.cloudflare.com/ajax/libs/AlertifyJS/1.13.1/css/themes/bootstrap.min.css\">\\n<!-- <link rel=\"stylesheet\" href=\"https://cdnjs.cloudflare.com/ajax/libs/AlertifyJS/1.13.1/css/themes/default.css\"> -->\\n\\n<script src=\"https://cdn.jsdelivr.net/gh/qiao/difflib.js/dist/difflib-browser.js\" crossorigin=\"anonymous\"></script>\\n<script src=\"https://cdn.jsdelivr.net/gh/musclesoft/jquery-connections/jquery.connections.js\"></script>\\n\\n<style>\\n\\n.example{\\n    background-color: #d7d7d7;\\n    margin-left: 20px;\\n    margin-right: 50px;\\n    padding: 10px;\\n    padding-bottom: 1px;\\n    margin-bottom: 10px;\\n}\\n\\n.highlighted {\\n\\tbackground-color: yellow;\\n}\\n\\n.text-mouseover{\\n\\tborder-style: solid;\\n}\\n\\n.connection {\\n\\tborder: 8px double;\\n    /*border-width: 2.5px;*/\\n\\tz-index: 0;\\n\\t/*display: table;*/\\n\\tborder-radius: 100%;\\n\\t/*pointer-events:none;*/\\n\\tcolor: rgb(200, 200, 200);\\n\\tcolor: rgba(0, 0, 0, 0.7);\\n}\\n\\n\\n/* Handle the question text-boxes */\\n.textblock {\\n    border-radius: 4px;\\n    color: black;\\n    background: rgba(237, 245, 241, 0.87);\\n    display: inline-block;\\n    border: 2px solid Black;\\n    padding: 6px 10px 6px 10px;\\n    z-index: 1;\\n    position: relative;\\n}\\n\\n.textblock-row{\\n    /*background-color: rgba(128, 128, 128, 0.56);*/\\n    margin: 10px 10px 10px 10px;\\n    border-radius: 4px;\\n}\\n\\n.textblock-ref {\\n    border-radius: 2px;\\n    color: #363535;\\n    background: #B6ACACAC;\\n    display: inline-block;\\n    border: 1px solid Black;\\n    padding: 8px 10px 8px 10px;\\n    z-index: 1;\\n    position: relative;\\n}\\n\\n.textblock-row-ref{\\n    /*background-color: rgba(128, 128, 128, 0.56);*/\\n    margin: 8px 10px 8px 10px;\\n    border-radius: 4px;\\n}\\n\\n.textblock_pool {\\n\\theight: 200px;\\n}\\n\\n.center-button{\\n   display: -webkit-inline-flex;\\n  -webkit-box-orient: vertical;\\n  -webkit-box-direction: normal;\\n  -webkit-flex-direction: column;\\n  -webkit-box-pack: center;\\n  -webkit-flex-pack: center;\\n  -webkit-justify-content: center;\\n  -webkit-flex-align: center;\\n  -webkit-align-items: center;\\n  vertical-align: top;\\n}\\n\\n\\nul{\\n    padding: 0px;\\n}\\n\\nli{\\n    padding: 0px;\\n    marging: 0px;\\n}\\n\\n.textblock_span {\\n\\tpadding-right: 10px;\\n}\\n\\n.shaded {\\n\\tborder-color: #55f;\\n}\\n\\n#submitButton{\\n    z-index: 5;\\n}\\n\\n#feedback{\\n    width: 100%;\\n}\\n\\nhr.hr-medium{\\n    border: 3px solid black;\\n}\\n\\nbody{\\n    margin: 10px !important;\\n}\\n\\n\\n.color-none{\\n    background-color: transparent;\\n    color: transparent;\\n}\\n\\n.hidden {\\n    /*transition: opacity 1s ease-out;*/\\n    /*opacity: 0;*/\\n    /*height: 0;*/\\n    /*overflow: hidden;*/\\n    /*color: white;*/\\n    visibility: hidden;\\n}\\n\\n.hidden-none{\\n    display: None;\\n}\\n\\n\\n.textblock-deleted{\\n    background-color: rgba(222, 131, 132, 0.72);\\n    border-color: gray;\\n}\\n\\n.textblock-text-deleted{\\n    color: gray;\\n    text-decoration: line-through;\\n}\\n\\n/*.hidden{*/\\n/*    display: none;*/\\n/*}*/\\n\\n\\n</style>\\n<!-- jquery connections -->\\n<body>\\n\\n\\n<form name=\\'mturk_form\\' method=\\'post\\' id=\\'mturk_form\\' action=\\'/mturk/externalSubmit\\'>\\n<input type=\\'hidden\\' value=\\'\\' name=\\'assignmentId\\' id=\\'assignmentId\\'/>\\n\\n<div class=\"table table-hover container\">\\n    <div class=\"row instructions\">\\n        <div class=\"col-12\">\\n            <div id=\"accordion\">\\n              <div class=\"card\">\\n                <div class=\"card-header\" id=\"hello_header\">\\n                  <h5 class=\"mb-0\">\\n                    <button class=\"btn btn-link\" type=\"button\" data-toggle=\"collapse\" data-target=\"#hello\">\\n                      Hello, about us, and thank you for your help!\\n                    </button>\\n                  </h5>\\n                </div>\\n                <div id=\"hello\" class=\"collapse show\" aria-labelledby=\"hello_header\" data-parent=\"#accordion\">\\n                  <div class=\"card-body\">\\n                    Hello! We are small research lab in University of Southern California trying to build AI tools to help\\n                    citizens better understand the work journalists do.\\n                    <br><br>\\n                    We are calibrating our payment scheme <b>to meet a $15 per hour wage and will reward workers who take time\\n                    to give correct answers</b>.\\n                    <br><br>\\n                    If you perform well, we will invite you to participate in future, well-paying trials. If you speed through and give nonsense\\n                    answers, <b>we will block you and report to Mechanical Turk</b>. We understand the pressures of Mechanical Turk, but we are a\\n                    small lab and cannot afford to throw out too much data.\\n                  </div>\\n                </div>\\n              </div>\\n              <div class=\"card\">\\n                <div class=\"card-header\" id=\"headingOne\">\\n                  <h5 class=\"mb-0\">\\n                    <button class=\"btn btn-link collapsed\" data-toggle=\"collapse\" type=\"button\" data-target=\"#collapseTwo\" aria-expanded=\"false\" aria-controls=\"collapseTwo\">\\n                      Instructions\\n                    </button>\\n                  </h5>\\n                </div>\\n                <div id=\"collapseTwo\" class=\"collapse\" aria-labelledby=\"headingOne\" data-parent=\"#accordion\">\\n                    <div class=\"card-body\">\\n                        <h2>Goals and Overview</h2>\\n                        <p>The goal of this exercise is to help us identify sentences in an article-rewrite that contain substantially new information.</p>\\n                        <p>To do this, you will identiy which sentences <b><i>match</i></b> between two versions of an article.</p>\\n                        <p>\\n                        <h4>Two sentences <b><i>match</i></b> if:</h4>\\n                            <ul>\\n                                <li><b><i>Option 1:</i></b> They are nearly the same, word-for-word.</li>\\n                                <li><b><i>Option 2:</i></b> They convey the same information but are <u>stylistically different.</u></li>\\n                                <li><b><i>Option 3:</i></b> They have slightly different information but have <u>substantial overlap in meaning</u> and <u>narrative function.</u></li>\\n                            </ul>\\n                        </p>\\n\\n                        Examples of <b><i>Option 3</i></b> include (please see the \"Examples\" section for real examples):\\n                        <ul>\\n                            <li>Updating events.\\n                                <ul>\\n                                    <li>(Ex) <i>The man was presumed missing. &rarr; The man was found in his home.</i></li>\\n                                    <li>(Ex) <i>The death count was at 23. &rarr; 50 were found dead.</i></li>\\n                                    <li>(Ex) <i>The senators are still negotiating the details. &rarr; The senators have reached a deal.</i></li>\\n                                </ul>\\n                            </li>\\n                            <li>An improved analysis.\\n                                <ul>\\n                                    <li>(Ex) <i>The president is likely seeking improved relations. &rarr; The president is likely hoping that hard-liners will give way to moderates, improving relations.</i></li>\\n                                    <li>(Ex) <i>The storm, a Category IV, is expected to hit Texas. &rarr; The storm, downgraded to Category III, is projected to stay mainly in the Gulf.</i></li>\\n                                    <li>(Ex) <i>Analysts widely think the shock will be temporary. &rarr; The shock, caused by widespread shipping delays, might last into December, but will ultimately subside.</i></li>\\n                                </ul>\\n                            </li>\\n                            <li>A quote that is very similar or serves the same purpose.\\n                                <ul>\\n                                    <li>(Ex) <i>\"We knew we had to get it done.\" said Senator Murphy. &rarr; \"At the end of the day, no one could leave until we had a deal\" said Senator Harris.</i></li>\\n                                    <li>(Ex) <i>\"It was gripping.\" said the bystander. &rarr; \"I couldn\\'t stop watching.\" said a moviegoer.</i></li>\\n                                </ul>\\n                            </li>\\n                        </ul>\\n\\n                        <p>\\n                        <h4>Two sentences <b><i>do not match</i></b> if:</h4>\\n                            <ul>\\n                                <li>They contain substantially different information.</li>\\n                                <li>They serve different narrative functions.</li>\\n                                <li>There is a much better match for one sentence somewhere else in the document.</li>\\n                            </ul>\\n                        </p>\\n                        <p>\\n                        <h4>Things to keep in mind:</h4>\\n                            <ul>\\n                                <li>Two sentences might match <u>even if they are in different parts of the document.</u></li>\\n                                <li>One sentence can match <u>with multiple other sentences</u>, because that sentence might be split up into multiple sentences, each with similar information as parts of the original.</li>\\n                                <li>Sentences <i>don\\'t have to match</i>.\\n                                    <ul>\\n                                        <li>Substantially new information, perspectives or narrative tools might be added in a new version.</li>\\n                                        <li>Substantially old information, perspectives or narrative tools might be removed from an old version.</li>\\n                                    </ul>\\n                                </li>\\n                            </ul>\\n                        </p>\\n\\n                        <h4>Steps to completing the task:</h4>\\n                        <ol>\\n                            <li>For each sentence in the left-hand column, determine if its <b><i>matches</i></b> with a sentence on the right.\\n                                <ul>\\n                                    <li>By mousing over the sentence block, you will see word-overlaps between the moused-over block and all blocks in the opposite column.\\n                                        <b>THIS IS MEANT TO BE HELPFUL BUT NOT COMPLETE.</b> Please do not rely on this alone.\\n                                        We expect that many sentences with high word-overlap still might convey different information.\\n                                        <i>We will be checking answers for completeness!!</i></li>\\n                                    <li>If you find two blocks that look very similar but are not exactly the same, ask yourself: is there substantially new information included?\\n                                        Or is the edit merely cosmetic?</li>\\n                                </ul>\\n                            </li>\\n                            <li>When you find blocks that you think should match - i.e. they contain the same, or substantially similar information - connect them by:\\n                                (a) right-clicking on the first block and (b) right clicking on it\\'s matching block</li>\\n                            <li>If you right-click on a block accidentally, you may right-click on the same block to remove the line.</li>\\n                            <li>Please note, <i>there may be blocks that do not match!!</i> This is OK.</li>\\n                        </ol>\\n                    </div>\\n                </div>\\n              </div>\\n              <div class=\"card\">\\n                <div class=\"card-header\" id=\"headingOne\">\\n                  <h5 class=\"mb-0\">\\n                    <button class=\"btn btn-link collapsed\" data-toggle=\"collapse\" type=\"button\" data-target=\"#collapseFour\" aria-expanded=\"false\" aria-controls=\"collapseFour\">\\n                      Video\\n                    </button>\\n                  </h5>\\n                </div>\\n                <div id=\"collapseFour\" class=\"collapse\" aria-labelledby=\"headingOne\" data-parent=\"#accordion\">\\n                    <div class=\"card-body\">\\n\\n                                        <p>\\n                            <video width=\"320\" height=\"240\" controls>\\n                              <source src=\"https://storage.googleapis.com/public-mturk-resources/sped-up-2.mov\" type=\"video/mp4\">\\n                            Your browser does not support the video tag.\\n                            </video>\\n                        </p>\\n                    </div>\\n                </div>\\n              </div>\\n              <div class=\"card\">\\n                <div class=\"card-header\" id=\"headingOne\">\\n                  <h5 class=\"mb-0\">\\n                    <button class=\"btn btn-link collapsed\" data-toggle=\"collapse\" type=\"button\" data-target=\"#collapseThree\" aria-expanded=\"false\" aria-controls=\"collapseThree\">\\n                      Examples\\n                    </button>\\n                  </h5>\\n                </div>\\n                <div id=\"collapseThree\" class=\"collapse\" aria-labelledby=\"headingOne\" data-parent=\"#accordion\">\\n                    <div class=\"card-body\">\\n                        In the examples below, we\\'ll show sentence pairs that we consider matches. The sentence(s) from the old version will occur first, followed by the sentence(s) from the new version. Green text is text that has been added (i.e. it is specific the new version) and red text is text that has been remove (i.e. it is specific to the old version).\\n\\n                        <h4>Sentences that contain the same information:</h4>\\n                        <p>The following sentences convey the same information, however, they are cosmetically different.</p>\\n\\n\\n                        <h5>Example 1</h5>\\n                        <p><i>This is a sentence pair where only a few style edits have been made.</i></p>\\n\\n                        <div class=\"example\">\\n                            <p>ZABUL , Afghanistan — A complex attack on a military base in southern Afghanistan Monday <span style=\"background-color:rgba(255,0,0,0.3)\">left</span>  at least one member of  U.S.-led coalition forces <span style=\"background-color:rgba(255,0,0,0.3)\">dead</span>. &rarr;</p>\\n                            <hr>\\n                            <p>ZABUL , Afghanistan — A complex attack on a military base in southern Afghanistan Monday  <span style=\"background-color:rgba(0,255,0,0.3)\">killed </span> at least one member of <span style=\"background-color:rgba(0,255,0,0.3)\">the </span> U.S.-led coalition forces.</p>\\n                        </div>\\n\\n                        <h4>Sentences that match in meaning/purpose:</h4>\\n                        <h5>Example 1</h5>\\n                        <p><i>This is a sentence pair where an <u>event update</u> has occurred. The man went from being \"suspected\" of a crime to being confirmed as committing it.</i></p>\\n\\n                        <div class=\"example\">\\n                            <p>TAIPEI , Taiwan —  <span style=\"background-color:rgba(255,0,0,0.3)\">Police</span> <span style=\"background-color:rgba(255,0,0,0.3)\">officials</span> <span style=\"background-color:rgba(255,0,0,0.3)\">in</span> <span style=\"background-color:rgba(255,0,0,0.3)\">China</span> <span style=\"background-color:rgba(255,0,0,0.3)\">said</span> <span style=\"background-color:rgba(255,0,0,0.3)\">Thursday</span> <span style=\"background-color:rgba(255,0,0,0.3)\">that</span> <span style=\"background-color:rgba(255,0,0,0.3)\">they</span> <span style=\"background-color:rgba(255,0,0,0.3)\">arrested</span> <span style=\"background-color:rgba(255,0,0,0.3)\">a</span> man   <span style=\"background-color:rgba(255,0,0,0.3)\">suspected</span> <span style=\"background-color:rgba(255,0,0,0.3)\">of</span> <span style=\"background-color:rgba(255,0,0,0.3)\">stabbing</span> <span style=\"background-color:rgba(255,0,0,0.3)\">to</span> <span style=\"background-color:rgba(255,0,0,0.3)\">death</span> six nurses and a manager   at a Chinese military <span style=\"background-color:rgba(255,0,0,0.3)\">sanitarium</span>  in a seaside area famous for gatherings of Communist Party leaders.&rarr;</p>\\n                            <hr>\\n                            <p>TAIPEI , Taiwan — <span style=\"background-color:rgba(0,255,0,0.3)\">A </span>           man <span style=\"background-color:rgba(0,255,0,0.3)\">fatally </span> <span style=\"background-color:rgba(0,255,0,0.3)\">stabbed </span>      six nurses and a manager <span style=\"background-color:rgba(0,255,0,0.3)\">on </span> <span style=\"background-color:rgba(0,255,0,0.3)\">Thursday </span> at a Chinese military  <span style=\"background-color:rgba(0,255,0,0.3)\">hospital </span> in a seaside area famous for gatherings of Communist Party leaders <span style=\"background-color:rgba(0,255,0,0.3)\">, </span> <span style=\"background-color:rgba(0,255,0,0.3)\">police </span> <span style=\"background-color:rgba(0,255,0,0.3)\">officials </span> <span style=\"background-color:rgba(0,255,0,0.3)\">in </span> <span style=\"background-color:rgba(0,255,0,0.3)\">China </span> <span style=\"background-color:rgba(0,255,0,0.3)\">said </span> .</p>\\n                        </div>\\n\\n                        <h5>Example 2</h5>\\n                        <p><i>This is a sentence group where one long sentence has been split into multiple sentences. While there is extra information added (e.g. one sentence adds \"about 180 miles east of Beijing\"), it is mainly\\n                        descriptive and the purpose of the sentences (i.e. to describe the crime further and give background for the reader) are the same.\\n                        </i></p>\\n                        <div class=\"example\">\\n                            <p>The <span style=\"background-color:rgba(255,0,0,0.3)\">police</span>                           said <span style=\"background-color:rgba(255,0,0,0.3)\">the</span> <span style=\"background-color:rgba(255,0,0,0.3)\">suspect</span> in <span style=\"background-color:rgba(255,0,0,0.3)\">the</span> <span style=\"background-color:rgba(255,0,0,0.3)\">killings</span>         Thursday morning in Beidaihe , a resort area in the Hebei Province city of Qinhuangdao ,                  is  <span style=\"background-color:rgba(255,0,0,0.3)\">a</span> <span style=\"background-color:rgba(255,0,0,0.3)\">sanitarium</span> employee <span style=\"background-color:rgba(255,0,0,0.3)\">,</span> <span style=\"background-color:rgba(255,0,0,0.3)\">indicating</span>   the attack was <span style=\"background-color:rgba(255,0,0,0.3)\">likely</span>  not the result of a dispute over a patient ’s <span style=\"background-color:rgba(255,0,0,0.3)\">treatment--</span>   <span style=\"background-color:rgba(255,0,0,0.3)\">the</span> <span style=\"background-color:rgba(255,0,0,0.3)\">suspect</span> <span style=\"background-color:rgba(255,0,0,0.3)\">,</span> <span style=\"background-color:rgba(255,0,0,0.3)\">a</span> <span style=\"background-color:rgba(255,0,0,0.3)\">27-year</span> <span style=\"background-color:rgba(255,0,0,0.3)\">-</span> <span style=\"background-color:rgba(255,0,0,0.3)\">old</span> <span style=\"background-color:rgba(255,0,0,0.3)\">man</span> <span style=\"background-color:rgba(255,0,0,0.3)\">,</span> <span style=\"background-color:rgba(255,0,0,0.3)\">had</span> <span style=\"background-color:rgba(255,0,0,0.3)\">no</span> <span style=\"background-color:rgba(255,0,0,0.3)\">known</span> <span style=\"background-color:rgba(255,0,0,0.3)\">conflict</span> <span style=\"background-color:rgba(255,0,0,0.3)\">with</span> <span style=\"background-color:rgba(255,0,0,0.3)\">the</span> victims <span style=\"background-color:rgba(255,0,0,0.3)\">,</span> <span style=\"background-color:rgba(255,0,0,0.3)\">who</span> were killed in a women ’s dormitory at the hospital               , the  <span style=\"background-color:rgba(255,0,0,0.3)\">Qinhuangdao</span> <span style=\"background-color:rgba(255,0,0,0.3)\">City</span> <span style=\"background-color:rgba(255,0,0,0.3)\">Public</span> <span style=\"background-color:rgba(255,0,0,0.3)\">Security</span> <span style=\"background-color:rgba(255,0,0,0.3)\">Bureau</span> said <span style=\"background-color:rgba(255,0,0,0.3)\">in</span> <span style=\"background-color:rgba(255,0,0,0.3)\">a</span> <span style=\"background-color:rgba(255,0,0,0.3)\">statement</span> <span style=\"background-color:rgba(255,0,0,0.3)\">online</span> . &rarr;</p>\\n                            <hr>\\n                            <p>The                                              suspect , a 27-year - old   <span style=\"background-color:rgba(0,255,0,0.3)\">hospital </span> <span style=\"background-color:rgba(0,255,0,0.3)\">employee </span> <span style=\"background-color:rgba(0,255,0,0.3)\">who </span> had no known   <span style=\"background-color:rgba(0,255,0,0.3)\">motive </span> <span style=\"background-color:rgba(0,255,0,0.3)\">, </span> <span style=\"background-color:rgba(0,255,0,0.3)\">was </span> <span style=\"background-color:rgba(0,255,0,0.3)\">arrested </span> <span style=\"background-color:rgba(0,255,0,0.3)\">after </span> the <span style=\"background-color:rgba(0,255,0,0.3)\">attacks </span>              , the Qinhuangdao City Public Security Bureau said in a statement online .</p>\\n                            <p>The <span style=\"background-color:rgba(0,255,0,0.3)\">stabbings </span> <span style=\"background-color:rgba(0,255,0,0.3)\">took </span> <span style=\"background-color:rgba(0,255,0,0.3)\">place </span>        Thursday morning in Beidaihe , a resort area in the Hebei Province city of Qinhuangdao , <span style=\"background-color:rgba(0,255,0,0.3)\">about </span> <span style=\"background-color:rgba(0,255,0,0.3)\">180 </span> <span style=\"background-color:rgba(0,255,0,0.3)\">miles </span> <span style=\"background-color:rgba(0,255,0,0.3)\">east </span>              of <span style=\"background-color:rgba(0,255,0,0.3)\">Beijing </span>                                                .</p>\\n                            <p>   <span style=\"background-color:rgba(0,255,0,0.3)\">But </span> <span style=\"background-color:rgba(0,255,0,0.3)\">the </span> <span style=\"background-color:rgba(0,255,0,0.3)\">fact </span> <span style=\"background-color:rgba(0,255,0,0.3)\">that </span> the suspect in the     Beidaihe <span style=\"background-color:rgba(0,255,0,0.3)\">case </span>             is <span style=\"background-color:rgba(0,255,0,0.3)\">an </span>   employee   <span style=\"background-color:rgba(0,255,0,0.3)\">indicates </span> <span style=\"background-color:rgba(0,255,0,0.3)\">that </span> the attack was  <span style=\"background-color:rgba(0,255,0,0.3)\">probably </span> not the result of a dispute over a patient ’s <span style=\"background-color:rgba(0,255,0,0.3)\">treatment </span>                                         .</p>\\n                            <p>The                                                            victims   were killed in a women ’s dormitory at the hospital <span style=\"background-color:rgba(0,255,0,0.3)\">for </span> <span style=\"background-color:rgba(0,255,0,0.3)\">elderly </span> <span style=\"background-color:rgba(0,255,0,0.3)\">military </span> <span style=\"background-color:rgba(0,255,0,0.3)\">personnel </span> <span style=\"background-color:rgba(0,255,0,0.3)\">, </span> <span style=\"background-color:rgba(0,255,0,0.3)\">also </span> <span style=\"background-color:rgba(0,255,0,0.3)\">known </span> <span style=\"background-color:rgba(0,255,0,0.3)\">as </span> <span style=\"background-color:rgba(0,255,0,0.3)\">People </span> <span style=\"background-color:rgba(0,255,0,0.3)\">’s </span> <span style=\"background-color:rgba(0,255,0,0.3)\">Liberation </span> <span style=\"background-color:rgba(0,255,0,0.3)\">Army </span> <span style=\"background-color:rgba(0,255,0,0.3)\">Hospital </span> <span style=\"background-color:rgba(0,255,0,0.3)\">281 </span> , the <span style=\"background-color:rgba(0,255,0,0.3)\">statement </span>      said     .</p>\\n                        </div>\\n\\n\\n                    </div>\\n                </div>\\n              </div>\\n            </div>\\n            </div>\\n        </div>\\n    <br>\\n    <hr class=\"hr-medium\">\\n    <br>\\n    <h2><u>Task:</u></h2>\\n    <p><em>Right click and select \"Remove\" for all connections between sentences that do NOT match.\\n       <br>Read above for more detailed instructions and examples.</em></p>\\n    <br>\\n<!--    <h4>Headline: </h4>-->\\n    <p>Article Key: (\\'ap\\', 16959, 0, 1)</p>\\n    <br>\\n    <div class=\"row header\" >\\n        <div class=\"col-4\" doc_id=\"(\\'ap\\', 16959, 0, 1)\" ><h3>Article</h3></div>\\n        <div class=\"col-8\" doc_id=\"(\\'ap\\', 16959, 0, 1)\" ></div>\\n    </div>\\n    <div class=\"row subheader\" >\\n        <div class=\"col-4\" doc_id=\"(\\'ap\\', 16959, 0, 1)\" ><h4>Original Article</h4>\\n            <div class=\"row\"></div>\\n        </div>\\n        <div class=\"col-8\" doc_id=\"(\\'ap\\', 16959, 0, 1)\" ><h4>Editing Sandbox</h4></div>\\n    </div>\\n    <!--    <div class=\"test row\">-->\\n    <!--        &lt;!&ndash; reference       &ndash;&gt;-->\\n    <!--        <div class=\"col-4\" doc_id=\"(\\'ap\\', 16959, 0, 1)\" >-->\\n    <!--            <div class=\"textblock-row row\">-->\\n    <!--                <div class=\"textblock row ui-draggable ui-draggable-handle\" id=\"sentence-ref-100\">-->\\n    <!--                    <div class=\"col-12 textblock-text-div\">-->\\n    <!--                        <span class=\"textblock_span\">Hundreds of university students in Kabul have held protests over US airstrikes which reportedly killed more than 100 civilians last week.</span>-->\\n    <!--                    </div>-->\\n    <!--                </div>-->\\n    <!--            </div>-->\\n    <!--        </div>-->\\n    <!--        <div class=\"col-8\" doc_id=\"(\\'ap\\', 16959, 0, 1)\" >-->\\n    <!--            <ul>-->\\n    <!--                <li class=\"textblock-row ui-sortable-handle\">-->\\n    <!--                    <div class=\"row d-inline-flex textblock\" id=\"sentence-100\" label=\"NODE\">-->\\n    <!--                        <div class=\"col-6 textblock-text-div\">-->\\n    <!--                            <span class=\"textblock_span\">Hundreds of university students in Kabul have held protests over US airstrikes which reportedly killed more than 100 civilians last week.</span>-->\\n    <!--                        </div>-->\\n    <!--                        <div class=\"col-2 add-above-button\"><div class=\"btn btn-outline-success\">Add Above</div></div>-->\\n    <!--                        <div class=\"col-2 add-below-button\"><div class=\"btn btn-outline-success\">Add Below</div></div>-->\\n    <!--                        <div class=\"col-2 delete-button\"><div class=\"btn btn-outline-success\">Delete</div></div></div>-->\\n    <!--                </li>-->\\n    <!--            </ul>-->\\n    <!--        </div>-->\\n    <!--    </div>-->\\n\\n    <div class=\"row text\" >\\n        <div class=\"col-3 textblock_pool_ref\" doc_id=\"(\\'ap\\', 16959, 0, 1)\" ></div>\\n        <div class=\"col-1 filler\" doc_id=\"(\\'ap\\', 16959, 0, 1)\" ></div>\\n        <div class=\"col-6 row\" doc_id=\"(\\'ap\\', 16959, 0, 1)\" ><ul class=\"textblock_pool\"></ul></div>\\n    </div>\\n    <div class=\"row annotation\">\\n\\t    <div class=\"error question col-4\" doc_id=\"(\\'ap\\', 16959, 0, 1)\" error_type=\\'error\\'>\\n\\t\\t  <p>\\n    \\t  <h4>Does this article have errors?</h4>\\n    \\t  <div id=\"error_btn_grp\" class=\"btn-group-vertical btn-group-toggle\" role=\"group\" data-toggle=\"buttons\">\\n              <div class=\"btn-group\">\\n                <label class=\"btn btn-outline-success btn-sm active\" label=\"legit\">\\n                    <input type=\"radio\" name=\"options\" autocomplete=\"off\" checked>No errors</label>\\n                <label class=\"btn btn-outline-danger btn-sm\" label=\"incom_sentence\">\\n                 <input type=\"radio\" name=\"options\" autocomplete=\"off\" checked>Incomplete Sentences</label>\\n              </div>\\n              <div class=\"btn-group\">\\n                <label class=\"btn btn-outline-danger btn-sm\" label=\"other\" id=\"otherbutton\">\\n                    <input type=\"radio\" name=\"options\" autocomplete=\"off\" checked>Other</label>\\n                <input id=\"otherform\" type=\"text\" class=\"form-control hidden\"\\n                       aria-label=\"Text input with radio button\" placeholder=\"Specify...\">\\n              </div>\\n\\t\\t  </div>\\n\\t\\t  </p>\\n\\t\\t</div>\\n\\t    <div class=\"error question col-4\" doc_id=\"(\\'ap\\', 16959, 0, 1)\" error_type=\\'confidence\\'>\\n\\t\\t  <p>\\n    \\t  <h4>How confident are you in this tagging?</h4>\\n    \\t  <div class=\"btn-group-vertical btn-group-toggle\" role=\"group\" data-toggle=\"buttons\">\\n              <div class=\"btn-group\">\\n                <label class=\"btn btn-outline-success btn-sm\" label=\"redo\">\\n                    <input type=\"radio\" name=\"options\" autocomplete=\"off\" checked>1 - Needs Redo</label>\\n                <label class=\"btn btn-outline-success btn-sm\" label=\"check\">\\n                    <input type=\"radio\" name=\"options\" autocomplete=\"off\" checked>2 - Needs Check</label>\\n                <label class=\"btn btn-outline-success btn-sm\" label=\"glance\">\\n                    <input type=\"radio\" name=\"options\" autocomplete=\"off\" checked>3 - Needs Glance</label>\\n              </div>\\n              <div class=\"btn-group\">\\n                <label class=\"btn btn-outline-success btn-sm active\" label=\"ok\">\\n                    <input type=\"radio\" name=\"options\" autocomplete=\"off\" checked>4 - Should be OK</label>\\n                <label class=\"btn btn-outline-success btn-sm\" label=\"perfect\">\\n                    <input type=\"radio\" name=\"options\" autocomplete=\"off\" checked>5 - Confident</label>\\n              </div>\\n\\t\\t  </div>\\n\\t\\t </p>\\n\\t\\t</div>\\n\\t\\t </p>\\n      </div>\\n    </div>\\n\\n<input type=\\'hidden\\' value=\\'\\' name=\\'data\\' id=\\'data\\'/>\\n<div class=\"container\">\\n    <div class=\"row\">\\n        <input class=\"btn btn-outline-success\" type=\\'submit\\' id=\\'submitButton\\' value=\\'Submit\\'>\\n    </div>\\n<hr>\\n    <div class=\"row\">\\n        <div class=\"col-12\">\\n        <h3>Optional Feedback:</h3>\\n            <p>\\n            We\\'d love to hear some feedback on this task: if any parts were confusing, or the task itself could\\n            be formulated better, we\\'d love to hear any comments, ideas or suggestions. Please send an email through Mechanical Turk! We read all of our emails. We really appreciate your help!\\n            </p>\\n        </div>\\n        <hr>\\n    </div>\\n    <hr>\\n    <br>\\n    <div class=\"row\">\\n        <input class=\"btn btn-outline-danger\" type=\\'submit\\' id=\\'revert\\' value=\\'Revert\\'>\\n    </div>\\n</div>\\n</form>\\n\\n<script language=\\'Javascript\\'>\\n\\n    $(\\'#otherbutton\\').on(\\'click\\', function(d){\\n        $(\\'#otherform\\').removeClass(\\'hidden\\')\\n    })\\n\\n    $(\\'#otherform\\').on(\\'click\\', function(d){\\n        $(\\'#error_btn_grp\\').find(\\'label\\').removeClass(\\'active\\')\\n        $(\\'#otherbutton\\').addClass(\\'active\\')\\n    })\\n\\n    $(\\'#otherbutton2\\').on(\\'click\\', function(d){\\n        $(\\'#otherform2\\').removeClass(\\'hidden\\')\\n    })\\n\\n    $(\\'#otherform2\\').on(\\'click\\', function(d){\\n        $(\\'#law_type_btn_grp\\').find(\\'label\\').removeClass(\\'active\\')\\n        $(\\'#otherbutton2\\').addClass(\\'active\\')\\n    })\\n\\n    var window_height = $( window ).height();\\n    String.prototype.replaceAll = function(search, replacement) {\\n        var target = this;\\n        return target.replace(new RegExp(search, \\'g\\'), replacement);\\n    };\\n    String.prototype.toTitleCase = function() {\\n        var target = this;\\n        return target.replace(/(?:^|\\\\s)\\\\w/g, function(match) {\\n            return match.toUpperCase();\\n        });\\n    };\\n    Array.prototype.remove_duplicates = function() {\\n        var arr = this;\\n        let s = new Set(arr);\\n        let it = s.values();\\n        return Array.from(it);\\n    };\\n\\n    (function(old) {\\n      $.fn.attr = function() {\\n        if(arguments.length === 0) {\\n          if(this.length === 0) {\\n            return null;\\n          }\\n\\n          var obj = {};\\n          $.each(this[0].attributes, function() {\\n            if(this.specified) {\\n              obj[this.name] = this.value;\\n            }\\n          });\\n          return obj;\\n        }\\n\\n        return old.apply(this, arguments);\\n      };\\n    })($.fn.attr);\\n\\n    // page handling\\n    class PageManager {\\n\\tconstructor(\\n\\t    textblock_dim,\\n        demo,\\n        check,\\n        doc_key,\\n        dropdown_buttons,\\n        textblock_pool_min\\n\\t) {\\n\\t\\tthis.demo = demo\\n\\t\\tthis.check = check\\n\\t\\tthis.doc_key = doc_key\\n\\t\\t// dropdown buttons\\n\\t\\tthis.dropdown_buttons = dropdown_buttons\\n\\t\\t// dimensions for textblock divs\\n\\t\\tthis.textblock_pool_min = textblock_pool_min\\n\\t\\tthis.textblock_dim = textblock_dim;\\n\\t\\tthis.start_line_id = null\\n\\t\\t// z-index for dropdown needs to increase every click :/ maybe not the best implementation\\n\\t\\tthis.curr_dropdown_zindex = 3\\n\\t}\\n\\n\\t_get_new_connection_idx(){\\n\\t    return $(\\'.connection\\').length\\n    }\\n\\n    // create a connection from input data (to re-create datapoints)\\n    create_static_connection(left_textblock, right_textblock, diff_ratio, class_name){\\n    \\tvar line_selector = \\'line-\\' + this._get_new_connection_idx()\\n        var textblock_x_selector = \\'sentence-ref-\\' + left_textblock\\n        var textblock_y_selector = \\'sentence-\\' + right_textblock\\n\\n        //\\n        $(\\'#\\' + textblock_x_selector).connections({\\n\\t\\t\\tto: \\'#\\' + textblock_y_selector,\\n\\t\\t\\tclass: \\'connection \\' + line_selector\\n\\t\\t})\\n\\n\\t\\t// make dropdown\\n        return line_selector\\n    }\\n\\n\\tcreate_reference_textblock(selected_text, block_type, block_id){\\n        var that = this\\n        // create textblock element for the righthand side\\n        var textblock_pool = $(\\'.textblock_pool_ref\\').filter(\\n            function (d) {\\n                return $(d).attr(\\'doc_id\\') == this.doc_key\\n            }\\n        )\\n        // create textblock div\\n        var textblock_row = document.createElement(\\'div\\')\\n        $(textblock_row).addClass(\\'textblock-row-ref row\\')\\n        //\\n        var textblock_div = document.createElement(\\'div\\')\\n        $(textblock_div)\\n        \\t.addClass(\\'textblock-ref row\\')\\n        \\t.attr(\\'doc_id\\', that.doc_key)\\n\\t       \\t.attr(\\'id\\', \\'sentence-ref-\\' + block_id)\\n\\n        var textblock_text_div = document.createElement(\\'div\\')\\n        $(textblock_text_div).addClass(\\'textblock-text-div col-12\\')\\n\\n        var textblock_span = document.createElement(\\'span\\')\\n        $(textblock_span).addClass(\\'textblock_span\\')\\n        textblock_span.textContent = selected_text\\n        // append elements to the textblock\\n        $(textblock_text_div).append(textblock_span)\\n        $(textblock_div).append(textblock_text_div)\\n\\n        // append textblock to the pool of textblocks\\n        $(textblock_row).append(textblock_div)\\n    \\t$(textblock_row).appendTo(textblock_pool)\\n\\t\\t$(textblock_div) // .draggable();\\n\\n\\t\\t// dynamically resize the height of the textblock pool\\n        this.resize_textblock_pool(textblock_pool)\\n    }\\n\\n    resize_textblock_pool(textblock_pool_class_sel){\\n\\t    if (! textblock_pool_class_sel)\\n\\t        textblock_pool_class_sel = \\'.textblock_pool\\'\\n\\n\\t    var that = this\\n        var multiplier = 2\\n\\t    var new_height = d3.sum(\\n\\t        $(textblock_pool_class_sel).find(\\'.textblock\\').map(function(i, d){\\n     \\t\\t\\treturn $(d).height() + multiplier * (\\n \\t    \\t\\t    that.textblock_dim.margin + that.textblock_dim.border + that.textblock_dim.padding\\n                ) // 2 * (margin + border + padding)\\n \\t\\t}))\\n       $(textblock_pool_class_sel).css(\\'height\\', d3.max([this.textblock_pool_min, new_height]))\\n\\n    }\\n\\n    create_one_textblock(selected_text, block_type, is_new, block_id, textblock_pool_class_sel){\\n        var that = this\\n\\t    // slot\\n        var textblock_row = document.createElement(\\'li\\')\\n        $(textblock_row)\\n            .addClass(\\'textblock-row\\')\\n            .addClass(\\'row\\')\\n            // .addClass(\\'d-inline-flex\\')\\n\\n\\n        // draggable div\\n        var textblock_div = document.createElement(\\'div\\')\\n        $(textblock_div)\\n        \\t.addClass(\\'col-12\\')\\n            .addClass(\\'d-inline-flex\\')\\n            .addClass(\\'textblock\\')\\n        \\t.attr(\\'doc_id\\', that.doc_key)\\n\\t       \\t.attr(\\'id\\', \\'sentence-\\' + block_id)\\n            .attr(\\'orig-position\\', block_id)\\n\\t       \\t.attr(\\'label\\', block_type)\\n            .attr(\\'is_new\\', is_new)\\n\\n        var textblock_text_div = document.createElement(\\'div\\')\\n        $(textblock_text_div).addClass(\\'col-6 textblock-text-div\\')\\n\\n        // text content\\n        var textblock_span = document.createElement(\\'span\\')\\n        $(textblock_span).addClass(\\'textblock_span\\')\\n        textblock_span.textContent = selected_text\\n        $(textblock_text_div).append(textblock_span)\\n        // $(textblock_row).append(textblock_text_div)\\n        $(textblock_div).append(textblock_text_div)\\n        // $(textblock_div_div).append(textblock_text_div)\\n\\n        // add button\\n        var add_above_button_div = document.createElement(\\'div\\')\\n        $(add_above_button_div).addClass(\\'col-2 add-above-button center-button\\')\\n        var add_above_button = document.createElement(\\'div\\')\\n        add_above_button.textContent = \\'Add Above\\'\\n        $(add_above_button).addClass(\\'btn btn-outline-success\\')\\n        $(add_above_button).on(\\'click\\', function(d){\\n            var new_textblock = that.create_one_textblock(\\'[NEW SENTENCE]\\', \\'NODE\\', true, textblock_pool_class_sel)\\n            // update so we insert it below\\n            $(this).parents(\\'li\\').before(new_textblock)\\n            $(textblock_pool_class_sel).sortable(\\'refresh\\');\\n            that.resize_textblock_pool(textblock_pool_class_sel)\\n        })\\n\\n        $(add_above_button_div).append(add_above_button)\\n        // $(textblock_row).append(add_above_button_div)\\n        $(textblock_div).append(add_above_button_div)\\n        // $(textblock_div_div).append(add_above_button_div)\\n\\n        var add_below_button_div = document.createElement(\\'div\\')\\n        $(add_below_button_div).addClass(\\'col-2 add-below-button center-button\\')\\n        var add_below_button = document.createElement(\\'div\\')\\n        $(add_below_button).addClass(\\'btn btn-outline-success align-middle\\')\\n        add_below_button.textContent = \\'Add Below\\'\\n        $(add_below_button).on(\\'click\\', function(d){\\n            var new_textblock = that.create_one_textblock(\\'[NEW SENTENCE]\\', \\'NODE\\', true, textblock_pool_class_sel)\\n            // update so we insert it below\\n            $(this).parents(\\'li\\').after(new_textblock)\\n            $(textblock_pool_class_sel).sortable(\\'refresh\\');\\n            that.resize_textblock_pool(textblock_pool_class_sel)\\n        })\\n        $(add_below_button_div).append(add_below_button)\\n        // $(textblock_row).append(add_below_button_div)\\n        $(textblock_div).append(add_below_button_div)\\n        // $(textblock_div_div).append(add_below_button_div)\\n\\n\\n        var delete_button_div = document.createElement(\\'div\\')\\n        $(delete_button_div).addClass(\\'col-2 delete-button center-button\\')\\n        var delete_button = document.createElement(\\'div\\')\\n        $(delete_button).addClass(\\'btn btn-outline-success\\')\\n        delete_button.textContent = \\'Delete\\'\\n        $(textblock_div).attr(\\'state\\', \\'undeleted\\')\\n        $(delete_button).on(\\'click\\', function(d){\\n            var textblock = $(this).parents(\\'.textblock\\')\\n            var is_new = textblock.attr(\\'is_new\\')\\n            if (is_new == \\'true\\') {\\n                $(this).parents(\\'.textblock-row\\').remove();\\n                $(textblock_pool_class_sel).sortable(\\'refresh\\');\\n                that.resize_textblock_pool(textblock_pool_class_sel)\\n            }\\n            else {\\n                var state = textblock.attr(\\'state\\')\\n                if (state == \\'undeleted\\') {\\n                    textblock.addClass(\\'textblock-deleted\\')\\n                    textblock.find(\\'.textblock-text-div\\').addClass(\\'textblock-text-deleted\\')\\n                    textblock.attr(\\'state\\', \\'deleted\\')\\n                    $(this).text(\\'Restore\\')\\n                    textblock.find(\\'.add-above-button\\').addClass(\\'hidden\\')\\n                    textblock.find(\\'.add-below-button\\').addClass(\\'hidden\\')\\n                }\\n                else {\\n                    textblock.removeClass(\\'textblock-deleted\\')\\n                    textblock.find(\\'.textblock-text-div\\').removeClass(\\'textblock-text-deleted\\')\\n                    textblock.attr(\\'state\\', \\'undeleted\\')\\n                    $(this).text(\\'Delete\\')\\n                    textblock.find(\\'.add-above-button\\').removeClass(\\'hidden\\')\\n                    textblock.find(\\'.add-below-button\\').removeClass(\\'hidden\\')\\n                }\\n            }\\n        })\\n        $(delete_button_div).append(delete_button)\\n        $(textblock_div).append(delete_button_div)\\n        // $(textblock_div_div).append(delete_button_div)\\n        // $(textblock_row).append(delete_button_div)\\n\\n\\n        // append elements to the textblock\\n        // $(textblock_div).append(textblock_div_div)\\n    \\t$(textblock_row).append(textblock_div)\\n        return textblock_row\\n    }\\n\\n    create_sortable_textblock(selected_text, block_type, block_id){\\n    \\tvar that = this\\n        // create textblock element for the righthand side\\n        var textblock_pool = $(\\'.textblock_pool\\').filter(\\n            function (d) {\\n                return $(d).attr(\\'doc_id\\') == this.doc_key\\n            }\\n        )\\n        var textblock_row = this.create_one_textblock(selected_text, block_type, false, block_id, \\'.textblock_pool\\')\\n\\n    \\t$(textblock_pool).append(textblock_row)\\n        this.resize_textblock_pool(\\'.textblock_pool\\')\\n    }\\n}\\n\\n    textblock_dims = {\\n\\t\\t\\'margin\\': 5,\\n\\t\\t\\'border\\': 2,\\n\\t\\t\\'padding\\': 10\\n\\t}\\n\\n\\ttextblock_pool_min_height = 200\\n\\n    buttons = [\\n\\t\\t[\\'NODE\\', \\'btn-outline-primary\\', \\'node\\'],\\n    ]\\n    pm = new PageManager(\\n\\t\\ttextblock_dims, false, false,\\n\\t\\t\"(\\'ap\\', 16959, 0, 1)\", buttons,\\n\\t\\ttextblock_pool_min_height\\n\\t)\\n\\n    function render_page() {\\n        data = JSON.parse(\\'{\"arcs\": [{\"avg_sentence_distance_x\": 0.14634285966874874, \"avg_sentence_distance_y\": 0.14074241318063652, \"sent_idx_x\": 5.0, \"sent_idx_y\": 8.0, \"version_x\": 0, \"version_y\": 1}, {\"avg_sentence_distance_x\": NaN, \"avg_sentence_distance_y\": NaN, \"sent_idx_x\": NaN, \"sent_idx_y\": 0.0, \"version_x\": 0, \"version_y\": 1}, {\"avg_sentence_distance_x\": NaN, \"avg_sentence_distance_y\": NaN, \"sent_idx_x\": 0.0, \"sent_idx_y\": NaN, \"version_x\": 0, \"version_y\": 1}, {\"avg_sentence_distance_x\": NaN, \"avg_sentence_distance_y\": NaN, \"sent_idx_x\": NaN, \"sent_idx_y\": 5.0, \"version_x\": 0, \"version_y\": 1}, {\"avg_sentence_distance_x\": 0.0, \"avg_sentence_distance_y\": 0.0, \"sent_idx_x\": 6.0, \"sent_idx_y\": 9.0, \"version_x\": 0, \"version_y\": 1}, {\"avg_sentence_distance_x\": NaN, \"avg_sentence_distance_y\": NaN, \"sent_idx_x\": NaN, \"sent_idx_y\": 1.0, \"version_x\": 0, \"version_y\": 1}, {\"avg_sentence_distance_x\": 0.2338736276130869, \"avg_sentence_distance_y\": 0.2338736276130869, \"sent_idx_x\": 3.0, \"sent_idx_y\": 7.0, \"version_x\": 0, \"version_y\": 1}, {\"avg_sentence_distance_x\": 0.4230904281313152, \"avg_sentence_distance_y\": NaN, \"sent_idx_x\": 1.0, \"sent_idx_y\": 6.0, \"version_x\": 0, \"version_y\": 1}, {\"avg_sentence_distance_x\": 0.4102675057375369, \"avg_sentence_distance_y\": 0.4102675057375369, \"sent_idx_x\": 2.0, \"sent_idx_y\": 6.0, \"version_x\": 0, \"version_y\": 1}, {\"avg_sentence_distance_x\": NaN, \"avg_sentence_distance_y\": NaN, \"sent_idx_x\": 4.0, \"sent_idx_y\": NaN, \"version_x\": 0, \"version_y\": 1}, {\"avg_sentence_distance_x\": NaN, \"avg_sentence_distance_y\": NaN, \"sent_idx_x\": NaN, \"sent_idx_y\": 2.0, \"version_x\": 0, \"version_y\": 1}, {\"avg_sentence_distance_x\": NaN, \"avg_sentence_distance_y\": NaN, \"sent_idx_x\": NaN, \"sent_idx_y\": 3.0, \"version_x\": 0, \"version_y\": 1}], \"nodes\": [{\"sent_idx\": 0, \"sentence\": \"NEW YORK (AP) -- President Donald Trump called Roseanne Barr after an estimated 18.4 million viewers tuned in for the reboot of \\\\u0027\\\\u0027Roseanne.\\\\u0027\\\\u0027 Speaking by telephone on ABC\\\\u0027s \\\\u0027\\\\u0027Good Morning America\\\\u0027\\\\u0027 on Thursday, Barr said Wednesday night\\\\u0027s call was pretty exciting.\", \"version\": 0}, {\"sent_idx\": 1, \"sentence\": \"Barr said Trump congratulated her and talked about television and ratings.\", \"version\": 0}, {\"sent_idx\": 2, \"sentence\": \"She said the Republican was happy for her.\", \"version\": 0}, {\"sent_idx\": 3, \"sentence\": \"She says \\\\u0027\\\\u0027I\\\\u0027ve known him for many years and he\\\\u0027s done a lot of nice things for me over the years.\", \"version\": 0}, {\"sent_idx\": 4, \"sentence\": \"\\\\u0027\\\\u0027 Barr has been a Trump supporter and plays a supporter on the updated sitcom.\", \"version\": 0}, {\"sent_idx\": 5, \"sentence\": \"\\\\u0027\\\\u0027Roseanne\\\\u0027\\\\u0027 returned on Tuesday, more than two decades after the original ended its hit run.\", \"version\": 0}, {\"sent_idx\": 6, \"sentence\": \"The hour-long debut episode was watched by 10 percent more viewers than saw the May 1997 finale of ABC\\\\u0027s original \\\\u0027\\\\u0027Roseanne.\\\\u0027\\\\u0027\", \"version\": 0}, {\"sent_idx\": 0, \"sentence\": \"NEW YORK (AP) -- President Donald Trump reached out to Roseanne Barr to congratulate her after her ABC sitcom reboot drew 18.4 million viewers.\", \"version\": 1}, {\"sent_idx\": 1, \"sentence\": \"Speaking by telephone Thursday on ABC\\\\u0027s \\\\u0027\\\\u0027Good Morning America,\\\\u0027\\\\u0027 Barr said the call was \\\\u0027\\\\u0027pretty exciting.\\\\u0027\\\\u0027 She described the exchange as a \\\\u0027\\\\u0027friendly conversation about working in television and ratings.\\\\u0027\\\\u0027 Barr, who said she has known Trump for years, is a political supporter of the president\\\\u0027s.\", \"version\": 1}, {\"sent_idx\": 2, \"sentence\": \"Her revamped sitcom tackles current politics, with Roseanne embracing Trump, and clashing with her sister, a staunch opponent.\", \"version\": 1}, {\"sent_idx\": 3, \"sentence\": \"Saying she wanted to keep the show \\\\u0027\\\\u0027current,\\\\u0027\\\\u0027 Barr said on ABC that \\\\u0027\\\\u0027the idea that people can agree to disagree is kind of missing.\\\\u0027\\\\u0027 The White House confirmed the call, which was first reported by The New York Times.\", \"version\": 1}, {\"sent_idx\": 4, \"sentence\": \"They did not say if Trump had watched the show.\", \"version\": 1}, {\"sent_idx\": 5, \"sentence\": \"But the former reality star is keenly interested in ratings.\", \"version\": 1}, {\"sent_idx\": 6, \"sentence\": \"Barr said Trump was happy for her.\", \"version\": 1}, {\"sent_idx\": 7, \"sentence\": \"She said, \\\\u0027\\\\u0027I\\\\u0027ve known him for many years and he\\\\u0027s done a lot of nice things for me over the years.\", \"version\": 1}, {\"sent_idx\": 8, \"sentence\": \"\\\\u0027\\\\u0027 \\\\u0027\\\\u0027Roseanne\\\\u0027\\\\u0027 returned on Tuesday, more than two decades after the original ended its hit run.\", \"version\": 1}, {\"sent_idx\": 9, \"sentence\": \"The hour-long debut episode was watched by 10 percent more viewers than saw the May 1997 finale of ABC\\\\u0027s original \\\\u0027\\\\u0027Roseanne.\\\\u0027\\\\u0027\", \"version\": 1}]}\\'.replaceAll(\\'NaN\\', \\'null\\'))\\n        $(data.nodes).each(function (i, d) {\\n            pm.create_reference_textblock(d.sentence, \\'NODE\\', d.sent_idx)\\n            pm.create_sortable_textblock(d.sentence, \\'NODE\\', d.sent_idx)\\n            pm.create_static_connection(d.sent_idx, d.sent_idx)\\n        })\\n        $(\\'.textblock_pool\\').sortable({\\n            \"update\": function (event, ui) {\\n                $(ui.item).find(\\'.textblock\\').attr(\\'touched\\', true)\\n            }\\n        })\\n    }\\n    render_page()\\n\\n    function delete_and_start_over(){\\n        $(\\'.textblock-row\\').remove()\\n        $(\\'.textblock-row-ref\\').remove()\\n        $(\\'.connection\\').remove()\\n        render_page()\\n    }\\n\\n    $(\\'#revert\\').on(\\'click\\', function(e){\\n        e.preventDefault();\\n        var confirmed = confirm(\\'Are you sure you want to revert?\\')\\n        if (confirmed){\\n            delete_and_start_over()\\n        }\\n    })\\n\\n\\n    $(\\'.textblock\\')\\n        .on(\\'mouseover\\', function(){})\\n        .on(\\'mouseout\\',  function(){})\\n\\n     $.repeat().add(\\'connection\\').each($).connections(\\'update\\').wait(0);\\n\\n\\n    //\\n    // mturk\\n    //\\n    // handle data\\n    //\\n    var bool_to_int = {\\n        true: 1,\\n        false: 0\\n    }\\n    function _sum(arr) {\\n        var r = 0;\\n        $.each(arr, function(i, v) {\\n            r += +v;\\n        });\\n        return r;\\n    }\\n\\n    class SubmitHandler{\\n        constructor() {\\n            turkSetAssignmentID();\\n            this.GENERIC_THANKS_MESSAGE = \\'Thank you so much for your help with our task!\\'\\n            this.completed_checks = false\\n        }\\n\\n        _num_added(i){\\n            return _sum(this.running_added_list.slice(0, i))\\n        }\\n        _num_deleted(i){\\n            return _sum(this.running_deleted_list.slice(0, i))\\n        }\\n\\n        _build_lists(d){\\n            var is_deleted = $(d).attr(\\'state\\') == \\'deleted\\'\\n            var is_added = !$(d).attr(\\'orig-position\\')\\n            this.running_added_list.push(bool_to_int[is_added])\\n            this.running_deleted_list.push(bool_to_int[is_deleted])\\n        }\\n\\n        _format_data(i, d, question_class){\\n            var is_deleted = $(d).attr(\\'state\\') == \\'deleted\\'\\n            var is_added = !$(d).attr(\\'orig-position\\')\\n            this.output[\\'num-nodes-removed\\'] = this.output[\\'num-nodes-removed\\'] + bool_to_int[is_deleted]\\n            this.output[\\'num-nodes-added\\'] = this.output[\\'num-nodes-added\\'] + bool_to_int[is_added]\\n\\n            var orig_position = parseInt($(d).attr(\\'orig-position\\')) - this._num_deleted(i);\\n            var new_position = i - this._num_deleted(i) - this._num_added(i);\\n            var is_refactored = (new_position != orig_position) && ($(d).attr(\\'touched\\') == \\'true\\');\\n            this.output[\\'num-nodes-refactored\\'] = this.output[\\'num-nodes-refactored\\'] + bool_to_int[is_refactored]\\n\\n            if (is_deleted)\\n                var new_idx = \\'undefined\\'\\n            else\\n                var new_idx = i - this._num_deleted(i)\\n\\n            return {\\n                \"doc_id\": \"(\\'ap\\', 16959, 0, 1)\",\\n                \"question_class\": question_class,\\n                \"orig_sent_idx\": $(d).attr(\\'id\\').split(\\'-\\')[1],\\n                \"new_sent_idx\": new_idx,\\n                \"text\": $(d).find(\\'.textblock-text-div\\').text(),\\n                \"is_added\": is_added,\\n                \\'is_refactored\\': is_refactored,\\n                \\'is_deleted\\': is_deleted\\n            }\\n        }\\n\\n        get_data_from_dom() {\\n            var that = this\\n            that.num_nodes = data.nodes.length\\n            that.running_deleted_list = []\\n            that.running_added_list = []\\n            that.output = {\\n                \\'doc_id\\': \"(\\'ap\\', 16959, 0, 1)\",\\n                \\'final-list\\': [],\\n                \\'nodes\\': data.nodes,\\n                \\'num-nodes-removed\\': 0,\\n                \\'num-nodes-added\\': 0,\\n                \\'num-nodes-refactored\\': 0,\\n            }\\n\\n            // build lists\\n            $(\\'.textblock_pool\\')\\n                .find(\\'.textblock\\')\\n                .each(function (i, d) {\\n                    that._build_lists(d);\\n            })\\n\\n\\n            $(\\'.textblock_pool\\')\\n                .find(\\'.textblock\\')\\n                .each(function (i, d) {\\n                    var datum = that._format_data(i, d, \\'final ordering\\');\\n                    that.output[\\'final-list\\'].push(datum)\\n            })\\n        }\\n\\n        gather_and_submit_data(submit_button, submit_click_event) {\\n            this.submit_button = submit_button\\n            this.submit_click_event = submit_click_event\\n            this.get_data_from_dom()\\n            this.first_check() // -> second_confirm -> third_confirm -> submit_data\\n        }\\n\\n        first_check(){\\n            var that = this\\n            alertify.confirm(\\n                    \"You\\\\\\'ve added \" + this.output[\\'num-nodes-added\\'] + \" nodes, deleted \" + this.output[\\'num-nodes-removed\\'] + \" and refactored (roughly) \" + this.output[\\'num-nodes-refactored\\'] + \". Does that look correct?\",\\n            ).set(\\'header\\', \\'<em>Checking number of nodes drawn...</em>\\')\\n             .set(\\'labels\\', {\\n                        ok: \"Continue, submit!\",\\n                        cancel: \"Let me recheck...\"\\n                    })\\n                 .set(\\'onok\\', function () {\\n                        that.third_check()\\n                    })\\n                 .set(\\'oncancel\\', function() {\\n                        alertify.error(\\'Thanks for being diligent! Please recheck and resubmit!\\')\\n                    })\\n        }\\n\\n        third_check(){\\n            var that = this\\n            setTimeout(function() {\\n                alertify.confirm(\\n                    \"Great! Your submission is valid. Please take a moment to check out the real edits that were performed to the article you just looked at, here:\" +\\n                    \"<br><br>\" +\\n                    \"<a target=\\'_blank\\' rel=\\'noopener noreferrer\\' href=\\'https://news-edits-dot-usc-research.appspot.com/check_task?source=wp&doc_id=728205&v_x=1&v_y=2\\'>https://news-edits-dot-usc-research.appspot.com/check_task?source=wp&doc_id=728205&v_x=1&v_y=2</a>\" +\\n                    \"<br><br>\" +\\n                    \"But please do not update your answers here after you\\'ve looked at the real edits. The purpose of this is to help guide you for future tasks.\" +\\n                    \"<br><br>\" +\\n                    \"When you\\'re done, please hit submit to record the task!\"\\n                ).set(\\'header\\', \\'<em>Looks good! Ready to Submit?</em>\\')\\n                    .set(\\'labels\\', {\\n                        ok: \"Continue, submit!\",\\n                        cancel: \"Let me recheck...\"\\n                    })\\n                    .set(\\'onok\\', function () {\\n                        alertify.success(\\'Ok! Submitting...\\')\\n                        alertify.success(that.GENERIC_THANKS_MESSAGE)\\n                        that.record_data()\\n                    })\\n                    .set(\\'oncancel\\', function () {\\n                        alertify.error(\\'Thanks for being diligent! Please recheck and resubmit!\\')\\n                    })\\n            }, 700)\\n        }\\n        record_data(){\\n            \\n            // submit mturk\\n            $(\\'#data\\').attr(\\'value\\', JSON.stringify(this.output))\\n            this.completed_checks = true\\n            $(this.submit_button).trigger(this.submit_click_event.type);\\n            \\n        }\\n    }\\n\\n    // submit button click\\n    var sh = new SubmitHandler()\\n    $(\\'#submitButton\\').on(\\'click\\', function(submit_click_event){\\n        var submit_button = this\\n        if (! sh.completed_checks) {\\n            submit_click_event.preventDefault();\\n            sh.gather_and_submit_data(submit_button, submit_click_event);\\n        }\\n    })\\n\\n</script>\\n</body></html>\\n<!-- YOUR HTML ENDS -->\\n\\n]]>\\n</HTMLContent>\\n<FrameHeight>600</FrameHeight>\\n</HTMLQuestion>',\n",
       "  'Keywords': 'text, highlighting',\n",
       "  'HITStatus': 'Assignable',\n",
       "  'MaxAssignments': 1,\n",
       "  'Reward': '0.40',\n",
       "  'AutoApprovalDelayInSeconds': 28800,\n",
       "  'Expiration': datetime.datetime(2022, 5, 19, 17, 15, 34, tzinfo=tzlocal()),\n",
       "  'AssignmentDurationInSeconds': 600000,\n",
       "  'QualificationRequirements': [{'QualificationTypeId': '000000000000000000L0',\n",
       "    'Comparator': 'GreaterThanOrEqualTo',\n",
       "    'IntegerValues': [80],\n",
       "    'RequiredToPreview': False,\n",
       "    'ActionsGuarded': 'Accept'},\n",
       "   {'QualificationTypeId': '00000000000000000071',\n",
       "    'Comparator': 'EqualTo',\n",
       "    'LocaleValues': [{'Country': 'US'}],\n",
       "    'RequiredToPreview': True,\n",
       "    'ActionsGuarded': 'PreviewAndAccept'},\n",
       "   {'QualificationTypeId': '000000000000000000L0',\n",
       "    'Comparator': 'GreaterThanOrEqualTo',\n",
       "    'IntegerValues': [90],\n",
       "    'RequiredToPreview': False,\n",
       "    'ActionsGuarded': 'Accept'}],\n",
       "  'HITReviewStatus': 'NotReviewed',\n",
       "  'NumberOfAssignmentsPending': 0,\n",
       "  'NumberOfAssignmentsAvailable': 1,\n",
       "  'NumberOfAssignmentsCompleted': 0},\n",
       " 'ResponseMetadata': {'RequestId': 'c0d9a634-d10b-4817-9bea-3f1fccf0e3b8',\n",
       "  'HTTPStatusCode': 200,\n",
       "  'HTTPHeaders': {'x-amzn-requestid': 'c0d9a634-d10b-4817-9bea-3f1fccf0e3b8',\n",
       "   'content-type': 'application/x-amz-json-1.1',\n",
       "   'content-length': '59201',\n",
       "   'date': 'Mon, 01 Nov 2021 00:15:34 GMT'},\n",
       "  'RetryAttempts': 0}}"
      ]
     },
     "execution_count": 80,
     "metadata": {},
     "output_type": "execute_result"
    }
   ],
   "source": [
    "created_hits[0]"
   ]
  },
  {
   "cell_type": "code",
   "execution_count": 81,
   "metadata": {},
   "outputs": [
    {
     "data": {
      "text/plain": [
       "[]"
      ]
     },
     "execution_count": 81,
     "metadata": {},
     "output_type": "execute_result"
    }
   ],
   "source": [
    "list(filter(lambda x: 'jeff sessions' in x['HIT']['Question'], created_hits))"
   ]
  },
  {
   "cell_type": "code",
   "execution_count": 150,
   "metadata": {},
   "outputs": [],
   "source": []
  },
  {
   "cell_type": "code",
   "execution_count": 151,
   "metadata": {},
   "outputs": [],
   "source": [
    "import pickle"
   ]
  },
  {
   "cell_type": "code",
   "execution_count": 142,
   "metadata": {},
   "outputs": [],
   "source": [
    "with open('hits_cache/2021-10-22__first-round.pkl', 'rb') as f:\n",
    "    created_hits = pickle.load(f)"
   ]
  },
  {
   "cell_type": "code",
   "execution_count": 153,
   "metadata": {},
   "outputs": [],
   "source": [
    "with open('hits_cache/2021-10-22__first-round.pkl', 'wb') as f:\n",
    "    pickle.dump(created_hits, f)"
   ]
  },
  {
   "cell_type": "code",
   "execution_count": 174,
   "metadata": {},
   "outputs": [],
   "source": [
    "with open('hits_cache/2021-10-22__first-round-sandbox.pkl', 'wb') as f:\n",
    "    pickle.dump(created_hits, f)"
   ]
  },
  {
   "cell_type": "code",
   "execution_count": 320,
   "metadata": {},
   "outputs": [],
   "source": [
    "with open('hits_cache/2021-10-23__second-round-sandbox.pkl', 'wb') as f:\n",
    "    pickle.dump(created_hits, f)"
   ]
  },
  {
   "cell_type": "code",
   "execution_count": 365,
   "metadata": {},
   "outputs": [],
   "source": [
    "with open('hits_cache/2021-10-23__third-round-sandbox.pkl', 'wb') as f:\n",
    "    pickle.dump(created_hits, f)"
   ]
  },
  {
   "cell_type": "code",
   "execution_count": 367,
   "metadata": {},
   "outputs": [],
   "source": [
    "with open('hits_cache/2021-10-23__fourth-round-sandbox.pkl', 'wb') as f:\n",
    "    pickle.dump(created_hits, f)"
   ]
  },
  {
   "cell_type": "code",
   "execution_count": 454,
   "metadata": {},
   "outputs": [],
   "source": [
    "with open('hits_cache/2021-10-23__fifth-round-sandbox.pkl', 'wb') as f:\n",
    "    pickle.dump(created_hits, f)"
   ]
  },
  {
   "cell_type": "code",
   "execution_count": 482,
   "metadata": {},
   "outputs": [],
   "source": [
    "with open('hits_cache/2021-10-23__sixth-round-sandbox.pkl', 'wb') as f:\n",
    "    pickle.dump(created_hits, f)"
   ]
  },
  {
   "cell_type": "code",
   "execution_count": 521,
   "metadata": {},
   "outputs": [],
   "source": [
    "with open('hits_cache/2021-10-23__seventh-round-sandbox.pkl', 'wb') as f:\n",
    "    pickle.dump(created_hits, f)"
   ]
  },
  {
   "cell_type": "code",
   "execution_count": 523,
   "metadata": {},
   "outputs": [],
   "source": [
    "with open('hits_cache/2021-10-23__eigth-round-sandbox.pkl', 'wb') as f:\n",
    "    pickle.dump(created_hits, f)"
   ]
  },
  {
   "cell_type": "code",
   "execution_count": 33,
   "metadata": {},
   "outputs": [],
   "source": [
    "import pickle\n",
    "with open('hits_cache/2021-10-24__ninth-round-sandbox.pkl', 'wb') as f:\n",
    "    pickle.dump(created_hits, f)"
   ]
  },
  {
   "cell_type": "code",
   "execution_count": 68,
   "metadata": {},
   "outputs": [],
   "source": [
    "import pickle\n",
    "with open('hits_cache/2021-10-24__tenth-round-sandbox.pkl', 'wb') as f:\n",
    "    pickle.dump(created_hits, f)"
   ]
  },
  {
   "cell_type": "code",
   "execution_count": 211,
   "metadata": {},
   "outputs": [],
   "source": [
    "with open('hits_cache/2021-10-22__second-round.pkl', 'wb') as f:\n",
    "    pickle.dump(created_hits, f)"
   ]
  },
  {
   "cell_type": "code",
   "execution_count": 240,
   "metadata": {},
   "outputs": [],
   "source": [
    "with open('hits_cache/2021-10-22__third-round.pkl', 'wb') as f:\n",
    "    pickle.dump(created_hits, f)"
   ]
  },
  {
   "cell_type": "markdown",
   "metadata": {},
   "source": [
    "# Get Data from MTurk"
   ]
  },
  {
   "cell_type": "code",
   "execution_count": 160,
   "metadata": {},
   "outputs": [],
   "source": [
    "import glob\n",
    "all_created_hits = []\n",
    "files = glob.glob('hits_cache/*.pkl')\n",
    "files = list(filter(lambda x: 'sandbox' not in x and 'answers' not in x, files))\n",
    "for round_pkl in files:\n",
    "    with open(round_pkl, 'rb') as f:\n",
    "        created_hits = pickle.load(f)\n",
    "        all_created_hits += created_hits"
   ]
  },
  {
   "cell_type": "code",
   "execution_count": 162,
   "metadata": {},
   "outputs": [
    {
     "data": {
      "text/plain": [
       "35"
      ]
     },
     "execution_count": 162,
     "metadata": {},
     "output_type": "execute_result"
    }
   ],
   "source": [
    "len(all_created_hits)"
   ]
  },
  {
   "cell_type": "code",
   "execution_count": 163,
   "metadata": {},
   "outputs": [],
   "source": [
    "hit_ids = list(map(lambda x: x['HIT']['HITId'], all_created_hits))"
   ]
  },
  {
   "cell_type": "code",
   "execution_count": 164,
   "metadata": {},
   "outputs": [
    {
     "data": {
      "text/plain": [
       "35"
      ]
     },
     "execution_count": 164,
     "metadata": {},
     "output_type": "execute_result"
    }
   ],
   "source": [
    "len(hit_ids)"
   ]
  },
  {
   "cell_type": "code",
   "execution_count": 165,
   "metadata": {},
   "outputs": [
    {
     "data": {
      "text/plain": [
       "35"
      ]
     },
     "execution_count": 165,
     "metadata": {},
     "output_type": "execute_result"
    }
   ],
   "source": [
    "len(list(set(hit_ids)))"
   ]
  },
  {
   "cell_type": "code",
   "execution_count": 166,
   "metadata": {
    "scrolled": true
   },
   "outputs": [
    {
     "data": {
      "application/vnd.jupyter.widget-view+json": {
       "model_id": "ec3f4b1a238f486b889be5dc19a5d010",
       "version_major": 2,
       "version_minor": 0
      },
      "text/plain": [
       "  0%|          | 0/35 [00:00<?, ?it/s]"
      ]
     },
     "metadata": {},
     "output_type": "display_data"
    }
   ],
   "source": [
    "answers, answer_df = mturk.get_answers_for_hit_list(set(hit_ids))"
   ]
  },
  {
   "cell_type": "code",
   "execution_count": 169,
   "metadata": {},
   "outputs": [
    {
     "data": {
      "text/html": [
       "<div>\n",
       "<style scoped>\n",
       "    .dataframe tbody tr th:only-of-type {\n",
       "        vertical-align: middle;\n",
       "    }\n",
       "\n",
       "    .dataframe tbody tr th {\n",
       "        vertical-align: top;\n",
       "    }\n",
       "\n",
       "    .dataframe thead th {\n",
       "        text-align: right;\n",
       "    }\n",
       "</style>\n",
       "<table border=\"1\" class=\"dataframe\">\n",
       "  <thead>\n",
       "    <tr style=\"text-align: right;\">\n",
       "      <th></th>\n",
       "      <th>doc_id</th>\n",
       "      <th>question_class</th>\n",
       "      <th>sent_idx_x</th>\n",
       "      <th>sent_idx_y</th>\n",
       "      <th>version_x</th>\n",
       "      <th>version_y</th>\n",
       "      <th>worker_id</th>\n",
       "      <th>assignment_id</th>\n",
       "      <th>hit_id</th>\n",
       "      <th>time_delta</th>\n",
       "    </tr>\n",
       "  </thead>\n",
       "  <tbody>\n",
       "  </tbody>\n",
       "</table>\n",
       "</div>"
      ],
      "text/plain": [
       "Empty DataFrame\n",
       "Columns: [doc_id, question_class, sent_idx_x, sent_idx_y, version_x, version_y, worker_id, assignment_id, hit_id, time_delta]\n",
       "Index: []"
      ]
     },
     "execution_count": 169,
     "metadata": {},
     "output_type": "execute_result"
    }
   ],
   "source": [
    "t = 'A3PRQ2GSU42718'\n",
    "answer_df.loc[lambda df: df['worker_id'] == t]"
   ]
  },
  {
   "cell_type": "code",
   "execution_count": 125,
   "metadata": {},
   "outputs": [
    {
     "data": {
      "text/plain": [
       "193"
      ]
     },
     "execution_count": 125,
     "metadata": {},
     "output_type": "execute_result"
    }
   ],
   "source": [
    "len(answers)"
   ]
  },
  {
   "cell_type": "code",
   "execution_count": 130,
   "metadata": {},
   "outputs": [],
   "source": [
    "doc_ids = list(map(lambda x: x['doc_id'], answers))"
   ]
  },
  {
   "cell_type": "code",
   "execution_count": 132,
   "metadata": {},
   "outputs": [
    {
     "data": {
      "text/plain": [
       "190"
      ]
     },
     "execution_count": 132,
     "metadata": {},
     "output_type": "execute_result"
    }
   ],
   "source": [
    "len(set(doc_ids))"
   ]
  },
  {
   "cell_type": "code",
   "execution_count": 137,
   "metadata": {},
   "outputs": [],
   "source": [
    "answer_df.drop_duplicates().to_csv('hits_cache/2021-10-24__all-answers-df.csv', index=False)"
   ]
  },
  {
   "cell_type": "code",
   "execution_count": 138,
   "metadata": {},
   "outputs": [],
   "source": [
    "with open('hits_cache/2021-10-24__all-answers.pkl', 'wb') as f :\n",
    "    pickle.dump(answers, f)"
   ]
  },
  {
   "cell_type": "code",
   "execution_count": null,
   "metadata": {},
   "outputs": [],
   "source": []
  },
  {
   "cell_type": "code",
   "execution_count": null,
   "metadata": {},
   "outputs": [],
   "source": []
  },
  {
   "cell_type": "code",
   "execution_count": null,
   "metadata": {},
   "outputs": [],
   "source": []
  },
  {
   "cell_type": "code",
   "execution_count": null,
   "metadata": {},
   "outputs": [],
   "source": []
  },
  {
   "cell_type": "code",
   "execution_count": null,
   "metadata": {},
   "outputs": [],
   "source": []
  },
  {
   "cell_type": "code",
   "execution_count": null,
   "metadata": {},
   "outputs": [],
   "source": []
  },
  {
   "cell_type": "code",
   "execution_count": 337,
   "metadata": {},
   "outputs": [],
   "source": [
    "answer_df.to_csv('hits_cache/2021-10-23__first-second-round-sandbox-results.csv')"
   ]
  },
  {
   "cell_type": "code",
   "execution_count": 390,
   "metadata": {},
   "outputs": [],
   "source": [
    "answer_df.to_csv('hits_cache/2021-10-23__third-fourth-round-sandbox-results.csv')"
   ]
  },
  {
   "cell_type": "code",
   "execution_count": 491,
   "metadata": {},
   "outputs": [],
   "source": [
    "answer_df.to_csv('hits_cache/2021-10-23__fifth-sixth-round-sandbox-results.csv')"
   ]
  },
  {
   "cell_type": "code",
   "execution_count": 534,
   "metadata": {},
   "outputs": [],
   "source": [
    "answer_df.to_csv('hits_cache/2021-10-23__seventh-eigth-round-sandbox-results.csv')"
   ]
  },
  {
   "cell_type": "code",
   "execution_count": 39,
   "metadata": {},
   "outputs": [],
   "source": [
    "answer_df.to_csv('hits_cache/2021-10-23__ninth-round-sandbox-results.csv')"
   ]
  },
  {
   "cell_type": "code",
   "execution_count": 75,
   "metadata": {},
   "outputs": [],
   "source": [
    "answer_df.to_csv('hits_cache/2021-10-23__tenth-round-sandbox-results.csv')"
   ]
  },
  {
   "cell_type": "code",
   "execution_count": 387,
   "metadata": {},
   "outputs": [
    {
     "data": {
      "text/plain": [
       "(40,)"
      ]
     },
     "execution_count": 387,
     "metadata": {},
     "output_type": "execute_result"
    }
   ],
   "source": [
    "answer_df['doc_id'].drop_duplicates()"
   ]
  },
  {
   "cell_type": "code",
   "execution_count": null,
   "metadata": {},
   "outputs": [],
   "source": [
    "answer_df['doc_id'].value_counts()"
   ]
  },
  {
   "cell_type": "code",
   "execution_count": 83,
   "metadata": {},
   "outputs": [
    {
     "data": {
      "application/vnd.jupyter.widget-view+json": {
       "model_id": "6cd52235a3dc41d492ac25fdc49f3736",
       "version_major": 2,
       "version_minor": 0
      },
      "text/plain": [
       "  0%|          | 0/30 [00:00<?, ?it/s]"
      ]
     },
     "metadata": {},
     "output_type": "display_data"
    },
    {
     "name": "stdout",
     "output_type": "stream",
     "text": [
      "1\n"
     ]
    }
   ],
   "source": [
    "answer_dfs = []\n",
    "answers = []\n",
    "for hit_id in tqdm(hit_ids):\n",
    "    ##\n",
    "    assignmentsList = mturk.client.list_assignments_for_hit(\n",
    "        HITId=hit_id,\n",
    "        # AssignmentStatuses=['Submitted', 'Approved'],\n",
    "        MaxResults=10\n",
    "    )\n",
    "    assignments = assignmentsList['Assignments']\n",
    "    assignments_submitted_count = len(assignments)\n",
    "    print(assignments_submitted_count)\n",
    "    if assignments_submitted_count > 0:\n",
    "        break \n",
    "    for assignment in assignments:\n",
    "        # Retreive the attributes for each Assignment\n",
    "        answer_dict = xmltodict.parse(assignment['Answer'])\n",
    "        answer = json.loads(answer_dict['QuestionFormAnswers']['Answer'][1]['FreeText'])\n",
    "        answers.append(answer)\n",
    "        # formatted \n",
    "        answer_df = pd.DataFrame(answer['annotated connections'])\n",
    "        answer_df['worker_id'] = assignment['WorkerId']\n",
    "        answer_df['assignment_id'] = assignment['AssignmentId']\n",
    "        answer_df['hit_id'] = assignment['HITId']\n",
    "        answer_df['time_delta'] = assignment['SubmitTime'] - assignment['AcceptTime']\n",
    "        answer_dfs.append(answer_df)"
   ]
  },
  {
   "cell_type": "code",
   "execution_count": null,
   "metadata": {},
   "outputs": [],
   "source": []
  },
  {
   "cell_type": "code",
   "execution_count": null,
   "metadata": {},
   "outputs": [],
   "source": []
  },
  {
   "cell_type": "code",
   "execution_count": null,
   "metadata": {},
   "outputs": [],
   "source": []
  },
  {
   "cell_type": "code",
   "execution_count": null,
   "metadata": {},
   "outputs": [],
   "source": []
  },
  {
   "cell_type": "code",
   "execution_count": null,
   "metadata": {},
   "outputs": [],
   "source": []
  },
  {
   "cell_type": "code",
   "execution_count": null,
   "metadata": {},
   "outputs": [],
   "source": []
  },
  {
   "cell_type": "code",
   "execution_count": null,
   "metadata": {},
   "outputs": [],
   "source": []
  },
  {
   "cell_type": "code",
   "execution_count": null,
   "metadata": {},
   "outputs": [],
   "source": []
  },
  {
   "cell_type": "code",
   "execution_count": null,
   "metadata": {},
   "outputs": [],
   "source": []
  },
  {
   "cell_type": "code",
   "execution_count": 231,
   "metadata": {},
   "outputs": [],
   "source": [
    "for assignment in assignments:\n",
    "    # Retreive the attributes for each Assignment\n",
    "    answer_dict = xmltodict.parse(assignment['Answer'])\n",
    "    answer = json.loads(answer_dict['QuestionFormAnswers']['Answer'][1]['FreeText'])"
   ]
  },
  {
   "cell_type": "code",
   "execution_count": 232,
   "metadata": {},
   "outputs": [
    {
     "data": {
      "text/plain": [
       "{'doc_id': \"('nyt', 752766, 1, 2)\",\n",
       " 'annotated connections': [],\n",
       " 'nodes': [{'sent_idx': 0,\n",
       "   'sentence': 'Crimea will vote on Sunday in a ballot referendum that leaders of the regional Parliament expect will ratify their decision to break away from Ukraine and become part of Russia.',\n",
       "   'version': 1},\n",
       "  {'sent_idx': 1,\n",
       "   'sentence': 'The referendum will offer two choices, neither one of them “No”: 1) “Are you in favor of the reunification of Crimea with Russia as a part of the Russian Federation?” 2) “Are you in favor of restoring the 1992 Constitution and the status of Crimea as a part of Ukraine?” Voters will have to mark one option affirmatively, but they cannot vote for the status quo.',\n",
       "   'version': 1},\n",
       "  {'sent_idx': 2,\n",
       "   'sentence': 'A return to the 1992 Constitution — adopted after the Soviet collapse but quickly thrown out by the post-Soviet Ukraine — would effectively provide for Crimea’s independence, while remaining part of Ukraine.',\n",
       "   'version': 1},\n",
       "  {'sent_idx': 3,\n",
       "   'sentence': 'The Crimean government would have broad powers to chart its own course, including its relations with other nations such as Russia.',\n",
       "   'version': 1},\n",
       "  {'sent_idx': 4,\n",
       "   'sentence': 'Retaining Crimea’s current status, which provides for more limited autonomy from the central government in Kiev, is not an option, which may help explain why the Crimean Tatars have refused to take part in the voting.',\n",
       "   'version': 1},\n",
       "  {'sent_idx': 5,\n",
       "   'sentence': 'No matter what voters choose, the regional Parliament seems intent on changing its relationship with Kiev.',\n",
       "   'version': 1},\n",
       "  {'sent_idx': 6,\n",
       "   'sentence': 'Meanwhile, Ukraine’s new leadership and its Western allies insist that the referendum is illegal.',\n",
       "   'version': 1},\n",
       "  {'sent_idx': 7,\n",
       "   'sentence': 'The city of Stavropol, which has a special administrative status, will hold a simultaneous referendum offering the same choices.',\n",
       "   'version': 1},\n",
       "  {'sent_idx': 0,\n",
       "   'sentence': 'Crimea will vote on Sunday in a ballot referendum that leaders of the regional Parliament expect will ratify their decision to break away from Ukraine and become part of Russia.',\n",
       "   'version': 2},\n",
       "  {'sent_idx': 1,\n",
       "   'sentence': 'The referendum will offer two choices, neither one of them “No”:',\n",
       "   'version': 2},\n",
       "  {'sent_idx': 2,\n",
       "   'sentence': '1. “Are you in favor of the reunification of Crimea with Russia as a part of the Russian Federation?”',\n",
       "   'version': 2},\n",
       "  {'sent_idx': 3,\n",
       "   'sentence': '2. “Are you in favor of restoring the 1992 Constitution and the status of Crimea as a part of Ukraine?” Voters will have to mark one option affirmatively, but they cannot vote for the status quo.',\n",
       "   'version': 2},\n",
       "  {'sent_idx': 4,\n",
       "   'sentence': 'A return to the 1992 Constitution — adopted after the Soviet collapse but quickly thrown out by the post-Soviet Ukraine — would effectively provide for Crimea’s independence, while remaining part of Ukraine.',\n",
       "   'version': 2},\n",
       "  {'sent_idx': 5,\n",
       "   'sentence': 'The Crimean government would have broad powers to chart its own course, including its relations with other nations such as Russia.',\n",
       "   'version': 2},\n",
       "  {'sent_idx': 6,\n",
       "   'sentence': 'Retaining Crimea’s current status, which provides for more limited autonomy from the central government in Kiev, is not an option, which may help explain why the Crimean Tatars have refused to take part in the voting.',\n",
       "   'version': 2},\n",
       "  {'sent_idx': 7,\n",
       "   'sentence': 'No matter what voters choose, the regional Parliament seems intent on changing its relationship with Kiev.',\n",
       "   'version': 2},\n",
       "  {'sent_idx': 8,\n",
       "   'sentence': 'Meanwhile, Ukraine’s new leadership and its Western allies insist that the referendum is illegal.',\n",
       "   'version': 2},\n",
       "  {'sent_idx': 9,\n",
       "   'sentence': 'The city of Stavropol, which has a special administrative status, will hold a simultaneous referendum offering the same choices.',\n",
       "   'version': 2}],\n",
       " 'original_arcs': [{'avg_sentence_distance_x': 4.612551477757868e-07,\n",
       "   'avg_sentence_distance_y': 4.612551477757868e-07,\n",
       "   'sent_idx_x': 3,\n",
       "   'sent_idx_y': 5,\n",
       "   'version_x': 1,\n",
       "   'version_y': 2},\n",
       "  {'avg_sentence_distance_x': 0,\n",
       "   'avg_sentence_distance_y': 0,\n",
       "   'sent_idx_x': 7,\n",
       "   'sent_idx_y': 9,\n",
       "   'version_x': 1,\n",
       "   'version_y': 2},\n",
       "  {'avg_sentence_distance_x': 6.490596496330667e-07,\n",
       "   'avg_sentence_distance_y': 6.490596496330667e-07,\n",
       "   'sent_idx_x': 4,\n",
       "   'sent_idx_y': 6,\n",
       "   'version_x': 1,\n",
       "   'version_y': 2},\n",
       "  {'avg_sentence_distance_x': None,\n",
       "   'avg_sentence_distance_y': None,\n",
       "   'sent_idx_x': 1,\n",
       "   'sent_idx_y': None,\n",
       "   'version_x': 1,\n",
       "   'version_y': 2},\n",
       "  {'avg_sentence_distance_x': 0,\n",
       "   'avg_sentence_distance_y': 0,\n",
       "   'sent_idx_x': 5,\n",
       "   'sent_idx_y': 7,\n",
       "   'version_x': 1,\n",
       "   'version_y': 2},\n",
       "  {'avg_sentence_distance_x': None,\n",
       "   'avg_sentence_distance_y': None,\n",
       "   'sent_idx_x': None,\n",
       "   'sent_idx_y': 3,\n",
       "   'version_x': 1,\n",
       "   'version_y': 2},\n",
       "  {'avg_sentence_distance_x': 5.276638099064554e-07,\n",
       "   'avg_sentence_distance_y': 5.276638099064554e-07,\n",
       "   'sent_idx_x': 2,\n",
       "   'sent_idx_y': 4,\n",
       "   'version_x': 1,\n",
       "   'version_y': 2},\n",
       "  {'avg_sentence_distance_x': None,\n",
       "   'avg_sentence_distance_y': None,\n",
       "   'sent_idx_x': None,\n",
       "   'sent_idx_y': 1,\n",
       "   'version_x': 1,\n",
       "   'version_y': 2},\n",
       "  {'avg_sentence_distance_x': 5.496641901315176e-07,\n",
       "   'avg_sentence_distance_y': 5.496641901315176e-07,\n",
       "   'sent_idx_x': 0,\n",
       "   'sent_idx_y': 0,\n",
       "   'version_x': 1,\n",
       "   'version_y': 2},\n",
       "  {'avg_sentence_distance_x': None,\n",
       "   'avg_sentence_distance_y': None,\n",
       "   'sent_idx_x': None,\n",
       "   'sent_idx_y': 2,\n",
       "   'version_x': 1,\n",
       "   'version_y': 2},\n",
       "  {'avg_sentence_distance_x': 0,\n",
       "   'avg_sentence_distance_y': 0,\n",
       "   'sent_idx_x': 6,\n",
       "   'sent_idx_y': 8,\n",
       "   'version_x': 1,\n",
       "   'version_y': 2}],\n",
       " 'num_connections_added': 0}"
      ]
     },
     "execution_count": 232,
     "metadata": {},
     "output_type": "execute_result"
    }
   ],
   "source": [
    "answer"
   ]
  },
  {
   "cell_type": "code",
   "execution_count": null,
   "metadata": {},
   "outputs": [],
   "source": []
  },
  {
   "cell_type": "code",
   "execution_count": 282,
   "metadata": {},
   "outputs": [],
   "source": [
    "hits = mturk.client.list_hits(MaxResults=100)"
   ]
  },
  {
   "cell_type": "code",
   "execution_count": 283,
   "metadata": {},
   "outputs": [],
   "source": [
    "hits_df = pd.DataFrame(hits['HITs'])"
   ]
  },
  {
   "cell_type": "code",
   "execution_count": 284,
   "metadata": {},
   "outputs": [],
   "source": [
    "hits_df['CreationTime'] = pd.to_datetime(hits_df['CreationTime'])\n",
    "import datetime"
   ]
  },
  {
   "cell_type": "code",
   "execution_count": 285,
   "metadata": {},
   "outputs": [
    {
     "data": {
      "text/plain": [
       "0    2021-10-22 20:05:44-07:00\n",
       "1    2021-10-22 20:05:43-07:00\n",
       "2    2021-10-22 20:05:42-07:00\n",
       "3    2021-10-22 20:05:41-07:00\n",
       "4    2021-10-22 20:05:40-07:00\n",
       "                ...           \n",
       "93   2021-05-13 12:39:03-07:00\n",
       "94   2021-05-13 12:39:03-07:00\n",
       "95   2021-05-13 12:39:02-07:00\n",
       "96   2021-05-13 12:39:01-07:00\n",
       "97   2021-05-13 12:39:00-07:00\n",
       "Name: CreationTime, Length: 98, dtype: datetime64[ns, tzlocal()]"
      ]
     },
     "execution_count": 285,
     "metadata": {},
     "output_type": "execute_result"
    }
   ],
   "source": [
    "hits_df['CreationTime']"
   ]
  },
  {
   "cell_type": "code",
   "execution_count": null,
   "metadata": {},
   "outputs": [],
   "source": []
  },
  {
   "cell_type": "code",
   "execution_count": 260,
   "metadata": {},
   "outputs": [
    {
     "ename": "TypeError",
     "evalue": "Cannot compare tz-naive and tz-aware datetime-like objects",
     "output_type": "error",
     "traceback": [
      "\u001b[0;31m---------------------------------------------------------------------------\u001b[0m",
      "\u001b[0;31mTypeError\u001b[0m                                 Traceback (most recent call last)",
      "\u001b[0;32m<ipython-input-260-8271e00e109f>\u001b[0m in \u001b[0;36m<module>\u001b[0;34m\u001b[0m\n\u001b[0;32m----> 1\u001b[0;31m \u001b[0mhits_df\u001b[0m\u001b[0;34m.\u001b[0m\u001b[0mloc\u001b[0m\u001b[0;34m[\u001b[0m\u001b[0;32mlambda\u001b[0m \u001b[0mdf\u001b[0m\u001b[0;34m:\u001b[0m \u001b[0mdf\u001b[0m\u001b[0;34m[\u001b[0m\u001b[0;34m'CreationTime'\u001b[0m\u001b[0;34m]\u001b[0m  \u001b[0;34m>\u001b[0m \u001b[0mdatetime\u001b[0m\u001b[0;34m.\u001b[0m\u001b[0mdatetime\u001b[0m\u001b[0;34m(\u001b[0m\u001b[0;36m2021\u001b[0m\u001b[0;34m,\u001b[0m \u001b[0;36m10\u001b[0m\u001b[0;34m,\u001b[0m \u001b[0;36m1\u001b[0m\u001b[0;34m)\u001b[0m\u001b[0;34m]\u001b[0m\u001b[0;34m\u001b[0m\u001b[0;34m\u001b[0m\u001b[0m\n\u001b[0m",
      "\u001b[0;32m~/opt/anaconda3/lib/python3.7/site-packages/pandas/core/indexing.py\u001b[0m in \u001b[0;36m__getitem__\u001b[0;34m(self, key)\u001b[0m\n\u001b[1;32m   1764\u001b[0m             \u001b[0maxis\u001b[0m \u001b[0;34m=\u001b[0m \u001b[0mself\u001b[0m\u001b[0;34m.\u001b[0m\u001b[0maxis\u001b[0m \u001b[0;32mor\u001b[0m \u001b[0;36m0\u001b[0m\u001b[0;34m\u001b[0m\u001b[0;34m\u001b[0m\u001b[0m\n\u001b[1;32m   1765\u001b[0m \u001b[0;34m\u001b[0m\u001b[0m\n\u001b[0;32m-> 1766\u001b[0;31m             \u001b[0mmaybe_callable\u001b[0m \u001b[0;34m=\u001b[0m \u001b[0mcom\u001b[0m\u001b[0;34m.\u001b[0m\u001b[0mapply_if_callable\u001b[0m\u001b[0;34m(\u001b[0m\u001b[0mkey\u001b[0m\u001b[0;34m,\u001b[0m \u001b[0mself\u001b[0m\u001b[0;34m.\u001b[0m\u001b[0mobj\u001b[0m\u001b[0;34m)\u001b[0m\u001b[0;34m\u001b[0m\u001b[0;34m\u001b[0m\u001b[0m\n\u001b[0m\u001b[1;32m   1767\u001b[0m             \u001b[0;32mreturn\u001b[0m \u001b[0mself\u001b[0m\u001b[0;34m.\u001b[0m\u001b[0m_getitem_axis\u001b[0m\u001b[0;34m(\u001b[0m\u001b[0mmaybe_callable\u001b[0m\u001b[0;34m,\u001b[0m \u001b[0maxis\u001b[0m\u001b[0;34m=\u001b[0m\u001b[0maxis\u001b[0m\u001b[0;34m)\u001b[0m\u001b[0;34m\u001b[0m\u001b[0;34m\u001b[0m\u001b[0m\n\u001b[1;32m   1768\u001b[0m \u001b[0;34m\u001b[0m\u001b[0m\n",
      "\u001b[0;32m~/opt/anaconda3/lib/python3.7/site-packages/pandas/core/common.py\u001b[0m in \u001b[0;36mapply_if_callable\u001b[0;34m(maybe_callable, obj, **kwargs)\u001b[0m\n\u001b[1;32m    346\u001b[0m \u001b[0;34m\u001b[0m\u001b[0m\n\u001b[1;32m    347\u001b[0m     \u001b[0;32mif\u001b[0m \u001b[0mcallable\u001b[0m\u001b[0;34m(\u001b[0m\u001b[0mmaybe_callable\u001b[0m\u001b[0;34m)\u001b[0m\u001b[0;34m:\u001b[0m\u001b[0;34m\u001b[0m\u001b[0;34m\u001b[0m\u001b[0m\n\u001b[0;32m--> 348\u001b[0;31m         \u001b[0;32mreturn\u001b[0m \u001b[0mmaybe_callable\u001b[0m\u001b[0;34m(\u001b[0m\u001b[0mobj\u001b[0m\u001b[0;34m,\u001b[0m \u001b[0;34m**\u001b[0m\u001b[0mkwargs\u001b[0m\u001b[0;34m)\u001b[0m\u001b[0;34m\u001b[0m\u001b[0;34m\u001b[0m\u001b[0m\n\u001b[0m\u001b[1;32m    349\u001b[0m \u001b[0;34m\u001b[0m\u001b[0m\n\u001b[1;32m    350\u001b[0m     \u001b[0;32mreturn\u001b[0m \u001b[0mmaybe_callable\u001b[0m\u001b[0;34m\u001b[0m\u001b[0;34m\u001b[0m\u001b[0m\n",
      "\u001b[0;32m<ipython-input-260-8271e00e109f>\u001b[0m in \u001b[0;36m<lambda>\u001b[0;34m(df)\u001b[0m\n\u001b[0;32m----> 1\u001b[0;31m \u001b[0mhits_df\u001b[0m\u001b[0;34m.\u001b[0m\u001b[0mloc\u001b[0m\u001b[0;34m[\u001b[0m\u001b[0;32mlambda\u001b[0m \u001b[0mdf\u001b[0m\u001b[0;34m:\u001b[0m \u001b[0mdf\u001b[0m\u001b[0;34m[\u001b[0m\u001b[0;34m'CreationTime'\u001b[0m\u001b[0;34m]\u001b[0m  \u001b[0;34m>\u001b[0m \u001b[0mdatetime\u001b[0m\u001b[0;34m.\u001b[0m\u001b[0mdatetime\u001b[0m\u001b[0;34m(\u001b[0m\u001b[0;36m2021\u001b[0m\u001b[0;34m,\u001b[0m \u001b[0;36m10\u001b[0m\u001b[0;34m,\u001b[0m \u001b[0;36m1\u001b[0m\u001b[0;34m)\u001b[0m\u001b[0;34m]\u001b[0m\u001b[0;34m\u001b[0m\u001b[0;34m\u001b[0m\u001b[0m\n\u001b[0m",
      "\u001b[0;32m~/opt/anaconda3/lib/python3.7/site-packages/pandas/core/ops/common.py\u001b[0m in \u001b[0;36mnew_method\u001b[0;34m(self, other)\u001b[0m\n\u001b[1;32m     62\u001b[0m         \u001b[0mother\u001b[0m \u001b[0;34m=\u001b[0m \u001b[0mitem_from_zerodim\u001b[0m\u001b[0;34m(\u001b[0m\u001b[0mother\u001b[0m\u001b[0;34m)\u001b[0m\u001b[0;34m\u001b[0m\u001b[0;34m\u001b[0m\u001b[0m\n\u001b[1;32m     63\u001b[0m \u001b[0;34m\u001b[0m\u001b[0m\n\u001b[0;32m---> 64\u001b[0;31m         \u001b[0;32mreturn\u001b[0m \u001b[0mmethod\u001b[0m\u001b[0;34m(\u001b[0m\u001b[0mself\u001b[0m\u001b[0;34m,\u001b[0m \u001b[0mother\u001b[0m\u001b[0;34m)\u001b[0m\u001b[0;34m\u001b[0m\u001b[0;34m\u001b[0m\u001b[0m\n\u001b[0m\u001b[1;32m     65\u001b[0m \u001b[0;34m\u001b[0m\u001b[0m\n\u001b[1;32m     66\u001b[0m     \u001b[0;32mreturn\u001b[0m \u001b[0mnew_method\u001b[0m\u001b[0;34m\u001b[0m\u001b[0;34m\u001b[0m\u001b[0m\n",
      "\u001b[0;32m~/opt/anaconda3/lib/python3.7/site-packages/pandas/core/ops/__init__.py\u001b[0m in \u001b[0;36mwrapper\u001b[0;34m(self, other)\u001b[0m\n\u001b[1;32m    524\u001b[0m         \u001b[0mrvalues\u001b[0m \u001b[0;34m=\u001b[0m \u001b[0mextract_array\u001b[0m\u001b[0;34m(\u001b[0m\u001b[0mother\u001b[0m\u001b[0;34m,\u001b[0m \u001b[0mextract_numpy\u001b[0m\u001b[0;34m=\u001b[0m\u001b[0;32mTrue\u001b[0m\u001b[0;34m)\u001b[0m\u001b[0;34m\u001b[0m\u001b[0;34m\u001b[0m\u001b[0m\n\u001b[1;32m    525\u001b[0m \u001b[0;34m\u001b[0m\u001b[0m\n\u001b[0;32m--> 526\u001b[0;31m         \u001b[0mres_values\u001b[0m \u001b[0;34m=\u001b[0m \u001b[0mcomparison_op\u001b[0m\u001b[0;34m(\u001b[0m\u001b[0mlvalues\u001b[0m\u001b[0;34m,\u001b[0m \u001b[0mrvalues\u001b[0m\u001b[0;34m,\u001b[0m \u001b[0mop\u001b[0m\u001b[0;34m)\u001b[0m\u001b[0;34m\u001b[0m\u001b[0;34m\u001b[0m\u001b[0m\n\u001b[0m\u001b[1;32m    527\u001b[0m \u001b[0;34m\u001b[0m\u001b[0m\n\u001b[1;32m    528\u001b[0m         \u001b[0;32mreturn\u001b[0m \u001b[0m_construct_result\u001b[0m\u001b[0;34m(\u001b[0m\u001b[0mself\u001b[0m\u001b[0;34m,\u001b[0m \u001b[0mres_values\u001b[0m\u001b[0;34m,\u001b[0m \u001b[0mindex\u001b[0m\u001b[0;34m=\u001b[0m\u001b[0mself\u001b[0m\u001b[0;34m.\u001b[0m\u001b[0mindex\u001b[0m\u001b[0;34m,\u001b[0m \u001b[0mname\u001b[0m\u001b[0;34m=\u001b[0m\u001b[0mres_name\u001b[0m\u001b[0;34m)\u001b[0m\u001b[0;34m\u001b[0m\u001b[0;34m\u001b[0m\u001b[0m\n",
      "\u001b[0;32m~/opt/anaconda3/lib/python3.7/site-packages/pandas/core/ops/array_ops.py\u001b[0m in \u001b[0;36mcomparison_op\u001b[0;34m(left, right, op)\u001b[0m\n\u001b[1;32m    235\u001b[0m \u001b[0;34m\u001b[0m\u001b[0m\n\u001b[1;32m    236\u001b[0m     \u001b[0;32mif\u001b[0m \u001b[0mshould_extension_dispatch\u001b[0m\u001b[0;34m(\u001b[0m\u001b[0mlvalues\u001b[0m\u001b[0;34m,\u001b[0m \u001b[0mrvalues\u001b[0m\u001b[0;34m)\u001b[0m\u001b[0;34m:\u001b[0m\u001b[0;34m\u001b[0m\u001b[0;34m\u001b[0m\u001b[0m\n\u001b[0;32m--> 237\u001b[0;31m         \u001b[0mres_values\u001b[0m \u001b[0;34m=\u001b[0m \u001b[0mdispatch_to_extension_op\u001b[0m\u001b[0;34m(\u001b[0m\u001b[0mop\u001b[0m\u001b[0;34m,\u001b[0m \u001b[0mlvalues\u001b[0m\u001b[0;34m,\u001b[0m \u001b[0mrvalues\u001b[0m\u001b[0;34m)\u001b[0m\u001b[0;34m\u001b[0m\u001b[0;34m\u001b[0m\u001b[0m\n\u001b[0m\u001b[1;32m    238\u001b[0m \u001b[0;34m\u001b[0m\u001b[0m\n\u001b[1;32m    239\u001b[0m     \u001b[0;32melif\u001b[0m \u001b[0mis_scalar\u001b[0m\u001b[0;34m(\u001b[0m\u001b[0mrvalues\u001b[0m\u001b[0;34m)\u001b[0m \u001b[0;32mand\u001b[0m \u001b[0misna\u001b[0m\u001b[0;34m(\u001b[0m\u001b[0mrvalues\u001b[0m\u001b[0;34m)\u001b[0m\u001b[0;34m:\u001b[0m\u001b[0;34m\u001b[0m\u001b[0;34m\u001b[0m\u001b[0m\n",
      "\u001b[0;32m~/opt/anaconda3/lib/python3.7/site-packages/pandas/core/ops/dispatch.py\u001b[0m in \u001b[0;36mdispatch_to_extension_op\u001b[0;34m(op, left, right)\u001b[0m\n\u001b[1;32m    123\u001b[0m     \u001b[0;31m# The op calls will raise TypeError if the op is not defined\u001b[0m\u001b[0;34m\u001b[0m\u001b[0;34m\u001b[0m\u001b[0;34m\u001b[0m\u001b[0m\n\u001b[1;32m    124\u001b[0m     \u001b[0;31m# on the ExtensionArray\u001b[0m\u001b[0;34m\u001b[0m\u001b[0;34m\u001b[0m\u001b[0;34m\u001b[0m\u001b[0m\n\u001b[0;32m--> 125\u001b[0;31m     \u001b[0mres_values\u001b[0m \u001b[0;34m=\u001b[0m \u001b[0mop\u001b[0m\u001b[0;34m(\u001b[0m\u001b[0mleft\u001b[0m\u001b[0;34m,\u001b[0m \u001b[0mright\u001b[0m\u001b[0;34m)\u001b[0m\u001b[0;34m\u001b[0m\u001b[0;34m\u001b[0m\u001b[0m\n\u001b[0m\u001b[1;32m    126\u001b[0m     \u001b[0;32mreturn\u001b[0m \u001b[0mres_values\u001b[0m\u001b[0;34m\u001b[0m\u001b[0;34m\u001b[0m\u001b[0m\n",
      "\u001b[0;32m~/opt/anaconda3/lib/python3.7/site-packages/pandas/core/ops/common.py\u001b[0m in \u001b[0;36mnew_method\u001b[0;34m(self, other)\u001b[0m\n\u001b[1;32m     62\u001b[0m         \u001b[0mother\u001b[0m \u001b[0;34m=\u001b[0m \u001b[0mitem_from_zerodim\u001b[0m\u001b[0;34m(\u001b[0m\u001b[0mother\u001b[0m\u001b[0;34m)\u001b[0m\u001b[0;34m\u001b[0m\u001b[0;34m\u001b[0m\u001b[0m\n\u001b[1;32m     63\u001b[0m \u001b[0;34m\u001b[0m\u001b[0m\n\u001b[0;32m---> 64\u001b[0;31m         \u001b[0;32mreturn\u001b[0m \u001b[0mmethod\u001b[0m\u001b[0;34m(\u001b[0m\u001b[0mself\u001b[0m\u001b[0;34m,\u001b[0m \u001b[0mother\u001b[0m\u001b[0;34m)\u001b[0m\u001b[0;34m\u001b[0m\u001b[0;34m\u001b[0m\u001b[0m\n\u001b[0m\u001b[1;32m     65\u001b[0m \u001b[0;34m\u001b[0m\u001b[0m\n\u001b[1;32m     66\u001b[0m     \u001b[0;32mreturn\u001b[0m \u001b[0mnew_method\u001b[0m\u001b[0;34m\u001b[0m\u001b[0;34m\u001b[0m\u001b[0m\n",
      "\u001b[0;32m~/opt/anaconda3/lib/python3.7/site-packages/pandas/core/arrays/datetimelike.py\u001b[0m in \u001b[0;36mwrapper\u001b[0;34m(self, other)\u001b[0m\n\u001b[1;32m     72\u001b[0m         \u001b[0;32mif\u001b[0m \u001b[0misinstance\u001b[0m\u001b[0;34m(\u001b[0m\u001b[0mother\u001b[0m\u001b[0;34m,\u001b[0m \u001b[0mself\u001b[0m\u001b[0;34m.\u001b[0m\u001b[0m_recognized_scalars\u001b[0m\u001b[0;34m)\u001b[0m \u001b[0;32mor\u001b[0m \u001b[0mother\u001b[0m \u001b[0;32mis\u001b[0m \u001b[0mNaT\u001b[0m\u001b[0;34m:\u001b[0m\u001b[0;34m\u001b[0m\u001b[0;34m\u001b[0m\u001b[0m\n\u001b[1;32m     73\u001b[0m             \u001b[0mother\u001b[0m \u001b[0;34m=\u001b[0m \u001b[0mself\u001b[0m\u001b[0;34m.\u001b[0m\u001b[0m_scalar_type\u001b[0m\u001b[0;34m(\u001b[0m\u001b[0mother\u001b[0m\u001b[0;34m)\u001b[0m\u001b[0;34m\u001b[0m\u001b[0;34m\u001b[0m\u001b[0m\n\u001b[0;32m---> 74\u001b[0;31m             \u001b[0mself\u001b[0m\u001b[0;34m.\u001b[0m\u001b[0m_check_compatible_with\u001b[0m\u001b[0;34m(\u001b[0m\u001b[0mother\u001b[0m\u001b[0;34m)\u001b[0m\u001b[0;34m\u001b[0m\u001b[0;34m\u001b[0m\u001b[0m\n\u001b[0m\u001b[1;32m     75\u001b[0m \u001b[0;34m\u001b[0m\u001b[0m\n\u001b[1;32m     76\u001b[0m             \u001b[0mother_i8\u001b[0m \u001b[0;34m=\u001b[0m \u001b[0mself\u001b[0m\u001b[0;34m.\u001b[0m\u001b[0m_unbox_scalar\u001b[0m\u001b[0;34m(\u001b[0m\u001b[0mother\u001b[0m\u001b[0;34m)\u001b[0m\u001b[0;34m\u001b[0m\u001b[0;34m\u001b[0m\u001b[0m\n",
      "\u001b[0;32m~/opt/anaconda3/lib/python3.7/site-packages/pandas/core/arrays/datetimes.py\u001b[0m in \u001b[0;36m_check_compatible_with\u001b[0;34m(self, other, setitem)\u001b[0m\n\u001b[1;32m    460\u001b[0m         \u001b[0;32mif\u001b[0m \u001b[0mother\u001b[0m \u001b[0;32mis\u001b[0m \u001b[0mNaT\u001b[0m\u001b[0;34m:\u001b[0m\u001b[0;34m\u001b[0m\u001b[0;34m\u001b[0m\u001b[0m\n\u001b[1;32m    461\u001b[0m             \u001b[0;32mreturn\u001b[0m\u001b[0;34m\u001b[0m\u001b[0;34m\u001b[0m\u001b[0m\n\u001b[0;32m--> 462\u001b[0;31m         \u001b[0mself\u001b[0m\u001b[0;34m.\u001b[0m\u001b[0m_assert_tzawareness_compat\u001b[0m\u001b[0;34m(\u001b[0m\u001b[0mother\u001b[0m\u001b[0;34m)\u001b[0m\u001b[0;34m\u001b[0m\u001b[0;34m\u001b[0m\u001b[0m\n\u001b[0m\u001b[1;32m    463\u001b[0m         \u001b[0;32mif\u001b[0m \u001b[0msetitem\u001b[0m\u001b[0;34m:\u001b[0m\u001b[0;34m\u001b[0m\u001b[0;34m\u001b[0m\u001b[0m\n\u001b[1;32m    464\u001b[0m             \u001b[0;31m# Stricter check for setitem vs comparison methods\u001b[0m\u001b[0;34m\u001b[0m\u001b[0;34m\u001b[0m\u001b[0;34m\u001b[0m\u001b[0m\n",
      "\u001b[0;32m~/opt/anaconda3/lib/python3.7/site-packages/pandas/core/arrays/datetimes.py\u001b[0m in \u001b[0;36m_assert_tzawareness_compat\u001b[0;34m(self, other)\u001b[0m\n\u001b[1;32m    645\u001b[0m         \u001b[0;32melif\u001b[0m \u001b[0mother_tz\u001b[0m \u001b[0;32mis\u001b[0m \u001b[0;32mNone\u001b[0m\u001b[0;34m:\u001b[0m\u001b[0;34m\u001b[0m\u001b[0;34m\u001b[0m\u001b[0m\n\u001b[1;32m    646\u001b[0m             raise TypeError(\n\u001b[0;32m--> 647\u001b[0;31m                 \u001b[0;34m\"Cannot compare tz-naive and tz-aware datetime-like objects\"\u001b[0m\u001b[0;34m\u001b[0m\u001b[0;34m\u001b[0m\u001b[0m\n\u001b[0m\u001b[1;32m    648\u001b[0m             )\n\u001b[1;32m    649\u001b[0m \u001b[0;34m\u001b[0m\u001b[0m\n",
      "\u001b[0;31mTypeError\u001b[0m: Cannot compare tz-naive and tz-aware datetime-like objects"
     ]
    }
   ],
   "source": [
    "hits_df.loc[lambda df: df['CreationTime']  > datetime.datetime(2021, 10, 1, tzinfo=datetime.tzinfo)]"
   ]
  },
  {
   "cell_type": "code",
   "execution_count": null,
   "metadata": {},
   "outputs": [],
   "source": []
  },
  {
   "cell_type": "code",
   "execution_count": null,
   "metadata": {},
   "outputs": [],
   "source": []
  },
  {
   "cell_type": "code",
   "execution_count": null,
   "metadata": {},
   "outputs": [],
   "source": []
  },
  {
   "cell_type": "code",
   "execution_count": null,
   "metadata": {},
   "outputs": [],
   "source": []
  },
  {
   "cell_type": "code",
   "execution_count": null,
   "metadata": {},
   "outputs": [],
   "source": []
  },
  {
   "cell_type": "code",
   "execution_count": 181,
   "metadata": {},
   "outputs": [],
   "source": [
    "from importlib import reload"
   ]
  },
  {
   "cell_type": "code",
   "execution_count": 183,
   "metadata": {},
   "outputs": [
    {
     "data": {
      "text/plain": [
       "<module 'mturk.utils_mturk' from '../evaluation/mturk/utils_mturk.py'>"
      ]
     },
     "execution_count": 183,
     "metadata": {},
     "output_type": "execute_result"
    }
   ],
   "source": [
    "reload(um)"
   ]
  },
  {
   "cell_type": "code",
   "execution_count": null,
   "metadata": {},
   "outputs": [],
   "source": []
  },
  {
   "cell_type": "code",
   "execution_count": null,
   "metadata": {},
   "outputs": [],
   "source": []
  },
  {
   "cell_type": "code",
   "execution_count": 92,
   "metadata": {
    "scrolled": true
   },
   "outputs": [
    {
     "data": {
      "text/plain": [
       "[{'version': 1,\n",
       "  'sent_idx': 0,\n",
       "  'sentence': 'TAIPEI, Taiwan — A man fatally stabbed six nurses and a manager on Thursday at a Chinese military hospital in a seaside area famous for gatherings of Communist Party leaders, police officials in China said.'}]"
      ]
     },
     "execution_count": 92,
     "metadata": {},
     "output_type": "execute_result"
    }
   ],
   "source": [
    "list(filter(lambda x: x['version'] == 1 and x['sent_idx'] == 0, data['nodes']))"
   ]
  },
  {
   "cell_type": "code",
   "execution_count": null,
   "metadata": {},
   "outputs": [],
   "source": []
  },
  {
   "cell_type": "code",
   "execution_count": 97,
   "metadata": {},
   "outputs": [],
   "source": [
    "t1 = \"TAIPEI, Taiwan — Police officials in China said Thursday that they arrested a man suspected of stabbing to death six nurses and a manager at a Chinese military sanitarium in a seaside area famous for gatherings of Communist Party leaders.\"\n",
    "t2 = \"TAIPEI, Taiwan — A man fatally stabbed six nurses and a manager on Thursday at a Chinese military hospital in a seaside area famous for gatherings of Communist Party leaders, police officials in China said.\"\n",
    "\n",
    "t1 = 'ZABUL, Afghanistan — A complex attack on a military base in southern Afghanistan Monday left at least one member of U.S.-led coalition forces dead.'\n",
    "t2 = 'ZABUL, Afghanistan — A complex attack on a military base in southern Afghanistan Monday killed at least one member of the U.S.-led coalition forces.'"
   ]
  },
  {
   "cell_type": "code",
   "execution_count": 98,
   "metadata": {},
   "outputs": [],
   "source": [
    "import sys\n",
    "sys.path.insert(0, '../')\n",
    "import util.util_newssniffer_parsing as unp"
   ]
  },
  {
   "cell_type": "code",
   "execution_count": 99,
   "metadata": {},
   "outputs": [
    {
     "data": {
      "text/plain": [
       "('ZABUL , Afghanistan — A complex attack on a military base in southern Afghanistan Monday <span style=\"background-color:rgba(255,0,0,0.3)\">left</span>  at least one member of  U.S.-led coalition forces <span style=\"background-color:rgba(255,0,0,0.3)\">dead</span> .',\n",
       " 'ZABUL , Afghanistan — A complex attack on a military base in southern Afghanistan Monday  <span style=\"background-color:rgba(0,255,0,0.3)\">killed </span> at least one member of <span style=\"background-color:rgba(0,255,0,0.3)\">the </span> U.S.-led coalition forces  .')"
      ]
     },
     "execution_count": 99,
     "metadata": {},
     "output_type": "execute_result"
    }
   ],
   "source": [
    "unp.html_compare_sentences(t1, t2)"
   ]
  },
  {
   "cell_type": "code",
   "execution_count": null,
   "metadata": {},
   "outputs": [],
   "source": []
  },
  {
   "cell_type": "code",
   "execution_count": 101,
   "metadata": {},
   "outputs": [],
   "source": [
    "t1= 'The police said the suspect in the killings Thursday morning in Beidaihe, a resort area in the Hebei Province city of Qinhuangdao, is a sanitarium employee, indicating the attack was likely not the result of a dispute over a patient’s treatment-- the suspect, a 27-year-old man, had no known conflict with the victims, who were killed in a women’s dormitory at the hospital, the Qinhuangdao City Public Security Bureau said in a statement online.'\n",
    "\n",
    "t2 = 'The suspect, a 27-year-old hospital employee who had no known motive, was arrested after the attacks, the Qinhuangdao City Public Security Bureau said in a statement online.'\n",
    "t3 = 'The stabbings took place Thursday morning in Beidaihe, a resort area in the Hebei Province city of Qinhuangdao, about 180 miles east of Beijing.'\n",
    "t4 = 'But the fact that the suspect in the Beidaihe case is an employee indicates that the attack was probably not the result of a dispute over a patient’s treatment.'\n",
    "t5 = 'The victims were killed in a women’s dormitory at the hospital for elderly military personnel, also known as People’s Liberation Army Hospital 281, the statement said.'"
   ]
  },
  {
   "cell_type": "code",
   "execution_count": 108,
   "metadata": {},
   "outputs": [],
   "source": [
    "import pyperclip\n",
    "pyperclip.copy(unp.html_compare_sentences(t1, t5)[1])"
   ]
  },
  {
   "cell_type": "code",
   "execution_count": null,
   "metadata": {},
   "outputs": [],
   "source": []
  }
 ],
 "metadata": {
  "hide_input": false,
  "kernelspec": {
   "display_name": "Python 3",
   "language": "python",
   "name": "python3"
  },
  "language_info": {
   "codemirror_mode": {
    "name": "ipython",
    "version": 3
   },
   "file_extension": ".py",
   "mimetype": "text/x-python",
   "name": "python",
   "nbconvert_exporter": "python",
   "pygments_lexer": "ipython3",
   "version": "3.7.6"
  }
 },
 "nbformat": 4,
 "nbformat_minor": 4
}
