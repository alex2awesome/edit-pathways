{
 "cells": [
  {
   "cell_type": "markdown",
   "metadata": {},
   "source": [
    "# Select Data for Annotation"
   ]
  },
  {
   "cell_type": "code",
   "execution_count": 40,
   "metadata": {},
   "outputs": [],
   "source": [
    "source = 'bbc-2'"
   ]
  },
  {
   "cell_type": "code",
   "execution_count": 41,
   "metadata": {},
   "outputs": [
    {
     "name": "stdout",
     "output_type": "stream",
     "text": [
      "ap-matched-sentences.db           nyt-matched-sentences.db\r\n",
      "bbc-2-matched-sentences.db        reuters-matched-sentences.db\r\n",
      "guardian-matched-sentences.db     wp-matched-sentences.db\r\n",
      "independent-matched-sentences.db\r\n"
     ]
    }
   ],
   "source": [
    "ls ../data/diffengine-diffs/spark-output/"
   ]
  },
  {
   "cell_type": "code",
   "execution_count": 42,
   "metadata": {},
   "outputs": [
    {
     "data": {
      "text/html": [
       "<div>\n",
       "<style scoped>\n",
       "    .dataframe tbody tr th:only-of-type {\n",
       "        vertical-align: middle;\n",
       "    }\n",
       "\n",
       "    .dataframe tbody tr th {\n",
       "        vertical-align: top;\n",
       "    }\n",
       "\n",
       "    .dataframe thead th {\n",
       "        text-align: right;\n",
       "    }\n",
       "</style>\n",
       "<table border=\"1\" class=\"dataframe\">\n",
       "  <thead>\n",
       "    <tr style=\"text-align: right;\">\n",
       "      <th></th>\n",
       "      <th>name</th>\n",
       "    </tr>\n",
       "  </thead>\n",
       "  <tbody>\n",
       "    <tr>\n",
       "      <th>0</th>\n",
       "      <td>matched_sentences</td>\n",
       "    </tr>\n",
       "    <tr>\n",
       "      <th>1</th>\n",
       "      <td>split_sentences</td>\n",
       "    </tr>\n",
       "  </tbody>\n",
       "</table>\n",
       "</div>"
      ],
      "text/plain": [
       "                name\n",
       "0  matched_sentences\n",
       "1    split_sentences"
      ]
     },
     "execution_count": 42,
     "metadata": {},
     "output_type": "execute_result"
    }
   ],
   "source": [
    "import sys\n",
    "sys.path.insert(0, '..')\n",
    "from util import util_refactorings as ur\n",
    "import sqlite3\n",
    "import pandas as pd \n",
    "import os \n",
    "\n",
    "db_filename = '../data/diffengine-diffs/spark-output/%s-matched-sentences.db' % source\n",
    "\n",
    "if not os.path.exists(db_filename):\n",
    "    db_zip = db_filename + '.gz'\n",
    "    ! gunzip $db_zip\n",
    "\n",
    "conn = sqlite3.connect(db_filename)\n",
    "pd.read_sql('''SELECT \n",
    "                    name\n",
    "                FROM \n",
    "                    sqlite_master \n",
    "                WHERE \n",
    "                    type ='table' AND \n",
    "                    name NOT LIKE 'sqlite_%';\n",
    "''', con=conn)"
   ]
  },
  {
   "cell_type": "code",
   "execution_count": 43,
   "metadata": {},
   "outputs": [],
   "source": [
    "low_count_versions = pd.read_sql('''\n",
    "    with c1 as \n",
    "        (SELECT entry_id, CAST(version as INT) as version, COUNT(1) as c from split_sentences GROUP BY entry_id, version)\n",
    "    SELECT entry_id, version from c1\n",
    "    WHERE c < 15 and c > 3\n",
    "''', con=conn)\n",
    "\n",
    "# get join keys\n",
    "low_count_entry_ids = ', '.join(list(map(str, low_count_versions['entry_id'].unique())))\n",
    "joint_keys = low_count_versions.pipe(lambda df: df['entry_id'].astype(str) + '-' + df['version'].astype(str))\n",
    "joint_keys = \"'%s'\" % \"', '\".join(joint_keys.tolist())\n",
    "\n",
    "# matched sentences\n",
    "matched_sentences = pd.read_sql('''\n",
    "    WITH c1 as ( \n",
    "    SELECT *, \n",
    "    entry_id || '-' || version_x as key_x,\n",
    "    entry_id || '-' || version_y as key_y \n",
    "    FROM matched_sentences \n",
    "    )\n",
    "    SELECT *\n",
    "    FROM c1\n",
    "    WHERE key_x in (%s) AND key_y  in (%s)\n",
    "    ''' % (joint_keys, joint_keys)\n",
    ", con=conn)\n",
    "\n",
    "# get split sentences\n",
    "split_sentences = pd.read_sql('''\n",
    "    with c1 AS (\n",
    "        SELECT *, entry_id || '-' || CAST(version AS INT) as key FROM split_sentences\n",
    "    )\n",
    "    SELECT entry_id, CAST(version AS INT) as version, sent_idx, sentence \n",
    "    FROM c1\n",
    "    WHERE key IN (%s)\n",
    "''' % joint_keys, con=conn)"
   ]
  },
  {
   "cell_type": "code",
   "execution_count": 44,
   "metadata": {},
   "outputs": [],
   "source": [
    "matched_sentences = matched_sentences.assign(source=source)\n",
    "split_sentences = split_sentences.assign(source=source)"
   ]
  },
  {
   "cell_type": "code",
   "execution_count": 45,
   "metadata": {},
   "outputs": [],
   "source": [
    "import unidecode"
   ]
  },
  {
   "cell_type": "code",
   "execution_count": 46,
   "metadata": {
    "scrolled": true
   },
   "outputs": [],
   "source": [
    "doc_arcs_dict = matched_sentences.to_dict(orient='rows')\n",
    "\n",
    "# get HTML diffs\n",
    "doc_arcs = (matched_sentences\n",
    " .merge(split_sentences, how='outer', \n",
    "              right_on=['source', 'entry_id', 'version', 'sent_idx'],\n",
    "              left_on=['source', 'entry_id', 'version_x', 'sent_idx_x'] ,\n",
    "  ).drop(['version', 'sent_idx'], axis=1)\n",
    " .merge(split_sentences, how='outer', \n",
    "              right_on=['source', 'entry_id', 'version', 'sent_idx'],\n",
    "              left_on=['source', 'entry_id', 'version_y', 'sent_idx_y'] ,\n",
    "  ).drop(['version', 'sent_idx'], axis=1) \n",
    ")\n",
    "\n",
    "grouped_arcs = (matched_sentences\n",
    " .groupby(['source', 'entry_id', 'version_x', 'version_y'])\n",
    " .apply(lambda df: \n",
    "    df[['version_x', 'version_y', 'sent_idx_x', 'sent_idx_y',\n",
    "        'avg_sentence_distance_x', 'avg_sentence_distance_y'\n",
    "       ]].to_dict(orient='rows')\n",
    " )\n",
    " .to_frame('arcs')\n",
    ")\n",
    "\n",
    "split_sentences['sentence'] = split_sentences['sentence'].apply(unidecode.unidecode)\n",
    "split_sentences['sentence'] = split_sentences['sentence'].str.replace('\"', '\\'\\'')\n",
    "split_sentences['sentence'] = split_sentences['sentence'].str.replace('<p>', '').str.replace('</p>', '').str.strip()\n",
    "\n",
    "grouped_nodes = (split_sentences\n",
    " .groupby(['source', 'entry_id', 'version'])\n",
    " .apply(lambda df: df[['version', 'sent_idx', 'sentence']].to_dict(orient='rows'))\n",
    ").to_frame('nodes').reset_index()\n",
    "\n",
    "matched_grouped_nodes = (grouped_nodes\n",
    " .merge(\n",
    "     grouped_nodes.assign(next_vers=lambda df: df['version'] - 1), \n",
    "     left_on=['source', 'entry_id', 'version'], \n",
    "     right_on=['source', 'entry_id', 'next_vers']\n",
    " )\n",
    " .assign(nodes=lambda df: df['nodes_x'] + df['nodes_y'])\n",
    " [['source', 'entry_id', 'version_x', 'version_y', 'nodes']]\n",
    " .set_index(['source', 'entry_id', 'version_x', 'version_y'])\n",
    ")\n",
    "\n",
    "output = (\n",
    "    pd.concat([matched_grouped_nodes, grouped_arcs], axis=1)\n",
    "    .to_dict(orient='index')\n",
    ")\n",
    "\n",
    "output = {str(k): v for k, v in output.items()}\n",
    "\n",
    "import json\n",
    "with open('../evaluation/data/sample_datum_small.json', 'w') as f:\n",
    "    json.dump(output, f )"
   ]
  },
  {
   "cell_type": "code",
   "execution_count": null,
   "metadata": {},
   "outputs": [],
   "source": []
  },
  {
   "cell_type": "code",
   "execution_count": null,
   "metadata": {},
   "outputs": [],
   "source": []
  },
  {
   "cell_type": "code",
   "execution_count": null,
   "metadata": {},
   "outputs": [],
   "source": []
  },
  {
   "cell_type": "markdown",
   "metadata": {},
   "source": [
    "# Checks"
   ]
  },
  {
   "cell_type": "code",
   "execution_count": 47,
   "metadata": {},
   "outputs": [
    {
     "data": {
      "text/html": [
       "<div>\n",
       "<style scoped>\n",
       "    .dataframe tbody tr th:only-of-type {\n",
       "        vertical-align: middle;\n",
       "    }\n",
       "\n",
       "    .dataframe tbody tr th {\n",
       "        vertical-align: top;\n",
       "    }\n",
       "\n",
       "    .dataframe thead th {\n",
       "        text-align: right;\n",
       "    }\n",
       "</style>\n",
       "<table border=\"1\" class=\"dataframe\">\n",
       "  <thead>\n",
       "    <tr style=\"text-align: right;\">\n",
       "      <th></th>\n",
       "      <th>entry_id</th>\n",
       "      <th>version_x</th>\n",
       "      <th>version_y</th>\n",
       "      <th>sent_idx_x</th>\n",
       "      <th>sent_idx_y</th>\n",
       "      <th>avg_sentence_distance_x</th>\n",
       "      <th>avg_sentence_distance_y</th>\n",
       "      <th>key_x</th>\n",
       "      <th>key_y</th>\n",
       "      <th>source</th>\n",
       "    </tr>\n",
       "  </thead>\n",
       "  <tbody>\n",
       "    <tr>\n",
       "      <th>0</th>\n",
       "      <td>498581</td>\n",
       "      <td>0</td>\n",
       "      <td>1</td>\n",
       "      <td>6.0</td>\n",
       "      <td>6.0</td>\n",
       "      <td>0.0</td>\n",
       "      <td>0.0</td>\n",
       "      <td>498581-0</td>\n",
       "      <td>498581-1</td>\n",
       "      <td>bbc-2</td>\n",
       "    </tr>\n",
       "    <tr>\n",
       "      <th>1</th>\n",
       "      <td>475648</td>\n",
       "      <td>1</td>\n",
       "      <td>2</td>\n",
       "      <td>8.0</td>\n",
       "      <td>8.0</td>\n",
       "      <td>0.0</td>\n",
       "      <td>0.0</td>\n",
       "      <td>475648-1</td>\n",
       "      <td>475648-2</td>\n",
       "      <td>bbc-2</td>\n",
       "    </tr>\n",
       "    <tr>\n",
       "      <th>2</th>\n",
       "      <td>498633</td>\n",
       "      <td>0</td>\n",
       "      <td>1</td>\n",
       "      <td>11.0</td>\n",
       "      <td>11.0</td>\n",
       "      <td>0.0</td>\n",
       "      <td>0.0</td>\n",
       "      <td>498633-0</td>\n",
       "      <td>498633-1</td>\n",
       "      <td>bbc-2</td>\n",
       "    </tr>\n",
       "    <tr>\n",
       "      <th>3</th>\n",
       "      <td>500021</td>\n",
       "      <td>5</td>\n",
       "      <td>6</td>\n",
       "      <td>12.0</td>\n",
       "      <td>NaN</td>\n",
       "      <td>NaN</td>\n",
       "      <td>NaN</td>\n",
       "      <td>500021-5</td>\n",
       "      <td>500021-6</td>\n",
       "      <td>bbc-2</td>\n",
       "    </tr>\n",
       "    <tr>\n",
       "      <th>4</th>\n",
       "      <td>493139</td>\n",
       "      <td>0</td>\n",
       "      <td>1</td>\n",
       "      <td>3.0</td>\n",
       "      <td>3.0</td>\n",
       "      <td>0.0</td>\n",
       "      <td>0.0</td>\n",
       "      <td>493139-0</td>\n",
       "      <td>493139-1</td>\n",
       "      <td>bbc-2</td>\n",
       "    </tr>\n",
       "  </tbody>\n",
       "</table>\n",
       "</div>"
      ],
      "text/plain": [
       "   entry_id  version_x  version_y  sent_idx_x  sent_idx_y  \\\n",
       "0    498581          0          1         6.0         6.0   \n",
       "1    475648          1          2         8.0         8.0   \n",
       "2    498633          0          1        11.0        11.0   \n",
       "3    500021          5          6        12.0         NaN   \n",
       "4    493139          0          1         3.0         3.0   \n",
       "\n",
       "   avg_sentence_distance_x  avg_sentence_distance_y     key_x     key_y source  \n",
       "0                      0.0                      0.0  498581-0  498581-1  bbc-2  \n",
       "1                      0.0                      0.0  475648-1  475648-2  bbc-2  \n",
       "2                      0.0                      0.0  498633-0  498633-1  bbc-2  \n",
       "3                      NaN                      NaN  500021-5  500021-6  bbc-2  \n",
       "4                      0.0                      0.0  493139-0  493139-1  bbc-2  "
      ]
     },
     "execution_count": 47,
     "metadata": {},
     "output_type": "execute_result"
    }
   ],
   "source": [
    "matched_sentences.head()"
   ]
  },
  {
   "cell_type": "code",
   "execution_count": 48,
   "metadata": {},
   "outputs": [],
   "source": [
    "null_sents = (\n",
    "    matched_sentences\n",
    "     .groupby(['entry_id', 'version_x', 'version_y'])\n",
    "     [['sent_idx_x','sent_idx_y']]\n",
    "    .apply(lambda df: df.isnull().sum())\n",
    "    .rename(columns={'sent_idx_x': 'num_deleted', 'sent_idx_y': 'num_added'})\n",
    "    #  .sort_values(ascending=False).loc[lambda s: s <4]\n",
    ")"
   ]
  },
  {
   "cell_type": "code",
   "execution_count": 49,
   "metadata": {},
   "outputs": [],
   "source": [
    "# null_sents.loc[lambda df: df['sent_idx_y'] > 0]"
   ]
  },
  {
   "cell_type": "code",
   "execution_count": 50,
   "metadata": {},
   "outputs": [],
   "source": [
    "non_zero_sents = (\n",
    "    matched_sentences\n",
    "     .groupby(['entry_id', 'version_x', 'version_y'])\n",
    "     [['avg_sentence_distance_x', 'avg_sentence_distance_y']]\n",
    "     .mean()\n",
    ")"
   ]
  },
  {
   "cell_type": "code",
   "execution_count": 51,
   "metadata": {},
   "outputs": [],
   "source": [
    "doc_level_stats = pd.concat([\n",
    "    null_sents, \n",
    "    non_zero_sents\n",
    "], axis=1)"
   ]
  },
  {
   "cell_type": "code",
   "execution_count": 52,
   "metadata": {},
   "outputs": [
    {
     "data": {
      "text/html": [
       "<div>\n",
       "<style scoped>\n",
       "    .dataframe tbody tr th:only-of-type {\n",
       "        vertical-align: middle;\n",
       "    }\n",
       "\n",
       "    .dataframe tbody tr th {\n",
       "        vertical-align: top;\n",
       "    }\n",
       "\n",
       "    .dataframe thead th {\n",
       "        text-align: right;\n",
       "    }\n",
       "</style>\n",
       "<table border=\"1\" class=\"dataframe\">\n",
       "  <thead>\n",
       "    <tr style=\"text-align: right;\">\n",
       "      <th></th>\n",
       "      <th></th>\n",
       "      <th></th>\n",
       "      <th>num_deleted</th>\n",
       "      <th>num_added</th>\n",
       "      <th>avg_sentence_distance_x</th>\n",
       "      <th>avg_sentence_distance_y</th>\n",
       "    </tr>\n",
       "    <tr>\n",
       "      <th>entry_id</th>\n",
       "      <th>version_x</th>\n",
       "      <th>version_y</th>\n",
       "      <th></th>\n",
       "      <th></th>\n",
       "      <th></th>\n",
       "      <th></th>\n",
       "    </tr>\n",
       "  </thead>\n",
       "  <tbody>\n",
       "    <tr>\n",
       "      <th>218743</th>\n",
       "      <th>1</th>\n",
       "      <th>2</th>\n",
       "      <td>3</td>\n",
       "      <td>1</td>\n",
       "      <td>0.000000e+00</td>\n",
       "      <td>0.000000e+00</td>\n",
       "    </tr>\n",
       "    <tr>\n",
       "      <th rowspan=\"2\" valign=\"top\">218980</th>\n",
       "      <th>1</th>\n",
       "      <th>2</th>\n",
       "      <td>3</td>\n",
       "      <td>2</td>\n",
       "      <td>2.276138e-02</td>\n",
       "      <td>2.276138e-02</td>\n",
       "    </tr>\n",
       "    <tr>\n",
       "      <th>2</th>\n",
       "      <th>3</th>\n",
       "      <td>3</td>\n",
       "      <td>3</td>\n",
       "      <td>2.503717e-01</td>\n",
       "      <td>2.470772e-01</td>\n",
       "    </tr>\n",
       "    <tr>\n",
       "      <th>219139</th>\n",
       "      <th>0</th>\n",
       "      <th>1</th>\n",
       "      <td>3</td>\n",
       "      <td>2</td>\n",
       "      <td>5.360667e-02</td>\n",
       "      <td>5.360667e-02</td>\n",
       "    </tr>\n",
       "    <tr>\n",
       "      <th>219146</th>\n",
       "      <th>1</th>\n",
       "      <th>2</th>\n",
       "      <td>3</td>\n",
       "      <td>0</td>\n",
       "      <td>9.434915e-08</td>\n",
       "      <td>9.434915e-08</td>\n",
       "    </tr>\n",
       "    <tr>\n",
       "      <th>...</th>\n",
       "      <th>...</th>\n",
       "      <th>...</th>\n",
       "      <td>...</td>\n",
       "      <td>...</td>\n",
       "      <td>...</td>\n",
       "      <td>...</td>\n",
       "    </tr>\n",
       "    <tr>\n",
       "      <th>1983184</th>\n",
       "      <th>1</th>\n",
       "      <th>2</th>\n",
       "      <td>3</td>\n",
       "      <td>1</td>\n",
       "      <td>6.911459e-02</td>\n",
       "      <td>6.911459e-02</td>\n",
       "    </tr>\n",
       "    <tr>\n",
       "      <th>1990374</th>\n",
       "      <th>0</th>\n",
       "      <th>1</th>\n",
       "      <td>3</td>\n",
       "      <td>0</td>\n",
       "      <td>0.000000e+00</td>\n",
       "      <td>0.000000e+00</td>\n",
       "    </tr>\n",
       "    <tr>\n",
       "      <th>1995636</th>\n",
       "      <th>0</th>\n",
       "      <th>1</th>\n",
       "      <td>3</td>\n",
       "      <td>3</td>\n",
       "      <td>1.844887e-01</td>\n",
       "      <td>1.844887e-01</td>\n",
       "    </tr>\n",
       "    <tr>\n",
       "      <th>1995813</th>\n",
       "      <th>1</th>\n",
       "      <th>2</th>\n",
       "      <td>3</td>\n",
       "      <td>0</td>\n",
       "      <td>3.626789e-02</td>\n",
       "      <td>3.626789e-02</td>\n",
       "    </tr>\n",
       "    <tr>\n",
       "      <th>2023486</th>\n",
       "      <th>2</th>\n",
       "      <th>3</th>\n",
       "      <td>3</td>\n",
       "      <td>0</td>\n",
       "      <td>5.393440e-02</td>\n",
       "      <td>5.425740e-02</td>\n",
       "    </tr>\n",
       "  </tbody>\n",
       "</table>\n",
       "<p>9854 rows × 4 columns</p>\n",
       "</div>"
      ],
      "text/plain": [
       "                              num_deleted  num_added  avg_sentence_distance_x  \\\n",
       "entry_id version_x version_y                                                    \n",
       "218743   1         2                    3          1             0.000000e+00   \n",
       "218980   1         2                    3          2             2.276138e-02   \n",
       "         2         3                    3          3             2.503717e-01   \n",
       "219139   0         1                    3          2             5.360667e-02   \n",
       "219146   1         2                    3          0             9.434915e-08   \n",
       "...                                   ...        ...                      ...   \n",
       "1983184  1         2                    3          1             6.911459e-02   \n",
       "1990374  0         1                    3          0             0.000000e+00   \n",
       "1995636  0         1                    3          3             1.844887e-01   \n",
       "1995813  1         2                    3          0             3.626789e-02   \n",
       "2023486  2         3                    3          0             5.393440e-02   \n",
       "\n",
       "                              avg_sentence_distance_y  \n",
       "entry_id version_x version_y                           \n",
       "218743   1         2                     0.000000e+00  \n",
       "218980   1         2                     2.276138e-02  \n",
       "         2         3                     2.470772e-01  \n",
       "219139   0         1                     5.360667e-02  \n",
       "219146   1         2                     9.434915e-08  \n",
       "...                                               ...  \n",
       "1983184  1         2                     6.911459e-02  \n",
       "1990374  0         1                     0.000000e+00  \n",
       "1995636  0         1                     1.844887e-01  \n",
       "1995813  1         2                     3.626789e-02  \n",
       "2023486  2         3                     5.425740e-02  \n",
       "\n",
       "[9854 rows x 4 columns]"
      ]
     },
     "execution_count": 52,
     "metadata": {},
     "output_type": "execute_result"
    }
   ],
   "source": [
    "doc_level_stats.loc[lambda df: df['num_deleted'] == 3] ## choose all documents with 3 deletions\n",
    "## num_deleted = number of deleted sentences \n",
    "## num_added = number of added sentences \n",
    "## avg_sentence_distance_x, avg_sentence_distance_y = overall, how different are the sentences across the document?\n",
    "\n"
   ]
  },
  {
   "cell_type": "code",
   "execution_count": 53,
   "metadata": {},
   "outputs": [
    {
     "data": {
      "text/html": [
       "<div>\n",
       "<style scoped>\n",
       "    .dataframe tbody tr th:only-of-type {\n",
       "        vertical-align: middle;\n",
       "    }\n",
       "\n",
       "    .dataframe tbody tr th {\n",
       "        vertical-align: top;\n",
       "    }\n",
       "\n",
       "    .dataframe thead th {\n",
       "        text-align: right;\n",
       "    }\n",
       "</style>\n",
       "<table border=\"1\" class=\"dataframe\">\n",
       "  <thead>\n",
       "    <tr style=\"text-align: right;\">\n",
       "      <th></th>\n",
       "      <th></th>\n",
       "      <th></th>\n",
       "      <th>num_deleted</th>\n",
       "      <th>num_added</th>\n",
       "      <th>avg_sentence_distance_x</th>\n",
       "      <th>avg_sentence_distance_y</th>\n",
       "    </tr>\n",
       "    <tr>\n",
       "      <th>entry_id</th>\n",
       "      <th>version_x</th>\n",
       "      <th>version_y</th>\n",
       "      <th></th>\n",
       "      <th></th>\n",
       "      <th></th>\n",
       "      <th></th>\n",
       "    </tr>\n",
       "  </thead>\n",
       "  <tbody>\n",
       "    <tr>\n",
       "      <th>218742</th>\n",
       "      <th>0</th>\n",
       "      <th>1</th>\n",
       "      <td>8</td>\n",
       "      <td>5</td>\n",
       "      <td>0.212504</td>\n",
       "      <td>0.209759</td>\n",
       "    </tr>\n",
       "    <tr>\n",
       "      <th>218761</th>\n",
       "      <th>2</th>\n",
       "      <th>3</th>\n",
       "      <td>5</td>\n",
       "      <td>3</td>\n",
       "      <td>0.288710</td>\n",
       "      <td>0.288710</td>\n",
       "    </tr>\n",
       "    <tr>\n",
       "      <th>218873</th>\n",
       "      <th>1</th>\n",
       "      <th>2</th>\n",
       "      <td>1</td>\n",
       "      <td>1</td>\n",
       "      <td>0.403236</td>\n",
       "      <td>0.401979</td>\n",
       "    </tr>\n",
       "    <tr>\n",
       "      <th>218980</th>\n",
       "      <th>2</th>\n",
       "      <th>3</th>\n",
       "      <td>3</td>\n",
       "      <td>3</td>\n",
       "      <td>0.250372</td>\n",
       "      <td>0.247077</td>\n",
       "    </tr>\n",
       "    <tr>\n",
       "      <th>219006</th>\n",
       "      <th>0</th>\n",
       "      <th>1</th>\n",
       "      <td>2</td>\n",
       "      <td>0</td>\n",
       "      <td>0.225663</td>\n",
       "      <td>0.223859</td>\n",
       "    </tr>\n",
       "    <tr>\n",
       "      <th>...</th>\n",
       "      <th>...</th>\n",
       "      <th>...</th>\n",
       "      <td>...</td>\n",
       "      <td>...</td>\n",
       "      <td>...</td>\n",
       "      <td>...</td>\n",
       "    </tr>\n",
       "    <tr>\n",
       "      <th>1995662</th>\n",
       "      <th>1</th>\n",
       "      <th>2</th>\n",
       "      <td>4</td>\n",
       "      <td>1</td>\n",
       "      <td>0.286460</td>\n",
       "      <td>0.248541</td>\n",
       "    </tr>\n",
       "    <tr>\n",
       "      <th>1995709</th>\n",
       "      <th>1</th>\n",
       "      <th>2</th>\n",
       "      <td>9</td>\n",
       "      <td>3</td>\n",
       "      <td>0.279626</td>\n",
       "      <td>0.253950</td>\n",
       "    </tr>\n",
       "    <tr>\n",
       "      <th>2012949</th>\n",
       "      <th>2</th>\n",
       "      <th>3</th>\n",
       "      <td>2</td>\n",
       "      <td>4</td>\n",
       "      <td>0.410263</td>\n",
       "      <td>0.410263</td>\n",
       "    </tr>\n",
       "    <tr>\n",
       "      <th>2018809</th>\n",
       "      <th>0</th>\n",
       "      <th>1</th>\n",
       "      <td>2</td>\n",
       "      <td>3</td>\n",
       "      <td>0.216414</td>\n",
       "      <td>0.216414</td>\n",
       "    </tr>\n",
       "    <tr>\n",
       "      <th>2019943</th>\n",
       "      <th>0</th>\n",
       "      <th>1</th>\n",
       "      <td>2</td>\n",
       "      <td>3</td>\n",
       "      <td>0.344063</td>\n",
       "      <td>0.340219</td>\n",
       "    </tr>\n",
       "  </tbody>\n",
       "</table>\n",
       "<p>8892 rows × 4 columns</p>\n",
       "</div>"
      ],
      "text/plain": [
       "                              num_deleted  num_added  avg_sentence_distance_x  \\\n",
       "entry_id version_x version_y                                                    \n",
       "218742   0         1                    8          5                 0.212504   \n",
       "218761   2         3                    5          3                 0.288710   \n",
       "218873   1         2                    1          1                 0.403236   \n",
       "218980   2         3                    3          3                 0.250372   \n",
       "219006   0         1                    2          0                 0.225663   \n",
       "...                                   ...        ...                      ...   \n",
       "1995662  1         2                    4          1                 0.286460   \n",
       "1995709  1         2                    9          3                 0.279626   \n",
       "2012949  2         3                    2          4                 0.410263   \n",
       "2018809  0         1                    2          3                 0.216414   \n",
       "2019943  0         1                    2          3                 0.344063   \n",
       "\n",
       "                              avg_sentence_distance_y  \n",
       "entry_id version_x version_y                           \n",
       "218742   0         1                         0.209759  \n",
       "218761   2         3                         0.288710  \n",
       "218873   1         2                         0.401979  \n",
       "218980   2         3                         0.247077  \n",
       "219006   0         1                         0.223859  \n",
       "...                                               ...  \n",
       "1995662  1         2                         0.248541  \n",
       "1995709  1         2                         0.253950  \n",
       "2012949  2         3                         0.410263  \n",
       "2018809  0         1                         0.216414  \n",
       "2019943  0         1                         0.340219  \n",
       "\n",
       "[8892 rows x 4 columns]"
      ]
     },
     "execution_count": 53,
     "metadata": {},
     "output_type": "execute_result"
    }
   ],
   "source": [
    "doc_level_stats.loc[lambda df: df['avg_sentence_distance_x'] > 2e-01] ## choose all documents with 3 deletions"
   ]
  },
  {
   "cell_type": "code",
   "execution_count": null,
   "metadata": {},
   "outputs": [],
   "source": []
  },
  {
   "cell_type": "code",
   "execution_count": null,
   "metadata": {},
   "outputs": [],
   "source": []
  },
  {
   "cell_type": "code",
   "execution_count": null,
   "metadata": {},
   "outputs": [],
   "source": []
  },
  {
   "cell_type": "code",
   "execution_count": 56,
   "metadata": {},
   "outputs": [],
   "source": [
    "desired_index = doc_level_stats.loc[lambda df: df['avg_sentence_distance_x'] > 2e-01]"
   ]
  },
  {
   "cell_type": "code",
   "execution_count": 57,
   "metadata": {},
   "outputs": [],
   "source": [
    "# x = 870103\n",
    "# desired_index = list(filter(lambda x: x[0] == 870103, desired_index.index))"
   ]
  },
  {
   "cell_type": "code",
   "execution_count": null,
   "metadata": {},
   "outputs": [],
   "source": []
  },
  {
   "cell_type": "code",
   "execution_count": null,
   "metadata": {},
   "outputs": [],
   "source": []
  },
  {
   "cell_type": "code",
   "execution_count": null,
   "metadata": {},
   "outputs": [],
   "source": []
  },
  {
   "cell_type": "code",
   "execution_count": null,
   "metadata": {},
   "outputs": [],
   "source": []
  },
  {
   "cell_type": "code",
   "execution_count": null,
   "metadata": {},
   "outputs": [],
   "source": [
    "# merge both\n",
    "merged_matched_sentences = (matched_sentences\n",
    " .merge(\n",
    "    split_sentences, left_on=['entry_id', 'version_x', 'sent_idx_x'], right_on=['entry_id', 'version', 'sent_idx'],\n",
    "    how='left'\n",
    " ).drop(['version', 'sent_idx', 'key', 'key_x', 'key_y'], axis=1)\n",
    " .merge(\n",
    "    split_sentences, left_on=['entry_id', 'version_y', 'sent_idx_y'], right_on=['entry_id', 'version', 'sent_idx'],\n",
    "    how='left'\n",
    " ).drop(['version', 'sent_idx', 'key',], axis=1)\n",
    ")"
   ]
  },
  {
   "cell_type": "code",
   "execution_count": null,
   "metadata": {},
   "outputs": [],
   "source": [
    "# check how many additions there are\n",
    "merged_matched_sentences.loc[lambda df: df['sent_idx_x'].isnull()]"
   ]
  },
  {
   "cell_type": "code",
   "execution_count": null,
   "metadata": {},
   "outputs": [],
   "source": []
  },
  {
   "cell_type": "markdown",
   "metadata": {},
   "source": [
    "# Launch to MTurk"
   ]
  },
  {
   "cell_type": "code",
   "execution_count": 121,
   "metadata": {},
   "outputs": [
    {
     "data": {
      "text/plain": [
       "<module 'mturk' (namespace)>"
      ]
     },
     "execution_count": 121,
     "metadata": {},
     "output_type": "execute_result"
    }
   ],
   "source": [
    "from tqdm.auto import tqdm\n",
    "import boto3\n",
    "import os\n",
    "from boto.mturk.connection import MTurkConnection\n",
    "from boto.mturk.question import HTMLQuestion\n",
    "import pandas as pd \n",
    "from boto.mturk.question import ExternalQuestion\n",
    "from IPython.display import display, HTML\n",
    "import matplotlib.pyplot as plt\n",
    "plt.rc('font', size=14)\n",
    "from importlib import reload\n",
    "from boto.mturk.qualification import (\n",
    "    Qualifications,\n",
    "    PercentAssignmentsApprovedRequirement, \n",
    "    NumberHitsApprovedRequirement\n",
    ")\n",
    "\n",
    "import sys\n",
    "sys.path.insert(0, '../evaluation/')\n",
    "\n",
    "import mturk as mturk\n",
    "import mturk.utils_mturk as um\n",
    "\n",
    "from importlib import reload\n",
    "reload(um)\n",
    "reload(mturk)"
   ]
  },
  {
   "cell_type": "code",
   "execution_count": 122,
   "metadata": {},
   "outputs": [
    {
     "name": "stdout",
     "output_type": "stream",
     "text": [
      "VN2M29BH4PCAJT9ABZKN\n",
      "O9bcBpaprrXr6Q3dorn0XYI4Kp8go6oBDBYFYqeD\n"
     ]
    }
   ],
   "source": [
    "print(os.environ['AWS_ACCESS_KEY_ID'])\n",
    "print(os.environ['AWS_SECRET_ACCESS_KEY'])"
   ]
  },
  {
   "cell_type": "code",
   "execution_count": 140,
   "metadata": {},
   "outputs": [],
   "source": [
    "from importlib import reload\n",
    "reload(um)\n",
    "\n",
    "# env = 'sandbox'\n",
    "env = 'production'\n",
    "mturk = um.MTurkHandler(environment=env) #=production/sandbox"
   ]
  },
  {
   "cell_type": "code",
   "execution_count": null,
   "metadata": {},
   "outputs": [],
   "source": [
    "mturk.bonus_worker('A3PRQ2GSU42718', '3B837J3LDS7C1HXPYYW3VZCJESSSRO', '3.50')"
   ]
  },
  {
   "cell_type": "code",
   "execution_count": 148,
   "metadata": {},
   "outputs": [],
   "source": [
    "ass = mturk.client.list_assignments_for_hit(HITId=created_hits[0]['HIT']['HITId'])"
   ]
  },
  {
   "cell_type": "code",
   "execution_count": 62,
   "metadata": {},
   "outputs": [],
   "source": [
    "CUSTOM_QUALIFICATION = False"
   ]
  },
  {
   "cell_type": "code",
   "execution_count": 63,
   "metadata": {},
   "outputs": [],
   "source": [
    "worker_requirements = [\n",
    "    ### number of hits approved\n",
    "    {\n",
    "        'QualificationTypeId': '000000000000000000L0',\n",
    "        'Comparator': 'GreaterThanOrEqualTo',\n",
    "        'IntegerValues': [80],\n",
    "    },\n",
    "    ## worker local\n",
    "    {\n",
    "        'QualificationTypeId': '00000000000000000071',\n",
    "        'Comparator': 'EqualTo',\n",
    "        'LocaleValues': [{\n",
    "            \"Country\":\"US\",\n",
    "        }],\n",
    "        'RequiredToPreview': True,\n",
    "    },\n",
    "    ## percent assignments approved\n",
    "    {\n",
    "        'QualificationTypeId': '000000000000000000L0',\n",
    "        'Comparator': 'GreaterThanOrEqualTo',\n",
    "        'IntegerValues': [90],\n",
    "    },\n",
    "]\n",
    "\n",
    "## custom qualification\n",
    "if CUSTOM_QUALIFICATION:\n",
    "    worker_requirements = []\n",
    "    if env == 'production':\n",
    "        worker_requirements.append({\n",
    "            'QualificationTypeId': '3WZ6PU0JYXSTA4EIPF2M6S1CMZ7KL8',\n",
    "            'Comparator': 'GreaterThanOrEqualTo',\n",
    "            'IntegerValues': [90],      \n",
    "        })\n",
    "    else:\n",
    "        worker_requirements.append({\n",
    "            'QualificationTypeId': '381R35RGJFFV6VLBBDX2MLZFNSH414',  ## UCLA students\n",
    "            #'3FQWXCP5BDC6A66PD20NE8FM4G3H44' other workers\n",
    "            'Comparator': 'GreaterThanOrEqualTo',\n",
    "            'IntegerValues': [90],      \n",
    "        })"
   ]
  },
  {
   "cell_type": "code",
   "execution_count": null,
   "metadata": {},
   "outputs": [],
   "source": []
  },
  {
   "cell_type": "code",
   "execution_count": null,
   "metadata": {},
   "outputs": [],
   "source": []
  },
  {
   "cell_type": "code",
   "execution_count": 118,
   "metadata": {},
   "outputs": [],
   "source": [
    "from jinja2 import Template, Environment, FileSystemLoader\n",
    "import datetime\n",
    "from IPython.display import display, HTML\n",
    "jinja_env = Environment(loader=FileSystemLoader('../evaluation/templates'))"
   ]
  },
  {
   "cell_type": "code",
   "execution_count": 119,
   "metadata": {},
   "outputs": [],
   "source": [
    "template = jinja_env.get_template('match-sentences-from-scratch.html')\n",
    "created_hits = []"
   ]
  },
  {
   "cell_type": "code",
   "execution_count": 120,
   "metadata": {},
   "outputs": [],
   "source": [
    "import unidecode\n",
    "def clean_temp(node):\n",
    "    node['sentence'] =     node['sentence'].replace('.p T', ' -- t')\n",
    "    node['sentence'] =     unidecode.unidecode(node['sentence'])\n",
    "    return node\n",
    "    \n",
    "# data['nodes'] = list(map(clean_temp, data['nodes']))"
   ]
  },
  {
   "cell_type": "code",
   "execution_count": 139,
   "metadata": {},
   "outputs": [],
   "source": [
    "for i, idx in enumerate(desired_index.sample(2).index):\n",
    "    sample_key = str(tuple([source] + list(idx)))\n",
    "\n",
    "    ## make the HTML \n",
    "    data = output[sample_key]\n",
    "    html = template.render(\n",
    "        data=data,\n",
    "        doc_id=sample_key,\n",
    "        do_mturk=True,\n",
    "        production=env=='production',\n",
    "        start_time=datetime.datetime.now()\n",
    "    )\n",
    "\n",
    "    ## dump to disk for inspection\n",
    "    with open('../evaluation/mturk/templated-question-example-%s.html' % i, 'w') as f:\n",
    "        f.write(html)\n",
    "\n",
    "    if True:\n",
    "        ## HTMLQuestion HIT\n",
    "        description = '''\n",
    "            We\\'d like to match sentences from two edited versions of the same article. \n",
    "            Help us by drawing lines to connect blocks of text.\n",
    "        '''\n",
    "        title = 'Annotate some news article edits v8'\n",
    "        new_hit = mturk.client.create_hit(\n",
    "            Title = title,\n",
    "            Description = description,\n",
    "            Keywords = 'text, highlighting',\n",
    "            Reward = '0.4',\n",
    "            MaxAssignments = 1,\n",
    "            LifetimeInSeconds = 17280000,\n",
    "            AssignmentDurationInSeconds = 600000,\n",
    "            AutoApprovalDelayInSeconds = 28800,\n",
    "            Question = html,\n",
    "            QualificationRequirements=worker_requirements #if env == 'production' else []\n",
    "        )\n",
    "        created_hits.append(new_hit)"
   ]
  },
  {
   "cell_type": "code",
   "execution_count": null,
   "metadata": {},
   "outputs": [],
   "source": []
  },
  {
   "cell_type": "code",
   "execution_count": null,
   "metadata": {},
   "outputs": [],
   "source": []
  },
  {
   "cell_type": "code",
   "execution_count": 150,
   "metadata": {},
   "outputs": [],
   "source": [
    "mkdir hits_cache"
   ]
  },
  {
   "cell_type": "code",
   "execution_count": 151,
   "metadata": {},
   "outputs": [],
   "source": [
    "import pickle"
   ]
  },
  {
   "cell_type": "code",
   "execution_count": 142,
   "metadata": {},
   "outputs": [],
   "source": [
    "with open('hits_cache/2021-10-22__first-round.pkl', 'rb') as f:\n",
    "    created_hits = pickle.load(f)"
   ]
  },
  {
   "cell_type": "code",
   "execution_count": 153,
   "metadata": {},
   "outputs": [],
   "source": [
    "with open('hits_cache/2021-10-22__first-round.pkl', 'wb') as f:\n",
    "    pickle.dump(created_hits, f)"
   ]
  },
  {
   "cell_type": "code",
   "execution_count": 174,
   "metadata": {},
   "outputs": [],
   "source": [
    "with open('hits_cache/2021-10-22__first-round-sandbox.pkl', 'wb') as f:\n",
    "    pickle.dump(created_hits, f)"
   ]
  },
  {
   "cell_type": "code",
   "execution_count": 320,
   "metadata": {},
   "outputs": [],
   "source": [
    "with open('hits_cache/2021-10-23__second-round-sandbox.pkl', 'wb') as f:\n",
    "    pickle.dump(created_hits, f)"
   ]
  },
  {
   "cell_type": "code",
   "execution_count": 365,
   "metadata": {},
   "outputs": [],
   "source": [
    "with open('hits_cache/2021-10-23__third-round-sandbox.pkl', 'wb') as f:\n",
    "    pickle.dump(created_hits, f)"
   ]
  },
  {
   "cell_type": "code",
   "execution_count": 367,
   "metadata": {},
   "outputs": [],
   "source": [
    "with open('hits_cache/2021-10-23__fourth-round-sandbox.pkl', 'wb') as f:\n",
    "    pickle.dump(created_hits, f)"
   ]
  },
  {
   "cell_type": "code",
   "execution_count": 454,
   "metadata": {},
   "outputs": [],
   "source": [
    "with open('hits_cache/2021-10-23__fifth-round-sandbox.pkl', 'wb') as f:\n",
    "    pickle.dump(created_hits, f)"
   ]
  },
  {
   "cell_type": "code",
   "execution_count": 482,
   "metadata": {},
   "outputs": [],
   "source": [
    "with open('hits_cache/2021-10-23__sixth-round-sandbox.pkl', 'wb') as f:\n",
    "    pickle.dump(created_hits, f)"
   ]
  },
  {
   "cell_type": "code",
   "execution_count": 521,
   "metadata": {},
   "outputs": [],
   "source": [
    "with open('hits_cache/2021-10-23__seventh-round-sandbox.pkl', 'wb') as f:\n",
    "    pickle.dump(created_hits, f)"
   ]
  },
  {
   "cell_type": "code",
   "execution_count": 523,
   "metadata": {},
   "outputs": [],
   "source": [
    "with open('hits_cache/2021-10-23__eigth-round-sandbox.pkl', 'wb') as f:\n",
    "    pickle.dump(created_hits, f)"
   ]
  },
  {
   "cell_type": "code",
   "execution_count": 33,
   "metadata": {},
   "outputs": [],
   "source": [
    "import pickle\n",
    "with open('hits_cache/2021-10-24__ninth-round-sandbox.pkl', 'wb') as f:\n",
    "    pickle.dump(created_hits, f)"
   ]
  },
  {
   "cell_type": "code",
   "execution_count": 68,
   "metadata": {},
   "outputs": [],
   "source": [
    "import pickle\n",
    "with open('hits_cache/2021-10-24__tenth-round-sandbox.pkl', 'wb') as f:\n",
    "    pickle.dump(created_hits, f)"
   ]
  },
  {
   "cell_type": "code",
   "execution_count": 211,
   "metadata": {},
   "outputs": [],
   "source": [
    "with open('hits_cache/2021-10-22__second-round.pkl', 'wb') as f:\n",
    "    pickle.dump(created_hits, f)"
   ]
  },
  {
   "cell_type": "code",
   "execution_count": 240,
   "metadata": {},
   "outputs": [],
   "source": [
    "with open('hits_cache/2021-10-22__third-round.pkl', 'wb') as f:\n",
    "    pickle.dump(created_hits, f)"
   ]
  },
  {
   "cell_type": "markdown",
   "metadata": {},
   "source": [
    "# Get Data from MTurk"
   ]
  },
  {
   "cell_type": "code",
   "execution_count": 160,
   "metadata": {},
   "outputs": [],
   "source": [
    "import glob\n",
    "all_created_hits = []\n",
    "files = glob.glob('hits_cache/*.pkl')\n",
    "files = list(filter(lambda x: 'sandbox' not in x and 'answers' not in x, files))\n",
    "for round_pkl in files:\n",
    "    with open(round_pkl, 'rb') as f:\n",
    "        created_hits = pickle.load(f)\n",
    "        all_created_hits += created_hits"
   ]
  },
  {
   "cell_type": "code",
   "execution_count": 162,
   "metadata": {},
   "outputs": [
    {
     "data": {
      "text/plain": [
       "35"
      ]
     },
     "execution_count": 162,
     "metadata": {},
     "output_type": "execute_result"
    }
   ],
   "source": [
    "len(all_created_hits)"
   ]
  },
  {
   "cell_type": "code",
   "execution_count": 163,
   "metadata": {},
   "outputs": [],
   "source": [
    "hit_ids = list(map(lambda x: x['HIT']['HITId'], all_created_hits))"
   ]
  },
  {
   "cell_type": "code",
   "execution_count": 164,
   "metadata": {},
   "outputs": [
    {
     "data": {
      "text/plain": [
       "35"
      ]
     },
     "execution_count": 164,
     "metadata": {},
     "output_type": "execute_result"
    }
   ],
   "source": [
    "len(hit_ids)"
   ]
  },
  {
   "cell_type": "code",
   "execution_count": 165,
   "metadata": {},
   "outputs": [
    {
     "data": {
      "text/plain": [
       "35"
      ]
     },
     "execution_count": 165,
     "metadata": {},
     "output_type": "execute_result"
    }
   ],
   "source": [
    "len(list(set(hit_ids)))"
   ]
  },
  {
   "cell_type": "code",
   "execution_count": 166,
   "metadata": {
    "scrolled": true
   },
   "outputs": [
    {
     "data": {
      "application/vnd.jupyter.widget-view+json": {
       "model_id": "ec3f4b1a238f486b889be5dc19a5d010",
       "version_major": 2,
       "version_minor": 0
      },
      "text/plain": [
       "  0%|          | 0/35 [00:00<?, ?it/s]"
      ]
     },
     "metadata": {},
     "output_type": "display_data"
    }
   ],
   "source": [
    "answers, answer_df = mturk.get_answers_for_hit_list(set(hit_ids))"
   ]
  },
  {
   "cell_type": "code",
   "execution_count": 169,
   "metadata": {},
   "outputs": [
    {
     "data": {
      "text/html": [
       "<div>\n",
       "<style scoped>\n",
       "    .dataframe tbody tr th:only-of-type {\n",
       "        vertical-align: middle;\n",
       "    }\n",
       "\n",
       "    .dataframe tbody tr th {\n",
       "        vertical-align: top;\n",
       "    }\n",
       "\n",
       "    .dataframe thead th {\n",
       "        text-align: right;\n",
       "    }\n",
       "</style>\n",
       "<table border=\"1\" class=\"dataframe\">\n",
       "  <thead>\n",
       "    <tr style=\"text-align: right;\">\n",
       "      <th></th>\n",
       "      <th>doc_id</th>\n",
       "      <th>question_class</th>\n",
       "      <th>sent_idx_x</th>\n",
       "      <th>sent_idx_y</th>\n",
       "      <th>version_x</th>\n",
       "      <th>version_y</th>\n",
       "      <th>worker_id</th>\n",
       "      <th>assignment_id</th>\n",
       "      <th>hit_id</th>\n",
       "      <th>time_delta</th>\n",
       "    </tr>\n",
       "  </thead>\n",
       "  <tbody>\n",
       "  </tbody>\n",
       "</table>\n",
       "</div>"
      ],
      "text/plain": [
       "Empty DataFrame\n",
       "Columns: [doc_id, question_class, sent_idx_x, sent_idx_y, version_x, version_y, worker_id, assignment_id, hit_id, time_delta]\n",
       "Index: []"
      ]
     },
     "execution_count": 169,
     "metadata": {},
     "output_type": "execute_result"
    }
   ],
   "source": [
    "t = 'A3PRQ2GSU42718'\n",
    "answer_df.loc[lambda df: df['worker_id'] == t]"
   ]
  },
  {
   "cell_type": "code",
   "execution_count": 125,
   "metadata": {},
   "outputs": [
    {
     "data": {
      "text/plain": [
       "193"
      ]
     },
     "execution_count": 125,
     "metadata": {},
     "output_type": "execute_result"
    }
   ],
   "source": [
    "len(answers)"
   ]
  },
  {
   "cell_type": "code",
   "execution_count": 130,
   "metadata": {},
   "outputs": [],
   "source": [
    "doc_ids = list(map(lambda x: x['doc_id'], answers))"
   ]
  },
  {
   "cell_type": "code",
   "execution_count": 132,
   "metadata": {},
   "outputs": [
    {
     "data": {
      "text/plain": [
       "190"
      ]
     },
     "execution_count": 132,
     "metadata": {},
     "output_type": "execute_result"
    }
   ],
   "source": [
    "len(set(doc_ids))"
   ]
  },
  {
   "cell_type": "code",
   "execution_count": 137,
   "metadata": {},
   "outputs": [],
   "source": [
    "answer_df.drop_duplicates().to_csv('hits_cache/2021-10-24__all-answers-df.csv', index=False)"
   ]
  },
  {
   "cell_type": "code",
   "execution_count": 138,
   "metadata": {},
   "outputs": [],
   "source": [
    "with open('hits_cache/2021-10-24__all-answers.pkl', 'wb') as f :\n",
    "    pickle.dump(answers, f)"
   ]
  },
  {
   "cell_type": "code",
   "execution_count": null,
   "metadata": {},
   "outputs": [],
   "source": []
  },
  {
   "cell_type": "code",
   "execution_count": null,
   "metadata": {},
   "outputs": [],
   "source": []
  },
  {
   "cell_type": "code",
   "execution_count": null,
   "metadata": {},
   "outputs": [],
   "source": []
  },
  {
   "cell_type": "code",
   "execution_count": null,
   "metadata": {},
   "outputs": [],
   "source": []
  },
  {
   "cell_type": "code",
   "execution_count": null,
   "metadata": {},
   "outputs": [],
   "source": []
  },
  {
   "cell_type": "code",
   "execution_count": null,
   "metadata": {},
   "outputs": [],
   "source": []
  },
  {
   "cell_type": "code",
   "execution_count": 337,
   "metadata": {},
   "outputs": [],
   "source": [
    "answer_df.to_csv('hits_cache/2021-10-23__first-second-round-sandbox-results.csv')"
   ]
  },
  {
   "cell_type": "code",
   "execution_count": 390,
   "metadata": {},
   "outputs": [],
   "source": [
    "answer_df.to_csv('hits_cache/2021-10-23__third-fourth-round-sandbox-results.csv')"
   ]
  },
  {
   "cell_type": "code",
   "execution_count": 491,
   "metadata": {},
   "outputs": [],
   "source": [
    "answer_df.to_csv('hits_cache/2021-10-23__fifth-sixth-round-sandbox-results.csv')"
   ]
  },
  {
   "cell_type": "code",
   "execution_count": 534,
   "metadata": {},
   "outputs": [],
   "source": [
    "answer_df.to_csv('hits_cache/2021-10-23__seventh-eigth-round-sandbox-results.csv')"
   ]
  },
  {
   "cell_type": "code",
   "execution_count": 39,
   "metadata": {},
   "outputs": [],
   "source": [
    "answer_df.to_csv('hits_cache/2021-10-23__ninth-round-sandbox-results.csv')"
   ]
  },
  {
   "cell_type": "code",
   "execution_count": 75,
   "metadata": {},
   "outputs": [],
   "source": [
    "answer_df.to_csv('hits_cache/2021-10-23__tenth-round-sandbox-results.csv')"
   ]
  },
  {
   "cell_type": "code",
   "execution_count": 387,
   "metadata": {},
   "outputs": [
    {
     "data": {
      "text/plain": [
       "(40,)"
      ]
     },
     "execution_count": 387,
     "metadata": {},
     "output_type": "execute_result"
    }
   ],
   "source": [
    "answer_df['doc_id'].drop_duplicates()"
   ]
  },
  {
   "cell_type": "code",
   "execution_count": null,
   "metadata": {},
   "outputs": [],
   "source": [
    "answer_df['doc_id'].value_counts()"
   ]
  },
  {
   "cell_type": "code",
   "execution_count": 83,
   "metadata": {},
   "outputs": [
    {
     "data": {
      "application/vnd.jupyter.widget-view+json": {
       "model_id": "6cd52235a3dc41d492ac25fdc49f3736",
       "version_major": 2,
       "version_minor": 0
      },
      "text/plain": [
       "  0%|          | 0/30 [00:00<?, ?it/s]"
      ]
     },
     "metadata": {},
     "output_type": "display_data"
    },
    {
     "name": "stdout",
     "output_type": "stream",
     "text": [
      "1\n"
     ]
    }
   ],
   "source": [
    "answer_dfs = []\n",
    "answers = []\n",
    "for hit_id in tqdm(hit_ids):\n",
    "    ##\n",
    "    assignmentsList = mturk.client.list_assignments_for_hit(\n",
    "        HITId=hit_id,\n",
    "        # AssignmentStatuses=['Submitted', 'Approved'],\n",
    "        MaxResults=10\n",
    "    )\n",
    "    assignments = assignmentsList['Assignments']\n",
    "    assignments_submitted_count = len(assignments)\n",
    "    print(assignments_submitted_count)\n",
    "    if assignments_submitted_count > 0:\n",
    "        break \n",
    "    for assignment in assignments:\n",
    "        # Retreive the attributes for each Assignment\n",
    "        answer_dict = xmltodict.parse(assignment['Answer'])\n",
    "        answer = json.loads(answer_dict['QuestionFormAnswers']['Answer'][1]['FreeText'])\n",
    "        answers.append(answer)\n",
    "        # formatted \n",
    "        answer_df = pd.DataFrame(answer['annotated connections'])\n",
    "        answer_df['worker_id'] = assignment['WorkerId']\n",
    "        answer_df['assignment_id'] = assignment['AssignmentId']\n",
    "        answer_df['hit_id'] = assignment['HITId']\n",
    "        answer_df['time_delta'] = assignment['SubmitTime'] - assignment['AcceptTime']\n",
    "        answer_dfs.append(answer_df)"
   ]
  },
  {
   "cell_type": "code",
   "execution_count": null,
   "metadata": {},
   "outputs": [],
   "source": []
  },
  {
   "cell_type": "code",
   "execution_count": null,
   "metadata": {},
   "outputs": [],
   "source": []
  },
  {
   "cell_type": "code",
   "execution_count": null,
   "metadata": {},
   "outputs": [],
   "source": []
  },
  {
   "cell_type": "code",
   "execution_count": null,
   "metadata": {},
   "outputs": [],
   "source": []
  },
  {
   "cell_type": "code",
   "execution_count": null,
   "metadata": {},
   "outputs": [],
   "source": []
  },
  {
   "cell_type": "code",
   "execution_count": null,
   "metadata": {},
   "outputs": [],
   "source": []
  },
  {
   "cell_type": "code",
   "execution_count": null,
   "metadata": {},
   "outputs": [],
   "source": []
  },
  {
   "cell_type": "code",
   "execution_count": null,
   "metadata": {},
   "outputs": [],
   "source": []
  },
  {
   "cell_type": "code",
   "execution_count": null,
   "metadata": {},
   "outputs": [],
   "source": []
  },
  {
   "cell_type": "code",
   "execution_count": 231,
   "metadata": {},
   "outputs": [],
   "source": [
    "for assignment in assignments:\n",
    "    # Retreive the attributes for each Assignment\n",
    "    answer_dict = xmltodict.parse(assignment['Answer'])\n",
    "    answer = json.loads(answer_dict['QuestionFormAnswers']['Answer'][1]['FreeText'])"
   ]
  },
  {
   "cell_type": "code",
   "execution_count": 232,
   "metadata": {},
   "outputs": [
    {
     "data": {
      "text/plain": [
       "{'doc_id': \"('nyt', 752766, 1, 2)\",\n",
       " 'annotated connections': [],\n",
       " 'nodes': [{'sent_idx': 0,\n",
       "   'sentence': 'Crimea will vote on Sunday in a ballot referendum that leaders of the regional Parliament expect will ratify their decision to break away from Ukraine and become part of Russia.',\n",
       "   'version': 1},\n",
       "  {'sent_idx': 1,\n",
       "   'sentence': 'The referendum will offer two choices, neither one of them “No”: 1) “Are you in favor of the reunification of Crimea with Russia as a part of the Russian Federation?” 2) “Are you in favor of restoring the 1992 Constitution and the status of Crimea as a part of Ukraine?” Voters will have to mark one option affirmatively, but they cannot vote for the status quo.',\n",
       "   'version': 1},\n",
       "  {'sent_idx': 2,\n",
       "   'sentence': 'A return to the 1992 Constitution — adopted after the Soviet collapse but quickly thrown out by the post-Soviet Ukraine — would effectively provide for Crimea’s independence, while remaining part of Ukraine.',\n",
       "   'version': 1},\n",
       "  {'sent_idx': 3,\n",
       "   'sentence': 'The Crimean government would have broad powers to chart its own course, including its relations with other nations such as Russia.',\n",
       "   'version': 1},\n",
       "  {'sent_idx': 4,\n",
       "   'sentence': 'Retaining Crimea’s current status, which provides for more limited autonomy from the central government in Kiev, is not an option, which may help explain why the Crimean Tatars have refused to take part in the voting.',\n",
       "   'version': 1},\n",
       "  {'sent_idx': 5,\n",
       "   'sentence': 'No matter what voters choose, the regional Parliament seems intent on changing its relationship with Kiev.',\n",
       "   'version': 1},\n",
       "  {'sent_idx': 6,\n",
       "   'sentence': 'Meanwhile, Ukraine’s new leadership and its Western allies insist that the referendum is illegal.',\n",
       "   'version': 1},\n",
       "  {'sent_idx': 7,\n",
       "   'sentence': 'The city of Stavropol, which has a special administrative status, will hold a simultaneous referendum offering the same choices.',\n",
       "   'version': 1},\n",
       "  {'sent_idx': 0,\n",
       "   'sentence': 'Crimea will vote on Sunday in a ballot referendum that leaders of the regional Parliament expect will ratify their decision to break away from Ukraine and become part of Russia.',\n",
       "   'version': 2},\n",
       "  {'sent_idx': 1,\n",
       "   'sentence': 'The referendum will offer two choices, neither one of them “No”:',\n",
       "   'version': 2},\n",
       "  {'sent_idx': 2,\n",
       "   'sentence': '1. “Are you in favor of the reunification of Crimea with Russia as a part of the Russian Federation?”',\n",
       "   'version': 2},\n",
       "  {'sent_idx': 3,\n",
       "   'sentence': '2. “Are you in favor of restoring the 1992 Constitution and the status of Crimea as a part of Ukraine?” Voters will have to mark one option affirmatively, but they cannot vote for the status quo.',\n",
       "   'version': 2},\n",
       "  {'sent_idx': 4,\n",
       "   'sentence': 'A return to the 1992 Constitution — adopted after the Soviet collapse but quickly thrown out by the post-Soviet Ukraine — would effectively provide for Crimea’s independence, while remaining part of Ukraine.',\n",
       "   'version': 2},\n",
       "  {'sent_idx': 5,\n",
       "   'sentence': 'The Crimean government would have broad powers to chart its own course, including its relations with other nations such as Russia.',\n",
       "   'version': 2},\n",
       "  {'sent_idx': 6,\n",
       "   'sentence': 'Retaining Crimea’s current status, which provides for more limited autonomy from the central government in Kiev, is not an option, which may help explain why the Crimean Tatars have refused to take part in the voting.',\n",
       "   'version': 2},\n",
       "  {'sent_idx': 7,\n",
       "   'sentence': 'No matter what voters choose, the regional Parliament seems intent on changing its relationship with Kiev.',\n",
       "   'version': 2},\n",
       "  {'sent_idx': 8,\n",
       "   'sentence': 'Meanwhile, Ukraine’s new leadership and its Western allies insist that the referendum is illegal.',\n",
       "   'version': 2},\n",
       "  {'sent_idx': 9,\n",
       "   'sentence': 'The city of Stavropol, which has a special administrative status, will hold a simultaneous referendum offering the same choices.',\n",
       "   'version': 2}],\n",
       " 'original_arcs': [{'avg_sentence_distance_x': 4.612551477757868e-07,\n",
       "   'avg_sentence_distance_y': 4.612551477757868e-07,\n",
       "   'sent_idx_x': 3,\n",
       "   'sent_idx_y': 5,\n",
       "   'version_x': 1,\n",
       "   'version_y': 2},\n",
       "  {'avg_sentence_distance_x': 0,\n",
       "   'avg_sentence_distance_y': 0,\n",
       "   'sent_idx_x': 7,\n",
       "   'sent_idx_y': 9,\n",
       "   'version_x': 1,\n",
       "   'version_y': 2},\n",
       "  {'avg_sentence_distance_x': 6.490596496330667e-07,\n",
       "   'avg_sentence_distance_y': 6.490596496330667e-07,\n",
       "   'sent_idx_x': 4,\n",
       "   'sent_idx_y': 6,\n",
       "   'version_x': 1,\n",
       "   'version_y': 2},\n",
       "  {'avg_sentence_distance_x': None,\n",
       "   'avg_sentence_distance_y': None,\n",
       "   'sent_idx_x': 1,\n",
       "   'sent_idx_y': None,\n",
       "   'version_x': 1,\n",
       "   'version_y': 2},\n",
       "  {'avg_sentence_distance_x': 0,\n",
       "   'avg_sentence_distance_y': 0,\n",
       "   'sent_idx_x': 5,\n",
       "   'sent_idx_y': 7,\n",
       "   'version_x': 1,\n",
       "   'version_y': 2},\n",
       "  {'avg_sentence_distance_x': None,\n",
       "   'avg_sentence_distance_y': None,\n",
       "   'sent_idx_x': None,\n",
       "   'sent_idx_y': 3,\n",
       "   'version_x': 1,\n",
       "   'version_y': 2},\n",
       "  {'avg_sentence_distance_x': 5.276638099064554e-07,\n",
       "   'avg_sentence_distance_y': 5.276638099064554e-07,\n",
       "   'sent_idx_x': 2,\n",
       "   'sent_idx_y': 4,\n",
       "   'version_x': 1,\n",
       "   'version_y': 2},\n",
       "  {'avg_sentence_distance_x': None,\n",
       "   'avg_sentence_distance_y': None,\n",
       "   'sent_idx_x': None,\n",
       "   'sent_idx_y': 1,\n",
       "   'version_x': 1,\n",
       "   'version_y': 2},\n",
       "  {'avg_sentence_distance_x': 5.496641901315176e-07,\n",
       "   'avg_sentence_distance_y': 5.496641901315176e-07,\n",
       "   'sent_idx_x': 0,\n",
       "   'sent_idx_y': 0,\n",
       "   'version_x': 1,\n",
       "   'version_y': 2},\n",
       "  {'avg_sentence_distance_x': None,\n",
       "   'avg_sentence_distance_y': None,\n",
       "   'sent_idx_x': None,\n",
       "   'sent_idx_y': 2,\n",
       "   'version_x': 1,\n",
       "   'version_y': 2},\n",
       "  {'avg_sentence_distance_x': 0,\n",
       "   'avg_sentence_distance_y': 0,\n",
       "   'sent_idx_x': 6,\n",
       "   'sent_idx_y': 8,\n",
       "   'version_x': 1,\n",
       "   'version_y': 2}],\n",
       " 'num_connections_added': 0}"
      ]
     },
     "execution_count": 232,
     "metadata": {},
     "output_type": "execute_result"
    }
   ],
   "source": [
    "answer"
   ]
  },
  {
   "cell_type": "code",
   "execution_count": null,
   "metadata": {},
   "outputs": [],
   "source": []
  },
  {
   "cell_type": "code",
   "execution_count": 282,
   "metadata": {},
   "outputs": [],
   "source": [
    "hits = mturk.client.list_hits(MaxResults=100)"
   ]
  },
  {
   "cell_type": "code",
   "execution_count": 283,
   "metadata": {},
   "outputs": [],
   "source": [
    "hits_df = pd.DataFrame(hits['HITs'])"
   ]
  },
  {
   "cell_type": "code",
   "execution_count": 284,
   "metadata": {},
   "outputs": [],
   "source": [
    "hits_df['CreationTime'] = pd.to_datetime(hits_df['CreationTime'])\n",
    "import datetime"
   ]
  },
  {
   "cell_type": "code",
   "execution_count": 285,
   "metadata": {},
   "outputs": [
    {
     "data": {
      "text/plain": [
       "0    2021-10-22 20:05:44-07:00\n",
       "1    2021-10-22 20:05:43-07:00\n",
       "2    2021-10-22 20:05:42-07:00\n",
       "3    2021-10-22 20:05:41-07:00\n",
       "4    2021-10-22 20:05:40-07:00\n",
       "                ...           \n",
       "93   2021-05-13 12:39:03-07:00\n",
       "94   2021-05-13 12:39:03-07:00\n",
       "95   2021-05-13 12:39:02-07:00\n",
       "96   2021-05-13 12:39:01-07:00\n",
       "97   2021-05-13 12:39:00-07:00\n",
       "Name: CreationTime, Length: 98, dtype: datetime64[ns, tzlocal()]"
      ]
     },
     "execution_count": 285,
     "metadata": {},
     "output_type": "execute_result"
    }
   ],
   "source": [
    "hits_df['CreationTime']"
   ]
  },
  {
   "cell_type": "code",
   "execution_count": null,
   "metadata": {},
   "outputs": [],
   "source": []
  },
  {
   "cell_type": "code",
   "execution_count": 260,
   "metadata": {},
   "outputs": [
    {
     "ename": "TypeError",
     "evalue": "Cannot compare tz-naive and tz-aware datetime-like objects",
     "output_type": "error",
     "traceback": [
      "\u001b[0;31m---------------------------------------------------------------------------\u001b[0m",
      "\u001b[0;31mTypeError\u001b[0m                                 Traceback (most recent call last)",
      "\u001b[0;32m<ipython-input-260-8271e00e109f>\u001b[0m in \u001b[0;36m<module>\u001b[0;34m\u001b[0m\n\u001b[0;32m----> 1\u001b[0;31m \u001b[0mhits_df\u001b[0m\u001b[0;34m.\u001b[0m\u001b[0mloc\u001b[0m\u001b[0;34m[\u001b[0m\u001b[0;32mlambda\u001b[0m \u001b[0mdf\u001b[0m\u001b[0;34m:\u001b[0m \u001b[0mdf\u001b[0m\u001b[0;34m[\u001b[0m\u001b[0;34m'CreationTime'\u001b[0m\u001b[0;34m]\u001b[0m  \u001b[0;34m>\u001b[0m \u001b[0mdatetime\u001b[0m\u001b[0;34m.\u001b[0m\u001b[0mdatetime\u001b[0m\u001b[0;34m(\u001b[0m\u001b[0;36m2021\u001b[0m\u001b[0;34m,\u001b[0m \u001b[0;36m10\u001b[0m\u001b[0;34m,\u001b[0m \u001b[0;36m1\u001b[0m\u001b[0;34m)\u001b[0m\u001b[0;34m]\u001b[0m\u001b[0;34m\u001b[0m\u001b[0;34m\u001b[0m\u001b[0m\n\u001b[0m",
      "\u001b[0;32m~/opt/anaconda3/lib/python3.7/site-packages/pandas/core/indexing.py\u001b[0m in \u001b[0;36m__getitem__\u001b[0;34m(self, key)\u001b[0m\n\u001b[1;32m   1764\u001b[0m             \u001b[0maxis\u001b[0m \u001b[0;34m=\u001b[0m \u001b[0mself\u001b[0m\u001b[0;34m.\u001b[0m\u001b[0maxis\u001b[0m \u001b[0;32mor\u001b[0m \u001b[0;36m0\u001b[0m\u001b[0;34m\u001b[0m\u001b[0;34m\u001b[0m\u001b[0m\n\u001b[1;32m   1765\u001b[0m \u001b[0;34m\u001b[0m\u001b[0m\n\u001b[0;32m-> 1766\u001b[0;31m             \u001b[0mmaybe_callable\u001b[0m \u001b[0;34m=\u001b[0m \u001b[0mcom\u001b[0m\u001b[0;34m.\u001b[0m\u001b[0mapply_if_callable\u001b[0m\u001b[0;34m(\u001b[0m\u001b[0mkey\u001b[0m\u001b[0;34m,\u001b[0m \u001b[0mself\u001b[0m\u001b[0;34m.\u001b[0m\u001b[0mobj\u001b[0m\u001b[0;34m)\u001b[0m\u001b[0;34m\u001b[0m\u001b[0;34m\u001b[0m\u001b[0m\n\u001b[0m\u001b[1;32m   1767\u001b[0m             \u001b[0;32mreturn\u001b[0m \u001b[0mself\u001b[0m\u001b[0;34m.\u001b[0m\u001b[0m_getitem_axis\u001b[0m\u001b[0;34m(\u001b[0m\u001b[0mmaybe_callable\u001b[0m\u001b[0;34m,\u001b[0m \u001b[0maxis\u001b[0m\u001b[0;34m=\u001b[0m\u001b[0maxis\u001b[0m\u001b[0;34m)\u001b[0m\u001b[0;34m\u001b[0m\u001b[0;34m\u001b[0m\u001b[0m\n\u001b[1;32m   1768\u001b[0m \u001b[0;34m\u001b[0m\u001b[0m\n",
      "\u001b[0;32m~/opt/anaconda3/lib/python3.7/site-packages/pandas/core/common.py\u001b[0m in \u001b[0;36mapply_if_callable\u001b[0;34m(maybe_callable, obj, **kwargs)\u001b[0m\n\u001b[1;32m    346\u001b[0m \u001b[0;34m\u001b[0m\u001b[0m\n\u001b[1;32m    347\u001b[0m     \u001b[0;32mif\u001b[0m \u001b[0mcallable\u001b[0m\u001b[0;34m(\u001b[0m\u001b[0mmaybe_callable\u001b[0m\u001b[0;34m)\u001b[0m\u001b[0;34m:\u001b[0m\u001b[0;34m\u001b[0m\u001b[0;34m\u001b[0m\u001b[0m\n\u001b[0;32m--> 348\u001b[0;31m         \u001b[0;32mreturn\u001b[0m \u001b[0mmaybe_callable\u001b[0m\u001b[0;34m(\u001b[0m\u001b[0mobj\u001b[0m\u001b[0;34m,\u001b[0m \u001b[0;34m**\u001b[0m\u001b[0mkwargs\u001b[0m\u001b[0;34m)\u001b[0m\u001b[0;34m\u001b[0m\u001b[0;34m\u001b[0m\u001b[0m\n\u001b[0m\u001b[1;32m    349\u001b[0m \u001b[0;34m\u001b[0m\u001b[0m\n\u001b[1;32m    350\u001b[0m     \u001b[0;32mreturn\u001b[0m \u001b[0mmaybe_callable\u001b[0m\u001b[0;34m\u001b[0m\u001b[0;34m\u001b[0m\u001b[0m\n",
      "\u001b[0;32m<ipython-input-260-8271e00e109f>\u001b[0m in \u001b[0;36m<lambda>\u001b[0;34m(df)\u001b[0m\n\u001b[0;32m----> 1\u001b[0;31m \u001b[0mhits_df\u001b[0m\u001b[0;34m.\u001b[0m\u001b[0mloc\u001b[0m\u001b[0;34m[\u001b[0m\u001b[0;32mlambda\u001b[0m \u001b[0mdf\u001b[0m\u001b[0;34m:\u001b[0m \u001b[0mdf\u001b[0m\u001b[0;34m[\u001b[0m\u001b[0;34m'CreationTime'\u001b[0m\u001b[0;34m]\u001b[0m  \u001b[0;34m>\u001b[0m \u001b[0mdatetime\u001b[0m\u001b[0;34m.\u001b[0m\u001b[0mdatetime\u001b[0m\u001b[0;34m(\u001b[0m\u001b[0;36m2021\u001b[0m\u001b[0;34m,\u001b[0m \u001b[0;36m10\u001b[0m\u001b[0;34m,\u001b[0m \u001b[0;36m1\u001b[0m\u001b[0;34m)\u001b[0m\u001b[0;34m]\u001b[0m\u001b[0;34m\u001b[0m\u001b[0;34m\u001b[0m\u001b[0m\n\u001b[0m",
      "\u001b[0;32m~/opt/anaconda3/lib/python3.7/site-packages/pandas/core/ops/common.py\u001b[0m in \u001b[0;36mnew_method\u001b[0;34m(self, other)\u001b[0m\n\u001b[1;32m     62\u001b[0m         \u001b[0mother\u001b[0m \u001b[0;34m=\u001b[0m \u001b[0mitem_from_zerodim\u001b[0m\u001b[0;34m(\u001b[0m\u001b[0mother\u001b[0m\u001b[0;34m)\u001b[0m\u001b[0;34m\u001b[0m\u001b[0;34m\u001b[0m\u001b[0m\n\u001b[1;32m     63\u001b[0m \u001b[0;34m\u001b[0m\u001b[0m\n\u001b[0;32m---> 64\u001b[0;31m         \u001b[0;32mreturn\u001b[0m \u001b[0mmethod\u001b[0m\u001b[0;34m(\u001b[0m\u001b[0mself\u001b[0m\u001b[0;34m,\u001b[0m \u001b[0mother\u001b[0m\u001b[0;34m)\u001b[0m\u001b[0;34m\u001b[0m\u001b[0;34m\u001b[0m\u001b[0m\n\u001b[0m\u001b[1;32m     65\u001b[0m \u001b[0;34m\u001b[0m\u001b[0m\n\u001b[1;32m     66\u001b[0m     \u001b[0;32mreturn\u001b[0m \u001b[0mnew_method\u001b[0m\u001b[0;34m\u001b[0m\u001b[0;34m\u001b[0m\u001b[0m\n",
      "\u001b[0;32m~/opt/anaconda3/lib/python3.7/site-packages/pandas/core/ops/__init__.py\u001b[0m in \u001b[0;36mwrapper\u001b[0;34m(self, other)\u001b[0m\n\u001b[1;32m    524\u001b[0m         \u001b[0mrvalues\u001b[0m \u001b[0;34m=\u001b[0m \u001b[0mextract_array\u001b[0m\u001b[0;34m(\u001b[0m\u001b[0mother\u001b[0m\u001b[0;34m,\u001b[0m \u001b[0mextract_numpy\u001b[0m\u001b[0;34m=\u001b[0m\u001b[0;32mTrue\u001b[0m\u001b[0;34m)\u001b[0m\u001b[0;34m\u001b[0m\u001b[0;34m\u001b[0m\u001b[0m\n\u001b[1;32m    525\u001b[0m \u001b[0;34m\u001b[0m\u001b[0m\n\u001b[0;32m--> 526\u001b[0;31m         \u001b[0mres_values\u001b[0m \u001b[0;34m=\u001b[0m \u001b[0mcomparison_op\u001b[0m\u001b[0;34m(\u001b[0m\u001b[0mlvalues\u001b[0m\u001b[0;34m,\u001b[0m \u001b[0mrvalues\u001b[0m\u001b[0;34m,\u001b[0m \u001b[0mop\u001b[0m\u001b[0;34m)\u001b[0m\u001b[0;34m\u001b[0m\u001b[0;34m\u001b[0m\u001b[0m\n\u001b[0m\u001b[1;32m    527\u001b[0m \u001b[0;34m\u001b[0m\u001b[0m\n\u001b[1;32m    528\u001b[0m         \u001b[0;32mreturn\u001b[0m \u001b[0m_construct_result\u001b[0m\u001b[0;34m(\u001b[0m\u001b[0mself\u001b[0m\u001b[0;34m,\u001b[0m \u001b[0mres_values\u001b[0m\u001b[0;34m,\u001b[0m \u001b[0mindex\u001b[0m\u001b[0;34m=\u001b[0m\u001b[0mself\u001b[0m\u001b[0;34m.\u001b[0m\u001b[0mindex\u001b[0m\u001b[0;34m,\u001b[0m \u001b[0mname\u001b[0m\u001b[0;34m=\u001b[0m\u001b[0mres_name\u001b[0m\u001b[0;34m)\u001b[0m\u001b[0;34m\u001b[0m\u001b[0;34m\u001b[0m\u001b[0m\n",
      "\u001b[0;32m~/opt/anaconda3/lib/python3.7/site-packages/pandas/core/ops/array_ops.py\u001b[0m in \u001b[0;36mcomparison_op\u001b[0;34m(left, right, op)\u001b[0m\n\u001b[1;32m    235\u001b[0m \u001b[0;34m\u001b[0m\u001b[0m\n\u001b[1;32m    236\u001b[0m     \u001b[0;32mif\u001b[0m \u001b[0mshould_extension_dispatch\u001b[0m\u001b[0;34m(\u001b[0m\u001b[0mlvalues\u001b[0m\u001b[0;34m,\u001b[0m \u001b[0mrvalues\u001b[0m\u001b[0;34m)\u001b[0m\u001b[0;34m:\u001b[0m\u001b[0;34m\u001b[0m\u001b[0;34m\u001b[0m\u001b[0m\n\u001b[0;32m--> 237\u001b[0;31m         \u001b[0mres_values\u001b[0m \u001b[0;34m=\u001b[0m \u001b[0mdispatch_to_extension_op\u001b[0m\u001b[0;34m(\u001b[0m\u001b[0mop\u001b[0m\u001b[0;34m,\u001b[0m \u001b[0mlvalues\u001b[0m\u001b[0;34m,\u001b[0m \u001b[0mrvalues\u001b[0m\u001b[0;34m)\u001b[0m\u001b[0;34m\u001b[0m\u001b[0;34m\u001b[0m\u001b[0m\n\u001b[0m\u001b[1;32m    238\u001b[0m \u001b[0;34m\u001b[0m\u001b[0m\n\u001b[1;32m    239\u001b[0m     \u001b[0;32melif\u001b[0m \u001b[0mis_scalar\u001b[0m\u001b[0;34m(\u001b[0m\u001b[0mrvalues\u001b[0m\u001b[0;34m)\u001b[0m \u001b[0;32mand\u001b[0m \u001b[0misna\u001b[0m\u001b[0;34m(\u001b[0m\u001b[0mrvalues\u001b[0m\u001b[0;34m)\u001b[0m\u001b[0;34m:\u001b[0m\u001b[0;34m\u001b[0m\u001b[0;34m\u001b[0m\u001b[0m\n",
      "\u001b[0;32m~/opt/anaconda3/lib/python3.7/site-packages/pandas/core/ops/dispatch.py\u001b[0m in \u001b[0;36mdispatch_to_extension_op\u001b[0;34m(op, left, right)\u001b[0m\n\u001b[1;32m    123\u001b[0m     \u001b[0;31m# The op calls will raise TypeError if the op is not defined\u001b[0m\u001b[0;34m\u001b[0m\u001b[0;34m\u001b[0m\u001b[0;34m\u001b[0m\u001b[0m\n\u001b[1;32m    124\u001b[0m     \u001b[0;31m# on the ExtensionArray\u001b[0m\u001b[0;34m\u001b[0m\u001b[0;34m\u001b[0m\u001b[0;34m\u001b[0m\u001b[0m\n\u001b[0;32m--> 125\u001b[0;31m     \u001b[0mres_values\u001b[0m \u001b[0;34m=\u001b[0m \u001b[0mop\u001b[0m\u001b[0;34m(\u001b[0m\u001b[0mleft\u001b[0m\u001b[0;34m,\u001b[0m \u001b[0mright\u001b[0m\u001b[0;34m)\u001b[0m\u001b[0;34m\u001b[0m\u001b[0;34m\u001b[0m\u001b[0m\n\u001b[0m\u001b[1;32m    126\u001b[0m     \u001b[0;32mreturn\u001b[0m \u001b[0mres_values\u001b[0m\u001b[0;34m\u001b[0m\u001b[0;34m\u001b[0m\u001b[0m\n",
      "\u001b[0;32m~/opt/anaconda3/lib/python3.7/site-packages/pandas/core/ops/common.py\u001b[0m in \u001b[0;36mnew_method\u001b[0;34m(self, other)\u001b[0m\n\u001b[1;32m     62\u001b[0m         \u001b[0mother\u001b[0m \u001b[0;34m=\u001b[0m \u001b[0mitem_from_zerodim\u001b[0m\u001b[0;34m(\u001b[0m\u001b[0mother\u001b[0m\u001b[0;34m)\u001b[0m\u001b[0;34m\u001b[0m\u001b[0;34m\u001b[0m\u001b[0m\n\u001b[1;32m     63\u001b[0m \u001b[0;34m\u001b[0m\u001b[0m\n\u001b[0;32m---> 64\u001b[0;31m         \u001b[0;32mreturn\u001b[0m \u001b[0mmethod\u001b[0m\u001b[0;34m(\u001b[0m\u001b[0mself\u001b[0m\u001b[0;34m,\u001b[0m \u001b[0mother\u001b[0m\u001b[0;34m)\u001b[0m\u001b[0;34m\u001b[0m\u001b[0;34m\u001b[0m\u001b[0m\n\u001b[0m\u001b[1;32m     65\u001b[0m \u001b[0;34m\u001b[0m\u001b[0m\n\u001b[1;32m     66\u001b[0m     \u001b[0;32mreturn\u001b[0m \u001b[0mnew_method\u001b[0m\u001b[0;34m\u001b[0m\u001b[0;34m\u001b[0m\u001b[0m\n",
      "\u001b[0;32m~/opt/anaconda3/lib/python3.7/site-packages/pandas/core/arrays/datetimelike.py\u001b[0m in \u001b[0;36mwrapper\u001b[0;34m(self, other)\u001b[0m\n\u001b[1;32m     72\u001b[0m         \u001b[0;32mif\u001b[0m \u001b[0misinstance\u001b[0m\u001b[0;34m(\u001b[0m\u001b[0mother\u001b[0m\u001b[0;34m,\u001b[0m \u001b[0mself\u001b[0m\u001b[0;34m.\u001b[0m\u001b[0m_recognized_scalars\u001b[0m\u001b[0;34m)\u001b[0m \u001b[0;32mor\u001b[0m \u001b[0mother\u001b[0m \u001b[0;32mis\u001b[0m \u001b[0mNaT\u001b[0m\u001b[0;34m:\u001b[0m\u001b[0;34m\u001b[0m\u001b[0;34m\u001b[0m\u001b[0m\n\u001b[1;32m     73\u001b[0m             \u001b[0mother\u001b[0m \u001b[0;34m=\u001b[0m \u001b[0mself\u001b[0m\u001b[0;34m.\u001b[0m\u001b[0m_scalar_type\u001b[0m\u001b[0;34m(\u001b[0m\u001b[0mother\u001b[0m\u001b[0;34m)\u001b[0m\u001b[0;34m\u001b[0m\u001b[0;34m\u001b[0m\u001b[0m\n\u001b[0;32m---> 74\u001b[0;31m             \u001b[0mself\u001b[0m\u001b[0;34m.\u001b[0m\u001b[0m_check_compatible_with\u001b[0m\u001b[0;34m(\u001b[0m\u001b[0mother\u001b[0m\u001b[0;34m)\u001b[0m\u001b[0;34m\u001b[0m\u001b[0;34m\u001b[0m\u001b[0m\n\u001b[0m\u001b[1;32m     75\u001b[0m \u001b[0;34m\u001b[0m\u001b[0m\n\u001b[1;32m     76\u001b[0m             \u001b[0mother_i8\u001b[0m \u001b[0;34m=\u001b[0m \u001b[0mself\u001b[0m\u001b[0;34m.\u001b[0m\u001b[0m_unbox_scalar\u001b[0m\u001b[0;34m(\u001b[0m\u001b[0mother\u001b[0m\u001b[0;34m)\u001b[0m\u001b[0;34m\u001b[0m\u001b[0;34m\u001b[0m\u001b[0m\n",
      "\u001b[0;32m~/opt/anaconda3/lib/python3.7/site-packages/pandas/core/arrays/datetimes.py\u001b[0m in \u001b[0;36m_check_compatible_with\u001b[0;34m(self, other, setitem)\u001b[0m\n\u001b[1;32m    460\u001b[0m         \u001b[0;32mif\u001b[0m \u001b[0mother\u001b[0m \u001b[0;32mis\u001b[0m \u001b[0mNaT\u001b[0m\u001b[0;34m:\u001b[0m\u001b[0;34m\u001b[0m\u001b[0;34m\u001b[0m\u001b[0m\n\u001b[1;32m    461\u001b[0m             \u001b[0;32mreturn\u001b[0m\u001b[0;34m\u001b[0m\u001b[0;34m\u001b[0m\u001b[0m\n\u001b[0;32m--> 462\u001b[0;31m         \u001b[0mself\u001b[0m\u001b[0;34m.\u001b[0m\u001b[0m_assert_tzawareness_compat\u001b[0m\u001b[0;34m(\u001b[0m\u001b[0mother\u001b[0m\u001b[0;34m)\u001b[0m\u001b[0;34m\u001b[0m\u001b[0;34m\u001b[0m\u001b[0m\n\u001b[0m\u001b[1;32m    463\u001b[0m         \u001b[0;32mif\u001b[0m \u001b[0msetitem\u001b[0m\u001b[0;34m:\u001b[0m\u001b[0;34m\u001b[0m\u001b[0;34m\u001b[0m\u001b[0m\n\u001b[1;32m    464\u001b[0m             \u001b[0;31m# Stricter check for setitem vs comparison methods\u001b[0m\u001b[0;34m\u001b[0m\u001b[0;34m\u001b[0m\u001b[0;34m\u001b[0m\u001b[0m\n",
      "\u001b[0;32m~/opt/anaconda3/lib/python3.7/site-packages/pandas/core/arrays/datetimes.py\u001b[0m in \u001b[0;36m_assert_tzawareness_compat\u001b[0;34m(self, other)\u001b[0m\n\u001b[1;32m    645\u001b[0m         \u001b[0;32melif\u001b[0m \u001b[0mother_tz\u001b[0m \u001b[0;32mis\u001b[0m \u001b[0;32mNone\u001b[0m\u001b[0;34m:\u001b[0m\u001b[0;34m\u001b[0m\u001b[0;34m\u001b[0m\u001b[0m\n\u001b[1;32m    646\u001b[0m             raise TypeError(\n\u001b[0;32m--> 647\u001b[0;31m                 \u001b[0;34m\"Cannot compare tz-naive and tz-aware datetime-like objects\"\u001b[0m\u001b[0;34m\u001b[0m\u001b[0;34m\u001b[0m\u001b[0m\n\u001b[0m\u001b[1;32m    648\u001b[0m             )\n\u001b[1;32m    649\u001b[0m \u001b[0;34m\u001b[0m\u001b[0m\n",
      "\u001b[0;31mTypeError\u001b[0m: Cannot compare tz-naive and tz-aware datetime-like objects"
     ]
    }
   ],
   "source": [
    "hits_df.loc[lambda df: df['CreationTime']  > datetime.datetime(2021, 10, 1, tzinfo=datetime.tzinfo)]"
   ]
  },
  {
   "cell_type": "code",
   "execution_count": null,
   "metadata": {},
   "outputs": [],
   "source": []
  },
  {
   "cell_type": "code",
   "execution_count": null,
   "metadata": {},
   "outputs": [],
   "source": []
  },
  {
   "cell_type": "code",
   "execution_count": null,
   "metadata": {},
   "outputs": [],
   "source": []
  },
  {
   "cell_type": "code",
   "execution_count": null,
   "metadata": {},
   "outputs": [],
   "source": []
  },
  {
   "cell_type": "code",
   "execution_count": null,
   "metadata": {},
   "outputs": [],
   "source": []
  },
  {
   "cell_type": "code",
   "execution_count": 181,
   "metadata": {},
   "outputs": [],
   "source": [
    "from importlib import reload"
   ]
  },
  {
   "cell_type": "code",
   "execution_count": 183,
   "metadata": {},
   "outputs": [
    {
     "data": {
      "text/plain": [
       "<module 'mturk.utils_mturk' from '../evaluation/mturk/utils_mturk.py'>"
      ]
     },
     "execution_count": 183,
     "metadata": {},
     "output_type": "execute_result"
    }
   ],
   "source": [
    "reload(um)"
   ]
  },
  {
   "cell_type": "code",
   "execution_count": null,
   "metadata": {},
   "outputs": [],
   "source": []
  },
  {
   "cell_type": "code",
   "execution_count": null,
   "metadata": {},
   "outputs": [],
   "source": []
  },
  {
   "cell_type": "code",
   "execution_count": 92,
   "metadata": {
    "scrolled": true
   },
   "outputs": [
    {
     "data": {
      "text/plain": [
       "[{'version': 1,\n",
       "  'sent_idx': 0,\n",
       "  'sentence': 'TAIPEI, Taiwan — A man fatally stabbed six nurses and a manager on Thursday at a Chinese military hospital in a seaside area famous for gatherings of Communist Party leaders, police officials in China said.'}]"
      ]
     },
     "execution_count": 92,
     "metadata": {},
     "output_type": "execute_result"
    }
   ],
   "source": [
    "list(filter(lambda x: x['version'] == 1 and x['sent_idx'] == 0, data['nodes']))"
   ]
  },
  {
   "cell_type": "code",
   "execution_count": null,
   "metadata": {},
   "outputs": [],
   "source": []
  },
  {
   "cell_type": "code",
   "execution_count": 97,
   "metadata": {},
   "outputs": [],
   "source": [
    "t1 = \"TAIPEI, Taiwan — Police officials in China said Thursday that they arrested a man suspected of stabbing to death six nurses and a manager at a Chinese military sanitarium in a seaside area famous for gatherings of Communist Party leaders.\"\n",
    "t2 = \"TAIPEI, Taiwan — A man fatally stabbed six nurses and a manager on Thursday at a Chinese military hospital in a seaside area famous for gatherings of Communist Party leaders, police officials in China said.\"\n",
    "\n",
    "t1 = 'ZABUL, Afghanistan — A complex attack on a military base in southern Afghanistan Monday left at least one member of U.S.-led coalition forces dead.'\n",
    "t2 = 'ZABUL, Afghanistan — A complex attack on a military base in southern Afghanistan Monday killed at least one member of the U.S.-led coalition forces.'"
   ]
  },
  {
   "cell_type": "code",
   "execution_count": 98,
   "metadata": {},
   "outputs": [],
   "source": [
    "import sys\n",
    "sys.path.insert(0, '../')\n",
    "import util.util_newssniffer_parsing as unp"
   ]
  },
  {
   "cell_type": "code",
   "execution_count": 99,
   "metadata": {},
   "outputs": [
    {
     "data": {
      "text/plain": [
       "('ZABUL , Afghanistan — A complex attack on a military base in southern Afghanistan Monday <span style=\"background-color:rgba(255,0,0,0.3)\">left</span>  at least one member of  U.S.-led coalition forces <span style=\"background-color:rgba(255,0,0,0.3)\">dead</span> .',\n",
       " 'ZABUL , Afghanistan — A complex attack on a military base in southern Afghanistan Monday  <span style=\"background-color:rgba(0,255,0,0.3)\">killed </span> at least one member of <span style=\"background-color:rgba(0,255,0,0.3)\">the </span> U.S.-led coalition forces  .')"
      ]
     },
     "execution_count": 99,
     "metadata": {},
     "output_type": "execute_result"
    }
   ],
   "source": [
    "unp.html_compare_sentences(t1, t2)"
   ]
  },
  {
   "cell_type": "code",
   "execution_count": null,
   "metadata": {},
   "outputs": [],
   "source": []
  },
  {
   "cell_type": "code",
   "execution_count": 101,
   "metadata": {},
   "outputs": [],
   "source": [
    "t1= 'The police said the suspect in the killings Thursday morning in Beidaihe, a resort area in the Hebei Province city of Qinhuangdao, is a sanitarium employee, indicating the attack was likely not the result of a dispute over a patient’s treatment-- the suspect, a 27-year-old man, had no known conflict with the victims, who were killed in a women’s dormitory at the hospital, the Qinhuangdao City Public Security Bureau said in a statement online.'\n",
    "\n",
    "t2 = 'The suspect, a 27-year-old hospital employee who had no known motive, was arrested after the attacks, the Qinhuangdao City Public Security Bureau said in a statement online.'\n",
    "t3 = 'The stabbings took place Thursday morning in Beidaihe, a resort area in the Hebei Province city of Qinhuangdao, about 180 miles east of Beijing.'\n",
    "t4 = 'But the fact that the suspect in the Beidaihe case is an employee indicates that the attack was probably not the result of a dispute over a patient’s treatment.'\n",
    "t5 = 'The victims were killed in a women’s dormitory at the hospital for elderly military personnel, also known as People’s Liberation Army Hospital 281, the statement said.'"
   ]
  },
  {
   "cell_type": "code",
   "execution_count": 108,
   "metadata": {},
   "outputs": [],
   "source": [
    "import pyperclip\n",
    "pyperclip.copy(unp.html_compare_sentences(t1, t5)[1])"
   ]
  },
  {
   "cell_type": "code",
   "execution_count": null,
   "metadata": {},
   "outputs": [],
   "source": []
  }
 ],
 "metadata": {
  "hide_input": false,
  "kernelspec": {
   "display_name": "Python 3",
   "language": "python",
   "name": "python3"
  },
  "language_info": {
   "codemirror_mode": {
    "name": "ipython",
    "version": 3
   },
   "file_extension": ".py",
   "mimetype": "text/x-python",
   "name": "python",
   "nbconvert_exporter": "python",
   "pygments_lexer": "ipython3",
   "version": "3.7.6"
  }
 },
 "nbformat": 4,
 "nbformat_minor": 4
}
