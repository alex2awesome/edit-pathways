{
 "cells": [
  {
   "cell_type": "markdown",
   "metadata": {},
   "source": [
    "\n",
    "# Select Data for Annotation"
   ]
  },
  {
   "cell_type": "code",
   "execution_count": null,
   "metadata": {
    "scrolled": true
   },
   "outputs": [],
   "source": [
    "! pip install boto3"
   ]
  },
  {
   "cell_type": "code",
   "execution_count": 1,
   "metadata": {},
   "outputs": [],
   "source": [
    "import unidecode\n",
    "import sys\n",
    "sys.path.insert(0, '../util/')\n",
    "import util_refactorings as ur\n",
    "import util_data_access as uda\n",
    "import util_data_fetching_for_app as udfa\n",
    "import sqlite3\n",
    "import pandas as pd \n",
    "import os \n",
    "\n",
    "if False:\n",
    "    t = pd.read_sql('''SELECT \n",
    "                        name\n",
    "                    FROM \n",
    "                        sqlite_master \n",
    "                    WHERE \n",
    "                        type ='table' AND \n",
    "                        name NOT LIKE 'sqlite_%';\n",
    "    ''', con=conn)"
   ]
  },
  {
   "cell_type": "code",
   "execution_count": 2,
   "metadata": {},
   "outputs": [],
   "source": [
    "source = 'nyt'"
   ]
  },
  {
   "cell_type": "code",
   "execution_count": 3,
   "metadata": {},
   "outputs": [],
   "source": [
    "import glob\n",
    "# files = glob.glob('../data/diffengine-diffs/spark-output/*')\n",
    "files = glob.glob('../../news-edits-dbs/matched-sentences/*')"
   ]
  },
  {
   "cell_type": "code",
   "execution_count": 4,
   "metadata": {},
   "outputs": [],
   "source": [
    "all_output = []"
   ]
  },
  {
   "cell_type": "code",
   "execution_count": 6,
   "metadata": {},
   "outputs": [],
   "source": [
    "# files"
   ]
  },
  {
   "cell_type": "code",
   "execution_count": 7,
   "metadata": {
    "scrolled": true
   },
   "outputs": [
    {
     "name": "stdout",
     "output_type": "stream",
     "text": [
      "doing nyt\n",
      "doing ap\n",
      "doing calgaryherald\n",
      "doing independent\n",
      "doing dailymail\n",
      "doing nationalpost\n",
      "doing cbc\n"
     ]
    },
    {
     "ename": "DatabaseError",
     "evalue": "Execution failed on sql '\n        with c1 as (\n            SELECT entry_id, \n                    CAST(version as INT) as version, \n                    COUNT(1) as c from split_sentences \n                GROUP BY entry_id, version\n        )\n        SELECT entry_id, version from c1\n        WHERE c < 15 and c > 3\n    ': no such table: split_sentences",
     "output_type": "error",
     "traceback": [
      "\u001b[0;31m---------------------------------------------------------------------------\u001b[0m",
      "\u001b[0;31mOperationalError\u001b[0m                          Traceback (most recent call last)",
      "File \u001b[0;32m~/miniconda3/lib/python3.12/site-packages/pandas/io/sql.py:2674\u001b[0m, in \u001b[0;36mSQLiteDatabase.execute\u001b[0;34m(self, sql, params)\u001b[0m\n\u001b[1;32m   2673\u001b[0m \u001b[38;5;28;01mtry\u001b[39;00m:\n\u001b[0;32m-> 2674\u001b[0m     \u001b[43mcur\u001b[49m\u001b[38;5;241;43m.\u001b[39;49m\u001b[43mexecute\u001b[49m\u001b[43m(\u001b[49m\u001b[43msql\u001b[49m\u001b[43m,\u001b[49m\u001b[43m \u001b[49m\u001b[38;5;241;43m*\u001b[39;49m\u001b[43margs\u001b[49m\u001b[43m)\u001b[49m\n\u001b[1;32m   2675\u001b[0m     \u001b[38;5;28;01mreturn\u001b[39;00m cur\n",
      "\u001b[0;31mOperationalError\u001b[0m: no such table: split_sentences",
      "\nThe above exception was the direct cause of the following exception:\n",
      "\u001b[0;31mDatabaseError\u001b[0m                             Traceback (most recent call last)",
      "Cell \u001b[0;32mIn[7], line 9\u001b[0m\n\u001b[1;32m      6\u001b[0m     f \u001b[38;5;241m=\u001b[39m f\u001b[38;5;241m.\u001b[39mreplace(\u001b[38;5;124m'\u001b[39m\u001b[38;5;124m.gz\u001b[39m\u001b[38;5;124m'\u001b[39m, \u001b[38;5;124m'\u001b[39m\u001b[38;5;124m'\u001b[39m)\n\u001b[1;32m      8\u001b[0m conn \u001b[38;5;241m=\u001b[39m sqlite3\u001b[38;5;241m.\u001b[39mconnect(f)\n\u001b[0;32m----> 9\u001b[0m matched_sentences, split_sentences \u001b[38;5;241m=\u001b[39m \u001b[43mudfa\u001b[49m\u001b[38;5;241;43m.\u001b[39;49m\u001b[43mget_data_from_sqlite_by_sent_cutoffs\u001b[49m\u001b[43m(\u001b[49m\u001b[43msource\u001b[49m\u001b[43m,\u001b[49m\u001b[43m \u001b[49m\u001b[43mconn\u001b[49m\u001b[43m)\u001b[49m\n\u001b[1;32m     10\u001b[0m output \u001b[38;5;241m=\u001b[39m udfa\u001b[38;5;241m.\u001b[39mmatch_sentences(matched_sentences, split_sentences)\n\u001b[1;32m     11\u001b[0m all_output\u001b[38;5;241m.\u001b[39mappend(output)\n",
      "File \u001b[0;32m~/Projects/usc-research/edit-pathways/notebooks/../util/util_data_fetching_for_app.py:42\u001b[0m, in \u001b[0;36mget_data_from_sqlite_by_sent_cutoffs\u001b[0;34m(source, conn, high_sent_count, low_sent_count)\u001b[0m\n\u001b[1;32m     41\u001b[0m \u001b[38;5;28;01mdef\u001b[39;00m \u001b[38;5;21mget_data_from_sqlite_by_sent_cutoffs\u001b[39m(source, conn, high_sent_count\u001b[38;5;241m=\u001b[39m\u001b[38;5;241m15\u001b[39m, low_sent_count\u001b[38;5;241m=\u001b[39m\u001b[38;5;241m3\u001b[39m):\n\u001b[0;32m---> 42\u001b[0m     low_count_versions \u001b[38;5;241m=\u001b[39m \u001b[43mget_low_count_versions\u001b[49m\u001b[43m(\u001b[49m\u001b[43mconn\u001b[49m\u001b[43m,\u001b[49m\u001b[43m \u001b[49m\u001b[43mhigh_sent_count\u001b[49m\u001b[43m,\u001b[49m\u001b[43m \u001b[49m\u001b[43mlow_sent_count\u001b[49m\u001b[43m)\u001b[49m\n\u001b[1;32m     43\u001b[0m     join_keys \u001b[38;5;241m=\u001b[39m get_join_keys(low_count_versions)\n\u001b[1;32m     44\u001b[0m     \u001b[38;5;28;01mreturn\u001b[39;00m get_data_from_sqlite_by_sentence_criteria(source, conn, join_keys)\n",
      "File \u001b[0;32m~/Projects/usc-research/edit-pathways/notebooks/../util/util_data_fetching_for_app.py:8\u001b[0m, in \u001b[0;36mget_low_count_versions\u001b[0;34m(conn, high_sent_count, low_sent_count)\u001b[0m\n\u001b[1;32m      5\u001b[0m \u001b[38;5;28;01mdef\u001b[39;00m \u001b[38;5;21mget_low_count_versions\u001b[39m(conn, high_sent_count\u001b[38;5;241m=\u001b[39m\u001b[38;5;241m15\u001b[39m, low_sent_count\u001b[38;5;241m=\u001b[39m\u001b[38;5;241m3\u001b[39m):\n\u001b[1;32m      6\u001b[0m \u001b[38;5;250m    \u001b[39m\u001b[38;5;124;03m\"\"\"Get DF from `split_sentences` with a low and high sentence cutoff.\"\"\"\u001b[39;00m\n\u001b[0;32m----> 8\u001b[0m     low_count_versions \u001b[38;5;241m=\u001b[39m \u001b[43mpd\u001b[49m\u001b[38;5;241;43m.\u001b[39;49m\u001b[43mread_sql\u001b[49m\u001b[43m(\u001b[49m\u001b[38;5;124;43m'''\u001b[39;49m\n\u001b[1;32m      9\u001b[0m \u001b[38;5;124;43m        with c1 as (\u001b[39;49m\n\u001b[1;32m     10\u001b[0m \u001b[38;5;124;43m            SELECT entry_id, \u001b[39;49m\n\u001b[1;32m     11\u001b[0m \u001b[38;5;124;43m                    CAST(version as INT) as version, \u001b[39;49m\n\u001b[1;32m     12\u001b[0m \u001b[38;5;124;43m                    COUNT(1) as c from split_sentences \u001b[39;49m\n\u001b[1;32m     13\u001b[0m \u001b[38;5;124;43m                GROUP BY entry_id, version\u001b[39;49m\n\u001b[1;32m     14\u001b[0m \u001b[38;5;124;43m        )\u001b[39;49m\n\u001b[1;32m     15\u001b[0m \u001b[38;5;124;43m        SELECT entry_id, version from c1\u001b[39;49m\n\u001b[1;32m     16\u001b[0m \u001b[38;5;124;43m        WHERE c < \u001b[39;49m\u001b[38;5;132;43;01m%s\u001b[39;49;00m\u001b[38;5;124;43m and c > \u001b[39;49m\u001b[38;5;132;43;01m%s\u001b[39;49;00m\n\u001b[1;32m     17\u001b[0m \u001b[38;5;124;43m    \u001b[39;49m\u001b[38;5;124;43m'''\u001b[39;49m\u001b[43m \u001b[49m\u001b[38;5;241;43m%\u001b[39;49m\u001b[43m \u001b[49m\u001b[43m(\u001b[49m\u001b[43mhigh_sent_count\u001b[49m\u001b[43m,\u001b[49m\u001b[43m \u001b[49m\u001b[43mlow_sent_count\u001b[49m\u001b[43m)\u001b[49m\u001b[43m,\u001b[49m\u001b[43m \u001b[49m\u001b[43mcon\u001b[49m\u001b[38;5;241;43m=\u001b[39;49m\u001b[43mconn\u001b[49m\u001b[43m)\u001b[49m\n\u001b[1;32m     18\u001b[0m     \u001b[38;5;28;01mreturn\u001b[39;00m low_count_versions\n",
      "File \u001b[0;32m~/miniconda3/lib/python3.12/site-packages/pandas/io/sql.py:706\u001b[0m, in \u001b[0;36mread_sql\u001b[0;34m(sql, con, index_col, coerce_float, params, parse_dates, columns, chunksize, dtype_backend, dtype)\u001b[0m\n\u001b[1;32m    704\u001b[0m \u001b[38;5;28;01mwith\u001b[39;00m pandasSQL_builder(con) \u001b[38;5;28;01mas\u001b[39;00m pandas_sql:\n\u001b[1;32m    705\u001b[0m     \u001b[38;5;28;01mif\u001b[39;00m \u001b[38;5;28misinstance\u001b[39m(pandas_sql, SQLiteDatabase):\n\u001b[0;32m--> 706\u001b[0m         \u001b[38;5;28;01mreturn\u001b[39;00m \u001b[43mpandas_sql\u001b[49m\u001b[38;5;241;43m.\u001b[39;49m\u001b[43mread_query\u001b[49m\u001b[43m(\u001b[49m\n\u001b[1;32m    707\u001b[0m \u001b[43m            \u001b[49m\u001b[43msql\u001b[49m\u001b[43m,\u001b[49m\n\u001b[1;32m    708\u001b[0m \u001b[43m            \u001b[49m\u001b[43mindex_col\u001b[49m\u001b[38;5;241;43m=\u001b[39;49m\u001b[43mindex_col\u001b[49m\u001b[43m,\u001b[49m\n\u001b[1;32m    709\u001b[0m \u001b[43m            \u001b[49m\u001b[43mparams\u001b[49m\u001b[38;5;241;43m=\u001b[39;49m\u001b[43mparams\u001b[49m\u001b[43m,\u001b[49m\n\u001b[1;32m    710\u001b[0m \u001b[43m            \u001b[49m\u001b[43mcoerce_float\u001b[49m\u001b[38;5;241;43m=\u001b[39;49m\u001b[43mcoerce_float\u001b[49m\u001b[43m,\u001b[49m\n\u001b[1;32m    711\u001b[0m \u001b[43m            \u001b[49m\u001b[43mparse_dates\u001b[49m\u001b[38;5;241;43m=\u001b[39;49m\u001b[43mparse_dates\u001b[49m\u001b[43m,\u001b[49m\n\u001b[1;32m    712\u001b[0m \u001b[43m            \u001b[49m\u001b[43mchunksize\u001b[49m\u001b[38;5;241;43m=\u001b[39;49m\u001b[43mchunksize\u001b[49m\u001b[43m,\u001b[49m\n\u001b[1;32m    713\u001b[0m \u001b[43m            \u001b[49m\u001b[43mdtype_backend\u001b[49m\u001b[38;5;241;43m=\u001b[39;49m\u001b[43mdtype_backend\u001b[49m\u001b[43m,\u001b[49m\n\u001b[1;32m    714\u001b[0m \u001b[43m            \u001b[49m\u001b[43mdtype\u001b[49m\u001b[38;5;241;43m=\u001b[39;49m\u001b[43mdtype\u001b[49m\u001b[43m,\u001b[49m\n\u001b[1;32m    715\u001b[0m \u001b[43m        \u001b[49m\u001b[43m)\u001b[49m\n\u001b[1;32m    717\u001b[0m     \u001b[38;5;28;01mtry\u001b[39;00m:\n\u001b[1;32m    718\u001b[0m         _is_table_name \u001b[38;5;241m=\u001b[39m pandas_sql\u001b[38;5;241m.\u001b[39mhas_table(sql)\n",
      "File \u001b[0;32m~/miniconda3/lib/python3.12/site-packages/pandas/io/sql.py:2738\u001b[0m, in \u001b[0;36mSQLiteDatabase.read_query\u001b[0;34m(self, sql, index_col, coerce_float, parse_dates, params, chunksize, dtype, dtype_backend)\u001b[0m\n\u001b[1;32m   2727\u001b[0m \u001b[38;5;28;01mdef\u001b[39;00m \u001b[38;5;21mread_query\u001b[39m(\n\u001b[1;32m   2728\u001b[0m     \u001b[38;5;28mself\u001b[39m,\n\u001b[1;32m   2729\u001b[0m     sql,\n\u001b[0;32m   (...)\u001b[0m\n\u001b[1;32m   2736\u001b[0m     dtype_backend: DtypeBackend \u001b[38;5;241m|\u001b[39m Literal[\u001b[38;5;124m\"\u001b[39m\u001b[38;5;124mnumpy\u001b[39m\u001b[38;5;124m\"\u001b[39m] \u001b[38;5;241m=\u001b[39m \u001b[38;5;124m\"\u001b[39m\u001b[38;5;124mnumpy\u001b[39m\u001b[38;5;124m\"\u001b[39m,\n\u001b[1;32m   2737\u001b[0m ) \u001b[38;5;241m-\u001b[39m\u001b[38;5;241m>\u001b[39m DataFrame \u001b[38;5;241m|\u001b[39m Iterator[DataFrame]:\n\u001b[0;32m-> 2738\u001b[0m     cursor \u001b[38;5;241m=\u001b[39m \u001b[38;5;28;43mself\u001b[39;49m\u001b[38;5;241;43m.\u001b[39;49m\u001b[43mexecute\u001b[49m\u001b[43m(\u001b[49m\u001b[43msql\u001b[49m\u001b[43m,\u001b[49m\u001b[43m \u001b[49m\u001b[43mparams\u001b[49m\u001b[43m)\u001b[49m\n\u001b[1;32m   2739\u001b[0m     columns \u001b[38;5;241m=\u001b[39m [col_desc[\u001b[38;5;241m0\u001b[39m] \u001b[38;5;28;01mfor\u001b[39;00m col_desc \u001b[38;5;129;01min\u001b[39;00m cursor\u001b[38;5;241m.\u001b[39mdescription]\n\u001b[1;32m   2741\u001b[0m     \u001b[38;5;28;01mif\u001b[39;00m chunksize \u001b[38;5;129;01mis\u001b[39;00m \u001b[38;5;129;01mnot\u001b[39;00m \u001b[38;5;28;01mNone\u001b[39;00m:\n",
      "File \u001b[0;32m~/miniconda3/lib/python3.12/site-packages/pandas/io/sql.py:2686\u001b[0m, in \u001b[0;36mSQLiteDatabase.execute\u001b[0;34m(self, sql, params)\u001b[0m\n\u001b[1;32m   2683\u001b[0m     \u001b[38;5;28;01mraise\u001b[39;00m ex \u001b[38;5;28;01mfrom\u001b[39;00m \u001b[38;5;21;01minner_exc\u001b[39;00m\n\u001b[1;32m   2685\u001b[0m ex \u001b[38;5;241m=\u001b[39m DatabaseError(\u001b[38;5;124mf\u001b[39m\u001b[38;5;124m\"\u001b[39m\u001b[38;5;124mExecution failed on sql \u001b[39m\u001b[38;5;124m'\u001b[39m\u001b[38;5;132;01m{\u001b[39;00msql\u001b[38;5;132;01m}\u001b[39;00m\u001b[38;5;124m'\u001b[39m\u001b[38;5;124m: \u001b[39m\u001b[38;5;132;01m{\u001b[39;00mexc\u001b[38;5;132;01m}\u001b[39;00m\u001b[38;5;124m\"\u001b[39m)\n\u001b[0;32m-> 2686\u001b[0m \u001b[38;5;28;01mraise\u001b[39;00m ex \u001b[38;5;28;01mfrom\u001b[39;00m \u001b[38;5;21;01mexc\u001b[39;00m\n",
      "\u001b[0;31mDatabaseError\u001b[0m: Execution failed on sql '\n        with c1 as (\n            SELECT entry_id, \n                    CAST(version as INT) as version, \n                    COUNT(1) as c from split_sentences \n                GROUP BY entry_id, version\n        )\n        SELECT entry_id, version from c1\n        WHERE c < 15 and c > 3\n    ': no such table: split_sentences"
     ]
    }
   ],
   "source": [
    "for f in files[1:]:\n",
    "    source = f.split('/')[-1].split('-')[0]\n",
    "    print('doing %s' % source)\n",
    "    if '.gz' in f:\n",
    "        ! gunzip $f\n",
    "        f = f.replace('.gz', '')\n",
    "\n",
    "    conn = sqlite3.connect(f)\n",
    "    matched_sentences, split_sentences = udfa.get_data_from_sqlite_by_sent_cutoffs(source, conn)\n",
    "    output = udfa.match_sentences(matched_sentences, split_sentences)\n",
    "    all_output.append(output)\n",
    "\n",
    "    # zipping up again \n",
    "    ! gzip $f"
   ]
  },
  {
   "cell_type": "code",
   "execution_count": 8,
   "metadata": {},
   "outputs": [],
   "source": [
    "all_output_df = pd.concat(all_output)"
   ]
  },
  {
   "cell_type": "code",
   "execution_count": null,
   "metadata": {},
   "outputs": [],
   "source": []
  },
  {
   "cell_type": "code",
   "execution_count": null,
   "metadata": {},
   "outputs": [],
   "source": []
  },
  {
   "cell_type": "code",
   "execution_count": null,
   "metadata": {
    "scrolled": true
   },
   "outputs": [],
   "source": [
    "all_output_df = pd.read_pickle('cache/all-short-documents-eval-processed.pkl')"
   ]
  },
  {
   "cell_type": "code",
   "execution_count": null,
   "metadata": {},
   "outputs": [],
   "source": [
    "ls ../mo"
   ]
  },
  {
   "cell_type": "code",
   "execution_count": 19,
   "metadata": {},
   "outputs": [],
   "source": [
    "# all_output_df.to_pickle('cache/all-short-documents-eval-processed.pkl')\n",
    "\n",
    "count_df = pd.read_csv('../modeling/data/training_data_short_15.csv.gz')\n",
    "\n",
    "count_df = count_df.set_index(['source', 'entry_id', 'version'])\n",
    "\n",
    "count_df_sums = (\n",
    "    count_df\n",
    "    .assign(num_sents=1)\n",
    "    .assign(refactored_up=lambda df: (df['refactored_label'] < 0).astype(int))\n",
    "    .assign(refactored_down=lambda df: (df['refactored_label'] > 0).astype(int))\n",
    "    .drop(['sent_idx', 'sentence'], axis=1)\n",
    "    .groupby(level=[0, 1, 2])\n",
    "    .sum()\n",
    ")\n",
    "\n",
    "all_output_df_w_counts = pd.merge(\n",
    "    left=count_df_sums.reset_index(),\n",
    "    right=all_output_df.reset_index(),\n",
    "    left_on=['source', 'entry_id', 'version'],\n",
    "    right_on=['source', 'entry_id', 'version_x']\n",
    ").set_index(['source', 'entry_id', 'version_x', 'version_y']).drop(['version'], axis=1)\n",
    "\n",
    "all_output_df_w_counts = (all_output_df_w_counts\n",
    " .loc[lambda df: (df['num_sents'] > 5) & (df['num_sents'] < 10)]\n",
    ")\n",
    "\n",
    "all_output_df_w_counts['refactored_up'].value_counts()\n",
    "\n",
    "all_output_df_w_counts['refactored_up'].value_counts()\n",
    "\n",
    "add_above_weights = (\n",
    "    all_output_df_w_counts['add_above_label']\n",
    "    .value_counts()\n",
    "    .sort_index()\n",
    "    .pipe(lambda s: 1/s)\n",
    "    .to_frame('add_weight')\n",
    "    .reset_index()\n",
    ")\n",
    "\n",
    "delete_weights = (\n",
    "    all_output_df_w_counts['deleted_label']\n",
    "    .value_counts()\n",
    "    .sort_index()\n",
    "    .pipe(lambda s: 1/s)\n",
    "    .to_frame('del_weight')\n",
    "    .reset_index()\n",
    "\n",
    ")\n",
    "\n",
    "refactored_weights = (\n",
    "    all_output_df_w_counts['refactored_up']\n",
    "    .value_counts()\n",
    "    .sort_index()\n",
    "    .pipe(lambda s: 1/s)\n",
    "    .to_frame('ref_weight')\n",
    "    .reset_index()\n",
    ")\n",
    "\n",
    "source_weights = (\n",
    "    all_output_df_w_counts\n",
    "    .reset_index()\n",
    "    ['source']\n",
    "    .value_counts()\n",
    "    .sort_index()\n",
    "    .pipe(lambda s: 1/s)\n",
    "    .to_frame('source_weight')\n",
    "    .reset_index()\n",
    ")\n",
    "\n",
    "ref_multiplier = 7\n",
    "t = (all_output_df_w_counts\n",
    "     .reset_index()\n",
    "     # downsample for refactoring \n",
    "     .merge(refactored_weights, left_on='refactored_up', right_on='index')\n",
    "     .pipe(lambda df: df.sample(40000, weights=df['ref_weight']))\n",
    "     # add_above_weights    \n",
    "     .merge(add_above_weights, left_on='add_above_label', right_on='index')\n",
    "     .assign(add_weight=lambda df: df.apply(lambda x: x['add_weight'] if x['refactored_up'] == 0 else x['add_weight'] * ref_multiplier, axis=1))\n",
    "     .pipe(lambda df: df.sample(16000, weights=df['add_weight']))\n",
    "     # delete weights\n",
    "     .merge(delete_weights, left_on='deleted_label', right_on='index')\n",
    "     .assign(del_weight=lambda df: df.apply(lambda x: x['del_weight'] if x['refactored_up'] == 0 else x['del_weight'] * ref_multiplier, axis=1))\n",
    "     .pipe(lambda df: df.sample(3200, weights=df['del_weight']))\n",
    "     #  source weights\n",
    "     .merge(source_weights, left_on='source', right_on='index')\n",
    "     .assign(source_weight=lambda df: df.apply(lambda x: x['source_weight'] if x['refactored_up'] == 0 else x['source_weight'] * ref_multiplier, axis=1))\n",
    "     .pipe(lambda df: df.sample(400, weights=df['source_weight']))     \n",
    ").set_index(['source', 'entry_id', 'version_x', 'version_y'])"
   ]
  },
  {
   "cell_type": "code",
   "execution_count": 65,
   "metadata": {},
   "outputs": [
    {
     "data": {
      "text/plain": [
       "0    37576\n",
       "1     2245\n",
       "2      170\n",
       "3        9\n",
       "Name: refactored_up, dtype: int64"
      ]
     },
     "execution_count": 65,
     "metadata": {},
     "output_type": "execute_result"
    }
   ],
   "source": [
    "t['refactored_up'].value_counts()"
   ]
  },
  {
   "cell_type": "code",
   "execution_count": 97,
   "metadata": {},
   "outputs": [
    {
     "data": {
      "text/plain": [
       "1    214\n",
       "0    172\n",
       "2     13\n",
       "3      1\n",
       "Name: refactored_up, dtype: int64"
      ]
     },
     "execution_count": 97,
     "metadata": {},
     "output_type": "execute_result"
    }
   ],
   "source": [
    "t['refactored_up'].value_counts()"
   ]
  },
  {
   "cell_type": "code",
   "execution_count": 98,
   "metadata": {},
   "outputs": [
    {
     "data": {
      "text/plain": [
       "bbc            96\n",
       "independent    69\n",
       "wp             64\n",
       "guardian       58\n",
       "ap             54\n",
       "nyt            37\n",
       "reuters        22\n",
       "Name: source, dtype: int64"
      ]
     },
     "execution_count": 98,
     "metadata": {},
     "output_type": "execute_result"
    }
   ],
   "source": [
    "t.reset_index('source')['source'].value_counts()"
   ]
  },
  {
   "cell_type": "code",
   "execution_count": 19,
   "metadata": {},
   "outputs": [],
   "source": [
    "## quick-n-dirty data\n",
    "t = (all_output_df\n",
    "     .loc[lambda df: df['nodes'].str.len() < 50]\n",
    "     .loc[lambda df: df['arcs'].notnull()]\n",
    "     .loc[lambda df: df['arcs'].str.len() > 4]\n",
    "     .loc[lambda df: df['arcs'].str.len() > 10]\n",
    "     .head(200)\n",
    ")\n",
    "\n",
    "output = t[['nodes', 'arcs']].to_dict(orient='index')\n",
    "output = {str(k): v for k, v in output.items()}\n",
    "import json\n",
    "with open('../evaluation/data/data-downsampled.json', 'w') as f:\n",
    "    json.dump(output, f )"
   ]
  },
  {
   "cell_type": "code",
   "execution_count": 99,
   "metadata": {},
   "outputs": [],
   "source": [
    "output = t[['nodes', 'arcs']].to_dict(orient='index')\n",
    "output = {str(k): v for k, v in output.items()}\n",
    "import json\n",
    "with open('../evaluation/data/data-downsampled.json', 'w') as f:\n",
    "    json.dump(output, f )"
   ]
  },
  {
   "cell_type": "code",
   "execution_count": 77,
   "metadata": {},
   "outputs": [
    {
     "name": "stdout",
     "output_type": "stream",
     "text": [
      "total 30328\r\n",
      "-rw-r--r--   1 alex  staff   1.8M Nov  4 23:26 data-downsampled.json\r\n",
      "drwxr-xr-x  24 alex  staff   768B Oct 13 01:10 \u001b[34moutput_data\u001b[m\u001b[m\r\n",
      "-rw-r--r--   1 alex  staff   5.0M Oct 31 20:26 sample_ap_data.json\r\n",
      "-rw-r--r--   1 alex  staff    16K Sep 16 05:15 sample_datum.json\r\n",
      "-rw-r--r--   1 alex  staff   343K Nov  3 18:13 sample_datum_corrections.json\r\n",
      "-rw-r--r--   1 alex  staff   765K Sep 21 03:46 sample_datum_many.json\r\n",
      "-rw-r--r--   1 alex  staff   6.4M Sep 22 01:22 sample_datum_many_sent_breaks.json\r\n"
     ]
    }
   ],
   "source": [
    "! ls -lh ../evaluation/data/"
   ]
  },
  {
   "cell_type": "code",
   "execution_count": 4,
   "metadata": {},
   "outputs": [],
   "source": [
    "import json\n",
    "with open('../evaluation/data/data-downsampled.json', 'r') as f:\n",
    "    output = json.load(f)"
   ]
  },
  {
   "cell_type": "code",
   "execution_count": null,
   "metadata": {},
   "outputs": [],
   "source": []
  },
  {
   "cell_type": "markdown",
   "metadata": {},
   "source": [
    "# Checks"
   ]
  },
  {
   "cell_type": "code",
   "execution_count": 14,
   "metadata": {},
   "outputs": [
    {
     "ename": "NameError",
     "evalue": "name 'matched_sentences' is not defined",
     "output_type": "error",
     "traceback": [
      "\u001b[0;31m---------------------------------------------------------------------------\u001b[0m",
      "\u001b[0;31mNameError\u001b[0m                                 Traceback (most recent call last)",
      "\u001b[0;32m<ipython-input-14-00670dd6677f>\u001b[0m in \u001b[0;36m<module>\u001b[0;34m\u001b[0m\n\u001b[0;32m----> 1\u001b[0;31m \u001b[0mmatched_sentences\u001b[0m\u001b[0;34m.\u001b[0m\u001b[0mhead\u001b[0m\u001b[0;34m(\u001b[0m\u001b[0;34m)\u001b[0m\u001b[0;34m\u001b[0m\u001b[0;34m\u001b[0m\u001b[0m\n\u001b[0m",
      "\u001b[0;31mNameError\u001b[0m: name 'matched_sentences' is not defined"
     ]
    }
   ],
   "source": [
    "matched_sentences.head()"
   ]
  },
  {
   "cell_type": "code",
   "execution_count": 16,
   "metadata": {},
   "outputs": [],
   "source": [
    "null_sents = (\n",
    "    matched_sentences\n",
    "     .groupby(['entry_id', 'version_x', 'version_y'])\n",
    "     [['sent_idx_x','sent_idx_y']]\n",
    "    .apply(lambda df: df.isnull().sum())\n",
    "    .rename(columns={'sent_idx_x': 'num_deleted', 'sent_idx_y': 'num_added'})\n",
    "    #  .sort_values(ascending=False).loc[lambda s: s <4]\n",
    ")"
   ]
  },
  {
   "cell_type": "code",
   "execution_count": 17,
   "metadata": {},
   "outputs": [],
   "source": [
    "non_zero_sents = (\n",
    "    matched_sentences\n",
    "     .groupby(['entry_id', 'version_x', 'version_y'])\n",
    "     [['avg_sentence_distance_x', 'avg_sentence_distance_y']]\n",
    "     .mean()\n",
    ")"
   ]
  },
  {
   "cell_type": "code",
   "execution_count": 18,
   "metadata": {},
   "outputs": [],
   "source": [
    "doc_level_stats = pd.concat([\n",
    "    null_sents, \n",
    "    non_zero_sents\n",
    "], axis=1)"
   ]
  },
  {
   "cell_type": "code",
   "execution_count": 19,
   "metadata": {},
   "outputs": [
    {
     "data": {
      "text/html": [
       "<div>\n",
       "<style scoped>\n",
       "    .dataframe tbody tr th:only-of-type {\n",
       "        vertical-align: middle;\n",
       "    }\n",
       "\n",
       "    .dataframe tbody tr th {\n",
       "        vertical-align: top;\n",
       "    }\n",
       "\n",
       "    .dataframe thead th {\n",
       "        text-align: right;\n",
       "    }\n",
       "</style>\n",
       "<table border=\"1\" class=\"dataframe\">\n",
       "  <thead>\n",
       "    <tr style=\"text-align: right;\">\n",
       "      <th></th>\n",
       "      <th></th>\n",
       "      <th></th>\n",
       "      <th>num_deleted</th>\n",
       "      <th>num_added</th>\n",
       "      <th>avg_sentence_distance_x</th>\n",
       "      <th>avg_sentence_distance_y</th>\n",
       "    </tr>\n",
       "    <tr>\n",
       "      <th>entry_id</th>\n",
       "      <th>version_x</th>\n",
       "      <th>version_y</th>\n",
       "      <th></th>\n",
       "      <th></th>\n",
       "      <th></th>\n",
       "      <th></th>\n",
       "    </tr>\n",
       "  </thead>\n",
       "  <tbody>\n",
       "    <tr>\n",
       "      <th>4</th>\n",
       "      <th>27</th>\n",
       "      <th>28</th>\n",
       "      <td>3</td>\n",
       "      <td>2</td>\n",
       "      <td>0.178994</td>\n",
       "      <td>0.178994</td>\n",
       "    </tr>\n",
       "    <tr>\n",
       "      <th>27</th>\n",
       "      <th>8</th>\n",
       "      <th>9</th>\n",
       "      <td>3</td>\n",
       "      <td>1</td>\n",
       "      <td>0.241061</td>\n",
       "      <td>0.241531</td>\n",
       "    </tr>\n",
       "    <tr>\n",
       "      <th rowspan=\"3\" valign=\"top\">95</th>\n",
       "      <th>1</th>\n",
       "      <th>2</th>\n",
       "      <td>3</td>\n",
       "      <td>0</td>\n",
       "      <td>0.213974</td>\n",
       "      <td>0.214219</td>\n",
       "    </tr>\n",
       "    <tr>\n",
       "      <th>3</th>\n",
       "      <th>4</th>\n",
       "      <td>3</td>\n",
       "      <td>11</td>\n",
       "      <td>0.421040</td>\n",
       "      <td>0.421040</td>\n",
       "    </tr>\n",
       "    <tr>\n",
       "      <th>19</th>\n",
       "      <th>20</th>\n",
       "      <td>3</td>\n",
       "      <td>0</td>\n",
       "      <td>0.064634</td>\n",
       "      <td>0.109541</td>\n",
       "    </tr>\n",
       "    <tr>\n",
       "      <th>...</th>\n",
       "      <th>...</th>\n",
       "      <th>...</th>\n",
       "      <td>...</td>\n",
       "      <td>...</td>\n",
       "      <td>...</td>\n",
       "      <td>...</td>\n",
       "    </tr>\n",
       "    <tr>\n",
       "      <th>21614</th>\n",
       "      <th>0</th>\n",
       "      <th>1</th>\n",
       "      <td>3</td>\n",
       "      <td>1</td>\n",
       "      <td>0.315155</td>\n",
       "      <td>0.312595</td>\n",
       "    </tr>\n",
       "    <tr>\n",
       "      <th>22460</th>\n",
       "      <th>0</th>\n",
       "      <th>1</th>\n",
       "      <td>3</td>\n",
       "      <td>0</td>\n",
       "      <td>0.131347</td>\n",
       "      <td>0.130701</td>\n",
       "    </tr>\n",
       "    <tr>\n",
       "      <th>22864</th>\n",
       "      <th>0</th>\n",
       "      <th>1</th>\n",
       "      <td>3</td>\n",
       "      <td>3</td>\n",
       "      <td>0.093593</td>\n",
       "      <td>0.093939</td>\n",
       "    </tr>\n",
       "    <tr>\n",
       "      <th>23003</th>\n",
       "      <th>0</th>\n",
       "      <th>1</th>\n",
       "      <td>3</td>\n",
       "      <td>3</td>\n",
       "      <td>0.101784</td>\n",
       "      <td>0.102017</td>\n",
       "    </tr>\n",
       "    <tr>\n",
       "      <th>23078</th>\n",
       "      <th>0</th>\n",
       "      <th>1</th>\n",
       "      <td>3</td>\n",
       "      <td>1</td>\n",
       "      <td>0.074087</td>\n",
       "      <td>0.074087</td>\n",
       "    </tr>\n",
       "  </tbody>\n",
       "</table>\n",
       "<p>399 rows × 4 columns</p>\n",
       "</div>"
      ],
      "text/plain": [
       "                              num_deleted  num_added  avg_sentence_distance_x  \\\n",
       "entry_id version_x version_y                                                    \n",
       "4        27        28                   3          2                 0.178994   \n",
       "27       8         9                    3          1                 0.241061   \n",
       "95       1         2                    3          0                 0.213974   \n",
       "         3         4                    3         11                 0.421040   \n",
       "         19        20                   3          0                 0.064634   \n",
       "...                                   ...        ...                      ...   \n",
       "21614    0         1                    3          1                 0.315155   \n",
       "22460    0         1                    3          0                 0.131347   \n",
       "22864    0         1                    3          3                 0.093593   \n",
       "23003    0         1                    3          3                 0.101784   \n",
       "23078    0         1                    3          1                 0.074087   \n",
       "\n",
       "                              avg_sentence_distance_y  \n",
       "entry_id version_x version_y                           \n",
       "4        27        28                        0.178994  \n",
       "27       8         9                         0.241531  \n",
       "95       1         2                         0.214219  \n",
       "         3         4                         0.421040  \n",
       "         19        20                        0.109541  \n",
       "...                                               ...  \n",
       "21614    0         1                         0.312595  \n",
       "22460    0         1                         0.130701  \n",
       "22864    0         1                         0.093939  \n",
       "23003    0         1                         0.102017  \n",
       "23078    0         1                         0.074087  \n",
       "\n",
       "[399 rows x 4 columns]"
      ]
     },
     "execution_count": 19,
     "metadata": {},
     "output_type": "execute_result"
    }
   ],
   "source": [
    "doc_level_stats.loc[lambda df: df['num_deleted'] == 3] ## choose all documents with 3 deletions\n",
    "## num_deleted = number of deleted sentences \n",
    "## num_added = number of added sentences \n",
    "## avg_sentence_distance_x, avg_sentence_distance_y = overall, how different are the sentences across the document?\n",
    "\n"
   ]
  },
  {
   "cell_type": "code",
   "execution_count": 20,
   "metadata": {},
   "outputs": [
    {
     "data": {
      "text/html": [
       "<div>\n",
       "<style scoped>\n",
       "    .dataframe tbody tr th:only-of-type {\n",
       "        vertical-align: middle;\n",
       "    }\n",
       "\n",
       "    .dataframe tbody tr th {\n",
       "        vertical-align: top;\n",
       "    }\n",
       "\n",
       "    .dataframe thead th {\n",
       "        text-align: right;\n",
       "    }\n",
       "</style>\n",
       "<table border=\"1\" class=\"dataframe\">\n",
       "  <thead>\n",
       "    <tr style=\"text-align: right;\">\n",
       "      <th></th>\n",
       "      <th></th>\n",
       "      <th></th>\n",
       "      <th>num_deleted</th>\n",
       "      <th>num_added</th>\n",
       "      <th>avg_sentence_distance_x</th>\n",
       "      <th>avg_sentence_distance_y</th>\n",
       "    </tr>\n",
       "    <tr>\n",
       "      <th>entry_id</th>\n",
       "      <th>version_x</th>\n",
       "      <th>version_y</th>\n",
       "      <th></th>\n",
       "      <th></th>\n",
       "      <th></th>\n",
       "      <th></th>\n",
       "    </tr>\n",
       "  </thead>\n",
       "  <tbody>\n",
       "    <tr>\n",
       "      <th rowspan=\"4\" valign=\"top\">4</th>\n",
       "      <th>12</th>\n",
       "      <th>13</th>\n",
       "      <td>4</td>\n",
       "      <td>9</td>\n",
       "      <td>0.241678</td>\n",
       "      <td>0.290792</td>\n",
       "    </tr>\n",
       "    <tr>\n",
       "      <th>13</th>\n",
       "      <th>14</th>\n",
       "      <td>7</td>\n",
       "      <td>4</td>\n",
       "      <td>0.270817</td>\n",
       "      <td>0.270708</td>\n",
       "    </tr>\n",
       "    <tr>\n",
       "      <th>21</th>\n",
       "      <th>22</th>\n",
       "      <td>2</td>\n",
       "      <td>2</td>\n",
       "      <td>0.237003</td>\n",
       "      <td>0.237003</td>\n",
       "    </tr>\n",
       "    <tr>\n",
       "      <th>28</th>\n",
       "      <th>29</th>\n",
       "      <td>4</td>\n",
       "      <td>5</td>\n",
       "      <td>0.277796</td>\n",
       "      <td>0.277796</td>\n",
       "    </tr>\n",
       "    <tr>\n",
       "      <th>5</th>\n",
       "      <th>6</th>\n",
       "      <th>7</th>\n",
       "      <td>5</td>\n",
       "      <td>4</td>\n",
       "      <td>0.244841</td>\n",
       "      <td>0.272071</td>\n",
       "    </tr>\n",
       "    <tr>\n",
       "      <th>...</th>\n",
       "      <th>...</th>\n",
       "      <th>...</th>\n",
       "      <td>...</td>\n",
       "      <td>...</td>\n",
       "      <td>...</td>\n",
       "      <td>...</td>\n",
       "    </tr>\n",
       "    <tr>\n",
       "      <th>22212</th>\n",
       "      <th>0</th>\n",
       "      <th>1</th>\n",
       "      <td>9</td>\n",
       "      <td>0</td>\n",
       "      <td>0.225256</td>\n",
       "      <td>0.186219</td>\n",
       "    </tr>\n",
       "    <tr>\n",
       "      <th>22614</th>\n",
       "      <th>0</th>\n",
       "      <th>1</th>\n",
       "      <td>7</td>\n",
       "      <td>3</td>\n",
       "      <td>0.320019</td>\n",
       "      <td>0.291688</td>\n",
       "    </tr>\n",
       "    <tr>\n",
       "      <th>22783</th>\n",
       "      <th>0</th>\n",
       "      <th>1</th>\n",
       "      <td>8</td>\n",
       "      <td>4</td>\n",
       "      <td>0.281086</td>\n",
       "      <td>0.313712</td>\n",
       "    </tr>\n",
       "    <tr>\n",
       "      <th>22914</th>\n",
       "      <th>0</th>\n",
       "      <th>1</th>\n",
       "      <td>2</td>\n",
       "      <td>2</td>\n",
       "      <td>0.260872</td>\n",
       "      <td>0.278024</td>\n",
       "    </tr>\n",
       "    <tr>\n",
       "      <th>22995</th>\n",
       "      <th>0</th>\n",
       "      <th>1</th>\n",
       "      <td>6</td>\n",
       "      <td>6</td>\n",
       "      <td>0.380042</td>\n",
       "      <td>0.380042</td>\n",
       "    </tr>\n",
       "  </tbody>\n",
       "</table>\n",
       "<p>1036 rows × 4 columns</p>\n",
       "</div>"
      ],
      "text/plain": [
       "                              num_deleted  num_added  avg_sentence_distance_x  \\\n",
       "entry_id version_x version_y                                                    \n",
       "4        12        13                   4          9                 0.241678   \n",
       "         13        14                   7          4                 0.270817   \n",
       "         21        22                   2          2                 0.237003   \n",
       "         28        29                   4          5                 0.277796   \n",
       "5        6         7                    5          4                 0.244841   \n",
       "...                                   ...        ...                      ...   \n",
       "22212    0         1                    9          0                 0.225256   \n",
       "22614    0         1                    7          3                 0.320019   \n",
       "22783    0         1                    8          4                 0.281086   \n",
       "22914    0         1                    2          2                 0.260872   \n",
       "22995    0         1                    6          6                 0.380042   \n",
       "\n",
       "                              avg_sentence_distance_y  \n",
       "entry_id version_x version_y                           \n",
       "4        12        13                        0.290792  \n",
       "         13        14                        0.270708  \n",
       "         21        22                        0.237003  \n",
       "         28        29                        0.277796  \n",
       "5        6         7                         0.272071  \n",
       "...                                               ...  \n",
       "22212    0         1                         0.186219  \n",
       "22614    0         1                         0.291688  \n",
       "22783    0         1                         0.313712  \n",
       "22914    0         1                         0.278024  \n",
       "22995    0         1                         0.380042  \n",
       "\n",
       "[1036 rows x 4 columns]"
      ]
     },
     "execution_count": 20,
     "metadata": {},
     "output_type": "execute_result"
    }
   ],
   "source": [
    "doc_level_stats.loc[lambda df: df['avg_sentence_distance_x'] > 2e-01] ## choose all documents with 3 deletions"
   ]
  },
  {
   "cell_type": "code",
   "execution_count": null,
   "metadata": {},
   "outputs": [],
   "source": []
  },
  {
   "cell_type": "code",
   "execution_count": null,
   "metadata": {},
   "outputs": [],
   "source": []
  },
  {
   "cell_type": "code",
   "execution_count": null,
   "metadata": {},
   "outputs": [],
   "source": []
  },
  {
   "cell_type": "code",
   "execution_count": 21,
   "metadata": {},
   "outputs": [],
   "source": [
    "desired_index = doc_level_stats.loc[lambda df: df['avg_sentence_distance_x'] > 2e-01]"
   ]
  },
  {
   "cell_type": "code",
   "execution_count": 22,
   "metadata": {},
   "outputs": [],
   "source": [
    "# x = 870103\n",
    "# desired_index = list(filter(lambda x: x[0] == 870103, desired_index.index))"
   ]
  },
  {
   "cell_type": "code",
   "execution_count": null,
   "metadata": {},
   "outputs": [],
   "source": []
  },
  {
   "cell_type": "code",
   "execution_count": null,
   "metadata": {},
   "outputs": [],
   "source": []
  },
  {
   "cell_type": "code",
   "execution_count": null,
   "metadata": {},
   "outputs": [],
   "source": []
  },
  {
   "cell_type": "code",
   "execution_count": null,
   "metadata": {},
   "outputs": [],
   "source": []
  },
  {
   "cell_type": "code",
   "execution_count": null,
   "metadata": {},
   "outputs": [],
   "source": [
    "# merge both\n",
    "merged_matched_sentences = (matched_sentences\n",
    " .merge(\n",
    "    split_sentences, left_on=['entry_id', 'version_x', 'sent_idx_x'], right_on=['entry_id', 'version', 'sent_idx'],\n",
    "    how='left'\n",
    " ).drop(['version', 'sent_idx', 'key', 'key_x', 'key_y'], axis=1)\n",
    " .merge(\n",
    "    split_sentences, left_on=['entry_id', 'version_y', 'sent_idx_y'], right_on=['entry_id', 'version', 'sent_idx'],\n",
    "    how='left'\n",
    " ).drop(['version', 'sent_idx', 'key',], axis=1)\n",
    ")"
   ]
  },
  {
   "cell_type": "code",
   "execution_count": null,
   "metadata": {},
   "outputs": [],
   "source": [
    "# check how many additions there are\n",
    "merged_matched_sentences.loc[lambda df: df['sent_idx_x'].isnull()]"
   ]
  },
  {
   "cell_type": "code",
   "execution_count": null,
   "metadata": {},
   "outputs": [],
   "source": []
  },
  {
   "cell_type": "markdown",
   "metadata": {},
   "source": [
    "# Launch to MTurk"
   ]
  },
  {
   "cell_type": "code",
   "execution_count": 5,
   "metadata": {},
   "outputs": [
    {
     "data": {
      "text/plain": [
       "<module 'mturk' (namespace)>"
      ]
     },
     "execution_count": 5,
     "metadata": {},
     "output_type": "execute_result"
    }
   ],
   "source": [
    "from tqdm.auto import tqdm\n",
    "import boto3\n",
    "import os\n",
    "from boto.mturk.connection import MTurkConnection\n",
    "from boto.mturk.question import HTMLQuestion\n",
    "import pandas as pd \n",
    "from boto.mturk.question import ExternalQuestion\n",
    "from IPython.display import display, HTML\n",
    "import matplotlib.pyplot as plt\n",
    "plt.rc('font', size=14)\n",
    "from importlib import reload\n",
    "from boto.mturk.qualification import (\n",
    "    Qualifications,\n",
    "    PercentAssignmentsApprovedRequirement, \n",
    "    NumberHitsApprovedRequirement\n",
    ")\n",
    "\n",
    "import sys\n",
    "sys.path.insert(0, '../evaluation/')\n",
    "\n",
    "import mturk as mturk\n",
    "import mturk.utils_mturk as um\n",
    "\n",
    "from importlib import reload\n",
    "reload(um)\n",
    "reload(mturk)"
   ]
  },
  {
   "cell_type": "code",
   "execution_count": 6,
   "metadata": {},
   "outputs": [
    {
     "name": "stdout",
     "output_type": "stream",
     "text": [
      "VN2M29BH4PCAJT9ABZKN\n",
      "O9bcBpaprrXr6Q3dorn0XYI4Kp8go6oBDBYFYqeD\n"
     ]
    }
   ],
   "source": [
    "print(os.environ['AWS_ACCESS_KEY_ID'])\n",
    "print(os.environ['AWS_SECRET_ACCESS_KEY'])"
   ]
  },
  {
   "cell_type": "code",
   "execution_count": 7,
   "metadata": {},
   "outputs": [],
   "source": [
    "from importlib import reload\n",
    "reload(um)\n",
    "\n",
    "env = 'sandbox'\n",
    "# env = 'production'\n",
    "mturk = um.MTurkHandler(environment=env) #=production/sandbox"
   ]
  },
  {
   "cell_type": "code",
   "execution_count": 43,
   "metadata": {},
   "outputs": [],
   "source": [
    "CUSTOM_QUALIFICATION = True\n",
    "# sandbox editor qualification: 3H3KEN1OLUQQR02IYZSVMYM7ESCBIO\n",
    "sandbox_journalist_qual = mturk.create_qualification('journalist')\n",
    "production_journalist_qual = mturk.create_qualification('journalist')"
   ]
  },
  {
   "cell_type": "code",
   "execution_count": 187,
   "metadata": {},
   "outputs": [
    {
     "data": {
      "text/plain": [
       "{'QualificationType': {'QualificationTypeId': '3YJP8DI8F7IJNZ5SWSN2GXBAZJF4Q2',\n",
       "  'CreationTime': datetime.datetime(2021, 11, 4, 23, 3, 23, tzinfo=tzlocal()),\n",
       "  'Name': 'journalist',\n",
       "  'Description': 'A custom qualification group given to workers we deem good.',\n",
       "  'Keywords': 'custom-group filtering',\n",
       "  'QualificationTypeStatus': 'Active',\n",
       "  'IsRequestable': True,\n",
       "  'AutoGranted': False},\n",
       " 'ResponseMetadata': {'RequestId': '0edf8c83-69c6-446a-8d20-930712b2efa7',\n",
       "  'HTTPStatusCode': 200,\n",
       "  'HTTPHeaders': {'x-amzn-requestid': '0edf8c83-69c6-446a-8d20-930712b2efa7',\n",
       "   'content-type': 'application/x-amz-json-1.1',\n",
       "   'content-length': '315',\n",
       "   'date': 'Fri, 05 Nov 2021 06:03:22 GMT'},\n",
       "  'RetryAttempts': 0}}"
      ]
     },
     "execution_count": 187,
     "metadata": {},
     "output_type": "execute_result"
    }
   ],
   "source": [
    "production_journalist_qual\n",
    "# production editor qualification: 3YJP8DI8F7IJNZ5SWSN2GXBAZJF4Q2"
   ]
  },
  {
   "cell_type": "code",
   "execution_count": 149,
   "metadata": {},
   "outputs": [
    {
     "data": {
      "text/plain": [
       "{'QualificationType': {'QualificationTypeId': '3H3KEN1OLUQQR02IYZSVMYM7ESCBIO',\n",
       "  'CreationTime': datetime.datetime(2021, 11, 4, 23, 0, 7, tzinfo=tzlocal()),\n",
       "  'Name': 'journalist',\n",
       "  'Description': 'A custom qualification group given to workers we deem good.',\n",
       "  'Keywords': 'custom-group filtering',\n",
       "  'QualificationTypeStatus': 'Active',\n",
       "  'IsRequestable': True,\n",
       "  'AutoGranted': False},\n",
       " 'ResponseMetadata': {'RequestId': '28302a92-3fef-47d4-8f02-1b93f1e08258',\n",
       "  'HTTPStatusCode': 200,\n",
       "  'HTTPHeaders': {'x-amzn-requestid': '28302a92-3fef-47d4-8f02-1b93f1e08258',\n",
       "   'content-type': 'application/x-amz-json-1.1',\n",
       "   'content-length': '315',\n",
       "   'date': 'Fri, 05 Nov 2021 06:00:07 GMT'},\n",
       "  'RetryAttempts': 0}}"
      ]
     },
     "execution_count": 149,
     "metadata": {},
     "output_type": "execute_result"
    }
   ],
   "source": [
    "sandbox_journalist_qual"
   ]
  },
  {
   "cell_type": "code",
   "execution_count": 159,
   "metadata": {},
   "outputs": [],
   "source": [
    "casey = 'A17GX84A96WF6C'\n",
    "jason = 'A2USH7VYFMU1ME'\n",
    "roberto = 'A30BGCC8EC1NW'\n",
    "meghan = 'A1685VEOIJIUMR'\n",
    "alex = 'A2E8P5A3IKROKB'\n",
    "meg = 'ASQL7ZBXI7WF6'\n",
    "mturk.give_qualification_to_workers([\n",
    "    casey,\n",
    "    jason,\n",
    "    roberto,\n",
    "    meghan,\n",
    "#     alex\n",
    "], qualification_id='3YJP8DI8F7IJNZ5SWSN2GXBAZJF4Q2')"
   ]
  },
  {
   "cell_type": "code",
   "execution_count": 188,
   "metadata": {},
   "outputs": [],
   "source": [
    "mturk.give_qualification_to_workers([meg], qualification_id='3YJP8DI8F7IJNZ5SWSN2GXBAZJF4Q2')"
   ]
  },
  {
   "cell_type": "code",
   "execution_count": 44,
   "metadata": {},
   "outputs": [],
   "source": [
    "worker_requirements = [\n",
    "    ### number of hits approved\n",
    "    {\n",
    "        'QualificationTypeId': '000000000000000000L0',\n",
    "        'Comparator': 'GreaterThanOrEqualTo',\n",
    "        'IntegerValues': [80],\n",
    "    },\n",
    "    ## worker local\n",
    "    {\n",
    "        'QualificationTypeId': '00000000000000000071',\n",
    "        'Comparator': 'EqualTo',\n",
    "        'LocaleValues': [{\n",
    "            \"Country\":\"US\",\n",
    "        }],\n",
    "        'RequiredToPreview': True,\n",
    "    },\n",
    "    ## percent assignments approved\n",
    "    {\n",
    "        'QualificationTypeId': '000000000000000000L0',\n",
    "        'Comparator': 'GreaterThanOrEqualTo',\n",
    "        'IntegerValues': [90],\n",
    "    },\n",
    "]\n",
    "\n",
    "## custom qualification\n",
    "if CUSTOM_QUALIFICATION:\n",
    "    worker_requirements = []\n",
    "    if env == 'production':\n",
    "        worker_requirements.append({\n",
    "#             'QualificationTypeId': '3WZ6PU0JYXSTA4EIPF2M6S1CMZ7KL8',\n",
    "            'QualificationTypeId': '3YJP8DI8F7IJNZ5SWSN2GXBAZJF4Q2', # journalists\n",
    "            'Comparator': 'GreaterThanOrEqualTo',\n",
    "            'IntegerValues': [90],      \n",
    "        })\n",
    "    else:\n",
    "        worker_requirements.append({\n",
    "#             'QualificationTypeId': '381R35RGJFFV6VLBBDX2MLZFNSH414',  ## UCLA students\n",
    "            'QualificationTypeId': '3H3KEN1OLUQQR02IYZSVMYM7ESCBIO',  ## journalists\n",
    "#             '3FQWXCP5BDC6A66PD20NE8FM4G3H44' other workers\n",
    "            'Comparator': 'GreaterThanOrEqualTo',\n",
    "            'IntegerValues': [90],      \n",
    "        })"
   ]
  },
  {
   "cell_type": "code",
   "execution_count": 45,
   "metadata": {},
   "outputs": [
    {
     "data": {
      "text/plain": [
       "[{'QualificationTypeId': '3H3KEN1OLUQQR02IYZSVMYM7ESCBIO',\n",
       "  'Comparator': 'GreaterThanOrEqualTo',\n",
       "  'IntegerValues': [90]}]"
      ]
     },
     "execution_count": 45,
     "metadata": {},
     "output_type": "execute_result"
    }
   ],
   "source": [
    "worker_requirements"
   ]
  },
  {
   "cell_type": "code",
   "execution_count": 8,
   "metadata": {},
   "outputs": [],
   "source": [
    "from jinja2 import Template, Environment, FileSystemLoader\n",
    "import datetime\n",
    "from IPython.display import display, HTML\n",
    "jinja_env = Environment(loader=FileSystemLoader('../evaluation/templates'))"
   ]
  },
  {
   "cell_type": "code",
   "execution_count": 9,
   "metadata": {},
   "outputs": [
    {
     "name": "stdout",
     "output_type": "stream",
     "text": [
      "check-matched-sentences-app-engine.html\r\n",
      "check-matched-sentences.html\r\n",
      "edit-sentences.html\r\n",
      "match-sentences.html\r\n"
     ]
    }
   ],
   "source": [
    "ls ../evaluation/templates/"
   ]
  },
  {
   "cell_type": "code",
   "execution_count": 10,
   "metadata": {},
   "outputs": [],
   "source": [
    "template = jinja_env.get_template('match-sentences.html')\n",
    "created_hits = []"
   ]
  },
  {
   "cell_type": "code",
   "execution_count": 11,
   "metadata": {},
   "outputs": [],
   "source": [
    "import unidecode\n",
    "def clean_temp(node):\n",
    "    node['sentence'] = node['sentence'].replace('.p T', ' -- t')\n",
    "    node['sentence'] = unidecode.unidecode(node['sentence'])\n",
    "    return node\n",
    "    \n",
    "# data['nodes'] = list(map(clean_temp, data['nodes']))"
   ]
  },
  {
   "cell_type": "code",
   "execution_count": 12,
   "metadata": {},
   "outputs": [],
   "source": [
    "output = {str(k): v for k, v in output.items()}\n",
    "\n",
    "desired_keys = list(map(lambda x: str(tuple([source] + list(x))), desired_index.index))\n",
    "desired_output = dict(list(filter(lambda x: x[0] in desired_keys, output.items())))"
   ]
  },
  {
   "cell_type": "code",
   "execution_count": 54,
   "metadata": {},
   "outputs": [],
   "source": [
    "import json\n",
    "with open('../evaluation/data/sample_ap_data.json', 'w') as f:\n",
    "    json.dump( desired_output, f )"
   ]
  },
  {
   "cell_type": "markdown",
   "metadata": {},
   "source": [
    "## Match Sentences HITs"
   ]
  },
  {
   "cell_type": "code",
   "execution_count": 23,
   "metadata": {},
   "outputs": [],
   "source": [
    "# for i, idx in enumerate(desired_index.sample(10).index):\n",
    "#     sample_key = str(tuple([source] + list(idx)))\n",
    "\n",
    "i = 0\n",
    "for sample_key, v in list(output.items())[:10]:\n",
    "    source = 't'\n",
    "    ## make the HTML \n",
    "    data = output[sample_key]\n",
    "    html = template.render(\n",
    "        data=data,\n",
    "        doc_id=sample_key,\n",
    "        source=source,\n",
    "#         entry_id=idx[0],\n",
    "#         v_x=idx[1],\n",
    "#         v_y=idx[2],\n",
    "        do_mturk=True,\n",
    "        production=env=='production',\n",
    "        start_time=datetime.datetime.now()\n",
    "    )\n",
    "\n",
    "    ## dump to disk for inspection\n",
    "    with open('../evaluation/mturk/templated-question-example-%s.html' % i, 'w') as f:\n",
    "        f.write(html)\n",
    "\n",
    "    if False:\n",
    "        ## HTMLQuestion HIT\n",
    "        description = '''\n",
    "            We\\'d like to match sentences from two edited versions of the same article. \n",
    "            Help us by drawing lines to connect blocks of text.\n",
    "        '''\n",
    "        title = 'Edit some news articles v2'\n",
    "        new_hit = mturk.client.create_hit(\n",
    "            Title = title,\n",
    "            Description = description,\n",
    "            Keywords = 'text, highlighting',\n",
    "            Reward = '0.4',\n",
    "            MaxAssignments = 1,\n",
    "            LifetimeInSeconds = 17280000,\n",
    "            AssignmentDurationInSeconds = 600000,\n",
    "            AutoApprovalDelayInSeconds = 28800,\n",
    "            Question = html,\n",
    "            QualificationRequirements=worker_requirements #if env == 'production' else []\n",
    "        )\n",
    "        created_hits.append(new_hit)"
   ]
  },
  {
   "cell_type": "markdown",
   "metadata": {},
   "source": [
    "### Make Edits HITs"
   ]
  },
  {
   "cell_type": "code",
   "execution_count": 458,
   "metadata": {},
   "outputs": [],
   "source": [
    "template = jinja_env.get_template('edit-sentences.html')\n",
    "created_hits = []"
   ]
  },
  {
   "cell_type": "code",
   "execution_count": 461,
   "metadata": {},
   "outputs": [],
   "source": [
    "env = 'sandbox'\n",
    "# env = 'production'\n",
    "mturk = um.MTurkHandler(environment=env) #=production/sandbox"
   ]
  },
  {
   "cell_type": "code",
   "execution_count": 462,
   "metadata": {},
   "outputs": [],
   "source": [
    "to_launch = pd.DataFrame(output).T.iloc[250:300]"
   ]
  },
  {
   "cell_type": "code",
   "execution_count": 463,
   "metadata": {},
   "outputs": [],
   "source": [
    "import ast\n",
    "from tqdm.auto import tqdm"
   ]
  },
  {
   "cell_type": "code",
   "execution_count": 465,
   "metadata": {},
   "outputs": [
    {
     "data": {
      "application/vnd.jupyter.widget-view+json": {
       "model_id": "896b74fbbae94b6ab146d0792688a884",
       "version_major": 2,
       "version_minor": 0
      },
      "text/plain": [
       "0it [00:00, ?it/s]"
      ]
     },
     "metadata": {},
     "output_type": "display_data"
    }
   ],
   "source": [
    "for i, idx in tqdm(enumerate(to_launch.index)):\n",
    "    # filter data\n",
    "    data = output[idx]\n",
    "    key = ast.literal_eval(idx)\n",
    "    versions = list(map(lambda x: x['version'], data['nodes']))\n",
    "    x_vers = min(versions)\n",
    "    data['nodes'] = list(filter(lambda x: x['version'] == x_vers, data['nodes']))\n",
    "    \n",
    "    ## make the HTML \n",
    "    html = template.render(\n",
    "        data=data['nodes'],\n",
    "        doc_id=key[1],\n",
    "        source=key[0],\n",
    "        entry_id=key[1],\n",
    "        v_x=key[2],\n",
    "        v_y=key[3],\n",
    "        do_mturk=True,\n",
    "        production=env=='production',\n",
    "        start_time=datetime.datetime.now()\n",
    "    )\n",
    "\n",
    "    ## dump to disk for inspection\n",
    "    with open('../evaluation/mturk/templated-question-example-%s.html' % i, 'w') as f:\n",
    "        f.write(html)\n",
    "\n",
    "    if True:\n",
    "        ## HTMLQuestion HIT\n",
    "        description = '''\n",
    "            We\\'d like to match sentences from two edited versions of the same article. \n",
    "            Help us by drawing lines to connect blocks of text.\n",
    "        '''\n",
    "        title = 'Edit some news articles v5'\n",
    "        new_hit = mturk.client.create_hit(\n",
    "            Title = title,\n",
    "            Description = description,\n",
    "            Keywords = 'text, highlighting',\n",
    "            Reward = '1.00',\n",
    "            MaxAssignments = 1,\n",
    "            LifetimeInSeconds = 17280000,\n",
    "            AssignmentDurationInSeconds = 600000,\n",
    "            AutoApprovalDelayInSeconds = 28800,\n",
    "            Question = html,\n",
    "            QualificationRequirements=worker_requirements if env == 'production' else []\n",
    "        )\n",
    "        created_hits.append(new_hit)"
   ]
  },
  {
   "cell_type": "code",
   "execution_count": null,
   "metadata": {},
   "outputs": [],
   "source": []
  },
  {
   "cell_type": "code",
   "execution_count": null,
   "metadata": {},
   "outputs": [],
   "source": []
  },
  {
   "cell_type": "code",
   "execution_count": null,
   "metadata": {},
   "outputs": [],
   "source": []
  },
  {
   "cell_type": "code",
   "execution_count": null,
   "metadata": {},
   "outputs": [],
   "source": []
  },
  {
   "cell_type": "code",
   "execution_count": 174,
   "metadata": {},
   "outputs": [],
   "source": [
    "import pickle\n",
    "with open('hits_edits_cache/2021-11-04__first-round-production.pkl', 'wb') as f:\n",
    "    pickle.dump(created_hits, f)"
   ]
  },
  {
   "cell_type": "code",
   "execution_count": 199,
   "metadata": {},
   "outputs": [],
   "source": [
    "import pickle\n",
    "with open('hits_edits_cache/2021-11-05__second-round-production.pkl', 'wb') as f:\n",
    "    pickle.dump(created_hits, f)"
   ]
  },
  {
   "cell_type": "code",
   "execution_count": 62,
   "metadata": {},
   "outputs": [],
   "source": [
    "import pickle\n",
    "with open('hits_edits_cache/2021-11-05__third-round-sandbox.pkl', 'wb') as f:\n",
    "    pickle.dump(created_hits, f)"
   ]
  },
  {
   "cell_type": "markdown",
   "metadata": {},
   "source": [
    "# Fetch HITs"
   ]
  },
  {
   "cell_type": "code",
   "execution_count": 46,
   "metadata": {},
   "outputs": [],
   "source": [
    "from importlib import reload\n",
    "reload(um)\n",
    "\n",
    "env = 'sandbox'\n",
    "# env = 'production'\n",
    "mturk = um.MTurkHandler(environment=env) #=production/sandbox"
   ]
  },
  {
   "cell_type": "code",
   "execution_count": 47,
   "metadata": {},
   "outputs": [
    {
     "name": "stdout",
     "output_type": "stream",
     "text": [
      "2021-10-31__first-round-sandbox.pkl\r\n",
      "2021-10-31__second-round-sandbox.pkl\r\n",
      "2021-11-04__first-round-production.pkl\r\n",
      "2021-11-04__third-round-sandbox.pkl\r\n",
      "2021-11-05__second-round-production.pkl\r\n",
      "2021-11-05__third-round-sandbox.pkl\r\n"
     ]
    }
   ],
   "source": [
    "ls hits_edits_cache/"
   ]
  },
  {
   "cell_type": "code",
   "execution_count": 48,
   "metadata": {},
   "outputs": [],
   "source": [
    "import pickle\n",
    "# production\n",
    "created_hits = []\n",
    "with open('hits_edits_cache/2021-11-04__first-round-production.pkl', 'rb') as f:\n",
    "    created_hits += pickle.load(f)\n",
    "with open('hits_edits_cache/2021-11-05__second-round-production.pkl', 'rb') as f:\n",
    "    created_hits += pickle.load(f)\n",
    "\n",
    "# sandbox\n",
    "if True:\n",
    "    created_hits = []\n",
    "    import pickle\n",
    "    with open('hits_edits_cache/2021-11-05__third-round-sandbox.pkl', 'rb') as f:\n",
    "        created_hits = pickle.load(f)"
   ]
  },
  {
   "cell_type": "code",
   "execution_count": 49,
   "metadata": {},
   "outputs": [],
   "source": [
    "def get_answers(hit_ids):\n",
    "    import xmltodict\n",
    "    import json\n",
    "    answer_dfs = []\n",
    "    answers = []\n",
    "    for hit_id in tqdm(hit_ids):\n",
    "        try:\n",
    "            ##\n",
    "            assignmentsList = mturk.client.list_assignments_for_hit(\n",
    "                HITId=hit_id,\n",
    "                # AssignmentStatuses=['Submitted', 'Approved'],\n",
    "                MaxResults=10\n",
    "            )\n",
    "            assignments = assignmentsList['Assignments']\n",
    "            assignments_submitted_count = len(assignments)\n",
    "        #     print(assignments_submitted_count)\n",
    "        #     if assignments_submitted_count > 0:\n",
    "        #         break \n",
    "            for assignment in assignments:\n",
    "                # Retreive the attributes for each Assignment\n",
    "                answer_dict = xmltodict.parse(assignment['Answer'])\n",
    "                answer = json.loads(answer_dict['QuestionFormAnswers']['Answer'][1]['FreeText'])\n",
    "                answer['worker_id'] = assignment['WorkerId']\n",
    "                answer['assignment_id'] = assignment['AssignmentId']\n",
    "                answer['hit_id'] = assignment['HITId']\n",
    "                answer['time_delta'] = assignment['SubmitTime'] - assignment['AcceptTime']\n",
    "                answer['submit_time'] = assignment['SubmitTime']\n",
    "                answers.append(answer)\n",
    "        except Exception as e:\n",
    "            print(e)\n",
    "    return answers"
   ]
  },
  {
   "cell_type": "code",
   "execution_count": 50,
   "metadata": {},
   "outputs": [],
   "source": [
    "hit_ids = list(map(lambda x: x['HIT']['HITId'], created_hits))"
   ]
  },
  {
   "cell_type": "code",
   "execution_count": 51,
   "metadata": {},
   "outputs": [
    {
     "data": {
      "text/plain": [
       "100"
      ]
     },
     "execution_count": 51,
     "metadata": {},
     "output_type": "execute_result"
    }
   ],
   "source": [
    "len(hit_ids)"
   ]
  },
  {
   "cell_type": "code",
   "execution_count": 32,
   "metadata": {
    "scrolled": true
   },
   "outputs": [],
   "source": [
    "# answers, answer_df = mturk.get_answers_for_hit_list(set(hit_ids))\n",
    "# t = 'A3PRQ2GSU42718'\n",
    "# answer_df.loc[lambda df: df['worker_id'] == t]\n",
    "# answer_df.drop_duplicates().to_csv('hits_cache/2021-10-24__all-answers-df.csv', index=False)\n",
    "# with open('hits_cache/2021-10-24__all-answers.pkl', 'wb') as f :\n",
    "#     pickle.dump(answers, f)\n",
    "# answer_df.to_csv('hits_cache/2021-10-23__first-second-round-sandbox-results.csv')\n",
    "# answer_df.to_csv('hits_cache/2021-10-23__third-fourth-round-sandbox-results.csv')\n",
    "# answer_df.to_csv('hits_cache/2021-10-23__fifth-sixth-round-sandbox-results.csv')\n",
    "# answer_df.to_csv('hits_cache/2021-10-23__seventh-eigth-round-sandbox-results.csv')\n",
    "# answer_df.to_csv('hits_cache/2021-10-23__ninth-round-sandbox-results.csv')\n",
    "# answer_df.to_csv('hits_cache/2021-10-23__tenth-round-sandbox-results.csv')\n",
    "# answer_df['doc_id'].drop_duplicates()"
   ]
  },
  {
   "cell_type": "code",
   "execution_count": null,
   "metadata": {},
   "outputs": [],
   "source": []
  },
  {
   "cell_type": "code",
   "execution_count": 52,
   "metadata": {
    "scrolled": true
   },
   "outputs": [
    {
     "data": {
      "application/vnd.jupyter.widget-view+json": {
       "model_id": "113a0691782e4b6e953811ea75ac5a80",
       "version_major": 2,
       "version_minor": 0
      },
      "text/plain": [
       "  0%|          | 0/100 [00:00<?, ?it/s]"
      ]
     },
     "metadata": {},
     "output_type": "display_data"
    }
   ],
   "source": [
    "answers = get_answers(hit_ids)"
   ]
  },
  {
   "cell_type": "code",
   "execution_count": null,
   "metadata": {},
   "outputs": [],
   "source": []
  },
  {
   "cell_type": "code",
   "execution_count": null,
   "metadata": {},
   "outputs": [],
   "source": []
  },
  {
   "cell_type": "code",
   "execution_count": 53,
   "metadata": {},
   "outputs": [],
   "source": [
    "answer_df_s = pd.DataFrame(answers)"
   ]
  },
  {
   "cell_type": "code",
   "execution_count": 38,
   "metadata": {},
   "outputs": [],
   "source": [
    "answer_df_p = pd.DataFrame(answers)"
   ]
  },
  {
   "cell_type": "code",
   "execution_count": 39,
   "metadata": {},
   "outputs": [],
   "source": [
    "answer_df_p.to_pickle('hits_cache/production-hits.pkl')"
   ]
  },
  {
   "cell_type": "code",
   "execution_count": 428,
   "metadata": {},
   "outputs": [],
   "source": [
    "answer_df = pd.read_pickle('hits_cache/2021-11-12__all-hits.pkl')"
   ]
  },
  {
   "cell_type": "code",
   "execution_count": 41,
   "metadata": {},
   "outputs": [
    {
     "data": {
      "text/plain": [
       "ASQL7ZBXI7WF6     101\n",
       "A2E8P5A3IKROKB     92\n",
       "A17GX84A96WF6C     31\n",
       "A1685VEOIJIUMR     13\n",
       "A2USH7VYFMU1ME      5\n",
       "A30BGCC8EC1NW       3\n",
       "Name: worker_id, dtype: int64"
      ]
     },
     "execution_count": 41,
     "metadata": {},
     "output_type": "execute_result"
    }
   ],
   "source": [
    "answer_df_t['worker_id'].value_counts()"
   ]
  },
  {
   "cell_type": "code",
   "execution_count": 40,
   "metadata": {},
   "outputs": [],
   "source": [
    "# mturk.bonus_worker('ASQL7ZBXI7WF6', '3R8YZBNQ9LTQ6IYXXG9SVI6JZ7G7QI', 16)"
   ]
  },
  {
   "cell_type": "code",
   "execution_count": null,
   "metadata": {},
   "outputs": [],
   "source": [
    "answer_df_t.loc[lambda df: df['worker_id'] == 'ASQL7ZBXI7WF6']"
   ]
  },
  {
   "cell_type": "code",
   "execution_count": null,
   "metadata": {},
   "outputs": [],
   "source": []
  },
  {
   "cell_type": "code",
   "execution_count": 429,
   "metadata": {},
   "outputs": [],
   "source": [
    "answer_df.to_pickle('hits_cache/2021-11-13__edit-answer-df.pkl')"
   ]
  },
  {
   "cell_type": "code",
   "execution_count": 416,
   "metadata": {},
   "outputs": [],
   "source": [
    "answer_df_s.to_pickle('hits_cache/2021-11-12__all-hits.pkl')"
   ]
  },
  {
   "cell_type": "code",
   "execution_count": 54,
   "metadata": {},
   "outputs": [],
   "source": [
    "## 2021-11-11 current\n",
    "# answer_df.to_pickle('hits_cache/2021-11-12__edit-answer-df.pkl')\n",
    "pd.concat([answer_df_p, answer_df_s]).to_pickle('hits_cache/2021-11-16__edit-answer-df.pkl')\n",
    "# answer_df.to_pickle('hits_cache/2021-11-11__edit-answer-df.pkl')"
   ]
  },
  {
   "cell_type": "code",
   "execution_count": 26,
   "metadata": {},
   "outputs": [],
   "source": [
    "answer_df_t = pd.concat([\n",
    "    pd.read_pickle('hits_cache/2021-11-12__edit-answer-df.pkl'),\n",
    "    pd.read_pickle('hits_cache/2021-11-13__edit-answer-df.pkl'),\n",
    "])"
   ]
  },
  {
   "cell_type": "code",
   "execution_count": 55,
   "metadata": {},
   "outputs": [],
   "source": [
    "answer_df_t = pd.read_pickle('hits_cache/2021-11-16__edit-answer-df.pkl')"
   ]
  },
  {
   "cell_type": "code",
   "execution_count": 58,
   "metadata": {},
   "outputs": [],
   "source": [
    "## retrieve doc ids\n",
    "import pickle\n",
    "created_hits = []\n",
    "with open('hits_edits_cache/2021-11-04__first-round-production.pkl', 'rb') as f:\n",
    "    created_hits += pickle.load(f)\n",
    "with open('hits_edits_cache/2021-11-05__second-round-production.pkl', 'rb') as f:\n",
    "    created_hits += pickle.load(f)\n",
    "with open('hits_edits_cache/2021-11-05__third-round-sandbox.pkl', 'rb') as f:\n",
    "    created_hits += pickle.load(f)"
   ]
  },
  {
   "cell_type": "code",
   "execution_count": 59,
   "metadata": {},
   "outputs": [],
   "source": [
    "import re\n",
    "def retrieve_id(q):\n",
    "    t = re.findall('source=(\\w+)&doc_id=(\\d+)&v_x=(\\d+)&v_y=(\\d+)', q)[-1]\n",
    "    return (t[0], int(t[1]), int(t[2]), int(t[3]))\n",
    "\n",
    "hit_ids = list(map(lambda x: x['HIT']['HITId'], created_hits))\n",
    "doc_ids = list(map(lambda x: retrieve_id(x['HIT']['Question']), created_hits))"
   ]
  },
  {
   "cell_type": "code",
   "execution_count": 60,
   "metadata": {},
   "outputs": [],
   "source": [
    "hit_id2doc_id_mapper = pd.DataFrame({'hit_ids':hit_ids, 'doc_ids': doc_ids})"
   ]
  },
  {
   "cell_type": "code",
   "execution_count": 61,
   "metadata": {},
   "outputs": [
    {
     "data": {
      "text/html": [
       "<div>\n",
       "<style scoped>\n",
       "    .dataframe tbody tr th:only-of-type {\n",
       "        vertical-align: middle;\n",
       "    }\n",
       "\n",
       "    .dataframe tbody tr th {\n",
       "        vertical-align: top;\n",
       "    }\n",
       "\n",
       "    .dataframe thead th {\n",
       "        text-align: right;\n",
       "    }\n",
       "</style>\n",
       "<table border=\"1\" class=\"dataframe\">\n",
       "  <thead>\n",
       "    <tr style=\"text-align: right;\">\n",
       "      <th></th>\n",
       "      <th>hit_ids</th>\n",
       "      <th>doc_ids</th>\n",
       "    </tr>\n",
       "  </thead>\n",
       "  <tbody>\n",
       "    <tr>\n",
       "      <th>0</th>\n",
       "      <td>3S829FDFU5BN942PK5240YGFBFXDXR</td>\n",
       "      <td>(nyt, 810619, 0, 1)</td>\n",
       "    </tr>\n",
       "    <tr>\n",
       "      <th>1</th>\n",
       "      <td>3OLZC0DJ9MPCDQDGC42X3AZ7N9XVI8</td>\n",
       "      <td>(independent, 976785, 0, 1)</td>\n",
       "    </tr>\n",
       "  </tbody>\n",
       "</table>\n",
       "</div>"
      ],
      "text/plain": [
       "                          hit_ids                      doc_ids\n",
       "0  3S829FDFU5BN942PK5240YGFBFXDXR          (nyt, 810619, 0, 1)\n",
       "1  3OLZC0DJ9MPCDQDGC42X3AZ7N9XVI8  (independent, 976785, 0, 1)"
      ]
     },
     "execution_count": 61,
     "metadata": {},
     "output_type": "execute_result"
    }
   ],
   "source": [
    "hit_id2doc_id_mapper.head(2)"
   ]
  },
  {
   "cell_type": "code",
   "execution_count": 62,
   "metadata": {},
   "outputs": [],
   "source": [
    "import pandas as pd \n",
    "import sqlite3\n",
    "import sys\n",
    "sys.path.insert(0, '../util')\n",
    "import util_refactorings as ur\n",
    "from util_label import get_split_and_matched_dfs, label_sentences_add, get_sentence_and_doc_labels"
   ]
  },
  {
   "cell_type": "code",
   "execution_count": 63,
   "metadata": {
    "scrolled": true
   },
   "outputs": [],
   "source": [
    "answer_df_w_doc_id = (answer_df_t\n",
    " .merge(\n",
    "     hit_id2doc_id_mapper,\n",
    "     left_on=['hit_id'],\n",
    "     right_on=['hit_ids']\n",
    " ).drop('hit_ids', axis=1)\n",
    " .assign(doc_id=lambda df: df['doc_ids']).drop('doc_ids', axis=1)\n",
    " \n",
    ")"
   ]
  },
  {
   "cell_type": "code",
   "execution_count": 64,
   "metadata": {},
   "outputs": [],
   "source": [
    "import ast\n",
    "orig_output_df = (\n",
    "    pd.DataFrame(output).T\n",
    "    .reset_index().assign(index=lambda df: df['index'].apply(ast.literal_eval))\n",
    ")"
   ]
  },
  {
   "cell_type": "code",
   "execution_count": 65,
   "metadata": {},
   "outputs": [],
   "source": [
    "answer_df_w_orig_labels = (\n",
    "    answer_df_w_doc_id\n",
    "    .merge(orig_output_df, left_on=['doc_id'], right_on=['index'])\n",
    ")"
   ]
  },
  {
   "cell_type": "code",
   "execution_count": 66,
   "metadata": {},
   "outputs": [
    {
     "data": {
      "text/plain": [
       "0      False\n",
       "1      False\n",
       "2      False\n",
       "3      False\n",
       "4      False\n",
       "       ...  \n",
       "240    False\n",
       "241    False\n",
       "242    False\n",
       "243    False\n",
       "244    False\n",
       "Length: 245, dtype: bool"
      ]
     },
     "execution_count": 66,
     "metadata": {},
     "output_type": "execute_result"
    }
   ],
   "source": [
    "orig_output_df\n",
    "answer_df_w_doc_id\n",
    "answer_df_w_orig_labels.pipe(lambda df: df['nodes_x'] == df['nodes_y'])"
   ]
  },
  {
   "cell_type": "code",
   "execution_count": 67,
   "metadata": {},
   "outputs": [],
   "source": [
    "import numpy as np\n",
    "from tqdm.auto import tqdm"
   ]
  },
  {
   "cell_type": "code",
   "execution_count": 76,
   "metadata": {
    "scrolled": true
   },
   "outputs": [
    {
     "data": {
      "application/vnd.jupyter.widget-view+json": {
       "model_id": "21d255d212ed43178b39b27bf1481b69",
       "version_major": 2,
       "version_minor": 0
      },
      "text/plain": [
       "  0%|          | 0/245 [00:00<?, ?it/s]"
      ]
     },
     "metadata": {},
     "output_type": "display_data"
    }
   ],
   "source": [
    "all_orig_sent_labels = []\n",
    "all_orig_doc_labels = []\n",
    "all_crowd_sent_labels = []\n",
    "all_crowd_doc_labels = []\n",
    "\n",
    "for idx in tqdm(range(len(answer_df_w_orig_labels))):\n",
    "    df = answer_df_w_orig_labels.iloc[idx]\n",
    "\n",
    "    ## orig data\n",
    "    doc_sentences = df['nodes_y']\n",
    "    x_ver = min(list(map(lambda x: x['version'], doc_sentences)))\n",
    "    doc_sentences = list(filter(lambda x: x['version'] == x_ver, doc_sentences))\n",
    "    doc_sents = pd.DataFrame(doc_sentences)\n",
    "    doc_id = df['doc_id']\n",
    "    e_id = doc_id[1]\n",
    "    doc = pd.DataFrame(df['arcs'])\n",
    "    doc['entry_id'] = e_id\n",
    "    doc_sents['entry_id'] = e_id\n",
    "    orig_sents, orig_doc = get_sentence_and_doc_labels(doc, doc_sents)\n",
    "\n",
    "    ## crowd-sourced data\n",
    "    t_answers = pd.DataFrame(df['final-list'])[['orig_sent_idx', 'new_sent_idx', 'is_edited']]\n",
    "    t_answers = (t_answers\n",
    "     .assign(orig_sent_idx=lambda df: df['orig_sent_idx'].replace('.textblock_pool', np.nan).replace('undefined', np.nan))\n",
    "     .assign(new_sent_idx=lambda df: df['new_sent_idx'].replace('undefined', np.nan))\n",
    "     .assign(avg_sentence_distance_x=lambda df: df['is_edited'].apply(lambda x: 1 if x else 0))\n",
    "     .drop('is_edited', axis=1)\n",
    "     .rename(columns={'orig_sent_idx': 'sent_idx_x', 'new_sent_idx': 'sent_idx_y'})\n",
    "    )\n",
    "\n",
    "    t_answers['entry_id'] = doc_id[1]\n",
    "    t_answers['version_x'] = doc_id[2]\n",
    "    t_answers['version_y'] = doc_id[3]\n",
    "    t_answers= t_answers.astype(float)\n",
    "    crowd_sents, crowd_doc = get_sentence_and_doc_labels(t_answers, doc_sents)\n",
    "    crowd_sents['worker_id'] = df['worker_id']\n",
    "    crowd_sents['assignment_id'] = df['assignment_id']\n",
    "    crowd_sents['time_delta'] = df['time_delta']\n",
    "    crowd_sents['submit_time'] = df['submit_time']\n",
    "    crowd_doc['worker_id'] = df['worker_id']\n",
    "    crowd_doc['assignment_id'] = df['assignment_id']\n",
    "    crowd_doc['time_delta'] = df['time_delta']\n",
    "    crowd_doc['submit_time'] = df['submit_time']\n",
    "    \n",
    "    all_orig_sent_labels.append(orig_sents)\n",
    "    all_orig_doc_labels.append(orig_doc)\n",
    "    all_crowd_sent_labels.append(crowd_sents)\n",
    "    all_crowd_doc_labels.append(crowd_doc)"
   ]
  },
  {
   "cell_type": "code",
   "execution_count": null,
   "metadata": {},
   "outputs": [],
   "source": []
  },
  {
   "cell_type": "code",
   "execution_count": null,
   "metadata": {},
   "outputs": [],
   "source": []
  },
  {
   "cell_type": "code",
   "execution_count": 78,
   "metadata": {},
   "outputs": [],
   "source": [
    "all_orig_sent_labels_df = pd.concat(all_orig_sent_labels)\n",
    "all_orig_doc_labels_df = pd.concat(all_orig_doc_labels)\n",
    "all_crowd_sent_labels_df = pd.concat(all_crowd_sent_labels)\n",
    "all_crowd_doc_labels_df = pd.concat(all_crowd_doc_labels)"
   ]
  },
  {
   "cell_type": "code",
   "execution_count": 79,
   "metadata": {},
   "outputs": [],
   "source": [
    "all_orig_sent_labels_df.to_csv('../modeling/crowdworker-answers/orig-sent-labels-df.csv', index=False)\n",
    "all_orig_doc_labels_df.to_csv('../modeling/crowdworker-answers/orig-doc-labels-df.csv', index=False)\n",
    "all_crowd_sent_labels_df.to_csv('../modeling/crowdworker-answers/crowd-sent-labels-df.csv', index=False)\n",
    "all_crowd_doc_labels_df.to_csv('../modeling/crowdworker-answers/crowd-doc-labels-df.csv', index=False)"
   ]
  },
  {
   "cell_type": "code",
   "execution_count": null,
   "metadata": {},
   "outputs": [],
   "source": []
  },
  {
   "cell_type": "code",
   "execution_count": null,
   "metadata": {},
   "outputs": [],
   "source": []
  },
  {
   "cell_type": "code",
   "execution_count": 83,
   "metadata": {
    "scrolled": true
   },
   "outputs": [
    {
     "data": {
      "text/html": [
       "<div>\n",
       "<style scoped>\n",
       "    .dataframe tbody tr th:only-of-type {\n",
       "        vertical-align: middle;\n",
       "    }\n",
       "\n",
       "    .dataframe tbody tr th {\n",
       "        vertical-align: top;\n",
       "    }\n",
       "\n",
       "    .dataframe thead th {\n",
       "        text-align: right;\n",
       "    }\n",
       "</style>\n",
       "<table border=\"1\" class=\"dataframe\">\n",
       "  <thead>\n",
       "    <tr style=\"text-align: right;\">\n",
       "      <th></th>\n",
       "      <th></th>\n",
       "      <th>num_deleted</th>\n",
       "      <th>num_added</th>\n",
       "      <th>num_edited</th>\n",
       "      <th>num_refactored</th>\n",
       "      <th>sentences</th>\n",
       "      <th>worker_id</th>\n",
       "      <th>assignment_id</th>\n",
       "      <th>time_delta</th>\n",
       "      <th>submit_time</th>\n",
       "    </tr>\n",
       "    <tr>\n",
       "      <th>entry_id</th>\n",
       "      <th>version</th>\n",
       "      <th></th>\n",
       "      <th></th>\n",
       "      <th></th>\n",
       "      <th></th>\n",
       "      <th></th>\n",
       "      <th></th>\n",
       "      <th></th>\n",
       "      <th></th>\n",
       "      <th></th>\n",
       "    </tr>\n",
       "  </thead>\n",
       "  <tbody>\n",
       "    <tr>\n",
       "      <th>810619</th>\n",
       "      <th>0</th>\n",
       "      <td>0</td>\n",
       "      <td>0</td>\n",
       "      <td>2</td>\n",
       "      <td>0</td>\n",
       "      <td>MOSCOW -- Malaysia Airlines reported Thursday ...</td>\n",
       "      <td>A1685VEOIJIUMR</td>\n",
       "      <td>3UN61F00H00BVFZEM2JV2O2S3UZR5D</td>\n",
       "      <td>0 days 00:01:25</td>\n",
       "      <td>2021-11-08 00:08:21-05:00</td>\n",
       "    </tr>\n",
       "    <tr>\n",
       "      <th>976785</th>\n",
       "      <th>0</th>\n",
       "      <td>1</td>\n",
       "      <td>2</td>\n",
       "      <td>2</td>\n",
       "      <td>0</td>\n",
       "      <td>A hotel in the Tunisian town of Sousse has bee...</td>\n",
       "      <td>A2USH7VYFMU1ME</td>\n",
       "      <td>3JRJSWSMQLWJ8W75MDB2OK5PA8DE3Q</td>\n",
       "      <td>0 days 00:03:05</td>\n",
       "      <td>2021-11-07 11:18:56-05:00</td>\n",
       "    </tr>\n",
       "    <tr>\n",
       "      <th>1548</th>\n",
       "      <th>4</th>\n",
       "      <td>0</td>\n",
       "      <td>0</td>\n",
       "      <td>4</td>\n",
       "      <td>0</td>\n",
       "      <td>OAKLAND, N.J. (AP) -- A New Jersey branch of t...</td>\n",
       "      <td>A1685VEOIJIUMR</td>\n",
       "      <td>34QN5IT0T326I3YHQN7JUCBWWU108Q</td>\n",
       "      <td>0 days 00:01:20</td>\n",
       "      <td>2021-11-08 00:13:10-05:00</td>\n",
       "    </tr>\n",
       "    <tr>\n",
       "      <th>3571</th>\n",
       "      <th>14</th>\n",
       "      <td>0</td>\n",
       "      <td>3</td>\n",
       "      <td>4</td>\n",
       "      <td>0</td>\n",
       "      <td>SAN FRANCISCO (AP) -- Two people are criticall...</td>\n",
       "      <td>A17GX84A96WF6C</td>\n",
       "      <td>3WOKGM4L75R93VLXX4WFRY1WBTJO0J</td>\n",
       "      <td>0 days 00:01:34</td>\n",
       "      <td>2021-11-06 12:02:53-04:00</td>\n",
       "    </tr>\n",
       "    <tr>\n",
       "      <th>767</th>\n",
       "      <th>1</th>\n",
       "      <td>0</td>\n",
       "      <td>2</td>\n",
       "      <td>2</td>\n",
       "      <td>0</td>\n",
       "      <td>MOSCOW (AP) -- Russia's workhorse Proton-M roc...</td>\n",
       "      <td>A2USH7VYFMU1ME</td>\n",
       "      <td>3PM8NZGV82RKLX4OFTDQPHJ7061XQK</td>\n",
       "      <td>0 days 00:06:18</td>\n",
       "      <td>2021-11-07 11:11:04-05:00</td>\n",
       "    </tr>\n",
       "    <tr>\n",
       "      <th>...</th>\n",
       "      <th>...</th>\n",
       "      <td>...</td>\n",
       "      <td>...</td>\n",
       "      <td>...</td>\n",
       "      <td>...</td>\n",
       "      <td>...</td>\n",
       "      <td>...</td>\n",
       "      <td>...</td>\n",
       "      <td>...</td>\n",
       "      <td>...</td>\n",
       "    </tr>\n",
       "    <tr>\n",
       "      <th>959935</th>\n",
       "      <th>0</th>\n",
       "      <td>1</td>\n",
       "      <td>0</td>\n",
       "      <td>2</td>\n",
       "      <td>0</td>\n",
       "      <td>Users who search Google Maps for 'ham face Cam...</td>\n",
       "      <td>A2E8P5A3IKROKB</td>\n",
       "      <td>3HOSI13XH3ZCYIV2J759304C12ADDR</td>\n",
       "      <td>0 days 00:00:32</td>\n",
       "      <td>2021-11-13 21:07:11-05:00</td>\n",
       "    </tr>\n",
       "    <tr>\n",
       "      <th>403</th>\n",
       "      <th>0</th>\n",
       "      <td>3</td>\n",
       "      <td>9</td>\n",
       "      <td>0</td>\n",
       "      <td>0</td>\n",
       "      <td>ANKARA An unidentified gunman attacked police ...</td>\n",
       "      <td>A2E8P5A3IKROKB</td>\n",
       "      <td>3OS46CRSLJAZ7QG905XP3G0RKNJ6VJ</td>\n",
       "      <td>0 days 00:01:01</td>\n",
       "      <td>2021-11-09 14:15:25-05:00</td>\n",
       "    </tr>\n",
       "    <tr>\n",
       "      <th>23003</th>\n",
       "      <th>0</th>\n",
       "      <td>3</td>\n",
       "      <td>3</td>\n",
       "      <td>1</td>\n",
       "      <td>0</td>\n",
       "      <td>Final regular season NASCAR race delayed by ra...</td>\n",
       "      <td>A2E8P5A3IKROKB</td>\n",
       "      <td>3ERET4BTVQK89YOVZ8MULHGCUQSK9U</td>\n",
       "      <td>0 days 00:00:37</td>\n",
       "      <td>2021-11-13 21:02:07-05:00</td>\n",
       "    </tr>\n",
       "    <tr>\n",
       "      <th>616345</th>\n",
       "      <th>3</th>\n",
       "      <td>0</td>\n",
       "      <td>0</td>\n",
       "      <td>0</td>\n",
       "      <td>0</td>\n",
       "      <td>John Brennan is one step closer to becoming di...</td>\n",
       "      <td>A2E8P5A3IKROKB</td>\n",
       "      <td>3I33IC7ZWJDRX1UA28UQHG52J8NA2C</td>\n",
       "      <td>0 days 00:00:29</td>\n",
       "      <td>2021-11-12 15:37:56-05:00</td>\n",
       "    </tr>\n",
       "    <tr>\n",
       "      <th>1094208</th>\n",
       "      <th>0</th>\n",
       "      <td>4</td>\n",
       "      <td>9</td>\n",
       "      <td>2</td>\n",
       "      <td>0</td>\n",
       "      <td>JAKARTA, Indonesia -- An Indonesian air force ...</td>\n",
       "      <td>A2E8P5A3IKROKB</td>\n",
       "      <td>30ZX6P7VFC62YUXEWE73AF8L9VD2JG</td>\n",
       "      <td>0 days 00:00:42</td>\n",
       "      <td>2021-11-10 22:12:42-05:00</td>\n",
       "    </tr>\n",
       "  </tbody>\n",
       "</table>\n",
       "<p>245 rows × 9 columns</p>\n",
       "</div>"
      ],
      "text/plain": [
       "                  num_deleted  num_added  num_edited  num_refactored  \\\n",
       "entry_id version                                                       \n",
       "810619   0                  0          0           2               0   \n",
       "976785   0                  1          2           2               0   \n",
       "1548     4                  0          0           4               0   \n",
       "3571     14                 0          3           4               0   \n",
       "767      1                  0          2           2               0   \n",
       "...                       ...        ...         ...             ...   \n",
       "959935   0                  1          0           2               0   \n",
       "403      0                  3          9           0               0   \n",
       "23003    0                  3          3           1               0   \n",
       "616345   3                  0          0           0               0   \n",
       "1094208  0                  4          9           2               0   \n",
       "\n",
       "                                                          sentences  \\\n",
       "entry_id version                                                      \n",
       "810619   0        MOSCOW -- Malaysia Airlines reported Thursday ...   \n",
       "976785   0        A hotel in the Tunisian town of Sousse has bee...   \n",
       "1548     4        OAKLAND, N.J. (AP) -- A New Jersey branch of t...   \n",
       "3571     14       SAN FRANCISCO (AP) -- Two people are criticall...   \n",
       "767      1        MOSCOW (AP) -- Russia's workhorse Proton-M roc...   \n",
       "...                                                             ...   \n",
       "959935   0        Users who search Google Maps for 'ham face Cam...   \n",
       "403      0        ANKARA An unidentified gunman attacked police ...   \n",
       "23003    0        Final regular season NASCAR race delayed by ra...   \n",
       "616345   3        John Brennan is one step closer to becoming di...   \n",
       "1094208  0        JAKARTA, Indonesia -- An Indonesian air force ...   \n",
       "\n",
       "                       worker_id                   assignment_id  \\\n",
       "entry_id version                                                   \n",
       "810619   0        A1685VEOIJIUMR  3UN61F00H00BVFZEM2JV2O2S3UZR5D   \n",
       "976785   0        A2USH7VYFMU1ME  3JRJSWSMQLWJ8W75MDB2OK5PA8DE3Q   \n",
       "1548     4        A1685VEOIJIUMR  34QN5IT0T326I3YHQN7JUCBWWU108Q   \n",
       "3571     14       A17GX84A96WF6C  3WOKGM4L75R93VLXX4WFRY1WBTJO0J   \n",
       "767      1        A2USH7VYFMU1ME  3PM8NZGV82RKLX4OFTDQPHJ7061XQK   \n",
       "...                          ...                             ...   \n",
       "959935   0        A2E8P5A3IKROKB  3HOSI13XH3ZCYIV2J759304C12ADDR   \n",
       "403      0        A2E8P5A3IKROKB  3OS46CRSLJAZ7QG905XP3G0RKNJ6VJ   \n",
       "23003    0        A2E8P5A3IKROKB  3ERET4BTVQK89YOVZ8MULHGCUQSK9U   \n",
       "616345   3        A2E8P5A3IKROKB  3I33IC7ZWJDRX1UA28UQHG52J8NA2C   \n",
       "1094208  0        A2E8P5A3IKROKB  30ZX6P7VFC62YUXEWE73AF8L9VD2JG   \n",
       "\n",
       "                      time_delta               submit_time  \n",
       "entry_id version                                            \n",
       "810619   0       0 days 00:01:25 2021-11-08 00:08:21-05:00  \n",
       "976785   0       0 days 00:03:05 2021-11-07 11:18:56-05:00  \n",
       "1548     4       0 days 00:01:20 2021-11-08 00:13:10-05:00  \n",
       "3571     14      0 days 00:01:34 2021-11-06 12:02:53-04:00  \n",
       "767      1       0 days 00:06:18 2021-11-07 11:11:04-05:00  \n",
       "...                          ...                       ...  \n",
       "959935   0       0 days 00:00:32 2021-11-13 21:07:11-05:00  \n",
       "403      0       0 days 00:01:01 2021-11-09 14:15:25-05:00  \n",
       "23003    0       0 days 00:00:37 2021-11-13 21:02:07-05:00  \n",
       "616345   3       0 days 00:00:29 2021-11-12 15:37:56-05:00  \n",
       "1094208  0       0 days 00:00:42 2021-11-10 22:12:42-05:00  \n",
       "\n",
       "[245 rows x 9 columns]"
      ]
     },
     "execution_count": 83,
     "metadata": {},
     "output_type": "execute_result"
    }
   ],
   "source": [
    "all_crowd_doc_labels_df"
   ]
  },
  {
   "cell_type": "code",
   "execution_count": 82,
   "metadata": {
    "scrolled": true
   },
   "outputs": [
    {
     "data": {
      "text/html": [
       "<div>\n",
       "<style scoped>\n",
       "    .dataframe tbody tr th:only-of-type {\n",
       "        vertical-align: middle;\n",
       "    }\n",
       "\n",
       "    .dataframe tbody tr th {\n",
       "        vertical-align: top;\n",
       "    }\n",
       "\n",
       "    .dataframe thead th {\n",
       "        text-align: right;\n",
       "    }\n",
       "</style>\n",
       "<table border=\"1\" class=\"dataframe\">\n",
       "  <thead>\n",
       "    <tr style=\"text-align: right;\">\n",
       "      <th></th>\n",
       "      <th></th>\n",
       "      <th>num_deleted</th>\n",
       "      <th>num_added</th>\n",
       "      <th>num_edited</th>\n",
       "      <th>num_refactored</th>\n",
       "      <th>sentences</th>\n",
       "    </tr>\n",
       "    <tr>\n",
       "      <th>entry_id</th>\n",
       "      <th>version</th>\n",
       "      <th></th>\n",
       "      <th></th>\n",
       "      <th></th>\n",
       "      <th></th>\n",
       "      <th></th>\n",
       "    </tr>\n",
       "  </thead>\n",
       "  <tbody>\n",
       "    <tr>\n",
       "      <th>810619</th>\n",
       "      <th>0</th>\n",
       "      <td>4</td>\n",
       "      <td>4</td>\n",
       "      <td>2</td>\n",
       "      <td>1</td>\n",
       "      <td>MOSCOW -- Malaysia Airlines reported Thursday ...</td>\n",
       "    </tr>\n",
       "    <tr>\n",
       "      <th>976785</th>\n",
       "      <th>0</th>\n",
       "      <td>2</td>\n",
       "      <td>5</td>\n",
       "      <td>4</td>\n",
       "      <td>1</td>\n",
       "      <td>A hotel in the Tunisian town of Sousse has bee...</td>\n",
       "    </tr>\n",
       "    <tr>\n",
       "      <th>1548</th>\n",
       "      <th>4</th>\n",
       "      <td>1</td>\n",
       "      <td>4</td>\n",
       "      <td>6</td>\n",
       "      <td>1</td>\n",
       "      <td>OAKLAND, N.J. (AP) -- A New Jersey branch of t...</td>\n",
       "    </tr>\n",
       "    <tr>\n",
       "      <th>3571</th>\n",
       "      <th>14</th>\n",
       "      <td>1</td>\n",
       "      <td>0</td>\n",
       "      <td>1</td>\n",
       "      <td>0</td>\n",
       "      <td>SAN FRANCISCO (AP) -- Two people are criticall...</td>\n",
       "    </tr>\n",
       "    <tr>\n",
       "      <th>767</th>\n",
       "      <th>1</th>\n",
       "      <td>6</td>\n",
       "      <td>0</td>\n",
       "      <td>0</td>\n",
       "      <td>0</td>\n",
       "      <td>MOSCOW (AP) -- Russia's workhorse Proton-M roc...</td>\n",
       "    </tr>\n",
       "    <tr>\n",
       "      <th>...</th>\n",
       "      <th>...</th>\n",
       "      <td>...</td>\n",
       "      <td>...</td>\n",
       "      <td>...</td>\n",
       "      <td>...</td>\n",
       "      <td>...</td>\n",
       "    </tr>\n",
       "    <tr>\n",
       "      <th>959935</th>\n",
       "      <th>0</th>\n",
       "      <td>1</td>\n",
       "      <td>0</td>\n",
       "      <td>2</td>\n",
       "      <td>2</td>\n",
       "      <td>Users who search Google Maps for 'ham face Cam...</td>\n",
       "    </tr>\n",
       "    <tr>\n",
       "      <th>403</th>\n",
       "      <th>0</th>\n",
       "      <td>3</td>\n",
       "      <td>6</td>\n",
       "      <td>5</td>\n",
       "      <td>0</td>\n",
       "      <td>ANKARA An unidentified gunman attacked police ...</td>\n",
       "    </tr>\n",
       "    <tr>\n",
       "      <th>23003</th>\n",
       "      <th>0</th>\n",
       "      <td>3</td>\n",
       "      <td>3</td>\n",
       "      <td>2</td>\n",
       "      <td>0</td>\n",
       "      <td>Final regular season NASCAR race delayed by ra...</td>\n",
       "    </tr>\n",
       "    <tr>\n",
       "      <th>616345</th>\n",
       "      <th>3</th>\n",
       "      <td>0</td>\n",
       "      <td>0</td>\n",
       "      <td>0</td>\n",
       "      <td>1</td>\n",
       "      <td>John Brennan is one step closer to becoming di...</td>\n",
       "    </tr>\n",
       "    <tr>\n",
       "      <th>1094208</th>\n",
       "      <th>0</th>\n",
       "      <td>4</td>\n",
       "      <td>4</td>\n",
       "      <td>2</td>\n",
       "      <td>0</td>\n",
       "      <td>JAKARTA, Indonesia -- An Indonesian air force ...</td>\n",
       "    </tr>\n",
       "  </tbody>\n",
       "</table>\n",
       "<p>245 rows × 5 columns</p>\n",
       "</div>"
      ],
      "text/plain": [
       "                  num_deleted  num_added  num_edited  num_refactored  \\\n",
       "entry_id version                                                       \n",
       "810619   0                  4          4           2               1   \n",
       "976785   0                  2          5           4               1   \n",
       "1548     4                  1          4           6               1   \n",
       "3571     14                 1          0           1               0   \n",
       "767      1                  6          0           0               0   \n",
       "...                       ...        ...         ...             ...   \n",
       "959935   0                  1          0           2               2   \n",
       "403      0                  3          6           5               0   \n",
       "23003    0                  3          3           2               0   \n",
       "616345   3                  0          0           0               1   \n",
       "1094208  0                  4          4           2               0   \n",
       "\n",
       "                                                          sentences  \n",
       "entry_id version                                                     \n",
       "810619   0        MOSCOW -- Malaysia Airlines reported Thursday ...  \n",
       "976785   0        A hotel in the Tunisian town of Sousse has bee...  \n",
       "1548     4        OAKLAND, N.J. (AP) -- A New Jersey branch of t...  \n",
       "3571     14       SAN FRANCISCO (AP) -- Two people are criticall...  \n",
       "767      1        MOSCOW (AP) -- Russia's workhorse Proton-M roc...  \n",
       "...                                                             ...  \n",
       "959935   0        Users who search Google Maps for 'ham face Cam...  \n",
       "403      0        ANKARA An unidentified gunman attacked police ...  \n",
       "23003    0        Final regular season NASCAR race delayed by ra...  \n",
       "616345   3        John Brennan is one step closer to becoming di...  \n",
       "1094208  0        JAKARTA, Indonesia -- An Indonesian air force ...  \n",
       "\n",
       "[245 rows x 5 columns]"
      ]
     },
     "execution_count": 82,
     "metadata": {},
     "output_type": "execute_result"
    }
   ],
   "source": [
    "all_orig_doc_labels_df"
   ]
  },
  {
   "cell_type": "code",
   "execution_count": null,
   "metadata": {},
   "outputs": [],
   "source": []
  },
  {
   "cell_type": "code",
   "execution_count": null,
   "metadata": {},
   "outputs": [],
   "source": []
  },
  {
   "cell_type": "code",
   "execution_count": null,
   "metadata": {},
   "outputs": [],
   "source": []
  },
  {
   "cell_type": "code",
   "execution_count": null,
   "metadata": {},
   "outputs": [],
   "source": []
  },
  {
   "cell_type": "markdown",
   "metadata": {},
   "source": [
    "# Analyze Answers (Current)"
   ]
  },
  {
   "cell_type": "code",
   "execution_count": 71,
   "metadata": {},
   "outputs": [
    {
     "data": {
      "text/plain": [
       "A2E8P5A3IKROKB    56\n",
       "A30BGCC8EC1NW      3\n",
       "Name: worker_id, dtype: int64"
      ]
     },
     "execution_count": 71,
     "metadata": {},
     "output_type": "execute_result"
    }
   ],
   "source": [
    "answer_df['worker_id'].value_counts()"
   ]
  },
  {
   "cell_type": "code",
   "execution_count": null,
   "metadata": {},
   "outputs": [],
   "source": [
    "casey = 'A17GX84A96WF6C'\n",
    "jason = 'A2USH7VYFMU1ME'\n",
    "roberto = 'A30BGCC8EC1NW'\n",
    "meghan = 'A1685VEOIJIUMR'\n",
    "alex = 'A2E8P5A3IKROKB'\n",
    "meg = 'ASQL7ZBXI7WF6'"
   ]
  },
  {
   "cell_type": "code",
   "execution_count": 37,
   "metadata": {},
   "outputs": [
    {
     "data": {
      "text/plain": [
       "<matplotlib.axes._subplots.AxesSubplot at 0x7fd6071b3d90>"
      ]
     },
     "execution_count": 37,
     "metadata": {},
     "output_type": "execute_result"
    },
    {
     "data": {
      "image/png": "[encoded data removed]",
      "text/plain": [
       "<Figure size 432x288 with 1 Axes>"
      ]
     },
     "metadata": {
      "needs_background": "light"
     },
     "output_type": "display_data"
    }
   ],
   "source": [
    "(answer_df['time_delta']\n",
    " .apply(lambda x: x.total_seconds())\n",
    " .pipe(lambda s: s/60)\n",
    " .hist(range=(0,12), bins=12)\n",
    ")"
   ]
  },
  {
   "cell_type": "code",
   "execution_count": 40,
   "metadata": {},
   "outputs": [
    {
     "data": {
      "text/plain": [
       "worker_id\n",
       "A1685VEOIJIUMR   0 days 00:20:09\n",
       "A17GX84A96WF6C   0 days 01:00:40\n",
       "A2USH7VYFMU1ME   0 days 00:22:28\n",
       "ASQL7ZBXI7WF6    0 days 23:20:25\n",
       "Name: time_delta, dtype: timedelta64[ns]"
      ]
     },
     "execution_count": 40,
     "metadata": {},
     "output_type": "execute_result"
    }
   ],
   "source": [
    "answer_df.groupby('worker_id')['time_delta'].sum()"
   ]
  },
  {
   "cell_type": "code",
   "execution_count": null,
   "metadata": {},
   "outputs": [],
   "source": []
  },
  {
   "cell_type": "code",
   "execution_count": null,
   "metadata": {},
   "outputs": [],
   "source": []
  },
  {
   "cell_type": "code",
   "execution_count": null,
   "metadata": {},
   "outputs": [],
   "source": []
  },
  {
   "cell_type": "code",
   "execution_count": null,
   "metadata": {},
   "outputs": [],
   "source": []
  },
  {
   "cell_type": "code",
   "execution_count": null,
   "metadata": {},
   "outputs": [],
   "source": []
  },
  {
   "cell_type": "code",
   "execution_count": null,
   "metadata": {},
   "outputs": [],
   "source": []
  },
  {
   "cell_type": "code",
   "execution_count": null,
   "metadata": {},
   "outputs": [],
   "source": []
  },
  {
   "cell_type": "code",
   "execution_count": null,
   "metadata": {},
   "outputs": [],
   "source": []
  },
  {
   "cell_type": "code",
   "execution_count": 231,
   "metadata": {},
   "outputs": [],
   "source": [
    "for assignment in assignments:\n",
    "    # Retreive the attributes for each Assignment\n",
    "    answer_dict = xmltodict.parse(assignment['Answer'])\n",
    "    answer = json.loads(answer_dict['QuestionFormAnswers']['Answer'][1]['FreeText'])"
   ]
  },
  {
   "cell_type": "code",
   "execution_count": 232,
   "metadata": {},
   "outputs": [
    {
     "data": {
      "text/plain": [
       "{'doc_id': \"('nyt', 752766, 1, 2)\",\n",
       " 'annotated connections': [],\n",
       " 'nodes': [{'sent_idx': 0,\n",
       "   'sentence': 'Crimea will vote on Sunday in a ballot referendum that leaders of the regional Parliament expect will ratify their decision to break away from Ukraine and become part of Russia.',\n",
       "   'version': 1},\n",
       "  {'sent_idx': 1,\n",
       "   'sentence': 'The referendum will offer two choices, neither one of them “No”: 1) “Are you in favor of the reunification of Crimea with Russia as a part of the Russian Federation?” 2) “Are you in favor of restoring the 1992 Constitution and the status of Crimea as a part of Ukraine?” Voters will have to mark one option affirmatively, but they cannot vote for the status quo.',\n",
       "   'version': 1},\n",
       "  {'sent_idx': 2,\n",
       "   'sentence': 'A return to the 1992 Constitution — adopted after the Soviet collapse but quickly thrown out by the post-Soviet Ukraine — would effectively provide for Crimea’s independence, while remaining part of Ukraine.',\n",
       "   'version': 1},\n",
       "  {'sent_idx': 3,\n",
       "   'sentence': 'The Crimean government would have broad powers to chart its own course, including its relations with other nations such as Russia.',\n",
       "   'version': 1},\n",
       "  {'sent_idx': 4,\n",
       "   'sentence': 'Retaining Crimea’s current status, which provides for more limited autonomy from the central government in Kiev, is not an option, which may help explain why the Crimean Tatars have refused to take part in the voting.',\n",
       "   'version': 1},\n",
       "  {'sent_idx': 5,\n",
       "   'sentence': 'No matter what voters choose, the regional Parliament seems intent on changing its relationship with Kiev.',\n",
       "   'version': 1},\n",
       "  {'sent_idx': 6,\n",
       "   'sentence': 'Meanwhile, Ukraine’s new leadership and its Western allies insist that the referendum is illegal.',\n",
       "   'version': 1},\n",
       "  {'sent_idx': 7,\n",
       "   'sentence': 'The city of Stavropol, which has a special administrative status, will hold a simultaneous referendum offering the same choices.',\n",
       "   'version': 1},\n",
       "  {'sent_idx': 0,\n",
       "   'sentence': 'Crimea will vote on Sunday in a ballot referendum that leaders of the regional Parliament expect will ratify their decision to break away from Ukraine and become part of Russia.',\n",
       "   'version': 2},\n",
       "  {'sent_idx': 1,\n",
       "   'sentence': 'The referendum will offer two choices, neither one of them “No”:',\n",
       "   'version': 2},\n",
       "  {'sent_idx': 2,\n",
       "   'sentence': '1. “Are you in favor of the reunification of Crimea with Russia as a part of the Russian Federation?”',\n",
       "   'version': 2},\n",
       "  {'sent_idx': 3,\n",
       "   'sentence': '2. “Are you in favor of restoring the 1992 Constitution and the status of Crimea as a part of Ukraine?” Voters will have to mark one option affirmatively, but they cannot vote for the status quo.',\n",
       "   'version': 2},\n",
       "  {'sent_idx': 4,\n",
       "   'sentence': 'A return to the 1992 Constitution — adopted after the Soviet collapse but quickly thrown out by the post-Soviet Ukraine — would effectively provide for Crimea’s independence, while remaining part of Ukraine.',\n",
       "   'version': 2},\n",
       "  {'sent_idx': 5,\n",
       "   'sentence': 'The Crimean government would have broad powers to chart its own course, including its relations with other nations such as Russia.',\n",
       "   'version': 2},\n",
       "  {'sent_idx': 6,\n",
       "   'sentence': 'Retaining Crimea’s current status, which provides for more limited autonomy from the central government in Kiev, is not an option, which may help explain why the Crimean Tatars have refused to take part in the voting.',\n",
       "   'version': 2},\n",
       "  {'sent_idx': 7,\n",
       "   'sentence': 'No matter what voters choose, the regional Parliament seems intent on changing its relationship with Kiev.',\n",
       "   'version': 2},\n",
       "  {'sent_idx': 8,\n",
       "   'sentence': 'Meanwhile, Ukraine’s new leadership and its Western allies insist that the referendum is illegal.',\n",
       "   'version': 2},\n",
       "  {'sent_idx': 9,\n",
       "   'sentence': 'The city of Stavropol, which has a special administrative status, will hold a simultaneous referendum offering the same choices.',\n",
       "   'version': 2}],\n",
       " 'original_arcs': [{'avg_sentence_distance_x': 4.612551477757868e-07,\n",
       "   'avg_sentence_distance_y': 4.612551477757868e-07,\n",
       "   'sent_idx_x': 3,\n",
       "   'sent_idx_y': 5,\n",
       "   'version_x': 1,\n",
       "   'version_y': 2},\n",
       "  {'avg_sentence_distance_x': 0,\n",
       "   'avg_sentence_distance_y': 0,\n",
       "   'sent_idx_x': 7,\n",
       "   'sent_idx_y': 9,\n",
       "   'version_x': 1,\n",
       "   'version_y': 2},\n",
       "  {'avg_sentence_distance_x': 6.490596496330667e-07,\n",
       "   'avg_sentence_distance_y': 6.490596496330667e-07,\n",
       "   'sent_idx_x': 4,\n",
       "   'sent_idx_y': 6,\n",
       "   'version_x': 1,\n",
       "   'version_y': 2},\n",
       "  {'avg_sentence_distance_x': None,\n",
       "   'avg_sentence_distance_y': None,\n",
       "   'sent_idx_x': 1,\n",
       "   'sent_idx_y': None,\n",
       "   'version_x': 1,\n",
       "   'version_y': 2},\n",
       "  {'avg_sentence_distance_x': 0,\n",
       "   'avg_sentence_distance_y': 0,\n",
       "   'sent_idx_x': 5,\n",
       "   'sent_idx_y': 7,\n",
       "   'version_x': 1,\n",
       "   'version_y': 2},\n",
       "  {'avg_sentence_distance_x': None,\n",
       "   'avg_sentence_distance_y': None,\n",
       "   'sent_idx_x': None,\n",
       "   'sent_idx_y': 3,\n",
       "   'version_x': 1,\n",
       "   'version_y': 2},\n",
       "  {'avg_sentence_distance_x': 5.276638099064554e-07,\n",
       "   'avg_sentence_distance_y': 5.276638099064554e-07,\n",
       "   'sent_idx_x': 2,\n",
       "   'sent_idx_y': 4,\n",
       "   'version_x': 1,\n",
       "   'version_y': 2},\n",
       "  {'avg_sentence_distance_x': None,\n",
       "   'avg_sentence_distance_y': None,\n",
       "   'sent_idx_x': None,\n",
       "   'sent_idx_y': 1,\n",
       "   'version_x': 1,\n",
       "   'version_y': 2},\n",
       "  {'avg_sentence_distance_x': 5.496641901315176e-07,\n",
       "   'avg_sentence_distance_y': 5.496641901315176e-07,\n",
       "   'sent_idx_x': 0,\n",
       "   'sent_idx_y': 0,\n",
       "   'version_x': 1,\n",
       "   'version_y': 2},\n",
       "  {'avg_sentence_distance_x': None,\n",
       "   'avg_sentence_distance_y': None,\n",
       "   'sent_idx_x': None,\n",
       "   'sent_idx_y': 2,\n",
       "   'version_x': 1,\n",
       "   'version_y': 2},\n",
       "  {'avg_sentence_distance_x': 0,\n",
       "   'avg_sentence_distance_y': 0,\n",
       "   'sent_idx_x': 6,\n",
       "   'sent_idx_y': 8,\n",
       "   'version_x': 1,\n",
       "   'version_y': 2}],\n",
       " 'num_connections_added': 0}"
      ]
     },
     "execution_count": 232,
     "metadata": {},
     "output_type": "execute_result"
    }
   ],
   "source": [
    "answer"
   ]
  },
  {
   "cell_type": "code",
   "execution_count": null,
   "metadata": {},
   "outputs": [],
   "source": []
  },
  {
   "cell_type": "code",
   "execution_count": 282,
   "metadata": {},
   "outputs": [],
   "source": [
    "hits = mturk.client.list_hits(MaxResults=100)"
   ]
  },
  {
   "cell_type": "code",
   "execution_count": 283,
   "metadata": {},
   "outputs": [],
   "source": [
    "hits_df = pd.DataFrame(hits['HITs'])"
   ]
  },
  {
   "cell_type": "code",
   "execution_count": 284,
   "metadata": {},
   "outputs": [],
   "source": [
    "hits_df['CreationTime'] = pd.to_datetime(hits_df['CreationTime'])\n",
    "import datetime"
   ]
  },
  {
   "cell_type": "code",
   "execution_count": 285,
   "metadata": {},
   "outputs": [
    {
     "data": {
      "text/plain": [
       "0    2021-10-22 20:05:44-07:00\n",
       "1    2021-10-22 20:05:43-07:00\n",
       "2    2021-10-22 20:05:42-07:00\n",
       "3    2021-10-22 20:05:41-07:00\n",
       "4    2021-10-22 20:05:40-07:00\n",
       "                ...           \n",
       "93   2021-05-13 12:39:03-07:00\n",
       "94   2021-05-13 12:39:03-07:00\n",
       "95   2021-05-13 12:39:02-07:00\n",
       "96   2021-05-13 12:39:01-07:00\n",
       "97   2021-05-13 12:39:00-07:00\n",
       "Name: CreationTime, Length: 98, dtype: datetime64[ns, tzlocal()]"
      ]
     },
     "execution_count": 285,
     "metadata": {},
     "output_type": "execute_result"
    }
   ],
   "source": [
    "hits_df['CreationTime']"
   ]
  },
  {
   "cell_type": "code",
   "execution_count": null,
   "metadata": {},
   "outputs": [],
   "source": []
  },
  {
   "cell_type": "code",
   "execution_count": 260,
   "metadata": {},
   "outputs": [
    {
     "ename": "TypeError",
     "evalue": "Cannot compare tz-naive and tz-aware datetime-like objects",
     "output_type": "error",
     "traceback": [
      "\u001b[0;31m---------------------------------------------------------------------------\u001b[0m",
      "\u001b[0;31mTypeError\u001b[0m                                 Traceback (most recent call last)",
      "\u001b[0;32m<ipython-input-260-8271e00e109f>\u001b[0m in \u001b[0;36m<module>\u001b[0;34m\u001b[0m\n\u001b[0;32m----> 1\u001b[0;31m \u001b[0mhits_df\u001b[0m\u001b[0;34m.\u001b[0m\u001b[0mloc\u001b[0m\u001b[0;34m[\u001b[0m\u001b[0;32mlambda\u001b[0m \u001b[0mdf\u001b[0m\u001b[0;34m:\u001b[0m \u001b[0mdf\u001b[0m\u001b[0;34m[\u001b[0m\u001b[0;34m'CreationTime'\u001b[0m\u001b[0;34m]\u001b[0m  \u001b[0;34m>\u001b[0m \u001b[0mdatetime\u001b[0m\u001b[0;34m.\u001b[0m\u001b[0mdatetime\u001b[0m\u001b[0;34m(\u001b[0m\u001b[0;36m2021\u001b[0m\u001b[0;34m,\u001b[0m \u001b[0;36m10\u001b[0m\u001b[0;34m,\u001b[0m \u001b[0;36m1\u001b[0m\u001b[0;34m)\u001b[0m\u001b[0;34m]\u001b[0m\u001b[0;34m\u001b[0m\u001b[0;34m\u001b[0m\u001b[0m\n\u001b[0m",
      "\u001b[0;32m~/opt/anaconda3/lib/python3.7/site-packages/pandas/core/indexing.py\u001b[0m in \u001b[0;36m__getitem__\u001b[0;34m(self, key)\u001b[0m\n\u001b[1;32m   1764\u001b[0m             \u001b[0maxis\u001b[0m \u001b[0;34m=\u001b[0m \u001b[0mself\u001b[0m\u001b[0;34m.\u001b[0m\u001b[0maxis\u001b[0m \u001b[0;32mor\u001b[0m \u001b[0;36m0\u001b[0m\u001b[0;34m\u001b[0m\u001b[0;34m\u001b[0m\u001b[0m\n\u001b[1;32m   1765\u001b[0m \u001b[0;34m\u001b[0m\u001b[0m\n\u001b[0;32m-> 1766\u001b[0;31m             \u001b[0mmaybe_callable\u001b[0m \u001b[0;34m=\u001b[0m \u001b[0mcom\u001b[0m\u001b[0;34m.\u001b[0m\u001b[0mapply_if_callable\u001b[0m\u001b[0;34m(\u001b[0m\u001b[0mkey\u001b[0m\u001b[0;34m,\u001b[0m \u001b[0mself\u001b[0m\u001b[0;34m.\u001b[0m\u001b[0mobj\u001b[0m\u001b[0;34m)\u001b[0m\u001b[0;34m\u001b[0m\u001b[0;34m\u001b[0m\u001b[0m\n\u001b[0m\u001b[1;32m   1767\u001b[0m             \u001b[0;32mreturn\u001b[0m \u001b[0mself\u001b[0m\u001b[0;34m.\u001b[0m\u001b[0m_getitem_axis\u001b[0m\u001b[0;34m(\u001b[0m\u001b[0mmaybe_callable\u001b[0m\u001b[0;34m,\u001b[0m \u001b[0maxis\u001b[0m\u001b[0;34m=\u001b[0m\u001b[0maxis\u001b[0m\u001b[0;34m)\u001b[0m\u001b[0;34m\u001b[0m\u001b[0;34m\u001b[0m\u001b[0m\n\u001b[1;32m   1768\u001b[0m \u001b[0;34m\u001b[0m\u001b[0m\n",
      "\u001b[0;32m~/opt/anaconda3/lib/python3.7/site-packages/pandas/core/common.py\u001b[0m in \u001b[0;36mapply_if_callable\u001b[0;34m(maybe_callable, obj, **kwargs)\u001b[0m\n\u001b[1;32m    346\u001b[0m \u001b[0;34m\u001b[0m\u001b[0m\n\u001b[1;32m    347\u001b[0m     \u001b[0;32mif\u001b[0m \u001b[0mcallable\u001b[0m\u001b[0;34m(\u001b[0m\u001b[0mmaybe_callable\u001b[0m\u001b[0;34m)\u001b[0m\u001b[0;34m:\u001b[0m\u001b[0;34m\u001b[0m\u001b[0;34m\u001b[0m\u001b[0m\n\u001b[0;32m--> 348\u001b[0;31m         \u001b[0;32mreturn\u001b[0m \u001b[0mmaybe_callable\u001b[0m\u001b[0;34m(\u001b[0m\u001b[0mobj\u001b[0m\u001b[0;34m,\u001b[0m \u001b[0;34m**\u001b[0m\u001b[0mkwargs\u001b[0m\u001b[0;34m)\u001b[0m\u001b[0;34m\u001b[0m\u001b[0;34m\u001b[0m\u001b[0m\n\u001b[0m\u001b[1;32m    349\u001b[0m \u001b[0;34m\u001b[0m\u001b[0m\n\u001b[1;32m    350\u001b[0m     \u001b[0;32mreturn\u001b[0m \u001b[0mmaybe_callable\u001b[0m\u001b[0;34m\u001b[0m\u001b[0;34m\u001b[0m\u001b[0m\n",
      "\u001b[0;32m<ipython-input-260-8271e00e109f>\u001b[0m in \u001b[0;36m<lambda>\u001b[0;34m(df)\u001b[0m\n\u001b[0;32m----> 1\u001b[0;31m \u001b[0mhits_df\u001b[0m\u001b[0;34m.\u001b[0m\u001b[0mloc\u001b[0m\u001b[0;34m[\u001b[0m\u001b[0;32mlambda\u001b[0m \u001b[0mdf\u001b[0m\u001b[0;34m:\u001b[0m \u001b[0mdf\u001b[0m\u001b[0;34m[\u001b[0m\u001b[0;34m'CreationTime'\u001b[0m\u001b[0;34m]\u001b[0m  \u001b[0;34m>\u001b[0m \u001b[0mdatetime\u001b[0m\u001b[0;34m.\u001b[0m\u001b[0mdatetime\u001b[0m\u001b[0;34m(\u001b[0m\u001b[0;36m2021\u001b[0m\u001b[0;34m,\u001b[0m \u001b[0;36m10\u001b[0m\u001b[0;34m,\u001b[0m \u001b[0;36m1\u001b[0m\u001b[0;34m)\u001b[0m\u001b[0;34m]\u001b[0m\u001b[0;34m\u001b[0m\u001b[0;34m\u001b[0m\u001b[0m\n\u001b[0m",
      "\u001b[0;32m~/opt/anaconda3/lib/python3.7/site-packages/pandas/core/ops/common.py\u001b[0m in \u001b[0;36mnew_method\u001b[0;34m(self, other)\u001b[0m\n\u001b[1;32m     62\u001b[0m         \u001b[0mother\u001b[0m \u001b[0;34m=\u001b[0m \u001b[0mitem_from_zerodim\u001b[0m\u001b[0;34m(\u001b[0m\u001b[0mother\u001b[0m\u001b[0;34m)\u001b[0m\u001b[0;34m\u001b[0m\u001b[0;34m\u001b[0m\u001b[0m\n\u001b[1;32m     63\u001b[0m \u001b[0;34m\u001b[0m\u001b[0m\n\u001b[0;32m---> 64\u001b[0;31m         \u001b[0;32mreturn\u001b[0m \u001b[0mmethod\u001b[0m\u001b[0;34m(\u001b[0m\u001b[0mself\u001b[0m\u001b[0;34m,\u001b[0m \u001b[0mother\u001b[0m\u001b[0;34m)\u001b[0m\u001b[0;34m\u001b[0m\u001b[0;34m\u001b[0m\u001b[0m\n\u001b[0m\u001b[1;32m     65\u001b[0m \u001b[0;34m\u001b[0m\u001b[0m\n\u001b[1;32m     66\u001b[0m     \u001b[0;32mreturn\u001b[0m \u001b[0mnew_method\u001b[0m\u001b[0;34m\u001b[0m\u001b[0;34m\u001b[0m\u001b[0m\n",
      "\u001b[0;32m~/opt/anaconda3/lib/python3.7/site-packages/pandas/core/ops/__init__.py\u001b[0m in \u001b[0;36mwrapper\u001b[0;34m(self, other)\u001b[0m\n\u001b[1;32m    524\u001b[0m         \u001b[0mrvalues\u001b[0m \u001b[0;34m=\u001b[0m \u001b[0mextract_array\u001b[0m\u001b[0;34m(\u001b[0m\u001b[0mother\u001b[0m\u001b[0;34m,\u001b[0m \u001b[0mextract_numpy\u001b[0m\u001b[0;34m=\u001b[0m\u001b[0;32mTrue\u001b[0m\u001b[0;34m)\u001b[0m\u001b[0;34m\u001b[0m\u001b[0;34m\u001b[0m\u001b[0m\n\u001b[1;32m    525\u001b[0m \u001b[0;34m\u001b[0m\u001b[0m\n\u001b[0;32m--> 526\u001b[0;31m         \u001b[0mres_values\u001b[0m \u001b[0;34m=\u001b[0m \u001b[0mcomparison_op\u001b[0m\u001b[0;34m(\u001b[0m\u001b[0mlvalues\u001b[0m\u001b[0;34m,\u001b[0m \u001b[0mrvalues\u001b[0m\u001b[0;34m,\u001b[0m \u001b[0mop\u001b[0m\u001b[0;34m)\u001b[0m\u001b[0;34m\u001b[0m\u001b[0;34m\u001b[0m\u001b[0m\n\u001b[0m\u001b[1;32m    527\u001b[0m \u001b[0;34m\u001b[0m\u001b[0m\n\u001b[1;32m    528\u001b[0m         \u001b[0;32mreturn\u001b[0m \u001b[0m_construct_result\u001b[0m\u001b[0;34m(\u001b[0m\u001b[0mself\u001b[0m\u001b[0;34m,\u001b[0m \u001b[0mres_values\u001b[0m\u001b[0;34m,\u001b[0m \u001b[0mindex\u001b[0m\u001b[0;34m=\u001b[0m\u001b[0mself\u001b[0m\u001b[0;34m.\u001b[0m\u001b[0mindex\u001b[0m\u001b[0;34m,\u001b[0m \u001b[0mname\u001b[0m\u001b[0;34m=\u001b[0m\u001b[0mres_name\u001b[0m\u001b[0;34m)\u001b[0m\u001b[0;34m\u001b[0m\u001b[0;34m\u001b[0m\u001b[0m\n",
      "\u001b[0;32m~/opt/anaconda3/lib/python3.7/site-packages/pandas/core/ops/array_ops.py\u001b[0m in \u001b[0;36mcomparison_op\u001b[0;34m(left, right, op)\u001b[0m\n\u001b[1;32m    235\u001b[0m \u001b[0;34m\u001b[0m\u001b[0m\n\u001b[1;32m    236\u001b[0m     \u001b[0;32mif\u001b[0m \u001b[0mshould_extension_dispatch\u001b[0m\u001b[0;34m(\u001b[0m\u001b[0mlvalues\u001b[0m\u001b[0;34m,\u001b[0m \u001b[0mrvalues\u001b[0m\u001b[0;34m)\u001b[0m\u001b[0;34m:\u001b[0m\u001b[0;34m\u001b[0m\u001b[0;34m\u001b[0m\u001b[0m\n\u001b[0;32m--> 237\u001b[0;31m         \u001b[0mres_values\u001b[0m \u001b[0;34m=\u001b[0m \u001b[0mdispatch_to_extension_op\u001b[0m\u001b[0;34m(\u001b[0m\u001b[0mop\u001b[0m\u001b[0;34m,\u001b[0m \u001b[0mlvalues\u001b[0m\u001b[0;34m,\u001b[0m \u001b[0mrvalues\u001b[0m\u001b[0;34m)\u001b[0m\u001b[0;34m\u001b[0m\u001b[0;34m\u001b[0m\u001b[0m\n\u001b[0m\u001b[1;32m    238\u001b[0m \u001b[0;34m\u001b[0m\u001b[0m\n\u001b[1;32m    239\u001b[0m     \u001b[0;32melif\u001b[0m \u001b[0mis_scalar\u001b[0m\u001b[0;34m(\u001b[0m\u001b[0mrvalues\u001b[0m\u001b[0;34m)\u001b[0m \u001b[0;32mand\u001b[0m \u001b[0misna\u001b[0m\u001b[0;34m(\u001b[0m\u001b[0mrvalues\u001b[0m\u001b[0;34m)\u001b[0m\u001b[0;34m:\u001b[0m\u001b[0;34m\u001b[0m\u001b[0;34m\u001b[0m\u001b[0m\n",
      "\u001b[0;32m~/opt/anaconda3/lib/python3.7/site-packages/pandas/core/ops/dispatch.py\u001b[0m in \u001b[0;36mdispatch_to_extension_op\u001b[0;34m(op, left, right)\u001b[0m\n\u001b[1;32m    123\u001b[0m     \u001b[0;31m# The op calls will raise TypeError if the op is not defined\u001b[0m\u001b[0;34m\u001b[0m\u001b[0;34m\u001b[0m\u001b[0;34m\u001b[0m\u001b[0m\n\u001b[1;32m    124\u001b[0m     \u001b[0;31m# on the ExtensionArray\u001b[0m\u001b[0;34m\u001b[0m\u001b[0;34m\u001b[0m\u001b[0;34m\u001b[0m\u001b[0m\n\u001b[0;32m--> 125\u001b[0;31m     \u001b[0mres_values\u001b[0m \u001b[0;34m=\u001b[0m \u001b[0mop\u001b[0m\u001b[0;34m(\u001b[0m\u001b[0mleft\u001b[0m\u001b[0;34m,\u001b[0m \u001b[0mright\u001b[0m\u001b[0;34m)\u001b[0m\u001b[0;34m\u001b[0m\u001b[0;34m\u001b[0m\u001b[0m\n\u001b[0m\u001b[1;32m    126\u001b[0m     \u001b[0;32mreturn\u001b[0m \u001b[0mres_values\u001b[0m\u001b[0;34m\u001b[0m\u001b[0;34m\u001b[0m\u001b[0m\n",
      "\u001b[0;32m~/opt/anaconda3/lib/python3.7/site-packages/pandas/core/ops/common.py\u001b[0m in \u001b[0;36mnew_method\u001b[0;34m(self, other)\u001b[0m\n\u001b[1;32m     62\u001b[0m         \u001b[0mother\u001b[0m \u001b[0;34m=\u001b[0m \u001b[0mitem_from_zerodim\u001b[0m\u001b[0;34m(\u001b[0m\u001b[0mother\u001b[0m\u001b[0;34m)\u001b[0m\u001b[0;34m\u001b[0m\u001b[0;34m\u001b[0m\u001b[0m\n\u001b[1;32m     63\u001b[0m \u001b[0;34m\u001b[0m\u001b[0m\n\u001b[0;32m---> 64\u001b[0;31m         \u001b[0;32mreturn\u001b[0m \u001b[0mmethod\u001b[0m\u001b[0;34m(\u001b[0m\u001b[0mself\u001b[0m\u001b[0;34m,\u001b[0m \u001b[0mother\u001b[0m\u001b[0;34m)\u001b[0m\u001b[0;34m\u001b[0m\u001b[0;34m\u001b[0m\u001b[0m\n\u001b[0m\u001b[1;32m     65\u001b[0m \u001b[0;34m\u001b[0m\u001b[0m\n\u001b[1;32m     66\u001b[0m     \u001b[0;32mreturn\u001b[0m \u001b[0mnew_method\u001b[0m\u001b[0;34m\u001b[0m\u001b[0;34m\u001b[0m\u001b[0m\n",
      "\u001b[0;32m~/opt/anaconda3/lib/python3.7/site-packages/pandas/core/arrays/datetimelike.py\u001b[0m in \u001b[0;36mwrapper\u001b[0;34m(self, other)\u001b[0m\n\u001b[1;32m     72\u001b[0m         \u001b[0;32mif\u001b[0m \u001b[0misinstance\u001b[0m\u001b[0;34m(\u001b[0m\u001b[0mother\u001b[0m\u001b[0;34m,\u001b[0m \u001b[0mself\u001b[0m\u001b[0;34m.\u001b[0m\u001b[0m_recognized_scalars\u001b[0m\u001b[0;34m)\u001b[0m \u001b[0;32mor\u001b[0m \u001b[0mother\u001b[0m \u001b[0;32mis\u001b[0m \u001b[0mNaT\u001b[0m\u001b[0;34m:\u001b[0m\u001b[0;34m\u001b[0m\u001b[0;34m\u001b[0m\u001b[0m\n\u001b[1;32m     73\u001b[0m             \u001b[0mother\u001b[0m \u001b[0;34m=\u001b[0m \u001b[0mself\u001b[0m\u001b[0;34m.\u001b[0m\u001b[0m_scalar_type\u001b[0m\u001b[0;34m(\u001b[0m\u001b[0mother\u001b[0m\u001b[0;34m)\u001b[0m\u001b[0;34m\u001b[0m\u001b[0;34m\u001b[0m\u001b[0m\n\u001b[0;32m---> 74\u001b[0;31m             \u001b[0mself\u001b[0m\u001b[0;34m.\u001b[0m\u001b[0m_check_compatible_with\u001b[0m\u001b[0;34m(\u001b[0m\u001b[0mother\u001b[0m\u001b[0;34m)\u001b[0m\u001b[0;34m\u001b[0m\u001b[0;34m\u001b[0m\u001b[0m\n\u001b[0m\u001b[1;32m     75\u001b[0m \u001b[0;34m\u001b[0m\u001b[0m\n\u001b[1;32m     76\u001b[0m             \u001b[0mother_i8\u001b[0m \u001b[0;34m=\u001b[0m \u001b[0mself\u001b[0m\u001b[0;34m.\u001b[0m\u001b[0m_unbox_scalar\u001b[0m\u001b[0;34m(\u001b[0m\u001b[0mother\u001b[0m\u001b[0;34m)\u001b[0m\u001b[0;34m\u001b[0m\u001b[0;34m\u001b[0m\u001b[0m\n",
      "\u001b[0;32m~/opt/anaconda3/lib/python3.7/site-packages/pandas/core/arrays/datetimes.py\u001b[0m in \u001b[0;36m_check_compatible_with\u001b[0;34m(self, other, setitem)\u001b[0m\n\u001b[1;32m    460\u001b[0m         \u001b[0;32mif\u001b[0m \u001b[0mother\u001b[0m \u001b[0;32mis\u001b[0m \u001b[0mNaT\u001b[0m\u001b[0;34m:\u001b[0m\u001b[0;34m\u001b[0m\u001b[0;34m\u001b[0m\u001b[0m\n\u001b[1;32m    461\u001b[0m             \u001b[0;32mreturn\u001b[0m\u001b[0;34m\u001b[0m\u001b[0;34m\u001b[0m\u001b[0m\n\u001b[0;32m--> 462\u001b[0;31m         \u001b[0mself\u001b[0m\u001b[0;34m.\u001b[0m\u001b[0m_assert_tzawareness_compat\u001b[0m\u001b[0;34m(\u001b[0m\u001b[0mother\u001b[0m\u001b[0;34m)\u001b[0m\u001b[0;34m\u001b[0m\u001b[0;34m\u001b[0m\u001b[0m\n\u001b[0m\u001b[1;32m    463\u001b[0m         \u001b[0;32mif\u001b[0m \u001b[0msetitem\u001b[0m\u001b[0;34m:\u001b[0m\u001b[0;34m\u001b[0m\u001b[0;34m\u001b[0m\u001b[0m\n\u001b[1;32m    464\u001b[0m             \u001b[0;31m# Stricter check for setitem vs comparison methods\u001b[0m\u001b[0;34m\u001b[0m\u001b[0;34m\u001b[0m\u001b[0;34m\u001b[0m\u001b[0m\n",
      "\u001b[0;32m~/opt/anaconda3/lib/python3.7/site-packages/pandas/core/arrays/datetimes.py\u001b[0m in \u001b[0;36m_assert_tzawareness_compat\u001b[0;34m(self, other)\u001b[0m\n\u001b[1;32m    645\u001b[0m         \u001b[0;32melif\u001b[0m \u001b[0mother_tz\u001b[0m \u001b[0;32mis\u001b[0m \u001b[0;32mNone\u001b[0m\u001b[0;34m:\u001b[0m\u001b[0;34m\u001b[0m\u001b[0;34m\u001b[0m\u001b[0m\n\u001b[1;32m    646\u001b[0m             raise TypeError(\n\u001b[0;32m--> 647\u001b[0;31m                 \u001b[0;34m\"Cannot compare tz-naive and tz-aware datetime-like objects\"\u001b[0m\u001b[0;34m\u001b[0m\u001b[0;34m\u001b[0m\u001b[0m\n\u001b[0m\u001b[1;32m    648\u001b[0m             )\n\u001b[1;32m    649\u001b[0m \u001b[0;34m\u001b[0m\u001b[0m\n",
      "\u001b[0;31mTypeError\u001b[0m: Cannot compare tz-naive and tz-aware datetime-like objects"
     ]
    }
   ],
   "source": [
    "hits_df.loc[lambda df: df['CreationTime']  > datetime.datetime(2021, 10, 1, tzinfo=datetime.tzinfo)]"
   ]
  },
  {
   "cell_type": "code",
   "execution_count": null,
   "metadata": {},
   "outputs": [],
   "source": []
  },
  {
   "cell_type": "code",
   "execution_count": null,
   "metadata": {},
   "outputs": [],
   "source": []
  },
  {
   "cell_type": "code",
   "execution_count": null,
   "metadata": {},
   "outputs": [],
   "source": []
  },
  {
   "cell_type": "code",
   "execution_count": null,
   "metadata": {},
   "outputs": [],
   "source": []
  },
  {
   "cell_type": "code",
   "execution_count": null,
   "metadata": {},
   "outputs": [],
   "source": []
  },
  {
   "cell_type": "code",
   "execution_count": 181,
   "metadata": {},
   "outputs": [],
   "source": [
    "from importlib import reload"
   ]
  },
  {
   "cell_type": "code",
   "execution_count": 183,
   "metadata": {},
   "outputs": [
    {
     "data": {
      "text/plain": [
       "<module 'mturk.utils_mturk' from '../evaluation/mturk/utils_mturk.py'>"
      ]
     },
     "execution_count": 183,
     "metadata": {},
     "output_type": "execute_result"
    }
   ],
   "source": [
    "reload(um)"
   ]
  },
  {
   "cell_type": "code",
   "execution_count": null,
   "metadata": {},
   "outputs": [],
   "source": []
  },
  {
   "cell_type": "code",
   "execution_count": null,
   "metadata": {},
   "outputs": [],
   "source": []
  },
  {
   "cell_type": "code",
   "execution_count": 92,
   "metadata": {
    "scrolled": true
   },
   "outputs": [
    {
     "data": {
      "text/plain": [
       "[{'version': 1,\n",
       "  'sent_idx': 0,\n",
       "  'sentence': 'TAIPEI, Taiwan — A man fatally stabbed six nurses and a manager on Thursday at a Chinese military hospital in a seaside area famous for gatherings of Communist Party leaders, police officials in China said.'}]"
      ]
     },
     "execution_count": 92,
     "metadata": {},
     "output_type": "execute_result"
    }
   ],
   "source": [
    "list(filter(lambda x: x['version'] == 1 and x['sent_idx'] == 0, data['nodes']))"
   ]
  },
  {
   "cell_type": "code",
   "execution_count": null,
   "metadata": {},
   "outputs": [],
   "source": []
  },
  {
   "cell_type": "code",
   "execution_count": 97,
   "metadata": {},
   "outputs": [],
   "source": [
    "t1 = \"TAIPEI, Taiwan — Police officials in China said Thursday that they arrested a man suspected of stabbing to death six nurses and a manager at a Chinese military sanitarium in a seaside area famous for gatherings of Communist Party leaders.\"\n",
    "t2 = \"TAIPEI, Taiwan — A man fatally stabbed six nurses and a manager on Thursday at a Chinese military hospital in a seaside area famous for gatherings of Communist Party leaders, police officials in China said.\"\n",
    "\n",
    "t1 = 'ZABUL, Afghanistan — A complex attack on a military base in southern Afghanistan Monday left at least one member of U.S.-led coalition forces dead.'\n",
    "t2 = 'ZABUL, Afghanistan — A complex attack on a military base in southern Afghanistan Monday killed at least one member of the U.S.-led coalition forces.'"
   ]
  },
  {
   "cell_type": "code",
   "execution_count": 98,
   "metadata": {},
   "outputs": [],
   "source": [
    "import sys\n",
    "sys.path.insert(0, '../')\n",
    "import util.util_newssniffer_parsing as unp"
   ]
  },
  {
   "cell_type": "code",
   "execution_count": 99,
   "metadata": {},
   "outputs": [
    {
     "data": {
      "text/plain": [
       "('ZABUL , Afghanistan — A complex attack on a military base in southern Afghanistan Monday <span style=\"background-color:rgba(255,0,0,0.3)\">left</span>  at least one member of  U.S.-led coalition forces <span style=\"background-color:rgba(255,0,0,0.3)\">dead</span> .',\n",
       " 'ZABUL , Afghanistan — A complex attack on a military base in southern Afghanistan Monday  <span style=\"background-color:rgba(0,255,0,0.3)\">killed </span> at least one member of <span style=\"background-color:rgba(0,255,0,0.3)\">the </span> U.S.-led coalition forces  .')"
      ]
     },
     "execution_count": 99,
     "metadata": {},
     "output_type": "execute_result"
    }
   ],
   "source": [
    "unp.html_compare_sentences(t1, t2)"
   ]
  },
  {
   "cell_type": "code",
   "execution_count": null,
   "metadata": {},
   "outputs": [],
   "source": []
  },
  {
   "cell_type": "code",
   "execution_count": 101,
   "metadata": {},
   "outputs": [],
   "source": [
    "t1= 'The police said the suspect in the killings Thursday morning in Beidaihe, a resort area in the Hebei Province city of Qinhuangdao, is a sanitarium employee, indicating the attack was likely not the result of a dispute over a patient’s treatment-- the suspect, a 27-year-old man, had no known conflict with the victims, who were killed in a women’s dormitory at the hospital, the Qinhuangdao City Public Security Bureau said in a statement online.'\n",
    "\n",
    "t2 = 'The suspect, a 27-year-old hospital employee who had no known motive, was arrested after the attacks, the Qinhuangdao City Public Security Bureau said in a statement online.'\n",
    "t3 = 'The stabbings took place Thursday morning in Beidaihe, a resort area in the Hebei Province city of Qinhuangdao, about 180 miles east of Beijing.'\n",
    "t4 = 'But the fact that the suspect in the Beidaihe case is an employee indicates that the attack was probably not the result of a dispute over a patient’s treatment.'\n",
    "t5 = 'The victims were killed in a women’s dormitory at the hospital for elderly military personnel, also known as People’s Liberation Army Hospital 281, the statement said.'"
   ]
  },
  {
   "cell_type": "code",
   "execution_count": 108,
   "metadata": {},
   "outputs": [],
   "source": [
    "import pyperclip\n",
    "pyperclip.copy(unp.html_compare_sentences(t1, t5)[1])"
   ]
  },
  {
   "cell_type": "code",
   "execution_count": null,
   "metadata": {},
   "outputs": [],
   "source": []
  }
 ],
 "metadata": {
  "hide_input": false,
  "kernelspec": {
   "display_name": "Python 3 (ipykernel)",
   "language": "python",
   "name": "python3"
  },
  "language_info": {
   "codemirror_mode": {
    "name": "ipython",
    "version": 3
   },
   "file_extension": ".py",
   "mimetype": "text/x-python",
   "name": "python",
   "nbconvert_exporter": "python",
   "pygments_lexer": "ipython3",
   "version": "3.12.2"
  }
 },
 "nbformat": 4,
 "nbformat_minor": 4
}
