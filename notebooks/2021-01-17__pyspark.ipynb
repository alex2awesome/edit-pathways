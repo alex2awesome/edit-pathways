{
 "cells": [
  {
   "cell_type": "code",
   "execution_count": 1,
   "metadata": {},
   "outputs": [],
   "source": [
    "import zipfile\n",
    "import databricks.koalas as ks\n",
    "import sys\n",
    "sys.path.insert(0, '../')\n",
    "from util import util_data_access\n",
    "from pyspark.sql import SparkSession\n",
    "import tqdm\n",
    "import pandas as pd \n",
    "import os, glob\n",
    "import re\n",
    "from tqdm.auto import tqdm"
   ]
  },
  {
   "cell_type": "code",
   "execution_count": 2,
   "metadata": {},
   "outputs": [],
   "source": [
    "from importlib import reload"
   ]
  },
  {
   "cell_type": "markdown",
   "metadata": {},
   "source": [
    "# Download and Prepare Data"
   ]
  },
  {
   "cell_type": "code",
   "execution_count": 14,
   "metadata": {},
   "outputs": [
    {
     "data": {
      "text/plain": [
       "True"
      ]
     },
     "execution_count": 14,
     "metadata": {},
     "output_type": "execute_result"
    }
   ],
   "source": [
    "## download spacy model \n",
    "# download data\n",
    "util_data_access.download_file('en_core_web_lg.tar.gz', 'edit-pathways/spacy/en_core_web_lg.tar.gz')\n",
    "! tar -xf en_core_web_lg.tar.gz\n",
    "! mv en_core_web_lg-2.3.1 en_core_web_lg"
   ]
  },
  {
   "cell_type": "code",
   "execution_count": 3,
   "metadata": {},
   "outputs": [
    {
     "data": {
      "text/plain": [
       "True"
      ]
     },
     "execution_count": 3,
     "metadata": {},
     "output_type": "execute_result"
    }
   ],
   "source": [
    "# download data\n",
    "util_data_access.download_file('newssniffer-nytimes.db.gz', 'edit-pathways/dbs/newssniffer-nytimes.db.gz')\n",
    "! gunzip newssniffer-nytimes.db.gz"
   ]
  },
  {
   "cell_type": "code",
   "execution_count": 7,
   "metadata": {},
   "outputs": [
    {
     "data": {
      "text/plain": [
       "True"
      ]
     },
     "execution_count": 7,
     "metadata": {},
     "output_type": "execute_result"
    }
   ],
   "source": [
    "## download data\n",
    "# util_data_access.download_file('edit-data.zip', 'edit-data/edit-data.zip')\n",
    "# myzip = zipfile.ZipFile('edit-data.zip')\n",
    "# myzip.extractall(path='edit-data')"
   ]
  },
  {
   "cell_type": "code",
   "execution_count": 68,
   "metadata": {},
   "outputs": [
    {
     "data": {
      "text/plain": [
       "True"
      ]
     },
     "execution_count": 68,
     "metadata": {},
     "output_type": "execute_result"
    }
   ],
   "source": [
    "util_data_access.upload_file(\n",
    "    'edit-data/article_output/article-output-1-8.json',\n",
    "    object_name='edit-data/article-output-1-8.json',\n",
    ")"
   ]
  },
  {
   "cell_type": "code",
   "execution_count": 71,
   "metadata": {},
   "outputs": [
    {
     "data": {
      "application/vnd.jupyter.widget-view+json": {
       "model_id": "0c43425654184906a4967da1297e40b4",
       "version_major": 2,
       "version_minor": 0
      },
      "text/plain": [
       "HBox(children=(FloatProgress(value=0.0, max=7.0), HTML(value='')))"
      ]
     },
     "metadata": {},
     "output_type": "display_data"
    },
    {
     "name": "stdout",
     "output_type": "stream",
     "text": [
      "\n"
     ]
    }
   ],
   "source": [
    "for i in tqdm(range(2, 9)):\n",
    "    util_data_access.upload_file(\n",
    "        'edit-data/article_output/article-output-%d-8.json' % i,\n",
    "        object_name='edit-data/article-output-%d-8.json' % i,\n",
    "    )"
   ]
  },
  {
   "cell_type": "code",
   "execution_count": 17,
   "metadata": {},
   "outputs": [
    {
     "data": {
      "application/vnd.jupyter.widget-view+json": {
       "model_id": "9737120b572c44aaa85e2816a02fb5e0",
       "version_major": 2,
       "version_minor": 0
      },
      "text/plain": [
       "HBox(children=(FloatProgress(value=0.0, max=8.0), HTML(value='')))"
      ]
     },
     "metadata": {},
     "output_type": "display_data"
    },
    {
     "name": "stdout",
     "output_type": "stream",
     "text": [
      "\n"
     ]
    }
   ],
   "source": [
    "for i in tqdm(range(1, 9)):\n",
    "    util_data_access.upload_file(\n",
    "        'edit-data/article_output/version-output-%d-8.json' % i,\n",
    "        object_name='edit-data/version-output-%d-8.json' % i,\n",
    "    )"
   ]
  },
  {
   "cell_type": "markdown",
   "metadata": {},
   "source": [
    "# Turn on Spark"
   ]
  },
  {
   "cell_type": "code",
   "execution_count": 22,
   "metadata": {},
   "outputs": [],
   "source": [
    "# turn on spark\n",
    "spark = (\n",
    "    SparkSession.builder \\\n",
    "      .config(\"spark.executor.instances\", \"50\") \\\n",
    "      .config(\"spark.driver.memory\", \"15g\") \\\n",
    "      .getOrCreate()\n",
    ")\n",
    "# sc = spark.sparkContext\n",
    "# set arrow to true\n",
    "spark.conf.set(\"spark.sql.execution.arrow.pyspark.enabled\", \"false\")\n",
    "spark.conf.set(\"spark.sql.execution.arrow.enabled\", \"false\")\n",
    "ks.set_option('compute.default_index_type', 'distributed')\n",
    "ks.set_option('compute.shortcut_limit',1) # Koalas will apply pyspark "
   ]
  },
  {
   "cell_type": "code",
   "execution_count": 24,
   "metadata": {},
   "outputs": [
    {
     "data": {
      "text/html": [
       "\n",
       "            <div>\n",
       "                <p><b>SparkSession - in-memory</b></p>\n",
       "                \n",
       "                <div>\n",
       "                    <p><b>SparkContext</b></p>\n",
       "                    <p><a href=\"/sprk/4040/jobs/\">Spark UI</a></p>\n",
       "                    <dl>\n",
       "                      <dt>Version</dt>\n",
       "                        <dd><code>v2.4.4</code></dd>\n",
       "                      <dt>AppName</dt>\n",
       "                        <dd><code>Koalas</code></dd>\n",
       "                    </dl>\n",
       "                    <br>\n",
       "                    <b>Executor Status</b>\n",
       "                    <dl>\n",
       "                      <dt>Running</dt>\n",
       "                        <dd><code>30</code></dd>\n",
       "                      <dt>Pending</dt>\n",
       "                        <dd><code>0</code></dd>\n",
       "                      <dt>Failed</dt>\n",
       "                        <dd><code>0</code></dd>\n",
       "                    </dl>\n",
       "                </div>\n",
       "                \n",
       "            </div>\n",
       "        "
      ],
      "text/plain": [
       "<pyspark.sql.session.SparkSession at 0x7f846b6df240>"
      ]
     },
     "execution_count": 24,
     "metadata": {},
     "output_type": "execute_result"
    }
   ],
   "source": [
    "spark"
   ]
  },
  {
   "cell_type": "code",
   "execution_count": 5,
   "metadata": {},
   "outputs": [],
   "source": [
    "import sqlite3\n",
    "import sys\n",
    "sys.path.append('../util')\n",
    "import util_newssniffer_parsing as unp\n",
    "reload(unp)"
   ]
  },
  {
   "cell_type": "code",
   "execution_count": 6,
   "metadata": {},
   "outputs": [],
   "source": [
    "conn = sqlite3.connect('newssniffer-nytimes.db')"
   ]
  },
  {
   "cell_type": "code",
   "execution_count": 7,
   "metadata": {},
   "outputs": [],
   "source": [
    "df = pd.read_sql('select * from entryversion where entry_id in (select distinct entry_id from entryversion limit 200)', con=conn)"
   ]
  },
  {
   "cell_type": "code",
   "execution_count": 25,
   "metadata": {},
   "outputs": [],
   "source": [
    "kdf = ks.from_pandas(df)"
   ]
  },
  {
   "cell_type": "code",
   "execution_count": 26,
   "metadata": {},
   "outputs": [],
   "source": [
    "tdf = kdf.to_pandas()"
   ]
  },
  {
   "cell_type": "code",
   "execution_count": 29,
   "metadata": {},
   "outputs": [
    {
     "ename": "ArrowInvalid",
     "evalue": "Could not convert ([{'num_added_sents': 0, 'len_new_doc': 64, 'num_removed_sents': 0, 'len_old_doc': 64, 'num_changed_sents': 0, 'version_nums': (0, 1), 'a_id': 547988, 'vars_old': ({'text': 'In Silicon Valley, Apple just won big against Samsung in the patent lawsuit of the year, after trading claims and counterclaims of pilfered product ideas.', 'tag': ' '}, {'text': 'Across the country, in a federal court in Florida, an inventor named Mark Stadnyk is waging a different kind of patent warfare — an ambitious and perhaps quixotic legal foray.', 'tag': ' '}, {'text': 'Mr. Stadnyk, who holds a patent on a motorcycle windshield, is suing the United States government, aiming to head off a patent law that he says will favor big companies and hurt lone inventors like himself.', 'tag': ' '}, {'text': 'Represented by a prominent Washington lawyer, Mr. Stadnyk filed a suit last month that challenges the constitutionality of legislation that Congress passed last fall, the America Invents Act.', 'tag': ' '}, {'text': 'Mr. Stadnyk and his lawyer — along with some academics, entrepreneurs and venture capitalists — assert that the legislation is a triumph of corporate lobbying power over the founders’ wishes, and that it threatens America’s stature as the world’s leading innovator.', 'tag': ' '}, {'text': 'The present system, one of the nation’s oldest patent principles and called “first to invent,” relies on lab notebooks, e-mails and early prototypes to establish the date of invention.', 'tag': ' '}, {'text': 'The impending law would overturn that by awarding patents to the inventors who are “first to file” with the United States Patent and Trademark Office.', 'tag': ' '}, {'text': 'Mr. Stadnyk, 48, a garage inventor who stumbled into the world of patents after he bought a powerful new motorcycle and wanted to avoid being battered by the wind when riding at 60 miles an hour, even with a windshield.', 'tag': ' '}, {'text': 'He devised a system of brackets and gears to adjust the height and angle of the windshield and the gap between it and the motorcycle.', 'tag': ' '}, {'text': 'With his system, he says, the rider feels a flutter of breeze instead of jolting winds and turbulence.', 'tag': ' '}, {'text': 'Mr. Stadnyk, who describes his invention style as “rough hacking with chunks of metal,” founded his company, MadStad Engineering, in 2006, and as sales picked up, he stopped working as a computer consultant to devote himself to the business.', 'tag': ' '}, {'text': 'Today, MadStad employs eight people, including Mr. Stadnyk and his wife, Patty.', 'tag': ' '}, {'text': 'His adjustable windshield systems, priced from $100 to $320, are now used on dozens of makes and models of motorcycles, and are sold through dealers in Australia, Britain and Spain, as well as the United States.', 'tag': ' '}, {'text': 'Yearly sales, he said, are more than $500,000 and growing briskly.', 'tag': ' '}, {'text': 'Mr. Stadnyk holds three patents, and he speaks of a patented idea as a uniquely human property right.', 'tag': ' '}, {'text': '“It came out of your mind,” he explained.', 'tag': ' '}, {'text': '“It’s not property you bought or inherited.”', 'tag': ' '}, {'text': 'Mr. Stadnyk became interested in the patent legislation as it proceeded.', 'tag': ' '}, {'text': 'He says he studied the proposals and the law, read blogs and reached out to Washington lawyers and academics who raised the issue of its constitutionality.', 'tag': ' '}, {'text': 'A grass-roots activist, he even made a couple of YouTube videos.', 'tag': ' '}, {'text': 'The shift to a first-to-file system, scheduled to take effect next March, is intended to simplify and streamline the current system, which can invite protracted litigation between competing inventors.', 'tag': ' '}, {'text': 'The switch would also put the United States in harmony with patent offices in Europe, Japan and elsewhere, allowing them to share information and potentially ease the strain on overburdened patent examiners worldwide.', 'tag': ' '}, {'text': 'The efficiency argument is the mainstream view of corporate America and Washington policy makers.', 'tag': ' '}, {'text': 'President Obama declared that the new law would cut “the red tape that stops too many inventors and entrepreneurs from quickly turning new ideas into thriving businesses — which holds our whole economy back.”', 'tag': ' '}, {'text': 'But opponents say it will give big companies a huge advantage over start-ups and small inventors.', 'tag': ' '}, {'text': 'Large corporations have deep pockets and armies of lawyers to write up and file patents, they say, and the new law will touch off a paper chase to the patent office instead of a race to innovate.', 'tag': ' '}, {'text': 'Yet the opponents are in the minority.', 'tag': ' '}, {'text': 'And there is genuine debate about how much garage inventors and fledgling companies contribute to innovation and economic growth these days.', 'tag': ' '}, {'text': 'Mr. Stadnyk sees his courtroom quest as the intellectual property equivalent of the recent constitutional challenge to the Obama administration’s health insurance overhaul, in legislation that was narrowly upheld by the Supreme Court.', 'tag': ' '}, {'text': '“Others took on Obamacare, and this is my fight,” said Mr. Stadnyk, who lives in Ridge Manor,', 'tag': ' '}, {'text': 'Fla. “Somebody’s got to do something.”', 'tag': ' '}, {'text': 'Mr. Stadnyk, who says he is a conservative, warns of the danger of the patent legislation in populist, antigovernment terms.', 'tag': ' '}, {'text': '“My property would be given away by the government under this new law,” he said.', 'tag': ' '}, {'text': 'Yet there are liberals among the law’s critics as well.', 'tag': ' '}, {'text': 'Mr. Stadnyk’s Washington-based lawyer in the suit is Jonathan S. Massey.', 'tag': ' '}, {'text': 'A graduate of Harvard Law School, Mr. Massey was a clerk for the liberal Supreme Court Justice William J. Brennan Jr., and is a protégé of Laurence H. Tribe, a leading professor of constitutional law at Harvard.', 'tag': ' '}, {'text': 'Mr. Massey worked on the case presented to the Supreme Court on behalf of former Vice President Al Gore in Bush v. Gore, an appeal that lost and effectively settled the 2000 presidential election.', 'tag': ' '}, {'text': 'The America Invents Act was a byproduct of years of lobbying and eventual compromise, especially by major technology and pharmaceutical companies.', 'tag': ' '}, {'text': 'The new patent law was approved overwhelmingly in both the House and the Senate.', 'tag': ' '}, {'text': 'Few focused on the potential of a constitutional problem.', 'tag': ' '}, {'text': 'Senator Barbara Boxer, Democrat of California, was an exception.', 'tag': ' '}, {'text': 'Speaking on the Senate floor last year, she said, “I strongly disagree with changing the core principle of our patent system — awarding a patent to the true inventor — for the sake of perceived administrative ease.”', 'tag': ' '}, {'text': 'Ms. Boxer went on to say that the Constitution singles out and grants exclusive rights to individuals with new, useful ideas.', 'tag': ' '}, {'text': '“We are the only country in the world,” she said, “whose Constitution specifically mentions ‘inventor.’\\xa0”', 'tag': ' '}, {'text': 'Mr. Massey says he became involved in the legislative debate and this suit because of his background in constitutional law.', 'tag': ' '}, {'text': 'The new patent law, he said, “violates the text and the original understanding of the Constitution.”', 'tag': ' '}, {'text': 'In the suit, the government has until Thursday to reply.', 'tag': ' '}, {'text': 'Mr. Massey declined to say who would provide financial support if the case proceeded through appeals and higher courts.', 'tag': ' '}, {'text': 'As a matter of confidentiality and courtroom tactics, he said he did not want to let “the other side know the size of my resources.”', 'tag': ' '}, {'text': 'The suit, according to some legal experts, faces long odds.', 'tag': ' '}, {'text': 'The courts, they say, have treated the section of the Constitution that concerns intellectual property rights as utilitarian doctrine subject to Congressional interpretation.', 'tag': ' '}, {'text': '“Congress is fairly free to do as it sees fit to promote innovation,” said Arti K. Rai, a professor at Duke University School of Law and a former senior official in the patent office.', 'tag': ' '}, {'text': 'Mark A. Lemley, a professor at Stanford Law School, said the constitutional challenge “is the legal equivalent of fringe science.”', 'tag': ' '}, {'text': '“There are people who didn’t like the outcome of the patent legislation, and they may be right in not liking the outcome,” he said.', 'tag': ' '}, {'text': '“But that doesn’t make it unconstitutional.”', 'tag': ' '}, {'text': 'In Silicon Valley, Stephen G. Perlman, a high-tech inventor and entrepreneur, worries about the law’s practical effect.', 'tag': ' '}, {'text': 'His invention factory, Rearden, has produced a series of innovations and spinoff companies, including ones that make the technology for fine-grain computer-generated facial imagery used in Hollywood, and another company whose data-handling software generates photo-realistic, high-speed play for online gamers on tablet computers.', 'tag': ' '}, {'text': 'The new law, he said, with its emphasis on speed, could well make it more difficult to wait before filing an application, to take the time to experiment over years, and to confidentially show early concepts to investors to raise money.', 'tag': ' '}, {'text': '“I’m scared that this law is a threat to the survival of our species — people who do fundamental, long-term invention,” Mr. Perlman said.', 'tag': ' '}, {'text': 'Gary Lauder, a venture capitalist, said the new law had the logic of trying to make the patent system more efficient and less prone to litigation.', 'tag': ' '}, {'text': 'But he is a critic.', 'tag': ' '}, {'text': '“This law favors large companies at the expense of small ones,” Mr. Lauder said.', 'tag': ' '}, {'text': '“There wasn’t enough advocacy for unborn companies.', 'tag': ' '}, {'text': 'And partly as a result of our current patent system, we do have a huge amount of innovation in America.”', 'tag': ' '}), 'vars_new': ({'text': 'In Silicon Valley, Apple just won big against Samsung in the patent lawsuit of the year, after trading claims and counterclaims of pilfered product ideas.', 'tag': ' '}, {'text': 'Across the country, in a federal court in Florida, an inventor named Mark Stadnyk is waging a different kind of patent warfare — an ambitious and perhaps quixotic legal foray.', 'tag': ' '}, {'text': 'Mr. Stadnyk, who holds a patent on a motorcycle windshield, is suing the United States government, aiming to head off a patent law that he says will favor big companies and hurt lone inventors like himself.', 'tag': ' '}, {'text': 'Represented by a prominent Washington lawyer, Mr. Stadnyk filed a suit last month that challenges the constitutionality of legislation that Congress passed last fall, the America Invents Act.', 'tag': ' '}, {'text': 'Mr. Stadnyk and his lawyer — along with some academics, entrepreneurs and venture capitalists — assert that the legislation is a triumph of corporate lobbying power over the founders’ wishes, and that it threatens America’s stature as the world’s leading innovator.', 'tag': ' '}, {'text': 'The present system, one of the nation’s oldest patent principles and called “first to invent,” relies on lab notebooks, e-mails and early prototypes to establish the date of invention.', 'tag': ' '}, {'text': 'The impending law would overturn that by awarding patents to the inventors who are “first to file” with the United States Patent and Trademark Office.', 'tag': ' '}, {'text': 'Mr. Stadnyk, 48, a garage inventor who stumbled into the world of patents after he bought a powerful new motorcycle and wanted to avoid being battered by the wind when riding at 60 miles an hour, even with a windshield.', 'tag': ' '}, {'text': 'He devised a system of brackets and gears to adjust the height and angle of the windshield and the gap between it and the motorcycle.', 'tag': ' '}, {'text': 'With his system, he says, the rider feels a flutter of breeze instead of jolting winds and turbulence.', 'tag': ' '}, {'text': 'Mr. Stadnyk, who describes his invention style as “rough hacking with chunks of metal,” founded his company, MadStad Engineering, in 2006, and as sales picked up, he stopped working as a computer consultant to devote himself to the business.', 'tag': ' '}, {'text': 'Today, MadStad employs eight people, including Mr. Stadnyk and his wife, Patty.', 'tag': ' '}, {'text': 'His adjustable windshield systems, priced from $100 to $320, are now used on dozens of makes and models of motorcycles, and are sold through dealers in Australia, Britain and Spain, as well as the United States.', 'tag': ' '}, {'text': 'Yearly sales, he said, are more than $500,000 and growing briskly.', 'tag': ' '}, {'text': 'Mr. Stadnyk holds three patents, and he speaks of a patented idea as a uniquely human property right.', 'tag': ' '}, {'text': '“It came out of your mind,” he explained.', 'tag': ' '}, {'text': '“It’s not property you bought or inherited.”', 'tag': ' '}, {'text': 'Mr. Stadnyk became interested in the patent legislation as it proceeded.', 'tag': ' '}, {'text': 'He says he studied the proposals and the law, read blogs and reached out to Washington lawyers and academics who raised the issue of its constitutionality.', 'tag': ' '}, {'text': 'A grass-roots activist, he even made a couple of YouTube videos.', 'tag': ' '}, {'text': 'The shift to a first-to-file system, scheduled to take effect next March, is intended to simplify and streamline the current system, which can invite protracted litigation between competing inventors.', 'tag': ' '}, {'text': 'The switch would also put the United States in harmony with patent offices in Europe, Japan and elsewhere, allowing them to share information and potentially ease the strain on overburdened patent examiners worldwide.', 'tag': ' '}, {'text': 'The efficiency argument is the mainstream view of corporate America and Washington policy makers.', 'tag': ' '}, {'text': 'President Obama declared that the new law would cut “the red tape that stops too many inventors and entrepreneurs from quickly turning new ideas into thriving businesses — which holds our whole economy back.”', 'tag': ' '}, {'text': 'But opponents say it will give big companies a huge advantage over start-ups and small inventors.', 'tag': ' '}, {'text': 'Large corporations have deep pockets and armies of lawyers to write up and file patents, they say, and the new law will touch off a paper chase to the patent office instead of a race to innovate.', 'tag': ' '}, {'text': 'Yet the opponents are in the minority.', 'tag': ' '}, {'text': 'And there is genuine debate about how much garage inventors and fledgling companies contribute to innovation and economic growth these days.', 'tag': ' '}, {'text': 'Mr. Stadnyk sees his courtroom quest as the intellectual property equivalent of the recent constitutional challenge to the Obama administration’s health insurance overhaul, in legislation that was narrowly upheld by the Supreme Court.', 'tag': ' '}, {'text': '“Others took on Obamacare, and this is my fight,” said Mr. Stadnyk, who lives in Ridge Manor,', 'tag': ' '}, {'text': 'Fla. “Somebody’s got to do something.”', 'tag': ' '}, {'text': 'Mr. Stadnyk, who says he is a conservative, warns of the danger of the patent legislation in populist, antigovernment terms.', 'tag': ' '}, {'text': '“My property would be given away by the government under this new law,” he said.', 'tag': ' '}, {'text': 'Yet there are liberals among the law’s critics as well.', 'tag': ' '}, {'text': 'Mr. Stadnyk’s Washington-based lawyer in the suit is Jonathan S. Massey.', 'tag': ' '}, {'text': 'A graduate of Harvard Law School, Mr. Massey was a clerk for the liberal Supreme Court Justice William J. Brennan Jr., and is a protégé of Laurence H. Tribe, a leading professor of constitutional law at Harvard.', 'tag': ' '}, {'text': 'Mr. Massey worked on the case presented to the Supreme Court on behalf of former Vice President Al Gore in Bush v. Gore, an appeal that lost and effectively settled the 2000 presidential election.', 'tag': ' '}, {'text': 'The America Invents Act was a byproduct of years of lobbying and eventual compromise, especially by major technology and pharmaceutical companies.', 'tag': ' '}, {'text': 'The new patent law was approved overwhelmingly in both the House and the Senate.', 'tag': ' '}, {'text': 'Few focused on the potential of a constitutional problem.', 'tag': ' '}, {'text': 'Senator Barbara Boxer, Democrat of California, was an exception.', 'tag': ' '}, {'text': 'Speaking on the Senate floor last year, she said, “I strongly disagree with changing the core principle of our patent system — awarding a patent to the true inventor — for the sake of perceived administrative ease.”', 'tag': ' '}, {'text': 'Ms. Boxer went on to say that the Constitution singles out and grants exclusive rights to individuals with new, useful ideas.', 'tag': ' '}, {'text': '“We are the only country in the world,” she said, “whose Constitution specifically mentions ‘inventor.’\\xa0”', 'tag': ' '}, {'text': 'Mr. Massey says he became involved in the legislative debate and this suit because of his background in constitutional law.', 'tag': ' '}, {'text': 'The new patent law, he said, “violates the text and the original understanding of the Constitution.”', 'tag': ' '}, {'text': 'In the suit, the government has until Thursday to reply.', 'tag': ' '}, {'text': 'Mr. Massey declined to say who would provide financial support if the case proceeded through appeals and higher courts.', 'tag': ' '}, {'text': 'As a matter of confidentiality and courtroom tactics, he said he did not want to let “the other side know the size of my resources.”', 'tag': ' '}, {'text': 'The suit, according to some legal experts, faces long odds.', 'tag': ' '}, {'text': 'The courts, they say, have treated the section of the Constitution that concerns intellectual property rights as utilitarian doctrine subject to Congressional interpretation.', 'tag': ' '}, {'text': '“Congress is fairly free to do as it sees fit to promote innovation,” said Arti K. Rai, a professor at Duke University School of Law and a former senior official in the patent office.', 'tag': ' '}, {'text': 'Mark A. Lemley, a professor at Stanford Law School, said the constitutional challenge “is the legal equivalent of fringe science.”', 'tag': ' '}, {'text': '“There are people who didn’t like the outcome of the patent legislation, and they may be right in not liking the outcome,” he said.', 'tag': ' '}, {'text': '“But that doesn’t make it unconstitutional.”', 'tag': ' '}, {'text': 'In Silicon Valley, Stephen G. Perlman, a high-tech inventor and entrepreneur, worries about the law’s practical effect.', 'tag': ' '}, {'text': 'His invention factory, Rearden, has produced a series of innovations and spinoff companies, including ones that make the technology for fine-grain computer-generated facial imagery used in Hollywood, and another company whose data-handling software generates photo-realistic, high-speed play for online gamers on tablet computers.', 'tag': ' '}, {'text': 'The new law, he said, with its emphasis on speed, could well make it more difficult to wait before filing an application, to take the time to experiment over years, and to confidentially show early concepts to investors to raise money.', 'tag': ' '}, {'text': '“I’m scared that this law is a threat to the survival of our species — people who do fundamental, long-term invention,” Mr. Perlman said.', 'tag': ' '}, {'text': 'Gary Lauder, a venture capitalist, said the new law had the logic of trying to make the patent system more efficient and less prone to litigation.', 'tag': ' '}, {'text': 'But he is a critic.', 'tag': ' '}, {'text': '“This law favors large companies at the expense of small ones,” Mr. Lauder said.', 'tag': ' '}, {'text': '“There wasn’t enough advocacy for unborn companies.', 'tag': ' '}, {'text': 'And partly as a result of our current patent system, we do have a huge amount of innovation in America.”', 'tag': ' '})}], [None]) with type tuple: did not recognize Python value type when inferring an Arrow data type",
     "output_type": "error",
     "traceback": [
      "\u001b[0;31m---------------------------------------------------------------------------\u001b[0m",
      "\u001b[0;31mArrowInvalid\u001b[0m                              Traceback (most recent call last)",
      "\u001b[0;32m<ipython-input-29-76fcceec0379>\u001b[0m in \u001b[0;36m<module>\u001b[0;34m\u001b[0m\n\u001b[1;32m      1\u001b[0m grouped_dfs = (kdf\n\u001b[1;32m      2\u001b[0m                \u001b[0;34m.\u001b[0m\u001b[0mgroupby\u001b[0m\u001b[0;34m(\u001b[0m\u001b[0;34m'entry_id'\u001b[0m\u001b[0;34m)\u001b[0m\u001b[0;34m\u001b[0m\u001b[0;34m\u001b[0m\u001b[0m\n\u001b[0;32m----> 3\u001b[0;31m                \u001b[0;34m.\u001b[0m\u001b[0mapply\u001b[0m\u001b[0;34m(\u001b[0m\u001b[0;32mlambda\u001b[0m \u001b[0mdf\u001b[0m\u001b[0;34m:\u001b[0m \u001b[0munp\u001b[0m\u001b[0;34m.\u001b[0m\u001b[0mget_sentence_diff_stats_on_article\u001b[0m\u001b[0;34m(\u001b[0m\u001b[0mdf\u001b[0m\u001b[0;34m,\u001b[0m \u001b[0mget_sentence_vars\u001b[0m\u001b[0;34m=\u001b[0m\u001b[0;32mTrue\u001b[0m\u001b[0;34m,\u001b[0m \u001b[0mret_type\u001b[0m\u001b[0;34m=\u001b[0m\u001b[0;34m'list'\u001b[0m\u001b[0;34m,\u001b[0m\u001b[0;34m)\u001b[0m\u001b[0;34m)\u001b[0m\u001b[0;34m\u001b[0m\u001b[0;34m\u001b[0m\u001b[0m\n\u001b[0m\u001b[1;32m      4\u001b[0m               )\n",
      "\u001b[0;32m~/.local/lib/python3.7/site-packages/databricks/koalas/groupby.py\u001b[0m in \u001b[0;36mapply\u001b[0;34m(self, func, *args, **kwargs)\u001b[0m\n\u001b[1;32m   1151\u001b[0m             \u001b[0;32melse\u001b[0m\u001b[0;34m:\u001b[0m\u001b[0;34m\u001b[0m\u001b[0;34m\u001b[0m\u001b[0m\n\u001b[1;32m   1152\u001b[0m                 \u001b[0mpser_or_pdf\u001b[0m \u001b[0;34m=\u001b[0m \u001b[0mpdf\u001b[0m\u001b[0;34m.\u001b[0m\u001b[0mgroupby\u001b[0m\u001b[0;34m(\u001b[0m\u001b[0mgroupkeys\u001b[0m\u001b[0;34m)\u001b[0m\u001b[0;34m.\u001b[0m\u001b[0mapply\u001b[0m\u001b[0;34m(\u001b[0m\u001b[0mpandas_apply\u001b[0m\u001b[0;34m,\u001b[0m \u001b[0;34m*\u001b[0m\u001b[0margs\u001b[0m\u001b[0;34m,\u001b[0m \u001b[0;34m**\u001b[0m\u001b[0mkwargs\u001b[0m\u001b[0;34m)\u001b[0m\u001b[0;34m\u001b[0m\u001b[0;34m\u001b[0m\u001b[0m\n\u001b[0;32m-> 1153\u001b[0;31m             \u001b[0mkser_or_kdf\u001b[0m \u001b[0;34m=\u001b[0m \u001b[0mks\u001b[0m\u001b[0;34m.\u001b[0m\u001b[0mfrom_pandas\u001b[0m\u001b[0;34m(\u001b[0m\u001b[0mpser_or_pdf\u001b[0m\u001b[0;34m)\u001b[0m\u001b[0;34m\u001b[0m\u001b[0;34m\u001b[0m\u001b[0m\n\u001b[0m\u001b[1;32m   1154\u001b[0m \u001b[0;34m\u001b[0m\u001b[0m\n\u001b[1;32m   1155\u001b[0m             \u001b[0;32mif\u001b[0m \u001b[0mlen\u001b[0m\u001b[0;34m(\u001b[0m\u001b[0mpdf\u001b[0m\u001b[0;34m)\u001b[0m \u001b[0;34m<=\u001b[0m \u001b[0mlimit\u001b[0m\u001b[0;34m:\u001b[0m\u001b[0;34m\u001b[0m\u001b[0;34m\u001b[0m\u001b[0m\n",
      "\u001b[0;32m~/.local/lib/python3.7/site-packages/databricks/koalas/namespace.py\u001b[0m in \u001b[0;36mfrom_pandas\u001b[0;34m(pobj)\u001b[0m\n\u001b[1;32m    121\u001b[0m     \"\"\"\n\u001b[1;32m    122\u001b[0m     \u001b[0;32mif\u001b[0m \u001b[0misinstance\u001b[0m\u001b[0;34m(\u001b[0m\u001b[0mpobj\u001b[0m\u001b[0;34m,\u001b[0m \u001b[0mpd\u001b[0m\u001b[0;34m.\u001b[0m\u001b[0mSeries\u001b[0m\u001b[0;34m)\u001b[0m\u001b[0;34m:\u001b[0m\u001b[0;34m\u001b[0m\u001b[0;34m\u001b[0m\u001b[0m\n\u001b[0;32m--> 123\u001b[0;31m         \u001b[0;32mreturn\u001b[0m \u001b[0mSeries\u001b[0m\u001b[0;34m(\u001b[0m\u001b[0mpobj\u001b[0m\u001b[0;34m)\u001b[0m\u001b[0;34m\u001b[0m\u001b[0;34m\u001b[0m\u001b[0m\n\u001b[0m\u001b[1;32m    124\u001b[0m     \u001b[0;32melif\u001b[0m \u001b[0misinstance\u001b[0m\u001b[0;34m(\u001b[0m\u001b[0mpobj\u001b[0m\u001b[0;34m,\u001b[0m \u001b[0mpd\u001b[0m\u001b[0;34m.\u001b[0m\u001b[0mDataFrame\u001b[0m\u001b[0;34m)\u001b[0m\u001b[0;34m:\u001b[0m\u001b[0;34m\u001b[0m\u001b[0;34m\u001b[0m\u001b[0m\n\u001b[1;32m    125\u001b[0m         \u001b[0;32mreturn\u001b[0m \u001b[0mDataFrame\u001b[0m\u001b[0;34m(\u001b[0m\u001b[0mpobj\u001b[0m\u001b[0;34m)\u001b[0m\u001b[0;34m\u001b[0m\u001b[0;34m\u001b[0m\u001b[0m\n",
      "\u001b[0;32m~/.local/lib/python3.7/site-packages/databricks/koalas/series.py\u001b[0m in \u001b[0;36m__init__\u001b[0;34m(self, data, index, dtype, name, copy, fastpath)\u001b[0m\n\u001b[1;32m    371\u001b[0m                     \u001b[0mdata\u001b[0m\u001b[0;34m=\u001b[0m\u001b[0mdata\u001b[0m\u001b[0;34m,\u001b[0m \u001b[0mindex\u001b[0m\u001b[0;34m=\u001b[0m\u001b[0mindex\u001b[0m\u001b[0;34m,\u001b[0m \u001b[0mdtype\u001b[0m\u001b[0;34m=\u001b[0m\u001b[0mdtype\u001b[0m\u001b[0;34m,\u001b[0m \u001b[0mname\u001b[0m\u001b[0;34m=\u001b[0m\u001b[0mname\u001b[0m\u001b[0;34m,\u001b[0m \u001b[0mcopy\u001b[0m\u001b[0;34m=\u001b[0m\u001b[0mcopy\u001b[0m\u001b[0;34m,\u001b[0m \u001b[0mfastpath\u001b[0m\u001b[0;34m=\u001b[0m\u001b[0mfastpath\u001b[0m\u001b[0;34m\u001b[0m\u001b[0;34m\u001b[0m\u001b[0m\n\u001b[1;32m    372\u001b[0m                 )\n\u001b[0;32m--> 373\u001b[0;31m             \u001b[0minternal\u001b[0m \u001b[0;34m=\u001b[0m \u001b[0mInternalFrame\u001b[0m\u001b[0;34m.\u001b[0m\u001b[0mfrom_pandas\u001b[0m\u001b[0;34m(\u001b[0m\u001b[0mpd\u001b[0m\u001b[0;34m.\u001b[0m\u001b[0mDataFrame\u001b[0m\u001b[0;34m(\u001b[0m\u001b[0ms\u001b[0m\u001b[0;34m)\u001b[0m\u001b[0;34m)\u001b[0m\u001b[0;34m\u001b[0m\u001b[0;34m\u001b[0m\u001b[0m\n\u001b[0m\u001b[1;32m    374\u001b[0m             \u001b[0;32mif\u001b[0m \u001b[0ms\u001b[0m\u001b[0;34m.\u001b[0m\u001b[0mname\u001b[0m \u001b[0;32mis\u001b[0m \u001b[0;32mNone\u001b[0m\u001b[0;34m:\u001b[0m\u001b[0;34m\u001b[0m\u001b[0;34m\u001b[0m\u001b[0m\n\u001b[1;32m    375\u001b[0m                 \u001b[0minternal\u001b[0m \u001b[0;34m=\u001b[0m \u001b[0minternal\u001b[0m\u001b[0;34m.\u001b[0m\u001b[0mcopy\u001b[0m\u001b[0;34m(\u001b[0m\u001b[0mcolumn_labels\u001b[0m\u001b[0;34m=\u001b[0m\u001b[0;34m[\u001b[0m\u001b[0;32mNone\u001b[0m\u001b[0;34m]\u001b[0m\u001b[0;34m)\u001b[0m\u001b[0;34m\u001b[0m\u001b[0;34m\u001b[0m\u001b[0m\n",
      "\u001b[0;32m~/.local/lib/python3.7/site-packages/databricks/koalas/internal.py\u001b[0m in \u001b[0;36mfrom_pandas\u001b[0;34m(pdf)\u001b[0m\n\u001b[1;32m   1298\u001b[0m                     \u001b[0mname\u001b[0m\u001b[0;34m,\u001b[0m \u001b[0minfer_pd_series_spark_type\u001b[0m\u001b[0;34m(\u001b[0m\u001b[0mcol\u001b[0m\u001b[0;34m)\u001b[0m\u001b[0;34m,\u001b[0m \u001b[0mnullable\u001b[0m\u001b[0;34m=\u001b[0m\u001b[0mbool\u001b[0m\u001b[0;34m(\u001b[0m\u001b[0mcol\u001b[0m\u001b[0;34m.\u001b[0m\u001b[0misnull\u001b[0m\u001b[0;34m(\u001b[0m\u001b[0;34m)\u001b[0m\u001b[0;34m.\u001b[0m\u001b[0many\u001b[0m\u001b[0;34m(\u001b[0m\u001b[0;34m)\u001b[0m\u001b[0;34m)\u001b[0m\u001b[0;34m,\u001b[0m\u001b[0;34m\u001b[0m\u001b[0;34m\u001b[0m\u001b[0m\n\u001b[1;32m   1299\u001b[0m                 )\n\u001b[0;32m-> 1300\u001b[0;31m                 \u001b[0;32mfor\u001b[0m \u001b[0mname\u001b[0m\u001b[0;34m,\u001b[0m \u001b[0mcol\u001b[0m \u001b[0;32min\u001b[0m \u001b[0mreset_index\u001b[0m\u001b[0;34m.\u001b[0m\u001b[0miteritems\u001b[0m\u001b[0;34m(\u001b[0m\u001b[0;34m)\u001b[0m\u001b[0;34m\u001b[0m\u001b[0;34m\u001b[0m\u001b[0m\n\u001b[0m\u001b[1;32m   1301\u001b[0m             ]\n\u001b[1;32m   1302\u001b[0m         )\n",
      "\u001b[0;32m~/.local/lib/python3.7/site-packages/databricks/koalas/internal.py\u001b[0m in \u001b[0;36m<listcomp>\u001b[0;34m(.0)\u001b[0m\n\u001b[1;32m   1298\u001b[0m                     \u001b[0mname\u001b[0m\u001b[0;34m,\u001b[0m \u001b[0minfer_pd_series_spark_type\u001b[0m\u001b[0;34m(\u001b[0m\u001b[0mcol\u001b[0m\u001b[0;34m)\u001b[0m\u001b[0;34m,\u001b[0m \u001b[0mnullable\u001b[0m\u001b[0;34m=\u001b[0m\u001b[0mbool\u001b[0m\u001b[0;34m(\u001b[0m\u001b[0mcol\u001b[0m\u001b[0;34m.\u001b[0m\u001b[0misnull\u001b[0m\u001b[0;34m(\u001b[0m\u001b[0;34m)\u001b[0m\u001b[0;34m.\u001b[0m\u001b[0many\u001b[0m\u001b[0;34m(\u001b[0m\u001b[0;34m)\u001b[0m\u001b[0;34m)\u001b[0m\u001b[0;34m,\u001b[0m\u001b[0;34m\u001b[0m\u001b[0;34m\u001b[0m\u001b[0m\n\u001b[1;32m   1299\u001b[0m                 )\n\u001b[0;32m-> 1300\u001b[0;31m                 \u001b[0;32mfor\u001b[0m \u001b[0mname\u001b[0m\u001b[0;34m,\u001b[0m \u001b[0mcol\u001b[0m \u001b[0;32min\u001b[0m \u001b[0mreset_index\u001b[0m\u001b[0;34m.\u001b[0m\u001b[0miteritems\u001b[0m\u001b[0;34m(\u001b[0m\u001b[0;34m)\u001b[0m\u001b[0;34m\u001b[0m\u001b[0;34m\u001b[0m\u001b[0m\n\u001b[0m\u001b[1;32m   1301\u001b[0m             ]\n\u001b[1;32m   1302\u001b[0m         )\n",
      "\u001b[0;32m~/.local/lib/python3.7/site-packages/databricks/koalas/typedef/typehints.py\u001b[0m in \u001b[0;36minfer_pd_series_spark_type\u001b[0;34m(s)\u001b[0m\n\u001b[1;32m    263\u001b[0m             \u001b[0;32mreturn\u001b[0m \u001b[0ms\u001b[0m\u001b[0;34m.\u001b[0m\u001b[0miloc\u001b[0m\u001b[0;34m[\u001b[0m\u001b[0;36m0\u001b[0m\u001b[0;34m]\u001b[0m\u001b[0;34m.\u001b[0m\u001b[0m__UDT__\u001b[0m\u001b[0;34m\u001b[0m\u001b[0;34m\u001b[0m\u001b[0m\n\u001b[1;32m    264\u001b[0m         \u001b[0;32melse\u001b[0m\u001b[0;34m:\u001b[0m\u001b[0;34m\u001b[0m\u001b[0;34m\u001b[0m\u001b[0m\n\u001b[0;32m--> 265\u001b[0;31m             \u001b[0;32mreturn\u001b[0m \u001b[0mfrom_arrow_type\u001b[0m\u001b[0;34m(\u001b[0m\u001b[0mpa\u001b[0m\u001b[0;34m.\u001b[0m\u001b[0mArray\u001b[0m\u001b[0;34m.\u001b[0m\u001b[0mfrom_pandas\u001b[0m\u001b[0;34m(\u001b[0m\u001b[0ms\u001b[0m\u001b[0;34m)\u001b[0m\u001b[0;34m.\u001b[0m\u001b[0mtype\u001b[0m\u001b[0;34m)\u001b[0m\u001b[0;34m\u001b[0m\u001b[0;34m\u001b[0m\u001b[0m\n\u001b[0m\u001b[1;32m    266\u001b[0m     \u001b[0;32melse\u001b[0m\u001b[0;34m:\u001b[0m\u001b[0;34m\u001b[0m\u001b[0;34m\u001b[0m\u001b[0m\n\u001b[1;32m    267\u001b[0m         \u001b[0;32mreturn\u001b[0m \u001b[0mas_spark_type\u001b[0m\u001b[0;34m(\u001b[0m\u001b[0mdt\u001b[0m\u001b[0;34m)\u001b[0m\u001b[0;34m\u001b[0m\u001b[0;34m\u001b[0m\u001b[0m\n",
      "\u001b[0;32m/python3/lib/python3.7/site-packages/pyarrow/array.pxi\u001b[0m in \u001b[0;36mpyarrow.lib.Array.from_pandas\u001b[0;34m()\u001b[0m\n",
      "\u001b[0;32m/python3/lib/python3.7/site-packages/pyarrow/array.pxi\u001b[0m in \u001b[0;36mpyarrow.lib.array\u001b[0;34m()\u001b[0m\n",
      "\u001b[0;32m/python3/lib/python3.7/site-packages/pyarrow/array.pxi\u001b[0m in \u001b[0;36mpyarrow.lib._ndarray_to_array\u001b[0;34m()\u001b[0m\n",
      "\u001b[0;32m/python3/lib/python3.7/site-packages/pyarrow/error.pxi\u001b[0m in \u001b[0;36mpyarrow.lib.check_status\u001b[0;34m()\u001b[0m\n",
      "\u001b[0;31mArrowInvalid\u001b[0m: Could not convert ([{'num_added_sents': 0, 'len_new_doc': 64, 'num_removed_sents': 0, 'len_old_doc': 64, 'num_changed_sents': 0, 'version_nums': (0, 1), 'a_id': 547988, 'vars_old': ({'text': 'In Silicon Valley, Apple just won big against Samsung in the patent lawsuit of the year, after trading claims and counterclaims of pilfered product ideas.', 'tag': ' '}, {'text': 'Across the country, in a federal court in Florida, an inventor named Mark Stadnyk is waging a different kind of patent warfare — an ambitious and perhaps quixotic legal foray.', 'tag': ' '}, {'text': 'Mr. Stadnyk, who holds a patent on a motorcycle windshield, is suing the United States government, aiming to head off a patent law that he says will favor big companies and hurt lone inventors like himself.', 'tag': ' '}, {'text': 'Represented by a prominent Washington lawyer, Mr. Stadnyk filed a suit last month that challenges the constitutionality of legislation that Congress passed last fall, the America Invents Act.', 'tag': ' '}, {'text': 'Mr. Stadnyk and his lawyer — along with some academics, entrepreneurs and venture capitalists — assert that the legislation is a triumph of corporate lobbying power over the founders’ wishes, and that it threatens America’s stature as the world’s leading innovator.', 'tag': ' '}, {'text': 'The present system, one of the nation’s oldest patent principles and called “first to invent,” relies on lab notebooks, e-mails and early prototypes to establish the date of invention.', 'tag': ' '}, {'text': 'The impending law would overturn that by awarding patents to the inventors who are “first to file” with the United States Patent and Trademark Office.', 'tag': ' '}, {'text': 'Mr. Stadnyk, 48, a garage inventor who stumbled into the world of patents after he bought a powerful new motorcycle and wanted to avoid being battered by the wind when riding at 60 miles an hour, even with a windshield.', 'tag': ' '}, {'text': 'He devised a system of brackets and gears to adjust the height and angle of the windshield and the gap between it and the motorcycle.', 'tag': ' '}, {'text': 'With his system, he says, the rider feels a flutter of breeze instead of jolting winds and turbulence.', 'tag': ' '}, {'text': 'Mr. Stadnyk, who describes his invention style as “rough hacking with chunks of metal,” founded his company, MadStad Engineering, in 2006, and as sales picked up, he stopped working as a computer consultant to devote himself to the business.', 'tag': ' '}, {'text': 'Today, MadStad employs eight people, including Mr. Stadnyk and his wife, Patty.', 'tag': ' '}, {'text': 'His adjustable windshield systems, priced from $100 to $320, are now used on dozens of makes and models of motorcycles, and are sold through dealers in Australia, Britain and Spain, as well as the United States.', 'tag': ' '}, {'text': 'Yearly sales, he said, are more than $500,000 and growing briskly.', 'tag': ' '}, {'text': 'Mr. Stadnyk holds three patents, and he speaks of a patented idea as a uniquely human property right.', 'tag': ' '}, {'text': '“It came out of your mind,” he explained.', 'tag': ' '}, {'text': '“It’s not property you bought or inherited.”', 'tag': ' '}, {'text': 'Mr. Stadnyk became interested in the patent legislation as it proceeded.', 'tag': ' '}, {'text': 'He says he studied the proposals and the law, read blogs and reached out to Washington lawyers and academics who raised the issue of its constitutionality.', 'tag': ' '}, {'text': 'A grass-roots activist, he even made a couple of YouTube videos.', 'tag': ' '}, {'text': 'The shift to a first-to-file system, scheduled to take effect next March, is intended to simplify and streamline the current system, which can invite protracted litigation between competing inventors.', 'tag': ' '}, {'text': 'The switch would also put the United States in harmony with patent offices in Europe, Japan and elsewhere, allowing them to share information and potentially ease the strain on overburdened patent examiners worldwide.', 'tag': ' '}, {'text': 'The efficiency argument is the mainstream view of corporate America and Washington policy makers.', 'tag': ' '}, {'text': 'President Obama declared that the new law would cut “the red tape that stops too many inventors and entrepreneurs from quickly turning new ideas into thriving businesses — which holds our whole economy back.”', 'tag': ' '}, {'text': 'But opponents say it will give big companies a huge advantage over start-ups and small inventors.', 'tag': ' '}, {'text': 'Large corporations have deep pockets and armies of lawyers to write up and file patents, they say, and the new law will touch off a paper chase to the patent office instead of a race to innovate.', 'tag': ' '}, {'text': 'Yet the opponents are in the minority.', 'tag': ' '}, {'text': 'And there is genuine debate about how much garage inventors and fledgling companies contribute to innovation and economic growth these days.', 'tag': ' '}, {'text': 'Mr. Stadnyk sees his courtroom quest as the intellectual property equivalent of the recent constitutional challenge to the Obama administration’s health insurance overhaul, in legislation that was narrowly upheld by the Supreme Court.', 'tag': ' '}, {'text': '“Others took on Obamacare, and this is my fight,” said Mr. Stadnyk, who lives in Ridge Manor,', 'tag': ' '}, {'text': 'Fla. “Somebody’s got to do something.”', 'tag': ' '}, {'text': 'Mr. Stadnyk, who says he is a conservative, warns of the danger of the patent legislation in populist, antigovernment terms.', 'tag': ' '}, {'text': '“My property would be given away by the government under this new law,” he said.', 'tag': ' '}, {'text': 'Yet there are liberals among the law’s critics as well.', 'tag': ' '}, {'text': 'Mr. Stadnyk’s Washington-based lawyer in the suit is Jonathan S. Massey.', 'tag': ' '}, {'text': 'A graduate of Harvard Law School, Mr. Massey was a clerk for the liberal Supreme Court Justice William J. Brennan Jr., and is a protégé of Laurence H. Tribe, a leading professor of constitutional law at Harvard.', 'tag': ' '}, {'text': 'Mr. Massey worked on the case presented to the Supreme Court on behalf of former Vice President Al Gore in Bush v. Gore, an appeal that lost and effectively settled the 2000 presidential election.', 'tag': ' '}, {'text': 'The America Invents Act was a byproduct of years of lobbying and eventual compromise, especially by major technology and pharmaceutical companies.', 'tag': ' '}, {'text': 'The new patent law was approved overwhelmingly in both the House and the Senate.', 'tag': ' '}, {'text': 'Few focused on the potential of a constitutional problem.', 'tag': ' '}, {'text': 'Senator Barbara Boxer, Democrat of California, was an exception.', 'tag': ' '}, {'text': 'Speaking on the Senate floor last year, she said, “I strongly disagree with changing the core principle of our patent system — awarding a patent to the true inventor — for the sake of perceived administrative ease.”', 'tag': ' '}, {'text': 'Ms. Boxer went on to say that the Constitution singles out and grants exclusive rights to individuals with new, useful ideas.', 'tag': ' '}, {'text': '“We are the only country in the world,” she said, “whose Constitution specifically mentions ‘inventor.’\\xa0”', 'tag': ' '}, {'text': 'Mr. Massey says he became involved in the legislative debate and this suit because of his background in constitutional law.', 'tag': ' '}, {'text': 'The new patent law, he said, “violates the text and the original understanding of the Constitution.”', 'tag': ' '}, {'text': 'In the suit, the government has until Thursday to reply.', 'tag': ' '}, {'text': 'Mr. Massey declined to say who would provide financial support if the case proceeded through appeals and higher courts.', 'tag': ' '}, {'text': 'As a matter of confidentiality and courtroom tactics, he said he did not want to let “the other side know the size of my resources.”', 'tag': ' '}, {'text': 'The suit, according to some legal experts, faces long odds.', 'tag': ' '}, {'text': 'The courts, they say, have treated the section of the Constitution that concerns intellectual property rights as utilitarian doctrine subject to Congressional interpretation.', 'tag': ' '}, {'text': '“Congress is fairly free to do as it sees fit to promote innovation,” said Arti K. Rai, a professor at Duke University School of Law and a former senior official in the patent office.', 'tag': ' '}, {'text': 'Mark A. Lemley, a professor at Stanford Law School, said the constitutional challenge “is the legal equivalent of fringe science.”', 'tag': ' '}, {'text': '“There are people who didn’t like the outcome of the patent legislation, and they may be right in not liking the outcome,” he said.', 'tag': ' '}, {'text': '“But that doesn’t make it unconstitutional.”', 'tag': ' '}, {'text': 'In Silicon Valley, Stephen G. Perlman, a high-tech inventor and entrepreneur, worries about the law’s practical effect.', 'tag': ' '}, {'text': 'His invention factory, Rearden, has produced a series of innovations and spinoff companies, including ones that make the technology for fine-grain computer-generated facial imagery used in Hollywood, and another company whose data-handling software generates photo-realistic, high-speed play for online gamers on tablet computers.', 'tag': ' '}, {'text': 'The new law, he said, with its emphasis on speed, could well make it more difficult to wait before filing an application, to take the time to experiment over years, and to confidentially show early concepts to investors to raise money.', 'tag': ' '}, {'text': '“I’m scared that this law is a threat to the survival of our species — people who do fundamental, long-term invention,” Mr. Perlman said.', 'tag': ' '}, {'text': 'Gary Lauder, a venture capitalist, said the new law had the logic of trying to make the patent system more efficient and less prone to litigation.', 'tag': ' '}, {'text': 'But he is a critic.', 'tag': ' '}, {'text': '“This law favors large companies at the expense of small ones,” Mr. Lauder said.', 'tag': ' '}, {'text': '“There wasn’t enough advocacy for unborn companies.', 'tag': ' '}, {'text': 'And partly as a result of our current patent system, we do have a huge amount of innovation in America.”', 'tag': ' '}), 'vars_new': ({'text': 'In Silicon Valley, Apple just won big against Samsung in the patent lawsuit of the year, after trading claims and counterclaims of pilfered product ideas.', 'tag': ' '}, {'text': 'Across the country, in a federal court in Florida, an inventor named Mark Stadnyk is waging a different kind of patent warfare — an ambitious and perhaps quixotic legal foray.', 'tag': ' '}, {'text': 'Mr. Stadnyk, who holds a patent on a motorcycle windshield, is suing the United States government, aiming to head off a patent law that he says will favor big companies and hurt lone inventors like himself.', 'tag': ' '}, {'text': 'Represented by a prominent Washington lawyer, Mr. Stadnyk filed a suit last month that challenges the constitutionality of legislation that Congress passed last fall, the America Invents Act.', 'tag': ' '}, {'text': 'Mr. Stadnyk and his lawyer — along with some academics, entrepreneurs and venture capitalists — assert that the legislation is a triumph of corporate lobbying power over the founders’ wishes, and that it threatens America’s stature as the world’s leading innovator.', 'tag': ' '}, {'text': 'The present system, one of the nation’s oldest patent principles and called “first to invent,” relies on lab notebooks, e-mails and early prototypes to establish the date of invention.', 'tag': ' '}, {'text': 'The impending law would overturn that by awarding patents to the inventors who are “first to file” with the United States Patent and Trademark Office.', 'tag': ' '}, {'text': 'Mr. Stadnyk, 48, a garage inventor who stumbled into the world of patents after he bought a powerful new motorcycle and wanted to avoid being battered by the wind when riding at 60 miles an hour, even with a windshield.', 'tag': ' '}, {'text': 'He devised a system of brackets and gears to adjust the height and angle of the windshield and the gap between it and the motorcycle.', 'tag': ' '}, {'text': 'With his system, he says, the rider feels a flutter of breeze instead of jolting winds and turbulence.', 'tag': ' '}, {'text': 'Mr. Stadnyk, who describes his invention style as “rough hacking with chunks of metal,” founded his company, MadStad Engineering, in 2006, and as sales picked up, he stopped working as a computer consultant to devote himself to the business.', 'tag': ' '}, {'text': 'Today, MadStad employs eight people, including Mr. Stadnyk and his wife, Patty.', 'tag': ' '}, {'text': 'His adjustable windshield systems, priced from $100 to $320, are now used on dozens of makes and models of motorcycles, and are sold through dealers in Australia, Britain and Spain, as well as the United States.', 'tag': ' '}, {'text': 'Yearly sales, he said, are more than $500,000 and growing briskly.', 'tag': ' '}, {'text': 'Mr. Stadnyk holds three patents, and he speaks of a patented idea as a uniquely human property right.', 'tag': ' '}, {'text': '“It came out of your mind,” he explained.', 'tag': ' '}, {'text': '“It’s not property you bought or inherited.”', 'tag': ' '}, {'text': 'Mr. Stadnyk became interested in the patent legislation as it proceeded.', 'tag': ' '}, {'text': 'He says he studied the proposals and the law, read blogs and reached out to Washington lawyers and academics who raised the issue of its constitutionality.', 'tag': ' '}, {'text': 'A grass-roots activist, he even made a couple of YouTube videos.', 'tag': ' '}, {'text': 'The shift to a first-to-file system, scheduled to take effect next March, is intended to simplify and streamline the current system, which can invite protracted litigation between competing inventors.', 'tag': ' '}, {'text': 'The switch would also put the United States in harmony with patent offices in Europe, Japan and elsewhere, allowing them to share information and potentially ease the strain on overburdened patent examiners worldwide.', 'tag': ' '}, {'text': 'The efficiency argument is the mainstream view of corporate America and Washington policy makers.', 'tag': ' '}, {'text': 'President Obama declared that the new law would cut “the red tape that stops too many inventors and entrepreneurs from quickly turning new ideas into thriving businesses — which holds our whole economy back.”', 'tag': ' '}, {'text': 'But opponents say it will give big companies a huge advantage over start-ups and small inventors.', 'tag': ' '}, {'text': 'Large corporations have deep pockets and armies of lawyers to write up and file patents, they say, and the new law will touch off a paper chase to the patent office instead of a race to innovate.', 'tag': ' '}, {'text': 'Yet the opponents are in the minority.', 'tag': ' '}, {'text': 'And there is genuine debate about how much garage inventors and fledgling companies contribute to innovation and economic growth these days.', 'tag': ' '}, {'text': 'Mr. Stadnyk sees his courtroom quest as the intellectual property equivalent of the recent constitutional challenge to the Obama administration’s health insurance overhaul, in legislation that was narrowly upheld by the Supreme Court.', 'tag': ' '}, {'text': '“Others took on Obamacare, and this is my fight,” said Mr. Stadnyk, who lives in Ridge Manor,', 'tag': ' '}, {'text': 'Fla. “Somebody’s got to do something.”', 'tag': ' '}, {'text': 'Mr. Stadnyk, who says he is a conservative, warns of the danger of the patent legislation in populist, antigovernment terms.', 'tag': ' '}, {'text': '“My property would be given away by the government under this new law,” he said.', 'tag': ' '}, {'text': 'Yet there are liberals among the law’s critics as well.', 'tag': ' '}, {'text': 'Mr. Stadnyk’s Washington-based lawyer in the suit is Jonathan S. Massey.', 'tag': ' '}, {'text': 'A graduate of Harvard Law School, Mr. Massey was a clerk for the liberal Supreme Court Justice William J. Brennan Jr., and is a protégé of Laurence H. Tribe, a leading professor of constitutional law at Harvard.', 'tag': ' '}, {'text': 'Mr. Massey worked on the case presented to the Supreme Court on behalf of former Vice President Al Gore in Bush v. Gore, an appeal that lost and effectively settled the 2000 presidential election.', 'tag': ' '}, {'text': 'The America Invents Act was a byproduct of years of lobbying and eventual compromise, especially by major technology and pharmaceutical companies.', 'tag': ' '}, {'text': 'The new patent law was approved overwhelmingly in both the House and the Senate.', 'tag': ' '}, {'text': 'Few focused on the potential of a constitutional problem.', 'tag': ' '}, {'text': 'Senator Barbara Boxer, Democrat of California, was an exception.', 'tag': ' '}, {'text': 'Speaking on the Senate floor last year, she said, “I strongly disagree with changing the core principle of our patent system — awarding a patent to the true inventor — for the sake of perceived administrative ease.”', 'tag': ' '}, {'text': 'Ms. Boxer went on to say that the Constitution singles out and grants exclusive rights to individuals with new, useful ideas.', 'tag': ' '}, {'text': '“We are the only country in the world,” she said, “whose Constitution specifically mentions ‘inventor.’\\xa0”', 'tag': ' '}, {'text': 'Mr. Massey says he became involved in the legislative debate and this suit because of his background in constitutional law.', 'tag': ' '}, {'text': 'The new patent law, he said, “violates the text and the original understanding of the Constitution.”', 'tag': ' '}, {'text': 'In the suit, the government has until Thursday to reply.', 'tag': ' '}, {'text': 'Mr. Massey declined to say who would provide financial support if the case proceeded through appeals and higher courts.', 'tag': ' '}, {'text': 'As a matter of confidentiality and courtroom tactics, he said he did not want to let “the other side know the size of my resources.”', 'tag': ' '}, {'text': 'The suit, according to some legal experts, faces long odds.', 'tag': ' '}, {'text': 'The courts, they say, have treated the section of the Constitution that concerns intellectual property rights as utilitarian doctrine subject to Congressional interpretation.', 'tag': ' '}, {'text': '“Congress is fairly free to do as it sees fit to promote innovation,” said Arti K. Rai, a professor at Duke University School of Law and a former senior official in the patent office.', 'tag': ' '}, {'text': 'Mark A. Lemley, a professor at Stanford Law School, said the constitutional challenge “is the legal equivalent of fringe science.”', 'tag': ' '}, {'text': '“There are people who didn’t like the outcome of the patent legislation, and they may be right in not liking the outcome,” he said.', 'tag': ' '}, {'text': '“But that doesn’t make it unconstitutional.”', 'tag': ' '}, {'text': 'In Silicon Valley, Stephen G. Perlman, a high-tech inventor and entrepreneur, worries about the law’s practical effect.', 'tag': ' '}, {'text': 'His invention factory, Rearden, has produced a series of innovations and spinoff companies, including ones that make the technology for fine-grain computer-generated facial imagery used in Hollywood, and another company whose data-handling software generates photo-realistic, high-speed play for online gamers on tablet computers.', 'tag': ' '}, {'text': 'The new law, he said, with its emphasis on speed, could well make it more difficult to wait before filing an application, to take the time to experiment over years, and to confidentially show early concepts to investors to raise money.', 'tag': ' '}, {'text': '“I’m scared that this law is a threat to the survival of our species — people who do fundamental, long-term invention,” Mr. Perlman said.', 'tag': ' '}, {'text': 'Gary Lauder, a venture capitalist, said the new law had the logic of trying to make the patent system more efficient and less prone to litigation.', 'tag': ' '}, {'text': 'But he is a critic.', 'tag': ' '}, {'text': '“This law favors large companies at the expense of small ones,” Mr. Lauder said.', 'tag': ' '}, {'text': '“There wasn’t enough advocacy for unborn companies.', 'tag': ' '}, {'text': 'And partly as a result of our current patent system, we do have a huge amount of innovation in America.”', 'tag': ' '})}], [None]) with type tuple: did not recognize Python value type when inferring an Arrow data type"
     ]
    }
   ],
   "source": [
    "grouped_dfs = (kdf\n",
    "               .groupby('entry_id')\n",
    "               .apply(lambda df: unp.get_sentence_diff_stats_on_article(df, get_sentence_vars=True, ret_type='list',))\n",
    "              )"
   ]
  },
  {
   "cell_type": "code",
   "execution_count": null,
   "metadata": {},
   "outputs": [],
   "source": []
  },
  {
   "cell_type": "code",
   "execution_count": null,
   "metadata": {},
   "outputs": [],
   "source": []
  },
  {
   "cell_type": "code",
   "execution_count": null,
   "metadata": {},
   "outputs": [],
   "source": []
  },
  {
   "cell_type": "code",
   "execution_count": 14,
   "metadata": {},
   "outputs": [],
   "source": [
    "sample_df = df.loc[lambda df: df['entry_id'].isin(df['entry_id'].drop_duplicates().sample(10))]"
   ]
  },
  {
   "cell_type": "code",
   "execution_count": 16,
   "metadata": {},
   "outputs": [],
   "source": [
    "grouped_dfs = (sample_df\n",
    "               .groupby('entry_id')\n",
    "               .apply(lambda df: unp.get_sentence_diff_stats_on_article(a=df, get_sentence_vars=True))\n",
    "              )"
   ]
  },
  {
   "cell_type": "code",
   "execution_count": 30,
   "metadata": {},
   "outputs": [
    {
     "data": {
      "text/plain": [
       "(1995, 12)"
      ]
     },
     "execution_count": 30,
     "metadata": {},
     "output_type": "execute_result"
    }
   ],
   "source": [
    "sample_df.shape"
   ]
  },
  {
   "cell_type": "code",
   "execution_count": 20,
   "metadata": {},
   "outputs": [
    {
     "data": {
      "text/plain": [
       "(     a_id  len_new_doc  len_old_doc  num_added_sents  num_changed_sents  \\\n",
       " 0  588653           41           41                0                  3   \n",
       " \n",
       "    num_removed_sents                                           vars_new  \\\n",
       " 0                  0  ({'text': 'WASHINGTON—President Obama is leani...   \n",
       " \n",
       "                                             vars_old version_nums  \n",
       " 0  ({'text': 'WASHINGTON—President Obama is leani...       (1, 2)  ,\n",
       "      a_id  len_new_sent  len_old_sent  num_added_words  num_removed_words  \\\n",
       " 0  588653            27            16               16                  5   \n",
       " \n",
       "    s_idx                                              s_new  \\\n",
       " 0     40  [{'text': '', 'tag': ' '}, {'text': 'Mr.', 'ta...   \n",
       " \n",
       "                                                s_old version_nums  \n",
       " 0  [{'text': 'He', 'tag': '-'}, {'text': '', 'tag...       (1, 2)  )"
      ]
     },
     "execution_count": 20,
     "metadata": {},
     "output_type": "execute_result"
    }
   ],
   "source": [
    "grouped_dfs.iloc[0]"
   ]
  },
  {
   "cell_type": "code",
   "execution_count": null,
   "metadata": {},
   "outputs": [],
   "source": []
  },
  {
   "cell_type": "code",
   "execution_count": null,
   "metadata": {},
   "outputs": [],
   "source": []
  },
  {
   "cell_type": "code",
   "execution_count": null,
   "metadata": {},
   "outputs": [],
   "source": []
  },
  {
   "cell_type": "code",
   "execution_count": null,
   "metadata": {},
   "outputs": [],
   "source": []
  },
  {
   "cell_type": "markdown",
   "metadata": {},
   "source": [
    "# Data Manipulation"
   ]
  },
  {
   "cell_type": "code",
   "execution_count": 5,
   "metadata": {},
   "outputs": [],
   "source": [
    "cache_dir = 'edit-data/article_output/'\n",
    "\n",
    "article_page_files = glob.glob(cache_dir + '/article-output*')\n",
    "diff_files         = glob.glob(cache_dir + '/diff-output-*')\n",
    "version_files      = glob.glob(cache_dir + '/version-output*')\n",
    "\n",
    "sort_by_num = lambda fs: sorted(fs, key=lambda x: int(re.search('-(\\d+)-\\d.json', x)[1]))\n",
    "article_page_files = sort_by_num(article_page_files)\n",
    "diff_files = sort_by_num(diff_files)\n",
    "version_files = sort_by_num(version_files)"
   ]
  },
  {
   "cell_type": "code",
   "execution_count": 6,
   "metadata": {},
   "outputs": [
    {
     "data": {
      "application/vnd.jupyter.widget-view+json": {
       "model_id": "edae3d7910b243b69f910e8244551a84",
       "version_major": 2,
       "version_minor": 0
      },
      "text/plain": [
       "HBox(children=(FloatProgress(value=0.0, max=8.0), HTML(value='')))"
      ]
     },
     "metadata": {},
     "output_type": "display_data"
    },
    {
     "name": "stdout",
     "output_type": "stream",
     "text": [
      "\n"
     ]
    }
   ],
   "source": [
    "article_kdfs = None\n",
    "for i in tqdm(range(1, 9)):\n",
    "    kdf = ks.read_json('s3://aspangher/edit-data/article-output-%d-8.json' % i)#, index_col=0)\n",
    "    if article_kdfs is None:\n",
    "        article_kdfs = kdf\n",
    "    else:\n",
    "        article_kdfs = article_kdfs.append(kdf, ignore_index=True)"
   ]
  },
  {
   "cell_type": "code",
   "execution_count": 9,
   "metadata": {},
   "outputs": [
    {
     "data": {
      "text/plain": [
       "(2791957, 2)"
      ]
     },
     "execution_count": 9,
     "metadata": {},
     "output_type": "execute_result"
    }
   ],
   "source": [
    "article_kdfs.shape "
   ]
  },
  {
   "cell_type": "code",
   "execution_count": 7,
   "metadata": {},
   "outputs": [],
   "source": [
    "article_kdfs = article_kdfs.drop('_corrupt_record').dropna()"
   ]
  },
  {
   "cell_type": "code",
   "execution_count": null,
   "metadata": {},
   "outputs": [],
   "source": []
  },
  {
   "cell_type": "code",
   "execution_count": 8,
   "metadata": {},
   "outputs": [],
   "source": [
    "version_files = sort_by_num(version_files)"
   ]
  },
  {
   "cell_type": "code",
   "execution_count": 9,
   "metadata": {},
   "outputs": [
    {
     "data": {
      "application/vnd.jupyter.widget-view+json": {
       "model_id": "bc69e674f85b41bea7482dad85d65bbd",
       "version_major": 2,
       "version_minor": 0
      },
      "text/plain": [
       "HBox(children=(FloatProgress(value=0.0, max=8.0), HTML(value='')))"
      ]
     },
     "metadata": {},
     "output_type": "display_data"
    },
    {
     "name": "stdout",
     "output_type": "stream",
     "text": [
      "\n"
     ]
    }
   ],
   "source": [
    "version_kdfs = None\n",
    "for i in tqdm(range(1, 9)):\n",
    "    kdf = ks.read_json('s3://aspangher/edit-data/version-output-%d-8.json' % i)#, index_col=0)\n",
    "    if version_kdfs is None:\n",
    "        version_kdfs = kdf\n",
    "    else:\n",
    "        version_kdfs = version_kdfs.append(kdf, ignore_index=True)"
   ]
  },
  {
   "cell_type": "code",
   "execution_count": 10,
   "metadata": {},
   "outputs": [
    {
     "data": {
      "text/plain": [
       "(3470064, 9)"
      ]
     },
     "execution_count": 10,
     "metadata": {},
     "output_type": "execute_result"
    }
   ],
   "source": [
    "version_kdfs.shape "
   ]
  },
  {
   "cell_type": "code",
   "execution_count": 11,
   "metadata": {},
   "outputs": [],
   "source": [
    "version_kdfs = version_kdfs.drop('_corrupt_record').dropna()"
   ]
  },
  {
   "cell_type": "code",
   "execution_count": 12,
   "metadata": {},
   "outputs": [
    {
     "data": {
      "text/plain": [
       "Index(['article_id', 'article_url', 'source', 'time_created', 'time_delta',\n",
       "       'title', 'version', 'version_url'],\n",
       "      dtype='object')"
      ]
     },
     "execution_count": 12,
     "metadata": {},
     "output_type": "execute_result"
    }
   ],
   "source": [
    "version_kdfs.columns"
   ]
  },
  {
   "cell_type": "code",
   "execution_count": 13,
   "metadata": {},
   "outputs": [
    {
     "data": {
      "text/html": [
       "<div>\n",
       "<style scoped>\n",
       "    .dataframe tbody tr th:only-of-type {\n",
       "        vertical-align: middle;\n",
       "    }\n",
       "\n",
       "    .dataframe tbody tr th {\n",
       "        vertical-align: top;\n",
       "    }\n",
       "\n",
       "    .dataframe thead th {\n",
       "        text-align: right;\n",
       "    }\n",
       "</style>\n",
       "<table border=\"1\" class=\"dataframe\">\n",
       "  <thead>\n",
       "    <tr style=\"text-align: right;\">\n",
       "      <th></th>\n",
       "      <th>article_id</th>\n",
       "      <th>article_url</th>\n",
       "      <th>source</th>\n",
       "      <th>time_created</th>\n",
       "      <th>time_delta</th>\n",
       "      <th>title</th>\n",
       "      <th>version</th>\n",
       "      <th>version_url</th>\n",
       "    </tr>\n",
       "  </thead>\n",
       "  <tbody>\n",
       "    <tr>\n",
       "      <th>1</th>\n",
       "      <td>35</td>\n",
       "      <td>http://news.bbc.co.uk/go/rss/-/1/hi/world/midd...</td>\n",
       "      <td>bbc</td>\n",
       "      <td>August 29, 2006 01:35</td>\n",
       "      <td></td>\n",
       "      <td>Annan asks Israel to end blockade</td>\n",
       "      <td>0</td>\n",
       "      <td>https://www.newssniffer.co.uk/articles/35/vers...</td>\n",
       "    </tr>\n",
       "  </tbody>\n",
       "</table>\n",
       "</div>"
      ],
      "text/plain": [
       "  article_id                                        article_url source           time_created time_delta                              title version                                        version_url\n",
       "1         35  http://news.bbc.co.uk/go/rss/-/1/hi/world/midd...    bbc  August 29, 2006 01:35             Annan asks Israel to end blockade       0  https://www.newssniffer.co.uk/articles/35/vers..."
      ]
     },
     "execution_count": 13,
     "metadata": {},
     "output_type": "execute_result"
    }
   ],
   "source": [
    "version_kdfs.head(1)"
   ]
  },
  {
   "cell_type": "code",
   "execution_count": 14,
   "metadata": {},
   "outputs": [
    {
     "data": {
      "text/plain": [
       "Index(['html', 'url'], dtype='object')"
      ]
     },
     "execution_count": 14,
     "metadata": {},
     "output_type": "execute_result"
    }
   ],
   "source": [
    "article_kdfs.columns"
   ]
  },
  {
   "cell_type": "code",
   "execution_count": 29,
   "metadata": {},
   "outputs": [],
   "source": [
    "full_kdfs = version_kdfs.merge(article_kdfs, left_on='version_url', right_on='url')"
   ]
  },
  {
   "cell_type": "code",
   "execution_count": 16,
   "metadata": {},
   "outputs": [
    {
     "data": {
      "text/html": [
       "<div>\n",
       "<style scoped>\n",
       "    .dataframe tbody tr th:only-of-type {\n",
       "        vertical-align: middle;\n",
       "    }\n",
       "\n",
       "    .dataframe tbody tr th {\n",
       "        vertical-align: top;\n",
       "    }\n",
       "\n",
       "    .dataframe thead th {\n",
       "        text-align: right;\n",
       "    }\n",
       "</style>\n",
       "<table border=\"1\" class=\"dataframe\">\n",
       "  <thead>\n",
       "    <tr style=\"text-align: right;\">\n",
       "      <th></th>\n",
       "      <th>article_id</th>\n",
       "      <th>article_url</th>\n",
       "      <th>source</th>\n",
       "      <th>time_created</th>\n",
       "      <th>time_delta</th>\n",
       "      <th>title</th>\n",
       "      <th>version</th>\n",
       "      <th>version_url</th>\n",
       "      <th>html</th>\n",
       "      <th>url</th>\n",
       "    </tr>\n",
       "  </thead>\n",
       "  <tbody>\n",
       "    <tr>\n",
       "      <th>0</th>\n",
       "      <td>10001</td>\n",
       "      <td>http://news.bbc.co.uk/go/rss/-/1/hi/uk/6115912...</td>\n",
       "      <td>bbc</td>\n",
       "      <td>November 05, 2006 21:20</td>\n",
       "      <td>1 day later</td>\n",
       "      <td>North East 'warms to devolution'</td>\n",
       "      <td>2</td>\n",
       "      <td>https://www.newssniffer.co.uk/articles/10001/v...</td>\n",
       "      <td>&lt;p&gt;&lt;a href=\"http://news.bbc.co.uk/go/rss/-/1/h...</td>\n",
       "      <td>https://www.newssniffer.co.uk/articles/10001/v...</td>\n",
       "    </tr>\n",
       "  </tbody>\n",
       "</table>\n",
       "</div>"
      ],
      "text/plain": [
       "  article_id                                        article_url source             time_created   time_delta                             title version                                        version_url                                               html                                                url\n",
       "0      10001  http://news.bbc.co.uk/go/rss/-/1/hi/uk/6115912...    bbc  November 05, 2006 21:20  1 day later  North East 'warms to devolution'       2  https://www.newssniffer.co.uk/articles/10001/v...  <p><a href=\"http://news.bbc.co.uk/go/rss/-/1/h...  https://www.newssniffer.co.uk/articles/10001/v..."
      ]
     },
     "execution_count": 16,
     "metadata": {},
     "output_type": "execute_result"
    }
   ],
   "source": [
    "full_kdfs.head(1)"
   ]
  },
  {
   "cell_type": "code",
   "execution_count": 18,
   "metadata": {},
   "outputs": [],
   "source": [
    "t = full_kdfs['html'].head(2)"
   ]
  },
  {
   "cell_type": "code",
   "execution_count": 21,
   "metadata": {},
   "outputs": [],
   "source": [
    "s = t.iloc[0]"
   ]
  },
  {
   "cell_type": "code",
   "execution_count": 30,
   "metadata": {},
   "outputs": [],
   "source": [
    "def f(s):\n",
    "    return '</p><p>'.join(s.split('</p><p>')[2:])\n",
    "\n",
    "full_kdfs['body_text'] = full_kdfs['html'].apply(f)"
   ]
  },
  {
   "cell_type": "code",
   "execution_count": null,
   "metadata": {},
   "outputs": [],
   "source": []
  },
  {
   "cell_type": "code",
   "execution_count": 33,
   "metadata": {},
   "outputs": [],
   "source": [
    "t = full_kdfs['body_text'].str.split('</p><p>')"
   ]
  },
  {
   "cell_type": "code",
   "execution_count": 38,
   "metadata": {},
   "outputs": [],
   "source": [
    "from collections import defaultdict, Counter"
   ]
  },
  {
   "cell_type": "code",
   "execution_count": 39,
   "metadata": {},
   "outputs": [],
   "source": [
    "c = Counter()"
   ]
  },
  {
   "cell_type": "code",
   "execution_count": null,
   "metadata": {},
   "outputs": [],
   "source": [
    "counter = defaultdict(int)\n",
    "for i in tqdm(t):\n",
    "    c.update(i)"
   ]
  },
  {
   "cell_type": "code",
   "execution_count": null,
   "metadata": {},
   "outputs": [],
   "source": []
  },
  {
   "cell_type": "code",
   "execution_count": 49,
   "metadata": {},
   "outputs": [
    {
     "data": {
      "text/plain": [
       "Index(['article_id', 'article_url', 'source', 'time_created', 'time_delta',\n",
       "       'title', 'version', 'version_url', 'html', 'url', 'body_text'],\n",
       "      dtype='object')"
      ]
     },
     "execution_count": 49,
     "metadata": {},
     "output_type": "execute_result"
    }
   ],
   "source": [
    "full_kdfs.columns"
   ]
  },
  {
   "cell_type": "code",
   "execution_count": 50,
   "metadata": {},
   "outputs": [],
   "source": [
    "t = full_kdfs.groupby('article_id')[['version', 'body_text', 'title']]"
   ]
  },
  {
   "cell_type": "code",
   "execution_count": 52,
   "metadata": {},
   "outputs": [
    {
     "ename": "Py4JJavaError",
     "evalue": "An error occurred while calling o3814.collectToPython.\n: org.apache.spark.SparkException: Job 32 cancelled \n\tat org.apache.spark.scheduler.DAGScheduler.org$apache$spark$scheduler$DAGScheduler$$failJobAndIndependentStages(DAGScheduler.scala:1889)\n\tat org.apache.spark.scheduler.DAGScheduler.handleJobCancellation(DAGScheduler.scala:1824)\n\tat org.apache.spark.scheduler.DAGSchedulerEventProcessLoop.doOnReceive(DAGScheduler.scala:2076)\n\tat org.apache.spark.scheduler.DAGSchedulerEventProcessLoop.onReceive(DAGScheduler.scala:2059)\n\tat org.apache.spark.scheduler.DAGSchedulerEventProcessLoop.onReceive(DAGScheduler.scala:2048)\n\tat org.apache.spark.util.EventLoop$$anon$1.run(EventLoop.scala:49)\n\tat org.apache.spark.scheduler.DAGScheduler.runJob(DAGScheduler.scala:737)\n\tat org.apache.spark.SparkContext.runJob(SparkContext.scala:2061)\n\tat org.apache.spark.SparkContext.runJob(SparkContext.scala:2082)\n\tat org.apache.spark.SparkContext.runJob(SparkContext.scala:2101)\n\tat org.apache.spark.sql.execution.SparkPlan.executeTake(SparkPlan.scala:365)\n\tat org.apache.spark.sql.execution.CollectLimitExec.executeCollect(limit.scala:38)\n\tat org.apache.spark.sql.Dataset$$anonfun$collectToPython$1.apply(Dataset.scala:3263)\n\tat org.apache.spark.sql.Dataset$$anonfun$collectToPython$1.apply(Dataset.scala:3260)\n\tat org.apache.spark.sql.Dataset$$anonfun$52.apply(Dataset.scala:3370)\n\tat org.apache.spark.sql.execution.SQLExecution$$anonfun$withNewExecutionId$1.apply(SQLExecution.scala:78)\n\tat org.apache.spark.sql.execution.SQLExecution$.withSQLConfPropagated(SQLExecution.scala:125)\n\tat org.apache.spark.sql.execution.SQLExecution$.withNewExecutionId(SQLExecution.scala:73)\n\tat org.apache.spark.sql.Dataset.withAction(Dataset.scala:3369)\n\tat org.apache.spark.sql.Dataset.collectToPython(Dataset.scala:3260)\n\tat sun.reflect.NativeMethodAccessorImpl.invoke0(Native Method)\n\tat sun.reflect.NativeMethodAccessorImpl.invoke(NativeMethodAccessorImpl.java:62)\n\tat sun.reflect.DelegatingMethodAccessorImpl.invoke(DelegatingMethodAccessorImpl.java:43)\n\tat java.lang.reflect.Method.invoke(Method.java:498)\n\tat py4j.reflection.MethodInvoker.invoke(MethodInvoker.java:244)\n\tat py4j.reflection.ReflectionEngine.invoke(ReflectionEngine.java:357)\n\tat py4j.Gateway.invoke(Gateway.java:282)\n\tat py4j.commands.AbstractCommand.invokeMethod(AbstractCommand.java:132)\n\tat py4j.commands.CallCommand.execute(CallCommand.java:79)\n\tat py4j.GatewayConnection.run(GatewayConnection.java:238)\n\tat java.lang.Thread.run(Thread.java:748)\n",
     "output_type": "error",
     "traceback": [
      "\u001b[0;31m---------------------------------------------------------------------------\u001b[0m",
      "\u001b[0;31mPy4JJavaError\u001b[0m                             Traceback (most recent call last)",
      "\u001b[0;32m/python3/lib/python3.7/site-packages/IPython/core/formatters.py\u001b[0m in \u001b[0;36m__call__\u001b[0;34m(self, obj)\u001b[0m\n\u001b[1;32m    700\u001b[0m                 \u001b[0mtype_pprinters\u001b[0m\u001b[0;34m=\u001b[0m\u001b[0mself\u001b[0m\u001b[0;34m.\u001b[0m\u001b[0mtype_printers\u001b[0m\u001b[0;34m,\u001b[0m\u001b[0;34m\u001b[0m\u001b[0;34m\u001b[0m\u001b[0m\n\u001b[1;32m    701\u001b[0m                 deferred_pprinters=self.deferred_printers)\n\u001b[0;32m--> 702\u001b[0;31m             \u001b[0mprinter\u001b[0m\u001b[0;34m.\u001b[0m\u001b[0mpretty\u001b[0m\u001b[0;34m(\u001b[0m\u001b[0mobj\u001b[0m\u001b[0;34m)\u001b[0m\u001b[0;34m\u001b[0m\u001b[0;34m\u001b[0m\u001b[0m\n\u001b[0m\u001b[1;32m    703\u001b[0m             \u001b[0mprinter\u001b[0m\u001b[0;34m.\u001b[0m\u001b[0mflush\u001b[0m\u001b[0;34m(\u001b[0m\u001b[0;34m)\u001b[0m\u001b[0;34m\u001b[0m\u001b[0;34m\u001b[0m\u001b[0m\n\u001b[1;32m    704\u001b[0m             \u001b[0;32mreturn\u001b[0m \u001b[0mstream\u001b[0m\u001b[0;34m.\u001b[0m\u001b[0mgetvalue\u001b[0m\u001b[0;34m(\u001b[0m\u001b[0;34m)\u001b[0m\u001b[0;34m\u001b[0m\u001b[0;34m\u001b[0m\u001b[0m\n",
      "\u001b[0;32m/python3/lib/python3.7/site-packages/IPython/lib/pretty.py\u001b[0m in \u001b[0;36mpretty\u001b[0;34m(self, obj)\u001b[0m\n\u001b[1;32m    392\u001b[0m                         \u001b[0;32mif\u001b[0m \u001b[0mcls\u001b[0m \u001b[0;32mis\u001b[0m \u001b[0;32mnot\u001b[0m \u001b[0mobject\u001b[0m\u001b[0;31m \u001b[0m\u001b[0;31m\\\u001b[0m\u001b[0;34m\u001b[0m\u001b[0;34m\u001b[0m\u001b[0m\n\u001b[1;32m    393\u001b[0m                                 \u001b[0;32mand\u001b[0m \u001b[0mcallable\u001b[0m\u001b[0;34m(\u001b[0m\u001b[0mcls\u001b[0m\u001b[0;34m.\u001b[0m\u001b[0m__dict__\u001b[0m\u001b[0;34m.\u001b[0m\u001b[0mget\u001b[0m\u001b[0;34m(\u001b[0m\u001b[0;34m'__repr__'\u001b[0m\u001b[0;34m)\u001b[0m\u001b[0;34m)\u001b[0m\u001b[0;34m:\u001b[0m\u001b[0;34m\u001b[0m\u001b[0;34m\u001b[0m\u001b[0m\n\u001b[0;32m--> 394\u001b[0;31m                             \u001b[0;32mreturn\u001b[0m \u001b[0m_repr_pprint\u001b[0m\u001b[0;34m(\u001b[0m\u001b[0mobj\u001b[0m\u001b[0;34m,\u001b[0m \u001b[0mself\u001b[0m\u001b[0;34m,\u001b[0m \u001b[0mcycle\u001b[0m\u001b[0;34m)\u001b[0m\u001b[0;34m\u001b[0m\u001b[0;34m\u001b[0m\u001b[0m\n\u001b[0m\u001b[1;32m    395\u001b[0m \u001b[0;34m\u001b[0m\u001b[0m\n\u001b[1;32m    396\u001b[0m             \u001b[0;32mreturn\u001b[0m \u001b[0m_default_pprint\u001b[0m\u001b[0;34m(\u001b[0m\u001b[0mobj\u001b[0m\u001b[0;34m,\u001b[0m \u001b[0mself\u001b[0m\u001b[0;34m,\u001b[0m \u001b[0mcycle\u001b[0m\u001b[0;34m)\u001b[0m\u001b[0;34m\u001b[0m\u001b[0;34m\u001b[0m\u001b[0m\n",
      "\u001b[0;32m/python3/lib/python3.7/site-packages/IPython/lib/pretty.py\u001b[0m in \u001b[0;36m_repr_pprint\u001b[0;34m(obj, p, cycle)\u001b[0m\n\u001b[1;32m    698\u001b[0m     \u001b[0;34m\"\"\"A pprint that just redirects to the normal repr function.\"\"\"\u001b[0m\u001b[0;34m\u001b[0m\u001b[0;34m\u001b[0m\u001b[0m\n\u001b[1;32m    699\u001b[0m     \u001b[0;31m# Find newlines and replace them with p.break_()\u001b[0m\u001b[0;34m\u001b[0m\u001b[0;34m\u001b[0m\u001b[0;34m\u001b[0m\u001b[0m\n\u001b[0;32m--> 700\u001b[0;31m     \u001b[0moutput\u001b[0m \u001b[0;34m=\u001b[0m \u001b[0mrepr\u001b[0m\u001b[0;34m(\u001b[0m\u001b[0mobj\u001b[0m\u001b[0;34m)\u001b[0m\u001b[0;34m\u001b[0m\u001b[0;34m\u001b[0m\u001b[0m\n\u001b[0m\u001b[1;32m    701\u001b[0m     \u001b[0mlines\u001b[0m \u001b[0;34m=\u001b[0m \u001b[0moutput\u001b[0m\u001b[0;34m.\u001b[0m\u001b[0msplitlines\u001b[0m\u001b[0;34m(\u001b[0m\u001b[0;34m)\u001b[0m\u001b[0;34m\u001b[0m\u001b[0;34m\u001b[0m\u001b[0m\n\u001b[1;32m    702\u001b[0m     \u001b[0;32mwith\u001b[0m \u001b[0mp\u001b[0m\u001b[0;34m.\u001b[0m\u001b[0mgroup\u001b[0m\u001b[0;34m(\u001b[0m\u001b[0;34m)\u001b[0m\u001b[0;34m:\u001b[0m\u001b[0;34m\u001b[0m\u001b[0;34m\u001b[0m\u001b[0m\n",
      "\u001b[0;32m~/.local/lib/python3.7/site-packages/databricks/koalas/frame.py\u001b[0m in \u001b[0;36m__repr__\u001b[0;34m(self)\u001b[0m\n\u001b[1;32m  11018\u001b[0m             \u001b[0;32mreturn\u001b[0m \u001b[0mself\u001b[0m\u001b[0;34m.\u001b[0m\u001b[0m_to_internal_pandas\u001b[0m\u001b[0;34m(\u001b[0m\u001b[0;34m)\u001b[0m\u001b[0;34m.\u001b[0m\u001b[0mto_string\u001b[0m\u001b[0;34m(\u001b[0m\u001b[0;34m)\u001b[0m\u001b[0;34m\u001b[0m\u001b[0;34m\u001b[0m\u001b[0m\n\u001b[1;32m  11019\u001b[0m \u001b[0;34m\u001b[0m\u001b[0m\n\u001b[0;32m> 11020\u001b[0;31m         \u001b[0mpdf\u001b[0m \u001b[0;34m=\u001b[0m \u001b[0mself\u001b[0m\u001b[0;34m.\u001b[0m\u001b[0m_get_or_create_repr_pandas_cache\u001b[0m\u001b[0;34m(\u001b[0m\u001b[0mmax_display_count\u001b[0m\u001b[0;34m)\u001b[0m\u001b[0;34m\u001b[0m\u001b[0;34m\u001b[0m\u001b[0m\n\u001b[0m\u001b[1;32m  11021\u001b[0m         \u001b[0mpdf_length\u001b[0m \u001b[0;34m=\u001b[0m \u001b[0mlen\u001b[0m\u001b[0;34m(\u001b[0m\u001b[0mpdf\u001b[0m\u001b[0;34m)\u001b[0m\u001b[0;34m\u001b[0m\u001b[0;34m\u001b[0m\u001b[0m\n\u001b[1;32m  11022\u001b[0m         \u001b[0mpdf\u001b[0m \u001b[0;34m=\u001b[0m \u001b[0mpdf\u001b[0m\u001b[0;34m.\u001b[0m\u001b[0miloc\u001b[0m\u001b[0;34m[\u001b[0m\u001b[0;34m:\u001b[0m\u001b[0mmax_display_count\u001b[0m\u001b[0;34m]\u001b[0m\u001b[0;34m\u001b[0m\u001b[0;34m\u001b[0m\u001b[0m\n",
      "\u001b[0;32m~/.local/lib/python3.7/site-packages/databricks/koalas/frame.py\u001b[0m in \u001b[0;36m_get_or_create_repr_pandas_cache\u001b[0;34m(self, n)\u001b[0m\n\u001b[1;32m  11010\u001b[0m     \u001b[0;32mdef\u001b[0m \u001b[0m_get_or_create_repr_pandas_cache\u001b[0m\u001b[0;34m(\u001b[0m\u001b[0mself\u001b[0m\u001b[0;34m,\u001b[0m \u001b[0mn\u001b[0m\u001b[0;34m)\u001b[0m\u001b[0;34m:\u001b[0m\u001b[0;34m\u001b[0m\u001b[0;34m\u001b[0m\u001b[0m\n\u001b[1;32m  11011\u001b[0m         \u001b[0;32mif\u001b[0m \u001b[0;32mnot\u001b[0m \u001b[0mhasattr\u001b[0m\u001b[0;34m(\u001b[0m\u001b[0mself\u001b[0m\u001b[0;34m,\u001b[0m \u001b[0;34m\"_repr_pandas_cache\"\u001b[0m\u001b[0;34m)\u001b[0m \u001b[0;32mor\u001b[0m \u001b[0mn\u001b[0m \u001b[0;32mnot\u001b[0m \u001b[0;32min\u001b[0m \u001b[0mself\u001b[0m\u001b[0;34m.\u001b[0m\u001b[0m_repr_pandas_cache\u001b[0m\u001b[0;34m:\u001b[0m\u001b[0;34m\u001b[0m\u001b[0;34m\u001b[0m\u001b[0m\n\u001b[0;32m> 11012\u001b[0;31m             \u001b[0mself\u001b[0m\u001b[0;34m.\u001b[0m\u001b[0m_repr_pandas_cache\u001b[0m \u001b[0;34m=\u001b[0m \u001b[0;34m{\u001b[0m\u001b[0mn\u001b[0m\u001b[0;34m:\u001b[0m \u001b[0mself\u001b[0m\u001b[0;34m.\u001b[0m\u001b[0mhead\u001b[0m\u001b[0;34m(\u001b[0m\u001b[0mn\u001b[0m \u001b[0;34m+\u001b[0m \u001b[0;36m1\u001b[0m\u001b[0;34m)\u001b[0m\u001b[0;34m.\u001b[0m\u001b[0m_to_internal_pandas\u001b[0m\u001b[0;34m(\u001b[0m\u001b[0;34m)\u001b[0m\u001b[0;34m}\u001b[0m\u001b[0;34m\u001b[0m\u001b[0;34m\u001b[0m\u001b[0m\n\u001b[0m\u001b[1;32m  11013\u001b[0m         \u001b[0;32mreturn\u001b[0m \u001b[0mself\u001b[0m\u001b[0;34m.\u001b[0m\u001b[0m_repr_pandas_cache\u001b[0m\u001b[0;34m[\u001b[0m\u001b[0mn\u001b[0m\u001b[0;34m]\u001b[0m\u001b[0;34m\u001b[0m\u001b[0;34m\u001b[0m\u001b[0m\n\u001b[1;32m  11014\u001b[0m \u001b[0;34m\u001b[0m\u001b[0m\n",
      "\u001b[0;32m~/.local/lib/python3.7/site-packages/databricks/koalas/frame.py\u001b[0m in \u001b[0;36m_to_internal_pandas\u001b[0;34m(self)\u001b[0m\n\u001b[1;32m  11006\u001b[0m         \u001b[0mThis\u001b[0m \u001b[0mmethod\u001b[0m \u001b[0;32mis\u001b[0m \u001b[0;32mfor\u001b[0m \u001b[0minternal\u001b[0m \u001b[0muse\u001b[0m \u001b[0monly\u001b[0m\u001b[0;34m.\u001b[0m\u001b[0;34m\u001b[0m\u001b[0;34m\u001b[0m\u001b[0m\n\u001b[1;32m  11007\u001b[0m         \"\"\"\n\u001b[0;32m> 11008\u001b[0;31m         \u001b[0;32mreturn\u001b[0m \u001b[0mself\u001b[0m\u001b[0;34m.\u001b[0m\u001b[0m_internal\u001b[0m\u001b[0;34m.\u001b[0m\u001b[0mto_pandas_frame\u001b[0m\u001b[0;34m\u001b[0m\u001b[0;34m\u001b[0m\u001b[0m\n\u001b[0m\u001b[1;32m  11009\u001b[0m \u001b[0;34m\u001b[0m\u001b[0m\n\u001b[1;32m  11010\u001b[0m     \u001b[0;32mdef\u001b[0m \u001b[0m_get_or_create_repr_pandas_cache\u001b[0m\u001b[0;34m(\u001b[0m\u001b[0mself\u001b[0m\u001b[0;34m,\u001b[0m \u001b[0mn\u001b[0m\u001b[0;34m)\u001b[0m\u001b[0;34m:\u001b[0m\u001b[0;34m\u001b[0m\u001b[0;34m\u001b[0m\u001b[0m\n",
      "\u001b[0;32m~/.local/lib/python3.7/site-packages/databricks/koalas/utils.py\u001b[0m in \u001b[0;36mwrapped_lazy_property\u001b[0;34m(self)\u001b[0m\n\u001b[1;32m    530\u001b[0m     \u001b[0;32mdef\u001b[0m \u001b[0mwrapped_lazy_property\u001b[0m\u001b[0;34m(\u001b[0m\u001b[0mself\u001b[0m\u001b[0;34m)\u001b[0m\u001b[0;34m:\u001b[0m\u001b[0;34m\u001b[0m\u001b[0;34m\u001b[0m\u001b[0m\n\u001b[1;32m    531\u001b[0m         \u001b[0;32mif\u001b[0m \u001b[0;32mnot\u001b[0m \u001b[0mhasattr\u001b[0m\u001b[0;34m(\u001b[0m\u001b[0mself\u001b[0m\u001b[0;34m,\u001b[0m \u001b[0mattr_name\u001b[0m\u001b[0;34m)\u001b[0m\u001b[0;34m:\u001b[0m\u001b[0;34m\u001b[0m\u001b[0;34m\u001b[0m\u001b[0m\n\u001b[0;32m--> 532\u001b[0;31m             \u001b[0msetattr\u001b[0m\u001b[0;34m(\u001b[0m\u001b[0mself\u001b[0m\u001b[0;34m,\u001b[0m \u001b[0mattr_name\u001b[0m\u001b[0;34m,\u001b[0m \u001b[0mfn\u001b[0m\u001b[0;34m(\u001b[0m\u001b[0mself\u001b[0m\u001b[0;34m)\u001b[0m\u001b[0;34m)\u001b[0m\u001b[0;34m\u001b[0m\u001b[0;34m\u001b[0m\u001b[0m\n\u001b[0m\u001b[1;32m    533\u001b[0m         \u001b[0;32mreturn\u001b[0m \u001b[0mgetattr\u001b[0m\u001b[0;34m(\u001b[0m\u001b[0mself\u001b[0m\u001b[0;34m,\u001b[0m \u001b[0mattr_name\u001b[0m\u001b[0;34m)\u001b[0m\u001b[0;34m\u001b[0m\u001b[0;34m\u001b[0m\u001b[0m\n\u001b[1;32m    534\u001b[0m \u001b[0;34m\u001b[0m\u001b[0m\n",
      "\u001b[0;32m~/.local/lib/python3.7/site-packages/databricks/koalas/internal.py\u001b[0m in \u001b[0;36mto_pandas_frame\u001b[0;34m(self)\u001b[0m\n\u001b[1;32m    814\u001b[0m         \u001b[0;34m\"\"\" Return as pandas DataFrame. \"\"\"\u001b[0m\u001b[0;34m\u001b[0m\u001b[0;34m\u001b[0m\u001b[0m\n\u001b[1;32m    815\u001b[0m         \u001b[0msdf\u001b[0m \u001b[0;34m=\u001b[0m \u001b[0mself\u001b[0m\u001b[0;34m.\u001b[0m\u001b[0mto_internal_spark_frame\u001b[0m\u001b[0;34m\u001b[0m\u001b[0;34m\u001b[0m\u001b[0m\n\u001b[0;32m--> 816\u001b[0;31m         \u001b[0mpdf\u001b[0m \u001b[0;34m=\u001b[0m \u001b[0msdf\u001b[0m\u001b[0;34m.\u001b[0m\u001b[0mtoPandas\u001b[0m\u001b[0;34m(\u001b[0m\u001b[0;34m)\u001b[0m\u001b[0;34m\u001b[0m\u001b[0;34m\u001b[0m\u001b[0m\n\u001b[0m\u001b[1;32m    817\u001b[0m         \u001b[0;32mif\u001b[0m \u001b[0mlen\u001b[0m\u001b[0;34m(\u001b[0m\u001b[0mpdf\u001b[0m\u001b[0;34m)\u001b[0m \u001b[0;34m==\u001b[0m \u001b[0;36m0\u001b[0m \u001b[0;32mand\u001b[0m \u001b[0mlen\u001b[0m\u001b[0;34m(\u001b[0m\u001b[0msdf\u001b[0m\u001b[0;34m.\u001b[0m\u001b[0mschema\u001b[0m\u001b[0;34m)\u001b[0m \u001b[0;34m>\u001b[0m \u001b[0;36m0\u001b[0m\u001b[0;34m:\u001b[0m\u001b[0;34m\u001b[0m\u001b[0;34m\u001b[0m\u001b[0m\n\u001b[1;32m    818\u001b[0m             pdf = pdf.astype(\n",
      "\u001b[0;32m/python3/lib/python3.7/site-packages/pyspark/sql/dataframe.py\u001b[0m in \u001b[0;36mtoPandas\u001b[0;34m(self)\u001b[0m\n\u001b[1;32m   2141\u001b[0m \u001b[0;34m\u001b[0m\u001b[0m\n\u001b[1;32m   2142\u001b[0m         \u001b[0;31m# Below is toPandas without Arrow optimization.\u001b[0m\u001b[0;34m\u001b[0m\u001b[0;34m\u001b[0m\u001b[0;34m\u001b[0m\u001b[0m\n\u001b[0;32m-> 2143\u001b[0;31m         \u001b[0mpdf\u001b[0m \u001b[0;34m=\u001b[0m \u001b[0mpd\u001b[0m\u001b[0;34m.\u001b[0m\u001b[0mDataFrame\u001b[0m\u001b[0;34m.\u001b[0m\u001b[0mfrom_records\u001b[0m\u001b[0;34m(\u001b[0m\u001b[0mself\u001b[0m\u001b[0;34m.\u001b[0m\u001b[0mcollect\u001b[0m\u001b[0;34m(\u001b[0m\u001b[0;34m)\u001b[0m\u001b[0;34m,\u001b[0m \u001b[0mcolumns\u001b[0m\u001b[0;34m=\u001b[0m\u001b[0mself\u001b[0m\u001b[0;34m.\u001b[0m\u001b[0mcolumns\u001b[0m\u001b[0;34m)\u001b[0m\u001b[0;34m\u001b[0m\u001b[0;34m\u001b[0m\u001b[0m\n\u001b[0m\u001b[1;32m   2144\u001b[0m \u001b[0;34m\u001b[0m\u001b[0m\n\u001b[1;32m   2145\u001b[0m         \u001b[0mdtype\u001b[0m \u001b[0;34m=\u001b[0m \u001b[0;34m{\u001b[0m\u001b[0;34m}\u001b[0m\u001b[0;34m\u001b[0m\u001b[0;34m\u001b[0m\u001b[0m\n",
      "\u001b[0;32m/python3/lib/python3.7/site-packages/pyspark/sql/dataframe.py\u001b[0m in \u001b[0;36mcollect\u001b[0;34m(self)\u001b[0m\n\u001b[1;32m    532\u001b[0m         \"\"\"\n\u001b[1;32m    533\u001b[0m         \u001b[0;32mwith\u001b[0m \u001b[0mSCCallSiteSync\u001b[0m\u001b[0;34m(\u001b[0m\u001b[0mself\u001b[0m\u001b[0;34m.\u001b[0m\u001b[0m_sc\u001b[0m\u001b[0;34m)\u001b[0m \u001b[0;32mas\u001b[0m \u001b[0mcss\u001b[0m\u001b[0;34m:\u001b[0m\u001b[0;34m\u001b[0m\u001b[0;34m\u001b[0m\u001b[0m\n\u001b[0;32m--> 534\u001b[0;31m             \u001b[0msock_info\u001b[0m \u001b[0;34m=\u001b[0m \u001b[0mself\u001b[0m\u001b[0;34m.\u001b[0m\u001b[0m_jdf\u001b[0m\u001b[0;34m.\u001b[0m\u001b[0mcollectToPython\u001b[0m\u001b[0;34m(\u001b[0m\u001b[0;34m)\u001b[0m\u001b[0;34m\u001b[0m\u001b[0;34m\u001b[0m\u001b[0m\n\u001b[0m\u001b[1;32m    535\u001b[0m         \u001b[0;32mreturn\u001b[0m \u001b[0mlist\u001b[0m\u001b[0;34m(\u001b[0m\u001b[0m_load_from_socket\u001b[0m\u001b[0;34m(\u001b[0m\u001b[0msock_info\u001b[0m\u001b[0;34m,\u001b[0m \u001b[0mBatchedSerializer\u001b[0m\u001b[0;34m(\u001b[0m\u001b[0mPickleSerializer\u001b[0m\u001b[0;34m(\u001b[0m\u001b[0;34m)\u001b[0m\u001b[0;34m)\u001b[0m\u001b[0;34m)\u001b[0m\u001b[0;34m)\u001b[0m\u001b[0;34m\u001b[0m\u001b[0;34m\u001b[0m\u001b[0m\n\u001b[1;32m    536\u001b[0m \u001b[0;34m\u001b[0m\u001b[0m\n",
      "\u001b[0;32m/python3/lib/python3.7/site-packages/py4j/java_gateway.py\u001b[0m in \u001b[0;36m__call__\u001b[0;34m(self, *args)\u001b[0m\n\u001b[1;32m   1255\u001b[0m         \u001b[0manswer\u001b[0m \u001b[0;34m=\u001b[0m \u001b[0mself\u001b[0m\u001b[0;34m.\u001b[0m\u001b[0mgateway_client\u001b[0m\u001b[0;34m.\u001b[0m\u001b[0msend_command\u001b[0m\u001b[0;34m(\u001b[0m\u001b[0mcommand\u001b[0m\u001b[0;34m)\u001b[0m\u001b[0;34m\u001b[0m\u001b[0;34m\u001b[0m\u001b[0m\n\u001b[1;32m   1256\u001b[0m         return_value = get_return_value(\n\u001b[0;32m-> 1257\u001b[0;31m             answer, self.gateway_client, self.target_id, self.name)\n\u001b[0m\u001b[1;32m   1258\u001b[0m \u001b[0;34m\u001b[0m\u001b[0m\n\u001b[1;32m   1259\u001b[0m         \u001b[0;32mfor\u001b[0m \u001b[0mtemp_arg\u001b[0m \u001b[0;32min\u001b[0m \u001b[0mtemp_args\u001b[0m\u001b[0;34m:\u001b[0m\u001b[0;34m\u001b[0m\u001b[0;34m\u001b[0m\u001b[0m\n",
      "\u001b[0;32m/python3/lib/python3.7/site-packages/pyspark/sql/utils.py\u001b[0m in \u001b[0;36mdeco\u001b[0;34m(*a, **kw)\u001b[0m\n\u001b[1;32m     61\u001b[0m     \u001b[0;32mdef\u001b[0m \u001b[0mdeco\u001b[0m\u001b[0;34m(\u001b[0m\u001b[0;34m*\u001b[0m\u001b[0ma\u001b[0m\u001b[0;34m,\u001b[0m \u001b[0;34m**\u001b[0m\u001b[0mkw\u001b[0m\u001b[0;34m)\u001b[0m\u001b[0;34m:\u001b[0m\u001b[0;34m\u001b[0m\u001b[0;34m\u001b[0m\u001b[0m\n\u001b[1;32m     62\u001b[0m         \u001b[0;32mtry\u001b[0m\u001b[0;34m:\u001b[0m\u001b[0;34m\u001b[0m\u001b[0;34m\u001b[0m\u001b[0m\n\u001b[0;32m---> 63\u001b[0;31m             \u001b[0;32mreturn\u001b[0m \u001b[0mf\u001b[0m\u001b[0;34m(\u001b[0m\u001b[0;34m*\u001b[0m\u001b[0ma\u001b[0m\u001b[0;34m,\u001b[0m \u001b[0;34m**\u001b[0m\u001b[0mkw\u001b[0m\u001b[0;34m)\u001b[0m\u001b[0;34m\u001b[0m\u001b[0;34m\u001b[0m\u001b[0m\n\u001b[0m\u001b[1;32m     64\u001b[0m         \u001b[0;32mexcept\u001b[0m \u001b[0mpy4j\u001b[0m\u001b[0;34m.\u001b[0m\u001b[0mprotocol\u001b[0m\u001b[0;34m.\u001b[0m\u001b[0mPy4JJavaError\u001b[0m \u001b[0;32mas\u001b[0m \u001b[0me\u001b[0m\u001b[0;34m:\u001b[0m\u001b[0;34m\u001b[0m\u001b[0;34m\u001b[0m\u001b[0m\n\u001b[1;32m     65\u001b[0m             \u001b[0ms\u001b[0m \u001b[0;34m=\u001b[0m \u001b[0me\u001b[0m\u001b[0;34m.\u001b[0m\u001b[0mjava_exception\u001b[0m\u001b[0;34m.\u001b[0m\u001b[0mtoString\u001b[0m\u001b[0;34m(\u001b[0m\u001b[0;34m)\u001b[0m\u001b[0;34m\u001b[0m\u001b[0;34m\u001b[0m\u001b[0m\n",
      "\u001b[0;32m/python3/lib/python3.7/site-packages/py4j/protocol.py\u001b[0m in \u001b[0;36mget_return_value\u001b[0;34m(answer, gateway_client, target_id, name)\u001b[0m\n\u001b[1;32m    326\u001b[0m                 raise Py4JJavaError(\n\u001b[1;32m    327\u001b[0m                     \u001b[0;34m\"An error occurred while calling {0}{1}{2}.\\n\"\u001b[0m\u001b[0;34m.\u001b[0m\u001b[0;34m\u001b[0m\u001b[0;34m\u001b[0m\u001b[0m\n\u001b[0;32m--> 328\u001b[0;31m                     format(target_id, \".\", name), value)\n\u001b[0m\u001b[1;32m    329\u001b[0m             \u001b[0;32melse\u001b[0m\u001b[0;34m:\u001b[0m\u001b[0;34m\u001b[0m\u001b[0;34m\u001b[0m\u001b[0m\n\u001b[1;32m    330\u001b[0m                 raise Py4JError(\n",
      "\u001b[0;31mPy4JJavaError\u001b[0m: An error occurred while calling o3814.collectToPython.\n: org.apache.spark.SparkException: Job 32 cancelled \n\tat org.apache.spark.scheduler.DAGScheduler.org$apache$spark$scheduler$DAGScheduler$$failJobAndIndependentStages(DAGScheduler.scala:1889)\n\tat org.apache.spark.scheduler.DAGScheduler.handleJobCancellation(DAGScheduler.scala:1824)\n\tat org.apache.spark.scheduler.DAGSchedulerEventProcessLoop.doOnReceive(DAGScheduler.scala:2076)\n\tat org.apache.spark.scheduler.DAGSchedulerEventProcessLoop.onReceive(DAGScheduler.scala:2059)\n\tat org.apache.spark.scheduler.DAGSchedulerEventProcessLoop.onReceive(DAGScheduler.scala:2048)\n\tat org.apache.spark.util.EventLoop$$anon$1.run(EventLoop.scala:49)\n\tat org.apache.spark.scheduler.DAGScheduler.runJob(DAGScheduler.scala:737)\n\tat org.apache.spark.SparkContext.runJob(SparkContext.scala:2061)\n\tat org.apache.spark.SparkContext.runJob(SparkContext.scala:2082)\n\tat org.apache.spark.SparkContext.runJob(SparkContext.scala:2101)\n\tat org.apache.spark.sql.execution.SparkPlan.executeTake(SparkPlan.scala:365)\n\tat org.apache.spark.sql.execution.CollectLimitExec.executeCollect(limit.scala:38)\n\tat org.apache.spark.sql.Dataset$$anonfun$collectToPython$1.apply(Dataset.scala:3263)\n\tat org.apache.spark.sql.Dataset$$anonfun$collectToPython$1.apply(Dataset.scala:3260)\n\tat org.apache.spark.sql.Dataset$$anonfun$52.apply(Dataset.scala:3370)\n\tat org.apache.spark.sql.execution.SQLExecution$$anonfun$withNewExecutionId$1.apply(SQLExecution.scala:78)\n\tat org.apache.spark.sql.execution.SQLExecution$.withSQLConfPropagated(SQLExecution.scala:125)\n\tat org.apache.spark.sql.execution.SQLExecution$.withNewExecutionId(SQLExecution.scala:73)\n\tat org.apache.spark.sql.Dataset.withAction(Dataset.scala:3369)\n\tat org.apache.spark.sql.Dataset.collectToPython(Dataset.scala:3260)\n\tat sun.reflect.NativeMethodAccessorImpl.invoke0(Native Method)\n\tat sun.reflect.NativeMethodAccessorImpl.invoke(NativeMethodAccessorImpl.java:62)\n\tat sun.reflect.DelegatingMethodAccessorImpl.invoke(DelegatingMethodAccessorImpl.java:43)\n\tat java.lang.reflect.Method.invoke(Method.java:498)\n\tat py4j.reflection.MethodInvoker.invoke(MethodInvoker.java:244)\n\tat py4j.reflection.ReflectionEngine.invoke(ReflectionEngine.java:357)\n\tat py4j.Gateway.invoke(Gateway.java:282)\n\tat py4j.commands.AbstractCommand.invokeMethod(AbstractCommand.java:132)\n\tat py4j.commands.CallCommand.execute(CallCommand.java:79)\n\tat py4j.GatewayConnection.run(GatewayConnection.java:238)\n\tat java.lang.Thread.run(Thread.java:748)\n"
     ]
    },
    {
     "ename": "KeyboardInterrupt",
     "evalue": "",
     "output_type": "error",
     "traceback": [
      "\u001b[0;31m---------------------------------------------------------------------------\u001b[0m",
      "\u001b[0;31mKeyboardInterrupt\u001b[0m                         Traceback (most recent call last)",
      "\u001b[0;32m<ipython-input-52-22997bc7611c>\u001b[0m in \u001b[0;36m<module>\u001b[0;34m\u001b[0m\n\u001b[0;32m----> 1\u001b[0;31m \u001b[0mt\u001b[0m\u001b[0;34m.\u001b[0m\u001b[0mhead\u001b[0m\u001b[0;34m(\u001b[0m\u001b[0;36m1\u001b[0m\u001b[0;34m)\u001b[0m\u001b[0;34m\u001b[0m\u001b[0;34m\u001b[0m\u001b[0m\n\u001b[0m",
      "\u001b[0;32m/python3/lib/python3.7/site-packages/IPython/core/displayhook.py\u001b[0m in \u001b[0;36m__call__\u001b[0;34m(self, result)\u001b[0m\n\u001b[1;32m    260\u001b[0m             \u001b[0mself\u001b[0m\u001b[0;34m.\u001b[0m\u001b[0mstart_displayhook\u001b[0m\u001b[0;34m(\u001b[0m\u001b[0;34m)\u001b[0m\u001b[0;34m\u001b[0m\u001b[0;34m\u001b[0m\u001b[0m\n\u001b[1;32m    261\u001b[0m             \u001b[0mself\u001b[0m\u001b[0;34m.\u001b[0m\u001b[0mwrite_output_prompt\u001b[0m\u001b[0;34m(\u001b[0m\u001b[0;34m)\u001b[0m\u001b[0;34m\u001b[0m\u001b[0;34m\u001b[0m\u001b[0m\n\u001b[0;32m--> 262\u001b[0;31m             \u001b[0mformat_dict\u001b[0m\u001b[0;34m,\u001b[0m \u001b[0mmd_dict\u001b[0m \u001b[0;34m=\u001b[0m \u001b[0mself\u001b[0m\u001b[0;34m.\u001b[0m\u001b[0mcompute_format_data\u001b[0m\u001b[0;34m(\u001b[0m\u001b[0mresult\u001b[0m\u001b[0;34m)\u001b[0m\u001b[0;34m\u001b[0m\u001b[0;34m\u001b[0m\u001b[0m\n\u001b[0m\u001b[1;32m    263\u001b[0m             \u001b[0mself\u001b[0m\u001b[0;34m.\u001b[0m\u001b[0mupdate_user_ns\u001b[0m\u001b[0;34m(\u001b[0m\u001b[0mresult\u001b[0m\u001b[0;34m)\u001b[0m\u001b[0;34m\u001b[0m\u001b[0;34m\u001b[0m\u001b[0m\n\u001b[1;32m    264\u001b[0m             \u001b[0mself\u001b[0m\u001b[0;34m.\u001b[0m\u001b[0mfill_exec_result\u001b[0m\u001b[0;34m(\u001b[0m\u001b[0mresult\u001b[0m\u001b[0;34m)\u001b[0m\u001b[0;34m\u001b[0m\u001b[0;34m\u001b[0m\u001b[0m\n",
      "\u001b[0;32m/python3/lib/python3.7/site-packages/IPython/core/displayhook.py\u001b[0m in \u001b[0;36mcompute_format_data\u001b[0;34m(self, result)\u001b[0m\n\u001b[1;32m    149\u001b[0m \u001b[0;34m\u001b[0m\u001b[0m\n\u001b[1;32m    150\u001b[0m         \"\"\"\n\u001b[0;32m--> 151\u001b[0;31m         \u001b[0;32mreturn\u001b[0m \u001b[0mself\u001b[0m\u001b[0;34m.\u001b[0m\u001b[0mshell\u001b[0m\u001b[0;34m.\u001b[0m\u001b[0mdisplay_formatter\u001b[0m\u001b[0;34m.\u001b[0m\u001b[0mformat\u001b[0m\u001b[0;34m(\u001b[0m\u001b[0mresult\u001b[0m\u001b[0;34m)\u001b[0m\u001b[0;34m\u001b[0m\u001b[0;34m\u001b[0m\u001b[0m\n\u001b[0m\u001b[1;32m    152\u001b[0m \u001b[0;34m\u001b[0m\u001b[0m\n\u001b[1;32m    153\u001b[0m     \u001b[0;31m# This can be set to True by the write_output_prompt method in a subclass\u001b[0m\u001b[0;34m\u001b[0m\u001b[0;34m\u001b[0m\u001b[0;34m\u001b[0m\u001b[0m\n",
      "\u001b[0;32m/python3/lib/python3.7/site-packages/IPython/core/formatters.py\u001b[0m in \u001b[0;36mformat\u001b[0;34m(self, obj, include, exclude)\u001b[0m\n\u001b[1;32m    178\u001b[0m             \u001b[0mmd\u001b[0m \u001b[0;34m=\u001b[0m \u001b[0;32mNone\u001b[0m\u001b[0;34m\u001b[0m\u001b[0;34m\u001b[0m\u001b[0m\n\u001b[1;32m    179\u001b[0m             \u001b[0;32mtry\u001b[0m\u001b[0;34m:\u001b[0m\u001b[0;34m\u001b[0m\u001b[0;34m\u001b[0m\u001b[0m\n\u001b[0;32m--> 180\u001b[0;31m                 \u001b[0mdata\u001b[0m \u001b[0;34m=\u001b[0m \u001b[0mformatter\u001b[0m\u001b[0;34m(\u001b[0m\u001b[0mobj\u001b[0m\u001b[0;34m)\u001b[0m\u001b[0;34m\u001b[0m\u001b[0;34m\u001b[0m\u001b[0m\n\u001b[0m\u001b[1;32m    181\u001b[0m             \u001b[0;32mexcept\u001b[0m\u001b[0;34m:\u001b[0m\u001b[0;34m\u001b[0m\u001b[0;34m\u001b[0m\u001b[0m\n\u001b[1;32m    182\u001b[0m                 \u001b[0;31m# FIXME: log the exception\u001b[0m\u001b[0;34m\u001b[0m\u001b[0;34m\u001b[0m\u001b[0;34m\u001b[0m\u001b[0m\n",
      "\u001b[0;32m<decorator-gen-9>\u001b[0m in \u001b[0;36m__call__\u001b[0;34m(self, obj)\u001b[0m\n",
      "\u001b[0;32m/python3/lib/python3.7/site-packages/IPython/core/formatters.py\u001b[0m in \u001b[0;36mcatch_format_error\u001b[0;34m(method, self, *args, **kwargs)\u001b[0m\n\u001b[1;32m    222\u001b[0m     \u001b[0;34m\"\"\"show traceback on failed format call\"\"\"\u001b[0m\u001b[0;34m\u001b[0m\u001b[0;34m\u001b[0m\u001b[0m\n\u001b[1;32m    223\u001b[0m     \u001b[0;32mtry\u001b[0m\u001b[0;34m:\u001b[0m\u001b[0;34m\u001b[0m\u001b[0;34m\u001b[0m\u001b[0m\n\u001b[0;32m--> 224\u001b[0;31m         \u001b[0mr\u001b[0m \u001b[0;34m=\u001b[0m \u001b[0mmethod\u001b[0m\u001b[0;34m(\u001b[0m\u001b[0mself\u001b[0m\u001b[0;34m,\u001b[0m \u001b[0;34m*\u001b[0m\u001b[0margs\u001b[0m\u001b[0;34m,\u001b[0m \u001b[0;34m**\u001b[0m\u001b[0mkwargs\u001b[0m\u001b[0;34m)\u001b[0m\u001b[0;34m\u001b[0m\u001b[0;34m\u001b[0m\u001b[0m\n\u001b[0m\u001b[1;32m    225\u001b[0m     \u001b[0;32mexcept\u001b[0m \u001b[0mNotImplementedError\u001b[0m\u001b[0;34m:\u001b[0m\u001b[0;34m\u001b[0m\u001b[0;34m\u001b[0m\u001b[0m\n\u001b[1;32m    226\u001b[0m         \u001b[0;31m# don't warn on NotImplementedErrors\u001b[0m\u001b[0;34m\u001b[0m\u001b[0;34m\u001b[0m\u001b[0;34m\u001b[0m\u001b[0m\n",
      "\u001b[0;32m/python3/lib/python3.7/site-packages/IPython/core/formatters.py\u001b[0m in \u001b[0;36m__call__\u001b[0;34m(self, obj)\u001b[0m\n\u001b[1;32m    343\u001b[0m             \u001b[0mmethod\u001b[0m \u001b[0;34m=\u001b[0m \u001b[0mget_real_method\u001b[0m\u001b[0;34m(\u001b[0m\u001b[0mobj\u001b[0m\u001b[0;34m,\u001b[0m \u001b[0mself\u001b[0m\u001b[0;34m.\u001b[0m\u001b[0mprint_method\u001b[0m\u001b[0;34m)\u001b[0m\u001b[0;34m\u001b[0m\u001b[0;34m\u001b[0m\u001b[0m\n\u001b[1;32m    344\u001b[0m             \u001b[0;32mif\u001b[0m \u001b[0mmethod\u001b[0m \u001b[0;32mis\u001b[0m \u001b[0;32mnot\u001b[0m \u001b[0;32mNone\u001b[0m\u001b[0;34m:\u001b[0m\u001b[0;34m\u001b[0m\u001b[0;34m\u001b[0m\u001b[0m\n\u001b[0;32m--> 345\u001b[0;31m                 \u001b[0;32mreturn\u001b[0m \u001b[0mmethod\u001b[0m\u001b[0;34m(\u001b[0m\u001b[0;34m)\u001b[0m\u001b[0;34m\u001b[0m\u001b[0;34m\u001b[0m\u001b[0m\n\u001b[0m\u001b[1;32m    346\u001b[0m             \u001b[0;32mreturn\u001b[0m \u001b[0;32mNone\u001b[0m\u001b[0;34m\u001b[0m\u001b[0;34m\u001b[0m\u001b[0m\n\u001b[1;32m    347\u001b[0m         \u001b[0;32melse\u001b[0m\u001b[0;34m:\u001b[0m\u001b[0;34m\u001b[0m\u001b[0;34m\u001b[0m\u001b[0m\n",
      "\u001b[0;32m~/.local/lib/python3.7/site-packages/databricks/koalas/frame.py\u001b[0m in \u001b[0;36m_repr_html_\u001b[0;34m(self)\u001b[0m\n\u001b[1;32m  11041\u001b[0m             \u001b[0;32mreturn\u001b[0m \u001b[0mself\u001b[0m\u001b[0;34m.\u001b[0m\u001b[0m_to_internal_pandas\u001b[0m\u001b[0;34m(\u001b[0m\u001b[0;34m)\u001b[0m\u001b[0;34m.\u001b[0m\u001b[0mto_html\u001b[0m\u001b[0;34m(\u001b[0m\u001b[0mnotebook\u001b[0m\u001b[0;34m=\u001b[0m\u001b[0;32mTrue\u001b[0m\u001b[0;34m,\u001b[0m \u001b[0mbold_rows\u001b[0m\u001b[0;34m=\u001b[0m\u001b[0mbold_rows\u001b[0m\u001b[0;34m)\u001b[0m\u001b[0;34m\u001b[0m\u001b[0;34m\u001b[0m\u001b[0m\n\u001b[1;32m  11042\u001b[0m \u001b[0;34m\u001b[0m\u001b[0m\n\u001b[0;32m> 11043\u001b[0;31m         \u001b[0mpdf\u001b[0m \u001b[0;34m=\u001b[0m \u001b[0mself\u001b[0m\u001b[0;34m.\u001b[0m\u001b[0m_get_or_create_repr_pandas_cache\u001b[0m\u001b[0;34m(\u001b[0m\u001b[0mmax_display_count\u001b[0m\u001b[0;34m)\u001b[0m\u001b[0;34m\u001b[0m\u001b[0;34m\u001b[0m\u001b[0m\n\u001b[0m\u001b[1;32m  11044\u001b[0m         \u001b[0mpdf_length\u001b[0m \u001b[0;34m=\u001b[0m \u001b[0mlen\u001b[0m\u001b[0;34m(\u001b[0m\u001b[0mpdf\u001b[0m\u001b[0;34m)\u001b[0m\u001b[0;34m\u001b[0m\u001b[0;34m\u001b[0m\u001b[0m\n\u001b[1;32m  11045\u001b[0m         \u001b[0mpdf\u001b[0m \u001b[0;34m=\u001b[0m \u001b[0mpdf\u001b[0m\u001b[0;34m.\u001b[0m\u001b[0miloc\u001b[0m\u001b[0;34m[\u001b[0m\u001b[0;34m:\u001b[0m\u001b[0mmax_display_count\u001b[0m\u001b[0;34m]\u001b[0m\u001b[0;34m\u001b[0m\u001b[0;34m\u001b[0m\u001b[0m\n",
      "\u001b[0;32m~/.local/lib/python3.7/site-packages/databricks/koalas/frame.py\u001b[0m in \u001b[0;36m_get_or_create_repr_pandas_cache\u001b[0;34m(self, n)\u001b[0m\n\u001b[1;32m  11010\u001b[0m     \u001b[0;32mdef\u001b[0m \u001b[0m_get_or_create_repr_pandas_cache\u001b[0m\u001b[0;34m(\u001b[0m\u001b[0mself\u001b[0m\u001b[0;34m,\u001b[0m \u001b[0mn\u001b[0m\u001b[0;34m)\u001b[0m\u001b[0;34m:\u001b[0m\u001b[0;34m\u001b[0m\u001b[0;34m\u001b[0m\u001b[0m\n\u001b[1;32m  11011\u001b[0m         \u001b[0;32mif\u001b[0m \u001b[0;32mnot\u001b[0m \u001b[0mhasattr\u001b[0m\u001b[0;34m(\u001b[0m\u001b[0mself\u001b[0m\u001b[0;34m,\u001b[0m \u001b[0;34m\"_repr_pandas_cache\"\u001b[0m\u001b[0;34m)\u001b[0m \u001b[0;32mor\u001b[0m \u001b[0mn\u001b[0m \u001b[0;32mnot\u001b[0m \u001b[0;32min\u001b[0m \u001b[0mself\u001b[0m\u001b[0;34m.\u001b[0m\u001b[0m_repr_pandas_cache\u001b[0m\u001b[0;34m:\u001b[0m\u001b[0;34m\u001b[0m\u001b[0;34m\u001b[0m\u001b[0m\n\u001b[0;32m> 11012\u001b[0;31m             \u001b[0mself\u001b[0m\u001b[0;34m.\u001b[0m\u001b[0m_repr_pandas_cache\u001b[0m \u001b[0;34m=\u001b[0m \u001b[0;34m{\u001b[0m\u001b[0mn\u001b[0m\u001b[0;34m:\u001b[0m \u001b[0mself\u001b[0m\u001b[0;34m.\u001b[0m\u001b[0mhead\u001b[0m\u001b[0;34m(\u001b[0m\u001b[0mn\u001b[0m \u001b[0;34m+\u001b[0m \u001b[0;36m1\u001b[0m\u001b[0;34m)\u001b[0m\u001b[0;34m.\u001b[0m\u001b[0m_to_internal_pandas\u001b[0m\u001b[0;34m(\u001b[0m\u001b[0;34m)\u001b[0m\u001b[0;34m}\u001b[0m\u001b[0;34m\u001b[0m\u001b[0;34m\u001b[0m\u001b[0m\n\u001b[0m\u001b[1;32m  11013\u001b[0m         \u001b[0;32mreturn\u001b[0m \u001b[0mself\u001b[0m\u001b[0;34m.\u001b[0m\u001b[0m_repr_pandas_cache\u001b[0m\u001b[0;34m[\u001b[0m\u001b[0mn\u001b[0m\u001b[0;34m]\u001b[0m\u001b[0;34m\u001b[0m\u001b[0;34m\u001b[0m\u001b[0m\n\u001b[1;32m  11014\u001b[0m \u001b[0;34m\u001b[0m\u001b[0m\n",
      "\u001b[0;32m~/.local/lib/python3.7/site-packages/databricks/koalas/frame.py\u001b[0m in \u001b[0;36m_to_internal_pandas\u001b[0;34m(self)\u001b[0m\n\u001b[1;32m  11006\u001b[0m         \u001b[0mThis\u001b[0m \u001b[0mmethod\u001b[0m \u001b[0;32mis\u001b[0m \u001b[0;32mfor\u001b[0m \u001b[0minternal\u001b[0m \u001b[0muse\u001b[0m \u001b[0monly\u001b[0m\u001b[0;34m.\u001b[0m\u001b[0;34m\u001b[0m\u001b[0;34m\u001b[0m\u001b[0m\n\u001b[1;32m  11007\u001b[0m         \"\"\"\n\u001b[0;32m> 11008\u001b[0;31m         \u001b[0;32mreturn\u001b[0m \u001b[0mself\u001b[0m\u001b[0;34m.\u001b[0m\u001b[0m_internal\u001b[0m\u001b[0;34m.\u001b[0m\u001b[0mto_pandas_frame\u001b[0m\u001b[0;34m\u001b[0m\u001b[0;34m\u001b[0m\u001b[0m\n\u001b[0m\u001b[1;32m  11009\u001b[0m \u001b[0;34m\u001b[0m\u001b[0m\n\u001b[1;32m  11010\u001b[0m     \u001b[0;32mdef\u001b[0m \u001b[0m_get_or_create_repr_pandas_cache\u001b[0m\u001b[0;34m(\u001b[0m\u001b[0mself\u001b[0m\u001b[0;34m,\u001b[0m \u001b[0mn\u001b[0m\u001b[0;34m)\u001b[0m\u001b[0;34m:\u001b[0m\u001b[0;34m\u001b[0m\u001b[0;34m\u001b[0m\u001b[0m\n",
      "\u001b[0;32m~/.local/lib/python3.7/site-packages/databricks/koalas/utils.py\u001b[0m in \u001b[0;36mwrapped_lazy_property\u001b[0;34m(self)\u001b[0m\n\u001b[1;32m    530\u001b[0m     \u001b[0;32mdef\u001b[0m \u001b[0mwrapped_lazy_property\u001b[0m\u001b[0;34m(\u001b[0m\u001b[0mself\u001b[0m\u001b[0;34m)\u001b[0m\u001b[0;34m:\u001b[0m\u001b[0;34m\u001b[0m\u001b[0;34m\u001b[0m\u001b[0m\n\u001b[1;32m    531\u001b[0m         \u001b[0;32mif\u001b[0m \u001b[0;32mnot\u001b[0m \u001b[0mhasattr\u001b[0m\u001b[0;34m(\u001b[0m\u001b[0mself\u001b[0m\u001b[0;34m,\u001b[0m \u001b[0mattr_name\u001b[0m\u001b[0;34m)\u001b[0m\u001b[0;34m:\u001b[0m\u001b[0;34m\u001b[0m\u001b[0;34m\u001b[0m\u001b[0m\n\u001b[0;32m--> 532\u001b[0;31m             \u001b[0msetattr\u001b[0m\u001b[0;34m(\u001b[0m\u001b[0mself\u001b[0m\u001b[0;34m,\u001b[0m \u001b[0mattr_name\u001b[0m\u001b[0;34m,\u001b[0m \u001b[0mfn\u001b[0m\u001b[0;34m(\u001b[0m\u001b[0mself\u001b[0m\u001b[0;34m)\u001b[0m\u001b[0;34m)\u001b[0m\u001b[0;34m\u001b[0m\u001b[0;34m\u001b[0m\u001b[0m\n\u001b[0m\u001b[1;32m    533\u001b[0m         \u001b[0;32mreturn\u001b[0m \u001b[0mgetattr\u001b[0m\u001b[0;34m(\u001b[0m\u001b[0mself\u001b[0m\u001b[0;34m,\u001b[0m \u001b[0mattr_name\u001b[0m\u001b[0;34m)\u001b[0m\u001b[0;34m\u001b[0m\u001b[0;34m\u001b[0m\u001b[0m\n\u001b[1;32m    534\u001b[0m \u001b[0;34m\u001b[0m\u001b[0m\n",
      "\u001b[0;32m~/.local/lib/python3.7/site-packages/databricks/koalas/internal.py\u001b[0m in \u001b[0;36mto_pandas_frame\u001b[0;34m(self)\u001b[0m\n\u001b[1;32m    814\u001b[0m         \u001b[0;34m\"\"\" Return as pandas DataFrame. \"\"\"\u001b[0m\u001b[0;34m\u001b[0m\u001b[0;34m\u001b[0m\u001b[0m\n\u001b[1;32m    815\u001b[0m         \u001b[0msdf\u001b[0m \u001b[0;34m=\u001b[0m \u001b[0mself\u001b[0m\u001b[0;34m.\u001b[0m\u001b[0mto_internal_spark_frame\u001b[0m\u001b[0;34m\u001b[0m\u001b[0;34m\u001b[0m\u001b[0m\n\u001b[0;32m--> 816\u001b[0;31m         \u001b[0mpdf\u001b[0m \u001b[0;34m=\u001b[0m \u001b[0msdf\u001b[0m\u001b[0;34m.\u001b[0m\u001b[0mtoPandas\u001b[0m\u001b[0;34m(\u001b[0m\u001b[0;34m)\u001b[0m\u001b[0;34m\u001b[0m\u001b[0;34m\u001b[0m\u001b[0m\n\u001b[0m\u001b[1;32m    817\u001b[0m         \u001b[0;32mif\u001b[0m \u001b[0mlen\u001b[0m\u001b[0;34m(\u001b[0m\u001b[0mpdf\u001b[0m\u001b[0;34m)\u001b[0m \u001b[0;34m==\u001b[0m \u001b[0;36m0\u001b[0m \u001b[0;32mand\u001b[0m \u001b[0mlen\u001b[0m\u001b[0;34m(\u001b[0m\u001b[0msdf\u001b[0m\u001b[0;34m.\u001b[0m\u001b[0mschema\u001b[0m\u001b[0;34m)\u001b[0m \u001b[0;34m>\u001b[0m \u001b[0;36m0\u001b[0m\u001b[0;34m:\u001b[0m\u001b[0;34m\u001b[0m\u001b[0;34m\u001b[0m\u001b[0m\n\u001b[1;32m    818\u001b[0m             pdf = pdf.astype(\n",
      "\u001b[0;32m/python3/lib/python3.7/site-packages/pyspark/sql/dataframe.py\u001b[0m in \u001b[0;36mtoPandas\u001b[0;34m(self)\u001b[0m\n\u001b[1;32m   2141\u001b[0m \u001b[0;34m\u001b[0m\u001b[0m\n\u001b[1;32m   2142\u001b[0m         \u001b[0;31m# Below is toPandas without Arrow optimization.\u001b[0m\u001b[0;34m\u001b[0m\u001b[0;34m\u001b[0m\u001b[0;34m\u001b[0m\u001b[0m\n\u001b[0;32m-> 2143\u001b[0;31m         \u001b[0mpdf\u001b[0m \u001b[0;34m=\u001b[0m \u001b[0mpd\u001b[0m\u001b[0;34m.\u001b[0m\u001b[0mDataFrame\u001b[0m\u001b[0;34m.\u001b[0m\u001b[0mfrom_records\u001b[0m\u001b[0;34m(\u001b[0m\u001b[0mself\u001b[0m\u001b[0;34m.\u001b[0m\u001b[0mcollect\u001b[0m\u001b[0;34m(\u001b[0m\u001b[0;34m)\u001b[0m\u001b[0;34m,\u001b[0m \u001b[0mcolumns\u001b[0m\u001b[0;34m=\u001b[0m\u001b[0mself\u001b[0m\u001b[0;34m.\u001b[0m\u001b[0mcolumns\u001b[0m\u001b[0;34m)\u001b[0m\u001b[0;34m\u001b[0m\u001b[0;34m\u001b[0m\u001b[0m\n\u001b[0m\u001b[1;32m   2144\u001b[0m \u001b[0;34m\u001b[0m\u001b[0m\n\u001b[1;32m   2145\u001b[0m         \u001b[0mdtype\u001b[0m \u001b[0;34m=\u001b[0m \u001b[0;34m{\u001b[0m\u001b[0;34m}\u001b[0m\u001b[0;34m\u001b[0m\u001b[0;34m\u001b[0m\u001b[0m\n",
      "\u001b[0;32m/python3/lib/python3.7/site-packages/pyspark/sql/dataframe.py\u001b[0m in \u001b[0;36mcollect\u001b[0;34m(self)\u001b[0m\n\u001b[1;32m    532\u001b[0m         \"\"\"\n\u001b[1;32m    533\u001b[0m         \u001b[0;32mwith\u001b[0m \u001b[0mSCCallSiteSync\u001b[0m\u001b[0;34m(\u001b[0m\u001b[0mself\u001b[0m\u001b[0;34m.\u001b[0m\u001b[0m_sc\u001b[0m\u001b[0;34m)\u001b[0m \u001b[0;32mas\u001b[0m \u001b[0mcss\u001b[0m\u001b[0;34m:\u001b[0m\u001b[0;34m\u001b[0m\u001b[0;34m\u001b[0m\u001b[0m\n\u001b[0;32m--> 534\u001b[0;31m             \u001b[0msock_info\u001b[0m \u001b[0;34m=\u001b[0m \u001b[0mself\u001b[0m\u001b[0;34m.\u001b[0m\u001b[0m_jdf\u001b[0m\u001b[0;34m.\u001b[0m\u001b[0mcollectToPython\u001b[0m\u001b[0;34m(\u001b[0m\u001b[0;34m)\u001b[0m\u001b[0;34m\u001b[0m\u001b[0;34m\u001b[0m\u001b[0m\n\u001b[0m\u001b[1;32m    535\u001b[0m         \u001b[0;32mreturn\u001b[0m \u001b[0mlist\u001b[0m\u001b[0;34m(\u001b[0m\u001b[0m_load_from_socket\u001b[0m\u001b[0;34m(\u001b[0m\u001b[0msock_info\u001b[0m\u001b[0;34m,\u001b[0m \u001b[0mBatchedSerializer\u001b[0m\u001b[0;34m(\u001b[0m\u001b[0mPickleSerializer\u001b[0m\u001b[0;34m(\u001b[0m\u001b[0;34m)\u001b[0m\u001b[0;34m)\u001b[0m\u001b[0;34m)\u001b[0m\u001b[0;34m)\u001b[0m\u001b[0;34m\u001b[0m\u001b[0;34m\u001b[0m\u001b[0m\n\u001b[1;32m    536\u001b[0m \u001b[0;34m\u001b[0m\u001b[0m\n",
      "\u001b[0;32m/python3/lib/python3.7/site-packages/py4j/java_gateway.py\u001b[0m in \u001b[0;36m__call__\u001b[0;34m(self, *args)\u001b[0m\n\u001b[1;32m   1253\u001b[0m             \u001b[0mproto\u001b[0m\u001b[0;34m.\u001b[0m\u001b[0mEND_COMMAND_PART\u001b[0m\u001b[0;34m\u001b[0m\u001b[0;34m\u001b[0m\u001b[0m\n\u001b[1;32m   1254\u001b[0m \u001b[0;34m\u001b[0m\u001b[0m\n\u001b[0;32m-> 1255\u001b[0;31m         \u001b[0manswer\u001b[0m \u001b[0;34m=\u001b[0m \u001b[0mself\u001b[0m\u001b[0;34m.\u001b[0m\u001b[0mgateway_client\u001b[0m\u001b[0;34m.\u001b[0m\u001b[0msend_command\u001b[0m\u001b[0;34m(\u001b[0m\u001b[0mcommand\u001b[0m\u001b[0;34m)\u001b[0m\u001b[0;34m\u001b[0m\u001b[0;34m\u001b[0m\u001b[0m\n\u001b[0m\u001b[1;32m   1256\u001b[0m         return_value = get_return_value(\n\u001b[1;32m   1257\u001b[0m             answer, self.gateway_client, self.target_id, self.name)\n",
      "\u001b[0;32m/python3/lib/python3.7/site-packages/py4j/java_gateway.py\u001b[0m in \u001b[0;36msend_command\u001b[0;34m(self, command, retry, binary)\u001b[0m\n\u001b[1;32m    983\u001b[0m         \u001b[0mconnection\u001b[0m \u001b[0;34m=\u001b[0m \u001b[0mself\u001b[0m\u001b[0;34m.\u001b[0m\u001b[0m_get_connection\u001b[0m\u001b[0;34m(\u001b[0m\u001b[0;34m)\u001b[0m\u001b[0;34m\u001b[0m\u001b[0;34m\u001b[0m\u001b[0m\n\u001b[1;32m    984\u001b[0m         \u001b[0;32mtry\u001b[0m\u001b[0;34m:\u001b[0m\u001b[0;34m\u001b[0m\u001b[0;34m\u001b[0m\u001b[0m\n\u001b[0;32m--> 985\u001b[0;31m             \u001b[0mresponse\u001b[0m \u001b[0;34m=\u001b[0m \u001b[0mconnection\u001b[0m\u001b[0;34m.\u001b[0m\u001b[0msend_command\u001b[0m\u001b[0;34m(\u001b[0m\u001b[0mcommand\u001b[0m\u001b[0;34m)\u001b[0m\u001b[0;34m\u001b[0m\u001b[0;34m\u001b[0m\u001b[0m\n\u001b[0m\u001b[1;32m    986\u001b[0m             \u001b[0;32mif\u001b[0m \u001b[0mbinary\u001b[0m\u001b[0;34m:\u001b[0m\u001b[0;34m\u001b[0m\u001b[0;34m\u001b[0m\u001b[0m\n\u001b[1;32m    987\u001b[0m                 \u001b[0;32mreturn\u001b[0m \u001b[0mresponse\u001b[0m\u001b[0;34m,\u001b[0m \u001b[0mself\u001b[0m\u001b[0;34m.\u001b[0m\u001b[0m_create_connection_guard\u001b[0m\u001b[0;34m(\u001b[0m\u001b[0mconnection\u001b[0m\u001b[0;34m)\u001b[0m\u001b[0;34m\u001b[0m\u001b[0;34m\u001b[0m\u001b[0m\n",
      "\u001b[0;32m/python3/lib/python3.7/site-packages/py4j/java_gateway.py\u001b[0m in \u001b[0;36msend_command\u001b[0;34m(self, command)\u001b[0m\n\u001b[1;32m   1150\u001b[0m \u001b[0;34m\u001b[0m\u001b[0m\n\u001b[1;32m   1151\u001b[0m         \u001b[0;32mtry\u001b[0m\u001b[0;34m:\u001b[0m\u001b[0;34m\u001b[0m\u001b[0;34m\u001b[0m\u001b[0m\n\u001b[0;32m-> 1152\u001b[0;31m             \u001b[0manswer\u001b[0m \u001b[0;34m=\u001b[0m \u001b[0msmart_decode\u001b[0m\u001b[0;34m(\u001b[0m\u001b[0mself\u001b[0m\u001b[0;34m.\u001b[0m\u001b[0mstream\u001b[0m\u001b[0;34m.\u001b[0m\u001b[0mreadline\u001b[0m\u001b[0;34m(\u001b[0m\u001b[0;34m)\u001b[0m\u001b[0;34m[\u001b[0m\u001b[0;34m:\u001b[0m\u001b[0;34m-\u001b[0m\u001b[0;36m1\u001b[0m\u001b[0;34m]\u001b[0m\u001b[0;34m)\u001b[0m\u001b[0;34m\u001b[0m\u001b[0;34m\u001b[0m\u001b[0m\n\u001b[0m\u001b[1;32m   1153\u001b[0m             \u001b[0mlogger\u001b[0m\u001b[0;34m.\u001b[0m\u001b[0mdebug\u001b[0m\u001b[0;34m(\u001b[0m\u001b[0;34m\"Answer received: {0}\"\u001b[0m\u001b[0;34m.\u001b[0m\u001b[0mformat\u001b[0m\u001b[0;34m(\u001b[0m\u001b[0manswer\u001b[0m\u001b[0;34m)\u001b[0m\u001b[0;34m)\u001b[0m\u001b[0;34m\u001b[0m\u001b[0;34m\u001b[0m\u001b[0m\n\u001b[1;32m   1154\u001b[0m             \u001b[0;32mif\u001b[0m \u001b[0manswer\u001b[0m\u001b[0;34m.\u001b[0m\u001b[0mstartswith\u001b[0m\u001b[0;34m(\u001b[0m\u001b[0mproto\u001b[0m\u001b[0;34m.\u001b[0m\u001b[0mRETURN_MESSAGE\u001b[0m\u001b[0;34m)\u001b[0m\u001b[0;34m:\u001b[0m\u001b[0;34m\u001b[0m\u001b[0;34m\u001b[0m\u001b[0m\n",
      "\u001b[0;32m/python3/lib/python3.7/socket.py\u001b[0m in \u001b[0;36mreadinto\u001b[0;34m(self, b)\u001b[0m\n\u001b[1;32m    587\u001b[0m         \u001b[0;32mwhile\u001b[0m \u001b[0;32mTrue\u001b[0m\u001b[0;34m:\u001b[0m\u001b[0;34m\u001b[0m\u001b[0;34m\u001b[0m\u001b[0m\n\u001b[1;32m    588\u001b[0m             \u001b[0;32mtry\u001b[0m\u001b[0;34m:\u001b[0m\u001b[0;34m\u001b[0m\u001b[0;34m\u001b[0m\u001b[0m\n\u001b[0;32m--> 589\u001b[0;31m                 \u001b[0;32mreturn\u001b[0m \u001b[0mself\u001b[0m\u001b[0;34m.\u001b[0m\u001b[0m_sock\u001b[0m\u001b[0;34m.\u001b[0m\u001b[0mrecv_into\u001b[0m\u001b[0;34m(\u001b[0m\u001b[0mb\u001b[0m\u001b[0;34m)\u001b[0m\u001b[0;34m\u001b[0m\u001b[0;34m\u001b[0m\u001b[0m\n\u001b[0m\u001b[1;32m    590\u001b[0m             \u001b[0;32mexcept\u001b[0m \u001b[0mtimeout\u001b[0m\u001b[0;34m:\u001b[0m\u001b[0;34m\u001b[0m\u001b[0;34m\u001b[0m\u001b[0m\n\u001b[1;32m    591\u001b[0m                 \u001b[0mself\u001b[0m\u001b[0;34m.\u001b[0m\u001b[0m_timeout_occurred\u001b[0m \u001b[0;34m=\u001b[0m \u001b[0;32mTrue\u001b[0m\u001b[0;34m\u001b[0m\u001b[0;34m\u001b[0m\u001b[0m\n",
      "\u001b[0;31mKeyboardInterrupt\u001b[0m: "
     ]
    }
   ],
   "source": [
    "t.head(1)"
   ]
  },
  {
   "cell_type": "code",
   "execution_count": null,
   "metadata": {},
   "outputs": [],
   "source": []
  },
  {
   "cell_type": "code",
   "execution_count": null,
   "metadata": {},
   "outputs": [],
   "source": []
  },
  {
   "cell_type": "code",
   "execution_count": null,
   "metadata": {},
   "outputs": [],
   "source": []
  },
  {
   "cell_type": "code",
   "execution_count": null,
   "metadata": {},
   "outputs": [],
   "source": []
  },
  {
   "cell_type": "code",
   "execution_count": null,
   "metadata": {},
   "outputs": [],
   "source": []
  },
  {
   "cell_type": "code",
   "execution_count": null,
   "metadata": {},
   "outputs": [],
   "source": []
  },
  {
   "cell_type": "code",
   "execution_count": null,
   "metadata": {},
   "outputs": [],
   "source": []
  },
  {
   "cell_type": "code",
   "execution_count": null,
   "metadata": {},
   "outputs": [],
   "source": []
  },
  {
   "cell_type": "code",
   "execution_count": 31,
   "metadata": {},
   "outputs": [
    {
     "data": {
      "text/plain": [
       "databricks.koalas.series.Series"
      ]
     },
     "execution_count": 31,
     "metadata": {},
     "output_type": "execute_result"
    }
   ],
   "source": [
    "ks.Series"
   ]
  },
  {
   "cell_type": "code",
   "execution_count": null,
   "metadata": {},
   "outputs": [],
   "source": []
  },
  {
   "cell_type": "code",
   "execution_count": null,
   "metadata": {},
   "outputs": [],
   "source": []
  },
  {
   "cell_type": "code",
   "execution_count": null,
   "metadata": {},
   "outputs": [],
   "source": []
  },
  {
   "cell_type": "code",
   "execution_count": 34,
   "metadata": {},
   "outputs": [
    {
     "data": {
      "text/plain": [
       "False    3470048\n",
       "Name: version_url, dtype: int64"
      ]
     },
     "execution_count": 34,
     "metadata": {},
     "output_type": "execute_result"
    }
   ],
   "source": [
    "full_kdfs['version_url'].isnull().value_counts()"
   ]
  },
  {
   "cell_type": "code",
   "execution_count": null,
   "metadata": {},
   "outputs": [],
   "source": []
  },
  {
   "cell_type": "code",
   "execution_count": null,
   "metadata": {},
   "outputs": [],
   "source": []
  },
  {
   "cell_type": "code",
   "execution_count": null,
   "metadata": {},
   "outputs": [],
   "source": []
  },
  {
   "cell_type": "code",
   "execution_count": null,
   "metadata": {},
   "outputs": [],
   "source": []
  },
  {
   "cell_type": "code",
   "execution_count": null,
   "metadata": {},
   "outputs": [],
   "source": []
  },
  {
   "cell_type": "code",
   "execution_count": null,
   "metadata": {},
   "outputs": [],
   "source": [
    "spark.stop()"
   ]
  }
 ],
 "metadata": {
  "kernelspec": {
   "display_name": "Python 3",
   "language": "python",
   "name": "python3"
  },
  "language_info": {
   "codemirror_mode": {
    "name": "ipython",
    "version": 3
   },
   "file_extension": ".py",
   "mimetype": "text/x-python",
   "name": "python",
   "nbconvert_exporter": "python",
   "pygments_lexer": "ipython3",
   "version": "3.7.3"
  }
 },
 "nbformat": 4,
 "nbformat_minor": 4
}
