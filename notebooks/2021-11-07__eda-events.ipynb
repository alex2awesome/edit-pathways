{
 "cells": [
  {
   "cell_type": "markdown",
   "metadata": {},
   "source": [
    "# Generate Data to Score"
   ]
  },
  {
   "cell_type": "code",
   "execution_count": 1,
   "metadata": {},
   "outputs": [],
   "source": [
    "import sys"
   ]
  },
  {
   "cell_type": "code",
   "execution_count": 2,
   "metadata": {},
   "outputs": [],
   "source": [
    "sys.path.insert(0, '../eda/EventPlus/component/BETTER/joint/')"
   ]
  },
  {
   "cell_type": "code",
   "execution_count": 3,
   "metadata": {
    "scrolled": true
   },
   "outputs": [],
   "source": [
    "from event_pipeline_demo import BETTER_API\n",
    "betterAPI = BETTER_API('../eda/EventPlus/component/BETTER/joint')"
   ]
  },
  {
   "cell_type": "code",
   "execution_count": null,
   "metadata": {
    "scrolled": true
   },
   "outputs": [],
   "source": [
    "!pip uninstall -y transformers\n",
    "!pip install -y transformers==3.5"
   ]
  },
  {
   "cell_type": "code",
   "execution_count": null,
   "metadata": {},
   "outputs": [],
   "source": [
    "from transformers import AutoTokenizer\n",
    "import spacy"
   ]
  },
  {
   "cell_type": "code",
   "execution_count": null,
   "metadata": {},
   "outputs": [],
   "source": [
    "nlp = spacy.load('en_core_web_sm')"
   ]
  },
  {
   "cell_type": "code",
   "execution_count": 30,
   "metadata": {},
   "outputs": [],
   "source": [
    "text = \"The boy went outside.\"\n",
    "text_tokenized = [i.text for i in nlp(text)]"
   ]
  },
  {
   "cell_type": "code",
   "execution_count": null,
   "metadata": {},
   "outputs": [],
   "source": [
    "betterAPI.pred(text_tokenized)"
   ]
  },
  {
   "cell_type": "code",
   "execution_count": null,
   "metadata": {},
   "outputs": [],
   "source": [
    "ls ../eda/EventPlus/component/BETTER/joint"
   ]
  },
  {
   "cell_type": "code",
   "execution_count": null,
   "metadata": {
    "scrolled": true
   },
   "outputs": [],
   "source": [
    "import json\n",
    "json.load(open('../eda/EventPlus/component/BETTER/joint/saved_args.json'))"
   ]
  },
  {
   "cell_type": "code",
   "execution_count": 1,
   "metadata": {},
   "outputs": [],
   "source": [
    "import sqlite3\n",
    "import pandas as pd \n",
    "import glob"
   ]
  },
  {
   "cell_type": "code",
   "execution_count": 2,
   "metadata": {},
   "outputs": [],
   "source": [
    "files = glob.glob('../data/diffengine-diffs/spark-output/*')"
   ]
  },
  {
   "cell_type": "code",
   "execution_count": 4,
   "metadata": {},
   "outputs": [],
   "source": [
    "all_matched_dfs = []"
   ]
  },
  {
   "cell_type": "code",
   "execution_count": 3,
   "metadata": {},
   "outputs": [
    {
     "name": "stdout",
     "output_type": "stream",
     "text": [
      "../data/diffengine-diffs/spark-output/ap-matched-sentences.db.gz\n"
     ]
    }
   ],
   "source": [
    "f = files[0]\n",
    "print(f)\n",
    "source = f.split('/')[-1].split('-')[0]\n",
    "if '.gz' in f:\n",
    "    ! gunzip $f\n",
    "f = f.replace('.gz', '')\n",
    "conn = sqlite3.connect(f)"
   ]
  },
  {
   "cell_type": "code",
   "execution_count": 13,
   "metadata": {},
   "outputs": [
    {
     "name": "stdout",
     "output_type": "stream",
     "text": [
      "6.17 s ± 115 ms per loop (mean ± std. dev. of 7 runs, 1 loop each)\n"
     ]
    }
   ],
   "source": [
    "%%timeit\n",
    "matched_df = pd.read_sql('''\n",
    "    SELECT entry_id, version_x, version_y, sent_idx_x, sent_idx_y\n",
    "        FROM matched_sentences m\n",
    "    WHERE (m.avg_sentence_distance_x > 0.1) AND (m.avg_sentence_distance_y > 0.1)\n",
    "''', con=conn)\n",
    "\n",
    "unique_v = (matched_df[['entry_id', 'version_x', 'sent_idx_x']]\n",
    " .rename(columns={'version_x': 'version', 'sent_idx_x': 'sent_idx'})\n",
    " .merge(right=matched_df[['entry_id', 'version_y', 'sent_idx_y']] \n",
    "                .rename(columns={'version_y': 'version', 'sent_idx_y': 'sent_idx'}),\n",
    "        left_on=['entry_id', 'version', 'sent_idx'],\n",
    "        right_on=['entry_id', 'version', 'sent_idx'],\n",
    "        how='outer'\n",
    "       )\n",
    ")\n",
    "\n",
    "keys = unique_v.apply(lambda x: '%s-%s-%s' % (x['entry_id'], x['version'], x['sent_idx']), axis=1)\n",
    "\n",
    "sentences = pd.read_sql('''\n",
    "    WITH c1 as ( \n",
    "        SELECT *, \n",
    "        entry_id || '-' || version || '-' || sent_idx as key\n",
    "        FROM split_sentences\n",
    "        )\n",
    "        SELECT *\n",
    "        FROM c1\n",
    "        WHERE key in (%s)\n",
    "''' % ', '.join(keys), con=conn)"
   ]
  },
  {
   "cell_type": "code",
   "execution_count": null,
   "metadata": {},
   "outputs": [],
   "source": []
  },
  {
   "cell_type": "code",
   "execution_count": 8,
   "metadata": {},
   "outputs": [],
   "source": [
    "sents = pd.read_sql('''\n",
    "    with c1 as (\n",
    "        SELECT entry_id, version_x, version_y, sent_idx_x, sent_idx_y\n",
    "        FROM matched_sentences m\n",
    "        WHERE (m.avg_sentence_distance_x > 0.1) AND (m.avg_sentence_distance_y > 0.1)\n",
    "    )\n",
    "        SELECT entry_id, version_x as version, sent_idx_x as sent_idx FROM c1\n",
    "        UNION\n",
    "        SELECT entry_id, version_y as version, sent_idx_y as sent_idx FROM c1\n",
    "        ''', con=conn)"
   ]
  },
  {
   "cell_type": "code",
   "execution_count": 24,
   "metadata": {},
   "outputs": [],
   "source": [
    "all_sents = []"
   ]
  },
  {
   "cell_type": "code",
   "execution_count": null,
   "metadata": {},
   "outputs": [],
   "source": [
    "rand() <= .3"
   ]
  },
  {
   "cell_type": "code",
   "execution_count": 48,
   "metadata": {},
   "outputs": [],
   "source": [
    "total = pd.Series({'ap': 186667,\n",
    "'independent': 427339,\n",
    "'bbc': 1830932,\n",
    "'guardian': 1839144,\n",
    "'nyt': 1288130,\n",
    "'reuters': 448025,\n",
    "'wp': 391419, })"
   ]
  },
  {
   "cell_type": "code",
   "execution_count": 52,
   "metadata": {},
   "outputs": [
    {
     "data": {
      "text/plain": [
       "ap              186667\n",
       "independent     427339\n",
       "bbc            1830932\n",
       "guardian       1839144\n",
       "nyt            1288130\n",
       "reuters         448025\n",
       "wp              391419\n",
       "dtype: int64"
      ]
     },
     "execution_count": 52,
     "metadata": {},
     "output_type": "execute_result"
    }
   ],
   "source": [
    "total"
   ]
  },
  {
   "cell_type": "code",
   "execution_count": 54,
   "metadata": {},
   "outputs": [],
   "source": [
    "sample_weights = total.pipe(lambda s: 80_000 / s)"
   ]
  },
  {
   "cell_type": "code",
   "execution_count": null,
   "metadata": {},
   "outputs": [],
   "source": []
  },
  {
   "cell_type": "code",
   "execution_count": 63,
   "metadata": {},
   "outputs": [],
   "source": [
    "files = [\n",
    " '../data/diffengine-diffs/spark-output/guardian-matched-sentences.db.gz',\n",
    " '../data/diffengine-diffs/spark-output/nyt-matched-sentences.db.gz',\n",
    " '../data/diffengine-diffs/spark-output/reuters-matched-sentences.db.gz',\n",
    " '../data/diffengine-diffs/spark-output/wp-matched-sentences.db.gz'\n",
    "]"
   ]
  },
  {
   "cell_type": "code",
   "execution_count": null,
   "metadata": {},
   "outputs": [],
   "source": [
    "downsampled_sents = []"
   ]
  },
  {
   "cell_type": "code",
   "execution_count": 64,
   "metadata": {
    "scrolled": true
   },
   "outputs": [
    {
     "name": "stdout",
     "output_type": "stream",
     "text": [
      "../data/diffengine-diffs/spark-output/guardian-matched-sentences.db.gz\n",
      "fetching sql\n",
      "parsing\n"
     ]
    },
    {
     "name": "stderr",
     "output_type": "stream",
     "text": [
      "/Users/alex/opt/anaconda3/lib/python3.7/site-packages/ipykernel_launcher.py:25: FutureWarning: The default value of regex will change from True to False in a future version.\n"
     ]
    },
    {
     "name": "stdout",
     "output_type": "stream",
     "text": [
      "(940028, 5)\n",
      "../data/diffengine-diffs/spark-output/nyt-matched-sentences.db.gz\n",
      "fetching sql\n",
      "parsing\n",
      "(665271, 5)\n",
      "../data/diffengine-diffs/spark-output/reuters-matched-sentences.db.gz\n",
      "fetching sql\n",
      "parsing\n",
      "(236551, 5)\n",
      "../data/diffengine-diffs/spark-output/wp-matched-sentences.db.gz\n",
      "fetching sql\n",
      "parsing\n",
      "(202014, 5)\n"
     ]
    }
   ],
   "source": [
    "for f in files:\n",
    "    print(f)\n",
    "    source = f.split('/')[-1].split('-')[0]\n",
    "    if '.gz' in f:\n",
    "        ! gunzip $f\n",
    "    f = f.replace('.gz', '')\n",
    "    conn = sqlite3.connect(f)\n",
    "    w = sample_weights[source]\n",
    "    print('fetching sql')\n",
    "    sents = pd.read_sql('''\n",
    "        with c1 as (\n",
    "            SELECT entry_id, version_x, version_y, sent_idx_x, sent_idx_y\n",
    "            FROM matched_sentences m\n",
    "            WHERE (m.avg_sentence_distance_x > 0.1) AND (m.avg_sentence_distance_y > 0.1)\n",
    "            AND RANDOM() <= %s\n",
    "        ), c2 as (\n",
    "            SELECT entry_id, version_x as version, sent_idx_x as sent_idx FROM c1\n",
    "            UNION\n",
    "            SELECT entry_id, version_y as version, sent_idx_y as sent_idx FROM c1\n",
    "        )\n",
    "        SELECT s.* from split_sentences s\n",
    "        JOIN c2 ON s.entry_id = c2.entry_id AND s.version=c2.version AND s.sent_idx = c2.sent_idx\n",
    "    ''' % w, con=conn)\n",
    "    print('parsing')\n",
    "    sents['sentence'] = sents['sentence'].str.replace('<p>', '').str.replace('</p>', '').str.replace('\\s+', ' ').str.strip()\n",
    "    sents['source'] = source\n",
    "    print(sents.shape)\n",
    "    downsampled_sents.append(sents)\n",
    "    ! gzip $f"
   ]
  },
  {
   "cell_type": "code",
   "execution_count": 65,
   "metadata": {},
   "outputs": [],
   "source": [
    "all_downsampled = pd.concat(downsampled_sents)"
   ]
  },
  {
   "cell_type": "code",
   "execution_count": 73,
   "metadata": {},
   "outputs": [],
   "source": [
    "all_downsampled.to_csv('../eda/downsampled-event-sents.csv')"
   ]
  },
  {
   "cell_type": "code",
   "execution_count": 71,
   "metadata": {},
   "outputs": [
    {
     "data": {
      "text/plain": [
       "bbc            425763\n",
       "guardian       371732\n",
       "nyt            220470\n",
       "independent     86216\n",
       "reuters         68859\n",
       "wp              50004\n",
       "ap              33582\n",
       "Name: source, dtype: int64"
      ]
     },
     "execution_count": 71,
     "metadata": {},
     "output_type": "execute_result"
    }
   ],
   "source": [
    "all_downsampled[['entry_id', 'version', 'source']].drop_duplicates()['source'].value_counts()"
   ]
  },
  {
   "cell_type": "code",
   "execution_count": null,
   "metadata": {},
   "outputs": [],
   "source": []
  },
  {
   "cell_type": "code",
   "execution_count": null,
   "metadata": {},
   "outputs": [],
   "source": []
  },
  {
   "cell_type": "code",
   "execution_count": null,
   "metadata": {},
   "outputs": [],
   "source": []
  },
  {
   "cell_type": "code",
   "execution_count": 27,
   "metadata": {},
   "outputs": [],
   "source": [
    "all_sents_df = pd.concat(all_sents)"
   ]
  },
  {
   "cell_type": "code",
   "execution_count": 30,
   "metadata": {},
   "outputs": [
    {
     "name": "stdout",
     "output_type": "stream",
     "text": [
      "\u001b[34mEventPlus\u001b[m\u001b[m/           edit_scores.txt\r\n",
      "\u001b[34mcomponent\u001b[m\u001b[m/           wp_edits_scores.pkl\r\n"
     ]
    }
   ],
   "source": [
    "ls ../eda/"
   ]
  },
  {
   "cell_type": "code",
   "execution_count": 35,
   "metadata": {},
   "outputs": [],
   "source": [
    "docs = all_sents_df[['source', 'entry_id', 'version']].drop_duplicates()"
   ]
  },
  {
   "cell_type": "code",
   "execution_count": 41,
   "metadata": {},
   "outputs": [],
   "source": [
    "source_weight = docs['source'].value_counts().pipe(lambda s: 1/s)"
   ]
  },
  {
   "cell_type": "code",
   "execution_count": 44,
   "metadata": {},
   "outputs": [
    {
     "data": {
      "text/html": [
       "<div>\n",
       "<style scoped>\n",
       "    .dataframe tbody tr th:only-of-type {\n",
       "        vertical-align: middle;\n",
       "    }\n",
       "\n",
       "    .dataframe tbody tr th {\n",
       "        vertical-align: top;\n",
       "    }\n",
       "\n",
       "    .dataframe thead th {\n",
       "        text-align: right;\n",
       "    }\n",
       "</style>\n",
       "<table border=\"1\" class=\"dataframe\">\n",
       "  <thead>\n",
       "    <tr style=\"text-align: right;\">\n",
       "      <th></th>\n",
       "      <th>weight</th>\n",
       "    </tr>\n",
       "  </thead>\n",
       "  <tbody>\n",
       "    <tr>\n",
       "      <th>bbc</th>\n",
       "      <td>0.000002</td>\n",
       "    </tr>\n",
       "    <tr>\n",
       "      <th>guardian</th>\n",
       "      <td>0.000002</td>\n",
       "    </tr>\n",
       "    <tr>\n",
       "      <th>nyt</th>\n",
       "      <td>0.000004</td>\n",
       "    </tr>\n",
       "    <tr>\n",
       "      <th>independent</th>\n",
       "      <td>0.000009</td>\n",
       "    </tr>\n",
       "    <tr>\n",
       "      <th>reuters</th>\n",
       "      <td>0.000013</td>\n",
       "    </tr>\n",
       "    <tr>\n",
       "      <th>wp</th>\n",
       "      <td>0.000017</td>\n",
       "    </tr>\n",
       "    <tr>\n",
       "      <th>ap</th>\n",
       "      <td>0.000024</td>\n",
       "    </tr>\n",
       "  </tbody>\n",
       "</table>\n",
       "</div>"
      ],
      "text/plain": [
       "               weight\n",
       "bbc          0.000002\n",
       "guardian     0.000002\n",
       "nyt          0.000004\n",
       "independent  0.000009\n",
       "reuters      0.000013\n",
       "wp           0.000017\n",
       "ap           0.000024"
      ]
     },
     "execution_count": 44,
     "metadata": {},
     "output_type": "execute_result"
    }
   ],
   "source": [
    "source_weight.to_frame('weight')"
   ]
  },
  {
   "cell_type": "code",
   "execution_count": 45,
   "metadata": {},
   "outputs": [
    {
     "data": {
      "text/html": [
       "<div>\n",
       "<style scoped>\n",
       "    .dataframe tbody tr th:only-of-type {\n",
       "        vertical-align: middle;\n",
       "    }\n",
       "\n",
       "    .dataframe tbody tr th {\n",
       "        vertical-align: top;\n",
       "    }\n",
       "\n",
       "    .dataframe thead th {\n",
       "        text-align: right;\n",
       "    }\n",
       "</style>\n",
       "<table border=\"1\" class=\"dataframe\">\n",
       "  <thead>\n",
       "    <tr style=\"text-align: right;\">\n",
       "      <th></th>\n",
       "      <th>source</th>\n",
       "      <th>entry_id</th>\n",
       "      <th>version</th>\n",
       "      <th>weight</th>\n",
       "    </tr>\n",
       "  </thead>\n",
       "  <tbody>\n",
       "    <tr>\n",
       "      <th>0</th>\n",
       "      <td>ap</td>\n",
       "      <td>16063</td>\n",
       "      <td>5.0</td>\n",
       "      <td>0.000024</td>\n",
       "    </tr>\n",
       "    <tr>\n",
       "      <th>1</th>\n",
       "      <td>ap</td>\n",
       "      <td>17769</td>\n",
       "      <td>1.0</td>\n",
       "      <td>0.000024</td>\n",
       "    </tr>\n",
       "    <tr>\n",
       "      <th>5</th>\n",
       "      <td>ap</td>\n",
       "      <td>17521</td>\n",
       "      <td>4.0</td>\n",
       "      <td>0.000024</td>\n",
       "    </tr>\n",
       "    <tr>\n",
       "      <th>14</th>\n",
       "      <td>ap</td>\n",
       "      <td>17516</td>\n",
       "      <td>3.0</td>\n",
       "      <td>0.000024</td>\n",
       "    </tr>\n",
       "    <tr>\n",
       "      <th>15</th>\n",
       "      <td>ap</td>\n",
       "      <td>19676</td>\n",
       "      <td>1.0</td>\n",
       "      <td>0.000024</td>\n",
       "    </tr>\n",
       "    <tr>\n",
       "      <th>...</th>\n",
       "      <td>...</td>\n",
       "      <td>...</td>\n",
       "      <td>...</td>\n",
       "      <td>...</td>\n",
       "    </tr>\n",
       "    <tr>\n",
       "      <th>391389</th>\n",
       "      <td>wp</td>\n",
       "      <td>1120215</td>\n",
       "      <td>5.0</td>\n",
       "      <td>0.000017</td>\n",
       "    </tr>\n",
       "    <tr>\n",
       "      <th>391394</th>\n",
       "      <td>wp</td>\n",
       "      <td>1377691</td>\n",
       "      <td>2.0</td>\n",
       "      <td>0.000017</td>\n",
       "    </tr>\n",
       "    <tr>\n",
       "      <th>391397</th>\n",
       "      <td>wp</td>\n",
       "      <td>1110888</td>\n",
       "      <td>3.0</td>\n",
       "      <td>0.000017</td>\n",
       "    </tr>\n",
       "    <tr>\n",
       "      <th>391398</th>\n",
       "      <td>wp</td>\n",
       "      <td>1944987</td>\n",
       "      <td>0.0</td>\n",
       "      <td>0.000017</td>\n",
       "    </tr>\n",
       "    <tr>\n",
       "      <th>391408</th>\n",
       "      <td>wp</td>\n",
       "      <td>1882946</td>\n",
       "      <td>8.0</td>\n",
       "      <td>0.000017</td>\n",
       "    </tr>\n",
       "  </tbody>\n",
       "</table>\n",
       "<p>1620865 rows × 4 columns</p>\n",
       "</div>"
      ],
      "text/plain": [
       "       source  entry_id  version    weight\n",
       "0          ap     16063      5.0  0.000024\n",
       "1          ap     17769      1.0  0.000024\n",
       "5          ap     17521      4.0  0.000024\n",
       "14         ap     17516      3.0  0.000024\n",
       "15         ap     19676      1.0  0.000024\n",
       "...       ...       ...      ...       ...\n",
       "391389     wp   1120215      5.0  0.000017\n",
       "391394     wp   1377691      2.0  0.000017\n",
       "391397     wp   1110888      3.0  0.000017\n",
       "391398     wp   1944987      0.0  0.000017\n",
       "391408     wp   1882946      8.0  0.000017\n",
       "\n",
       "[1620865 rows x 4 columns]"
      ]
     },
     "execution_count": 45,
     "metadata": {},
     "output_type": "execute_result"
    }
   ],
   "source": [
    "(docs\n",
    " .merge(source_weight.to_frame('weight'), right_index=True, left_on='source')\n",
    " .sample(100000)\n",
    ")"
   ]
  },
  {
   "cell_type": "code",
   "execution_count": 31,
   "metadata": {},
   "outputs": [],
   "source": [
    "all_sents_df.to_csv('../eda/events_sentences.csv')"
   ]
  },
  {
   "cell_type": "code",
   "execution_count": null,
   "metadata": {},
   "outputs": [],
   "source": []
  },
  {
   "cell_type": "code",
   "execution_count": 76,
   "metadata": {},
   "outputs": [],
   "source": [
    "import sys\n",
    "sys.path.insert(0, '../util/')\n",
    "import util_newssniffer_parsing as unp\n",
    "from IPython.display import HTML, display"
   ]
  },
  {
   "cell_type": "code",
   "execution_count": 77,
   "metadata": {},
   "outputs": [],
   "source": [
    "idx = 10\n",
    "s1 = matched_df.iloc[idx]['sentence_x']\n",
    "s2 = matched_df.iloc[idx]['sentence_y']"
   ]
  },
  {
   "cell_type": "code",
   "execution_count": 78,
   "metadata": {},
   "outputs": [
    {
     "data": {
      "text/plain": [
       "avg_sentence_distance_x    0.305947\n",
       "avg_sentence_distance_y    0.305947\n",
       "Name: 10, dtype: object"
      ]
     },
     "execution_count": 78,
     "metadata": {},
     "output_type": "execute_result"
    }
   ],
   "source": [
    "matched_df.iloc[idx][['avg_sentence_distance_x', 'avg_sentence_distance_y']]"
   ]
  },
  {
   "cell_type": "code",
   "execution_count": 79,
   "metadata": {},
   "outputs": [],
   "source": [
    "h1, h2 = unp.html_compare_sentences(s1, s2)"
   ]
  },
  {
   "cell_type": "code",
   "execution_count": 83,
   "metadata": {},
   "outputs": [
    {
     "data": {
      "text/plain": [
       "'Since the coup attempt, at least 100 news outlets have been forcibly closed in what Human Rights Watch has called a clampdown that has \"all but silenced independent media.\" Yet Bozdag insisted any journalists in prison were there for drugs, trespassing or for \"propagandizing for terrorist organizations.\"</p> <p>Turkish leaders have expressed exasperation that they are lambasted for the steps they took after the coup while France gets a \"pass\" for the state of emergency imposed after the 2015 Paris attacks.'"
      ]
     },
     "execution_count": 83,
     "metadata": {},
     "output_type": "execute_result"
    }
   ],
   "source": [
    "s1"
   ]
  },
  {
   "cell_type": "code",
   "execution_count": 84,
   "metadata": {},
   "outputs": [
    {
     "data": {
      "text/plain": [
       "'Since the failed coup, at least 100 news outlets have been forcibly closed in a clampdown Human Rights Watch says has \"all but silenced independent media.\" Yet Bozdag insisted any journalists in prison were there for drugs, trespassing or for \"propagandizing for terrorist organizations.\"</p> <p>Turkish leaders have expressed exasperation that they are lambasted for the steps they took after the coup while France gets a \"pass\" for the state of emergency imposed after the 2015 Paris attacks.'"
      ]
     },
     "execution_count": 84,
     "metadata": {},
     "output_type": "execute_result"
    }
   ],
   "source": [
    "s2"
   ]
  },
  {
   "cell_type": "code",
   "execution_count": 80,
   "metadata": {},
   "outputs": [
    {
     "data": {
      "text/html": [
       "Since the  coup <span style=\"background-color:rgba(255,0,0,0.3)\">attempt</span> , at least 100 news outlets have been forcibly closed in <span style=\"background-color:rgba(255,0,0,0.3)\">what</span>   Human Rights Watch  <span style=\"background-color:rgba(255,0,0,0.3)\">has</span> <span style=\"background-color:rgba(255,0,0,0.3)\">called</span> <span style=\"background-color:rgba(255,0,0,0.3)\">a</span> <span style=\"background-color:rgba(255,0,0,0.3)\">clampdown</span> <span style=\"background-color:rgba(255,0,0,0.3)\">that</span> has \" all but silenced independent media . \" Yet Bozdag insisted any journalists in prison were there for drugs , trespassing or for \" propagandizing for terrorist organizations.\"</p > < p > Turkish leaders have expressed exasperation that they are lambasted for the steps they took after the coup while France gets a \" pass \" for the state of emergency imposed after the 2015 Paris attacks ."
      ],
      "text/plain": [
       "<IPython.core.display.HTML object>"
      ]
     },
     "metadata": {},
     "output_type": "display_data"
    }
   ],
   "source": [
    "display(HTML(h1))"
   ]
  },
  {
   "cell_type": "code",
   "execution_count": 81,
   "metadata": {},
   "outputs": [
    {
     "data": {
      "text/html": [
       "Since the <span style=\"background-color:rgba(0,255,0,0.3)\">failed </span> coup  , at least 100 news outlets have been forcibly closed in  <span style=\"background-color:rgba(0,255,0,0.3)\">a </span> <span style=\"background-color:rgba(0,255,0,0.3)\">clampdown </span> Human Rights Watch <span style=\"background-color:rgba(0,255,0,0.3)\">says </span>      has \" all but silenced independent media . \" Yet Bozdag insisted any journalists in prison were there for drugs , trespassing or for \" propagandizing for terrorist organizations.\"</p > < p > Turkish leaders have expressed exasperation that they are lambasted for the steps they took after the coup while France gets a \" pass \" for the state of emergency imposed after the 2015 Paris attacks ."
      ],
      "text/plain": [
       "<IPython.core.display.HTML object>"
      ]
     },
     "metadata": {},
     "output_type": "display_data"
    }
   ],
   "source": [
    "display(HTML(h2))"
   ]
  },
  {
   "cell_type": "markdown",
   "metadata": {},
   "source": [
    "# Analyze data"
   ]
  },
  {
   "cell_type": "code",
   "execution_count": 112,
   "metadata": {},
   "outputs": [],
   "source": [
    "pluslab = [\n",
    "    'events-output-0-1-0.pkl', 'events-output-0-1-10.pkl', 'events-output-0-1-11.pkl',\n",
    "    'events-output-0-1-12.pkl', 'events-output-0-1-13.pkl', 'events-output-0-1-14.pkl', 'events-output-0-1-15.pkl', 'events-output-0-1-16.pkl', 'events-output-0-1-17.pkl', 'events-output-0-1-18.pkl', 'events-output-0-1-19.pkl', 'events-output-0-1-1.pkl', 'events-output-0-1-20.pkl', 'events-output-0-1-21.pkl', 'events-output-0-1-22.pkl', 'events-output-0-1-23.pkl', 'events-output-0-1-24.pkl', 'events-output-0-1-25.pkl', 'events-output-0-1-26.pkl', 'events-output-0-1-27.pkl', 'events-output-0-1-28.pkl', 'events-output-0-1-29.pkl', 'events-output-0-1-2.pkl', 'events-output-0-1-30.pkl', 'events-output-0-1-31.pkl', 'events-output-0-1-32.pkl', 'events-output-0-1-33.pkl', 'events-output-0-1-34.pkl', 'events-output-0-1-35.pkl', 'events-output-0-1-36.pkl', 'events-output-0-1-37.pkl', 'events-output-0-1-38.pkl', 'events-output-0-1-39.pkl', 'events-output-0-1-3.pkl', 'events-output-0-1-40.pkl', 'events-output-0-1-41.pkl', 'events-output-0-1-42.pkl', 'events-output-0-1-43.pkl', 'events-output-0-1-44.pkl', 'events-output-0-1-45.pkl', 'events-output-0-1-46.pkl', 'events-output-0-1-47.pkl', 'events-output-0-1-48.pkl', 'events-output-0-1-49.pkl', 'events-output-0-1-4.pkl', 'events-output-0-1-50.pkl', 'events-output-0-1-51.pkl', 'events-output-0-1-52.pkl', 'events-output-0-1-53.pkl', 'events-output-0-1-54.pkl', 'events-output-0-1-55.pkl', 'events-output-0-1-56.pkl', 'events-output-0-1-57.pkl', 'events-output-0-1-58.pkl', 'events-output-0-1-59.pkl', 'events-output-0-1-5.pkl', 'events-output-0-1-60.pkl', 'events-output-0-1-61.pkl', 'events-output-0-1-6.pkl', 'events-output-0-1-7.pkl', 'events-output-0-1-8.pkl', 'events-output-0-1-9.pkl', 'events-output-0-8-0.pkl', 'events-output-0-8-10.pkl', 'events-output-0-8-11.pkl', 'events-output-0-8-12.pkl', 'events-output-0-8-13.pkl', 'events-output-0-8-14.pkl', 'events-output-0-8-15.pkl', 'events-output-0-8-16.pkl', 'events-output-0-8-17.pkl', 'events-output-0-8-18.pkl', 'events-output-0-8-19.pkl', 'events-output-0-8-1.pkl', 'events-output-0-8-20.pkl', 'events-output-0-8-21.pkl', 'events-output-0-8-22.pkl', 'events-output-0-8-23.pkl', 'events-output-0-8-24.pkl', 'events-output-0-8-25.pkl', 'events-output-0-8-26.pkl', 'events-output-0-8-27.pkl', 'events-output-0-8-28.pkl', 'events-output-0-8-29.pkl', 'events-output-0-8-2.pkl', 'events-output-0-8-30.pkl', 'events-output-0-8-31.pkl', 'events-output-0-8-32.pkl', 'events-output-0-8-33.pkl', 'events-output-0-8-34.pkl', 'events-output-0-8-35.pkl', 'events-output-0-8-36.pkl', 'events-output-0-8-37.pkl', 'events-output-0-8-38.pkl', 'events-output-0-8-39.pkl', 'events-output-0-8-3.pkl', 'events-output-0-8-40.pkl', 'events-output-0-8-41.pkl', 'events-output-0-8-42.pkl', 'events-output-0-8-43.pkl', 'events-output-0-8-44.pkl', 'events-output-0-8-45.pkl', 'events-output-0-8-46.pkl', 'events-output-0-8-47.pkl', 'events-output-0-8-48.pkl ',\n",
    "    'events-output-0-8-49.pkl', 'events-output-0-8-4.pkl', 'events-output-0-8-50.pkl', 'events-output-0-8-51.pkl', 'events-output-0-8-52.pkl', 'events-output-0-8-53.pkl', 'events-output-0-8-54.pkl', 'events-output-0-8-55.pkl', 'events-output-0-8-56.pkl', 'events-output-0-8-57.pkl', 'events-output-0-8-58.pkl', 'events-output-0-8-59.pkl', 'events-output-0-8-5.pkl', 'events-output-0-8-60.pkl', 'events-output-0-8-61.pkl', 'events-output-0-8-6.pkl', 'events-output-0-8-7.pkl', 'events-output-0-8-8.pkl', 'events-output-0-8-9.pkl', 'events-output-1-8-0.pkl', 'events-output-1-8-10.pkl', 'events-output-1-8-11.pkl', 'events-output-1-8-12.pkl', 'events-output-1-8-13.pkl', 'events-output-1-8-14.pkl', 'events-output-1-8-15.pkl', 'events-output-1-8-16.pkl', 'events-output-1-8-17.pkl', 'events-output-1-8-18.pkl', 'events-output-1-8-19.pkl', 'events-output-1-8-1.pkl', 'events-output-1-8-20.pkl', 'events-output-1-8-21.pkl', 'events-output-1-8-22.pkl', 'events-output-1-8-23.pkl', 'events-output-1-8-24.pkl', 'events-output-1-8-25.pkl', 'events-output-1-8-26.pkl', 'events-output-1-8-27.pkl', 'events-output-1-8-28.pkl', 'events-output-1-8-29.pkl', 'events-output-1-8-2.pkl', 'events-output-1-8-30.pkl', 'events-output-1-8-31.pkl', 'events-output-1-8-32.pkl', 'events-output-1-8-33.pkl', 'events-output-1-8-34.pkl', 'events-output-1-8-35.pkl', 'events-output-1-8-36.pkl', 'events-output-1-8-37.pkl', 'events-output-1-8-38.pkl', 'events-output-1-8-39.pkl', 'events-output-1-8-3.pkl', 'events-output-1-8-40.pkl', 'events-output-1-8-41.pkl', 'events-output-1-8-42.pkl', 'events-output-1-8-43.pkl', 'events-output-1-8-44.pkl', 'events-output-1-8-45.pkl', 'events-output-1-8-46.pkl', 'events-output-1-8-47.pkl', 'events-output-1-8-48.pkl', 'events-output-1-8-49.pkl', 'events-output-1-8-4.pkl', 'events-output-1-8-50.pkl', 'events-output-1-8-51.pkl', 'events-output-1-8-52.pkl', 'events-output-1-8-53.pkl', 'events-output-1-8-54.pkl', 'events-output-1-8-55.pkl', 'events-output-1-8-56.pkl', 'events-output-1-8-57.pkl', 'events-output-1-8-58.pkl', 'events-output-1-8-59.pkl', 'events-output-1-8-5.pkl', 'events-output-1-8-60.pkl', 'events-output-1-8-61.pkl', 'events-output-1-8-62.pkl', 'events-output-1-8-63.pkl', 'events-output-1-8-64.pkl', 'events-output-1-8-65.pkl', 'events-output-1-8-66.pkl', 'events-output-1-8-6.pkl', 'events-output-1-8-7.pkl', 'events-output-1-8-8.pkl', 'events-output-1-8-9.pkl', 'events-output-2-8-0.pkl', 'events-output-3-8-0.pkl', 'events-output-3-8-10.pkl', 'events-output-3-8-11.pkl', 'events-output-3-8-12.pkl', 'events-output-3-8-13.pkl', 'events-output-3-8-14.pkl', 'events-output-3-8-15.pkl', 'events-output-3-8-16.pkl', 'events-output-3-8-17.pkl', 'events-output-3-8-18.pkl', 'events-output-3-8-19.pkl', 'events-output-3-8-1.pkl', 'events-output-3-8-2.pkl', 'events-output-3-8-3.pkl', 'events-output-3-8-4.pkl', 'events-output-3-8-5.pkl', 'events-output-3-8-6.pkl', 'events-output-3-8-7.pkl', 'events-output-3-8-8.pkl', 'events-output-3-8-9.pkl',\n",
    "    ]"
   ]
  },
  {
   "cell_type": "code",
   "execution_count": 126,
   "metadata": {},
   "outputs": [],
   "source": [
    "non_edited_events = [\n",
    " 'non-edited-events-output-0-2-0.pkl', 'non-edited-events-output-0-2-10.pkl', 'non-edited-events-output-0-2-11.pkl', 'non-edited-events-output-0-2-12.pkl', 'non-edited-events-output-0-2-13.pkl', 'non-edited-events-output-0-2-14.pkl', 'non-edited-events-output-0-2-15.pkl', 'non-edited-events-output-0-2-16.pkl', 'non-edited-events-output-0-2-17.pkl', 'non-edited-events-output-0-2-18.pkl', 'non-edited-events-output-0-2-19.pkl', 'non-edited-events-output-0-2-1.pkl', 'non-edited-events-output-0-2-2.pkl', 'non-edited-events-output-0-2-3.pkl', 'non-edited-events-output-0-2-4.pkl', 'non-edited-events-output-0-2-5.pkl', 'non-edited-events-output-0-2-6.pkl', 'non-edited-events-output-0-2-7.pkl', 'non-edited-events-output-0-2-8.pkl', 'non-edited-events-output-0-2-9.pkl', 'non-edited-events-output-1-2-0.pkl', 'non-edited-events-output-1-2-10.pkl', 'non-edited-events-output-1-2-11.pkl', 'non-edited-events-output-1-2-12.pkl', 'non-edited-events-output-1-2-13.pkl', 'non-edited-events-output-1-2-14.pkl', 'non-edited-events-output-1-2-15.pkl', 'non-edited-events-output-1-2-16.pkl', 'non-edited-events-output-1-2-17.pkl', 'non-edited-events-output-1-2-18.pkl', 'non-edited-events-output-1-2-19.pkl', 'non-edited-events-output-1-2-1.pkl', 'non-edited-events-output-1-2-2.pkl', 'non-edited-events-output-1-2-3.pkl', 'non-edited-events-output-1-2-4.pkl', 'non-edited-events-output-1-2-5.pkl', 'non-edited-events-output-1-2-6.pkl', 'non-edited-events-output-1-2-7.pkl', 'non-edited-events-output-1-2-8.pkl', 'non-edited-events-output-1-2-9.pkl',\n",
    "]"
   ]
  },
  {
   "cell_type": "code",
   "execution_count": 111,
   "metadata": {},
   "outputs": [],
   "source": [
    "plus_lab_02 =[\n",
    "    'events-output-4-8-0.pkl', 'events-output-4-8-10.pkl', 'events-output-4-8-11.pkl', 'events-output-4-8-12.pkl', 'events-output-4-8-13.pkl', 'events-output-4-8-14.pkl', 'events-output-4-8-15.pkl', 'events-output-4-8-16.pkl',\n",
    "    'events-output-4-8-17.pkl', 'events-output-4-8-18.pkl', 'events-output-4-8-19.pkl', 'events-output-4-8-1.pkl', 'events-output-4-8-20.pkl', 'events-output-4-8-21.pkl', 'events-output-4-8-22.pkl', 'events-output-4-8-23.pkl', 'events-output-4-8-24.pkl', 'events-output-4-8-25.pkl', 'events-output-4-8-26.pkl', 'events-output-4-8-27.pkl', 'events-output-4-8-28.pkl', 'events-output-4-8-29.pkl', 'events-output-4-8-2.pkl', 'events-output-4-8-30.pkl', 'events-output-4-8-31.pkl', 'events-output-4-8-32.pkl', 'events-output-4-8-33.pkl', 'events-output-4-8-34.pkl', 'events-output-4-8-35.pkl', 'events-output-4-8-36.pkl', 'events-output-4-8-37.pkl', 'events-output-4-8-38.pkl', 'events-output-4-8-39.pkl', 'events-output-4-8-3.pkl', 'events-output-4-8-40.pkl', 'events-output-4-8-41.pkl', 'events-output-4-8-42.pkl', 'events-output-4-8-43.pkl', 'events-output-4-8-44.pkl', 'events-output-4-8-45.pkl', 'events-output-4-8-46.pkl', 'events-output-4-8-47.pkl', 'events-output-4-8-48.pkl', 'events-output-4-8-49.pkl', 'events-output-4-8-4.pkl', 'events-output-4-8-50.pkl', 'events-output-4-8-51.pkl', 'events-output-4-8-52.pkl', 'events-output-4-8-53.pkl', 'events-output-4-8-54.pkl ',\n",
    "    'events-output-4-8-55.pkl', 'events-output-4-8-56.pkl', 'events-output-4-8-57.pkl', 'events-output-4-8-58.pkl', 'events-output-4-8-59.pkl', 'events-output-4-8-5.pkl', 'events-output-4-8-60.pkl', 'events-output-4-8-61.pkl', 'events-output-4-8-62.pkl', 'events-output-4-8-63.pkl', 'events-output-4-8-64.pkl', 'events-output-4-8-65.pkl', 'events-output-4-8-66.pkl', 'events-output-4-8-67.pkl', 'events-output-4-8-68.pkl', 'events-output-4-8-6.pkl', 'events-output-4-8-7.pkl', 'events-output-4-8-8.pkl', 'events-output-4-8-9.pkl', 'events-output-5-8-0.pkl', 'events-output-5-8-1.pkl', 'events-output-5-8-2.pkl', 'events-output-5-8-3.pkl', 'events-output-5-8-4.pkl', 'events-output-5-8-5.pkl', 'events-output-5-8-6.pkl', 'events-output-6-8-0.pkl', 'events-output-6-8-10.pkl', 'events-output-6-8-11.pkl', 'events-output-6-8-12.pkl', 'events-output-6-8-13.pkl', 'events-output-6-8-14.pkl', 'events-output-6-8-15.pkl', 'events-output-6-8-16.pkl', 'events-output-6-8-17.pkl', 'events-output-6-8-18.pkl', 'events-output-6-8-19.pkl', 'events-output-6-8-1.pkl', 'events-output-6-8-20.pkl', 'events-output-6-8-21.pkl', 'events-output-6-8-22.pkl', 'events-output-6-8-23.pkl', 'events-output-6-8-24.pkl', 'events-output-6-8-25.pkl', 'events-output-6-8-26.pkl', 'events-output-6-8-27.pkl', 'events-output-6-8-28.pkl', 'events-output-6-8-29.pkl', 'events-output-6-8-2.pkl ',\n",
    "    'events-output-6-8-30.pkl', 'events-output-6-8-31.pkl', 'events-output-6-8-32.pkl', 'events-output-6-8-33.pkl', 'events-output-6-8-34.pkl', 'events-output-6-8-35.pkl', 'events-output-6-8-36.pkl', 'events-output-6-8-37.pkl', 'events-output-6-8-38.pkl', 'events-output-6-8-39.pkl', 'events-output-6-8-3.pkl', 'events-output-6-8-40.pkl', 'events-output-6-8-41.pkl', 'events-output-6-8-42.pkl', 'events-output-6-8-43.pkl', 'events-output-6-8-44.pkl', 'events-output-6-8-45.pkl', 'events-output-6-8-46.pkl', 'events-output-6-8-47.pkl', 'events-output-6-8-48.pkl', 'events-output-6-8-49.pkl', 'events-output-6-8-4.pkl', 'events-output-6-8-50.pkl', 'events-output-6-8-51.pkl', 'events-output-6-8-52.pkl', 'events-output-6-8-53.pkl', 'events-output-6-8-54.pkl', 'events-output-6-8-55.pkl', 'events-output-6-8-56.pkl', 'events-output-6-8-57.pkl', 'events-output-6-8-58.pkl', 'events-output-6-8-59.pkl', 'events-output-6-8-5.pkl', 'events-output-6-8-60.pkl', 'events-output-6-8-61.pkl', 'events-output-6-8-6.pkl', 'events-output-6-8-7.pkl', 'events-output-6-8-8.pkl', 'events-output-6-8-9.pkl',\n",
    "]"
   ]
  },
  {
   "cell_type": "code",
   "execution_count": 3,
   "metadata": {},
   "outputs": [],
   "source": [
    "from tqdm.auto import tqdm"
   ]
  },
  {
   "cell_type": "code",
   "execution_count": 122,
   "metadata": {
    "scrolled": true
   },
   "outputs": [],
   "source": [
    "import os \n",
    "already_retrieved = os.listdir('../eda/output/')"
   ]
  },
  {
   "cell_type": "code",
   "execution_count": 123,
   "metadata": {},
   "outputs": [
    {
     "data": {
      "text/plain": [
       "280"
      ]
     },
     "execution_count": 123,
     "metadata": {},
     "output_type": "execute_result"
    }
   ],
   "source": [
    "len(already_retrieved)"
   ]
  },
  {
   "cell_type": "code",
   "execution_count": null,
   "metadata": {},
   "outputs": [],
   "source": [
    "for e in tqdm(pluslab):\n",
    "    if e not in already_retrieved:\n",
    "        ! sshpass -p \"Pica_pic0Pica_pic0\"  \\\n",
    "             scp -r spangher@pluslab.isi.edu:/lfs1/spangher/EventPlus/component/BETTER/joint/$e ../eda/output/"
   ]
  },
  {
   "cell_type": "code",
   "execution_count": null,
   "metadata": {},
   "outputs": [],
   "source": [
    "for e in tqdm(non_edited_events):\n",
    "    if e not in already_retrieved:\n",
    "        ! sshpass -p \"Pica_pic0Pica_pic0\"  \\\n",
    "             scp -r spangher@pluslab.isi.edu:/lfs1/spangher/EventPlus/component/BETTER/joint/$e ../eda/output-non-edited/"
   ]
  },
  {
   "cell_type": "code",
   "execution_count": 47,
   "metadata": {},
   "outputs": [
    {
     "data": {
      "application/vnd.jupyter.widget-view+json": {
       "model_id": "965b63de907d4d32922a934bcfd75f06",
       "version_major": 2,
       "version_minor": 0
      },
      "text/plain": [
       "  0%|          | 0/82 [00:00<?, ?it/s]"
      ]
     },
     "metadata": {},
     "output_type": "display_data"
    }
   ],
   "source": [
    "for e in tqdm(plus_lab_02):\n",
    "    if e not in already_retrieved:\n",
    "        ! sshpass -p \"Pica_pic0Pica_pic0\"  \\\n",
    "             scp -r spangher@pluslab02.isi.edu:/lfs1/spangher/EventPlus/component/BETTER/joint/$e ../eda/output/"
   ]
  },
  {
   "cell_type": "code",
   "execution_count": null,
   "metadata": {},
   "outputs": [],
   "source": []
  },
  {
   "cell_type": "code",
   "execution_count": null,
   "metadata": {},
   "outputs": [],
   "source": []
  },
  {
   "cell_type": "markdown",
   "metadata": {},
   "source": [
    "# Events in Edited Sentences"
   ]
  },
  {
   "cell_type": "code",
   "execution_count": 1,
   "metadata": {},
   "outputs": [],
   "source": [
    "import glob\n",
    "import pickle\n",
    "import pandas as pd "
   ]
  },
  {
   "cell_type": "code",
   "execution_count": 5,
   "metadata": {},
   "outputs": [],
   "source": [
    "all_event_s = []\n",
    "for f in glob.glob('../eda/output/event-sents*'):\n",
    "    df = pd.read_pickle(f)\n",
    "    all_event_s.append(df)"
   ]
  },
  {
   "cell_type": "code",
   "execution_count": 6,
   "metadata": {},
   "outputs": [],
   "source": [
    "all_event_edited_sents = pd.concat(all_event_s)"
   ]
  },
  {
   "cell_type": "code",
   "execution_count": 23,
   "metadata": {},
   "outputs": [],
   "source": [
    "grouped = (\n",
    "    all_event_edited_sents\n",
    "     .reset_index()\n",
    "     .set_index(['level_0', 'level_1'])\n",
    "     .groupby(level=[0,1])\n",
    ")"
   ]
  },
  {
   "cell_type": "code",
   "execution_count": 22,
   "metadata": {},
   "outputs": [
    {
     "data": {
      "text/plain": [
       "level_0  level_1\n",
       "ap       130                       [9.0, 2.0]\n",
       "         688                      [10.0, 4.0]\n",
       "         732                     [26.0, 14.0]\n",
       "         1023                     [1.0, 15.0]\n",
       "         1362                     [5.0, 15.0]\n",
       "                              ...            \n",
       "nyt      2038157                   [0.0, 1.0]\n",
       "         2038190    [0.0, 1.0, 2.0, 3.0, 4.0]\n",
       "         2038231                   [0.0, 1.0]\n",
       "         2038254                   [1.0, 2.0]\n",
       "         2038288                   [0.0, 1.0]\n",
       "Name: level_2, Length: 156090, dtype: object"
      ]
     },
     "execution_count": 22,
     "metadata": {},
     "output_type": "execute_result"
    }
   ],
   "source": [
    "t.apply(lambda x: list(set(x))).loc[lambda s: s.str.len() > 1]"
   ]
  },
  {
   "cell_type": "code",
   "execution_count": 31,
   "metadata": {},
   "outputs": [],
   "source": [
    "df = grouped.get_group(('nyt', 2038157))"
   ]
  },
  {
   "cell_type": "code",
   "execution_count": 32,
   "metadata": {},
   "outputs": [
    {
     "data": {
      "text/html": [
       "<div>\n",
       "<style scoped>\n",
       "    .dataframe tbody tr th:only-of-type {\n",
       "        vertical-align: middle;\n",
       "    }\n",
       "\n",
       "    .dataframe tbody tr th {\n",
       "        vertical-align: top;\n",
       "    }\n",
       "\n",
       "    .dataframe thead th {\n",
       "        text-align: right;\n",
       "    }\n",
       "</style>\n",
       "<table border=\"1\" class=\"dataframe\">\n",
       "  <thead>\n",
       "    <tr style=\"text-align: right;\">\n",
       "      <th></th>\n",
       "      <th></th>\n",
       "      <th>level_2</th>\n",
       "      <th>level_3</th>\n",
       "      <th>0</th>\n",
       "    </tr>\n",
       "    <tr>\n",
       "      <th>level_0</th>\n",
       "      <th>level_1</th>\n",
       "      <th></th>\n",
       "      <th></th>\n",
       "      <th></th>\n",
       "    </tr>\n",
       "  </thead>\n",
       "  <tbody>\n",
       "    <tr>\n",
       "      <th rowspan=\"4\" valign=\"top\">nyt</th>\n",
       "      <th>2038157</th>\n",
       "      <td>0.0</td>\n",
       "      <td>47</td>\n",
       "      <td>[{'tokens': ['“', 'Never', 'allow', 'singing',...</td>\n",
       "    </tr>\n",
       "    <tr>\n",
       "      <th>2038157</th>\n",
       "      <td>0.0</td>\n",
       "      <td>49</td>\n",
       "      <td>[{'tokens': ['”', 'In', 'the', 'case', 'of', '...</td>\n",
       "    </tr>\n",
       "    <tr>\n",
       "      <th>2038157</th>\n",
       "      <td>1.0</td>\n",
       "      <td>47</td>\n",
       "      <td>[{'tokens': ['“', 'Never', 'allow', 'singing',...</td>\n",
       "    </tr>\n",
       "    <tr>\n",
       "      <th>2038157</th>\n",
       "      <td>1.0</td>\n",
       "      <td>49</td>\n",
       "      <td>[{'tokens': ['”', 'In', 'the', 'case', 'of', '...</td>\n",
       "    </tr>\n",
       "  </tbody>\n",
       "</table>\n",
       "</div>"
      ],
      "text/plain": [
       "                 level_2  level_3  \\\n",
       "level_0 level_1                     \n",
       "nyt     2038157      0.0       47   \n",
       "        2038157      0.0       49   \n",
       "        2038157      1.0       47   \n",
       "        2038157      1.0       49   \n",
       "\n",
       "                                                                 0  \n",
       "level_0 level_1                                                     \n",
       "nyt     2038157  [{'tokens': ['“', 'Never', 'allow', 'singing',...  \n",
       "        2038157  [{'tokens': ['”', 'In', 'the', 'case', 'of', '...  \n",
       "        2038157  [{'tokens': ['“', 'Never', 'allow', 'singing',...  \n",
       "        2038157  [{'tokens': ['”', 'In', 'the', 'case', 'of', '...  "
      ]
     },
     "execution_count": 32,
     "metadata": {},
     "output_type": "execute_result"
    }
   ],
   "source": [
    "def unstack_df(df):\n",
    "    df['level_2']"
   ]
  },
  {
   "cell_type": "code",
   "execution_count": 67,
   "metadata": {},
   "outputs": [],
   "source": [
    "to_get = glob.glob('../data/diffengine-diffs/spark-output/*')"
   ]
  },
  {
   "cell_type": "code",
   "execution_count": 81,
   "metadata": {},
   "outputs": [],
   "source": [
    "all_matched_events = []"
   ]
  },
  {
   "cell_type": "code",
   "execution_count": 86,
   "metadata": {},
   "outputs": [
    {
     "data": {
      "text/plain": [
       "True"
      ]
     },
     "execution_count": 86,
     "metadata": {},
     "output_type": "execute_result"
    }
   ],
   "source": [
    "'guardian' in all_event_edited_sents"
   ]
  },
  {
   "cell_type": "code",
   "execution_count": 87,
   "metadata": {},
   "outputs": [
    {
     "name": "stdout",
     "output_type": "stream",
     "text": [
      "../data/diffengine-diffs/spark-output/wp-matched-sentences.db\n",
      "../data/diffengine-diffs/spark-output/independent-matched-sentences.db\n",
      "../data/diffengine-diffs/spark-output/reuters-matched-sentences.db\n",
      "../data/diffengine-diffs/spark-output/guardian-matched-sentences.db\n",
      "../data/diffengine-diffs/spark-output/nyt-matched-sentences.db\n",
      "../data/diffengine-diffs/spark-output/bbc-2-matched-sentences.db\n",
      "../data/diffengine-diffs/spark-output/ap-matched-sentences.db\n"
     ]
    }
   ],
   "source": [
    "for f in to_get:\n",
    "    print(f)\n",
    "    source = f.split('/')[-1].split('-')[0]\n",
    "    conn = sqlite3.connect(f)\n",
    "    if source not in all_event_edited_sents:\n",
    "        continue\n",
    "        \n",
    "    source_edited_events = (\n",
    "        all_event_edited_sents\n",
    "        .loc[source]\n",
    "    )\n",
    "\n",
    "    entry_ids = (\n",
    "        source_edited_events\n",
    "        .reset_index(level=0)['level_0']\n",
    "        .drop_duplicates()\n",
    "        .tolist()\n",
    "    )\n",
    "\n",
    "    matched = pd.read_sql('''\n",
    "        SELECT entry_id, version_x, version_y, sent_idx_x, sent_idx_y\n",
    "            FROM matched_sentences\n",
    "            WHERE (entry_id IN (%s))\n",
    "                AND (avg_sentence_distance_x > 0.1)\n",
    "                AND (avg_sentence_distance_y > 0.1)\n",
    "    ''' % ', '.join(list(map(str, entry_ids))), con=conn)\n",
    "\n",
    "    matched_events = (matched\n",
    "     .merge(source_edited_events.to_frame('events_x').reset_index(), how='left', right_on=['level_0', 'level_1', 'level_2'], left_on=['entry_id', 'version_x', 'sent_idx_x'])\n",
    "     .drop(['level_0','level_1','level_2'], axis=1)\n",
    "     .merge(source_edited_events.to_frame('events_y').reset_index(), how='left', right_on=['level_0', 'level_1', 'level_2'], left_on=['entry_id', 'version_y', 'sent_idx_y'])\n",
    "     .dropna()\n",
    "     .drop(['level_0','level_1','level_2'], axis=1)\n",
    "    )\n",
    "    all_matched_events.append(matched_events)"
   ]
  },
  {
   "cell_type": "code",
   "execution_count": 89,
   "metadata": {},
   "outputs": [],
   "source": [
    "all_matched_events_df = pd.concat(all_matched_events)"
   ]
  },
  {
   "cell_type": "code",
   "execution_count": 91,
   "metadata": {},
   "outputs": [
    {
     "data": {
      "text/plain": [
       "entry_id                                                1348692\n",
       "version_x                                                     5\n",
       "version_y                                                     6\n",
       "sent_idx_x                                                  8.0\n",
       "sent_idx_y                                                 11.0\n",
       "events_x      [{'tokens': ['May', 'said', 'that', 'the', 'na...\n",
       "events_y      [{'tokens': ['May', 'said', 'that', 'the', 'na...\n",
       "Name: 17, dtype: object"
      ]
     },
     "execution_count": 91,
     "metadata": {},
     "output_type": "execute_result"
    }
   ],
   "source": [
    "all_matched_events_df.iloc[0]"
   ]
  },
  {
   "cell_type": "code",
   "execution_count": 161,
   "metadata": {},
   "outputs": [],
   "source": [
    "def unroll_events(e):\n",
    "    t2 = list(map(lambda x: x['events'], e))\n",
    "    t3 = [y['triggers'] for x in t2 for y in x]\n",
    "    return [y['text'] for x in t3 for y in x]\n",
    "\n",
    "def match_events(e_x, e_y):\n",
    "    unique_event_paths = []\n",
    "    e_x = unroll_events(e_x)\n",
    "    e_y = unroll_events(e_y)\n",
    "    for e_x_i in e_x:\n",
    "        for e_y_i in e_y:\n",
    "            if e_x_i != e_y_i:\n",
    "                unique_event_paths.append((e_x_i, e_y_i))\n",
    "    return unique_event_paths"
   ]
  },
  {
   "cell_type": "code",
   "execution_count": 193,
   "metadata": {},
   "outputs": [],
   "source": [
    "unrolled_events = all_matched_events_df.apply(lambda x: match_events(x['events_x'], x['events_y']), axis=1)"
   ]
  },
  {
   "cell_type": "code",
   "execution_count": 189,
   "metadata": {},
   "outputs": [],
   "source": [
    "all_matched_events_df['events'] = (\n",
    "    all_matched_events_df\n",
    "    .apply(lambda x: unroll_events(x['events_x']) + unroll_events(x['events_y']), axis=1)\n",
    ")"
   ]
  },
  {
   "cell_type": "code",
   "execution_count": 198,
   "metadata": {},
   "outputs": [
    {
     "data": {
      "text/plain": [
       "False    244460\n",
       "True     187869\n",
       "Name: events, dtype: int64"
      ]
     },
     "execution_count": 198,
     "metadata": {},
     "output_type": "execute_result"
    }
   ],
   "source": [
    "all_matched_events_df['events'].str.len().pipe(lambda s: s > 0).value_counts()"
   ]
  },
  {
   "cell_type": "code",
   "execution_count": 192,
   "metadata": {},
   "outputs": [
    {
     "data": {
      "text/plain": [
       "False    0.565449\n",
       "True     0.434551\n",
       "Name: events, dtype: float64"
      ]
     },
     "execution_count": 192,
     "metadata": {},
     "output_type": "execute_result"
    }
   ],
   "source": [
    "all_matched_events_df['events'].str.len().pipe(lambda s: s > 0).value_counts().pipe(lambda s: s/s.sum())"
   ]
  },
  {
   "cell_type": "code",
   "execution_count": 199,
   "metadata": {},
   "outputs": [
    {
     "data": {
      "text/plain": [
       "0.3713119247986629"
      ]
     },
     "execution_count": 199,
     "metadata": {},
     "output_type": "execute_result"
    }
   ],
   "source": [
    "69758/187869"
   ]
  },
  {
   "cell_type": "code",
   "execution_count": 136,
   "metadata": {},
   "outputs": [
    {
     "data": {
      "text/plain": [
       "(432329, 7)"
      ]
     },
     "execution_count": 136,
     "metadata": {},
     "output_type": "execute_result"
    }
   ],
   "source": [
    "all_matched_events_df.shape"
   ]
  },
  {
   "cell_type": "code",
   "execution_count": 197,
   "metadata": {},
   "outputs": [
    {
     "data": {
      "text/plain": [
       "False    0.838646\n",
       "True     0.161354\n",
       "dtype: float64"
      ]
     },
     "execution_count": 197,
     "metadata": {},
     "output_type": "execute_result"
    }
   ],
   "source": [
    "unrolled_events.str.len().pipe(lambda s: s > 0).value_counts().pipe(lambda s: s/s.sum())"
   ]
  },
  {
   "cell_type": "code",
   "execution_count": 123,
   "metadata": {},
   "outputs": [],
   "source": [
    "unrolled_events = unrolled_events.loc[lambda s: s.str.len() > 0]"
   ]
  },
  {
   "cell_type": "code",
   "execution_count": 135,
   "metadata": {},
   "outputs": [
    {
     "data": {
      "text/plain": [
       "(69758,)"
      ]
     },
     "execution_count": 135,
     "metadata": {},
     "output_type": "execute_result"
    }
   ],
   "source": [
    "unrolled_events.shape"
   ]
  },
  {
   "cell_type": "code",
   "execution_count": 126,
   "metadata": {},
   "outputs": [],
   "source": [
    "all_unrolled_events = [y for x in unrolled_events.tolist() for y in x]"
   ]
  },
  {
   "cell_type": "code",
   "execution_count": 208,
   "metadata": {},
   "outputs": [
    {
     "data": {
      "text/plain": [
       "(killed, attack)         799\n",
       "(attack, killed)         789\n",
       "(injured, killed)        603\n",
       "(killed, injured)        578\n",
       "(shot, dead)             476\n",
       "(dead, shot)             468\n",
       "(wounded, killed)        409\n",
       "(killed, wounded)        399\n",
       "(attacks, killed)        355\n",
       "(killed, attacks)        350\n",
       "(shot, killed)           324\n",
       "(killed, shot)           321\n",
       "(injured, attack)        272\n",
       "(attack, injured)        265\n",
       "(shooting, killed)       256\n",
       "(killed, shooting)       250\n",
       "(killed, died)           249\n",
       "(died, killed)           247\n",
       "(injured, died)          225\n",
       "(attacks, attack)        225\n",
       "(attack, attacks)        223\n",
       "(died, death)            217\n",
       "(died, injured)          216\n",
       "(death, died)            208\n",
       "(attack, wounded)        202\n",
       "(suicide, killed)        197\n",
       "(death, killed)          196\n",
       "(killed, death)          190\n",
       "(suicide, attack)        189\n",
       "(election, won)          189\n",
       "(dead, injured)          188\n",
       "(injured, dead)          188\n",
       "(killed, suicide)        185\n",
       "(elections, election)    184\n",
       "(wounded, attack)        184\n",
       "(attack, dead)           182\n",
       "(meeting, talks)         181\n",
       "(attack, died)           181\n",
       "(died, attack)           179\n",
       "(attack, suicide)        177\n",
       "(dead, attack)           169\n",
       "(dead, killed)           165\n",
       "(won, election)          162\n",
       "(talks, meeting)         158\n",
       "(charged, murder)        158\n",
       "(killing, attack)        157\n",
       "(arrested, charged)      155\n",
       "(war, conflict)          148\n",
       "(fire, killed)           148\n",
       "(charges, trial)         148\n",
       "dtype: int64"
      ]
     },
     "execution_count": 208,
     "metadata": {},
     "output_type": "execute_result"
    }
   ],
   "source": [
    "t = pd.Series(all_unrolled_events).value_counts().head(50)\n",
    "t"
   ]
  },
  {
   "cell_type": "code",
   "execution_count": 205,
   "metadata": {},
   "outputs": [],
   "source": [
    "import pyperclip"
   ]
  },
  {
   "cell_type": "code",
   "execution_count": 206,
   "metadata": {},
   "outputs": [],
   "source": [
    "pyperclip.copy(t.to_latex())"
   ]
  },
  {
   "cell_type": "markdown",
   "metadata": {},
   "source": [
    "# Events in Added Sentences"
   ]
  },
  {
   "cell_type": "code",
   "execution_count": 137,
   "metadata": {},
   "outputs": [
    {
     "name": "stdout",
     "output_type": "stream",
     "text": [
      "event-sents-part-1.pkl      events-output-1-8-28.pkl\r\n",
      "event-sents-part-2.pkl      events-output-1-8-29.pkl\r\n",
      "events-output-0-1-0.pkl     events-output-1-8-3.pkl\r\n",
      "events-output-0-1-1.pkl     events-output-1-8-30.pkl\r\n",
      "events-output-0-1-10.pkl    events-output-1-8-31.pkl\r\n",
      "events-output-0-1-11.pkl    events-output-1-8-32.pkl\r\n",
      "events-output-0-1-12.pkl    events-output-1-8-33.pkl\r\n",
      "events-output-0-1-13.pkl    events-output-1-8-34.pkl\r\n",
      "events-output-0-1-14.pkl    events-output-1-8-35.pkl\r\n",
      "events-output-0-1-15.pkl    events-output-1-8-36.pkl\r\n",
      "events-output-0-1-16.pkl    events-output-1-8-37.pkl\r\n",
      "events-output-0-1-17.pkl    events-output-1-8-38.pkl\r\n",
      "events-output-0-1-18.pkl    events-output-1-8-39.pkl\r\n",
      "events-output-0-1-19.pkl    events-output-1-8-4.pkl\r\n",
      "events-output-0-1-2.pkl     events-output-1-8-40.pkl\r\n",
      "events-output-0-1-20.pkl    events-output-1-8-41.pkl\r\n",
      "events-output-0-1-21.pkl    events-output-1-8-42.pkl\r\n",
      "events-output-0-1-22.pkl    events-output-1-8-43.pkl\r\n",
      "events-output-0-1-23.pkl    events-output-1-8-44.pkl\r\n",
      "events-output-0-1-24.pkl    events-output-1-8-45.pkl\r\n",
      "events-output-0-1-25.pkl    events-output-1-8-46.pkl\r\n",
      "events-output-0-1-26.pkl    events-output-1-8-47.pkl\r\n",
      "events-output-0-1-27.pkl    events-output-1-8-48.pkl\r\n",
      "events-output-0-1-28.pkl    events-output-1-8-49.pkl\r\n",
      "events-output-0-1-29.pkl    events-output-1-8-5.pkl\r\n",
      "events-output-0-1-3.pkl     events-output-1-8-50.pkl\r\n",
      "events-output-0-1-30.pkl    events-output-1-8-51.pkl\r\n",
      "events-output-0-1-31.pkl    events-output-1-8-52.pkl\r\n",
      "events-output-0-1-32.pkl    events-output-1-8-53.pkl\r\n",
      "events-output-0-1-33.pkl    events-output-1-8-54.pkl\r\n",
      "events-output-0-1-34.pkl    events-output-1-8-55.pkl\r\n",
      "events-output-0-1-35.pkl    events-output-1-8-56.pkl\r\n",
      "events-output-0-1-36.pkl    events-output-1-8-6.pkl\r\n",
      "events-output-0-1-37.pkl    events-output-1-8-7.pkl\r\n",
      "events-output-0-1-38.pkl    events-output-1-8-8.pkl\r\n",
      "events-output-0-1-39.pkl    events-output-1-8-9.pkl\r\n",
      "events-output-0-1-4.pkl     events-output-2-8-0.pkl\r\n",
      "events-output-0-1-40.pkl    events-output-3-8-0.pkl\r\n",
      "events-output-0-1-41.pkl    events-output-3-8-1.pkl\r\n",
      "events-output-0-1-42.pkl    events-output-3-8-10.pkl\r\n",
      "events-output-0-1-43.pkl    events-output-3-8-11.pkl\r\n",
      "events-output-0-1-44.pkl    events-output-3-8-12.pkl\r\n",
      "events-output-0-1-45.pkl    events-output-3-8-13.pkl\r\n",
      "events-output-0-1-46.pkl    events-output-3-8-14.pkl\r\n",
      "events-output-0-1-47.pkl    events-output-3-8-15.pkl\r\n",
      "events-output-0-1-48.pkl    events-output-3-8-16.pkl\r\n",
      "events-output-0-1-49.pkl    events-output-3-8-17.pkl\r\n",
      "events-output-0-1-5.pkl     events-output-3-8-18.pkl\r\n",
      "events-output-0-1-50.pkl    events-output-3-8-19.pkl\r\n",
      "events-output-0-1-51.pkl    events-output-3-8-2.pkl\r\n",
      "events-output-0-1-52.pkl    events-output-3-8-3.pkl\r\n",
      "events-output-0-1-53.pkl    events-output-3-8-4.pkl\r\n",
      "events-output-0-1-54.pkl    events-output-3-8-5.pkl\r\n",
      "events-output-0-1-55.pkl    events-output-3-8-6.pkl\r\n",
      "events-output-0-1-56.pkl    events-output-3-8-7.pkl\r\n",
      "events-output-0-1-6.pkl     events-output-3-8-8.pkl\r\n",
      "events-output-0-1-7.pkl     events-output-3-8-9.pkl\r\n",
      "events-output-0-1-8.pkl     events-output-4-8-0.pkl\r\n",
      "events-output-0-1-9.pkl     events-output-4-8-1.pkl\r\n",
      "events-output-0-8-0.pkl     events-output-4-8-10.pkl\r\n",
      "events-output-0-8-1.pkl     events-output-4-8-11.pkl\r\n",
      "events-output-0-8-10.pkl    events-output-4-8-12.pkl\r\n",
      "events-output-0-8-11.pkl    events-output-4-8-13.pkl\r\n",
      "events-output-0-8-12.pkl    events-output-4-8-14.pkl\r\n",
      "events-output-0-8-13.pkl    events-output-4-8-15.pkl\r\n",
      "events-output-0-8-14.pkl    events-output-4-8-16.pkl\r\n",
      "events-output-0-8-15.pkl    events-output-4-8-17.pkl\r\n",
      "events-output-0-8-16.pkl    events-output-4-8-18.pkl\r\n",
      "events-output-0-8-17.pkl    events-output-4-8-19.pkl\r\n",
      "events-output-0-8-18.pkl    events-output-4-8-2.pkl\r\n",
      "events-output-0-8-19.pkl    events-output-4-8-20.pkl\r\n",
      "events-output-0-8-2.pkl     events-output-4-8-21.pkl\r\n",
      "events-output-0-8-20.pkl    events-output-4-8-22.pkl\r\n",
      "events-output-0-8-21.pkl    events-output-4-8-23.pkl\r\n",
      "events-output-0-8-22.pkl    events-output-4-8-24.pkl\r\n",
      "events-output-0-8-23.pkl    events-output-4-8-25.pkl\r\n",
      "events-output-0-8-24.pkl    events-output-4-8-26.pkl\r\n",
      "events-output-0-8-25.pkl    events-output-4-8-27.pkl\r\n",
      "events-output-0-8-26.pkl    events-output-4-8-28.pkl\r\n",
      "events-output-0-8-27.pkl    events-output-4-8-29.pkl\r\n",
      "events-output-0-8-28.pkl    events-output-4-8-3.pkl\r\n",
      "events-output-0-8-29.pkl    events-output-4-8-30.pkl\r\n",
      "events-output-0-8-3.pkl     events-output-4-8-31.pkl\r\n",
      "events-output-0-8-30.pkl    events-output-4-8-32.pkl\r\n",
      "events-output-0-8-31.pkl    events-output-4-8-33.pkl\r\n",
      "events-output-0-8-32.pkl    events-output-4-8-34.pkl\r\n",
      "events-output-0-8-33.pkl    events-output-4-8-35.pkl\r\n",
      "events-output-0-8-34.pkl    events-output-4-8-36.pkl\r\n",
      "events-output-0-8-35.pkl    events-output-4-8-37.pkl\r",
      "\r\n",
      "events-output-0-8-36.pkl    events-output-4-8-38.pkl\r\n",
      "events-output-0-8-37.pkl    events-output-4-8-39.pkl\r\n",
      "events-output-0-8-38.pkl    events-output-4-8-4.pkl\r\n",
      "events-output-0-8-39.pkl    events-output-4-8-40.pkl\r\n",
      "events-output-0-8-4.pkl     events-output-4-8-41.pkl\r\n",
      "events-output-0-8-40.pkl    events-output-4-8-42.pkl\r\n",
      "events-output-0-8-41.pkl    events-output-4-8-5.pkl\r\n",
      "events-output-0-8-42.pkl    events-output-4-8-6.pkl\r\n",
      "events-output-0-8-43.pkl    events-output-4-8-7.pkl\r\n",
      "events-output-0-8-44.pkl    events-output-4-8-8.pkl\r\n",
      "events-output-0-8-45.pkl    events-output-4-8-9.pkl\r\n",
      "events-output-0-8-46.pkl    events-output-5-8-0.pkl\r\n",
      "events-output-0-8-47.pkl    events-output-6-8-0.pkl\r\n",
      "events-output-0-8-48.pkl    events-output-6-8-1.pkl\r\n",
      "events-output-0-8-49.pkl    events-output-6-8-10.pkl\r\n",
      "events-output-0-8-5.pkl     events-output-6-8-11.pkl\r\n",
      "events-output-0-8-50.pkl    events-output-6-8-12.pkl\r\n",
      "events-output-0-8-51.pkl    events-output-6-8-13.pkl\r\n",
      "events-output-0-8-52.pkl    events-output-6-8-14.pkl\r\n",
      "events-output-0-8-53.pkl    events-output-6-8-15.pkl\r\n",
      "events-output-0-8-54.pkl    events-output-6-8-16.pkl\r\n",
      "events-output-0-8-55.pkl    events-output-6-8-17.pkl\r\n",
      "events-output-0-8-56.pkl    events-output-6-8-18.pkl\r\n",
      "events-output-0-8-57.pkl    events-output-6-8-19.pkl\r\n",
      "events-output-0-8-58.pkl    events-output-6-8-2.pkl\r\n",
      "events-output-0-8-59.pkl    events-output-6-8-20.pkl\r\n",
      "events-output-0-8-6.pkl     events-output-6-8-21.pkl\r\n",
      "events-output-0-8-60.pkl    events-output-6-8-22.pkl\r\n",
      "events-output-0-8-61.pkl    events-output-6-8-23.pkl\r\n",
      "events-output-0-8-7.pkl     events-output-6-8-24.pkl\r\n",
      "events-output-0-8-8.pkl     events-output-6-8-25.pkl\r\n",
      "events-output-0-8-9.pkl     events-output-6-8-26.pkl\r\n",
      "events-output-1-8-0.pkl     events-output-6-8-27.pkl\r\n",
      "events-output-1-8-1.pkl     events-output-6-8-28.pkl\r\n",
      "events-output-1-8-10.pkl    events-output-6-8-29.pkl\r\n",
      "events-output-1-8-11.pkl    events-output-6-8-3.pkl\r\n",
      "events-output-1-8-12.pkl    events-output-6-8-30.pkl\r\n",
      "events-output-1-8-13.pkl    events-output-6-8-31.pkl\r\n",
      "events-output-1-8-14.pkl    events-output-6-8-32.pkl\r\n",
      "events-output-1-8-15.pkl    events-output-6-8-33.pkl\r\n",
      "events-output-1-8-16.pkl    events-output-6-8-34.pkl\r\n",
      "events-output-1-8-17.pkl    events-output-6-8-35.pkl\r\n",
      "events-output-1-8-18.pkl    events-output-6-8-36.pkl\r\n",
      "events-output-1-8-19.pkl    events-output-6-8-37.pkl\r\n",
      "events-output-1-8-2.pkl     events-output-6-8-4.pkl\r\n",
      "events-output-1-8-20.pkl    events-output-6-8-5.pkl\r\n",
      "events-output-1-8-21.pkl    events-output-6-8-6.pkl\r\n",
      "events-output-1-8-22.pkl    events-output-6-8-7.pkl\r\n",
      "events-output-1-8-23.pkl    events-output-6-8-8.pkl\r\n",
      "events-output-1-8-24.pkl    events-output-6-8-9.pkl\r\n",
      "events-output-1-8-25.pkl    non-edited-event-sents.pkl\r\n",
      "events-output-1-8-26.pkl    spangher@pluslab.isi.edu\r\n",
      "events-output-1-8-27.pkl\r\n"
     ]
    }
   ],
   "source": [
    "ls ../eda/output/"
   ]
  },
  {
   "cell_type": "code",
   "execution_count": 147,
   "metadata": {},
   "outputs": [],
   "source": [
    "to_run = glob.glob('../data/diffengine-diffs/spark-output/*')"
   ]
  },
  {
   "cell_type": "code",
   "execution_count": 149,
   "metadata": {},
   "outputs": [
    {
     "name": "stdout",
     "output_type": "stream",
     "text": [
      "../data/diffengine-diffs/spark-output/wp-matched-sentences.db\n",
      "../data/diffengine-diffs/spark-output/independent-matched-sentences.db\n",
      "../data/diffengine-diffs/spark-output/reuters-matched-sentences.db\n",
      "../data/diffengine-diffs/spark-output/guardian-matched-sentences.db\n",
      "../data/diffengine-diffs/spark-output/nyt-matched-sentences.db\n",
      "../data/diffengine-diffs/spark-output/bbc-2-matched-sentences.db\n",
      "../data/diffengine-diffs/spark-output/ap-matched-sentences.db\n"
     ]
    }
   ],
   "source": [
    "all_add_del_info = []\n",
    "for f in to_run:\n",
    "    print(f)\n",
    "    if '.gz' in f:\n",
    "        ! gunzip $f\n",
    "    f = f.replace('.gz', '')\n",
    "    conn = sqlite3.connect(f)\n",
    "\n",
    "    add_del_info = pd.read_sql('''\n",
    "        with added as (\n",
    "                SELECT entry_id, \n",
    "                version_y as version, \n",
    "                sent_idx_y as sent_idx, \n",
    "                0 as is_deleted,\n",
    "                CAST((sent_idx_x IS NULL) AS INT) AS is_added\n",
    "            FROM matched_sentences\n",
    "                WHERE is_added = 1\n",
    "        ), deleted as (\n",
    "            SELECT entry_id, \n",
    "                version_x as version, \n",
    "                sent_idx_x as sent_idx,\n",
    "                CAST((sent_idx_y IS NULL) AS INT) AS is_deleted,\n",
    "                0 as is_added\n",
    "            FROM matched_sentences\n",
    "                WHERE is_deleted = 1\n",
    "        )\n",
    "        SELECT * from added\n",
    "        UNION ALL\n",
    "        SELECT * from deleted\n",
    "    ''', con=conn)\n",
    "    add_del_info['source'] = f.split('/')[-1].split('-')[0]\n",
    "    all_add_del_info.append(add_del_info)"
   ]
  },
  {
   "cell_type": "code",
   "execution_count": null,
   "metadata": {},
   "outputs": [],
   "source": []
  },
  {
   "cell_type": "code",
   "execution_count": 187,
   "metadata": {},
   "outputs": [],
   "source": [
    "all_add_del_sents_df.to_csv('cache/add-del-sent-df.csv')"
   ]
  },
  {
   "cell_type": "code",
   "execution_count": 139,
   "metadata": {},
   "outputs": [],
   "source": [
    "events_non_edited_sents = pd.read_pickle('../eda/output/non-edited-event-sents.pkl')"
   ]
  },
  {
   "cell_type": "code",
   "execution_count": 142,
   "metadata": {},
   "outputs": [],
   "source": [
    "events_add_del_sents = pd.read_pickle('../eda/output/add-del-event-sents.pkl')"
   ]
  },
  {
   "cell_type": "code",
   "execution_count": null,
   "metadata": {},
   "outputs": [],
   "source": [
    "sentence_df_no_null = sentence_df.loc[lambda df: df['sentence'].notnull()]"
   ]
  },
  {
   "cell_type": "code",
   "execution_count": 150,
   "metadata": {},
   "outputs": [],
   "source": [
    "all_add_del_sents_df = pd.concat(all_add_del_info)"
   ]
  },
  {
   "cell_type": "code",
   "execution_count": 154,
   "metadata": {},
   "outputs": [
    {
     "data": {
      "text/html": [
       "<div>\n",
       "<style scoped>\n",
       "    .dataframe tbody tr th:only-of-type {\n",
       "        vertical-align: middle;\n",
       "    }\n",
       "\n",
       "    .dataframe tbody tr th {\n",
       "        vertical-align: top;\n",
       "    }\n",
       "\n",
       "    .dataframe thead th {\n",
       "        text-align: right;\n",
       "    }\n",
       "</style>\n",
       "<table border=\"1\" class=\"dataframe\">\n",
       "  <thead>\n",
       "    <tr style=\"text-align: right;\">\n",
       "      <th></th>\n",
       "      <th>entry_id</th>\n",
       "      <th>version</th>\n",
       "      <th>sent_idx</th>\n",
       "      <th>is_deleted</th>\n",
       "      <th>is_added</th>\n",
       "      <th>source</th>\n",
       "    </tr>\n",
       "  </thead>\n",
       "  <tbody>\n",
       "    <tr>\n",
       "      <th>0</th>\n",
       "      <td>1258519</td>\n",
       "      <td>1</td>\n",
       "      <td>5.0</td>\n",
       "      <td>0</td>\n",
       "      <td>1</td>\n",
       "      <td>wp</td>\n",
       "    </tr>\n",
       "  </tbody>\n",
       "</table>\n",
       "</div>"
      ],
      "text/plain": [
       "   entry_id  version  sent_idx  is_deleted  is_added source\n",
       "0   1258519        1       5.0           0         1     wp"
      ]
     },
     "execution_count": 154,
     "metadata": {},
     "output_type": "execute_result"
    }
   ],
   "source": [
    "all_add_del_sents_df.head(1)"
   ]
  },
  {
   "cell_type": "code",
   "execution_count": 157,
   "metadata": {},
   "outputs": [],
   "source": [
    "events_with_add_del = (events_add_del_sents\n",
    " .to_frame('events')\n",
    " .reset_index()\n",
    " .merge(all_add_del_sents_df,\n",
    "       left_on=['level_0', 'level_1', 'level_2', 'level_3'],\n",
    "        right_on=['source', 'entry_id', 'version', 'sent_idx',]\n",
    "       )\n",
    " .drop(['level_0', 'level_1', 'level_2', 'level_3'], axis=1)\n",
    ")"
   ]
  },
  {
   "cell_type": "code",
   "execution_count": 164,
   "metadata": {},
   "outputs": [],
   "source": [
    "events_with_add_del['events_unrolled'] = events_with_add_del['events'].apply(unroll_events)"
   ]
  },
  {
   "cell_type": "code",
   "execution_count": 182,
   "metadata": {},
   "outputs": [
    {
     "data": {
      "text/html": [
       "<div>\n",
       "<style scoped>\n",
       "    .dataframe tbody tr th:only-of-type {\n",
       "        vertical-align: middle;\n",
       "    }\n",
       "\n",
       "    .dataframe tbody tr th {\n",
       "        vertical-align: top;\n",
       "    }\n",
       "\n",
       "    .dataframe thead th {\n",
       "        text-align: right;\n",
       "    }\n",
       "</style>\n",
       "<table border=\"1\" class=\"dataframe\">\n",
       "  <thead>\n",
       "    <tr style=\"text-align: right;\">\n",
       "      <th></th>\n",
       "      <th>events</th>\n",
       "      <th>entry_id</th>\n",
       "      <th>version</th>\n",
       "      <th>sent_idx</th>\n",
       "      <th>is_deleted</th>\n",
       "      <th>is_added</th>\n",
       "      <th>source</th>\n",
       "      <th>events_unrolled</th>\n",
       "    </tr>\n",
       "  </thead>\n",
       "  <tbody>\n",
       "    <tr>\n",
       "      <th>0</th>\n",
       "      <td>[{'tokens': ['&lt;', '/p', '&gt;', '&lt;', 'p', '&gt;', 'T...</td>\n",
       "      <td>19317</td>\n",
       "      <td>1</td>\n",
       "      <td>8.0</td>\n",
       "      <td>0</td>\n",
       "      <td>1</td>\n",
       "      <td>ap</td>\n",
       "      <td>[]</td>\n",
       "    </tr>\n",
       "    <tr>\n",
       "      <th>1</th>\n",
       "      <td>[{'tokens': ['&lt;', '/p', '&gt;', '&lt;', 'p', '&gt;', 'T...</td>\n",
       "      <td>19317</td>\n",
       "      <td>1</td>\n",
       "      <td>9.0</td>\n",
       "      <td>0</td>\n",
       "      <td>1</td>\n",
       "      <td>ap</td>\n",
       "      <td>[]</td>\n",
       "    </tr>\n",
       "    <tr>\n",
       "      <th>2</th>\n",
       "      <td>[{'tokens': ['&lt;', '/p', '&gt;', '&lt;', 'p', '&gt;', 'J...</td>\n",
       "      <td>19317</td>\n",
       "      <td>1</td>\n",
       "      <td>10.0</td>\n",
       "      <td>0</td>\n",
       "      <td>1</td>\n",
       "      <td>ap</td>\n",
       "      <td>[]</td>\n",
       "    </tr>\n",
       "    <tr>\n",
       "      <th>3</th>\n",
       "      <td>[{'tokens': ['&lt;', '/p', '&gt;', '&lt;', 'p&gt;___&lt;/p', ...</td>\n",
       "      <td>19317</td>\n",
       "      <td>1</td>\n",
       "      <td>13.0</td>\n",
       "      <td>0</td>\n",
       "      <td>1</td>\n",
       "      <td>ap</td>\n",
       "      <td>[]</td>\n",
       "    </tr>\n",
       "    <tr>\n",
       "      <th>4</th>\n",
       "      <td>[{'tokens': ['He', 'casts', 'Trump', 'as', 'a'...</td>\n",
       "      <td>17365</td>\n",
       "      <td>4</td>\n",
       "      <td>2.0</td>\n",
       "      <td>1</td>\n",
       "      <td>0</td>\n",
       "      <td>ap</td>\n",
       "      <td>[election]</td>\n",
       "    </tr>\n",
       "    <tr>\n",
       "      <th>...</th>\n",
       "      <td>...</td>\n",
       "      <td>...</td>\n",
       "      <td>...</td>\n",
       "      <td>...</td>\n",
       "      <td>...</td>\n",
       "      <td>...</td>\n",
       "      <td>...</td>\n",
       "      <td>...</td>\n",
       "    </tr>\n",
       "    <tr>\n",
       "      <th>386041</th>\n",
       "      <td>[{'tokens': ['&lt;', '/p', '&gt;', '&lt;', 'p', '&gt;', 'M...</td>\n",
       "      <td>2615</td>\n",
       "      <td>7</td>\n",
       "      <td>57.0</td>\n",
       "      <td>1</td>\n",
       "      <td>0</td>\n",
       "      <td>ap</td>\n",
       "      <td>[]</td>\n",
       "    </tr>\n",
       "    <tr>\n",
       "      <th>386042</th>\n",
       "      <td>[{'tokens': ['His', 'parents', 'have', 'anothe...</td>\n",
       "      <td>2615</td>\n",
       "      <td>7</td>\n",
       "      <td>58.0</td>\n",
       "      <td>1</td>\n",
       "      <td>0</td>\n",
       "      <td>ap</td>\n",
       "      <td>[]</td>\n",
       "    </tr>\n",
       "    <tr>\n",
       "      <th>386043</th>\n",
       "      <td>[{'tokens': ['&lt;', '/p', '&gt;', '&lt;', 'p&gt;---&lt;/p', ...</td>\n",
       "      <td>2615</td>\n",
       "      <td>7</td>\n",
       "      <td>59.0</td>\n",
       "      <td>1</td>\n",
       "      <td>0</td>\n",
       "      <td>ap</td>\n",
       "      <td>[]</td>\n",
       "    </tr>\n",
       "    <tr>\n",
       "      <th>386044</th>\n",
       "      <td>[{'tokens': ['&lt;', 'p', '&gt;', 'BOSTON', '(', 'AP...</td>\n",
       "      <td>2985</td>\n",
       "      <td>0</td>\n",
       "      <td>0.0</td>\n",
       "      <td>1</td>\n",
       "      <td>0</td>\n",
       "      <td>ap</td>\n",
       "      <td>[trial]</td>\n",
       "    </tr>\n",
       "    <tr>\n",
       "      <th>386045</th>\n",
       "      <td>[{'tokens': ['&lt;', '/p', '&gt;', '&lt;', 'p', '&gt;', 'P...</td>\n",
       "      <td>2985</td>\n",
       "      <td>0</td>\n",
       "      <td>1.0</td>\n",
       "      <td>1</td>\n",
       "      <td>0</td>\n",
       "      <td>ap</td>\n",
       "      <td>[encounter, shot]</td>\n",
       "    </tr>\n",
       "  </tbody>\n",
       "</table>\n",
       "<p>386046 rows × 8 columns</p>\n",
       "</div>"
      ],
      "text/plain": [
       "                                                   events  entry_id  version  \\\n",
       "0       [{'tokens': ['<', '/p', '>', '<', 'p', '>', 'T...     19317        1   \n",
       "1       [{'tokens': ['<', '/p', '>', '<', 'p', '>', 'T...     19317        1   \n",
       "2       [{'tokens': ['<', '/p', '>', '<', 'p', '>', 'J...     19317        1   \n",
       "3       [{'tokens': ['<', '/p', '>', '<', 'p>___</p', ...     19317        1   \n",
       "4       [{'tokens': ['He', 'casts', 'Trump', 'as', 'a'...     17365        4   \n",
       "...                                                   ...       ...      ...   \n",
       "386041  [{'tokens': ['<', '/p', '>', '<', 'p', '>', 'M...      2615        7   \n",
       "386042  [{'tokens': ['His', 'parents', 'have', 'anothe...      2615        7   \n",
       "386043  [{'tokens': ['<', '/p', '>', '<', 'p>---</p', ...      2615        7   \n",
       "386044  [{'tokens': ['<', 'p', '>', 'BOSTON', '(', 'AP...      2985        0   \n",
       "386045  [{'tokens': ['<', '/p', '>', '<', 'p', '>', 'P...      2985        0   \n",
       "\n",
       "        sent_idx  is_deleted  is_added source    events_unrolled  \n",
       "0            8.0           0         1     ap                 []  \n",
       "1            9.0           0         1     ap                 []  \n",
       "2           10.0           0         1     ap                 []  \n",
       "3           13.0           0         1     ap                 []  \n",
       "4            2.0           1         0     ap         [election]  \n",
       "...          ...         ...       ...    ...                ...  \n",
       "386041      57.0           1         0     ap                 []  \n",
       "386042      58.0           1         0     ap                 []  \n",
       "386043      59.0           1         0     ap                 []  \n",
       "386044       0.0           1         0     ap            [trial]  \n",
       "386045       1.0           1         0     ap  [encounter, shot]  \n",
       "\n",
       "[386046 rows x 8 columns]"
      ]
     },
     "execution_count": 182,
     "metadata": {},
     "output_type": "execute_result"
    }
   ],
   "source": [
    "events_with_add_del"
   ]
  },
  {
   "cell_type": "code",
   "execution_count": 165,
   "metadata": {},
   "outputs": [],
   "source": [
    "events_non_edited_sents_df= (\n",
    "    events_non_edited_sents\n",
    "    .to_frame('events')\n",
    "    .assign(events_unrolled=lambda df: df['events'].apply(unroll_events))\n",
    ")"
   ]
  },
  {
   "cell_type": "code",
   "execution_count": 183,
   "metadata": {},
   "outputs": [
    {
     "data": {
      "text/plain": [
       "False    0.614628\n",
       "True     0.385372\n",
       "Name: events_unrolled, dtype: float64"
      ]
     },
     "execution_count": 183,
     "metadata": {},
     "output_type": "execute_result"
    }
   ],
   "source": [
    "(events_with_add_del\n",
    " .loc[lambda df: df['is_added'] == 1]\n",
    " ['events_unrolled']\n",
    " .str.len()\n",
    " .pipe(lambda s: s>0)\n",
    " .value_counts()\n",
    " .pipe(lambda s: s/s.sum())\n",
    ")"
   ]
  },
  {
   "cell_type": "code",
   "execution_count": 184,
   "metadata": {},
   "outputs": [
    {
     "data": {
      "text/plain": [
       "False    0.606982\n",
       "True     0.393018\n",
       "Name: events_unrolled, dtype: float64"
      ]
     },
     "execution_count": 184,
     "metadata": {},
     "output_type": "execute_result"
    }
   ],
   "source": [
    "(events_with_add_del\n",
    " .loc[lambda df: df['is_deleted'] == 1]\n",
    " ['events_unrolled']\n",
    " .str.len()\n",
    " .pipe(lambda s: s>0)\n",
    " .value_counts()\n",
    " .pipe(lambda s: s/s.sum())\n",
    ")"
   ]
  },
  {
   "cell_type": "code",
   "execution_count": 178,
   "metadata": {},
   "outputs": [
    {
     "data": {
      "text/plain": [
       "False    0.685718\n",
       "True     0.314282\n",
       "Name: events_unrolled, dtype: float64"
      ]
     },
     "execution_count": 178,
     "metadata": {},
     "output_type": "execute_result"
    }
   ],
   "source": [
    "(events_non_edited_sents_df['events_unrolled']\n",
    " .str.len()\n",
    " .pipe(lambda s: s> 0)\n",
    " .value_counts()\n",
    " .pipe(lambda s: s/s.sum())\n",
    ")"
   ]
  },
  {
   "cell_type": "code",
   "execution_count": null,
   "metadata": {},
   "outputs": [],
   "source": []
  },
  {
   "cell_type": "code",
   "execution_count": null,
   "metadata": {},
   "outputs": [],
   "source": [
    "pd.DataFrame({'Events Added': ''})"
   ]
  },
  {
   "cell_type": "code",
   "execution_count": null,
   "metadata": {},
   "outputs": [],
   "source": []
  },
  {
   "cell_type": "code",
   "execution_count": null,
   "metadata": {},
   "outputs": [],
   "source": []
  },
  {
   "cell_type": "code",
   "execution_count": null,
   "metadata": {},
   "outputs": [],
   "source": []
  },
  {
   "cell_type": "code",
   "execution_count": null,
   "metadata": {},
   "outputs": [],
   "source": []
  },
  {
   "cell_type": "code",
   "execution_count": null,
   "metadata": {},
   "outputs": [],
   "source": []
  },
  {
   "cell_type": "code",
   "execution_count": null,
   "metadata": {},
   "outputs": [],
   "source": []
  },
  {
   "cell_type": "code",
   "execution_count": null,
   "metadata": {},
   "outputs": [],
   "source": []
  },
  {
   "cell_type": "code",
   "execution_count": null,
   "metadata": {},
   "outputs": [],
   "source": []
  },
  {
   "cell_type": "code",
   "execution_count": null,
   "metadata": {},
   "outputs": [],
   "source": []
  },
  {
   "cell_type": "code",
   "execution_count": null,
   "metadata": {},
   "outputs": [],
   "source": []
  },
  {
   "cell_type": "code",
   "execution_count": null,
   "metadata": {},
   "outputs": [],
   "source": []
  },
  {
   "cell_type": "code",
   "execution_count": null,
   "metadata": {},
   "outputs": [],
   "source": []
  },
  {
   "cell_type": "code",
   "execution_count": null,
   "metadata": {},
   "outputs": [],
   "source": []
  },
  {
   "cell_type": "code",
   "execution_count": null,
   "metadata": {},
   "outputs": [],
   "source": []
  },
  {
   "cell_type": "code",
   "execution_count": null,
   "metadata": {},
   "outputs": [],
   "source": []
  },
  {
   "cell_type": "code",
   "execution_count": null,
   "metadata": {},
   "outputs": [],
   "source": []
  },
  {
   "cell_type": "code",
   "execution_count": null,
   "metadata": {},
   "outputs": [],
   "source": []
  },
  {
   "cell_type": "code",
   "execution_count": null,
   "metadata": {},
   "outputs": [],
   "source": []
  },
  {
   "cell_type": "code",
   "execution_count": null,
   "metadata": {},
   "outputs": [],
   "source": []
  },
  {
   "cell_type": "code",
   "execution_count": null,
   "metadata": {},
   "outputs": [],
   "source": []
  },
  {
   "cell_type": "code",
   "execution_count": null,
   "metadata": {},
   "outputs": [],
   "source": []
  },
  {
   "cell_type": "code",
   "execution_count": null,
   "metadata": {},
   "outputs": [],
   "source": []
  },
  {
   "cell_type": "code",
   "execution_count": 12,
   "metadata": {},
   "outputs": [
    {
     "data": {
      "text/html": [
       "<div>\n",
       "<style scoped>\n",
       "    .dataframe tbody tr th:only-of-type {\n",
       "        vertical-align: middle;\n",
       "    }\n",
       "\n",
       "    .dataframe tbody tr th {\n",
       "        vertical-align: top;\n",
       "    }\n",
       "\n",
       "    .dataframe thead th {\n",
       "        text-align: right;\n",
       "    }\n",
       "</style>\n",
       "<table border=\"1\" class=\"dataframe\">\n",
       "  <thead>\n",
       "    <tr style=\"text-align: right;\">\n",
       "      <th></th>\n",
       "      <th>0</th>\n",
       "      <th>1</th>\n",
       "      <th>2</th>\n",
       "      <th>3</th>\n",
       "    </tr>\n",
       "  </thead>\n",
       "  <tbody>\n",
       "    <tr>\n",
       "      <th>0</th>\n",
       "      <td>Main</td>\n",
       "      <td>Mortgage Investors Corp., the beleaguered home...</td>\n",
       "      <td>../data/Discourse_Profiling/data/test/kbp/NYT_...</td>\n",
       "      <td>1</td>\n",
       "    </tr>\n",
       "    <tr>\n",
       "      <th>1</th>\n",
       "      <td>Distant</td>\n",
       "      <td>''We had to pull in our wings, (but) my plans ...</td>\n",
       "      <td>../data/Discourse_Profiling/data/test/kbp/NYT_...</td>\n",
       "      <td>2</td>\n",
       "    </tr>\n",
       "    <tr>\n",
       "      <th>2</th>\n",
       "      <td>Cause</td>\n",
       "      <td>The company has been hammered with complaints ...</td>\n",
       "      <td>../data/Discourse_Profiling/data/test/kbp/NYT_...</td>\n",
       "      <td>3</td>\n",
       "    </tr>\n",
       "    <tr>\n",
       "      <th>3</th>\n",
       "      <td>Distant</td>\n",
       "      <td>But Edwards, 68, flatly rejected allegations o...</td>\n",
       "      <td>../data/Discourse_Profiling/data/test/kbp/NYT_...</td>\n",
       "      <td>4</td>\n",
       "    </tr>\n",
       "    <tr>\n",
       "      <th>4</th>\n",
       "      <td>Distant</td>\n",
       "      <td>It’s the same issue, he said, that has trigger...</td>\n",
       "      <td>../data/Discourse_Profiling/data/test/kbp/NYT_...</td>\n",
       "      <td>5</td>\n",
       "    </tr>\n",
       "    <tr>\n",
       "      <th>...</th>\n",
       "      <td>...</td>\n",
       "      <td>...</td>\n",
       "      <td>...</td>\n",
       "      <td>...</td>\n",
       "    </tr>\n",
       "    <tr>\n",
       "      <th>17926</th>\n",
       "      <td>Distant</td>\n",
       "      <td>Ms. Miers has worked with Mr. Bush since his d...</td>\n",
       "      <td>../data/Discourse_Profiling/data/validation/ny...</td>\n",
       "      <td>19</td>\n",
       "    </tr>\n",
       "    <tr>\n",
       "      <th>17927</th>\n",
       "      <td>Distant</td>\n",
       "      <td>Ms. Miers started at the White House as staff ...</td>\n",
       "      <td>../data/Discourse_Profiling/data/validation/ny...</td>\n",
       "      <td>20</td>\n",
       "    </tr>\n",
       "    <tr>\n",
       "      <th>17928</th>\n",
       "      <td>Distant</td>\n",
       "      <td>Mr. Bush's decision to nominate her to the Sup...</td>\n",
       "      <td>../data/Discourse_Profiling/data/validation/ny...</td>\n",
       "      <td>21</td>\n",
       "    </tr>\n",
       "    <tr>\n",
       "      <th>17929</th>\n",
       "      <td>Distant</td>\n",
       "      <td>She withdrew her name from consideration but r...</td>\n",
       "      <td>../data/Discourse_Profiling/data/validation/ny...</td>\n",
       "      <td>22</td>\n",
       "    </tr>\n",
       "    <tr>\n",
       "      <th>17930</th>\n",
       "      <td>Distant</td>\n",
       "      <td>In her resignation letter, Ms. Miers said her ...</td>\n",
       "      <td>../data/Discourse_Profiling/data/validation/ny...</td>\n",
       "      <td>23</td>\n",
       "    </tr>\n",
       "  </tbody>\n",
       "</table>\n",
       "<p>17931 rows × 4 columns</p>\n",
       "</div>"
      ],
      "text/plain": [
       "             0                                                  1  \\\n",
       "0         Main  Mortgage Investors Corp., the beleaguered home...   \n",
       "1      Distant  ''We had to pull in our wings, (but) my plans ...   \n",
       "2        Cause  The company has been hammered with complaints ...   \n",
       "3      Distant  But Edwards, 68, flatly rejected allegations o...   \n",
       "4      Distant  It’s the same issue, he said, that has trigger...   \n",
       "...        ...                                                ...   \n",
       "17926  Distant  Ms. Miers has worked with Mr. Bush since his d...   \n",
       "17927  Distant  Ms. Miers started at the White House as staff ...   \n",
       "17928  Distant  Mr. Bush's decision to nominate her to the Sup...   \n",
       "17929  Distant  She withdrew her name from consideration but r...   \n",
       "17930  Distant  In her resignation letter, Ms. Miers said her ...   \n",
       "\n",
       "                                                       2   3  \n",
       "0      ../data/Discourse_Profiling/data/test/kbp/NYT_...   1  \n",
       "1      ../data/Discourse_Profiling/data/test/kbp/NYT_...   2  \n",
       "2      ../data/Discourse_Profiling/data/test/kbp/NYT_...   3  \n",
       "3      ../data/Discourse_Profiling/data/test/kbp/NYT_...   4  \n",
       "4      ../data/Discourse_Profiling/data/test/kbp/NYT_...   5  \n",
       "...                                                  ...  ..  \n",
       "17926  ../data/Discourse_Profiling/data/validation/ny...  19  \n",
       "17927  ../data/Discourse_Profiling/data/validation/ny...  20  \n",
       "17928  ../data/Discourse_Profiling/data/validation/ny...  21  \n",
       "17929  ../data/Discourse_Profiling/data/validation/ny...  22  \n",
       "17930  ../data/Discourse_Profiling/data/validation/ny...  23  \n",
       "\n",
       "[17931 rows x 4 columns]"
      ]
     },
     "execution_count": 12,
     "metadata": {},
     "output_type": "execute_result"
    }
   ],
   "source": [
    "import pandas as pd \n",
    "pd.read_csv('../../controlled-sequence-gen/data/news-discourse-high-level-labels-processed.tsv', sep='\\t', header=None)"
   ]
  },
  {
   "cell_type": "code",
   "execution_count": 210,
   "metadata": {},
   "outputs": [],
   "source": [
    "training_df = pd.read_csv('../modeling/data/training_data_short_15__sampled_50000.csv')"
   ]
  },
  {
   "cell_type": "code",
   "execution_count": 219,
   "metadata": {},
   "outputs": [],
   "source": [
    "WRITE = False"
   ]
  },
  {
   "cell_type": "code",
   "execution_count": 221,
   "metadata": {},
   "outputs": [],
   "source": [
    "op_label_col = training_df[['deleted_label', 'edited_label', 'unchanged_label']].idxmax(axis=1)\n",
    "text_col = training_df['sentence']\n",
    "doc_id_col = training_df[['source', 'entry_id', 'version']].apply(lambda x: '%s-%s-%s' % (x[0], x[1], x[2]), axis=1)\n",
    "sent_id_col = training_df['sent_idx'].astype(int)\n",
    "\n",
    "if WRITE:\n",
    "    pd.concat([\n",
    "        op_label_col,\n",
    "        text_col,\n",
    "        doc_id_col,\n",
    "        sent_id_col,\n",
    "    ], axis=1).to_csv(\n",
    "        '../../controlled-sequence-gen/data/sentence-edits__operation-labels.tsv', \n",
    "        index=False,\n",
    "        header=False,\n",
    "        sep='\\t'\n",
    "    )"
   ]
  },
  {
   "cell_type": "code",
   "execution_count": 222,
   "metadata": {},
   "outputs": [],
   "source": [
    "def get_refactor_label(x):\n",
    "    if x == 0:\n",
    "        return 'refactor_unchanged'\n",
    "    if x > 0:\n",
    "        return 'refactor_up'\n",
    "    if x < 0:\n",
    "        return 'refactor_down'"
   ]
  },
  {
   "cell_type": "code",
   "execution_count": 223,
   "metadata": {},
   "outputs": [],
   "source": [
    "ref_label_col = training_df['refactored_label'].apply(get_refactor_label)\n",
    "text_col = training_df['sentence']\n",
    "doc_id_col = training_df[['source', 'entry_id', 'version']].apply(lambda x: '%s-%s-%s' % (x[0], x[1], x[2]), axis=1)\n",
    "sent_id_col = training_df['sent_idx'].astype(int)\n",
    "\n",
    "if WRITE:\n",
    "    pd.concat([\n",
    "        ref_label_col,\n",
    "        text_col,\n",
    "        doc_id_col,\n",
    "        sent_id_col,\n",
    "    ], axis=1).to_csv(\n",
    "        '../../controlled-sequence-gen/data/sentence-edits__refactor-labels.tsv', \n",
    "        index=False,\n",
    "        header=False,\n",
    "        sep='\\t'\n",
    "    )"
   ]
  },
  {
   "cell_type": "code",
   "execution_count": 224,
   "metadata": {},
   "outputs": [],
   "source": [
    "add_label_col = (training_df\n",
    " [['add_above_label', 'add_below_label']]\n",
    " .pipe(lambda df: df>0)\n",
    " .assign(add_above_label=lambda df: df['add_above_label'].apply(lambda x: 'add_above' if x else ''))\n",
    " .assign(add_below_label=lambda df: df['add_below_label'].apply(lambda x: 'add_below' if x else ''))\n",
    " .sum(axis=1)\n",
    " .replace({'add_aboveadd_below': 'add_above', '':'unchanged'})\n",
    " .replace('{}')\n",
    ")\n",
    "\n",
    "text_col = training_df['sentence']\n",
    "doc_id_col = training_df[['source', 'entry_id', 'version']].apply(lambda x: '%s-%s-%s' % (x[0], x[1], x[2]), axis=1)\n",
    "sent_id_col = training_df['sent_idx'].astype(int)\n",
    "\n",
    "if WRITE:\n",
    "    pd.concat([\n",
    "        add_label_col,\n",
    "        text_col,\n",
    "        doc_id_col,\n",
    "        sent_id_col,\n",
    "    ], axis=1).to_csv(\n",
    "        '../../controlled-sequence-gen/data/sentence-edits__add-labels.tsv', \n",
    "        index=False,\n",
    "        header=False,\n",
    "        sep='\\t'\n",
    "    )"
   ]
  },
  {
   "cell_type": "code",
   "execution_count": 233,
   "metadata": {
    "scrolled": true
   },
   "outputs": [],
   "source": [
    "mt_label_col = ref_label_col + \"|||\" + add_label_col + \"|||\" + op_label_col\n",
    "text_col = training_df['sentence']\n",
    "doc_id_col = training_df[['source', 'entry_id', 'version']].apply(lambda x: '%s-%s-%s' % (x[0], x[1], x[2]), axis=1)\n",
    "sent_id_col = training_df['sent_idx'].astype(int)\n",
    "WRITE = True\n",
    "\n",
    "if WRITE:\n",
    "    pd.concat([\n",
    "        mt_label_col,\n",
    "        text_col,\n",
    "        doc_id_col,\n",
    "        sent_id_col,\n",
    "    ], axis=1).to_csv(\n",
    "        '../../controlled-sequence-gen/data/sentence-edits__multitask.tsv', \n",
    "        index=False,\n",
    "        header=False,\n",
    "        sep='\\t'\n",
    "    )"
   ]
  },
  {
   "cell_type": "code",
   "execution_count": null,
   "metadata": {},
   "outputs": [],
   "source": []
  },
  {
   "cell_type": "code",
   "execution_count": null,
   "metadata": {},
   "outputs": [],
   "source": []
  }
 ],
 "metadata": {
  "hide_input": false,
  "kernelspec": {
   "display_name": "Python 3",
   "language": "python",
   "name": "python3"
  },
  "language_info": {
   "codemirror_mode": {
    "name": "ipython",
    "version": 3
   },
   "file_extension": ".py",
   "mimetype": "text/x-python",
   "name": "python",
   "nbconvert_exporter": "python",
   "pygments_lexer": "ipython3",
   "version": "3.7.6"
  }
 },
 "nbformat": 4,
 "nbformat_minor": 4
}
