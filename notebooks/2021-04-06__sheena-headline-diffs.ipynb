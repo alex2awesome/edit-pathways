{
 "cells": [
  {
   "cell_type": "code",
   "execution_count": 1,
   "metadata": {},
   "outputs": [],
   "source": [
    "import sqlite3\n",
    "import pandas as pd \n",
    "from tqdm.auto import tqdm\n",
    "from IPython.display import display, HTML\n",
    "import re\n",
    "import datetime\n",
    "import glob\n",
    "import numpy as np\n",
    "import seaborn as sns\n",
    "import matplotlib.pyplot as plt\n",
    "import os\n",
    "import json "
   ]
  },
  {
   "cell_type": "markdown",
   "metadata": {},
   "source": [
    "# Visualize HTML Data"
   ]
  },
  {
   "cell_type": "code",
   "execution_count": 226,
   "metadata": {},
   "outputs": [],
   "source": [
    "# ## leave the same\n",
    "if os.path.exists('../data/tr-story'):\n",
    "    dp_path = '../data/sheena-sample/sample-nyt-processed.pkl'\n",
    "else:\n",
    "    dp_path = 'sample-nyt-processed.pkl'\n",
    "processed_diffs_df = pd.read_pickle(dp_path)"
   ]
  },
  {
   "cell_type": "code",
   "execution_count": 234,
   "metadata": {},
   "outputs": [
    {
     "data": {
      "text/html": [
       "<div>\n",
       "<style scoped>\n",
       "    .dataframe tbody tr th:only-of-type {\n",
       "        vertical-align: middle;\n",
       "    }\n",
       "\n",
       "    .dataframe tbody tr th {\n",
       "        vertical-align: top;\n",
       "    }\n",
       "\n",
       "    .dataframe thead th {\n",
       "        text-align: right;\n",
       "    }\n",
       "</style>\n",
       "<table border=\"1\" class=\"dataframe\">\n",
       "  <thead>\n",
       "    <tr style=\"text-align: right;\">\n",
       "      <th></th>\n",
       "      <th>source</th>\n",
       "      <th>a_id</th>\n",
       "      <th>version_old</th>\n",
       "      <th>version_new</th>\n",
       "      <th>created_old</th>\n",
       "      <th>created_new</th>\n",
       "      <th>archive_url_old</th>\n",
       "      <th>archive_url_new</th>\n",
       "      <th>title_comp_html</th>\n",
       "      <th>article_comp_html</th>\n",
       "    </tr>\n",
       "  </thead>\n",
       "  <tbody>\n",
       "    <tr>\n",
       "      <th>0</th>\n",
       "      <td>nyt</td>\n",
       "      <td>547988</td>\n",
       "      <td>0</td>\n",
       "      <td>1</td>\n",
       "      <td>2012-08-26 22:55:00+00:00</td>\n",
       "      <td>2012-08-27 02:55:00+00:00</td>\n",
       "      <td>https://www.newssniffer.co.uk/articles/547988/...</td>\n",
       "      <td>https://www.newssniffer.co.uk/articles/547988/...</td>\n",
       "      <td>&lt;h3&gt;Headline&lt;/h3&gt;\\n                           ...</td>\n",
       "      <td>&lt;table&gt;\\n&lt;tr&gt;&lt;th&gt;s id&lt;/th&gt;&lt;th&gt;Old Version&lt;/th&gt;...</td>\n",
       "    </tr>\n",
       "  </tbody>\n",
       "</table>\n",
       "</div>"
      ],
      "text/plain": [
       "  source    a_id version_old version_new                created_old  \\\n",
       "0    nyt  547988           0           1  2012-08-26 22:55:00+00:00   \n",
       "\n",
       "                 created_new  \\\n",
       "0  2012-08-27 02:55:00+00:00   \n",
       "\n",
       "                                     archive_url_old  \\\n",
       "0  https://www.newssniffer.co.uk/articles/547988/...   \n",
       "\n",
       "                                     archive_url_new  \\\n",
       "0  https://www.newssniffer.co.uk/articles/547988/...   \n",
       "\n",
       "                                     title_comp_html  \\\n",
       "0  <h3>Headline</h3>\\n                           ...   \n",
       "\n",
       "                                   article_comp_html  \n",
       "0  <table>\\n<tr><th>s id</th><th>Old Version</th>...  "
      ]
     },
     "execution_count": 234,
     "metadata": {},
     "output_type": "execute_result"
    }
   ],
   "source": [
    "processed_diffs_df.head(1)"
   ]
  },
  {
   "cell_type": "code",
   "execution_count": 238,
   "metadata": {},
   "outputs": [
    {
     "data": {
      "text/plain": [
       "'547988'"
      ]
     },
     "execution_count": 238,
     "metadata": {},
     "output_type": "execute_result"
    }
   ],
   "source": [
    "processed_diffs_df['a_id'].iloc[0]"
   ]
  },
  {
   "cell_type": "code",
   "execution_count": 242,
   "metadata": {
    "scrolled": true
   },
   "outputs": [
    {
     "name": "stdout",
     "output_type": "stream",
     "text": [
      "source: nyt\n",
      "article id: 554965\n",
      "old version num: 1\n",
      "new version num: 2\n",
      "old date created: 2012-09-15 13:30:00+00:00\n",
      "new date created: 2012-09-15 16:25:00+00:00\n"
     ]
    },
    {
     "data": {
      "text/html": [
       "<h3>Headline</h3>\n",
       "                              <table>\n",
       "                                  <tr><th>Old Version</th><th>New Version</th></tr>\n",
       "                                  <tr><td><span style=\"background-color:rgba(255,0,0,0.3)\">Anti</span> <span style=\"background-color:rgba(255,0,0,0.3)\">-</span>          Putin <span style=\"background-color:rgba(255,0,0,0.3)\">Protesters</span> <span style=\"background-color:rgba(255,0,0,0.3)\">March</span> <span style=\"background-color:rgba(255,0,0,0.3)\">in</span> <span style=\"background-color:rgba(255,0,0,0.3)\">Moscow</span></td><td>  <span style=\"background-color:rgba(0,255,0,0.3)\">Undaunted </span> <span style=\"background-color:rgba(0,255,0,0.3)\">by </span> <span style=\"background-color:rgba(0,255,0,0.3)\">Arrests </span> <span style=\"background-color:rgba(0,255,0,0.3)\">and </span> <span style=\"background-color:rgba(0,255,0,0.3)\">Sanctions </span> <span style=\"background-color:rgba(0,255,0,0.3)\">, </span> <span style=\"background-color:rgba(0,255,0,0.3)\">Opposition </span> <span style=\"background-color:rgba(0,255,0,0.3)\">Marches </span> <span style=\"background-color:rgba(0,255,0,0.3)\">Against </span> Putin    </td></tr>\n",
       "                              </table>\n",
       "        "
      ],
      "text/plain": [
       "<IPython.core.display.HTML object>"
      ]
     },
     "metadata": {},
     "output_type": "display_data"
    },
    {
     "data": {
      "text/html": [
       "<h3>Article Body</h3>"
      ],
      "text/plain": [
       "<IPython.core.display.HTML object>"
      ]
     },
     "metadata": {},
     "output_type": "display_data"
    },
    {
     "data": {
      "text/html": [
       "<table>\n",
       "<tr><th>s id</th><th>Old Version</th><th>New Version</th></tr>\n",
       "<tr><td>0</td><td style=\"background-color:rgba(255,0,0,0.3)\">MOSCOW—Russia’s opposition movement took to the streets on Saturday for another anti-Putin demonstration, hoping to show that its ranks were undaunted by a battery of government restrictions or the two-year prison sentences handed down last month to members of the punk rock band Pussy Riot.</td><td></td></tr>\n",
       "<tr><td>1</td><td style=\"background-color:rgba(255,0,0,0.3)\">In the three months since the last demonstration, the government has taken several steps to rein in street protests with measures that are far more punitive than it has embraced since Vladimir V. Putin first became president.</td><td></td></tr>\n",
       "<tr><td>2</td><td style=\"background-color:rgba(255,0,0,0.3)\">The most notable is the use of criminal courts and investigations as a lever against members of the political opposition, a step that Mr. Putin had avoided for many years.</td><td></td></tr>\n",
       "<tr><td>3</td><td style=\"background-color:rgba(255,0,0,0.3)\">There was an intense police presence on Saturday and a sense of risk hung over the march.</td><td></td></tr>\n",
       "<tr><td>4</td><td style=\"background-color:rgba(255,0,0,0.3)\">The police estimated the size of the crowd at 14,000, though organizers put the number far higher, in the tens of thousands.</td><td></td></tr>\n",
       "<tr><td>5</td><td></td><td style=\"background-color:rgba(0,255,0,0.3)\">This protest, like the ones that first jolted the Kremlin nine months ago, featured mockery of President Vladimir V. Putin — largely sendups of a recent stunt in which Mr. Putin flew in a hang glider at the head of a flock of cranes.</td></tr>\n",
       "<tr><td>6</td><td></td><td style=\"background-color:rgba(0,255,0,0.3)\">The trademark neon balaclavas of Pussy Riot, whose members were prosecuted for singing an anti-Putin song in a cathedral, appeared on buttons and balloons and, in a basket carried by one marcher, on three disembodied mannequin heads.</td></tr>\n",
       "<tr><td>7</td><td></td><td style=\"background-color:rgba(0,255,0,0.3)\">The police estimated the crowd at 14,000, roughly the same figure they offered after a similar protest in June.</td></tr>\n",
       "<tr><td>8</td><td></td><td style=\"background-color:rgba(0,255,0,0.3)\">Organizers’ estimates were much larger.</td></tr>\n",
       "<tr><td>9</td><td></td><td style=\"background-color:rgba(0,255,0,0.3)\">No arrests were reported, and there was no repeat of chaotic clashes with the police that occurred at a protest in May.</td></tr>\n",
       "<tr><td>10</td><td></td><td style=\"background-color:rgba(0,255,0,0.3)\">During the three-month gap since the last such demonstration, the government has taken aggressive steps to rein in such protests, most notably the use of criminal courts and investigations as a lever against leaders of the opposition, a path that Mr. Putin had for many years avoided.</td></tr>\n",
       "<tr><td>11</td><td></td><td style=\"background-color:rgba(0,255,0,0.3)\">“Today the authorities have set on a repressive course,” said Gennadi V. Gudkov, a four-term member of Parliament who was stripped of his seat on Friday in an unusual step seen as retribution for his participation in protests.</td></tr>\n",
       "<tr><td>12</td><td></td><td style=\"background-color:rgba(0,255,0,0.3)\">“But they have forgotten that they have to deal with the people.</td></tr>\n",
       "<tr><td>13</td><td></td><td style=\"background-color:rgba(0,255,0,0.3)\">And we will not allow our country to be turned into a gulag led by a kingpin who has frightened the whole country, frightened millions of his own citizens.”</td></tr>\n",
       "<tr><td>14</td><td></td><td style=\"background-color:rgba(0,255,0,0.3)\">Officials from United Russia, the governing party, said Saturday’s turnout showed that the “White Ribbons” have irreconcilable political agendas, with one lawmaker commenting that “all that brings them together is hatred for the current system.”</td></tr>\n",
       "<tr><td>15</td><td></td><td style=\"background-color:rgba(0,255,0,0.3)\">Taking the podium at the end of a march through central Moscow, leaders spoke of the need for resolve, nine months into a protest movement that began euphorically.</td></tr>\n",
       "<tr><td>16</td><td></td><td style=\"background-color:rgba(0,255,0,0.3)\">“I often hear — what, are we going to go to meetings as if we’re going to work?” said Aleksei Navalny, the charismatic blogger whose appeal in December helped spark the first large anti-Putin demonstration.</td></tr>\n",
       "<tr><td>17</td><td></td><td style=\"background-color:rgba(0,255,0,0.3)\">“Yes, we will go.</td></tr>\n",
       "<tr><td>18</td><td></td><td style=\"background-color:rgba(0,255,0,0.3)\">We go to work, to provide for our families — and we should go to meetings to supply freedom to ourselves and to our children, to defend our human dignity.</td></tr>\n",
       "<tr><td>19</td><td></td><td style=\"background-color:rgba(0,255,0,0.3)\">We will go as if we are going to work.</td></tr>\n",
       "<tr><td>20</td><td></td><td style=\"background-color:rgba(0,255,0,0.3)\">This should be part of our lives.”</td></tr>\n",
       "<tr><td>21</td><td></td><td style=\"background-color:rgba(0,255,0,0.3)\">One notable change in this protest was the presence of communists; besides the white ribbons, associated with a liberal agenda, there were many red ribbons among the crowd, and one marcher noted with puzzlement a shout of “Death to the Bourgeoisie!”</td></tr>\n",
       "<tr><td>22</td><td></td><td style=\"background-color:rgba(0,255,0,0.3)\">Indeed, organizers shaping the march’s platform this week added numerous planks like support for trade unions and caps on utility payments, seemingly to attract support from the left — a vast political force in a population much battered by its emergence into capitalism more than 20 years ago.</td></tr>\n",
       "<tr><td>23</td><td></td><td style=\"background-color:rgba(0,255,0,0.3)\">Though Russia’s Communist Party has kept a distance from the protest movement, one official noted the shift approvingly via the party’s Twitter feed.</td></tr>\n",
       "<tr><td>24</td><td></td><td style=\"background-color:rgba(0,255,0,0.3)\">“Today’s ‘March of Millions,’ in contrast to previous ones, has turned noticeably red,” it said.</td></tr>\n",
       "<tr><td>25</td><td></td><td style=\"background-color:rgba(0,255,0,0.3)\">Aleksei Tyorkin was marching along with other members of the Communist Party’s Moscow branch, and said he had come to show that “not everyone who is opposed to what is happening in the country is part of the white” movement, dominated by liberal activists.</td></tr>\n",
       "<tr><td>26</td><td></td><td style=\"background-color:rgba(0,255,0,0.3)\">“This is a red protest, too, that fights for justice, that fights against one group of people exploiting another,” said Mr. Tyorkin, a teacher who said he worked in construction to make ends meet.</td></tr>\n",
       "<tr><td>27</td><td></td><td style=\"background-color:rgba(0,255,0,0.3)\">MOSCOW—Russia’s opposition movement drew tens of thousands to another large anti-Putin demonstration on Saturday, sending the message that its ranks are undaunted by a battery of new government sanctions and the two-year prison sentences handed down last month to the punk-rockers of Pussy Riot. “</td></tr>\n",
       "<tr><td>28</td><td></td><td style=\"background-color:rgba(0,255,0,0.3)\">We are against bureaucrats owning a Lexus when that Lexus costs the same as a new house for a homeless family.”</td></tr>\n",
       "<tr><td>29</td><td></td><td style=\"background-color:rgba(0,255,0,0.3)\">There is little doubt that the risks of participating in the protests are climbing.</td></tr>\n",
       "<tr><td>30</td><td></td><td style=\"background-color:rgba(0,255,0,0.3)\">Sixteen people have been charged with hooliganism, a charge that could bring a prison sentence of up to 10 years, for participating in a similar event in May that ended in a chaotic melee with police.</td></tr>\n",
       "<tr><td>31</td><td></td><td style=\"background-color:rgba(0,255,0,0.3)\">At the protest, someone had cut out sixteen forms of human bodies and spray-painted them with the defendants’ names.</td></tr>\n",
       "<tr><td>32</td><td></td><td style=\"background-color:rgba(0,255,0,0.3)\">Mr. Navalny urged the crowd not to forget about them.</td></tr>\n",
       "<tr><td>33</td><td></td><td style=\"background-color:rgba(0,255,0,0.3)\">“These people sit in jail in the name of our right to gather here,” he said.</td></tr>\n",
       "<tr><td>34</td><td></td><td style=\"background-color:rgba(0,255,0,0.3)\">“They are hostages, seized to ensure we don’t gather anymore.</td></tr>\n",
       "<tr><td>35</td><td></td><td style=\"background-color:rgba(0,255,0,0.3)\">Let them know that while they are in prison, we are not free.”</td></tr>\n",
       "<tr><td>36</td><td></td><td style=\"background-color:rgba(0,255,0,0.3)\">As he marched on Saturday, Mr. Gudkov’s son, Dmitri, who also holds a seat in Parliament, said the government had made a strategic error by using law enforcement and the courts to rein in the opposition movement, because the public would reject those tactics.</td></tr>\n",
       "<tr><td>37</td><td></td><td style=\"background-color:rgba(0,255,0,0.3)\">In the crowd, several people acknowledged that danger had become a restraining factor.</td></tr>\n",
       "<tr><td>38</td><td>“I think it is dangerous — with this government, you don’t know what to expect, you can expect anything,” said Rustam F. Bilalov, 37, a computer programmer.</td><td>“I think it is dangerous — with this government, you don’t know what to expect, you can expect anything,” said Rustam F. Bilalov, 37, a computer programmer.</td></tr>\n",
       "<tr><td>39</td><td>“If they can open a fictitious case against a famous person, ordinary people like us are entirely defenseless.”</td><td>“If they can open a fictitious case against a famous person, ordinary people like us are entirely defenseless.”</td></tr>\n",
       "<tr><td>40</td><td style=\"background-color:rgba(255,0,0,0.3)\">Sergei Kukharenko , a former paratrooper , said many acquaintances decided not      march because they were      “  all terrified for their own careers . ”</td><td style=\"background-color:rgba(0,255,0,0.3)\">Sergei Kukharenko , a former paratrooper , said many acquaintances decided not <span style=\"background-color:rgba(0,255,0,0.3)\">to </span> <span style=\"background-color:rgba(0,255,0,0.3)\">take </span> <span style=\"background-color:rgba(0,255,0,0.3)\">part </span> <span style=\"background-color:rgba(0,255,0,0.3)\">in </span> <span style=\"background-color:rgba(0,255,0,0.3)\">this </span> march because they were <span style=\"background-color:rgba(0,255,0,0.3)\">still </span> <span style=\"background-color:rgba(0,255,0,0.3)\">active </span> <span style=\"background-color:rgba(0,255,0,0.3)\">servicemen </span> <span style=\"background-color:rgba(0,255,0,0.3)\">and </span> <span style=\"background-color:rgba(0,255,0,0.3)\">they </span> “ <span style=\"background-color:rgba(0,255,0,0.3)\">are </span> all terrified for their own careers . ”</td></tr>\n",
       "<tr><td>41</td><td style=\"background-color:rgba(255,0,0,0.3)\">“ People are scared ,      so now there are fewer of us <span style=\"background-color:rgba(255,0,0,0.3)\">,</span>  ” <span style=\"background-color:rgba(255,0,0,0.3)\">Mr.</span> <span style=\"background-color:rgba(255,0,0,0.3)\">Kukharenko</span> <span style=\"background-color:rgba(255,0,0,0.3)\">said</span> <span style=\"background-color:rgba(255,0,0,0.3)\">.</span></td><td style=\"background-color:rgba(0,255,0,0.3)\">“ People are scared , <span style=\"background-color:rgba(0,255,0,0.3)\">” </span> <span style=\"background-color:rgba(0,255,0,0.3)\">he </span> <span style=\"background-color:rgba(0,255,0,0.3)\">said </span> <span style=\"background-color:rgba(0,255,0,0.3)\">, </span> <span style=\"background-color:rgba(0,255,0,0.3)\">“ </span> so now there are fewer of us  <span style=\"background-color:rgba(0,255,0,0.3)\">. </span> ”    </td></tr>\n",
       "<tr><td>42</td><td style=\"background-color:rgba(255,0,0,0.3)\">There were sight gags and irreverent posters, many of them mocking a recent stunt in which Mr. Putin flew a hang-glider at the head of a flock of cranes, hoping to lead them toward their wintering ground.</td><td></td></tr>\n",
       "<tr><td>43</td><td style=\"background-color:rgba(255,0,0,0.3)\">Some marchers wore beaks.</td><td></td></tr>\n",
       "<tr><td>44</td><td style=\"background-color:rgba(255,0,0,0.3)\">A poster showed Mr. Putin leading a group of penguins onto an ice floe, with a caption that read, “I don’t want to rule, I just want a beak!”</td><td></td></tr>\n",
       "<tr><td>45</td><td style=\"background-color:rgba(255,0,0,0.3)\">One activist carried a basket containing three plastic heads wearing neon balaclavas, a tribute to the imprisoned punk-rockers.</td><td></td></tr>\n",
       "<tr><td>46</td><td style=\"background-color:rgba(255,0,0,0.3)\">There were white cutouts in the form of human bodies spray-painted with the names of the 16 people who are still in custody and may receive sentences of up to 10 years for participating in a similar event on May 6, which ended in a chaotic melee.</td><td></td></tr>\n",
       "<tr><td>47</td><td style=\"background-color:rgba(255,0,0,0.3)\">Saturday’s march seemed to show a shift in the organizers’ message, as they try to expand their ranks to include leftists — a significant force in a population much battered by its emergence into capitalism 20 years ago.</td><td></td></tr>\n",
       "<tr><td>48</td><td style=\"background-color:rgba(255,0,0,0.3)\">A manifesto presented this week included planks that would appeal to communists, like a freeze in increases of utility payments and support for trade union strikes.</td><td></td></tr>\n",
       "<tr><td>49</td><td style=\"background-color:rgba(255,0,0,0.3)\">Though the Russian Communist Party and its leaders have kept a careful distance from the protest movement, this time the party’s Moscow branch agreed to take part.</td><td></td></tr>\n",
       "<tr><td>50</td><td style=\"background-color:rgba(255,0,0,0.3)\">An hour after the march began, an official remarked via the party’s Twitter feed, “Today’s ‘March of Millions,’ in contrast to previous ones, has turned noticeably red.”</td><td></td></tr>\n",
       "<tr><td>51</td><td style=\"background-color:rgba(255,0,0,0.3)\">The event also featured a new opposition celebrity, coming a day after the Russian Parliament voted to expel Gennadi V. Gudkov, a long-serving member who has joined the protesters.</td><td></td></tr>\n",
       "<tr><td>52</td><td style=\"background-color:rgba(255,0,0,0.3)\">A paunchy, gregarious former K.G.B. officer, Mr. Gudkov is a stark contrast with the 30-something bloggers and urbanites who are the protests’ most recognizable faces.</td><td></td></tr>\n",
       "<tr><td>53</td><td style=\"background-color:rgba(255,0,0,0.3)\">As he marched on Saturday, Mr. Gudkov’s son, Dmitri, said the government had made a strategic error by using law enforcement and the courts to rein in opposition leaders because the public would eventually reject the tactics.</td><td></td></tr>\n",
       "<tr><td>54</td><td style=\"background-color:rgba(255,0,0,0.3)\">“It is becoming more and more dangerous for the government,” he said.</td><td></td></tr>\n",
       "<tr><td>55</td><td style=\"background-color:rgba(255,0,0,0.3)\">Nevertheless, many participants acknowledged that the protests had lost much of the buzz they had in January.</td><td></td></tr>\n",
       "<tr><td>56</td><td style=\"background-color:rgba(255,0,0,0.3)\">On the eve of Saturday’s march, the journalist Tikhon Dzyadko wrote a plea to friends and colleagues via Facebook, saying he understood why they might be inclined to skip Saturday’s event — the presence of nationalists and communists, or the sense that nine months of demonstrations had not led to any change.</td><td></td></tr>\n",
       "<tr><td>57</td><td style=\"background-color:rgba(255,0,0,0.3)\">He encouraged them to think back to the December events where, as he put it, “we finally saw each other.”</td><td></td></tr>\n",
       "<tr><td>58</td><td style=\"background-color:rgba(255,0,0,0.3)\">“Then everyone was so surprised by what was happening that it seemed with just a bit more effort the shackles would fall and we would be free,” he wrote.</td><td></td></tr>\n",
       "<tr><td>59</td><td style=\"background-color:rgba(255,0,0,0.3)\">“But that’s not the way it works, unfortunately.</td><td></td></tr>\n",
       "<tr><td>60</td><td style=\"background-color:rgba(255,0,0,0.3)\">To be free people and, in the final analysis, to be real citizens of our country, it is necessary to try very hard and to work.”</td><td></td></tr>\n",
       "<tr><td>61</td><td style=\"background-color:rgba(255,0,0,0.3)\"><span style=\"background-color:rgba(255,0,0,0.3)\">David</span> <span style=\"background-color:rgba(255,0,0,0.3)\">M.</span> <span style=\"background-color:rgba(255,0,0,0.3)\">Herszenhorn</span>    , Andrew Roth <span style=\"background-color:rgba(255,0,0,0.3)\">,</span> and Anna Kordunsky contributed reporting .</td><td style=\"background-color:rgba(0,255,0,0.3)\">   <span style=\"background-color:rgba(0,255,0,0.3)\">Andrew </span> <span style=\"background-color:rgba(0,255,0,0.3)\">E. </span> <span style=\"background-color:rgba(0,255,0,0.3)\">Kramer </span> , Andrew Roth  and Anna Kordunsky contributed reporting .</td></tr>\n",
       "</table>"
      ],
      "text/plain": [
       "<IPython.core.display.HTML object>"
      ]
     },
     "metadata": {},
     "output_type": "display_data"
    },
    {
     "name": "stdout",
     "output_type": "stream",
     "text": [
      "\n",
      "old url: https://www.newssniffer.co.uk/articles/554965/versions/970445\n",
      "new url: https://www.newssniffer.co.uk/articles/554965/versions/970501\n"
     ]
    }
   ],
   "source": [
    "### ---- Change as Needed ----\n",
    "idx = 12 ## increment this\n",
    "\n",
    "## leave this the same\n",
    "source, a_id, version_old, version_new, created_old, created_new, url_old, url_new, title_html, article_html = (\n",
    "    processed_diffs_df.loc[lambda df: df['a_id'] == '554965']\n",
    "#                       .loc[lambda df: df['version_old'] == '0']\n",
    "#                       .loc[lambda df: df['version_new'] == '1']\n",
    "                      .iloc[0]\n",
    ")\n",
    "\n",
    "print('source: %s' % source)\n",
    "print('article id: %s' % a_id)\n",
    "print('old version num: %s' % version_old)\n",
    "print('new version num: %s' % version_new)\n",
    "print('old date created: %s' % created_old)\n",
    "print('new date created: %s' % created_new)\n",
    "\n",
    "display(HTML(title_html))\n",
    "display(HTML('<h3>Article Body</h3>'))\n",
    "display(HTML(article_html))\n",
    "\n",
    "print()\n",
    "print('old url: %s' % url_old)\n",
    "print('new url: %s' % url_new)"
   ]
  },
  {
   "cell_type": "code",
   "execution_count": null,
   "metadata": {},
   "outputs": [],
   "source": []
  },
  {
   "cell_type": "code",
   "execution_count": null,
   "metadata": {},
   "outputs": [],
   "source": []
  },
  {
   "cell_type": "code",
   "execution_count": null,
   "metadata": {},
   "outputs": [],
   "source": []
  },
  {
   "cell_type": "code",
   "execution_count": null,
   "metadata": {},
   "outputs": [],
   "source": []
  },
  {
   "cell_type": "code",
   "execution_count": null,
   "metadata": {},
   "outputs": [],
   "source": []
  },
  {
   "cell_type": "markdown",
   "metadata": {},
   "source": [
    "# Process data"
   ]
  },
  {
   "cell_type": "code",
   "execution_count": 221,
   "metadata": {},
   "outputs": [],
   "source": [
    "# merged_diffs_df\n",
    "# old_archive_url\tnew_archive_url\t"
   ]
  },
  {
   "cell_type": "code",
   "execution_count": 225,
   "metadata": {},
   "outputs": [
    {
     "data": {
      "application/vnd.jupyter.widget-view+json": {
       "model_id": "967ddd4c77024d96969ef8643f87bc95",
       "version_major": 2,
       "version_minor": 0
      },
      "text/plain": [
       "  0%|          | 0/500 [00:00<?, ?it/s]"
      ]
     },
     "metadata": {},
     "output_type": "display_data"
    }
   ],
   "source": [
    "import sys\n",
    "sys.path.append('../util')\n",
    "import util_newssniffer_parsing as unp\n",
    "\n",
    "with open('/Users/alex/Downloads/results-20210407-000919.json') as f:\n",
    "    df = pd.DataFrame(json.load(f))\n",
    "\n",
    "merged_diffs_df = (df\n",
    " .assign(text_old=\n",
    "   lambda df: df.apply(lambda x: list(map(lambda y: {'text': y[0], 'tag': y[1]}, zip(x['sents_old'], x['tags_old']))), axis=1))\n",
    " .assign(text_new=\n",
    "   lambda df: df.apply(lambda x: list(map(lambda y: {'text': y[0], 'tag': y[1]}, zip(x['sents_new'], x['tags_new']))), axis=1))\n",
    ".drop(['sents_old', 'sents_new', 'tags_old', 'tags_new'], axis=1)\n",
    ")\n",
    "\n",
    "def fix_vars(v):\n",
    "    '''For some weird reason, sometimes lines without text still have a +/- tag.'''\n",
    "    for v_i in v:\n",
    "        if v_i['text'] == '':\n",
    "            v_i['tag'] = ' '\n",
    "\n",
    "for t in ['old_headline', 'new_headline']:\n",
    "    merged_diffs_df[t] = merged_diffs_df[t].fillna('')\n",
    "\n",
    "html_comps = []\n",
    "for idx in tqdm(range(len(merged_diffs_df))):\n",
    "    source, a_id, version_old, version_new, title_old, title_new, created_old, created_new, old_archive_url, new_archive_url, vars_old, vars_new = (\n",
    "        merged_diffs_df.iloc[idx]\n",
    "    )\n",
    "    fix_vars(vars_old), fix_vars(vars_new)\n",
    "    vars_title_old, vars_title_new = unp.get_word_diffs(title_old, title_new)\n",
    "    title_html1, title_html2 = unp.html_compare_sentences(vars_title_old, vars_title_new)\n",
    "\n",
    "    output = {\n",
    "        'source': source,\n",
    "        'a_id': a_id,\n",
    "        'version_old' : version_old ,\n",
    "        'version_new' : version_new ,\n",
    "        'created_old': created_old,\n",
    "        'created_new': created_new,\n",
    "        'archive_url_old': old_archive_url, \n",
    "        'archive_url_new': new_archive_url,\n",
    "        'title_comp_html': '''<h3>Headline</h3>\n",
    "                              <table>\n",
    "                                  <tr><th>Old Version</th><th>New Version</th></tr>\n",
    "                                  <tr><td>%s</td><td>%s</td></tr>\n",
    "                              </table>\n",
    "        ''' % (title_html1, title_html2),\n",
    "        'article_comp_html': unp.html_compare_articles(vars_old, vars_new, use_sids=True),\n",
    "    }\n",
    "    html_comps.append(output)\n",
    "\n",
    "html_df = (pd.DataFrame(html_comps)\n",
    " .sort_values(['a_id', 'version_old', 'version_new'])\n",
    " .loc[lambda df: df['source'] == 'nyt']\n",
    "#  .iloc[2:]\n",
    " .reset_index(drop=True)\n",
    " .to_pickle('../data/sheena-sample/sample-nyt-processed.pkl')\n",
    ")"
   ]
  },
  {
   "cell_type": "code",
   "execution_count": 137,
   "metadata": {},
   "outputs": [],
   "source": [
    "# bugs in WP (so far, just WP) that need to be fixed:\n",
    "# sometimes the versions are not in the right order (in the case we saw, the datetime was not the same)\n",
    "    ## source: wp\n",
    "    ## article id: 1066322\n",
    "    ## old version num: 0, new version num: 1\n",
    "    ## old version num: 1, new version num: 2\n",
    "    \n",
    "# sometimes the first sentence gets moved very far down.\n",
    "    ## source: wp\n",
    "    ## article id: 1070540\n",
    "    ## old version num: 0, new version num: 1\n",
    "    ## source: wp\n",
    "    ## article id: 1070931\n",
    "    ## old version num: 2, new version num: 3\n",
    "    ## source: wp\n",
    "    ## article id: 1071219\n",
    "    ## old version num: 0, new version num: 1\n",
    "    ## source: nyt\n",
    "    ## article id: 554965\n",
    "    ## old version num: 1, new version num: 2\n",
    "    \n",
    "# when there are sentences that are dashes they force a lot of other sentences to get compressed\n",
    "    ## source: wp\n",
    "    ## article id: 1070624\n",
    "    ## old version num: 5, new version num: 6\n",
    "    ## source: wp\n",
    "    ## article id: 1071254\n",
    "    ## old version num: 2, new version num: 3\n",
    "    \n",
    "con = sqlite3.connect('../data/diffengine-diffs/db/newssniffer-washpo.db')\n",
    "entry_version = pd.read_sql('select * from entryversion', con=con)\n",
    "entry_version.loc[lambda df: df['entry_id'] == 1070931].loc[lambda df: df['version'] == 3]['summary'].iloc[0]"
   ]
  },
  {
   "cell_type": "code",
   "execution_count": null,
   "metadata": {},
   "outputs": [],
   "source": []
  },
  {
   "cell_type": "code",
   "execution_count": null,
   "metadata": {},
   "outputs": [],
   "source": []
  },
  {
   "cell_type": "code",
   "execution_count": null,
   "metadata": {},
   "outputs": [],
   "source": []
  },
  {
   "cell_type": "code",
   "execution_count": null,
   "metadata": {},
   "outputs": [],
   "source": []
  },
  {
   "cell_type": "code",
   "execution_count": null,
   "metadata": {},
   "outputs": [],
   "source": []
  },
  {
   "cell_type": "markdown",
   "metadata": {},
   "source": [
    "# Audit"
   ]
  },
  {
   "cell_type": "code",
   "execution_count": 243,
   "metadata": {},
   "outputs": [],
   "source": [
    "wp_sentence_diff_con = sqlite3.connect('../data/diffengine-diffs/output/wp.db')"
   ]
  },
  {
   "cell_type": "code",
   "execution_count": 245,
   "metadata": {},
   "outputs": [],
   "source": [
    "wp_sentence_con = sqlite3.connect('../data/diffengine-diffs/db/newssniffer-washpo.db')"
   ]
  },
  {
   "cell_type": "code",
   "execution_count": 244,
   "metadata": {},
   "outputs": [
    {
     "data": {
      "text/html": [
       "<div>\n",
       "<style scoped>\n",
       "    .dataframe tbody tr th:only-of-type {\n",
       "        vertical-align: middle;\n",
       "    }\n",
       "\n",
       "    .dataframe tbody tr th {\n",
       "        vertical-align: top;\n",
       "    }\n",
       "\n",
       "    .dataframe thead th {\n",
       "        text-align: right;\n",
       "    }\n",
       "</style>\n",
       "<table border=\"1\" class=\"dataframe\">\n",
       "  <thead>\n",
       "    <tr style=\"text-align: right;\">\n",
       "      <th></th>\n",
       "      <th>a_id</th>\n",
       "      <th>tag_old</th>\n",
       "      <th>source</th>\n",
       "      <th>version_new</th>\n",
       "      <th>version_old</th>\n",
       "      <th>s_idx</th>\n",
       "      <th>tag_new</th>\n",
       "      <th>sent_new</th>\n",
       "      <th>sent_old</th>\n",
       "    </tr>\n",
       "  </thead>\n",
       "  <tbody>\n",
       "    <tr>\n",
       "      <th>0</th>\n",
       "      <td>1021717</td>\n",
       "      <td></td>\n",
       "      <td>wp</td>\n",
       "      <td>1</td>\n",
       "      <td>0</td>\n",
       "      <td>0</td>\n",
       "      <td>+</td>\n",
       "      <td>ROSEBURG, Ore.—A rural community college becam...</td>\n",
       "      <td></td>\n",
       "    </tr>\n",
       "    <tr>\n",
       "      <th>1</th>\n",
       "      <td>1021717</td>\n",
       "      <td></td>\n",
       "      <td>wp</td>\n",
       "      <td>1</td>\n",
       "      <td>0</td>\n",
       "      <td>1</td>\n",
       "      <td>+</td>\n",
       "      <td>Officials said nine people were killed, plus t...</td>\n",
       "      <td></td>\n",
       "    </tr>\n",
       "    <tr>\n",
       "      <th>2</th>\n",
       "      <td>1021717</td>\n",
       "      <td></td>\n",
       "      <td>wp</td>\n",
       "      <td>1</td>\n",
       "      <td>0</td>\n",
       "      <td>10</td>\n",
       "      <td>+</td>\n",
       "      <td>Get out of there!”</td>\n",
       "      <td></td>\n",
       "    </tr>\n",
       "    <tr>\n",
       "      <th>3</th>\n",
       "      <td>1021717</td>\n",
       "      <td></td>\n",
       "      <td>wp</td>\n",
       "      <td>1</td>\n",
       "      <td>0</td>\n",
       "      <td>100</td>\n",
       "      <td>+</td>\n",
       "      <td>McCrae Kittelman, 17, was in the Educational S...</td>\n",
       "      <td></td>\n",
       "    </tr>\n",
       "    <tr>\n",
       "      <th>4</th>\n",
       "      <td>1021717</td>\n",
       "      <td></td>\n",
       "      <td>wp</td>\n",
       "      <td>1</td>\n",
       "      <td>0</td>\n",
       "      <td>101</td>\n",
       "      <td>+</td>\n",
       "      <td>It was 10:40 a.m.</td>\n",
       "      <td></td>\n",
       "    </tr>\n",
       "  </tbody>\n",
       "</table>\n",
       "</div>"
      ],
      "text/plain": [
       "      a_id tag_old source  version_new  version_old  s_idx tag_new  \\\n",
       "0  1021717             wp            1            0      0       +   \n",
       "1  1021717             wp            1            0      1       +   \n",
       "2  1021717             wp            1            0     10       +   \n",
       "3  1021717             wp            1            0    100       +   \n",
       "4  1021717             wp            1            0    101       +   \n",
       "\n",
       "                                            sent_new sent_old  \n",
       "0  ROSEBURG, Ore.—A rural community college becam...           \n",
       "1  Officials said nine people were killed, plus t...           \n",
       "2                                 Get out of there!”           \n",
       "3  McCrae Kittelman, 17, was in the Educational S...           \n",
       "4                                  It was 10:40 a.m.           "
      ]
     },
     "execution_count": 244,
     "metadata": {},
     "output_type": "execute_result"
    }
   ],
   "source": [
    "pd.read_sql('select * from sentence_diffs limit 5', con=wp_sentence_diff_con)"
   ]
  },
  {
   "cell_type": "code",
   "execution_count": 277,
   "metadata": {},
   "outputs": [],
   "source": [
    "articles = pd.read_sql('''\n",
    "    SELECT entry_id, version, summary FROM entryversion\n",
    "''', con=wp_sentence_con)"
   ]
  },
  {
   "cell_type": "code",
   "execution_count": 278,
   "metadata": {},
   "outputs": [],
   "source": [
    "old_versions = pd.read_sql('''\n",
    "    SELECT a_id, version_old, GROUP_CONCAT(sent_old, ' ') as full_story\n",
    "    FROM (\n",
    "        SELECT a_id, version_old, sent_old\n",
    "        FROM sentence_diffs \n",
    "        ORDER BY a_id, version_old, s_idx ASC\n",
    "    )\n",
    "    GROUP BY a_id, version_old\n",
    "''', con=wp_sentence_diff_con)\n",
    "\n"
   ]
  },
  {
   "cell_type": "code",
   "execution_count": 376,
   "metadata": {},
   "outputs": [],
   "source": [
    "new_versions = pd.read_sql('''\n",
    "    SELECT a_id, version_new, GROUP_CONCAT(sent_new, '<BREAK>') as sentences\n",
    "    FROM (\n",
    "        SELECT a_id, version_new, sent_new\n",
    "        FROM sentence_diffs \n",
    "        ORDER BY a_id, version_new, s_idx ASC\n",
    "    )\n",
    "    GROUP BY a_id, version_new\n",
    "''', con=wp_sentence_diff_con)"
   ]
  },
  {
   "cell_type": "code",
   "execution_count": 377,
   "metadata": {},
   "outputs": [],
   "source": [
    "new_versions['sentences'] = new_versions['sentences'].str.split('\\<BREAK\\>')"
   ]
  },
  {
   "cell_type": "code",
   "execution_count": null,
   "metadata": {},
   "outputs": [],
   "source": []
  },
  {
   "cell_type": "code",
   "execution_count": 461,
   "metadata": {},
   "outputs": [],
   "source": [
    "def split_sents(s):\n",
    "    if '.' in s:\n",
    "        doc = nlp(s)\n",
    "        return list(map(lambda x: x.text, doc.sents))\n",
    "    return [s]\n",
    "        \n",
    "    \n",
    "def get_index(s, b):\n",
    "    if s in b:\n",
    "        idx = b.index(s)\n",
    "    else:\n",
    "        matches = find_near_matches(s, b, max_l_dist=5)\n",
    "        if len(matches) == 1:\n",
    "            idx = matches[0].start\n",
    "        else:\n",
    "            return -1\n",
    "    return idx\n",
    "    \n",
    "\n",
    "def order_sentences(sentences, base_text):\n",
    "    output = []\n",
    "    sentences = list(filter(lambda x: x != '', sentences))\n",
    "    for s in sentences:\n",
    "        if len(sentence) > 2:\n",
    "            idx = get_index(s, base_text)\n",
    "            if idx == -1:\n",
    "                for split_s in split_sents(s):\n",
    "                    output.append({\n",
    "                        'idx': get_index(split_s, base_text),\n",
    "                        'sentence': split_s\n",
    "                    })\n",
    "            else:\n",
    "                output.append({\n",
    "                    'idx': idx,\n",
    "                    'sentence': s\n",
    "                })\n",
    "    return output"
   ]
  },
  {
   "cell_type": "code",
   "execution_count": 410,
   "metadata": {},
   "outputs": [],
   "source": [
    "comparison = (new_versions\n",
    " .merge(articles, left_on=['a_id', 'version_new'], right_on=['entry_id', 'version'])\n",
    " .assign(summary=lambda df: df['summary'].str.replace('</p><p>',' '))\n",
    ")"
   ]
  },
  {
   "cell_type": "code",
   "execution_count": 386,
   "metadata": {},
   "outputs": [],
   "source": [
    "from fuzzysearch import find_near_matches"
   ]
  },
  {
   "cell_type": "code",
   "execution_count": 535,
   "metadata": {},
   "outputs": [
    {
     "data": {
      "application/vnd.jupyter.widget-view+json": {
       "model_id": "c10f93bfb48a480c9ba2eab4b83fbaf0",
       "version_major": 2,
       "version_minor": 0
      },
      "text/plain": [
       "  0%|          | 0/48644 [00:00<?, ?it/s]"
      ]
     },
     "metadata": {},
     "output_type": "display_data"
    }
   ],
   "source": [
    "outputs = []\n",
    "for idx, sent, full in tqdm(comparison[['sentences', 'summary']].head(5000).itertuples(), total=len(comparison)):\n",
    "    output = order_sentences(sent, full)\n",
    "    outputs.append(output)"
   ]
  },
  {
   "cell_type": "code",
   "execution_count": 536,
   "metadata": {
    "scrolled": true
   },
   "outputs": [],
   "source": [
    "stats = []\n",
    "for o in tqdm(outputs):\n",
    "    output_dict = {}\n",
    "    t_df = pd.DataFrame(o)\n",
    "\n",
    "    output_dict['unfindable_sent'] = (t_df['idx'] == -1).any()\n",
    "    output_dict['inverted'] = (t_df['idx']\n",
    "     .pipe(lambda s: pd.Series(s[:-1].values - s[1:].values))\n",
    "     .pipe(lambda s: s >0)\n",
    "     .any()\n",
    "    )\n",
    "    stats.append(output_dict)"
   ]
  },
  {
   "cell_type": "code",
   "execution_count": 547,
   "metadata": {},
   "outputs": [],
   "source": [
    "full_stats_df = pd.concat([\n",
    "    pd.Series(outputs).to_frame('sents'),\n",
    "    pd.DataFrame(stats),\n",
    "    comparison[['sentences', 'summary']].head(5000)\n",
    "], axis=1)"
   ]
  },
  {
   "cell_type": "code",
   "execution_count": 545,
   "metadata": {},
   "outputs": [
    {
     "data": {
      "text/plain": [
       "0.0174"
      ]
     },
     "execution_count": 545,
     "metadata": {},
     "output_type": "execute_result"
    }
   ],
   "source": [
    "stats_df['unfindable_sent'].mean()"
   ]
  },
  {
   "cell_type": "code",
   "execution_count": 544,
   "metadata": {},
   "outputs": [
    {
     "data": {
      "text/plain": [
       "0.4764"
      ]
     },
     "execution_count": 544,
     "metadata": {},
     "output_type": "execute_result"
    }
   ],
   "source": [
    "stats_df['inverted'].mean()"
   ]
  },
  {
   "cell_type": "code",
   "execution_count": 594,
   "metadata": {},
   "outputs": [],
   "source": [
    "t = (\n",
    "    full_stats_df\n",
    "     .loc[lambda df: df['inverted'] == True]\n",
    "     .iloc[3]\n",
    ")"
   ]
  },
  {
   "cell_type": "code",
   "execution_count": 601,
   "metadata": {},
   "outputs": [],
   "source": [
    "import jellyfish\n",
    "def check_resort(t):\n",
    "    t_df = pd.DataFrame(t['sents'])\n",
    "    return jellyfish.levenshtein_distance(\n",
    "        ' '.join(list(t_df.sort_values('idx')['sentence'])),\n",
    "        ' '.join(t['summary'].split())\n",
    "    )"
   ]
  },
  {
   "cell_type": "code",
   "execution_count": 607,
   "metadata": {},
   "outputs": [],
   "source": [
    "from tqdm.auto import tqdm"
   ]
  },
  {
   "cell_type": "code",
   "execution_count": null,
   "metadata": {},
   "outputs": [],
   "source": [
    "tqdm.pandas()\n",
    "\n",
    "levs = []\n",
    "for idx, r in tqdm((full_stats_df\n",
    " .loc[lambda df: df['inverted'] == True]\n",
    " .loc[lambda df: df['unfindable_sent'] == False]).iterrows(), total=len(full_stats_df)):\n",
    "    levs.append(check_resort(r))"
   ]
  },
  {
   "cell_type": "code",
   "execution_count": 621,
   "metadata": {
    "scrolled": true
   },
   "outputs": [
    {
     "data": {
      "text/plain": [
       "[0,\n",
       " 5,\n",
       " 5,\n",
       " 5,\n",
       " 0,\n",
       " 15,\n",
       " 15,\n",
       " 15,\n",
       " 14,\n",
       " 14,\n",
       " 14,\n",
       " 14,\n",
       " 16,\n",
       " 16,\n",
       " 16,\n",
       " 8,\n",
       " 24,\n",
       " 24,\n",
       " 24,\n",
       " 12,\n",
       " 12,\n",
       " 12,\n",
       " 10,\n",
       " 10,\n",
       " 10,\n",
       " 12,\n",
       " 200,\n",
       " 200,\n",
       " 200,\n",
       " 198,\n",
       " 198,\n",
       " 198,\n",
       " 198,\n",
       " 16,\n",
       " 8,\n",
       " 174,\n",
       " 195,\n",
       " 6,\n",
       " 6,\n",
       " 10,\n",
       " 10,\n",
       " 266,\n",
       " 2,\n",
       " 8,\n",
       " 18,\n",
       " 173,\n",
       " 151,\n",
       " 173,\n",
       " 215,\n",
       " 18,\n",
       " 18,\n",
       " 9,\n",
       " 2,\n",
       " 12,\n",
       " 351,\n",
       " 351,\n",
       " 160,\n",
       " 159,\n",
       " 163,\n",
       " 163,\n",
       " 163,\n",
       " 163,\n",
       " 179,\n",
       " 49,\n",
       " 6,\n",
       " 6,\n",
       " 6,\n",
       " 6,\n",
       " 6,\n",
       " 6,\n",
       " 4,\n",
       " 6,\n",
       " 4,\n",
       " 6,\n",
       " 30,\n",
       " 108,\n",
       " 108,\n",
       " 108,\n",
       " 6,\n",
       " 6,\n",
       " 5,\n",
       " 104,\n",
       " 60,\n",
       " 103,\n",
       " 121,\n",
       " 263,\n",
       " 253,\n",
       " 253,\n",
       " 154,\n",
       " 158,\n",
       " 424,\n",
       " 424,\n",
       " 44,\n",
       " 44,\n",
       " 391,\n",
       " 287,\n",
       " 2,\n",
       " 148]"
      ]
     },
     "execution_count": 621,
     "metadata": {},
     "output_type": "execute_result"
    }
   ],
   "source": [
    "levs"
   ]
  },
  {
   "cell_type": "code",
   "execution_count": 622,
   "metadata": {},
   "outputs": [
    {
     "data": {
      "text/plain": [
       "sents              [{'idx': 0, 'sentence': 'RICHMOND—Virginia Att...\n",
       "unfindable_sent                                                False\n",
       "inverted                                                        True\n",
       "sentences          [RICHMOND—Virginia Attorney General Mark R. He...\n",
       "summary            RICHMOND — Virginia Attorney General Mark R. H...\n",
       "Name: 233, dtype: object"
      ]
     },
     "execution_count": 622,
     "metadata": {},
     "output_type": "execute_result"
    }
   ],
   "source": [
    "r"
   ]
  },
  {
   "cell_type": "code",
   "execution_count": 623,
   "metadata": {},
   "outputs": [],
   "source": [
    "t_df = pd.DataFrame(r['sents'])"
   ]
  },
  {
   "cell_type": "code",
   "execution_count": 625,
   "metadata": {},
   "outputs": [],
   "source": [
    "import util.util_diffengine_parsing as p"
   ]
  },
  {
   "cell_type": "code",
   "execution_count": 628,
   "metadata": {
    "scrolled": true
   },
   "outputs": [],
   "source": [
    "d = p.diffHandler()"
   ]
  },
  {
   "cell_type": "code",
   "execution_count": 631,
   "metadata": {
    "scrolled": true
   },
   "outputs": [
    {
     "data": {
      "text/html": [
       "RICHMOND<span style=\"background-color:rgba(255,0,0,0.3)\"> — </span>Virginia Attorney General Mark R. Herring announced Thursday that he believes the state’s ban on same-sex marriage is unconstitutional, and he joined two same-sex couples in asking a federal court to strike it down. The action, which Herring (D) made with the support of Gov. Terry McAuliffe (D), marks a stunning reversal in the state’s legal position on same-sex marriage and is a result of November’s elections, in which Democrats swept the state’s top offices. Democrats cheered the move as a victory for civil rights while Republicans blasted it as dereliction of the attorney general’s duty to defend the state constitution. With the support of 57 percent of voters, Virginia amended its constitution in 2006 to ban gay marriage. Herring said his chief duty is to defend the U.S. Constitution. “<span style=\"background-color:rgba(0,255,0,0.3)\"> “</span>The Supreme Court is clear: The United States Constitution is the law of the land, the supreme law of the land,” Herring said at a press conference. “I believe the freedom to marry is a fundamental right and I intend to ensure that Virginia is on the right side of history and the right side of the law.” State Sen. Adam P. Ebbin (D-Alexandria), the first openly gay member of the General Assembly, was among those who applauded Herring’s move. “Today is a proud day to be a Virginian,” he said. “We are the birthplace of civil liberties, and it’s exciting to see Virginia getting this right.” But some Republicans said Herring made an outrageous attempt to thwart the will of the people. After winning an election largely based on criticizing conservative Republican Ken Cuccinelli II’s activist tenure as attorney general, critics said, Herring seems to be taking the law into his own hands for liberal ends. “I don’t know what the difference between a dictatorship and this is,” said state Sen. Richard H. Black (R-Loudoun). Some GOP legislators said they would look for a way to thwart Herring’s action. Anticipating Herring’s move, the General Assembly is already considering legislation to fund a legal defense for any laws that the attorney general chooses not to defend. They note that Cuccinelli appointed outside counsel to represent the state in a lawsuit over a school-takeover law that the Republican believed was unconstitutional. “I’m unclear on the mechanism to get [legal opposition to Herring’s move] started, but it will be something that I’m sure will be researched over the next week or so,” said Sen. Stephen D. Newman (R-Lynchburg). Reaction did not fall strictly along party lines. “I don’t think he should do it, but I think he can do it, and I think it’s probably within his job description to do it” if he thinks the ban conflicts with the U.S. Constitution, said state Sen. Thomas A. Garrett Jr. (R-Goochland), a former prosecutor. Cuccinelli, who lost a bid for governor to McAuliffe, adamantly opposed same-sex marriage and vowed to defend Virginia’s constitutional amendment banning such unions. Herring, too, voted against same-sex marriage eight years ago, when he was a state senator. But he has said that his views have changed since then, and he filed a brief Thursday stating Virginia’s reversal in a lawsuit in Norfolk that challenges the state’s ban. <span style=\"background-color:rgba(255,0,0,0.3)\">“</span>The Attorney General has concluded that Virginia’s laws denying the right to marry to same-sex couples violate the Fourteenth Amendment to the United States Constitution,” the brief states. At a news conference in Richmond, Herring said that the state has been on the wrong side of landmark legal battles involving school desegregation, interracial marriage and single-sex education. He made the case that Virginia should be on the right side of the law and history in the battle over same-sex marriage. “As attorney general, I cannot and will not defend a law that violates Virginians’ fundamental constitutional rights,” he said. Herring said he has been briefing McAuliffe, and the governor backs the move. McAuliffe did not immediately comment, but spokesman Brian Coy confirmed Herring’s account that the governor supports it. Republicans reacted to the news swiftly Thursday by accusing Herring of failing to fulfill a central duty of his office — defending the state constitution. “Not two weeks ago I watched the attorney general swear an oath before God and the people of Virginia to preserve, protect and defend our constitution,” Del. C. Todd Gilbert (R-Shenandoah) said. “It didn’t take him long to find a way out of that.” In a statement, House Speaker William J. Howell (R-Stafford) said: “I am very concerned about his announcement today and the dangerous precedent it sets with regard to the rule of law. The Attorney General has a constitutional and statutory obligation to enforce and defend the duly adopted laws and Constitution of Virginia. This is not an obligation that can be taken lightly. The Attorney General’s decision today demonstrates a great deal of disregard for that obligation, as well as the legislative and democratic processes by which those laws are adopted.” Herring used much of the brief to defend his position. “When the Attorney General, exercising his independent constitutional judgment, concludes that a provision of the Virginia Constitution (or Act of the General Assembly) violates the federal Constitution, he is not duty bound to defend it,” the brief states. “Although the practice is rare for Virginia Attorneys General, it is not unprecedented.” Herring said the Republican proposal to allow them to defend the law in court is unnecessary. Norfolk clerk George E. Schaefer is represented by a private lawyer paid by the state’s risk management department. Prince William clerk Michele B. McQuigg, who asked to intervene in the case, is represented by the conservative legal group Alliance Defending Freedom. Janet Rainey, the state registrar of vital records, is also a defendant. Although Herring urged the court to strike down the ban, she will continue to enforce it until the courts act. Democrats are sensitive to charges that it is Herring’s duty to defend Virginia’s law regardless of whether he agrees with it. They point out that Cuccinelli refused to defend one of then-Gov. Robert F. McDonnell’s education reforms in court, saying he believed that the legislation (for state takeovers of failing schools) was unconstitutional. But generally, supporters were quick to cheer Herring’s move. U.S. Sen. Timothy M. Kaine (D-Va.) tweeted this message to his followers: “Thank you @MarkHerringVA for fighting VA’s same-sex marriage ban! I agree — time to bring VA on to the right side of history.” The move in Virginia is part of a quickly changing legal landscape reshaped by the Supreme Court’s rulings in two cases on same-sex marriage in June. In one, United States v. Windsor, the court voted 5 to 4 to find unconstitutional a key part of the Defense of Marriage Act, which withheld federal recognition of same-sex marriages performed where they are legal and denied federal benefits to those in such unions. In the other, it allowed to stand a federal judge’s opinion that California’s Proposition 8, which bans same-sex marriage, was unconstitutional. The court ruled that the case was not before it in a way that allowed a ruling on the merits. The justices sidestepped a critical question: whether state bans on same-sex marriage violate the Constitution’s guarantees of equal protection and due process. But federal judges in Utah and Oklahoma have said that the reasoning used by the court majority meant that constitutional amendments in those states banning same-sex unions cannot stand. Gay marriages took place in Utah, but both decisions are now stayed pending appeal. The highest courts in New Jersey and New Mexico have held that gay couples have the right to be married there. The District of Columbia and 17 states — including Maryland, but not Utah or Oklahoma — now allow such unions. The Obama administration took a position similar to Herring’s when it announced it would not defend DOMA, which Congress had passed in 1996 and was then signed into law by then-President Bill Clinton. Attorney General Eric H. Holder Jr. joined the legal challenge against the key part of the law, and House Republicans hired a lawyer in an unsuccessful bid to save it. Similarly, Democratic attorneys general in other states have said they think their bans are unconstitutional. Democrats in California refused to defend Proposition 8. And last summer, Pennsylvania Attorney General Kathleen Kane bowed out of challenges to her state’s law. <span style=\"background-color:rgba(255,0,0,0.3)\">Herring, whose race against Republican Mark D. Obenshain was so close it was not decided until Dec. 18, has been in office just two weeks. </span>But he faced a tight deadline in deciding whether to change the state’s legal position. U.S. District Judge Arenda L. Wright Allen has scheduled oral arguments for Jan. 30 in the Norfolk case. It received a jolt of attention last fall when lawyers Theodore B. Olson and David Boies, who brought the federal challenge of Proposition 8, announced that they were joining the plaintiffs’ side. In addition, the American Civil Liberties Union is challenging the Virginia ban in a federal suit in Harrisonburg. That case is not as far along. Virginia has been a particularly appealing place for a challenge by supporters of gay rights because of the Supreme Court’s 1967 decision in Loving v. Virginia, which struck down laws against interracial marriage. Those who support same-sex unions often draw a parallel. Herring made the same point. “Loving teaches that the Fourteenth Amendment protects the fundamental right to marry even if the way in which it is practiced would have surprised the framers or made them uncomfortable,” he wrote. Michael Laris and Rachel Weiner contributed to this report. Vozzella, Laris and Weiner reported from Richmond; Barnes reported from Washington."
      ],
      "text/plain": [
       "<IPython.core.display.HTML object>"
      ]
     },
     "metadata": {},
     "output_type": "display_data"
    }
   ],
   "source": [
    "display(HTML(d.list_to_html(d.rolling_window(d.output_diff_lists(\n",
    "    ' '.join(r['summary'].split()), \n",
    "    ' '.join(list(t_df.sort_values('idx')['sentence']))\n",
    ")))))"
   ]
  },
  {
   "cell_type": "code",
   "execution_count": null,
   "metadata": {},
   "outputs": [],
   "source": []
  },
  {
   "cell_type": "code",
   "execution_count": null,
   "metadata": {},
   "outputs": [],
   "source": []
  },
  {
   "cell_type": "code",
   "execution_count": null,
   "metadata": {},
   "outputs": [],
   "source": []
  },
  {
   "cell_type": "code",
   "execution_count": null,
   "metadata": {},
   "outputs": [],
   "source": []
  },
  {
   "cell_type": "code",
   "execution_count": null,
   "metadata": {},
   "outputs": [],
   "source": []
  },
  {
   "cell_type": "code",
   "execution_count": 533,
   "metadata": {},
   "outputs": [
    {
     "data": {
      "text/plain": [
       "'A crowd-sourced count on Reddit of any gun incident in which four or more were shot The newspaper’s tally, including incidents in which four or more people were killed, was 146 mass shootings since 2006.'"
      ]
     },
     "execution_count": 533,
     "metadata": {},
     "output_type": "execute_result"
    }
   ],
   "source": [
    "(stats_df\n",
    " .loc[lambda df: df['unfindable_sent']]\n",
    " .assign(non_sents=lambda df: df['sents'].apply(lambda x: list(filter(lambda y: y['idx'] == -1, x))))\n",
    " ['non_sents']\n",
    "#  .str.len()\n",
    " .iloc[4]\n",
    " [0]['sentence']\n",
    "#  .loc[lambda df: df['idx'] == -1]['sentence']\n",
    ")"
   ]
  },
  {
   "cell_type": "code",
   "execution_count": null,
   "metadata": {},
   "outputs": [],
   "source": []
  },
  {
   "cell_type": "code",
   "execution_count": null,
   "metadata": {},
   "outputs": [],
   "source": []
  },
  {
   "cell_type": "code",
   "execution_count": null,
   "metadata": {},
   "outputs": [],
   "source": []
  },
  {
   "cell_type": "code",
   "execution_count": null,
   "metadata": {},
   "outputs": [],
   "source": []
  },
  {
   "cell_type": "code",
   "execution_count": null,
   "metadata": {},
   "outputs": [],
   "source": []
  },
  {
   "cell_type": "code",
   "execution_count": null,
   "metadata": {},
   "outputs": [],
   "source": []
  },
  {
   "cell_type": "code",
   "execution_count": null,
   "metadata": {},
   "outputs": [],
   "source": []
  },
  {
   "cell_type": "code",
   "execution_count": null,
   "metadata": {},
   "outputs": [],
   "source": []
  },
  {
   "cell_type": "code",
   "execution_count": 452,
   "metadata": {
    "scrolled": true
   },
   "outputs": [],
   "source": [
    "sent\n",
    "for sentence in sent:\n",
    "    if len(sentence) > 2:\n",
    "        if sentence in full:\n",
    "            idx = full.index(sentence)\n",
    "        else:\n",
    "            matches = find_near_matches(sentence, full, max_l_dist=5)\n",
    "            if len(matches) == 1:\n",
    "                idx = matches[0].start\n",
    "            else:\n",
    "                break"
   ]
  },
  {
   "cell_type": "code",
   "execution_count": 453,
   "metadata": {},
   "outputs": [
    {
     "data": {
      "text/plain": [
       "'Peyton Manning Manning, still in his football pants, gestured as he described one of his 32 completions in 43 attempts; the things he saw as he passed for 400 yards and two touchdowns. “I was truly taking things slowly,” Manning said, “kind of phase by phase.”'"
      ]
     },
     "execution_count": 453,
     "metadata": {},
     "output_type": "execute_result"
    }
   ],
   "source": [
    "sentence"
   ]
  },
  {
   "cell_type": "code",
   "execution_count": 454,
   "metadata": {},
   "outputs": [
    {
     "data": {
      "text/plain": [
       "'DENVER —  They gathered at the two locker stalls near the door, two brothers stopping to congratulate and hug Archie and Olivia Manning’s middle boy. Cooper Manning and youngest brother Eli, the New York Giants quarterback, stood as Peyton sat and removed his cleats. They were smiling, and before long, cameras began clicking to capture the moment. “You definitely have to take time to savor the moment,” Peyton Manning   said a few minutes later. “I know I will.” Manning had led the Denver Broncos to the AFC championship, a 26-16 win against the New England Patriots and rival quarterback Tom Brady, but more than that Sunday’s win was the final turn of a stunning comeback. Manning, 37, is returning to the Super Bowl, and below the back of the gray AFC championship hat, a scar was visible on his neck — a reminder of the injury that nearly ended his career. “I had some doubts,” Eli said. “I had some worries for sure.” Two years ago, Manning missed the 2011 season with a herniated disk in his neck, and surgeries seemed only to complicate matters. His dazzling right arm couldn’t support his own weight; throwing a football was impossible. The Indianapolis Colts, the team that drafted Manning first overall in 1998, cut him partly out of fear that a certain Hall of Famer would never be the same. On Sunday, Manning eventually stood at eye level with his brothers and Broncos legend John Lynch. Peyton and Eli were discussing some of the plays the middle brother had produced — the ones the rest of the family watched from a box at Sports Authority Field. Golfers remember birdie putts, how the greens broke and the ball’s reaction, and aging couples remember details of their first date. The Mannings see football plays in the theater of their minds, and before long in the locker room, Peyton was describing what he saw on a 30-yard post play to wide receiver Demaryius Thomas. On a different play, Eli described a blitzing safety and his brother’s reaction to the pressure. Peyton Manning wasn’t sacked and was barely hurried by the Patriots’ seventh-ranked defense. “We just couldn’t get a stop,” New England safety Devin McCourty said. Manning, still in his football pants, gestured as he described one of his 32 completions in 43 attempts; the things he saw as he passed for 400 yards and two touchdowns. The Patriots were, for a while, taking away the Broncos’ deep options, so Manning took advantage of openings near the sideline. Again and again, he found receivers alone in the flat, and he used the opportunity for quick reads and easy first downs. “On any given play, one of five guys could get the ball,” said Manning, who completed passes to eight receivers. Manning is an opportunist, but he’s also a student. He makes adjustments. His marathon film sessions are famous, and already as the sun set on Denver on Sunday, he told reporters that he’d prefer to begin studying the Seahawks-49ers winner this week to maintain his routine. There’d be no week off before Super Bowl prep began in advance of the Feb. 2 game in East Rutherford, N.J. Two years ago, Manning relied on his mind to somehow push him back into an NFL team’s starting lineup, back to the elite ranks, back maybe to the Super Bowl. He had traveled to Europe four times for nerve-rejuvenation treatments, and when he became a free agent, he traveled to a handful of NFL cities before joining executive vice president John Elway and Coach John Fox in Denver. “I was truly taking things slowly,” Manning said, “kind of phase by phase.” The Broncos were gambling that Manning had something left, even if they had no idea what that would be. The team needed a quarterback and craved a Super Bowl — it hasn’t played for a championship since Elway won two in a row as the team’s quarterback in the late 1990s — and Manning wanted redemption. “Anything he puts his mind to,” Eli Manning said Sunday afternoon, “he can usually accomplish it.” He returned to football in 2012, passing for 4,659 yards and 37 touchdowns. Denver won 13 games, and as amazing as that was, old ghosts were still churning — still influencing the Manning story. He couldn’t win big in the playoffs. He couldn’t win games in the cold. He was the most talented quarterback of his generation — and maybe ever — Brady, the Patriots’ quarterback, was the three-time champion who seemed to have Manning’s number. Brady had won their first six meetings, and Manning didn’t beat Brady until 2005. The postseason had for years belonged to Brady, and again last year, it was the Patriots reaching the AFC title game and Manning’s Broncos losing their first playoff game. Another year passed, Manning’s age creeping toward 40, and injuries seemed to linger. He wore a brace on his right ankle Sunday, a sign that midseason sprains had still not fully healed. The Broncos won their first six games, and Manning was somehow better than ever — he went on to break single-season records with 5,477 yards and 55 touchdowns — but Brady still won their meeting in late November, a thrilling comeback that ended in overtime. It was Brady’s 10th win against Manning since becoming New England’s starter in 2001, against four losses. On Sunday, though, it was Brady who looked rattled amid the pressure. The Patriots’ normally cool quarterback sent passes high and wide, and most of his 277 passing yards came after Denver had built a double-digit lead. The Broncos’ defense sacked him once, but a larger sign that Brady wasn’t himself was perhaps revealed when, needing a two-point conversion to trim Denver’s lead to one score, Coach Bill Belichick called a run from the shotgun formation. The Broncos stopped Shane Vereen, and Manning went back to work, running off the remaining 3 minutes 7 seconds before the confetti fell. “Everybody that retires,” Cooper Manning said, “wants one more shot. He’s glad to get it.” When the game had been properly and thoroughly dissected, Eli was the first to look forward. One more big game lay ahead for his brother — most likely in chilly temperatures, no less. Before Eli disappeared down a back hallway, he shook his brother’s hand once more, and Peyton pulled him in for another hug. “With Peyton,” Eli said a moment later, “not much amazes me any more.”'"
      ]
     },
     "execution_count": 454,
     "metadata": {},
     "output_type": "execute_result"
    }
   ],
   "source": [
    "full"
   ]
  },
  {
   "cell_type": "code",
   "execution_count": null,
   "metadata": {},
   "outputs": [],
   "source": []
  },
  {
   "cell_type": "code",
   "execution_count": null,
   "metadata": {},
   "outputs": [],
   "source": []
  },
  {
   "cell_type": "code",
   "execution_count": null,
   "metadata": {},
   "outputs": [],
   "source": []
  },
  {
   "cell_type": "code",
   "execution_count": 424,
   "metadata": {},
   "outputs": [
    {
     "data": {
      "text/plain": [
       "'On a recent Friday evening in Kabul, I gathered with friends at the Lebanese restaurant that had long been a convivial and secure oasis in a harsh and unpredictable country. The occasion was a farewell meal before I left for the States — a cherished ritual in my many visits to Afghanistan over the past decade. As always, after an abundant assortment of mezze, we raised our discreet cups of “white tea” and promised to meet there next time. As always, the proprietor, Kamel Hamade, a dapper businessman from Beirut, refused to let us pay. “Give the money to help the animals instead,” he would insist. Kamel was an animal lover, political gadfly and the genial host of La Taverna du Liban, a cozy bistro that catered to the foreign and local elite — Western aid workers, Middle Eastern entrepreneurs, Afghan ministry officials and foreign correspondents like me. There was a frisson of intrigue amid the hookah smoke and hushed chatter. We jokingly called it the “Rick’s Café” of Kabul. There was also real danger lurking outside, we all knew. Taliban militants often targeted establishments where Westerners worked or met, and Kamel had beefed up security repeatedly against possible attacks. He was a gentleman, but also a survivor of civil war and a scrappy businessman who never shied from a fight. He kept a loaded gun in his room upstairs and a formidable mastiff named Jeff in a pen by the front door. “I’ve got to get out of here,” he swore to me a dozen times in the past several years. “There’s too much tension, too much difficulty. I’m going to open a restaurant somewhere nice, like Geneva or New Zealand.” But although he often traveled home to Beirut or abroad on business, Kamel never did abandon Kabul and La Taverna. He stayed on, even as foreign missions began closing in anticipation of Western troop withdrawals, political instability and growing violence. He stayed on even after other restaurants folded, reservations flagged due to diplomatic security alerts, and a business dispute led to a shootout at the restaurant and landed him briefly in an Afghan jail. As long as La Taverna remained open — as long as Kamel was there in his favorite corner, smoking and counting change and yelling at the waiters and leaping up to greet old friends — I felt as if I still had a familiar sanctuary, a small zone of comfort in Kabul. On Friday evening, that illusion was violently shattered. At 7 p.m., the busiest dinner hour of the week, a Taliban suicide bomber detonated his explosives outside the front gate, next to Jeff’s pen, and two gunmen shot their way inside, raking the dining room with gunfire. By the time Afghan security forces stormed the premises and shot the assailants, at least 21 people were dead, including Kamel and dinner guests from half a dozen countries. And Jeff vanished. I was back in Washington by then, working at my desk, when a colleague called unexpectedly from Kabul, then a friend e-mailed. A loud blast had been heard. More messages and news bulletins followed, the focus narrower, the details still sketchy but horrific. It was La Taverna. There was shooting and commotion outside but no news, nothing, from inside. I reached an Afghan friend whose brother was a cook. He had escaped over the back wall and had seen Kamel running into the dining room with his gun. My stomach knotted in dread. I imagined him plunging into a scene of chaos and screams and blood, defending his guests and his property to the death. Within two hours, those fears were confirmed. My friend was dead, my convivial war-zone sanctuary a charnel house. I also knew this attack had changed everything for me, my friends and the international community in Kabul. There had been other Taliban assaults in the capital over the years — against international hotels and agencies and military compounds. But this was more intimate, more savage, more personal. The Taliban crowed in an e-mail Friday about eliminating foreign “occupiers,” but all I could think about was Kamel fretting over his ailing orange cat, Boy, or trying to find Jeff a mate to make him less ferocious, or refusing to let his friends pay for a meal. I also thought about the dozens of wonderful evenings over the past decade I had shared at La Taverna with friends and colleagues and fellow animal rescuers — a veterinarian from Maine, an aid supervisor from France, an engineer from Prague, a security contractor from Australia, a diplomat from Canada, a nurse from Nashville, a lawyer from Ireland, an anthropologist from Rome, and many Afghan friends and co-workers. Now, the Taliban had made sure we would never meet there again. On Saturday, I found my e-mail inbox flooded with messages from these now-scattered friends, some wondering if I was safe, some recounting memories of Kamel’s attentiveness and his beloved four-legged companions. A friend in Kabul wrote what we were all thinking: “Is this a horrid, isolated incident, or does it have greater long-term consequences and ramifications?” Of Kamel, she wrote, “he still remains perhaps the kindest, most gentle, and respected of men I have met in this city. He created a unique space for himself, for the restaurant, and for all of us — expat and Afghan alike. A culture, a sanctuary and a place of civility have been lost, and will not be replaced.”'"
      ]
     },
     "execution_count": 424,
     "metadata": {},
     "output_type": "execute_result"
    }
   ],
   "source": [
    "full"
   ]
  },
  {
   "cell_type": "code",
   "execution_count": null,
   "metadata": {},
   "outputs": [],
   "source": []
  },
  {
   "cell_type": "code",
   "execution_count": null,
   "metadata": {},
   "outputs": [],
   "source": []
  },
  {
   "cell_type": "code",
   "execution_count": null,
   "metadata": {},
   "outputs": [],
   "source": []
  },
  {
   "cell_type": "code",
   "execution_count": null,
   "metadata": {},
   "outputs": [],
   "source": []
  },
  {
   "cell_type": "code",
   "execution_count": null,
   "metadata": {},
   "outputs": [],
   "source": []
  },
  {
   "cell_type": "code",
   "execution_count": 404,
   "metadata": {
    "scrolled": true
   },
   "outputs": [
    {
     "name": "stdout",
     "output_type": "stream",
     "text": [
      "At 7 p.m., the busiest dinner hour of the week, a Taliban suicide bomber detonated his explosives outside the front gate, next to Jeff’s pen, and two gunmen shot their way inside, raking the dining room with gunfire. And Jeff vanished.\n",
      "[]\n",
      "Now Kiev is trying to be more like Moscow in legal ways, as well — enacting Friday a set of draconian laws that would prohibit almost any protest, curtail freedom of speech, hobble the press, enable the government to ban citizens from using the Internet and classify advocacy groups as “foreign agents” if they receive money from abroad.\n",
      "[]\n",
      "DENVER—They gathered at the two locker stalls near the door, two brothers stopping to congratulate and hug Archie and Olivia Manning’s middle boy.\n",
      "[]\n",
      "Peyton Manning Manning, still in his football pants, gestured as he described one of his 32 completions in 43 attempts; the things he saw as he passed for 400 yards and two touchdowns. “I was truly taking things slowly,” Manning said, “kind of phase by phase.”\n",
      "[]\n",
      "DENVER—They gathered at the two locker stalls near the door, two brothers stopping to congratulate and hug Archie and Olivia Manning’s middle boy.\n",
      "[]\n"
     ]
    },
    {
     "ename": "UnboundLocalError",
     "evalue": "local variable 'idx' referenced before assignment",
     "output_type": "error",
     "traceback": [
      "\u001b[0;31m---------------------------------------------------------------------------\u001b[0m",
      "\u001b[0;31mUnboundLocalError\u001b[0m                         Traceback (most recent call last)",
      "\u001b[0;32m<ipython-input-404-0c340c65bfcb>\u001b[0m in \u001b[0;36m<module>\u001b[0;34m\u001b[0m\n\u001b[0;32m----> 1\u001b[0;31m \u001b[0mcomparison\u001b[0m\u001b[0;34m.\u001b[0m\u001b[0mapply\u001b[0m\u001b[0;34m(\u001b[0m\u001b[0;32mlambda\u001b[0m \u001b[0mx\u001b[0m\u001b[0;34m:\u001b[0m \u001b[0morder_sentences\u001b[0m\u001b[0;34m(\u001b[0m\u001b[0mx\u001b[0m\u001b[0;34m[\u001b[0m\u001b[0;34m'sentences'\u001b[0m\u001b[0;34m]\u001b[0m\u001b[0;34m,\u001b[0m \u001b[0mx\u001b[0m\u001b[0;34m[\u001b[0m\u001b[0;34m'summary'\u001b[0m\u001b[0;34m]\u001b[0m\u001b[0;34m)\u001b[0m\u001b[0;34m,\u001b[0m \u001b[0maxis\u001b[0m\u001b[0;34m=\u001b[0m\u001b[0;36m1\u001b[0m\u001b[0;34m)\u001b[0m\u001b[0;34m\u001b[0m\u001b[0;34m\u001b[0m\u001b[0m\n\u001b[0m",
      "\u001b[0;32m~/opt/anaconda3/lib/python3.7/site-packages/pandas/core/frame.py\u001b[0m in \u001b[0;36mapply\u001b[0;34m(self, func, axis, raw, result_type, args, **kwds)\u001b[0m\n\u001b[1;32m   6876\u001b[0m             \u001b[0mkwds\u001b[0m\u001b[0;34m=\u001b[0m\u001b[0mkwds\u001b[0m\u001b[0;34m,\u001b[0m\u001b[0;34m\u001b[0m\u001b[0;34m\u001b[0m\u001b[0m\n\u001b[1;32m   6877\u001b[0m         )\n\u001b[0;32m-> 6878\u001b[0;31m         \u001b[0;32mreturn\u001b[0m \u001b[0mop\u001b[0m\u001b[0;34m.\u001b[0m\u001b[0mget_result\u001b[0m\u001b[0;34m(\u001b[0m\u001b[0;34m)\u001b[0m\u001b[0;34m\u001b[0m\u001b[0;34m\u001b[0m\u001b[0m\n\u001b[0m\u001b[1;32m   6879\u001b[0m \u001b[0;34m\u001b[0m\u001b[0m\n\u001b[1;32m   6880\u001b[0m     \u001b[0;32mdef\u001b[0m \u001b[0mapplymap\u001b[0m\u001b[0;34m(\u001b[0m\u001b[0mself\u001b[0m\u001b[0;34m,\u001b[0m \u001b[0mfunc\u001b[0m\u001b[0;34m)\u001b[0m \u001b[0;34m->\u001b[0m \u001b[0;34m\"DataFrame\"\u001b[0m\u001b[0;34m:\u001b[0m\u001b[0;34m\u001b[0m\u001b[0;34m\u001b[0m\u001b[0m\n",
      "\u001b[0;32m~/opt/anaconda3/lib/python3.7/site-packages/pandas/core/apply.py\u001b[0m in \u001b[0;36mget_result\u001b[0;34m(self)\u001b[0m\n\u001b[1;32m    184\u001b[0m             \u001b[0;32mreturn\u001b[0m \u001b[0mself\u001b[0m\u001b[0;34m.\u001b[0m\u001b[0mapply_raw\u001b[0m\u001b[0;34m(\u001b[0m\u001b[0;34m)\u001b[0m\u001b[0;34m\u001b[0m\u001b[0;34m\u001b[0m\u001b[0m\n\u001b[1;32m    185\u001b[0m \u001b[0;34m\u001b[0m\u001b[0m\n\u001b[0;32m--> 186\u001b[0;31m         \u001b[0;32mreturn\u001b[0m \u001b[0mself\u001b[0m\u001b[0;34m.\u001b[0m\u001b[0mapply_standard\u001b[0m\u001b[0;34m(\u001b[0m\u001b[0;34m)\u001b[0m\u001b[0;34m\u001b[0m\u001b[0;34m\u001b[0m\u001b[0m\n\u001b[0m\u001b[1;32m    187\u001b[0m \u001b[0;34m\u001b[0m\u001b[0m\n\u001b[1;32m    188\u001b[0m     \u001b[0;32mdef\u001b[0m \u001b[0mapply_empty_result\u001b[0m\u001b[0;34m(\u001b[0m\u001b[0mself\u001b[0m\u001b[0;34m)\u001b[0m\u001b[0;34m:\u001b[0m\u001b[0;34m\u001b[0m\u001b[0;34m\u001b[0m\u001b[0m\n",
      "\u001b[0;32m~/opt/anaconda3/lib/python3.7/site-packages/pandas/core/apply.py\u001b[0m in \u001b[0;36mapply_standard\u001b[0;34m(self)\u001b[0m\n\u001b[1;32m    294\u001b[0m             \u001b[0;32mtry\u001b[0m\u001b[0;34m:\u001b[0m\u001b[0;34m\u001b[0m\u001b[0;34m\u001b[0m\u001b[0m\n\u001b[1;32m    295\u001b[0m                 result = libreduction.compute_reduction(\n\u001b[0;32m--> 296\u001b[0;31m                     \u001b[0mvalues\u001b[0m\u001b[0;34m,\u001b[0m \u001b[0mself\u001b[0m\u001b[0;34m.\u001b[0m\u001b[0mf\u001b[0m\u001b[0;34m,\u001b[0m \u001b[0maxis\u001b[0m\u001b[0;34m=\u001b[0m\u001b[0mself\u001b[0m\u001b[0;34m.\u001b[0m\u001b[0maxis\u001b[0m\u001b[0;34m,\u001b[0m \u001b[0mdummy\u001b[0m\u001b[0;34m=\u001b[0m\u001b[0mdummy\u001b[0m\u001b[0;34m,\u001b[0m \u001b[0mlabels\u001b[0m\u001b[0;34m=\u001b[0m\u001b[0mlabels\u001b[0m\u001b[0;34m\u001b[0m\u001b[0;34m\u001b[0m\u001b[0m\n\u001b[0m\u001b[1;32m    297\u001b[0m                 )\n\u001b[1;32m    298\u001b[0m             \u001b[0;32mexcept\u001b[0m \u001b[0mValueError\u001b[0m \u001b[0;32mas\u001b[0m \u001b[0merr\u001b[0m\u001b[0;34m:\u001b[0m\u001b[0;34m\u001b[0m\u001b[0;34m\u001b[0m\u001b[0m\n",
      "\u001b[0;32mpandas/_libs/reduction.pyx\u001b[0m in \u001b[0;36mpandas._libs.reduction.compute_reduction\u001b[0;34m()\u001b[0m\n",
      "\u001b[0;32mpandas/_libs/reduction.pyx\u001b[0m in \u001b[0;36mpandas._libs.reduction.Reducer.get_result\u001b[0;34m()\u001b[0m\n",
      "\u001b[0;32m<ipython-input-404-0c340c65bfcb>\u001b[0m in \u001b[0;36m<lambda>\u001b[0;34m(x)\u001b[0m\n\u001b[0;32m----> 1\u001b[0;31m \u001b[0mcomparison\u001b[0m\u001b[0;34m.\u001b[0m\u001b[0mapply\u001b[0m\u001b[0;34m(\u001b[0m\u001b[0;32mlambda\u001b[0m \u001b[0mx\u001b[0m\u001b[0;34m:\u001b[0m \u001b[0morder_sentences\u001b[0m\u001b[0;34m(\u001b[0m\u001b[0mx\u001b[0m\u001b[0;34m[\u001b[0m\u001b[0;34m'sentences'\u001b[0m\u001b[0;34m]\u001b[0m\u001b[0;34m,\u001b[0m \u001b[0mx\u001b[0m\u001b[0;34m[\u001b[0m\u001b[0;34m'summary'\u001b[0m\u001b[0;34m]\u001b[0m\u001b[0;34m)\u001b[0m\u001b[0;34m,\u001b[0m \u001b[0maxis\u001b[0m\u001b[0;34m=\u001b[0m\u001b[0;36m1\u001b[0m\u001b[0;34m)\u001b[0m\u001b[0;34m\u001b[0m\u001b[0;34m\u001b[0m\u001b[0m\n\u001b[0m",
      "\u001b[0;32m<ipython-input-403-c03c9e16bf50>\u001b[0m in \u001b[0;36morder_sentences\u001b[0;34m(sentences, base_text)\u001b[0m\n\u001b[1;32m     11\u001b[0m                 \u001b[0mprint\u001b[0m\u001b[0;34m(\u001b[0m\u001b[0msentence\u001b[0m\u001b[0;34m)\u001b[0m\u001b[0;34m\u001b[0m\u001b[0;34m\u001b[0m\u001b[0m\n\u001b[1;32m     12\u001b[0m                 \u001b[0mprint\u001b[0m\u001b[0;34m(\u001b[0m\u001b[0mmatches\u001b[0m\u001b[0;34m)\u001b[0m\u001b[0;34m\u001b[0m\u001b[0;34m\u001b[0m\u001b[0m\n\u001b[0;32m---> 13\u001b[0;31m         \u001b[0moutput\u001b[0m\u001b[0;34m.\u001b[0m\u001b[0mappend\u001b[0m\u001b[0;34m(\u001b[0m\u001b[0midx\u001b[0m\u001b[0;34m)\u001b[0m\u001b[0;34m\u001b[0m\u001b[0;34m\u001b[0m\u001b[0m\n\u001b[0m\u001b[1;32m     14\u001b[0m     \u001b[0;32mreturn\u001b[0m \u001b[0moutput\u001b[0m\u001b[0;34m\u001b[0m\u001b[0;34m\u001b[0m\u001b[0m\n",
      "\u001b[0;31mUnboundLocalError\u001b[0m: local variable 'idx' referenced before assignment"
     ]
    }
   ],
   "source": [
    "comparison.apply(lambda x: order_sentences(x['sentences'], x['summary']), axis=1)"
   ]
  },
  {
   "cell_type": "code",
   "execution_count": null,
   "metadata": {},
   "outputs": [],
   "source": []
  },
  {
   "cell_type": "code",
   "execution_count": null,
   "metadata": {},
   "outputs": [],
   "source": []
  },
  {
   "cell_type": "code",
   "execution_count": null,
   "metadata": {},
   "outputs": [],
   "source": []
  },
  {
   "cell_type": "code",
   "execution_count": null,
   "metadata": {},
   "outputs": [],
   "source": []
  },
  {
   "cell_type": "code",
   "execution_count": null,
   "metadata": {},
   "outputs": [],
   "source": []
  },
  {
   "cell_type": "code",
   "execution_count": null,
   "metadata": {},
   "outputs": [],
   "source": []
  },
  {
   "cell_type": "code",
   "execution_count": null,
   "metadata": {},
   "outputs": [],
   "source": []
  },
  {
   "cell_type": "code",
   "execution_count": null,
   "metadata": {},
   "outputs": [],
   "source": []
  },
  {
   "cell_type": "code",
   "execution_count": null,
   "metadata": {},
   "outputs": [],
   "source": []
  },
  {
   "cell_type": "code",
   "execution_count": null,
   "metadata": {},
   "outputs": [],
   "source": []
  },
  {
   "cell_type": "code",
   "execution_count": null,
   "metadata": {},
   "outputs": [],
   "source": []
  },
  {
   "cell_type": "code",
   "execution_count": 283,
   "metadata": {},
   "outputs": [
    {
     "data": {
      "text/html": [
       "<div>\n",
       "<style scoped>\n",
       "    .dataframe tbody tr th:only-of-type {\n",
       "        vertical-align: middle;\n",
       "    }\n",
       "\n",
       "    .dataframe tbody tr th {\n",
       "        vertical-align: top;\n",
       "    }\n",
       "\n",
       "    .dataframe thead th {\n",
       "        text-align: right;\n",
       "    }\n",
       "</style>\n",
       "<table border=\"1\" class=\"dataframe\">\n",
       "  <thead>\n",
       "    <tr style=\"text-align: right;\">\n",
       "      <th></th>\n",
       "      <th>entry_id</th>\n",
       "      <th>version</th>\n",
       "      <th>summary</th>\n",
       "    </tr>\n",
       "  </thead>\n",
       "  <tbody>\n",
       "    <tr>\n",
       "      <th>0</th>\n",
       "      <td>728205</td>\n",
       "      <td>0</td>\n",
       "      <td>MOSCOW — Russians love to think of their neigh...</td>\n",
       "    </tr>\n",
       "  </tbody>\n",
       "</table>\n",
       "</div>"
      ],
      "text/plain": [
       "   entry_id  version                                            summary\n",
       "0    728205        0  MOSCOW — Russians love to think of their neigh..."
      ]
     },
     "execution_count": 283,
     "metadata": {},
     "output_type": "execute_result"
    }
   ],
   "source": [
    "articles.head(1)"
   ]
  },
  {
   "cell_type": "code",
   "execution_count": 289,
   "metadata": {},
   "outputs": [],
   "source": [
    "from tqdm.auto import tqdm"
   ]
  },
  {
   "cell_type": "code",
   "execution_count": 297,
   "metadata": {},
   "outputs": [
    {
     "data": {
      "application/vnd.jupyter.widget-view+json": {
       "model_id": "df74b494e83443f38c458f27ee667694",
       "version_major": 2,
       "version_minor": 0
      },
      "text/plain": [
       "  0%|          | 0/10000 [00:00<?, ?it/s]"
      ]
     },
     "metadata": {},
     "output_type": "display_data"
    }
   ],
   "source": [
    "tqdm.pandas()\n",
    "\n",
    "new_sims = (new_versions\n",
    " .merge(articles, left_on=['a_id', 'version_new'], right_on=['entry_id', 'version'])\n",
    " .assign(full_story=lambda df: df['full_story'].str.replace('</p><p>',' '))\n",
    " .head(10000)\n",
    " .progress_apply(lambda x: SequenceMatcher(None, x['full_story'], x['summary']).ratio(), axis=1)\n",
    ")"
   ]
  },
  {
   "cell_type": "code",
   "execution_count": 319,
   "metadata": {},
   "outputs": [],
   "source": [
    "sim_df = pd.concat([\n",
    "    new_versions\n",
    "     .merge(articles, left_on=['a_id', 'version_new'], right_on=['entry_id', 'version'])\n",
    "     .assign(full_story=lambda df: df['full_story'].str.replace('</p><p>',' '))\n",
    "     .head(10000),\n",
    "    new_sims.to_frame('similarity')\n",
    "], axis=1)"
   ]
  },
  {
   "cell_type": "code",
   "execution_count": 356,
   "metadata": {
    "scrolled": true
   },
   "outputs": [],
   "source": [
    "t_new = sim_df.loc[lambda df: df['similarity'] > .9].loc[9995]['full_story']"
   ]
  },
  {
   "cell_type": "code",
   "execution_count": 357,
   "metadata": {
    "scrolled": true
   },
   "outputs": [],
   "source": [
    "t_old = sim_df.loc[lambda df: df['similarity'] > .9].loc[9995]['summary']"
   ]
  },
  {
   "cell_type": "code",
   "execution_count": 327,
   "metadata": {},
   "outputs": [],
   "source": [
    "import difflib"
   ]
  },
  {
   "cell_type": "code",
   "execution_count": 336,
   "metadata": {},
   "outputs": [],
   "source": [
    "from nltk.tokenize import sent_tokenize"
   ]
  },
  {
   "cell_type": "code",
   "execution_count": 354,
   "metadata": {},
   "outputs": [
    {
     "data": {
      "text/plain": [
       "0.918918918918919"
      ]
     },
     "execution_count": 354,
     "metadata": {},
     "output_type": "execute_result"
    }
   ],
   "source": [
    "difflib.SequenceMatcher(None, unp.split_sents(t1), unp.split_sents(t2)).ratio()"
   ]
  },
  {
   "cell_type": "code",
   "execution_count": 349,
   "metadata": {},
   "outputs": [],
   "source": [
    "from IPython.display import display, HTML"
   ]
  },
  {
   "cell_type": "code",
   "execution_count": 350,
   "metadata": {},
   "outputs": [],
   "source": [
    "import sys\n",
    "sys.path.append('../')"
   ]
  },
  {
   "cell_type": "code",
   "execution_count": 351,
   "metadata": {},
   "outputs": [],
   "source": [
    "import util_newssniffer_parsing as unp"
   ]
  },
  {
   "cell_type": "code",
   "execution_count": 352,
   "metadata": {},
   "outputs": [],
   "source": [
    "changes_old_sent, changes_new_sent = unp.get_list_diff(unp.split_sents(t1), unp.split_sents(t2))"
   ]
  },
  {
   "cell_type": "code",
   "execution_count": 353,
   "metadata": {
    "scrolled": true
   },
   "outputs": [
    {
     "data": {
      "text/html": [
       "<table>\n",
       "<tr><th>Old Version</th><th>New Version</th></tr>\n",
       "<tr><td>DALLAS—Ebola patient Thomas Eric Duncan told his fiancee the day he was diagnosed last week that he regrets exposing her to the deadly virus and had he known he was carrying Ebola, he would have “preferred to stay in Liberia and died than bring this to you,” a family friend said.</td><td>DALLAS—Ebola patient Thomas Eric Duncan told his fiancee the day he was diagnosed last week that he regrets exposing her to the deadly virus and had he known he was carrying Ebola, he would have “preferred to stay in Liberia and died than bring this to you,” a family friend said.</td></tr>\n",
       "<tr><td style=\"background-color:rgba(255,0,0,0.3)\">“ He told her , ‘ I ’m so sorry all of this is happening . .  .  .</td><td style=\"background-color:rgba(0,255,0,0.3)\">“ He told her , ‘ I ’m so sorry all of this is happening . . <span style=\"background-color:rgba(0,255,0,0.3)\">  </span> . <span style=\"background-color:rgba(0,255,0,0.3)\">  </span> .</td></tr>\n",
       "<tr><td>I would not put the love of my life in danger.’ ”</td><td>I would not put the love of my life in danger.’ ”</td></tr>\n",
       "<tr><td>Family members gathered in Dallas and were able to see Duncan on Monday at Texas Health Presbyterian Hospital via a laptop camera in his hospital room.</td><td>Family members gathered in Dallas and were able to see Duncan on Monday at Texas Health Presbyterian Hospital via a laptop camera in his hospital room.</td></tr>\n",
       "<tr><td>“He is not responsive at all.</td><td>“He is not responsive at all.</td></tr>\n",
       "<tr><td>They said he was drugged and they put him in deep sleep,” said Lloyd, who was with the family.</td><td>They said he was drugged and they put him in deep sleep,” said Lloyd, who was with the family.</td></tr>\n",
       "<tr><td>She said the family members were saddened by the sight of Duncan.</td><td>She said the family members were saddened by the sight of Duncan.</td></tr>\n",
       "<tr><td>“The mother, this was the first time seeing her son since he got to the States.</td><td>“The mother, this was the first time seeing her son since he got to the States.</td></tr>\n",
       "<tr><td>She has not seen him for 12 years, and the first time she saw him was through a monitor,” said Lloyd.</td><td>She has not seen him for 12 years, and the first time she saw him was through a monitor,” said Lloyd.</td></tr>\n",
       "<tr><td>“She was very, very emotional.</td><td>“She was very, very emotional.</td></tr>\n",
       "<tr><td>She told him to be strong, that she is praying for him, that she loves him and God is able to do all things.”</td><td>She told him to be strong, that she is praying for him, that she loves him and God is able to do all things.”</td></tr>\n",
       "<tr><td>Duncan’s mother lives in North Carolina.</td><td>Duncan’s mother lives in North Carolina.</td></tr>\n",
       "<tr><td>Duncan’s 19-year-old son, a Texas college student who had not seen his father since he was 3 in Liberia, also visited the hospital along with Troh last Tuesday night.</td><td>Duncan’s 19-year-old son, a Texas college student who had not seen his father since he was 3 in Liberia, also visited the hospital along with Troh last Tuesday night.</td></tr>\n",
       "<tr><td>Troh, who is in mandated isolation in Dallas with her 13-year-old son and two other people, spoke by phone to Lloyd.</td><td>Troh, who is in mandated isolation in Dallas with her 13-year-old son and two other people, spoke by phone to Lloyd.</td></tr>\n",
       "<tr><td>As Duncan fights for his life, Texas health officials are bracing for a critical week in Dallas, where they are watching for any signs that as many as 48 people who had contact with Duncan may develop symptoms of Ebola.</td><td>As Duncan fights for his life, Texas health officials are bracing for a critical week in Dallas, where they are watching for any signs that as many as 48 people who had contact with Duncan may develop symptoms of Ebola.</td></tr>\n",
       "<tr><td>Health officials say the incubation period for the disease is 21 days, but it could appear eight to 10 days after exposure.</td><td>Health officials say the incubation period for the disease is 21 days, but it could appear eight to 10 days after exposure.</td></tr>\n",
       "<tr><td>Duncan began showing symptoms Sept.24, when he first sought medical treatment at Texas Presbyterian, three blocks from the home of Troh.</td><td>Duncan began showing symptoms Sept.24, when he first sought medical treatment at Texas Presbyterian, three blocks from the home of Troh.</td></tr>\n",
       "<tr><td>Duncan was sent home but was taken back to the hospital by ambulance Sept. 28.</td><td>Duncan was sent home but was taken back to the hospital by ambulance Sept. 28.</td></tr>\n",
       "<tr><td>Two days later, last Tuesday, a blood test confirmed that he had Ebola.</td><td>Two days later, last Tuesday, a blood test confirmed that he had Ebola.</td></tr>\n",
       "<tr><td>Health officials say the “10-day threshold” for the disease will fall within the next few days.</td><td>Health officials say the “10-day threshold” for the disease will fall within the next few days.</td></tr>\n",
       "<tr><td>“This is a critical week.</td><td>“This is a critical week.</td></tr>\n",
       "<tr><td>We need to be prepared in Dallas for what could happen if family members become ill,” said David Lakey, commissioner of the Texas Department of Health Services.</td><td>We need to be prepared in Dallas for what could happen if family members become ill,” said David Lakey, commissioner of the Texas Department of Health Services.</td></tr>\n",
       "<tr><td>“We are doing contingency planning and praying for what if.</td><td>“We are doing contingency planning and praying for what if.</td></tr>\n",
       "<tr><td>I have been concentrating on what we need to do now to protect Dallas.”</td><td>I have been concentrating on what we need to do now to protect Dallas.”</td></tr>\n",
       "<tr><td>None of the 10 “high risk” people — including four people who lived in the apartment where Duncan stayed and six health-care workers — have developed symptoms, health officials said.</td><td>None of the 10 “high risk” people — including four people who lived in the apartment where Duncan stayed and six health-care workers — have developed symptoms, health officials said.</td></tr>\n",
       "<tr><td>On Sunday, members of the Liberian community association were able to take her traditional Liberian food, including jollof rice, foo foo, cassava leaves and plantains.</td><td>On Sunday, members of the Liberian community association were able to take her traditional Liberian food, including jollof rice, foo foo, cassava leaves and plantains.</td></tr>\n",
       "<tr><td>“She called me, ‘I’m eating some traditional Liberian food,’ ” Lloyd said.</td><td>“She called me, ‘I’m eating some traditional Liberian food,’ ” Lloyd said.</td></tr>\n",
       "<tr><td>“She was very happy about that.”</td><td>“She was very happy about that.”</td></tr>\n",
       "<tr><td>Health officials say they are continuing to watch 38 other people who had “possible contact” with Duncan and were considered to be at lower risk.</td><td>Health officials say they are continuing to watch 38 other people who had “possible contact” with Duncan and were considered to be at lower risk.</td></tr>\n",
       "<tr><td>Twice a day, health officials are checking the temperature of the 48 people — of whom six are in mandated isolation.</td><td>Twice a day, health officials are checking the temperature of the 48 people — of whom six are in mandated isolation.</td></tr>\n",
       "<tr><td></td><td style=\"background-color:rgba(0,255,0,0.3)\">“They receive one call a day [to ask for a temperature reading] and one visit per day,” said Sana Sayed, a spokeswoman for the city of Dallas.</td></tr>\n",
       "<tr><td>“A health worker makes a physical contact with the 48 people being monitored every single day, seeing them and checking their temperature.”</td><td>“A health worker makes a physical contact with the 48 people being monitored every single day, seeing them and checking their temperature.”</td></tr>\n",
       "<tr><td style=\"background-color:rgba(255,0,0,0.3)\">“They receive one call a day [to ask for a temperature reading] and one visit per day,” said Sana Sayed, a spokeswoman for the city of Dallas.</td><td></td></tr>\n",
       "<tr><td>Lakey would not discuss why hospital protocols failed to detect Duncan the first time he visited Texas Health Presbyterian with a 101.1 fever, complaining of abdominal pains.</td><td>Lakey would not discuss why hospital protocols failed to detect Duncan the first time he visited Texas Health Presbyterian with a 101.1 fever, complaining of abdominal pains.</td></tr>\n",
       "<tr><td>The hospital’s decision to send him home put other people at risk.</td><td>The hospital’s decision to send him home put other people at risk.</td></tr>\n",
       "<tr><td>“A lot of evaluations will take place to find out what happened on the first presentation to why wasn’t a diagnosis made,” Lakey said.</td><td>“A lot of evaluations will take place to find out what happened on the first presentation to why wasn’t a diagnosis made,” Lakey said.</td></tr>\n",
       "<tr><td>Dallas County Commissioner John Wiley Price criticized the hospital for failing to heed warnings sent in July about what protocols hospitals should follow to treat infectious diseases.</td><td>Dallas County Commissioner John Wiley Price criticized the hospital for failing to heed warnings sent in July about what protocols hospitals should follow to treat infectious diseases.</td></tr>\n",
       "<tr><td>“I said at the outset, Presbyterian is a boutique hospital next to a little Ellis Island,” Price said, referring to the neighborhood where many residents are immigrants.</td><td>“I said at the outset, Presbyterian is a boutique hospital next to a little Ellis Island,” Price said, referring to the neighborhood where many residents are immigrants.</td></tr>\n",
       "<tr><td>“If you don’t have insurance, you’re not going to get treated.</td><td>“If you don’t have insurance, you’re not going to get treated.</td></tr>\n",
       "<tr><td>That’s the elephant in the room.”</td><td>That’s the elephant in the room.”</td></tr>\n",
       "<tr><td>Texas Health Resources, the hospital network that includes Texas Health Presbyterian, responded to criticism Tuesday by saying, “He was treated the way any other patient would have been treated, regardless of nationality or ability to pay for care.</td><td>Texas Health Resources, the hospital network that includes Texas Health Presbyterian, responded to criticism Tuesday by saying, “He was treated the way any other patient would have been treated, regardless of nationality or ability to pay for care.</td></tr>\n",
       "<tr><td>We have a long history of treating a multicultural community in this area.”</td><td>We have a long history of treating a multicultural community in this area.”</td></tr>\n",
       "<tr><td>Thomas Frieden, director of the Centers for Disease Control and Prevention, said that the agency was exploring ways to increase the screening of passengers on both sides of the Atlantic.</td><td>Thomas Frieden, director of the Centers for Disease Control and Prevention, said that the agency was exploring ways to increase the screening of passengers on both sides of the Atlantic.</td></tr>\n",
       "<tr><td>“We’re working very intensively on the screening process,” Frieden said in a conference call with reporters Tuesday.</td><td>“We’re working very intensively on the screening process,” Frieden said in a conference call with reporters Tuesday.</td></tr>\n",
       "<tr><td style=\"background-color:rgba(255,0,0,0.3)\">“ We ’re looking at that entire process to see what more can be done . ”</td><td style=\"background-color:rgba(0,255,0,0.3)\">“ We ’re looking at that entire process to see what more can be done . ”</td></tr>\n",
       "<tr><td>While he promised that “additional steps” were coming, Frieden did not elaborate on what that would include.</td><td>While he promised that “additional steps” were coming, Frieden did not elaborate on what that would include.</td></tr>\n",
       "<tr><td>Sen. Charles E. Schumer (D-N.Y.) said in an interview Tuesday that Frieden told him that the plan is to have “tougher types of screening on U.S. soil.”</td><td>Sen. Charles E. Schumer (D-N.Y.) said in an interview Tuesday that Frieden told him that the plan is to have “tougher types of screening on U.S. soil.”</td></tr>\n",
       "<tr><td>Still, Frieden said the CDC has had teams on the ground working to strengthen the screening of passengers leaving West Africa.</td><td>Still, Frieden said the CDC has had teams on the ground working to strengthen the screening of passengers leaving West Africa.</td></tr>\n",
       "<tr><td>The screening has included taking temperatures, keeping an eye out for other symptoms and having travelers fill out questionnaires.</td><td>The screening has included taking temperatures, keeping an eye out for other symptoms and having travelers fill out questionnaires.</td></tr>\n",
       "<tr><td>He said the CDC methods have been used to screen more than 36,000 people over two months.</td><td>He said the CDC methods have been used to screen more than 36,000 people over two months.</td></tr>\n",
       "<tr><td>And of those travelers, a small portion of whom were coming to the United States, only 77 people had a fever or other symptoms that caused them to be taken out of line, he said.</td><td>And of those travelers, a small portion of whom were coming to the United States, only 77 people had a fever or other symptoms that caused them to be taken out of line, he said.</td></tr>\n",
       "<tr><td>“As far as we know, none of those 77 people had Ebola,” Frieden noted.</td><td>“As far as we know, none of those 77 people had Ebola,” Frieden noted.</td></tr>\n",
       "<tr><td>Of course, these methods are not perfect, as was made clear when Duncan filled out a questionnaire, had his temperature taken by a person trained by the CDC and boarded multiple flights on his way to Dallas.</td><td>Of course, these methods are not perfect, as was made clear when Duncan filled out a questionnaire, had his temperature taken by a person trained by the CDC and boarded multiple flights on his way to Dallas.</td></tr>\n",
       "<tr><td>President Obama’s promise of stepped-up screening for Ebola at U.S. airports that handle international flights will fall on the shoulders of the Customs and Border Protection officers who greet passengers arriving from abroad.</td><td>President Obama’s promise of stepped-up screening for Ebola at U.S. airports that handle international flights will fall on the shoulders of the Customs and Border Protection officers who greet passengers arriving from abroad.</td></tr>\n",
       "<tr><td>Though they often seem preoccupied with scrutinizing passports and luggage, customs officers are trained to detect signs of illness, and they routinely do just that, officials said.</td><td>Though they often seem preoccupied with scrutinizing passports and luggage, customs officers are trained to detect signs of illness, and they routinely do just that, officials said.</td></tr>\n",
       "<tr><td>“CBP personnel review all travelers entering the United States for general overt signs of illnesses,” the agency said in a statement.</td><td>“CBP personnel review all travelers entering the United States for general overt signs of illnesses,” the agency said in a statement.</td></tr>\n",
       "<tr><td>In addition to visual observations, CBP officers question passengers about their health and are instructed to alert the CDC if a passenger appears to be seriously ill.</td><td>In addition to visual observations, CBP officers question passengers about their health and are instructed to alert the CDC if a passenger appears to be seriously ill.</td></tr>\n",
       "<tr><td>If a person is believed to have “a possible communicable disease,” they are isolated while the CDC and local authorities conduct the evaluation.</td><td>If a person is believed to have “a possible communicable disease,” they are isolated while the CDC and local authorities conduct the evaluation.</td></tr>\n",
       "<tr><td>Federal law requires pilots to radio ahead if a passenger dies or falls ill with certain symptoms.</td><td>Federal law requires pilots to radio ahead if a passenger dies or falls ill with certain symptoms.</td></tr>\n",
       "<tr><td>“If somebody comes in on a flight that has a fever or any one of those triggers, CDC can insert themselves at any point in the process,” said Rob Yingling, spokesman for the Metropolitan Washington Airports Authority, which runs Dulles International and Reagan National airports.</td><td>“If somebody comes in on a flight that has a fever or any one of those triggers, CDC can insert themselves at any point in the process,” said Rob Yingling, spokesman for the Metropolitan Washington Airports Authority, which runs Dulles International and Reagan National airports.</td></tr>\n",
       "<tr><td>“They can say [to the pilot], ‘Tell us more about this case,’ or they can actually physically go to the plane.”</td><td>“They can say [to the pilot], ‘Tell us more about this case,’ or they can actually physically go to the plane.”</td></tr>\n",
       "<tr><td>The CDC maintains an office at Dulles and other major airports that handle international flights.</td><td>The CDC maintains an office at Dulles and other major airports that handle international flights.</td></tr>\n",
       "<tr><td>Meanwhile, up to 4,000 service members are expected to head to West African countries ravaged by the Ebola epidemic.</td><td>Meanwhile, up to 4,000 service members are expected to head to West African countries ravaged by the Ebola epidemic.</td></tr>\n",
       "<tr><td>They will be monitored several times a day and, if any of them contract Ebola, they will be flown back to the United States aboard a specially designed plane for treatment.</td><td>They will be monitored several times a day and, if any of them contract Ebola, they will be flown back to the United States aboard a specially designed plane for treatment.</td></tr>\n",
       "<tr><td>Among the tasks laid out for the military is the construction of 17 treatment centers for people with the disease.</td><td>Among the tasks laid out for the military is the construction of 17 treatment centers for people with the disease.</td></tr>\n",
       "<tr><td>This will take until the middle of next month, according to Gen. David Rodriguez, chief of U.S. Africa Command.</td><td>This will take until the middle of next month, according to Gen. David Rodriguez, chief of U.S. Africa Command.</td></tr>\n",
       "<tr><td>Mark Berman, Ashley Halsey III, Dan Lamonthe and Amy Ellis Nutt contributed to this report from Washington.</td><td>Mark Berman, Ashley Halsey III, Dan Lamonthe and Amy Ellis Nutt contributed to this report from Washington.</td></tr>\n",
       "<tr><td>Read more:</td><td>Read more:</td></tr>\n",
       "<tr><td>Ebola’s catastrophic effect on the body</td><td>Ebola’s catastrophic effect on the body</td></tr>\n",
       "<tr><td style=\"background-color:rgba(255,0,0,0.3)\">Ebola patient may face criminal charges in Texas <span style=\"background-color:rgba(255,0,0,0.3)\">A</span> <span style=\"background-color:rgba(255,0,0,0.3)\">vexing</span> <span style=\"background-color:rgba(255,0,0,0.3)\">mystery</span> <span style=\"background-color:rgba(255,0,0,0.3)\">in</span> <span style=\"background-color:rgba(255,0,0,0.3)\">Spain</span> <span style=\"background-color:rgba(255,0,0,0.3)\">:</span></td><td style=\"background-color:rgba(0,255,0,0.3)\">Ebola patient may face criminal charges in Texas      </td></tr>\n",
       "<tr><td></td><td style=\"background-color:rgba(0,255,0,0.3)\">A vexing mystery in Spain:</td></tr>\n",
       "<tr><td>How did a nurse contract Ebola?</td><td>How did a nurse contract Ebola?</td></tr>\n",
       "<tr><td>Post Exclusive:</td><td>Post Exclusive:</td></tr>\n",
       "<tr><td>How the world failed to stop the Ebola epidemic</td><td>How the world failed to stop the Ebola epidemic</td></tr>\n",
       "<tr><td style=\"background-color:rgba(255,0,0,0.3)\">Liberian pastor in Dallas fights a fear more powerful than disease Reporters and infectious disease expert answer your questions live</td><td></td></tr>\n",
       "<tr><td></td><td style=\"background-color:rgba(0,255,0,0.3)\">Liberian pastor in Dallas fights a fear more powerful than disease</td></tr>\n",
       "<tr><td></td><td style=\"background-color:rgba(0,255,0,0.3)\">Reporters and infectious disease expert answer your questions live</td></tr>\n",
       "</table>"
      ],
      "text/plain": [
       "<IPython.core.display.HTML object>"
      ]
     },
     "metadata": {},
     "output_type": "display_data"
    }
   ],
   "source": [
    "display(HTML(unp.html_compare_articles(changes_old_sent, changes_new_sent)))"
   ]
  },
  {
   "cell_type": "code",
   "execution_count": null,
   "metadata": {},
   "outputs": [],
   "source": []
  },
  {
   "cell_type": "code",
   "execution_count": 355,
   "metadata": {
    "scrolled": true
   },
   "outputs": [
    {
     "data": {
      "text/plain": [
       "'DALLAS—Ebola patient Thomas Eric Duncan told his fiancee the day he was diagnosed last week that he regrets exposing her to the deadly virus and had he known he was carrying Ebola, he would have “preferred to stay in Liberia and died than bring this to you,” a family friend said. “He told her, ‘I’m so sorry all of this is happening. . . . I would not put the love of my life in danger.’ ” Family members gathered in Dallas and were able to see Duncan on Monday at Texas Health Presbyterian Hospital via a laptop camera in his hospital room. “He is not responsive at all. They said he was drugged and they put him in deep sleep,” said Lloyd, who was with the family. She said the family members were saddened by the sight of Duncan. “The mother, this was the first time seeing her son since he got to the States. She has not seen him for 12 years, and the first time she saw him was through a monitor,” said Lloyd. “She was very, very emotional. She told him to be strong, that she is praying for him, that she loves him and God is able to do all things.” Duncan’s mother lives in North Carolina. Duncan’s 19-year-old son, a Texas college student who had not seen his father since he was 3 in Liberia, also visited the hospital along with Troh last Tuesday night. Troh, who is in mandated isolation in Dallas with her 13-year-old son and two other people, spoke by phone to Lloyd. As Duncan fights for his life, Texas health officials are bracing for a critical week in Dallas, where they are watching for any signs that as many as 48 people who had contact with Duncan may develop symptoms of Ebola. Health officials say the incubation period for the disease is 21 days, but it could appear eight to 10 days after exposure. Duncan began showing symptoms Sept.24, when he first sought medical treatment at Texas Presbyterian, three blocks from the home of Troh. Duncan was sent home but was taken back to the hospital by ambulance Sept.\\xa028. Two days later, last Tuesday, a blood test confirmed that he had Ebola. Health officials say the “10-day threshold” for the disease will fall within the next few days. “This is a critical week. We need to be prepared in Dallas for what could happen if family members become ill,” said David Lakey, commissioner of the Texas Department of Health Services. “We are doing contingency planning and praying for what if. I have been concentrating on what we need to do now to protect Dallas.” None of the 10 “high risk” people — including four people who lived in the apartment where Duncan stayed and six health-care workers — have developed symptoms, health officials said. On Sunday, members of the Liberian community association were able to take her traditional Liberian food, including jollof rice, foo foo, cassava leaves and plantains. “She called me, ‘I’m eating some traditional Liberian food,’\\xa0” Lloyd said. “She was very happy about that.” Health officials say they are continuing to watch 38 other people who had “possible contact” with Duncan and were considered to be at lower risk. Twice a day, health officials are checking the temperature of the 48 people — of whom six are in mandated isolation. “A health worker makes a physical contact with the 48 people being monitored every single day, seeing them and checking their temperature.” “They receive one call a day [to ask for a temperature reading] and one visit per day,” said Sana Sayed, a spokeswoman for the city of Dallas.  Lakey would not discuss why hospital protocols failed to detect Duncan the first time he visited Texas Health Presbyterian with a 101.1 fever, complaining of abdominal pains. The hospital’s decision to send him home put other people at risk. “A lot of evaluations will take place to find out what happened on the first presentation to why wasn’t a diagnosis made,” Lakey said. Dallas County Commissioner John Wiley Price criticized the hospital for failing to heed warnings sent in July about what protocols hospitals should follow to treat infectious diseases. “I said at the outset, Presbyterian is a boutique hospital next to a little Ellis Island,” Price said, referring to the neighborhood where many residents are immigrants. “If you don’t have insurance, you’re not going to get treated. That’s the elephant in the room.” Texas Health Resources, the hospital network that includes Texas Health Presbyterian, responded to criticism Tuesday by saying, “He was treated the way any other patient would have been treated, regardless of nationality or ability to pay for care. We have a long history of treating a multicultural community in this area.” Thomas Frieden, director of the Centers for Disease Control and Prevention, said that the agency was exploring ways to increase the screening of passengers on both sides of the Atlantic. “We’re working very intensively on the screening process,” Frieden said in a conference call with reporters Tuesday. “ We’re looking at that entire process to see what more can be done.” While he promised that “additional steps” were coming, Frieden did not elaborate on what that would include. Sen. Charles E. Schumer (D-N.Y.) said in an interview Tuesday that Frieden told him that the plan is to have “tougher types of screening on U.S. soil.” Still, Frieden said the CDC has had teams on the ground working to strengthen the screening of passengers leaving West Africa. The screening has included taking temperatures, keeping an eye out for other symptoms and having travelers fill out questionnaires. He said the CDC methods have been used to screen more than 36,000 people over two months. And of those travelers, a small portion of whom were coming to the United States, only 77 people had a fever or other symptoms that caused them to be taken out of line, he said. “As far as we know, none of those 77 people had Ebola,” Frieden noted. Of course, these methods are not perfect, as was made clear when Duncan filled out a questionnaire, had his temperature taken by a person trained by the CDC and boarded multiple flights on his way to Dallas. President Obama’s promise of stepped-up screening for Ebola at U.S. airports that handle international flights will fall on the shoulders of the Customs and Border Protection officers who greet passengers arriving from abroad. Though they often seem preoccupied with scrutinizing passports and luggage, customs officers are trained to detect signs of illness, and they routinely do just that, officials said. “CBP personnel review all travelers entering the United States for general overt signs of illnesses,” the agency said in a statement. In addition to visual observations, CBP officers question passengers about their health and are instructed to alert the CDC if a passenger appears to be seriously ill. If a person is believed to have “a possible communicable disease,” they are isolated while the CDC and local authorities conduct the evaluation. Federal law requires pilots to radio ahead if a passenger dies or falls ill with certain symptoms. “If somebody comes in on a flight that has a fever or any one of those triggers, CDC can insert themselves at any point in the process,” said Rob Yingling, spokesman for the Metropolitan Washington Airports Authority, which runs Dulles International and Reagan National airports. “They can say [to the pilot], ‘Tell us more about this case,’ or they can actually physically go to the plane.” The CDC maintains an office at Dulles and other major airports that handle international flights. Meanwhile, up to 4,000 service members are expected to head to West African countries ravaged by the Ebola epidemic. They will be monitored several times a day and, if any of them contract Ebola, they will be flown back to the United States aboard a specially designed plane for treatment. Among the tasks laid out for the military is the construction of 17 treatment centers for people with the disease. This will take until the middle of next month, according to Gen. David Rodriguez, chief of U.S. Africa Command. Mark Berman, Ashley Halsey III, Dan Lamonthe and Amy Ellis Nutt contributed to this report from Washington. Read more: Ebola’s catastrophic effect on the body Ebola patient may face criminal charges in Texas A vexing mystery in Spain: How did a nurse contract Ebola? Post Exclusive: How the world failed to stop the Ebola epidemic Liberian pastor in Dallas fights a fear more powerful than disease Reporters and infectious disease expert answer your questions live'"
      ]
     },
     "execution_count": 355,
     "metadata": {},
     "output_type": "execute_result"
    }
   ],
   "source": [
    "t1"
   ]
  },
  {
   "cell_type": "code",
   "execution_count": null,
   "metadata": {},
   "outputs": [],
   "source": []
  },
  {
   "cell_type": "code",
   "execution_count": null,
   "metadata": {},
   "outputs": [],
   "source": []
  },
  {
   "cell_type": "code",
   "execution_count": null,
   "metadata": {},
   "outputs": [],
   "source": []
  },
  {
   "cell_type": "code",
   "execution_count": null,
   "metadata": {},
   "outputs": [],
   "source": []
  },
  {
   "cell_type": "code",
   "execution_count": null,
   "metadata": {},
   "outputs": [],
   "source": []
  },
  {
   "cell_type": "code",
   "execution_count": null,
   "metadata": {},
   "outputs": [],
   "source": []
  },
  {
   "cell_type": "code",
   "execution_count": null,
   "metadata": {},
   "outputs": [],
   "source": []
  },
  {
   "cell_type": "code",
   "execution_count": 274,
   "metadata": {},
   "outputs": [],
   "source": [
    "from difflib import SequenceMatcher"
   ]
  },
  {
   "cell_type": "code",
   "execution_count": null,
   "metadata": {
    "scrolled": true
   },
   "outputs": [],
   "source": []
  },
  {
   "cell_type": "code",
   "execution_count": null,
   "metadata": {},
   "outputs": [],
   "source": []
  },
  {
   "cell_type": "code",
   "execution_count": null,
   "metadata": {},
   "outputs": [],
   "source": []
  },
  {
   "cell_type": "code",
   "execution_count": null,
   "metadata": {},
   "outputs": [],
   "source": []
  },
  {
   "cell_type": "code",
   "execution_count": null,
   "metadata": {},
   "outputs": [],
   "source": []
  },
  {
   "cell_type": "code",
   "execution_count": null,
   "metadata": {},
   "outputs": [],
   "source": []
  },
  {
   "cell_type": "code",
   "execution_count": null,
   "metadata": {},
   "outputs": [],
   "source": []
  },
  {
   "cell_type": "code",
   "execution_count": null,
   "metadata": {},
   "outputs": [],
   "source": []
  },
  {
   "cell_type": "code",
   "execution_count": null,
   "metadata": {},
   "outputs": [],
   "source": []
  }
 ],
 "metadata": {
  "hide_input": false,
  "kernelspec": {
   "display_name": "Python 3",
   "language": "python",
   "name": "python3"
  },
  "language_info": {
   "codemirror_mode": {
    "name": "ipython",
    "version": 3
   },
   "file_extension": ".py",
   "mimetype": "text/x-python",
   "name": "python",
   "nbconvert_exporter": "python",
   "pygments_lexer": "ipython3",
   "version": "3.7.6"
  }
 },
 "nbformat": 4,
 "nbformat_minor": 4
}
