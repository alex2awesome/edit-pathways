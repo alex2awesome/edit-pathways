{
 "cells": [
  {
   "cell_type": "code",
   "execution_count": 1,
   "metadata": {},
   "outputs": [],
   "source": [
    "import os \n",
    "import glob\n",
    "import pandas as pd \n",
    "from tqdm.auto import tqdm\n",
    "import matplotlib.pyplot as plt\n",
    "import seaborn as sns\n",
    "import re\n",
    "from difflib import ndiff\n",
    "import spacy\n",
    "from collections import defaultdict\n",
    "from tqdm.auto import tqdm\n",
    "import difflib\n",
    "from IPython.display import display, HTML\n",
    "plt.rc('font', size=14)\n",
    "from importlib import reload\n",
    "import sys\n",
    "sys.path.insert(0, '..')\n",
    "import util.util_newssniffer_parsing as up"
   ]
  },
  {
   "cell_type": "markdown",
   "metadata": {},
   "source": [
    "# Process Data from Different Sources"
   ]
  },
  {
   "cell_type": "code",
   "execution_count": 104,
   "metadata": {},
   "outputs": [
    {
     "data": {
      "application/vnd.jupyter.widget-view+json": {
       "model_id": "5d22aa6b879b42e6b179afcf2250b71e",
       "version_major": 2,
       "version_minor": 0
      },
      "text/plain": [
       "  0%|          | 0/40 [00:00<?, ?it/s]"
      ]
     },
     "metadata": {},
     "output_type": "display_data"
    },
    {
     "data": {
      "application/vnd.jupyter.widget-view+json": {
       "model_id": "62ad0c1cf1a1478b92cf5732f0f4f729",
       "version_major": 2,
       "version_minor": 0
      },
      "text/plain": [
       "  0%|          | 0/35 [00:00<?, ?it/s]"
      ]
     },
     "metadata": {},
     "output_type": "display_data"
    }
   ],
   "source": [
    "#  v1 diffs\n",
    "## read in small article files and \"diff\" files\n",
    "\n",
    "## get filepaths\n",
    "cache_dir = '../scraping/scrapy-cloud/output_dir/'\n",
    "files = glob.glob(os.path.join(cache_dir, 'article_output', '*'))\n",
    "article_files = list(filter(lambda x: 'newssniffer-index' not in x, files))\n",
    "csvs = list(filter(lambda x: '.csv' in x, article_files))\n",
    "jsons = list(filter(lambda x: '.json' in x, article_files))\n",
    "jsons = list(filter(lambda x: 'version' not in x and 'article-output' not in x, article_files))\n",
    "\n",
    "## read in CSVs and JSONs\n",
    "article_dfs = list(map(lambda x: pd.read_csv(x, index_col=0), tqdm(csvs)))\n",
    "article_jsons = []\n",
    "for x in tqdm(jsons):\n",
    "    try: \n",
    "        j = pd.read_json(x, orient='records', lines=True)\n",
    "    except:\n",
    "        j = pd.read_json(x, orient='records')\n",
    "    article_jsons.append(j)\n",
    "\n",
    "article_df = pd.concat([\n",
    "    pd.concat(article_dfs).rename(columns={'url':'article_url', 'file_id': 'article_id'}),\n",
    "    pd.concat(article_jsons).drop('request_url', axis=1)\n",
    "])\n",
    "\n",
    "article_df['version'] = article_df['version'].str.findall('\\d+').str.get(0).astype(int)\n",
    "article_df = article_df.drop_duplicates(['version', 'article_id']).reset_index(drop=True)"
   ]
  },
  {
   "cell_type": "code",
   "execution_count": null,
   "metadata": {},
   "outputs": [],
   "source": [
    "## v2 diffs"
   ]
  },
  {
   "cell_type": "code",
   "execution_count": 2,
   "metadata": {},
   "outputs": [],
   "source": [
    "article_page_files = glob.glob('../scraping/scrapy-cloud/output_dir/article_output/version-output-*-8.json')\n",
    "article_page_files = sorted(article_page_files, key=lambda x: int(re.search('output-(\\d+)-8.json', x)[1]))\n",
    "large_article_files = glob.glob('../scraping/scrapy-cloud/output_dir/article_output/article-ou*')"
   ]
  },
  {
   "cell_type": "code",
   "execution_count": 3,
   "metadata": {},
   "outputs": [
    {
     "data": {
      "application/vnd.jupyter.widget-view+json": {
       "model_id": "1ed6b48e85a6406e87324e66dd12ba0c",
       "version_major": 2,
       "version_minor": 0
      },
      "text/plain": [
       "  0%|          | 0/8 [00:00<?, ?it/s]"
      ]
     },
     "metadata": {},
     "output_type": "display_data"
    },
    {
     "data": {
      "application/vnd.jupyter.widget-view+json": {
       "model_id": "25cbbba9e3db40f8b9d1e0c889195a04",
       "version_major": 2,
       "version_minor": 0
      },
      "text/plain": [
       "0it [00:00, ?it/s]"
      ]
     },
     "metadata": {},
     "output_type": "display_data"
    },
    {
     "data": {
      "application/vnd.jupyter.widget-view+json": {
       "model_id": "96614d04269743b4b72748844070276e",
       "version_major": 2,
       "version_minor": 0
      },
      "text/plain": [
       "0it [00:00, ?it/s]"
      ]
     },
     "metadata": {},
     "output_type": "display_data"
    },
    {
     "data": {
      "application/vnd.jupyter.widget-view+json": {
       "model_id": "efb9a5ab318a430f8b64ee5450c65bbb",
       "version_major": 2,
       "version_minor": 0
      },
      "text/plain": [
       "0it [00:00, ?it/s]"
      ]
     },
     "metadata": {},
     "output_type": "display_data"
    },
    {
     "data": {
      "application/vnd.jupyter.widget-view+json": {
       "model_id": "d1e7c04d1a3143709669b92df556a241",
       "version_major": 2,
       "version_minor": 0
      },
      "text/plain": [
       "0it [00:00, ?it/s]"
      ]
     },
     "metadata": {},
     "output_type": "display_data"
    },
    {
     "data": {
      "application/vnd.jupyter.widget-view+json": {
       "model_id": "4d5b25f44e784fac9bd80eb5cfc0871f",
       "version_major": 2,
       "version_minor": 0
      },
      "text/plain": [
       "0it [00:00, ?it/s]"
      ]
     },
     "metadata": {},
     "output_type": "display_data"
    },
    {
     "data": {
      "application/vnd.jupyter.widget-view+json": {
       "model_id": "9865ffcb6cb24b048cf26f7d51f4d3a1",
       "version_major": 2,
       "version_minor": 0
      },
      "text/plain": [
       "0it [00:00, ?it/s]"
      ]
     },
     "metadata": {},
     "output_type": "display_data"
    },
    {
     "data": {
      "application/vnd.jupyter.widget-view+json": {
       "model_id": "bf94f8bb0ac347f5bf48fd6357c5754a",
       "version_major": 2,
       "version_minor": 0
      },
      "text/plain": [
       "0it [00:00, ?it/s]"
      ]
     },
     "metadata": {},
     "output_type": "display_data"
    },
    {
     "data": {
      "application/vnd.jupyter.widget-view+json": {
       "model_id": "180f29852b3342009c32205db7b948e1",
       "version_major": 2,
       "version_minor": 0
      },
      "text/plain": [
       "0it [00:00, ?it/s]"
      ]
     },
     "metadata": {},
     "output_type": "display_data"
    }
   ],
   "source": [
    "urls = []\n",
    "for large_article_file in tqdm(large_article_files):\n",
    "    with open(large_article_file) as f:\n",
    "        for idx, line in tqdm(enumerate(f)):\n",
    "            article_json = up.parse_bad_json_line(line)\n",
    "            if article_json is None:\n",
    "                continue\n",
    "\n",
    "            if len(article_json['html']) > 0:\n",
    "                url = article_json['html'].split('>')[1]\n",
    "                urls.append(url)"
   ]
  },
  {
   "cell_type": "code",
   "execution_count": 4,
   "metadata": {},
   "outputs": [],
   "source": [
    "url_s = pd.Series(urls)\n",
    "url_s = url_s.str.replace('<a href=\"', '').str.replace('\"', '')\n",
    "url_df = url_s.to_frame('url')"
   ]
  },
  {
   "cell_type": "code",
   "execution_count": 5,
   "metadata": {},
   "outputs": [],
   "source": [
    "from urllib.parse import urlparse"
   ]
  },
  {
   "cell_type": "code",
   "execution_count": 6,
   "metadata": {},
   "outputs": [],
   "source": [
    "url_df['domain'] = url_s.apply(lambda x: urlparse(x).netloc)"
   ]
  },
  {
   "cell_type": "code",
   "execution_count": 73,
   "metadata": {},
   "outputs": [
    {
     "data": {
      "text/plain": [
       "www.bbc.co.uk             793064\n",
       "www.theguardian.com       668905\n",
       "news.bbc.co.uk            451473\n",
       "www.nytimes.com           395896\n",
       "www.guardian.co.uk        188077\n",
       "www.independent.co.uk     158920\n",
       "www.washingtonpost.com     68638\n",
       "www.rt.com                 65138\n",
       "firstlook.org               1656\n",
       "newsimg.bbc.co.uk            157\n",
       "newsforums.bbc.co.uk           4\n",
       "Name: domain, dtype: int64"
      ]
     },
     "execution_count": 73,
     "metadata": {},
     "output_type": "execute_result"
    }
   ],
   "source": [
    "url_df['domain'].value_counts()"
   ]
  },
  {
   "cell_type": "code",
   "execution_count": 33,
   "metadata": {
    "scrolled": true
   },
   "outputs": [],
   "source": [
    "article_page_df = pd.concat(\n",
    "    list(map(pd.read_json, article_page_files))\n",
    ")"
   ]
  },
  {
   "cell_type": "code",
   "execution_count": 20,
   "metadata": {},
   "outputs": [
    {
     "data": {
      "text/html": [
       "<div>\n",
       "<style scoped>\n",
       "    .dataframe tbody tr th:only-of-type {\n",
       "        vertical-align: middle;\n",
       "    }\n",
       "\n",
       "    .dataframe tbody tr th {\n",
       "        vertical-align: top;\n",
       "    }\n",
       "\n",
       "    .dataframe thead th {\n",
       "        text-align: right;\n",
       "    }\n",
       "</style>\n",
       "<table border=\"1\" class=\"dataframe\">\n",
       "  <thead>\n",
       "    <tr style=\"text-align: right;\">\n",
       "      <th></th>\n",
       "      <th>version_url</th>\n",
       "      <th>version</th>\n",
       "      <th>time_created</th>\n",
       "      <th>time_delta</th>\n",
       "      <th>title</th>\n",
       "      <th>article_url</th>\n",
       "      <th>article_id</th>\n",
       "      <th>source</th>\n",
       "    </tr>\n",
       "  </thead>\n",
       "  <tbody>\n",
       "    <tr>\n",
       "      <th>0</th>\n",
       "      <td>https://www.newssniffer.co.uk/articles/35/vers...</td>\n",
       "      <td>0</td>\n",
       "      <td>August 29, 2006 01:35</td>\n",
       "      <td></td>\n",
       "      <td>Annan asks Israel to end blockade</td>\n",
       "      <td>http://news.bbc.co.uk/go/rss/-/1/hi/world/midd...</td>\n",
       "      <td>35</td>\n",
       "      <td>bbc</td>\n",
       "    </tr>\n",
       "    <tr>\n",
       "      <th>1</th>\n",
       "      <td>https://www.newssniffer.co.uk/articles/36/vers...</td>\n",
       "      <td>0</td>\n",
       "      <td>August 29, 2006 01:35</td>\n",
       "      <td></td>\n",
       "      <td>Dozens die in fresh Iraq violence</td>\n",
       "      <td>http://news.bbc.co.uk/go/rss/-/1/hi/world/midd...</td>\n",
       "      <td>36</td>\n",
       "      <td>bbc</td>\n",
       "    </tr>\n",
       "  </tbody>\n",
       "</table>\n",
       "</div>"
      ],
      "text/plain": [
       "                                         version_url  version  \\\n",
       "0  https://www.newssniffer.co.uk/articles/35/vers...        0   \n",
       "1  https://www.newssniffer.co.uk/articles/36/vers...        0   \n",
       "\n",
       "            time_created time_delta                              title  \\\n",
       "0  August 29, 2006 01:35             Annan asks Israel to end blockade   \n",
       "1  August 29, 2006 01:35             Dozens die in fresh Iraq violence   \n",
       "\n",
       "                                         article_url  article_id source  \n",
       "0  http://news.bbc.co.uk/go/rss/-/1/hi/world/midd...          35    bbc  \n",
       "1  http://news.bbc.co.uk/go/rss/-/1/hi/world/midd...          36    bbc  "
      ]
     },
     "execution_count": 20,
     "metadata": {},
     "output_type": "execute_result"
    }
   ],
   "source": [
    "article_page_df.head(2)"
   ]
  },
  {
   "cell_type": "code",
   "execution_count": 139,
   "metadata": {
    "scrolled": true
   },
   "outputs": [],
   "source": [
    "article_df.to_csv('../scraping/scrapy-cloud/output_dir/unified_article_output/article-versions-1.csv')\n",
    "article_page_df['time'] = pd.to_datetime(article_page_df['time_created'], errors='coerce')\n",
    "(article_page_df\n",
    " .drop(['time_created', 'time_delta'], axis=1)\n",
    " .to_csv('../scraping/scrapy-cloud/output_dir/unified_article_output/article-versions-2-sans-body.csv')\n",
    ")"
   ]
  },
  {
   "cell_type": "code",
   "execution_count": 156,
   "metadata": {},
   "outputs": [],
   "source": [
    "all_article_pages = pd.concat([\n",
    "    article_df.drop('version_int', axis=1),\n",
    "    article_page_df.drop(['time_created', 'time_delta'], axis=1)\n",
    "])"
   ]
  },
  {
   "cell_type": "code",
   "execution_count": null,
   "metadata": {},
   "outputs": [],
   "source": [
    "all_article_pages.to_csv('../data/newssniffer-articles-unified-partial-text.csv')"
   ]
  },
  {
   "cell_type": "markdown",
   "metadata": {},
   "source": [
    "# Read and separate the NYTimes (And different outlets)"
   ]
  },
  {
   "cell_type": "code",
   "execution_count": 6,
   "metadata": {},
   "outputs": [
    {
     "name": "stderr",
     "output_type": "stream",
     "text": [
      "/Users/alex/opt/anaconda3/lib/python3.7/site-packages/IPython/core/interactiveshell.py:3063: DtypeWarning: Columns (4,8) have mixed types.Specify dtype option on import or set low_memory=False.\n",
      "  interactivity=interactivity, compiler=compiler, result=result)\n"
     ]
    }
   ],
   "source": [
    "all_article_df = pd.read_csv('../data/newssniffer-articles-unified-partial-text.csv.gz')"
   ]
  },
  {
   "cell_type": "code",
   "execution_count": null,
   "metadata": {},
   "outputs": [],
   "source": []
  },
  {
   "cell_type": "code",
   "execution_count": 33,
   "metadata": {},
   "outputs": [],
   "source": [
    "import sqlite3\n",
    "sql_db_path = '../data/diffengine-diffs/db'"
   ]
  },
  {
   "cell_type": "code",
   "execution_count": 45,
   "metadata": {
    "scrolled": true
   },
   "outputs": [
    {
     "data": {
      "application/vnd.jupyter.widget-view+json": {
       "model_id": "2c943f62d63b4b91a312b62d07846c24",
       "version_major": 2,
       "version_minor": 0
      },
      "text/plain": [
       "  0%|          | 0/5 [00:00<?, ?it/s]"
      ]
     },
     "metadata": {},
     "output_type": "display_data"
    },
    {
     "name": "stdout",
     "output_type": "stream",
     "text": [
      "source bbc...\n",
      "reading...\n"
     ]
    },
    {
     "data": {
      "application/vnd.jupyter.widget-view+json": {
       "model_id": "f3a7c8bcee364b32a4d3dd79f7ad89ad",
       "version_major": 2,
       "version_minor": 0
      },
      "text/plain": [
       "  0%|          | 0/8 [00:00<?, ?it/s]"
      ]
     },
     "metadata": {},
     "output_type": "display_data"
    },
    {
     "name": "stdout",
     "output_type": "stream",
     "text": [
      "deduping...\n",
      "dumping to disk...\n",
      "source guardian...\n",
      "reading...\n"
     ]
    },
    {
     "data": {
      "application/vnd.jupyter.widget-view+json": {
       "model_id": "e13034a9b71f4461bb3b64b41864f457",
       "version_major": 2,
       "version_minor": 0
      },
      "text/plain": [
       "  0%|          | 0/8 [00:00<?, ?it/s]"
      ]
     },
     "metadata": {},
     "output_type": "display_data"
    },
    {
     "name": "stdout",
     "output_type": "stream",
     "text": [
      "deduping...\n",
      "dumping to disk...\n",
      "source nytimes...\n",
      "reading...\n"
     ]
    },
    {
     "data": {
      "application/vnd.jupyter.widget-view+json": {
       "model_id": "6b53ff47aa374a5da13be499d22acbd2",
       "version_major": 2,
       "version_minor": 0
      },
      "text/plain": [
       "  0%|          | 0/8 [00:00<?, ?it/s]"
      ]
     },
     "metadata": {},
     "output_type": "display_data"
    },
    {
     "name": "stdout",
     "output_type": "stream",
     "text": [
      "deduping...\n",
      "dumping to disk...\n",
      "source independent...\n",
      "reading...\n"
     ]
    },
    {
     "data": {
      "application/vnd.jupyter.widget-view+json": {
       "model_id": "64cef592429e4cf389326f1a92ee8490",
       "version_major": 2,
       "version_minor": 0
      },
      "text/plain": [
       "  0%|          | 0/8 [00:00<?, ?it/s]"
      ]
     },
     "metadata": {},
     "output_type": "display_data"
    },
    {
     "name": "stdout",
     "output_type": "stream",
     "text": [
      "deduping...\n",
      "dumping to disk...\n",
      "source washpo...\n",
      "reading...\n"
     ]
    },
    {
     "data": {
      "application/vnd.jupyter.widget-view+json": {
       "model_id": "f3e334e699cf4b919dcf74fe02701f39",
       "version_major": 2,
       "version_minor": 0
      },
      "text/plain": [
       "  0%|          | 0/8 [00:00<?, ?it/s]"
      ]
     },
     "metadata": {},
     "output_type": "display_data"
    },
    {
     "name": "stdout",
     "output_type": "stream",
     "text": [
      "deduping...\n",
      "dumping to disk...\n"
     ]
    }
   ],
   "source": [
    "to_rename = {\n",
    "    'version': 'version',\n",
    "    'title': 'title',\n",
    "    'time': 'created',\n",
    "    'article_url': 'url',\n",
    "    'article_id': 'entry_id',\n",
    "    'version_url': 'archive_url',\n",
    "    'num_versions': 'num_versions',\n",
    "    'url': 'url',\n",
    "    'text': 'summary'\n",
    "}\n",
    "\n",
    "for source in tqdm(['bbc', 'guardian', 'nytimes', 'independent', 'washpo']):\n",
    "    print('source %s...' % source)\n",
    "    ## \n",
    "    print('reading...')\n",
    "    source_article_dfs = []\n",
    "    for f in tqdm(large_article_files):\n",
    "        ## large_article_df are the big dumps\n",
    "        large_article_df = pd.read_json(f)\n",
    "        large_article_df['html'] = large_article_df['html'].apply(up.clean_html)\n",
    "\n",
    "        # merge large_article_df with all_article_df (btw, which has text for articles not in large_article_df)\n",
    "        full_large_article_df = (all_article_df\n",
    "             .drop('text', axis=1)\n",
    "             .merge(large_article_df.rename(columns={'html': 'text'}), left_on='version_url', right_on='url')\n",
    "        )\n",
    "        source_full_article_df = full_large_article_df.loc[lambda df: df['source'] == source]\n",
    "        source_article_dfs.append(source_full_article_df)\n",
    "        \n",
    "    ##\n",
    "    print('deduping...')\n",
    "    source_article_diffs = pd.concat(source_article_dfs).drop_duplicates('version_url')\n",
    "    source_article_diffs['joint_key'] = (\n",
    "        source_article_diffs\n",
    "         .pipe(lambda df: df['article_id'].astype(str) + '-' + df['version'].astype(str))\n",
    "    )\n",
    "    source_article_diffs = source_article_diffs.drop_duplicates('joint_key')\n",
    "    ## \n",
    "    print('dumping to disk...')\n",
    "    with sqlite3.connect(os.path.join(sql_db_path, 'newssniffer-%s.db' % source)) as conn:\n",
    "        (source_article_diffs\n",
    "         .drop(['url', 'Unnamed: 0'], axis=1)\n",
    "         .rename(columns=to_rename)\n",
    "         .assign(id=lambda df: df['entry_id'].astype(str) + '-' + df['version'].astype(str))\n",
    "         .to_sql(name='entryversion', con=conn)\n",
    "        )"
   ]
  },
  {
   "cell_type": "code",
   "execution_count": null,
   "metadata": {},
   "outputs": [],
   "source": []
  },
  {
   "cell_type": "code",
   "execution_count": null,
   "metadata": {},
   "outputs": [],
   "source": []
  },
  {
   "cell_type": "code",
   "execution_count": null,
   "metadata": {},
   "outputs": [],
   "source": []
  },
  {
   "cell_type": "code",
   "execution_count": null,
   "metadata": {},
   "outputs": [],
   "source": []
  },
  {
   "cell_type": "code",
   "execution_count": 486,
   "metadata": {},
   "outputs": [],
   "source": [
    "nytimes_article_diffs = pd.concat(nytimes_article_dfs).drop_duplicates('version_url')\n",
    "nytimes_article_diffs['joint_key'] = (\n",
    "    nytimes_article_diffs\n",
    "     .pipe(lambda df: df['article_id'].astype(str) + '-' + df['version'].astype(str))\n",
    ")\n",
    "\n",
    "nytimes_article_diffs = nytimes_article_diffs.drop_duplicates('joint_key')"
   ]
  },
  {
   "cell_type": "code",
   "execution_count": 578,
   "metadata": {},
   "outputs": [],
   "source": [
    "nytimes_article_diffs.to_csv('../data/nytimes-article-diffs-full.csv')"
   ]
  },
  {
   "cell_type": "code",
   "execution_count": 579,
   "metadata": {},
   "outputs": [
    {
     "data": {
      "text/plain": [
       "(395643, 11)"
      ]
     },
     "execution_count": 579,
     "metadata": {},
     "output_type": "execute_result"
    }
   ],
   "source": [
    "nytimes_article_diffs.shape"
   ]
  },
  {
   "cell_type": "code",
   "execution_count": null,
   "metadata": {},
   "outputs": [],
   "source": []
  },
  {
   "cell_type": "code",
   "execution_count": null,
   "metadata": {},
   "outputs": [],
   "source": []
  },
  {
   "cell_type": "markdown",
   "metadata": {},
   "source": [
    "# Explore Data"
   ]
  },
  {
   "cell_type": "code",
   "execution_count": 3,
   "metadata": {},
   "outputs": [],
   "source": [
    "import pandas as pd \n",
    "nytimes_article_diffs = pd.read_csv('../data/nytimes-article-diffs-full.csv.gz', usecols=['article_id'])"
   ]
  },
  {
   "cell_type": "code",
   "execution_count": 4,
   "metadata": {},
   "outputs": [],
   "source": [
    "def get_pairwise_updates(diff_df, article_id):\n",
    "    article_diffs = diff_df.loc[article_id] ## assume it's indexed by article_id\n",
    "    vs = article_diffs.version\n",
    "    output_version_pairs = []\n",
    "    for v_i, v_j in zip(vs[:-1], vs[1:]):\n",
    "        ## implement some test to make sure they're really contiguous articles\n",
    "        output_version_pairs.append((v_i, v_j))\n",
    "    return output_version_pairs"
   ]
  },
  {
   "cell_type": "code",
   "execution_count": 5,
   "metadata": {},
   "outputs": [],
   "source": [
    "sample_ids = nytimes_article_diffs['article_id'].drop_duplicates().sample(2500)\n",
    "sample_diffs = nytimes_article_diffs.loc[lambda df: df['article_id'].isin(sample_ids)]\n",
    "sample_diffs_by_article = sample_diffs.set_index('article_id')"
   ]
  },
  {
   "cell_type": "code",
   "execution_count": 141,
   "metadata": {},
   "outputs": [
    {
     "data": {
      "application/vnd.jupyter.widget-view+json": {
       "model_id": "ab7bf0177b2d42c29931b6a368eb8df5",
       "version_major": 2,
       "version_minor": 0
      },
      "text/plain": [
       "  0%|          | 0/2500 [00:00<?, ?it/s]"
      ]
     },
     "metadata": {},
     "output_type": "display_data"
    }
   ],
   "source": [
    "sentence_stats_df = []\n",
    "word_stats_df = []\n",
    "\n",
    "for a_id in tqdm(sample_ids):\n",
    "    a = sample_diffs_by_article.loc[a_id]\n",
    "    vs = a['version']\n",
    "    a_by_version = a.set_index('version')\n",
    "\n",
    "    for v_old, v_new in list(zip(vs[:-1], vs[1:])):\n",
    "        vars_old, vars_new = up.get_sentence_diff(\n",
    "            a_by_version.loc[v_old]['text'],\n",
    "            a_by_version.loc[v_new]['text']\n",
    "        )\n",
    "        \n",
    "        doc_changes = up.get_changes(vars_old, vars_new)\n",
    "        sent_change_pairs = doc_changes['sentences']['changed_sent_pairs']\n",
    "\n",
    "        sentence_stats_df.append({\n",
    "            'num_added_sents': len(doc_changes['sentences']['added_sents']),\n",
    "            'len_new_doc': len(doc_changes['docs']['new_doc']),\n",
    "            'num_removed_sents': len(doc_changes['sentences']['removed_sents']),\n",
    "            'len_old_doc':len(doc_changes['docs']['old_doc']),\n",
    "            'num_changed_sents': len(doc_changes['sentences']['changed_sent_pairs']),\n",
    "            'version_nums': (v_old, v_new),\n",
    "            'a_id': a_id,\n",
    "            'vars_old': vars_old,\n",
    "            'vars_new': vars_new\n",
    "        })\n",
    "        for sent_pair in doc_changes['sentences']['changed_sent_pairs']:\n",
    "            s_old, s_new = up.get_word_diffs(*sent_pair)\n",
    "            word_stats_df.append({\n",
    "                'num_words_removed': sum(map(lambda x: x['tag'] == '-', s_old)),\n",
    "                'num_words_added': sum(map(lambda x: x['tag'] == '+', s_new)),\n",
    "                'len_old_sent': len(list(filter(lambda x: x['text'] != '' , s_old))),\n",
    "                'len_new_sent': len(list(filter(lambda x: x['text'] != '', s_new))),\n",
    "                'version_nums': (v_old, v_new),\n",
    "                's_old': s_old,\n",
    "                's_new': s_new,\n",
    "                'sent_par': sent_pair\n",
    "            })"
   ]
  },
  {
   "cell_type": "code",
   "execution_count": 142,
   "metadata": {},
   "outputs": [
    {
     "data": {
      "text/html": [
       "<table>\n",
       "<tr><th>Old Version</th><th>New Version</th></tr>\n",
       "<tr><td>FAIRFAX, Va. —</td><td>FAIRFAX, Va. —</td></tr>\n",
       "<tr><td>The National Rifle Association’s largest donor is a magazine magnate, avid hunter and gun collector who died a dozen years ago.</td><td>The National Rifle Association’s largest donor is a magazine magnate, avid hunter and gun collector who died a dozen years ago.</td></tr>\n",
       "<tr><td>The gun group has long kept the identities of most donors shrouded in secrecy.</td><td>The gun group has long kept the identities of most donors shrouded in secrecy.</td></tr>\n",
       "<tr><td>It is not required to make them public, and has even resisted turning over records of its contributors in various congressional inquiries underway.</td><td>It is not required to make them public, and has even resisted turning over records of its contributors in various congressional inquiries underway.</td></tr>\n",
       "<tr><td>But The New York Times was able to compile a list of more than 1,000 benefactors, from some of the largest to some of the smallest, by searching securities filings and foundation records, along with the N.R.A.’s selective disclosures over the years.</td><td>But The New York Times was able to compile a list of more than 1,000 benefactors, from some of the largest to some of the smallest, by searching securities filings and foundation records, along with the N.R.A.’s selective disclosures over the years.</td></tr>\n",
       "<tr><td>At the top of the list was Robert E. Petersen, whose publishing empire included magazines like Tiger Beat, Motor Trend, Guns &amp; Ammo and Sassy.</td><td>At the top of the list was Robert E. Petersen, whose publishing empire included magazines like Tiger Beat, Motor Trend, Guns &amp; Ammo and Sassy.</td></tr>\n",
       "<tr><td>His family foundation, as well as his wife, Margie, who died in 2011, have given $56 million to the N.R.A. and its affiliates over the past decade, the foundation told The Times.</td><td>His family foundation, as well as his wife, Margie, who died in 2011, have given $56 million to the N.R.A. and its affiliates over the past decade, the foundation told The Times.</td></tr>\n",
       "<tr><td>In the past few years, the Petersen donations have even exceeded the money coming in from some of the N.R.A.’s traditionally stalwart contributors — gun manufacturers like Sturm, Ruger &amp; Company and Smith &amp; Wesson’s owner, American Outdoor Brands, both of which have sharply cut their funding, records show.</td><td>In the past few years, the Petersen donations have even exceeded the money coming in from some of the N.R.A.’s traditionally stalwart contributors — gun manufacturers like Sturm, Ruger &amp; Company and Smith &amp; Wesson’s owner, American Outdoor Brands, both of which have sharply cut their funding, records show.</td></tr>\n",
       "<tr><td>While hardly complete, The Times’s donor list provides a fuller public accounting of the finances of an organization troubled not just by fiscal strains but by legal battles and relentless infighting that led to the resignation of its second-in-command last month and the abrupt departure of its president in April.</td><td>While hardly complete, The Times’s donor list provides a fuller public accounting of the finances of an organization troubled not just by fiscal strains but by legal battles and relentless infighting that led to the resignation of its second-in-command last month and the abrupt departure of its president in April.</td></tr>\n",
       "<tr><td>The turmoil has left some of the N.R.A.’s traditional conservative allies anxious about the potency of its vaunted political machine in the 2020 elections.</td><td>The turmoil has left some of the N.R.A.’s traditional conservative allies anxious about the potency of its vaunted political machine in the 2020 elections.</td></tr>\n",
       "<tr><td>And it has led one of the N.R.A.’s major backers, a retired technology consultant named David Dell’Aquila, to threaten an insurgency to oust the longtime chief executive, Wayne LaPierre.</td><td>And it has led one of the N.R.A.’s major backers, a retired technology consultant named David Dell’Aquila, to threaten an insurgency to oust the longtime chief executive, Wayne LaPierre.</td></tr>\n",
       "<tr><td>Until he resigns, Mr. Dell’Aquila said recently, he and a group of other wealthy donors will withhold tens of millions of dollars in pledges.</td><td>Until he resigns, Mr. Dell’Aquila said recently, he and a group of other wealthy donors will withhold tens of millions of dollars in pledges.</td></tr>\n",
       "<tr><td>Now the Petersen money is also about to end.</td><td>Now the Petersen money is also about to end.</td></tr>\n",
       "<tr><td>The Margie &amp; Robert E. Petersen Foundation told The Times that it planned to wind down operations by 2021.</td><td>The Margie &amp; Robert E. Petersen Foundation told The Times that it planned to wind down operations by 2021.</td></tr>\n",
       "<tr><td>But there is another wrinkle.</td><td>But there is another wrinkle.</td></tr>\n",
       "<tr><td>Much of the Petersen donations come in the form of rare guns, many of which are displayed in a museum at the N.R.A.’s Northern Virginia headquarters.</td><td>Much of the Petersen donations come in the form of rare guns, many of which are displayed in a museum at the N.R.A.’s Northern Virginia headquarters.</td></tr>\n",
       "<tr><td>Many others do not appear in the museum and are sold to raise money.</td><td>Many others do not appear in the museum and are sold to raise money.</td></tr>\n",
       "<tr><td>Recently, such sales have not taken place.</td><td>Recently, such sales have not taken place.</td></tr>\n",
       "<tr><td>They must be approved by a committee that includes Tony Makris, a gravel-voiced hunter and executive at Ackerman McQueen, an advertising firm that was the N.R.A.’s most influential contractor before a bitter legal battle this year.</td><td>They must be approved by a committee that includes Tony Makris, a gravel-voiced hunter and executive at Ackerman McQueen, an advertising firm that was the N.R.A.’s most influential contractor before a bitter legal battle this year.</td></tr>\n",
       "<tr><td>One person with knowledge of the sales process, speaking on the condition of anonymity, said the lack of recent sales was related to the lawsuit, while another said it was not.</td><td>One person with knowledge of the sales process, speaking on the condition of anonymity, said the lack of recent sales was related to the lawsuit, while another said it was not.</td></tr>\n",
       "<tr><td>The N.R.A. and the Petersen Foundation said they were not aware of any impasse.</td><td>The N.R.A. and the Petersen Foundation said they were not aware of any impasse.</td></tr>\n",
       "<tr><td>Ackerman McQueen declined to comment.</td><td>Ackerman McQueen declined to comment.</td></tr>\n",
       "<tr><td>No small amount of money is at stake.</td><td>No small amount of money is at stake.</td></tr>\n",
       "<tr><td>Last year alone, the Petersen Foundation donated $8 million worth of firearms to the N.R.A.’s charitable group, according to figures the foundation provided to The Times.</td><td>Last year alone, the Petersen Foundation donated $8 million worth of firearms to the N.R.A.’s charitable group, according to figures the foundation provided to The Times.</td></tr>\n",
       "<tr><td>(It has also given the N.R.A.’s charity $10 million in cash since 2015.)</td><td>(It has also given the N.R.A.’s charity $10 million in cash since 2015.)</td></tr>\n",
       "<tr><td>“Mr. Makris and others in the firearms community have helped facilitate the sale and transfer of many firearms in the Petersen collection,” said Andrew Arulanandam, an N.R.A. spokesman, in a statement.</td><td>“Mr. Makris and others in the firearms community have helped facilitate the sale and transfer of many firearms in the Petersen collection,” said Andrew Arulanandam, an N.R.A. spokesman, in a statement.</td></tr>\n",
       "<tr><td>“Sales are strategically coordinated by a committee to maximize their value to the N.R.A., similar to the way rare paintings are sold at auction.”</td><td>“Sales are strategically coordinated by a committee to maximize their value to the N.R.A., similar to the way rare paintings are sold at auction.”</td></tr>\n",
       "<tr><td>The Petersen Foundation, in a statement, said that after donations were made, it left the handling of them to the N.R.A.</td><td>The Petersen Foundation, in a statement, said that after donations were made, it left the handling of them to the N.R.A.</td></tr>\n",
       "<tr><td>But it also said that “a committee that included Tony Makris” determined “which guns were to be put on display and which were to be sold,” adding that it had “no knowledge about any interaction between Tony Makris, the N.R.A. and Ackerman which would prevent or delay any guns from being sold.”</td><td>But it also said that “a committee that included Tony Makris” determined “which guns were to be put on display and which were to be sold,” adding that it had “no knowledge about any interaction between Tony Makris, the N.R.A. and Ackerman which would prevent or delay any guns from being sold.”</td></tr>\n",
       "<tr><td>While a full taxonomy of N.R.A. donors is not possible, a partial picture emerged from The Times’s examination.</td><td>While a full taxonomy of N.R.A. donors is not possible, a partial picture emerged from The Times’s examination.</td></tr>\n",
       "<tr><td>The biggest donors are rewarded with a mustard-colored jacket and inducted into a group called the Golden Ring of Freedom.</td><td>The biggest donors are rewarded with a mustard-colored jacket and inducted into a group called the Golden Ring of Freedom.</td></tr>\n",
       "<tr><td>Many are firearms executives, including Pete Brownell, a former N.R.A. president who runs Brownells, a retailer of guns and ammunition, and P. James Debney, the chief executive of American Outdoor Brands.</td><td>Many are firearms executives, including Pete Brownell, a former N.R.A. president who runs Brownells, a retailer of guns and ammunition, and P. James Debney, the chief executive of American Outdoor Brands.</td></tr>\n",
       "<tr><td>Other donors include estates or foundations set up by deceased gun advocates like Mr. Petersen.</td><td>Other donors include estates or foundations set up by deceased gun advocates like Mr. Petersen.</td></tr>\n",
       "<tr><td>A smattering of right-wing groups have also provided support in recent years, including the 45Committee, a shadowy organization that has been backed by the financier and Trump supporter Sheldon Adelson and other such groups with names like Dunn’s Foundation for the Advancement of Right Thinking and The Master’s Table.</td><td>A smattering of right-wing groups have also provided support in recent years, including the 45Committee, a shadowy organization that has been backed by the financier and Trump supporter Sheldon Adelson and other such groups with names like Dunn’s Foundation for the Advancement of Right Thinking and The Master’s Table.</td></tr>\n",
       "<tr><td>The group’s donor base, though, goes far beyond the gun industry or conservative interest groups.</td><td>The group’s donor base, though, goes far beyond the gun industry or conservative interest groups.</td></tr>\n",
       "<tr><td>Those whose contributions or pledges have exceeded $1 million in recent years include Dr. Arnold W. Goldschlager, a California cardiologist and game hunter, and Joseph R. Gregory, a Tennessee businessman who co-chairs the Ring of Freedom.</td><td>Those whose contributions or pledges have exceeded $1 million in recent years include Dr. Arnold W. Goldschlager, a California cardiologist and game hunter, and Joseph R. Gregory, a Tennessee businessman who co-chairs the Ring of Freedom.</td></tr>\n",
       "<tr><td>Then there are smaller donors like an Arizona rheumatologist, a New Jersey restaurateur and a Georgia accountant.</td><td>Then there are smaller donors like an Arizona rheumatologist, a New Jersey restaurateur and a Georgia accountant.</td></tr>\n",
       "<tr><td>Such breadth has in the past helped the N.R.A. remain a daunting lobbying force, but now, in addition to resistance from donors like Mr. Dell’Aquila and some signs of wavering grass-roots support, the N.R.A. is facing an increasingly well-financed gun control movement.</td><td>Such breadth has in the past helped the N.R.A. remain a daunting lobbying force, but now, in addition to resistance from donors like Mr. Dell’Aquila and some signs of wavering grass-roots support, the N.R.A. is facing an increasingly well-financed gun control movement.</td></tr>\n",
       "<tr><td>Financial support is also weakening from some top gun manufacturers as sales have softened.</td><td>Financial support is also weakening from some top gun manufacturers as sales have softened.</td></tr>\n",
       "<tr><td>Sturm, Ruger &amp; Company — which once had a promotional campaign in which it donated $2 of every new gun purchase to the N.R.A. — directed $10 million to the N.R.A. in 2015 and 2016, but only $1.5 million over the following two years, according to securities filings.</td><td>Sturm, Ruger &amp; Company — which once had a promotional campaign in which it donated $2 of every new gun purchase to the N.R.A. — directed $10 million to the N.R.A. in 2015 and 2016, but only $1.5 million over the following two years, according to securities filings.</td></tr>\n",
       "<tr><td>The gun maker, which did not comment, appears to be trimming costs after its revenue fell to its lowest point in a half-decade last year.</td><td>The gun maker, which did not comment, appears to be trimming costs after its revenue fell to its lowest point in a half-decade last year.</td></tr>\n",
       "<tr><td>Shares in American Outdoor Brands have fallen nearly 70 percent from its high of three years ago, and the company said in its latest annual report that it cut donations to the N.R.A. by nearly $1 million in its most recent fiscal year, without revealing what it gave.</td><td>Shares in American Outdoor Brands have fallen nearly 70 percent from its high of three years ago, and the company said in its latest annual report that it cut donations to the N.R.A. by nearly $1 million in its most recent fiscal year, without revealing what it gave.</td></tr>\n",
       "<tr><td>(Two years earlier, the company reported donating $1.6 million to the N.R.A. over nine months.)</td><td>(Two years earlier, the company reported donating $1.6 million to the N.R.A. over nine months.)</td></tr>\n",
       "<tr><td>Mr. Petersen’s influence over the N.R.A. has not been fully understood.</td><td>Mr. Petersen’s influence over the N.R.A. has not been fully understood.</td></tr>\n",
       "<tr><td>His foundation is run by GiGi Carleton, his longtime secretary.</td><td>His foundation is run by GiGi Carleton, his longtime secretary.</td></tr>\n",
       "<tr><td>(The Petersens’ two sons died in a plane crash.)</td><td>(The Petersens’ two sons died in a plane crash.)</td></tr>\n",
       "<tr><td>The legacy of Mr. Petersen, born to a mechanic, looms largest in automotive circles.</td><td>The legacy of Mr. Petersen, born to a mechanic, looms largest in automotive circles.</td></tr>\n",
       "<tr><td style=\"background-color:rgba(255,0,0,0.3)\">He founded the <span style=\"background-color:rgba(255,0,0,0.3)\">Peterson</span> Automotive Museum , a tourist attraction in Los Angeles that houses one of the most renowned car collections in the world .</td><td style=\"background-color:rgba(0,255,0,0.3)\">He founded the <span style=\"background-color:rgba(0,255,0,0.3)\">Petersen </span> Automotive Museum , a tourist attraction in Los Angeles that houses one of the most renowned car collections in the world .</td></tr>\n",
       "<tr><td>He also collected more than 2,000 firearms.</td><td>He also collected more than 2,000 firearms.</td></tr>\n",
       "<tr><td>Those on display at the N.R.A. museum include 12 Gatling guns, a Civil War flare gun and a revolver with silver bullets for vampire hunting, as well as a shotgun gifted by the British royals to one of the shahs of Iran.</td><td>Those on display at the N.R.A. museum include 12 Gatling guns, a Civil War flare gun and a revolver with silver bullets for vampire hunting, as well as a shotgun gifted by the British royals to one of the shahs of Iran.</td></tr>\n",
       "<tr><td>Three shotguns known as the Invincibles, made by the defunct gun maker Parker Brothers, are said to together be worth more than $5 million.</td><td>Three shotguns known as the Invincibles, made by the defunct gun maker Parker Brothers, are said to together be worth more than $5 million.</td></tr>\n",
       "<tr><td>The Petersens’ two sons are remembered by their two .22-caliber rifles.</td><td>The Petersens’ two sons are remembered by their two .22-caliber rifles.</td></tr>\n",
       "<tr><td>Mr. Petersen did not live quietly.</td><td>Mr. Petersen did not live quietly.</td></tr>\n",
       "<tr><td>He once said he liked to take his Lamborghini Espada, a sort of Italian version of a muscle car, on hunting trips.</td><td>He once said he liked to take his Lamborghini Espada, a sort of Italian version of a muscle car, on hunting trips.</td></tr>\n",
       "<tr><td>“He was truly a man’s man,” Mr. LaPierre once said of Mr. Petersen, adding, “Every time I saw him he’d come up to me, he’d look me dead in the eye</td><td>“He was truly a man’s man,” Mr. LaPierre once said of Mr. Petersen, adding, “Every time I saw him he’d come up to me, he’d look me dead in the eye</td></tr>\n",
       "<tr><td>and he’d say, ‘So what are you doing to defend my guns?’”</td><td>and he’d say, ‘So what are you doing to defend my guns?’”</td></tr>\n",
       "<tr><td>In a statement, the foundation said that Mr. Petersen “always felt it important to make sure guns were used safely and properly,” and that it had donated “many pieces from Mr. Petersen’s gun collection, as well as funds to maintain the collection and to provide quality public education about gun ownership.”</td><td>In a statement, the foundation said that Mr. Petersen “always felt it important to make sure guns were used safely and properly,” and that it had donated “many pieces from Mr. Petersen’s gun collection, as well as funds to maintain the collection and to provide quality public education about gun ownership.”</td></tr>\n",
       "<tr><td>His contributions have flowed through the N.R.A. Foundation, a charity set up by the gun organization.</td><td>His contributions have flowed through the N.R.A. Foundation, a charity set up by the gun organization.</td></tr>\n",
       "<tr><td>The Times previously reported that more than $200 million donated to the charity since 2010 has been transferred to the N.R.A. itself.</td><td>The Times previously reported that more than $200 million donated to the charity since 2010 has been transferred to the N.R.A. itself.</td></tr>\n",
       "<tr><td>That raises potential tax questions, since donations to the charity are tax-deductible, while those to the N.R.A. itself are not.</td><td>That raises potential tax questions, since donations to the charity are tax-deductible, while those to the N.R.A. itself are not.</td></tr>\n",
       "<tr><td>The charity is being scrutinized by the New York attorney general, Letitia James, as part of an inquiry into the N.R.A.’s tax-exempt status, as well as by the attorney general for the District of Columbia, Karl A. Racine.</td><td>The charity is being scrutinized by the New York attorney general, Letitia James, as part of an inquiry into the N.R.A.’s tax-exempt status, as well as by the attorney general for the District of Columbia, Karl A. Racine.</td></tr>\n",
       "<tr><td>The N.R.A. has said that transactions between it and the charity were appropriate.</td><td>The N.R.A. has said that transactions between it and the charity were appropriate.</td></tr>\n",
       "<tr><td>The N.R.A. Foundation’s fund-raising has become increasingly ambitious in the past half-decade.</td><td>The N.R.A. Foundation’s fund-raising has become increasingly ambitious in the past half-decade.</td></tr>\n",
       "<tr><td>In 2014, one of the foundation’s publications listed wealthy donors pledging as much as $25,000 or more.</td><td>In 2014, one of the foundation’s publications listed wealthy donors pledging as much as $25,000 or more.</td></tr>\n",
       "<tr><td>Within a couple of years, three higher funding tiers were added, for donors giving $25,000 to $100,000, $100,000 to $1 million and over $1 million.</td><td>Within a couple of years, three higher funding tiers were added, for donors giving $25,000 to $100,000, $100,000 to $1 million and over $1 million.</td></tr>\n",
       "<tr><td>Every dollar counts for the N.R.A., whose net assets fell sharply last year as its legal fees soared.</td><td>Every dollar counts for the N.R.A., whose net assets fell sharply last year as its legal fees soared.</td></tr>\n",
       "<tr><td>The group froze its pension fund, borrowed against insurance policies taken out on its executives and increased to $28 million a bank credit line secured by cash, investments and the deed to its Fairfax headquarters.</td><td>The group froze its pension fund, borrowed against insurance policies taken out on its executives and increased to $28 million a bank credit line secured by cash, investments and the deed to its Fairfax headquarters.</td></tr>\n",
       "<tr><td>Until now, Mr. Petersen and his guns have been a welcome source of relief.</td><td>Until now, Mr. Petersen and his guns have been a welcome source of relief.</td></tr>\n",
       "<tr><td>Their occasional sale to raise money for the N.R.A., according to the spokesman, Mr. Arulanandam, “speaks to the size and scope of the Petersen collection, and the different ways in which it enriches the N.R.A. and its membership.”</td><td>Their occasional sale to raise money for the N.R.A., according to the spokesman, Mr. Arulanandam, “speaks to the size and scope of the Petersen collection, and the different ways in which it enriches the N.R.A. and its membership.”</td></tr>\n",
       "</table>"
      ],
      "text/plain": [
       "<IPython.core.display.HTML object>"
      ]
     },
     "metadata": {},
     "output_type": "display_data"
    }
   ],
   "source": [
    "display(HTML(up.html_compare_articles(vars_old, vars_new)))"
   ]
  },
  {
   "cell_type": "code",
   "execution_count": null,
   "metadata": {},
   "outputs": [],
   "source": [
    "all_added = []\n",
    "num_moved = 0\n",
    "\n",
    "### check to see if there are any moved sentences\n",
    "for a_id in tqdm(sample_ids):\n",
    "    a = sample_diffs_by_article.loc[a_id]\n",
    "    vs = a['version']\n",
    "    a_by_version = a.set_index('version')\n",
    "\n",
    "    for v_old, v_new in list(zip(vs[:-1], vs[1:])):\n",
    "        vars_old, vars_new = up.get_sentence_diff(\n",
    "            a_by_version.loc[v_old]['text'],\n",
    "            a_by_version.loc[v_new]['text']\n",
    "        )\n",
    "\n",
    "    removed = list(filter(lambda x: x['tag'] == '-', vars_old))\n",
    "    added = list(filter(lambda x: x['tag'] == '+', vars_new))\n",
    "\n",
    "    removed = list(map(lambda x: x['text'], removed))\n",
    "    added = list(map(lambda x: x['text'], added))\n",
    "    all_added += added"
   ]
  },
  {
   "cell_type": "code",
   "execution_count": null,
   "metadata": {},
   "outputs": [],
   "source": []
  },
  {
   "cell_type": "code",
   "execution_count": null,
   "metadata": {},
   "outputs": [],
   "source": []
  },
  {
   "cell_type": "code",
   "execution_count": 254,
   "metadata": {},
   "outputs": [],
   "source": [
    "## dump to disk\n",
    "sentence_stats_df = pd.DataFrame(sentence_stats_df)\n",
    "word_stats_df = pd.DataFrame(word_stats_df)\n",
    "sentence_stats_df.to_csv('cache/sample-ids-sentence-stats-df.csv')\n",
    "word_stats_df.to_csv('cache/sample-ids-word-stats-df.csv')"
   ]
  },
  {
   "cell_type": "code",
   "execution_count": 730,
   "metadata": {},
   "outputs": [
    {
     "data": {
      "text/plain": [
       "<matplotlib.axes._subplots.AxesSubplot at 0x7fb439e12350>"
      ]
     },
     "execution_count": 730,
     "metadata": {},
     "output_type": "execute_result"
    },
    {
     "data": {
      "image/png": "[encoded data removed]",
      "text/plain": [
       "<Figure size 432x288 with 1 Axes>"
      ]
     },
     "metadata": {
      "needs_background": "light"
     },
     "output_type": "display_data"
    }
   ],
   "source": [
    "nytimes_article_diffs['version'].value_counts().sort_index().plot()"
   ]
  },
  {
   "cell_type": "code",
   "execution_count": 733,
   "metadata": {},
   "outputs": [
    {
     "data": {
      "text/plain": [
       "(395643, 11)"
      ]
     },
     "execution_count": 733,
     "metadata": {},
     "output_type": "execute_result"
    }
   ],
   "source": [
    "nytimes_article_diffs.shape"
   ]
  },
  {
   "cell_type": "code",
   "execution_count": 732,
   "metadata": {},
   "outputs": [
    {
     "data": {
      "text/plain": [
       "(318997, 11)"
      ]
     },
     "execution_count": 732,
     "metadata": {},
     "output_type": "execute_result"
    }
   ],
   "source": [
    "nytimes_article_diffs.loc[lambda df: df['num_versions'] < 20].shape"
   ]
  },
  {
   "cell_type": "markdown",
   "metadata": {},
   "source": [
    "# Do we have to be worried about sentences that change substantially?"
   ]
  },
  {
   "cell_type": "code",
   "execution_count": 629,
   "metadata": {},
   "outputs": [],
   "source": [
    "## it's a new sentence if old_len - num_removed < num_added?"
   ]
  },
  {
   "cell_type": "code",
   "execution_count": 612,
   "metadata": {},
   "outputs": [],
   "source": [
    "word_stats_df = pd.DataFrame(word_stats_df)"
   ]
  },
  {
   "cell_type": "code",
   "execution_count": 620,
   "metadata": {},
   "outputs": [
    {
     "data": {
      "text/html": [
       "<div>\n",
       "<style scoped>\n",
       "    .dataframe tbody tr th:only-of-type {\n",
       "        vertical-align: middle;\n",
       "    }\n",
       "\n",
       "    .dataframe tbody tr th {\n",
       "        vertical-align: top;\n",
       "    }\n",
       "\n",
       "    .dataframe thead th {\n",
       "        text-align: right;\n",
       "    }\n",
       "</style>\n",
       "<table border=\"1\" class=\"dataframe\">\n",
       "  <thead>\n",
       "    <tr style=\"text-align: right;\">\n",
       "      <th></th>\n",
       "      <th>num_words_removed</th>\n",
       "      <th>num_words_added</th>\n",
       "      <th>len_old_sent</th>\n",
       "      <th>len_new_sent</th>\n",
       "      <th>version_nums</th>\n",
       "      <th>s_old</th>\n",
       "      <th>s_new</th>\n",
       "      <th>sent_par</th>\n",
       "    </tr>\n",
       "  </thead>\n",
       "  <tbody>\n",
       "    <tr>\n",
       "      <th>0</th>\n",
       "      <td>3</td>\n",
       "      <td>0</td>\n",
       "      <td>7</td>\n",
       "      <td>4</td>\n",
       "      <td>(0, 1)</td>\n",
       "      <td>[{'text': 'MOGADISHU', 'tag': ' '}, {'text': '...</td>\n",
       "      <td>[{'text': 'MOGADISHU', 'tag': ' '}, {'text': '...</td>\n",
       "      <td>(MOGADISHU, Somalia (AP) —, MOGADISHU, Somalia —)</td>\n",
       "    </tr>\n",
       "  </tbody>\n",
       "</table>\n",
       "</div>"
      ],
      "text/plain": [
       "   num_words_removed  num_words_added  len_old_sent  len_new_sent  \\\n",
       "0                  3                0             7             4   \n",
       "\n",
       "  version_nums                                              s_old  \\\n",
       "0       (0, 1)  [{'text': 'MOGADISHU', 'tag': ' '}, {'text': '...   \n",
       "\n",
       "                                               s_new  \\\n",
       "0  [{'text': 'MOGADISHU', 'tag': ' '}, {'text': '...   \n",
       "\n",
       "                                            sent_par  \n",
       "0  (MOGADISHU, Somalia (AP) —, MOGADISHU, Somalia —)  "
      ]
     },
     "execution_count": 620,
     "metadata": {},
     "output_type": "execute_result"
    }
   ],
   "source": [
    "word_stats_df.head(1)"
   ]
  },
  {
   "cell_type": "code",
   "execution_count": 631,
   "metadata": {},
   "outputs": [],
   "source": [
    "word_stats_df['added_ratio'] = (word_stats_df\n",
    " .apply(lambda x:  x['num_words_added'] / (x['len_old_sent'] - x['num_words_removed'] ), axis=1)\n",
    ")"
   ]
  },
  {
   "cell_type": "code",
   "execution_count": 644,
   "metadata": {},
   "outputs": [],
   "source": [
    "t = word_stats_df.loc[lambda df: df['added_ratio'] > .3]"
   ]
  },
  {
   "cell_type": "code",
   "execution_count": 680,
   "metadata": {},
   "outputs": [
    {
     "data": {
      "text/html": [
       "There was a vast , floodlit red carpet for one thing , shimmering with scattered , twinkling crystals on a cold <span style=\"background-color:rgba(255,0,0,0.3)\">winter</span> <span style=\"background-color:rgba(255,0,0,0.3)\">’s</span>         "
      ],
      "text/plain": [
       "<IPython.core.display.HTML object>"
      ]
     },
     "metadata": {},
     "output_type": "display_data"
    },
    {
     "data": {
      "text/html": [
       "There was a vast , floodlit red carpet for one thing , shimmering with scattered , twinkling crystals on a cold   <span style=\"background-color:rgba(0,255,0,0.3)\">night </span> <span style=\"background-color:rgba(0,255,0,0.3)\">( </span> <span style=\"background-color:rgba(0,255,0,0.3)\">the </span> <span style=\"background-color:rgba(0,255,0,0.3)\">lead </span> <span style=\"background-color:rgba(0,255,0,0.3)\">sponsor </span> <span style=\"background-color:rgba(0,255,0,0.3)\">was </span> <span style=\"background-color:rgba(0,255,0,0.3)\">Swarovski </span> <span style=\"background-color:rgba(0,255,0,0.3)\">) </span> <span style=\"background-color:rgba(0,255,0,0.3)\">. </span>"
      ],
      "text/plain": [
       "<IPython.core.display.HTML object>"
      ]
     },
     "metadata": {},
     "output_type": "display_data"
    }
   ],
   "source": [
    "s_o, s_n = t.iloc[-1][['s_old', 's_new']]\n",
    "for x in up.html_compare_sentences(s_o, s_n):\n",
    "    display(HTML(x))"
   ]
  },
  {
   "cell_type": "code",
   "execution_count": 668,
   "metadata": {},
   "outputs": [],
   "source": [
    "def get_char_ratio(row):\n",
    "    s_old, s_new = row[['s_old', 's_new']]\n",
    "    base_items = list(filter(lambda x: x['text'].strip() != '' and x['tag'] == ' ', s_old))\n",
    "    len_base_chars = sum(map(lambda x: len(x['text']), base_items))\n",
    "    \n",
    "    added_items = list(filter(lambda x: x['tag'] == '+' and x['text'].strip() != '' , s_new))\n",
    "    len_added_chars = sum(map(lambda x: len(x['text']), added_items))\n",
    "    \n",
    "    return len_added_chars / len_base_chars"
   ]
  },
  {
   "cell_type": "code",
   "execution_count": 673,
   "metadata": {},
   "outputs": [],
   "source": [
    "word_stats_df['char_ratio'] = word_stats_df.apply(get_char_ratio, axis=1)"
   ]
  },
  {
   "cell_type": "code",
   "execution_count": 681,
   "metadata": {},
   "outputs": [
    {
     "data": {
      "text/html": [
       "But there was a second purpose : to get inside Huawei ’s systems , and to use them    to spy on    its <span style=\"background-color:rgba(255,0,0,0.3)\">clients</span>     ."
      ],
      "text/plain": [
       "<IPython.core.display.HTML object>"
      ]
     },
     "metadata": {},
     "output_type": "display_data"
    },
    {
     "data": {
      "text/html": [
       "But there was a second purpose : to get inside Huawei ’s systems , and to use them <span style=\"background-color:rgba(0,255,0,0.3)\">as </span> <span style=\"background-color:rgba(0,255,0,0.3)\">a </span> <span style=\"background-color:rgba(0,255,0,0.3)\">conduit </span> to spy on <span style=\"background-color:rgba(0,255,0,0.3)\">countries </span> <span style=\"background-color:rgba(0,255,0,0.3)\">that </span> <span style=\"background-color:rgba(0,255,0,0.3)\">buy </span> its  <span style=\"background-color:rgba(0,255,0,0.3)\">equipment </span> <span style=\"background-color:rgba(0,255,0,0.3)\">around </span> <span style=\"background-color:rgba(0,255,0,0.3)\">the </span> <span style=\"background-color:rgba(0,255,0,0.3)\">world </span> ."
      ],
      "text/plain": [
       "<IPython.core.display.HTML object>"
      ]
     },
     "metadata": {},
     "output_type": "display_data"
    }
   ],
   "source": [
    "s_o, s_n = word_stats_df.loc[lambda df: df['char_ratio'] > .3].iloc[0][['s_old', 's_new']]\n",
    "for x in up.html_compare_sentences(s_o, s_n):\n",
    "    display(HTML(x))"
   ]
  },
  {
   "cell_type": "code",
   "execution_count": 690,
   "metadata": {},
   "outputs": [
    {
     "data": {
      "text/html": [
       "[ Read a   <span style=\"background-color:rgba(255,0,0,0.3)\">letter</span>  from the <span style=\"background-color:rgba(255,0,0,0.3)\">office</span> of the <span style=\"background-color:rgba(255,0,0,0.3)\">director</span> of <span style=\"background-color:rgba(255,0,0,0.3)\">national</span> <span style=\"background-color:rgba(255,0,0,0.3)\">intelligence</span> about the complaint . ]"
      ],
      "text/plain": [
       "<IPython.core.display.HTML object>"
      ]
     },
     "metadata": {},
     "output_type": "display_data"
    },
    {
     "data": {
      "text/html": [
       "[ Read a <span style=\"background-color:rgba(0,255,0,0.3)\">pair </span> <span style=\"background-color:rgba(0,255,0,0.3)\">of </span>  <span style=\"background-color:rgba(0,255,0,0.3)\">letters </span> from the <span style=\"background-color:rgba(0,255,0,0.3)\">Office </span> of the <span style=\"background-color:rgba(0,255,0,0.3)\">Director </span> of <span style=\"background-color:rgba(0,255,0,0.3)\">National </span> <span style=\"background-color:rgba(0,255,0,0.3)\">Intelligence </span> about the complaint . ]"
      ],
      "text/plain": [
       "<IPython.core.display.HTML object>"
      ]
     },
     "metadata": {},
     "output_type": "display_data"
    }
   ],
   "source": [
    "s_o, s_n = word_stats_df.loc[lambda df: df['char_ratio'] > 1.2].iloc[0][['s_old', 's_new']]\n",
    "for x in up.html_compare_sentences(s_o, s_n):\n",
    "    display(HTML(x))"
   ]
  },
  {
   "cell_type": "code",
   "execution_count": 691,
   "metadata": {},
   "outputs": [],
   "source": [
    "## no, we don't"
   ]
  },
  {
   "cell_type": "markdown",
   "metadata": {},
   "source": [
    "# What #-new-sentences cutoff should we use for determining new article?"
   ]
  },
  {
   "cell_type": "code",
   "execution_count": 698,
   "metadata": {},
   "outputs": [],
   "source": [
    "## can we use sentences-embeddings to see when a sentence is factually new compared with a removed sentence? "
   ]
  },
  {
   "cell_type": "code",
   "execution_count": 692,
   "metadata": {},
   "outputs": [],
   "source": [
    "sentence_stats_df = pd.DataFrame(sentence_stats_df)"
   ]
  },
  {
   "cell_type": "code",
   "execution_count": 145,
   "metadata": {
    "scrolled": true
   },
   "outputs": [
    {
     "data": {
      "text/html": [
       "<table>\n",
       "<tr><th>Old Version</th><th>New Version</th></tr>\n",
       "<tr><td>PARIS — In the hours after the attacks in Brussels on Tuesday, many countries quickly added soldiers and police officers at airports and rail and subway stations, hoping to reassure passengers and deter other potential terrorists.</td><td>PARIS — In the hours after the attacks in Brussels on Tuesday, many countries quickly added soldiers and police officers at airports and rail and subway stations, hoping to reassure passengers and deter other potential terrorists.</td></tr>\n",
       "<tr><td>But despite a series of episodes in recent years that have targeted transportation hubs worldwide, security experts predict that the latest attacks will revive — but not resolve — a thorny public debate about the benefits of ever more costly and intensive screening systems meant to identify terrorists among the millions of people who travel each day.</td><td>But despite a series of episodes in recent years that have targeted transportation hubs worldwide, security experts predict that the latest attacks will revive — but not resolve — a thorny public debate about the benefits of ever more costly and intensive screening systems meant to identify terrorists among the millions of people who travel each day.</td></tr>\n",
       "<tr><td>“It’s always about achieving a balance between what is achievable and what is practical,” said Norman Shanks, a consultant and former manager of airport security at Heathrow Airport near London.</td><td>“It’s always about achieving a balance between what is achievable and what is practical,” said Norman Shanks, a consultant and former manager of airport security at Heathrow Airport near London.</td></tr>\n",
       "<tr><td>Since the Sept. 11, 2001, attacks in the United States, travelers worldwide have grown accustomed to measures scrutinizing everything they carry with them into an airport, from the soles of their shoes to shampoo bottles, for potential weapons or traces of explosives.</td><td>Since the Sept. 11, 2001, attacks in the United States, travelers worldwide have grown accustomed to measures scrutinizing everything they carry with them into an airport, from the soles of their shoes to shampoo bottles, for potential weapons or traces of explosives.</td></tr>\n",
       "<tr><td>But such measures have mainly been focused on preventing terrorists from carrying out an attack aboard an aircraft, rather than an attack on the airport itself.</td><td>But such measures have mainly been focused on preventing terrorists from carrying out an attack aboard an aircraft, rather than an attack on the airport itself.</td></tr>\n",
       "<tr><td></td><td style=\"background-color:rgba(0,255,0,0.3)\">In the United States, the federal agency responsible for airport screening, the Transportation Security Administration — whose budget is $7.3 billion this year — spends much of that money on security screeners at checkpoints and on equipment that can detect bombs or banned items like knives.</td></tr>\n",
       "<tr><td></td><td style=\"background-color:rgba(0,255,0,0.3)\">But the responsibility for security in public areas of airports is shared by the local authorities and the T.S.A., leaving vulnerabilities in the public areas where passengers check in and drop off their bags.</td></tr>\n",
       "<tr><td></td><td style=\"background-color:rgba(0,255,0,0.3)\">“We really need to re-examine how we allocate our resources,” said John C. Cohen, a former acting under secretary for intelligence and analysis at the Department of Homeland Security and now a professor at the Faith-Based Community Security Program at Rutgers University.</td></tr>\n",
       "<tr><td style=\"background-color:rgba(255,0,0,0.3)\"><span style=\"background-color:rgba(255,0,0,0.3)\">As</span>   the dual explosions at Brussels Airport made vividly clear , fully securing the public areas of a large , sprawling site like an airport is a daunting task .</td><td style=\"background-color:rgba(0,255,0,0.3)\"> <span style=\"background-color:rgba(0,255,0,0.3)\">But </span> <span style=\"background-color:rgba(0,255,0,0.3)\">as </span> the dual explosions at Brussels Airport made vividly clear , fully securing the public areas of a large , sprawling site like an airport is a daunting task .</td></tr>\n",
       "<tr><td>The attack on Tuesday was not the first time that terrorists had targeted the easily accessible areas of a major European airport.</td><td>The attack on Tuesday was not the first time that terrorists had targeted the easily accessible areas of a major European airport.</td></tr>\n",
       "<tr><td>In 2011, a suicide bomber killed 37 people in the arrivals hall of Domodedovo International Airport,</td><td>In 2011, a suicide bomber killed 37 people in the arrivals hall of Domodedovo International Airport,</td></tr>\n",
       "<tr><td>Moscow’s busiest.</td><td>Moscow’s busiest.</td></tr>\n",
       "<tr><td>A series of similar attacks occurred in the 1980s, striking airports in Frankfurt, Paris, Rome and Vienna.</td><td>A series of similar attacks occurred in the 1980s, striking airports in Frankfurt, Paris, Rome and Vienna.</td></tr>\n",
       "<tr><td>In 2013, a shooting at Los Angeles International Airport killed a checkpoint security guard and wounded several other people.</td><td>In 2013, a shooting at Los Angeles International Airport killed a checkpoint security guard and wounded several other people.</td></tr>\n",
       "<tr><td>Some countries in recent years have introduced additional layers of security at airports, including mandatory checks of passengers and baggage at building entrances and even of arriving cars, taxis and buses.</td><td>Some countries in recent years have introduced additional layers of security at airports, including mandatory checks of passengers and baggage at building entrances and even of arriving cars, taxis and buses.</td></tr>\n",
       "<tr><td>Such measures are now common at many airports in Russia and Israel, for example, as well as in much of the Middle East and parts of Africa.</td><td>Such measures are now common at many airports in Russia and Israel, for example, as well as in much of the Middle East and parts of Africa.</td></tr>\n",
       "<tr><td></td><td style=\"background-color:rgba(0,255,0,0.3)\">Kenneth S. Kasprisin, a former interim director of the T.S.A., said airports should expand screening of vehicles coming into airports, particularly larger ones.</td></tr>\n",
       "<tr><td style=\"background-color:rgba(255,0,0,0.3)\"> <span style=\"background-color:rgba(255,0,0,0.3)\">Analysts</span> said that  such checks could serve as a deterrent to some attackers , <span style=\"background-color:rgba(255,0,0,0.3)\">but</span> <span style=\"background-color:rgba(255,0,0,0.3)\">that</span> they <span style=\"background-color:rgba(255,0,0,0.3)\">were</span>  far from foolproof .</td><td style=\"background-color:rgba(0,255,0,0.3)\"><span style=\"background-color:rgba(0,255,0,0.3)\">But </span> <span style=\"background-color:rgba(0,255,0,0.3)\">analysts </span> said that <span style=\"background-color:rgba(0,255,0,0.3)\">while </span> such checks could serve as a deterrent to some attackers ,   they  <span style=\"background-color:rgba(0,255,0,0.3)\">are </span> far from foolproof .</td></tr>\n",
       "<tr><td>“There are countries where people have to present their passport and ticket at the airport entrance,” Mr. Shanks said.</td><td>“There are countries where people have to present their passport and ticket at the airport entrance,” Mr. Shanks said.</td></tr>\n",
       "<tr><td>“That is designed to keep out non-travelers, but it won’t keep out a bomber, because bombers can still buy tickets.”</td><td>“That is designed to keep out non-travelers, but it won’t keep out a bomber, because bombers can still buy tickets.”</td></tr>\n",
       "<tr><td>Such an approach also assumes that the employees charged with performing those checks are appropriately trained to spot a potential threat.</td><td>Such an approach also assumes that the employees charged with performing those checks are appropriately trained to spot a potential threat.</td></tr>\n",
       "<tr><td>“Sadly, at many airports where I have seen screening on entry, the staff performing this haven’t actually been very efficient or effective,” Mr. Shanks said.</td><td>“Sadly, at many airports where I have seen screening on entry, the staff performing this haven’t actually been very efficient or effective,” Mr. Shanks said.</td></tr>\n",
       "<tr><td>“If you are a potential bomber, you can monitor how well people are doing their job and exploit those weaknesses.”</td><td>“If you are a potential bomber, you can monitor how well people are doing their job and exploit those weaknesses.”</td></tr>\n",
       "<tr><td>Others warned that adding new security choke points outside airport terminals, rather than diminishing the threat, might simply move it to another location.</td><td>Others warned that adding new security choke points outside airport terminals, rather than diminishing the threat, might simply move it to another location.</td></tr>\n",
       "<tr><td>“If you look at the areas of the world that have experience with suicide bombers, they often tend to blow themselves up at security checkpoints, where there are lots of people standing densely packed together,” said Philip Baum, managing director of Green Light, an aviation security consulting firm in London.</td><td>“If you look at the areas of the world that have experience with suicide bombers, they often tend to blow themselves up at security checkpoints, where there are lots of people standing densely packed together,” said Philip Baum, managing director of Green Light, an aviation security consulting firm in London.</td></tr>\n",
       "<tr><td>“If we start creating more queues of people to go through more checks, we just create new targets.”</td><td>“If we start creating more queues of people to go through more checks, we just create new targets.”</td></tr>\n",
       "<tr><td>Security experts have long argued that the most effective way to diminish threats to airports and other large public spaces involves a combination of tools, including greater use of surveillance cameras, bomb-sniffing dogs and, in particular, training more security personnel in the use of behavior-monitoring techniques.</td><td>Security experts have long argued that the most effective way to diminish threats to airports and other large public spaces involves a combination of tools, including greater use of surveillance cameras, bomb-sniffing dogs and, in particular, training more security personnel in the use of behavior-monitoring techniques.</td></tr>\n",
       "<tr><td>“At the moment most airport security check points are about identifying prohibited items,” Mr. Baum said.</td><td>“At the moment most airport security check points are about identifying prohibited items,” Mr. Baum said.</td></tr>\n",
       "<tr><td>“So much time is spent taking liquids and aerosols and gels off of people who pose absolutely no threat, rather than differentiating between people and recognizing that different people pose different threats.”</td><td>“So much time is spent taking liquids and aerosols and gels off of people who pose absolutely no threat, rather than differentiating between people and recognizing that different people pose different threats.”</td></tr>\n",
       "<tr><td></td><td style=\"background-color:rgba(0,255,0,0.3)\">Mr. Kasprisin, the former T.S.A. official, said officials should increase the number of bomb-sniffing dogs and the use plainclothes or uniformed officers who monitor crowds for suspicious behavior.</td></tr>\n",
       "<tr><td></td><td style=\"background-color:rgba(0,255,0,0.3)\">He said airports should also invest in technologies that can, among other things, detect changes in the behavior of people in crowds.</td></tr>\n",
       "<tr><td></td><td style=\"background-color:rgba(0,255,0,0.3)\">“This doesn’t mean that you are going to stop them all, but you can have an impact,” Mr. Kasprisin said.</td></tr>\n",
       "<tr><td>But the use of behavior analysis remains controversial in many countries.</td><td>But the use of behavior analysis remains controversial in many countries.</td></tr>\n",
       "<tr><td>Civil rights groups argued that the approach is too subjective and risks exposing some travelers to unwarranted profiling based on their race or ethnicity.</td><td>Civil rights groups argued that the approach is too subjective and risks exposing some travelers to unwarranted profiling based on their race or ethnicity.</td></tr>\n",
       "<tr><td>“Someone who is trained in behavioral analysis would have found that unusual” and probably would have flagged the men for additional screening, Mr. Shanks said.</td><td>“Someone who is trained in behavioral analysis would have found that unusual” and probably would have flagged the men for additional screening, Mr. Shanks said.</td></tr>\n",
       "<tr><td>Ultimately, analysts said, the debate over how or whether to further enhance airport security forms part of the broader political discussion in Europe and elsewhere about how to strike the appropriate balance between safety and liberty.</td><td>Ultimately, analysts said, the debate over how or whether to further enhance airport security forms part of the broader political discussion in Europe and elsewhere about how to strike the appropriate balance between safety and liberty.</td></tr>\n",
       "<tr><td>“It is certainly possible to implement security to such a point that your free society grinds to a halt,” said Simon A. Bennett, director of the civil safety and security unit of the University of Leicester in England.</td><td>“It is certainly possible to implement security to such a point that your free society grinds to a halt,” said Simon A. Bennett, director of the civil safety and security unit of the University of Leicester in England.</td></tr>\n",
       "<tr><td>“In theory, we could decide to have people queuing up outside the terminals,” Mr. Bennett continued.</td><td>“In theory, we could decide to have people queuing up outside the terminals,” Mr. Bennett continued.</td></tr>\n",
       "<tr><td>‘‘We could strip and cavity-search every flier.</td><td>‘‘We could strip and cavity-search every flier.</td></tr>\n",
       "<tr><td>But who wants to be cavity-searched just to be able to travel where we want?”</td><td>But who wants to be cavity-searched just to be able to travel where we want?”</td></tr>\n",
       "</table>"
      ],
      "text/plain": [
       "<IPython.core.display.HTML object>"
      ]
     },
     "metadata": {},
     "output_type": "display_data"
    }
   ],
   "source": [
    "display(HTML(up.html_compare_articles(*sentence_stats_df.iloc[0][['vars_old', 'vars_new']])))"
   ]
  },
  {
   "cell_type": "code",
   "execution_count": 147,
   "metadata": {},
   "outputs": [],
   "source": [
    "sentence_stats_df['added_sents_ratio'] = sentence_stats_df.pipe(lambda df: df['num_added_sents'] / df['len_new_doc'])"
   ]
  },
  {
   "cell_type": "code",
   "execution_count": 148,
   "metadata": {},
   "outputs": [],
   "source": [
    "ao, an = (sentence_stats_df\n",
    " .loc[lambda df: df['added_sents_ratio'] < .5]\n",
    " .sort_values('added_sents_ratio', ascending=False)\n",
    " .iloc[0]\n",
    " [['vars_old', 'vars_new']]\n",
    ")"
   ]
  },
  {
   "cell_type": "code",
   "execution_count": 149,
   "metadata": {
    "scrolled": true
   },
   "outputs": [
    {
     "data": {
      "text/html": [
       "<table>\n",
       "<tr><th>Old Version</th><th>New Version</th></tr>\n",
       "<tr><td>SHANGHAI — China’s growth streak has lasted for decades, surviving the crackdown at Tiananmen Square, the global financial crisis and the trade war with the United States.</td><td>SHANGHAI — China’s growth streak has lasted for decades, surviving the crackdown at Tiananmen Square, the global financial crisis and the trade war with the United States.</td></tr>\n",
       "<tr><td>But it might not endure the coronavirus epidemic, making it nearly impossible for the rest of the world to escape a slowdown.</td><td>But it might not endure the coronavirus epidemic, making it nearly impossible for the rest of the world to escape a slowdown.</td></tr>\n",
       "<tr><td>The damage was widespread in the official numbers on Monday, the first significant batch of government data since China’s vast containment efforts brought the country to a standstill.</td><td>The damage was widespread in the official numbers on Monday, the first significant batch of government data since China’s vast containment efforts brought the country to a standstill.</td></tr>\n",
       "<tr><td>Industrial production, retail sales and investment all posted record double-digit drops for the first two months of the year, compared with the same period in 2019.</td><td>Industrial production, retail sales and investment all posted record double-digit drops for the first two months of the year, compared with the same period in 2019.</td></tr>\n",
       "<tr><td>The weakness raises the possibility that the entire Chinese economy may have shrunk in the first quarter of this year.</td><td>The weakness raises the possibility that the entire Chinese economy may have shrunk in the first quarter of this year.</td></tr>\n",
       "<tr><td>It would be the first contraction since 1976, when China was hit by the devastating Tangshan earthquake as well as the tumult from the death of Mao, whose Cultural Revolution threw the economy into disarray for a decade.</td><td>It would be the first contraction since 1976, when China was hit by the devastating Tangshan earthquake as well as the tumult from the death of Mao, whose Cultural Revolution threw the economy into disarray for a decade.</td></tr>\n",
       "<tr><td>The knock-on effects for the world are significant.</td><td>The knock-on effects for the world are significant.</td></tr>\n",
       "<tr><td>China’s factories rely on oil and other commodities from countries like Angola, Sierra Leone and Chile.</td><td>China’s factories rely on oil and other commodities from countries like Angola, Sierra Leone and Chile.</td></tr>\n",
       "<tr><td>Its shoppers love Apple iPhones, Chevrolet cars and Starbucks coffees.</td><td>Its shoppers love Apple iPhones, Chevrolet cars and Starbucks coffees.</td></tr>\n",
       "<tr><td>Its construction of new buildings, roads and rail lines depends on steel often made from iron ore mined in Brazil or Australia.</td><td>Its construction of new buildings, roads and rail lines depends on steel often made from iron ore mined in Brazil or Australia.</td></tr>\n",
       "<tr><td>If people can’t be convinced to start spending money again, “the demand shock may spread to East Asia and then to Europe and the U.S. — and the world may face a disaster,” said Cao Heping, a Peking University economist.</td><td>If people can’t be convinced to start spending money again, “the demand shock may spread to East Asia and then to Europe and the U.S. — and the world may face a disaster,” said Cao Heping, a Peking University economist.</td></tr>\n",
       "<tr><td>When the virus started spreading from Wuhan in January, China moved aggressively to lock down the country, imposing stringent and painful measures on the movement of people and goods.</td><td>When the virus started spreading from Wuhan in January, China moved aggressively to lock down the country, imposing stringent and painful measures on the movement of people and goods.</td></tr>\n",
       "<tr><td>The economy ground to a stop.</td><td>The economy ground to a stop.</td></tr>\n",
       "<tr><td>Halting the world’s second-largest economy has proved easier than restarting it, raising worries that the economy may continue to stumble for a while.</td><td>Halting the world’s second-largest economy has proved easier than restarting it, raising worries that the economy may continue to stumble for a while.</td></tr>\n",
       "<tr><td>It could be months, if not longer, before the country is fully up and running again.</td><td>It could be months, if not longer, before the country is fully up and running again.</td></tr>\n",
       "<tr><td>It’s a two-part problem — a lack of workers and buyers.</td><td>It’s a two-part problem — a lack of workers and buyers.</td></tr>\n",
       "<tr><td>Tens of millions of migrants who work in the factories are still stuck in quarantines or in their hometowns.</td><td>Tens of millions of migrants who work in the factories are still stuck in quarantines or in their hometowns.</td></tr>\n",
       "<tr><td>Chinese state media announced triumphantly on Monday that four busloads of workers had been allowed to leave Hubei province, where the outbreak first emanated.</td><td>Chinese state media announced triumphantly on Monday that four busloads of workers had been allowed to leave Hubei province, where the outbreak first emanated.</td></tr>\n",
       "<tr><td>Chinese consumers aren’t buying either.</td><td>Chinese consumers aren’t buying either.</td></tr>\n",
       "<tr><td>Car dealerships have emptied.</td><td>Car dealerships have emptied.</td></tr>\n",
       "<tr><td>In Shanghai, the number of shoppers is still far below normal, from the cheap eateries and budget shops of blue-collar neighborhoods on the city’s southside to the luxury stores of Nanjing Road, the most famous shopping avenue in China.</td><td>In Shanghai, the number of shoppers is still far below normal, from the cheap eateries and budget shops of blue-collar neighborhoods on the city’s southside to the luxury stores of Nanjing Road, the most famous shopping avenue in China.</td></tr>\n",
       "<tr><td>“The supply problem is fixable, it’s bringing people back” to work from the countryside, said Ker Gibbs, the president of the American Chamber of Commerce in Shanghai.</td><td>“The supply problem is fixable, it’s bringing people back” to work from the countryside, said Ker Gibbs, the president of the American Chamber of Commerce in Shanghai.</td></tr>\n",
       "<tr><td>“The demand problem is harder.”</td><td>“The demand problem is harder.”</td></tr>\n",
       "<tr><td>As China’s powerful economic engine sputters, the rest of the world’s expansion is under threat.</td><td>As China’s powerful economic engine sputters, the rest of the world’s expansion is under threat.</td></tr>\n",
       "<tr><td>The stock market of Australia, which sells vast quantities of iron ore to China, has been among the world’s worst performers in recent days.</td><td>The stock market of Australia, which sells vast quantities of iron ore to China, has been among the world’s worst performers in recent days.</td></tr>\n",
       "<tr><td>Germany’s automakers depend heavily on the Chinese market and have seen sales wither.</td><td>Germany’s automakers depend heavily on the Chinese market and have seen sales wither.</td></tr>\n",
       "<tr><td>Mideast energy producers have struggled, as China has turned away shipments of liquefied natural gas and cut way back on oil consumption.</td><td>Mideast energy producers have struggled, as China has turned away shipments of liquefied natural gas and cut way back on oil consumption.</td></tr>\n",
       "<tr><td>Global economists had been wondering whether China would admit that its economy shrank in the first quarter, given the country’s tendency to report predictable and steady growth no matter what happens.</td><td>Global economists had been wondering whether China would admit that its economy shrank in the first quarter, given the country’s tendency to report predictable and steady growth no matter what happens.</td></tr>\n",
       "<tr><td>But the government data on Monday suggests that China may break with that dubious tradition next month in reporting economic output for the first quarter of this year, allowing for a more accurate look at the troubled economy.</td><td>But the government data on Monday suggests that China may break with that dubious tradition next month in reporting economic output for the first quarter of this year, allowing for a more accurate look at the troubled economy.</td></tr>\n",
       "<tr><td>“Most of us are expecting a negative percentage, 2 or 3 percent below zero, or maybe lower,” said Zhu Chaoping, a global markets strategist in the Shanghai office of J.P. Morgan.</td><td>“Most of us are expecting a negative percentage, 2 or 3 percent below zero, or maybe lower,” said Zhu Chaoping, a global markets strategist in the Shanghai office of J.P. Morgan.</td></tr>\n",
       "<tr><td>Government officials tried at a news briefing on Monday in Beijing to play down the severity of the problem.</td><td>Government officials tried at a news briefing on Monday in Beijing to play down the severity of the problem.</td></tr>\n",
       "<tr><td>“The impact of the epidemic is short-term, external and controllable,” said Mao Shengyong, the director general of the department of comprehensive statistics at the National Bureau of Statistics, which released the data.</td><td>“The impact of the epidemic is short-term, external and controllable,” said Mao Shengyong, the director general of the department of comprehensive statistics at the National Bureau of Statistics, which released the data.</td></tr>\n",
       "<tr><td>Mr. Mao said that it was too soon to estimate whether the economy had shrunk in the first quarter.</td><td>Mr. Mao said that it was too soon to estimate whether the economy had shrunk in the first quarter.</td></tr>\n",
       "<tr><td>The economy typically slows somewhat in January and February after the Lunar Year holidays.</td><td>The economy typically slows somewhat in January and February after the Lunar Year holidays.</td></tr>\n",
       "<tr><td>So March typically represents a disproportionate share of the quarter’s output, as much as 40 percent, he said.</td><td>So March typically represents a disproportionate share of the quarter’s output, as much as 40 percent, he said.</td></tr>\n",
       "<tr><td>Economic statistics for the first two months were expected to be weak.</td><td>Economic statistics for the first two months were expected to be weak.</td></tr>\n",
       "<tr><td>But the data released on Monday was more dismal than many economists had anticipated.</td><td>But the data released on Monday was more dismal than many economists had anticipated.</td></tr>\n",
       "<tr><td></td><td style=\"background-color:rgba(0,255,0,0.3)\">So far, the evidence seems to show it does.</td></tr>\n",
       "<tr><td></td><td style=\"background-color:rgba(0,255,0,0.3)\">A widely cited paper published in April suggests that people are most infectious about two days before the onset of coronavirus symptoms and estimated that 44 percent of new infections were a result of transmission from people who were not yet showing symptoms.</td></tr>\n",
       "<tr><td></td><td style=\"background-color:rgba(0,255,0,0.3)\">Recently, a top expert at the World Health Organization stated that transmission of the coronavirus by people who did not have symptoms was “very rare,” but she later walked back that statement.</td></tr>\n",
       "<tr><td></td><td style=\"background-color:rgba(0,255,0,0.3)\">A study by European scientists is the first to document a strong statistical link between genetic variations and Covid-19, the illness caused by the coronavirus.</td></tr>\n",
       "<tr><td></td><td style=\"background-color:rgba(0,255,0,0.3)\">Having Type A blood was linked to a 50 percent increase in the likelihood that a patient would need to get oxygen or to go on a ventilator, according to the new study.</td></tr>\n",
       "<tr><td></td><td style=\"background-color:rgba(0,255,0,0.3)\">The unemployment rate fell to 13.3 percent in May, the Labor Department said on June 5, an unexpected improvement in the nation’s job market as hiring rebounded faster than economists expected.</td></tr>\n",
       "<tr><td></td><td style=\"background-color:rgba(0,255,0,0.3)\">Economists had forecast the unemployment rate to increase to as much as 20 percent, after it hit 14.7 percent in April, which was the highest since the government began keeping official statistics after World War II.</td></tr>\n",
       "<tr><td></td><td style=\"background-color:rgba(0,255,0,0.3)\">But the unemployment rate dipped instead, with employers adding 2.5 million jobs, after more than 20 million jobs were lost in April.</td></tr>\n",
       "<tr><td></td><td style=\"background-color:rgba(0,255,0,0.3)\">Mass protests against police brutality that have brought thousands of people onto the streets in cities across America are raising the specter of new coronavirus outbreaks, prompting political leaders, physicians and public health experts to warn that the crowds could cause a surge in cases.</td></tr>\n",
       "<tr><td></td><td style=\"background-color:rgba(0,255,0,0.3)\">While many political leaders affirmed the right of protesters to express themselves, they urged the demonstrators to wear face masks and maintain social distancing, both to protect themselves and to prevent further community spread of the virus.</td></tr>\n",
       "<tr><td></td><td style=\"background-color:rgba(0,255,0,0.3)\">Some infectious disease experts were reassured by the fact that the protests were held outdoors, saying the open air settings could mitigate the risk of transmission.</td></tr>\n",
       "<tr><td></td><td style=\"background-color:rgba(0,255,0,0.3)\">Exercise researchers and physicians have some blunt advice for those of us aiming to return to regular exercise now: Start slowly and then rev up your workouts, also slowly.</td></tr>\n",
       "<tr><td></td><td style=\"background-color:rgba(0,255,0,0.3)\">American adults tended to be about 12 percent less active after the stay-at-home mandates began in March than they were in January.</td></tr>\n",
       "<tr><td></td><td style=\"background-color:rgba(0,255,0,0.3)\">But there are steps you can take to ease your way back into regular exercise safely.</td></tr>\n",
       "<tr><td></td><td style=\"background-color:rgba(0,255,0,0.3)\">First, “start at no more than 50 percent of the exercise you were doing before Covid,” says Dr. Monica Rho, the chief of musculoskeletal medicine at the Shirley Ryan AbilityLab in Chicago.</td></tr>\n",
       "<tr><td></td><td style=\"background-color:rgba(0,255,0,0.3)\">Thread in some preparatory squats, too, she advises.</td></tr>\n",
       "<tr><td></td><td style=\"background-color:rgba(0,255,0,0.3)\">“When you haven’t been exercising, you lose muscle mass.”</td></tr>\n",
       "<tr><td></td><td style=\"background-color:rgba(0,255,0,0.3)\">Expect some muscle twinges after these preliminary, post-lockdown sessions, especially a day or two later.</td></tr>\n",
       "<tr><td></td><td style=\"background-color:rgba(0,255,0,0.3)\">But sudden or increasing pain during exercise is a clarion call to stop and return home.</td></tr>\n",
       "<tr><td></td><td style=\"background-color:rgba(0,255,0,0.3)\">States are reopening bit by bit.</td></tr>\n",
       "<tr><td></td><td style=\"background-color:rgba(0,255,0,0.3)\">This means that more public spaces are available for use and more and more businesses are being allowed to open again.</td></tr>\n",
       "<tr><td></td><td style=\"background-color:rgba(0,255,0,0.3)\">The federal government is largely leaving the decision up to states, and some state leaders are leaving the decision up to local authorities.</td></tr>\n",
       "<tr><td></td><td style=\"background-color:rgba(0,255,0,0.3)\">Even if you aren’t being told to stay at home, it’s still a good idea to limit trips outside and your interaction with other people.</td></tr>\n",
       "<tr><td></td><td style=\"background-color:rgba(0,255,0,0.3)\">Common symptoms include fever, a dry cough, fatigue and difficulty breathing or shortness of breath.</td></tr>\n",
       "<tr><td></td><td style=\"background-color:rgba(0,255,0,0.3)\">Some of these symptoms overlap with those of the flu, making detection difficult, but runny noses and stuffy sinuses are less common.</td></tr>\n",
       "<tr><td></td><td style=\"background-color:rgba(0,255,0,0.3)\">The C.D.C. has also added chills, muscle pain, sore throat, headache and a new loss of the sense of taste or smell as symptoms to look out for.</td></tr>\n",
       "<tr><td></td><td style=\"background-color:rgba(0,255,0,0.3)\">Most people fall ill five to seven days after exposure, but symptoms may appear in as few as two days or as many as 14 days.</td></tr>\n",
       "<tr><td></td><td style=\"background-color:rgba(0,255,0,0.3)\">If air travel is unavoidable, there are some steps you can take to protect yourself.</td></tr>\n",
       "<tr><td></td><td style=\"background-color:rgba(0,255,0,0.3)\">Most important</td></tr>\n",
       "<tr><td></td><td style=\"background-color:rgba(0,255,0,0.3)\">: Wash your hands often, and stop touching your face.</td></tr>\n",
       "<tr><td></td><td style=\"background-color:rgba(0,255,0,0.3)\">If possible, choose a window seat.</td></tr>\n",
       "<tr><td></td><td style=\"background-color:rgba(0,255,0,0.3)\">A study from Emory University found that during flu season, the safest place to sit on a plane is by a window, as people sitting in window seats had less contact with potentially sick people.</td></tr>\n",
       "<tr><td></td><td style=\"background-color:rgba(0,255,0,0.3)\">Disinfect hard surfaces.</td></tr>\n",
       "<tr><td></td><td style=\"background-color:rgba(0,255,0,0.3)\">When you get to your seat and your hands are clean, use disinfecting wipes to clean the hard surfaces at your seat like the head and arm rest, the seatbelt buckle, the remote, screen, seat back pocket and the tray table.</td></tr>\n",
       "<tr><td></td><td style=\"background-color:rgba(0,255,0,0.3)\">If the seat is hard and nonporous or leather or pleather, you can wipe that down, too.</td></tr>\n",
       "<tr><td></td><td style=\"background-color:rgba(0,255,0,0.3)\">(Using wipes on upholstered seats could lead to a wet seat and spreading of germs rather than killing them.)</td></tr>\n",
       "<tr><td></td><td style=\"background-color:rgba(0,255,0,0.3)\">Taking one’s temperature to look for signs of fever is not as easy as it sounds, as “normal” temperature numbers can vary, but generally, keep an eye out for a temperature of 100.5 degrees Fahrenheit or higher.</td></tr>\n",
       "<tr><td></td><td style=\"background-color:rgba(0,255,0,0.3)\">If you don’t have a thermometer (they can be pricey these days), there are other ways to figure out if you have a fever, or are at risk of Covid-19 complications.</td></tr>\n",
       "<tr><td></td><td style=\"background-color:rgba(0,255,0,0.3)\">The C.D.C. has recommended that all Americans wear cloth masks if they go out in public.</td></tr>\n",
       "<tr><td></td><td style=\"background-color:rgba(0,255,0,0.3)\">This is a shift in federal guidance reflecting new concerns that the coronavirus is being spread by infected people who have no symptoms.</td></tr>\n",
       "<tr><td></td><td style=\"background-color:rgba(0,255,0,0.3)\">Until now, the C.D.C., like the W.H.O., has advised that ordinary people don’t need to wear masks unless they are sick and coughing.</td></tr>\n",
       "<tr><td></td><td style=\"background-color:rgba(0,255,0,0.3)\">Part of the reason was to preserve medical-grade masks for health care workers who desperately need them at a time when they are in continuously short supply.</td></tr>\n",
       "<tr><td></td><td style=\"background-color:rgba(0,255,0,0.3)\">Masks don’t replace hand washing and social distancing.</td></tr>\n",
       "<tr><td></td><td style=\"background-color:rgba(0,255,0,0.3)\">If you’ve been exposed to the coronavirus or think you have, and have a fever or symptoms like a cough or difficulty breathing, call a doctor.</td></tr>\n",
       "<tr><td></td><td style=\"background-color:rgba(0,255,0,0.3)\">They should give you advice on whether you should be tested, how to get tested, and how to seek medical treatment without potentially infecting or exposing others.</td></tr>\n",
       "<tr><td></td><td style=\"background-color:rgba(0,255,0,0.3)\">If you’re sick and you think you’ve been exposed to the new coronavirus, the C.D.C. recommends that you call your healthcare provider and explain your symptoms and fears.</td></tr>\n",
       "<tr><td></td><td style=\"background-color:rgba(0,255,0,0.3)\">They will decide if you need to be tested.</td></tr>\n",
       "<tr><td></td><td style=\"background-color:rgba(0,255,0,0.3)\">Keep in mind that there’s a chance — because of a lack of testing kits or because you’re asymptomatic, for instance — you won’t be able to get tested.</td></tr>\n",
       "<tr><td>Industrial production fell 13.5 percent last month compared with February of last year.</td><td>Industrial production fell 13.5 percent last month compared with February of last year.</td></tr>\n",
       "<tr><td>Many factories did not reopen until late February if at all.</td><td>Many factories did not reopen until late February if at all.</td></tr>\n",
       "<tr><td>Fixed-asset investment, which includes construction of buildings, roads and railways, slipped 24.5 percent last month.</td><td>Fixed-asset investment, which includes construction of buildings, roads and railways, slipped 24.5 percent last month.</td></tr>\n",
       "<tr><td>It is expected to revive quickly as provinces pour money into infrastructure projects this spring to restart economic growth.</td><td>It is expected to revive quickly as provinces pour money into infrastructure projects this spring to restart economic growth.</td></tr>\n",
       "<tr><td>The epidemic now appears to be prompting the government to adjust its economic goals.</td><td>The epidemic now appears to be prompting the government to adjust its economic goals.</td></tr>\n",
       "<tr><td>China’s top leader, Xi Jinping, has called for eliminating extreme poverty by the end of the year, as well as doubling economic output between 2010 and 2020.</td><td>China’s top leader, Xi Jinping, has called for eliminating extreme poverty by the end of the year, as well as doubling economic output between 2010 and 2020.</td></tr>\n",
       "<tr><td>On Monday, the government seemed to give itself some wiggle room.</td><td>On Monday, the government seemed to give itself some wiggle room.</td></tr>\n",
       "<tr><td>Just 15 minutes before the data was released, the state-run newspaper, China Daily, published a report saying that while extreme poverty would be eradicated this year, the other goal is now to double economic output “by around 2021.”</td><td>Just 15 minutes before the data was released, the state-run newspaper, China Daily, published a report saying that while extreme poverty would be eradicated this year, the other goal is now to double economic output “by around 2021.”</td></tr>\n",
       "<tr><td>Economists are uncertain how much growth would be needed for China to achieve the target this year — the usual estimates are somewhere between 5 and 6 percent.</td><td>Economists are uncertain how much growth would be needed for China to achieve the target this year — the usual estimates are somewhere between 5 and 6 percent.</td></tr>\n",
       "<tr><td>On Monday Fitch Solutions revised down its forecast for China’s economic growth this year to 5.2 percent.</td><td>On Monday Fitch Solutions revised down its forecast for China’s economic growth this year to 5.2 percent.</td></tr>\n",
       "<tr><td>Commonwealth Bank of Australia also pushed down its forecast on Monday, to just 4.2 percent.</td><td>Commonwealth Bank of Australia also pushed down its forecast on Monday, to just 4.2 percent.</td></tr>\n",
       "<tr><td>Coral Yang contributed research.</td><td>Coral Yang contributed research.</td></tr>\n",
       "</table>"
      ],
      "text/plain": [
       "<IPython.core.display.HTML object>"
      ]
     },
     "metadata": {},
     "output_type": "display_data"
    }
   ],
   "source": [
    "display(HTML(up.html_compare_articles(ao, an)))"
   ]
  },
  {
   "cell_type": "code",
   "execution_count": 150,
   "metadata": {},
   "outputs": [
    {
     "data": {
      "text/plain": [
       "(8295, 10)"
      ]
     },
     "execution_count": 150,
     "metadata": {},
     "output_type": "execute_result"
    }
   ],
   "source": [
    "(sentence_stats_df.loc[lambda df: df['added_sents_ratio'] < .5]).shape"
   ]
  },
  {
   "cell_type": "code",
   "execution_count": 151,
   "metadata": {},
   "outputs": [
    {
     "data": {
      "text/plain": [
       "(8836, 10)"
      ]
     },
     "execution_count": 151,
     "metadata": {},
     "output_type": "execute_result"
    }
   ],
   "source": [
    "sentence_stats_df.shape"
   ]
  },
  {
   "cell_type": "code",
   "execution_count": 152,
   "metadata": {},
   "outputs": [],
   "source": [
    "one_sentence_additions = sentence_stats_df.loc[lambda df: df['num_added_sents'] == 1]"
   ]
  },
  {
   "cell_type": "code",
   "execution_count": 225,
   "metadata": {},
   "outputs": [],
   "source": [
    "vars_old, vars_new = one_sentence_additions.iloc[21][['vars_old', 'vars_new']]"
   ]
  },
  {
   "cell_type": "code",
   "execution_count": 226,
   "metadata": {
    "scrolled": true
   },
   "outputs": [
    {
     "data": {
      "text/html": [
       "<table>\n",
       "<tr><th>Old Version</th><th>New Version</th></tr>\n",
       "<tr><td style=\"background-color:rgba(255,0,0,0.3)\">WASHINGTON —                                          </td><td style=\"background-color:rgba(0,255,0,0.3)\">WASHINGTON — <span style=\"background-color:rgba(0,255,0,0.3)\">A </span> <span style=\"background-color:rgba(0,255,0,0.3)\">federal </span> <span style=\"background-color:rgba(0,255,0,0.3)\">report </span> <span style=\"background-color:rgba(0,255,0,0.3)\">released </span> <span style=\"background-color:rgba(0,255,0,0.3)\">on </span> <span style=\"background-color:rgba(0,255,0,0.3)\">Tuesday </span> <span style=\"background-color:rgba(0,255,0,0.3)\">found </span> <span style=\"background-color:rgba(0,255,0,0.3)\">the </span> <span style=\"background-color:rgba(0,255,0,0.3)\">Trump </span> <span style=\"background-color:rgba(0,255,0,0.3)\">administration </span> <span style=\"background-color:rgba(0,255,0,0.3)\">set </span> <span style=\"background-color:rgba(0,255,0,0.3)\">a </span> <span style=\"background-color:rgba(0,255,0,0.3)\">rock </span> <span style=\"background-color:rgba(0,255,0,0.3)\">- </span> <span style=\"background-color:rgba(0,255,0,0.3)\">bottom </span> <span style=\"background-color:rgba(0,255,0,0.3)\">price </span> <span style=\"background-color:rgba(0,255,0,0.3)\">on </span> <span style=\"background-color:rgba(0,255,0,0.3)\">the </span> <span style=\"background-color:rgba(0,255,0,0.3)\">damages </span> <span style=\"background-color:rgba(0,255,0,0.3)\">done </span> <span style=\"background-color:rgba(0,255,0,0.3)\">by </span> <span style=\"background-color:rgba(0,255,0,0.3)\">greenhouse </span> <span style=\"background-color:rgba(0,255,0,0.3)\">gas </span> <span style=\"background-color:rgba(0,255,0,0.3)\">emissions </span> <span style=\"background-color:rgba(0,255,0,0.3)\">, </span> <span style=\"background-color:rgba(0,255,0,0.3)\">enabling </span> <span style=\"background-color:rgba(0,255,0,0.3)\">the </span> <span style=\"background-color:rgba(0,255,0,0.3)\">government </span> <span style=\"background-color:rgba(0,255,0,0.3)\">to </span> <span style=\"background-color:rgba(0,255,0,0.3)\">justify </span> <span style=\"background-color:rgba(0,255,0,0.3)\">the </span> <span style=\"background-color:rgba(0,255,0,0.3)\">costs </span> <span style=\"background-color:rgba(0,255,0,0.3)\">of </span> <span style=\"background-color:rgba(0,255,0,0.3)\">repealing </span> <span style=\"background-color:rgba(0,255,0,0.3)\">or </span> <span style=\"background-color:rgba(0,255,0,0.3)\">weakening </span> <span style=\"background-color:rgba(0,255,0,0.3)\">dozens </span> <span style=\"background-color:rgba(0,255,0,0.3)\">of </span> <span style=\"background-color:rgba(0,255,0,0.3)\">climate </span> <span style=\"background-color:rgba(0,255,0,0.3)\">change </span> <span style=\"background-color:rgba(0,255,0,0.3)\">regulations </span> <span style=\"background-color:rgba(0,255,0,0.3)\">. </span></td></tr>\n",
       "<tr><td style=\"background-color:rgba(255,0,0,0.3)\">A federal report expected to be released Tuesday found the Trump administration set a rock-bottom price on the damages done by greenhouse gas emissions, enabling the government to justify the costs of repealing or weakening dozens of climate change regulations.</td><td>The report by the Government Accountability Office, Congress’s nonpartisan investigative arm, said the Trump administration estimated the harm that global warming will cause future generations to be seven times lower than previous federal estimates.</td></tr>\n",
       "<tr><td>The report by the Government Accountability Office, Congress’s nonpartisan investigative arm, said the Trump administration estimated the harm that global warming will cause future generations to be seven times lower than previous federal estimates.</td><td>Reducing that metric, known as the “social cost of carbon,” has helped the administration massage cost-benefit analyses, particularly for rules that allow power plants and automobiles to emit more planet-warming carbon dioxide.</td></tr>\n",
       "<tr><td>Reducing that metric, known as the “social cost of carbon,” has helped the administration massage cost-benefit analyses, particularly for rules that allow power plants and automobiles to emit more planet-warming carbon dioxide.</td><td>Critics described the Trump administration’s move as turning a deliberate blind eye to the dangers of climate change.</td></tr>\n",
       "<tr><td>Critics described the Trump administration’s move as turning a deliberate blind eye to the dangers of climate change.</td><td>Some critics likened it to President Trump downplaying the risks of the coronavirus, hoping it would “go away” but instead leaving the country unprepared for the pandemic.</td></tr>\n",
       "<tr><td>Some critics likened it to President Trump downplaying the risks of the coronavirus, hoping it would “go away” but instead leaving the country unprepared for the pandemic.</td><td>“Climate change is a massive threat to our economy.</td></tr>\n",
       "<tr><td>“Climate change is a massive threat to our economy.</td><td>That threat will only grow in years to come, even if we take the action necessary to avoid the worst effects of climate change,” said Senator Sheldon Whitehouse of Rhode Island, one of eight Democrats who requested the review.</td></tr>\n",
       "<tr><td>That threat will only grow in years to come, even if we take the action necessary to avoid the worst effects of climate change,” said Senator Sheldon Whitehouse of Rhode Island, one of eight Democrats who requested the review.</td><td style=\"background-color:rgba(0,255,0,0.3)\">The White House did not respond to a request for comment on the report.</td></tr>\n",
       "<tr><td style=\"background-color:rgba(255,0,0,0.3)\">The White House did not respond to a request on Monday for comment on the report.</td><td>Every ton of carbon dioxide released into the atmosphere imposes a cost on the economy, whether from damage to infrastructure from sea level rise and heat waves or harm to public health.</td></tr>\n",
       "<tr><td>Every ton of carbon dioxide released into the atmosphere imposes a cost on the economy, whether from damage to infrastructure from sea level rise and heat waves or harm to public health.</td><td>But calculating the price of that damage has been economically challenging and politically contentious.</td></tr>\n",
       "<tr><td>But calculating the price of that damage has been economically challenging and politically contentious.</td><td>Conservatives have argued that the valuation serves to make big energy projects look bad and lays the foundation for burdensome and costly industry regulations.</td></tr>\n",
       "<tr><td>Conservatives have argued that the valuation serves to make big energy projects look bad and lays the foundation for burdensome and costly industry regulations.</td><td>Many Republicans said that the Obama administration’s estimates — which in 2016 determined the social cost of carbon to be about $50 a ton by 2020 — were unrealistic and intentionally onerous.</td></tr>\n",
       "<tr><td>Many Republicans said that the Obama administration’s estimates — which in 2016 determined the social cost of carbon to be about $50 a ton by 2020 — were unrealistic and intentionally onerous.</td><td>The Trump administration has overhauled not just the regulations governing the economy but also the economic foundations that underpin those regulations.</td></tr>\n",
       "<tr><td>The Trump administration has overhauled not just the regulations governing the economy but also the economic foundations that underpin those regulations.</td><td>One of President Trump’s earliest moves was to order agencies to unwind Mr. Obama’s climate policies, and with them the social cost of carbon he had set.</td></tr>\n",
       "<tr><td>One of President Trump’s earliest moves was to order agencies to unwind Mr. Obama’s climate policies, and with them the social cost of carbon he had set.</td><td>When the Trump administration put forward its own rules to regulate emissions from power plants and vehicles, it estimated the cost of climate damages between $1 and $7 per ton of carbon.</td></tr>\n",
       "<tr><td>When the Trump administration put forward its own rules to regulate emissions from power plants and vehicles, it estimated the cost of climate damages between $1 and $7 per ton of carbon.</td><td>The G.A.O. found the administration used two main avenues to push the numbers down.</td></tr>\n",
       "<tr><td>The G.A.O. found the administration used two main avenues to push the numbers down.</td><td>It only factored in damages that would occur within the United States rather than around the globe.</td></tr>\n",
       "<tr><td>It only factored in damages that would occur within the United States rather than around the globe.</td><td>It also used an economic calculation, known as the discount rate, in a way that assumes society should not pay much now to prevent harm from climate change to future generations.</td></tr>\n",
       "<tr><td>It also used an economic calculation, known as the discount rate, in a way that assumes society should not pay much now to prevent harm from climate change to future generations.</td><td>“As a result, the current federal estimates, based on domestic climate damages, are about seven times lower than the prior federal estimates that were based on global damages,” the report found.</td></tr>\n",
       "<tr><td>“As a result, the current federal estimates, based on domestic climate damages, are about seven times lower than the prior federal estimates that were based on global damages,” the report found.</td><td>Michael Greenstone, an economist at the University of Chicago, said the Trump administration’s calculations were not done in good faith.</td></tr>\n",
       "<tr><td>Michael Greenstone, an economist at the University of Chicago, said the Trump administration’s calculations were not done in good faith.</td><td>“It was entirely a political act.</td></tr>\n",
       "<tr><td>“It was entirely a political act.</td><td>I don’t think anyone pretended that those moves were justified,” he said.</td></tr>\n",
       "<tr><td>I don’t think anyone pretended that those moves were justified,” he said.</td><td>Some agencies have defended using the significantly lower figure by saying they are awaiting new federal estimates recommended by the National Academies of Sciences.</td></tr>\n",
       "<tr><td>Some agencies have defended using the significantly lower figure by saying they are awaiting new federal estimates recommended by the National Academies of Sciences.</td><td>But the White House disbanded the working group that was devising them and has acknowledged it actually has no plans to update the calculations.</td></tr>\n",
       "<tr><td>But the White House disbanded the working group that was devising them and has acknowledged it actually has no plans to update the calculations.</td><td>Without them, the G.A.O. found, the federal government “may not be well positioned to ensure agencies’ future regulatory analyses are using the best available science.”</td></tr>\n",
       "<tr><td>Without them, the G.A.O. found, the federal government “may not be well positioned to ensure agencies’ future regulatory analyses are using the best available science.”</td><td>By 2050, under the estimates developed by the Obama administration, the social cost of carbon should be about $82 a ton, the report found.</td></tr>\n",
       "<tr><td>By 2050, under the estimates developed by the Obama administration, the social cost of carbon should be about $82 a ton, the report found.</td><td>Under the Trump administration’s calculations, the damages would be around $11 a ton.</td></tr>\n",
       "<tr><td>Under the Trump administration’s calculations, the damages would be around $11 a ton.</td><td>“This really parallels the mismanagement of coronavirus,” said Michael K. Dorsey, a limited partner with IberSun, a renewable energy company, and a climate expert who has testified before Congress on the social cost of carbon.</td></tr>\n",
       "<tr><td>“This really parallels the mismanagement of coronavirus,” said Michael K. Dorsey, a limited partner with IberSun, a renewable energy company, and a climate expert who has testified before Congress on the social cost of carbon.</td><td>“There’s this belief that by doing this you will have some effect of helping the fossil fuel industry,” he said of the administration’s low carbon cost.</td></tr>\n",
       "<tr><td>“There’s this belief that by doing this you will have some effect of helping the fossil fuel industry,” he said of the administration’s low carbon cost.</td><td>“The only thing it does, unfortunately, is undermine the ability of the government to make prudent decisions about moving critical resources to communities that are experiencing the unfolding climate crisis.”</td></tr>\n",
       "</table>"
      ],
      "text/plain": [
       "<IPython.core.display.HTML object>"
      ]
     },
     "metadata": {},
     "output_type": "display_data"
    }
   ],
   "source": [
    "display(HTML(up.html_compare_articles(vars_old, vars_new)))"
   ]
  },
  {
   "cell_type": "code",
   "execution_count": 227,
   "metadata": {},
   "outputs": [
    {
     "data": {
      "text/plain": [
       "num_added_sents                                                      1\n",
       "len_new_doc                                                         30\n",
       "num_removed_sents                                                    2\n",
       "len_old_doc                                                         30\n",
       "num_changed_sents                                                    1\n",
       "version_nums                                                    (0, 1)\n",
       "a_id                                                           1972695\n",
       "vars_old             [{'text': 'WASHINGTON —', 'tag': '-'}, {'text'...\n",
       "vars_new             [{'text': 'WASHINGTON — A federal report relea...\n",
       "added_sents_ratio                                            0.0333333\n",
       "Name: 230, dtype: object"
      ]
     },
     "execution_count": 227,
     "metadata": {},
     "output_type": "execute_result"
    }
   ],
   "source": [
    "one_sentence_additions.iloc[21]"
   ]
  },
  {
   "cell_type": "code",
   "execution_count": 228,
   "metadata": {},
   "outputs": [],
   "source": [
    "a1 = sample_diffs_by_article.loc[1972695].loc[lambda df: df['version'] == 0]['text'].iloc[0]\n",
    "a2 = sample_diffs_by_article.loc[1972695].loc[lambda df: df['version'] == 1]['text'].iloc[0]\n",
    "a1_sents = up.split_sents(a1)\n",
    "a2_sents = up.split_sents(a2)\n",
    "\n",
    "diffs = list(difflib.ndiff(a1_sents, a2_sents))"
   ]
  },
  {
   "cell_type": "code",
   "execution_count": null,
   "metadata": {},
   "outputs": [],
   "source": []
  },
  {
   "cell_type": "code",
   "execution_count": null,
   "metadata": {},
   "outputs": [],
   "source": []
  },
  {
   "cell_type": "code",
   "execution_count": 246,
   "metadata": {},
   "outputs": [],
   "source": [
    "datelines = nytimes_article_diffs['text'].head(1000).str.split('—').str.get(0)"
   ]
  },
  {
   "cell_type": "code",
   "execution_count": 253,
   "metadata": {},
   "outputs": [
    {
     "data": {
      "text/plain": [
       "WASHINGTON                   61\n",
       "TAMPA, Fla.                  55\n",
       "NEW ORLEANS                  50\n",
       "KABUL, Afghanistan           46\n",
       "BEIRUT, Lebanon              35\n",
       "                             ..\n",
       "LUANDA, Angola (Reuters)      1\n",
       "BERLIN (AP)                   1\n",
       "MERCHTEM, Belgium             1\n",
       "AMMAN, JORDAN                 1\n",
       "MERCHTEM, BELGIUM             1\n",
       "Name: text, Length: 96, dtype: int64"
      ]
     },
     "execution_count": 253,
     "metadata": {},
     "output_type": "execute_result"
    }
   ],
   "source": [
    "datelines.loc[lambda s: s.str.split().str.len() < 7].value_counts()"
   ]
  },
  {
   "cell_type": "code",
   "execution_count": 238,
   "metadata": {},
   "outputs": [
    {
     "data": {
      "text/plain": [
       "['WASHINGTON —',\n",
       " 'A federal report expected to be released Tuesday found the Trump administration set a rock-bottom price on the damages done by greenhouse gas emissions, enabling the government to justify the costs of repealing or weakening dozens of climate change regulations.']"
      ]
     },
     "execution_count": 238,
     "metadata": {},
     "output_type": "execute_result"
    }
   ],
   "source": [
    "list(map(lambda x: x.text, up.get_nlp()(a1.split('</p><p>')[0]).sents))"
   ]
  },
  {
   "cell_type": "code",
   "execution_count": 239,
   "metadata": {},
   "outputs": [
    {
     "data": {
      "text/plain": [
       "['WASHINGTON — A federal report released on Tuesday found the Trump administration set a rock-bottom price on the damages done by greenhouse gas emissions, enabling the government to justify the costs of repealing or weakening dozens of climate change regulations.']"
      ]
     },
     "execution_count": 239,
     "metadata": {},
     "output_type": "execute_result"
    }
   ],
   "source": [
    "list(map(lambda x: x.text, up.get_nlp()(a2.split('</p><p>')[0]).sents))"
   ]
  },
  {
   "cell_type": "code",
   "execution_count": 230,
   "metadata": {
    "scrolled": true
   },
   "outputs": [
    {
     "data": {
      "text/plain": [
       "['WASHINGTON —',\n",
       " 'A federal report expected to be released Tuesday found the Trump administration set a rock-bottom price on the damages done by greenhouse gas emissions, enabling the government to justify the costs of repealing or weakening dozens of climate change regulations.',\n",
       " 'The report by the Government Accountability Office, Congress’s nonpartisan investigative arm, said the Trump administration estimated the harm that global warming will cause future generations to be seven times lower than previous federal estimates.',\n",
       " 'Reducing that metric, known as the “social cost of carbon,” has helped the administration massage cost-benefit analyses, particularly for rules that allow power plants and automobiles to emit more planet-warming carbon dioxide.',\n",
       " 'Critics described the Trump administration’s move as turning a deliberate blind eye to the dangers of climate change.',\n",
       " 'Some critics likened it to President Trump downplaying the risks of the coronavirus, hoping it would “go away” but instead leaving the country unprepared for the pandemic.',\n",
       " '“Climate change is a massive threat to our economy.',\n",
       " 'That threat will only grow in years to come, even if we take the action necessary to avoid the worst effects of climate change,” said Senator Sheldon Whitehouse of Rhode Island, one of eight Democrats who requested the review.',\n",
       " 'The White House did not respond to a request on Monday for comment on the report.',\n",
       " 'Every ton of carbon dioxide released into the atmosphere imposes a cost on the economy, whether from damage to infrastructure from sea level rise and heat waves or harm to public health.',\n",
       " 'But calculating the price of that damage has been economically challenging and politically contentious.',\n",
       " 'Conservatives have argued that the valuation serves to make big energy projects look bad and lays the foundation for burdensome and costly industry regulations.',\n",
       " 'Many Republicans said that the Obama administration’s estimates — which in 2016 determined the social cost of carbon to be about $50 a ton by 2020 — were unrealistic and intentionally onerous.',\n",
       " 'The Trump administration has overhauled not just the regulations governing the economy but also the economic foundations that underpin those regulations.',\n",
       " 'One of President Trump’s earliest moves was to order agencies to unwind Mr. Obama’s climate policies, and with them the social cost of carbon he had set.',\n",
       " 'When the Trump administration put forward its own rules to regulate emissions from power plants and vehicles, it estimated the cost of climate damages between $1 and $7 per ton of carbon.',\n",
       " 'The G.A.O. found the administration used two main avenues to push the numbers down.',\n",
       " 'It only factored in damages that would occur within the United States rather than around the globe.',\n",
       " 'It also used an economic calculation, known as the discount rate, in a way that assumes society should not pay much now to prevent harm from climate change to future generations.',\n",
       " '“As a result, the current federal estimates, based on domestic climate damages, are about seven times lower than the prior federal estimates that were based on global damages,” the report found.',\n",
       " 'Michael Greenstone, an economist at the University of Chicago, said the Trump administration’s calculations were not done in good faith.',\n",
       " '“It was entirely a political act.',\n",
       " 'I don’t think anyone pretended that those moves were justified,” he said.',\n",
       " 'Some agencies have defended using the significantly lower figure by saying they are awaiting new federal estimates recommended by the National Academies of Sciences.',\n",
       " 'But the White House disbanded the working group that was devising them and has acknowledged it actually has no plans to update the calculations.',\n",
       " 'Without them, the G.A.O. found, the federal government “may not be well positioned to ensure agencies’ future regulatory analyses are using the best available science.”',\n",
       " 'By 2050, under the estimates developed by the Obama administration, the social cost of carbon should be about $82 a ton, the report found.',\n",
       " 'Under the Trump administration’s calculations, the damages would be around $11 a ton.',\n",
       " '“This really parallels the mismanagement of coronavirus,” said Michael K. Dorsey, a limited partner with IberSun, a renewable energy company, and a climate expert who has testified before Congress on the social cost of carbon.',\n",
       " '“There’s this belief that by doing this you will have some effect of helping the fossil fuel industry,” he said of the administration’s low carbon cost.',\n",
       " '“The only thing it does, unfortunately, is undermine the ability of the government to make prudent decisions about moving critical resources to communities that are experiencing the unfolding climate crisis.”']"
      ]
     },
     "execution_count": 230,
     "metadata": {},
     "output_type": "execute_result"
    }
   ],
   "source": [
    "a1_sents"
   ]
  },
  {
   "cell_type": "code",
   "execution_count": 231,
   "metadata": {
    "scrolled": true
   },
   "outputs": [
    {
     "data": {
      "text/plain": [
       "['WASHINGTON — A federal report released on Tuesday found the Trump administration set a rock-bottom price on the damages done by greenhouse gas emissions, enabling the government to justify the costs of repealing or weakening dozens of climate change regulations.',\n",
       " 'The report by the Government Accountability Office, Congress’s nonpartisan investigative arm, said the Trump administration estimated the harm that global warming will cause future generations to be seven times lower than previous federal estimates.',\n",
       " 'Reducing that metric, known as the “social cost of carbon,” has helped the administration massage cost-benefit analyses, particularly for rules that allow power plants and automobiles to emit more planet-warming carbon dioxide.',\n",
       " 'Critics described the Trump administration’s move as turning a deliberate blind eye to the dangers of climate change.',\n",
       " 'Some critics likened it to President Trump downplaying the risks of the coronavirus, hoping it would “go away” but instead leaving the country unprepared for the pandemic.',\n",
       " '“Climate change is a massive threat to our economy.',\n",
       " 'That threat will only grow in years to come, even if we take the action necessary to avoid the worst effects of climate change,” said Senator Sheldon Whitehouse of Rhode Island, one of eight Democrats who requested the review.',\n",
       " 'The White House did not respond to a request for comment on the report.',\n",
       " 'Every ton of carbon dioxide released into the atmosphere imposes a cost on the economy, whether from damage to infrastructure from sea level rise and heat waves or harm to public health.',\n",
       " 'But calculating the price of that damage has been economically challenging and politically contentious.',\n",
       " 'Conservatives have argued that the valuation serves to make big energy projects look bad and lays the foundation for burdensome and costly industry regulations.',\n",
       " 'Many Republicans said that the Obama administration’s estimates — which in 2016 determined the social cost of carbon to be about $50 a ton by 2020 — were unrealistic and intentionally onerous.',\n",
       " 'The Trump administration has overhauled not just the regulations governing the economy but also the economic foundations that underpin those regulations.',\n",
       " 'One of President Trump’s earliest moves was to order agencies to unwind Mr. Obama’s climate policies, and with them the social cost of carbon he had set.',\n",
       " 'When the Trump administration put forward its own rules to regulate emissions from power plants and vehicles, it estimated the cost of climate damages between $1 and $7 per ton of carbon.',\n",
       " 'The G.A.O. found the administration used two main avenues to push the numbers down.',\n",
       " 'It only factored in damages that would occur within the United States rather than around the globe.',\n",
       " 'It also used an economic calculation, known as the discount rate, in a way that assumes society should not pay much now to prevent harm from climate change to future generations.',\n",
       " '“As a result, the current federal estimates, based on domestic climate damages, are about seven times lower than the prior federal estimates that were based on global damages,” the report found.',\n",
       " 'Michael Greenstone, an economist at the University of Chicago, said the Trump administration’s calculations were not done in good faith.',\n",
       " '“It was entirely a political act.',\n",
       " 'I don’t think anyone pretended that those moves were justified,” he said.',\n",
       " 'Some agencies have defended using the significantly lower figure by saying they are awaiting new federal estimates recommended by the National Academies of Sciences.',\n",
       " 'But the White House disbanded the working group that was devising them and has acknowledged it actually has no plans to update the calculations.',\n",
       " 'Without them, the G.A.O. found, the federal government “may not be well positioned to ensure agencies’ future regulatory analyses are using the best available science.”',\n",
       " 'By 2050, under the estimates developed by the Obama administration, the social cost of carbon should be about $82 a ton, the report found.',\n",
       " 'Under the Trump administration’s calculations, the damages would be around $11 a ton.',\n",
       " '“This really parallels the mismanagement of coronavirus,” said Michael K. Dorsey, a limited partner with IberSun, a renewable energy company, and a climate expert who has testified before Congress on the social cost of carbon.',\n",
       " '“There’s this belief that by doing this you will have some effect of helping the fossil fuel industry,” he said of the administration’s low carbon cost.',\n",
       " '“The only thing it does, unfortunately, is undermine the ability of the government to make prudent decisions about moving critical resources to communities that are experiencing the unfolding climate crisis.”']"
      ]
     },
     "execution_count": 231,
     "metadata": {},
     "output_type": "execute_result"
    }
   ],
   "source": [
    "a2_sents"
   ]
  },
  {
   "cell_type": "code",
   "execution_count": 229,
   "metadata": {
    "scrolled": true
   },
   "outputs": [
    {
     "data": {
      "text/plain": [
       "['- WASHINGTON —',\n",
       " '- A federal report expected to be released Tuesday found the Trump administration set a rock-bottom price on the damages done by greenhouse gas emissions, enabling the government to justify the costs of repealing or weakening dozens of climate change regulations.',\n",
       " '?  ^^^^^^^^^^^^^^^^^^^^^^^^^^^^^^^^^^^^^^^^\\n',\n",
       " '+ WASHINGTON — A federal report released on Tuesday found the Trump administration set a rock-bottom price on the damages done by greenhouse gas emissions, enabling the government to justify the costs of repealing or weakening dozens of climate change regulations.',\n",
       " '? + ^^^^^ +++++++++++++++++++++++++++++++++++\\n',\n",
       " '  The report by the Government Accountability Office, Congress’s nonpartisan investigative arm, said the Trump administration estimated the harm that global warming will cause future generations to be seven times lower than previous federal estimates.',\n",
       " '  Reducing that metric, known as the “social cost of carbon,” has helped the administration massage cost-benefit analyses, particularly for rules that allow power plants and automobiles to emit more planet-warming carbon dioxide.',\n",
       " '  Critics described the Trump administration’s move as turning a deliberate blind eye to the dangers of climate change.',\n",
       " '  Some critics likened it to President Trump downplaying the risks of the coronavirus, hoping it would “go away” but instead leaving the country unprepared for the pandemic.',\n",
       " '  “Climate change is a massive threat to our economy.',\n",
       " '  That threat will only grow in years to come, even if we take the action necessary to avoid the worst effects of climate change,” said Senator Sheldon Whitehouse of Rhode Island, one of eight Democrats who requested the review.',\n",
       " '- The White House did not respond to a request on Monday for comment on the report.',\n",
       " '?                                              ----------\\n',\n",
       " '+ The White House did not respond to a request for comment on the report.',\n",
       " '  Every ton of carbon dioxide released into the atmosphere imposes a cost on the economy, whether from damage to infrastructure from sea level rise and heat waves or harm to public health.',\n",
       " '  But calculating the price of that damage has been economically challenging and politically contentious.',\n",
       " '  Conservatives have argued that the valuation serves to make big energy projects look bad and lays the foundation for burdensome and costly industry regulations.',\n",
       " '  Many Republicans said that the Obama administration’s estimates — which in 2016 determined the social cost of carbon to be about $50 a ton by 2020 — were unrealistic and intentionally onerous.',\n",
       " '  The Trump administration has overhauled not just the regulations governing the economy but also the economic foundations that underpin those regulations.',\n",
       " '  One of President Trump’s earliest moves was to order agencies to unwind Mr. Obama’s climate policies, and with them the social cost of carbon he had set.',\n",
       " '  When the Trump administration put forward its own rules to regulate emissions from power plants and vehicles, it estimated the cost of climate damages between $1 and $7 per ton of carbon.',\n",
       " '  The G.A.O. found the administration used two main avenues to push the numbers down.',\n",
       " '  It only factored in damages that would occur within the United States rather than around the globe.',\n",
       " '  It also used an economic calculation, known as the discount rate, in a way that assumes society should not pay much now to prevent harm from climate change to future generations.',\n",
       " '  “As a result, the current federal estimates, based on domestic climate damages, are about seven times lower than the prior federal estimates that were based on global damages,” the report found.',\n",
       " '  Michael Greenstone, an economist at the University of Chicago, said the Trump administration’s calculations were not done in good faith.',\n",
       " '  “It was entirely a political act.',\n",
       " '  I don’t think anyone pretended that those moves were justified,” he said.',\n",
       " '  Some agencies have defended using the significantly lower figure by saying they are awaiting new federal estimates recommended by the National Academies of Sciences.',\n",
       " '  But the White House disbanded the working group that was devising them and has acknowledged it actually has no plans to update the calculations.',\n",
       " '  Without them, the G.A.O. found, the federal government “may not be well positioned to ensure agencies’ future regulatory analyses are using the best available science.”',\n",
       " '  By 2050, under the estimates developed by the Obama administration, the social cost of carbon should be about $82 a ton, the report found.',\n",
       " '  Under the Trump administration’s calculations, the damages would be around $11 a ton.',\n",
       " '  “This really parallels the mismanagement of coronavirus,” said Michael K. Dorsey, a limited partner with IberSun, a renewable energy company, and a climate expert who has testified before Congress on the social cost of carbon.',\n",
       " '  “There’s this belief that by doing this you will have some effect of helping the fossil fuel industry,” he said of the administration’s low carbon cost.',\n",
       " '  “The only thing it does, unfortunately, is undermine the ability of the government to make prudent decisions about moving critical resources to communities that are experiencing the unfolding climate crisis.”']"
      ]
     },
     "execution_count": 229,
     "metadata": {},
     "output_type": "execute_result"
    }
   ],
   "source": [
    "list(diffs)"
   ]
  },
  {
   "cell_type": "code",
   "execution_count": null,
   "metadata": {},
   "outputs": [],
   "source": []
  },
  {
   "cell_type": "code",
   "execution_count": 224,
   "metadata": {},
   "outputs": [
    {
     "data": {
      "text/html": [
       "<table>\n",
       "<tr><th>Old Version</th><th>New Version</th></tr>\n",
       "<tr><td>WASHINGTON — A new figure has swept through the West Wing lately, a man with silver hair combed back across his head, rimless glasses perched on his nose, a white handkerchief tucked neatly into his suit pocket, a taste for legal pugilism and an uncertain role in a building confronted by a host of political and legal threats.</td><td>WASHINGTON — A new figure has swept through the West Wing lately, a man with silver hair combed back across his head, rimless glasses perched on his nose, a white handkerchief tucked neatly into his suit pocket, a taste for legal pugilism and an uncertain role in a building confronted by a host of political and legal threats.</td></tr>\n",
       "<tr><td>Marc E. Kasowitz, a New York civil litigator who represented President Trump for 15 years in business and boasts of being called the toughest lawyer on Wall Street, has suddenly become the field marshal for a White House under siege.</td><td>Marc E. Kasowitz, a New York civil litigator who represented President Trump for 15 years in business and boasts of being called the toughest lawyer on Wall Street, has suddenly become the field marshal for a White House under siege.</td></tr>\n",
       "<tr><td>He is a personal lawyer for the president, not a government employee, but he has been talking about establishing an office in the White House complex where he can run his legal defense.</td><td>He is a personal lawyer for the president, not a government employee, but he has been talking about establishing an office in the White House complex where he can run his legal defense.</td></tr>\n",
       "<tr><td>His visits to the White House have raised questions about the blurry line between public and private interests for a president facing legal issues.</td><td>His visits to the White House have raised questions about the blurry line between public and private interests for a president facing legal issues.</td></tr>\n",
       "<tr><td>Mr. Kasowitz in recent days has advised White House aides to discuss the inquiry into Russia’s interference in last year’s election as little as possible, two people involved said.</td><td>Mr. Kasowitz in recent days has advised White House aides to discuss the inquiry into Russia’s interference in last year’s election as little as possible, two people involved said.</td></tr>\n",
       "<tr><td>He told aides gathered in one meeting who had asked whether it was time to hire private lawyers that it was not yet necessary, according to another person with direct knowledge.</td><td>He told aides gathered in one meeting who had asked whether it was time to hire private lawyers that it was not yet necessary, according to another person with direct knowledge.</td></tr>\n",
       "<tr><td style=\"background-color:rgba(255,0,0,0.3)\">Such conversations between a private lawyer for the president and the government employees who work for his client are highly unusual , according to veterans of previous  <span style=\"background-color:rgba(255,0,0,0.3)\">White</span> <span style=\"background-color:rgba(255,0,0,0.3)\">Houses</span> .</td><td style=\"background-color:rgba(0,255,0,0.3)\">Such conversations between a private lawyer for the president and the government employees who work for his client are highly unusual , according to veterans of previous <span style=\"background-color:rgba(0,255,0,0.3)\">administrations </span>   .</td></tr>\n",
       "<tr><td>Mr. Kasowitz bypassed the White House Counsel’s Office in having these discussions, according to one person familiar with the talks, who like others requested anonymity to discuss internal matters.</td><td>Mr. Kasowitz bypassed the White House Counsel’s Office in having these discussions, according to one person familiar with the talks, who like others requested anonymity to discuss internal matters.</td></tr>\n",
       "<tr><td>And concerns about Mr. Kasowitz’s role led at least two prominent Washington lawyers to turn down offers to join the White House staff.</td><td>And concerns about Mr. Kasowitz’s role led at least two prominent Washington lawyers to turn down offers to join the White House staff.</td></tr>\n",
       "<tr><td>“The president’s private lawyer is representing only his interests, not the interests of the United States government or the individual interests of the White House staff,” said Robert F. Bauer, who was White House counsel under President Barack Obama.</td><td>“The president’s private lawyer is representing only his interests, not the interests of the United States government or the individual interests of the White House staff,” said Robert F. Bauer, who was White House counsel under President Barack Obama.</td></tr>\n",
       "<tr><td>Mr. Kasowitz is not the first personal lawyer to represent a president facing legal issues.</td><td>Mr. Kasowitz is not the first personal lawyer to represent a president facing legal issues.</td></tr>\n",
       "<tr><td>President Bill Clinton retained Robert S. Bennett to defend him in a sexual harassment lawsuit filed by Paula Jones and David E. Kendall and Nicole K. Seligman to represent him in the Whitewater and Monica S. Lewinsky investigations.</td><td>President Bill Clinton retained Robert S. Bennett to defend him in a sexual harassment lawsuit filed by Paula Jones and David E. Kendall and Nicole K. Seligman to represent him in the Whitewater and Monica S. Lewinsky investigations.</td></tr>\n",
       "<tr><td>The line between government lawyers representing the administration and private lawyers representing the president was always somewhat vague.</td><td>The line between government lawyers representing the administration and private lawyers representing the president was always somewhat vague.</td></tr>\n",
       "<tr><td>But one important difference was that the president’s conversations with private lawyers were protected by lawyer-client privilege while those with his White House lawyers were not.</td><td>But one important difference was that the president’s conversations with private lawyers were protected by lawyer-client privilege while those with his White House lawyers were not.</td></tr>\n",
       "<tr><td>To many Washington hands, Mr. Kasowitz, 64, who represented Mr. Trump during his Atlantic City casino financial troubles and represents other clients like Bill O’Reilly, a former Fox News host, seems an unusual choice for the mission.</td><td>To many Washington hands, Mr. Kasowitz, 64, who represented Mr. Trump during his Atlantic City casino financial troubles and represents other clients like Bill O’Reilly, a former Fox News host, seems an unusual choice for the mission.</td></tr>\n",
       "<tr><td>While he is widely respected as a fierce and successful lawyer, he has little experience in high-profile criminal cases or politically charged Washington investigations.</td><td>While he is widely respected as a fierce and successful lawyer, he has little experience in high-profile criminal cases or politically charged Washington investigations.</td></tr>\n",
       "<tr><td style=\"background-color:rgba(255,0,0,0.3)\">Mr. Kasowitz has been central to Mr. Trump ’s recent <span style=\"background-color:rgba(255,0,0,0.3)\">high</span> <span style=\"background-color:rgba(255,0,0,0.3)\">-</span> <span style=\"background-color:rgba(255,0,0,0.3)\">profile</span> legal battles , helping his client keep divorce records sealed and representing him in the Trump University fraud lawsuit , in which Mr. Trump ultimately agreed to pay $ 25 million to settle claims from former students that the institution had cheated them out of tuition money .</td><td style=\"background-color:rgba(0,255,0,0.3)\">Mr. Kasowitz has been central to Mr. Trump ’s recent    legal battles , helping his client keep divorce records sealed and representing him in the Trump University fraud lawsuit , in which Mr. Trump ultimately agreed to pay $ 25 million to settle claims from former students that the institution had cheated them out of tuition money .</td></tr>\n",
       "<tr><td>In the final weeks of the presidential campaign, Mr. Kasowitz threatened to sue The New York Times for libel on Mr. Trump’s behalf over a story in which two women accused Mr. Trump of inappropriate touching years earlier.</td><td>In the final weeks of the presidential campaign, Mr. Kasowitz threatened to sue The New York Times for libel on Mr. Trump’s behalf over a story in which two women accused Mr. Trump of inappropriate touching years earlier.</td></tr>\n",
       "<tr><td>No lawsuit has been filed.</td><td>No lawsuit has been filed.</td></tr>\n",
       "<tr><td>A decade earlier, however, Mr. Kasowitz followed through on a similar threat, suing Timothy O’Brien, a Trump biographer and former reporter and editor for The Times, for libel and alleging he understated his client’s net worth.</td><td>A decade earlier, however, Mr. Kasowitz followed through on a similar threat, suing Timothy O’Brien, a Trump biographer and former reporter and editor for The Times, for libel and alleging he understated his client’s net worth.</td></tr>\n",
       "<tr><td>That suit was dismissed by a New Jersey Superior Court judge.</td><td>That suit was dismissed by a New Jersey Superior Court judge.</td></tr>\n",
       "<tr><td>While Mr. Trump is not known to be under investigation over potential collusion with Russia, the special counsel now leading the Russia inquiry, Robert S. Mueller III, has the authority to investigate obstruction of justice.</td><td>While Mr. Trump is not known to be under investigation over potential collusion with Russia, the special counsel now leading the Russia inquiry, Robert S. Mueller III, has the authority to investigate obstruction of justice.</td></tr>\n",
       "<tr><td style=\"background-color:rgba(255,0,0,0.3)\">Some in Congress have said that Mr. Trump ’s firing of the  F.B.I. director <span style=\"background-color:rgba(255,0,0,0.3)\">,</span> James B. Comey , coupled with his own statements about Mr. Comey , could be seen as evidence of attempted obstruction of justice .</td><td style=\"background-color:rgba(0,255,0,0.3)\">Some in Congress have said that Mr. Trump ’s firing of the <span style=\"background-color:rgba(0,255,0,0.3)\">former </span> F.B.I. director  James B. Comey , coupled with his own statements about Mr. Comey , could be seen as evidence of attempted obstruction of justice .</td></tr>\n",
       "<tr><td>Whether Mr. Kasowitz is having an effect on his client is unclear.</td><td>Whether Mr. Kasowitz is having an effect on his client is unclear.</td></tr>\n",
       "<tr><td style=\"background-color:rgba(255,0,0,0.3)\">He had advised Mr. Trump to ease up on his use of Twitter , and when Mr. Trump ’s account was quiet for nearly 48 hours last week around the time of Mr. Comey ’s <span style=\"background-color:rgba(255,0,0,0.3)\">high</span> <span style=\"background-color:rgba(255,0,0,0.3)\">-</span> <span style=\"background-color:rgba(255,0,0,0.3)\">profile</span> Senate hearing , some speculated that Mr. Kasowitz was responsible .</td><td style=\"background-color:rgba(0,255,0,0.3)\">He had advised Mr. Trump to ease up on his use of Twitter , and when Mr. Trump ’s account was quiet for nearly 48 hours last week around the time of Mr. Comey ’s    Senate hearing , some speculated that Mr. Kasowitz was responsible .</td></tr>\n",
       "<tr><td>But Mr. Trump began attacking Mr. Comey’s testimony on Friday morning, and he has defiantly told friends that despite his lawyer’s instructions, he has not changed his behavior.</td><td>But Mr. Trump began attacking Mr. Comey’s testimony on Friday morning, and he has defiantly told friends that despite his lawyer’s instructions, he has not changed his behavior.</td></tr>\n",
       "<tr><td>As for Mr. Kasowitz’s conversations with presidential aides, the White House Counsel’s Office typically supervises such discussions to make sure they understand their rights and do not feel pressured to help a lawyer who does not represent their interests, legal experts said.</td><td>As for Mr. Kasowitz’s conversations with presidential aides, the White House Counsel’s Office typically supervises such discussions to make sure they understand their rights and do not feel pressured to help a lawyer who does not represent their interests, legal experts said.</td></tr>\n",
       "<tr><td style=\"background-color:rgba(255,0,0,0.3)\">The counsel ’s involvement is all the more critical in this case , they said , because many of the aides — potential witnesses in the government ’s inquiry — do not <span style=\"background-color:rgba(255,0,0,0.3)\">yet</span>  have personal lawyers .</td><td style=\"background-color:rgba(0,255,0,0.3)\">The counsel ’s involvement is all the more critical in this case , they said , because many of the aides — potential witnesses in the government ’s inquiry — do not  <span style=\"background-color:rgba(0,255,0,0.3)\">currently </span> have personal lawyers .</td></tr>\n",
       "<tr><td>Mr. Kasowitz’s advice to administration staff may benefit the president more than the aides themselves, the experts said.</td><td>Mr. Kasowitz’s advice to administration staff may benefit the president more than the aides themselves, the experts said.</td></tr>\n",
       "<tr><td>The conversations Mr. Kasowitz has with aides could shape their testimony before Mr. Mueller has a chance to interview them, should they be called as witnesses.</td><td>The conversations Mr. Kasowitz has with aides could shape their testimony before Mr. Mueller has a chance to interview them, should they be called as witnesses.</td></tr>\n",
       "<tr><td style=\"background-color:rgba(255,0,0,0.3)\">Mr. Bauer said that the current White House counsel , Donald F. McGahn II , should know Mr. Kasowitz ’s schedule of conversations <span style=\"background-color:rgba(255,0,0,0.3)\">such</span>  that he can inform the special counsel .</td><td style=\"background-color:rgba(0,255,0,0.3)\">Mr. Bauer said that the current White House counsel , Donald F. McGahn II , should know Mr. Kasowitz ’s schedule of conversations  <span style=\"background-color:rgba(0,255,0,0.3)\">so </span> that he can inform the special counsel .</td></tr>\n",
       "<tr><td>“He does not want Kasowitz to do anything that could be interpreted as an act of obstruction, a means of dissuading the witnesses from cooperating in the investigation,” Mr. Bauer said.</td><td>“He does not want Kasowitz to do anything that could be interpreted as an act of obstruction, a means of dissuading the witnesses from cooperating in the investigation,” Mr. Bauer said.</td></tr>\n",
       "<tr><td>Since asserting influence in the White House in recent weeks, Mr. Kasowitz has discussed establishing an office on White House grounds in the Eisenhower Executive Office Building, where much of the president’s staff works, according to multiple people familiar with the deliberations.</td><td>Since asserting influence in the White House in recent weeks, Mr. Kasowitz has discussed establishing an office on White House grounds in the Eisenhower Executive Office Building, where much of the president’s staff works, according to multiple people familiar with the deliberations.</td></tr>\n",
       "<tr><td>Such an arrangement would have Mr. Kasowitz and his team frequently crossing paths with potential witnesses.</td><td>Such an arrangement would have Mr. Kasowitz and his team frequently crossing paths with potential witnesses.</td></tr>\n",
       "<tr><td>Mr. Corallo, the spokesman for Mr. Kasowitz, said the team was working in private space.</td><td>Mr. Corallo, the spokesman for Mr. Kasowitz, said the team was working in private space.</td></tr>\n",
       "<tr><td>“The lawyers do not have an office in the E.E.O.B. and are working out of their offices in D.C.,” he said.</td><td>“The lawyers do not have an office in the E.E.O.B. and are working out of their offices in D.C.,” he said.</td></tr>\n",
       "<tr><td>“They come to the White House to meet with their client, President Trump.”</td><td>“They come to the White House to meet with their client, President Trump.”</td></tr>\n",
       "<tr><td>Partly because of concerns that Mr. Kasowitz is undermining the White House Counsel’s Office, at least two veteran Washington lawyers — Emmet Flood, a partner at Williams &amp; Connolly, and William A. Burck, a partner at Quinn Emanuel — rejected offers to join the counsel’s office to help represent the administration in the Russia inquiry, according to people familiar with the hiring discussions, although they may yet represent individual White House officials.</td><td>Partly because of concerns that Mr. Kasowitz is undermining the White House Counsel’s Office, at least two veteran Washington lawyers — Emmet Flood, a partner at Williams &amp; Connolly, and William A. Burck, a partner at Quinn Emanuel — rejected offers to join the counsel’s office to help represent the administration in the Russia inquiry, according to people familiar with the hiring discussions, although they may yet represent individual White House officials.</td></tr>\n",
       "<tr><td>Other noted criminal defense lawyers have similarly rejected offers to join Mr. Trump’s private legal team because of a range of uncertainties, including how much control Mr. Kasowitz exercises over his client, whether their advice would be secondary to his and whether Mr. Trump would pay legal bills.</td><td>Other noted criminal defense lawyers have similarly rejected offers to join Mr. Trump’s private legal team because of a range of uncertainties, including how much control Mr. Kasowitz exercises over his client, whether their advice would be secondary to his and whether Mr. Trump would pay legal bills.</td></tr>\n",
       "<tr><td>Besides Mr. Kasowitz, Mr. Trump’s personal legal team includes his partner, Michael J. Bowe, and Jay Sekulow, a Washington lawyer who specializes in free speech and religious liberties.</td><td>Besides Mr. Kasowitz, Mr. Trump’s personal legal team includes his partner, Michael J. Bowe, and Jay Sekulow, a Washington lawyer who specializes in free speech and religious liberties.</td></tr>\n",
       "<tr><td>“Kasowitz is looking for at least one criminal expert, but the problem is Trump is a difficult client notorious for not following legal advice and for not paying his bills,” said Norman Eisen, the White House ethics lawyer under Mr. Obama and a frequent critic of Mr. Trump.</td><td>“Kasowitz is looking for at least one criminal expert, but the problem is Trump is a difficult client notorious for not following legal advice and for not paying his bills,” said Norman Eisen, the White House ethics lawyer under Mr. Obama and a frequent critic of Mr. Trump.</td></tr>\n",
       "<tr><td>Previous administrations tried to coordinate the activities of private lawyers before letting them interact with aides.</td><td>Previous administrations tried to coordinate the activities of private lawyers before letting them interact with aides.</td></tr>\n",
       "<tr><td>Jane Sherburne, a White House special counsel who managed ethics issues during Mr. Clinton’s first term, said Mr. Kendall was not allowed to meet with White House staff members until “we had gone through a whole exercise of having conversations with employees ourselves, talking to them about whether they wanted to retain their own counsel and telling them they didn’t have to talk to Kendall.”</td><td>Jane Sherburne, a White House special counsel who managed ethics issues during Mr. Clinton’s first term, said Mr. Kendall was not allowed to meet with White House staff members until “we had gone through a whole exercise of having conversations with employees ourselves, talking to them about whether they wanted to retain their own counsel and telling them they didn’t have to talk to Kendall.”</td></tr>\n",
       "<tr><td>Under ethics rules, Mr. Kasowitz could not interview any official who had hired a lawyer without that lawyer’s permission, meaning it would be in his interest if administration aides did not hire their own lawyers, experts said.</td><td>Under ethics rules, Mr. Kasowitz could not interview any official who had hired a lawyer without that lawyer’s permission, meaning it would be in his interest if administration aides did not hire their own lawyers, experts said.</td></tr>\n",
       "<tr><td>“It is probably easier for him to represent Trump if he doesn’t have to deal with a bunch of other lawyers,” Ms. Sherburne said, adding that she believed it was inappropriate for Mr. Kasowitz to discourage aides from hiring their own counsel.</td><td>“It is probably easier for him to represent Trump if he doesn’t have to deal with a bunch of other lawyers,” Ms. Sherburne said, adding that she believed it was inappropriate for Mr. Kasowitz to discourage aides from hiring their own counsel.</td></tr>\n",
       "<tr><td>Richard Painter, the White House ethics lawyer under President George W. Bush who now teaches at the University of Minnesota’s law school, said that in a worst-case scenario, a staff member might listen to Mr. Kasowitz’s advice and “end up thrown under the bus.”</td><td>Richard Painter, the White House ethics lawyer under President George W. Bush who now teaches at the University of Minnesota’s law school, said that in a worst-case scenario, a staff member might listen to Mr. Kasowitz’s advice and “end up thrown under the bus.”</td></tr>\n",
       "<tr><td>Some major figures in the Trump administration have personal counsel.</td><td>Some major figures in the Trump administration have personal counsel.</td></tr>\n",
       "<tr><td>Jared Kushner, the president’s son-in-law and senior adviser, is represented by Jamie Gorelick, a former deputy attorney general under Mr. Clinton.</td><td>Jared Kushner, the president’s son-in-law and senior adviser, is represented by Jamie Gorelick, a former deputy attorney general under Mr. Clinton.</td></tr>\n",
       "<tr><td>If the special counsel does explore obstruction, said Julie Rose O’Sullivan, who worked on the Whitewater investigation during the Clinton administration, the net cast by investigators will be wide and the list of witnesses long.</td><td>If the special counsel does explore obstruction, said Julie Rose O’Sullivan, who worked on the Whitewater investigation during the Clinton administration, the net cast by investigators will be wide and the list of witnesses long.</td></tr>\n",
       "<tr><td>“You’d have to find out what the president was thinking,” said Ms. O’Sullivan, now a professor of criminal law at Georgetown University.</td><td>“You’d have to find out what the president was thinking,” said Ms. O’Sullivan, now a professor of criminal law at Georgetown University.</td></tr>\n",
       "<tr><td>“That means calling everyone he talked to at the time before a grand jury, and none of those people should go near a grand jury without a good lawyer with Washington savvy.”</td><td>“That means calling everyone he talked to at the time before a grand jury, and none of those people should go near a grand jury without a good lawyer with Washington savvy.”</td></tr>\n",
       "</table>"
      ],
      "text/plain": [
       "<IPython.core.display.HTML object>"
      ]
     },
     "metadata": {},
     "output_type": "display_data"
    }
   ],
   "source": [
    "display(HTML(up.html_compare_articles(*up.get_sentence_diff(a1, a2))))"
   ]
  },
  {
   "cell_type": "code",
   "execution_count": null,
   "metadata": {},
   "outputs": [],
   "source": []
  },
  {
   "cell_type": "code",
   "execution_count": null,
   "metadata": {},
   "outputs": [],
   "source": []
  },
  {
   "cell_type": "code",
   "execution_count": null,
   "metadata": {},
   "outputs": [],
   "source": []
  },
  {
   "cell_type": "code",
   "execution_count": null,
   "metadata": {},
   "outputs": [],
   "source": []
  },
  {
   "cell_type": "markdown",
   "metadata": {},
   "source": [
    "## Parse out corrections?"
   ]
  },
  {
   "cell_type": "code",
   "execution_count": null,
   "metadata": {},
   "outputs": [],
   "source": []
  },
  {
   "cell_type": "code",
   "execution_count": null,
   "metadata": {},
   "outputs": [],
   "source": []
  },
  {
   "cell_type": "code",
   "execution_count": null,
   "metadata": {},
   "outputs": [],
   "source": []
  },
  {
   "cell_type": "code",
   "execution_count": null,
   "metadata": {},
   "outputs": [],
   "source": []
  },
  {
   "cell_type": "code",
   "execution_count": null,
   "metadata": {},
   "outputs": [],
   "source": [
    "## todo:\n",
    "## 1. run sentence-stats on the entire NYTimes dataset\n",
    "## 2. dump \"eligible versions\" mapping\n",
    "## 3. of eligible versions, start looking at:\n",
    "##     a. number of entities in additions\n",
    "##     b. number of quotes in additions\n",
    "##     c. number of events in additions\n",
    "##     d. discourse pattern in additions\n",
    "\n",
    "## question-asking"
   ]
  },
  {
   "cell_type": "code",
   "execution_count": null,
   "metadata": {},
   "outputs": [],
   "source": []
  },
  {
   "cell_type": "code",
   "execution_count": null,
   "metadata": {},
   "outputs": [],
   "source": []
  },
  {
   "cell_type": "code",
   "execution_count": null,
   "metadata": {},
   "outputs": [],
   "source": []
  },
  {
   "cell_type": "code",
   "execution_count": null,
   "metadata": {},
   "outputs": [],
   "source": []
  },
  {
   "cell_type": "code",
   "execution_count": null,
   "metadata": {},
   "outputs": [],
   "source": []
  },
  {
   "cell_type": "code",
   "execution_count": null,
   "metadata": {},
   "outputs": [],
   "source": []
  },
  {
   "cell_type": "code",
   "execution_count": null,
   "metadata": {},
   "outputs": [],
   "source": []
  },
  {
   "cell_type": "code",
   "execution_count": null,
   "metadata": {},
   "outputs": [],
   "source": []
  },
  {
   "cell_type": "code",
   "execution_count": null,
   "metadata": {},
   "outputs": [],
   "source": []
  },
  {
   "cell_type": "code",
   "execution_count": null,
   "metadata": {},
   "outputs": [],
   "source": []
  },
  {
   "cell_type": "code",
   "execution_count": null,
   "metadata": {},
   "outputs": [],
   "source": [
    "sample_diffs['joint_key'] = (sample_diffs\n",
    " .pipe(lambda df: df['article_id'].astype(str) + '-' + df['version'].astype(str))\n",
    ")"
   ]
  },
  {
   "cell_type": "code",
   "execution_count": 542,
   "metadata": {
    "scrolled": true
   },
   "outputs": [],
   "source": [
    "sample_diffs_by_joint = sample_diffs.set_index('joint_key')"
   ]
  },
  {
   "cell_type": "code",
   "execution_count": null,
   "metadata": {},
   "outputs": [],
   "source": [
    "a1, a2 = a_by_version.loc[6]['text']\n",
    "vars_old, vars_new = up.get_sentence_diff(a1, a2)"
   ]
  },
  {
   "cell_type": "code",
   "execution_count": 548,
   "metadata": {},
   "outputs": [],
   "source": [
    "dup_keys = sample_diffs['joint_key'].value_counts().loc[lambda s: s >1 ].index"
   ]
  },
  {
   "cell_type": "code",
   "execution_count": 549,
   "metadata": {},
   "outputs": [],
   "source": [
    "sample_diffs_duped = sample_diffs_by_joint.loc[dup_keys]"
   ]
  },
  {
   "cell_type": "code",
   "execution_count": 555,
   "metadata": {
    "scrolled": true
   },
   "outputs": [],
   "source": [
    "t = sample_diffs_duped.reset_index()"
   ]
  },
  {
   "cell_type": "code",
   "execution_count": 561,
   "metadata": {},
   "outputs": [],
   "source": [
    "import itertools"
   ]
  },
  {
   "cell_type": "code",
   "execution_count": 570,
   "metadata": {},
   "outputs": [
    {
     "data": {
      "application/vnd.jupyter.widget-view+json": {
       "model_id": "62f597e3836b4d6a8ade6fea912a0caa",
       "version_major": 2,
       "version_minor": 0
      },
      "text/plain": [
       "  0%|          | 0/133 [00:00<?, ?it/s]"
      ]
     },
     "metadata": {},
     "output_type": "display_data"
    }
   ],
   "source": [
    "t_sentence_stats = []\n",
    "t_word_stats = []\n",
    "\n",
    "for key in tqdm(dup_keys):\n",
    "    grouped_duped_diffs = sample_diffs_duped.loc[key]\n",
    "    num_in_group = range(len(grouped_duped_diffs))\n",
    "    pairs = itertools.combinations(num_in_group, 2)\n",
    "    for a1, a2 in pairs:\n",
    "\n",
    "        vars_old, vars_new = up.get_sentence_diff(\n",
    "            grouped_duped_diffs.iloc[a1]['text'],\n",
    "            grouped_duped_diffs.iloc[a2]['text']\n",
    "        )\n",
    "\n",
    "        doc_changes = up.get_changes(vars_old, vars_new)\n",
    "        sent_change_pairs = doc_changes['sentences']['changed_sent_pairs']\n",
    "\n",
    "        t_sentence_stats.append({\n",
    "            'num_added_sents': len(doc_changes['sentences']['added_sents']),\n",
    "            'len_new_doc': len(doc_changes['docs']['new_doc']),\n",
    "            'num_removed_sents': len(doc_changes['sentences']['removed_sents']),\n",
    "            'len_old_doc':len(doc_changes['docs']['old_doc']),\n",
    "            'num_changed_sents': len(doc_changes['sentences']['changed_sent_pairs'])\n",
    "        })\n",
    "        for sent_pair in doc_changes['sentences']['changed_sent_pairs']:\n",
    "            s_old, s_new = up.get_word_diffs(*sent_pair)\n",
    "            t_word_stats.append({\n",
    "                'num_words_removed': sum(map(lambda x: x['tag'] == '-', s_old)),\n",
    "                'num_words_added': sum(map(lambda x: x['tag'] == '+', s_new)),\n",
    "                'len_old_sent': len(s_old),\n",
    "                'len_new_sent': len(s_new)\n",
    "            })"
   ]
  },
  {
   "cell_type": "code",
   "execution_count": null,
   "metadata": {},
   "outputs": [],
   "source": []
  },
  {
   "cell_type": "code",
   "execution_count": null,
   "metadata": {},
   "outputs": [],
   "source": []
  },
  {
   "cell_type": "code",
   "execution_count": null,
   "metadata": {},
   "outputs": [],
   "source": []
  },
  {
   "cell_type": "code",
   "execution_count": null,
   "metadata": {},
   "outputs": [],
   "source": []
  },
  {
   "cell_type": "code",
   "execution_count": null,
   "metadata": {},
   "outputs": [],
   "source": []
  },
  {
   "cell_type": "code",
   "execution_count": null,
   "metadata": {},
   "outputs": [],
   "source": []
  },
  {
   "cell_type": "code",
   "execution_count": null,
   "metadata": {},
   "outputs": [],
   "source": []
  },
  {
   "cell_type": "code",
   "execution_count": null,
   "metadata": {},
   "outputs": [],
   "source": []
  },
  {
   "cell_type": "code",
   "execution_count": 406,
   "metadata": {
    "scrolled": true
   },
   "outputs": [
    {
     "data": {
      "text/html": [
       "<table>\n",
       "<tr><th>Old Version</th><th>New Version</th></tr>\n",
       "<tr><td style=\"background-color:rgba(255,0,0,0.3)\">BANGKOK — Radical Buddhist groups are preventing doctors from delivering assistance to areas of western Myanmar affected by <span style=\"background-color:rgba(255,0,0,0.3)\">communal</span>   violence , an international medical charity said  Monday .</td><td style=\"background-color:rgba(0,255,0,0.3)\">BANGKOK — Radical Buddhist groups are preventing doctors from delivering assistance to areas of western Myanmar affected by  <span style=\"background-color:rgba(0,255,0,0.3)\">intense </span> <span style=\"background-color:rgba(0,255,0,0.3)\">sectarian </span> violence , an international medical charity said <span style=\"background-color:rgba(0,255,0,0.3)\">on </span> Monday .</td></tr>\n",
       "<tr><td style=\"background-color:rgba(255,0,0,0.3)\">The group, Médecins Sans Frontières, one of the leading providers of medical assistance to people in Rakhine State, reported that many of its local staff members were afraid to work at refugee camps and medical centers where people displaced by the violence awaited treatment.</td><td></td></tr>\n",
       "<tr><td></td><td style=\"background-color:rgba(0,255,0,0.3)\">The group, Doctors Without Borders, reported that many of its local staff members were afraid to work at refugee camps and medical centers in Rakhine State, where people injured in clashes need treatment for wounds from guns, knives, arrows and other weapons.</td></tr>\n",
       "<tr><td style=\"background-color:rgba(255,0,0,0.3)\">“ I ’ve never experienced this degree of intolerance , ” Joe Belliveau , the operations manager <span style=\"background-color:rgba(255,0,0,0.3)\">in</span> <span style=\"background-color:rgba(255,0,0,0.3)\">Myanmar</span> for <span style=\"background-color:rgba(255,0,0,0.3)\">Médecins</span> <span style=\"background-color:rgba(255,0,0,0.3)\">Sans</span> <span style=\"background-color:rgba(255,0,0,0.3)\">Frontières</span>    , said by telephone .</td><td style=\"background-color:rgba(0,255,0,0.3)\">“ I ’ve never experienced this degree of intolerance , ” Joe Belliveau , the operations manager   for    <span style=\"background-color:rgba(0,255,0,0.3)\">Doctors </span> <span style=\"background-color:rgba(0,255,0,0.3)\">Without </span> <span style=\"background-color:rgba(0,255,0,0.3)\">Borders </span> , said by telephone .</td></tr>\n",
       "<tr><td>“What we really need is for people to understand that giving medical aid is not a political act.”</td><td>“What we really need is for people to understand that giving medical aid is not a political act.”</td></tr>\n",
       "<tr><td style=\"background-color:rgba(255,0,0,0.3)\">The difficulties facing international agencies in Rakhine underline the instability of the area — and the potential for further outbreaks of violence — despite the presence of thousands of soldiers and police officers.</td><td></td></tr>\n",
       "<tr><td style=\"background-color:rgba(255,0,0,0.3)\">Mr. Belliveau said that posters and pamphlets were being distributed in Sittwe, the largest city in Rakhine, threatening aid workers who treat Muslims.</td><td></td></tr>\n",
       "<tr><td style=\"background-color:rgba(255,0,0,0.3)\">Clashes late last month between Buddhists and Muslims left 89 people dead and displaced 35,000, according to the United Nations.</td><td></td></tr>\n",
       "<tr><td style=\"background-color:rgba(255,0,0,0.3)\">In recent days, aid workers have reported treating people for wounds from guns and other weapons, including knives and arrows.</td><td></td></tr>\n",
       "<tr><td></td><td style=\"background-color:rgba(0,255,0,0.3)\">The violence dates to June, when long-simmering resentment toward Muslims, some of whom come from Bangladesh, erupted after Muslims were accused of the rape and murder of a Buddhist girl.</td></tr>\n",
       "<tr><td></td><td style=\"background-color:rgba(0,255,0,0.3)\">More than 70,000 Muslims fled their homes; most remain in the refugee camps.</td></tr>\n",
       "<tr><td></td><td style=\"background-color:rgba(0,255,0,0.3)\">Another spasm of violence late last month left 89 people dead and displaced an additional 35,000, according to the United Nations.</td></tr>\n",
       "<tr><td></td><td style=\"background-color:rgba(0,255,0,0.3)\">The initial fury was focused on the Rohingya, a Muslim minority that is widely reviled in Myanmar and that constitutes a large segment of the population in Rakhine, an impoverished state bordering Bangladesh.</td></tr>\n",
       "<tr><td></td><td style=\"background-color:rgba(0,255,0,0.3)\">But now members of at least one other group, Kaman Muslims, have been forced from their homes, raising concerns that the violence could spread to other parts of Myanmar, where Muslims make up about 4 percent of the population.</td></tr>\n",
       "<tr><td style=\"background-color:rgba(255,0,0,0.3)\">The Office of the <span style=\"background-color:rgba(255,0,0,0.3)\">U.N.</span>   High Commissioner for Refugees has reported the widespread deployment of  security forces in Rakhine State , but also widespread fear there .</td><td style=\"background-color:rgba(0,255,0,0.3)\">The Office of the  <span style=\"background-color:rgba(0,255,0,0.3)\">United </span> <span style=\"background-color:rgba(0,255,0,0.3)\">Nations </span> High Commissioner for Refugees has reported the widespread deployment of <span style=\"background-color:rgba(0,255,0,0.3)\">Myanmar </span> security forces in Rakhine State , but also widespread fear there .</td></tr>\n",
       "<tr><td style=\"background-color:rgba(255,0,0,0.3)\">“ Our staff spoke to displaced people who shared their fears of being attacked again if the troops leave , ” a spokesman for the office     said in a <span style=\"background-color:rgba(255,0,0,0.3)\">statement</span> <span style=\"background-color:rgba(255,0,0,0.3)\">released</span>    Friday .</td><td style=\"background-color:rgba(0,255,0,0.3)\">“ Our staff spoke to displaced people who shared their fears of being attacked again if the troops leave , ” a spokesman for the office <span style=\"background-color:rgba(0,255,0,0.3)\">, </span> <span style=\"background-color:rgba(0,255,0,0.3)\">Adrian </span> <span style=\"background-color:rgba(0,255,0,0.3)\">Edwards </span> <span style=\"background-color:rgba(0,255,0,0.3)\">, </span> said in a   <span style=\"background-color:rgba(0,255,0,0.3)\">press </span> <span style=\"background-color:rgba(0,255,0,0.3)\">briefing </span> <span style=\"background-color:rgba(0,255,0,0.3)\">on </span> Friday .</td></tr>\n",
       "<tr><td style=\"background-color:rgba(255,0,0,0.3)\">Mr. Belliveau of Médecins Sans Frontières said that staffing in the area had been reduced to a few dozen people from around 300 before the initial outbreak of violence in June.</td><td></td></tr>\n",
       "<tr><td style=\"background-color:rgba(255,0,0,0.3)\">“Our own staff are simply scared and unwilling to work after receiving direct threats,” he said.</td><td></td></tr>\n",
       "<tr><td style=\"background-color:rgba(255,0,0,0.3)\">The state is one of the most impoverished areas of Myanmar.</td><td></td></tr>\n",
       "<tr><td style=\"background-color:rgba(255,0,0,0.3)\">Aid workers have reported severe malnutrition among children and <span style=\"background-color:rgba(255,0,0,0.3)\">the</span> widespread <span style=\"background-color:rgba(255,0,0,0.3)\">prevalence</span> <span style=\"background-color:rgba(255,0,0,0.3)\">of</span> malaria .</td><td style=\"background-color:rgba(0,255,0,0.3)\">Aid workers have reported severe malnutrition among children and  widespread   malaria .</td></tr>\n",
       "<tr><td>“There’s a huge group of people who have not been displaced but are cut off from health care,” Mr. Belliveau said.</td><td>“There’s a huge group of people who have not been displaced but are cut off from health care,” Mr. Belliveau said.</td></tr>\n",
       "<tr><td></td><td style=\"background-color:rgba(0,255,0,0.3)\">But he said that posters and pamphlets threatening aid workers who treat Muslims were being distributed in Sittwe, the largest city in Rakhine, and that staffing in the area had been reduced to a few dozen people, from around 300 before the June violence.</td></tr>\n",
       "<tr><td></td><td style=\"background-color:rgba(0,255,0,0.3)\">“Our own staff are simply scared and unwilling to work after receiving direct threats,” Mr. Belliveau said.</td></tr>\n",
       "<tr><td></td><td style=\"background-color:rgba(0,255,0,0.3)\">The difficulties facing international agencies in Rakhine underline the instability of the area — and the potential for further violence despite the security forces.</td></tr>\n",
       "<tr><td></td><td style=\"background-color:rgba(0,255,0,0.3)\">Many of Myanmar’s ethnic groups are restive, presenting challenges for President Thein Sein as he leads the country out of decades of military dictatorship that justified its repressive grip in part by citing ethnic insurgencies.</td></tr>\n",
       "<tr><td style=\"background-color:rgba(255,0,0,0.3)\">Most of those who fled their homes were Muslims, aid workers say.</td><td></td></tr>\n",
       "<tr><td style=\"background-color:rgba(255,0,0,0.3)\">Clashes between Muslims and Buddhist villagers have spread to a wider swath of Rakhine State, which borders Bangladesh.</td><td></td></tr>\n",
       "<tr><td style=\"background-color:rgba(255,0,0,0.3)\">The fighting has also spread beyond the Rohingya community, a Muslim minority that is widely reviled in Myanmar and that represents a large segment of the population in Rakhine.</td><td></td></tr>\n",
       "<tr><td style=\"background-color:rgba(255,0,0,0.3)\">Members of at least one other group, Kaman Muslims, were forced from their homes, raising concerns that the communal violence could spread to other parts of Myanmar, where Muslims make up about 4 percent of the population.</td><td></td></tr>\n",
       "</table>"
      ],
      "text/plain": [
       "<IPython.core.display.HTML object>"
      ]
     },
     "metadata": {},
     "output_type": "display_data"
    }
   ],
   "source": [
    "display(HTML(up.html_compare_articles(vars_old, vars_new)))"
   ]
  },
  {
   "cell_type": "code",
   "execution_count": 354,
   "metadata": {},
   "outputs": [],
   "source": [
    "## prediction tasks:\n",
    "## ----------------------------------------------------------------------\n",
    "\n",
    "## p(new sentences | old document)\n",
    "## p(removed sentences | old document)\n",
    "## p(same sentences | old document)\n",
    "\n",
    "## p(sentence updates | old document)"
   ]
  },
  {
   "cell_type": "code",
   "execution_count": null,
   "metadata": {},
   "outputs": [],
   "source": []
  },
  {
   "cell_type": "code",
   "execution_count": null,
   "metadata": {},
   "outputs": [],
   "source": []
  },
  {
   "cell_type": "code",
   "execution_count": null,
   "metadata": {},
   "outputs": [],
   "source": []
  },
  {
   "cell_type": "code",
   "execution_count": null,
   "metadata": {},
   "outputs": [],
   "source": []
  },
  {
   "cell_type": "code",
   "execution_count": null,
   "metadata": {},
   "outputs": [],
   "source": []
  },
  {
   "cell_type": "code",
   "execution_count": null,
   "metadata": {},
   "outputs": [],
   "source": []
  },
  {
   "cell_type": "code",
   "execution_count": null,
   "metadata": {},
   "outputs": [],
   "source": []
  },
  {
   "cell_type": "code",
   "execution_count": null,
   "metadata": {},
   "outputs": [],
   "source": []
  },
  {
   "cell_type": "code",
   "execution_count": null,
   "metadata": {},
   "outputs": [],
   "source": []
  },
  {
   "cell_type": "code",
   "execution_count": null,
   "metadata": {},
   "outputs": [],
   "source": []
  },
  {
   "cell_type": "code",
   "execution_count": null,
   "metadata": {},
   "outputs": [],
   "source": []
  },
  {
   "cell_type": "code",
   "execution_count": 349,
   "metadata": {},
   "outputs": [
    {
     "data": {
      "text/html": [
       "<span style=\"background-color:rgba(255,0,0,0.3)\">Hello my <span style=\"background-color:rgba(255,0,0,0.3)\">name</span> is Xaviar</span>"
      ],
      "text/plain": [
       "<IPython.core.display.HTML object>"
      ]
     },
     "metadata": {},
     "output_type": "display_data"
    }
   ],
   "source": [
    "display(HTML('<span style=\"background-color:rgba(255,0,0,0.3)\">Hello my <span style=\"background-color:rgba(255,0,0,0.3)\">name</span> is Xaviar</span>'))"
   ]
  },
  {
   "cell_type": "code",
   "execution_count": 282,
   "metadata": {},
   "outputs": [],
   "source": [
    "t = (large_article_df\n",
    " .head()['html']\n",
    "#  .apply(clean_html)\n",
    " .iloc[2]\n",
    ")"
   ]
  },
  {
   "cell_type": "code",
   "execution_count": null,
   "metadata": {},
   "outputs": [],
   "source": []
  },
  {
   "cell_type": "code",
   "execution_count": null,
   "metadata": {},
   "outputs": [],
   "source": []
  },
  {
   "cell_type": "code",
   "execution_count": null,
   "metadata": {},
   "outputs": [],
   "source": []
  },
  {
   "cell_type": "code",
   "execution_count": null,
   "metadata": {},
   "outputs": [],
   "source": []
  },
  {
   "cell_type": "code",
   "execution_count": null,
   "metadata": {
    "scrolled": true
   },
   "outputs": [],
   "source": []
  },
  {
   "cell_type": "code",
   "execution_count": null,
   "metadata": {},
   "outputs": [],
   "source": []
  },
  {
   "cell_type": "markdown",
   "metadata": {},
   "source": [
    "# What time period do we have?"
   ]
  },
  {
   "cell_type": "code",
   "execution_count": 37,
   "metadata": {},
   "outputs": [
    {
     "name": "stdout",
     "output_type": "stream",
     "text": [
      "\u001b[34mdiffengine-diffs\u001b[m\u001b[m/\r\n",
      "newssniffer-articles-unified-partial-text.csv.gz\r\n",
      "nytimes-article-diffs-full.csv.gz\r\n"
     ]
    }
   ],
   "source": [
    "ls ../data/"
   ]
  },
  {
   "cell_type": "code",
   "execution_count": 11,
   "metadata": {},
   "outputs": [
    {
     "name": "stderr",
     "output_type": "stream",
     "text": [
      "/Users/alex/opt/anaconda3/lib/python3.7/site-packages/IPython/core/interactiveshell.py:3063: DtypeWarning: Columns (4,8) have mixed types.Specify dtype option on import or set low_memory=False.\n",
      "  interactivity=interactivity, compiler=compiler, result=result)\n"
     ]
    }
   ],
   "source": [
    "all_article_df = pd.read_csv('../data/newssniffer-articles-unified-partial-text.csv.gz')"
   ]
  },
  {
   "cell_type": "code",
   "execution_count": 12,
   "metadata": {},
   "outputs": [
    {
     "data": {
      "text/plain": [
       "bbc             1527626\n",
       "guardian        1191850\n",
       "nytimes          623511\n",
       "independent      229951\n",
       "rtcom            150514\n",
       "washpo           111503\n",
       "theintercept       1992\n",
       "Name: source, dtype: int64"
      ]
     },
     "execution_count": 12,
     "metadata": {},
     "output_type": "execute_result"
    }
   ],
   "source": [
    "all_article_df['source'].value_counts()"
   ]
  },
  {
   "cell_type": "code",
   "execution_count": null,
   "metadata": {},
   "outputs": [],
   "source": []
  },
  {
   "cell_type": "code",
   "execution_count": null,
   "metadata": {},
   "outputs": [],
   "source": []
  },
  {
   "cell_type": "code",
   "execution_count": 228,
   "metadata": {},
   "outputs": [],
   "source": [
    "all_article_df = all_article_df.merge(\n",
    "    version_counts_df.drop('source', axis=1).rename(columns={'version': 'num_versions'}),\n",
    "    left_on='article_id', \n",
    "    right_on='article_id'\n",
    ")"
   ]
  },
  {
   "cell_type": "code",
   "execution_count": 193,
   "metadata": {},
   "outputs": [
    {
     "data": {
      "text/plain": [
       "Text(0.5, 0, 'Published time')"
      ]
     },
     "execution_count": 193,
     "metadata": {},
     "output_type": "execute_result"
    },
    {
     "data": {
      "image/png": "[encoded data removed]",
      "text/plain": [
       "<Figure size 432x288 with 1 Axes>"
      ]
     },
     "metadata": {
      "needs_background": "light"
     },
     "output_type": "display_data"
    }
   ],
   "source": [
    "ax = all_article_df['time'].hist(bins=50)\n",
    "ax.grid(False)\n",
    "ax.spines['right'].set_visible(False)\n",
    "ax.spines['top'].set_visible(False)\n",
    "plt.xticks(rotation=25, horizontalalignment='right')\n",
    "plt.ylabel('Num published versions')\n",
    "plt.xlabel('Published time')"
   ]
  },
  {
   "cell_type": "code",
   "execution_count": 170,
   "metadata": {},
   "outputs": [
    {
     "data": {
      "text/plain": [
       "bbc             1527626\n",
       "guardian        1191850\n",
       "nytimes          623511\n",
       "independent      229951\n",
       "rtcom            150514\n",
       "washpo           111503\n",
       "theintercept       1992\n",
       "Name: source, dtype: int64"
      ]
     },
     "execution_count": 170,
     "metadata": {},
     "output_type": "execute_result"
    }
   ],
   "source": [
    "all_article_df['source'].value_counts()"
   ]
  },
  {
   "cell_type": "code",
   "execution_count": 186,
   "metadata": {},
   "outputs": [
    {
     "data": {
      "image/png": "[encoded data removed]",
      "text/plain": [
       "<Figure size 432x288 with 1 Axes>"
      ]
     },
     "metadata": {
      "needs_background": "light"
     },
     "output_type": "display_data"
    }
   ],
   "source": [
    "version_counts_df = (all_article_df\n",
    " .groupby(['source', 'article_id'])['version'].aggregate(len)\n",
    " .reset_index()\n",
    ")\n",
    "\n",
    "sns.boxplot(data=version_counts_df.loc[lambda df: df['version'] > 1], y='source', x='version', showfliers=False)\n",
    "# ax.set_xlim(2, 12.5)\n",
    "ax.spines['right'].set_visible(False)\n",
    "ax.spines['top'].set_visible(False)\n",
    "plt.xlabel('Num Variations');"
   ]
  },
  {
   "cell_type": "code",
   "execution_count": null,
   "metadata": {},
   "outputs": [],
   "source": []
  },
  {
   "cell_type": "code",
   "execution_count": 12,
   "metadata": {},
   "outputs": [],
   "source": [
    "import pandas as pd \n",
    "import matplotlib.pyplot as plt\n",
    "import seaborn as sns\n",
    "plt.rc('font', size=14)"
   ]
  },
  {
   "cell_type": "code",
   "execution_count": 30,
   "metadata": {},
   "outputs": [],
   "source": [
    "scores_df = pd.DataFrame({\n",
    "'NYTimes':    [.85, .88, .91, .93],\n",
    "'State-Level Bills':    [.58, .78, .76, .83],\n",
    "'City Council\\nMeeting Min.':    [.42, .64, .79, .77],\n",
    "'Appeals\\nCourt Cases':    [.63, .59, .58, .69],})"
   ]
  },
  {
   "cell_type": "code",
   "execution_count": 31,
   "metadata": {},
   "outputs": [
    {
     "data": {
      "text/plain": [
       "(array([0, 1, 2, 3]), <a list of 4 Text xticklabel objects>)"
      ]
     },
     "execution_count": 31,
     "metadata": {},
     "output_type": "execute_result"
    },
    {
     "data": {
      "image/png": "[encoded data removed]",
      "text/plain": [
       "<Figure size 432x288 with 1 Axes>"
      ]
     },
     "metadata": {
      "needs_background": "light"
     },
     "output_type": "display_data"
    }
   ],
   "source": [
    "ax = sns.boxplot(data=scores_df.unstack().reset_index(), x='level_0', y=0, showfliers=False)\n",
    "plt.ylabel('ROC-AUC')\n",
    "ax.spines['right'].set_visible(False)\n",
    "ax.spines['top'].set_visible(False)\n",
    "plt.xlabel('')\n",
    "plt.xticks(rotation=15, horizontalalignment='center')"
   ]
  },
  {
   "cell_type": "code",
   "execution_count": null,
   "metadata": {},
   "outputs": [],
   "source": []
  },
  {
   "cell_type": "markdown",
   "metadata": {},
   "source": [
    "# Try new Diff Scheme\n",
    "## Sentence diffs -> words per sentence diffs -> letters per word diffs"
   ]
  },
  {
   "cell_type": "code",
   "execution_count": null,
   "metadata": {},
   "outputs": [],
   "source": [
    "unique_article_ids = article_df['article_id'].drop_duplicates()\n",
    "indexed_article_df = article_df.set_index('article_id')\n",
    "for a_id in unique_article_ids:\n",
    "    indexed_article_df.loc[a_id]"
   ]
  },
  {
   "cell_type": "code",
   "execution_count": 77,
   "metadata": {},
   "outputs": [],
   "source": [
    "a1, a2 = indexed_article_df.loc[a_id]['text'].iloc[[0, 1]]"
   ]
  },
  {
   "cell_type": "markdown",
   "metadata": {},
   "source": [
    "## Filter out common phrases"
   ]
  },
  {
   "cell_type": "code",
   "execution_count": 234,
   "metadata": {},
   "outputs": [
    {
     "data": {
      "application/vnd.jupyter.widget-view+json": {
       "model_id": "4bc049aa3b7a4e5c84b128d4e0e28565",
       "version_major": 2,
       "version_minor": 0
      },
      "text/plain": [
       "  0%|          | 0/2000 [00:00<?, ?it/s]"
      ]
     },
     "metadata": {},
     "output_type": "display_data"
    }
   ],
   "source": [
    "from collections import defaultdict\n",
    "\n",
    "sentence_counts = defaultdict(int)\n",
    "guardian_articles = article_df.loc[lambda df: df['source'] == 'nytimes']['text'].sample(2000)\n",
    "for idx, a in tqdm(enumerate(guardian_articles), total=len(guardian_articles)):\n",
    "    sents = split_sents(a, perform_filter=True)\n",
    "    for s in sents:\n",
    "        if idx < 500:\n",
    "            sentence_counts[s] += 1\n",
    "        if idx > 500:\n",
    "            if s in sentence_counts:\n",
    "                sentence_counts[s] += 1"
   ]
  },
  {
   "cell_type": "code",
   "execution_count": 238,
   "metadata": {},
   "outputs": [],
   "source": [
    "nyt_sentences = pd.Series(sentence_counts).sort_values(ascending=False)"
   ]
  },
  {
   "cell_type": "code",
   "execution_count": 715,
   "metadata": {},
   "outputs": [
    {
     "data": {
      "text/plain": [
       "When you get to your seat and your hands are clean, use disinfecting wipes to clean the hard surfaces at your seat like the head and arm rest, the seatbelt buckle, the remote, screen, seat back pocket and the tray table.                                                                            414\n",
       "If you’ve been exposed to the coronavirus or think you have, and have a fever or symptoms like a cough or difficulty breathing, call a doctor.                                                                                                                                                          413\n",
       "If possible, choose a window seat.                                                                                                                                                                                                                                                                      413\n",
       "Some of these symptoms overlap with those of the flu, making detection difficult, but runny noses and stuffy sinuses are less common.                                                                                                                                                                   413\n",
       "The C.D.C. has also added chills, muscle pain, sore throat, headache and a new loss of the sense of taste or smell as symptoms to look out for.                                                                                                                                                         413\n",
       "Most people fall ill five to seven days after exposure, but symptoms may appear in as few as two days or as many as 14 days.                                                                                                                                                                            413\n",
       "Most important                                                                                                                                                                                                                                                                                          413\n",
       ": Wash your hands often, and stop touching your face.                                                                                                                                                                                                                                                   413\n",
       "If air travel is unavoidable, there are some steps you can take to protect yourself.                                                                                                                                                                                                                    413\n",
       "A study from Emory University found that during flu season, the safest place to sit on a plane is by a window, as people sitting in window seats had less contact with potentially sick people.                                                                                                         413\n",
       "Disinfect hard surfaces.                                                                                                                                                                                                                                                                                413\n",
       "If the seat is hard and nonporous or leather or pleather, you can wipe that down, too.                                                                                                                                                                                                                  413\n",
       "(Using wipes on upholstered seats could lead to a wet seat and spreading of germs rather than killing them.)                                                                                                                                                                                            413\n",
       "They should give you advice on whether you should be tested, how to get tested, and how to seek medical treatment without potentially infecting or exposing others.                                                                                                                                     413\n",
       "Common symptoms include fever, a dry cough, fatigue and difficulty breathing or shortness of breath.                                                                                                                                                                                                    393\n",
       "But the unemployment rate dipped instead, with employers adding 2.5 million jobs, after more than 20 million jobs were lost in April.                                                                                                                                                                   377\n",
       "Economists had forecast the unemployment rate to increase to as much as 20 percent, after it hit 14.7 percent in April, which was the highest since the government began keeping official statistics after World War II.                                                                                377\n",
       "The unemployment rate fell to 13.3 percent in May, the Labor Department said on June 5, an unexpected improvement in the nation’s job market as hiring rebounded faster than economists expected.                                                                                                       377\n",
       "Having Type A blood was linked to a 50 percent increase in the likelihood that a patient would need to get oxygen or to go on a ventilator, according to the new study.                                                                                                                                 352\n",
       "Even if you aren’t being told to stay at home, it’s still a good idea to limit trips outside and your interaction with other people.                                                                                                                                                                    352\n",
       "The federal government is largely leaving the decision up to states, and some state leaders are leaving the decision up to local authorities.                                                                                                                                                           352\n",
       "This means that more public spaces are available for use and more and more businesses are being allowed to open again.                                                                                                                                                                                  352\n",
       "A study by European scientists is the first to document a strong statistical link between genetic variations and Covid-19, the illness caused by the coronavirus.                                                                                                                                       352\n",
       "States are reopening bit by bit.                                                                                                                                                                                                                                                                        348\n",
       "If you’re sick and you think you’ve been exposed to the new coronavirus, the C.D.C. recommends that you call your healthcare provider and explain your symptoms and fears.                                                                                                                              347\n",
       "They will decide if you need to be tested.                                                                                                                                                                                                                                                              347\n",
       "Keep in mind that there’s a chance — because of a lack of testing kits or because you’re asymptomatic, for instance — you won’t be able to get tested.                                                                                                                                                  347\n",
       "A widely cited paper published in April suggests that people are most infectious about two days before the onset of coronavirus symptoms and estimated that 44 percent of new infections were a result of transmission from people who were not yet showing symptoms.                                   324\n",
       "Recently, a top expert at the World Health Organization stated that transmission of the coronavirus by people who did not have symptoms was “very rare,” but she later walked back that statement.                                                                                                      324\n",
       "So far, the evidence seems to show it does.                                                                                                                                                                                                                                                             315\n",
       "Until now, the C.D.C., like the W.H.O., has advised that ordinary people don’t need to wear masks unless they are sick and coughing.                                                                                                                                                                    295\n",
       "Part of the reason was to preserve medical-grade masks for health care workers who desperately need them at a time when they are in continuously short supply.                                                                                                                                          295\n",
       "Masks don’t replace hand washing and social distancing.                                                                                                                                                                                                                                                 295\n",
       "This is a shift in federal guidance reflecting new concerns that the coronavirus is being spread by infected people who have no symptoms.                                                                                                                                                               295\n",
       "The C.D.C. has recommended that all Americans wear cloth masks if they go out in public.                                                                                                                                                                                                                295\n",
       "If you don’t have a thermometer (they can be pricey these days), there are other ways to figure out if you have a fever, or are at risk of Covid-19 complications.                                                                                                                                      295\n",
       "Taking one’s temperature to look for signs of fever is not as easy as it sounds, as “normal” temperature numbers can vary, but generally, keep an eye out for a temperature of 100.5 degrees Fahrenheit or higher.                                                                                      295\n",
       "While many political leaders affirmed the right of protesters to express themselves, they urged the demonstrators to wear face masks and maintain social distancing, both to protect themselves and to prevent further community spread of the virus.                                                   286\n",
       "Some infectious disease experts were reassured by the fact that the protests were held outdoors, saying the open air settings could mitigate the risk of transmission.                                                                                                                                  286\n",
       "Mass protests against police brutality that have brought thousands of people onto the streets in cities across America are raising the specter of new coronavirus outbreaks, prompting political leaders, physicians and public health experts to warn that the crowds could cause a surge in cases.    263\n",
       "Expect some muscle twinges after these preliminary, post-lockdown sessions, especially a day or two later.                                                                                                                                                                                              224\n",
       "“When you haven’t been exercising, you lose muscle mass.”                                                                                                                                                                                                                                               224\n",
       "But sudden or increasing pain during exercise is a clarion call to stop and return home.                                                                                                                                                                                                                224\n",
       "Thread in some preparatory squats, too, she advises.                                                                                                                                                                                                                                                    224\n",
       "But there are steps you can take to ease your way back into regular exercise safely.                                                                                                                                                                                                                    224\n",
       "First, “start at no more than 50 percent of the exercise you were doing before Covid,” says Dr. Monica Rho, the chief of musculoskeletal medicine at the Shirley Ryan AbilityLab in Chicago.                                                                                                            224\n",
       "American adults tended to be about 12 percent less active after the stay-at-home mandates began in March than they were in January.                                                                                                                                                                     224\n",
       "Exercise researchers and physicians have some blunt advice for those of us aiming to return to regular exercise now: Start slowly and then rev up your workouts, also slowly.                                                                                                                           215\n",
       "dtype: int64"
      ]
     },
     "execution_count": 715,
     "metadata": {},
     "output_type": "execute_result"
    }
   ],
   "source": [
    "nyt_sentences.loc[lambda s: s > 200]"
   ]
  },
  {
   "cell_type": "code",
   "execution_count": null,
   "metadata": {},
   "outputs": [],
   "source": []
  },
  {
   "cell_type": "code",
   "execution_count": null,
   "metadata": {},
   "outputs": [],
   "source": []
  },
  {
   "cell_type": "code",
   "execution_count": null,
   "metadata": {},
   "outputs": [],
   "source": []
  },
  {
   "cell_type": "code",
   "execution_count": null,
   "metadata": {},
   "outputs": [],
   "source": []
  },
  {
   "cell_type": "markdown",
   "metadata": {},
   "source": [
    "# Sentence-Level Diff Styling"
   ]
  },
  {
   "cell_type": "code",
   "execution_count": 84,
   "metadata": {},
   "outputs": [],
   "source": [
    "vars_new, vars_old = get_sentence_diff(a1, a2)\n",
    "html_table = format_html_table(vars_new, vars_old)"
   ]
  },
  {
   "cell_type": "code",
   "execution_count": 90,
   "metadata": {
    "scrolled": true
   },
   "outputs": [
    {
     "data": {
      "text/html": [
       "<table>\n",
       "<tr><th>Old Version</th><th>New Version</th></tr>\n",
       "<tr><td style=\"background-color:rgba(255,0,0,0.3)\">A tough Texas judge has released all defendants before him, reportedly saying it was what voters wanted, a day after he lost his re-election bid.</td><td style=\"background-color:rgba(0,255,0,0.3)\">A tough Texas judge has released a group of defendants, reportedly saying it was what voters wanted, a day after he lost his re-election bid.</td></tr>\n",
       "<tr><td>Republican Judge Glenn Devlin let seven juvenile defendants go on Wednesday - including some charged with violent crimes, according to local media.</td><td>Republican Judge Glenn Devlin let seven juvenile defendants go on Wednesday - including some charged with violent crimes, according to local media.</td></tr>\n",
       "<tr><td>Witnesses said that before releasing the defendants he asked them if they planned to kill anybody.</td><td>Witnesses said that before releasing the defendants he asked them if they planned to kill anybody.</td></tr>\n",
       "<tr><td>The American Civil Liberties Union (ACLU) is demanding an investigation.</td><td>The American Civil Liberties Union (ACLU) is demanding an investigation.</td></tr>\n",
       "<tr><td>The Harris County District Attorney Kim Ogg has condemned the jurist's actions.</td><td>The Harris County District Attorney Kim Ogg has condemned the jurist's actions.</td></tr>\n",
       "<tr><td>She told the BBC in an emailed statement: \"We oppose the wholesale release of violent offenders at any age; this could endanger the public.</td><td>She told the BBC in an emailed statement: \"We oppose the wholesale release of violent offenders at any age; this could endanger the public.</td></tr>\n",
       "<tr><td>\"</td><td>\"</td></tr>\n",
       "<tr><td>Public Defender Steve Halpert told ABC 13 that when Judge Devlin took the bench on Wednesday, he asked the juvenile defendants before him: \"If I release you, will you go out and murder anybody?\"</td><td>Public Defender Steve Halpert told ABC 13 that when Judge Devlin took the bench on Wednesday, he asked the juvenile defendants before him: \"If I release you, will you go out and murder anybody?\"</td></tr>\n",
       "<tr><td>\"If the juvenile said 'no,' they were released,\" Mr Halpert said.</td><td>\"If the juvenile said 'no,' they were released,\" Mr Halpert said.</td></tr>\n",
       "<tr><td>\"Judge Devlin would never normally ask that question of a juvenile.</td><td>\"Judge Devlin would never normally ask that question of a juvenile.</td></tr>\n",
       "<tr><td>This was unusual.\"</td><td>This was unusual.\"</td></tr>\n",
       "<tr><td>According to the Houston Chronicle, the defendants face charges ranging from misdemeanours to violent crimes, and prosecutors in court at the time expressed concern at the releases.</td><td>According to the Houston Chronicle, the defendants face charges ranging from misdemeanours to violent crimes, and prosecutors in court at the time expressed concern at the releases.</td></tr>\n",
       "<tr><td>According to Mr Halpert, Judge Devlin commented: \"That's what the voters wanted.\"</td><td>According to Mr Halpert, Judge Devlin commented: \"That's what the voters wanted.\"</td></tr>\n",
       "<tr><td>The judge has not responded to multiple requests for comment.</td><td>The judge has not responded to multiple requests for comment.</td></tr>\n",
       "<tr><td>The cases will be heard again on 4 January, when Judge Devlin's replacement, Natalia Oakes, takes the bench.</td><td>The cases will be heard again on 4 January, when Judge Devlin's replacement, Natalia Oakes, takes the bench.</td></tr>\n",
       "<tr><td>The ACLU, a civil liberties watchdog, has called on the Texas Commission on Judicial Conduct to look into the matter.</td><td>The ACLU, a civil liberties watchdog, has called on the Texas Commission on Judicial Conduct to look into the matter.</td></tr>\n",
       "<tr><td>In a statement, Sharon Watkins Jones, of the Texas ACLU, said: \"It is improper for a judge to make orders motivated by partisan interests or spite as a result of his political loss.\"</td><td>In a statement, Sharon Watkins Jones, of the Texas ACLU, said: \"It is improper for a judge to make orders motivated by partisan interests or spite as a result of his political loss.\"</td></tr>\n",
       "<tr><td>Judge Devlin was one of 59 Republican jurists who lost their seats to Democrats on Tuesday, including all three juvenile court judges, the Chronicle reported.</td><td>Judge Devlin was one of 59 Republican jurists who lost their seats to Democrats on Tuesday, including all three juvenile court judges, the Chronicle reported.</td></tr>\n",
       "<tr><td>Last month, an investigation by the newspaper found that Judge Devlin and one other judge had sent to prison more than one fifth of all juveniles locked up last year.</td><td>Last month, an investigation by the newspaper found that Judge Devlin and one other judge had sent to prison more than one fifth of all juveniles locked up last year.</td></tr>\n",
       "</table>"
      ],
      "text/plain": [
       "<IPython.core.display.HTML object>"
      ]
     },
     "metadata": {},
     "output_type": "display_data"
    }
   ],
   "source": [
    "display(HTML('\\n'.join(html_table)))"
   ]
  },
  {
   "cell_type": "code",
   "execution_count": 209,
   "metadata": {},
   "outputs": [
    {
     "data": {
      "text/plain": [
       "'https://www.newssniffer.co.uk/articles/688245/versions/1592624'"
      ]
     },
     "execution_count": 209,
     "metadata": {},
     "output_type": "execute_result"
    }
   ],
   "source": [
    "large_article_df.loc[0]['url']"
   ]
  },
  {
   "cell_type": "code",
   "execution_count": 215,
   "metadata": {},
   "outputs": [],
   "source": [
    "def clean_large_article_html(html):\n",
    "    pass"
   ]
  },
  {
   "cell_type": "code",
   "execution_count": 222,
   "metadata": {
    "scrolled": true
   },
   "outputs": [],
   "source": [
    "t = large_article_df.loc[0]"
   ]
  },
  {
   "cell_type": "code",
   "execution_count": 224,
   "metadata": {},
   "outputs": [
    {
     "data": {
      "text/plain": [
       "'https://www.newssniffer.co.uk/articles/688245/versions/1592624'"
      ]
     },
     "execution_count": 224,
     "metadata": {},
     "output_type": "execute_result"
    }
   ],
   "source": [
    "t['url']"
   ]
  },
  {
   "cell_type": "code",
   "execution_count": 220,
   "metadata": {
    "scrolled": true
   },
   "outputs": [
    {
     "data": {
      "text/html": [
       "<div>\n",
       "<style scoped>\n",
       "    .dataframe tbody tr th:only-of-type {\n",
       "        vertical-align: middle;\n",
       "    }\n",
       "\n",
       "    .dataframe tbody tr th {\n",
       "        vertical-align: top;\n",
       "    }\n",
       "\n",
       "    .dataframe thead th {\n",
       "        text-align: right;\n",
       "    }\n",
       "</style>\n",
       "<table border=\"1\" class=\"dataframe\">\n",
       "  <thead>\n",
       "    <tr style=\"text-align: right;\">\n",
       "      <th></th>\n",
       "      <th>version</th>\n",
       "      <th>title</th>\n",
       "      <th>time</th>\n",
       "      <th>text</th>\n",
       "      <th>article_url</th>\n",
       "      <th>source</th>\n",
       "      <th>article_id</th>\n",
       "      <th>num_versions</th>\n",
       "    </tr>\n",
       "  </thead>\n",
       "  <tbody>\n",
       "    <tr>\n",
       "      <th>0</th>\n",
       "      <td>0</td>\n",
       "      <td>Frieze and Felix Turn Heads in Los Angeles</td>\n",
       "      <td>2019-02-20 00:32:07+00:00</td>\n",
       "      <td>Galleries participating in art fairs tend to j...</td>\n",
       "      <td>https://www.nytimes.com/2019/02/19/arts/design...</td>\n",
       "      <td>nytimes</td>\n",
       "      <td>1741157</td>\n",
       "      <td>3</td>\n",
       "    </tr>\n",
       "    <tr>\n",
       "      <th>1</th>\n",
       "      <td>1</td>\n",
       "      <td>Frieze and Felix Turn Heads in Los Angeles</td>\n",
       "      <td>2019-02-21 20:30:12+00:00</td>\n",
       "      <td>Galleries participating in art fairs tend to j...</td>\n",
       "      <td>https://www.nytimes.com/2019/02/19/arts/design...</td>\n",
       "      <td>nytimes</td>\n",
       "      <td>1741157</td>\n",
       "      <td>3</td>\n",
       "    </tr>\n",
       "    <tr>\n",
       "      <th>2</th>\n",
       "      <td>2</td>\n",
       "      <td>Frieze and Felix Turn Heads in Los Angeles</td>\n",
       "      <td>2019-02-26 13:24:07+00:00</td>\n",
       "      <td>Galleries participating in art fairs tend to j...</td>\n",
       "      <td>https://www.nytimes.com/2019/02/19/arts/design...</td>\n",
       "      <td>nytimes</td>\n",
       "      <td>1741157</td>\n",
       "      <td>3</td>\n",
       "    </tr>\n",
       "    <tr>\n",
       "      <th>3</th>\n",
       "      <td>0</td>\n",
       "      <td>Trump praises controversial pundit Candace Owe...</td>\n",
       "      <td>2018-05-09 18:05:07+00:00</td>\n",
       "      <td>Donald Trump tweeted praise for conservative Y...</td>\n",
       "      <td>https://www.theguardian.com/us-news/2018/may/0...</td>\n",
       "      <td>guardian</td>\n",
       "      <td>1598268</td>\n",
       "      <td>5</td>\n",
       "    </tr>\n",
       "    <tr>\n",
       "      <th>4</th>\n",
       "      <td>1</td>\n",
       "      <td>Trump praises controversial pundit Candace Owe...</td>\n",
       "      <td>2018-05-09 22:05:16+00:00</td>\n",
       "      <td>Donald Trump tweeted praise for conservative Y...</td>\n",
       "      <td>https://www.theguardian.com/us-news/2018/may/0...</td>\n",
       "      <td>guardian</td>\n",
       "      <td>1598268</td>\n",
       "      <td>5</td>\n",
       "    </tr>\n",
       "    <tr>\n",
       "      <th>...</th>\n",
       "      <td>...</td>\n",
       "      <td>...</td>\n",
       "      <td>...</td>\n",
       "      <td>...</td>\n",
       "      <td>...</td>\n",
       "      <td>...</td>\n",
       "      <td>...</td>\n",
       "      <td>...</td>\n",
       "    </tr>\n",
       "    <tr>\n",
       "      <th>3836942</th>\n",
       "      <td>0</td>\n",
       "      <td>Struggling London hospitals sending Covid pati...</td>\n",
       "      <td>2021-01-14 20:12:00+00:00</td>\n",
       "      <td>NaN</td>\n",
       "      <td>https://www.theguardian.com/society/2021/jan/1...</td>\n",
       "      <td>guardian</td>\n",
       "      <td>2058840</td>\n",
       "      <td>3</td>\n",
       "    </tr>\n",
       "    <tr>\n",
       "      <th>3836943</th>\n",
       "      <td>1</td>\n",
       "      <td>Struggling London hospitals sending Covid pati...</td>\n",
       "      <td>2021-01-14 20:44:00+00:00</td>\n",
       "      <td>NaN</td>\n",
       "      <td>https://www.theguardian.com/society/2021/jan/1...</td>\n",
       "      <td>guardian</td>\n",
       "      <td>2058840</td>\n",
       "      <td>3</td>\n",
       "    </tr>\n",
       "    <tr>\n",
       "      <th>3836944</th>\n",
       "      <td>2</td>\n",
       "      <td>Struggling London hospitals sending Covid pati...</td>\n",
       "      <td>2021-01-14 23:32:00+00:00</td>\n",
       "      <td>NaN</td>\n",
       "      <td>https://www.theguardian.com/society/2021/jan/1...</td>\n",
       "      <td>guardian</td>\n",
       "      <td>2058840</td>\n",
       "      <td>3</td>\n",
       "    </tr>\n",
       "    <tr>\n",
       "      <th>3836945</th>\n",
       "      <td>0</td>\n",
       "      <td>US officials warn ‘full resurgence’ of Covid i...</td>\n",
       "      <td>2021-01-16 02:06:00+00:00</td>\n",
       "      <td>NaN</td>\n",
       "      <td>https://www.theguardian.com/world/2021/jan/14/...</td>\n",
       "      <td>guardian</td>\n",
       "      <td>2058841</td>\n",
       "      <td>1</td>\n",
       "    </tr>\n",
       "    <tr>\n",
       "      <th>3836946</th>\n",
       "      <td>0</td>\n",
       "      <td>Trump official admits family separation policy...</td>\n",
       "      <td>2021-01-16 02:06:00+00:00</td>\n",
       "      <td>NaN</td>\n",
       "      <td>https://www.theguardian.com/us-news/2021/jan/1...</td>\n",
       "      <td>guardian</td>\n",
       "      <td>2058845</td>\n",
       "      <td>1</td>\n",
       "    </tr>\n",
       "  </tbody>\n",
       "</table>\n",
       "<p>3836947 rows × 8 columns</p>\n",
       "</div>"
      ],
      "text/plain": [
       "         version                                              title  \\\n",
       "0              0         Frieze and Felix Turn Heads in Los Angeles   \n",
       "1              1         Frieze and Felix Turn Heads in Los Angeles   \n",
       "2              2         Frieze and Felix Turn Heads in Los Angeles   \n",
       "3              0  Trump praises controversial pundit Candace Owe...   \n",
       "4              1  Trump praises controversial pundit Candace Owe...   \n",
       "...          ...                                                ...   \n",
       "3836942        0  Struggling London hospitals sending Covid pati...   \n",
       "3836943        1  Struggling London hospitals sending Covid pati...   \n",
       "3836944        2  Struggling London hospitals sending Covid pati...   \n",
       "3836945        0  US officials warn ‘full resurgence’ of Covid i...   \n",
       "3836946        0  Trump official admits family separation policy...   \n",
       "\n",
       "                             time  \\\n",
       "0       2019-02-20 00:32:07+00:00   \n",
       "1       2019-02-21 20:30:12+00:00   \n",
       "2       2019-02-26 13:24:07+00:00   \n",
       "3       2018-05-09 18:05:07+00:00   \n",
       "4       2018-05-09 22:05:16+00:00   \n",
       "...                           ...   \n",
       "3836942 2021-01-14 20:12:00+00:00   \n",
       "3836943 2021-01-14 20:44:00+00:00   \n",
       "3836944 2021-01-14 23:32:00+00:00   \n",
       "3836945 2021-01-16 02:06:00+00:00   \n",
       "3836946 2021-01-16 02:06:00+00:00   \n",
       "\n",
       "                                                      text  \\\n",
       "0        Galleries participating in art fairs tend to j...   \n",
       "1        Galleries participating in art fairs tend to j...   \n",
       "2        Galleries participating in art fairs tend to j...   \n",
       "3        Donald Trump tweeted praise for conservative Y...   \n",
       "4        Donald Trump tweeted praise for conservative Y...   \n",
       "...                                                    ...   \n",
       "3836942                                                NaN   \n",
       "3836943                                                NaN   \n",
       "3836944                                                NaN   \n",
       "3836945                                                NaN   \n",
       "3836946                                                NaN   \n",
       "\n",
       "                                               article_url    source  \\\n",
       "0        https://www.nytimes.com/2019/02/19/arts/design...   nytimes   \n",
       "1        https://www.nytimes.com/2019/02/19/arts/design...   nytimes   \n",
       "2        https://www.nytimes.com/2019/02/19/arts/design...   nytimes   \n",
       "3        https://www.theguardian.com/us-news/2018/may/0...  guardian   \n",
       "4        https://www.theguardian.com/us-news/2018/may/0...  guardian   \n",
       "...                                                    ...       ...   \n",
       "3836942  https://www.theguardian.com/society/2021/jan/1...  guardian   \n",
       "3836943  https://www.theguardian.com/society/2021/jan/1...  guardian   \n",
       "3836944  https://www.theguardian.com/society/2021/jan/1...  guardian   \n",
       "3836945  https://www.theguardian.com/world/2021/jan/14/...  guardian   \n",
       "3836946  https://www.theguardian.com/us-news/2021/jan/1...  guardian   \n",
       "\n",
       "         article_id  num_versions  \n",
       "0           1741157             3  \n",
       "1           1741157             3  \n",
       "2           1741157             3  \n",
       "3           1598268             5  \n",
       "4           1598268             5  \n",
       "...             ...           ...  \n",
       "3836942     2058840             3  \n",
       "3836943     2058840             3  \n",
       "3836944     2058840             3  \n",
       "3836945     2058841             1  \n",
       "3836946     2058845             1  \n",
       "\n",
       "[3836947 rows x 8 columns]"
      ]
     },
     "execution_count": 220,
     "metadata": {},
     "output_type": "execute_result"
    }
   ],
   "source": [
    "all_article_df"
   ]
  },
  {
   "cell_type": "code",
   "execution_count": 219,
   "metadata": {
    "scrolled": true
   },
   "outputs": [
    {
     "data": {
      "text/plain": [
       "['<p><a href=\"http://www.nytimes.com/2013/09/28/us/politics/senate-is-expected-to-approve-budget-bill.html\">http://www.nytimes.com/2013/09/28/us/politics/senate-is-expected-to-approve-budget-bill.html',\n",
       " 'Version 7 of 12.</p><p>WASHINGTON — The Senate on Friday overwhelmingly approved stopgap spending legislation to keep the federal government open without gutting President Obama’s health care law, setting up a weekend showdown with the House that will decide whether much of the government shuts down at midnight Monday.</p><p>The 54-to-44 vote for final passage followed a more critical moment when the Senate, in a bipartisan rebuke to Republican hard-liners, cut off debate on the legislation. The 79-to-19 vote included the top Republican leadership and easily exceeded the 60-vote threshold to break a filibuster.</p><p>The Senate then voted along party lines, 54 to 44, to strip out House Republican language that tied further funding of the government to defunding the health care law. That vote required only a simple 51-vote majority.</p><p>Senator Harry Reid of Nevada, the majority leader, called the votes “the first step toward wresting control from the extremists.” Senator Ted Cruz, Republican of Texas, had been urging his Senate colleagues all week to oppose ending debate as a way to force Democrats to accept language defunding the Affordable Care Act. But with the clock ticking toward an Oct. 1 government shutdown, an overwhelming bipartisan majority wanted to act quickly to move the spending bill back to the House.</p><p>President Obama, speaking in the White House briefing room after the vote, called on Republicans to accept the Senate measure to avoid government disruptions. “Do not threaten to burn the house down just because you haven’t gotten 100 percent of your way,” Mr. Obama said.</p><p>Now Speaker John A. Boehner faces a defining choice: accept the Senate bill, which funds the government through Nov. 15 without Republican policy prescriptions, or listen to his conservatives, who will accept a government shutdown unless serious damage is done to the health care law. House Republicans will meet at noon Saturday to hash out their options. Mr. Boehner has signaled that he will again attach language to chip away at the Affordable Care Act, but as the deadline approaches, fissures are appearing in the Republican ranks.</p><p>House Republicans will meet at noon Saturday to hash out their options. Mr. Boehner has signaled that he will again attach language to chip away at the Affordable Care Act, but as the deadline approaches, fissures are appearing in the Republican ranks.</p><p>“The only time you shut down the government is when you shut it down and refuse to open it until you accomplish what you want. We’ll fold like hotcakes,” said Senator Tom Coburn, Republican of Oklahoma. “You do not take a hostage you are not going to for sure shoot, and we will not for sure shoot this hostage.”</p><p>The Senate legislation would almost certainly win approval in the House, largely with Democratic votes, but conservatives warned it could hurt the beleaguered speaker dearly.</p><p>“I think it would be devastating to the speaker’s support,” said Representative Richard Hudson, Republican of North Carolina, who is one of the members urging the Republican leadership to drive a hard bargain with the Senate.</p><p>“I think the question is do we go with the carrot or the stick strategy,” Mr. Hudson added. “Do we try to do something bad enough to force Harry Reid to negotiate with us, or do we do something that we think he can’t refuse?”</p><p>Republicans were also considering a simple bill to keep the government open for as little as seven days while the legislative jousting continues. That was sternly opposed by senior Republicans, like Representative Harold Rogers of Kentucky, the chairman of the House Appropriations Committee.</p><p>“If you can’t get the House and Senate together by midnight Sept. 30, it becomes a more viable strategy,” said Representative Pat Tiberi, Republican of Ohio and a close ally of Mr. Boehner.</p><p>Mr. Reid has said he would reject anything but a plain budget bill.</p><p>By Friday, most House Republicans had come around to the view of their leadership: that a government shutdown would be painful for their party from a political and public relations standpoint. Many said they would consider voting for a stopgap spending measure covering as few as seven days to keep the government funded as they struggle to come up with a more long-term solution.</p><p>“Listen, I’m not going to let the government shut down,” said Representative Peter T. King, Republican of New York. “I don’t want to be undercutting Boehner, but put it this way: I will not let the government shut down.”</p><p>But House Republicans thought they might be able to find a compromise with Senate Democrats — including, they said, on some more modest changes to the president’s health care law, or in exchange for approval of Republican priorities like the Keystone XL pipeline.</p><p>“I’d love to see a medical device repeal, whether it’s Keystone, even a delay in the individual mandate,” said Representative Adam Kinzinger, Republican of Illinois, referring to a tax on medical device manufacturers. “Look, I think the administration realizes that Obamacare is not ready for prime time, and so I think ultimately maybe they’d be amenable to it.”</p><p>Currently monitoring 1,792,352 news articles \\n\\t\\t\\t\\twith 3,829,029 different versions.</p>']"
      ]
     },
     "execution_count": 219,
     "metadata": {},
     "output_type": "execute_result"
    }
   ],
   "source": [
    "t.split('</a></p><p>')"
   ]
  },
  {
   "cell_type": "code",
   "execution_count": 213,
   "metadata": {},
   "outputs": [
    {
     "data": {
      "text/plain": [
       "'Galleries participating in art fairs tend to judge their success by the numbers — not only profits from their sales but also how many new collectors they met who stay in touch. But for visitors, what matters most is less quantifiable: Was the fair experience memorable? And how was the art?</p><p>For many viewers reached by a reporter and photographer for The New York Times, the inaugural edition of Frieze Los Angeles and the upstart Felix LA art fair last weekend succeeded on those fronts, dispelling a longstanding notion of the city as a graveyard for art fairs and underscoring its vitality as an art center.</p><p>Frieze, set at Paramount Studios, commissioned artworks for the five-acre New York streetscape on the backlot and they helped to give the fair a different vibe, from Hannah Greely’s paintings of laundry on a clotheslines to Sarah Cain’s wall-to-window takeover of a classic brownstone apartment, including a brilliant stained-glass window.</p><p>In the big tent housing 70 gallery booths there were many discoveries to be made. They ranged from a stridently colored, puzzle-like painting of female factory workers by the little-known Sacramento artist Irving Marcus (age 99) at Parker Gallery to a reconstruction of Judy Chicago’s important 1965 “Zig Zag” sculpture at Jeffrey Deitch.</p><p>Hans Ulrich Obrist, the artistic director of Serpentine Galleries in London, who typically leads two to three trips a year for patrons, called his trip “one of the most exciting we’ve ever had.” He praised the “village-like experience of the Paramount lot,” the fair’s manageable size (less than half that of Frieze New York) and the various satellite fairs and pop-up events around it.</p><p>The popular Felix art fair, which had free entry and was intended to show more affordable art, commandeered several poolside cabana rooms and the entire 11th floor of the Hollywood Roosevelt hotel. Visitors could see unframed paintings by Roger White spread out on a bed and putty sculptures by Matt Hoyt posed on hotel end tables rather than museum pedestals. The lobby had a spread of Kristen Morgin’s painted clay replicas of books that she imagined came from Jennifer Aniston’s library, with titles heavy on romance and self-help.</p><p>Komal Shah, a Bay Area collector and trustee at the San Francisco Museum of Modern Art, praised the strong showing of women artists across Frieze and singled out as a Felix standout the room of the Chicago gallerist Kavi Gupta, which featured one wall of paintings by AfriCOBRA (African Commune of Bad Relevant Artists) — an artist collective that helped define the vision of the Black Arts Movement of the 1960s and 70s.</p><p>“I did hear a couple of dealers at Frieze lamenting that the L.A. crowd seemed to be more conservative than New York — more interested in paintings than conceptual work,” she said. “But I thought the dealers brought great works. And I loved the energy.”</p><p>Howard Rachofsky, the Dallas collector, agreed. “I don’t ever remember Frieze New York actually being fun — and this was,” he said. “My sense is this will be the first of many Frieze fairs out here.” Tickets had quickly sold out, with the final tally of attendance at 30,000. Bettina Korek, the Frieze L.A. director, confirmed the London-based group would return in 2020.</p><p>Dean Valentine, the co-founder of Felix, said that given the crowds and positive feedback, he was “excited to start the process” of planning for the future.</p><p>Here are some highlights from the fairs’ debut editions.'"
      ]
     },
     "execution_count": 213,
     "metadata": {},
     "output_type": "execute_result"
    }
   ],
   "source": [
    "article_df['text'].iloc[0]"
   ]
  },
  {
   "cell_type": "code",
   "execution_count": null,
   "metadata": {},
   "outputs": [],
   "source": []
  },
  {
   "cell_type": "code",
   "execution_count": null,
   "metadata": {},
   "outputs": [],
   "source": []
  }
 ],
 "metadata": {
  "hide_input": false,
  "kernelspec": {
   "display_name": "Python 3",
   "language": "python",
   "name": "python3"
  },
  "language_info": {
   "codemirror_mode": {
    "name": "ipython",
    "version": 3
   },
   "file_extension": ".py",
   "mimetype": "text/x-python",
   "name": "python",
   "nbconvert_exporter": "python",
   "pygments_lexer": "ipython3",
   "version": "3.7.6"
  }
 },
 "nbformat": 4,
 "nbformat_minor": 4
}
