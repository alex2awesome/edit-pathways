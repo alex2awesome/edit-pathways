{
 "cells": [
  {
   "cell_type": "code",
   "execution_count": 48,
   "metadata": {},
   "outputs": [],
   "source": [
    "import os \n",
    "import glob\n",
    "import pandas as pd \n",
    "from tqdm.auto import tqdm\n",
    "import matplotlib.pyplot as plt\n",
    "import seaborn as sns\n",
    "import re"
   ]
  },
  {
   "cell_type": "markdown",
   "metadata": {},
   "source": [
    "# Load in the Data"
   ]
  },
  {
   "cell_type": "code",
   "execution_count": 49,
   "metadata": {},
   "outputs": [],
   "source": [
    "plt.rc('font', size=14)"
   ]
  },
  {
   "cell_type": "code",
   "execution_count": 2,
   "metadata": {},
   "outputs": [],
   "source": [
    "#  v1 dfs\n",
    "## get filepaths\n",
    "cache_dir = '../scraping/scrapy-cloud/output_dir/'\n",
    "files = glob.glob(os.path.join(cache_dir, '*'))\n",
    "article_files = list(filter(lambda x: 'newssniffer-index' not in x, files))\n",
    "csvs = list(filter(lambda x: '.csv' in x, article_files))\n",
    "jsons = list(filter(lambda x: '.json' in x, article_files))\n",
    "\n",
    "## read in CSVs and JSONs\n",
    "article_dfs = list(map(lambda x: pd.read_csv(x, index_col=0), tqdm(csvs)))\n",
    "article_jsons = []\n",
    "for x in tqdm(jsons):\n",
    "    try: \n",
    "        j = pd.read_json(x, orient='records', lines=True)\n",
    "    except:\n",
    "        j = pd.read_json(x, orient='records')\n",
    "    article_jsons.append(j)\n",
    "\n",
    "article_df = pd.concat([\n",
    "    pd.concat(article_dfs).rename(columns={'url':'article_url', 'file_id': 'article_id'}),\n",
    "    pd.concat(article_jsons).drop('request_url', axis=1)\n",
    "])\n",
    "\n",
    "article_df = article_df.drop_duplicates(['version', 'article_id']).reset_index(drop=True)"
   ]
  },
  {
   "cell_type": "code",
   "execution_count": 268,
   "metadata": {},
   "outputs": [],
   "source": [
    "article_page_files = glob.glob('../scraping/scrapy-cloud/output_dir/search_output/output-*-8.json')\n",
    "article_page_files = sorted(article_page_files, key=lambda x: int(re.search('output-(\\d+)-8.json', x)[1]))\n",
    "large_article_files = glob.glob('../scraping/scrapy-cloud/output_dir/article-ou*')"
   ]
  },
  {
   "cell_type": "code",
   "execution_count": 275,
   "metadata": {
    "scrolled": true
   },
   "outputs": [],
   "source": [
    "article_page_df = pd.read_json(article_page_files[0])"
   ]
  },
  {
   "cell_type": "code",
   "execution_count": 277,
   "metadata": {},
   "outputs": [
    {
     "data": {
      "text/html": [
       "<div>\n",
       "<style scoped>\n",
       "    .dataframe tbody tr th:only-of-type {\n",
       "        vertical-align: middle;\n",
       "    }\n",
       "\n",
       "    .dataframe tbody tr th {\n",
       "        vertical-align: top;\n",
       "    }\n",
       "\n",
       "    .dataframe thead th {\n",
       "        text-align: right;\n",
       "    }\n",
       "</style>\n",
       "<table border=\"1\" class=\"dataframe\">\n",
       "  <thead>\n",
       "    <tr style=\"text-align: right;\">\n",
       "      <th></th>\n",
       "      <th>version_url</th>\n",
       "      <th>version</th>\n",
       "      <th>time_created</th>\n",
       "      <th>time_delta</th>\n",
       "      <th>title</th>\n",
       "      <th>article_url</th>\n",
       "      <th>article_id</th>\n",
       "      <th>source</th>\n",
       "    </tr>\n",
       "  </thead>\n",
       "  <tbody>\n",
       "    <tr>\n",
       "      <th>0</th>\n",
       "      <td>https://www.newssniffer.co.uk/articles/35/vers...</td>\n",
       "      <td>0</td>\n",
       "      <td>August 29, 2006 01:35</td>\n",
       "      <td></td>\n",
       "      <td>Annan asks Israel to end blockade</td>\n",
       "      <td>http://news.bbc.co.uk/go/rss/-/1/hi/world/midd...</td>\n",
       "      <td>35</td>\n",
       "      <td>bbc</td>\n",
       "    </tr>\n",
       "    <tr>\n",
       "      <th>1</th>\n",
       "      <td>https://www.newssniffer.co.uk/articles/36/vers...</td>\n",
       "      <td>0</td>\n",
       "      <td>August 29, 2006 01:35</td>\n",
       "      <td></td>\n",
       "      <td>Dozens die in fresh Iraq violence</td>\n",
       "      <td>http://news.bbc.co.uk/go/rss/-/1/hi/world/midd...</td>\n",
       "      <td>36</td>\n",
       "      <td>bbc</td>\n",
       "    </tr>\n",
       "  </tbody>\n",
       "</table>\n",
       "</div>"
      ],
      "text/plain": [
       "                                         version_url  version  \\\n",
       "0  https://www.newssniffer.co.uk/articles/35/vers...        0   \n",
       "1  https://www.newssniffer.co.uk/articles/36/vers...        0   \n",
       "\n",
       "            time_created time_delta                              title  \\\n",
       "0  August 29, 2006 01:35             Annan asks Israel to end blockade   \n",
       "1  August 29, 2006 01:35             Dozens die in fresh Iraq violence   \n",
       "\n",
       "                                         article_url  article_id source  \n",
       "0  http://news.bbc.co.uk/go/rss/-/1/hi/world/midd...          35    bbc  \n",
       "1  http://news.bbc.co.uk/go/rss/-/1/hi/world/midd...          36    bbc  "
      ]
     },
     "execution_count": 277,
     "metadata": {},
     "output_type": "execute_result"
    }
   ],
   "source": [
    "article_page_df.head(2)"
   ]
  },
  {
   "cell_type": "code",
   "execution_count": 276,
   "metadata": {},
   "outputs": [],
   "source": [
    "large_article_df = pd.read_json(large_article_files[0])"
   ]
  },
  {
   "cell_type": "code",
   "execution_count": 278,
   "metadata": {},
   "outputs": [
    {
     "data": {
      "text/html": [
       "<div>\n",
       "<style scoped>\n",
       "    .dataframe tbody tr th:only-of-type {\n",
       "        vertical-align: middle;\n",
       "    }\n",
       "\n",
       "    .dataframe tbody tr th {\n",
       "        vertical-align: top;\n",
       "    }\n",
       "\n",
       "    .dataframe thead th {\n",
       "        text-align: right;\n",
       "    }\n",
       "</style>\n",
       "<table border=\"1\" class=\"dataframe\">\n",
       "  <thead>\n",
       "    <tr style=\"text-align: right;\">\n",
       "      <th></th>\n",
       "      <th>url</th>\n",
       "      <th>html</th>\n",
       "    </tr>\n",
       "  </thead>\n",
       "  <tbody>\n",
       "    <tr>\n",
       "      <th>0</th>\n",
       "      <td>https://www.newssniffer.co.uk/articles/688245/...</td>\n",
       "      <td>&lt;p&gt;&lt;a href=\"http://www.nytimes.com/2013/09/28/...</td>\n",
       "    </tr>\n",
       "    <tr>\n",
       "      <th>1</th>\n",
       "      <td>https://www.newssniffer.co.uk/articles/688245/...</td>\n",
       "      <td>&lt;p&gt;&lt;a href=\"http://www.nytimes.com/2013/09/28/...</td>\n",
       "    </tr>\n",
       "  </tbody>\n",
       "</table>\n",
       "</div>"
      ],
      "text/plain": [
       "                                                 url  \\\n",
       "0  https://www.newssniffer.co.uk/articles/688245/...   \n",
       "1  https://www.newssniffer.co.uk/articles/688245/...   \n",
       "\n",
       "                                                html  \n",
       "0  <p><a href=\"http://www.nytimes.com/2013/09/28/...  \n",
       "1  <p><a href=\"http://www.nytimes.com/2013/09/28/...  "
      ]
     },
     "execution_count": 278,
     "metadata": {},
     "output_type": "execute_result"
    }
   ],
   "source": [
    "large_article_df.head(2)"
   ]
  },
  {
   "cell_type": "code",
   "execution_count": null,
   "metadata": {},
   "outputs": [],
   "source": []
  },
  {
   "cell_type": "code",
   "execution_count": null,
   "metadata": {},
   "outputs": [],
   "source": []
  },
  {
   "cell_type": "code",
   "execution_count": null,
   "metadata": {},
   "outputs": [],
   "source": []
  },
  {
   "cell_type": "code",
   "execution_count": null,
   "metadata": {},
   "outputs": [],
   "source": []
  },
  {
   "cell_type": "code",
   "execution_count": null,
   "metadata": {},
   "outputs": [],
   "source": []
  },
  {
   "cell_type": "code",
   "execution_count": null,
   "metadata": {},
   "outputs": [],
   "source": []
  },
  {
   "cell_type": "markdown",
   "metadata": {},
   "source": [
    "# What time period do we have?"
   ]
  },
  {
   "cell_type": "code",
   "execution_count": null,
   "metadata": {},
   "outputs": [],
   "source": [
    "article_df['time'] = (\n",
    "    article_df['time']\n",
    "          .str.split('(')\n",
    "          .str.get(0)\n",
    "          .str.strip()\n",
    "          .pipe(lambda s: pd.to_datetime(s))\n",
    ")"
   ]
  },
  {
   "cell_type": "code",
   "execution_count": 59,
   "metadata": {},
   "outputs": [
    {
     "data": {
      "text/plain": [
       "Text(0.5, 0, 'Published time')"
      ]
     },
     "execution_count": 59,
     "metadata": {},
     "output_type": "execute_result"
    },
    {
     "data": {
      "image/png": "[encoded data removed]",
      "text/plain": [
       "<Figure size 432x288 with 1 Axes>"
      ]
     },
     "metadata": {
      "needs_background": "light"
     },
     "output_type": "display_data"
    }
   ],
   "source": [
    "ax = article_df['time'].hist(bins=50)\n",
    "ax.grid(False)\n",
    "ax.spines['right'].set_visible(False)\n",
    "ax.spines['top'].set_visible(False)\n",
    "plt.xticks(rotation=25, horizontalalignment='right')\n",
    "plt.ylabel('Num published versions')\n",
    "plt.xlabel('Published time')"
   ]
  },
  {
   "cell_type": "code",
   "execution_count": null,
   "metadata": {},
   "outputs": [],
   "source": [
    "article_df['version'] = article_df['version'].str.split().str.get(1).astype(int)"
   ]
  },
  {
   "cell_type": "code",
   "execution_count": 77,
   "metadata": {},
   "outputs": [
    {
     "data": {
      "text/plain": [
       "guardian    153846\n",
       "nytimes     131998\n",
       "bbc          55982\n",
       "rtcom        12937\n",
       "washpo       12136\n",
       "Name: source, dtype: int64"
      ]
     },
     "execution_count": 77,
     "metadata": {},
     "output_type": "execute_result"
    }
   ],
   "source": [
    "article_df['source'].value_counts()"
   ]
  },
  {
   "cell_type": "code",
   "execution_count": 78,
   "metadata": {},
   "outputs": [
    {
     "data": {
      "text/plain": [
       "guardian    37253\n",
       "nytimes     19140\n",
       "bbc         14242\n",
       "rtcom        4921\n",
       "washpo       3135\n",
       "Name: source, dtype: int64"
      ]
     },
     "execution_count": 78,
     "metadata": {},
     "output_type": "execute_result"
    }
   ],
   "source": [
    "article_df.drop_duplicates('article_id')['source'].value_counts()"
   ]
  },
  {
   "cell_type": "code",
   "execution_count": 91,
   "metadata": {},
   "outputs": [
    {
     "data": {
      "image/png": "[encoded data removed]",
      "text/plain": [
       "<Figure size 432x288 with 1 Axes>"
      ]
     },
     "metadata": {
      "needs_background": "light"
     },
     "output_type": "display_data"
    }
   ],
   "source": [
    "ax = (article_df\n",
    " .groupby(['source', 'article_id'])['version'].aggregate(len)\n",
    " .reset_index()\n",
    " .pipe(lambda df: \n",
    "      sns.boxplot(data=df, y='source', x='version', showfliers=False)\n",
    "      )\n",
    ")\n",
    "ax.set_xlim(2, 12.5)\n",
    "ax.spines['right'].set_visible(False)\n",
    "ax.spines['top'].set_visible(False)\n",
    "plt.xlabel('Num Variations');"
   ]
  },
  {
   "cell_type": "markdown",
   "metadata": {},
   "source": [
    "# Try new Diff Scheme\n",
    "## Sentence diffs -> words per sentence diffs -> letters per word diffs"
   ]
  },
  {
   "cell_type": "code",
   "execution_count": 116,
   "metadata": {},
   "outputs": [],
   "source": [
    "from difflib import ndiff\n",
    "import spacy"
   ]
  },
  {
   "cell_type": "code",
   "execution_count": null,
   "metadata": {},
   "outputs": [],
   "source": [
    "unique_article_ids = article_df['article_id'].drop_duplicates()\n",
    "indexed_article_df = article_df.set_index('article_id')\n",
    "for a_id in unique_article_ids:\n",
    "    indexed_article_df.loc[a_id]"
   ]
  },
  {
   "cell_type": "code",
   "execution_count": 137,
   "metadata": {},
   "outputs": [],
   "source": [
    "nlp = spacy.load(\"en_core_web_lg\", disable=[\"tagger\", \"ner\"]) # just the parser"
   ]
  },
  {
   "cell_type": "code",
   "execution_count": 123,
   "metadata": {},
   "outputs": [],
   "source": [
    "a1, a2 = indexed_article_df.loc[a_id]['text'].iloc[[0, 1]]"
   ]
  },
  {
   "cell_type": "code",
   "execution_count": 189,
   "metadata": {},
   "outputs": [],
   "source": [
    "to_filter = [\n",
    "    'Share on WhatsApp',\n",
    "    'Share on Messenger',\n",
    "    'Reuse this content',\n",
    "    'Share on LinkedIn',\n",
    "    'Share on Pinterest' ,\n",
    "    'Share on Google+',\n",
    "    'Listen /',\n",
    "    '– Politics Weekly',\n",
    "    'Sorry your browser does not support audio',\n",
    "    'https://flex.acast.com',\n",
    "    '|',\n",
    "    'Share on Facebook',\n",
    "    'Share on Twitter',\n",
    "    'Share via Email',\n",
    "    'Sign up to receive',\n",
    "    'This article is part of a series',\n",
    "    'Follow Guardian',\n",
    "    'Twitter, Facebook and Instagram',\n",
    "    'UK news news',\n",
    "    'Click here to upload it',\n",
    "    'Do you have a photo',\n",
    "    'Listen /',\n",
    "    'Email View',\n",
    "    'Read more Guardian',\n",
    "    'This series is',\n",
    "    'Readers can recommend ',\n",
    "    'UK news news',\n",
    "    'Join the debate',\n",
    "    'guardian.letters@theguardian.com',\n",
    "    'More information',\n",
    "    'Close',\n",
    "    'All our journalism is independent',\n",
    "    'is delivered to thousands of inboxes every weekday',\n",
    "    'with today’s essential stories',\n",
    "    'Newsflash:',\n",
    "    'You can read terms of service here',\n",
    "    'Guardian rating:',\n",
    "    'By clicking on an affiliate link',\n",
    "    'morning briefing news',\n",
    "    'Analysis:',\n",
    "    'Good morning, and welcome to our rolling coverage',\n",
    "    'South and Central Asia news',\n",
    "    'f you have a direct question',\n",
    "    'sign up to the',\n",
    "    'You can read terms of service here.',\n",
    "    'If you want to attract my attention quickly, it is probably better to use Twitter.',\n",
    "    'UK news',\n",
    "]\n",
    "\n",
    "to_filter = list(map(lambda x: x.lower(), to_filter))\n",
    "def split_sents(a, perform_filter=True):\n",
    "    if perform_filter:\n",
    "        a = filter_lines(a)\n",
    "    a = a.replace('</p>', ' ').replace('<p>', ' ')\n",
    "    a = ' '.join(a.split())\n",
    "    doc = nlp(a)\n",
    "    return list(map(lambda x: x.text, doc.sents))\n",
    "\n",
    "def filter_lines(a):\n",
    "    pars = a.split('</p>')\n",
    "    output = []\n",
    "    for p in pars:\n",
    "        if not any(map(lambda x: x in p.lower(), to_filter)):\n",
    "            output.append(p)\n",
    "    return '</p>'.join(output)"
   ]
  },
  {
   "cell_type": "markdown",
   "metadata": {},
   "source": [
    "## Filter out common phrases"
   ]
  },
  {
   "cell_type": "code",
   "execution_count": 186,
   "metadata": {},
   "outputs": [],
   "source": [
    "from collections import defaultdict\n",
    "from tqdm.auto import tqdm"
   ]
  },
  {
   "cell_type": "code",
   "execution_count": 190,
   "metadata": {},
   "outputs": [
    {
     "data": {
      "application/vnd.jupyter.widget-view+json": {
       "model_id": "004fb24e0002443ba179429c7599f006",
       "version_major": 2,
       "version_minor": 0
      },
      "text/plain": [
       "  0%|          | 0/2000 [00:00<?, ?it/s]"
      ]
     },
     "metadata": {},
     "output_type": "display_data"
    }
   ],
   "source": [
    "sentence_counts = defaultdict(int)\n",
    "guardian_articles = article_df.loc[lambda df: df['source'] == 'guardian']['text'].sample(2000)\n",
    "for idx, a in tqdm(enumerate(guardian_articles), total=len(guardian_articles)):\n",
    "    sents = split_sents(a, perform_filter=True)\n",
    "    for s in sents:\n",
    "        if idx < 500:\n",
    "            sentence_counts[s] += 1\n",
    "        if idx > 500:\n",
    "            if s in sentence_counts:\n",
    "                sentence_counts[s] += 1"
   ]
  },
  {
   "cell_type": "markdown",
   "metadata": {},
   "source": [
    "# Sentence-Level Diff Styling"
   ]
  },
  {
   "cell_type": "code",
   "execution_count": 159,
   "metadata": {},
   "outputs": [],
   "source": [
    "a1_sents = split_sents(a1)\n",
    "a2_sents = split_sents(a2)"
   ]
  },
  {
   "cell_type": "code",
   "execution_count": 224,
   "metadata": {},
   "outputs": [],
   "source": [
    "vars_old = []\n",
    "vars_new = []\n",
    "\n",
    "\n",
    "diffs = list(difflib.ndiff(a1_sents, a2_sents))\n",
    "in_question = False\n",
    "for idx, sent in enumerate(diffs):\n",
    "    label, text = sent[0], sent[2:]\n",
    "    if label == '?':\n",
    "        continue\n",
    "    \n",
    "    elif label == '-':\n",
    "        vars_old.append({\n",
    "            'text': text,\n",
    "            'tag': '-'\n",
    "        })\n",
    "        if (idx < len(diffs)):\n",
    "            if diffs[idx + 1][0] == '?':\n",
    "                in_question = True\n",
    "            else:\n",
    "                vars_new.append({\n",
    "                    'text': '',\n",
    "                    'tag': ' '                    \n",
    "                })\n",
    "    \n",
    "    elif label == '+':\n",
    "        vars_new.append({\n",
    "            'text': text,\n",
    "            'tag': '+'\n",
    "        })\n",
    "        if in_question:\n",
    "            in_question = False\n",
    "        else:\n",
    "            vars_old.append({\n",
    "                'text':'',\n",
    "                'tag': ' '\n",
    "            })\n",
    "    \n",
    "    else:\n",
    "        vars_old.append({\n",
    "            'text': text,\n",
    "            'tag': ' '\n",
    "        })\n",
    "        vars_new.append({\n",
    "            'text': text,\n",
    "            'tag': ' '\n",
    "        })"
   ]
  },
  {
   "cell_type": "code",
   "execution_count": 240,
   "metadata": {},
   "outputs": [],
   "source": [
    "html = [\n",
    "    '<table>',\n",
    "    '<tr><th>Old Version</th><th>New Version</th></tr>'\n",
    "]\n",
    "\n",
    "for s_old, s_new in zip(vars_old, vars_new):\n",
    "    row = '<tr>'\n",
    "    if s_old['tag'] == '-':\n",
    "        row += '<td style=\"background-color:rgba(255,0,0,0.3)\">' + s_old['text'] + '</td>'\n",
    "    else:\n",
    "        row += '<td>' + s_old['text'] + '</td>'\n",
    "    if s_new['tag'] == '+':\n",
    "        row += '<td style=\"background-color:rgba(0,255,0,0.3)\">' + s_new['text'] + '</td>'\n",
    "    else:\n",
    "        row += '<td>' + s_new['text'] + '</td>'\n",
    "    row += '</tr>'\n",
    "    html.append(row)\n",
    "html.append('</table>')"
   ]
  },
  {
   "cell_type": "code",
   "execution_count": 241,
   "metadata": {},
   "outputs": [],
   "source": [
    "from IPython.display import display, HTML"
   ]
  },
  {
   "cell_type": "code",
   "execution_count": 242,
   "metadata": {
    "scrolled": true
   },
   "outputs": [
    {
     "data": {
      "text/html": [
       "<table>\n",
       "<tr><th>Old Version</th><th>New Version</th></tr>\n",
       "<tr><td>The Windrush scandal exposed by the Guardian has led to significant changes in the immigration system.</td><td>The Windrush scandal exposed by the Guardian has led to significant changes in the immigration system.</td></tr>\n",
       "<tr><td>Members of the Windrush generation, who arrived in the UK from 1948 onwards, as well as their children, have been wrongly targeted by the government’s “hostile environment” policies designed to deter illegal immigrants.</td><td>Members of the Windrush generation, who arrived in the UK from 1948 onwards, as well as their children, have been wrongly targeted by the government’s “hostile environment” policies designed to deter illegal immigrants.</td></tr>\n",
       "<tr><td>Some of those caught up have been forced out of work as a result, in some cases for years, and left unable to claim welfare support, while others have been wrongfully detained or even deported.</td><td>Some of those caught up have been forced out of work as a result, in some cases for years, and left unable to claim welfare support, while others have been wrongfully detained or even deported.</td></tr>\n",
       "<tr><td>Here we take a look at some of the key changes and support that have been offered.</td><td>Here we take a look at some of the key changes and support that have been offered.</td></tr>\n",
       "<tr><td>Citizenship The Windrush taskforce was set up on 18 April after the Guardian’s initial reporting.</td><td>Citizenship The Windrush taskforce was set up on 18 April after the Guardian’s initial reporting.</td></tr>\n",
       "<tr><td>As of Thursday, a helpline had received more than 13,000 calls with more than 5,000 identified as potential Windrush cases.</td><td>As of Thursday, a helpline had received more than 13,000 calls with more than 5,000 identified as potential Windrush cases.</td></tr>\n",
       "<tr><td>More than 850 people have received crucial documentation following appointments with the team.</td><td>More than 850 people have received crucial documentation following appointments with the team.</td></tr>\n",
       "<tr><td>This will help them confirm their right to be in the UK.</td><td>This will help them confirm their right to be in the UK.</td></tr>\n",
       "<tr><td>Compensation</td><td>Compensation</td></tr>\n",
       "<tr><td>The government committed to launching a compensation scheme for the potentially thousands of people caught up in the scandal.</td><td>The government committed to launching a compensation scheme for the potentially thousands of people caught up in the scandal.</td></tr>\n",
       "<tr><td>Lawyers have begun preparing group compensation claims on behalf of members of the Windrush generation.</td><td>Lawyers have begun preparing group compensation claims on behalf of members of the Windrush generation.</td></tr>\n",
       "<tr><td>The process is expected to take considerable time after the government called for Windrush citizens and their families to come forward with their personal stories while it draws up details of the scheme.</td><td>The process is expected to take considerable time after the government called for Windrush citizens and their families to come forward with their personal stories while it draws up details of the scheme.</td></tr>\n",
       "<tr><td>Martin Forde QC, a lawyer specialising in health cases and himself the son of Windrush parents, had been appointed to oversee the design of the scheme.</td><td>Martin Forde QC, a lawyer specialising in health cases and himself the son of Windrush parents, had been appointed to oversee the design of the scheme.</td></tr>\n",
       "<tr><td>NHS data sharing This month, ministers suspended arrangements under which the NHS shared patients’ details with the Home Office so it could trace people breaking immigration rules.</td><td>NHS data sharing This month, ministers suspended arrangements under which the NHS shared patients’ details with the Home Office so it could trace people breaking immigration rules.</td></tr>\n",
       "<tr><td>It was the first U-turn on a key element of the “hostile environment” approach to immigration and came after MPs, doctors’ groups and health charities warned that the practice was causing some patients to avoid seeking NHS care for medical problems.</td><td>It was the first U-turn on a key element of the “hostile environment” approach to immigration and came after MPs, doctors’ groups and health charities warned that the practice was causing some patients to avoid seeking NHS care for medical problems.</td></tr>\n",
       "<tr><td>In November last year, Paulette Wilson (left), who has lived in the UK for more than half a century, spoke to the Guardian's Amelia Gentleman about her treatment at the hands of the Home Office - and revealed that she had been held at Yarl’s Wood detention centre and threatened with deportation.</td><td>In November last year, Paulette Wilson (left), who has lived in the UK for more than half a century, spoke to the Guardian's Amelia Gentleman about her treatment at the hands of the Home Office - and revealed that she had been held at Yarl’s Wood detention centre and threatened with deportation.</td></tr>\n",
       "<tr><td>It was the first of a series of stories that developed a picture of how many members of the Windrush generation were being mistreated by the government under the so-called ‘hostile environment’ policy.</td><td>It was the first of a series of stories that developed a picture of how many members of the Windrush generation were being mistreated by the government under the so-called ‘hostile environment’ policy.</td></tr>\n",
       "<tr><td>By February, with other examples mounting, the government had relented in Wilson’s case, but faced acute criticism from Caribbean diplomats who urged the Home Office to adopt a “more compassionate” approach.</td><td>By February, with other examples mounting, the government had relented in Wilson’s case, but faced acute criticism from Caribbean diplomats who urged the Home Office to adopt a “more compassionate” approach.</td></tr>\n",
       "<tr><td>In March the story of Albert Thompson - who had lived in Britain for 44 years but was told to produce a passport or face a bill of £54,000 for cancer treatment - forced attention back to the growing crisis.</td><td>In March the story of Albert Thompson - who had lived in Britain for 44 years but was told to produce a passport or face a bill of £54,000 for cancer treatment - forced attention back to the growing crisis.</td></tr>\n",
       "<tr><td>After the Guardian reported a string of additional cases matters came to a head when Theresa May refused to meet with Caribbean diplomats to discuss the issue, prompted fury among opposition MPs and a wider media backlash.</td><td>After the Guardian reported a string of additional cases matters came to a head when Theresa May refused to meet with Caribbean diplomats to discuss the issue, prompted fury among opposition MPs and a wider media backlash.</td></tr>\n",
       "<tr><td>After days of negative publicity, the then home secretary, Amber Rudd, and May were forced to change tack and issued apologies, promised reforms – and eventually gave the Windrush generation a fast-track to citizenship.</td><td>After days of negative publicity, the then home secretary, Amber Rudd, and May were forced to change tack and issued apologies, promised reforms – and eventually gave the Windrush generation a fast-track to citizenship.</td></tr>\n",
       "<tr><td>The government suspended “with immediate effect” a memorandum of understanding under which NHS Digital, the health service’s statistical arm, shared 3,000 NHS patients’ details with the Home Office last year</td><td>The government suspended “with immediate effect” a memorandum of understanding under which NHS Digital, the health service’s statistical arm, shared 3,000 NHS patients’ details with the Home Office last year</td></tr>\n",
       "<tr><td>so t people’s immigration status could be checked.</td><td>so t people’s immigration status could be checked.</td></tr>\n",
       "<tr><td>In future, Home Office immigration staff will only be able to use the data-sharing mechanism to trace people who are being considered for deportation from Britain because they have committed a serious crime.</td><td>In future, Home Office immigration staff will only be able to use the data-sharing mechanism to trace people who are being considered for deportation from Britain because they have committed a serious crime.</td></tr>\n",
       "<tr><td>Bank checks</td><td>Bank checks</td></tr>\n",
       "<tr><td>The Home Office revealed it was to suspend controversial immigration checks on thousands of bank accounts which were another plank of the government’s hostile environment policy.</td><td>The Home Office revealed it was to suspend controversial immigration checks on thousands of bank accounts which were another plank of the government’s hostile environment policy.</td></tr>\n",
       "<tr><td>The department said it was in the process of contacting banks and building societies to instruct them to reduce the scope of the checks.</td><td>The department said it was in the process of contacting banks and building societies to instruct them to reduce the scope of the checks.</td></tr>\n",
       "<tr><td>Banks had been required since January to conduct quarterly checks on 70m UK current accounts.</td><td>Banks had been required since January to conduct quarterly checks on 70m UK current accounts.</td></tr>\n",
       "<tr><td>If an account was suspected to belong to an illegal immigrant, the Home Office would review it before instructing the bank to take action, such as shutting it down.</td><td>If an account was suspected to belong to an illegal immigrant, the Home Office would review it before instructing the bank to take action, such as shutting it down.</td></tr>\n",
       "<tr><td>Highly skilled migrants</td><td>Highly skilled migrants</td></tr>\n",
       "<tr><td style=\"background-color:rgba(255,0,0,0.3)\">This week, it emerged the government was to stop deporting people under a complex immigration rule designed to tackle terrorism, pending a review.</td><td style=\"background-color:rgba(0,255,0,0.3)\">This week, it emerged the government was to stop trying to expel people through use of a complex immigration rule designed to tackle terrorism, pending a review.</td></tr>\n",
       "<tr><td style=\"background-color:rgba(255,0,0,0.3)\">A review of section 322(5) of the Immigration Act was announced by the home secretary, Sajid Javid, in a letter to the home affairs select committee.</td><td style=\"background-color:rgba(0,255,0,0.3)\">A review of paragraph 322(5) of the immigration rules was announced by the home secretary, Sajid Javid, in a letter to the home affairs select committee.</td></tr>\n",
       "<tr><td style=\"background-color:rgba(255,0,0,0.3)\">At least 1,000 highly skilled migrants seeking indefinite leave to remain in the UK are facing deportation under the legislation.</td><td style=\"background-color:rgba(0,255,0,0.3)\">At least 1,000 highly skilled migrants seeking indefinite leave to remain in the UK are facing expulsion under the legislation.</td></tr>\n",
       "<tr><td>High-tax paying applicants, including teachers, doctors, lawyers, engineers and IT professionals, have been refused indefinite leave to remain after being accused of lying in their applications because they made minor – and legal – amendments to their tax records.</td><td>High-tax paying applicants, including teachers, doctors, lawyers, engineers and IT professionals, have been refused indefinite leave to remain after being accused of lying in their applications because they made minor – and legal – amendments to their tax records.</td></tr>\n",
       "<tr><td></td><td style=\"background-color:rgba(0,255,0,0.3)\">•</td></tr>\n",
       "<tr><td></td><td style=\"background-color:rgba(0,255,0,0.3)\">This article was amended on 5 June 2018.</td></tr>\n",
       "<tr><td></td><td style=\"background-color:rgba(0,255,0,0.3)\">An earlier version referred to paragraph 322(5) of the immigration rules as “section 322(5) of the Immigration Act”, and also said the British government was using this provision to deport people.</td></tr>\n",
       "<tr><td></td><td style=\"background-color:rgba(0,255,0,0.3)\">Deportation has not been among the measures used in these cases.</td></tr>\n",
       "<tr><td>Immigration and asylum Commonwealth of Nations Commonwealth immigration news</td><td>Immigration and asylum Commonwealth of Nations Commonwealth immigration news</td></tr>\n",
       "</table>"
      ],
      "text/plain": [
       "<IPython.core.display.HTML object>"
      ]
     },
     "metadata": {},
     "output_type": "display_data"
    }
   ],
   "source": [
    "display(HTML('\\n'.join(html)))"
   ]
  },
  {
   "cell_type": "code",
   "execution_count": null,
   "metadata": {},
   "outputs": [],
   "source": []
  },
  {
   "cell_type": "code",
   "execution_count": null,
   "metadata": {},
   "outputs": [],
   "source": []
  },
  {
   "cell_type": "code",
   "execution_count": null,
   "metadata": {},
   "outputs": [],
   "source": []
  },
  {
   "cell_type": "code",
   "execution_count": null,
   "metadata": {},
   "outputs": [],
   "source": []
  },
  {
   "cell_type": "code",
   "execution_count": null,
   "metadata": {},
   "outputs": [],
   "source": []
  },
  {
   "cell_type": "code",
   "execution_count": null,
   "metadata": {},
   "outputs": [],
   "source": []
  },
  {
   "cell_type": "code",
   "execution_count": null,
   "metadata": {},
   "outputs": [],
   "source": []
  }
 ],
 "metadata": {
  "hide_input": false,
  "kernelspec": {
   "display_name": "Python 3",
   "language": "python",
   "name": "python3"
  },
  "language_info": {
   "codemirror_mode": {
    "name": "ipython",
    "version": 3
   },
   "file_extension": ".py",
   "mimetype": "text/x-python",
   "name": "python",
   "nbconvert_exporter": "python",
   "pygments_lexer": "ipython3",
   "version": "3.7.6"
  }
 },
 "nbformat": 4,
 "nbformat_minor": 4
}
