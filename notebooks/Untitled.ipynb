{
 "cells": [
  {
   "cell_type": "code",
   "execution_count": 1,
   "id": "3562d73d-4d31-4dc1-bd61-0ebe06fbc891",
   "metadata": {},
   "outputs": [],
   "source": [
    "import pandas as pd "
   ]
  },
  {
   "cell_type": "code",
   "execution_count": 2,
   "id": "a618b937-3a0e-47b3-930f-227cad31cf90",
   "metadata": {},
   "outputs": [
    {
     "name": "stdout",
     "output_type": "stream",
     "text": [
      "2020-03-17__monitor-and-download-gcloud.ipynb\n",
      "2020-05-19__combine-files-from-s3.ipynb\n",
      "2021-01-06__explore-diffengine-diffs.html\n",
      "2021-01-06__explore-diffengine-diffs.ipynb\n",
      "2021-01-12__scrape-newssniffer.ipynb\n",
      "2021-01-14__scrapy-tests.ipynb\n",
      "2021-01-15__explore-newssniffer-diffs.ipynb\n",
      "2021-01-17__pyspark.ipynb\n",
      "2021-02-17__diffengine-and-newssniffer.ipynb\n",
      "2021-03-02__fix-sentence-parsing-errors.ipynb\n",
      "2021-03-09__pyspark.ipynb\n",
      "2021-03-17__amber-ke-tr-project.ipynb\n",
      "2021-04-06__sheena-headline-diffs.ipynb\n",
      "2021-04-10__pyspark-from-ground-up.ipynb\n",
      "2021-04-11_spark-nlp.ipynb\n",
      "2021-05-02__analyze-sparkjob-results.ipynb\n",
      "2021-05-03__headline-notebook-for-sheena.ipynb\n",
      "2021-05-19__combine-files-from-s3.ipynb\n",
      "2021-06-08__analyse-spark-output-dbs.ipynb\n",
      "2021-09-14__prepare-data-for-annotation.ipynb\n",
      "2021-10-08__select-data-carol.ipynb\n",
      "2021-10-18__try-spark-nlp-udf.ipynb\n",
      "2021-10-24__anaylze-mturk-output.ipynb\n",
      "2021-10-29__baseline-models-for-edit-actions.ipynb\n",
      "Untitled.ipynb\n",
      "ap-matched-sentences.db\n",
      "bbc-2-matched-sentences.db\n",
      "doc-data-ap.csv\n",
      "doc-data-bbc.csv\n",
      "doc-data-nyt.csv\n",
      "guardian-matched-sentences.db\n",
      "nyt-matched-sentences.db\n",
      "sentence-data-ap.csv\n",
      "sentence-data-bbc.csv\n",
      "sentence-data-nyt.csv\n"
     ]
    }
   ],
   "source": [
    "ls "
   ]
  },
  {
   "cell_type": "code",
   "execution_count": null,
   "id": "f4001122-8283-4f61-b856-fe393fb771da",
   "metadata": {},
   "outputs": [],
   "source": []
  },
  {
   "cell_type": "code",
   "execution_count": null,
   "id": "5b99947e-86d4-4ba1-9cb7-298083f86193",
   "metadata": {},
   "outputs": [],
   "source": []
  },
  {
   "cell_type": "code",
   "execution_count": null,
   "id": "1c451f86-e6f9-47cb-a096-69a95e8a2f64",
   "metadata": {},
   "outputs": [],
   "source": []
  }
 ],
 "metadata": {
  "kernelspec": {
   "display_name": "Python 3",
   "language": "python",
   "name": "python3"
  },
  "language_info": {
   "codemirror_mode": {
    "name": "ipython",
    "version": 3
   },
   "file_extension": ".py",
   "mimetype": "text/x-python",
   "name": "python",
   "nbconvert_exporter": "python",
   "pygments_lexer": "ipython3",
   "version": "3.7.11"
  }
 },
 "nbformat": 4,
 "nbformat_minor": 5
}
