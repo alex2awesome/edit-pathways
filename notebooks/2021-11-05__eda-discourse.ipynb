{
 "cells": [
  {
   "cell_type": "code",
   "execution_count": 1,
   "metadata": {},
   "outputs": [],
   "source": [
    "import glob\n",
    "import pandas as pd \n",
    "import sqlite3\n",
    "import os\n",
    "import numpy  as np "
   ]
  },
  {
   "cell_type": "markdown",
   "metadata": {},
   "source": [
    "# Prepare Data for Processing"
   ]
  },
  {
   "cell_type": "code",
   "execution_count": 2,
   "metadata": {},
   "outputs": [],
   "source": [
    "if False:\n",
    "    pd.read_sql('''SELECT \n",
    "                        name\n",
    "                    FROM \n",
    "                        sqlite_master \n",
    "                    WHERE \n",
    "                        type ='table' AND \n",
    "                        name NOT LIKE 'sqlite_%';\n",
    "    ''', con=conn)"
   ]
  },
  {
   "cell_type": "code",
   "execution_count": 81,
   "metadata": {},
   "outputs": [
    {
     "ename": "NameError",
     "evalue": "name 'glob' is not defined",
     "output_type": "error",
     "traceback": [
      "\u001b[0;31m---------------------------------------------------------------------------\u001b[0m",
      "\u001b[0;31mNameError\u001b[0m                                 Traceback (most recent call last)",
      "\u001b[0;32m<ipython-input-81-d4624e18f939>\u001b[0m in \u001b[0;36m<module>\u001b[0;34m\u001b[0m\n\u001b[0;32m----> 1\u001b[0;31m \u001b[0mglob\u001b[0m\u001b[0;34m.\u001b[0m\u001b[0mglob\u001b[0m\u001b[0;34m(\u001b[0m\u001b[0;34m'../data/diffengine-diffs/spark-output/*'\u001b[0m\u001b[0;34m)\u001b[0m\u001b[0;34m\u001b[0m\u001b[0;34m\u001b[0m\u001b[0m\n\u001b[0m",
      "\u001b[0;31mNameError\u001b[0m: name 'glob' is not defined"
     ]
    }
   ],
   "source": [
    "glob.glob('../data/diffengine-diffs/spark-output/*')"
   ]
  },
  {
   "cell_type": "code",
   "execution_count": 82,
   "metadata": {},
   "outputs": [],
   "source": [
    "to_run = [\n",
    " '../data/diffengine-diffs/spark-output/nyt-matched-sentences.db.gz',\n",
    " '../data/diffengine-diffs/spark-output/ap-matched-sentences.db.gz',\n",
    " '../data/diffengine-diffs/spark-output/independent-matched-sentences.db.gz',\n",
    " '../data/diffengine-diffs/spark-output/bbc-2-matched-sentences.db.gz',\n",
    " '../data/diffengine-diffs/spark-output/reuters-matched-sentences.db.gz',\n",
    " '../data/diffengine-diffs/spark-output/guardian-matched-sentences.db.gz',\n",
    " '../data/diffengine-diffs/spark-output/wp-matched-sentences.db.gz'\n",
    "]"
   ]
  },
  {
   "cell_type": "code",
   "execution_count": 19,
   "metadata": {},
   "outputs": [],
   "source": [
    "def get_sentence_dfs(conn):\n",
    "    print('getting counts...')\n",
    "    version_counts = pd.read_sql('''\n",
    "        SELECT entry_id, \n",
    "            CAST(version as INT) as version, \n",
    "            COUNT(1) as c from split_sentences \n",
    "            GROUP BY entry_id, version\n",
    "    ''', con=conn)\n",
    "\n",
    "    print('getting sentences with additions...')\n",
    "    versions_with_additions = pd.read_sql('''\n",
    "        with c1 as (\n",
    "            SELECT \n",
    "                entry_id,\n",
    "                CAST(version_x as INT) as version_x, \n",
    "                CAST(version_y as INT) as version_y,\n",
    "                SUM(sent_idx_x IS NULL) as num_additions\n",
    "            FROM matched_sentences\n",
    "            GROUP BY entry_id, version_x, version_y\n",
    "        )\n",
    "        SELECT DISTINCT entry_id, version_x, version_y FROM c1 WHERE num_additions > 0\n",
    "    ''', con=conn)\n",
    "\n",
    "    versions_with_updates = (\n",
    "        version_counts\n",
    "         .merge(\n",
    "             versions_with_additions, \n",
    "             left_on=['entry_id', 'version'],\n",
    "             right_on=['entry_id', 'version_x']\n",
    "         )\n",
    "         .drop('version', axis=1)\n",
    "    )\n",
    "\n",
    "    count_weights = (\n",
    "        versions_with_updates\n",
    "             .loc[lambda df: df['c'] < 100]\n",
    "             ['c']\n",
    "             .pipe(lambda s: pd.cut(s, np.arange(0, 100, 5)))\n",
    "             .value_counts()\n",
    "             .pipe(lambda df: 1/df)\n",
    "    )\n",
    "\n",
    "    keys_to_get = (\n",
    "        versions_with_updates\n",
    "         .assign(c_bin=lambda df: df['c'].pipe(lambda s: pd.cut(s, np.arange(0, 100, 5))))\n",
    "         .merge(count_weights.to_frame(), right_index=True, left_on='c_bin')\n",
    "         .pipe(lambda df: df.sample(n=15000, weights=df['c_y']))\n",
    "         .set_index('entry_id')[['version_x', 'version_y']]\n",
    "         .unstack().to_frame('version')\n",
    "         .reset_index().drop('level_0',axis=1)\n",
    "         .drop_duplicates()\n",
    "         .dropna()\n",
    "         .apply(lambda x: '%s-%s' % (x['entry_id'], x['version']), axis=1)\n",
    "         .tolist()\n",
    "    )\n",
    "\n",
    "    joint_keys = \"'%s'\" % \"', '\".join(keys_to_get)\n",
    "\n",
    "    print('getting split sentences...')\n",
    "    split_sentences = pd.read_sql('''\n",
    "        with c1 AS (\n",
    "            SELECT *, entry_id || '-' || CAST(version AS INT) as key FROM split_sentences\n",
    "        )\n",
    "        SELECT entry_id, CAST(version AS INT) as version, sent_idx, sentence \n",
    "        FROM c1\n",
    "        WHERE key IN (%s)\n",
    "    ''' % joint_keys, con=conn)\n",
    "\n",
    "    # return \n",
    "    return split_sentences"
   ]
  },
  {
   "cell_type": "code",
   "execution_count": 114,
   "metadata": {},
   "outputs": [],
   "source": [
    "t = get_sentence_dfs(conn)"
   ]
  },
  {
   "cell_type": "code",
   "execution_count": 6,
   "metadata": {},
   "outputs": [],
   "source": [
    "all_dfs = []"
   ]
  },
  {
   "cell_type": "code",
   "execution_count": 30,
   "metadata": {
    "scrolled": true
   },
   "outputs": [
    {
     "name": "stdout",
     "output_type": "stream",
     "text": [
      "../data/diffengine-diffs/spark-output/wp-matched-sentences.db.gz\n",
      "getting counts...\n",
      "getting sentences with additions...\n",
      "getting split sentences...\n",
      "FETCHED RECORDS:\n",
      "(1064672, 5)\n",
      "../data/diffengine-diffs/spark-output/independent-matched-sentences.db.gz\n",
      "getting counts...\n",
      "getting sentences with additions...\n",
      "getting split sentences...\n",
      "FETCHED RECORDS:\n",
      "(735716, 5)\n",
      "../data/diffengine-diffs/spark-output/bbc-2-matched-sentences.db.gz\n",
      "getting counts...\n",
      "getting sentences with additions...\n",
      "getting split sentences...\n",
      "FETCHED RECORDS:\n",
      "(1064226, 5)\n",
      "../data/diffengine-diffs/spark-output/reuters-matched-sentences.db.gz\n",
      "getting counts...\n",
      "getting sentences with additions...\n",
      "getting split sentences...\n",
      "FETCHED RECORDS:\n",
      "(735441, 5)\n",
      "../data/diffengine-diffs/spark-output/guardian-matched-sentences.db.gz\n",
      "getting counts...\n",
      "getting sentences with additions...\n",
      "getting split sentences...\n",
      "FETCHED RECORDS:\n",
      "(1427344, 5)\n"
     ]
    }
   ],
   "source": [
    "for f in to_run[2:]:\n",
    "    print(f)\n",
    "    if f.endswith('.gz') and os.path.exists(f):\n",
    "        ! gunzip -f $f\n",
    "    \n",
    "    f = f.replace('.gz', '')\n",
    "\n",
    "    conn = sqlite3.connect(f)\n",
    "    df = get_sentence_dfs(conn)\n",
    "    df['source'] = f.split('/')[-1].split('-')[0]\n",
    "    print('FETCHED RECORDS:')\n",
    "    print(df.shape)\n",
    "    all_dfs.append(df)\n",
    "    !gzip $f"
   ]
  },
  {
   "cell_type": "code",
   "execution_count": 31,
   "metadata": {},
   "outputs": [],
   "source": [
    "full_df = pd.concat(all_dfs)"
   ]
  },
  {
   "cell_type": "code",
   "execution_count": 34,
   "metadata": {},
   "outputs": [
    {
     "data": {
      "text/plain": [
       "(7239663, 5)"
      ]
     },
     "execution_count": 34,
     "metadata": {},
     "output_type": "execute_result"
    }
   ],
   "source": [
    "full_df.shape "
   ]
  },
  {
   "cell_type": "code",
   "execution_count": 36,
   "metadata": {},
   "outputs": [],
   "source": [
    "full_df.to_csv('../modeling/sentence-df-for-discourse-modeling.csv')"
   ]
  },
  {
   "cell_type": "code",
   "execution_count": 63,
   "metadata": {},
   "outputs": [],
   "source": [
    "for i, sents in (full_df.head(100)\n",
    " .groupby(['source', 'entry_id', 'version'])\n",
    " .apply(lambda df: df.sort_values('sent_idx')['sentence'].tolist())\n",
    ").iteritems():\n",
    "    i, sents"
   ]
  },
  {
   "cell_type": "code",
   "execution_count": 64,
   "metadata": {},
   "outputs": [
    {
     "data": {
      "text/plain": [
       "('nyt', 1870586, 10)"
      ]
     },
     "execution_count": 64,
     "metadata": {},
     "output_type": "execute_result"
    }
   ],
   "source": [
    "i"
   ]
  },
  {
   "cell_type": "code",
   "execution_count": 65,
   "metadata": {},
   "outputs": [
    {
     "data": {
      "text/html": [
       "<div>\n",
       "<style scoped>\n",
       "    .dataframe tbody tr th:only-of-type {\n",
       "        vertical-align: middle;\n",
       "    }\n",
       "\n",
       "    .dataframe tbody tr th {\n",
       "        vertical-align: top;\n",
       "    }\n",
       "\n",
       "    .dataframe thead th {\n",
       "        text-align: right;\n",
       "    }\n",
       "</style>\n",
       "<table border=\"1\" class=\"dataframe\">\n",
       "  <thead>\n",
       "    <tr style=\"text-align: right;\">\n",
       "      <th></th>\n",
       "      <th>entry_id</th>\n",
       "      <th>version</th>\n",
       "      <th>sent_idx</th>\n",
       "      <th>sentence</th>\n",
       "      <th>source</th>\n",
       "    </tr>\n",
       "  </thead>\n",
       "  <tbody>\n",
       "    <tr>\n",
       "      <th>0</th>\n",
       "      <td>1819591</td>\n",
       "      <td>1</td>\n",
       "      <td>0</td>\n",
       "      <td>HONG KONG — The protests that have shaken Hong...</td>\n",
       "      <td>nyt</td>\n",
       "    </tr>\n",
       "    <tr>\n",
       "      <th>1</th>\n",
       "      <td>1819591</td>\n",
       "      <td>1</td>\n",
       "      <td>1</td>\n",
       "      <td>Since then, they have become a  broader moveme...</td>\n",
       "      <td>nyt</td>\n",
       "    </tr>\n",
       "    <tr>\n",
       "      <th>2</th>\n",
       "      <td>1819591</td>\n",
       "      <td>1</td>\n",
       "      <td>2</td>\n",
       "      <td>Over the course of several weeks, violent clas...</td>\n",
       "      <td>nyt</td>\n",
       "    </tr>\n",
       "    <tr>\n",
       "      <th>3</th>\n",
       "      <td>1819591</td>\n",
       "      <td>1</td>\n",
       "      <td>3</td>\n",
       "      <td>Activists have stormed government offices, hal...</td>\n",
       "      <td>nyt</td>\n",
       "    </tr>\n",
       "    <tr>\n",
       "      <th>4</th>\n",
       "      <td>1819591</td>\n",
       "      <td>1</td>\n",
       "      <td>4</td>\n",
       "      <td>And the police’s use of force against demonstr...</td>\n",
       "      <td>nyt</td>\n",
       "    </tr>\n",
       "    <tr>\n",
       "      <th>...</th>\n",
       "      <td>...</td>\n",
       "      <td>...</td>\n",
       "      <td>...</td>\n",
       "      <td>...</td>\n",
       "      <td>...</td>\n",
       "    </tr>\n",
       "    <tr>\n",
       "      <th>1427339</th>\n",
       "      <td>1100535</td>\n",
       "      <td>10</td>\n",
       "      <td>102</td>\n",
       "      <td>“Both Donald and Marco got very personal and v...</td>\n",
       "      <td>guardian</td>\n",
       "    </tr>\n",
       "    <tr>\n",
       "      <th>1427340</th>\n",
       "      <td>1100535</td>\n",
       "      <td>10</td>\n",
       "      <td>103</td>\n",
       "      <td>I’m not going to do that.</td>\n",
       "      <td>guardian</td>\n",
       "    </tr>\n",
       "    <tr>\n",
       "      <th>1427341</th>\n",
       "      <td>1100535</td>\n",
       "      <td>10</td>\n",
       "      <td>104</td>\n",
       "      <td>I will happily praise Donald Trump and Marco R...</td>\n",
       "      <td>guardian</td>\n",
       "    </tr>\n",
       "    <tr>\n",
       "      <th>1427342</th>\n",
       "      <td>1100535</td>\n",
       "      <td>10</td>\n",
       "      <td>105</td>\n",
       "      <td>” Butter wouldn’t melt, and etc.</td>\n",
       "      <td>guardian</td>\n",
       "    </tr>\n",
       "    <tr>\n",
       "      <th>1427343</th>\n",
       "      <td>1100535</td>\n",
       "      <td>10</td>\n",
       "      <td>106</td>\n",
       "      <td>And Rubio and Trump are soft on immigration, h...</td>\n",
       "      <td>guardian</td>\n",
       "    </tr>\n",
       "  </tbody>\n",
       "</table>\n",
       "<p>7239663 rows × 5 columns</p>\n",
       "</div>"
      ],
      "text/plain": [
       "         entry_id  version  sent_idx  \\\n",
       "0         1819591        1         0   \n",
       "1         1819591        1         1   \n",
       "2         1819591        1         2   \n",
       "3         1819591        1         3   \n",
       "4         1819591        1         4   \n",
       "...           ...      ...       ...   \n",
       "1427339   1100535       10       102   \n",
       "1427340   1100535       10       103   \n",
       "1427341   1100535       10       104   \n",
       "1427342   1100535       10       105   \n",
       "1427343   1100535       10       106   \n",
       "\n",
       "                                                  sentence    source  \n",
       "0        HONG KONG — The protests that have shaken Hong...       nyt  \n",
       "1        Since then, they have become a  broader moveme...       nyt  \n",
       "2        Over the course of several weeks, violent clas...       nyt  \n",
       "3        Activists have stormed government offices, hal...       nyt  \n",
       "4        And the police’s use of force against demonstr...       nyt  \n",
       "...                                                    ...       ...  \n",
       "1427339  “Both Donald and Marco got very personal and v...  guardian  \n",
       "1427340                          I’m not going to do that.  guardian  \n",
       "1427341  I will happily praise Donald Trump and Marco R...  guardian  \n",
       "1427342                   ” Butter wouldn’t melt, and etc.  guardian  \n",
       "1427343  And Rubio and Trump are soft on immigration, h...  guardian  \n",
       "\n",
       "[7239663 rows x 5 columns]"
      ]
     },
     "execution_count": 65,
     "metadata": {},
     "output_type": "execute_result"
    }
   ],
   "source": [
    "full_df"
   ]
  },
  {
   "cell_type": "code",
   "execution_count": 46,
   "metadata": {},
   "outputs": [
    {
     "data": {
      "text/plain": [
       "<matplotlib.axes._subplots.AxesSubplot at 0x7f7ec2d24ed0>"
      ]
     },
     "execution_count": 46,
     "metadata": {},
     "output_type": "execute_result"
    },
    {
     "data": {
      "image/png": "[encoded data removed]",
      "text/plain": [
       "<Figure size 432x288 with 1 Axes>"
      ]
     },
     "metadata": {
      "needs_background": "light"
     },
     "output_type": "display_data"
    }
   ],
   "source": [
    "(full_df\n",
    " .set_index(['source', 'entry_id', 'version'])\n",
    " .assign(c=1)\n",
    " .groupby(level=[0,1,2])['c']\n",
    " .value_counts()\n",
    " .hist(range=(0,100), bins=50)\n",
    ")"
   ]
  },
  {
   "cell_type": "markdown",
   "metadata": {},
   "source": [
    "# Get and Interpret Data"
   ]
  },
  {
   "cell_type": "code",
   "execution_count": 173,
   "metadata": {},
   "outputs": [],
   "source": [
    "import pandas as pd \n",
    "import ast\n",
    "from collections import Counter\n",
    "def get_counts(x):\n",
    "    c = Counter()\n",
    "    c.update(x)\n",
    "    return dict(c)"
   ]
  },
  {
   "cell_type": "code",
   "execution_count": 168,
   "metadata": {},
   "outputs": [],
   "source": [
    "file_lines = open('../eda/edit_scores.txt').read().split('\\n')"
   ]
  },
  {
   "cell_type": "code",
   "execution_count": 169,
   "metadata": {},
   "outputs": [],
   "source": [
    "max_len = max(len(file_lines[1::2]), len(file_lines[::2]))\n",
    "data_df = pd.DataFrame([file_lines[:max_len*3:2], file_lines[1:max_len*3:2]]).T.dropna()\n",
    "data_df[0] = data_df[0].apply(ast.literal_eval)"
   ]
  },
  {
   "cell_type": "code",
   "execution_count": 170,
   "metadata": {},
   "outputs": [
    {
     "name": "stderr",
     "output_type": "stream",
     "text": [
      "/Users/alex/opt/anaconda3/lib/python3.7/site-packages/IPython/core/interactiveshell.py:3331: DtypeWarning: Columns (0,1,4,5) have mixed types.Specify dtype option on import or set low_memory=False.\n",
      "  exec(code_obj, self.user_global_ns, self.user_ns)\n"
     ]
    }
   ],
   "source": [
    "sentence_df = pd.read_csv('../modeling/data/sentence-df-for-discourse-modeling.csv', index_col=0)"
   ]
  },
  {
   "cell_type": "code",
   "execution_count": 172,
   "metadata": {},
   "outputs": [],
   "source": [
    "data_df = (\n",
    "    data_df\n",
    "        .assign(source=lambda df: df[0].str.get(0))\n",
    "        .assign(entry_id=lambda df: df[0].str.get(1))\n",
    "        .assign(version=lambda df: df[0].str.get(2))\n",
    "        .assign(tags = lambda df: df[1].apply(ast.literal_eval))\n",
    "        .assign(doc_len=lambda df: df['tags'].str.len())\n",
    ")"
   ]
  },
  {
   "cell_type": "code",
   "execution_count": 214,
   "metadata": {},
   "outputs": [
    {
     "data": {
      "text/html": [
       "<div>\n",
       "<style scoped>\n",
       "    .dataframe tbody tr th:only-of-type {\n",
       "        vertical-align: middle;\n",
       "    }\n",
       "\n",
       "    .dataframe tbody tr th {\n",
       "        vertical-align: top;\n",
       "    }\n",
       "\n",
       "    .dataframe thead th {\n",
       "        text-align: right;\n",
       "    }\n",
       "</style>\n",
       "<table border=\"1\" class=\"dataframe\">\n",
       "  <thead>\n",
       "    <tr style=\"text-align: right;\">\n",
       "      <th></th>\n",
       "      <th>doc_len</th>\n",
       "      <th>version</th>\n",
       "    </tr>\n",
       "  </thead>\n",
       "  <tbody>\n",
       "    <tr>\n",
       "      <th>doc_len</th>\n",
       "      <td>1.000000</td>\n",
       "      <td>0.335477</td>\n",
       "    </tr>\n",
       "    <tr>\n",
       "      <th>version</th>\n",
       "      <td>0.335477</td>\n",
       "      <td>1.000000</td>\n",
       "    </tr>\n",
       "  </tbody>\n",
       "</table>\n",
       "</div>"
      ],
      "text/plain": [
       "          doc_len   version\n",
       "doc_len  1.000000  0.335477\n",
       "version  0.335477  1.000000"
      ]
     },
     "execution_count": 214,
     "metadata": {},
     "output_type": "execute_result"
    }
   ],
   "source": [
    "data_df[['doc_len', 'version']].corr(method='spearman')"
   ]
  },
  {
   "cell_type": "code",
   "execution_count": 174,
   "metadata": {},
   "outputs": [],
   "source": [
    "tag_counts = (\n",
    "    data_df['tags']\n",
    "        .apply(get_counts)\n",
    "        .to_frame('counts')\n",
    "        .assign(Main=lambda df: df['counts'].str.get('Main'))\n",
    "        .assign(Distant=lambda df: df['counts'].str.get('Distant'))\n",
    "        .assign(Cause=lambda df: df['counts'].str.get('Cause'))\n",
    "        .drop('counts', axis=1).fillna(0)\n",
    "        .assign(doc_len=lambda df: df.sum(axis=1))\n",
    ")"
   ]
  },
  {
   "cell_type": "code",
   "execution_count": 56,
   "metadata": {},
   "outputs": [
    {
     "data": {
      "text/plain": [
       "<matplotlib.axes._subplots.AxesSubplot at 0x7f90e7756d10>"
      ]
     },
     "execution_count": 56,
     "metadata": {},
     "output_type": "execute_result"
    },
    {
     "data": {
      "image/png": "[encoded data removed]",
      "text/plain": [
       "<Figure size 432x288 with 1 Axes>"
      ]
     },
     "metadata": {
      "needs_background": "light"
     },
     "output_type": "display_data"
    }
   ],
   "source": [
    "tag_counts['doc_len'].hist(range=(0, 100), bins=50)"
   ]
  },
  {
   "cell_type": "code",
   "execution_count": 200,
   "metadata": {},
   "outputs": [],
   "source": [
    "tag_counts['doc_len_bin'] = tag_counts['doc_len'].pipe(lambda s: pd.cut(s, range(0,120,20), right=False))"
   ]
  },
  {
   "cell_type": "code",
   "execution_count": 71,
   "metadata": {},
   "outputs": [
    {
     "data": {
      "text/plain": [
       "<matplotlib.axes._subplots.AxesSubplot at 0x7f9117307890>"
      ]
     },
     "execution_count": 71,
     "metadata": {},
     "output_type": "execute_result"
    },
    {
     "data": {
      "image/png": "[encoded data removed]",
      "text/plain": [
       "<Figure size 432x288 with 1 Axes>"
      ]
     },
     "metadata": {
      "needs_background": "light"
     },
     "output_type": "display_data"
    }
   ],
   "source": [
    "tag_counts.groupby('doc_len_bin')[['Main', 'Distant', 'Cause']].mean().plot()"
   ]
  },
  {
   "cell_type": "code",
   "execution_count": 175,
   "metadata": {},
   "outputs": [],
   "source": [
    "full_data_df = pd.concat([data_df, tag_counts], axis=1)"
   ]
  },
  {
   "cell_type": "code",
   "execution_count": 176,
   "metadata": {},
   "outputs": [],
   "source": [
    "import ast\n",
    "import sqlite3\n",
    "import glob"
   ]
  },
  {
   "cell_type": "code",
   "execution_count": 177,
   "metadata": {},
   "outputs": [],
   "source": [
    "all_output = []\n",
    "for idx, labels in data_df.set_index(['source', 'entry_id', 'version'])[1].iteritems():\n",
    "    for s_idx, l in enumerate(ast.literal_eval(labels)):\n",
    "        all_output.append({\n",
    "            'source': idx[0],\n",
    "            'entry_id': idx[1],\n",
    "            'version': idx[2],\n",
    "            'sent_idx': s_idx,\n",
    "            'discourse_label': l\n",
    "        })"
   ]
  },
  {
   "cell_type": "code",
   "execution_count": 179,
   "metadata": {},
   "outputs": [],
   "source": [
    "discourse_sent_data_df = pd.DataFrame(all_output)"
   ]
  },
  {
   "cell_type": "code",
   "execution_count": null,
   "metadata": {},
   "outputs": [],
   "source": []
  },
  {
   "cell_type": "code",
   "execution_count": 180,
   "metadata": {},
   "outputs": [],
   "source": [
    "all_add_del_info = []"
   ]
  },
  {
   "cell_type": "code",
   "execution_count": 181,
   "metadata": {},
   "outputs": [],
   "source": [
    "to_run = glob.glob('../data/diffengine-diffs/spark-output/*')"
   ]
  },
  {
   "cell_type": "code",
   "execution_count": 182,
   "metadata": {},
   "outputs": [
    {
     "name": "stdout",
     "output_type": "stream",
     "text": [
      "../data/diffengine-diffs/spark-output/wp-matched-sentences.db\n",
      "../data/diffengine-diffs/spark-output/independent-matched-sentences.db\n",
      "../data/diffengine-diffs/spark-output/reuters-matched-sentences.db\n",
      "../data/diffengine-diffs/spark-output/guardian-matched-sentences.db\n",
      "../data/diffengine-diffs/spark-output/nyt-matched-sentences.db\n",
      "../data/diffengine-diffs/spark-output/bbc-2-matched-sentences.db\n",
      "../data/diffengine-diffs/spark-output/ap-matched-sentences.db\n"
     ]
    }
   ],
   "source": [
    "for f in to_run:\n",
    "    print(f)\n",
    "    if '.gz' in f:\n",
    "        ! gunzip $f\n",
    "    f = f.replace('.gz', '')\n",
    "    conn = sqlite3.connect(f)\n",
    "\n",
    "    add_del_info = pd.read_sql('''\n",
    "        with added as (\n",
    "                SELECT entry_id, \n",
    "                version_y as version, \n",
    "                sent_idx_y as sent_idx, \n",
    "                0 as is_deleted,\n",
    "                CAST((sent_idx_x IS NULL) AS INT) AS is_added\n",
    "            FROM matched_sentences\n",
    "                WHERE is_added = 1\n",
    "        ), deleted as (\n",
    "            SELECT entry_id, \n",
    "                version_x as version, \n",
    "                sent_idx_x as sent_idx,\n",
    "                CAST((sent_idx_y IS NULL) AS INT) AS is_deleted,\n",
    "                0 as is_added\n",
    "            FROM matched_sentences\n",
    "                WHERE is_deleted = 1\n",
    "        )\n",
    "        SELECT * from added\n",
    "        UNION ALL\n",
    "        SELECT * from deleted\n",
    "    ''', con=conn)\n",
    "    add_del_info['source'] = f.split('/')[-1].split('-')[0]\n",
    "    all_add_del_info.append(add_del_info)"
   ]
  },
  {
   "cell_type": "code",
   "execution_count": 183,
   "metadata": {},
   "outputs": [
    {
     "name": "stdout",
     "output_type": "stream",
     "text": [
      "../data/diffengine-diffs/spark-output/wp-matched-sentences.db\n",
      "../data/diffengine-diffs/spark-output/independent-matched-sentences.db\n",
      "../data/diffengine-diffs/spark-output/reuters-matched-sentences.db\n",
      "../data/diffengine-diffs/spark-output/guardian-matched-sentences.db\n",
      "../data/diffengine-diffs/spark-output/nyt-matched-sentences.db\n",
      "../data/diffengine-diffs/spark-output/bbc-2-matched-sentences.db\n",
      "../data/diffengine-diffs/spark-output/ap-matched-sentences.db\n"
     ]
    }
   ],
   "source": [
    "all_not_add_del = []\n",
    "for f in to_run:\n",
    "    print(f)\n",
    "    if '.gz' in f:\n",
    "        ! gunzip $f\n",
    "    f = f.replace('.gz', '')\n",
    "    conn = sqlite3.connect(f)\n",
    "\n",
    "    not_add_del = pd.read_sql('''\n",
    "        with x as (\n",
    "                SELECT entry_id, \n",
    "                version_y as version, \n",
    "                sent_idx_y as sent_idx, \n",
    "                0 as is_deleted,\n",
    "                CAST((sent_idx_x IS NULL) AS INT) AS is_added,\n",
    "                avg_sentence_distance_y <> 0 AS is_edited\n",
    "            FROM matched_sentences\n",
    "                WHERE is_added = 0 AND CAST(is_edited AS int) = 0\n",
    "                LIMIT 160000\n",
    "        ), y as (\n",
    "            SELECT entry_id, \n",
    "                version_x as version, \n",
    "                sent_idx_x as sent_idx,\n",
    "                CAST((sent_idx_y IS NULL) AS INT) AS is_deleted,\n",
    "                0 as is_added,\n",
    "                avg_sentence_distance_x <> 0 AS is_edited\n",
    "            FROM matched_sentences\n",
    "                WHERE is_deleted = 0 AND CAST(is_edited AS INT) = 0\n",
    "                LIMIT 160000\n",
    "        )\n",
    "        SELECT * from x\n",
    "        UNION ALL\n",
    "        SELECT * from y\n",
    "    ''', con=conn)\n",
    "    not_add_del['source'] = f.split('/')[-1].split('-')[0]\n",
    "    all_not_add_del.append(not_add_del)"
   ]
  },
  {
   "cell_type": "code",
   "execution_count": 184,
   "metadata": {},
   "outputs": [],
   "source": [
    "all_not_add_del_df = pd.concat(all_not_add_del)\n",
    "all_add_del_df = pd.concat(all_add_del_info)"
   ]
  },
  {
   "cell_type": "code",
   "execution_count": 185,
   "metadata": {},
   "outputs": [],
   "source": [
    "sentence_df_no_null = sentence_df.loc[lambda df: df['sentence'].notnull()]"
   ]
  },
  {
   "cell_type": "code",
   "execution_count": 186,
   "metadata": {},
   "outputs": [
    {
     "name": "stderr",
     "output_type": "stream",
     "text": [
      "/Users/alex/opt/anaconda3/lib/python3.7/site-packages/ipykernel_launcher.py:13: FutureWarning: The default value of regex will change from True to False in a future version.\n",
      "  del sys.path[0]\n"
     ]
    }
   ],
   "source": [
    "all_not_add_del_df_w_sents = (all_not_add_del_df\n",
    " .merge(\n",
    "     sentence_df_no_null, \n",
    "     left_on=['source', 'entry_id', 'version', 'sent_idx'], \n",
    "     right_on=['source', 'entry_id', 'version', 'sent_idx']\n",
    " )\n",
    ")\n",
    "\n",
    "all_not_add_del_df_w_sents['sentence'] = (\n",
    "    all_not_add_del_df_w_sents['sentence']\n",
    "        .str.replace('</p>', '')\n",
    "        .str.replace('<p>', '')\n",
    "        .str.replace('\\s+', ' ')\n",
    "        .str.strip()\n",
    ")"
   ]
  },
  {
   "cell_type": "code",
   "execution_count": 161,
   "metadata": {},
   "outputs": [
    {
     "data": {
      "text/plain": [
       "(285900, 8)"
      ]
     },
     "execution_count": 161,
     "metadata": {},
     "output_type": "execute_result"
    }
   ],
   "source": [
    "all_not_add_del_df_w_sents.shape"
   ]
  },
  {
   "cell_type": "code",
   "execution_count": 162,
   "metadata": {},
   "outputs": [],
   "source": [
    "all_not_add_del_df_w_sents.to_csv('../eda/non-edited-sentences.csv')"
   ]
  },
  {
   "cell_type": "code",
   "execution_count": 294,
   "metadata": {},
   "outputs": [
    {
     "data": {
      "text/html": [
       "<div>\n",
       "<style scoped>\n",
       "    .dataframe tbody tr th:only-of-type {\n",
       "        vertical-align: middle;\n",
       "    }\n",
       "\n",
       "    .dataframe tbody tr th {\n",
       "        vertical-align: top;\n",
       "    }\n",
       "\n",
       "    .dataframe thead th {\n",
       "        text-align: right;\n",
       "    }\n",
       "</style>\n",
       "<table border=\"1\" class=\"dataframe\">\n",
       "  <thead>\n",
       "    <tr style=\"text-align: right;\">\n",
       "      <th></th>\n",
       "      <th>source</th>\n",
       "      <th>entry_id</th>\n",
       "      <th>version</th>\n",
       "      <th>sent_idx</th>\n",
       "      <th>discourse_label</th>\n",
       "    </tr>\n",
       "  </thead>\n",
       "  <tbody>\n",
       "    <tr>\n",
       "      <th>0</th>\n",
       "      <td>ap</td>\n",
       "      <td>1</td>\n",
       "      <td>0.0</td>\n",
       "      <td>0</td>\n",
       "      <td>Main</td>\n",
       "    </tr>\n",
       "    <tr>\n",
       "      <th>1</th>\n",
       "      <td>ap</td>\n",
       "      <td>1</td>\n",
       "      <td>0.0</td>\n",
       "      <td>1</td>\n",
       "      <td>Main</td>\n",
       "    </tr>\n",
       "    <tr>\n",
       "      <th>2</th>\n",
       "      <td>ap</td>\n",
       "      <td>1</td>\n",
       "      <td>0.0</td>\n",
       "      <td>2</td>\n",
       "      <td>Cause</td>\n",
       "    </tr>\n",
       "    <tr>\n",
       "      <th>3</th>\n",
       "      <td>ap</td>\n",
       "      <td>1</td>\n",
       "      <td>0.0</td>\n",
       "      <td>3</td>\n",
       "      <td>Cause</td>\n",
       "    </tr>\n",
       "    <tr>\n",
       "      <th>4</th>\n",
       "      <td>ap</td>\n",
       "      <td>1</td>\n",
       "      <td>0.0</td>\n",
       "      <td>4</td>\n",
       "      <td>Cause</td>\n",
       "    </tr>\n",
       "    <tr>\n",
       "      <th>...</th>\n",
       "      <td>...</td>\n",
       "      <td>...</td>\n",
       "      <td>...</td>\n",
       "      <td>...</td>\n",
       "      <td>...</td>\n",
       "    </tr>\n",
       "    <tr>\n",
       "      <th>7239632</th>\n",
       "      <td>wp</td>\n",
       "      <td>1971140</td>\n",
       "      <td>2.0</td>\n",
       "      <td>32</td>\n",
       "      <td>Distant</td>\n",
       "    </tr>\n",
       "    <tr>\n",
       "      <th>7239633</th>\n",
       "      <td>wp</td>\n",
       "      <td>1971140</td>\n",
       "      <td>2.0</td>\n",
       "      <td>33</td>\n",
       "      <td>Distant</td>\n",
       "    </tr>\n",
       "    <tr>\n",
       "      <th>7239634</th>\n",
       "      <td>wp</td>\n",
       "      <td>1971140</td>\n",
       "      <td>2.0</td>\n",
       "      <td>34</td>\n",
       "      <td>Distant</td>\n",
       "    </tr>\n",
       "    <tr>\n",
       "      <th>7239635</th>\n",
       "      <td>wp</td>\n",
       "      <td>1971140</td>\n",
       "      <td>2.0</td>\n",
       "      <td>35</td>\n",
       "      <td>Distant</td>\n",
       "    </tr>\n",
       "    <tr>\n",
       "      <th>7239636</th>\n",
       "      <td>wp</td>\n",
       "      <td>1971140</td>\n",
       "      <td>2.0</td>\n",
       "      <td>36</td>\n",
       "      <td>Error</td>\n",
       "    </tr>\n",
       "  </tbody>\n",
       "</table>\n",
       "<p>7239637 rows × 5 columns</p>\n",
       "</div>"
      ],
      "text/plain": [
       "        source entry_id  version  sent_idx discourse_label\n",
       "0           ap        1      0.0         0            Main\n",
       "1           ap        1      0.0         1            Main\n",
       "2           ap        1      0.0         2           Cause\n",
       "3           ap        1      0.0         3           Cause\n",
       "4           ap        1      0.0         4           Cause\n",
       "...        ...      ...      ...       ...             ...\n",
       "7239632     wp  1971140      2.0        32         Distant\n",
       "7239633     wp  1971140      2.0        33         Distant\n",
       "7239634     wp  1971140      2.0        34         Distant\n",
       "7239635     wp  1971140      2.0        35         Distant\n",
       "7239636     wp  1971140      2.0        36           Error\n",
       "\n",
       "[7239637 rows x 5 columns]"
      ]
     },
     "execution_count": 294,
     "metadata": {},
     "output_type": "execute_result"
    }
   ],
   "source": [
    "discourse_sent_data_df"
   ]
  },
  {
   "cell_type": "code",
   "execution_count": 297,
   "metadata": {},
   "outputs": [],
   "source": [
    "discourse_sent_data_with_add_dels_df = (\n",
    "    discourse_sent_data_df\n",
    "     .merge(all_add_del_df,\n",
    "            left_on=['source','entry_id', 'version', 'sent_idx'], \n",
    "            right_on=['source','entry_id', 'version', 'sent_idx'], \n",
    "            how='left'\n",
    "           )\n",
    "    .assign(is_added=lambda df: df['is_added'].fillna(0))\n",
    "    .assign(is_deleted=lambda df: df['is_deleted'].fillna(0))\n",
    ")"
   ]
  },
  {
   "cell_type": "code",
   "execution_count": null,
   "metadata": {},
   "outputs": [],
   "source": []
  },
  {
   "cell_type": "code",
   "execution_count": 189,
   "metadata": {},
   "outputs": [
    {
     "data": {
      "text/plain": [
       "Distant    0.613931\n",
       "Cause      0.302401\n",
       "Main       0.048850\n",
       "Error      0.034818\n",
       "Name: discourse_label, dtype: float64"
      ]
     },
     "execution_count": 189,
     "metadata": {},
     "output_type": "execute_result"
    }
   ],
   "source": [
    "(\n",
    "    discourse_sent_data_with_add_dels_df\n",
    "     .loc[lambda df: df['is_deleted']==1]\n",
    "     ['discourse_label']\n",
    "     .value_counts()\n",
    "     .pipe(lambda s: s/s.sum())\n",
    ")"
   ]
  },
  {
   "cell_type": "code",
   "execution_count": 191,
   "metadata": {},
   "outputs": [
    {
     "data": {
      "text/plain": [
       "Distant    0.635333\n",
       "Cause      0.289674\n",
       "Main       0.043782\n",
       "Error      0.031212\n",
       "Name: discourse_label, dtype: float64"
      ]
     },
     "execution_count": 191,
     "metadata": {},
     "output_type": "execute_result"
    }
   ],
   "source": [
    "(\n",
    "    discourse_sent_data_with_add_dels_df\n",
    "     .loc[lambda df: df['is_added']==1]\n",
    "     ['discourse_label']\n",
    "     .value_counts()\n",
    "     .pipe(lambda s: s/s.sum())\n",
    ")"
   ]
  },
  {
   "cell_type": "code",
   "execution_count": 192,
   "metadata": {},
   "outputs": [],
   "source": [
    "label_dist_overall = (\n",
    "    discourse_sent_data_with_add_dels_df\n",
    "     ['discourse_label']\n",
    "     .value_counts()\n",
    "     .pipe(lambda df: df / df.sum())\n",
    ")"
   ]
  },
  {
   "cell_type": "code",
   "execution_count": 193,
   "metadata": {},
   "outputs": [],
   "source": [
    "label_dist_add = (discourse_sent_data_with_add_dels_df\n",
    " .loc[lambda df: df['is_added'] == 1]\n",
    " ['discourse_label']\n",
    " .value_counts()\n",
    " .pipe(lambda df: df / df.sum())\n",
    ")"
   ]
  },
  {
   "cell_type": "code",
   "execution_count": 194,
   "metadata": {},
   "outputs": [],
   "source": [
    "label_dist_del = (discourse_sent_data_with_add_dels_df\n",
    " .loc[lambda df: df['is_deleted'] == 1]\n",
    " ['discourse_label']\n",
    " .value_counts()\n",
    " .pipe(lambda df: df / df.sum())\n",
    ")"
   ]
  },
  {
   "cell_type": "code",
   "execution_count": 298,
   "metadata": {},
   "outputs": [],
   "source": [
    "label_dist_none = (\n",
    "    discourse_sent_data_with_add_dels_df\n",
    "    .loc[lambda df: (df['is_added'] == 0 ) & (df['is_deleted'] == 0)]\n",
    "   ['discourse_label']\n",
    "   .value_counts()\n",
    "   .pipe(lambda df: df / df.sum())\n",
    "\n",
    ")"
   ]
  },
  {
   "cell_type": "code",
   "execution_count": 299,
   "metadata": {},
   "outputs": [
    {
     "data": {
      "text/plain": [
       "Distant    0.680671\n",
       "Cause      0.236104\n",
       "Error      0.047382\n",
       "Main       0.035843\n",
       "Name: discourse_label, dtype: float64"
      ]
     },
     "execution_count": 299,
     "metadata": {},
     "output_type": "execute_result"
    }
   ],
   "source": [
    "label_dist_none"
   ]
  },
  {
   "cell_type": "code",
   "execution_count": 301,
   "metadata": {},
   "outputs": [
    {
     "data": {
      "text/plain": [
       "source  entry_id  version\n",
       "ap      1         0.0        45\n",
       "                  1.0        48\n",
       "                  2.0        43\n",
       "        2         0.0        40\n",
       "                  1.0        40\n",
       "                             ..\n",
       "wp      1971050   3.0        63\n",
       "        1971138   0.0        19\n",
       "                  1.0        34\n",
       "        1971140   1.0        32\n",
       "                  2.0        37\n",
       "Name: c, Length: 192909, dtype: int64"
      ]
     },
     "execution_count": 301,
     "metadata": {},
     "output_type": "execute_result"
    }
   ],
   "source": [
    "discourse_sent_data_with_add_dels_df.assign(c=1).groupby(['source','entry_id', 'version'])['c'].sum()"
   ]
  },
  {
   "cell_type": "code",
   "execution_count": 302,
   "metadata": {},
   "outputs": [
    {
     "data": {
      "text/plain": [
       "(7368634, 7)"
      ]
     },
     "execution_count": 302,
     "metadata": {},
     "output_type": "execute_result"
    }
   ],
   "source": [
    "discourse_sent_data_with_add_dels_df.shape"
   ]
  },
  {
   "cell_type": "code",
   "execution_count": 195,
   "metadata": {},
   "outputs": [
    {
     "data": {
      "text/plain": [
       "Distant    0.670816\n",
       "Cause      0.246880\n",
       "Error      0.044644\n",
       "Main       0.037660\n",
       "Name: discourse_label, dtype: float64"
      ]
     },
     "execution_count": 195,
     "metadata": {},
     "output_type": "execute_result"
    }
   ],
   "source": [
    "label_dist_overall"
   ]
  },
  {
   "cell_type": "code",
   "execution_count": 196,
   "metadata": {},
   "outputs": [
    {
     "data": {
      "text/plain": [
       "Distant    0.635333\n",
       "Cause      0.289674\n",
       "Main       0.043782\n",
       "Error      0.031212\n",
       "Name: discourse_label, dtype: float64"
      ]
     },
     "execution_count": 196,
     "metadata": {},
     "output_type": "execute_result"
    }
   ],
   "source": [
    "label_dist_add"
   ]
  },
  {
   "cell_type": "code",
   "execution_count": null,
   "metadata": {},
   "outputs": [],
   "source": []
  },
  {
   "cell_type": "code",
   "execution_count": 197,
   "metadata": {},
   "outputs": [
    {
     "data": {
      "text/plain": [
       "<matplotlib.axes._subplots.AxesSubplot at 0x7fe3498f2f90>"
      ]
     },
     "execution_count": 197,
     "metadata": {},
     "output_type": "execute_result"
    },
    {
     "data": {
      "image/png": "[encoded data removed]",
      "text/plain": [
       "<Figure size 432x288 with 1 Axes>"
      ]
     },
     "metadata": {
      "needs_background": "light"
     },
     "output_type": "display_data"
    }
   ],
   "source": [
    "pd.concat([\n",
    "    (label_dist_del / label_dist_overall).drop('Error').to_frame('Deleted Sents'),\n",
    "    (label_dist_add / label_dist_overall).drop('Error').to_frame('Added Sents')\n",
    "], axis=1).plot(kind='bar')"
   ]
  },
  {
   "cell_type": "code",
   "execution_count": 215,
   "metadata": {},
   "outputs": [],
   "source": [
    "dist_by_len = (\n",
    "    tag_counts\n",
    "    .drop('doc_len', axis=1)\n",
    "    .groupby('doc_len_bin')\n",
    "    .sum()\n",
    "    .pipe(lambda df: df.divide(df.sum(axis=1) ,axis=0))\n",
    ")"
   ]
  },
  {
   "cell_type": "code",
   "execution_count": 362,
   "metadata": {},
   "outputs": [],
   "source": [
    "import matplotlib.pyplot as plt\n",
    "plt.rc('font', size=23)"
   ]
  },
  {
   "cell_type": "code",
   "execution_count": 363,
   "metadata": {},
   "outputs": [
    {
     "data": {
      "image/png": "[encoded data removed]",
      "text/plain": [
       "<Figure size 432x216 with 1 Axes>"
      ]
     },
     "metadata": {
      "needs_background": "light"
     },
     "output_type": "display_data"
    }
   ],
   "source": [
    "ax = (\n",
    "    dist_by_len\n",
    "#     .drop('Error', axis=1)\n",
    "    .plot(kind='bar', figsize=(6,3))\n",
    ")#, figsize=(4,3.5))\n",
    "# ax.legend().set_visible(False)\n",
    "plt.legend(frameon=False, ncol=2, fontsize=18, bbox_to_anchor=(.28, .57, .42, .51))\n",
    "ax.spines['top'].set_visible(False)\n",
    "ax.spines['right'].set_visible(False)\n",
    "plt.xlabel('Document Length (# sents)')\n",
    "plt.ylabel('Discourse Dist.')\n",
    "plt.xticks(rotation=25, horizontalalignment='right')\n",
    "plt.savefig('figures/tag-dist-by-len.pdf', bbox_inches='tight')\n",
    "plt.savefig('../presentations/acl2022/figures/tag-dist-by-len.pdf', bbox_inches='tight')"
   ]
  },
  {
   "cell_type": "code",
   "execution_count": 230,
   "metadata": {},
   "outputs": [],
   "source": [
    "discourse_sent_data_with_add_dels_df = (discourse_sent_data_with_add_dels_df\n",
    " .pipe(lambda df: df.merge(\n",
    "     df.assign(c=1)\n",
    "         .groupby(['source', 'entry_id', 'version'])['c']\n",
    "         .sum().to_frame('doc_len').reset_index(),\n",
    "     right_on=['source','entry_id', 'version'],\n",
    "     left_on=['source','entry_id', 'version'],\n",
    "     how='left'\n",
    " ))\n",
    ")"
   ]
  },
  {
   "cell_type": "code",
   "execution_count": 231,
   "metadata": {},
   "outputs": [],
   "source": [
    "discourse_sent_data_with_add_dels_df['doc_len_bin'] = discourse_sent_data_with_add_dels_df['doc_len'].pipe(lambda s: pd.cut(s, range(0,120,20), right=False))"
   ]
  },
  {
   "cell_type": "code",
   "execution_count": 270,
   "metadata": {},
   "outputs": [],
   "source": [
    "none_dist_by_pos = (\n",
    "    discourse_sent_data_with_add_dels_df\n",
    "    .assign(is_added=lambda df: df['is_added'].fillna(0))\n",
    "    .assign(is_deleted=lambda df: df['is_deleted'].fillna(0))\n",
    "    .loc[lambda df: (df['is_added'] == 0 ) & (df['is_deleted'] == 0)].assign(c=1)\n",
    "    .groupby(['doc_len_bin', 'discourse_label'])['c']\n",
    "    .sum()\n",
    "    .unstack()\n",
    "    .pipe(lambda df: df.divide(df.sum(axis=1), axis=0))\n",
    ")"
   ]
  },
  {
   "cell_type": "code",
   "execution_count": 272,
   "metadata": {},
   "outputs": [],
   "source": [
    "added_dist_by_pos = (\n",
    "    discourse_sent_data_with_add_dels_df\n",
    "    .loc[lambda df: df['is_added'] == 1].assign(c=1)\n",
    "    .groupby(['doc_len_bin', 'discourse_label'])['c']\n",
    "    .sum()\n",
    "    .unstack()\n",
    "    .pipe(lambda df: df.divide(df.sum(axis=1), axis=0))\n",
    ")"
   ]
  },
  {
   "cell_type": "code",
   "execution_count": 273,
   "metadata": {},
   "outputs": [],
   "source": [
    "del_dist_by_pos = (\n",
    "    discourse_sent_data_with_add_dels_df\n",
    "    .loc[lambda df: df['is_deleted'] == 1].assign(c=1)\n",
    "    .groupby(['doc_len_bin', 'discourse_label'])['c']\n",
    "    .sum()\n",
    "    .unstack()\n",
    "    .pipe(lambda df: df.divide(df.sum(axis=1), axis=0))\n",
    ")"
   ]
  },
  {
   "cell_type": "code",
   "execution_count": 244,
   "metadata": {},
   "outputs": [],
   "source": [
    "overall_dist_over_tags = tag_counts[['Main', 'Distant','Cause']].sum().pipe(lambda s: s/s.sum())"
   ]
  },
  {
   "cell_type": "code",
   "execution_count": 252,
   "metadata": {},
   "outputs": [],
   "source": [
    "overall_dist_over_position = tag_counts.groupby('doc_len_bin')[['Main', 'Distant', 'Cause']].sum().sum(axis=1).pipe(lambda s: s/s.sum())"
   ]
  },
  {
   "cell_type": "code",
   "execution_count": 280,
   "metadata": {},
   "outputs": [
    {
     "data": {
      "text/plain": [
       "Text(0, 0.5, 'Del. Odds, by Discourse')"
      ]
     },
     "execution_count": 280,
     "metadata": {},
     "output_type": "execute_result"
    },
    {
     "data": {
      "image/png": "[encoded data removed]",
      "text/plain": [
       "<Figure size 432x288 with 1 Axes>"
      ]
     },
     "metadata": {
      "needs_background": "light"
     },
     "output_type": "display_data"
    }
   ],
   "source": [
    "ax = (\n",
    "    (del_counts_by_pos / none_dist_by_pos)\n",
    ").drop('Error', axis=1).plot(kind='bar')#, figsize=(4,3))\n",
    "ax.legend().set_visible(False)\n",
    "plt.legend(frameon=False)#, ncol=3)#, bbox_to_anchor=(.2, .57, .42, .51))\n",
    "ax.spines['top'].set_visible(False)\n",
    "ax.spines['right'].set_visible(False)\n",
    "plt.xlabel('Document Length (# sents)')\n",
    "plt.ylabel('Del. Odds, by Discourse')"
   ]
  },
  {
   "cell_type": "code",
   "execution_count": 281,
   "metadata": {},
   "outputs": [],
   "source": [
    "discourse_sent_data_with_add_dels_df['version_bins'] = (\n",
    "    discourse_sent_data_with_add_dels_df\n",
    "     ['version']\n",
    "     .pipe(lambda s: pd.cut(s, bins=[0,2,4,8,16,32], right=False))\n",
    ")"
   ]
  },
  {
   "cell_type": "code",
   "execution_count": null,
   "metadata": {},
   "outputs": [],
   "source": []
  },
  {
   "cell_type": "code",
   "execution_count": null,
   "metadata": {},
   "outputs": [],
   "source": []
  },
  {
   "cell_type": "code",
   "execution_count": 283,
   "metadata": {},
   "outputs": [],
   "source": [
    "dist_by_version = (discourse_sent_data_with_add_dels_df\n",
    " .groupby('version_bins')\n",
    " ['discourse_label']\n",
    " .value_counts().unstack()\n",
    " .pipe(lambda df: df.divide(df.sum(axis=1), axis=0))\n",
    ")"
   ]
  },
  {
   "cell_type": "code",
   "execution_count": 364,
   "metadata": {},
   "outputs": [
    {
     "data": {
      "image/png": "[encoded data removed]",
      "text/plain": [
       "<Figure size 432x216 with 1 Axes>"
      ]
     },
     "metadata": {
      "needs_background": "light"
     },
     "output_type": "display_data"
    }
   ],
   "source": [
    "ax = (dist_by_version.divide( dist_by_version.mean(axis=0),axis=1)).drop('Error', axis=1).plot(kind='bar', figsize=(6,3))\n",
    "ax.legend().set_visible(False)\n",
    "# plt.legend(frameon=False, ncol=2, fontsize=14)#, bbox_to_anchor=(.5, .57, .42, .51))\n",
    "ax.spines['top'].set_visible(False)\n",
    "ax.spines['right'].set_visible(False)\n",
    "plt.xlabel('Version Number (v)')\n",
    "# plt.ylabel('p(t | v) / p(t)')\n",
    "plt.ylabel('Discourse odds')\n",
    "plt.xticks(rotation=25, horizontalalignment='right')\n",
    "plt.savefig('figures/tag-odds-by-version.pdf', bbox_inches='tight')\n",
    "plt.savefig('../presentations/acl2022/figures/tag-odds-by-version.pdf', bbox_inches='tight')"
   ]
  },
  {
   "cell_type": "code",
   "execution_count": 289,
   "metadata": {},
   "outputs": [],
   "source": [
    "added_dist_by_version = (\n",
    "    discourse_sent_data_with_add_dels_df\n",
    "    .loc[lambda df: df['is_added'] == 1]\n",
    "    .assign(c=1)\n",
    "     .groupby(['version_bins', 'discourse_label'])\n",
    "     ['c'].sum()\n",
    "     .unstack()\n",
    "     .pipe(lambda df: df.divide(df.sum(axis=1), axis=0))\n",
    "    .fillna(0)\n",
    ")"
   ]
  },
  {
   "cell_type": "code",
   "execution_count": 290,
   "metadata": {},
   "outputs": [],
   "source": [
    "del_dist_by_version = (\n",
    "    discourse_sent_data_with_add_dels_df\n",
    "    .loc[lambda df: df['is_deleted'] == 1]\n",
    "    .assign(c=1)\n",
    "     .groupby(['version_bins', 'discourse_label'])\n",
    "     ['c'].sum()\n",
    "     .unstack()\n",
    "     .pipe(lambda df: df.divide(df.sum(axis=1), axis=0))\n",
    "    .fillna(0)\n",
    ")"
   ]
  },
  {
   "cell_type": "code",
   "execution_count": 365,
   "metadata": {},
   "outputs": [
    {
     "data": {
      "image/png": "[encoded data removed]",
      "text/plain": [
       "<Figure size 432x216 with 1 Axes>"
      ]
     },
     "metadata": {
      "needs_background": "light"
     },
     "output_type": "display_data"
    }
   ],
   "source": [
    "ax = (added_dist_by_version / dist_by_version).drop('Error', axis=1).plot(kind='bar', figsize=(6,3))\n",
    "ax.legend().set_visible(False)\n",
    "# plt.legend(frameon=False, ncol=2)#, bbox_to_anchor=(.5, .57, .42, .51))\n",
    "ax.spines['top'].set_visible(False)\n",
    "ax.spines['right'].set_visible(False)\n",
    "plt.xlabel('Version Number (v)')\n",
    "plt.ylabel('Addition Odds')\n",
    "# plt.ylabel('p(t | o=add, v) / p(t | v)')\n",
    "plt.savefig('figures/addition-odds-by-type-by-version.pdf',bbox_inches='tight')\n",
    "plt.xticks(rotation=25, horizontalalignment='right')\n",
    "plt.savefig('../presentations/acl2022/figures/addition-odds-by-type-by-version.pdf',bbox_inches='tight')"
   ]
  },
  {
   "cell_type": "code",
   "execution_count": 366,
   "metadata": {},
   "outputs": [
    {
     "data": {
      "image/png": "[encoded data removed]",
      "text/plain": [
       "<Figure size 432x216 with 1 Axes>"
      ]
     },
     "metadata": {
      "needs_background": "light"
     },
     "output_type": "display_data"
    }
   ],
   "source": [
    "ax = (del_dist_by_version / dist_by_version).drop('Error', axis=1).plot(kind='bar',figsize=(6,3))\n",
    "ax.legend().set_visible(False)\n",
    "# plt.legend(frameon=False, ncol=2, bbox_to_anchor=(.5, .57, .42, .51))\n",
    "ax.spines['top'].set_visible(False)\n",
    "ax.spines['right'].set_visible(False)\n",
    "plt.xlabel('Version Number (v)')\n",
    "# plt.ylabel('p(t | o=del, v) / p(t | v)')\n",
    "plt.ylabel('Deletion Odds')\n",
    "plt.savefig('figures/removal-odds-by-type-by-version.pdf',bbox_inches='tight')\n",
    "plt.xticks(rotation=25, horizontalalignment='right')\n",
    "plt.savefig('../presentations/acl2022/figures/removal-odds-by-type-by-version.pdf',bbox_inches='tight')"
   ]
  },
  {
   "cell_type": "code",
   "execution_count": null,
   "metadata": {},
   "outputs": [],
   "source": []
  },
  {
   "cell_type": "code",
   "execution_count": null,
   "metadata": {},
   "outputs": [],
   "source": []
  },
  {
   "cell_type": "code",
   "execution_count": null,
   "metadata": {},
   "outputs": [],
   "source": []
  },
  {
   "cell_type": "code",
   "execution_count": null,
   "metadata": {},
   "outputs": [],
   "source": []
  },
  {
   "cell_type": "code",
   "execution_count": null,
   "metadata": {},
   "outputs": [],
   "source": []
  },
  {
   "cell_type": "code",
   "execution_count": null,
   "metadata": {},
   "outputs": [],
   "source": []
  },
  {
   "cell_type": "code",
   "execution_count": null,
   "metadata": {},
   "outputs": [],
   "source": []
  },
  {
   "cell_type": "code",
   "execution_count": null,
   "metadata": {},
   "outputs": [],
   "source": []
  },
  {
   "cell_type": "code",
   "execution_count": null,
   "metadata": {},
   "outputs": [],
   "source": []
  },
  {
   "cell_type": "markdown",
   "metadata": {},
   "source": [
    "# TF-IDF"
   ]
  },
  {
   "cell_type": "code",
   "execution_count": 6,
   "metadata": {},
   "outputs": [],
   "source": [
    "sentence_df_no_null = sentence_df.loc[lambda df: df['sentence'].notnull()]"
   ]
  },
  {
   "cell_type": "code",
   "execution_count": 19,
   "metadata": {},
   "outputs": [],
   "source": [
    "sent_df_with_add_del = sentence_df_no_null.merge(\n",
    "    add_del_info,\n",
    "    how='left',\n",
    "    right_on=['source', 'entry_id', 'version', 'sent_idx'],\n",
    "    left_on=['source','entry_id', 'version', 'sent_idx']\n",
    ")"
   ]
  },
  {
   "cell_type": "code",
   "execution_count": 367,
   "metadata": {},
   "outputs": [
    {
     "data": {
      "text/html": [
       "<div>\n",
       "<style scoped>\n",
       "    .dataframe tbody tr th:only-of-type {\n",
       "        vertical-align: middle;\n",
       "    }\n",
       "\n",
       "    .dataframe tbody tr th {\n",
       "        vertical-align: top;\n",
       "    }\n",
       "\n",
       "    .dataframe thead th {\n",
       "        text-align: right;\n",
       "    }\n",
       "</style>\n",
       "<table border=\"1\" class=\"dataframe\">\n",
       "  <thead>\n",
       "    <tr style=\"text-align: right;\">\n",
       "      <th></th>\n",
       "      <th>entry_id</th>\n",
       "      <th>version</th>\n",
       "      <th>sent_idx</th>\n",
       "      <th>sentence</th>\n",
       "      <th>source</th>\n",
       "      <th>is_deleted</th>\n",
       "      <th>is_added</th>\n",
       "    </tr>\n",
       "  </thead>\n",
       "  <tbody>\n",
       "    <tr>\n",
       "      <th>0</th>\n",
       "      <td>1819591</td>\n",
       "      <td>1.0</td>\n",
       "      <td>0.0</td>\n",
       "      <td>HONG KONG — The protests that have shaken Hong...</td>\n",
       "      <td>nyt</td>\n",
       "      <td>NaN</td>\n",
       "      <td>NaN</td>\n",
       "    </tr>\n",
       "    <tr>\n",
       "      <th>1</th>\n",
       "      <td>1819591</td>\n",
       "      <td>1.0</td>\n",
       "      <td>1.0</td>\n",
       "      <td>Since then, they have become a  broader moveme...</td>\n",
       "      <td>nyt</td>\n",
       "      <td>NaN</td>\n",
       "      <td>NaN</td>\n",
       "    </tr>\n",
       "    <tr>\n",
       "      <th>2</th>\n",
       "      <td>1819591</td>\n",
       "      <td>1.0</td>\n",
       "      <td>2.0</td>\n",
       "      <td>Over the course of several weeks, violent clas...</td>\n",
       "      <td>nyt</td>\n",
       "      <td>NaN</td>\n",
       "      <td>NaN</td>\n",
       "    </tr>\n",
       "    <tr>\n",
       "      <th>3</th>\n",
       "      <td>1819591</td>\n",
       "      <td>1.0</td>\n",
       "      <td>3.0</td>\n",
       "      <td>Activists have stormed government offices, hal...</td>\n",
       "      <td>nyt</td>\n",
       "      <td>NaN</td>\n",
       "      <td>NaN</td>\n",
       "    </tr>\n",
       "    <tr>\n",
       "      <th>4</th>\n",
       "      <td>1819591</td>\n",
       "      <td>1.0</td>\n",
       "      <td>4.0</td>\n",
       "      <td>And the police’s use of force against demonstr...</td>\n",
       "      <td>nyt</td>\n",
       "      <td>NaN</td>\n",
       "      <td>NaN</td>\n",
       "    </tr>\n",
       "    <tr>\n",
       "      <th>...</th>\n",
       "      <td>...</td>\n",
       "      <td>...</td>\n",
       "      <td>...</td>\n",
       "      <td>...</td>\n",
       "      <td>...</td>\n",
       "      <td>...</td>\n",
       "      <td>...</td>\n",
       "    </tr>\n",
       "    <tr>\n",
       "      <th>10156709</th>\n",
       "      <td>1100535</td>\n",
       "      <td>10.0</td>\n",
       "      <td>102.0</td>\n",
       "      <td>“Both Donald and Marco got very personal and v...</td>\n",
       "      <td>guardian</td>\n",
       "      <td>NaN</td>\n",
       "      <td>NaN</td>\n",
       "    </tr>\n",
       "    <tr>\n",
       "      <th>10156710</th>\n",
       "      <td>1100535</td>\n",
       "      <td>10.0</td>\n",
       "      <td>103.0</td>\n",
       "      <td>I’m not going to do that.</td>\n",
       "      <td>guardian</td>\n",
       "      <td>NaN</td>\n",
       "      <td>NaN</td>\n",
       "    </tr>\n",
       "    <tr>\n",
       "      <th>10156711</th>\n",
       "      <td>1100535</td>\n",
       "      <td>10.0</td>\n",
       "      <td>104.0</td>\n",
       "      <td>I will happily praise Donald Trump and Marco R...</td>\n",
       "      <td>guardian</td>\n",
       "      <td>NaN</td>\n",
       "      <td>NaN</td>\n",
       "    </tr>\n",
       "    <tr>\n",
       "      <th>10156712</th>\n",
       "      <td>1100535</td>\n",
       "      <td>10.0</td>\n",
       "      <td>105.0</td>\n",
       "      <td>” Butter wouldn’t melt, and etc.</td>\n",
       "      <td>guardian</td>\n",
       "      <td>NaN</td>\n",
       "      <td>NaN</td>\n",
       "    </tr>\n",
       "    <tr>\n",
       "      <th>10156713</th>\n",
       "      <td>1100535</td>\n",
       "      <td>10.0</td>\n",
       "      <td>106.0</td>\n",
       "      <td>And Rubio and Trump are soft on immigration, h...</td>\n",
       "      <td>guardian</td>\n",
       "      <td>NaN</td>\n",
       "      <td>NaN</td>\n",
       "    </tr>\n",
       "  </tbody>\n",
       "</table>\n",
       "<p>10156714 rows × 7 columns</p>\n",
       "</div>"
      ],
      "text/plain": [
       "         entry_id  version  sent_idx  \\\n",
       "0         1819591      1.0       0.0   \n",
       "1         1819591      1.0       1.0   \n",
       "2         1819591      1.0       2.0   \n",
       "3         1819591      1.0       3.0   \n",
       "4         1819591      1.0       4.0   \n",
       "...           ...      ...       ...   \n",
       "10156709  1100535     10.0     102.0   \n",
       "10156710  1100535     10.0     103.0   \n",
       "10156711  1100535     10.0     104.0   \n",
       "10156712  1100535     10.0     105.0   \n",
       "10156713  1100535     10.0     106.0   \n",
       "\n",
       "                                                   sentence    source  \\\n",
       "0         HONG KONG — The protests that have shaken Hong...       nyt   \n",
       "1         Since then, they have become a  broader moveme...       nyt   \n",
       "2         Over the course of several weeks, violent clas...       nyt   \n",
       "3         Activists have stormed government offices, hal...       nyt   \n",
       "4         And the police’s use of force against demonstr...       nyt   \n",
       "...                                                     ...       ...   \n",
       "10156709  “Both Donald and Marco got very personal and v...  guardian   \n",
       "10156710                          I’m not going to do that.  guardian   \n",
       "10156711  I will happily praise Donald Trump and Marco R...  guardian   \n",
       "10156712                   ” Butter wouldn’t melt, and etc.  guardian   \n",
       "10156713  And Rubio and Trump are soft on immigration, h...  guardian   \n",
       "\n",
       "          is_deleted  is_added  \n",
       "0                NaN       NaN  \n",
       "1                NaN       NaN  \n",
       "2                NaN       NaN  \n",
       "3                NaN       NaN  \n",
       "4                NaN       NaN  \n",
       "...              ...       ...  \n",
       "10156709         NaN       NaN  \n",
       "10156710         NaN       NaN  \n",
       "10156711         NaN       NaN  \n",
       "10156712         NaN       NaN  \n",
       "10156713         NaN       NaN  \n",
       "\n",
       "[10156714 rows x 7 columns]"
      ]
     },
     "execution_count": 367,
     "metadata": {},
     "output_type": "execute_result"
    }
   ],
   "source": [
    "sent_df_with_add_del"
   ]
  },
  {
   "cell_type": "code",
   "execution_count": 368,
   "metadata": {},
   "outputs": [],
   "source": [
    "from sklearn.feature_extraction.text import TfidfVectorizer, CountVectorizer"
   ]
  },
  {
   "cell_type": "code",
   "execution_count": 384,
   "metadata": {},
   "outputs": [],
   "source": [
    "cv = CountVectorizer(min_df=.0001, ngram_range=(2, 2), max_df=.5, stop_words='english')\n",
    "# overall = (sent_df_with_add_del\n",
    "#                  .assign(event_tag=lambda df: df['event_tag'].fillna('Error'))\n",
    "#                  .groupby('event_tag')['sentence']\n",
    "#                  .aggregate(list)\n",
    "#                  .apply(lambda x: ' '.join(x))\n",
    "#                 )\n",
    "# X = tfidf.fit_transform(single_doc_df)\n",
    "\n",
    "# tfidf_mat = pd.DataFrame(\n",
    "#     X.todense(), \n",
    "#     columns=pd.Series(tfidf.vocabulary_).sort_values().index,\n",
    "#     index=single_doc_df.index\n",
    "# )\n",
    "\n",
    "overall_counts = cv.fit_transform(sent_df_with_add_del['sentence'])"
   ]
  },
  {
   "cell_type": "code",
   "execution_count": 370,
   "metadata": {},
   "outputs": [
    {
     "data": {
      "text/plain": [
       "<10156714x93 sparse matrix of type '<class 'numpy.int64'>'\n",
       "\twith 4916371 stored elements in Compressed Sparse Row format>"
      ]
     },
     "execution_count": 370,
     "metadata": {},
     "output_type": "execute_result"
    }
   ],
   "source": [
    "overall_counts"
   ]
  },
  {
   "cell_type": "code",
   "execution_count": 371,
   "metadata": {},
   "outputs": [],
   "source": [
    "overall_word_dist = overall_counts.mean(axis=0)"
   ]
  },
  {
   "cell_type": "code",
   "execution_count": 372,
   "metadata": {},
   "outputs": [],
   "source": [
    "add_counts = cv.transform(\n",
    "    sent_df_with_add_del\n",
    "    .loc[lambda df: df['is_added'] == 1]\n",
    "    ['sentence']\n",
    ")"
   ]
  },
  {
   "cell_type": "code",
   "execution_count": 373,
   "metadata": {},
   "outputs": [],
   "source": [
    "add_dist = add_counts.mean(axis=0)"
   ]
  },
  {
   "cell_type": "code",
   "execution_count": 374,
   "metadata": {},
   "outputs": [],
   "source": [
    "del_counts = cv.transform(\n",
    "    sent_df_with_add_del\n",
    "    .loc[lambda df: df['is_deleted'] == 1]\n",
    "    ['sentence']\n",
    ")"
   ]
  },
  {
   "cell_type": "code",
   "execution_count": 375,
   "metadata": {},
   "outputs": [],
   "source": [
    "del_dist = del_counts.mean(axis=0)"
   ]
  },
  {
   "cell_type": "code",
   "execution_count": 376,
   "metadata": {},
   "outputs": [],
   "source": [
    "import numpy as np "
   ]
  },
  {
   "cell_type": "code",
   "execution_count": 377,
   "metadata": {},
   "outputs": [],
   "source": [
    "sent_counts = pd.DataFrame(\n",
    "        np.vstack([\n",
    "        overall_word_dist,\n",
    "        del_dist,\n",
    "        add_dist    \n",
    "    ]),\n",
    "    columns=pd.Series(cv.vocabulary_).sort_values().index,\n",
    "    index=['overall', 'del', 'add']\n",
    ")"
   ]
  },
  {
   "cell_type": "code",
   "execution_count": 383,
   "metadata": {
    "scrolled": true
   },
   "outputs": [
    {
     "data": {
      "text/plain": [
       "Index(['grant mccool', 'editing anna', 'anna driver', 'driver grant',\n",
       "       'healthcare concerns', 'era trump', 'hyper partisan', 'partisan era',\n",
       "       'tom brown', 'editing joseph', 'joseph white', 'white tom',\n",
       "       'selling elbows', 'elbows online', 'united states', 'new york',\n",
       "       'mr trump', 'prime minister', 'white house', 'year old', 'donald trump',\n",
       "       'north korea', 'islamic state', 'president donald', 'associated press',\n",
       "       'said statement', 'officials said', 'twitter com', 'european union',\n",
       "       'hong kong', 'trump said', 'human rights', 'president trump',\n",
       "       'south korea', 'told reporters', 'police said', 'years ago',\n",
       "       'supreme court', 'national security', 'trump administration',\n",
       "       'social media', 'chief executive', '000 people', 'pic twitter',\n",
       "       'united nations', 'news conference', 'barack obama', 'saudi arabia',\n",
       "       'vice president', 'additional reporting', 'news agency',\n",
       "       'secretary state', 'official said', 'said mr', 'law enforcement',\n",
       "       'attorney general', 'north korean', 'foreign minister', 'health care',\n",
       "       'police officers', 'told bbc', 'state department', 'york times',\n",
       "       'contributed report', 'middle east', 'covid 19', 'justice department',\n",
       "       'northern ireland', 'los angeles', 'climate change', 'hillary clinton',\n",
       "       'mr obama', 'don know', 'security council', 'security forces',\n",
       "       'facebook share', 'twitter share', 'share email', 'share facebook',\n",
       "       'share twitter', 'pinterest share', 'share whatsapp', 'whatsapp share',\n",
       "       'share pinterest', 'share linkedin', 'linkedin share',\n",
       "       'share messenger', 'president barack', 'people killed',\n",
       "       'million people', 'spokesman said', 'david cameron',\n",
       "       'obama administration'],\n",
       "      dtype='object')"
      ]
     },
     "execution_count": 383,
     "metadata": {},
     "output_type": "execute_result"
    }
   ],
   "source": [
    "sent_counts.loc['overall'].sort_values(ascending=False).head(100).index"
   ]
  },
  {
   "cell_type": "code",
   "execution_count": 379,
   "metadata": {},
   "outputs": [],
   "source": [
    "import pyperclip\n",
    "\n",
    "t =pd.DataFrame(\n",
    "    {'Overall': ['said', 'trump', 'people', 'president', 'concerns', 'government', 'year'],\n",
    "     'Add/Del': ['says', 'senate', 'law', 'death', 'wednesday', 'monday', 'tuesday', ]}\n",
    ").T.to_latex(header=False)\n",
    "pyperclip.copy(t)"
   ]
  },
  {
   "cell_type": "code",
   "execution_count": 380,
   "metadata": {
    "scrolled": true
   },
   "outputs": [
    {
     "data": {
      "text/plain": [
       "president donald        4.721462\n",
       "contributed report      4.576264\n",
       "associated press        4.485345\n",
       "los angeles             3.378264\n",
       "health care             3.346232\n",
       "year old                3.296674\n",
       "north korea             3.219129\n",
       "attorney general        3.135176\n",
       "law enforcement         3.053645\n",
       "donald trump            2.985929\n",
       "president barack        2.882873\n",
       "justice department      2.857846\n",
       "supreme court           2.831715\n",
       "north korean            2.797889\n",
       "trump administration    2.793922\n",
       "white house             2.497239\n",
       "south korea             2.484384\n",
       "news conference         2.450846\n",
       "barack obama            2.230723\n",
       "told reporters          2.215306\n",
       "trump said              2.171349\n",
       "vice president          2.038238\n",
       "said statement          2.032685\n",
       "police said             2.005417\n",
       "national security       1.824789\n",
       "obama administration    1.781861\n",
       "foreign minister        1.733338\n",
       "saudi arabia            1.674711\n",
       "security council        1.662443\n",
       "police officers         1.641101\n",
       "climate change          1.619091\n",
       "state department        1.593331\n",
       "officials said          1.559228\n",
       "new york                1.523904\n",
       "000 people              1.496415\n",
       "years ago               1.483608\n",
       "official said           1.474559\n",
       "secretary state         1.463118\n",
       "twitter com             1.451819\n",
       "human rights            1.442377\n",
       "social media            1.397375\n",
       "people killed           1.376054\n",
       "million people          1.333443\n",
       "islamic state           1.285270\n",
       "news agency             1.278934\n",
       "hillary clinton         1.245257\n",
       "european union          1.239276\n",
       "security forces         1.197790\n",
       "don know                1.184880\n",
       "united states           1.160643\n",
       "dtype: float64"
      ]
     },
     "execution_count": 380,
     "metadata": {},
     "output_type": "execute_result"
    }
   ],
   "source": [
    "sent_counts.pipe(lambda df: df.loc['add'] / df.loc['overall']).sort_values(ascending=False).head(50)"
   ]
  },
  {
   "cell_type": "code",
   "execution_count": 381,
   "metadata": {
    "scrolled": true
   },
   "outputs": [
    {
     "data": {
      "text/plain": [
       "contributed report      5.045831\n",
       "president donald        4.869837\n",
       "associated press        4.728054\n",
       "health care             3.739160\n",
       "los angeles             3.640117\n",
       "law enforcement         3.467349\n",
       "north korea             3.453322\n",
       "year old                3.293908\n",
       "supreme court           3.257557\n",
       "attorney general        3.169214\n",
       "president barack        3.125086\n",
       "trump administration    3.115383\n",
       "justice department      3.110513\n",
       "north korean            3.088300\n",
       "donald trump            3.074463\n",
       "white house             2.643700\n",
       "south korea             2.538903\n",
       "news conference         2.521161\n",
       "twitter com             2.509258\n",
       "barack obama            2.414965\n",
       "police said             2.281990\n",
       "told reporters          2.144705\n",
       "vice president          2.101206\n",
       "national security       2.013524\n",
       "trump said              1.984828\n",
       "obama administration    1.896947\n",
       "said statement          1.896934\n",
       "police officers         1.815727\n",
       "officials said          1.760482\n",
       "security council        1.738423\n",
       "foreign minister        1.708436\n",
       "state department        1.604908\n",
       "new york                1.597786\n",
       "000 people              1.593681\n",
       "human rights            1.530253\n",
       "official said           1.529985\n",
       "years ago               1.519976\n",
       "people killed           1.485817\n",
       "social media            1.446716\n",
       "secretary state         1.438649\n",
       "climate change          1.389316\n",
       "islamic state           1.359129\n",
       "million people          1.341972\n",
       "saudi arabia            1.275720\n",
       "european union          1.243451\n",
       "don know                1.207796\n",
       "united states           1.167183\n",
       "hillary clinton         1.130256\n",
       "security forces         1.102873\n",
       "news agency             1.102775\n",
       "dtype: float64"
      ]
     },
     "execution_count": 381,
     "metadata": {},
     "output_type": "execute_result"
    }
   ],
   "source": [
    "sent_counts.pipe(lambda df: df.loc['del'] / df.loc['overall']).sort_values(ascending=False).head(50)"
   ]
  },
  {
   "cell_type": "code",
   "execution_count": null,
   "metadata": {},
   "outputs": [],
   "source": []
  },
  {
   "cell_type": "code",
   "execution_count": null,
   "metadata": {},
   "outputs": [],
   "source": []
  },
  {
   "cell_type": "code",
   "execution_count": 89,
   "metadata": {},
   "outputs": [],
   "source": [
    "add_del_sents = sent_df_with_add_del.loc[lambda df: df['is_added'].notnull() | df['is_deleted'].notnull()]"
   ]
  },
  {
   "cell_type": "code",
   "execution_count": 91,
   "metadata": {},
   "outputs": [],
   "source": [
    "add_del_sents.to_csv('../eda/add-del-sents.csv')"
   ]
  },
  {
   "cell_type": "code",
   "execution_count": null,
   "metadata": {},
   "outputs": [],
   "source": []
  },
  {
   "cell_type": "code",
   "execution_count": null,
   "metadata": {},
   "outputs": [],
   "source": []
  },
  {
   "cell_type": "code",
   "execution_count": null,
   "metadata": {},
   "outputs": [],
   "source": []
  },
  {
   "cell_type": "code",
   "execution_count": null,
   "metadata": {},
   "outputs": [],
   "source": []
  },
  {
   "cell_type": "code",
   "execution_count": null,
   "metadata": {},
   "outputs": [],
   "source": []
  },
  {
   "cell_type": "code",
   "execution_count": null,
   "metadata": {},
   "outputs": [],
   "source": []
  },
  {
   "cell_type": "code",
   "execution_count": null,
   "metadata": {},
   "outputs": [],
   "source": []
  },
  {
   "cell_type": "code",
   "execution_count": null,
   "metadata": {},
   "outputs": [],
   "source": []
  },
  {
   "cell_type": "code",
   "execution_count": null,
   "metadata": {},
   "outputs": [],
   "source": []
  },
  {
   "cell_type": "code",
   "execution_count": null,
   "metadata": {},
   "outputs": [],
   "source": []
  },
  {
   "cell_type": "code",
   "execution_count": null,
   "metadata": {},
   "outputs": [],
   "source": []
  },
  {
   "cell_type": "code",
   "execution_count": null,
   "metadata": {},
   "outputs": [],
   "source": []
  },
  {
   "cell_type": "code",
   "execution_count": null,
   "metadata": {},
   "outputs": [],
   "source": [
    "conn = sqlite3.connect(f)"
   ]
  },
  {
   "cell_type": "code",
   "execution_count": 18,
   "metadata": {},
   "outputs": [
    {
     "data": {
      "text/html": [
       "<div>\n",
       "<style scoped>\n",
       "    .dataframe tbody tr th:only-of-type {\n",
       "        vertical-align: middle;\n",
       "    }\n",
       "\n",
       "    .dataframe tbody tr th {\n",
       "        vertical-align: top;\n",
       "    }\n",
       "\n",
       "    .dataframe thead th {\n",
       "        text-align: right;\n",
       "    }\n",
       "</style>\n",
       "<table border=\"1\" class=\"dataframe\">\n",
       "  <thead>\n",
       "    <tr style=\"text-align: right;\">\n",
       "      <th></th>\n",
       "      <th>entry_id</th>\n",
       "      <th>version</th>\n",
       "      <th>sent_idx</th>\n",
       "      <th>sentence</th>\n",
       "      <th>source</th>\n",
       "    </tr>\n",
       "  </thead>\n",
       "  <tbody>\n",
       "    <tr>\n",
       "      <th>0</th>\n",
       "      <td>1819591</td>\n",
       "      <td>1.0</td>\n",
       "      <td>0.0</td>\n",
       "      <td>HONG KONG — The protests that have shaken Hong...</td>\n",
       "      <td>nyt</td>\n",
       "    </tr>\n",
       "    <tr>\n",
       "      <th>1</th>\n",
       "      <td>1819591</td>\n",
       "      <td>1.0</td>\n",
       "      <td>1.0</td>\n",
       "      <td>Since then, they have become a  broader moveme...</td>\n",
       "      <td>nyt</td>\n",
       "    </tr>\n",
       "    <tr>\n",
       "      <th>2</th>\n",
       "      <td>1819591</td>\n",
       "      <td>1.0</td>\n",
       "      <td>2.0</td>\n",
       "      <td>Over the course of several weeks, violent clas...</td>\n",
       "      <td>nyt</td>\n",
       "    </tr>\n",
       "    <tr>\n",
       "      <th>3</th>\n",
       "      <td>1819591</td>\n",
       "      <td>1.0</td>\n",
       "      <td>3.0</td>\n",
       "      <td>Activists have stormed government offices, hal...</td>\n",
       "      <td>nyt</td>\n",
       "    </tr>\n",
       "    <tr>\n",
       "      <th>4</th>\n",
       "      <td>1819591</td>\n",
       "      <td>1.0</td>\n",
       "      <td>4.0</td>\n",
       "      <td>And the police’s use of force against demonstr...</td>\n",
       "      <td>nyt</td>\n",
       "    </tr>\n",
       "    <tr>\n",
       "      <th>...</th>\n",
       "      <td>...</td>\n",
       "      <td>...</td>\n",
       "      <td>...</td>\n",
       "      <td>...</td>\n",
       "      <td>...</td>\n",
       "    </tr>\n",
       "    <tr>\n",
       "      <th>1465079</th>\n",
       "      <td>693203</td>\n",
       "      <td>11.0</td>\n",
       "      <td>37.0</td>\n",
       "      <td>But the president has insisted he will not agr...</td>\n",
       "      <td>nyt</td>\n",
       "    </tr>\n",
       "    <tr>\n",
       "      <th>1465080</th>\n",
       "      <td>693203</td>\n",
       "      <td>11.0</td>\n",
       "      <td>38.0</td>\n",
       "      <td>And Mr. Boehner in recent days reaffirmed the ...</td>\n",
       "      <td>nyt</td>\n",
       "    </tr>\n",
       "    <tr>\n",
       "      <th>1465081</th>\n",
       "      <td>693203</td>\n",
       "      <td>11.0</td>\n",
       "      <td>39.0</td>\n",
       "      <td>Economists across a broad spectrum agree that ...</td>\n",
       "      <td>nyt</td>\n",
       "    </tr>\n",
       "    <tr>\n",
       "      <th>1465082</th>\n",
       "      <td>693203</td>\n",
       "      <td>11.0</td>\n",
       "      <td>40.0</td>\n",
       "      <td>The new Republican proposal could temporarily ...</td>\n",
       "      <td>nyt</td>\n",
       "    </tr>\n",
       "    <tr>\n",
       "      <th>1465083</th>\n",
       "      <td>693203</td>\n",
       "      <td>11.0</td>\n",
       "      <td>41.0</td>\n",
       "      <td>Jeremy W. Peters and Annie Lowrey contributed ...</td>\n",
       "      <td>nyt</td>\n",
       "    </tr>\n",
       "  </tbody>\n",
       "</table>\n",
       "<p>1465084 rows × 5 columns</p>\n",
       "</div>"
      ],
      "text/plain": [
       "        entry_id  version  sent_idx  \\\n",
       "0        1819591      1.0       0.0   \n",
       "1        1819591      1.0       1.0   \n",
       "2        1819591      1.0       2.0   \n",
       "3        1819591      1.0       3.0   \n",
       "4        1819591      1.0       4.0   \n",
       "...          ...      ...       ...   \n",
       "1465079   693203     11.0      37.0   \n",
       "1465080   693203     11.0      38.0   \n",
       "1465081   693203     11.0      39.0   \n",
       "1465082   693203     11.0      40.0   \n",
       "1465083   693203     11.0      41.0   \n",
       "\n",
       "                                                  sentence source  \n",
       "0        HONG KONG — The protests that have shaken Hong...    nyt  \n",
       "1        Since then, they have become a  broader moveme...    nyt  \n",
       "2        Over the course of several weeks, violent clas...    nyt  \n",
       "3        Activists have stormed government offices, hal...    nyt  \n",
       "4        And the police’s use of force against demonstr...    nyt  \n",
       "...                                                    ...    ...  \n",
       "1465079  But the president has insisted he will not agr...    nyt  \n",
       "1465080  And Mr. Boehner in recent days reaffirmed the ...    nyt  \n",
       "1465081  Economists across a broad spectrum agree that ...    nyt  \n",
       "1465082  The new Republican proposal could temporarily ...    nyt  \n",
       "1465083  Jeremy W. Peters and Annie Lowrey contributed ...    nyt  \n",
       "\n",
       "[1465084 rows x 5 columns]"
      ]
     },
     "execution_count": 18,
     "metadata": {},
     "output_type": "execute_result"
    }
   ],
   "source": [
    "nyt_sents"
   ]
  },
  {
   "cell_type": "code",
   "execution_count": null,
   "metadata": {},
   "outputs": [],
   "source": []
  },
  {
   "cell_type": "code",
   "execution_count": null,
   "metadata": {},
   "outputs": [],
   "source": []
  },
  {
   "cell_type": "code",
   "execution_count": null,
   "metadata": {},
   "outputs": [],
   "source": []
  },
  {
   "cell_type": "code",
   "execution_count": null,
   "metadata": {},
   "outputs": [],
   "source": []
  },
  {
   "cell_type": "code",
   "execution_count": null,
   "metadata": {},
   "outputs": [],
   "source": []
  },
  {
   "cell_type": "code",
   "execution_count": null,
   "metadata": {},
   "outputs": [],
   "source": []
  },
  {
   "cell_type": "code",
   "execution_count": null,
   "metadata": {},
   "outputs": [],
   "source": []
  },
  {
   "cell_type": "code",
   "execution_count": null,
   "metadata": {},
   "outputs": [],
   "source": []
  },
  {
   "cell_type": "code",
   "execution_count": null,
   "metadata": {},
   "outputs": [],
   "source": []
  },
  {
   "cell_type": "code",
   "execution_count": null,
   "metadata": {},
   "outputs": [],
   "source": []
  },
  {
   "cell_type": "code",
   "execution_count": null,
   "metadata": {},
   "outputs": [],
   "source": []
  },
  {
   "cell_type": "code",
   "execution_count": null,
   "metadata": {},
   "outputs": [],
   "source": []
  },
  {
   "cell_type": "code",
   "execution_count": null,
   "metadata": {},
   "outputs": [],
   "source": []
  },
  {
   "cell_type": "markdown",
   "metadata": {},
   "source": [
    "# Other"
   ]
  },
  {
   "cell_type": "code",
   "execution_count": 124,
   "metadata": {},
   "outputs": [],
   "source": [
    "import pandas as pd \n",
    "t = pd.read_csv('../eda/downsampled-event-sents.csv.gz')"
   ]
  },
  {
   "cell_type": "code",
   "execution_count": 125,
   "metadata": {},
   "outputs": [],
   "source": [
    "sent_lens = t['sentence'].str.split().str.len()"
   ]
  },
  {
   "cell_type": "code",
   "execution_count": 129,
   "metadata": {},
   "outputs": [
    {
     "data": {
      "text/plain": [
       "<matplotlib.axes._subplots.AxesSubplot at 0x7fc0f7df0810>"
      ]
     },
     "execution_count": 129,
     "metadata": {},
     "output_type": "execute_result"
    },
    {
     "data": {
      "image/png": "[encoded data removed]",
      "text/plain": [
       "<Figure size 432x288 with 1 Axes>"
      ]
     },
     "metadata": {
      "needs_background": "light"
     },
     "output_type": "display_data"
    }
   ],
   "source": [
    "sent_lens.value_counts().hist(range=(0,512))"
   ]
  },
  {
   "cell_type": "code",
   "execution_count": null,
   "metadata": {},
   "outputs": [],
   "source": []
  },
  {
   "cell_type": "code",
   "execution_count": null,
   "metadata": {},
   "outputs": [],
   "source": []
  },
  {
   "cell_type": "code",
   "execution_count": null,
   "metadata": {},
   "outputs": [],
   "source": []
  },
  {
   "cell_type": "code",
   "execution_count": null,
   "metadata": {},
   "outputs": [],
   "source": []
  },
  {
   "cell_type": "code",
   "execution_count": null,
   "metadata": {},
   "outputs": [],
   "source": []
  },
  {
   "cell_type": "code",
   "execution_count": null,
   "metadata": {},
   "outputs": [],
   "source": []
  },
  {
   "cell_type": "code",
   "execution_count": null,
   "metadata": {},
   "outputs": [],
   "source": []
  },
  {
   "cell_type": "code",
   "execution_count": null,
   "metadata": {},
   "outputs": [],
   "source": []
  },
  {
   "cell_type": "code",
   "execution_count": null,
   "metadata": {},
   "outputs": [],
   "source": []
  },
  {
   "cell_type": "code",
   "execution_count": null,
   "metadata": {},
   "outputs": [],
   "source": []
  },
  {
   "cell_type": "code",
   "execution_count": null,
   "metadata": {},
   "outputs": [],
   "source": []
  },
  {
   "cell_type": "code",
   "execution_count": null,
   "metadata": {},
   "outputs": [],
   "source": []
  },
  {
   "cell_type": "code",
   "execution_count": null,
   "metadata": {},
   "outputs": [],
   "source": []
  },
  {
   "cell_type": "markdown",
   "metadata": {},
   "source": [
    "# Make Dummy Data for Sentence Detection Algorithm "
   ]
  },
  {
   "cell_type": "code",
   "execution_count": 18,
   "metadata": {},
   "outputs": [],
   "source": [
    "from sklearn.preprocessing import MultiLabelBinarizer\n",
    "from sklearn.preprocessing import LabelBinarizer\n",
    "import pandas as pd \n",
    "import numpy as np "
   ]
  },
  {
   "cell_type": "code",
   "execution_count": 10,
   "metadata": {},
   "outputs": [],
   "source": [
    "discourse_df = pd.read_csv('../../controlled-sequence-gen/data/news-discourse-processed.tsv', sep='\\t', header=None)"
   ]
  },
  {
   "cell_type": "code",
   "execution_count": 11,
   "metadata": {},
   "outputs": [],
   "source": [
    "discourse_df[0] = discourse_df[0].str.split('_').str.get(0)"
   ]
  },
  {
   "cell_type": "code",
   "execution_count": 129,
   "metadata": {},
   "outputs": [],
   "source": [
    "(discourse_df\n",
    " .to_csv('../../controlled-sequence-gen/data/news-discourse-high-level-labels-processed.tsv', \n",
    "         sep='\\t', index=False,\n",
    "         header=None\n",
    "        ))"
   ]
  },
  {
   "cell_type": "code",
   "execution_count": 12,
   "metadata": {},
   "outputs": [],
   "source": [
    "discourse_df[[\n",
    "    'add_below_label',\n",
    "    'add_above_label',\n",
    "    'refactored_label'\n",
    "]] = 0"
   ]
  },
  {
   "cell_type": "code",
   "execution_count": 13,
   "metadata": {},
   "outputs": [
    {
     "data": {
      "text/plain": [
       "['Main', 'Distant', 'Cause']"
      ]
     },
     "execution_count": 13,
     "metadata": {},
     "output_type": "execute_result"
    }
   ],
   "source": [
    "discourse_df[0].unique()[:3].tolist()"
   ]
  },
  {
   "cell_type": "code",
   "execution_count": 15,
   "metadata": {},
   "outputs": [],
   "source": [
    "import numpy as np \n",
    "mapper = {\n",
    "    'Main': 'deleted_label',\n",
    "    'Distant':'edited_label',\n",
    "    'Cause':'unchanged_label',\n",
    "    'Error': np.nan\n",
    "}"
   ]
  },
  {
   "cell_type": "code",
   "execution_count": 16,
   "metadata": {},
   "outputs": [],
   "source": [
    "discourse_df[0] = discourse_df[0].map(mapper)"
   ]
  },
  {
   "cell_type": "code",
   "execution_count": 20,
   "metadata": {},
   "outputs": [],
   "source": [
    "discourse_df = discourse_df.dropna().reset_index(drop=True)"
   ]
  },
  {
   "cell_type": "code",
   "execution_count": 21,
   "metadata": {},
   "outputs": [],
   "source": [
    "lb = LabelBinarizer()\n",
    "labels_df = pd.DataFrame(lb.fit_transform(discourse_df[0]), columns=lb.classes_)"
   ]
  },
  {
   "cell_type": "code",
   "execution_count": 22,
   "metadata": {},
   "outputs": [],
   "source": [
    "t_df = pd.concat([discourse_df, labels_df], axis=1)"
   ]
  },
  {
   "cell_type": "code",
   "execution_count": 24,
   "metadata": {
    "scrolled": true
   },
   "outputs": [],
   "source": [
    "t_df = (t_df\n",
    " .rename(columns={3: 'sent_idx', 1:'sentence', 2:'entry_id'})\n",
    " .assign(version=lambda df: df['entry_id'])\n",
    " .drop(0, axis=1)\n",
    ")"
   ]
  },
  {
   "cell_type": "code",
   "execution_count": 32,
   "metadata": {},
   "outputs": [],
   "source": [
    "(t_df\n",
    ".loc[lambda df: df['entry_id'].isin(df['entry_id'].value_counts().loc[lambda s: s > 1].index)]\n",
    " .to_csv('../modeling/data/dummy-discourse-data-in-edits-format.csv', index=False)\n",
    ")"
   ]
  },
  {
   "cell_type": "markdown",
   "metadata": {},
   "source": []
  },
  {
   "cell_type": "code",
   "execution_count": null,
   "metadata": {},
   "outputs": [],
   "source": []
  },
  {
   "cell_type": "code",
   "execution_count": null,
   "metadata": {},
   "outputs": [],
   "source": []
  },
  {
   "cell_type": "code",
   "execution_count": null,
   "metadata": {},
   "outputs": [],
   "source": []
  },
  {
   "cell_type": "code",
   "execution_count": null,
   "metadata": {},
   "outputs": [],
   "source": []
  },
  {
   "cell_type": "code",
   "execution_count": null,
   "metadata": {},
   "outputs": [],
   "source": []
  },
  {
   "cell_type": "code",
   "execution_count": null,
   "metadata": {},
   "outputs": [],
   "source": []
  },
  {
   "cell_type": "code",
   "execution_count": null,
   "metadata": {},
   "outputs": [],
   "source": []
  },
  {
   "cell_type": "code",
   "execution_count": null,
   "metadata": {},
   "outputs": [],
   "source": []
  },
  {
   "cell_type": "code",
   "execution_count": null,
   "metadata": {},
   "outputs": [],
   "source": []
  }
 ],
 "metadata": {
  "hide_input": false,
  "kernelspec": {
   "display_name": "Python 3",
   "language": "python",
   "name": "python3"
  },
  "language_info": {
   "codemirror_mode": {
    "name": "ipython",
    "version": 3
   },
   "file_extension": ".py",
   "mimetype": "text/x-python",
   "name": "python",
   "nbconvert_exporter": "python",
   "pygments_lexer": "ipython3",
   "version": "3.7.6"
  }
 },
 "nbformat": 4,
 "nbformat_minor": 4
}
