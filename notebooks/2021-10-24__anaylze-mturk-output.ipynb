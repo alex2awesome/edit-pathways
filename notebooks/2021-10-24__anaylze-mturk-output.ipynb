{
 "cells": [
  {
   "cell_type": "code",
   "execution_count": 177,
   "metadata": {},
   "outputs": [],
   "source": [
    "# Thoughts EDA for edits:\n",
    "# - top words for additions\n",
    "# - top words for deletions \n",
    "# - how many times a contributor is added? (Authorship model)\n",
    "# - how many times a correction is issued\n",
    "# - how many times a headline is updated\n",
    "# - how many refuters occur\n",
    "# - discourse tags of additions/edits/deletions\n",
    "# - how often are DATES, people, other NEs added?\n",
    "# - When are sentences removed:\n",
    "#     hypotheses:\n",
    "#     --------------------------------------------------------------\n",
    "#         \"it's not immediately clear\"\n",
    "#         \"no information\"\n",
    "#         \"trying to determine\"\n",
    "#         \"yet to establish\"\n",
    "#         \"no official word\"\n",
    "#         \"still being compiled\"\n",
    "#         \"more details soon\"\n",
    "#         \"not yet known\"\n",
    "#         \"cause not determined\"\n",
    "#         \"check back for updates\""
   ]
  },
  {
   "cell_type": "code",
   "execution_count": 35,
   "metadata": {},
   "outputs": [],
   "source": [
    "import pandas as pd \n",
    "import glob\n",
    "import ast\n",
    "import pickle\n",
    "import numpy as np \n",
    "import seaborn as sns\n",
    "from tqdm.auto import tqdm\n",
    "import matplotlib.pyplot as plt\n",
    "plt.rc('font', size=14)"
   ]
  },
  {
   "cell_type": "code",
   "execution_count": 36,
   "metadata": {},
   "outputs": [],
   "source": [
    "with open('hits_cache/2021-10-24__all-answers.pkl', 'rb') as f:\n",
    "    all_answers = pickle.load(f)    "
   ]
  },
  {
   "cell_type": "code",
   "execution_count": 54,
   "metadata": {},
   "outputs": [],
   "source": [
    "doc_ids = list(map(lambda x: x['doc_id'], all_answers))\n",
    "doc_ids = list(map(ast.literal_eval, doc_ids))\n",
    "doc_ids = list(set(doc_ids))\n",
    "doc_ids = sorted(doc_ids, key=lambda x: x[0])"
   ]
  },
  {
   "cell_type": "code",
   "execution_count": 59,
   "metadata": {},
   "outputs": [],
   "source": [
    "annotated_doc_ids = pd.DataFrame(doc_ids, columns=['source', 'entry_id', 'version_x', 'version_y'])"
   ]
  },
  {
   "cell_type": "code",
   "execution_count": 693,
   "metadata": {
    "scrolled": true
   },
   "outputs": [
    {
     "data": {
      "application/vnd.jupyter.widget-view+json": {
       "model_id": "2728b410ddb74c38bb18deec78c4d85a",
       "version_major": 2,
       "version_minor": 0
      },
      "text/plain": [
       "  0%|          | 0/45 [00:00<?, ?it/s]"
      ]
     },
     "metadata": {},
     "output_type": "display_data"
    }
   ],
   "source": [
    "all_prec_recall = []\n",
    "\n",
    "for max_distance in tqdm(np.arange(0, .45, .01)):\n",
    "    all_comparisons = []\n",
    "    for a in all_answers:\n",
    "        pred_arcs = (\n",
    "            pd.DataFrame(a['original_arcs'])\n",
    "             .dropna()\n",
    "             .loc[lambda df: df[['avg_sentence_distance_x', 'avg_sentence_distance_y']].min(axis=1) < max_distance]\n",
    "             [['sent_idx_x', 'sent_idx_y']].astype(int)\n",
    "        )\n",
    "\n",
    "        annotated_arcs = pd.DataFrame(a['annotated connections'], columns=['sent_idx_x', 'sent_idx_y']).astype(int)\n",
    "\n",
    "        comparison = (pred_arcs.assign(in_pred=True)\n",
    "         .merge(\n",
    "             annotated_arcs.assign(in_annot=True),\n",
    "             how='outer',\n",
    "             left_on=['sent_idx_x', 'sent_idx_y'],\n",
    "             right_on=['sent_idx_x', 'sent_idx_y'],\n",
    "           )\n",
    "         .fillna(False)\n",
    "        )\n",
    "\n",
    "        all_comparisons.append(comparison)\n",
    "\n",
    "    all_comparison_df = pd.concat(all_comparisons)\n",
    "    prec_recall = all_comparison_df[['in_pred', 'in_annot']].mean().rename({'in_pred': 'recall', 'in_annot': 'precision'})\n",
    "    prec_recall_df = prec_recall.to_frame('metrics').assign(cutoff=max_distance)\n",
    "    all_prec_recall.append(prec_recall_df)"
   ]
  },
  {
   "cell_type": "code",
   "execution_count": 696,
   "metadata": {},
   "outputs": [
    {
     "data": {
      "text/plain": [
       "<matplotlib.axes._subplots.AxesSubplot at 0x7fe693183e10>"
      ]
     },
     "execution_count": 696,
     "metadata": {},
     "output_type": "execute_result"
    },
    {
     "data": {
      "image/png": "[encoded data removed]",
      "text/plain": [
       "<Figure size 432x288 with 1 Axes>"
      ]
     },
     "metadata": {
      "needs_background": "light"
     },
     "output_type": "display_data"
    }
   ],
   "source": [
    "all_prec_recall_df = pd.concat(all_prec_recall).reset_index()\n",
    "sns.lineplot(data=all_prec_recall_df, y='metrics', x='cutoff', hue='index')"
   ]
  },
  {
   "cell_type": "code",
   "execution_count": 718,
   "metadata": {
    "scrolled": true
   },
   "outputs": [
    {
     "data": {
      "text/plain": [
       "cutoff\n",
       "0.00    0.000000\n",
       "0.01    0.401132\n",
       "0.02    0.402138\n",
       "0.03    0.402138\n",
       "0.04    0.403144\n",
       "0.05    0.404148\n",
       "0.06    0.406152\n",
       "0.07    0.410145\n",
       "0.08    0.414119\n",
       "0.09    0.415109\n",
       "0.10    0.422005\n",
       "0.11    0.431413\n",
       "0.12    0.437200\n",
       "0.13    0.443896\n",
       "0.14    0.449591\n",
       "0.15    0.461786\n",
       "0.16    0.471035\n",
       "0.17    0.488305\n",
       "0.18    0.502546\n",
       "0.19    0.511310\n",
       "0.20    0.519110\n",
       "0.21    0.528532\n",
       "0.22    0.535309\n",
       "0.23    0.541188\n",
       "0.24    0.554447\n",
       "0.25    0.567823\n",
       "0.26    0.584848\n",
       "0.27    0.596517\n",
       "0.28    0.604759\n",
       "0.29    0.618305\n",
       "0.30    0.637630\n",
       "0.31    0.651938\n",
       "0.32    0.666971\n",
       "0.33    0.675876\n",
       "0.34    0.689466\n",
       "0.35    0.705329\n",
       "0.36    0.722142\n",
       "0.37    0.736484\n",
       "0.38    0.755736\n",
       "0.39    0.774866\n",
       "0.40    0.789398\n",
       "0.41    0.807863\n",
       "0.42    0.823371\n",
       "0.43    0.837204\n",
       "0.44    0.854618\n",
       "dtype: float64"
      ]
     },
     "execution_count": 718,
     "metadata": {},
     "output_type": "execute_result"
    }
   ],
   "source": [
    "(all_prec_recall_df\n",
    " .pivot(index='cutoff', columns='index', values='metrics')\n",
    " .apply(lambda x: 2 * (x['precision'] * x['recall']) / ((x['precision'] + x['recall'])),  axis=1)\n",
    ")"
   ]
  },
  {
   "cell_type": "code",
   "execution_count": null,
   "metadata": {},
   "outputs": [],
   "source": []
  },
  {
   "cell_type": "code",
   "execution_count": null,
   "metadata": {},
   "outputs": [],
   "source": []
  },
  {
   "cell_type": "code",
   "execution_count": null,
   "metadata": {},
   "outputs": [],
   "source": []
  },
  {
   "cell_type": "code",
   "execution_count": null,
   "metadata": {},
   "outputs": [],
   "source": []
  },
  {
   "cell_type": "markdown",
   "metadata": {},
   "source": [
    "# Recreate sentence matching"
   ]
  },
  {
   "cell_type": "code",
   "execution_count": 642,
   "metadata": {},
   "outputs": [],
   "source": [
    "from transformers import AutoModel, AutoTokenizer\n",
    "import torch\n",
    "from torch.nn.utils.rnn import pad_sequence\n",
    "import numpy as np \n",
    "from scipy.spatial.distance import cosine\n",
    "from sklearn.metrics.pairwise import cosine_distances, cosine_similarity\n",
    "from scipy.optimize import linear_sum_assignment"
   ]
  },
  {
   "cell_type": "code",
   "execution_count": 247,
   "metadata": {},
   "outputs": [],
   "source": [
    "model = AutoModel.from_pretrained('prajjwal1/bert-mini')\n",
    "tokenizer = AutoTokenizer.from_pretrained('prajjwal1/bert-mini')"
   ]
  },
  {
   "cell_type": "code",
   "execution_count": 472,
   "metadata": {},
   "outputs": [],
   "source": [
    "import numpy_indexed as npi\n",
    "def avg_across_subwords(tok_vec, b, cut_cls_char=True):\n",
    "    word_ids = b.word_ids()\n",
    "    word_ids = list(map(lambda x: -1 if x is None else x, word_ids))\n",
    "    tok_vec = tok_vec[:len(word_ids)].detach().cpu().numpy()\n",
    "    index, tok_vec = npi.group_by(np.array(word_ids)).mean(tok_vec)\n",
    "    if cut_cls_char:\n",
    "        return index[1:], tok_vec[1:]\n",
    "    else:\n",
    "        return index, tok_vec"
   ]
  },
  {
   "cell_type": "code",
   "execution_count": 784,
   "metadata": {},
   "outputs": [],
   "source": [
    "def get_all_comparisons(all_answers, sent_comp_metric, metric_dir='min', *args, **kwargs):\n",
    "    all_comparisons = []\n",
    "    for a in tqdm(all_answers):\n",
    "        nodes_df = pd.DataFrame(a['nodes'])\n",
    "        sentence_pair_df = sent_comp_metric(nodes_df=nodes_df, *args, **kwargs)\n",
    "        annotated_arcs = pd.DataFrame(\n",
    "            a['annotated connections'], \n",
    "            columns=['sent_idx_x', 'sent_idx_y']\n",
    "        ).astype(int)\n",
    "\n",
    "        for cutoff in np.arange(0, 1, .02):\n",
    "            if metric_dir == 'min':\n",
    "                pred_arcs = (\n",
    "                    sentence_pair_df\n",
    "                     .loc[lambda df: df[['avg_sentence_sim_x', 'avg_sentence_sim_y']].max(axis=1) > cutoff]\n",
    "                     [['sent_idx_x', 'sent_idx_y']].astype(int)\n",
    "                )\n",
    "            else:\n",
    "                pred_arcs = (\n",
    "                    sentence_pair_df\n",
    "                     .loc[lambda df: df[['avg_sentence_distance_x', 'avg_sentence_distance_y']].min(axis=1) < cutoff]\n",
    "                     [['sent_idx_x', 'sent_idx_y']].astype(int)\n",
    "                )\n",
    "\n",
    "            comparison = (pred_arcs.assign(in_pred=True)\n",
    "             .merge(\n",
    "                 annotated_arcs.assign(in_annot=True),\n",
    "                 how='outer',\n",
    "                 left_on=['sent_idx_x', 'sent_idx_y'],\n",
    "                 right_on=['sent_idx_x', 'sent_idx_y'],\n",
    "               )\n",
    "             .fillna(False)\n",
    "            )\n",
    "\n",
    "            all_comparisons.append(\n",
    "                comparison[['in_pred', 'in_annot']].assign(cutoff=cutoff)\n",
    "            )\n",
    "    return pd.concat(all_comparisons)"
   ]
  },
  {
   "cell_type": "code",
   "execution_count": 742,
   "metadata": {},
   "outputs": [],
   "source": [
    "def tensorize_df_bert(nodes_df):\n",
    "    ## prepare data input\n",
    "    nodes_df['sentence_tokens'] = nodes_df['sentence'].apply(tokenizer)\n",
    "    nodes_df['sentence_tensors'] = nodes_df['sentence_tokens'].apply(lambda x: torch.tensor(x.input_ids))\n",
    "    nodes_df['sentence_lens'] = nodes_df['sentence_tensors'].str.len()\n",
    "    nodes_df['max_len'] = nodes_df['sentence_lens'].max()\n",
    "    nodes_df['padding'] = nodes_df['max_len'] - nodes_df['sentence_lens']\n",
    "    nodes_df['attention_mask'] = (\n",
    "        nodes_df\n",
    "          .apply(lambda x: [1] * x['sentence_lens'] + [0] * x['padding'] , axis=1)\n",
    "          .apply(torch.tensor)\n",
    "    )\n",
    "    token_input = pad_sequence(\n",
    "        nodes_df['sentence_tensors'].tolist(),\n",
    "        batch_first=True\n",
    "    )\n",
    "    attention_mask = torch.vstack(nodes_df['attention_mask'].tolist())\n",
    "    return token_input, attention_mask, nodes_df"
   ]
  },
  {
   "cell_type": "code",
   "execution_count": 721,
   "metadata": {},
   "outputs": [],
   "source": [
    "def get_sentence_similarities_unigram_bert_1(nodes_df):\n",
    "    token_input, attention_mask, nodes_df = tensorize_df_bert(nodes_df)\n",
    "\n",
    "    ## Get output\n",
    "    output = model(token_input, attention_mask=attention_mask)\n",
    "\n",
    "    ## split words into X and Y\n",
    "    word_df = []\n",
    "    for idx, version, s_idx, tokens in nodes_df[['version', 'sent_idx', 'sentence_tokens']].itertuples():\n",
    "        sentence_vec = output.last_hidden_state[idx]\n",
    "        word_ids, avg_vecs = avg_across_subwords(sentence_vec, tokens)\n",
    "        for word_idx in word_ids:\n",
    "            word_df.append({\n",
    "                'version': version,\n",
    "                's_idx': s_idx,\n",
    "                'w_idx': word_idx,\n",
    "                'tensor': avg_vecs[word_idx]\n",
    "            })\n",
    "    \n",
    "    word_df = pd.DataFrame(word_df)\n",
    "    words_x = word_df.loc[lambda df: df['version'] == df['version'].min()]\n",
    "    words_y = word_df.loc[lambda df: df['version'] == df['version'].max()]\n",
    "\n",
    "    ## perform comparisons\n",
    "    sentence_pairs = []\n",
    "    for s_idx_x in words_x['s_idx'].drop_duplicates():\n",
    "        for s_idx_y in words_y['s_idx'].drop_duplicates():\n",
    "            t_y = np.vstack(words_y.loc[lambda df: df['s_idx'] == s_idx_y]['tensor'].tolist())\n",
    "            t_x = np.vstack(words_x.loc[lambda df: df['s_idx'] == s_idx_x]['tensor'].tolist())\n",
    "            # \n",
    "            x_y_sim = cosine_similarity(t_x, t_y)\n",
    "            row_ind, col_ind = linear_sum_assignment(1 - x_y_sim)\n",
    "            opt_sims = x_y_sim[row_ind, col_ind].sum()\n",
    "            x_sim = opt_sims / len(t_x)\n",
    "            y_sim = opt_sims / len(t_y)\n",
    "            sentence_pairs.append({\n",
    "                'avg_sentence_sim_x': x_sim,\n",
    "                'avg_sentence_sim_y': y_sim,\n",
    "                'sent_idx_x': s_idx_x,\n",
    "                'sent_idx_y': s_idx_y\n",
    "            })\n",
    "\n",
    "    sentence_pair_df = pd.DataFrame(sentence_pairs)\n",
    "    return sentence_pair_df"
   ]
  },
  {
   "cell_type": "code",
   "execution_count": 792,
   "metadata": {},
   "outputs": [
    {
     "data": {
      "application/vnd.jupyter.widget-view+json": {
       "model_id": "f4419141bfd044e1afe830788c334eeb",
       "version_major": 2,
       "version_minor": 0
      },
      "text/plain": [
       "  0%|          | 0/193 [00:00<?, ?it/s]"
      ]
     },
     "metadata": {},
     "output_type": "display_data"
    }
   ],
   "source": [
    "all_comparison_df = get_all_comparisons(all_answers, get_sentence_similarities_unigram_bert_1)"
   ]
  },
  {
   "cell_type": "code",
   "execution_count": 795,
   "metadata": {},
   "outputs": [
    {
     "data": {
      "text/plain": [
       "Text(0, 0.5, 'Score')"
      ]
     },
     "execution_count": 795,
     "metadata": {},
     "output_type": "execute_result"
    },
    {
     "data": {
      "image/png": "[encoded data removed]",
      "text/plain": [
       "<Figure size 432x180 with 1 Axes>"
      ]
     },
     "metadata": {
      "needs_background": "light"
     },
     "output_type": "display_data"
    }
   ],
   "source": [
    "prec_recall = (all_comparison_df\n",
    " .groupby('cutoff')\n",
    " .mean()\n",
    " .rename(columns={'in_pred': 'recall', 'in_annot': 'precision'})\n",
    ")\n",
    "ax = prec_recall.plot(figsize=(6, 2.5))\n",
    "ax.spines['top'].set_visible(False)\n",
    "ax.spines['right'].set_visible(False)\n",
    "plt.ylabel('Score')"
   ]
  },
  {
   "cell_type": "code",
   "execution_count": 796,
   "metadata": {
    "scrolled": true
   },
   "outputs": [
    {
     "data": {
      "text/plain": [
       "0.8851764394323925"
      ]
     },
     "execution_count": 796,
     "metadata": {},
     "output_type": "execute_result"
    }
   ],
   "source": [
    "#                   prec * recall\n",
    "# f1-score = 2 * -----------------\n",
    "#                   prec + recall\n",
    "\n",
    "(prec_recall\n",
    " .apply(lambda x: 2 * (x['precision'] * x['recall']) / ((x['precision'] + x['recall'])),  axis=1)\n",
    " .max()\n",
    ")"
   ]
  },
  {
   "cell_type": "markdown",
   "metadata": {},
   "source": [
    "# Regular Sequences"
   ]
  },
  {
   "cell_type": "code",
   "execution_count": 728,
   "metadata": {},
   "outputs": [],
   "source": [
    "from difflib import SequenceMatcher"
   ]
  },
  {
   "cell_type": "code",
   "execution_count": 749,
   "metadata": {},
   "outputs": [],
   "source": [
    "def get_sent_char_sim_method_1(nodes_df):\n",
    "    ## perform comparisons\n",
    "    sentence_pairs = []\n",
    "    sents_x = nodes_df.loc[lambda df: df['version'] == df['version'].min()]\n",
    "    sents_y = nodes_df.loc[lambda df: df['version'] == df['version'].max()]\n",
    "\n",
    "    sentence_pairs = []\n",
    "    for s_idx_x, sent_x in sents_x[['sent_idx', 'sentence']].drop_duplicates().itertuples(index=False):\n",
    "        for s_idx_y, sent_y in sents_y[['sent_idx', 'sentence']].drop_duplicates().itertuples(index=False):\n",
    "            x_y_sim = SequenceMatcher(None, sent_x, sent_y).ratio()\n",
    "            sentence_pairs.append({\n",
    "                'avg_sentence_sim_x': x_y_sim,\n",
    "                'avg_sentence_sim_y': x_y_sim,\n",
    "                'sent_idx_x': s_idx_x,\n",
    "                'sent_idx_y': s_idx_y\n",
    "            })\n",
    "\n",
    "    sentence_pair_df = pd.DataFrame(sentence_pairs)\n",
    "    return sentence_pair_df"
   ]
  },
  {
   "cell_type": "code",
   "execution_count": 741,
   "metadata": {},
   "outputs": [
    {
     "data": {
      "application/vnd.jupyter.widget-view+json": {
       "model_id": "2f9bcad2d30f41be8e20113c0a468e7b",
       "version_major": 2,
       "version_minor": 0
      },
      "text/plain": [
       "  0%|          | 0/193 [00:00<?, ?it/s]"
      ]
     },
     "metadata": {},
     "output_type": "display_data"
    }
   ],
   "source": [
    "sent_diff_1_comparisons = get_all_comparisons(all_answers, get_sent_char_sim_method_1)"
   ]
  },
  {
   "cell_type": "code",
   "execution_count": 745,
   "metadata": {},
   "outputs": [
    {
     "data": {
      "text/plain": [
       "Text(0, 0.5, 'Score')"
      ]
     },
     "execution_count": 745,
     "metadata": {},
     "output_type": "execute_result"
    },
    {
     "data": {
      "image/png": "[encoded data removed]",
      "text/plain": [
       "<Figure size 432x180 with 1 Axes>"
      ]
     },
     "metadata": {
      "needs_background": "light"
     },
     "output_type": "display_data"
    }
   ],
   "source": [
    "sent_diff_1_prec_recall = (sent_diff_1_comparisons\n",
    " .groupby('cutoff')\n",
    " .mean()\n",
    " .rename(columns={'in_pred': 'recall', 'in_annot': 'precision'})\n",
    ")\n",
    "ax = sent_diff_1_prec_recall.plot(figsize=(6, 2.5))\n",
    "ax.spines['top'].set_visible(False)\n",
    "ax.spines['right'].set_visible(False)\n",
    "plt.ylabel('Score')"
   ]
  },
  {
   "cell_type": "code",
   "execution_count": 748,
   "metadata": {},
   "outputs": [
    {
     "data": {
      "text/plain": [
       "0.8586017403337957"
      ]
     },
     "execution_count": 748,
     "metadata": {},
     "output_type": "execute_result"
    }
   ],
   "source": [
    "(sent_diff_1_prec_recall\n",
    " .apply(lambda x: 2 * (x['precision'] * x['recall']) / ((x['precision'] + x['recall'])),  axis=1)\n",
    " .max()\n",
    ")"
   ]
  },
  {
   "cell_type": "code",
   "execution_count": 752,
   "metadata": {},
   "outputs": [],
   "source": [
    "import spacy\n",
    "nlp = spacy.load('en_core_web_lg')"
   ]
  },
  {
   "cell_type": "code",
   "execution_count": 756,
   "metadata": {},
   "outputs": [],
   "source": [
    "def get_sent_char_sim_method_2(nodes_df):\n",
    "    sentences = nodes_df['sentence'].tolist()\n",
    "    tokenized = []\n",
    "    for doc in nlp.pipe(sentences, disable=[\"tok2vec\", \"tagger\", \"parser\", \"attribute_ruler\", \"lemmatizer\"]):\n",
    "        tokens = list(map(lambda x: x.text, doc))\n",
    "        tokenized.append(tokens)\n",
    "    nodes_df['tokenized_sentences'] = tokenized\n",
    "    \n",
    "    ## perform comparisons\n",
    "    sentence_pairs = []\n",
    "    sents_x = nodes_df.loc[lambda df: df['version'] == df['version'].min()]\n",
    "    sents_y = nodes_df.loc[lambda df: df['version'] == df['version'].max()]\n",
    "\n",
    "    sentence_pairs = []\n",
    "    for s_idx_x, sent_x in sents_x[['sent_idx', 'tokenized_sentences']].itertuples(index=False):\n",
    "        for s_idx_y, sent_y in sents_y[['sent_idx', 'tokenized_sentences']].itertuples(index=False):\n",
    "            x_y_sim = SequenceMatcher(None, sent_x, sent_y).ratio()\n",
    "            sentence_pairs.append({\n",
    "                'avg_sentence_sim_x': x_y_sim,\n",
    "                'avg_sentence_sim_y': x_y_sim,\n",
    "                'sent_idx_x': s_idx_x,\n",
    "                'sent_idx_y': s_idx_y\n",
    "            })\n",
    "\n",
    "    sentence_pair_df = pd.DataFrame(sentence_pairs)\n",
    "    return sentence_pair_df"
   ]
  },
  {
   "cell_type": "code",
   "execution_count": 758,
   "metadata": {},
   "outputs": [
    {
     "data": {
      "application/vnd.jupyter.widget-view+json": {
       "model_id": "d48fb55a248b4749ac2caede7c4d758c",
       "version_major": 2,
       "version_minor": 0
      },
      "text/plain": [
       "  0%|          | 0/193 [00:00<?, ?it/s]"
      ]
     },
     "metadata": {},
     "output_type": "display_data"
    }
   ],
   "source": [
    "sent_diff_2_comparisons = get_all_comparisons(all_answers, get_sent_char_sim_method_2)"
   ]
  },
  {
   "cell_type": "code",
   "execution_count": 760,
   "metadata": {},
   "outputs": [
    {
     "data": {
      "text/plain": [
       "Text(0, 0.5, 'Score')"
      ]
     },
     "execution_count": 760,
     "metadata": {},
     "output_type": "execute_result"
    },
    {
     "data": {
      "image/png": "[encoded data removed]",
      "text/plain": [
       "<Figure size 432x180 with 1 Axes>"
      ]
     },
     "metadata": {
      "needs_background": "light"
     },
     "output_type": "display_data"
    }
   ],
   "source": [
    "sent_diff_2_prec_recall = (sent_diff_2_comparisons\n",
    " .groupby('cutoff')\n",
    " .mean()\n",
    " .rename(columns={'in_pred': 'recall', 'in_annot': 'precision'})\n",
    ")\n",
    "ax = sent_diff_1_prec_recall.plot(figsize=(6, 2.5))\n",
    "ax.spines['top'].set_visible(False)\n",
    "ax.spines['right'].set_visible(False)\n",
    "plt.ylabel('Score')"
   ]
  },
  {
   "cell_type": "code",
   "execution_count": 791,
   "metadata": {},
   "outputs": [
    {
     "data": {
      "text/plain": [
       "0.8981197727501872"
      ]
     },
     "execution_count": 791,
     "metadata": {},
     "output_type": "execute_result"
    }
   ],
   "source": [
    "(sent_diff_2_prec_recall\n",
    " .apply(lambda x: 2 * (x['precision'] * x['recall']) / ((x['precision'] + x['recall'])),  axis=1)\n",
    " .max()\n",
    ")"
   ]
  },
  {
   "cell_type": "code",
   "execution_count": 764,
   "metadata": {},
   "outputs": [],
   "source": [
    "from nltk.translate import bleu_score"
   ]
  },
  {
   "cell_type": "code",
   "execution_count": 785,
   "metadata": {},
   "outputs": [],
   "source": [
    "def get_bleu_comp(nodes_df, weights, *args, **kwargs):\n",
    "    sentences = nodes_df['sentence'].tolist()\n",
    "    tokenized = []\n",
    "    for doc in nlp.pipe(sentences, disable=[\"tok2vec\", \"tagger\", \"parser\", \"attribute_ruler\", \"lemmatizer\"]):\n",
    "        tokens = list(map(lambda x: x.text, doc))\n",
    "        tokenized.append(tokens)\n",
    "    nodes_df['tokenized_sentences'] = tokenized\n",
    "    \n",
    "    ## perform comparisons\n",
    "    sentence_pairs = []\n",
    "    sents_x = nodes_df.loc[lambda df: df['version'] == df['version'].min()]\n",
    "    sents_y = nodes_df.loc[lambda df: df['version'] == df['version'].max()]\n",
    "\n",
    "    sentence_pairs = []\n",
    "    for s_idx_x, sent_x in sents_x[['sent_idx', 'tokenized_sentences']].itertuples(index=False):\n",
    "        for s_idx_y, sent_y in sents_y[['sent_idx', 'tokenized_sentences']].itertuples(index=False):\n",
    "            x_sim = bleu_score.sentence_bleu([sent_x], sent_y, weights=weights)\n",
    "            y_sim = bleu_score.sentence_bleu([sent_y], sent_x, weights=weights)\n",
    "            sentence_pairs.append({\n",
    "                'avg_sentence_sim_x': x_sim,\n",
    "                'avg_sentence_sim_y': x_sim,\n",
    "                'sent_idx_x': s_idx_x,\n",
    "                'sent_idx_y': s_idx_y\n",
    "            })\n",
    "\n",
    "    sentence_pair_df = pd.DataFrame(sentence_pairs)\n",
    "    return sentence_pair_df"
   ]
  },
  {
   "cell_type": "code",
   "execution_count": 786,
   "metadata": {},
   "outputs": [
    {
     "data": {
      "application/vnd.jupyter.widget-view+json": {
       "model_id": "74f2f297d321401986450db66f51f279",
       "version_major": 2,
       "version_minor": 0
      },
      "text/plain": [
       "  0%|          | 0/193 [00:00<?, ?it/s]"
      ]
     },
     "metadata": {},
     "output_type": "display_data"
    }
   ],
   "source": [
    "bleu_unigram_comparisons = get_all_comparisons(all_answers, get_bleu_comp, weights=[1, 0, 0, 0])"
   ]
  },
  {
   "cell_type": "code",
   "execution_count": 787,
   "metadata": {},
   "outputs": [
    {
     "data": {
      "application/vnd.jupyter.widget-view+json": {
       "model_id": "7c3638f2caea4e399d79b5ca5cf525f2",
       "version_major": 2,
       "version_minor": 0
      },
      "text/plain": [
       "  0%|          | 0/193 [00:00<?, ?it/s]"
      ]
     },
     "metadata": {},
     "output_type": "display_data"
    },
    {
     "data": {
      "application/vnd.jupyter.widget-view+json": {
       "model_id": "737ed081d9fb4ae0b4af99abcca7210c",
       "version_major": 2,
       "version_minor": 0
      },
      "text/plain": [
       "  0%|          | 0/193 [00:00<?, ?it/s]"
      ]
     },
     "metadata": {},
     "output_type": "display_data"
    },
    {
     "data": {
      "application/vnd.jupyter.widget-view+json": {
       "model_id": "aa4e546a9f8d40ada600ab35bb107813",
       "version_major": 2,
       "version_minor": 0
      },
      "text/plain": [
       "  0%|          | 0/193 [00:00<?, ?it/s]"
      ]
     },
     "metadata": {},
     "output_type": "display_data"
    },
    {
     "data": {
      "application/vnd.jupyter.widget-view+json": {
       "model_id": "49548e77bf18481c8fbb849864c8a805",
       "version_major": 2,
       "version_minor": 0
      },
      "text/plain": [
       "  0%|          | 0/193 [00:00<?, ?it/s]"
      ]
     },
     "metadata": {},
     "output_type": "display_data"
    }
   ],
   "source": [
    "bleu_bigram_comparisons = get_all_comparisons(all_answers, get_bleu_comp, weights=[0, 1, 0, 0])\n",
    "bleu_trigram_comparisons = get_all_comparisons(all_answers, get_bleu_comp, weights=[0, 0, 1, 0])\n",
    "bleu_mixed_bigram_comparisons = get_all_comparisons(all_answers, get_bleu_comp, weights=[.5, .5, 0, 0])\n",
    "bleu_mixed_trigram_comparisons = get_all_comparisons(all_answers, get_bleu_comp, weights=[.33, .33, .34, 0])"
   ]
  },
  {
   "cell_type": "code",
   "execution_count": 790,
   "metadata": {},
   "outputs": [
    {
     "name": "stdout",
     "output_type": "stream",
     "text": [
      "bleu unigram\n",
      "0.8673226661124263\n",
      "bleu bigram\n",
      "0.8918958525817935\n",
      "bleu trigram\n",
      "0.8880751825839377\n",
      "bleu mixed bigram\n",
      "0.8883862343439911\n",
      "bleu mixed trigram\n",
      "0.8913345439721306\n"
     ]
    }
   ],
   "source": [
    "for b, k in [\n",
    "    (bleu_unigram_comparisons, 'bleu unigram'),\n",
    "    (bleu_bigram_comparisons, 'bleu bigram'),\n",
    "    (bleu_trigram_comparisons, 'bleu trigram'),\n",
    "    (bleu_mixed_bigram_comparisons, 'bleu mixed bigram'),\n",
    "    (bleu_mixed_trigram_comparisons, 'bleu mixed trigram')\n",
    "]:\n",
    "    print(k)\n",
    "    print(\n",
    "        b\n",
    "         .groupby('cutoff')\n",
    "         .mean()\n",
    "         .rename(columns={'in_pred': 'recall', 'in_annot': 'precision'})\n",
    "         .apply(lambda x: 2 * (x['precision'] * x['recall']) / ((x['precision'] + x['recall'])),  axis=1)\n",
    "         .max()\n",
    "    )"
   ]
  },
  {
   "cell_type": "code",
   "execution_count": null,
   "metadata": {},
   "outputs": [],
   "source": [
    "bleu_bigram_comparisons"
   ]
  },
  {
   "cell_type": "code",
   "execution_count": null,
   "metadata": {},
   "outputs": [],
   "source": []
  },
  {
   "cell_type": "code",
   "execution_count": null,
   "metadata": {},
   "outputs": [],
   "source": []
  },
  {
   "cell_type": "code",
   "execution_count": null,
   "metadata": {},
   "outputs": [],
   "source": []
  },
  {
   "cell_type": "code",
   "execution_count": null,
   "metadata": {},
   "outputs": [],
   "source": []
  },
  {
   "cell_type": "code",
   "execution_count": null,
   "metadata": {},
   "outputs": [],
   "source": []
  },
  {
   "cell_type": "code",
   "execution_count": null,
   "metadata": {},
   "outputs": [],
   "source": []
  },
  {
   "cell_type": "markdown",
   "metadata": {},
   "source": [
    "# Subsequences"
   ]
  },
  {
   "cell_type": "code",
   "execution_count": null,
   "metadata": {},
   "outputs": [],
   "source": []
  },
  {
   "cell_type": "code",
   "execution_count": null,
   "metadata": {},
   "outputs": [],
   "source": []
  },
  {
   "cell_type": "code",
   "execution_count": null,
   "metadata": {},
   "outputs": [],
   "source": []
  },
  {
   "cell_type": "code",
   "execution_count": null,
   "metadata": {},
   "outputs": [],
   "source": []
  },
  {
   "cell_type": "code",
   "execution_count": null,
   "metadata": {},
   "outputs": [],
   "source": []
  },
  {
   "cell_type": "code",
   "execution_count": null,
   "metadata": {},
   "outputs": [],
   "source": []
  },
  {
   "cell_type": "code",
   "execution_count": null,
   "metadata": {},
   "outputs": [],
   "source": []
  },
  {
   "cell_type": "code",
   "execution_count": null,
   "metadata": {},
   "outputs": [],
   "source": []
  }
 ],
 "metadata": {
  "hide_input": false,
  "kernelspec": {
   "display_name": "Python 3",
   "language": "python",
   "name": "python3"
  },
  "language_info": {
   "codemirror_mode": {
    "name": "ipython",
    "version": 3
   },
   "file_extension": ".py",
   "mimetype": "text/x-python",
   "name": "python",
   "nbconvert_exporter": "python",
   "pygments_lexer": "ipython3",
   "version": "3.7.6"
  }
 },
 "nbformat": 4,
 "nbformat_minor": 4
}
