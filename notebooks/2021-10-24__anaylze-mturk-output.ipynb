{
 "cells": [
  {
   "cell_type": "code",
   "execution_count": null,
   "metadata": {},
   "outputs": [],
   "source": [
    "# Data:\n",
    "# num documents annotated: 192\n",
    "# num connections drawn: 1260\n",
    "# num possible connections: 16853\n",
    "# num nodes: 3570\n",
    "\n",
    "\n",
    "# results\n",
    "# ----------------------------------------\n",
    "# \n",
    "\n",
    "# subsequence-1:         86.0\n",
    "# subsequence-2:         88.7\n",
    "# subsequence-3:         88.5\n",
    "# subsequence-4:         88.2\n",
    "\n",
    "# bleu-1:                86.7\n",
    "# bleu-2:                89.2\n",
    "# bleu trigram:          88.8\n",
    "# bleu mixed bigram      88.8\n",
    "# bleu mixed trigram     89.1\n",
    "\n",
    "# hungarian word-matching, BERT-mini:   88.5\n",
    "# hungarian word-matching, BERT-medium: 88.7\n",
    "# hungarian word-matching, RoBERTa:     88.7\n",
    "# max word-matching BERT-mini:          89.0\n",
    "# max word-matching BERT-medium:        89.5\n",
    "\n",
    "# SequenceMatcher ratio:                89.5"
   ]
  },
  {
   "cell_type": "code",
   "execution_count": null,
   "metadata": {},
   "outputs": [],
   "source": []
  },
  {
   "cell_type": "code",
   "execution_count": null,
   "metadata": {},
   "outputs": [],
   "source": []
  },
  {
   "cell_type": "code",
   "execution_count": null,
   "metadata": {},
   "outputs": [],
   "source": []
  },
  {
   "cell_type": "code",
   "execution_count": 1,
   "metadata": {},
   "outputs": [],
   "source": [
    "# Thoughts EDA for edits:\n",
    "# - top words for additions\n",
    "# - top words for deletions \n",
    "# - how many times a contributor is added? (Authorship model)\n",
    "# - how many times a correction is issued\n",
    "# - how many times a headline is updated\n",
    "# - how many refuters occur\n",
    "# - discourse tags of additions/edits/deletions\n",
    "# - how often are DATES, people, other NEs added?\n",
    "# - When are sentences removed:\n",
    "#     hypotheses:\n",
    "#     --------------------------------------------------------------\n",
    "#         \"it's not immediately clear\"\n",
    "#         \"no information\"\n",
    "#         \"trying to determine\"\n",
    "#         \"yet to establish\"\n",
    "#         \"no official word\"\n",
    "#         \"still being compiled\"\n",
    "#         \"more details soon\"\n",
    "#         \"not yet known\"\n",
    "#         \"cause not determined\"\n",
    "#         \"check back for updates\"\n",
    "\n",
    "\n",
    "# build annotation framework:\n",
    "# -----------------------------------------------\n",
    "# for each sentence in a document\n",
    "# 1. Add sentence before/after\n",
    "# 2. Delete sentence\n",
    "# 3. Move sentence to position 1, 2, 3...\n",
    "\n",
    "\n",
    "# take current dataset, train a model\n",
    "# then we will have more confidence\n",
    "# if the model is very good, then we wil be concerned \n",
    "# \n",
    "# start with human-annotated editing data\n",
    "# then add the distantly-supervised data\n",
    "# "
   ]
  },
  {
   "cell_type": "code",
   "execution_count": 2,
   "metadata": {},
   "outputs": [],
   "source": [
    "import pandas as pd \n",
    "import glob\n",
    "import ast\n",
    "import pickle\n",
    "import numpy as np \n",
    "import seaborn as sns\n",
    "from tqdm.auto import tqdm\n",
    "import matplotlib.pyplot as plt\n",
    "plt.rc('font', size=14)"
   ]
  },
  {
   "cell_type": "code",
   "execution_count": 3,
   "metadata": {},
   "outputs": [],
   "source": [
    "with open('hits_cache/2021-10-24__all-answers.pkl', 'rb') as f:\n",
    "    all_answers = pickle.load(f)    "
   ]
  },
  {
   "cell_type": "code",
   "execution_count": 129,
   "metadata": {},
   "outputs": [],
   "source": [
    "n_connect = 0\n",
    "n_nodes = 0\n",
    "num_possible_connects = 0\n",
    "for a in all_answers:\n",
    "    n_connect += len(a['annotated connections'])\n",
    "    n_nodes += len(a['nodes'])\n",
    "    versions = list(map(lambda x: x['version'], a['nodes']))\n",
    "    v_x = min(versions)\n",
    "    v_y = max(versions)\n",
    "    n_v_x = len(list(filter(lambda x: x == v_x, versions)))\n",
    "    n_v_y = len(list(filter(lambda x: x == v_y, versions)))\n",
    "    num_possible_connects += n_v_x * n_v_y"
   ]
  },
  {
   "cell_type": "code",
   "execution_count": null,
   "metadata": {},
   "outputs": [],
   "source": []
  },
  {
   "cell_type": "code",
   "execution_count": 115,
   "metadata": {},
   "outputs": [
    {
     "data": {
      "text/plain": [
       "193"
      ]
     },
     "execution_count": 115,
     "metadata": {},
     "output_type": "execute_result"
    }
   ],
   "source": [
    "len(all_answers)"
   ]
  },
  {
   "cell_type": "code",
   "execution_count": 4,
   "metadata": {},
   "outputs": [],
   "source": [
    "doc_ids = list(map(lambda x: x['doc_id'], all_answers))\n",
    "doc_ids = list(map(ast.literal_eval, doc_ids))\n",
    "doc_ids = list(set(doc_ids))\n",
    "doc_ids = sorted(doc_ids, key=lambda x: x[0])"
   ]
  },
  {
   "cell_type": "code",
   "execution_count": 5,
   "metadata": {},
   "outputs": [],
   "source": [
    "annotated_doc_ids = pd.DataFrame(doc_ids, columns=['source', 'entry_id', 'version_x', 'version_y'])"
   ]
  },
  {
   "cell_type": "code",
   "execution_count": 943,
   "metadata": {},
   "outputs": [],
   "source": [
    "spark_output_csv = pd.read_csv('tmp/output-word-distance-.5-sent-dist-1.csv', index_col=0)"
   ]
  },
  {
   "cell_type": "code",
   "execution_count": 944,
   "metadata": {},
   "outputs": [],
   "source": [
    "doc_ids = list(map(lambda x: ast.literal_eval(x['doc_id']), all_answers))\n",
    "doc_ids_df = (\n",
    "    pd.DataFrame(doc_ids, columns=['source', 'entry_id', 'version_x', 'version_y'])\n",
    "     .assign(key=lambda df: df.apply(lambda x: (x['source'], x['entry_id'], x['version_x'], x['version_y']),axis=1))\n",
    "     .drop_duplicates()\n",
    ")"
   ]
  },
  {
   "cell_type": "code",
   "execution_count": 945,
   "metadata": {},
   "outputs": [],
   "source": [
    "spark_output_csv = spark_output_csv.merge(\n",
    "    doc_ids_df,\n",
    "    how='left',\n",
    "    left_on=['entry_id', 'version_x', 'version_y'],\n",
    "    right_on=['entry_id', 'version_x', 'version_y']\n",
    ")"
   ]
  },
  {
   "cell_type": "code",
   "execution_count": 946,
   "metadata": {},
   "outputs": [],
   "source": [
    "all_answers_df = (pd.DataFrame(all_answers)\n",
    " .assign(doc_id=lambda df: df['doc_id'].apply(ast.literal_eval))\n",
    " .set_index('doc_id')\n",
    ")"
   ]
  },
  {
   "cell_type": "code",
   "execution_count": 952,
   "metadata": {
    "scrolled": true
   },
   "outputs": [
    {
     "data": {
      "application/vnd.jupyter.widget-view+json": {
       "model_id": "92489cda4fa147a0a50c0626fd905a9f",
       "version_major": 2,
       "version_minor": 0
      },
      "text/plain": [
       "  0%|          | 0/193 [00:00<?, ?it/s]"
      ]
     },
     "metadata": {},
     "output_type": "display_data"
    }
   ],
   "source": [
    "all_prec_recall = []\n",
    "all_comparisons = []\n",
    "\n",
    "for a in tqdm(all_answers):\n",
    "    pred_arcs = (\n",
    "        spark_output_csv\n",
    "         .loc[lambda df: df['key'] == ast.literal_eval(a['doc_id'])]\n",
    "         .fillna(1)\n",
    "    )\n",
    "    if len(pred_arcs) > 0:\n",
    "    #     pred_arcs = pd.DataFrame(a['original_arcs'])\n",
    "        annotated_arcs = pd.DataFrame(a['annotated connections'], columns=['sent_idx_x', 'sent_idx_y']).astype(int)\n",
    "\n",
    "        for max_distance in np.arange(0, .6, .02):\n",
    "            pred_arcs_test = (\n",
    "                pred_arcs\n",
    "                  .loc[lambda df: df[['avg_sentence_distance_x', 'avg_sentence_distance_y']].min(axis=1) < max_distance]\n",
    "                 [['sent_idx_x', 'sent_idx_y']].astype(int)\n",
    "            )\n",
    "\n",
    "            comparison = (\n",
    "                pred_arcs_test.assign(in_pred=True)\n",
    "                 .merge(\n",
    "                     annotated_arcs.assign(in_annot=True),\n",
    "                     how='outer',\n",
    "                     left_on=['sent_idx_x', 'sent_idx_y'],\n",
    "                     right_on=['sent_idx_x', 'sent_idx_y'],\n",
    "                   )\n",
    "                 .fillna(False)\n",
    "                .assign(cutoff=max_distance)\n",
    "                )\n",
    "\n",
    "\n",
    "            all_comparisons.append(comparison)\n",
    "\n",
    "all_comparison_df = pd.concat(all_comparisons)"
   ]
  },
  {
   "cell_type": "code",
   "execution_count": null,
   "metadata": {},
   "outputs": [],
   "source": []
  },
  {
   "cell_type": "code",
   "execution_count": 953,
   "metadata": {
    "scrolled": true
   },
   "outputs": [
    {
     "data": {
      "text/plain": [
       "<matplotlib.axes._subplots.AxesSubplot at 0x7fe629c7b5d0>"
      ]
     },
     "execution_count": 953,
     "metadata": {},
     "output_type": "execute_result"
    },
    {
     "data": {
      "image/png": "[encoded data removed]",
      "text/plain": [
       "<Figure size 432x288 with 1 Axes>"
      ]
     },
     "metadata": {
      "needs_background": "light"
     },
     "output_type": "display_data"
    }
   ],
   "source": [
    "prec_recall = (all_comparison_df\n",
    " .groupby('cutoff')\n",
    " .mean()\n",
    " .rename(columns={'in_pred': 'recall', 'in_annot': 'precision'})\n",
    " [['recall', 'precision']]\n",
    " .stack()\n",
    " .reset_index()\n",
    " .rename(columns={0: 'metrics', 'level_1': 'index'})\n",
    ")\n",
    "\n",
    "sns.lineplot(data=prec_recall, y='metrics', x='cutoff', hue='index')"
   ]
  },
  {
   "cell_type": "code",
   "execution_count": 954,
   "metadata": {
    "scrolled": true
   },
   "outputs": [
    {
     "data": {
      "text/plain": [
       "cutoff\n",
       "0.00    0.000000\n",
       "0.02    0.446508\n",
       "0.04    0.447385\n",
       "0.06    0.449135\n",
       "0.08    0.459024\n",
       "0.10    0.467835\n",
       "0.12    0.481194\n",
       "0.14    0.491046\n",
       "0.16    0.513581\n",
       "0.18    0.535547\n",
       "0.20    0.548787\n",
       "0.22    0.559616\n",
       "0.24    0.574718\n",
       "0.26    0.597006\n",
       "0.28    0.617539\n",
       "0.30    0.643319\n",
       "0.32    0.665203\n",
       "0.34    0.688264\n",
       "0.36    0.716528\n",
       "0.38    0.743872\n",
       "0.40    0.771166\n",
       "0.42    0.795975\n",
       "0.44    0.821959\n",
       "0.46    0.837622\n",
       "0.48    0.844970\n",
       "0.50    0.692191\n",
       "0.52    0.692191\n",
       "0.54    0.692191\n",
       "0.56    0.692191\n",
       "0.58    0.692191\n",
       "dtype: float64"
      ]
     },
     "execution_count": 954,
     "metadata": {},
     "output_type": "execute_result"
    }
   ],
   "source": [
    "(all_comparison_df\n",
    " .groupby('cutoff')\n",
    " .mean()\n",
    " .rename(columns={'in_pred': 'recall', 'in_annot': 'precision'})\n",
    " .apply(lambda x: 2 * (x['precision'] * x['recall']) / ((x['precision'] + x['recall'])),  axis=1)\n",
    "#  .max()\n",
    ")"
   ]
  },
  {
   "cell_type": "code",
   "execution_count": 869,
   "metadata": {},
   "outputs": [],
   "source": [
    "prec_recall = (all_comparison_df[['in_pred', 'in_annot']]\n",
    "               .mean()\n",
    "               .rename({'in_pred': 'recall', 'in_annot': 'precision'})\n",
    "              )\n",
    "prec_recall_df = prec_recall.to_frame('metrics')"
   ]
  },
  {
   "cell_type": "code",
   "execution_count": 870,
   "metadata": {},
   "outputs": [
    {
     "data": {
      "text/html": [
       "<div>\n",
       "<style scoped>\n",
       "    .dataframe tbody tr th:only-of-type {\n",
       "        vertical-align: middle;\n",
       "    }\n",
       "\n",
       "    .dataframe tbody tr th {\n",
       "        vertical-align: top;\n",
       "    }\n",
       "\n",
       "    .dataframe thead th {\n",
       "        text-align: right;\n",
       "    }\n",
       "</style>\n",
       "<table border=\"1\" class=\"dataframe\">\n",
       "  <thead>\n",
       "    <tr style=\"text-align: right;\">\n",
       "      <th></th>\n",
       "      <th>metrics</th>\n",
       "    </tr>\n",
       "  </thead>\n",
       "  <tbody>\n",
       "    <tr>\n",
       "      <th>recall</th>\n",
       "      <td>0.553622</td>\n",
       "    </tr>\n",
       "    <tr>\n",
       "      <th>precision</th>\n",
       "      <td>0.872129</td>\n",
       "    </tr>\n",
       "  </tbody>\n",
       "</table>\n",
       "</div>"
      ],
      "text/plain": [
       "            metrics\n",
       "recall     0.553622\n",
       "precision  0.872129"
      ]
     },
     "execution_count": 870,
     "metadata": {},
     "output_type": "execute_result"
    }
   ],
   "source": [
    "prec_recall_df"
   ]
  },
  {
   "cell_type": "code",
   "execution_count": null,
   "metadata": {},
   "outputs": [],
   "source": [
    "all_prec_recall_df = pd.concat(all_prec_recall).reset_index()"
   ]
  },
  {
   "cell_type": "code",
   "execution_count": 718,
   "metadata": {
    "scrolled": true
   },
   "outputs": [
    {
     "data": {
      "text/plain": [
       "cutoff\n",
       "0.00    0.000000\n",
       "0.01    0.401132\n",
       "0.02    0.402138\n",
       "0.03    0.402138\n",
       "0.04    0.403144\n",
       "0.05    0.404148\n",
       "0.06    0.406152\n",
       "0.07    0.410145\n",
       "0.08    0.414119\n",
       "0.09    0.415109\n",
       "0.10    0.422005\n",
       "0.11    0.431413\n",
       "0.12    0.437200\n",
       "0.13    0.443896\n",
       "0.14    0.449591\n",
       "0.15    0.461786\n",
       "0.16    0.471035\n",
       "0.17    0.488305\n",
       "0.18    0.502546\n",
       "0.19    0.511310\n",
       "0.20    0.519110\n",
       "0.21    0.528532\n",
       "0.22    0.535309\n",
       "0.23    0.541188\n",
       "0.24    0.554447\n",
       "0.25    0.567823\n",
       "0.26    0.584848\n",
       "0.27    0.596517\n",
       "0.28    0.604759\n",
       "0.29    0.618305\n",
       "0.30    0.637630\n",
       "0.31    0.651938\n",
       "0.32    0.666971\n",
       "0.33    0.675876\n",
       "0.34    0.689466\n",
       "0.35    0.705329\n",
       "0.36    0.722142\n",
       "0.37    0.736484\n",
       "0.38    0.755736\n",
       "0.39    0.774866\n",
       "0.40    0.789398\n",
       "0.41    0.807863\n",
       "0.42    0.823371\n",
       "0.43    0.837204\n",
       "0.44    0.854618\n",
       "dtype: float64"
      ]
     },
     "execution_count": 718,
     "metadata": {},
     "output_type": "execute_result"
    }
   ],
   "source": [
    "(all_prec_recall_df\n",
    " .pivot(index='cutoff', columns='index', values='metrics')\n",
    " .apply(lambda x: 2 * (x['precision'] * x['recall']) / ((x['precision'] + x['recall'])),  axis=1)\n",
    ")"
   ]
  },
  {
   "cell_type": "code",
   "execution_count": null,
   "metadata": {},
   "outputs": [],
   "source": []
  },
  {
   "cell_type": "code",
   "execution_count": null,
   "metadata": {},
   "outputs": [],
   "source": []
  },
  {
   "cell_type": "code",
   "execution_count": null,
   "metadata": {},
   "outputs": [],
   "source": []
  },
  {
   "cell_type": "code",
   "execution_count": null,
   "metadata": {},
   "outputs": [],
   "source": []
  },
  {
   "cell_type": "markdown",
   "metadata": {},
   "source": [
    "# Recreate sentence matching"
   ]
  },
  {
   "cell_type": "code",
   "execution_count": 7,
   "metadata": {},
   "outputs": [],
   "source": [
    "from transformers import AutoModel, AutoTokenizer\n",
    "import torch\n",
    "from torch.nn.utils.rnn import pad_sequence\n",
    "import numpy as np \n",
    "from scipy.spatial.distance import cosine\n",
    "from sklearn.metrics.pairwise import cosine_distances, cosine_similarity\n",
    "from scipy.optimize import linear_sum_assignment"
   ]
  },
  {
   "cell_type": "code",
   "execution_count": 9,
   "metadata": {},
   "outputs": [],
   "source": [
    "model = AutoModel.from_pretrained('prajjwal1/bert-mini').eval()\n",
    "tokenizer = AutoTokenizer.from_pretrained('prajjwal1/bert-mini')\n",
    "\n",
    "# model = AutoModel.from_pretrained('prajjwal1/bert-medium').eval()\n",
    "# tokenizer = AutoTokenizer.from_pretrained('prajjwal1/bert-medium')\n",
    "\n",
    "# model = AutoModel.from_pretrained('roberta-base')\n",
    "# tokenizer = AutoTokenizer.from_pretrained('roberta-base')"
   ]
  },
  {
   "cell_type": "code",
   "execution_count": 10,
   "metadata": {},
   "outputs": [],
   "source": [
    "import numpy_indexed as npi\n",
    "def avg_across_subwords(tok_vec, b, cut_cls_char=True):\n",
    "    word_ids = b.word_ids()\n",
    "    word_ids = list(map(lambda x: -1 if x is None else x, word_ids))\n",
    "    tok_vec = tok_vec[:len(word_ids)].detach().cpu().numpy()\n",
    "    index, tok_vec = npi.group_by(np.array(word_ids)).mean(tok_vec)\n",
    "    if cut_cls_char:\n",
    "        return index[1:], tok_vec[1:]\n",
    "    else:\n",
    "        return index, tok_vec"
   ]
  },
  {
   "cell_type": "code",
   "execution_count": null,
   "metadata": {},
   "outputs": [],
   "source": []
  },
  {
   "cell_type": "code",
   "execution_count": null,
   "metadata": {},
   "outputs": [],
   "source": []
  },
  {
   "cell_type": "code",
   "execution_count": 73,
   "metadata": {},
   "outputs": [],
   "source": [
    "def get_all_comparisons(all_answers, sent_comp_metric, metric_dir='min', *args, **kwargs):\n",
    "    all_comparisons = []\n",
    "    for a in tqdm(all_answers):\n",
    "        nodes_df = pd.DataFrame(a['nodes'])\n",
    "        annotated_arcs = pd.DataFrame(\n",
    "            a['annotated connections'],\n",
    "            columns=['sent_idx_x', 'sent_idx_y']\n",
    "        ).astype(int)\n",
    "        # get rid of short sentences \n",
    "        short_sentences = nodes_df.loc[lambda df: df['sentence'].str.len() <= 2]\n",
    "        if len(short_sentences) > 0:\n",
    "            vers_x, vers_y = nodes_df['version'].min(), nodes_df['version'].max()\n",
    "            side_mapper = {vers_x: 'x', vers_y: 'y'}\n",
    "            short_sentences = short_sentences.assign(side=lambda df: df['version'].map(side_mapper))\n",
    "            for _, sent_idx, _, version, side in short_sentences.itertuples():\n",
    "                annotated_arcs = annotated_arcs.loc[ lambda df: ~(df['sent_idx_' + side] == sent_idx)]\n",
    "            nodes_df = nodes_df.loc[lambda df: df['sentence'].str.len() > 2].reset_index(drop=True)\n",
    "        \n",
    "        sentence_pair_df = sent_comp_metric(nodes_df=nodes_df, *args, **kwargs)\n",
    "\n",
    "        for cutoff in np.arange(0, 1, .02):\n",
    "            if metric_dir == 'min':\n",
    "                pred_arcs = (\n",
    "                    sentence_pair_df\n",
    "                     .loc[lambda df: df[['avg_sentence_sim_x', 'avg_sentence_sim_y']].max(axis=1) > cutoff]\n",
    "                     [['sent_idx_x', 'sent_idx_y']].astype(int)\n",
    "                )\n",
    "            else:\n",
    "                pred_arcs = (\n",
    "                    sentence_pair_df\n",
    "                     .loc[lambda df: df[['avg_sentence_distance_x', 'avg_sentence_distance_y']].min(axis=1) < cutoff]\n",
    "                     [['sent_idx_x', 'sent_idx_y']].astype(int)\n",
    "                )\n",
    "\n",
    "            comparison = (pred_arcs.assign(in_pred=True)\n",
    "             .merge(\n",
    "                 annotated_arcs.assign(in_annot=True),\n",
    "                 how='outer',\n",
    "                 left_on=['sent_idx_x', 'sent_idx_y'],\n",
    "                 right_on=['sent_idx_x', 'sent_idx_y'],\n",
    "               )\n",
    "             .fillna(False)\n",
    "            )\n",
    "\n",
    "            all_comparisons.append(\n",
    "                comparison[['in_pred', 'in_annot']].assign(cutoff=cutoff)\n",
    "            )\n",
    "    return pd.concat(all_comparisons)"
   ]
  },
  {
   "cell_type": "code",
   "execution_count": 74,
   "metadata": {},
   "outputs": [],
   "source": [
    "def tensorize_df_bert(nodes_df):\n",
    "    ## prepare data input\n",
    "    nodes_df['sentence_tokens'] = nodes_df['sentence'].apply(tokenizer)\n",
    "    nodes_df['sentence_tensors'] = nodes_df['sentence_tokens'].apply(lambda x: torch.tensor(x.input_ids))\n",
    "    nodes_df['sentence_lens'] = nodes_df['sentence_tensors'].str.len()\n",
    "    nodes_df['max_len'] = nodes_df['sentence_lens'].max()\n",
    "    nodes_df['padding'] = nodes_df['max_len'] - nodes_df['sentence_lens']\n",
    "    nodes_df['attention_mask'] = (\n",
    "        nodes_df\n",
    "          .apply(lambda x: [1] * x['sentence_lens'] + [0] * x['padding'] , axis=1)\n",
    "          .apply(torch.tensor)\n",
    "    )\n",
    "    token_input = pad_sequence(\n",
    "        nodes_df['sentence_tensors'].tolist(),\n",
    "        batch_first=True\n",
    "    )\n",
    "    attention_mask = torch.vstack(nodes_df['attention_mask'].tolist())\n",
    "    return token_input, attention_mask, nodes_df"
   ]
  },
  {
   "cell_type": "code",
   "execution_count": 75,
   "metadata": {},
   "outputs": [],
   "source": [
    "def get_sentence_similarities_unigram_bert_1(nodes_df):\n",
    "    token_input, attention_mask, nodes_df = tensorize_df_bert(nodes_df)\n",
    "\n",
    "    ## Get output\n",
    "    output = model(token_input, attention_mask=attention_mask)\n",
    "\n",
    "    ## split words into X and Y\n",
    "    word_df = []\n",
    "    for idx, version, s_idx, tokens in nodes_df[['version', 'sent_idx', 'sentence_tokens']].itertuples():\n",
    "        sentence_vec = output.last_hidden_state[idx]\n",
    "        word_ids, avg_vecs = avg_across_subwords(sentence_vec, tokens)\n",
    "        for word_idx in word_ids:\n",
    "            word_df.append({\n",
    "                'version': version,\n",
    "                's_idx': s_idx,\n",
    "                'w_idx': word_idx,\n",
    "                'tensor': avg_vecs[word_idx]\n",
    "            })\n",
    "    \n",
    "    word_df = pd.DataFrame(word_df)\n",
    "    words_x = word_df.loc[lambda df: df['version'] == df['version'].min()]\n",
    "    words_y = word_df.loc[lambda df: df['version'] == df['version'].max()]\n",
    "\n",
    "    ## perform comparisons\n",
    "    sentence_pairs = []\n",
    "    for s_idx_x in words_x['s_idx'].drop_duplicates():\n",
    "        for s_idx_y in words_y['s_idx'].drop_duplicates():\n",
    "            t_y = np.vstack(words_y.loc[lambda df: df['s_idx'] == s_idx_y]['tensor'].tolist())\n",
    "            t_x = np.vstack(words_x.loc[lambda df: df['s_idx'] == s_idx_x]['tensor'].tolist())\n",
    "            # \n",
    "            x_y_sim = cosine_similarity(t_x, t_y)\n",
    "            row_ind, col_ind = linear_sum_assignment(1 - x_y_sim)\n",
    "            opt_sims = x_y_sim[row_ind, col_ind].sum()\n",
    "            x_sim = opt_sims / len(t_x)\n",
    "            y_sim = opt_sims / len(t_y)\n",
    "            sentence_pairs.append({\n",
    "                'avg_sentence_sim_x': x_sim,\n",
    "                'avg_sentence_sim_y': y_sim,\n",
    "                'sent_idx_x': s_idx_x,\n",
    "                'sent_idx_y': s_idx_y\n",
    "            })\n",
    "\n",
    "    sentence_pair_df = pd.DataFrame(sentence_pairs)\n",
    "    return sentence_pair_df\n",
    "\n",
    "\n",
    "def get_sentence_similarities_unigram_bert_2(nodes_df, aggregate_subwords=True):\n",
    "    ## Get bert embeddings\n",
    "    token_input, attention_mask, nodes_df = tensorize_df_bert(nodes_df)\n",
    "    output = model(token_input, attention_mask=attention_mask)\n",
    "\n",
    "    ## split words into X and Y\n",
    "    if aggregate_subwords:\n",
    "        word_df = []\n",
    "        for idx, version, s_idx, tokens in nodes_df[['version', 'sent_idx', 'sentence_tokens']].itertuples():\n",
    "            sentence_vec = output.last_hidden_state[idx]\n",
    "            word_ids, avg_vecs = avg_across_subwords(sentence_vec, tokens)\n",
    "            for word_idx in word_ids:\n",
    "                word_df.append({\n",
    "                    'version': version,\n",
    "                    's_idx': s_idx,\n",
    "                    'w_idx': word_idx,\n",
    "                    'tensor': avg_vecs[word_idx]\n",
    "                })\n",
    "\n",
    "    else:\n",
    "        word_df = []\n",
    "        all_tensors = output.last_hidden_state.detach().cpu().numpy()\n",
    "        for idx, version, s_idx, tokens in nodes_df[['version', 'sent_idx', 'sentence_tokens']].itertuples():\n",
    "            for tok_idx, tok in enumerate(tokens):\n",
    "                word_df.append({\n",
    "                    'version': version,\n",
    "                    's_idx': s_idx,\n",
    "                    'w_idx': tok_idx,\n",
    "                    'tensor': all_tensors[idx, tok_idx]\n",
    "                })\n",
    "            \n",
    "    \n",
    "    word_df = pd.DataFrame(word_df)\n",
    "    words_x = word_df.loc[lambda df: df['version'] == df['version'].min()]\n",
    "    words_y = word_df.loc[lambda df: df['version'] == df['version'].max()]\n",
    "\n",
    "    ## perform comparisons\n",
    "    sentence_pairs = []\n",
    "    for s_idx_x in words_x['s_idx'].drop_duplicates():\n",
    "        for s_idx_y in words_y['s_idx'].drop_duplicates():\n",
    "            t_y = np.vstack(words_y.loc[lambda df: df['s_idx'] == s_idx_y]['tensor'].tolist())\n",
    "            t_x = np.vstack(words_x.loc[lambda df: df['s_idx'] == s_idx_x]['tensor'].tolist())\n",
    "            # \n",
    "            x_y_dist = cosine_similarity(t_x, t_y)\n",
    "            x_sim = x_y_dist.max(axis=0).mean()\n",
    "            y_sim = x_y_dist.max(axis=1).mean()\n",
    "            sentence_pairs.append({\n",
    "                'avg_sentence_sim_x': x_sim,\n",
    "                'avg_sentence_sim_y': y_sim,\n",
    "                'sent_idx_x': s_idx_x,\n",
    "                'sent_idx_y': s_idx_y\n",
    "            })\n",
    "\n",
    "    sentence_pair_df = pd.DataFrame(sentence_pairs)\n",
    "    return sentence_pair_df"
   ]
  },
  {
   "cell_type": "code",
   "execution_count": 76,
   "metadata": {},
   "outputs": [],
   "source": [
    "def get_all_word_sims():\n",
    "    all_word_sims = []\n",
    "    for a in tqdm(all_answers):\n",
    "        nodes_df = pd.DataFrame(a['nodes'])\n",
    "        token_input, attention_mask, nodes_df = tensorize_df_bert(nodes_df)\n",
    "        ## Get output\n",
    "        output = model(token_input, attention_mask=attention_mask)\n",
    "\n",
    "        ## split words into X and Y\n",
    "        word_df = []\n",
    "        for idx, version, s_idx, tokens in nodes_df[['version', 'sent_idx', 'sentence_tokens']].itertuples():\n",
    "            sentence_vec = output.last_hidden_state[idx]\n",
    "            word_ids, avg_vecs = avg_across_subwords(sentence_vec, tokens)\n",
    "            for word_idx in word_ids:\n",
    "                word_df.append({\n",
    "                    'version': version,\n",
    "                    's_idx': s_idx,\n",
    "                    'w_idx': word_idx,\n",
    "                    'tensor': avg_vecs[word_idx]\n",
    "                })\n",
    "\n",
    "        word_df = pd.DataFrame(word_df)\n",
    "        words_x = word_df.loc[lambda df: df['version'] == df['version'].min()]\n",
    "        words_y = word_df.loc[lambda df: df['version'] == df['version'].max()]\n",
    "\n",
    "        ## perform comparisons\n",
    "        sentence_pairs = []\n",
    "        for s_idx_x in words_x['s_idx'].drop_duplicates():\n",
    "            for s_idx_y in words_y['s_idx'].drop_duplicates():\n",
    "                t_y = np.vstack(words_y.loc[lambda df: df['s_idx'] == s_idx_y]['tensor'].tolist())\n",
    "                t_x = np.vstack(words_x.loc[lambda df: df['s_idx'] == s_idx_x]['tensor'].tolist())\n",
    "                # \n",
    "                x_y_dist = cosine_similarity(t_x, t_y)\n",
    "                all_word_sims.append(x_y_dist)"
   ]
  },
  {
   "cell_type": "code",
   "execution_count": null,
   "metadata": {},
   "outputs": [],
   "source": [
    "all_word_sims = list(map(lambda x: x.flatten(), all_word_sims))"
   ]
  },
  {
   "cell_type": "code",
   "execution_count": 1077,
   "metadata": {},
   "outputs": [
    {
     "data": {
      "text/plain": [
       "<matplotlib.axes._subplots.AxesSubplot at 0x7fe627727950>"
      ]
     },
     "execution_count": 1077,
     "metadata": {},
     "output_type": "execute_result"
    },
    {
     "data": {
      "image/png": "[encoded data removed]",
      "text/plain": [
       "<Figure size 432x288 with 1 Axes>"
      ]
     },
     "metadata": {
      "needs_background": "light"
     },
     "output_type": "display_data"
    }
   ],
   "source": [
    "pd.Series(np.hstack(all_word_sims).round(2)).hist(bins=50)"
   ]
  },
  {
   "cell_type": "code",
   "execution_count": null,
   "metadata": {},
   "outputs": [],
   "source": [
    "for a in all_answers:\n",
    "    a2 = pd.DataFrame(a['annotated connections'])\n",
    "    a2['sent_idx_x']"
   ]
  },
  {
   "cell_type": "code",
   "execution_count": 70,
   "metadata": {},
   "outputs": [],
   "source": [
    "nodes_df = pd.DataFrame(a['nodes'])\n",
    "nodes_df = nodes_df.loc[lambda df: df['sentence'].str.len() > 2]"
   ]
  },
  {
   "cell_type": "code",
   "execution_count": 71,
   "metadata": {},
   "outputs": [],
   "source": [
    "token_input, attention_mask, nodes_df = tensorize_df_bert(nodes_df)\n",
    "output = model(token_input, attention_mask=attention_mask)"
   ]
  },
  {
   "cell_type": "code",
   "execution_count": 72,
   "metadata": {},
   "outputs": [
    {
     "data": {
      "text/plain": [
       "torch.Size([18, 45, 256])"
      ]
     },
     "execution_count": 72,
     "metadata": {},
     "output_type": "execute_result"
    }
   ],
   "source": [
    "output.last_hidden_state.shape "
   ]
  },
  {
   "cell_type": "code",
   "execution_count": null,
   "metadata": {},
   "outputs": [],
   "source": []
  },
  {
   "cell_type": "code",
   "execution_count": 78,
   "metadata": {},
   "outputs": [
    {
     "data": {
      "application/vnd.jupyter.widget-view+json": {
       "model_id": "5b036c1fe65f43eab88bc3cca9540fa3",
       "version_major": 2,
       "version_minor": 0
      },
      "text/plain": [
       "  0%|          | 0/193 [00:00<?, ?it/s]"
      ]
     },
     "metadata": {},
     "output_type": "display_data"
    }
   ],
   "source": [
    "bert_non_hung_comp = get_all_comparisons(all_answers, get_sentence_similarities_unigram_bert_2)"
   ]
  },
  {
   "cell_type": "code",
   "execution_count": 1034,
   "metadata": {},
   "outputs": [],
   "source": [
    "# Hungarian + BERT-Mini: .885 \n",
    "# Hungarian + BERT-Medium: .887\n",
    "# Hungarian + RoBERTa: .886 \n",
    "# Non-Hungarian + BERT-Mini: .89\n",
    "# Non-Hungarian + BERT-Medium: "
   ]
  },
  {
   "cell_type": "code",
   "execution_count": 79,
   "metadata": {},
   "outputs": [
    {
     "data": {
      "text/plain": [
       "Text(0, 0.5, 'Score')"
      ]
     },
     "execution_count": 79,
     "metadata": {},
     "output_type": "execute_result"
    },
    {
     "data": {
      "image/png": "[encoded data removed]",
      "text/plain": [
       "<Figure size 432x180 with 1 Axes>"
      ]
     },
     "metadata": {
      "needs_background": "light"
     },
     "output_type": "display_data"
    }
   ],
   "source": [
    "prec_recall = (bert_non_hung_comp\n",
    " .groupby('cutoff')\n",
    " .mean()\n",
    " .rename(columns={'in_pred': 'recall', 'in_annot': 'precision'})\n",
    ")\n",
    "ax = prec_recall.plot(figsize=(6, 2.5))\n",
    "ax.spines['top'].set_visible(False)\n",
    "ax.spines['right'].set_visible(False)\n",
    "plt.ylabel('Score')"
   ]
  },
  {
   "cell_type": "code",
   "execution_count": 80,
   "metadata": {},
   "outputs": [
    {
     "data": {
      "text/plain": [
       "0.8966032001430231"
      ]
     },
     "execution_count": 80,
     "metadata": {},
     "output_type": "execute_result"
    }
   ],
   "source": [
    "#                   prec * recall\n",
    "# f1-score = 2 * -----------------\n",
    "#                   prec + recall\n",
    "\n",
    "(prec_recall\n",
    " .apply(lambda x: 2 * (x['precision'] * x['recall']) / ((x['precision'] + x['recall'])),  axis=1)\n",
    " .max()\n",
    ")"
   ]
  },
  {
   "cell_type": "code",
   "execution_count": 985,
   "metadata": {
    "scrolled": true
   },
   "outputs": [
    {
     "data": {
      "text/plain": [
       "0.8526057298772168"
      ]
     },
     "execution_count": 985,
     "metadata": {},
     "output_type": "execute_result"
    }
   ],
   "source": [
    "#                   prec * recall\n",
    "# f1-score = 2 * -----------------\n",
    "#                   prec + recall\n",
    "\n",
    "(prec_recall\n",
    " .apply(lambda x: 2 * (x['precision'] * x['recall']) / ((x['precision'] + x['recall'])),  axis=1)\n",
    " .max()\n",
    ")"
   ]
  },
  {
   "cell_type": "markdown",
   "metadata": {},
   "source": [
    "# Regular Sequences"
   ]
  },
  {
   "cell_type": "code",
   "execution_count": 83,
   "metadata": {},
   "outputs": [],
   "source": [
    "from difflib import SequenceMatcher"
   ]
  },
  {
   "cell_type": "code",
   "execution_count": 84,
   "metadata": {},
   "outputs": [],
   "source": [
    "def get_sent_char_sim_method_1(nodes_df):\n",
    "    ## perform comparisons\n",
    "    sentence_pairs = []\n",
    "    sents_x = nodes_df.loc[lambda df: df['version'] == df['version'].min()]\n",
    "    sents_y = nodes_df.loc[lambda df: df['version'] == df['version'].max()]\n",
    "\n",
    "    sentence_pairs = []\n",
    "    for s_idx_x, sent_x in sents_x[['sent_idx', 'sentence']].drop_duplicates().itertuples(index=False):\n",
    "        for s_idx_y, sent_y in sents_y[['sent_idx', 'sentence']].drop_duplicates().itertuples(index=False):\n",
    "            x_y_sim = SequenceMatcher(None, sent_x, sent_y).ratio()\n",
    "            sentence_pairs.append({\n",
    "                'avg_sentence_sim_x': x_y_sim,\n",
    "                'avg_sentence_sim_y': x_y_sim,\n",
    "                'sent_idx_x': s_idx_x,\n",
    "                'sent_idx_y': s_idx_y\n",
    "            })\n",
    "\n",
    "    sentence_pair_df = pd.DataFrame(sentence_pairs)\n",
    "    return sentence_pair_df"
   ]
  },
  {
   "cell_type": "code",
   "execution_count": null,
   "metadata": {},
   "outputs": [],
   "source": [
    "sent_diff_1_comparisons = get_all_comparisons(all_answers, get_sent_char_sim_method_1)"
   ]
  },
  {
   "cell_type": "code",
   "execution_count": 745,
   "metadata": {},
   "outputs": [
    {
     "data": {
      "text/plain": [
       "Text(0, 0.5, 'Score')"
      ]
     },
     "execution_count": 745,
     "metadata": {},
     "output_type": "execute_result"
    },
    {
     "data": {
      "image/png": "[encoded data removed]",
      "text/plain": [
       "<Figure size 432x180 with 1 Axes>"
      ]
     },
     "metadata": {
      "needs_background": "light"
     },
     "output_type": "display_data"
    }
   ],
   "source": [
    "sent_diff_1_prec_recall = (sent_diff_1_comparisons\n",
    " .groupby('cutoff')\n",
    " .mean()\n",
    " .rename(columns={'in_pred': 'recall', 'in_annot': 'precision'})\n",
    ")\n",
    "ax = sent_diff_1_prec_recall.plot(figsize=(6, 2.5))\n",
    "ax.spines['top'].set_visible(False)\n",
    "ax.spines['right'].set_visible(False)\n",
    "plt.ylabel('Score')"
   ]
  },
  {
   "cell_type": "code",
   "execution_count": 748,
   "metadata": {},
   "outputs": [
    {
     "data": {
      "text/plain": [
       "0.8586017403337957"
      ]
     },
     "execution_count": 748,
     "metadata": {},
     "output_type": "execute_result"
    }
   ],
   "source": [
    "(sent_diff_1_prec_recall\n",
    " .apply(lambda x: 2 * (x['precision'] * x['recall']) / ((x['precision'] + x['recall'])),  axis=1)\n",
    " .max()\n",
    ")"
   ]
  },
  {
   "cell_type": "code",
   "execution_count": 98,
   "metadata": {},
   "outputs": [],
   "source": [
    "import spacy\n",
    "nlp = spacy.load('en_core_web_sm')"
   ]
  },
  {
   "cell_type": "code",
   "execution_count": 103,
   "metadata": {},
   "outputs": [],
   "source": [
    "def get_sent_char_sim_method_2(nodes_df):\n",
    "    tok_method = 'bert'\n",
    "    sentences = nodes_df['sentence'].tolist()\n",
    "    tokenized = []\n",
    "    if tok_method == 'spacy':\n",
    "        for doc in nlp.pipe(sentences, disable=[\"tok2vec\", \"tagger\", \"parser\", \"attribute_ruler\", \"lemmatizer\"]):\n",
    "            tokens = list(map(lambda x: x.lemma_, doc))\n",
    "            tokenized.append(tokens)\n",
    "    elif tok_method == 'bert':\n",
    "        for s in sentences:\n",
    "            tok = tokenizer.encode(s)\n",
    "            decoded = list(map(tokenizer.decode, tok))\n",
    "            decoded = decoded[1:-1]\n",
    "            tokenized.append(decoded)\n",
    "        \n",
    "    nodes_df['tokenized_sentences'] = tokenized\n",
    "    \n",
    "    ## perform comparisons\n",
    "    sentence_pairs = []\n",
    "    sents_x = nodes_df.loc[lambda df: df['version'] == df['version'].min()]\n",
    "    sents_y = nodes_df.loc[lambda df: df['version'] == df['version'].max()]\n",
    "\n",
    "    sentence_pairs = []\n",
    "    for s_idx_x, sent_x in sents_x[['sent_idx', 'tokenized_sentences']].itertuples(index=False):\n",
    "        for s_idx_y, sent_y in sents_y[['sent_idx', 'tokenized_sentences']].itertuples(index=False):\n",
    "            x_y_sim = SequenceMatcher(None, sent_x, sent_y).ratio()\n",
    "            sentence_pairs.append({\n",
    "                'avg_sentence_sim_x': x_y_sim,\n",
    "                'avg_sentence_sim_y': x_y_sim,\n",
    "                'sent_idx_x': s_idx_x,\n",
    "                'sent_idx_y': s_idx_y\n",
    "            })\n",
    "\n",
    "    sentence_pair_df = pd.DataFrame(sentence_pairs)\n",
    "    return sentence_pair_df"
   ]
  },
  {
   "cell_type": "code",
   "execution_count": 104,
   "metadata": {},
   "outputs": [
    {
     "data": {
      "application/vnd.jupyter.widget-view+json": {
       "model_id": "0cb870fa8e07485b83a235a91f0e9ab6",
       "version_major": 2,
       "version_minor": 0
      },
      "text/plain": [
       "  0%|          | 0/193 [00:00<?, ?it/s]"
      ]
     },
     "metadata": {},
     "output_type": "display_data"
    }
   ],
   "source": [
    "sent_diff_2_comparisons = get_all_comparisons(all_answers, get_sent_char_sim_method_2)"
   ]
  },
  {
   "cell_type": "code",
   "execution_count": 105,
   "metadata": {},
   "outputs": [
    {
     "data": {
      "text/plain": [
       "Text(0, 0.5, 'Score')"
      ]
     },
     "execution_count": 105,
     "metadata": {},
     "output_type": "execute_result"
    },
    {
     "data": {
      "image/png": "[encoded data removed]",
      "text/plain": [
       "<Figure size 432x180 with 1 Axes>"
      ]
     },
     "metadata": {
      "needs_background": "light"
     },
     "output_type": "display_data"
    }
   ],
   "source": [
    "sent_diff_2_prec_recall = (sent_diff_2_comparisons\n",
    " .groupby('cutoff')\n",
    " .mean()\n",
    " .rename(columns={'in_pred': 'recall', 'in_annot': 'precision'})\n",
    ")\n",
    "ax = sent_diff_2_prec_recall.plot(figsize=(6, 2.5))\n",
    "ax.spines['top'].set_visible(False)\n",
    "ax.spines['right'].set_visible(False)\n",
    "plt.ylabel('Score')"
   ]
  },
  {
   "cell_type": "code",
   "execution_count": 106,
   "metadata": {},
   "outputs": [
    {
     "data": {
      "text/plain": [
       "0.8965703551843587"
      ]
     },
     "execution_count": 106,
     "metadata": {},
     "output_type": "execute_result"
    }
   ],
   "source": [
    "(sent_diff_2_prec_recall\n",
    " .apply(lambda x: 2 * (x['precision'] * x['recall']) / ((x['precision'] + x['recall'])),  axis=1)\n",
    " .max()\n",
    ")"
   ]
  },
  {
   "cell_type": "code",
   "execution_count": 109,
   "metadata": {},
   "outputs": [],
   "source": [
    "from nltk.translate import bleu_score"
   ]
  },
  {
   "cell_type": "code",
   "execution_count": 110,
   "metadata": {},
   "outputs": [],
   "source": [
    "def get_bleu_comp(nodes_df, weights, *args, **kwargs):\n",
    "    sentences = nodes_df['sentence'].tolist()\n",
    "    tokenized = []\n",
    "    for doc in nlp.pipe(sentences, disable=[\"tok2vec\", \"tagger\", \"parser\", \"attribute_ruler\", \"lemmatizer\"]):\n",
    "        tokens = list(map(lambda x: x.text, doc))\n",
    "        tokenized.append(tokens)\n",
    "    nodes_df['tokenized_sentences'] = tokenized\n",
    "    \n",
    "    ## perform comparisons\n",
    "    sentence_pairs = []\n",
    "    sents_x = nodes_df.loc[lambda df: df['version'] == df['version'].min()]\n",
    "    sents_y = nodes_df.loc[lambda df: df['version'] == df['version'].max()]\n",
    "\n",
    "    sentence_pairs = []\n",
    "    for s_idx_x, sent_x in sents_x[['sent_idx', 'tokenized_sentences']].itertuples(index=False):\n",
    "        for s_idx_y, sent_y in sents_y[['sent_idx', 'tokenized_sentences']].itertuples(index=False):\n",
    "            x_sim = bleu_score.sentence_bleu([sent_x], sent_y, weights=weights)\n",
    "            y_sim = bleu_score.sentence_bleu([sent_y], sent_x, weights=weights)\n",
    "            sentence_pairs.append({\n",
    "                'avg_sentence_sim_x': x_sim,\n",
    "                'avg_sentence_sim_y': x_sim,\n",
    "                'sent_idx_x': s_idx_x,\n",
    "                'sent_idx_y': s_idx_y\n",
    "            })\n",
    "\n",
    "    sentence_pair_df = pd.DataFrame(sentence_pairs)\n",
    "    return sentence_pair_df"
   ]
  },
  {
   "cell_type": "code",
   "execution_count": null,
   "metadata": {},
   "outputs": [],
   "source": [
    "bleu_unigram_comparisons = get_all_comparisons(all_answers, get_bleu_comp, weights=[1, 0, 0, 0])"
   ]
  },
  {
   "cell_type": "code",
   "execution_count": 787,
   "metadata": {},
   "outputs": [
    {
     "data": {
      "application/vnd.jupyter.widget-view+json": {
       "model_id": "7c3638f2caea4e399d79b5ca5cf525f2",
       "version_major": 2,
       "version_minor": 0
      },
      "text/plain": [
       "  0%|          | 0/193 [00:00<?, ?it/s]"
      ]
     },
     "metadata": {},
     "output_type": "display_data"
    },
    {
     "data": {
      "application/vnd.jupyter.widget-view+json": {
       "model_id": "737ed081d9fb4ae0b4af99abcca7210c",
       "version_major": 2,
       "version_minor": 0
      },
      "text/plain": [
       "  0%|          | 0/193 [00:00<?, ?it/s]"
      ]
     },
     "metadata": {},
     "output_type": "display_data"
    },
    {
     "data": {
      "application/vnd.jupyter.widget-view+json": {
       "model_id": "aa4e546a9f8d40ada600ab35bb107813",
       "version_major": 2,
       "version_minor": 0
      },
      "text/plain": [
       "  0%|          | 0/193 [00:00<?, ?it/s]"
      ]
     },
     "metadata": {},
     "output_type": "display_data"
    },
    {
     "data": {
      "application/vnd.jupyter.widget-view+json": {
       "model_id": "49548e77bf18481c8fbb849864c8a805",
       "version_major": 2,
       "version_minor": 0
      },
      "text/plain": [
       "  0%|          | 0/193 [00:00<?, ?it/s]"
      ]
     },
     "metadata": {},
     "output_type": "display_data"
    }
   ],
   "source": [
    "bleu_bigram_comparisons = get_all_comparisons(all_answers, get_bleu_comp, weights=[0, 1, 0, 0])\n",
    "bleu_trigram_comparisons = get_all_comparisons(all_answers, get_bleu_comp, weights=[0, 0, 1, 0])\n",
    "bleu_mixed_bigram_comparisons = get_all_comparisons(all_answers, get_bleu_comp, weights=[.5, .5, 0, 0])\n",
    "bleu_mixed_trigram_comparisons = get_all_comparisons(all_answers, get_bleu_comp, weights=[.33, .33, .34, 0])"
   ]
  },
  {
   "cell_type": "code",
   "execution_count": 790,
   "metadata": {},
   "outputs": [
    {
     "name": "stdout",
     "output_type": "stream",
     "text": [
      "bleu unigram\n",
      "0.8673226661124263\n",
      "bleu bigram\n",
      "0.8918958525817935\n",
      "bleu trigram\n",
      "0.8880751825839377\n",
      "bleu mixed bigram\n",
      "0.8883862343439911\n",
      "bleu mixed trigram\n",
      "0.8913345439721306\n"
     ]
    }
   ],
   "source": [
    "for b, k in [\n",
    "    (bleu_unigram_comparisons, 'bleu unigram'),\n",
    "    (bleu_bigram_comparisons, 'bleu bigram'),\n",
    "    (bleu_trigram_comparisons, 'bleu trigram'),\n",
    "    (bleu_mixed_bigram_comparisons, 'bleu mixed bigram'),\n",
    "    (bleu_mixed_trigram_comparisons, 'bleu mixed trigram')\n",
    "]:\n",
    "    print(k)\n",
    "    print(\n",
    "        b\n",
    "         .groupby('cutoff')\n",
    "         .mean()\n",
    "         .rename(columns={'in_pred': 'recall', 'in_annot': 'precision'})\n",
    "         .apply(lambda x: 2 * (x['precision'] * x['recall']) / ((x['precision'] + x['recall'])),  axis=1)\n",
    "         .max()\n",
    "    )"
   ]
  },
  {
   "cell_type": "code",
   "execution_count": null,
   "metadata": {},
   "outputs": [],
   "source": [
    "bleu_bigram_comparisons"
   ]
  },
  {
   "cell_type": "code",
   "execution_count": null,
   "metadata": {},
   "outputs": [],
   "source": []
  },
  {
   "cell_type": "code",
   "execution_count": null,
   "metadata": {},
   "outputs": [],
   "source": []
  },
  {
   "cell_type": "code",
   "execution_count": null,
   "metadata": {},
   "outputs": [],
   "source": []
  },
  {
   "cell_type": "code",
   "execution_count": null,
   "metadata": {},
   "outputs": [],
   "source": []
  },
  {
   "cell_type": "code",
   "execution_count": null,
   "metadata": {},
   "outputs": [],
   "source": []
  },
  {
   "cell_type": "code",
   "execution_count": null,
   "metadata": {},
   "outputs": [],
   "source": []
  },
  {
   "cell_type": "markdown",
   "metadata": {},
   "source": [
    "# Subsequences"
   ]
  },
  {
   "cell_type": "code",
   "execution_count": 1083,
   "metadata": {},
   "outputs": [],
   "source": [
    "def lcs(seq_1, seq_2, n, m):\n",
    "    counter = np.zeros((n + 1, m + 1))\n",
    "    for i in range(n):\n",
    "        for j in range(m):\n",
    "            if seq_1[i] == seq_2[j]:\n",
    "                c = counter[i][j] + 1\n",
    "                counter[i+1][j+1] = c\n",
    "                x_idx_s, x_idx_e = int(i - c + 1), int(i + 1)\n",
    "                y_idx_s, y_idx_e = int(j - c + 1), int(j + 1)\n",
    "    return counter\n",
    "\n",
    "\n",
    "def lcs_mat(sim_mat, threshold=.5):\n",
    "    n, m = sim_mat.shape\n",
    "    counter = np.zeros((n + 1, m + 1))\n",
    "    for i in range(n):\n",
    "        for j in range(m):\n",
    "            if sim_mat[i, j] > threshold:\n",
    "                c = counter[i][j] + 1\n",
    "                counter[i+1][j+1] = c\n",
    "                x_idx_s, x_idx_e = int(i - c + 1), int(i + 1)\n",
    "                y_idx_s, y_idx_e = int(j - c + 1), int(j + 1)\n",
    "    return counter\n",
    "\n",
    "\n",
    "def get_all_common_substrings(seq_1=None, seq_2=None, sim_mat=None, output_format='len', minimum_overlap=3, word_sim_thresh=.5):\n",
    "    \"\"\"\n",
    "    `output_format`:\n",
    "        * = \"indices\": return raw indices\n",
    "        * = \"subseqs\": return substrings from sequences\n",
    "        * = \"len\": sum the length\n",
    "    \"\"\"\n",
    "    if seq_1 is not None and seq_2 is not None:\n",
    "        n = len(seq_1)\n",
    "        m = len(seq_2)\n",
    "        mat = lcs(seq_1, seq_2, n, m)\n",
    "    else:\n",
    "        n, m = sim_mat.shape\n",
    "        mat = lcs_mat(sim_mat=sim_mat, threshold=word_sim_thresh)\n",
    "        \n",
    "    mat = mat[1:, 1:].copy()\n",
    "    try:\n",
    "        accepted_coords = get_substrings_from_matrix(mat, minimum_overlap=minimum_overlap)\n",
    "    except:\n",
    "        accepted_coords = {'x':[], 'y':[]}\n",
    "    # output format\n",
    "    if output_format == 'indices':\n",
    "        return accepted_coords\n",
    "    elif output_format == 'subseqs':\n",
    "        output_strings = []\n",
    "        for s, e in accepted_coords['x']:\n",
    "            output_strings.append(seq_1[s:e])\n",
    "        return output_strings\n",
    "    elif output_format == 'len':\n",
    "        all_len = 0\n",
    "        for s, e in accepted_coords['x']:\n",
    "            all_len += e - s\n",
    "\n",
    "        return all_len\n",
    "\n",
    "\n",
    "def get_substrings_from_matrix(mat, minimum_overlap):\n",
    "    accepted_coords = {'x': [], 'y': []}\n",
    "    str_len = int(mat.max())\n",
    "\n",
    "    while str_len >= minimum_overlap:\n",
    "        x_cord, y_cord = np.where(mat == mat.max())\n",
    "        for x_cord_i, y_cord_i in zip(x_cord, y_cord):\n",
    "            x_idx_s, x_idx_e = int(x_cord_i - str_len + 1), int(x_cord_i + 1)\n",
    "            y_idx_s, y_idx_e = int(y_cord_i - str_len + 1), int(y_cord_i + 1)\n",
    "\n",
    "            # see if there are any zeros in the diagonal - this means that the \n",
    "            # substring shares elements with a longer string that was already matched\n",
    "            diag = mat[range(x_idx_s, x_idx_e), range(y_idx_s, y_idx_e)]\n",
    "            num_zeros = str_len - np.count_nonzero(diag)\n",
    "            # if so, correct\n",
    "            if num_zeros > 0: # \n",
    "                mat[range(x_idx_s, x_idx_e), range(y_idx_s, y_idx_e)] = np.maximum(diag - num_zeros, 0)\n",
    "            else:\n",
    "                accepted_coords['x'].append((x_idx_s, x_idx_e))\n",
    "                accepted_coords['y'].append((y_idx_s, y_idx_e))\n",
    "                mat[x_idx_s:x_idx_e, :] = 0\n",
    "                mat[:, y_idx_s:y_idx_e] = 0\n",
    "\n",
    "        # continue \n",
    "        str_len = int(mat.max())\n",
    "    # return \n",
    "    return accepted_coords"
   ]
  },
  {
   "cell_type": "code",
   "execution_count": 1086,
   "metadata": {},
   "outputs": [],
   "source": [
    "def get_subsequence_comp(nodes_df, minimum_overlap=2, *args, **kwargs):\n",
    "    sentences = nodes_df['sentence'].tolist()\n",
    "    tokenized = []\n",
    "    for doc in nlp.pipe(sentences, disable=[\"tok2vec\", \"tagger\", \"parser\", \"attribute_ruler\", \"lemmatizer\"]):\n",
    "        tokens = list(map(lambda x: x.text, doc))\n",
    "        tokenized.append(tokens)\n",
    "    nodes_df['tokenized_sentences'] = tokenized\n",
    "    \n",
    "    ## perform comparisons\n",
    "    sentence_pairs = []\n",
    "    sents_x = nodes_df.loc[lambda df: df['version'] == df['version'].min()]\n",
    "    sents_y = nodes_df.loc[lambda df: df['version'] == df['version'].max()]\n",
    "\n",
    "    sentence_pairs = []\n",
    "    for s_idx_x, sent_x in sents_x[['sent_idx', 'tokenized_sentences']].itertuples(index=False):\n",
    "        for s_idx_y, sent_y in sents_y[['sent_idx', 'tokenized_sentences']].itertuples(index=False):\n",
    "            n_common_subseq = get_all_common_substrings(seq_1=sent_x, seq_2=sent_y, minimum_overlap=minimum_overlap)\n",
    "            sentence_pairs.append({\n",
    "                'avg_sentence_sim_x': n_common_subseq / len(sent_x) if len(sent_x) > 0 else 0,\n",
    "                'avg_sentence_sim_y': n_common_subseq / len(sent_y) if len(sent_y) > 0 else 0,\n",
    "                'sent_idx_x': s_idx_x,\n",
    "                'sent_idx_y': s_idx_y\n",
    "            })\n",
    "\n",
    "    sentence_pair_df = pd.DataFrame(sentence_pairs)\n",
    "    return sentence_pair_df\n",
    "\n",
    "\n",
    "def get_subsequence_comp_bert(nodes_df, minimum_overlap=2, *args, **kwargs):\n",
    "    nodes_df = pd.DataFrame(a['nodes'])\n",
    "    token_input, attention_mask, nodes_df = tensorize_df_bert(nodes_df)\n",
    "    ## Get output\n",
    "    output = model(token_input, attention_mask=attention_mask)\n",
    "    ## split words into X and Y\n",
    "    word_df = []\n",
    "    for idx, version, s_idx, tokens in nodes_df[['version', 'sent_idx', 'sentence_tokens']].itertuples():\n",
    "        sentence_vec = output.last_hidden_state[idx]\n",
    "        word_ids, avg_vecs = avg_across_subwords(sentence_vec, tokens)\n",
    "        for word_idx in word_ids:\n",
    "            word_df.append({\n",
    "                'version': version,\n",
    "                's_idx': s_idx,\n",
    "                'w_idx': word_idx,\n",
    "                'tensor': avg_vecs[word_idx]\n",
    "            })\n",
    "\n",
    "    word_df = pd.DataFrame(word_df)\n",
    "    words_x = word_df.loc[lambda df: df['version'] == df['version'].min()]\n",
    "    words_y = word_df.loc[lambda df: df['version'] == df['version'].max()]\n",
    "\n",
    "    ## perform comparisons\n",
    "    sentence_pairs = []\n",
    "    for s_idx_x in words_x['s_idx'].drop_duplicates():\n",
    "        for s_idx_y in words_y['s_idx'].drop_duplicates():\n",
    "            t_y = np.vstack(words_y.loc[lambda df: df['s_idx'] == s_idx_y]['tensor'].tolist())\n",
    "            t_x = np.vstack(words_x.loc[lambda df: df['s_idx'] == s_idx_x]['tensor'].tolist())\n",
    "            # \n",
    "            x_y_sim = cosine_similarity(t_x, t_y)    \n",
    "            n_common_subseq = get_all_common_substrings(\n",
    "                sim_mat=x_y_sim,\n",
    "                minimum_overlap=minimum_overlap\n",
    "            )\n",
    "            sentence_pairs.append({\n",
    "                'avg_sentence_sim_x': n_common_subseq / len(words_x),\n",
    "                'avg_sentence_sim_y': n_common_subseq / len(words_y),\n",
    "                'sent_idx_x': s_idx_x,\n",
    "                'sent_idx_y': s_idx_y\n",
    "            })\n",
    "\n",
    "    sentence_pair_df = pd.DataFrame(sentence_pairs)\n",
    "    return sentence_pair_df"
   ]
  },
  {
   "cell_type": "code",
   "execution_count": 1087,
   "metadata": {
    "scrolled": true
   },
   "outputs": [
    {
     "data": {
      "application/vnd.jupyter.widget-view+json": {
       "model_id": "66f5e4de45084e89851a83ef3db71b8e",
       "version_major": 2,
       "version_minor": 0
      },
      "text/plain": [
       "  0%|          | 0/193 [00:00<?, ?it/s]"
      ]
     },
     "metadata": {},
     "output_type": "display_data"
    }
   ],
   "source": [
    "subseq_comps = get_all_comparisons(all_answers, get_subsequence_comp_bert, minimum_overlap=2)"
   ]
  },
  {
   "cell_type": "code",
   "execution_count": 1088,
   "metadata": {},
   "outputs": [
    {
     "data": {
      "text/plain": [
       "0.5470755372782103"
      ]
     },
     "execution_count": 1088,
     "metadata": {},
     "output_type": "execute_result"
    }
   ],
   "source": [
    "(\n",
    "        subseq_comps\n",
    "         .groupby('cutoff')\n",
    "         .mean()\n",
    "         .rename(columns={'in_pred': 'recall', 'in_annot': 'precision'})\n",
    "         .apply(lambda x: 2 * (x['precision'] * x['recall']) / ((x['precision'] + x['recall'])),  axis=1)\n",
    "         .max()\n",
    "    )"
   ]
  },
  {
   "cell_type": "code",
   "execution_count": null,
   "metadata": {},
   "outputs": [],
   "source": []
  },
  {
   "cell_type": "code",
   "execution_count": 1095,
   "metadata": {},
   "outputs": [],
   "source": [
    "from pyemd import emd\n",
    "import os\n",
    "import numpy as np\n",
    "from sklearn.datasets import fetch_20newsgroups\n",
    "from sklearn.feature_extraction.text import CountVectorizer"
   ]
  },
  {
   "cell_type": "code",
   "execution_count": 1096,
   "metadata": {},
   "outputs": [
    {
     "name": "stdout",
     "output_type": "stream",
     "text": [
      "Features: addresses, chicago, illinois, media, obama, president, press, speaks\n"
     ]
    }
   ],
   "source": [
    "d1 = \"Obama speaks to the media in Illinois\"\n",
    "d2 = \"The President addresses the press in Chicago\"\n",
    "\n",
    "vect = CountVectorizer(stop_words=\"english\").fit([d1, d2])\n",
    "print(\"Features:\",  \", \".join(vect.get_feature_names()))"
   ]
  },
  {
   "cell_type": "code",
   "execution_count": null,
   "metadata": {},
   "outputs": [
    {
     "name": "stdout",
     "output_type": "stream",
     "text": [
      "Caching word embeddings in memmapped format...\n"
     ]
    }
   ],
   "source": [
    "if not os.path.exists(\"data/embed.dat\"):\n",
    "    print(\"Caching word embeddings in memmapped format...\")\n",
    "    from gensim.models.word2vec import Word2Vec\n",
    "    from gensim.models.keyedvectors import KeyedVectors\n",
    "    wv = KeyedVectors.load_word2vec_format('tmp/GoogleNews-vectors-negative300.bin.gz', binary=True)\n",
    "    wv.init_sims(replace=True) \n",
    "    print(\"finish loading word2vec\")\n",
    "    fp = np.memmap(\"tmp/embed.dat\", dtype=np.double, mode='w+', shape=wv.syn0.shape)\n",
    "    fp[:] = wv.syn0[:]\n",
    "    with open(\"tmp/embed.vocab\", \"w\") as f:\n",
    "        for _, w in sorted((voc.index, word) for word, voc in wv.vocab.items()):\n",
    "            print(w, file=f)\n",
    "    del fp, wv\n",
    "\n",
    "W = np.memmap(\"tmp/embed.dat\", dtype=np.double, mode=\"r\", shape=(3000000, 300))\n",
    "with open(\"tmp/embed.vocab\") as f:\n",
    "    vocab_list = map(str.strip, f.readlines())"
   ]
  },
  {
   "cell_type": "code",
   "execution_count": null,
   "metadata": {},
   "outputs": [],
   "source": [
    "vocab_dict = {w: k for k, w in enumerate(vocab_list)}"
   ]
  },
  {
   "cell_type": "code",
   "execution_count": 1098,
   "metadata": {},
   "outputs": [
    {
     "ename": "NameError",
     "evalue": "name 'W' is not defined",
     "output_type": "error",
     "traceback": [
      "\u001b[0;31m---------------------------------------------------------------------------\u001b[0m",
      "\u001b[0;31mNameError\u001b[0m                                 Traceback (most recent call last)",
      "\u001b[0;32m<ipython-input-1098-990b29fdbac6>\u001b[0m in \u001b[0;36m<module>\u001b[0;34m\u001b[0m\n\u001b[1;32m      1\u001b[0m \u001b[0;32mfrom\u001b[0m \u001b[0msklearn\u001b[0m\u001b[0;34m.\u001b[0m\u001b[0mmetrics\u001b[0m \u001b[0;32mimport\u001b[0m \u001b[0meuclidean_distances\u001b[0m\u001b[0;34m\u001b[0m\u001b[0;34m\u001b[0m\u001b[0m\n\u001b[0;32m----> 2\u001b[0;31m \u001b[0mW_\u001b[0m \u001b[0;34m=\u001b[0m \u001b[0mW\u001b[0m\u001b[0;34m[\u001b[0m\u001b[0;34m[\u001b[0m\u001b[0mvocab_dict\u001b[0m\u001b[0;34m[\u001b[0m\u001b[0mw\u001b[0m\u001b[0;34m]\u001b[0m \u001b[0;32mfor\u001b[0m \u001b[0mw\u001b[0m \u001b[0;32min\u001b[0m \u001b[0mvect\u001b[0m\u001b[0;34m.\u001b[0m\u001b[0mget_feature_names\u001b[0m\u001b[0;34m(\u001b[0m\u001b[0;34m)\u001b[0m\u001b[0;34m]\u001b[0m\u001b[0;34m]\u001b[0m\u001b[0;34m\u001b[0m\u001b[0;34m\u001b[0m\u001b[0m\n\u001b[0m\u001b[1;32m      3\u001b[0m \u001b[0mD_\u001b[0m \u001b[0;34m=\u001b[0m \u001b[0meuclidean_distances\u001b[0m\u001b[0;34m(\u001b[0m\u001b[0mW_\u001b[0m\u001b[0;34m)\u001b[0m\u001b[0;34m\u001b[0m\u001b[0;34m\u001b[0m\u001b[0m\n\u001b[1;32m      4\u001b[0m \u001b[0mprint\u001b[0m\u001b[0;34m(\u001b[0m\u001b[0;34m\"d(addresses, speaks) = {:.2f}\"\u001b[0m\u001b[0;34m.\u001b[0m\u001b[0mformat\u001b[0m\u001b[0;34m(\u001b[0m\u001b[0mD_\u001b[0m\u001b[0;34m[\u001b[0m\u001b[0;36m0\u001b[0m\u001b[0;34m,\u001b[0m \u001b[0;36m7\u001b[0m\u001b[0;34m]\u001b[0m\u001b[0;34m)\u001b[0m\u001b[0;34m)\u001b[0m\u001b[0;34m\u001b[0m\u001b[0;34m\u001b[0m\u001b[0m\n\u001b[1;32m      5\u001b[0m \u001b[0mprint\u001b[0m\u001b[0;34m(\u001b[0m\u001b[0;34m\"d(addresses, chicago) = {:.2f}\"\u001b[0m\u001b[0;34m.\u001b[0m\u001b[0mformat\u001b[0m\u001b[0;34m(\u001b[0m\u001b[0mD_\u001b[0m\u001b[0;34m[\u001b[0m\u001b[0;36m0\u001b[0m\u001b[0;34m,\u001b[0m \u001b[0;36m1\u001b[0m\u001b[0;34m]\u001b[0m\u001b[0;34m)\u001b[0m\u001b[0;34m)\u001b[0m\u001b[0;34m\u001b[0m\u001b[0;34m\u001b[0m\u001b[0m\n",
      "\u001b[0;31mNameError\u001b[0m: name 'W' is not defined"
     ]
    }
   ],
   "source": [
    "from sklearn.metrics import euclidean_distances\n",
    "W_ = W[[vocab_dict[w] for w in vect.get_feature_names()]]\n",
    "D_ = euclidean_distances(W_)\n",
    "print(\"d(addresses, speaks) = {:.2f}\".format(D_[0, 7]))\n",
    "print(\"d(addresses, chicago) = {:.2f}\".format(D_[0, 1]))"
   ]
  },
  {
   "cell_type": "code",
   "execution_count": 1089,
   "metadata": {},
   "outputs": [
    {
     "ename": "NameError",
     "evalue": "name 'v_1' is not defined",
     "output_type": "error",
     "traceback": [
      "\u001b[0;31m---------------------------------------------------------------------------\u001b[0m",
      "\u001b[0;31mNameError\u001b[0m                                 Traceback (most recent call last)",
      "\u001b[0;32m<ipython-input-1089-743981af31df>\u001b[0m in \u001b[0;36m<module>\u001b[0;34m\u001b[0m\n\u001b[1;32m      1\u001b[0m \u001b[0;31m# pyemd needs double precision input\u001b[0m\u001b[0;34m\u001b[0m\u001b[0;34m\u001b[0m\u001b[0;34m\u001b[0m\u001b[0m\n\u001b[0;32m----> 2\u001b[0;31m \u001b[0mv_1\u001b[0m \u001b[0;34m=\u001b[0m \u001b[0mv_1\u001b[0m\u001b[0;34m.\u001b[0m\u001b[0mastype\u001b[0m\u001b[0;34m(\u001b[0m\u001b[0mnp\u001b[0m\u001b[0;34m.\u001b[0m\u001b[0mdouble\u001b[0m\u001b[0;34m)\u001b[0m\u001b[0;34m\u001b[0m\u001b[0;34m\u001b[0m\u001b[0m\n\u001b[0m\u001b[1;32m      3\u001b[0m \u001b[0mv_2\u001b[0m \u001b[0;34m=\u001b[0m \u001b[0mv_2\u001b[0m\u001b[0;34m.\u001b[0m\u001b[0mastype\u001b[0m\u001b[0;34m(\u001b[0m\u001b[0mnp\u001b[0m\u001b[0;34m.\u001b[0m\u001b[0mdouble\u001b[0m\u001b[0;34m)\u001b[0m\u001b[0;34m\u001b[0m\u001b[0;34m\u001b[0m\u001b[0m\n\u001b[1;32m      4\u001b[0m \u001b[0mv_1\u001b[0m \u001b[0;34m/=\u001b[0m \u001b[0mv_1\u001b[0m\u001b[0;34m.\u001b[0m\u001b[0msum\u001b[0m\u001b[0;34m(\u001b[0m\u001b[0;34m)\u001b[0m\u001b[0;34m\u001b[0m\u001b[0;34m\u001b[0m\u001b[0m\n\u001b[1;32m      5\u001b[0m \u001b[0mv_2\u001b[0m \u001b[0;34m/=\u001b[0m \u001b[0mv_2\u001b[0m\u001b[0;34m.\u001b[0m\u001b[0msum\u001b[0m\u001b[0;34m(\u001b[0m\u001b[0;34m)\u001b[0m\u001b[0;34m\u001b[0m\u001b[0;34m\u001b[0m\u001b[0m\n",
      "\u001b[0;31mNameError\u001b[0m: name 'v_1' is not defined"
     ]
    }
   ],
   "source": [
    "# pyemd needs double precision input\n",
    "v_1 = v_1.astype(np.double)\n",
    "v_2 = v_2.astype(np.double)\n",
    "v_1 /= v_1.sum()\n",
    "v_2 /= v_2.sum()\n",
    "D_ = D_.astype(np.double)\n",
    "D_ /= D_.max()  # just for comparison purposes\n",
    "print(\"d(doc_1, doc_2)  = {:.2f}\".format(emd(v_1, v_2, D_)))"
   ]
  },
  {
   "cell_type": "code",
   "execution_count": null,
   "metadata": {},
   "outputs": [],
   "source": []
  },
  {
   "cell_type": "code",
   "execution_count": null,
   "metadata": {},
   "outputs": [],
   "source": []
  },
  {
   "cell_type": "code",
   "execution_count": null,
   "metadata": {},
   "outputs": [],
   "source": []
  },
  {
   "cell_type": "code",
   "execution_count": 1043,
   "metadata": {},
   "outputs": [
    {
     "data": {
      "text/plain": [
       "0.8608680927922335"
      ]
     },
     "execution_count": 1043,
     "metadata": {},
     "output_type": "execute_result"
    }
   ],
   "source": [
    "(subseq_comps\n",
    "         .groupby('cutoff')\n",
    "         .mean()\n",
    "         .rename(columns={'in_pred': 'recall', 'in_annot': 'precision'})\n",
    "         .apply(lambda x: 2 * (x['precision'] * x['recall']) / ((x['precision'] + x['recall'])),  axis=1)\n",
    "         .max())"
   ]
  },
  {
   "cell_type": "code",
   "execution_count": null,
   "metadata": {},
   "outputs": [],
   "source": [
    "    ## Get bert embeddings\n",
    "    token_input, attention_mask, nodes_df = tensorize_df_bert(nodes_df)\n",
    "    output = model(token_input, attention_mask=attention_mask)\n",
    "\n",
    "    ## split words into X and Y\n",
    "    word_df = []\n",
    "    for idx, version, s_idx, tokens in nodes_df[['version', 'sent_idx', 'sentence_tokens']].itertuples():\n",
    "        sentence_vec = output.last_hidden_state[idx]\n",
    "        word_ids, avg_vecs = avg_across_subwords(sentence_vec, tokens)\n",
    "        for word_idx in word_ids:\n",
    "            word_df.append({\n",
    "                'version': version,\n",
    "                's_idx': s_idx,\n",
    "                'w_idx': word_idx,\n",
    "                'tensor': avg_vecs[word_idx]\n",
    "            })\n",
    "    \n",
    "    word_df = pd.DataFrame(word_df)\n",
    "    words_x = word_df.loc[lambda df: df['version'] == df['version'].min()]\n",
    "    words_y = word_df.loc[lambda df: df['version'] == df['version'].max()]\n"
   ]
  },
  {
   "cell_type": "code",
   "execution_count": null,
   "metadata": {},
   "outputs": [],
   "source": []
  },
  {
   "cell_type": "code",
   "execution_count": null,
   "metadata": {},
   "outputs": [],
   "source": []
  }
 ],
 "metadata": {
  "hide_input": false,
  "kernelspec": {
   "display_name": "Python 3",
   "language": "python",
   "name": "python3"
  },
  "language_info": {
   "codemirror_mode": {
    "name": "ipython",
    "version": 3
   },
   "file_extension": ".py",
   "mimetype": "text/x-python",
   "name": "python",
   "nbconvert_exporter": "python",
   "pygments_lexer": "ipython3",
   "version": "3.7.6"
  }
 },
 "nbformat": 4,
 "nbformat_minor": 4
}
