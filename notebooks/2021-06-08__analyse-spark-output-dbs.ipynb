{
 "cells": [
  {
   "cell_type": "code",
   "execution_count": 1,
   "metadata": {},
   "outputs": [
    {
     "name": "stderr",
     "output_type": "stream",
     "text": [
      "/Users/alex/opt/anaconda3/lib/python3.7/site-packages/requests/__init__.py:91: RequestsDependencyWarning: urllib3 (1.26.9) or chardet (3.0.4) doesn't match a supported version!\n",
      "  RequestsDependencyWarning)\n"
     ]
    }
   ],
   "source": [
    "import pandas as pd \n",
    "import sqlite3\n",
    "import sys\n",
    "sys.path.append('../util/')\n",
    "import util_newssniffer_parsing as unp\n",
    "from IPython.display import display, HTML\n",
    "import os"
   ]
  },
  {
   "cell_type": "code",
   "execution_count": 2,
   "metadata": {},
   "outputs": [],
   "source": [
    "path_to_data = '../data/diffengine-diffs/spark-output'\n",
    "con = sqlite3.connect(os.path.join(path_to_data, 'wp-matched-sentences.db'))"
   ]
  },
  {
   "cell_type": "code",
   "execution_count": 3,
   "metadata": {},
   "outputs": [],
   "source": [
    "path_to_data = '../data/diffengine-diffs/db'"
   ]
  },
  {
   "cell_type": "code",
   "execution_count": 5,
   "metadata": {},
   "outputs": [
    {
     "data": {
      "text/html": [
       "<div>\n",
       "<style scoped>\n",
       "    .dataframe tbody tr th:only-of-type {\n",
       "        vertical-align: middle;\n",
       "    }\n",
       "\n",
       "    .dataframe tbody tr th {\n",
       "        vertical-align: top;\n",
       "    }\n",
       "\n",
       "    .dataframe thead th {\n",
       "        text-align: right;\n",
       "    }\n",
       "</style>\n",
       "<table border=\"1\" class=\"dataframe\">\n",
       "  <thead>\n",
       "    <tr style=\"text-align: right;\">\n",
       "      <th></th>\n",
       "      <th>name</th>\n",
       "    </tr>\n",
       "  </thead>\n",
       "  <tbody>\n",
       "    <tr>\n",
       "      <th>0</th>\n",
       "      <td>matched_sentences</td>\n",
       "    </tr>\n",
       "    <tr>\n",
       "      <th>1</th>\n",
       "      <td>split_sentences</td>\n",
       "    </tr>\n",
       "  </tbody>\n",
       "</table>\n",
       "</div>"
      ],
      "text/plain": [
       "                name\n",
       "0  matched_sentences\n",
       "1    split_sentences"
      ]
     },
     "execution_count": 5,
     "metadata": {},
     "output_type": "execute_result"
    }
   ],
   "source": [
    "pd.read_sql('''SELECT \n",
    "                    name\n",
    "                FROM \n",
    "                    sqlite_master \n",
    "                WHERE \n",
    "                    type ='table' AND \n",
    "                    name NOT LIKE 'sqlite_%';\n",
    "''', con=con)"
   ]
  },
  {
   "cell_type": "code",
   "execution_count": 35,
   "metadata": {},
   "outputs": [
    {
     "data": {
      "text/html": [
       "<div>\n",
       "<style scoped>\n",
       "    .dataframe tbody tr th:only-of-type {\n",
       "        vertical-align: middle;\n",
       "    }\n",
       "\n",
       "    .dataframe tbody tr th {\n",
       "        vertical-align: top;\n",
       "    }\n",
       "\n",
       "    .dataframe thead th {\n",
       "        text-align: right;\n",
       "    }\n",
       "</style>\n",
       "<table border=\"1\" class=\"dataframe\">\n",
       "  <thead>\n",
       "    <tr style=\"text-align: right;\">\n",
       "      <th></th>\n",
       "      <th>COUNT(*)</th>\n",
       "    </tr>\n",
       "  </thead>\n",
       "  <tbody>\n",
       "    <tr>\n",
       "      <th>0</th>\n",
       "      <td>2520474</td>\n",
       "    </tr>\n",
       "  </tbody>\n",
       "</table>\n",
       "</div>"
      ],
      "text/plain": [
       "   COUNT(*)\n",
       "0   2520474"
      ]
     },
     "execution_count": 35,
     "metadata": {},
     "output_type": "execute_result"
    }
   ],
   "source": [
    "pd.read_sql('''SELECT COUNT(*) FROM MATCHED_SENTENCES;\n",
    "''', con = con)"
   ]
  },
  {
   "cell_type": "code",
   "execution_count": 41,
   "metadata": {},
   "outputs": [
    {
     "data": {
      "text/html": [
       "<div>\n",
       "<style scoped>\n",
       "    .dataframe tbody tr th:only-of-type {\n",
       "        vertical-align: middle;\n",
       "    }\n",
       "\n",
       "    .dataframe tbody tr th {\n",
       "        vertical-align: top;\n",
       "    }\n",
       "\n",
       "    .dataframe thead th {\n",
       "        text-align: right;\n",
       "    }\n",
       "</style>\n",
       "<table border=\"1\" class=\"dataframe\">\n",
       "  <thead>\n",
       "    <tr style=\"text-align: right;\">\n",
       "      <th></th>\n",
       "      <th>entry_id</th>\n",
       "      <th>version</th>\n",
       "      <th>sent_idx</th>\n",
       "      <th>sentence</th>\n",
       "    </tr>\n",
       "  </thead>\n",
       "  <tbody>\n",
       "    <tr>\n",
       "      <th>0</th>\n",
       "      <td>1094962</td>\n",
       "      <td>0</td>\n",
       "      <td>0</td>\n",
       "      <td>BEIRUT — The Latest developments on the war in...</td>\n",
       "    </tr>\n",
       "    <tr>\n",
       "      <th>1</th>\n",
       "      <td>1094962</td>\n",
       "      <td>0</td>\n",
       "      <td>1</td>\n",
       "      <td>(all times local): 11:45 a.m.</td>\n",
       "    </tr>\n",
       "    <tr>\n",
       "      <th>2</th>\n",
       "      <td>1094962</td>\n",
       "      <td>0</td>\n",
       "      <td>2</td>\n",
       "      <td>The Russian defense ministry says its airstrik...</td>\n",
       "    </tr>\n",
       "    <tr>\n",
       "      <th>3</th>\n",
       "      <td>1094962</td>\n",
       "      <td>0</td>\n",
       "      <td>3</td>\n",
       "      <td>The defense ministry in a statement on Thursda...</td>\n",
       "    </tr>\n",
       "    <tr>\n",
       "      <th>4</th>\n",
       "      <td>1094962</td>\n",
       "      <td>0</td>\n",
       "      <td>4</td>\n",
       "      <td>A Syrian government offensive around the city ...</td>\n",
       "    </tr>\n",
       "  </tbody>\n",
       "</table>\n",
       "</div>"
      ],
      "text/plain": [
       "   entry_id  version  sent_idx  \\\n",
       "0   1094962        0         0   \n",
       "1   1094962        0         1   \n",
       "2   1094962        0         2   \n",
       "3   1094962        0         3   \n",
       "4   1094962        0         4   \n",
       "\n",
       "                                            sentence  \n",
       "0  BEIRUT — The Latest developments on the war in...  \n",
       "1                      (all times local): 11:45 a.m.  \n",
       "2  The Russian defense ministry says its airstrik...  \n",
       "3  The defense ministry in a statement on Thursda...  \n",
       "4  A Syrian government offensive around the city ...  "
      ]
     },
     "execution_count": 41,
     "metadata": {},
     "output_type": "execute_result"
    }
   ],
   "source": [
    "pd.read_sql('''SELECT * FROM SPLIT_SENTENCES LIMIT 5;''', con = con)"
   ]
  },
  {
   "cell_type": "code",
   "execution_count": 6,
   "metadata": {},
   "outputs": [
    {
     "data": {
      "text/html": [
       "<div>\n",
       "<style scoped>\n",
       "    .dataframe tbody tr th:only-of-type {\n",
       "        vertical-align: middle;\n",
       "    }\n",
       "\n",
       "    .dataframe tbody tr th {\n",
       "        vertical-align: top;\n",
       "    }\n",
       "\n",
       "    .dataframe thead th {\n",
       "        text-align: right;\n",
       "    }\n",
       "</style>\n",
       "<table border=\"1\" class=\"dataframe\">\n",
       "  <thead>\n",
       "    <tr style=\"text-align: right;\">\n",
       "      <th></th>\n",
       "      <th>entry_id</th>\n",
       "      <th>version_x</th>\n",
       "      <th>version_y</th>\n",
       "      <th>sent_idx_x</th>\n",
       "      <th>sent_idx_y</th>\n",
       "      <th>avg_sentence_distance_x</th>\n",
       "      <th>avg_sentence_distance_y</th>\n",
       "    </tr>\n",
       "  </thead>\n",
       "  <tbody>\n",
       "    <tr>\n",
       "      <th>0</th>\n",
       "      <td>728192</td>\n",
       "      <td>0</td>\n",
       "      <td>1</td>\n",
       "      <td>0.0</td>\n",
       "      <td>0.0</td>\n",
       "      <td>0.194212</td>\n",
       "      <td>0.194212</td>\n",
       "    </tr>\n",
       "    <tr>\n",
       "      <th>1</th>\n",
       "      <td>728192</td>\n",
       "      <td>0</td>\n",
       "      <td>1</td>\n",
       "      <td>1.0</td>\n",
       "      <td>1.0</td>\n",
       "      <td>0.348694</td>\n",
       "      <td>0.345599</td>\n",
       "    </tr>\n",
       "    <tr>\n",
       "      <th>2</th>\n",
       "      <td>728192</td>\n",
       "      <td>0</td>\n",
       "      <td>1</td>\n",
       "      <td>2.0</td>\n",
       "      <td>2.0</td>\n",
       "      <td>0.402505</td>\n",
       "      <td>0.402505</td>\n",
       "    </tr>\n",
       "    <tr>\n",
       "      <th>3</th>\n",
       "      <td>728192</td>\n",
       "      <td>0</td>\n",
       "      <td>1</td>\n",
       "      <td>3.0</td>\n",
       "      <td>3.0</td>\n",
       "      <td>0.000000</td>\n",
       "      <td>0.000000</td>\n",
       "    </tr>\n",
       "    <tr>\n",
       "      <th>4</th>\n",
       "      <td>728192</td>\n",
       "      <td>0</td>\n",
       "      <td>1</td>\n",
       "      <td>4.0</td>\n",
       "      <td>4.0</td>\n",
       "      <td>0.211175</td>\n",
       "      <td>0.211175</td>\n",
       "    </tr>\n",
       "    <tr>\n",
       "      <th>...</th>\n",
       "      <td>...</td>\n",
       "      <td>...</td>\n",
       "      <td>...</td>\n",
       "      <td>...</td>\n",
       "      <td>...</td>\n",
       "      <td>...</td>\n",
       "      <td>...</td>\n",
       "    </tr>\n",
       "    <tr>\n",
       "      <th>95</th>\n",
       "      <td>728194</td>\n",
       "      <td>0</td>\n",
       "      <td>1</td>\n",
       "      <td>1.0</td>\n",
       "      <td>NaN</td>\n",
       "      <td>NaN</td>\n",
       "      <td>NaN</td>\n",
       "    </tr>\n",
       "    <tr>\n",
       "      <th>96</th>\n",
       "      <td>728194</td>\n",
       "      <td>0</td>\n",
       "      <td>1</td>\n",
       "      <td>2.0</td>\n",
       "      <td>NaN</td>\n",
       "      <td>NaN</td>\n",
       "      <td>NaN</td>\n",
       "    </tr>\n",
       "    <tr>\n",
       "      <th>97</th>\n",
       "      <td>728194</td>\n",
       "      <td>0</td>\n",
       "      <td>1</td>\n",
       "      <td>3.0</td>\n",
       "      <td>NaN</td>\n",
       "      <td>NaN</td>\n",
       "      <td>NaN</td>\n",
       "    </tr>\n",
       "    <tr>\n",
       "      <th>98</th>\n",
       "      <td>728194</td>\n",
       "      <td>0</td>\n",
       "      <td>1</td>\n",
       "      <td>4.0</td>\n",
       "      <td>NaN</td>\n",
       "      <td>NaN</td>\n",
       "      <td>NaN</td>\n",
       "    </tr>\n",
       "    <tr>\n",
       "      <th>99</th>\n",
       "      <td>728194</td>\n",
       "      <td>0</td>\n",
       "      <td>1</td>\n",
       "      <td>5.0</td>\n",
       "      <td>NaN</td>\n",
       "      <td>NaN</td>\n",
       "      <td>NaN</td>\n",
       "    </tr>\n",
       "  </tbody>\n",
       "</table>\n",
       "<p>100 rows × 7 columns</p>\n",
       "</div>"
      ],
      "text/plain": [
       "    entry_id  version_x  version_y  sent_idx_x  sent_idx_y  \\\n",
       "0     728192          0          1         0.0         0.0   \n",
       "1     728192          0          1         1.0         1.0   \n",
       "2     728192          0          1         2.0         2.0   \n",
       "3     728192          0          1         3.0         3.0   \n",
       "4     728192          0          1         4.0         4.0   \n",
       "..       ...        ...        ...         ...         ...   \n",
       "95    728194          0          1         1.0         NaN   \n",
       "96    728194          0          1         2.0         NaN   \n",
       "97    728194          0          1         3.0         NaN   \n",
       "98    728194          0          1         4.0         NaN   \n",
       "99    728194          0          1         5.0         NaN   \n",
       "\n",
       "    avg_sentence_distance_x  avg_sentence_distance_y  \n",
       "0                  0.194212                 0.194212  \n",
       "1                  0.348694                 0.345599  \n",
       "2                  0.402505                 0.402505  \n",
       "3                  0.000000                 0.000000  \n",
       "4                  0.211175                 0.211175  \n",
       "..                      ...                      ...  \n",
       "95                      NaN                      NaN  \n",
       "96                      NaN                      NaN  \n",
       "97                      NaN                      NaN  \n",
       "98                      NaN                      NaN  \n",
       "99                      NaN                      NaN  \n",
       "\n",
       "[100 rows x 7 columns]"
      ]
     },
     "execution_count": 6,
     "metadata": {},
     "output_type": "execute_result"
    }
   ],
   "source": [
    "pd.read_sql('''\n",
    "    SELECT * FROM matched_sentences \n",
    "    ORDER BY entry_id, version_x, version_y, sent_idx_x, sent_idx_y\n",
    "    limit 100\n",
    "''', con=con)"
   ]
  },
  {
   "cell_type": "code",
   "execution_count": 7,
   "metadata": {},
   "outputs": [
    {
     "data": {
      "text/html": [
       "<div>\n",
       "<style scoped>\n",
       "    .dataframe tbody tr th:only-of-type {\n",
       "        vertical-align: middle;\n",
       "    }\n",
       "\n",
       "    .dataframe tbody tr th {\n",
       "        vertical-align: top;\n",
       "    }\n",
       "\n",
       "    .dataframe thead th {\n",
       "        text-align: right;\n",
       "    }\n",
       "</style>\n",
       "<table border=\"1\" class=\"dataframe\">\n",
       "  <thead>\n",
       "    <tr style=\"text-align: right;\">\n",
       "      <th></th>\n",
       "      <th>entry_id</th>\n",
       "      <th>version</th>\n",
       "      <th>sent_idx</th>\n",
       "      <th>sentence</th>\n",
       "    </tr>\n",
       "  </thead>\n",
       "  <tbody>\n",
       "    <tr>\n",
       "      <th>0</th>\n",
       "      <td>728192</td>\n",
       "      <td>0</td>\n",
       "      <td>0</td>\n",
       "      <td>KIEV, Ukraine — Tens of thousands of protester...</td>\n",
       "    </tr>\n",
       "    <tr>\n",
       "      <th>1</th>\n",
       "      <td>728192</td>\n",
       "      <td>0</td>\n",
       "      <td>1</td>\n",
       "      <td>Sunday’s rally was the first since President V...</td>\n",
       "    </tr>\n",
       "    <tr>\n",
       "      <th>2</th>\n",
       "      <td>728192</td>\n",
       "      <td>0</td>\n",
       "      <td>2</td>\n",
       "      <td>His doing so has re-stoked anger among the opp...</td>\n",
       "    </tr>\n",
       "    <tr>\n",
       "      <th>3</th>\n",
       "      <td>728192</td>\n",
       "      <td>0</td>\n",
       "      <td>3</td>\n",
       "      <td>Looking for a fight, several hundred demonstra...</td>\n",
       "    </tr>\n",
       "    <tr>\n",
       "      <th>4</th>\n",
       "      <td>728192</td>\n",
       "      <td>0</td>\n",
       "      <td>4</td>\n",
       "      <td>They shot off fireworks and threw flares and s...</td>\n",
       "    </tr>\n",
       "  </tbody>\n",
       "</table>\n",
       "</div>"
      ],
      "text/plain": [
       "   entry_id  version  sent_idx  \\\n",
       "0    728192        0         0   \n",
       "1    728192        0         1   \n",
       "2    728192        0         2   \n",
       "3    728192        0         3   \n",
       "4    728192        0         4   \n",
       "\n",
       "                                            sentence  \n",
       "0  KIEV, Ukraine — Tens of thousands of protester...  \n",
       "1  Sunday’s rally was the first since President V...  \n",
       "2  His doing so has re-stoked anger among the opp...  \n",
       "3  Looking for a fight, several hundred demonstra...  \n",
       "4  They shot off fireworks and threw flares and s...  "
      ]
     },
     "execution_count": 7,
     "metadata": {},
     "output_type": "execute_result"
    }
   ],
   "source": [
    "pd.read_sql('''\n",
    "    SELECT * FROM split_sentences\n",
    "    ORDER BY entry_id, version, sent_idx\n",
    "    limit 5\n",
    "''', con=con)"
   ]
  },
  {
   "cell_type": "code",
   "execution_count": 24,
   "metadata": {},
   "outputs": [
    {
     "data": {
      "text/html": [
       "<div>\n",
       "<style scoped>\n",
       "    .dataframe tbody tr th:only-of-type {\n",
       "        vertical-align: middle;\n",
       "    }\n",
       "\n",
       "    .dataframe tbody tr th {\n",
       "        vertical-align: top;\n",
       "    }\n",
       "\n",
       "    .dataframe thead th {\n",
       "        text-align: right;\n",
       "    }\n",
       "</style>\n",
       "<table border=\"1\" class=\"dataframe\">\n",
       "  <thead>\n",
       "    <tr style=\"text-align: right;\">\n",
       "      <th></th>\n",
       "      <th>entry_id</th>\n",
       "      <th>version</th>\n",
       "      <th>sent_idx</th>\n",
       "      <th>sentence</th>\n",
       "    </tr>\n",
       "  </thead>\n",
       "  <tbody>\n",
       "    <tr>\n",
       "      <th>0</th>\n",
       "      <td>728192</td>\n",
       "      <td>1</td>\n",
       "      <td>0</td>\n",
       "      <td>KIEV, Ukraine — Tens of thousands of protester...</td>\n",
       "    </tr>\n",
       "    <tr>\n",
       "      <th>1</th>\n",
       "      <td>728192</td>\n",
       "      <td>1</td>\n",
       "      <td>1</td>\n",
       "      <td>Sunday’s rally was the first since President V...</td>\n",
       "    </tr>\n",
       "    <tr>\n",
       "      <th>2</th>\n",
       "      <td>728192</td>\n",
       "      <td>1</td>\n",
       "      <td>2</td>\n",
       "      <td>His action re-stoked anger among the opposition.</td>\n",
       "    </tr>\n",
       "    <tr>\n",
       "      <th>3</th>\n",
       "      <td>728192</td>\n",
       "      <td>1</td>\n",
       "      <td>3</td>\n",
       "      <td>Looking for a fight, several hundred demonstra...</td>\n",
       "    </tr>\n",
       "    <tr>\n",
       "      <th>4</th>\n",
       "      <td>728192</td>\n",
       "      <td>1</td>\n",
       "      <td>4</td>\n",
       "      <td>They ignited fireworks and threw flares and st...</td>\n",
       "    </tr>\n",
       "  </tbody>\n",
       "</table>\n",
       "</div>"
      ],
      "text/plain": [
       "   entry_id  version  sent_idx  \\\n",
       "0    728192        1         0   \n",
       "1    728192        1         1   \n",
       "2    728192        1         2   \n",
       "3    728192        1         3   \n",
       "4    728192        1         4   \n",
       "\n",
       "                                            sentence  \n",
       "0  KIEV, Ukraine — Tens of thousands of protester...  \n",
       "1  Sunday’s rally was the first since President V...  \n",
       "2   His action re-stoked anger among the opposition.  \n",
       "3  Looking for a fight, several hundred demonstra...  \n",
       "4  They ignited fireworks and threw flares and st...  "
      ]
     },
     "execution_count": 24,
     "metadata": {},
     "output_type": "execute_result"
    }
   ],
   "source": [
    "pd.read_sql('''\n",
    "    SELECT * FROM split_sentences\n",
    "    WHERE version != 0\n",
    "    ORDER BY entry_id, version, sent_idx\n",
    "    limit 5\n",
    "''', con=con)"
   ]
  },
  {
   "cell_type": "code",
   "execution_count": null,
   "metadata": {},
   "outputs": [],
   "source": []
  },
  {
   "cell_type": "markdown",
   "metadata": {},
   "source": [
    "# Basic Data Analysis"
   ]
  },
  {
   "cell_type": "code",
   "execution_count": 4,
   "metadata": {},
   "outputs": [],
   "source": [
    "import glob"
   ]
  },
  {
   "cell_type": "code",
   "execution_count": 142,
   "metadata": {},
   "outputs": [],
   "source": [
    "def get_sent_operations(con):\n",
    "    output = {}\n",
    "    new_sent_slot = pd.read_sql('''\n",
    "        SELECT sent_idx_y, sent_idx_x IS NULL AS addition\n",
    "        FROM matched_sentences\n",
    "        WHERE sent_idx_y < 100\n",
    "    ''', con=con)\n",
    "    output['new_sent_slot'] = new_sent_slot\n",
    "    \n",
    "    #### \n",
    "    del_sent_slot = pd.read_sql('''\n",
    "        SELECT sent_idx_x, sent_idx_y IS NULL AS deletion\n",
    "        FROM matched_sentences\n",
    "        WHERE sent_idx_x < 100\n",
    "    ''', con=con)\n",
    "    output['del_sent_slot'] = del_sent_slot\n",
    "    \n",
    "    ####\n",
    "    edit_slot = pd.read_sql('''\n",
    "        SELECT sent_idx_x, (\n",
    "                        ((sent_idx_x IS NOT NULL) AND (sent_idx_y IS NOT NULL)) AND\n",
    "                        ((avg_sentence_distance_x > 0) OR (avg_sentence_distance_y > 0))\n",
    "                    ) as edit\n",
    "        FROM matched_sentences\n",
    "        WHERE sent_idx_x < 100\n",
    "    ''', con=con)\n",
    "    output['edit_sent_slot'] = edit_slot\n",
    "\n",
    "\n",
    "    ### \n",
    "    if False:\n",
    "        perc_new_sents = pd.read_sql('''\n",
    "            SELECT entry_id, version_x, version_y, AVG(addition) as perc_new_sents FROM (\n",
    "            SELECT *, sent_idx_x IS NULL AS addition\n",
    "            FROM matched_sentences\n",
    "            )\n",
    "            GROUP BY entry_id, version_x, version_y\n",
    "            ORDER BY entry_id, version_x, version_y\n",
    "        ''', con=con)\n",
    "        output['perc_new_slot'] = perc_new_sents\n",
    "\n",
    "        num_sents = pd.read_sql('''\n",
    "            SELECT entry_id, version, count(1) as num_sents\n",
    "            FROM split_sentences\n",
    "            group by entry_id, version\n",
    "        ''', con=con)\n",
    "        output['new_sents'] = new_sents\n",
    "\n",
    "    ###\n",
    "    return output\n",
    "\n",
    "def get_perc(con):\n",
    "    perc_sents = pd.read_sql('''\n",
    "        SELECT \n",
    "        entry_id,\n",
    "        version_x,\n",
    "        version_y,\n",
    "        AVG(addition) as perc_new_sents,\n",
    "        AVG(deletion) as perc_old_sents,\n",
    "        AVG(edit) as perc_edited_sents\n",
    "        FROM (\n",
    "            SELECT \n",
    "                *, \n",
    "                sent_idx_x IS NULL AS addition, \n",
    "                sent_idx_y IS NULL AS deletion,\n",
    "                (\n",
    "                    ((sent_idx_x IS NOT NULL) AND (sent_idx_y IS NOT NULL)) AND\n",
    "                    ((avg_sentence_distance_x > 0) OR (avg_sentence_distance_y > 0))\n",
    "                ) as edit\n",
    "            FROM matched_sentences\n",
    "        )\n",
    "        GROUP BY entry_id, version_x, version_y\n",
    "    ''', con=con)\n",
    "    return perc_sents"
   ]
  },
  {
   "cell_type": "code",
   "execution_count": 8,
   "metadata": {},
   "outputs": [],
   "source": [
    "import glob\n",
    "import sqlite3\n",
    "import pandas as pd "
   ]
  },
  {
   "cell_type": "code",
   "execution_count": 164,
   "metadata": {},
   "outputs": [],
   "source": [
    "to_run = glob.glob('../data/diffengine-diffs/spark-output/*')"
   ]
  },
  {
   "cell_type": "code",
   "execution_count": 166,
   "metadata": {},
   "outputs": [
    {
     "data": {
      "text/plain": [
       "['../data/diffengine-diffs/spark-output/independent-matched-sentences.db.gz',\n",
       " '../data/diffengine-diffs/spark-output/bbc-2-matched-sentences.db.gz',\n",
       " '../data/diffengine-diffs/spark-output/nyt-matched-sentences.db',\n",
       " '../data/diffengine-diffs/spark-output/reuters-matched-sentences.db.gz',\n",
       " '../data/diffengine-diffs/spark-output/ap-matched-sentences.db',\n",
       " '../data/diffengine-diffs/spark-output/guardian-matched-sentences.db.gz',\n",
       " '../data/diffengine-diffs/spark-output/wp-matched-sentences.db.gz']"
      ]
     },
     "execution_count": 166,
     "metadata": {},
     "output_type": "execute_result"
    }
   ],
   "source": [
    "to_run"
   ]
  },
  {
   "cell_type": "code",
   "execution_count": 167,
   "metadata": {},
   "outputs": [
    {
     "name": "stdout",
     "output_type": "stream",
     "text": [
      "../data/diffengine-diffs/spark-output/independent-matched-sentences.db.gz\n",
      "../data/diffengine-diffs/spark-output/bbc-2-matched-sentences.db.gz\n",
      "../data/diffengine-diffs/spark-output/nyt-matched-sentences.db\n",
      "../data/diffengine-diffs/spark-output/reuters-matched-sentences.db.gz\n",
      "../data/diffengine-diffs/spark-output/ap-matched-sentences.db\n",
      "../data/diffengine-diffs/spark-output/guardian-matched-sentences.db.gz\n",
      "../data/diffengine-diffs/spark-output/wp-matched-sentences.db.gz\n"
     ]
    }
   ],
   "source": [
    "all_perc = []\n",
    "# all_perc_new = []\n",
    "# all_num_sents = []\n",
    "all_new = []\n",
    "all_del = []\n",
    "all_edited = []\n",
    "for f in to_run:\n",
    "    print(f)\n",
    "    if f.endswith('.gz') and os.path.exists(f):\n",
    "        ! gunzip -f $f\n",
    "    \n",
    "    f = f.replace('.gz', '')\n",
    "\n",
    "    conn = sqlite3.connect(f)\n",
    "    output = get_sent_operations(conn)\n",
    "    a = get_perc(conn)\n",
    "#     all_perc.append(a)\n",
    "#     all_perc_new.append(a)\n",
    "#     all_num_sents.append(b)\n",
    "    all_new.append(output['new_sent_slot'])\n",
    "    all_del.append(output['del_sent_slot'])\n",
    "    all_edited.append(output['edit_sent_slot'])\n",
    "#     df['source'] = f.split('/')[-1].split('-')[0]\n",
    "#     print('FETCHED RECORDS:')\n",
    "#     print(df.shape)\n",
    "#     all_dfs.append(df)\n",
    "    !gzip $f"
   ]
  },
  {
   "cell_type": "code",
   "execution_count": 31,
   "metadata": {},
   "outputs": [],
   "source": [
    "all_perc_df = pd.concat(all_perc)"
   ]
  },
  {
   "cell_type": "code",
   "execution_count": 168,
   "metadata": {},
   "outputs": [],
   "source": [
    "# all_perc_new_df = pd.concat(all_perc_new)\n",
    "# all_num_sents_df = pd.concat(all_num_sents)\n",
    "all_new_df = pd.concat(all_new)\n",
    "all_del_df = pd.concat(all_del)\n",
    "all_edited_df = pd.concat(all_edited)"
   ]
  },
  {
   "cell_type": "code",
   "execution_count": 36,
   "metadata": {},
   "outputs": [],
   "source": [
    "all_perc_df.to_csv('cache/all_perc_df.csv.gz')"
   ]
  },
  {
   "cell_type": "code",
   "execution_count": 4,
   "metadata": {},
   "outputs": [],
   "source": [
    "import pandas as pd "
   ]
  },
  {
   "cell_type": "code",
   "execution_count": 5,
   "metadata": {},
   "outputs": [],
   "source": [
    "all_perc_df = pd.read_csv('cache/all_perc_df.csv.gz')"
   ]
  },
  {
   "cell_type": "code",
   "execution_count": 7,
   "metadata": {},
   "outputs": [
    {
     "ename": "NameError",
     "evalue": "name 'all_new_df' is not defined",
     "output_type": "error",
     "traceback": [
      "\u001b[0;31m---------------------------------------------------------------------------\u001b[0m",
      "\u001b[0;31mNameError\u001b[0m                                 Traceback (most recent call last)",
      "\u001b[0;32m<ipython-input-7-e18d4cf330c6>\u001b[0m in \u001b[0;36m<module>\u001b[0;34m\u001b[0m\n\u001b[1;32m      1\u001b[0m \u001b[0;31m# all_perc_new_df.to_csv('cache/all_perc_new_df.csv')\u001b[0m\u001b[0;34m\u001b[0m\u001b[0;34m\u001b[0m\u001b[0;34m\u001b[0m\u001b[0m\n\u001b[1;32m      2\u001b[0m \u001b[0;31m# all_num_sents_df.to_csv('cache/all_num_sents_df.csv')\u001b[0m\u001b[0;34m\u001b[0m\u001b[0;34m\u001b[0m\u001b[0;34m\u001b[0m\u001b[0m\n\u001b[0;32m----> 3\u001b[0;31m \u001b[0mall_new_df\u001b[0m\u001b[0;34m.\u001b[0m\u001b[0mto_csv\u001b[0m\u001b[0;34m(\u001b[0m\u001b[0;34m'cache/all_new_df.csv.gz'\u001b[0m\u001b[0;34m,\u001b[0m \u001b[0mcompression\u001b[0m\u001b[0;34m=\u001b[0m\u001b[0;34m'gzip'\u001b[0m\u001b[0;34m)\u001b[0m\u001b[0;34m\u001b[0m\u001b[0;34m\u001b[0m\u001b[0m\n\u001b[0m\u001b[1;32m      4\u001b[0m \u001b[0mall_del_df\u001b[0m\u001b[0;34m.\u001b[0m\u001b[0mto_csv\u001b[0m\u001b[0;34m(\u001b[0m\u001b[0;34m'cache/all_del_df.csv.gz'\u001b[0m\u001b[0;34m,\u001b[0m \u001b[0mcompression\u001b[0m\u001b[0;34m=\u001b[0m\u001b[0;34m'gzip'\u001b[0m\u001b[0;34m)\u001b[0m\u001b[0;34m\u001b[0m\u001b[0;34m\u001b[0m\u001b[0m\n\u001b[1;32m      5\u001b[0m \u001b[0mall_edited_df\u001b[0m\u001b[0;34m.\u001b[0m\u001b[0mto_csv\u001b[0m\u001b[0;34m(\u001b[0m\u001b[0;34m'cache/all_edited_df.csv.gz'\u001b[0m\u001b[0;34m,\u001b[0m \u001b[0mcompression\u001b[0m\u001b[0;34m=\u001b[0m\u001b[0;34m'gzip'\u001b[0m\u001b[0;34m)\u001b[0m\u001b[0;34m\u001b[0m\u001b[0;34m\u001b[0m\u001b[0m\n",
      "\u001b[0;31mNameError\u001b[0m: name 'all_new_df' is not defined"
     ]
    }
   ],
   "source": [
    "# all_perc_new_df.to_csv('cache/all_perc_new_df.csv')\n",
    "# all_num_sents_df.to_csv('cache/all_num_sents_df.csv')\n",
    "all_new_df.to_csv('cache/all_new_df.csv.gz', compression='gzip')\n",
    "all_del_df.to_csv('cache/all_del_df.csv.gz', compression='gzip')\n",
    "all_edited_df.to_csv('cache/all_edited_df.csv.gz', compression='gzip')"
   ]
  },
  {
   "cell_type": "code",
   "execution_count": 8,
   "metadata": {},
   "outputs": [],
   "source": [
    "import seaborn as sns\n",
    "import matplotlib.pyplot as plt\n",
    "plt.rc('font', size=14)"
   ]
  },
  {
   "cell_type": "code",
   "execution_count": 10,
   "metadata": {},
   "outputs": [
    {
     "data": {
      "text/html": [
       "<div>\n",
       "<style scoped>\n",
       "    .dataframe tbody tr th:only-of-type {\n",
       "        vertical-align: middle;\n",
       "    }\n",
       "\n",
       "    .dataframe tbody tr th {\n",
       "        vertical-align: top;\n",
       "    }\n",
       "\n",
       "    .dataframe thead th {\n",
       "        text-align: right;\n",
       "    }\n",
       "</style>\n",
       "<table border=\"1\" class=\"dataframe\">\n",
       "  <thead>\n",
       "    <tr style=\"text-align: right;\">\n",
       "      <th></th>\n",
       "      <th>Unnamed: 0</th>\n",
       "      <th>entry_id</th>\n",
       "      <th>version_x</th>\n",
       "      <th>version_y</th>\n",
       "      <th>perc_new_sents</th>\n",
       "      <th>perc_old_sents</th>\n",
       "      <th>perc_edited_sents</th>\n",
       "    </tr>\n",
       "  </thead>\n",
       "  <tbody>\n",
       "    <tr>\n",
       "      <th>0</th>\n",
       "      <td>0</td>\n",
       "      <td>547988</td>\n",
       "      <td>0</td>\n",
       "      <td>1</td>\n",
       "      <td>0.0</td>\n",
       "      <td>0.000000</td>\n",
       "      <td>0.000000</td>\n",
       "    </tr>\n",
       "    <tr>\n",
       "      <th>1</th>\n",
       "      <td>1</td>\n",
       "      <td>547989</td>\n",
       "      <td>0</td>\n",
       "      <td>1</td>\n",
       "      <td>0.0</td>\n",
       "      <td>0.000000</td>\n",
       "      <td>0.200000</td>\n",
       "    </tr>\n",
       "    <tr>\n",
       "      <th>2</th>\n",
       "      <td>2</td>\n",
       "      <td>547989</td>\n",
       "      <td>1</td>\n",
       "      <td>2</td>\n",
       "      <td>0.0</td>\n",
       "      <td>0.000000</td>\n",
       "      <td>0.050000</td>\n",
       "    </tr>\n",
       "    <tr>\n",
       "      <th>3</th>\n",
       "      <td>3</td>\n",
       "      <td>547990</td>\n",
       "      <td>0</td>\n",
       "      <td>1</td>\n",
       "      <td>0.0</td>\n",
       "      <td>0.000000</td>\n",
       "      <td>0.016667</td>\n",
       "    </tr>\n",
       "    <tr>\n",
       "      <th>4</th>\n",
       "      <td>4</td>\n",
       "      <td>547991</td>\n",
       "      <td>0</td>\n",
       "      <td>1</td>\n",
       "      <td>0.0</td>\n",
       "      <td>0.017544</td>\n",
       "      <td>0.315789</td>\n",
       "    </tr>\n",
       "  </tbody>\n",
       "</table>\n",
       "</div>"
      ],
      "text/plain": [
       "   Unnamed: 0  entry_id  version_x  version_y  perc_new_sents  perc_old_sents  \\\n",
       "0           0    547988          0          1             0.0        0.000000   \n",
       "1           1    547989          0          1             0.0        0.000000   \n",
       "2           2    547989          1          2             0.0        0.000000   \n",
       "3           3    547990          0          1             0.0        0.000000   \n",
       "4           4    547991          0          1             0.0        0.017544   \n",
       "\n",
       "   perc_edited_sents  \n",
       "0           0.000000  \n",
       "1           0.200000  \n",
       "2           0.050000  \n",
       "3           0.016667  \n",
       "4           0.315789  "
      ]
     },
     "execution_count": 10,
     "metadata": {},
     "output_type": "execute_result"
    }
   ],
   "source": [
    "all_perc_df.head()"
   ]
  },
  {
   "cell_type": "code",
   "execution_count": 11,
   "metadata": {},
   "outputs": [
    {
     "data": {
      "text/html": [
       "<div>\n",
       "<style scoped>\n",
       "    .dataframe tbody tr th:only-of-type {\n",
       "        vertical-align: middle;\n",
       "    }\n",
       "\n",
       "    .dataframe tbody tr th {\n",
       "        vertical-align: top;\n",
       "    }\n",
       "\n",
       "    .dataframe thead th {\n",
       "        text-align: right;\n",
       "    }\n",
       "</style>\n",
       "<table border=\"1\" class=\"dataframe\">\n",
       "  <thead>\n",
       "    <tr style=\"text-align: right;\">\n",
       "      <th></th>\n",
       "      <th>level_0</th>\n",
       "      <th>version_x</th>\n",
       "      <th>0</th>\n",
       "    </tr>\n",
       "  </thead>\n",
       "  <tbody>\n",
       "    <tr>\n",
       "      <th>0</th>\n",
       "      <td>perc_new_sents</td>\n",
       "      <td>0</td>\n",
       "      <td>0.000000</td>\n",
       "    </tr>\n",
       "    <tr>\n",
       "      <th>1</th>\n",
       "      <td>perc_new_sents</td>\n",
       "      <td>0</td>\n",
       "      <td>0.000000</td>\n",
       "    </tr>\n",
       "    <tr>\n",
       "      <th>2</th>\n",
       "      <td>perc_new_sents</td>\n",
       "      <td>1</td>\n",
       "      <td>0.000000</td>\n",
       "    </tr>\n",
       "    <tr>\n",
       "      <th>3</th>\n",
       "      <td>perc_new_sents</td>\n",
       "      <td>0</td>\n",
       "      <td>0.000000</td>\n",
       "    </tr>\n",
       "    <tr>\n",
       "      <th>4</th>\n",
       "      <td>perc_new_sents</td>\n",
       "      <td>0</td>\n",
       "      <td>0.000000</td>\n",
       "    </tr>\n",
       "    <tr>\n",
       "      <th>...</th>\n",
       "      <td>...</td>\n",
       "      <td>...</td>\n",
       "      <td>...</td>\n",
       "    </tr>\n",
       "    <tr>\n",
       "      <th>6560620</th>\n",
       "      <td>perc_edited_sents</td>\n",
       "      <td>0</td>\n",
       "      <td>0.133333</td>\n",
       "    </tr>\n",
       "    <tr>\n",
       "      <th>6560621</th>\n",
       "      <td>perc_edited_sents</td>\n",
       "      <td>0</td>\n",
       "      <td>0.030303</td>\n",
       "    </tr>\n",
       "    <tr>\n",
       "      <th>6560622</th>\n",
       "      <td>perc_edited_sents</td>\n",
       "      <td>0</td>\n",
       "      <td>0.468750</td>\n",
       "    </tr>\n",
       "    <tr>\n",
       "      <th>6560623</th>\n",
       "      <td>perc_edited_sents</td>\n",
       "      <td>1</td>\n",
       "      <td>0.135135</td>\n",
       "    </tr>\n",
       "    <tr>\n",
       "      <th>6560624</th>\n",
       "      <td>perc_edited_sents</td>\n",
       "      <td>0</td>\n",
       "      <td>0.025000</td>\n",
       "    </tr>\n",
       "  </tbody>\n",
       "</table>\n",
       "<p>6560625 rows × 3 columns</p>\n",
       "</div>"
      ],
      "text/plain": [
       "                   level_0  version_x         0\n",
       "0           perc_new_sents          0  0.000000\n",
       "1           perc_new_sents          0  0.000000\n",
       "2           perc_new_sents          1  0.000000\n",
       "3           perc_new_sents          0  0.000000\n",
       "4           perc_new_sents          0  0.000000\n",
       "...                    ...        ...       ...\n",
       "6560620  perc_edited_sents          0  0.133333\n",
       "6560621  perc_edited_sents          0  0.030303\n",
       "6560622  perc_edited_sents          0  0.468750\n",
       "6560623  perc_edited_sents          1  0.135135\n",
       "6560624  perc_edited_sents          0  0.025000\n",
       "\n",
       "[6560625 rows x 3 columns]"
      ]
     },
     "execution_count": 11,
     "metadata": {},
     "output_type": "execute_result"
    }
   ],
   "source": [
    "all_perc_df.set_index('version_x')[['perc_new_sents', 'perc_old_sents', 'perc_edited_sents']].unstack().reset_index()"
   ]
  },
  {
   "cell_type": "code",
   "execution_count": 12,
   "metadata": {},
   "outputs": [
    {
     "data": {
      "image/png": "[encoded data removed]",
      "text/plain": [
       "<Figure size 216x144 with 1 Axes>"
      ]
     },
     "metadata": {
      "needs_background": "light"
     },
     "output_type": "display_data"
    }
   ],
   "source": [
    "f, ax= plt.subplots(1, 1, figsize=(3, 2))\n",
    "ax = sns.lineplot(\n",
    "    x='version_x', \n",
    "    y='perc', \n",
    "    data=(\n",
    "        all_perc_df\n",
    "          .set_index('version_x')[['perc_new_sents', 'perc_old_sents']]\n",
    "          .unstack()\n",
    "          .reset_index()\n",
    "          .loc[lambda df: df['version_x'] < 32]\n",
    "          .assign(perc=lambda df: df[0]*100)\n",
    "    ), \n",
    "    hue='level_0',\n",
    "    ax=ax\n",
    ")\n",
    "ax.spines['top'].set_visible(False)\n",
    "ax.spines['right'].set_visible(False)\n",
    "plt.xlabel('Version num')\n",
    "plt.ylabel('% Added/Del')\n",
    "plt.legend(['Added', 'Deleted'], frameon=False)\n",
    "plt.savefig('figures/sent-changes__frac-total__slim.pdf', bbox_inches='tight')"
   ]
  },
  {
   "cell_type": "code",
   "execution_count": 51,
   "metadata": {},
   "outputs": [],
   "source": [
    "t = (\n",
    "        all_perc_df\n",
    "          .set_index('version_x')[['perc_new_sents', 'perc_old_sents', 'perc_edited_sents']]\n",
    "          .unstack()\n",
    "          .reset_index()\n",
    "          .loc[lambda df: df['version_x'] < 32]\n",
    "          .assign(perc=lambda df: df[0]*100)\n",
    "#     .sample(100000)\n",
    "    )"
   ]
  },
  {
   "cell_type": "code",
   "execution_count": 55,
   "metadata": {},
   "outputs": [],
   "source": [
    "t['perc'] = t['perc'].round().astype(int)\n",
    "t2 = t.groupby(['level_0', 'version_x'])['perc'].mean().reset_index()\n",
    "t3 = t2.pivot(index='version_x', columns='level_0', values='perc')"
   ]
  },
  {
   "cell_type": "code",
   "execution_count": 124,
   "metadata": {
    "scrolled": true
   },
   "outputs": [
    {
     "data": {
      "text/plain": [
       "<matplotlib.legend.Legend at 0x7fd17f330f10>"
      ]
     },
     "execution_count": 124,
     "metadata": {},
     "output_type": "execute_result"
    },
    {
     "data": {
      "image/png": "[encoded data removed]",
      "text/plain": [
       "<Figure size 216x144 with 2 Axes>"
      ]
     },
     "metadata": {
      "needs_background": "light"
     },
     "output_type": "display_data"
    }
   ],
   "source": [
    "ax = t3[['perc_old_sents', 'perc_new_sents']].plot(figsize=(3, 2))\n",
    "ax2 = ax.twinx()\n",
    "ax2.set_ylabel('Edited %', color='g')  # we already handled the x-label with ax1\n",
    "t3['perc_edited_sents'].plot(ax=ax2, color='g')\n",
    "ax2.tick_params(axis='y', labelcolor='g')\n",
    "ax.spines['top'].set_visible(False)\n",
    "ax2.spines['top'].set_visible(False)\n",
    "ax.legend(['Added', 'Deleted', 'Edited'], frameon=False)#, ncol=2)\n",
    "ax2.legend(['Edited'], frameon=False, ncol=2)"
   ]
  },
  {
   "cell_type": "code",
   "execution_count": 245,
   "metadata": {},
   "outputs": [
    {
     "data": {
      "text/plain": [
       "[]"
      ]
     },
     "execution_count": 245,
     "metadata": {},
     "output_type": "execute_result"
    },
    {
     "data": {
      "image/png": "[encoded data removed]",
      "text/plain": [
       "<Figure size 216x144 with 1 Axes>"
      ]
     },
     "metadata": {
      "needs_background": "light"
     },
     "output_type": "display_data"
    }
   ],
   "source": [
    "ax = t3.plot(figsize=(3, 2))\n",
    "ax.spines['top'].set_visible(False)\n",
    "ax.spines['right'].set_visible(False)\n",
    "ax.legend(['Edited', 'Added', 'Deleted'],\n",
    "          frameon=False, ncol=2, fontsize=12)\n",
    "\n",
    "# plt.yticks([0, 1, 10])\n",
    "plt.semilogy(subsy=[0, 1, 2, 5, 10, 20])"
   ]
  },
  {
   "cell_type": "code",
   "execution_count": 13,
   "metadata": {},
   "outputs": [],
   "source": [
    "label_map = {\n",
    "    'perc_new_sents':'Added',\n",
    "    'perc_old_sents': 'Deleted',\n",
    "    'perc_edited_sents': 'Edited'\n",
    "}\n",
    "\n",
    "to_plot = (\n",
    "        all_perc_df\n",
    "          .set_index('version_x')[['perc_new_sents', 'perc_old_sents', 'perc_edited_sents']]\n",
    "          .unstack()\n",
    "          .reset_index()\n",
    "          .loc[lambda df: df['version_x'] < 32]\n",
    "          .assign(perc=lambda df: df[0]*100)\n",
    "          .assign(level_0=lambda df: df['level_0'].map(label_map))\n",
    "    )"
   ]
  },
  {
   "cell_type": "code",
   "execution_count": 14,
   "metadata": {},
   "outputs": [],
   "source": [
    "import matplotlib.patches as mpatches\n",
    "import matplotlib.pyplot as plt"
   ]
  },
  {
   "cell_type": "code",
   "execution_count": 15,
   "metadata": {},
   "outputs": [
    {
     "data": {
      "image/png": "[encoded data removed]",
      "text/plain": [
       "<Figure size 432x288 with 1 Axes>"
      ]
     },
     "metadata": {
      "needs_background": "light"
     },
     "output_type": "display_data"
    }
   ],
   "source": [
    "import matplotlib.patches as mpatches\n",
    "import matplotlib.pyplot as plt\n",
    "from matplotlib.lines import Line2D\n",
    "from matplotlib import rcParams, cycler\n",
    "cmap = plt.cm.coolwarm\n",
    "\n",
    "\n",
    "\n",
    "fig, ax = plt.subplots()\n",
    "red_patch = mpatches.Patch(color='red', label='The red data', linewidth=0)\n",
    "custom_lines = [Line2D([0], [0], color='b', lw=2, label='Line')]\n",
    "ax.legend(handles=\n",
    "custom_lines\n",
    ")\n",
    "\n",
    "plt.show()"
   ]
  },
  {
   "cell_type": "code",
   "execution_count": null,
   "metadata": {},
   "outputs": [],
   "source": []
  },
  {
   "cell_type": "code",
   "execution_count": 16,
   "metadata": {},
   "outputs": [
    {
     "data": {
      "text/plain": [
       "'T'"
      ]
     },
     "execution_count": 16,
     "metadata": {},
     "output_type": "execute_result"
    }
   ],
   "source": [
    "'T'"
   ]
  },
  {
   "cell_type": "code",
   "execution_count": 17,
   "metadata": {},
   "outputs": [
    {
     "data": {
      "image/png": "[encoded data removed]",
      "text/plain": [
       "<Figure size 216x144 with 1 Axes>"
      ]
     },
     "metadata": {
      "needs_background": "light"
     },
     "output_type": "display_data"
    }
   ],
   "source": [
    "f, ax= plt.subplots(1, 1, figsize=(3, 2))\n",
    "ax = sns.lineplot(\n",
    "    x='version_x', \n",
    "    y='perc', \n",
    "    data=to_plot, \n",
    "    hue='level_0',\n",
    "    ax=ax\n",
    ")\n",
    "ax.spines['top'].set_visible(False)\n",
    "ax.spines['right'].set_visible(False)\n",
    "plt.xlabel('Version num')\n",
    "plt.ylabel('% Sents in Vers.')\n",
    "ax.legend(\n",
    "    handles=[\n",
    "        Line2D([0], [0], color='green', lw=2, label='Edits'),\n",
    "        Line2D([0], [0], color='blue', lw=2, label='Additions'),\n",
    "        Line2D([0], [0], color='orange', lw=2, label='Deletions')\n",
    "#         mpatches.Patch(color='green', label='Edited'),\n",
    "#         mpatches.Patch(color='blue', label='Added'),\n",
    "#         mpatches.Patch(color='orange', label='Deleted'),\n",
    "    ],\n",
    "#     ['Edited', 'Added', 'Deleted'], \n",
    "    frameon=False,\n",
    "    fontsize=12\n",
    ")\n",
    "plt.savefig('figures/sent-changes__frac-total-with-edits__slim.pdf', bbox_inches='tight')"
   ]
  },
  {
   "cell_type": "code",
   "execution_count": 33,
   "metadata": {},
   "outputs": [
    {
     "data": {
      "image/png": "[encoded data removed]",
      "text/plain": [
       "<Figure size 216x144 with 1 Axes>"
      ]
     },
     "metadata": {
      "needs_background": "light"
     },
     "output_type": "display_data"
    }
   ],
   "source": [
    "f, ax= plt.subplots(1, 1, figsize=(3, 2))\n",
    "ax = sns.lineplot(\n",
    "    x='version_x', \n",
    "    y='perc_new_sents', \n",
    "    data=(all_perc_new_df\n",
    "          .loc[lambda df: df['version_x'] < 32]\n",
    "          .assign(perc_new_sents=lambda df: df['perc_new_sents']*100)\n",
    "         ), \n",
    "    ax=ax\n",
    ")\n",
    "ax.spines['top'].set_visible(False)\n",
    "ax.spines['right'].set_visible(False)\n",
    "plt.xlabel('Version num')\n",
    "plt.ylabel('New Sents (%)')\n",
    "plt.savefig('figures/new-sents__frac-total__slim.pdf', bbox_inches='tight')"
   ]
  },
  {
   "cell_type": "code",
   "execution_count": 34,
   "metadata": {},
   "outputs": [
    {
     "data": {
      "image/png": "[encoded data removed]",
      "text/plain": [
       "<Figure size 216x144 with 1 Axes>"
      ]
     },
     "metadata": {
      "needs_background": "light"
     },
     "output_type": "display_data"
    }
   ],
   "source": [
    "f, ax= plt.subplots(1, 1, figsize=(3, 2))\n",
    "ax = sns.lineplot(x='version', y='num_sents', data=all_num_sents_df.loc[lambda df: df['version'] < 32], ax=ax)\n",
    "ax.spines['top'].set_visible(False)\n",
    "ax.spines['right'].set_visible(False)\n",
    "plt.xlabel('Version num')\n",
    "plt.ylabel('Doc Len (# Sents)')\n",
    "plt.savefig('figures/doc-len__slim.pdf', bbox_inches='tight')"
   ]
  },
  {
   "cell_type": "code",
   "execution_count": 174,
   "metadata": {},
   "outputs": [
    {
     "data": {
      "text/html": [
       "<div>\n",
       "<style scoped>\n",
       "    .dataframe tbody tr th:only-of-type {\n",
       "        vertical-align: middle;\n",
       "    }\n",
       "\n",
       "    .dataframe tbody tr th {\n",
       "        vertical-align: top;\n",
       "    }\n",
       "\n",
       "    .dataframe thead th {\n",
       "        text-align: right;\n",
       "    }\n",
       "</style>\n",
       "<table border=\"1\" class=\"dataframe\">\n",
       "  <thead>\n",
       "    <tr style=\"text-align: right;\">\n",
       "      <th></th>\n",
       "      <th>sent_idx_y</th>\n",
       "      <th>addition</th>\n",
       "    </tr>\n",
       "  </thead>\n",
       "  <tbody>\n",
       "    <tr>\n",
       "      <th>0</th>\n",
       "      <td>8.0</td>\n",
       "      <td>0</td>\n",
       "    </tr>\n",
       "    <tr>\n",
       "      <th>1</th>\n",
       "      <td>3.0</td>\n",
       "      <td>0</td>\n",
       "    </tr>\n",
       "    <tr>\n",
       "      <th>2</th>\n",
       "      <td>26.0</td>\n",
       "      <td>0</td>\n",
       "    </tr>\n",
       "    <tr>\n",
       "      <th>3</th>\n",
       "      <td>1.0</td>\n",
       "      <td>0</td>\n",
       "    </tr>\n",
       "    <tr>\n",
       "      <th>4</th>\n",
       "      <td>0.0</td>\n",
       "      <td>0</td>\n",
       "    </tr>\n",
       "  </tbody>\n",
       "</table>\n",
       "</div>"
      ],
      "text/plain": [
       "   sent_idx_y  addition\n",
       "0         8.0         0\n",
       "1         3.0         0\n",
       "2        26.0         0\n",
       "3         1.0         0\n",
       "4         0.0         0"
      ]
     },
     "execution_count": 174,
     "metadata": {},
     "output_type": "execute_result"
    }
   ],
   "source": [
    "all_new_df.head()"
   ]
  },
  {
   "cell_type": "code",
   "execution_count": 175,
   "metadata": {},
   "outputs": [
    {
     "data": {
      "text/html": [
       "<div>\n",
       "<style scoped>\n",
       "    .dataframe tbody tr th:only-of-type {\n",
       "        vertical-align: middle;\n",
       "    }\n",
       "\n",
       "    .dataframe tbody tr th {\n",
       "        vertical-align: top;\n",
       "    }\n",
       "\n",
       "    .dataframe thead th {\n",
       "        text-align: right;\n",
       "    }\n",
       "</style>\n",
       "<table border=\"1\" class=\"dataframe\">\n",
       "  <thead>\n",
       "    <tr style=\"text-align: right;\">\n",
       "      <th></th>\n",
       "      <th>sent_idx_x</th>\n",
       "      <th>deletion</th>\n",
       "    </tr>\n",
       "  </thead>\n",
       "  <tbody>\n",
       "    <tr>\n",
       "      <th>0</th>\n",
       "      <td>8.0</td>\n",
       "      <td>0</td>\n",
       "    </tr>\n",
       "    <tr>\n",
       "      <th>1</th>\n",
       "      <td>3.0</td>\n",
       "      <td>0</td>\n",
       "    </tr>\n",
       "    <tr>\n",
       "      <th>2</th>\n",
       "      <td>15.0</td>\n",
       "      <td>0</td>\n",
       "    </tr>\n",
       "    <tr>\n",
       "      <th>3</th>\n",
       "      <td>1.0</td>\n",
       "      <td>0</td>\n",
       "    </tr>\n",
       "    <tr>\n",
       "      <th>4</th>\n",
       "      <td>0.0</td>\n",
       "      <td>0</td>\n",
       "    </tr>\n",
       "  </tbody>\n",
       "</table>\n",
       "</div>"
      ],
      "text/plain": [
       "   sent_idx_x  deletion\n",
       "0         8.0         0\n",
       "1         3.0         0\n",
       "2        15.0         0\n",
       "3         1.0         0\n",
       "4         0.0         0"
      ]
     },
     "execution_count": 175,
     "metadata": {},
     "output_type": "execute_result"
    }
   ],
   "source": [
    "all_del_df.head()"
   ]
  },
  {
   "cell_type": "code",
   "execution_count": 173,
   "metadata": {},
   "outputs": [
    {
     "data": {
      "text/html": [
       "<div>\n",
       "<style scoped>\n",
       "    .dataframe tbody tr th:only-of-type {\n",
       "        vertical-align: middle;\n",
       "    }\n",
       "\n",
       "    .dataframe tbody tr th {\n",
       "        vertical-align: top;\n",
       "    }\n",
       "\n",
       "    .dataframe thead th {\n",
       "        text-align: right;\n",
       "    }\n",
       "</style>\n",
       "<table border=\"1\" class=\"dataframe\">\n",
       "  <thead>\n",
       "    <tr style=\"text-align: right;\">\n",
       "      <th></th>\n",
       "      <th>sent_idx_x</th>\n",
       "      <th>edit</th>\n",
       "    </tr>\n",
       "  </thead>\n",
       "  <tbody>\n",
       "    <tr>\n",
       "      <th>0</th>\n",
       "      <td>8.0</td>\n",
       "      <td>0.0</td>\n",
       "    </tr>\n",
       "    <tr>\n",
       "      <th>1</th>\n",
       "      <td>3.0</td>\n",
       "      <td>0.0</td>\n",
       "    </tr>\n",
       "    <tr>\n",
       "      <th>2</th>\n",
       "      <td>15.0</td>\n",
       "      <td>0.0</td>\n",
       "    </tr>\n",
       "    <tr>\n",
       "      <th>3</th>\n",
       "      <td>1.0</td>\n",
       "      <td>0.0</td>\n",
       "    </tr>\n",
       "    <tr>\n",
       "      <th>4</th>\n",
       "      <td>0.0</td>\n",
       "      <td>0.0</td>\n",
       "    </tr>\n",
       "  </tbody>\n",
       "</table>\n",
       "</div>"
      ],
      "text/plain": [
       "   sent_idx_x  edit\n",
       "0         8.0   0.0\n",
       "1         3.0   0.0\n",
       "2        15.0   0.0\n",
       "3         1.0   0.0\n",
       "4         0.0   0.0"
      ]
     },
     "execution_count": 173,
     "metadata": {},
     "output_type": "execute_result"
    }
   ],
   "source": [
    "all_edited_df.head()"
   ]
  },
  {
   "cell_type": "code",
   "execution_count": 177,
   "metadata": {},
   "outputs": [],
   "source": [
    "all_changes = pd.concat([\n",
    "    all_new_df.rename(columns={'sent_idx_y': 'sent_idx'}).set_index('sent_idx').unstack(),\n",
    "    all_del_df.rename(columns={'sent_idx_x': 'sent_idx'}).set_index('sent_idx').unstack(),\n",
    "    all_edited_df.rename(columns={'sent_idx_x': 'sent_idx'}).set_index('sent_idx').unstack()\n",
    "])"
   ]
  },
  {
   "cell_type": "code",
   "execution_count": 178,
   "metadata": {},
   "outputs": [],
   "source": [
    "all_changes = all_changes.reset_index()"
   ]
  },
  {
   "cell_type": "code",
   "execution_count": 179,
   "metadata": {},
   "outputs": [
    {
     "data": {
      "text/html": [
       "<div>\n",
       "<style scoped>\n",
       "    .dataframe tbody tr th:only-of-type {\n",
       "        vertical-align: middle;\n",
       "    }\n",
       "\n",
       "    .dataframe tbody tr th {\n",
       "        vertical-align: top;\n",
       "    }\n",
       "\n",
       "    .dataframe thead th {\n",
       "        text-align: right;\n",
       "    }\n",
       "</style>\n",
       "<table border=\"1\" class=\"dataframe\">\n",
       "  <thead>\n",
       "    <tr style=\"text-align: right;\">\n",
       "      <th></th>\n",
       "      <th>level_0</th>\n",
       "      <th>sent_idx</th>\n",
       "      <th>0</th>\n",
       "    </tr>\n",
       "  </thead>\n",
       "  <tbody>\n",
       "    <tr>\n",
       "      <th>0</th>\n",
       "      <td>addition</td>\n",
       "      <td>8.0</td>\n",
       "      <td>0.0</td>\n",
       "    </tr>\n",
       "    <tr>\n",
       "      <th>1</th>\n",
       "      <td>addition</td>\n",
       "      <td>3.0</td>\n",
       "      <td>0.0</td>\n",
       "    </tr>\n",
       "    <tr>\n",
       "      <th>2</th>\n",
       "      <td>addition</td>\n",
       "      <td>26.0</td>\n",
       "      <td>0.0</td>\n",
       "    </tr>\n",
       "    <tr>\n",
       "      <th>3</th>\n",
       "      <td>addition</td>\n",
       "      <td>1.0</td>\n",
       "      <td>0.0</td>\n",
       "    </tr>\n",
       "    <tr>\n",
       "      <th>4</th>\n",
       "      <td>addition</td>\n",
       "      <td>0.0</td>\n",
       "      <td>0.0</td>\n",
       "    </tr>\n",
       "  </tbody>\n",
       "</table>\n",
       "</div>"
      ],
      "text/plain": [
       "    level_0  sent_idx    0\n",
       "0  addition       8.0  0.0\n",
       "1  addition       3.0  0.0\n",
       "2  addition      26.0  0.0\n",
       "3  addition       1.0  0.0\n",
       "4  addition       0.0  0.0"
      ]
     },
     "execution_count": 179,
     "metadata": {},
     "output_type": "execute_result"
    }
   ],
   "source": [
    "all_changes.head()"
   ]
  },
  {
   "cell_type": "code",
   "execution_count": 180,
   "metadata": {},
   "outputs": [
    {
     "data": {
      "text/plain": [
       "(204500307, 3)"
      ]
     },
     "execution_count": 180,
     "metadata": {},
     "output_type": "execute_result"
    }
   ],
   "source": [
    "all_changes.shape "
   ]
  },
  {
   "cell_type": "code",
   "execution_count": 64,
   "metadata": {},
   "outputs": [
    {
     "data": {
      "text/plain": [
       "(137078635, 3)"
      ]
     },
     "execution_count": 64,
     "metadata": {},
     "output_type": "execute_result"
    }
   ],
   "source": [
    "all_changes.shape "
   ]
  },
  {
   "cell_type": "code",
   "execution_count": 187,
   "metadata": {},
   "outputs": [],
   "source": [
    "small_changes = all_changes.sample(10_000_000)\n",
    "smaller_changes = all_changes.sample(1_000_000)"
   ]
  },
  {
   "cell_type": "code",
   "execution_count": null,
   "metadata": {},
   "outputs": [],
   "source": [
    "f, ax= plt.subplots(1, 1, figsize=(6, 2))\n",
    "ax = sns.lineplot(x='sent_idx', y=0, hue='level_0', data=small_changes, ax=ax)\n",
    "ax.spines['top'].set_visible(False)\n",
    "ax.spines['right'].set_visible(False)\n",
    "plt.xlabel('Sentence Index')\n",
    "plt.ylabel('frac. sents')\n",
    "plt.legend(['added', 'deleted'], frameon=False)\n",
    "plt.savefig('figures/change-by-position__with-edits.pdf', bbox_inches='tight')"
   ]
  },
  {
   "cell_type": "code",
   "execution_count": 250,
   "metadata": {},
   "outputs": [
    {
     "data": {
      "image/png": "[encoded data removed]",
      "text/plain": [
       "<Figure size 216x144 with 1 Axes>"
      ]
     },
     "metadata": {
      "needs_background": "light"
     },
     "output_type": "display_data"
    }
   ],
   "source": [
    "f, ax= plt.subplots(1, 1, figsize=(3, 2))\n",
    "ax = sns.lineplot(\n",
    "    x='sent_idx', \n",
    "    y='perc',\n",
    "    hue='level_0', \n",
    "    data=small_changes.assign(perc=lambda df: df[0]*100).sort_values('level_0'), \n",
    "    ax=ax\n",
    ")\n",
    "ax.spines['top'].set_visible(False)\n",
    "ax.spines['right'].set_visible(False)\n",
    "plt.xlabel('Sentence Index')\n",
    "plt.ylabel('% Sents in Pos.')\n",
    "ax.legend().set_visible(False)\n",
    "# plt.legend(['Edited', 'Added', 'Deleted'], frameon=False)\n",
    "plt.savefig('figures/change-by-position__with-edits__slim.pdf', bbox_inches='tight')"
   ]
  },
  {
   "cell_type": "code",
   "execution_count": 248,
   "metadata": {},
   "outputs": [
    {
     "data": {
      "text/html": [
       "<div>\n",
       "<style scoped>\n",
       "    .dataframe tbody tr th:only-of-type {\n",
       "        vertical-align: middle;\n",
       "    }\n",
       "\n",
       "    .dataframe tbody tr th {\n",
       "        vertical-align: top;\n",
       "    }\n",
       "\n",
       "    .dataframe thead th {\n",
       "        text-align: right;\n",
       "    }\n",
       "</style>\n",
       "<table border=\"1\" class=\"dataframe\">\n",
       "  <thead>\n",
       "    <tr style=\"text-align: right;\">\n",
       "      <th></th>\n",
       "      <th>level_0</th>\n",
       "      <th>sent_idx</th>\n",
       "      <th>0</th>\n",
       "    </tr>\n",
       "  </thead>\n",
       "  <tbody>\n",
       "    <tr>\n",
       "      <th>40228645</th>\n",
       "      <td>addition</td>\n",
       "      <td>9.0</td>\n",
       "      <td>0.0</td>\n",
       "    </tr>\n",
       "    <tr>\n",
       "      <th>37944726</th>\n",
       "      <td>addition</td>\n",
       "      <td>18.0</td>\n",
       "      <td>1.0</td>\n",
       "    </tr>\n",
       "    <tr>\n",
       "      <th>1404706</th>\n",
       "      <td>addition</td>\n",
       "      <td>8.0</td>\n",
       "      <td>0.0</td>\n",
       "    </tr>\n",
       "    <tr>\n",
       "      <th>25211673</th>\n",
       "      <td>addition</td>\n",
       "      <td>9.0</td>\n",
       "      <td>0.0</td>\n",
       "    </tr>\n",
       "    <tr>\n",
       "      <th>40360459</th>\n",
       "      <td>addition</td>\n",
       "      <td>11.0</td>\n",
       "      <td>0.0</td>\n",
       "    </tr>\n",
       "    <tr>\n",
       "      <th>...</th>\n",
       "      <td>...</td>\n",
       "      <td>...</td>\n",
       "      <td>...</td>\n",
       "    </tr>\n",
       "    <tr>\n",
       "      <th>161555135</th>\n",
       "      <td>edit</td>\n",
       "      <td>43.0</td>\n",
       "      <td>0.0</td>\n",
       "    </tr>\n",
       "    <tr>\n",
       "      <th>142775126</th>\n",
       "      <td>edit</td>\n",
       "      <td>3.0</td>\n",
       "      <td>0.0</td>\n",
       "    </tr>\n",
       "    <tr>\n",
       "      <th>202800262</th>\n",
       "      <td>edit</td>\n",
       "      <td>16.0</td>\n",
       "      <td>0.0</td>\n",
       "    </tr>\n",
       "    <tr>\n",
       "      <th>187393743</th>\n",
       "      <td>edit</td>\n",
       "      <td>23.0</td>\n",
       "      <td>0.0</td>\n",
       "    </tr>\n",
       "    <tr>\n",
       "      <th>165166369</th>\n",
       "      <td>edit</td>\n",
       "      <td>61.0</td>\n",
       "      <td>0.0</td>\n",
       "    </tr>\n",
       "  </tbody>\n",
       "</table>\n",
       "<p>1000000 rows × 3 columns</p>\n",
       "</div>"
      ],
      "text/plain": [
       "            level_0  sent_idx    0\n",
       "40228645   addition       9.0  0.0\n",
       "37944726   addition      18.0  1.0\n",
       "1404706    addition       8.0  0.0\n",
       "25211673   addition       9.0  0.0\n",
       "40360459   addition      11.0  0.0\n",
       "...             ...       ...  ...\n",
       "161555135      edit      43.0  0.0\n",
       "142775126      edit       3.0  0.0\n",
       "202800262      edit      16.0  0.0\n",
       "187393743      edit      23.0  0.0\n",
       "165166369      edit      61.0  0.0\n",
       "\n",
       "[1000000 rows x 3 columns]"
      ]
     },
     "execution_count": 248,
     "metadata": {},
     "output_type": "execute_result"
    }
   ],
   "source": [
    "smaller_changes"
   ]
  },
  {
   "cell_type": "code",
   "execution_count": null,
   "metadata": {},
   "outputs": [],
   "source": []
  },
  {
   "cell_type": "code",
   "execution_count": null,
   "metadata": {},
   "outputs": [],
   "source": []
  },
  {
   "cell_type": "code",
   "execution_count": null,
   "metadata": {},
   "outputs": [],
   "source": []
  },
  {
   "cell_type": "code",
   "execution_count": null,
   "metadata": {},
   "outputs": [],
   "source": []
  },
  {
   "cell_type": "code",
   "execution_count": null,
   "metadata": {},
   "outputs": [],
   "source": []
  },
  {
   "cell_type": "code",
   "execution_count": null,
   "metadata": {},
   "outputs": [],
   "source": []
  },
  {
   "cell_type": "code",
   "execution_count": 745,
   "metadata": {},
   "outputs": [
    {
     "data": {
      "text/plain": [
       "Text(0, 0.5, 'Likelihood of Addition')"
      ]
     },
     "execution_count": 745,
     "metadata": {},
     "output_type": "execute_result"
    },
    {
     "data": {
      "image/png": "[encoded data removed]",
      "text/plain": [
       "<Figure size 432x288 with 1 Axes>"
      ]
     },
     "metadata": {
      "needs_background": "light"
     },
     "output_type": "display_data"
    }
   ],
   "source": [
    "f, ax= plt.subplots(1, 1, figsize=(3, 2))\n",
    "ax = sns.lineplot(x='sent_idx_y', y='addition', data=new_sent_slot, ax=ax)\n",
    "ax.spines['top'].set_visible(False)\n",
    "ax.spines['right'].set_visible(False)\n",
    "plt.xlabel('Sentence Index')\n",
    "plt.ylabel('Likelihood of Addition')"
   ]
  },
  {
   "cell_type": "code",
   "execution_count": 749,
   "metadata": {},
   "outputs": [
    {
     "data": {
      "text/plain": [
       "Text(0, 0.5, 'Likelihood of Deletion')"
      ]
     },
     "execution_count": 749,
     "metadata": {},
     "output_type": "execute_result"
    },
    {
     "data": {
      "image/png": "[encoded data removed]",
      "text/plain": [
       "<Figure size 432x288 with 1 Axes>"
      ]
     },
     "metadata": {
      "needs_background": "light"
     },
     "output_type": "display_data"
    }
   ],
   "source": [
    "ax = sns.lineplot(x='sent_idx_x', y='deletion', data=del_sent_slot)\n",
    "ax.spines['top'].set_visible(False)\n",
    "ax.spines['right'].set_visible(False)\n",
    "plt.xlabel('Sentence Index')\n",
    "plt.ylabel('Likelihood of Deletion')"
   ]
  },
  {
   "cell_type": "code",
   "execution_count": null,
   "metadata": {},
   "outputs": [],
   "source": []
  },
  {
   "cell_type": "code",
   "execution_count": null,
   "metadata": {},
   "outputs": [],
   "source": []
  },
  {
   "cell_type": "code",
   "execution_count": null,
   "metadata": {},
   "outputs": [],
   "source": []
  },
  {
   "cell_type": "code",
   "execution_count": null,
   "metadata": {},
   "outputs": [],
   "source": []
  },
  {
   "cell_type": "code",
   "execution_count": null,
   "metadata": {},
   "outputs": [],
   "source": []
  },
  {
   "cell_type": "code",
   "execution_count": null,
   "metadata": {},
   "outputs": [],
   "source": []
  },
  {
   "cell_type": "code",
   "execution_count": null,
   "metadata": {},
   "outputs": [],
   "source": []
  },
  {
   "cell_type": "code",
   "execution_count": null,
   "metadata": {},
   "outputs": [],
   "source": []
  },
  {
   "cell_type": "markdown",
   "metadata": {},
   "source": [
    "# Try to come up with a good refactoring algorithm"
   ]
  },
  {
   "cell_type": "code",
   "execution_count": 6,
   "metadata": {},
   "outputs": [],
   "source": [
    "# similar problem: \n",
    "# adapted from: https://github.com/akhiluanandh/SPOJ/blob/master/MSE06H.cpp\n",
    "# binary index tree tutorial: https://www.youtube.com/watch?v=v_wj_mOAlig&t=648s\n",
    "\n",
    "import numpy as np\n",
    "from more_itertools import unique_everseen\n",
    "import pandas as pd\n",
    "from collections import defaultdict\n",
    "\n",
    "\n",
    "def read(pos, tree):\n",
    "    count = []\n",
    "    while (pos > 0):\n",
    "        count += tree[pos]\n",
    "        pos -= (pos & -pos)\n",
    "    return count\n",
    "\n",
    "\n",
    "def update(pos, MAX, edge, tree):\n",
    "    while (pos <= MAX):\n",
    "        tree[pos].append(edge)\n",
    "        pos += (pos & -pos)\n",
    "\n",
    "\n",
    "def _find_crossings(n, m, e):\n",
    "    \"\"\"\n",
    "    Method to find crossings on a bipartite graph\n",
    "\n",
    "    n: num nodes on left\n",
    "    m: num nodes on right\n",
    "    e: edges -> tuples of (node_idx_left, node_idx_right)\n",
    "    \"\"\"\n",
    "    tree = defaultdict(list)\n",
    "    k = len(e)\n",
    "    e = sorted(e)\n",
    "    res = {}\n",
    "    for i in range(k):\n",
    "        r_m = read(m, tree)\n",
    "        r_e = read(e[i][1], tree)\n",
    "        c = set(r_m) - set(r_e)\n",
    "        print('m: %s, read m: %s, e: %s, read e: %s, c: %s' % (m, str(r_m), str(e[i]), str(r_e), str(c)))\n",
    "        res[e[i]] = c\n",
    "        update(e[i][1], m, e[i], tree)\n",
    "    ##\n",
    "    return res, tree"
   ]
  },
  {
   "cell_type": "code",
   "execution_count": 7,
   "metadata": {},
   "outputs": [],
   "source": [
    "n = 3\n",
    "m = 3\n",
    "k = 5\n",
    "e = [\n",
    "    (1, 2),\n",
    "    (1, 3),\n",
    "    (2, 2),\n",
    "    (2, 3),\n",
    "    (3, 1)\n",
    "]"
   ]
  },
  {
   "cell_type": "code",
   "execution_count": 8,
   "metadata": {},
   "outputs": [
    {
     "name": "stdout",
     "output_type": "stream",
     "text": [
      "m: 3, read m: [], e: (1, 2), read e: [], c: set()\n",
      "m: 3, read m: [(1, 2)], e: (1, 3), read e: [(1, 2)], c: set()\n",
      "m: 3, read m: [(1, 3), (1, 2)], e: (2, 2), read e: [(1, 2)], c: {(1, 3)}\n",
      "m: 3, read m: [(1, 3), (1, 2), (2, 2)], e: (2, 3), read e: [(1, 3), (1, 2), (2, 2)], c: set()\n",
      "m: 3, read m: [(1, 3), (2, 3), (1, 2), (2, 2)], e: (3, 1), read e: [], c: {(2, 3), (1, 2), (1, 3), (2, 2)}\n"
     ]
    }
   ],
   "source": [
    "r, tree = _find_crossings(n, m, e)"
   ]
  },
  {
   "cell_type": "code",
   "execution_count": 9,
   "metadata": {},
   "outputs": [
    {
     "name": "stdout",
     "output_type": "stream",
     "text": [
      "(1, 2)  :  {(3, 1)}\n",
      "(1, 3)  :  {(3, 1), (2, 2)}\n",
      "(2, 2)  :  {(3, 1), (1, 3)}\n",
      "(2, 3)  :  {(3, 1)}\n",
      "(3, 1)  :  {(2, 3), (1, 2), (1, 3), (2, 2)}\n"
     ]
    }
   ],
   "source": [
    "for key, crossings in r.items():\n",
    "    for c in crossings:\n",
    "        if key not in r[c]:\n",
    "            r[c].add(key)\n",
    "\n",
    "for key in r:\n",
    "    print(key, ' : ', r[key])"
   ]
  },
  {
   "cell_type": "markdown",
   "metadata": {},
   "source": [
    "# Remove crossings"
   ]
  },
  {
   "cell_type": "code",
   "execution_count": 32,
   "metadata": {},
   "outputs": [],
   "source": [
    "def remove_crossings(dict_r):\n",
    "    maxCrossings = 0\n",
    "    \n",
    "    for key, crossings in dict_r.items():\n",
    "        if len(crossings) > maxCrossings:\n",
    "            maxCrossings = len(crossings)\n",
    "            maxCrossings_key = key\n",
    "    \n",
    "    if len(dict_r[maxCrossings_key]) == 1:\n",
    "        sub_value = list(dict_r[maxCrossings_key])[0][0] - list(dict_r[maxCrossings_key])[0][1]\n",
    "        sub_key = maxCrossings_key[0] - maxCrossings_key[1]\n",
    "        \n",
    "        if abs(sub_key) == abs(sub_value):\n",
    "            if sub_key < 0:\n",
    "                maxCrossings_key = list(dict_r[maxCrossings_key])[0]\n",
    "        elif abs(sub_key) < abs(sub_value):\n",
    "            maxCrossings_key = list(dict_r[maxCrossings_key])[0]\n",
    "            \n",
    "        print('remove : ', maxCrossings_key)\n",
    "        dict_r.pop(maxCrossings_key)\n",
    "    else:\n",
    "        print('remove : ', maxCrossings_key)\n",
    "        dict_r.pop(maxCrossings_key)\n",
    "\n",
    "    for key, crossings in dict_r.items():\n",
    "        if maxCrossings_key in crossings:\n",
    "            dict_r[key].remove(maxCrossings_key)\n",
    "\n",
    "    return dict_r"
   ]
  },
  {
   "cell_type": "code",
   "execution_count": 11,
   "metadata": {},
   "outputs": [
    {
     "name": "stdout",
     "output_type": "stream",
     "text": [
      "remove :  (3, 1)\n",
      "(1, 2)  :  set()\n",
      "(1, 3)  :  {(2, 2)}\n",
      "(2, 2)  :  {(1, 3)}\n",
      "(2, 3)  :  set()\n",
      "\n",
      "remove :  (1, 3)\n",
      "(1, 2)  :  set()\n",
      "(2, 2)  :  set()\n",
      "(2, 3)  :  set()\n",
      "\n"
     ]
    }
   ],
   "source": [
    "import copy\n",
    "r_copy = copy.deepcopy(r)\n",
    "\n",
    "while any(r_copy.values()) == True:\n",
    "    remove_crossings(r_copy)\n",
    "    \n",
    "    for key in r_copy:\n",
    "        print(key, ' : ', r_copy[key])\n",
    "        \n",
    "    print ()"
   ]
  },
  {
   "cell_type": "markdown",
   "metadata": {},
   "source": [
    "# Real data"
   ]
  },
  {
   "cell_type": "code",
   "execution_count": 12,
   "metadata": {},
   "outputs": [
    {
     "data": {
      "text/html": [
       "<div>\n",
       "<style scoped>\n",
       "    .dataframe tbody tr th:only-of-type {\n",
       "        vertical-align: middle;\n",
       "    }\n",
       "\n",
       "    .dataframe tbody tr th {\n",
       "        vertical-align: top;\n",
       "    }\n",
       "\n",
       "    .dataframe thead th {\n",
       "        text-align: right;\n",
       "    }\n",
       "</style>\n",
       "<table border=\"1\" class=\"dataframe\">\n",
       "  <thead>\n",
       "    <tr style=\"text-align: right;\">\n",
       "      <th></th>\n",
       "      <th>entry_id</th>\n",
       "      <th>COUNT()</th>\n",
       "    </tr>\n",
       "  </thead>\n",
       "  <tbody>\n",
       "    <tr>\n",
       "      <th>0</th>\n",
       "      <td>728193</td>\n",
       "      <td>5</td>\n",
       "    </tr>\n",
       "    <tr>\n",
       "      <th>1</th>\n",
       "      <td>728194</td>\n",
       "      <td>3</td>\n",
       "    </tr>\n",
       "    <tr>\n",
       "      <th>2</th>\n",
       "      <td>728213</td>\n",
       "      <td>38</td>\n",
       "    </tr>\n",
       "    <tr>\n",
       "      <th>3</th>\n",
       "      <td>728214</td>\n",
       "      <td>25</td>\n",
       "    </tr>\n",
       "    <tr>\n",
       "      <th>4</th>\n",
       "      <td>728219</td>\n",
       "      <td>8</td>\n",
       "    </tr>\n",
       "    <tr>\n",
       "      <th>5</th>\n",
       "      <td>728225</td>\n",
       "      <td>3</td>\n",
       "    </tr>\n",
       "    <tr>\n",
       "      <th>6</th>\n",
       "      <td>728241</td>\n",
       "      <td>22</td>\n",
       "    </tr>\n",
       "    <tr>\n",
       "      <th>7</th>\n",
       "      <td>728243</td>\n",
       "      <td>54</td>\n",
       "    </tr>\n",
       "    <tr>\n",
       "      <th>8</th>\n",
       "      <td>728347</td>\n",
       "      <td>1</td>\n",
       "    </tr>\n",
       "    <tr>\n",
       "      <th>9</th>\n",
       "      <td>728359</td>\n",
       "      <td>91</td>\n",
       "    </tr>\n",
       "  </tbody>\n",
       "</table>\n",
       "</div>"
      ],
      "text/plain": [
       "   entry_id  COUNT()\n",
       "0    728193        5\n",
       "1    728194        3\n",
       "2    728213       38\n",
       "3    728214       25\n",
       "4    728219        8\n",
       "5    728225        3\n",
       "6    728241       22\n",
       "7    728243       54\n",
       "8    728347        1\n",
       "9    728359       91"
      ]
     },
     "execution_count": 12,
     "metadata": {},
     "output_type": "execute_result"
    }
   ],
   "source": [
    "pd.read_sql('''\n",
    "    SELECT ENTRY_ID, COUNT() FROM MATCHED_SENTENCES\n",
    "    WHERE SENT_IDX_X <> SENT_IDX_Y\n",
    "    GROUP BY ENTRY_ID\n",
    "    LIMIT 10\n",
    "''', con=con)"
   ]
  },
  {
   "cell_type": "code",
   "execution_count": 38,
   "metadata": {},
   "outputs": [
    {
     "data": {
      "text/html": [
       "<div>\n",
       "<style scoped>\n",
       "    .dataframe tbody tr th:only-of-type {\n",
       "        vertical-align: middle;\n",
       "    }\n",
       "\n",
       "    .dataframe tbody tr th {\n",
       "        vertical-align: top;\n",
       "    }\n",
       "\n",
       "    .dataframe thead th {\n",
       "        text-align: right;\n",
       "    }\n",
       "</style>\n",
       "<table border=\"1\" class=\"dataframe\">\n",
       "  <thead>\n",
       "    <tr style=\"text-align: right;\">\n",
       "      <th></th>\n",
       "      <th>entry_id</th>\n",
       "      <th>version_x</th>\n",
       "      <th>version_y</th>\n",
       "      <th>sent_idx_x</th>\n",
       "      <th>sent_idx_y</th>\n",
       "      <th>avg_sentence_distance_x</th>\n",
       "      <th>avg_sentence_distance_y</th>\n",
       "    </tr>\n",
       "  </thead>\n",
       "  <tbody>\n",
       "    <tr>\n",
       "      <th>0</th>\n",
       "      <td>728193</td>\n",
       "      <td>0</td>\n",
       "      <td>1</td>\n",
       "      <td>7.0</td>\n",
       "      <td>5.0</td>\n",
       "      <td>0.406263</td>\n",
       "      <td>0.406352</td>\n",
       "    </tr>\n",
       "    <tr>\n",
       "      <th>1</th>\n",
       "      <td>728193</td>\n",
       "      <td>0</td>\n",
       "      <td>1</td>\n",
       "      <td>14.0</td>\n",
       "      <td>16.0</td>\n",
       "      <td>0.279757</td>\n",
       "      <td>0.279757</td>\n",
       "    </tr>\n",
       "    <tr>\n",
       "      <th>2</th>\n",
       "      <td>728193</td>\n",
       "      <td>0</td>\n",
       "      <td>1</td>\n",
       "      <td>8.0</td>\n",
       "      <td>9.0</td>\n",
       "      <td>0.322441</td>\n",
       "      <td>0.322441</td>\n",
       "    </tr>\n",
       "    <tr>\n",
       "      <th>3</th>\n",
       "      <td>728193</td>\n",
       "      <td>0</td>\n",
       "      <td>1</td>\n",
       "      <td>6.0</td>\n",
       "      <td>8.0</td>\n",
       "      <td>0.331385</td>\n",
       "      <td>0.334442</td>\n",
       "    </tr>\n",
       "    <tr>\n",
       "      <th>4</th>\n",
       "      <td>728193</td>\n",
       "      <td>0</td>\n",
       "      <td>1</td>\n",
       "      <td>5.0</td>\n",
       "      <td>6.0</td>\n",
       "      <td>0.361877</td>\n",
       "      <td>0.361877</td>\n",
       "    </tr>\n",
       "  </tbody>\n",
       "</table>\n",
       "</div>"
      ],
      "text/plain": [
       "   entry_id  version_x  version_y  sent_idx_x  sent_idx_y  \\\n",
       "0    728193          0          1         7.0         5.0   \n",
       "1    728193          0          1        14.0        16.0   \n",
       "2    728193          0          1         8.0         9.0   \n",
       "3    728193          0          1         6.0         8.0   \n",
       "4    728193          0          1         5.0         6.0   \n",
       "\n",
       "   avg_sentence_distance_x  avg_sentence_distance_y  \n",
       "0                 0.406263                 0.406352  \n",
       "1                 0.279757                 0.279757  \n",
       "2                 0.322441                 0.322441  \n",
       "3                 0.331385                 0.334442  \n",
       "4                 0.361877                 0.361877  "
      ]
     },
     "execution_count": 38,
     "metadata": {},
     "output_type": "execute_result"
    }
   ],
   "source": [
    "sample_article = pd.read_sql('''\n",
    "    SELECT * FROM MATCHED_SENTENCES\n",
    "    WHERE (ENTRY_ID = 728193) AND (SENT_IDX_X <> SENT_IDX_Y)\n",
    "''', con=con)\n",
    "\n",
    "sample_article"
   ]
  },
  {
   "cell_type": "code",
   "execution_count": 45,
   "metadata": {},
   "outputs": [
    {
     "data": {
      "text/html": [
       "<div>\n",
       "<style scoped>\n",
       "    .dataframe tbody tr th:only-of-type {\n",
       "        vertical-align: middle;\n",
       "    }\n",
       "\n",
       "    .dataframe tbody tr th {\n",
       "        vertical-align: top;\n",
       "    }\n",
       "\n",
       "    .dataframe thead th {\n",
       "        text-align: right;\n",
       "    }\n",
       "</style>\n",
       "<table border=\"1\" class=\"dataframe\">\n",
       "  <thead>\n",
       "    <tr style=\"text-align: right;\">\n",
       "      <th></th>\n",
       "      <th>entry_id</th>\n",
       "      <th>version</th>\n",
       "      <th>sent_idx</th>\n",
       "      <th>sentence</th>\n",
       "    </tr>\n",
       "  </thead>\n",
       "  <tbody>\n",
       "    <tr>\n",
       "      <th>0</th>\n",
       "      <td>728193</td>\n",
       "      <td>0</td>\n",
       "      <td>7</td>\n",
       "      <td>Isra al-Modallah, the Hamas spokeswoman, said ...</td>\n",
       "    </tr>\n",
       "    <tr>\n",
       "      <th>1</th>\n",
       "      <td>728193</td>\n",
       "      <td>1</td>\n",
       "      <td>5</td>\n",
       "      <td>Isra al-Modallah, the spokeswoman, said a 12-y...</td>\n",
       "    </tr>\n",
       "  </tbody>\n",
       "</table>\n",
       "</div>"
      ],
      "text/plain": [
       "   entry_id  version  sent_idx  \\\n",
       "0    728193        0         7   \n",
       "1    728193        1         5   \n",
       "\n",
       "                                            sentence  \n",
       "0  Isra al-Modallah, the Hamas spokeswoman, said ...  \n",
       "1  Isra al-Modallah, the spokeswoman, said a 12-y...  "
      ]
     },
     "execution_count": 45,
     "metadata": {},
     "output_type": "execute_result"
    }
   ],
   "source": [
    "pd.read_sql('''\n",
    "    SELECT * FROM SPLIT_SENTENCES\n",
    "    WHERE \n",
    "        (ENTRY_ID = 728193) AND\n",
    "        (SENT_IDX = 7) AND\n",
    "        (VERSION = 0)\n",
    "    UNION\n",
    "    SELECT * FROM SPLIT_SENTENCES\n",
    "    WHERE \n",
    "        (ENTRY_ID = 728193) AND\n",
    "        (SENT_IDX = 5) AND\n",
    "        (VERSION = 1)    \n",
    "''', con=con)"
   ]
  },
  {
   "cell_type": "code",
   "execution_count": 41,
   "metadata": {},
   "outputs": [],
   "source": [
    "n = 14\n",
    "m = 16\n",
    "k = 5\n",
    "e = [\n",
    "    (7, 5),\n",
    "    (14, 16),\n",
    "    (8, 9),\n",
    "    (6, 8),\n",
    "    (5, 6)\n",
    "]"
   ]
  },
  {
   "cell_type": "code",
   "execution_count": 42,
   "metadata": {},
   "outputs": [
    {
     "name": "stdout",
     "output_type": "stream",
     "text": [
      "m: 16, read m: [], e: (5, 6), read e: [], c: set()\n",
      "m: 16, read m: [(5, 6)], e: (6, 8), read e: [(5, 6)], c: set()\n",
      "m: 16, read m: [(5, 6), (6, 8)], e: (7, 5), read e: [], c: {(6, 8), (5, 6)}\n",
      "m: 16, read m: [(5, 6), (6, 8), (7, 5)], e: (8, 9), read e: [(5, 6), (6, 8), (7, 5)], c: set()\n",
      "m: 16, read m: [(5, 6), (6, 8), (7, 5), (8, 9)], e: (14, 16), read e: [(5, 6), (6, 8), (7, 5), (8, 9)], c: set()\n"
     ]
    }
   ],
   "source": [
    "r, tree = _find_crossings(n, m, e)"
   ]
  },
  {
   "cell_type": "code",
   "execution_count": 43,
   "metadata": {},
   "outputs": [
    {
     "name": "stdout",
     "output_type": "stream",
     "text": [
      "(5, 6)  :  {(7, 5)}\n",
      "(6, 8)  :  {(7, 5)}\n",
      "(7, 5)  :  {(6, 8), (5, 6)}\n",
      "(8, 9)  :  set()\n",
      "(14, 16)  :  set()\n"
     ]
    }
   ],
   "source": [
    "for key, crossings in r.items():\n",
    "    for c in crossings:\n",
    "        if key not in r[c]:\n",
    "            r[c].add(key)\n",
    "\n",
    "for key in r:\n",
    "    print(key, ' : ', r[key])"
   ]
  },
  {
   "cell_type": "code",
   "execution_count": 44,
   "metadata": {},
   "outputs": [
    {
     "name": "stdout",
     "output_type": "stream",
     "text": [
      "remove :  (7, 5)\n",
      "(5, 6)  :  set()\n",
      "(6, 8)  :  set()\n",
      "(8, 9)  :  set()\n",
      "(14, 16)  :  set()\n",
      "\n"
     ]
    }
   ],
   "source": [
    "import copy\n",
    "r_copy = copy.deepcopy(r)\n",
    "\n",
    "while any(r_copy.values()) == True:\n",
    "    remove_crossings(r_copy)\n",
    "    \n",
    "    for key in r_copy:\n",
    "        print(key, ' : ', r_copy[key])\n",
    "        \n",
    "    print ()"
   ]
  },
  {
   "cell_type": "markdown",
   "metadata": {},
   "source": [
    "# Previous"
   ]
  },
  {
   "cell_type": "code",
   "execution_count": 17,
   "metadata": {},
   "outputs": [],
   "source": [
    "def find_crossings(sents_old, sents_new):\n",
    "    \"\"\"\n",
    "    Method to find refactorings (i.e. whether pairs of sentences cross each other in a bipartite graph)\n",
    "\n",
    "    params:\n",
    "    * sents_old: list (or pd.Series) of sentences from the old version\n",
    "    * sents_new: list (or pd.Series) of sentences from the new version\n",
    "\n",
    "    returns:\n",
    "    * num_crossings: the number of sentences that have been refactored,\n",
    "        i.e. the number of edges in a bipartite graph of sentences that cross each other.\n",
    "    \"\"\"\n",
    "    # drop additions/deletions (these don't affect refactorings)\n",
    "    sents_old = list(filter(pd.notnull, sents_old))\n",
    "    sents_new = list(filter(pd.notnull, sents_new))\n",
    "    sents_old = list(map(int, sents_old))\n",
    "    sents_new = list(map(int, sents_new))\n",
    "\n",
    "    # make it not zero-indexed, for bitwise addition\n",
    "    correct_zero = lambda x: x\n",
    "    if min(sents_old) == 0:\n",
    "        correct_zero = lambda x: x + 1\n",
    "\n",
    "    # map missing indices (the result of dropping additions/deletions) to a compressed set.\n",
    "    sents_old_map = {v: correct_zero(k) for k, v in enumerate(unique_everseen(sents_old))}\n",
    "    sents_new_map = {v: correct_zero(k) for k, v in enumerate(unique_everseen(sents_new))}\n",
    "\n",
    "    # prepare input to function\n",
    "    n = len(sents_old_map)\n",
    "    m = len(sents_new_map)\n",
    "    sents_old = list(map(sents_old_map.get, sents_old))\n",
    "    sents_new = list(map(sents_new_map.get, sents_new))\n",
    "    e = list(zip(sents_old, sents_new))\n",
    "\n",
    "    # calculate and return\n",
    "    return _find_crossings(n, m, e)"
   ]
  },
  {
   "cell_type": "code",
   "execution_count": 18,
   "metadata": {},
   "outputs": [],
   "source": [
    "def find_refactor(article_df):\n",
    "    num_crossings = find_crossings(article_df['sent_idx_x'], article_df['sent_idx_y'])\n",
    "    return num_crossings > 0"
   ]
  },
  {
   "cell_type": "code",
   "execution_count": 19,
   "metadata": {},
   "outputs": [],
   "source": [
    "sample_articles = pd.read_sql('''\n",
    "    SELECT * FROM MATCHED_SENTENCES\n",
    "    WHERE ENTRY_ID = 728192\n",
    "''', con=con)"
   ]
  },
  {
   "cell_type": "code",
   "execution_count": 20,
   "metadata": {
    "scrolled": true
   },
   "outputs": [
    {
     "ename": "NameError",
     "evalue": "name 'unique_everseen' is not defined",
     "output_type": "error",
     "traceback": [
      "\u001b[1;31m---------------------------------------------------------------------------\u001b[0m",
      "\u001b[1;31mNameError\u001b[0m                                 Traceback (most recent call last)",
      "\u001b[1;32m<ipython-input-20-6221bff25bd3>\u001b[0m in \u001b[0;36m<module>\u001b[1;34m\u001b[0m\n\u001b[1;32m----> 1\u001b[1;33m refactors = (sample_articles\n\u001b[0m\u001b[0;32m      2\u001b[0m  \u001b[1;33m.\u001b[0m\u001b[0mgroupby\u001b[0m\u001b[1;33m(\u001b[0m\u001b[1;33m[\u001b[0m\u001b[1;34m'entry_id'\u001b[0m\u001b[1;33m,\u001b[0m \u001b[1;34m'version_x'\u001b[0m\u001b[1;33m,\u001b[0m \u001b[1;34m'version_y'\u001b[0m\u001b[1;33m]\u001b[0m\u001b[1;33m)\u001b[0m\u001b[1;33m\u001b[0m\u001b[1;33m\u001b[0m\u001b[0m\n\u001b[0;32m      3\u001b[0m  \u001b[1;33m.\u001b[0m\u001b[0mapply\u001b[0m\u001b[1;33m(\u001b[0m\u001b[0mfind_refactor\u001b[0m\u001b[1;33m)\u001b[0m\u001b[1;33m\u001b[0m\u001b[1;33m\u001b[0m\u001b[0m\n\u001b[0;32m      4\u001b[0m  \u001b[1;33m.\u001b[0m\u001b[0mloc\u001b[0m\u001b[1;33m[\u001b[0m\u001b[1;32mlambda\u001b[0m \u001b[0ms\u001b[0m\u001b[1;33m:\u001b[0m \u001b[0ms\u001b[0m\u001b[1;33m]\u001b[0m\u001b[1;33m\u001b[0m\u001b[1;33m\u001b[0m\u001b[0m\n\u001b[0;32m      5\u001b[0m )\n",
      "\u001b[1;32mC:\\ProgramData\\Anaconda3\\lib\\site-packages\\pandas\\core\\groupby\\groupby.py\u001b[0m in \u001b[0;36mapply\u001b[1;34m(self, func, *args, **kwargs)\u001b[0m\n\u001b[0;32m    892\u001b[0m         \u001b[1;32mwith\u001b[0m \u001b[0moption_context\u001b[0m\u001b[1;33m(\u001b[0m\u001b[1;34m\"mode.chained_assignment\"\u001b[0m\u001b[1;33m,\u001b[0m \u001b[1;32mNone\u001b[0m\u001b[1;33m)\u001b[0m\u001b[1;33m:\u001b[0m\u001b[1;33m\u001b[0m\u001b[1;33m\u001b[0m\u001b[0m\n\u001b[0;32m    893\u001b[0m             \u001b[1;32mtry\u001b[0m\u001b[1;33m:\u001b[0m\u001b[1;33m\u001b[0m\u001b[1;33m\u001b[0m\u001b[0m\n\u001b[1;32m--> 894\u001b[1;33m                 \u001b[0mresult\u001b[0m \u001b[1;33m=\u001b[0m \u001b[0mself\u001b[0m\u001b[1;33m.\u001b[0m\u001b[0m_python_apply_general\u001b[0m\u001b[1;33m(\u001b[0m\u001b[0mf\u001b[0m\u001b[1;33m,\u001b[0m \u001b[0mself\u001b[0m\u001b[1;33m.\u001b[0m\u001b[0m_selected_obj\u001b[0m\u001b[1;33m)\u001b[0m\u001b[1;33m\u001b[0m\u001b[1;33m\u001b[0m\u001b[0m\n\u001b[0m\u001b[0;32m    895\u001b[0m             \u001b[1;32mexcept\u001b[0m \u001b[0mTypeError\u001b[0m\u001b[1;33m:\u001b[0m\u001b[1;33m\u001b[0m\u001b[1;33m\u001b[0m\u001b[0m\n\u001b[0;32m    896\u001b[0m                 \u001b[1;31m# gh-20949\u001b[0m\u001b[1;33m\u001b[0m\u001b[1;33m\u001b[0m\u001b[1;33m\u001b[0m\u001b[0m\n",
      "\u001b[1;32mC:\\ProgramData\\Anaconda3\\lib\\site-packages\\pandas\\core\\groupby\\groupby.py\u001b[0m in \u001b[0;36m_python_apply_general\u001b[1;34m(self, f, data)\u001b[0m\n\u001b[0;32m    926\u001b[0m             \u001b[0mdata\u001b[0m \u001b[0mafter\u001b[0m \u001b[0mapplying\u001b[0m \u001b[0mf\u001b[0m\u001b[1;33m\u001b[0m\u001b[1;33m\u001b[0m\u001b[0m\n\u001b[0;32m    927\u001b[0m         \"\"\"\n\u001b[1;32m--> 928\u001b[1;33m         \u001b[0mkeys\u001b[0m\u001b[1;33m,\u001b[0m \u001b[0mvalues\u001b[0m\u001b[1;33m,\u001b[0m \u001b[0mmutated\u001b[0m \u001b[1;33m=\u001b[0m \u001b[0mself\u001b[0m\u001b[1;33m.\u001b[0m\u001b[0mgrouper\u001b[0m\u001b[1;33m.\u001b[0m\u001b[0mapply\u001b[0m\u001b[1;33m(\u001b[0m\u001b[0mf\u001b[0m\u001b[1;33m,\u001b[0m \u001b[0mdata\u001b[0m\u001b[1;33m,\u001b[0m \u001b[0mself\u001b[0m\u001b[1;33m.\u001b[0m\u001b[0maxis\u001b[0m\u001b[1;33m)\u001b[0m\u001b[1;33m\u001b[0m\u001b[1;33m\u001b[0m\u001b[0m\n\u001b[0m\u001b[0;32m    929\u001b[0m \u001b[1;33m\u001b[0m\u001b[0m\n\u001b[0;32m    930\u001b[0m         return self._wrap_applied_output(\n",
      "\u001b[1;32mC:\\ProgramData\\Anaconda3\\lib\\site-packages\\pandas\\core\\groupby\\ops.py\u001b[0m in \u001b[0;36mapply\u001b[1;34m(self, f, data, axis)\u001b[0m\n\u001b[0;32m    236\u001b[0m             \u001b[1;31m# group might be modified\u001b[0m\u001b[1;33m\u001b[0m\u001b[1;33m\u001b[0m\u001b[1;33m\u001b[0m\u001b[0m\n\u001b[0;32m    237\u001b[0m             \u001b[0mgroup_axes\u001b[0m \u001b[1;33m=\u001b[0m \u001b[0mgroup\u001b[0m\u001b[1;33m.\u001b[0m\u001b[0maxes\u001b[0m\u001b[1;33m\u001b[0m\u001b[1;33m\u001b[0m\u001b[0m\n\u001b[1;32m--> 238\u001b[1;33m             \u001b[0mres\u001b[0m \u001b[1;33m=\u001b[0m \u001b[0mf\u001b[0m\u001b[1;33m(\u001b[0m\u001b[0mgroup\u001b[0m\u001b[1;33m)\u001b[0m\u001b[1;33m\u001b[0m\u001b[1;33m\u001b[0m\u001b[0m\n\u001b[0m\u001b[0;32m    239\u001b[0m             \u001b[1;32mif\u001b[0m \u001b[1;32mnot\u001b[0m \u001b[0m_is_indexed_like\u001b[0m\u001b[1;33m(\u001b[0m\u001b[0mres\u001b[0m\u001b[1;33m,\u001b[0m \u001b[0mgroup_axes\u001b[0m\u001b[1;33m,\u001b[0m \u001b[0maxis\u001b[0m\u001b[1;33m)\u001b[0m\u001b[1;33m:\u001b[0m\u001b[1;33m\u001b[0m\u001b[1;33m\u001b[0m\u001b[0m\n\u001b[0;32m    240\u001b[0m                 \u001b[0mmutated\u001b[0m \u001b[1;33m=\u001b[0m \u001b[1;32mTrue\u001b[0m\u001b[1;33m\u001b[0m\u001b[1;33m\u001b[0m\u001b[0m\n",
      "\u001b[1;32m<ipython-input-18-3c9ecce0fa53>\u001b[0m in \u001b[0;36mfind_refactor\u001b[1;34m(article_df)\u001b[0m\n\u001b[0;32m      1\u001b[0m \u001b[1;32mdef\u001b[0m \u001b[0mfind_refactor\u001b[0m\u001b[1;33m(\u001b[0m\u001b[0marticle_df\u001b[0m\u001b[1;33m)\u001b[0m\u001b[1;33m:\u001b[0m\u001b[1;33m\u001b[0m\u001b[1;33m\u001b[0m\u001b[0m\n\u001b[1;32m----> 2\u001b[1;33m     \u001b[0mnum_crossings\u001b[0m \u001b[1;33m=\u001b[0m \u001b[0mfind_crossings\u001b[0m\u001b[1;33m(\u001b[0m\u001b[0marticle_df\u001b[0m\u001b[1;33m[\u001b[0m\u001b[1;34m'sent_idx_x'\u001b[0m\u001b[1;33m]\u001b[0m\u001b[1;33m,\u001b[0m \u001b[0marticle_df\u001b[0m\u001b[1;33m[\u001b[0m\u001b[1;34m'sent_idx_y'\u001b[0m\u001b[1;33m]\u001b[0m\u001b[1;33m)\u001b[0m\u001b[1;33m\u001b[0m\u001b[1;33m\u001b[0m\u001b[0m\n\u001b[0m\u001b[0;32m      3\u001b[0m     \u001b[1;32mreturn\u001b[0m \u001b[0mnum_crossings\u001b[0m \u001b[1;33m>\u001b[0m \u001b[1;36m0\u001b[0m\u001b[1;33m\u001b[0m\u001b[1;33m\u001b[0m\u001b[0m\n",
      "\u001b[1;32m<ipython-input-17-e8da6d575187>\u001b[0m in \u001b[0;36mfind_crossings\u001b[1;34m(sents_old, sents_new)\u001b[0m\n\u001b[0;32m     23\u001b[0m \u001b[1;33m\u001b[0m\u001b[0m\n\u001b[0;32m     24\u001b[0m     \u001b[1;31m# map missing indices (the result of dropping additions/deletions) to a compressed set.\u001b[0m\u001b[1;33m\u001b[0m\u001b[1;33m\u001b[0m\u001b[1;33m\u001b[0m\u001b[0m\n\u001b[1;32m---> 25\u001b[1;33m     \u001b[0msents_old_map\u001b[0m \u001b[1;33m=\u001b[0m \u001b[1;33m{\u001b[0m\u001b[0mv\u001b[0m\u001b[1;33m:\u001b[0m \u001b[0mcorrect_zero\u001b[0m\u001b[1;33m(\u001b[0m\u001b[0mk\u001b[0m\u001b[1;33m)\u001b[0m \u001b[1;32mfor\u001b[0m \u001b[0mk\u001b[0m\u001b[1;33m,\u001b[0m \u001b[0mv\u001b[0m \u001b[1;32min\u001b[0m \u001b[0menumerate\u001b[0m\u001b[1;33m(\u001b[0m\u001b[0munique_everseen\u001b[0m\u001b[1;33m(\u001b[0m\u001b[0msents_old\u001b[0m\u001b[1;33m)\u001b[0m\u001b[1;33m)\u001b[0m\u001b[1;33m}\u001b[0m\u001b[1;33m\u001b[0m\u001b[1;33m\u001b[0m\u001b[0m\n\u001b[0m\u001b[0;32m     26\u001b[0m     \u001b[0msents_new_map\u001b[0m \u001b[1;33m=\u001b[0m \u001b[1;33m{\u001b[0m\u001b[0mv\u001b[0m\u001b[1;33m:\u001b[0m \u001b[0mcorrect_zero\u001b[0m\u001b[1;33m(\u001b[0m\u001b[0mk\u001b[0m\u001b[1;33m)\u001b[0m \u001b[1;32mfor\u001b[0m \u001b[0mk\u001b[0m\u001b[1;33m,\u001b[0m \u001b[0mv\u001b[0m \u001b[1;32min\u001b[0m \u001b[0menumerate\u001b[0m\u001b[1;33m(\u001b[0m\u001b[0munique_everseen\u001b[0m\u001b[1;33m(\u001b[0m\u001b[0msents_new\u001b[0m\u001b[1;33m)\u001b[0m\u001b[1;33m)\u001b[0m\u001b[1;33m}\u001b[0m\u001b[1;33m\u001b[0m\u001b[1;33m\u001b[0m\u001b[0m\n\u001b[0;32m     27\u001b[0m \u001b[1;33m\u001b[0m\u001b[0m\n",
      "\u001b[1;31mNameError\u001b[0m: name 'unique_everseen' is not defined"
     ]
    }
   ],
   "source": [
    "refactors = (sample_articles\n",
    " .groupby(['entry_id', 'version_x', 'version_y'])\n",
    " .apply(find_refactor)\n",
    " .loc[lambda s: s]\n",
    ")"
   ]
  },
  {
   "cell_type": "code",
   "execution_count": 68,
   "metadata": {},
   "outputs": [
    {
     "name": "stdout",
     "output_type": "stream",
     "text": [
      "0     44.0\n",
      "1     20.0\n",
      "2     10.0\n",
      "3     12.0\n",
      "4     39.0\n",
      "5     22.0\n",
      "6     38.0\n",
      "7     23.0\n",
      "8      5.0\n",
      "9     19.0\n",
      "10    15.0\n",
      "11     7.0\n",
      "12    37.0\n",
      "13    25.0\n",
      "14    32.0\n",
      "15     3.0\n",
      "16    43.0\n",
      "17    42.0\n",
      "18    35.0\n",
      "19    34.0\n",
      "20    26.0\n",
      "21    31.0\n",
      "22     6.0\n",
      "23    29.0\n",
      "24    45.0\n",
      "25    46.0\n",
      "26    27.0\n",
      "27    17.0\n",
      "28    30.0\n",
      "29    11.0\n",
      "30    36.0\n",
      "31    13.0\n",
      "32    24.0\n",
      "33     4.0\n",
      "34     2.0\n",
      "35    14.0\n",
      "36    18.0\n",
      "37    21.0\n",
      "38     1.0\n",
      "39    33.0\n",
      "40    16.0\n",
      "41     8.0\n",
      "42    40.0\n",
      "43     0.0\n",
      "44    41.0\n",
      "45    28.0\n",
      "46     9.0\n",
      "Name: sent_idx_x, dtype: float64\n",
      "0     44.0\n",
      "1     20.0\n",
      "2     10.0\n",
      "3     12.0\n",
      "4     39.0\n",
      "5     22.0\n",
      "6     38.0\n",
      "7     23.0\n",
      "8      5.0\n",
      "9     19.0\n",
      "10    15.0\n",
      "11     7.0\n",
      "12    37.0\n",
      "13    25.0\n",
      "14    32.0\n",
      "15     3.0\n",
      "16    43.0\n",
      "17    42.0\n",
      "18    35.0\n",
      "19    34.0\n",
      "20    26.0\n",
      "21    31.0\n",
      "22     6.0\n",
      "23    29.0\n",
      "24    45.0\n",
      "25    46.0\n",
      "26    27.0\n",
      "27    17.0\n",
      "28    30.0\n",
      "29    11.0\n",
      "30    36.0\n",
      "31    13.0\n",
      "32    24.0\n",
      "33     4.0\n",
      "34     2.0\n",
      "35    14.0\n",
      "36    18.0\n",
      "37    21.0\n",
      "38     1.0\n",
      "39    33.0\n",
      "40    16.0\n",
      "41     8.0\n",
      "42    40.0\n",
      "43     0.0\n",
      "44    41.0\n",
      "45    28.0\n",
      "46     9.0\n",
      "Name: sent_idx_y, dtype: float64\n"
     ]
    },
    {
     "data": {
      "text/plain": [
       "entry_id  version_x  version_y\n",
       "728192    0          1            True\n",
       "dtype: bool"
      ]
     },
     "execution_count": 68,
     "metadata": {},
     "output_type": "execute_result"
    }
   ],
   "source": [
    "refactors_test = (sample_articles\n",
    " .groupby(['entry_id', 'version_x', 'version_y'])\n",
    " .apply(find_refactor_test)\n",
    " .loc[lambda s: s]\n",
    ")\n",
    "refactors_test"
   ]
  },
  {
   "cell_type": "code",
   "execution_count": 67,
   "metadata": {},
   "outputs": [],
   "source": [
    "def find_refactor_test(article_df):\n",
    "    num_crossings = 1\n",
    "    print (article_df['sent_idx_x'])\n",
    "    print (article_df['sent_idx_y'])\n",
    "    #= find_crossings_test(article_df['sent_idx_x'], article_df['sent_idx_y'])\n",
    "    return num_crossings > 0"
   ]
  },
  {
   "cell_type": "code",
   "execution_count": 46,
   "metadata": {},
   "outputs": [],
   "source": [
    "def find_crossings_test(sents_old, sents_new):\n",
    "    \"\"\"\n",
    "    Method to find refactorings (i.e. whether pairs of sentences cross each other in a bipartite graph)\n",
    "\n",
    "    params:\n",
    "    * sents_old: list (or pd.Series) of sentences from the old version\n",
    "    * sents_new: list (or pd.Series) of sentences from the new version\n",
    "\n",
    "    returns:\n",
    "    * num_crossings: the number of sentences that have been refactored,\n",
    "        i.e. the number of edges in a bipartite graph of sentences that cross each other.\n",
    "    \"\"\"\n",
    "    # drop additions/deletions (these don't affect refactorings)\n",
    "    sents_old = list(filter(pd.notnull, sents_old))\n",
    "    sents_new = list(filter(pd.notnull, sents_new))\n",
    "    sents_old = list(map(int, sents_old))\n",
    "    sents_new = list(map(int, sents_new))\n",
    "\n",
    "    # make it not zero-indexed, for bitwise addition\n",
    "    correct_zero = lambda x: x\n",
    "    if min(sents_old) == 0:\n",
    "        correct_zero = lambda x: x + 1\n",
    "\n",
    "#     # map missing indices (the result of dropping additions/deletions) to a compressed set.\n",
    "    sents_old_map = {v: correct_zero(k) for k, v in enumerate(unique_everseen(sents_old))}\n",
    "    sents_new_map = {v: correct_zero(k) for k, v in enumerate(unique_everseen(sents_new))}\n",
    "\n",
    "    # prepare input to function\n",
    "    n = len(sents_old_map)\n",
    "    m = len(sents_new_map)\n",
    "    sents_old = list(map(sents_old_map.get, sents_old))\n",
    "    sents_new = list(map(sents_new_map.get, sents_new))\n",
    "    e = list(zip(sents_old, sents_new))\n",
    "\n",
    "    # calculate and return\n",
    "    #return _find_crossings(n, m, e)\n",
    "    return n, m, e"
   ]
  },
  {
   "cell_type": "code",
   "execution_count": 16,
   "metadata": {
    "scrolled": true
   },
   "outputs": [
    {
     "ename": "NameError",
     "evalue": "name 'refactors' is not defined",
     "output_type": "error",
     "traceback": [
      "\u001b[1;31m---------------------------------------------------------------------------\u001b[0m",
      "\u001b[1;31mNameError\u001b[0m                                 Traceback (most recent call last)",
      "\u001b[1;32m<ipython-input-16-5ef94ae43403>\u001b[0m in \u001b[0;36m<module>\u001b[1;34m\u001b[0m\n\u001b[1;32m----> 1\u001b[1;33m \u001b[0mrefactors\u001b[0m\u001b[1;33m.\u001b[0m\u001b[0mhead\u001b[0m\u001b[1;33m(\u001b[0m\u001b[1;33m)\u001b[0m\u001b[1;33m\u001b[0m\u001b[1;33m\u001b[0m\u001b[0m\n\u001b[0m",
      "\u001b[1;31mNameError\u001b[0m: name 'refactors' is not defined"
     ]
    }
   ],
   "source": [
    "refactors.head()"
   ]
  },
  {
   "cell_type": "code",
   "execution_count": 19,
   "metadata": {},
   "outputs": [
    {
     "ename": "NameError",
     "evalue": "name 'refactors' is not defined",
     "output_type": "error",
     "traceback": [
      "\u001b[1;31m---------------------------------------------------------------------------\u001b[0m",
      "\u001b[1;31mNameError\u001b[0m                                 Traceback (most recent call last)",
      "\u001b[1;32m<ipython-input-19-884c8f739a74>\u001b[0m in \u001b[0;36m<module>\u001b[1;34m\u001b[0m\n\u001b[1;32m----> 1\u001b[1;33m \u001b[0ma_id\u001b[0m\u001b[1;33m,\u001b[0m \u001b[0mv_x\u001b[0m\u001b[1;33m,\u001b[0m \u001b[0mv_y\u001b[0m \u001b[1;33m=\u001b[0m \u001b[0mrefactors\u001b[0m\u001b[1;33m.\u001b[0m\u001b[0mindex\u001b[0m\u001b[1;33m[\u001b[0m\u001b[1;36m0\u001b[0m\u001b[1;33m]\u001b[0m\u001b[1;33m\u001b[0m\u001b[1;33m\u001b[0m\u001b[0m\n\u001b[0m",
      "\u001b[1;31mNameError\u001b[0m: name 'refactors' is not defined"
     ]
    }
   ],
   "source": [
    "a_id, v_x, v_y = refactors.index[0]"
   ]
  },
  {
   "cell_type": "code",
   "execution_count": 17,
   "metadata": {
    "scrolled": true
   },
   "outputs": [
    {
     "ename": "NameError",
     "evalue": "name 'a_id' is not defined",
     "output_type": "error",
     "traceback": [
      "\u001b[1;31m---------------------------------------------------------------------------\u001b[0m",
      "\u001b[1;31mNameError\u001b[0m                                 Traceback (most recent call last)",
      "\u001b[1;32m<ipython-input-17-bba6bf01dc4e>\u001b[0m in \u001b[0;36m<module>\u001b[1;34m\u001b[0m\n\u001b[0;32m      3\u001b[0m     \u001b[0mWHERE\u001b[0m\u001b[1;33m\u001b[0m\u001b[1;33m\u001b[0m\u001b[0m\n\u001b[0;32m      4\u001b[0m     \u001b[0mentry_id\u001b[0m \u001b[1;33m=\u001b[0m \u001b[1;33m%\u001b[0m\u001b[0ms\u001b[0m \u001b[0mAND\u001b[0m \u001b[0mversion\u001b[0m \u001b[1;33m=\u001b[0m \u001b[1;33m%\u001b[0m\u001b[0ms\u001b[0m\u001b[1;33m\u001b[0m\u001b[1;33m\u001b[0m\u001b[0m\n\u001b[1;32m----> 5\u001b[1;33m ''' % (a_id, v_x), con=con)\n\u001b[0m",
      "\u001b[1;31mNameError\u001b[0m: name 'a_id' is not defined"
     ]
    }
   ],
   "source": [
    "s_x = pd.read_sql('''\n",
    "    SELECT * FROM split_sentences \n",
    "    WHERE \n",
    "    entry_id = %s AND version = %s\n",
    "''' % (a_id, v_x), con=con)"
   ]
  },
  {
   "cell_type": "code",
   "execution_count": 21,
   "metadata": {},
   "outputs": [
    {
     "ename": "NameError",
     "evalue": "name 'a_id' is not defined",
     "output_type": "error",
     "traceback": [
      "\u001b[1;31m---------------------------------------------------------------------------\u001b[0m",
      "\u001b[1;31mNameError\u001b[0m                                 Traceback (most recent call last)",
      "\u001b[1;32m<ipython-input-21-5a0cbaef0248>\u001b[0m in \u001b[0;36m<module>\u001b[1;34m\u001b[0m\n\u001b[0;32m      3\u001b[0m     \u001b[0mWHERE\u001b[0m\u001b[1;33m\u001b[0m\u001b[1;33m\u001b[0m\u001b[0m\n\u001b[0;32m      4\u001b[0m     \u001b[0mentry_id\u001b[0m \u001b[1;33m=\u001b[0m \u001b[1;33m%\u001b[0m\u001b[0ms\u001b[0m \u001b[0mAND\u001b[0m \u001b[0mversion\u001b[0m \u001b[1;33m=\u001b[0m \u001b[1;33m%\u001b[0m\u001b[0ms\u001b[0m\u001b[1;33m\u001b[0m\u001b[1;33m\u001b[0m\u001b[0m\n\u001b[1;32m----> 5\u001b[1;33m ''' % (a_id, v_y), con=con)\n\u001b[0m",
      "\u001b[1;31mNameError\u001b[0m: name 'a_id' is not defined"
     ]
    }
   ],
   "source": [
    "s_y = pd.read_sql('''\n",
    "    SELECT * FROM split_sentences \n",
    "    WHERE \n",
    "    entry_id = %s AND version = %s\n",
    "''' % (a_id, v_y), con=con)"
   ]
  },
  {
   "cell_type": "code",
   "execution_count": 355,
   "metadata": {},
   "outputs": [],
   "source": [
    "vars_o, vars_n = unp.get_list_diff(s_x['sentence'].tolist(), s_y['sentence'].tolist())"
   ]
  },
  {
   "cell_type": "code",
   "execution_count": 436,
   "metadata": {},
   "outputs": [],
   "source": [
    "output_html = unp.html_compare_articles(vars_old=vars_o[:4], vars_new=vars_n[:4])"
   ]
  },
  {
   "cell_type": "code",
   "execution_count": 437,
   "metadata": {
    "scrolled": true
   },
   "outputs": [
    {
     "data": {
      "text/html": [
       "<table>\n",
       "<tr><th>Old Version</th><th>New Version</th></tr>\n",
       "<tr><td>LAS VEGAS Donald Trump goes into his third and final presidential debate on the defensive, with Hillary Clinton threatening to poach a string of once loyally Republican states from a man who says he hates losers.</td><td>LAS VEGAS Donald Trump goes into his third and final presidential debate on the defensive, with Hillary Clinton threatening to poach a string of once loyally Republican states from a man who says he hates losers.</td></tr>\n",
       "<tr><td>Trump is in danger of being one of his party’s biggest losers — and, as President Obama pointed out on Tuesday, a whiny one at that.</td><td>Trump is in danger of being one of his party’s biggest losers — and, as President Obama pointed out on Tuesday, a whiny one at that.</td></tr>\n",
       "<tr><td>The states on Clinton’s new target list include Arizona and, of all places, Texas.</td><td>The states on Clinton’s new target list include Arizona and, of all places, Texas.</td></tr>\n",
       "<tr><td>In Nevada, the polling is mixed, though Clinton seems to have gained ground.</td><td>In Nevada, the polling is mixed, though Clinton seems to have gained ground.</td></tr>\n",
       "</table>"
      ],
      "text/plain": [
       "<IPython.core.display.HTML object>"
      ]
     },
     "metadata": {},
     "output_type": "display_data"
    }
   ],
   "source": [
    "display(HTML(output_html))"
   ]
  },
  {
   "cell_type": "code",
   "execution_count": null,
   "metadata": {},
   "outputs": [],
   "source": []
  },
  {
   "cell_type": "code",
   "execution_count": null,
   "metadata": {},
   "outputs": [],
   "source": []
  },
  {
   "cell_type": "code",
   "execution_count": null,
   "metadata": {},
   "outputs": [],
   "source": []
  },
  {
   "cell_type": "markdown",
   "metadata": {},
   "source": [
    "# Try to write some HTML that will visualize refactors well"
   ]
  },
  {
   "cell_type": "code",
   "execution_count": 22,
   "metadata": {},
   "outputs": [
    {
     "ename": "AttributeError",
     "evalue": "module 'util_newssniffer_parsing' has no attribute 'html_compare_sentences_new'",
     "output_type": "error",
     "traceback": [
      "\u001b[1;31m---------------------------------------------------------------------------\u001b[0m",
      "\u001b[1;31mAttributeError\u001b[0m                            Traceback (most recent call last)",
      "\u001b[1;32m<ipython-input-22-6fffb0aa2477>\u001b[0m in \u001b[0;36m<module>\u001b[1;34m\u001b[0m\n\u001b[1;32m----> 1\u001b[1;33m unp.html_compare_sentences_new(\n\u001b[0m\u001b[0;32m      2\u001b[0m     \u001b[0mcomp_sents\u001b[0m\u001b[1;33m,\u001b[0m\u001b[1;33m\u001b[0m\u001b[1;33m\u001b[0m\u001b[0m\n\u001b[0;32m      3\u001b[0m     \u001b[0mhead_comp_df\u001b[0m\u001b[1;33m=\u001b[0m\u001b[0mcomp_heads\u001b[0m\u001b[1;33m,\u001b[0m\u001b[1;33m\u001b[0m\u001b[1;33m\u001b[0m\u001b[0m\n\u001b[0;32m      4\u001b[0m     \u001b[0msort_by\u001b[0m\u001b[1;33m=\u001b[0m\u001b[1;34m'old'\u001b[0m\u001b[1;33m,\u001b[0m\u001b[1;33m\u001b[0m\u001b[1;33m\u001b[0m\u001b[0m\n\u001b[0;32m      5\u001b[0m     \u001b[0minclude_headline\u001b[0m\u001b[1;33m=\u001b[0m\u001b[1;32mTrue\u001b[0m\u001b[1;33m,\u001b[0m\u001b[1;33m\u001b[0m\u001b[1;33m\u001b[0m\u001b[0m\n",
      "\u001b[1;31mAttributeError\u001b[0m: module 'util_newssniffer_parsing' has no attribute 'html_compare_sentences_new'"
     ]
    }
   ],
   "source": [
    "unp.html_compare_sentences_new(\n",
    "    comp_sents, \n",
    "    head_comp_df=comp_heads,\n",
    "    sort_by='old',\n",
    "    include_headline=True, \n",
    ")\n"
   ]
  },
  {
   "cell_type": "code",
   "execution_count": 23,
   "metadata": {},
   "outputs": [
    {
     "ename": "NameError",
     "evalue": "name 'sample_articles' is not defined",
     "output_type": "error",
     "traceback": [
      "\u001b[1;31m---------------------------------------------------------------------------\u001b[0m",
      "\u001b[1;31mNameError\u001b[0m                                 Traceback (most recent call last)",
      "\u001b[1;32m<ipython-input-23-0a5046ac785c>\u001b[0m in \u001b[0;36m<module>\u001b[1;34m\u001b[0m\n\u001b[1;32m----> 1\u001b[1;33m (sample_articles\n\u001b[0m\u001b[0;32m      2\u001b[0m  \u001b[1;33m.\u001b[0m\u001b[0mloc\u001b[0m\u001b[1;33m[\u001b[0m\u001b[1;32mlambda\u001b[0m \u001b[0mdf\u001b[0m\u001b[1;33m:\u001b[0m \u001b[0mdf\u001b[0m\u001b[1;33m[\u001b[0m\u001b[1;34m'entry_id'\u001b[0m\u001b[1;33m]\u001b[0m \u001b[1;33m==\u001b[0m \u001b[0ma_id\u001b[0m\u001b[1;33m]\u001b[0m\u001b[1;33m\u001b[0m\u001b[1;33m\u001b[0m\u001b[0m\n\u001b[0;32m      3\u001b[0m  \u001b[1;33m.\u001b[0m\u001b[0mloc\u001b[0m\u001b[1;33m[\u001b[0m\u001b[1;32mlambda\u001b[0m \u001b[0mdf\u001b[0m\u001b[1;33m:\u001b[0m \u001b[0mdf\u001b[0m\u001b[1;33m[\u001b[0m\u001b[1;34m'version_x'\u001b[0m\u001b[1;33m]\u001b[0m \u001b[1;33m==\u001b[0m \u001b[0mv_x\u001b[0m\u001b[1;33m]\u001b[0m\u001b[1;33m\u001b[0m\u001b[1;33m\u001b[0m\u001b[0m\n\u001b[0;32m      4\u001b[0m  \u001b[1;33m.\u001b[0m\u001b[0mloc\u001b[0m\u001b[1;33m[\u001b[0m\u001b[1;32mlambda\u001b[0m \u001b[0mdf\u001b[0m\u001b[1;33m:\u001b[0m \u001b[0mdf\u001b[0m\u001b[1;33m[\u001b[0m\u001b[1;34m'version_y'\u001b[0m\u001b[1;33m]\u001b[0m \u001b[1;33m==\u001b[0m \u001b[0mv_y\u001b[0m\u001b[1;33m]\u001b[0m\u001b[1;33m\u001b[0m\u001b[1;33m\u001b[0m\u001b[0m\n\u001b[0;32m      5\u001b[0m ).head()\n",
      "\u001b[1;31mNameError\u001b[0m: name 'sample_articles' is not defined"
     ]
    }
   ],
   "source": [
    "(sample_articles\n",
    " .loc[lambda df: df['entry_id'] == a_id]\n",
    " .loc[lambda df: df['version_x'] == v_x]\n",
    " .loc[lambda df: df['version_y'] == v_y]\n",
    ").head()"
   ]
  },
  {
   "cell_type": "code",
   "execution_count": 339,
   "metadata": {},
   "outputs": [],
   "source": [
    "t = (sample_articles\n",
    " .loc[lambda df: df['entry_id'] == a_id]\n",
    " .loc[lambda df: df['version_x'] == v_x]\n",
    " .loc[lambda df: df['version_y'] == v_y]\n",
    ")"
   ]
  },
  {
   "cell_type": "code",
   "execution_count": 431,
   "metadata": {},
   "outputs": [],
   "source": [
    "svg = \"\"\"\n",
    "<svg width=\"300\" height=\"100\">\n",
    "    <text x='100' y='0' font-size='18px' text-anchor='end'>\n",
    "      <tspan x='100' dy='1em'>foo1</tspan>\n",
    "      <tspan x='100' dy='1em'>foo2</tspan>\n",
    "      <tspan x='100' dy='1em'>foo3</tspan>\n",
    "    </text>\n",
    "    <text x='200' y='0' font-size='18px'>\n",
    "      <tspan x='200' dy='1em'>foo4</tspan>\n",
    "      <tspan x='200' dy='1em'>foo5</tspan>\n",
    "      <tspan x='200' dy='1em'>foo6</tspan>\n",
    "    </text>\n",
    "    <line x1='100' y1='0.8em' x2='200' y2='2.8em' style=\"stroke:#999999\"/>\n",
    "    <line x1='100' y1='1.8em' x2='200' y2='1.8em' style=\"stroke:#999999\"/>\n",
    "    <line x1='100' y1='1.8em' x2='200' y2='0.8em' style=\"stroke:#ff0000\"/>\n",
    "    <line x1='100' y1='0.8em' x2='200' y2='1.8em' style=\"stroke:#ff0000\"/>\n",
    "    <line x1='100' y1='2.8em' x2='200' y2='2.8em' style=\"stroke:#00ff00\"/>\n",
    "</svg>\"\"\".replace('\\'', '\"')"
   ]
  },
  {
   "cell_type": "code",
   "execution_count": 432,
   "metadata": {},
   "outputs": [],
   "source": [
    "from IPython.display import SVG, display"
   ]
  },
  {
   "cell_type": "code",
   "execution_count": 433,
   "metadata": {},
   "outputs": [
    {
     "data": {
      "text/plain": [
       "'\\n<svg width=\"300\" height=\"100\">\\n    <text x=\"100\" y=\"0\" font-size=\"18px\" text-anchor=\"end\">\\n      <tspan x=\"100\" dy=\"1em\">foo1</tspan>\\n      <tspan x=\"100\" dy=\"1em\">foo2</tspan>\\n      <tspan x=\"100\" dy=\"1em\">foo3</tspan>\\n    </text>\\n    <text x=\"200\" y=\"0\" font-size=\"18px\">\\n      <tspan x=\"200\" dy=\"1em\">foo4</tspan>\\n      <tspan x=\"200\" dy=\"1em\">foo5</tspan>\\n      <tspan x=\"200\" dy=\"1em\">foo6</tspan>\\n    </text>\\n    <line x1=\"100\" y1=\"0.8em\" x2=\"200\" y2=\"2.8em\" style=\"stroke:#999999\"/>\\n    <line x1=\"100\" y1=\"1.8em\" x2=\"200\" y2=\"1.8em\" style=\"stroke:#999999\"/>\\n    <line x1=\"100\" y1=\"1.8em\" x2=\"200\" y2=\"0.8em\" style=\"stroke:#ff0000\"/>\\n    <line x1=\"100\" y1=\"0.8em\" x2=\"200\" y2=\"1.8em\" style=\"stroke:#ff0000\"/>\\n    <line x1=\"100\" y1=\"2.8em\" x2=\"200\" y2=\"2.8em\" style=\"stroke:#00ff00\"/>\\n</svg>'"
      ]
     },
     "execution_count": 433,
     "metadata": {},
     "output_type": "execute_result"
    }
   ],
   "source": [
    "svg"
   ]
  },
  {
   "cell_type": "code",
   "execution_count": 548,
   "metadata": {},
   "outputs": [
    {
     "data": {
      "image/svg+xml": [
       "<svg height=\"100\" width=\"300\">\n",
       "    <text font-size=\"18px\" text-anchor=\"end\" x=\"100\" y=\"0\">\n",
       "      <tspan dy=\"1em\" x=\"100\">foo1</tspan>\n",
       "      <tspan dy=\"1em\" x=\"100\">foo2</tspan>\n",
       "      <tspan dy=\"1em\" x=\"100\">foo3</tspan>\n",
       "    </text>\n",
       "    <text font-size=\"18px\" x=\"200\" y=\"0\">\n",
       "      <tspan dy=\"1em\" x=\"200\">foo4</tspan>\n",
       "      <tspan dy=\"1em\" x=\"200\">foo5</tspan>\n",
       "      <tspan dy=\"1em\" x=\"200\">foo6</tspan>\n",
       "    </text>\n",
       "    <line style=\"stroke:#999999\" x1=\"100\" x2=\"200\" y1=\"0.8em\" y2=\"2.8em\"/>\n",
       "    <line style=\"stroke:#999999\" x1=\"100\" x2=\"200\" y1=\"1.8em\" y2=\"1.8em\"/>\n",
       "    <line style=\"stroke:#ff0000\" x1=\"100\" x2=\"200\" y1=\"1.8em\" y2=\"0.8em\"/>\n",
       "    <line style=\"stroke:#ff0000\" x1=\"100\" x2=\"200\" y1=\"0.8em\" y2=\"1.8em\"/>\n",
       "    <line style=\"stroke:#00ff00\" x1=\"100\" x2=\"200\" y1=\"2.8em\" y2=\"2.8em\"/>\n",
       "</svg>"
      ],
      "text/plain": [
       "<IPython.core.display.SVG object>"
      ]
     },
     "execution_count": 548,
     "metadata": {},
     "output_type": "execute_result"
    }
   ],
   "source": [
    "SVG(svg)"
   ]
  },
  {
   "cell_type": "code",
   "execution_count": 484,
   "metadata": {},
   "outputs": [],
   "source": [
    "t_table = pd.DataFrame({\n",
    "    'a': ['The the the the the the the the','The the the the the the the the','The the the the the the the the','The the the the the the the the',],\n",
    "    'b': ['The the the the the the the the','The the the the the the the the','The the the the the the the the','The the the the the the the the',]\n",
    "})\n",
    "t_table[''] = ''\n",
    "t_table = t_table[['a', '', 'b']]"
   ]
  },
  {
   "cell_type": "code",
   "execution_count": 536,
   "metadata": {},
   "outputs": [
    {
     "data": {
      "text/html": [
       "<div>\n",
       "<style scoped>\n",
       "    .dataframe tbody tr th:only-of-type {\n",
       "        vertical-align: middle;\n",
       "    }\n",
       "\n",
       "    .dataframe tbody tr th {\n",
       "        vertical-align: top;\n",
       "    }\n",
       "\n",
       "    .dataframe thead th {\n",
       "        text-align: right;\n",
       "    }\n",
       "</style>\n",
       "<table border=\"1\" class=\"dataframe\">\n",
       "  <thead>\n",
       "    <tr style=\"text-align: right;\">\n",
       "      <th></th>\n",
       "      <th>a</th>\n",
       "      <th></th>\n",
       "      <th>b</th>\n",
       "    </tr>\n",
       "  </thead>\n",
       "  <tbody>\n",
       "    <tr>\n",
       "      <th>0</th>\n",
       "      <td>The the the the the the the the</td>\n",
       "      <td></td>\n",
       "      <td>The the the the the the the the</td>\n",
       "    </tr>\n",
       "    <tr>\n",
       "      <th>1</th>\n",
       "      <td>The the the the the the the the</td>\n",
       "      <td></td>\n",
       "      <td>The the the the the the the the</td>\n",
       "    </tr>\n",
       "    <tr>\n",
       "      <th>2</th>\n",
       "      <td>The the the the the the the the</td>\n",
       "      <td></td>\n",
       "      <td>The the the the the the the the</td>\n",
       "    </tr>\n",
       "    <tr>\n",
       "      <th>3</th>\n",
       "      <td>The the the the the the the the</td>\n",
       "      <td></td>\n",
       "      <td>The the the the the the the the</td>\n",
       "    </tr>\n",
       "  </tbody>\n",
       "</table>\n",
       "</div>"
      ],
      "text/plain": [
       "                                 a                                  b\n",
       "0  The the the the the the the the    The the the the the the the the\n",
       "1  The the the the the the the the    The the the the the the the the\n",
       "2  The the the the the the the the    The the the the the the the the\n",
       "3  The the the the the the the the    The the the the the the the the"
      ]
     },
     "execution_count": 536,
     "metadata": {},
     "output_type": "execute_result"
    }
   ],
   "source": [
    "t_table"
   ]
  },
  {
   "cell_type": "code",
   "execution_count": 542,
   "metadata": {},
   "outputs": [],
   "source": [
    "t_table_html = \"\"\"\n",
    "<table style=\"width: 100%\">\n",
    "  <colgroup>\n",
    "     <col span=\"1\" style=\"width: 10%;\">\n",
    "     <col span=\"1\" style=\"width: 10%;\">\n",
    "     <col span=\"1\" style=\"width: 45%;\">\n",
    "  </colgroup>\n",
    "  <tbody>\n",
    "    <tr>\n",
    "      <td>The the the the the the the the</td>\n",
    "      <td></td>\n",
    "      <td>The the the the the the the the</td>\n",
    "    </tr>\n",
    "    <tr>\n",
    "      <td>The the the the the the the the</td>\n",
    "      <td></td>\n",
    "      <td>The the the the the the the the</td>\n",
    "    </tr>\n",
    "    <tr>\n",
    "      <td>The the the the the the the the</td>\n",
    "      <td></td>\n",
    "      <td>The the the the the the the the</td>\n",
    "    </tr>\n",
    "    <tr>\n",
    "      <td>The the the the the the the the</td>\n",
    "      <td></td>\n",
    "      <td>The the the the the the the the</td>\n",
    "    </tr>\n",
    "  </tbody>\n",
    "</table>\n",
    "\"\"\""
   ]
  },
  {
   "cell_type": "code",
   "execution_count": 543,
   "metadata": {},
   "outputs": [],
   "source": [
    "svg_tab = \"\"\"<svg xmlns=\"http://www.w3.org/2000/svg\">\n",
    "  <foreignObject x=\"10\" y=\"10\" width=\"800\" height=\"1500\">\n",
    "    <body xmlns=\"http://www.w3.org/1999/xhtml\">\n",
    "      %s\n",
    "    </body>\n",
    "  </foreignObject>\n",
    "  <line x1='100' y1='0.8em' x2='200' y2='2.8em' style=\"stroke:#999999\"/>\n",
    "  <line x1='100' y1='1.8em' x2='200' y2='1.8em' style=\"stroke:#999999\"/>\n",
    "  <line x1='100' y1='1.8em' x2='200' y2='0.8em' style=\"stroke:#ff0000\"/>\n",
    "  <line x1='100' y1='0.8em' x2='200' y2='1.8em' style=\"stroke:#ff0000\"/>\n",
    "  <line x1='100' y1='2.8em' x2='200' y2='2.8em' style=\"stroke:#00ff00\"/>\n",
    "</svg>\"\"\" % t_table_html\n",
    "svg_tab = t_table_html + \"\"\"\n",
    "<svg style=\"\n",
    "    position: absolute;\n",
    "    width: 100%;\n",
    "    height: 100%;\n",
    "    top: 0;\n",
    "    left: 0;\">\n",
    "  <line x1='100' y1='0.8em' x2='200' y2='2.8em' style=\"stroke:#999999\"/>\n",
    "  <line x1='100' y1='1.8em' x2='200' y2='1.8em' style=\"stroke:#999999\"/>\n",
    "  <line x1='100' y1='1.8em' x2='200' y2='0.8em' style=\"stroke:#ff0000\"/>\n",
    "  <line x1='100' y1='0.8em' x2='200' y2='1.8em' style=\"stroke:#ff0000\"/>\n",
    "  <line x1='100' y1='2.8em' x2='200' y2='2.8em' style=\"stroke:#00ff00\"/>\n",
    "</svg>\"\"\""
   ]
  },
  {
   "cell_type": "code",
   "execution_count": 544,
   "metadata": {},
   "outputs": [
    {
     "data": {
      "text/html": [
       "\n",
       "<table style=\"width: 100%\">\n",
       "  <colgroup>\n",
       "     <col span=\"1\" style=\"width: 10%;\">\n",
       "     <col span=\"1\" style=\"width: 10%;\">\n",
       "     <col span=\"1\" style=\"width: 45%;\">\n",
       "  </colgroup>\n",
       "  <tbody>\n",
       "    <tr>\n",
       "      <td>The the the the the the the the</td>\n",
       "      <td></td>\n",
       "      <td>The the the the the the the the</td>\n",
       "    </tr>\n",
       "    <tr>\n",
       "      <td>The the the the the the the the</td>\n",
       "      <td></td>\n",
       "      <td>The the the the the the the the</td>\n",
       "    </tr>\n",
       "    <tr>\n",
       "      <td>The the the the the the the the</td>\n",
       "      <td></td>\n",
       "      <td>The the the the the the the the</td>\n",
       "    </tr>\n",
       "    <tr>\n",
       "      <td>The the the the the the the the</td>\n",
       "      <td></td>\n",
       "      <td>The the the the the the the the</td>\n",
       "    </tr>\n",
       "  </tbody>\n",
       "</table>\n",
       "\n",
       "<svg style=\"\n",
       "    position: absolute;\n",
       "    width: 100%;\n",
       "    height: 100%;\n",
       "    top: 0;\n",
       "    left: 0;\">\n",
       "  <line x1='100' y1='0.8em' x2='200' y2='2.8em' style=\"stroke:#999999\"/>\n",
       "  <line x1='100' y1='1.8em' x2='200' y2='1.8em' style=\"stroke:#999999\"/>\n",
       "  <line x1='100' y1='1.8em' x2='200' y2='0.8em' style=\"stroke:#ff0000\"/>\n",
       "  <line x1='100' y1='0.8em' x2='200' y2='1.8em' style=\"stroke:#ff0000\"/>\n",
       "  <line x1='100' y1='2.8em' x2='200' y2='2.8em' style=\"stroke:#00ff00\"/>\n",
       "</svg>"
      ],
      "text/plain": [
       "<IPython.core.display.HTML object>"
      ]
     },
     "metadata": {},
     "output_type": "display_data"
    }
   ],
   "source": [
    "display(HTML(svg_tab))"
   ]
  },
  {
   "cell_type": "code",
   "execution_count": 545,
   "metadata": {},
   "outputs": [
    {
     "data": {
      "text/html": [
       "\n",
       "<table style=\"width: 100%\">\n",
       "  <colgroup>\n",
       "     <col span=\"1\" style=\"width: 10%;\">\n",
       "     <col span=\"1\" style=\"width: 10%;\">\n",
       "     <col span=\"1\" style=\"width: 45%;\">\n",
       "  </colgroup>\n",
       "  <tbody>\n",
       "    <tr>\n",
       "      <td>The the the the the the the the</td>\n",
       "      <td></td>\n",
       "      <td>The the the the the the the the</td>\n",
       "    </tr>\n",
       "    <tr>\n",
       "      <td>The the the the the the the the</td>\n",
       "      <td></td>\n",
       "      <td>The the the the the the the the</td>\n",
       "    </tr>\n",
       "    <tr>\n",
       "      <td>The the the the the the the the</td>\n",
       "      <td></td>\n",
       "      <td>The the the the the the the the</td>\n",
       "    </tr>\n",
       "    <tr>\n",
       "      <td>The the the the the the the the</td>\n",
       "      <td></td>\n",
       "      <td>The the the the the the the the</td>\n",
       "    </tr>\n",
       "  </tbody>\n",
       "</table>\n"
      ],
      "text/plain": [
       "<IPython.core.display.HTML object>"
      ]
     },
     "metadata": {},
     "output_type": "display_data"
    }
   ],
   "source": [
    "display(HTML(t_table_html))"
   ]
  },
  {
   "cell_type": "code",
   "execution_count": 516,
   "metadata": {},
   "outputs": [],
   "source": [
    "test = \"\"\"\n",
    "<svg style=\"\n",
    "    position: absolute;\n",
    "    width: 100%;\n",
    "    height: 100%;\n",
    "    top: 0;\n",
    "    left: 0;\">\n",
    "  <line x1=\"0\" y1=\"0\" x2=\"200\" y2=\"200\" style=\"stroke:rgb(255,0,0);stroke-width:2\"></line>\n",
    "</svg>\n",
    "<table>\n",
    "  <thead>\n",
    "    <tr>\n",
    "      <th>1 </th>\n",
    "      <th>2 </th>\n",
    "      <th>3 </th>\n",
    "    </tr>\n",
    "  </thead>\n",
    "  <tbody>\n",
    "    <tr style=\"height: 30px;\">\n",
    "      <td style=\"position: absolute; left: 100px;\">\n",
    "        <div>Connection 1 </div>\n",
    "      </td>\n",
    "    </tr>\n",
    "    <tr style=\"height: 30px;\">\n",
    "      <td>\n",
    "        <div style=\"position: absolute; left: 200px;\">Connection 2 </div>\n",
    "      </td>\n",
    "    </tr>\n",
    "    <tr style=\"height: 30px;\">\n",
    "      <td>\n",
    "        <div style=\"position: absolute; left: 400px;\">Connection 3 </div>\n",
    "      </td>\n",
    "    </tr>\n",
    "    <tbody>\n",
    "</table>\n",
    "\"\"\""
   ]
  },
  {
   "cell_type": "code",
   "execution_count": 517,
   "metadata": {},
   "outputs": [
    {
     "data": {
      "text/html": [
       "\n",
       "    <svg style=\"\n",
       "    position: absolute;\n",
       "    width: 100%;\n",
       "    height: 100%;\n",
       "    top: 0;\n",
       "    left: 0;\">\n",
       "  <line x1=\"0\" y1=\"0\" x2=\"200\" y2=\"200\" style=\"stroke:rgb(255,0,0);stroke-width:2\"></line>\n",
       "</svg>\n",
       "<table>\n",
       "  <thead>\n",
       "    <tr>\n",
       "      <th>1 </th>\n",
       "      <th>2 </th>\n",
       "      <th>3 </th>\n",
       "    </tr>\n",
       "  </thead>\n",
       "  <tbody>\n",
       "    <tr style=\"height: 30px;\">\n",
       "      <td style=\"position: absolute; left: 100px;\">\n",
       "        <div>Connection 1 </div>\n",
       "      </td>\n",
       "    </tr>\n",
       "    <tr style=\"height: 30px;\">\n",
       "      <td>\n",
       "        <div style=\"position: absolute; left: 200px;\">Connection 2 </div>\n",
       "      </td>\n",
       "    </tr>\n",
       "    <tr style=\"height: 30px;\">\n",
       "      <td>\n",
       "        <div style=\"position: absolute; left: 400px;\">Connection 3 </div>\n",
       "      </td>\n",
       "    </tr>\n",
       "    <tbody>\n",
       "</table>\n"
      ],
      "text/plain": [
       "<IPython.core.display.HTML object>"
      ]
     },
     "metadata": {},
     "output_type": "display_data"
    }
   ],
   "source": [
    "display(HTML(test))"
   ]
  },
  {
   "cell_type": "code",
   "execution_count": null,
   "metadata": {},
   "outputs": [],
   "source": []
  },
  {
   "cell_type": "code",
   "execution_count": null,
   "metadata": {},
   "outputs": [],
   "source": []
  },
  {
   "cell_type": "code",
   "execution_count": null,
   "metadata": {},
   "outputs": [],
   "source": []
  },
  {
   "cell_type": "code",
   "execution_count": null,
   "metadata": {},
   "outputs": [],
   "source": []
  },
  {
   "cell_type": "code",
   "execution_count": null,
   "metadata": {},
   "outputs": [],
   "source": []
  },
  {
   "cell_type": "code",
   "execution_count": null,
   "metadata": {},
   "outputs": [],
   "source": []
  }
 ],
 "metadata": {
  "hide_input": false,
  "kernelspec": {
   "display_name": "Python 3",
   "language": "python",
   "name": "python3"
  },
  "language_info": {
   "codemirror_mode": {
    "name": "ipython",
    "version": 3
   },
   "file_extension": ".py",
   "mimetype": "text/x-python",
   "name": "python",
   "nbconvert_exporter": "python",
   "pygments_lexer": "ipython3",
   "version": "3.7.6"
  }
 },
 "nbformat": 4,
 "nbformat_minor": 4
}
