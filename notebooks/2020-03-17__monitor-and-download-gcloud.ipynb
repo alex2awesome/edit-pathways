{
 "cells": [
  {
   "cell_type": "code",
   "execution_count": 120,
   "metadata": {},
   "outputs": [],
   "source": [
    "import pandas as pd\n",
    "from tqdm.auto import tqdm\n",
    "import re"
   ]
  },
  {
   "cell_type": "code",
   "execution_count": 141,
   "metadata": {},
   "outputs": [],
   "source": [
    "name_mapper = {\n",
    "    'bbc': 'bbc-1',\n",
    "    'newssniffer-bbc': 'bbc-2',\n",
    "    'newssniffer-guardian': 'guardian',\n",
    "    'newssniffer-independent': 'independent',\n",
    "    'newssniffer-nytimes': 'nyt',\n",
    "    'newssniffer-washpo': 'wp',\n",
    "}"
   ]
  },
  {
   "cell_type": "markdown",
   "metadata": {},
   "source": [
    "# Check Running Programs"
   ]
  },
  {
   "cell_type": "code",
   "execution_count": 134,
   "metadata": {},
   "outputs": [
    {
     "data": {
      "application/vnd.jupyter.widget-view+json": {
       "model_id": "8dbf6ae0170a4813a1237525849105ed",
       "version_major": 2,
       "version_minor": 0
      },
      "text/plain": [
       "  0%|          | 0/2 [00:00<?, ?it/s]"
      ]
     },
     "metadata": {},
     "output_type": "display_data"
    }
   ],
   "source": [
    "all_running_docker_programs = []\n",
    "for i in tqdm([2, 3]):\n",
    "    a = ! gcloud compute ssh --zone \"us-central1-a\" \"edit-parser-1-$i\" --project \"usc-research\" --command \"docker ps --no-trunc\"\n",
    "    a_s = pd.Series(a).to_frame('jobs')\n",
    "    a_s['box'] = i\n",
    "    all_running_docker_programs.append(a_s)"
   ]
  },
  {
   "cell_type": "code",
   "execution_count": 135,
   "metadata": {},
   "outputs": [],
   "source": [
    "all_running_docker_programs = pd.concat(all_running_docker_programs)\n",
    "jobs_of_interest = (\n",
    "    all_running_docker_programs\n",
    "        .loc[lambda df: \n",
    "             df['jobs'].apply(lambda x: (\n",
    "                 'us.gcr.io/usc-research/edit-parser' in x or 'python3 parsing_script.py' in x\n",
    "             ) and ('klt-edit-parser' not in x)\n",
    ")])\n",
    "\n",
    "jobs_of_interest = (\n",
    "    jobs_of_interest\n",
    "        .assign(split_num=lambda df: df['jobs'].apply(lambda x: re.findall('--split_num (\\d)', x)).str.get(0))\n",
    "        .assign(db=lambda df: df['jobs'].str.split().str.get(5))\n",
    ")"
   ]
  },
  {
   "cell_type": "code",
   "execution_count": 136,
   "metadata": {},
   "outputs": [
    {
     "data": {
      "text/html": [
       "<div>\n",
       "<style scoped>\n",
       "    .dataframe tbody tr th:only-of-type {\n",
       "        vertical-align: middle;\n",
       "    }\n",
       "\n",
       "    .dataframe tbody tr th {\n",
       "        vertical-align: top;\n",
       "    }\n",
       "\n",
       "    .dataframe thead th {\n",
       "        text-align: right;\n",
       "    }\n",
       "</style>\n",
       "<table border=\"1\" class=\"dataframe\">\n",
       "  <thead>\n",
       "    <tr style=\"text-align: right;\">\n",
       "      <th></th>\n",
       "      <th>db</th>\n",
       "      <th>split_num</th>\n",
       "      <th>box</th>\n",
       "    </tr>\n",
       "  </thead>\n",
       "  <tbody>\n",
       "    <tr>\n",
       "      <th>1</th>\n",
       "      <td>guardian</td>\n",
       "      <td>NaN</td>\n",
       "      <td>2</td>\n",
       "    </tr>\n",
       "  </tbody>\n",
       "</table>\n",
       "</div>"
      ],
      "text/plain": [
       "         db  split_num  box\n",
       "1  guardian        NaN    2"
      ]
     },
     "execution_count": 136,
     "metadata": {},
     "output_type": "execute_result"
    }
   ],
   "source": [
    "(jobs_of_interest\n",
    " .sort_values(['db', 'split_num', 'box'])\n",
    " [['db', 'split_num', 'box']]\n",
    ")"
   ]
  },
  {
   "cell_type": "code",
   "execution_count": null,
   "metadata": {},
   "outputs": [],
   "source": []
  },
  {
   "cell_type": "code",
   "execution_count": 130,
   "metadata": {},
   "outputs": [
    {
     "data": {
      "text/plain": [
       "{'bbc-2', 'cbc', 'guardian', 'torontostar'}"
      ]
     },
     "execution_count": 130,
     "metadata": {},
     "output_type": "execute_result"
    }
   ],
   "source": [
    "full_db_list = [\n",
    "#     'ap',\n",
    "#     'bbc-1',\n",
    "    'bbc-2',\n",
    "#     'calgaryherald',\n",
    "#     'canadaland',\n",
    "    'cbc',\n",
    "#     'cnn',\n",
    "#     'dailymail',\n",
    "#     'fox',\n",
    "#     'globemail',\n",
    "    'guardian',\n",
    "#     'independent',\n",
    "#     'lapresse',\n",
    "#     'nationalpost',\n",
    "#     'nyt',\n",
    "#     'reuters',\n",
    "#     'telegraph',\n",
    "#     'therebel',\n",
    "    'torontostar',\n",
    "#     'torontosun',\n",
    "#     'whitehouse',\n",
    "#     'wp'\n",
    "]\n",
    "\n",
    "set(full_db_list) - set(jobs_of_interest['db'])"
   ]
  },
  {
   "cell_type": "code",
   "execution_count": 131,
   "metadata": {},
   "outputs": [
    {
     "data": {
      "text/plain": [
       "Series([], Name: db, dtype: int64)"
      ]
     },
     "execution_count": 131,
     "metadata": {},
     "output_type": "execute_result"
    }
   ],
   "source": [
    "jobs_of_interest['db'].value_counts()"
   ]
  },
  {
   "cell_type": "code",
   "execution_count": 132,
   "metadata": {},
   "outputs": [
    {
     "data": {
      "text/plain": [
       "Series([], Name: box, dtype: int64)"
      ]
     },
     "execution_count": 132,
     "metadata": {},
     "output_type": "execute_result"
    }
   ],
   "source": [
    "jobs_of_interest['box'].value_counts()"
   ]
  },
  {
   "cell_type": "markdown",
   "metadata": {},
   "source": [
    "# Check Status vs. All Articles"
   ]
  },
  {
   "cell_type": "code",
   "execution_count": 13,
   "metadata": {},
   "outputs": [],
   "source": [
    "from google.cloud import datastore\n",
    "import os\n",
    "from tqdm.auto import tqdm\n",
    "import pandas as pd\n",
    "\n",
    "def get_table(table, source=None):\n",
    "    q = client.query(kind=table)\n",
    "    if source is not None:\n",
    "        q = q.add_filter('source', '=', source)\n",
    "    results = q.fetch()\n",
    "    res_iter=iter(results)\n",
    "    output = []\n",
    "    for res in tqdm(res_iter):\n",
    "        output.append(res)\n",
    "    return output"
   ]
  },
  {
   "cell_type": "code",
   "execution_count": 164,
   "metadata": {},
   "outputs": [],
   "source": [
    "os.environ['GOOGLE_APPLICATION_CREDENTIALS'] = '/Users/alex/.google-cloud/usc-research-data-access.json'\n",
    "client = datastore.Client()"
   ]
  },
  {
   "cell_type": "code",
   "execution_count": null,
   "metadata": {},
   "outputs": [],
   "source": [
    "t = 'edit-paths-sentence-stats'\n",
    "\n",
    "sentence_stats = get_table(t)\n",
    "sentence_stats_df = pd.DataFrame(sentence_stats)\n",
    "\n",
    "articles_and_version_counts_plus_processed = pd.concat([\n",
    "    sentence_stats_df['source'].value_counts().to_frame('processed version pairs'),\n",
    "    sentence_stats_df.groupby('source')['a_id'].aggregate(set).str.len().to_frame('processed articles'),\n",
    "    articles_and_versions.rename(index=lambda x: name_mapper.get(x, x))\n",
    "], axis=1).fillna(0).apply(lambda s: s.astype(int))\n",
    "\n",
    "articles_and_version_counts_plus_processed.head()\n",
    "\n",
    "articles_and_version_counts_plus_processed[[\n",
    "    'processed version pairs',\n",
    "    'version_thresh_counts',\n",
    "    'processed articles', \n",
    "    'article_thresh_counts'\n",
    "]].assign(a_id_finished=lambda df: df['processed articles'] / df['article_thresh_counts']).sort_values('a_id_finished')\n",
    "\n",
    "sentence_stats_df['num_added_sents'].value_counts()\n",
    "# sentence_stats_df['num_changed'].value_counts()\n",
    "\n",
    "sentence_stats_df['num_changed_sents'].value_counts().sort_index()"
   ]
  },
  {
   "cell_type": "markdown",
   "metadata": {},
   "source": [
    "# Check Status for Specific Articles"
   ]
  },
  {
   "cell_type": "code",
   "execution_count": null,
   "metadata": {},
   "outputs": [],
   "source": [
    "t = 'edit-paths-sentence-stats'\n",
    "outlet = ['nyt']\n",
    "outlet_sentence_stats = []\n",
    "\n",
    "for o in outlet:\n",
    "    sentence_stats = get_table(t)\n",
    "\n",
    "outlet_sentence_stats_df = pd.DataFrame(outlet_sentence_stats)\n",
    "\n",
    "outlet_sentence_stats_df['a_id'].unique().shape\n",
    "\n",
    "nyt_conn = sqlite3.connect('../data/diffengine-diffs/db/newssniffer-nytimes.db')\n",
    "\n",
    "nyt_num_versions = pd.read_sql('''\n",
    "    SELECT DISTINCT entry_id, num_versions \n",
    "    FROM entryversion \n",
    "    WHERE num_versions < 40\n",
    "''', nyt_conn)"
   ]
  },
  {
   "cell_type": "code",
   "execution_count": null,
   "metadata": {},
   "outputs": [],
   "source": [
    "(nyt_num_versions.merge(\n",
    "    outlet_sentence_stats_df['a_id'].value_counts().to_frame('retrieved'),\n",
    "    left_on='entry_id',\n",
    "    right_index=True\n",
    ")\n",
    " .assign(num_version_pairs=lambda df: df['num_versions'] - 1)\n",
    " .loc[lambda df: df['num_version_pairs'] != df['retrieved']]\n",
    " .assign(num_missing=lambda df: df['num_version_pairs'] - df['retrieved'])\n",
    " ['num_missing'].sum()\n",
    ")\n",
    "\n",
    "nyt_num_versions.merge(\n",
    "    outlet_sentence_stats_df['a_id'].value_counts().to_frame('retrieved'),\n",
    "    left_on='entry_id',\n",
    "    right_index=True\n",
    ")"
   ]
  },
  {
   "cell_type": "markdown",
   "metadata": {},
   "source": [
    "# Get Sentence Diffs"
   ]
  },
  {
   "cell_type": "code",
   "execution_count": 142,
   "metadata": {},
   "outputs": [
    {
     "data": {
      "text/plain": [
       "{'bbc': 'bbc-1',\n",
       " 'newssniffer-bbc': 'bbc-2',\n",
       " 'newssniffer-guardian': 'guardian',\n",
       " 'newssniffer-independent': 'independent',\n",
       " 'newssniffer-nytimes': 'nyt',\n",
       " 'newssniffer-washpo': 'wp'}"
      ]
     },
     "execution_count": 142,
     "metadata": {},
     "output_type": "execute_result"
    }
   ],
   "source": [
    "name_mapper"
   ]
  },
  {
   "cell_type": "code",
   "execution_count": 146,
   "metadata": {},
   "outputs": [],
   "source": [
    "import glob, os\n",
    "dbs = os.listdir('../data/diffengine-diffs/db/')"
   ]
  },
  {
   "cell_type": "code",
   "execution_count": 157,
   "metadata": {},
   "outputs": [],
   "source": [
    "dbs = set(map(lambda x: x.split('.')[0], dbs))"
   ]
  },
  {
   "cell_type": "code",
   "execution_count": 159,
   "metadata": {},
   "outputs": [],
   "source": [
    "dbs = list(map(lambda x: name_mapper.get(x, x), dbs))"
   ]
  },
  {
   "cell_type": "code",
   "execution_count": 160,
   "metadata": {},
   "outputs": [
    {
     "data": {
      "text/plain": [
       "['torontostar',\n",
       " 'dailymail',\n",
       " 'canadaland',\n",
       " 'fox',\n",
       " 'reuters',\n",
       " 'nationalpost',\n",
       " 'lapresse',\n",
       " 'calgaryherald',\n",
       " 'guardian',\n",
       " 'therebel',\n",
       " 'ap',\n",
       " 'whitehouse',\n",
       " 'globemail',\n",
       " 'cbc',\n",
       " 'telegraph',\n",
       " 'nyt',\n",
       " 'cnn',\n",
       " 'wp',\n",
       " 'independent',\n",
       " 'torontosun',\n",
       " 'bbc-2',\n",
       " 'bbc-1']"
      ]
     },
     "execution_count": 160,
     "metadata": {},
     "output_type": "execute_result"
    }
   ],
   "source": [
    "dbs"
   ]
  },
  {
   "cell_type": "code",
   "execution_count": 166,
   "metadata": {},
   "outputs": [],
   "source": [
    "to_get = [\n",
    "    'nyt',\n",
    "    #'guardian',\n",
    "#     'washpo',\n",
    "    'bbc-2',\n",
    "]"
   ]
  },
  {
   "cell_type": "code",
   "execution_count": 167,
   "metadata": {},
   "outputs": [],
   "source": [
    "table_name = 'edit-paths-sentence-diffs'"
   ]
  },
  {
   "cell_type": "code",
   "execution_count": null,
   "metadata": {},
   "outputs": [
    {
     "name": "stdout",
     "output_type": "stream",
     "text": [
      "fetching from nyt...\n"
     ]
    },
    {
     "data": {
      "application/vnd.jupyter.widget-view+json": {
       "model_id": "ab648dd47cba4ee484e475e6f56a9dd5",
       "version_major": 2,
       "version_minor": 0
      },
      "text/plain": [
       "0it [00:00, ?it/s]"
      ]
     },
     "metadata": {},
     "output_type": "display_data"
    }
   ],
   "source": [
    "for db in to_get:\n",
    "    print('fetching from %s...' % db)\n",
    "    sentence_diffs = get_table(table=table_name, source=db)\n",
    "    sentence_diffs_df = pd.DataFrame(sentence_diffs)\n",
    "    \n",
    "    with sqlite3.connect('../data/diffengine-diffs/output/%s.db' % db) as conn:\n",
    "        sentence_diffs_df.to_sql('sentence_diffs', con=conn, if_exists='replace')"
   ]
  },
  {
   "cell_type": "code",
   "execution_count": null,
   "metadata": {},
   "outputs": [],
   "source": []
  },
  {
   "cell_type": "code",
   "execution_count": null,
   "metadata": {},
   "outputs": [],
   "source": []
  },
  {
   "cell_type": "code",
   "execution_count": null,
   "metadata": {},
   "outputs": [],
   "source": []
  },
  {
   "cell_type": "code",
   "execution_count": null,
   "metadata": {},
   "outputs": [],
   "source": []
  },
  {
   "cell_type": "code",
   "execution_count": null,
   "metadata": {},
   "outputs": [],
   "source": []
  },
  {
   "cell_type": "markdown",
   "metadata": {},
   "source": [
    "# Examine Sentence Diffs"
   ]
  },
  {
   "cell_type": "code",
   "execution_count": null,
   "metadata": {},
   "outputs": [],
   "source": [
    "t = 'edit-paths-sentence-diffs'\n",
    "sentence_diffs = get_table(t, source='wp')\n",
    "wp_sentence_diffs_df = pd.DataFrame(sentence_diffs)\n",
    "(wp_sentence_stats_df\n",
    " .assign(c=1)\n",
    " .groupby(['a_id', 'version_old', 'version_new'])\n",
    " ['c']\n",
    " .sum()\n",
    ")"
   ]
  },
  {
   "cell_type": "code",
   "execution_count": 19,
   "metadata": {},
   "outputs": [],
   "source": [
    "import sqlite3\n",
    "with sqlite3.connect('../data/diffengine-diffs/output/wp.db') as conn:\n",
    "    wp_sentence_diffs_df = pd.read_sql('select * from sentence_diffs', con=conn)"
   ]
  },
  {
   "cell_type": "code",
   "execution_count": 21,
   "metadata": {},
   "outputs": [
    {
     "data": {
      "text/plain": [
       "1    9992\n",
       "2    5413\n",
       "3    4314\n",
       "4    3660\n",
       "5    2776\n",
       "Name: c, dtype: int64"
      ]
     },
     "execution_count": 21,
     "metadata": {},
     "output_type": "execute_result"
    }
   ],
   "source": [
    "changed_sent_diffs = (\n",
    "    wp_sentence_diffs_df\n",
    "     .loc[lambda df: df['tag_old'] == '-']\n",
    "     .loc[lambda df: df['tag_new'] == '+']\n",
    ")\n",
    "\n",
    "(changed_sent_diffs\n",
    " .assign(c=1)\n",
    " .groupby(['a_id', 'version_old', 'version_new'])\n",
    " ['c'].sum()\n",
    " .value_counts()\n",
    " .sort_index()\n",
    " .head()\n",
    ") "
   ]
  },
  {
   "cell_type": "code",
   "execution_count": 22,
   "metadata": {},
   "outputs": [],
   "source": [
    "import sys\n",
    "sys.path.insert(0, '..')\n",
    "from util import util_newssniffer_parsing as unp "
   ]
  },
  {
   "cell_type": "code",
   "execution_count": null,
   "metadata": {},
   "outputs": [],
   "source": [
    "changed_sent_diffs.head(2)\n",
    "\n",
    "for s_old, s_new in tqdm(changed_sent_diffs[['sent_old', 'sent_new']].itertuples(index=False), total=len(changed_sent_diffs)):\n",
    "    s_old_diff, s_new_diff = unp.get_word_diffs(s_old, s_new)\n",
    "#     word_stat_output = {\n",
    "#         'num_removed_words': sum(map(lambda x: x['tag'] == '-', s_old)),\n",
    "#         'num_added_words': sum(map(lambda x: x['tag'] == '+', s_new)),\n",
    "#         'len_old_sent': len(list(filter(lambda x: x['text'] != '', s_old))),\n",
    "#         'len_new_sent': len(list(filter(lambda x: x['text'] != '', s_new))),\n",
    "#         'version_nums': (v_old, v_new),\n",
    "#         's_old': s_old,\n",
    "#         's_new': s_new,\n",
    "#         'a_id': a_id,\n",
    "#         's_idx': s_idx\n",
    "#     }\n",
    "#     word_stat_items.append(word_stat_output)"
   ]
  }
 ],
 "metadata": {
  "hide_input": false,
  "kernelspec": {
   "display_name": "Python 3",
   "language": "python",
   "name": "python3"
  },
  "language_info": {
   "codemirror_mode": {
    "name": "ipython",
    "version": 3
   },
   "file_extension": ".py",
   "mimetype": "text/x-python",
   "name": "python",
   "nbconvert_exporter": "python",
   "pygments_lexer": "ipython3",
   "version": "3.7.6"
  }
 },
 "nbformat": 4,
 "nbformat_minor": 4
}
